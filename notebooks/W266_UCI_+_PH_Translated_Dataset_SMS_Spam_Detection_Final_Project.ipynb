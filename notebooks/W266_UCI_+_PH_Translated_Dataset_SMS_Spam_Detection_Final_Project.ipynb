{
  "nbformat": 4,
  "nbformat_minor": 0,
  "metadata": {
    "colab": {
      "name": "W266: UCI + PH Translated Dataset SMS Spam Detection Final Project.ipynb",
      "provenance": [],
      "collapsed_sections": [
        "MySc4TsBTRdT",
        "HCn1BoEaPA6E",
        "JqfIxHLRPFqv",
        "nvR_4nFjOZ8W"
      ],
      "toc_visible": true
    },
    "kernelspec": {
      "name": "python3",
      "display_name": "Python 3"
    },
    "language_info": {
      "name": "python"
    },
    "accelerator": "GPU",
    "gpuClass": "standard",
    "widgets": {
      "application/vnd.jupyter.widget-state+json": {
        "12683f4d190a420e94c1d20bee5c1fdf": {
          "model_module": "@jupyter-widgets/controls",
          "model_name": "HBoxModel",
          "model_module_version": "1.5.0",
          "state": {
            "_dom_classes": [],
            "_model_module": "@jupyter-widgets/controls",
            "_model_module_version": "1.5.0",
            "_model_name": "HBoxModel",
            "_view_count": null,
            "_view_module": "@jupyter-widgets/controls",
            "_view_module_version": "1.5.0",
            "_view_name": "HBoxView",
            "box_style": "",
            "children": [
              "IPY_MODEL_849eef67193245559c5169a150ff89f4",
              "IPY_MODEL_732e4d9c8afd4549a2f1b8ed7feae694",
              "IPY_MODEL_c19ab1066d924f97b2876412dd5cf355"
            ],
            "layout": "IPY_MODEL_3fcec71a462e430196d681727ee74859"
          }
        },
        "849eef67193245559c5169a150ff89f4": {
          "model_module": "@jupyter-widgets/controls",
          "model_name": "HTMLModel",
          "model_module_version": "1.5.0",
          "state": {
            "_dom_classes": [],
            "_model_module": "@jupyter-widgets/controls",
            "_model_module_version": "1.5.0",
            "_model_name": "HTMLModel",
            "_view_count": null,
            "_view_module": "@jupyter-widgets/controls",
            "_view_module_version": "1.5.0",
            "_view_name": "HTMLView",
            "description": "",
            "description_tooltip": null,
            "layout": "IPY_MODEL_cc0af81b4a64405c9381ea20c9aacf0c",
            "placeholder": "​",
            "style": "IPY_MODEL_fa73d38b67e740ecb55fd4e079ae3fde",
            "value": "Downloading vocab.txt: 100%"
          }
        },
        "732e4d9c8afd4549a2f1b8ed7feae694": {
          "model_module": "@jupyter-widgets/controls",
          "model_name": "FloatProgressModel",
          "model_module_version": "1.5.0",
          "state": {
            "_dom_classes": [],
            "_model_module": "@jupyter-widgets/controls",
            "_model_module_version": "1.5.0",
            "_model_name": "FloatProgressModel",
            "_view_count": null,
            "_view_module": "@jupyter-widgets/controls",
            "_view_module_version": "1.5.0",
            "_view_name": "ProgressView",
            "bar_style": "success",
            "description": "",
            "description_tooltip": null,
            "layout": "IPY_MODEL_fbd746a65d30482bb5c7fb73562b0444",
            "max": 213450,
            "min": 0,
            "orientation": "horizontal",
            "style": "IPY_MODEL_13d3e10088c146fd93bee5ebe32d9d7e",
            "value": 213450
          }
        },
        "c19ab1066d924f97b2876412dd5cf355": {
          "model_module": "@jupyter-widgets/controls",
          "model_name": "HTMLModel",
          "model_module_version": "1.5.0",
          "state": {
            "_dom_classes": [],
            "_model_module": "@jupyter-widgets/controls",
            "_model_module_version": "1.5.0",
            "_model_name": "HTMLModel",
            "_view_count": null,
            "_view_module": "@jupyter-widgets/controls",
            "_view_module_version": "1.5.0",
            "_view_name": "HTMLView",
            "description": "",
            "description_tooltip": null,
            "layout": "IPY_MODEL_8777133cb93b4f58abd7ca3b20769b58",
            "placeholder": "​",
            "style": "IPY_MODEL_1bd0dd9e3a7545f09c1b943208c6b8c6",
            "value": " 208k/208k [00:00&lt;00:00, 334kB/s]"
          }
        },
        "3fcec71a462e430196d681727ee74859": {
          "model_module": "@jupyter-widgets/base",
          "model_name": "LayoutModel",
          "model_module_version": "1.2.0",
          "state": {
            "_model_module": "@jupyter-widgets/base",
            "_model_module_version": "1.2.0",
            "_model_name": "LayoutModel",
            "_view_count": null,
            "_view_module": "@jupyter-widgets/base",
            "_view_module_version": "1.2.0",
            "_view_name": "LayoutView",
            "align_content": null,
            "align_items": null,
            "align_self": null,
            "border": null,
            "bottom": null,
            "display": null,
            "flex": null,
            "flex_flow": null,
            "grid_area": null,
            "grid_auto_columns": null,
            "grid_auto_flow": null,
            "grid_auto_rows": null,
            "grid_column": null,
            "grid_gap": null,
            "grid_row": null,
            "grid_template_areas": null,
            "grid_template_columns": null,
            "grid_template_rows": null,
            "height": null,
            "justify_content": null,
            "justify_items": null,
            "left": null,
            "margin": null,
            "max_height": null,
            "max_width": null,
            "min_height": null,
            "min_width": null,
            "object_fit": null,
            "object_position": null,
            "order": null,
            "overflow": null,
            "overflow_x": null,
            "overflow_y": null,
            "padding": null,
            "right": null,
            "top": null,
            "visibility": null,
            "width": null
          }
        },
        "cc0af81b4a64405c9381ea20c9aacf0c": {
          "model_module": "@jupyter-widgets/base",
          "model_name": "LayoutModel",
          "model_module_version": "1.2.0",
          "state": {
            "_model_module": "@jupyter-widgets/base",
            "_model_module_version": "1.2.0",
            "_model_name": "LayoutModel",
            "_view_count": null,
            "_view_module": "@jupyter-widgets/base",
            "_view_module_version": "1.2.0",
            "_view_name": "LayoutView",
            "align_content": null,
            "align_items": null,
            "align_self": null,
            "border": null,
            "bottom": null,
            "display": null,
            "flex": null,
            "flex_flow": null,
            "grid_area": null,
            "grid_auto_columns": null,
            "grid_auto_flow": null,
            "grid_auto_rows": null,
            "grid_column": null,
            "grid_gap": null,
            "grid_row": null,
            "grid_template_areas": null,
            "grid_template_columns": null,
            "grid_template_rows": null,
            "height": null,
            "justify_content": null,
            "justify_items": null,
            "left": null,
            "margin": null,
            "max_height": null,
            "max_width": null,
            "min_height": null,
            "min_width": null,
            "object_fit": null,
            "object_position": null,
            "order": null,
            "overflow": null,
            "overflow_x": null,
            "overflow_y": null,
            "padding": null,
            "right": null,
            "top": null,
            "visibility": null,
            "width": null
          }
        },
        "fa73d38b67e740ecb55fd4e079ae3fde": {
          "model_module": "@jupyter-widgets/controls",
          "model_name": "DescriptionStyleModel",
          "model_module_version": "1.5.0",
          "state": {
            "_model_module": "@jupyter-widgets/controls",
            "_model_module_version": "1.5.0",
            "_model_name": "DescriptionStyleModel",
            "_view_count": null,
            "_view_module": "@jupyter-widgets/base",
            "_view_module_version": "1.2.0",
            "_view_name": "StyleView",
            "description_width": ""
          }
        },
        "fbd746a65d30482bb5c7fb73562b0444": {
          "model_module": "@jupyter-widgets/base",
          "model_name": "LayoutModel",
          "model_module_version": "1.2.0",
          "state": {
            "_model_module": "@jupyter-widgets/base",
            "_model_module_version": "1.2.0",
            "_model_name": "LayoutModel",
            "_view_count": null,
            "_view_module": "@jupyter-widgets/base",
            "_view_module_version": "1.2.0",
            "_view_name": "LayoutView",
            "align_content": null,
            "align_items": null,
            "align_self": null,
            "border": null,
            "bottom": null,
            "display": null,
            "flex": null,
            "flex_flow": null,
            "grid_area": null,
            "grid_auto_columns": null,
            "grid_auto_flow": null,
            "grid_auto_rows": null,
            "grid_column": null,
            "grid_gap": null,
            "grid_row": null,
            "grid_template_areas": null,
            "grid_template_columns": null,
            "grid_template_rows": null,
            "height": null,
            "justify_content": null,
            "justify_items": null,
            "left": null,
            "margin": null,
            "max_height": null,
            "max_width": null,
            "min_height": null,
            "min_width": null,
            "object_fit": null,
            "object_position": null,
            "order": null,
            "overflow": null,
            "overflow_x": null,
            "overflow_y": null,
            "padding": null,
            "right": null,
            "top": null,
            "visibility": null,
            "width": null
          }
        },
        "13d3e10088c146fd93bee5ebe32d9d7e": {
          "model_module": "@jupyter-widgets/controls",
          "model_name": "ProgressStyleModel",
          "model_module_version": "1.5.0",
          "state": {
            "_model_module": "@jupyter-widgets/controls",
            "_model_module_version": "1.5.0",
            "_model_name": "ProgressStyleModel",
            "_view_count": null,
            "_view_module": "@jupyter-widgets/base",
            "_view_module_version": "1.2.0",
            "_view_name": "StyleView",
            "bar_color": null,
            "description_width": ""
          }
        },
        "8777133cb93b4f58abd7ca3b20769b58": {
          "model_module": "@jupyter-widgets/base",
          "model_name": "LayoutModel",
          "model_module_version": "1.2.0",
          "state": {
            "_model_module": "@jupyter-widgets/base",
            "_model_module_version": "1.2.0",
            "_model_name": "LayoutModel",
            "_view_count": null,
            "_view_module": "@jupyter-widgets/base",
            "_view_module_version": "1.2.0",
            "_view_name": "LayoutView",
            "align_content": null,
            "align_items": null,
            "align_self": null,
            "border": null,
            "bottom": null,
            "display": null,
            "flex": null,
            "flex_flow": null,
            "grid_area": null,
            "grid_auto_columns": null,
            "grid_auto_flow": null,
            "grid_auto_rows": null,
            "grid_column": null,
            "grid_gap": null,
            "grid_row": null,
            "grid_template_areas": null,
            "grid_template_columns": null,
            "grid_template_rows": null,
            "height": null,
            "justify_content": null,
            "justify_items": null,
            "left": null,
            "margin": null,
            "max_height": null,
            "max_width": null,
            "min_height": null,
            "min_width": null,
            "object_fit": null,
            "object_position": null,
            "order": null,
            "overflow": null,
            "overflow_x": null,
            "overflow_y": null,
            "padding": null,
            "right": null,
            "top": null,
            "visibility": null,
            "width": null
          }
        },
        "1bd0dd9e3a7545f09c1b943208c6b8c6": {
          "model_module": "@jupyter-widgets/controls",
          "model_name": "DescriptionStyleModel",
          "model_module_version": "1.5.0",
          "state": {
            "_model_module": "@jupyter-widgets/controls",
            "_model_module_version": "1.5.0",
            "_model_name": "DescriptionStyleModel",
            "_view_count": null,
            "_view_module": "@jupyter-widgets/base",
            "_view_module_version": "1.2.0",
            "_view_name": "StyleView",
            "description_width": ""
          }
        },
        "c35cc7ea104f4894b9f0eb902cd9c19f": {
          "model_module": "@jupyter-widgets/controls",
          "model_name": "HBoxModel",
          "model_module_version": "1.5.0",
          "state": {
            "_dom_classes": [],
            "_model_module": "@jupyter-widgets/controls",
            "_model_module_version": "1.5.0",
            "_model_name": "HBoxModel",
            "_view_count": null,
            "_view_module": "@jupyter-widgets/controls",
            "_view_module_version": "1.5.0",
            "_view_name": "HBoxView",
            "box_style": "",
            "children": [
              "IPY_MODEL_2f3d502d012144e08901076d3d1e0c02",
              "IPY_MODEL_f179587c71c848ffa553bb1a4d101bd1",
              "IPY_MODEL_900ff25546f9431aad60695d0ba770f9"
            ],
            "layout": "IPY_MODEL_d519574bbe57492e8f9ea18a7c20369e"
          }
        },
        "2f3d502d012144e08901076d3d1e0c02": {
          "model_module": "@jupyter-widgets/controls",
          "model_name": "HTMLModel",
          "model_module_version": "1.5.0",
          "state": {
            "_dom_classes": [],
            "_model_module": "@jupyter-widgets/controls",
            "_model_module_version": "1.5.0",
            "_model_name": "HTMLModel",
            "_view_count": null,
            "_view_module": "@jupyter-widgets/controls",
            "_view_module_version": "1.5.0",
            "_view_name": "HTMLView",
            "description": "",
            "description_tooltip": null,
            "layout": "IPY_MODEL_02e868cd55b5467cb9081cfb2e636628",
            "placeholder": "​",
            "style": "IPY_MODEL_95468b45c9684bc39b0e8a8d07a97267",
            "value": "Downloading tokenizer_config.json: 100%"
          }
        },
        "f179587c71c848ffa553bb1a4d101bd1": {
          "model_module": "@jupyter-widgets/controls",
          "model_name": "FloatProgressModel",
          "model_module_version": "1.5.0",
          "state": {
            "_dom_classes": [],
            "_model_module": "@jupyter-widgets/controls",
            "_model_module_version": "1.5.0",
            "_model_name": "FloatProgressModel",
            "_view_count": null,
            "_view_module": "@jupyter-widgets/controls",
            "_view_module_version": "1.5.0",
            "_view_name": "ProgressView",
            "bar_style": "success",
            "description": "",
            "description_tooltip": null,
            "layout": "IPY_MODEL_5e74d61f92c44065a963beb0161247dd",
            "max": 29,
            "min": 0,
            "orientation": "horizontal",
            "style": "IPY_MODEL_540afbd9d3ce42be9e67754d21ca1a5b",
            "value": 29
          }
        },
        "900ff25546f9431aad60695d0ba770f9": {
          "model_module": "@jupyter-widgets/controls",
          "model_name": "HTMLModel",
          "model_module_version": "1.5.0",
          "state": {
            "_dom_classes": [],
            "_model_module": "@jupyter-widgets/controls",
            "_model_module_version": "1.5.0",
            "_model_name": "HTMLModel",
            "_view_count": null,
            "_view_module": "@jupyter-widgets/controls",
            "_view_module_version": "1.5.0",
            "_view_name": "HTMLView",
            "description": "",
            "description_tooltip": null,
            "layout": "IPY_MODEL_445fabbf0067475f9bfc52159aaebdf4",
            "placeholder": "​",
            "style": "IPY_MODEL_694e1f99f3364decb0bdd314da2ae9a1",
            "value": " 29.0/29.0 [00:00&lt;00:00, 329B/s]"
          }
        },
        "d519574bbe57492e8f9ea18a7c20369e": {
          "model_module": "@jupyter-widgets/base",
          "model_name": "LayoutModel",
          "model_module_version": "1.2.0",
          "state": {
            "_model_module": "@jupyter-widgets/base",
            "_model_module_version": "1.2.0",
            "_model_name": "LayoutModel",
            "_view_count": null,
            "_view_module": "@jupyter-widgets/base",
            "_view_module_version": "1.2.0",
            "_view_name": "LayoutView",
            "align_content": null,
            "align_items": null,
            "align_self": null,
            "border": null,
            "bottom": null,
            "display": null,
            "flex": null,
            "flex_flow": null,
            "grid_area": null,
            "grid_auto_columns": null,
            "grid_auto_flow": null,
            "grid_auto_rows": null,
            "grid_column": null,
            "grid_gap": null,
            "grid_row": null,
            "grid_template_areas": null,
            "grid_template_columns": null,
            "grid_template_rows": null,
            "height": null,
            "justify_content": null,
            "justify_items": null,
            "left": null,
            "margin": null,
            "max_height": null,
            "max_width": null,
            "min_height": null,
            "min_width": null,
            "object_fit": null,
            "object_position": null,
            "order": null,
            "overflow": null,
            "overflow_x": null,
            "overflow_y": null,
            "padding": null,
            "right": null,
            "top": null,
            "visibility": null,
            "width": null
          }
        },
        "02e868cd55b5467cb9081cfb2e636628": {
          "model_module": "@jupyter-widgets/base",
          "model_name": "LayoutModel",
          "model_module_version": "1.2.0",
          "state": {
            "_model_module": "@jupyter-widgets/base",
            "_model_module_version": "1.2.0",
            "_model_name": "LayoutModel",
            "_view_count": null,
            "_view_module": "@jupyter-widgets/base",
            "_view_module_version": "1.2.0",
            "_view_name": "LayoutView",
            "align_content": null,
            "align_items": null,
            "align_self": null,
            "border": null,
            "bottom": null,
            "display": null,
            "flex": null,
            "flex_flow": null,
            "grid_area": null,
            "grid_auto_columns": null,
            "grid_auto_flow": null,
            "grid_auto_rows": null,
            "grid_column": null,
            "grid_gap": null,
            "grid_row": null,
            "grid_template_areas": null,
            "grid_template_columns": null,
            "grid_template_rows": null,
            "height": null,
            "justify_content": null,
            "justify_items": null,
            "left": null,
            "margin": null,
            "max_height": null,
            "max_width": null,
            "min_height": null,
            "min_width": null,
            "object_fit": null,
            "object_position": null,
            "order": null,
            "overflow": null,
            "overflow_x": null,
            "overflow_y": null,
            "padding": null,
            "right": null,
            "top": null,
            "visibility": null,
            "width": null
          }
        },
        "95468b45c9684bc39b0e8a8d07a97267": {
          "model_module": "@jupyter-widgets/controls",
          "model_name": "DescriptionStyleModel",
          "model_module_version": "1.5.0",
          "state": {
            "_model_module": "@jupyter-widgets/controls",
            "_model_module_version": "1.5.0",
            "_model_name": "DescriptionStyleModel",
            "_view_count": null,
            "_view_module": "@jupyter-widgets/base",
            "_view_module_version": "1.2.0",
            "_view_name": "StyleView",
            "description_width": ""
          }
        },
        "5e74d61f92c44065a963beb0161247dd": {
          "model_module": "@jupyter-widgets/base",
          "model_name": "LayoutModel",
          "model_module_version": "1.2.0",
          "state": {
            "_model_module": "@jupyter-widgets/base",
            "_model_module_version": "1.2.0",
            "_model_name": "LayoutModel",
            "_view_count": null,
            "_view_module": "@jupyter-widgets/base",
            "_view_module_version": "1.2.0",
            "_view_name": "LayoutView",
            "align_content": null,
            "align_items": null,
            "align_self": null,
            "border": null,
            "bottom": null,
            "display": null,
            "flex": null,
            "flex_flow": null,
            "grid_area": null,
            "grid_auto_columns": null,
            "grid_auto_flow": null,
            "grid_auto_rows": null,
            "grid_column": null,
            "grid_gap": null,
            "grid_row": null,
            "grid_template_areas": null,
            "grid_template_columns": null,
            "grid_template_rows": null,
            "height": null,
            "justify_content": null,
            "justify_items": null,
            "left": null,
            "margin": null,
            "max_height": null,
            "max_width": null,
            "min_height": null,
            "min_width": null,
            "object_fit": null,
            "object_position": null,
            "order": null,
            "overflow": null,
            "overflow_x": null,
            "overflow_y": null,
            "padding": null,
            "right": null,
            "top": null,
            "visibility": null,
            "width": null
          }
        },
        "540afbd9d3ce42be9e67754d21ca1a5b": {
          "model_module": "@jupyter-widgets/controls",
          "model_name": "ProgressStyleModel",
          "model_module_version": "1.5.0",
          "state": {
            "_model_module": "@jupyter-widgets/controls",
            "_model_module_version": "1.5.0",
            "_model_name": "ProgressStyleModel",
            "_view_count": null,
            "_view_module": "@jupyter-widgets/base",
            "_view_module_version": "1.2.0",
            "_view_name": "StyleView",
            "bar_color": null,
            "description_width": ""
          }
        },
        "445fabbf0067475f9bfc52159aaebdf4": {
          "model_module": "@jupyter-widgets/base",
          "model_name": "LayoutModel",
          "model_module_version": "1.2.0",
          "state": {
            "_model_module": "@jupyter-widgets/base",
            "_model_module_version": "1.2.0",
            "_model_name": "LayoutModel",
            "_view_count": null,
            "_view_module": "@jupyter-widgets/base",
            "_view_module_version": "1.2.0",
            "_view_name": "LayoutView",
            "align_content": null,
            "align_items": null,
            "align_self": null,
            "border": null,
            "bottom": null,
            "display": null,
            "flex": null,
            "flex_flow": null,
            "grid_area": null,
            "grid_auto_columns": null,
            "grid_auto_flow": null,
            "grid_auto_rows": null,
            "grid_column": null,
            "grid_gap": null,
            "grid_row": null,
            "grid_template_areas": null,
            "grid_template_columns": null,
            "grid_template_rows": null,
            "height": null,
            "justify_content": null,
            "justify_items": null,
            "left": null,
            "margin": null,
            "max_height": null,
            "max_width": null,
            "min_height": null,
            "min_width": null,
            "object_fit": null,
            "object_position": null,
            "order": null,
            "overflow": null,
            "overflow_x": null,
            "overflow_y": null,
            "padding": null,
            "right": null,
            "top": null,
            "visibility": null,
            "width": null
          }
        },
        "694e1f99f3364decb0bdd314da2ae9a1": {
          "model_module": "@jupyter-widgets/controls",
          "model_name": "DescriptionStyleModel",
          "model_module_version": "1.5.0",
          "state": {
            "_model_module": "@jupyter-widgets/controls",
            "_model_module_version": "1.5.0",
            "_model_name": "DescriptionStyleModel",
            "_view_count": null,
            "_view_module": "@jupyter-widgets/base",
            "_view_module_version": "1.2.0",
            "_view_name": "StyleView",
            "description_width": ""
          }
        },
        "be87f999bd6e40d49685355337ea7903": {
          "model_module": "@jupyter-widgets/controls",
          "model_name": "HBoxModel",
          "model_module_version": "1.5.0",
          "state": {
            "_dom_classes": [],
            "_model_module": "@jupyter-widgets/controls",
            "_model_module_version": "1.5.0",
            "_model_name": "HBoxModel",
            "_view_count": null,
            "_view_module": "@jupyter-widgets/controls",
            "_view_module_version": "1.5.0",
            "_view_name": "HBoxView",
            "box_style": "",
            "children": [
              "IPY_MODEL_02439c633f624ce7bf25fa4a91be5c96",
              "IPY_MODEL_b1a21c7f18374e44bfaf934d7c3bfbd2",
              "IPY_MODEL_9ab6fccd077c4c57b9fda66f09bc53a4"
            ],
            "layout": "IPY_MODEL_b922c98f0b944edfb60407951f30b62c"
          }
        },
        "02439c633f624ce7bf25fa4a91be5c96": {
          "model_module": "@jupyter-widgets/controls",
          "model_name": "HTMLModel",
          "model_module_version": "1.5.0",
          "state": {
            "_dom_classes": [],
            "_model_module": "@jupyter-widgets/controls",
            "_model_module_version": "1.5.0",
            "_model_name": "HTMLModel",
            "_view_count": null,
            "_view_module": "@jupyter-widgets/controls",
            "_view_module_version": "1.5.0",
            "_view_name": "HTMLView",
            "description": "",
            "description_tooltip": null,
            "layout": "IPY_MODEL_a29cc29f4d2b438b9bba1a9c7f09d408",
            "placeholder": "​",
            "style": "IPY_MODEL_8b3d5373f0b4489eb5287d1686c0f834",
            "value": "Downloading config.json: 100%"
          }
        },
        "b1a21c7f18374e44bfaf934d7c3bfbd2": {
          "model_module": "@jupyter-widgets/controls",
          "model_name": "FloatProgressModel",
          "model_module_version": "1.5.0",
          "state": {
            "_dom_classes": [],
            "_model_module": "@jupyter-widgets/controls",
            "_model_module_version": "1.5.0",
            "_model_name": "FloatProgressModel",
            "_view_count": null,
            "_view_module": "@jupyter-widgets/controls",
            "_view_module_version": "1.5.0",
            "_view_name": "ProgressView",
            "bar_style": "success",
            "description": "",
            "description_tooltip": null,
            "layout": "IPY_MODEL_38d9bbfb1a5b42b48f2fe21cf6606051",
            "max": 570,
            "min": 0,
            "orientation": "horizontal",
            "style": "IPY_MODEL_79ee1f88080f43a381d6376797012f87",
            "value": 570
          }
        },
        "9ab6fccd077c4c57b9fda66f09bc53a4": {
          "model_module": "@jupyter-widgets/controls",
          "model_name": "HTMLModel",
          "model_module_version": "1.5.0",
          "state": {
            "_dom_classes": [],
            "_model_module": "@jupyter-widgets/controls",
            "_model_module_version": "1.5.0",
            "_model_name": "HTMLModel",
            "_view_count": null,
            "_view_module": "@jupyter-widgets/controls",
            "_view_module_version": "1.5.0",
            "_view_name": "HTMLView",
            "description": "",
            "description_tooltip": null,
            "layout": "IPY_MODEL_a0385514add24d339372ad087c7c6579",
            "placeholder": "​",
            "style": "IPY_MODEL_cef3cc29a7614b408becf1e3711d6baf",
            "value": " 570/570 [00:00&lt;00:00, 5.64kB/s]"
          }
        },
        "b922c98f0b944edfb60407951f30b62c": {
          "model_module": "@jupyter-widgets/base",
          "model_name": "LayoutModel",
          "model_module_version": "1.2.0",
          "state": {
            "_model_module": "@jupyter-widgets/base",
            "_model_module_version": "1.2.0",
            "_model_name": "LayoutModel",
            "_view_count": null,
            "_view_module": "@jupyter-widgets/base",
            "_view_module_version": "1.2.0",
            "_view_name": "LayoutView",
            "align_content": null,
            "align_items": null,
            "align_self": null,
            "border": null,
            "bottom": null,
            "display": null,
            "flex": null,
            "flex_flow": null,
            "grid_area": null,
            "grid_auto_columns": null,
            "grid_auto_flow": null,
            "grid_auto_rows": null,
            "grid_column": null,
            "grid_gap": null,
            "grid_row": null,
            "grid_template_areas": null,
            "grid_template_columns": null,
            "grid_template_rows": null,
            "height": null,
            "justify_content": null,
            "justify_items": null,
            "left": null,
            "margin": null,
            "max_height": null,
            "max_width": null,
            "min_height": null,
            "min_width": null,
            "object_fit": null,
            "object_position": null,
            "order": null,
            "overflow": null,
            "overflow_x": null,
            "overflow_y": null,
            "padding": null,
            "right": null,
            "top": null,
            "visibility": null,
            "width": null
          }
        },
        "a29cc29f4d2b438b9bba1a9c7f09d408": {
          "model_module": "@jupyter-widgets/base",
          "model_name": "LayoutModel",
          "model_module_version": "1.2.0",
          "state": {
            "_model_module": "@jupyter-widgets/base",
            "_model_module_version": "1.2.0",
            "_model_name": "LayoutModel",
            "_view_count": null,
            "_view_module": "@jupyter-widgets/base",
            "_view_module_version": "1.2.0",
            "_view_name": "LayoutView",
            "align_content": null,
            "align_items": null,
            "align_self": null,
            "border": null,
            "bottom": null,
            "display": null,
            "flex": null,
            "flex_flow": null,
            "grid_area": null,
            "grid_auto_columns": null,
            "grid_auto_flow": null,
            "grid_auto_rows": null,
            "grid_column": null,
            "grid_gap": null,
            "grid_row": null,
            "grid_template_areas": null,
            "grid_template_columns": null,
            "grid_template_rows": null,
            "height": null,
            "justify_content": null,
            "justify_items": null,
            "left": null,
            "margin": null,
            "max_height": null,
            "max_width": null,
            "min_height": null,
            "min_width": null,
            "object_fit": null,
            "object_position": null,
            "order": null,
            "overflow": null,
            "overflow_x": null,
            "overflow_y": null,
            "padding": null,
            "right": null,
            "top": null,
            "visibility": null,
            "width": null
          }
        },
        "8b3d5373f0b4489eb5287d1686c0f834": {
          "model_module": "@jupyter-widgets/controls",
          "model_name": "DescriptionStyleModel",
          "model_module_version": "1.5.0",
          "state": {
            "_model_module": "@jupyter-widgets/controls",
            "_model_module_version": "1.5.0",
            "_model_name": "DescriptionStyleModel",
            "_view_count": null,
            "_view_module": "@jupyter-widgets/base",
            "_view_module_version": "1.2.0",
            "_view_name": "StyleView",
            "description_width": ""
          }
        },
        "38d9bbfb1a5b42b48f2fe21cf6606051": {
          "model_module": "@jupyter-widgets/base",
          "model_name": "LayoutModel",
          "model_module_version": "1.2.0",
          "state": {
            "_model_module": "@jupyter-widgets/base",
            "_model_module_version": "1.2.0",
            "_model_name": "LayoutModel",
            "_view_count": null,
            "_view_module": "@jupyter-widgets/base",
            "_view_module_version": "1.2.0",
            "_view_name": "LayoutView",
            "align_content": null,
            "align_items": null,
            "align_self": null,
            "border": null,
            "bottom": null,
            "display": null,
            "flex": null,
            "flex_flow": null,
            "grid_area": null,
            "grid_auto_columns": null,
            "grid_auto_flow": null,
            "grid_auto_rows": null,
            "grid_column": null,
            "grid_gap": null,
            "grid_row": null,
            "grid_template_areas": null,
            "grid_template_columns": null,
            "grid_template_rows": null,
            "height": null,
            "justify_content": null,
            "justify_items": null,
            "left": null,
            "margin": null,
            "max_height": null,
            "max_width": null,
            "min_height": null,
            "min_width": null,
            "object_fit": null,
            "object_position": null,
            "order": null,
            "overflow": null,
            "overflow_x": null,
            "overflow_y": null,
            "padding": null,
            "right": null,
            "top": null,
            "visibility": null,
            "width": null
          }
        },
        "79ee1f88080f43a381d6376797012f87": {
          "model_module": "@jupyter-widgets/controls",
          "model_name": "ProgressStyleModel",
          "model_module_version": "1.5.0",
          "state": {
            "_model_module": "@jupyter-widgets/controls",
            "_model_module_version": "1.5.0",
            "_model_name": "ProgressStyleModel",
            "_view_count": null,
            "_view_module": "@jupyter-widgets/base",
            "_view_module_version": "1.2.0",
            "_view_name": "StyleView",
            "bar_color": null,
            "description_width": ""
          }
        },
        "a0385514add24d339372ad087c7c6579": {
          "model_module": "@jupyter-widgets/base",
          "model_name": "LayoutModel",
          "model_module_version": "1.2.0",
          "state": {
            "_model_module": "@jupyter-widgets/base",
            "_model_module_version": "1.2.0",
            "_model_name": "LayoutModel",
            "_view_count": null,
            "_view_module": "@jupyter-widgets/base",
            "_view_module_version": "1.2.0",
            "_view_name": "LayoutView",
            "align_content": null,
            "align_items": null,
            "align_self": null,
            "border": null,
            "bottom": null,
            "display": null,
            "flex": null,
            "flex_flow": null,
            "grid_area": null,
            "grid_auto_columns": null,
            "grid_auto_flow": null,
            "grid_auto_rows": null,
            "grid_column": null,
            "grid_gap": null,
            "grid_row": null,
            "grid_template_areas": null,
            "grid_template_columns": null,
            "grid_template_rows": null,
            "height": null,
            "justify_content": null,
            "justify_items": null,
            "left": null,
            "margin": null,
            "max_height": null,
            "max_width": null,
            "min_height": null,
            "min_width": null,
            "object_fit": null,
            "object_position": null,
            "order": null,
            "overflow": null,
            "overflow_x": null,
            "overflow_y": null,
            "padding": null,
            "right": null,
            "top": null,
            "visibility": null,
            "width": null
          }
        },
        "cef3cc29a7614b408becf1e3711d6baf": {
          "model_module": "@jupyter-widgets/controls",
          "model_name": "DescriptionStyleModel",
          "model_module_version": "1.5.0",
          "state": {
            "_model_module": "@jupyter-widgets/controls",
            "_model_module_version": "1.5.0",
            "_model_name": "DescriptionStyleModel",
            "_view_count": null,
            "_view_module": "@jupyter-widgets/base",
            "_view_module_version": "1.2.0",
            "_view_name": "StyleView",
            "description_width": ""
          }
        },
        "aeca78e97c8c4a51b7d2b000590a9dd9": {
          "model_module": "@jupyter-widgets/controls",
          "model_name": "HBoxModel",
          "model_module_version": "1.5.0",
          "state": {
            "_dom_classes": [],
            "_model_module": "@jupyter-widgets/controls",
            "_model_module_version": "1.5.0",
            "_model_name": "HBoxModel",
            "_view_count": null,
            "_view_module": "@jupyter-widgets/controls",
            "_view_module_version": "1.5.0",
            "_view_name": "HBoxView",
            "box_style": "",
            "children": [
              "IPY_MODEL_3aa4038b35214fbaaf9d41e83ec83d17",
              "IPY_MODEL_031e7750705e43c18197c8057a348f4b",
              "IPY_MODEL_3b6f651f4ecf4b338b89fbdc40e72ae6"
            ],
            "layout": "IPY_MODEL_06e8826c48b64f5eafcfd7dcab96e596"
          }
        },
        "3aa4038b35214fbaaf9d41e83ec83d17": {
          "model_module": "@jupyter-widgets/controls",
          "model_name": "HTMLModel",
          "model_module_version": "1.5.0",
          "state": {
            "_dom_classes": [],
            "_model_module": "@jupyter-widgets/controls",
            "_model_module_version": "1.5.0",
            "_model_name": "HTMLModel",
            "_view_count": null,
            "_view_module": "@jupyter-widgets/controls",
            "_view_module_version": "1.5.0",
            "_view_name": "HTMLView",
            "description": "",
            "description_tooltip": null,
            "layout": "IPY_MODEL_c55efcc482e64957a621798549407d4c",
            "placeholder": "​",
            "style": "IPY_MODEL_7f299bd5917f41ac8408702f4380cab0",
            "value": "Downloading tf_model.h5: 100%"
          }
        },
        "031e7750705e43c18197c8057a348f4b": {
          "model_module": "@jupyter-widgets/controls",
          "model_name": "FloatProgressModel",
          "model_module_version": "1.5.0",
          "state": {
            "_dom_classes": [],
            "_model_module": "@jupyter-widgets/controls",
            "_model_module_version": "1.5.0",
            "_model_name": "FloatProgressModel",
            "_view_count": null,
            "_view_module": "@jupyter-widgets/controls",
            "_view_module_version": "1.5.0",
            "_view_name": "ProgressView",
            "bar_style": "success",
            "description": "",
            "description_tooltip": null,
            "layout": "IPY_MODEL_aee391ac35074fd292f4c3a536fa7e2f",
            "max": 526681800,
            "min": 0,
            "orientation": "horizontal",
            "style": "IPY_MODEL_2dd98028a24b44d6bffbc55e9db537b1",
            "value": 526681800
          }
        },
        "3b6f651f4ecf4b338b89fbdc40e72ae6": {
          "model_module": "@jupyter-widgets/controls",
          "model_name": "HTMLModel",
          "model_module_version": "1.5.0",
          "state": {
            "_dom_classes": [],
            "_model_module": "@jupyter-widgets/controls",
            "_model_module_version": "1.5.0",
            "_model_name": "HTMLModel",
            "_view_count": null,
            "_view_module": "@jupyter-widgets/controls",
            "_view_module_version": "1.5.0",
            "_view_name": "HTMLView",
            "description": "",
            "description_tooltip": null,
            "layout": "IPY_MODEL_89aad114413b4666bd8f341d2dd10e05",
            "placeholder": "​",
            "style": "IPY_MODEL_8c1108acae334f5c9686d75b7b9923e4",
            "value": " 502M/502M [00:14&lt;00:00, 56.2MB/s]"
          }
        },
        "06e8826c48b64f5eafcfd7dcab96e596": {
          "model_module": "@jupyter-widgets/base",
          "model_name": "LayoutModel",
          "model_module_version": "1.2.0",
          "state": {
            "_model_module": "@jupyter-widgets/base",
            "_model_module_version": "1.2.0",
            "_model_name": "LayoutModel",
            "_view_count": null,
            "_view_module": "@jupyter-widgets/base",
            "_view_module_version": "1.2.0",
            "_view_name": "LayoutView",
            "align_content": null,
            "align_items": null,
            "align_self": null,
            "border": null,
            "bottom": null,
            "display": null,
            "flex": null,
            "flex_flow": null,
            "grid_area": null,
            "grid_auto_columns": null,
            "grid_auto_flow": null,
            "grid_auto_rows": null,
            "grid_column": null,
            "grid_gap": null,
            "grid_row": null,
            "grid_template_areas": null,
            "grid_template_columns": null,
            "grid_template_rows": null,
            "height": null,
            "justify_content": null,
            "justify_items": null,
            "left": null,
            "margin": null,
            "max_height": null,
            "max_width": null,
            "min_height": null,
            "min_width": null,
            "object_fit": null,
            "object_position": null,
            "order": null,
            "overflow": null,
            "overflow_x": null,
            "overflow_y": null,
            "padding": null,
            "right": null,
            "top": null,
            "visibility": null,
            "width": null
          }
        },
        "c55efcc482e64957a621798549407d4c": {
          "model_module": "@jupyter-widgets/base",
          "model_name": "LayoutModel",
          "model_module_version": "1.2.0",
          "state": {
            "_model_module": "@jupyter-widgets/base",
            "_model_module_version": "1.2.0",
            "_model_name": "LayoutModel",
            "_view_count": null,
            "_view_module": "@jupyter-widgets/base",
            "_view_module_version": "1.2.0",
            "_view_name": "LayoutView",
            "align_content": null,
            "align_items": null,
            "align_self": null,
            "border": null,
            "bottom": null,
            "display": null,
            "flex": null,
            "flex_flow": null,
            "grid_area": null,
            "grid_auto_columns": null,
            "grid_auto_flow": null,
            "grid_auto_rows": null,
            "grid_column": null,
            "grid_gap": null,
            "grid_row": null,
            "grid_template_areas": null,
            "grid_template_columns": null,
            "grid_template_rows": null,
            "height": null,
            "justify_content": null,
            "justify_items": null,
            "left": null,
            "margin": null,
            "max_height": null,
            "max_width": null,
            "min_height": null,
            "min_width": null,
            "object_fit": null,
            "object_position": null,
            "order": null,
            "overflow": null,
            "overflow_x": null,
            "overflow_y": null,
            "padding": null,
            "right": null,
            "top": null,
            "visibility": null,
            "width": null
          }
        },
        "7f299bd5917f41ac8408702f4380cab0": {
          "model_module": "@jupyter-widgets/controls",
          "model_name": "DescriptionStyleModel",
          "model_module_version": "1.5.0",
          "state": {
            "_model_module": "@jupyter-widgets/controls",
            "_model_module_version": "1.5.0",
            "_model_name": "DescriptionStyleModel",
            "_view_count": null,
            "_view_module": "@jupyter-widgets/base",
            "_view_module_version": "1.2.0",
            "_view_name": "StyleView",
            "description_width": ""
          }
        },
        "aee391ac35074fd292f4c3a536fa7e2f": {
          "model_module": "@jupyter-widgets/base",
          "model_name": "LayoutModel",
          "model_module_version": "1.2.0",
          "state": {
            "_model_module": "@jupyter-widgets/base",
            "_model_module_version": "1.2.0",
            "_model_name": "LayoutModel",
            "_view_count": null,
            "_view_module": "@jupyter-widgets/base",
            "_view_module_version": "1.2.0",
            "_view_name": "LayoutView",
            "align_content": null,
            "align_items": null,
            "align_self": null,
            "border": null,
            "bottom": null,
            "display": null,
            "flex": null,
            "flex_flow": null,
            "grid_area": null,
            "grid_auto_columns": null,
            "grid_auto_flow": null,
            "grid_auto_rows": null,
            "grid_column": null,
            "grid_gap": null,
            "grid_row": null,
            "grid_template_areas": null,
            "grid_template_columns": null,
            "grid_template_rows": null,
            "height": null,
            "justify_content": null,
            "justify_items": null,
            "left": null,
            "margin": null,
            "max_height": null,
            "max_width": null,
            "min_height": null,
            "min_width": null,
            "object_fit": null,
            "object_position": null,
            "order": null,
            "overflow": null,
            "overflow_x": null,
            "overflow_y": null,
            "padding": null,
            "right": null,
            "top": null,
            "visibility": null,
            "width": null
          }
        },
        "2dd98028a24b44d6bffbc55e9db537b1": {
          "model_module": "@jupyter-widgets/controls",
          "model_name": "ProgressStyleModel",
          "model_module_version": "1.5.0",
          "state": {
            "_model_module": "@jupyter-widgets/controls",
            "_model_module_version": "1.5.0",
            "_model_name": "ProgressStyleModel",
            "_view_count": null,
            "_view_module": "@jupyter-widgets/base",
            "_view_module_version": "1.2.0",
            "_view_name": "StyleView",
            "bar_color": null,
            "description_width": ""
          }
        },
        "89aad114413b4666bd8f341d2dd10e05": {
          "model_module": "@jupyter-widgets/base",
          "model_name": "LayoutModel",
          "model_module_version": "1.2.0",
          "state": {
            "_model_module": "@jupyter-widgets/base",
            "_model_module_version": "1.2.0",
            "_model_name": "LayoutModel",
            "_view_count": null,
            "_view_module": "@jupyter-widgets/base",
            "_view_module_version": "1.2.0",
            "_view_name": "LayoutView",
            "align_content": null,
            "align_items": null,
            "align_self": null,
            "border": null,
            "bottom": null,
            "display": null,
            "flex": null,
            "flex_flow": null,
            "grid_area": null,
            "grid_auto_columns": null,
            "grid_auto_flow": null,
            "grid_auto_rows": null,
            "grid_column": null,
            "grid_gap": null,
            "grid_row": null,
            "grid_template_areas": null,
            "grid_template_columns": null,
            "grid_template_rows": null,
            "height": null,
            "justify_content": null,
            "justify_items": null,
            "left": null,
            "margin": null,
            "max_height": null,
            "max_width": null,
            "min_height": null,
            "min_width": null,
            "object_fit": null,
            "object_position": null,
            "order": null,
            "overflow": null,
            "overflow_x": null,
            "overflow_y": null,
            "padding": null,
            "right": null,
            "top": null,
            "visibility": null,
            "width": null
          }
        },
        "8c1108acae334f5c9686d75b7b9923e4": {
          "model_module": "@jupyter-widgets/controls",
          "model_name": "DescriptionStyleModel",
          "model_module_version": "1.5.0",
          "state": {
            "_model_module": "@jupyter-widgets/controls",
            "_model_module_version": "1.5.0",
            "_model_name": "DescriptionStyleModel",
            "_view_count": null,
            "_view_module": "@jupyter-widgets/base",
            "_view_module_version": "1.2.0",
            "_view_name": "StyleView",
            "description_width": ""
          }
        }
      }
    }
  },
  "cells": [
    {
      "cell_type": "markdown",
      "source": [
        "## Table of content and model results\n",
        "\n"
      ],
      "metadata": {
        "id": "zL6g1T8Jeyi1"
      }
    },
    {
      "cell_type": "markdown",
      "source": [
        ""
      ],
      "metadata": {
        "id": "zewIcVHferk9"
      }
    },
    {
      "cell_type": "markdown",
      "source": [
        "## Imports"
      ],
      "metadata": {
        "id": "AitRMbM6R_23"
      }
    },
    {
      "cell_type": "code",
      "source": [
        "!pip install gensim==3.8.3 --quiet"
      ],
      "metadata": {
        "id": "uFMQmofaT2x_",
        "colab": {
          "base_uri": "https://localhost:8080/"
        },
        "outputId": "c1cfa8b3-7c62-4a49-81fa-33811c89317e"
      },
      "execution_count": null,
      "outputs": [
        {
          "output_type": "stream",
          "name": "stdout",
          "text": [
            "\u001b[K     |████████████████████████████████| 24.2 MB 18.2 MB/s \n",
            "\u001b[?25h"
          ]
        }
      ]
    },
    {
      "cell_type": "code",
      "source": [
        "!pip install transformers --quiet"
      ],
      "metadata": {
        "id": "ZepWG26Pb36a",
        "colab": {
          "base_uri": "https://localhost:8080/"
        },
        "outputId": "9b90da44-e2e2-4219-ec57-c4c044258f95"
      },
      "execution_count": null,
      "outputs": [
        {
          "output_type": "stream",
          "name": "stdout",
          "text": [
            "\u001b[K     |████████████████████████████████| 4.7 MB 4.3 MB/s \n",
            "\u001b[K     |████████████████████████████████| 6.6 MB 55.4 MB/s \n",
            "\u001b[K     |████████████████████████████████| 596 kB 70.8 MB/s \n",
            "\u001b[K     |████████████████████████████████| 101 kB 6.6 MB/s \n",
            "\u001b[?25h"
          ]
        }
      ]
    },
    {
      "cell_type": "code",
      "source": [
        "!pip install -U tensorflow-text==2.8.2 --quiet"
      ],
      "metadata": {
        "id": "LBz57saHcLid",
        "colab": {
          "base_uri": "https://localhost:8080/"
        },
        "outputId": "269d58ba-1105-455f-bfd1-144df4d2e8f0"
      },
      "execution_count": null,
      "outputs": [
        {
          "output_type": "stream",
          "name": "stdout",
          "text": [
            "\u001b[K     |████████████████████████████████| 4.9 MB 4.0 MB/s \n",
            "\u001b[?25h"
          ]
        }
      ]
    },
    {
      "cell_type": "code",
      "source": [
        "# misc\n",
        "import pandas as pd\n",
        "import numpy as np\n",
        "from sklearn.model_selection import train_test_split\n",
        "np.random.seed(42)\n",
        "\n",
        "# report\n",
        "from sklearn.metrics import confusion_matrix\n",
        "from sklearn import metrics\n",
        "from sklearn.metrics import classification_report\n",
        "import seaborn as sns\n",
        "\n",
        "# word2vec\n",
        "import nltk\n",
        "import gensim\n",
        "from nltk.data import find\n",
        "import tensorflow_text as tf_text\n",
        "\n",
        "# BERT\n",
        "import tensorflow as tf\n",
        "from tensorflow import keras\n",
        "\n",
        "from tensorflow.keras.layers import Embedding, Input, Dense, Lambda\n",
        "from tensorflow.keras.models import Model\n",
        "from transformers import BertTokenizer, TFBertModel"
      ],
      "metadata": {
        "id": "EvPhbSW1rrdp"
      },
      "execution_count": null,
      "outputs": []
    },
    {
      "cell_type": "code",
      "source": [
        "from google.colab import drive\n",
        "drive.mount('/content/drive')"
      ],
      "metadata": {
        "id": "LYU51GnwRSs_",
        "colab": {
          "base_uri": "https://localhost:8080/"
        },
        "outputId": "8dc793c7-a4cc-464d-875f-eae553901034"
      },
      "execution_count": null,
      "outputs": [
        {
          "output_type": "stream",
          "name": "stdout",
          "text": [
            "Mounted at /content/drive\n"
          ]
        }
      ]
    },
    {
      "cell_type": "markdown",
      "source": [
        "## Load and clean data"
      ],
      "metadata": {
        "id": "U6oStQMXSEyO"
      }
    },
    {
      "cell_type": "code",
      "source": [
        "# rename uci data to just data\n",
        "data = pd.read_csv(\"/content/drive/MyDrive/W266: SMS Spam Detection Final Project/data/data_clean_trans.csv\")\n",
        "#data = pd.read_csv(\"/content/drive/MyDrive/W266/data/data_clean_trans.csv\")\n",
        "data"
      ],
      "metadata": {
        "id": "E2RqNNQxKuVT",
        "colab": {
          "base_uri": "https://localhost:8080/",
          "height": 659
        },
        "outputId": "58a90332-b5ff-4e50-ef11-09e4f5d29aa7"
      },
      "execution_count": null,
      "outputs": [
        {
          "output_type": "execute_result",
          "data": {
            "text/plain": [
              "      Unnamed: 0  spam                                               text  \\\n",
              "0              0     0  Go until jurong point, crazy.. Available only ...   \n",
              "1              1     0                    Ok lar... Joking wif u oni...\\n   \n",
              "2              2     1  Free entry in 2 a wkly comp to win FA Cup fina...   \n",
              "3              3     0  U dun say so early hor... U c already then say...   \n",
              "4              4     0  Nah I don't think he goes to usf, he lives aro...   \n",
              "...          ...   ...                                                ...   \n",
              "6102        6102     1  You have passed the official certification onl...   \n",
              "6103        6103     1  Win The Big J@CKP0T Up To 1M PHP! 100 GET 100,...   \n",
              "6104        6104     1  Hi, I'm a Shopee Hiring Manager and I'm curren...   \n",
              "6105        6105     1  4 PCS SOLAR LIGHTS FOR ONLY 1,499 !\\nPinaka mu...   \n",
              "6106        6106     1  Sissy, 1P lang per bet kay cutt.ly/BingoPlus-P...   \n",
              "\n",
              "      crowd                                            spanish language  \\\n",
              "0         0  Vaya hasta Jurong Point, loco ... disponible s...       en   \n",
              "1         0               Ok lar ... bromeando wif u oni ...\\n       en   \n",
              "2         0  Entrada gratuita en 2 una compensación de wkly...       en   \n",
              "3         0    No digo tan temprano hor ... ya c ya digo ...\\n       en   \n",
              "4         0  No, no creo que vaya a la USF, aunque vive por...       en   \n",
              "...     ...                                                ...      ...   \n",
              "6102      1  Ha aprobado la certificación oficial de la aud...       en   \n",
              "6103      1  ¡Gana la gran j@ckp0t hasta 1 m php! 100 Get 1...       en   \n",
              "6104      1  Hola, soy un gerente de contratación de Shopee...       en   \n",
              "6105      1  ¡4 PCS Luces solares por solo 1,499!\\n¡La mayo...      fil   \n",
              "6106      1  Sissy, solo 1p por apuesta para Cutt.ly/BingOp...      fil   \n",
              "\n",
              "                                                english  \n",
              "0     Go until jurong point, crazy.. Available only ...  \n",
              "1                       Ok lar... Joking wif u oni...\\n  \n",
              "2     Free entry in 2 a wkly comp to win FA Cup fina...  \n",
              "3     U dun say so early hor... U c already then say...  \n",
              "4     Nah I don't think he goes to usf, he lives aro...  \n",
              "...                                                 ...  \n",
              "6102  You have passed the official certification onl...  \n",
              "6103  Win The Big J@CKP0T Up To 1M PHP! 100 GET 100,...  \n",
              "6104  Hi, I'm a Shopee Hiring Manager and I'm curren...  \n",
              "6105  4 pcs solar lights for only 1,499!\\nMost cheap...  \n",
              "6106  Sissy, just 1p per bet for cutt.ly/bingoplus-p...  \n",
              "\n",
              "[6107 rows x 7 columns]"
            ],
            "text/html": [
              "\n",
              "  <div id=\"df-9a77a640-fece-40dc-bcd1-cc98cc3436ed\">\n",
              "    <div class=\"colab-df-container\">\n",
              "      <div>\n",
              "<style scoped>\n",
              "    .dataframe tbody tr th:only-of-type {\n",
              "        vertical-align: middle;\n",
              "    }\n",
              "\n",
              "    .dataframe tbody tr th {\n",
              "        vertical-align: top;\n",
              "    }\n",
              "\n",
              "    .dataframe thead th {\n",
              "        text-align: right;\n",
              "    }\n",
              "</style>\n",
              "<table border=\"1\" class=\"dataframe\">\n",
              "  <thead>\n",
              "    <tr style=\"text-align: right;\">\n",
              "      <th></th>\n",
              "      <th>Unnamed: 0</th>\n",
              "      <th>spam</th>\n",
              "      <th>text</th>\n",
              "      <th>crowd</th>\n",
              "      <th>spanish</th>\n",
              "      <th>language</th>\n",
              "      <th>english</th>\n",
              "    </tr>\n",
              "  </thead>\n",
              "  <tbody>\n",
              "    <tr>\n",
              "      <th>0</th>\n",
              "      <td>0</td>\n",
              "      <td>0</td>\n",
              "      <td>Go until jurong point, crazy.. Available only ...</td>\n",
              "      <td>0</td>\n",
              "      <td>Vaya hasta Jurong Point, loco ... disponible s...</td>\n",
              "      <td>en</td>\n",
              "      <td>Go until jurong point, crazy.. Available only ...</td>\n",
              "    </tr>\n",
              "    <tr>\n",
              "      <th>1</th>\n",
              "      <td>1</td>\n",
              "      <td>0</td>\n",
              "      <td>Ok lar... Joking wif u oni...\\n</td>\n",
              "      <td>0</td>\n",
              "      <td>Ok lar ... bromeando wif u oni ...\\n</td>\n",
              "      <td>en</td>\n",
              "      <td>Ok lar... Joking wif u oni...\\n</td>\n",
              "    </tr>\n",
              "    <tr>\n",
              "      <th>2</th>\n",
              "      <td>2</td>\n",
              "      <td>1</td>\n",
              "      <td>Free entry in 2 a wkly comp to win FA Cup fina...</td>\n",
              "      <td>0</td>\n",
              "      <td>Entrada gratuita en 2 una compensación de wkly...</td>\n",
              "      <td>en</td>\n",
              "      <td>Free entry in 2 a wkly comp to win FA Cup fina...</td>\n",
              "    </tr>\n",
              "    <tr>\n",
              "      <th>3</th>\n",
              "      <td>3</td>\n",
              "      <td>0</td>\n",
              "      <td>U dun say so early hor... U c already then say...</td>\n",
              "      <td>0</td>\n",
              "      <td>No digo tan temprano hor ... ya c ya digo ...\\n</td>\n",
              "      <td>en</td>\n",
              "      <td>U dun say so early hor... U c already then say...</td>\n",
              "    </tr>\n",
              "    <tr>\n",
              "      <th>4</th>\n",
              "      <td>4</td>\n",
              "      <td>0</td>\n",
              "      <td>Nah I don't think he goes to usf, he lives aro...</td>\n",
              "      <td>0</td>\n",
              "      <td>No, no creo que vaya a la USF, aunque vive por...</td>\n",
              "      <td>en</td>\n",
              "      <td>Nah I don't think he goes to usf, he lives aro...</td>\n",
              "    </tr>\n",
              "    <tr>\n",
              "      <th>...</th>\n",
              "      <td>...</td>\n",
              "      <td>...</td>\n",
              "      <td>...</td>\n",
              "      <td>...</td>\n",
              "      <td>...</td>\n",
              "      <td>...</td>\n",
              "      <td>...</td>\n",
              "    </tr>\n",
              "    <tr>\n",
              "      <th>6102</th>\n",
              "      <td>6102</td>\n",
              "      <td>1</td>\n",
              "      <td>You have passed the official certification onl...</td>\n",
              "      <td>1</td>\n",
              "      <td>Ha aprobado la certificación oficial de la aud...</td>\n",
              "      <td>en</td>\n",
              "      <td>You have passed the official certification onl...</td>\n",
              "    </tr>\n",
              "    <tr>\n",
              "      <th>6103</th>\n",
              "      <td>6103</td>\n",
              "      <td>1</td>\n",
              "      <td>Win The Big J@CKP0T Up To 1M PHP! 100 GET 100,...</td>\n",
              "      <td>1</td>\n",
              "      <td>¡Gana la gran j@ckp0t hasta 1 m php! 100 Get 1...</td>\n",
              "      <td>en</td>\n",
              "      <td>Win The Big J@CKP0T Up To 1M PHP! 100 GET 100,...</td>\n",
              "    </tr>\n",
              "    <tr>\n",
              "      <th>6104</th>\n",
              "      <td>6104</td>\n",
              "      <td>1</td>\n",
              "      <td>Hi, I'm a Shopee Hiring Manager and I'm curren...</td>\n",
              "      <td>1</td>\n",
              "      <td>Hola, soy un gerente de contratación de Shopee...</td>\n",
              "      <td>en</td>\n",
              "      <td>Hi, I'm a Shopee Hiring Manager and I'm curren...</td>\n",
              "    </tr>\n",
              "    <tr>\n",
              "      <th>6105</th>\n",
              "      <td>6105</td>\n",
              "      <td>1</td>\n",
              "      <td>4 PCS SOLAR LIGHTS FOR ONLY 1,499 !\\nPinaka mu...</td>\n",
              "      <td>1</td>\n",
              "      <td>¡4 PCS Luces solares por solo 1,499!\\n¡La mayo...</td>\n",
              "      <td>fil</td>\n",
              "      <td>4 pcs solar lights for only 1,499!\\nMost cheap...</td>\n",
              "    </tr>\n",
              "    <tr>\n",
              "      <th>6106</th>\n",
              "      <td>6106</td>\n",
              "      <td>1</td>\n",
              "      <td>Sissy, 1P lang per bet kay cutt.ly/BingoPlus-P...</td>\n",
              "      <td>1</td>\n",
              "      <td>Sissy, solo 1p por apuesta para Cutt.ly/BingOp...</td>\n",
              "      <td>fil</td>\n",
              "      <td>Sissy, just 1p per bet for cutt.ly/bingoplus-p...</td>\n",
              "    </tr>\n",
              "  </tbody>\n",
              "</table>\n",
              "<p>6107 rows × 7 columns</p>\n",
              "</div>\n",
              "      <button class=\"colab-df-convert\" onclick=\"convertToInteractive('df-9a77a640-fece-40dc-bcd1-cc98cc3436ed')\"\n",
              "              title=\"Convert this dataframe to an interactive table.\"\n",
              "              style=\"display:none;\">\n",
              "        \n",
              "  <svg xmlns=\"http://www.w3.org/2000/svg\" height=\"24px\"viewBox=\"0 0 24 24\"\n",
              "       width=\"24px\">\n",
              "    <path d=\"M0 0h24v24H0V0z\" fill=\"none\"/>\n",
              "    <path d=\"M18.56 5.44l.94 2.06.94-2.06 2.06-.94-2.06-.94-.94-2.06-.94 2.06-2.06.94zm-11 1L8.5 8.5l.94-2.06 2.06-.94-2.06-.94L8.5 2.5l-.94 2.06-2.06.94zm10 10l.94 2.06.94-2.06 2.06-.94-2.06-.94-.94-2.06-.94 2.06-2.06.94z\"/><path d=\"M17.41 7.96l-1.37-1.37c-.4-.4-.92-.59-1.43-.59-.52 0-1.04.2-1.43.59L10.3 9.45l-7.72 7.72c-.78.78-.78 2.05 0 2.83L4 21.41c.39.39.9.59 1.41.59.51 0 1.02-.2 1.41-.59l7.78-7.78 2.81-2.81c.8-.78.8-2.07 0-2.86zM5.41 20L4 18.59l7.72-7.72 1.47 1.35L5.41 20z\"/>\n",
              "  </svg>\n",
              "      </button>\n",
              "      \n",
              "  <style>\n",
              "    .colab-df-container {\n",
              "      display:flex;\n",
              "      flex-wrap:wrap;\n",
              "      gap: 12px;\n",
              "    }\n",
              "\n",
              "    .colab-df-convert {\n",
              "      background-color: #E8F0FE;\n",
              "      border: none;\n",
              "      border-radius: 50%;\n",
              "      cursor: pointer;\n",
              "      display: none;\n",
              "      fill: #1967D2;\n",
              "      height: 32px;\n",
              "      padding: 0 0 0 0;\n",
              "      width: 32px;\n",
              "    }\n",
              "\n",
              "    .colab-df-convert:hover {\n",
              "      background-color: #E2EBFA;\n",
              "      box-shadow: 0px 1px 2px rgba(60, 64, 67, 0.3), 0px 1px 3px 1px rgba(60, 64, 67, 0.15);\n",
              "      fill: #174EA6;\n",
              "    }\n",
              "\n",
              "    [theme=dark] .colab-df-convert {\n",
              "      background-color: #3B4455;\n",
              "      fill: #D2E3FC;\n",
              "    }\n",
              "\n",
              "    [theme=dark] .colab-df-convert:hover {\n",
              "      background-color: #434B5C;\n",
              "      box-shadow: 0px 1px 3px 1px rgba(0, 0, 0, 0.15);\n",
              "      filter: drop-shadow(0px 1px 2px rgba(0, 0, 0, 0.3));\n",
              "      fill: #FFFFFF;\n",
              "    }\n",
              "  </style>\n",
              "\n",
              "      <script>\n",
              "        const buttonEl =\n",
              "          document.querySelector('#df-9a77a640-fece-40dc-bcd1-cc98cc3436ed button.colab-df-convert');\n",
              "        buttonEl.style.display =\n",
              "          google.colab.kernel.accessAllowed ? 'block' : 'none';\n",
              "\n",
              "        async function convertToInteractive(key) {\n",
              "          const element = document.querySelector('#df-9a77a640-fece-40dc-bcd1-cc98cc3436ed');\n",
              "          const dataTable =\n",
              "            await google.colab.kernel.invokeFunction('convertToInteractive',\n",
              "                                                     [key], {});\n",
              "          if (!dataTable) return;\n",
              "\n",
              "          const docLinkHtml = 'Like what you see? Visit the ' +\n",
              "            '<a target=\"_blank\" href=https://colab.research.google.com/notebooks/data_table.ipynb>data table notebook</a>'\n",
              "            + ' to learn more about interactive tables.';\n",
              "          element.innerHTML = '';\n",
              "          dataTable['output_type'] = 'display_data';\n",
              "          await google.colab.output.renderOutput(dataTable, element);\n",
              "          const docLink = document.createElement('div');\n",
              "          docLink.innerHTML = docLinkHtml;\n",
              "          element.appendChild(docLink);\n",
              "        }\n",
              "      </script>\n",
              "    </div>\n",
              "  </div>\n",
              "  "
            ]
          },
          "metadata": {},
          "execution_count": 6
        }
      ]
    },
    {
      "cell_type": "code",
      "source": [
        "data = data.convert_dtypes()\n",
        "data.dtypes"
      ],
      "metadata": {
        "id": "47UovwLKgvce",
        "colab": {
          "base_uri": "https://localhost:8080/"
        },
        "outputId": "c0a372a5-670a-42f6-ba52-d6e10fef7bb6"
      },
      "execution_count": null,
      "outputs": [
        {
          "output_type": "execute_result",
          "data": {
            "text/plain": [
              "Unnamed: 0     Int64\n",
              "spam           Int64\n",
              "text          string\n",
              "crowd          Int64\n",
              "spanish       string\n",
              "language      string\n",
              "english       string\n",
              "dtype: object"
            ]
          },
          "metadata": {},
          "execution_count": 7
        }
      ]
    },
    {
      "cell_type": "markdown",
      "source": [
        "## EDA"
      ],
      "metadata": {
        "id": "0RuqEtIVSOkg"
      }
    },
    {
      "cell_type": "code",
      "source": [
        "sum(data[\"spam\"] == 1)"
      ],
      "metadata": {
        "id": "n6pRHRdg8MoI",
        "colab": {
          "base_uri": "https://localhost:8080/"
        },
        "outputId": "9a52c775-9b69-4bf7-e3f1-ddfc4891e520"
      },
      "execution_count": null,
      "outputs": [
        {
          "output_type": "execute_result",
          "data": {
            "text/plain": [
              "1280"
            ]
          },
          "metadata": {},
          "execution_count": 8
        }
      ]
    },
    {
      "cell_type": "code",
      "source": [
        "sum(data[\"spam\"] == 0)"
      ],
      "metadata": {
        "id": "DKlzqlpy8u1Y",
        "colab": {
          "base_uri": "https://localhost:8080/"
        },
        "outputId": "31556072-33de-4f27-ef13-8802f8ebf82e"
      },
      "execution_count": null,
      "outputs": [
        {
          "output_type": "execute_result",
          "data": {
            "text/plain": [
              "4827"
            ]
          },
          "metadata": {},
          "execution_count": 9
        }
      ]
    },
    {
      "cell_type": "markdown",
      "source": [
        "## Split the data"
      ],
      "metadata": {
        "id": "GmTIZRghbCkw"
      }
    },
    {
      "cell_type": "code",
      "source": [
        "X, y = data['english'], data['spam']\n",
        "\n",
        "train_X, test_X, train_y, test_y = train_test_split(X, y, \n",
        "                                                    train_size=0.8,\n",
        "                                                    test_size=0.2,\n",
        "                                                    random_state=123,\n",
        "                                                    shuffle=True)"
      ],
      "metadata": {
        "id": "KlJMJlhpVtnu"
      },
      "execution_count": null,
      "outputs": []
    },
    {
      "cell_type": "markdown",
      "source": [
        "## Helper functions"
      ],
      "metadata": {
        "id": "VVX5ga_ODFrz"
      }
    },
    {
      "cell_type": "code",
      "source": [
        "def print_metrics(test_name, y_true, y_pred):\n",
        "    print('%s: accuracy = %.4f, precision = %.4f, recall = %.4f, f1 = %.4f'\n",
        "          % (test_name,\n",
        "             metrics.accuracy_score(y_true, y_pred),\n",
        "             metrics.precision_score(y_true, y_pred),\n",
        "             metrics.recall_score(y_true, y_pred),\n",
        "             metrics.f1_score(y_true, y_pred)))"
      ],
      "metadata": {
        "id": "rYG1iASIDEj6"
      },
      "execution_count": null,
      "outputs": []
    },
    {
      "cell_type": "markdown",
      "source": [
        "## Base models\n",
        "\n",
        "- Word2Vec embeddings\n",
        "  - CNN\n",
        "  - LSTM\n",
        "\n",
        "- BERT embeddings\n",
        "  - Fully connected network\n",
        "  - CNN\n"
      ],
      "metadata": {
        "id": "K0oBtsKoSTEU"
      }
    },
    {
      "cell_type": "markdown",
      "source": [
        "#### Word2Vec embeddings"
      ],
      "metadata": {
        "id": "MySc4TsBTRdT"
      }
    },
    {
      "cell_type": "code",
      "source": [
        "nltk.download('word2vec_sample')"
      ],
      "metadata": {
        "id": "7BFkjykfSUQy",
        "colab": {
          "base_uri": "https://localhost:8080/"
        },
        "outputId": "602ed0a0-0272-4ea2-df02-f18f320abd64"
      },
      "execution_count": null,
      "outputs": [
        {
          "output_type": "stream",
          "name": "stderr",
          "text": [
            "[nltk_data] Downloading package word2vec_sample to /root/nltk_data...\n",
            "[nltk_data]   Unzipping models/word2vec_sample.zip.\n"
          ]
        },
        {
          "output_type": "execute_result",
          "data": {
            "text/plain": [
              "True"
            ]
          },
          "metadata": {},
          "execution_count": 12
        }
      ]
    },
    {
      "cell_type": "code",
      "source": [
        "word2vec_sample = str(find('models/word2vec_sample/pruned.word2vec.txt'))"
      ],
      "metadata": {
        "id": "Gz7wtvLeXJb4"
      },
      "execution_count": null,
      "outputs": []
    },
    {
      "cell_type": "code",
      "source": [
        "model = gensim.models.KeyedVectors.load_word2vec_format(word2vec_sample, binary=False)"
      ],
      "metadata": {
        "id": "uY2qQt3oTxpw"
      },
      "execution_count": null,
      "outputs": []
    },
    {
      "cell_type": "code",
      "source": [
        "# creating a Word2Vec embedding\n",
        "EMBEDDING_DIM = len(model['university'])      # we know... it's 300\n",
        "\n",
        "# initialize embedding matrix and word-to-id map:\n",
        "embedding_matrix = np.zeros((len(model.vocab.keys()) + 1, EMBEDDING_DIM))       \n",
        "vocab_dict = {}\n",
        "\n",
        "# build the embedding matrix and the word-to-id map:\n",
        "for i, word in enumerate(model.vocab.keys()):\n",
        "    embedding_vector = model[word]\n",
        "    if embedding_vector is not None:\n",
        "        # words not found in embedding index will be all-zeros.\n",
        "        embedding_matrix[i] = embedding_vector\n",
        "        vocab_dict[word] = i\n",
        "\n"
      ],
      "metadata": {
        "id": "LJwX14iJWwvp"
      },
      "execution_count": null,
      "outputs": []
    },
    {
      "cell_type": "code",
      "source": [
        "tokenizer = tf_text.WhitespaceTokenizer()\n",
        "train_tokens = tokenizer.tokenize(train_X)\n",
        "test_tokens = tokenizer.tokenize(test_X)"
      ],
      "metadata": {
        "id": "hlQF33RqYvfP"
      },
      "execution_count": null,
      "outputs": []
    },
    {
      "cell_type": "code",
      "source": [
        "train_tokens[0]"
      ],
      "metadata": {
        "id": "5SvpFHLNZVJb",
        "colab": {
          "base_uri": "https://localhost:8080/"
        },
        "outputId": "747428cb-26f4-4bb0-94a7-7fc7ef0a4eb2"
      },
      "execution_count": null,
      "outputs": [
        {
          "output_type": "execute_result",
          "data": {
            "text/plain": [
              "<tf.Tensor: shape=(18,), dtype=string, numpy=\n",
              "array([b\"You've\", b'won', b'tkts', b'to', b'the', b'EURO2004', b'CUP',\n",
              "       b'FINAL', b'or', b'\\xc2\\xa3800', b'CASH,', b'to', b'collect',\n",
              "       b'CALL', b'09058099801', b'b4190604,', b'POBOX', b'7876150ppm'],\n",
              "      dtype=object)>"
            ]
          },
          "metadata": {},
          "execution_count": 17
        }
      ]
    },
    {
      "cell_type": "code",
      "source": [
        "# TO-DO: make sure this is tuned\n",
        "MAX_SEQUENCE_LENGTH = 5"
      ],
      "metadata": {
        "id": "FTR331lLZi8d"
      },
      "execution_count": null,
      "outputs": []
    },
    {
      "cell_type": "code",
      "source": [
        "def sents_to_ids(token_list_list, label_list, num_examples=100000000):\n",
        "    \"\"\"\n",
        "    converting a list of strings to a list of lists of word ids\n",
        "    \"\"\"\n",
        "    text_ids = []\n",
        "    text_labels = []\n",
        "    example_count = 0\n",
        "    use_token_list_list = token_list_list[:num_examples]\n",
        "    for i, token_list in enumerate(use_token_list_list):\n",
        "        if i < num_examples:\n",
        "            try:\n",
        "                example = []\n",
        "                for token in list(token_list.numpy()):\n",
        "                    decoded = token.decode('utf-8').replace('.','').replace(',','').replace('!','')\n",
        "                    try:\n",
        "                        example.append(vocab_dict[decoded])\n",
        "                        \n",
        "                    except:\n",
        "                        example.append(43981)\n",
        "                if len(example) >= MAX_SEQUENCE_LENGTH:\n",
        "                    text_ids.append(example[:MAX_SEQUENCE_LENGTH])\n",
        "                    text_labels.append(label_list[i])\n",
        "                    if example_count % 5000 == 0:\n",
        "                        print('Examples processed: ', example_count)\n",
        "                    example_count += 1\n",
        "                else:\n",
        "                    pass\n",
        "            except:\n",
        "                pass\n",
        "\n",
        "    \n",
        "    print('Number of examples retained: ', example_count) \n",
        "    return (np.array(text_ids),   np.array(text_labels)) "
      ],
      "metadata": {
        "id": "ohRUVRzOZmi7"
      },
      "execution_count": null,
      "outputs": []
    },
    {
      "cell_type": "code",
      "source": [
        "# convert to tensor\n",
        "y_train = tf.convert_to_tensor(list(train_y))\n",
        "y_test = tf.convert_to_tensor(list(test_y))"
      ],
      "metadata": {
        "id": "WsNjF9JlZzl2"
      },
      "execution_count": null,
      "outputs": []
    },
    {
      "cell_type": "code",
      "source": [
        "train_input, train_input_labels = sents_to_ids(train_tokens, y_train)\n",
        "test_input, test_input_labels = sents_to_ids(test_tokens, y_test)"
      ],
      "metadata": {
        "id": "RJrOVPu2Zniw",
        "colab": {
          "base_uri": "https://localhost:8080/"
        },
        "outputId": "5e135620-0796-4c1d-a3d0-93903e3cd810"
      },
      "execution_count": null,
      "outputs": [
        {
          "output_type": "stream",
          "name": "stdout",
          "text": [
            "Examples processed:  0\n",
            "Number of examples retained:  4605\n",
            "Examples processed:  0\n",
            "Number of examples retained:  1147\n"
          ]
        }
      ]
    },
    {
      "cell_type": "markdown",
      "source": [
        "#### CNN"
      ],
      "metadata": {
        "id": "HCn1BoEaPA6E"
      }
    },
    {
      "cell_type": "code",
      "source": [
        "cnn_embedding_layer = Embedding(embedding_matrix.shape[0],\n",
        "                            embedding_matrix.shape[1],\n",
        "                            embeddings_initializer=tf.keras.initializers.Constant(embedding_matrix),\n",
        "                            input_length=MAX_SEQUENCE_LENGTH,\n",
        "                            trainable=False)"
      ],
      "metadata": {
        "id": "hypVVE0gVWFs"
      },
      "execution_count": null,
      "outputs": []
    },
    {
      "cell_type": "code",
      "source": [
        "# Specify model hyperparameters.\n",
        "epochs = 10\n",
        "num_filters = [3, 2, 1]\n",
        "kernel_sizes = [2, 4, 5]\n",
        "dense_layer_dims = [100, 30]\n",
        "dropout_rate = 0.5"
      ],
      "metadata": {
        "id": "eQ6kHgIYV4Z-"
      },
      "execution_count": null,
      "outputs": []
    },
    {
      "cell_type": "code",
      "source": [
        "cnn_input_layer = tf.keras.layers.Input(shape=(MAX_SEQUENCE_LENGTH,), dtype='int64')"
      ],
      "metadata": {
        "id": "g3uG2-WBV_qX"
      },
      "execution_count": null,
      "outputs": []
    },
    {
      "cell_type": "code",
      "source": [
        "cnn_embeddings = cnn_embedding_layer(cnn_input_layer)\n",
        "\n",
        "h = cnn_embeddings"
      ],
      "metadata": {
        "id": "5-JgitXCWAEs"
      },
      "execution_count": null,
      "outputs": []
    },
    {
      "cell_type": "code",
      "source": [
        "conv_layers_for_all_kernel_sizes = []\n",
        "for kernel_size, filters in zip(kernel_sizes, num_filters):\n",
        "    conv_layer = keras.layers.Conv1D(filters=filters, kernel_size=kernel_size, activation='relu')(h)\n",
        "    conv_layer = keras.layers.GlobalMaxPooling1D()(conv_layer)\n",
        "    conv_layers_for_all_kernel_sizes.append(conv_layer)"
      ],
      "metadata": {
        "id": "pIlpLN0GWCOv"
      },
      "execution_count": null,
      "outputs": []
    },
    {
      "cell_type": "code",
      "source": [
        "h = keras.layers.concatenate(conv_layers_for_all_kernel_sizes, axis=1)"
      ],
      "metadata": {
        "id": "u1Nv8GblWHoz"
      },
      "execution_count": null,
      "outputs": []
    },
    {
      "cell_type": "code",
      "source": [
        "h = keras.layers.Dropout(rate=dropout_rate)(h)"
      ],
      "metadata": {
        "id": "28nx55AtWJCJ"
      },
      "execution_count": null,
      "outputs": []
    },
    {
      "cell_type": "code",
      "source": [
        "for dense_layer_dim in dense_layer_dims:  \n",
        "    h = keras.layers.Dense(dense_layer_dim, activation='relu')(h)"
      ],
      "metadata": {
        "id": "tbUQSErWWLbj"
      },
      "execution_count": null,
      "outputs": []
    },
    {
      "cell_type": "code",
      "source": [
        "cnn_prediction = keras.layers.Dense(1, activation='sigmoid')(h)"
      ],
      "metadata": {
        "id": "D_RnD91QWMeO"
      },
      "execution_count": null,
      "outputs": []
    },
    {
      "cell_type": "code",
      "source": [
        "cnn_model = keras.Model(inputs=cnn_input_layer, outputs=cnn_prediction)\n",
        "cnn_model.compile(optimizer='adam',\n",
        "              loss='binary_crossentropy',  # From information theory notebooks.\n",
        "              metrics=['accuracy'])"
      ],
      "metadata": {
        "id": "Wnq2VzMtWRv7"
      },
      "execution_count": null,
      "outputs": []
    },
    {
      "cell_type": "code",
      "source": [
        "cnn_model.summary()"
      ],
      "metadata": {
        "id": "JOuRrsY_WUqs",
        "colab": {
          "base_uri": "https://localhost:8080/"
        },
        "outputId": "9deafd70-9ee6-40b7-d261-1bb12d6552ea"
      },
      "execution_count": null,
      "outputs": [
        {
          "output_type": "stream",
          "name": "stdout",
          "text": [
            "Model: \"model\"\n",
            "__________________________________________________________________________________________________\n",
            " Layer (type)                   Output Shape         Param #     Connected to                     \n",
            "==================================================================================================\n",
            " input_1 (InputLayer)           [(None, 5)]          0           []                               \n",
            "                                                                                                  \n",
            " embedding (Embedding)          (None, 5, 300)       13194600    ['input_1[0][0]']                \n",
            "                                                                                                  \n",
            " conv1d (Conv1D)                (None, 4, 3)         1803        ['embedding[0][0]']              \n",
            "                                                                                                  \n",
            " conv1d_1 (Conv1D)              (None, 2, 2)         2402        ['embedding[0][0]']              \n",
            "                                                                                                  \n",
            " conv1d_2 (Conv1D)              (None, 1, 1)         1501        ['embedding[0][0]']              \n",
            "                                                                                                  \n",
            " global_max_pooling1d (GlobalMa  (None, 3)           0           ['conv1d[0][0]']                 \n",
            " xPooling1D)                                                                                      \n",
            "                                                                                                  \n",
            " global_max_pooling1d_1 (Global  (None, 2)           0           ['conv1d_1[0][0]']               \n",
            " MaxPooling1D)                                                                                    \n",
            "                                                                                                  \n",
            " global_max_pooling1d_2 (Global  (None, 1)           0           ['conv1d_2[0][0]']               \n",
            " MaxPooling1D)                                                                                    \n",
            "                                                                                                  \n",
            " concatenate (Concatenate)      (None, 6)            0           ['global_max_pooling1d[0][0]',   \n",
            "                                                                  'global_max_pooling1d_1[0][0]', \n",
            "                                                                  'global_max_pooling1d_2[0][0]'] \n",
            "                                                                                                  \n",
            " dropout (Dropout)              (None, 6)            0           ['concatenate[0][0]']            \n",
            "                                                                                                  \n",
            " dense (Dense)                  (None, 100)          700         ['dropout[0][0]']                \n",
            "                                                                                                  \n",
            " dense_1 (Dense)                (None, 30)           3030        ['dense[0][0]']                  \n",
            "                                                                                                  \n",
            " dense_2 (Dense)                (None, 1)            31          ['dense_1[0][0]']                \n",
            "                                                                                                  \n",
            "==================================================================================================\n",
            "Total params: 13,204,067\n",
            "Trainable params: 9,467\n",
            "Non-trainable params: 13,194,600\n",
            "__________________________________________________________________________________________________\n"
          ]
        }
      ]
    },
    {
      "cell_type": "code",
      "source": [
        "cnn_history = cnn_model.fit(train_input,\n",
        "             np.array(train_input_labels),\n",
        "             validation_data=(test_input, np.array(test_input_labels)),\n",
        "             batch_size=32,\n",
        "             epochs=5\n",
        "             )"
      ],
      "metadata": {
        "id": "tpYEf_jcWX5h",
        "colab": {
          "base_uri": "https://localhost:8080/"
        },
        "outputId": "74bba95f-a7d0-4bf1-d87d-c43e9f01ea83"
      },
      "execution_count": null,
      "outputs": [
        {
          "output_type": "stream",
          "name": "stdout",
          "text": [
            "Epoch 1/5\n",
            "144/144 [==============================] - 11s 6ms/step - loss: 0.4677 - accuracy: 0.7798 - val_loss: 0.3992 - val_accuracy: 0.7724\n",
            "Epoch 2/5\n",
            "144/144 [==============================] - 1s 4ms/step - loss: 0.3741 - accuracy: 0.8111 - val_loss: 0.3403 - val_accuracy: 0.8779\n",
            "Epoch 3/5\n",
            "144/144 [==============================] - 1s 4ms/step - loss: 0.3317 - accuracy: 0.8597 - val_loss: 0.2869 - val_accuracy: 0.8928\n",
            "Epoch 4/5\n",
            "144/144 [==============================] - 1s 4ms/step - loss: 0.2999 - accuracy: 0.8723 - val_loss: 0.2667 - val_accuracy: 0.9032\n",
            "Epoch 5/5\n",
            "144/144 [==============================] - 1s 4ms/step - loss: 0.2799 - accuracy: 0.8847 - val_loss: 0.2629 - val_accuracy: 0.9015\n"
          ]
        }
      ]
    },
    {
      "cell_type": "markdown",
      "source": [
        "##### Train report"
      ],
      "metadata": {
        "id": "Ms5WvFFmxfVp"
      }
    },
    {
      "cell_type": "code",
      "source": [
        "dev_pred = cnn_model.predict(train_input)"
      ],
      "metadata": {
        "id": "7CaQHMQ0njBT"
      },
      "execution_count": null,
      "outputs": []
    },
    {
      "cell_type": "code",
      "source": [
        "test_pred = cnn_model.predict(test_input)"
      ],
      "metadata": {
        "id": "OdKTBCbhx_Zc"
      },
      "execution_count": null,
      "outputs": []
    },
    {
      "cell_type": "code",
      "source": [
        "sns.heatmap(confusion_matrix(np.array(train_input_labels), np.round(dev_pred,0)), annot=True, fmt='g');  #annot=True to annotate cells, ftm='g' to disable scientific notation"
      ],
      "metadata": {
        "id": "VaVtHFQfmEWM",
        "colab": {
          "base_uri": "https://localhost:8080/",
          "height": 265
        },
        "outputId": "d3eb5d76-8886-417f-90b7-9b3bd065712e"
      },
      "execution_count": null,
      "outputs": [
        {
          "output_type": "display_data",
          "data": {
            "text/plain": [
              "<Figure size 432x288 with 2 Axes>"
            ],
            "image/png": "[encoded data removed]"
          },
          "metadata": {
            "needs_background": "light"
          }
        }
      ]
    },
    {
      "cell_type": "code",
      "source": [
        "print_metrics('W2V + CNN, train data', np.array(train_input_labels), np.round(dev_pred,0))"
      ],
      "metadata": {
        "id": "aOF95pmvmJZD",
        "colab": {
          "base_uri": "https://localhost:8080/"
        },
        "outputId": "362f16ca-1aeb-47dc-b43f-ccbe929d5b0b"
      },
      "execution_count": null,
      "outputs": [
        {
          "output_type": "stream",
          "name": "stdout",
          "text": [
            "W2V + CNN, train data: accuracy = 0.9353, precision = 0.8768, recall = 0.8215, f1 = 0.8483\n"
          ]
        }
      ]
    },
    {
      "cell_type": "code",
      "source": [
        "# TO-DO can't analyze because some texts were discarded during conversion to ids\n",
        "\n",
        "train_y = train_input_labels\n",
        "train_y_predict = np.round(dev_pred,0)"
      ],
      "metadata": {
        "id": "xt42pkNS_093"
      },
      "execution_count": null,
      "outputs": []
    },
    {
      "cell_type": "markdown",
      "source": [
        "##### Test report"
      ],
      "metadata": {
        "id": "-omYmQGZxieV"
      }
    },
    {
      "cell_type": "code",
      "source": [
        "sns.heatmap(confusion_matrix(np.array(test_input_labels), np.round(test_pred,0)), annot=True, fmt='g');  #annot=True to annotate cells, ftm='g' to disable scientific notation"
      ],
      "metadata": {
        "id": "7LD-s2MtyKjA",
        "colab": {
          "base_uri": "https://localhost:8080/",
          "height": 265
        },
        "outputId": "85c94b2e-f635-44a9-dbcb-8ec9b6f92b22"
      },
      "execution_count": null,
      "outputs": [
        {
          "output_type": "display_data",
          "data": {
            "text/plain": [
              "<Figure size 432x288 with 2 Axes>"
            ],
            "image/png": "[encoded data removed]"
          },
          "metadata": {
            "needs_background": "light"
          }
        }
      ]
    },
    {
      "cell_type": "code",
      "source": [
        "print_metrics('W2V + CNN, test data', np.array(test_input_labels), np.round(test_pred,0))"
      ],
      "metadata": {
        "id": "dGiiWFj0yRms",
        "colab": {
          "base_uri": "https://localhost:8080/"
        },
        "outputId": "ed7f9844-08ad-47f3-fd30-11f3c7983e50"
      },
      "execution_count": null,
      "outputs": [
        {
          "output_type": "stream",
          "name": "stdout",
          "text": [
            "W2V + CNN, test data: accuracy = 0.9015, precision = 0.7984, recall = 0.7586, f1 = 0.7780\n"
          ]
        }
      ]
    },
    {
      "cell_type": "markdown",
      "source": [
        "#### LSTM"
      ],
      "metadata": {
        "id": "JqfIxHLRPFqv"
      }
    },
    {
      "cell_type": "code",
      "source": [
        "rnn_embedding_layer = Embedding(embedding_matrix.shape[0],\n",
        "                                embedding_matrix.shape[1],\n",
        "                                embeddings_initializer=tf.keras.initializers.Constant(embedding_matrix),\n",
        "                                input_length=MAX_SEQUENCE_LENGTH,\n",
        "                                trainable=False)"
      ],
      "metadata": {
        "id": "Cy47mRpm5SIV"
      },
      "execution_count": null,
      "outputs": []
    },
    {
      "cell_type": "code",
      "source": [
        "def build_classificaiton_rnn_model(rnn_dim):\n",
        "  \"\"\"\n",
        "  max_length:         maximum input length\n",
        "  rnn_dim:            dimension of the rnn \n",
        "  return_sequences:   should the output vectors get returned?  \n",
        "  return_state:       should the final cell states get returned?\n",
        "  \"\"\"\n",
        "  \n",
        "  rnn_input_layer = tf.keras.layers.Input(shape=(MAX_SEQUENCE_LENGTH,), dtype='int64')\n",
        "\n",
        "  rnn_embeddings = rnn_embedding_layer(rnn_input_layer)\n",
        "\n",
        "  # only return the last output from the RNN calculation \n",
        "  rnn_output = tf.keras.layers.LSTM(rnn_dim, return_sequences=False, return_state=False, name='LSTM')\\\n",
        "              (rnn_embeddings)\n",
        "\n",
        "  rnn_hidden = tf.keras.layers.Dense(100, activation='relu', name='rnn_hidden')(rnn_output)\n",
        "\n",
        "\n",
        "  rnn_classification = tf.keras.layers.Dense(1, \n",
        "                                            activation='sigmoid', \n",
        "                                            name='rnn_classification')(rnn_hidden)\n",
        "\n",
        "  # model definition\n",
        "\n",
        "  rnn_model = tf.keras.models.Model(inputs=rnn_input_layer, outputs=[rnn_classification])\n",
        "\n",
        "  rnn_model.compile(loss='binary_crossentropy',\n",
        "                    optimizer=tf.keras.optimizers.Adam(learning_rate=0.001,\n",
        "                                                  beta_1=0.9,\n",
        "                                                  beta_2=0.999,\n",
        "                                                  epsilon=1e-07,\n",
        "                                                  amsgrad=False,\n",
        "                                                  name='Adam'),\n",
        "                  metrics='accuracy')\n",
        "    \n",
        "  return rnn_model"
      ],
      "metadata": {
        "id": "hK3YxuI8eKTx"
      },
      "execution_count": null,
      "outputs": []
    },
    {
      "cell_type": "code",
      "source": [
        "rnn_model = build_classificaiton_rnn_model(rnn_dim=3)"
      ],
      "metadata": {
        "id": "OHrHxtyk4cKe"
      },
      "execution_count": null,
      "outputs": []
    },
    {
      "cell_type": "code",
      "source": [
        "rnn_history = rnn_model.fit(train_input,\n",
        "             np.array(train_input_labels),\n",
        "             validation_data=(test_input, np.array(test_input_labels)),\n",
        "             batch_size=32,\n",
        "              epochs=5\n",
        "             )"
      ],
      "metadata": {
        "id": "-AUPvbpc6RuU",
        "colab": {
          "base_uri": "https://localhost:8080/"
        },
        "outputId": "6fc1ade8-32c5-4dd6-ae40-65f854d48c78"
      },
      "execution_count": null,
      "outputs": [
        {
          "output_type": "stream",
          "name": "stdout",
          "text": [
            "Epoch 1/5\n",
            "144/144 [==============================] - 4s 7ms/step - loss: 0.5227 - accuracy: 0.7796 - val_loss: 0.4312 - val_accuracy: 0.7733\n",
            "Epoch 2/5\n",
            "144/144 [==============================] - 1s 4ms/step - loss: 0.3493 - accuracy: 0.8473 - val_loss: 0.3079 - val_accuracy: 0.8692\n",
            "Epoch 3/5\n",
            "144/144 [==============================] - 1s 4ms/step - loss: 0.2873 - accuracy: 0.8834 - val_loss: 0.2813 - val_accuracy: 0.8823\n",
            "Epoch 4/5\n",
            "144/144 [==============================] - 1s 4ms/step - loss: 0.2636 - accuracy: 0.8982 - val_loss: 0.2695 - val_accuracy: 0.8893\n",
            "Epoch 5/5\n",
            "144/144 [==============================] - 1s 4ms/step - loss: 0.2500 - accuracy: 0.9040 - val_loss: 0.2583 - val_accuracy: 0.8893\n"
          ]
        }
      ]
    },
    {
      "cell_type": "code",
      "source": [
        "dev_pred = rnn_model.predict(train_input)\n",
        "test_pred = rnn_model.predict(test_input)"
      ],
      "metadata": {
        "id": "ZwSlWRFUGk0r"
      },
      "execution_count": null,
      "outputs": []
    },
    {
      "cell_type": "markdown",
      "source": [
        "##### Train report"
      ],
      "metadata": {
        "id": "2kbcOSmlzXPM"
      }
    },
    {
      "cell_type": "code",
      "source": [
        "sns.heatmap(confusion_matrix(np.array(train_input_labels), np.round(dev_pred,0)), annot=True, fmt='g');  #annot=True to annotate cells, ftm='g' to disable scientific notation"
      ],
      "metadata": {
        "id": "NGhe9NTTz56f",
        "colab": {
          "base_uri": "https://localhost:8080/",
          "height": 265
        },
        "outputId": "32647dcf-0c42-4141-8d96-5e930d871584"
      },
      "execution_count": null,
      "outputs": [
        {
          "output_type": "display_data",
          "data": {
            "text/plain": [
              "<Figure size 432x288 with 2 Axes>"
            ],
            "image/png": "[encoded data removed]"
          },
          "metadata": {
            "needs_background": "light"
          }
        }
      ]
    },
    {
      "cell_type": "code",
      "source": [
        "print_metrics('W2V + LSTM model, train data: ', np.array(train_input_labels), np.round(dev_pred,0))"
      ],
      "metadata": {
        "id": "V86vJljoFz78",
        "colab": {
          "base_uri": "https://localhost:8080/"
        },
        "outputId": "7ce18169-5719-4ed2-8993-8df27a8f28c3"
      },
      "execution_count": null,
      "outputs": [
        {
          "output_type": "stream",
          "name": "stdout",
          "text": [
            "W2V + LSTM model, train data: : accuracy = 0.9073, precision = 0.7909, recall = 0.7870, f1 = 0.7889\n"
          ]
        }
      ]
    },
    {
      "cell_type": "markdown",
      "source": [
        "##### Test report"
      ],
      "metadata": {
        "id": "d9bCMLtwzbdv"
      }
    },
    {
      "cell_type": "code",
      "source": [
        "sns.heatmap(confusion_matrix(np.array(test_input_labels), np.round(test_pred,0)), annot=True, fmt='g');  #annot=True to annotate cells, ftm='g' to disable scientific notation"
      ],
      "metadata": {
        "id": "x0AkRHhiz9ac",
        "colab": {
          "base_uri": "https://localhost:8080/",
          "height": 265
        },
        "outputId": "fd16b04d-97fd-4706-b4c7-1383032888d5"
      },
      "execution_count": null,
      "outputs": [
        {
          "output_type": "display_data",
          "data": {
            "text/plain": [
              "<Figure size 432x288 with 2 Axes>"
            ],
            "image/png": "[encoded data removed]"
          },
          "metadata": {
            "needs_background": "light"
          }
        }
      ]
    },
    {
      "cell_type": "code",
      "source": [
        "print_metrics('W2V + LSTM model, test data: ', np.array(test_input_labels), np.round(test_pred,0))"
      ],
      "metadata": {
        "id": "lcGDGWK3zgtL",
        "colab": {
          "base_uri": "https://localhost:8080/"
        },
        "outputId": "219c6e72-9264-4601-afb0-27c966a5deb2"
      },
      "execution_count": null,
      "outputs": [
        {
          "output_type": "stream",
          "name": "stdout",
          "text": [
            "W2V + LSTM model, test data: : accuracy = 0.8893, precision = 0.7519, recall = 0.7663, f1 = 0.7590\n"
          ]
        }
      ]
    },
    {
      "cell_type": "markdown",
      "source": [
        "#### BERT"
      ],
      "metadata": {
        "id": "w1IBwZ6ibHQh"
      }
    },
    {
      "cell_type": "code",
      "source": [
        "# TO-DO: have to split data again after W2V?\n",
        "X, y = data['text'], data['spam']\n",
        "\n",
        "train_X, test_X, train_y, test_y = train_test_split(X, y, \n",
        "                                                    train_size=0.8,\n",
        "                                                    test_size=0.2,\n",
        "                                                    random_state=123,\n",
        "                                                    shuffle=True)"
      ],
      "metadata": {
        "id": "FbbwrxBeU4m5"
      },
      "execution_count": null,
      "outputs": []
    },
    {
      "cell_type": "code",
      "source": [
        "bert_tokenizer = BertTokenizer.from_pretrained('bert-base-cased')\n",
        "bert_model = TFBertModel.from_pretrained('bert-base-cased')"
      ],
      "metadata": {
        "id": "rXye48IxccJx",
        "colab": {
          "base_uri": "https://localhost:8080/",
          "height": 257,
          "referenced_widgets": [
            "12683f4d190a420e94c1d20bee5c1fdf",
            "849eef67193245559c5169a150ff89f4",
            "732e4d9c8afd4549a2f1b8ed7feae694",
            "c19ab1066d924f97b2876412dd5cf355",
            "3fcec71a462e430196d681727ee74859",
            "cc0af81b4a64405c9381ea20c9aacf0c",
            "fa73d38b67e740ecb55fd4e079ae3fde",
            "fbd746a65d30482bb5c7fb73562b0444",
            "13d3e10088c146fd93bee5ebe32d9d7e",
            "8777133cb93b4f58abd7ca3b20769b58",
            "1bd0dd9e3a7545f09c1b943208c6b8c6",
            "c35cc7ea104f4894b9f0eb902cd9c19f",
            "2f3d502d012144e08901076d3d1e0c02",
            "f179587c71c848ffa553bb1a4d101bd1",
            "900ff25546f9431aad60695d0ba770f9",
            "d519574bbe57492e8f9ea18a7c20369e",
            "02e868cd55b5467cb9081cfb2e636628",
            "95468b45c9684bc39b0e8a8d07a97267",
            "5e74d61f92c44065a963beb0161247dd",
            "540afbd9d3ce42be9e67754d21ca1a5b",
            "445fabbf0067475f9bfc52159aaebdf4",
            "694e1f99f3364decb0bdd314da2ae9a1",
            "be87f999bd6e40d49685355337ea7903",
            "02439c633f624ce7bf25fa4a91be5c96",
            "b1a21c7f18374e44bfaf934d7c3bfbd2",
            "9ab6fccd077c4c57b9fda66f09bc53a4",
            "b922c98f0b944edfb60407951f30b62c",
            "a29cc29f4d2b438b9bba1a9c7f09d408",
            "8b3d5373f0b4489eb5287d1686c0f834",
            "38d9bbfb1a5b42b48f2fe21cf6606051",
            "79ee1f88080f43a381d6376797012f87",
            "a0385514add24d339372ad087c7c6579",
            "cef3cc29a7614b408becf1e3711d6baf",
            "aeca78e97c8c4a51b7d2b000590a9dd9",
            "3aa4038b35214fbaaf9d41e83ec83d17",
            "031e7750705e43c18197c8057a348f4b",
            "3b6f651f4ecf4b338b89fbdc40e72ae6",
            "06e8826c48b64f5eafcfd7dcab96e596",
            "c55efcc482e64957a621798549407d4c",
            "7f299bd5917f41ac8408702f4380cab0",
            "aee391ac35074fd292f4c3a536fa7e2f",
            "2dd98028a24b44d6bffbc55e9db537b1",
            "89aad114413b4666bd8f341d2dd10e05",
            "8c1108acae334f5c9686d75b7b9923e4"
          ]
        },
        "outputId": "700ebabc-9841-4081-bc79-6709dae46638"
      },
      "execution_count": null,
      "outputs": [
        {
          "output_type": "display_data",
          "data": {
            "text/plain": [
              "Downloading vocab.txt:   0%|          | 0.00/208k [00:00<?, ?B/s]"
            ],
            "application/vnd.jupyter.widget-view+json": {
              "version_major": 2,
              "version_minor": 0,
              "model_id": "12683f4d190a420e94c1d20bee5c1fdf"
            }
          },
          "metadata": {}
        },
        {
          "output_type": "display_data",
          "data": {
            "text/plain": [
              "Downloading tokenizer_config.json:   0%|          | 0.00/29.0 [00:00<?, ?B/s]"
            ],
            "application/vnd.jupyter.widget-view+json": {
              "version_major": 2,
              "version_minor": 0,
              "model_id": "c35cc7ea104f4894b9f0eb902cd9c19f"
            }
          },
          "metadata": {}
        },
        {
          "output_type": "display_data",
          "data": {
            "text/plain": [
              "Downloading config.json:   0%|          | 0.00/570 [00:00<?, ?B/s]"
            ],
            "application/vnd.jupyter.widget-view+json": {
              "version_major": 2,
              "version_minor": 0,
              "model_id": "be87f999bd6e40d49685355337ea7903"
            }
          },
          "metadata": {}
        },
        {
          "output_type": "display_data",
          "data": {
            "text/plain": [
              "Downloading tf_model.h5:   0%|          | 0.00/502M [00:00<?, ?B/s]"
            ],
            "application/vnd.jupyter.widget-view+json": {
              "version_major": 2,
              "version_minor": 0,
              "model_id": "aeca78e97c8c4a51b7d2b000590a9dd9"
            }
          },
          "metadata": {}
        },
        {
          "output_type": "stream",
          "name": "stderr",
          "text": [
            "Some layers from the model checkpoint at bert-base-cased were not used when initializing TFBertModel: ['nsp___cls', 'mlm___cls']\n",
            "- This IS expected if you are initializing TFBertModel from the checkpoint of a model trained on another task or with another architecture (e.g. initializing a BertForSequenceClassification model from a BertForPreTraining model).\n",
            "- This IS NOT expected if you are initializing TFBertModel from the checkpoint of a model that you expect to be exactly identical (initializing a BertForSequenceClassification model from a BertForSequenceClassification model).\n",
            "All the layers of TFBertModel were initialized from the model checkpoint at bert-base-cased.\n",
            "If your task is similar to the task the model of the checkpoint was trained on, you can already use TFBertModel for predictions without further training.\n"
          ]
        }
      ]
    },
    {
      "cell_type": "code",
      "source": [
        "max_length = 100                # set max_length\n",
        "\n",
        "\n",
        "all_train_examples = list(train_X)\n",
        "all_test_examples = list(test_X)\n",
        "\n",
        "\n",
        "x_train = bert_tokenizer(all_train_examples, \n",
        "              max_length=max_length,\n",
        "              truncation=True,\n",
        "              padding='max_length', \n",
        "              return_tensors='tf')\n",
        "\n",
        "y_train = tf.convert_to_tensor(list(train_y))\n",
        "\n",
        "x_test = bert_tokenizer(all_test_examples, \n",
        "              max_length=max_length,\n",
        "              truncation=True,\n",
        "              padding='max_length', \n",
        "              return_tensors='tf')\n",
        "\n",
        "y_test = tf.convert_to_tensor(list(test_y))"
      ],
      "metadata": {
        "id": "Tz3kbAVobIh7"
      },
      "execution_count": null,
      "outputs": []
    },
    {
      "cell_type": "code",
      "source": [
        "def create_bert_pooled_model(train_layers=-1,\n",
        "                          hidden_size = 100, \n",
        "                          dropout=0.3,\n",
        "                          learning_rate=0.00005):\n",
        "    \"\"\"\n",
        "    Build a simple classification model with BERT. Use the Pooled Ouutput for classification purposes\n",
        "    \"\"\"\n",
        "\n",
        "    bert_model = TFBertModel.from_pretrained('bert-base-cased')\n",
        "\n",
        "    # TO-DO: play around with restricting and not restricting BERT layers\n",
        "    #restrict training to the train_layers outer transformer layers\n",
        "    if not train_layers == -1:\n",
        "\n",
        "            retrain_layers = []\n",
        "\n",
        "            for retrain_layer_number in range(train_layers):\n",
        "\n",
        "                layer_code = '_' + str(11 - retrain_layer_number)\n",
        "                retrain_layers.append(layer_code)\n",
        "\n",
        "            for w in bert_model.weights:\n",
        "                if not any([x in w.name for x in retrain_layers]):\n",
        "                    w._trainable = False\n",
        "\n",
        "    input_ids = tf.keras.layers.Input(shape=(max_length,), dtype=tf.int64, name='input_ids_layer') #--SOLUTION--\n",
        "    token_type_ids = tf.keras.layers.Input(shape=(max_length,), dtype=tf.int64, name='token_type_ids_layer')\n",
        "    attention_mask = tf.keras.layers.Input(shape=(max_length,), dtype=tf.int64, name='attention_mask_layer')\n",
        "\n",
        "    ##bert_inputs = {'input_ids': input_ids,\n",
        "    #              'token_type_ids': token_type_ids,\n",
        "    #              'attention_mask': attention_mask\n",
        "    #               }\n",
        "\n",
        "    #bert_out = bert_model([input_ids, token_type_ids, attention_mask])\n",
        "\n",
        "    \n",
        "\n",
        "    bert_inputs = {'input_ids': input_ids,\n",
        "                   'token_type_ids': token_type_ids,\n",
        "                   'attention_mask': attention_mask}         \n",
        "\n",
        "    bert_out = bert_model(bert_inputs) \n",
        "\n",
        "    pooled_token = bert_out[1]\n",
        "\n",
        "    hidden = tf.keras.layers.Dense(hidden_size, activation='relu', name='hidden_layer')(pooled_token)\n",
        "    hidden = tf.keras.layers.Dropout(dropout)(hidden)  \n",
        "\n",
        "    classification = tf.keras.layers.Dense(1, activation='sigmoid',name='classification_layer')(hidden)\n",
        "\n",
        "    \n",
        "    classification_model = tf.keras.Model(inputs=[input_ids, token_type_ids, attention_mask], outputs=[classification])\n",
        "    \n",
        "    classification_model.compile(optimizer=tf.keras.optimizers.Adam(learning_rate=learning_rate),\n",
        "                            loss=tf.keras.losses.BinaryCrossentropy(from_logits=False), \n",
        "                            metrics='accuracy') \n",
        "\n",
        "\n",
        "    \n",
        "    return classification_model"
      ],
      "metadata": {
        "id": "P38CSU4MdCuk"
      },
      "execution_count": null,
      "outputs": []
    },
    {
      "cell_type": "code",
      "source": [
        "pooled_bert_model = create_bert_pooled_model()"
      ],
      "metadata": {
        "id": "G-EjxbRtdbjc",
        "colab": {
          "base_uri": "https://localhost:8080/"
        },
        "outputId": "0156c681-9652-49c8-b775-2fd55f0c4022"
      },
      "execution_count": null,
      "outputs": [
        {
          "output_type": "stream",
          "name": "stderr",
          "text": [
            "Some layers from the model checkpoint at bert-base-cased were not used when initializing TFBertModel: ['nsp___cls', 'mlm___cls']\n",
            "- This IS expected if you are initializing TFBertModel from the checkpoint of a model trained on another task or with another architecture (e.g. initializing a BertForSequenceClassification model from a BertForPreTraining model).\n",
            "- This IS NOT expected if you are initializing TFBertModel from the checkpoint of a model that you expect to be exactly identical (initializing a BertForSequenceClassification model from a BertForSequenceClassification model).\n",
            "All the layers of TFBertModel were initialized from the model checkpoint at bert-base-cased.\n",
            "If your task is similar to the task the model of the checkpoint was trained on, you can already use TFBertModel for predictions without further training.\n"
          ]
        }
      ]
    },
    {
      "cell_type": "code",
      "source": [
        "pooled_bert_model_history = pooled_bert_model.fit([x_train.input_ids, x_train.token_type_ids, x_train.attention_mask], \n",
        "                                                  y_train,   \n",
        "                                                  validation_data=([x_test.input_ids, x_test.token_type_ids, x_test.attention_mask], y_test),    \n",
        "                                                  batch_size=8, \n",
        "                                                  epochs=1)  "
      ],
      "metadata": {
        "id": "Z2H4_W9TddnM",
        "colab": {
          "base_uri": "https://localhost:8080/"
        },
        "outputId": "ae633791-d71c-4308-cc6e-f1b089055541"
      },
      "execution_count": null,
      "outputs": [
        {
          "output_type": "stream",
          "name": "stdout",
          "text": [
            "611/611 [==============================] - 54s 63ms/step - loss: 0.1119 - accuracy: 0.9650 - val_loss: 0.1023 - val_accuracy: 0.9771\n"
          ]
        }
      ]
    },
    {
      "cell_type": "code",
      "source": [
        ""
      ],
      "metadata": {
        "id": "3K2UBrszEDyP"
      },
      "execution_count": null,
      "outputs": []
    },
    {
      "cell_type": "code",
      "source": [
        "train_predict_labels = pooled_bert_model.predict([x_train.input_ids, x_train.token_type_ids, x_train.attention_mask])\n",
        "train_y_predict = train_predict_labels.round(0)"
      ],
      "metadata": {
        "id": "SQvNSj_Ihzt6"
      },
      "execution_count": null,
      "outputs": []
    },
    {
      "cell_type": "code",
      "source": [
        "test_predict_labels = pooled_bert_model.predict([x_test.input_ids, x_test.token_type_ids, x_test.attention_mask])\n",
        "test_y_predict = test_predict_labels.round(0)"
      ],
      "metadata": {
        "id": "tITeF3S-mNhh"
      },
      "execution_count": null,
      "outputs": []
    },
    {
      "cell_type": "markdown",
      "source": [
        "##### Train report"
      ],
      "metadata": {
        "id": "ZuDpR0Db0q3r"
      }
    },
    {
      "cell_type": "code",
      "source": [
        "sns.heatmap(confusion_matrix(np.array(train_y, int), np.array(train_y_predict.reshape(-1), int)), annot=True, fmt='g')  #annot=True to annotate cells, ftm='g' to disable scientific notation"
      ],
      "metadata": {
        "id": "t7sl94GmpB44",
        "colab": {
          "base_uri": "https://localhost:8080/",
          "height": 283
        },
        "outputId": "453ad805-276a-4812-aeba-7cb61143ccf3"
      },
      "execution_count": null,
      "outputs": [
        {
          "output_type": "execute_result",
          "data": {
            "text/plain": [
              "<matplotlib.axes._subplots.AxesSubplot at 0x7f50737c8150>"
            ]
          },
          "metadata": {},
          "execution_count": 59
        },
        {
          "output_type": "display_data",
          "data": {
            "text/plain": [
              "<Figure size 432x288 with 2 Axes>"
            ],
            "image/png": "[encoded data removed]"
          },
          "metadata": {
            "needs_background": "light"
          }
        }
      ]
    },
    {
      "cell_type": "code",
      "source": [
        "print_metrics('BERT + FCN, train data: ', np.array(train_y, int), train_y_predict)"
      ],
      "metadata": {
        "id": "6DPLZ7TMq5Ci",
        "colab": {
          "base_uri": "https://localhost:8080/"
        },
        "outputId": "0f5c21e6-5e94-4d7b-880f-3488f3fa2fdb"
      },
      "execution_count": null,
      "outputs": [
        {
          "output_type": "stream",
          "name": "stdout",
          "text": [
            "BERT + FCN, train data: : accuracy = 0.9853, precision = 0.9958, recall = 0.9331, f1 = 0.9635\n"
          ]
        }
      ]
    },
    {
      "cell_type": "markdown",
      "source": [
        "##### Test report"
      ],
      "metadata": {
        "id": "GSnDZLuR0uec"
      }
    },
    {
      "cell_type": "code",
      "source": [
        "sns.heatmap(confusion_matrix(np.array(test_y, int), np.array(test_y_predict.reshape(-1), int)), annot=True, fmt='g')  #annot=True to annotate cells, ftm='g' to disable scientific notation"
      ],
      "metadata": {
        "id": "fkVzGDvO0w_X",
        "colab": {
          "base_uri": "https://localhost:8080/",
          "height": 283
        },
        "outputId": "9650db09-d50a-4c0b-bb8f-6d441cf0706d"
      },
      "execution_count": null,
      "outputs": [
        {
          "output_type": "execute_result",
          "data": {
            "text/plain": [
              "<matplotlib.axes._subplots.AxesSubplot at 0x7f50737b4c10>"
            ]
          },
          "metadata": {},
          "execution_count": 61
        },
        {
          "output_type": "display_data",
          "data": {
            "text/plain": [
              "<Figure size 432x288 with 2 Axes>"
            ],
            "image/png": "[encoded data removed]"
          },
          "metadata": {
            "needs_background": "light"
          }
        }
      ]
    },
    {
      "cell_type": "code",
      "source": [
        "print_metrics('BERT + FCN, test data: ', np.array(test_y, int), test_y_predict)"
      ],
      "metadata": {
        "id": "AJTkYBdb0xZ4",
        "colab": {
          "base_uri": "https://localhost:8080/"
        },
        "outputId": "2ca373fe-efd7-48aa-c4b9-21bac0dc0eab"
      },
      "execution_count": null,
      "outputs": [
        {
          "output_type": "stream",
          "name": "stdout",
          "text": [
            "BERT + FCN, test data: : accuracy = 0.9771, precision = 0.9835, recall = 0.9087, f1 = 0.9447\n"
          ]
        }
      ]
    },
    {
      "cell_type": "markdown",
      "source": [
        "#### BERT Analysis"
      ],
      "metadata": {
        "id": "nvR_4nFjOZ8W"
      }
    },
    {
      "cell_type": "code",
      "source": [
        "train_y_predict = train_y_predict.ravel()"
      ],
      "metadata": {
        "id": "r9GIj68vnXge"
      },
      "execution_count": null,
      "outputs": []
    },
    {
      "cell_type": "code",
      "source": [
        "# spam examples\n",
        "data['text'][data[\"spam\"] == 1]"
      ],
      "metadata": {
        "id": "jDIZfakXgsOC",
        "colab": {
          "base_uri": "https://localhost:8080/"
        },
        "outputId": "d6901c13-a823-4ffd-9ed5-a4be821e7cff"
      },
      "execution_count": null,
      "outputs": [
        {
          "output_type": "execute_result",
          "data": {
            "text/plain": [
              "2       Free entry in 2 a wkly comp to win FA Cup fina...\n",
              "5       FreeMsg Hey there darling it's been 3 week's n...\n",
              "8       WINNER!! As a valued network customer you have...\n",
              "9       Had your mobile 11 months or more? U R entitle...\n",
              "11      SIX chances to win CASH! From 100 to 20,000 po...\n",
              "                              ...                        \n",
              "6102    You have passed the official certification onl...\n",
              "6103    Win The Big J@CKP0T Up To 1M PHP! 100 GET 100,...\n",
              "6104    Hi, I'm a Shopee Hiring Manager and I'm curren...\n",
              "6105    4 PCS SOLAR LIGHTS FOR ONLY 1,499 !\n",
              "Pinaka mur...\n",
              "6106    Sissy, 1P lang per bet kay cutt.ly/BingoPlus-P...\n",
              "Name: text, Length: 1280, dtype: string"
            ]
          },
          "metadata": {},
          "execution_count": 69
        }
      ]
    },
    {
      "cell_type": "code",
      "source": [
        "missclassified_text = train_X[train_y != train_y_predict]\n",
        "missclassified_label = train_y[train_y != train_y_predict]\n",
        "\n",
        "df_report = pd.DataFrame({'missclassified_text': missclassified_text, 'missclassified_true_label': missclassified_label})\n",
        "\n",
        "#df_report['missclassified_true_label'].value_counts()\n",
        "df_report"
      ],
      "metadata": {
        "id": "zhz2qnZqJHdX",
        "colab": {
          "base_uri": "https://localhost:8080/",
          "height": 424
        },
        "outputId": "30af5feb-28f9-4976-bea6-de6fd4b10409"
      },
      "execution_count": null,
      "outputs": [
        {
          "output_type": "execute_result",
          "data": {
            "text/plain": [
              "                                    missclassified_text  \\\n",
              "5037  You won't believe it but it's true. It's Incre...   \n",
              "1430  For sale - arsenal dartboard. Good condition b...   \n",
              "2115  Sunshine Hols. To claim ur med holiday send a ...   \n",
              "2247  Hi ya babe x u 4goten bout me?' scammers getti...   \n",
              "5770  I sexually Identify as a Gabe Newell. Ever sin...   \n",
              "...                                                 ...   \n",
              "1235  \"Hello-/@drivby-:0quit edrunk sorry iff pthis ...   \n",
              "5797  Globe: You’ve won the Netflix Mug in our Givea...   \n",
              "3574  You won't believe it but it's true. It's Incre...   \n",
              "2863  Adult 18 Content Your video will be with you s...   \n",
              "6075  My colleague who is a retired social worker wa...   \n",
              "\n",
              "      missclassified_true_label  \n",
              "5037                          1  \n",
              "1430                          1  \n",
              "2115                          1  \n",
              "2247                          1  \n",
              "5770                          1  \n",
              "...                         ...  \n",
              "1235                          0  \n",
              "5797                          1  \n",
              "3574                          1  \n",
              "2863                          1  \n",
              "6075                          1  \n",
              "\n",
              "[72 rows x 2 columns]"
            ],
            "text/html": [
              "\n",
              "  <div id=\"df-2e07d66b-55d6-4368-b4a3-11cd202543a4\">\n",
              "    <div class=\"colab-df-container\">\n",
              "      <div>\n",
              "<style scoped>\n",
              "    .dataframe tbody tr th:only-of-type {\n",
              "        vertical-align: middle;\n",
              "    }\n",
              "\n",
              "    .dataframe tbody tr th {\n",
              "        vertical-align: top;\n",
              "    }\n",
              "\n",
              "    .dataframe thead th {\n",
              "        text-align: right;\n",
              "    }\n",
              "</style>\n",
              "<table border=\"1\" class=\"dataframe\">\n",
              "  <thead>\n",
              "    <tr style=\"text-align: right;\">\n",
              "      <th></th>\n",
              "      <th>missclassified_text</th>\n",
              "      <th>missclassified_true_label</th>\n",
              "    </tr>\n",
              "  </thead>\n",
              "  <tbody>\n",
              "    <tr>\n",
              "      <th>5037</th>\n",
              "      <td>You won't believe it but it's true. It's Incre...</td>\n",
              "      <td>1</td>\n",
              "    </tr>\n",
              "    <tr>\n",
              "      <th>1430</th>\n",
              "      <td>For sale - arsenal dartboard. Good condition b...</td>\n",
              "      <td>1</td>\n",
              "    </tr>\n",
              "    <tr>\n",
              "      <th>2115</th>\n",
              "      <td>Sunshine Hols. To claim ur med holiday send a ...</td>\n",
              "      <td>1</td>\n",
              "    </tr>\n",
              "    <tr>\n",
              "      <th>2247</th>\n",
              "      <td>Hi ya babe x u 4goten bout me?' scammers getti...</td>\n",
              "      <td>1</td>\n",
              "    </tr>\n",
              "    <tr>\n",
              "      <th>5770</th>\n",
              "      <td>I sexually Identify as a Gabe Newell. Ever sin...</td>\n",
              "      <td>1</td>\n",
              "    </tr>\n",
              "    <tr>\n",
              "      <th>...</th>\n",
              "      <td>...</td>\n",
              "      <td>...</td>\n",
              "    </tr>\n",
              "    <tr>\n",
              "      <th>1235</th>\n",
              "      <td>\"Hello-/@drivby-:0quit edrunk sorry iff pthis ...</td>\n",
              "      <td>0</td>\n",
              "    </tr>\n",
              "    <tr>\n",
              "      <th>5797</th>\n",
              "      <td>Globe: You’ve won the Netflix Mug in our Givea...</td>\n",
              "      <td>1</td>\n",
              "    </tr>\n",
              "    <tr>\n",
              "      <th>3574</th>\n",
              "      <td>You won't believe it but it's true. It's Incre...</td>\n",
              "      <td>1</td>\n",
              "    </tr>\n",
              "    <tr>\n",
              "      <th>2863</th>\n",
              "      <td>Adult 18 Content Your video will be with you s...</td>\n",
              "      <td>1</td>\n",
              "    </tr>\n",
              "    <tr>\n",
              "      <th>6075</th>\n",
              "      <td>My colleague who is a retired social worker wa...</td>\n",
              "      <td>1</td>\n",
              "    </tr>\n",
              "  </tbody>\n",
              "</table>\n",
              "<p>72 rows × 2 columns</p>\n",
              "</div>\n",
              "      <button class=\"colab-df-convert\" onclick=\"convertToInteractive('df-2e07d66b-55d6-4368-b4a3-11cd202543a4')\"\n",
              "              title=\"Convert this dataframe to an interactive table.\"\n",
              "              style=\"display:none;\">\n",
              "        \n",
              "  <svg xmlns=\"http://www.w3.org/2000/svg\" height=\"24px\"viewBox=\"0 0 24 24\"\n",
              "       width=\"24px\">\n",
              "    <path d=\"M0 0h24v24H0V0z\" fill=\"none\"/>\n",
              "    <path d=\"M18.56 5.44l.94 2.06.94-2.06 2.06-.94-2.06-.94-.94-2.06-.94 2.06-2.06.94zm-11 1L8.5 8.5l.94-2.06 2.06-.94-2.06-.94L8.5 2.5l-.94 2.06-2.06.94zm10 10l.94 2.06.94-2.06 2.06-.94-2.06-.94-.94-2.06-.94 2.06-2.06.94z\"/><path d=\"M17.41 7.96l-1.37-1.37c-.4-.4-.92-.59-1.43-.59-.52 0-1.04.2-1.43.59L10.3 9.45l-7.72 7.72c-.78.78-.78 2.05 0 2.83L4 21.41c.39.39.9.59 1.41.59.51 0 1.02-.2 1.41-.59l7.78-7.78 2.81-2.81c.8-.78.8-2.07 0-2.86zM5.41 20L4 18.59l7.72-7.72 1.47 1.35L5.41 20z\"/>\n",
              "  </svg>\n",
              "      </button>\n",
              "      \n",
              "  <style>\n",
              "    .colab-df-container {\n",
              "      display:flex;\n",
              "      flex-wrap:wrap;\n",
              "      gap: 12px;\n",
              "    }\n",
              "\n",
              "    .colab-df-convert {\n",
              "      background-color: #E8F0FE;\n",
              "      border: none;\n",
              "      border-radius: 50%;\n",
              "      cursor: pointer;\n",
              "      display: none;\n",
              "      fill: #1967D2;\n",
              "      height: 32px;\n",
              "      padding: 0 0 0 0;\n",
              "      width: 32px;\n",
              "    }\n",
              "\n",
              "    .colab-df-convert:hover {\n",
              "      background-color: #E2EBFA;\n",
              "      box-shadow: 0px 1px 2px rgba(60, 64, 67, 0.3), 0px 1px 3px 1px rgba(60, 64, 67, 0.15);\n",
              "      fill: #174EA6;\n",
              "    }\n",
              "\n",
              "    [theme=dark] .colab-df-convert {\n",
              "      background-color: #3B4455;\n",
              "      fill: #D2E3FC;\n",
              "    }\n",
              "\n",
              "    [theme=dark] .colab-df-convert:hover {\n",
              "      background-color: #434B5C;\n",
              "      box-shadow: 0px 1px 3px 1px rgba(0, 0, 0, 0.15);\n",
              "      filter: drop-shadow(0px 1px 2px rgba(0, 0, 0, 0.3));\n",
              "      fill: #FFFFFF;\n",
              "    }\n",
              "  </style>\n",
              "\n",
              "      <script>\n",
              "        const buttonEl =\n",
              "          document.querySelector('#df-2e07d66b-55d6-4368-b4a3-11cd202543a4 button.colab-df-convert');\n",
              "        buttonEl.style.display =\n",
              "          google.colab.kernel.accessAllowed ? 'block' : 'none';\n",
              "\n",
              "        async function convertToInteractive(key) {\n",
              "          const element = document.querySelector('#df-2e07d66b-55d6-4368-b4a3-11cd202543a4');\n",
              "          const dataTable =\n",
              "            await google.colab.kernel.invokeFunction('convertToInteractive',\n",
              "                                                     [key], {});\n",
              "          if (!dataTable) return;\n",
              "\n",
              "          const docLinkHtml = 'Like what you see? Visit the ' +\n",
              "            '<a target=\"_blank\" href=https://colab.research.google.com/notebooks/data_table.ipynb>data table notebook</a>'\n",
              "            + ' to learn more about interactive tables.';\n",
              "          element.innerHTML = '';\n",
              "          dataTable['output_type'] = 'display_data';\n",
              "          await google.colab.output.renderOutput(dataTable, element);\n",
              "          const docLink = document.createElement('div');\n",
              "          docLink.innerHTML = docLinkHtml;\n",
              "          element.appendChild(docLink);\n",
              "        }\n",
              "      </script>\n",
              "    </div>\n",
              "  </div>\n",
              "  "
            ]
          },
          "metadata": {},
          "execution_count": 70
        }
      ]
    },
    {
      "cell_type": "code",
      "source": [
        "#train_X[train_y != train_y_predict].loc[1460]"
      ],
      "metadata": {
        "id": "NS5sFIWen1xA"
      },
      "execution_count": null,
      "outputs": []
    },
    {
      "cell_type": "code",
      "source": [
        "df_report.loc[2965]"
      ],
      "metadata": {
        "id": "Dg1gvY-gKQXr",
        "colab": {
          "base_uri": "https://localhost:8080/"
        },
        "outputId": "1652b20c-d54c-44cb-909d-a336caaf1be5"
      },
      "execution_count": null,
      "outputs": [
        {
          "output_type": "execute_result",
          "data": {
            "text/plain": [
              "missclassified_text          Do you ever notice that when you're driving, a...\n",
              "missclassified_true_label                                                    1\n",
              "Name: 2965, dtype: object"
            ]
          },
          "metadata": {},
          "execution_count": 72
        }
      ]
    },
    {
      "cell_type": "markdown",
      "source": [
        "##### Baseline BERT observations\n",
        "-----------------------------\n",
        "\n",
        "As expected more text messages that were SPAM got classified as HAM because HAM is the majority class in our dataset.\n",
        "\n",
        "I looked at a couple examples of texts that got misclassified as HAM and they're tricky to tell if it's a ham or spam messages. The 2 examples contained generic sayings that even a human could mistakenly classify as spam.\n",
        "\n",
        "\n",
        "*Let Ur Heart Be Ur Compass Ur Mind Ur Map Ur Soul Ur Guide And U Will Never loose in world....gnun - Sent via WAY2SMS.COM*\n",
        "\n",
        "*1Apple/Day=No Doctor. 1Tulsi Leaf/Day=No Cancer. 1Lemon/Day=No Fat. 1Cup Milk/day=No Bone Problms 3 Litres Watr/Day=No Diseases Snd ths 2 Whom U Care..:-)*\n",
        "\n",
        "\n",
        "In general the misclassified messages are hard to tell for certain that they are ham or spam.\n"
      ],
      "metadata": {
        "id": "8skK76XCHeC-"
      }
    },
    {
      "cell_type": "markdown",
      "source": [
        "#### BERT + CNN"
      ],
      "metadata": {
        "id": "wcXX9CM28l71"
      }
    },
    {
      "cell_type": "code",
      "source": [
        "def create_bert_cnn_model(train_layers=-1,\n",
        "                          hidden_size = 100, \n",
        "                          learning_rate=0.00005,\n",
        "                          num_filters = [100, 100, 50, 25],\n",
        "                          kernel_sizes = [3, 5, 10, 20],\n",
        "                          dense_layer_dims = 100,\n",
        "                          dropout = 0.3):\n",
        "    \"\"\"\n",
        "    Build a  classification model with BERT, where you apply CNN layers  to the BERT output\n",
        "    \"\"\"\n",
        "\n",
        "    ### YOUR CODE HERE\n",
        "\n",
        "    bert_model = TFBertModel.from_pretrained('bert-base-cased')\n",
        "\n",
        "    # TO-DO: play around with restricting and not restricting BERT layers\n",
        "    #restrict training to the train_layers outer transformer layers\n",
        "    if not train_layers == -1:\n",
        "\n",
        "            retrain_layers = []\n",
        "\n",
        "            for retrain_layer_number in range(train_layers):\n",
        "\n",
        "                layer_code = '_' + str(11 - retrain_layer_number)\n",
        "                retrain_layers.append(layer_code)\n",
        "\n",
        "            for w in bert_model.weights:\n",
        "                if not any([x in w.name for x in retrain_layers]):\n",
        "                    w._trainable = False\n",
        "    \n",
        "    input_ids = tf.keras.layers.Input(shape=(max_length,), dtype=tf.int64, name='input_ids_layer') \n",
        "    token_type_ids = tf.keras.layers.Input(shape=(max_length,), dtype=tf.int64, name='token_type_ids_layer')\n",
        "    attention_mask = tf.keras.layers.Input(shape=(max_length,), dtype=tf.int64, name='attention_mask_layer')\n",
        "\n",
        "    # bert_inputs = {'input_ids': input_ids} \n",
        "    bert_inputs = {'input_ids': input_ids,\n",
        "                'token_type_ids': token_type_ids,\n",
        "                'attention_mask': attention_mask}      \n",
        "\n",
        "    bert_out = bert_model(bert_inputs) \n",
        "\n",
        "    pooled_token = bert_out[0][:, 1:-1]\n",
        "\n",
        "    # CNN -----\n",
        "\n",
        "    conv_layers_for_all_kernel_sizes = []\n",
        "    for kernel_size, filters in zip(kernel_sizes, num_filters):\n",
        "        conv_layer = keras.layers.Conv1D(filters=filters, kernel_size=kernel_size, activation='relu')(pooled_token)\n",
        "        conv_layer = keras.layers.GlobalMaxPooling1D()(conv_layer)\n",
        "        conv_layers_for_all_kernel_sizes.append(conv_layer)\n",
        "\n",
        "    h = keras.layers.concatenate(conv_layers_for_all_kernel_sizes, axis=1)\n",
        "    #h = keras.layers.Dropout(rate=dropout)(h)\n",
        "\n",
        "    h = tf.keras.layers.Dense(dense_layer_dims, activation='relu')(h)\n",
        "    h = tf.keras.layers.Dropout(rate=dropout)(h) \n",
        "\n",
        "    # -----\n",
        "\n",
        "    classification = tf.keras.layers.Dense(1, activation='sigmoid',name='classification_layer')(h)\n",
        "\n",
        "    # classification_model = tf.keras.Model(inputs=[input_ids], outputs=[classification])\n",
        "    classification_model = tf.keras.Model(inputs=[input_ids, token_type_ids, attention_mask], outputs=[classification])\n",
        "    \n",
        "    classification_model.compile(optimizer=tf.keras.optimizers.Adam(learning_rate=learning_rate),\n",
        "                            loss=tf.keras.losses.BinaryCrossentropy(from_logits=False), \n",
        "                            metrics='accuracy')\n",
        "\n",
        "\n",
        "    ### END YOUR CODE\n",
        "    \n",
        "    return classification_model"
      ],
      "metadata": {
        "id": "jKXuto0I8pNY"
      },
      "execution_count": null,
      "outputs": []
    },
    {
      "cell_type": "code",
      "source": [
        "cnn_bert_model = create_bert_cnn_model()\n",
        "\n",
        "cnn_bert_model_history = cnn_bert_model.fit([x_train.input_ids, x_train.token_type_ids, x_train.attention_mask], \n",
        "                                            y_train,   \n",
        "                                            validation_data=([x_test.input_ids, x_test.token_type_ids, x_test.attention_mask], y_test),    \n",
        "                                            batch_size=8, \n",
        "                                            epochs=1)  "
      ],
      "metadata": {
        "id": "fkQ5v7lI9Ppr",
        "colab": {
          "base_uri": "https://localhost:8080/"
        },
        "outputId": "c8a38b16-f805-49be-9582-96f9fc27223d"
      },
      "execution_count": null,
      "outputs": [
        {
          "output_type": "stream",
          "name": "stderr",
          "text": [
            "Some layers from the model checkpoint at bert-base-cased were not used when initializing TFBertModel: ['nsp___cls', 'mlm___cls']\n",
            "- This IS expected if you are initializing TFBertModel from the checkpoint of a model trained on another task or with another architecture (e.g. initializing a BertForSequenceClassification model from a BertForPreTraining model).\n",
            "- This IS NOT expected if you are initializing TFBertModel from the checkpoint of a model that you expect to be exactly identical (initializing a BertForSequenceClassification model from a BertForSequenceClassification model).\n",
            "All the layers of TFBertModel were initialized from the model checkpoint at bert-base-cased.\n",
            "If your task is similar to the task the model of the checkpoint was trained on, you can already use TFBertModel for predictions without further training.\n"
          ]
        },
        {
          "output_type": "stream",
          "name": "stdout",
          "text": [
            "WARNING:tensorflow:Gradients do not exist for variables ['tf_bert_model_2/bert/pooler/dense/kernel:0', 'tf_bert_model_2/bert/pooler/dense/bias:0'] when minimizing the loss. If you're using `model.compile()`, did you forget to provide a `loss`argument?\n",
            "WARNING:tensorflow:Gradients do not exist for variables ['tf_bert_model_2/bert/pooler/dense/kernel:0', 'tf_bert_model_2/bert/pooler/dense/bias:0'] when minimizing the loss. If you're using `model.compile()`, did you forget to provide a `loss`argument?\n",
            "611/611 [==============================] - 56s 65ms/step - loss: 0.0688 - accuracy: 0.9785 - val_loss: 0.1104 - val_accuracy: 0.9746\n"
          ]
        }
      ]
    },
    {
      "cell_type": "code",
      "source": [
        "predict_labels = cnn_bert_model.predict([x_train.input_ids, x_train.token_type_ids, x_train.attention_mask])\n",
        "train_y_predict = predict_labels.round(0)\n",
        "test_predict_labels = cnn_bert_model.predict([x_test.input_ids, x_test.token_type_ids, x_test.attention_mask])\n",
        "test_y_predict = test_predict_labels.round(0)"
      ],
      "metadata": {
        "id": "zw3v5VG0BAjT"
      },
      "execution_count": null,
      "outputs": []
    },
    {
      "cell_type": "code",
      "source": [
        ""
      ],
      "metadata": {
        "id": "ORW4C-bR3Z_v"
      },
      "execution_count": null,
      "outputs": []
    },
    {
      "cell_type": "markdown",
      "source": [
        "##### Train report"
      ],
      "metadata": {
        "id": "5Gp9o1HI2tC1"
      }
    },
    {
      "cell_type": "code",
      "source": [
        "sns.heatmap(confusion_matrix(np.array(train_y, int), np.array(train_y_predict.reshape(-1), int)), annot=True, fmt='g')  #annot=True to annotate cells, ftm='g' to disable scientific notation"
      ],
      "metadata": {
        "id": "IW32_54PCpg1",
        "colab": {
          "base_uri": "https://localhost:8080/",
          "height": 283
        },
        "outputId": "b226dce7-569f-4689-8562-dbd420b5a48e"
      },
      "execution_count": null,
      "outputs": [
        {
          "output_type": "execute_result",
          "data": {
            "text/plain": [
              "<matplotlib.axes._subplots.AxesSubplot at 0x7f4fb84b2390>"
            ]
          },
          "metadata": {},
          "execution_count": 76
        },
        {
          "output_type": "display_data",
          "data": {
            "text/plain": [
              "<Figure size 432x288 with 2 Axes>"
            ],
            "image/png": "[encoded data removed]"
          },
          "metadata": {
            "needs_background": "light"
          }
        }
      ]
    },
    {
      "cell_type": "code",
      "source": [
        "print_metrics('BERT + CNN, train data: ', np.array(train_y, int), train_y_predict)"
      ],
      "metadata": {
        "id": "msQ5VDvRCrpQ",
        "colab": {
          "base_uri": "https://localhost:8080/"
        },
        "outputId": "cee69707-56c8-46ca-d267-2249c3b38753"
      },
      "execution_count": null,
      "outputs": [
        {
          "output_type": "stream",
          "name": "stdout",
          "text": [
            "BERT + CNN, train data: : accuracy = 0.9834, precision = 0.9947, recall = 0.9253, f1 = 0.9587\n"
          ]
        }
      ]
    },
    {
      "cell_type": "markdown",
      "source": [
        "##### Test report"
      ],
      "metadata": {
        "id": "4OnfDJiJ3khq"
      }
    },
    {
      "cell_type": "code",
      "source": [
        "sns.heatmap(confusion_matrix(np.array(test_y, int), np.array(test_y_predict.reshape(-1), int)), annot=True, fmt='g')  #annot=True to annotate cells, ftm='g' to disable scientific notation"
      ],
      "metadata": {
        "id": "3Yvu9Rsk4Dd-",
        "colab": {
          "base_uri": "https://localhost:8080/",
          "height": 283
        },
        "outputId": "928424f4-f021-430b-9d95-4bf4d25fecae"
      },
      "execution_count": null,
      "outputs": [
        {
          "output_type": "execute_result",
          "data": {
            "text/plain": [
              "<matplotlib.axes._subplots.AxesSubplot at 0x7f4fb4b09990>"
            ]
          },
          "metadata": {},
          "execution_count": 77
        },
        {
          "output_type": "display_data",
          "data": {
            "text/plain": [
              "<Figure size 432x288 with 2 Axes>"
            ],
            "image/png": "[encoded data removed]"
          },
          "metadata": {
            "needs_background": "light"
          }
        }
      ]
    },
    {
      "cell_type": "code",
      "source": [
        "print_metrics('BERT + CNN, test data: ', np.array(test_y, int), test_y_predict)"
      ],
      "metadata": {
        "id": "2lQNG1Oz3o7M",
        "colab": {
          "base_uri": "https://localhost:8080/"
        },
        "outputId": "6a67cae2-3cde-424e-d35d-09faab99ed58"
      },
      "execution_count": null,
      "outputs": [
        {
          "output_type": "stream",
          "name": "stdout",
          "text": [
            "BERT + CNN, test data: : accuracy = 0.9746, precision = 0.9715, recall = 0.9087, f1 = 0.9391\n"
          ]
        }
      ]
    },
    {
      "cell_type": "markdown",
      "source": [
        "- Train\n",
        "\n",
        "  - Word2Vec embeddings\n",
        "    - CNN  |  accuracy = 0.9336, precision = 0.8344, recall = 0.8700, f1 = 0.8519\n",
        "    - LSTM  |  accuracy = 0.9172, precision = 0.8217, recall = 0.7956, f1 = 0.8085\n",
        "\n",
        "  - BERT with\n",
        "    - Fully connected network  |  accuracy = 0.9873, precision = 0.9827, recall = 0.9555, f1 = 0.9689\n",
        "    - CNN  |  accuracy = 0.9865, precision = 1.0000, recall = 0.9348, f1 = 0.9663\n",
        "\n",
        "- Test\n",
        "\n",
        "  - Word2Vec embeddings\n",
        "    - W2V + CNN, test data: : accuracy = 0.8949, precision = 0.7567, recall = 0.7773, f1 = 0.7669\n",
        "    - W2V + LSTM model, test data: : accuracy = 0.8897, precision = 0.7452, recall = 0.7656, f1 = 0.7553\n",
        "\n",
        "  - BERT with\n",
        "    - BERT + FCN, test data: : accuracy = 0.9885, precision = 0.9841, recall = 0.9611, f1 = 0.9724\n",
        "    - BERT + CNN, test data: : accuracy = 0.9828, precision = 0.9958, recall = 0.9222, f1 = 0.9576\n"
      ],
      "metadata": {
        "id": "1feUh1bIDy5d"
      }
    },
    {
      "cell_type": "markdown",
      "source": [
        "## Tuned models"
      ],
      "metadata": {
        "id": "NlfXqmUi8a3I"
      }
    },
    {
      "cell_type": "markdown",
      "source": [
        "#### BERT tuning"
      ],
      "metadata": {
        "id": "scIsHg775HLa"
      }
    },
    {
      "cell_type": "markdown",
      "source": [
        "**Experiment 1:** Increase the number of epochs because the training kept on improving in the first epoch and we may want to have a couple passes through the model in order to find the most optimal weights for this classification task. Also tune if freezing or unfreezing BERT layers will improve performance. I assume that unfreezing the layers may introduce too many parameters and the model will overfit. But we're expecting the number of epochs to increase performance."
      ],
      "metadata": {
        "id": "TBGWQOpC56YA"
      }
    },
    {
      "cell_type": "code",
      "source": [
        "pooled_bert_model = create_bert_pooled_model()"
      ],
      "metadata": {
        "id": "sSut37Sb5ZXj",
        "colab": {
          "base_uri": "https://localhost:8080/"
        },
        "outputId": "8fe454a5-83d0-4a05-bf43-ded22d6b0bcf"
      },
      "execution_count": null,
      "outputs": [
        {
          "output_type": "stream",
          "name": "stderr",
          "text": [
            "Some layers from the model checkpoint at bert-base-cased were not used when initializing TFBertModel: ['nsp___cls', 'mlm___cls']\n",
            "- This IS expected if you are initializing TFBertModel from the checkpoint of a model trained on another task or with another architecture (e.g. initializing a BertForSequenceClassification model from a BertForPreTraining model).\n",
            "- This IS NOT expected if you are initializing TFBertModel from the checkpoint of a model that you expect to be exactly identical (initializing a BertForSequenceClassification model from a BertForSequenceClassification model).\n",
            "All the layers of TFBertModel were initialized from the model checkpoint at bert-base-cased.\n",
            "If your task is similar to the task the model of the checkpoint was trained on, you can already use TFBertModel for predictions without further training.\n"
          ]
        }
      ]
    },
    {
      "cell_type": "code",
      "source": [
        "pooled_bert_model_history = pooled_bert_model.fit([x_train.input_ids, x_train.token_type_ids, x_train.attention_mask], \n",
        "                                                  y_train,   \n",
        "                                                  validation_data=([x_test.input_ids, x_test.token_type_ids, x_test.attention_mask], y_test),    \n",
        "                                                  batch_size=8, \n",
        "                                                  epochs=3)  "
      ],
      "metadata": {
        "id": "g5xRcuyI5xJY",
        "colab": {
          "base_uri": "https://localhost:8080/"
        },
        "outputId": "8258373f-99f8-4b34-cc2e-eaa999e9bf22"
      },
      "execution_count": null,
      "outputs": [
        {
          "output_type": "stream",
          "name": "stdout",
          "text": [
            "Epoch 1/3\n",
            "611/611 [==============================] - 53s 61ms/step - loss: 0.0858 - accuracy: 0.9750 - val_loss: 0.1048 - val_accuracy: 0.9763\n",
            "Epoch 2/3\n",
            "611/611 [==============================] - 34s 56ms/step - loss: 0.0391 - accuracy: 0.9894 - val_loss: 0.0605 - val_accuracy: 0.9869\n",
            "Epoch 3/3\n",
            "611/611 [==============================] - 34s 56ms/step - loss: 0.0536 - accuracy: 0.9853 - val_loss: 0.1682 - val_accuracy: 0.9370\n"
          ]
        }
      ]
    },
    {
      "cell_type": "code",
      "source": [
        "train_predict_labels = pooled_bert_model.predict([x_train.input_ids, x_train.token_type_ids, x_train.attention_mask])\n",
        "train_y_predict = train_predict_labels.round(0)"
      ],
      "metadata": {
        "id": "i1Zhlh2l8PWl"
      },
      "execution_count": null,
      "outputs": []
    },
    {
      "cell_type": "code",
      "source": [
        "test_predict_labels = pooled_bert_model.predict([x_test.input_ids, x_test.token_type_ids, x_test.attention_mask])\n",
        "test_y_predict = test_predict_labels.round(0)"
      ],
      "metadata": {
        "id": "SmBMa6qr8VSY"
      },
      "execution_count": null,
      "outputs": []
    },
    {
      "cell_type": "code",
      "source": [
        "# train\n",
        "sns.heatmap(confusion_matrix(np.array(train_y, int), np.array(train_y_predict.reshape(-1), int)), annot=True, fmt='g')  #annot=True to annotate cells, ftm='g' to disable scientific notation"
      ],
      "metadata": {
        "id": "_fwXVGMy8hgd",
        "colab": {
          "base_uri": "https://localhost:8080/",
          "height": 283
        },
        "outputId": "5b4e43b4-40f9-447a-ae22-27b73f103e40"
      },
      "execution_count": null,
      "outputs": [
        {
          "output_type": "execute_result",
          "data": {
            "text/plain": [
              "<matplotlib.axes._subplots.AxesSubplot at 0x7f501e9af650>"
            ]
          },
          "metadata": {},
          "execution_count": 84
        },
        {
          "output_type": "display_data",
          "data": {
            "text/plain": [
              "<Figure size 432x288 with 2 Axes>"
            ],
            "image/png": "[encoded data removed]"
          },
          "metadata": {
            "needs_background": "light"
          }
        }
      ]
    },
    {
      "cell_type": "code",
      "source": [
        "# test\n",
        "sns.heatmap(confusion_matrix(np.array(test_y, int), np.array(test_y_predict.reshape(-1), int)), annot=True, fmt='g')  #annot=True to annotate cells, ftm='g' to disable scientific notation"
      ],
      "metadata": {
        "id": "ujsahj568sx0",
        "colab": {
          "base_uri": "https://localhost:8080/",
          "height": 283
        },
        "outputId": "73d6dc68-4c7d-4543-d774-05c72a15d59d"
      },
      "execution_count": null,
      "outputs": [
        {
          "output_type": "execute_result",
          "data": {
            "text/plain": [
              "<matplotlib.axes._subplots.AxesSubplot at 0x7f501e9155d0>"
            ]
          },
          "metadata": {},
          "execution_count": 85
        },
        {
          "output_type": "display_data",
          "data": {
            "text/plain": [
              "<Figure size 432x288 with 2 Axes>"
            ],
            "image/png": "[encoded data removed]"
          },
          "metadata": {
            "needs_background": "light"
          }
        }
      ]
    },
    {
      "cell_type": "code",
      "source": [
        "# train\n",
        "print_metrics('BERT 3e + FCN, train data: ', np.array(train_y, int), train_y_predict)"
      ],
      "metadata": {
        "id": "8MZXVo-w82-X",
        "colab": {
          "base_uri": "https://localhost:8080/"
        },
        "outputId": "6d319537-f87f-49db-bfe3-bb6395f99f5c"
      },
      "execution_count": null,
      "outputs": [
        {
          "output_type": "stream",
          "name": "stdout",
          "text": [
            "BERT 3e + FCN, train data: : accuracy = 0.9609, precision = 0.8465, recall = 0.9921, f1 = 0.9135\n"
          ]
        }
      ]
    },
    {
      "cell_type": "code",
      "source": [
        "# test\n",
        "print_metrics('BERT 3e + FCN, test data: ', np.array(test_y, int), test_y_predict)"
      ],
      "metadata": {
        "id": "Qe85CHhs86_7",
        "colab": {
          "base_uri": "https://localhost:8080/"
        },
        "outputId": "7bb8996f-a04b-473e-aceb-510d41467f08"
      },
      "execution_count": null,
      "outputs": [
        {
          "output_type": "stream",
          "name": "stdout",
          "text": [
            "BERT 3e + FCN, test data: : accuracy = 0.9370, precision = 0.7888, recall = 0.9658, f1 = 0.8684\n"
          ]
        }
      ]
    },
    {
      "cell_type": "code",
      "source": [
        "# train\n",
        "missclassified_text = train_X[train_y != train_y_predict.reshape(-1)]\n",
        "missclassified_label = train_y[train_y != train_y_predict.reshape(-1)]\n",
        "\n",
        "df_report = pd.DataFrame({'missclassified_text': missclassified_text, 'true_label': missclassified_label})\n",
        "\n",
        "df_report"
      ],
      "metadata": {
        "id": "dOsSKjxl_-Hs",
        "colab": {
          "base_uri": "https://localhost:8080/",
          "height": 424
        },
        "outputId": "1e4fafc4-e7e5-41bd-bbfd-6efd55cee9ca"
      },
      "execution_count": null,
      "outputs": [
        {
          "output_type": "execute_result",
          "data": {
            "text/plain": [
              "                                    missclassified_text  true_label\n",
              "838   Sir, I have been late in paying rent for the p...           0\n",
              "3430  I don't know jack shit about anything or i'd s...           0\n",
              "4111  Yo, you gonna still be in stock tomorrow/today...           0\n",
              "4491  My computer just fried the only essential part...           0\n",
              "4529  HOW ARE U? I HAVE MISSED U! I HAVENT BEEN UP 2...           0\n",
              "...                                                 ...         ...\n",
              "323   cud u tell ppl im gona b a bit l8 cos 2 buses ...           0\n",
              "342   I take it the post has come then! You must hav...           0\n",
              "1897  I tot u outside cos darren say u come shopping...           0\n",
              "1159                   Hey! There's veggie pizza... :/\n",
              "           0\n",
              "3454  Nowadays people are notixiquating the laxinorf...           0\n",
              "\n",
              "[191 rows x 2 columns]"
            ],
            "text/html": [
              "\n",
              "  <div id=\"df-cf149ccb-0176-4f22-98b4-03d1e1900c99\">\n",
              "    <div class=\"colab-df-container\">\n",
              "      <div>\n",
              "<style scoped>\n",
              "    .dataframe tbody tr th:only-of-type {\n",
              "        vertical-align: middle;\n",
              "    }\n",
              "\n",
              "    .dataframe tbody tr th {\n",
              "        vertical-align: top;\n",
              "    }\n",
              "\n",
              "    .dataframe thead th {\n",
              "        text-align: right;\n",
              "    }\n",
              "</style>\n",
              "<table border=\"1\" class=\"dataframe\">\n",
              "  <thead>\n",
              "    <tr style=\"text-align: right;\">\n",
              "      <th></th>\n",
              "      <th>missclassified_text</th>\n",
              "      <th>true_label</th>\n",
              "    </tr>\n",
              "  </thead>\n",
              "  <tbody>\n",
              "    <tr>\n",
              "      <th>838</th>\n",
              "      <td>Sir, I have been late in paying rent for the p...</td>\n",
              "      <td>0</td>\n",
              "    </tr>\n",
              "    <tr>\n",
              "      <th>3430</th>\n",
              "      <td>I don't know jack shit about anything or i'd s...</td>\n",
              "      <td>0</td>\n",
              "    </tr>\n",
              "    <tr>\n",
              "      <th>4111</th>\n",
              "      <td>Yo, you gonna still be in stock tomorrow/today...</td>\n",
              "      <td>0</td>\n",
              "    </tr>\n",
              "    <tr>\n",
              "      <th>4491</th>\n",
              "      <td>My computer just fried the only essential part...</td>\n",
              "      <td>0</td>\n",
              "    </tr>\n",
              "    <tr>\n",
              "      <th>4529</th>\n",
              "      <td>HOW ARE U? I HAVE MISSED U! I HAVENT BEEN UP 2...</td>\n",
              "      <td>0</td>\n",
              "    </tr>\n",
              "    <tr>\n",
              "      <th>...</th>\n",
              "      <td>...</td>\n",
              "      <td>...</td>\n",
              "    </tr>\n",
              "    <tr>\n",
              "      <th>323</th>\n",
              "      <td>cud u tell ppl im gona b a bit l8 cos 2 buses ...</td>\n",
              "      <td>0</td>\n",
              "    </tr>\n",
              "    <tr>\n",
              "      <th>342</th>\n",
              "      <td>I take it the post has come then! You must hav...</td>\n",
              "      <td>0</td>\n",
              "    </tr>\n",
              "    <tr>\n",
              "      <th>1897</th>\n",
              "      <td>I tot u outside cos darren say u come shopping...</td>\n",
              "      <td>0</td>\n",
              "    </tr>\n",
              "    <tr>\n",
              "      <th>1159</th>\n",
              "      <td>Hey! There's veggie pizza... :/</td>\n",
              "      <td>0</td>\n",
              "    </tr>\n",
              "    <tr>\n",
              "      <th>3454</th>\n",
              "      <td>Nowadays people are notixiquating the laxinorf...</td>\n",
              "      <td>0</td>\n",
              "    </tr>\n",
              "  </tbody>\n",
              "</table>\n",
              "<p>191 rows × 2 columns</p>\n",
              "</div>\n",
              "      <button class=\"colab-df-convert\" onclick=\"convertToInteractive('df-cf149ccb-0176-4f22-98b4-03d1e1900c99')\"\n",
              "              title=\"Convert this dataframe to an interactive table.\"\n",
              "              style=\"display:none;\">\n",
              "        \n",
              "  <svg xmlns=\"http://www.w3.org/2000/svg\" height=\"24px\"viewBox=\"0 0 24 24\"\n",
              "       width=\"24px\">\n",
              "    <path d=\"M0 0h24v24H0V0z\" fill=\"none\"/>\n",
              "    <path d=\"M18.56 5.44l.94 2.06.94-2.06 2.06-.94-2.06-.94-.94-2.06-.94 2.06-2.06.94zm-11 1L8.5 8.5l.94-2.06 2.06-.94-2.06-.94L8.5 2.5l-.94 2.06-2.06.94zm10 10l.94 2.06.94-2.06 2.06-.94-2.06-.94-.94-2.06-.94 2.06-2.06.94z\"/><path d=\"M17.41 7.96l-1.37-1.37c-.4-.4-.92-.59-1.43-.59-.52 0-1.04.2-1.43.59L10.3 9.45l-7.72 7.72c-.78.78-.78 2.05 0 2.83L4 21.41c.39.39.9.59 1.41.59.51 0 1.02-.2 1.41-.59l7.78-7.78 2.81-2.81c.8-.78.8-2.07 0-2.86zM5.41 20L4 18.59l7.72-7.72 1.47 1.35L5.41 20z\"/>\n",
              "  </svg>\n",
              "      </button>\n",
              "      \n",
              "  <style>\n",
              "    .colab-df-container {\n",
              "      display:flex;\n",
              "      flex-wrap:wrap;\n",
              "      gap: 12px;\n",
              "    }\n",
              "\n",
              "    .colab-df-convert {\n",
              "      background-color: #E8F0FE;\n",
              "      border: none;\n",
              "      border-radius: 50%;\n",
              "      cursor: pointer;\n",
              "      display: none;\n",
              "      fill: #1967D2;\n",
              "      height: 32px;\n",
              "      padding: 0 0 0 0;\n",
              "      width: 32px;\n",
              "    }\n",
              "\n",
              "    .colab-df-convert:hover {\n",
              "      background-color: #E2EBFA;\n",
              "      box-shadow: 0px 1px 2px rgba(60, 64, 67, 0.3), 0px 1px 3px 1px rgba(60, 64, 67, 0.15);\n",
              "      fill: #174EA6;\n",
              "    }\n",
              "\n",
              "    [theme=dark] .colab-df-convert {\n",
              "      background-color: #3B4455;\n",
              "      fill: #D2E3FC;\n",
              "    }\n",
              "\n",
              "    [theme=dark] .colab-df-convert:hover {\n",
              "      background-color: #434B5C;\n",
              "      box-shadow: 0px 1px 3px 1px rgba(0, 0, 0, 0.15);\n",
              "      filter: drop-shadow(0px 1px 2px rgba(0, 0, 0, 0.3));\n",
              "      fill: #FFFFFF;\n",
              "    }\n",
              "  </style>\n",
              "\n",
              "      <script>\n",
              "        const buttonEl =\n",
              "          document.querySelector('#df-cf149ccb-0176-4f22-98b4-03d1e1900c99 button.colab-df-convert');\n",
              "        buttonEl.style.display =\n",
              "          google.colab.kernel.accessAllowed ? 'block' : 'none';\n",
              "\n",
              "        async function convertToInteractive(key) {\n",
              "          const element = document.querySelector('#df-cf149ccb-0176-4f22-98b4-03d1e1900c99');\n",
              "          const dataTable =\n",
              "            await google.colab.kernel.invokeFunction('convertToInteractive',\n",
              "                                                     [key], {});\n",
              "          if (!dataTable) return;\n",
              "\n",
              "          const docLinkHtml = 'Like what you see? Visit the ' +\n",
              "            '<a target=\"_blank\" href=https://colab.research.google.com/notebooks/data_table.ipynb>data table notebook</a>'\n",
              "            + ' to learn more about interactive tables.';\n",
              "          element.innerHTML = '';\n",
              "          dataTable['output_type'] = 'display_data';\n",
              "          await google.colab.output.renderOutput(dataTable, element);\n",
              "          const docLink = document.createElement('div');\n",
              "          docLink.innerHTML = docLinkHtml;\n",
              "          element.appendChild(docLink);\n",
              "        }\n",
              "      </script>\n",
              "    </div>\n",
              "  </div>\n",
              "  "
            ]
          },
          "metadata": {},
          "execution_count": 88
        }
      ]
    },
    {
      "cell_type": "code",
      "source": [
        "# test\n",
        "missclassified_text = test_X[np.array(test_y, int) != test_y_predict.reshape(-1)]\n",
        "missclassified_label = test_y[np.array(test_y, int) != test_y_predict.reshape(-1)]\n",
        "\n",
        "df_report = pd.DataFrame({'missclassified_text': missclassified_text, 'true_label': missclassified_label})\n",
        "\n",
        "df_report"
      ],
      "metadata": {
        "id": "Cw3hwJzD-GIl",
        "colab": {
          "base_uri": "https://localhost:8080/",
          "height": 424
        },
        "outputId": "811a4ebc-da57-4b92-c6ee-8fd0413c1b48"
      },
      "execution_count": null,
      "outputs": [
        {
          "output_type": "execute_result",
          "data": {
            "text/plain": [
              "                                    missclassified_text  true_label\n",
              "4811  Honey, can you pls find out how much they sell...           0\n",
              "893   Nutter. Cutter. Ctter. Cttergg. Cttargg. Ctarg...           0\n",
              "820   \"BOO BABE! U ENJOYIN YOURJOB? U SEEMED 2 B GET...           0\n",
              "3044        Your bill at 3 is £33.65 so thats not bad!\n",
              "           0\n",
              "2663  Hello darling how are you today? I would love ...           1\n",
              "...                                                 ...         ...\n",
              "4016  You will be receiving this week's Triple Echo ...           1\n",
              "3094  staff.science.nus.edu.sg/~phyhcmk/teaching/pc1...           0\n",
              "3227  Rose for red,red for blood,blood for heart,hea...           0\n",
              "4456  Storming msg: Wen u lift d phne, u say \"HELLO\"...           0\n",
              "1569  Today is ACCEPT DAY..U Accept me as? Brother S...           0\n",
              "\n",
              "[77 rows x 2 columns]"
            ],
            "text/html": [
              "\n",
              "  <div id=\"df-8a39500c-2018-4a04-8e4e-9bf459038072\">\n",
              "    <div class=\"colab-df-container\">\n",
              "      <div>\n",
              "<style scoped>\n",
              "    .dataframe tbody tr th:only-of-type {\n",
              "        vertical-align: middle;\n",
              "    }\n",
              "\n",
              "    .dataframe tbody tr th {\n",
              "        vertical-align: top;\n",
              "    }\n",
              "\n",
              "    .dataframe thead th {\n",
              "        text-align: right;\n",
              "    }\n",
              "</style>\n",
              "<table border=\"1\" class=\"dataframe\">\n",
              "  <thead>\n",
              "    <tr style=\"text-align: right;\">\n",
              "      <th></th>\n",
              "      <th>missclassified_text</th>\n",
              "      <th>true_label</th>\n",
              "    </tr>\n",
              "  </thead>\n",
              "  <tbody>\n",
              "    <tr>\n",
              "      <th>4811</th>\n",
              "      <td>Honey, can you pls find out how much they sell...</td>\n",
              "      <td>0</td>\n",
              "    </tr>\n",
              "    <tr>\n",
              "      <th>893</th>\n",
              "      <td>Nutter. Cutter. Ctter. Cttergg. Cttargg. Ctarg...</td>\n",
              "      <td>0</td>\n",
              "    </tr>\n",
              "    <tr>\n",
              "      <th>820</th>\n",
              "      <td>\"BOO BABE! U ENJOYIN YOURJOB? U SEEMED 2 B GET...</td>\n",
              "      <td>0</td>\n",
              "    </tr>\n",
              "    <tr>\n",
              "      <th>3044</th>\n",
              "      <td>Your bill at 3 is £33.65 so thats not bad!</td>\n",
              "      <td>0</td>\n",
              "    </tr>\n",
              "    <tr>\n",
              "      <th>2663</th>\n",
              "      <td>Hello darling how are you today? I would love ...</td>\n",
              "      <td>1</td>\n",
              "    </tr>\n",
              "    <tr>\n",
              "      <th>...</th>\n",
              "      <td>...</td>\n",
              "      <td>...</td>\n",
              "    </tr>\n",
              "    <tr>\n",
              "      <th>4016</th>\n",
              "      <td>You will be receiving this week's Triple Echo ...</td>\n",
              "      <td>1</td>\n",
              "    </tr>\n",
              "    <tr>\n",
              "      <th>3094</th>\n",
              "      <td>staff.science.nus.edu.sg/~phyhcmk/teaching/pc1...</td>\n",
              "      <td>0</td>\n",
              "    </tr>\n",
              "    <tr>\n",
              "      <th>3227</th>\n",
              "      <td>Rose for red,red for blood,blood for heart,hea...</td>\n",
              "      <td>0</td>\n",
              "    </tr>\n",
              "    <tr>\n",
              "      <th>4456</th>\n",
              "      <td>Storming msg: Wen u lift d phne, u say \"HELLO\"...</td>\n",
              "      <td>0</td>\n",
              "    </tr>\n",
              "    <tr>\n",
              "      <th>1569</th>\n",
              "      <td>Today is ACCEPT DAY..U Accept me as? Brother S...</td>\n",
              "      <td>0</td>\n",
              "    </tr>\n",
              "  </tbody>\n",
              "</table>\n",
              "<p>77 rows × 2 columns</p>\n",
              "</div>\n",
              "      <button class=\"colab-df-convert\" onclick=\"convertToInteractive('df-8a39500c-2018-4a04-8e4e-9bf459038072')\"\n",
              "              title=\"Convert this dataframe to an interactive table.\"\n",
              "              style=\"display:none;\">\n",
              "        \n",
              "  <svg xmlns=\"http://www.w3.org/2000/svg\" height=\"24px\"viewBox=\"0 0 24 24\"\n",
              "       width=\"24px\">\n",
              "    <path d=\"M0 0h24v24H0V0z\" fill=\"none\"/>\n",
              "    <path d=\"M18.56 5.44l.94 2.06.94-2.06 2.06-.94-2.06-.94-.94-2.06-.94 2.06-2.06.94zm-11 1L8.5 8.5l.94-2.06 2.06-.94-2.06-.94L8.5 2.5l-.94 2.06-2.06.94zm10 10l.94 2.06.94-2.06 2.06-.94-2.06-.94-.94-2.06-.94 2.06-2.06.94z\"/><path d=\"M17.41 7.96l-1.37-1.37c-.4-.4-.92-.59-1.43-.59-.52 0-1.04.2-1.43.59L10.3 9.45l-7.72 7.72c-.78.78-.78 2.05 0 2.83L4 21.41c.39.39.9.59 1.41.59.51 0 1.02-.2 1.41-.59l7.78-7.78 2.81-2.81c.8-.78.8-2.07 0-2.86zM5.41 20L4 18.59l7.72-7.72 1.47 1.35L5.41 20z\"/>\n",
              "  </svg>\n",
              "      </button>\n",
              "      \n",
              "  <style>\n",
              "    .colab-df-container {\n",
              "      display:flex;\n",
              "      flex-wrap:wrap;\n",
              "      gap: 12px;\n",
              "    }\n",
              "\n",
              "    .colab-df-convert {\n",
              "      background-color: #E8F0FE;\n",
              "      border: none;\n",
              "      border-radius: 50%;\n",
              "      cursor: pointer;\n",
              "      display: none;\n",
              "      fill: #1967D2;\n",
              "      height: 32px;\n",
              "      padding: 0 0 0 0;\n",
              "      width: 32px;\n",
              "    }\n",
              "\n",
              "    .colab-df-convert:hover {\n",
              "      background-color: #E2EBFA;\n",
              "      box-shadow: 0px 1px 2px rgba(60, 64, 67, 0.3), 0px 1px 3px 1px rgba(60, 64, 67, 0.15);\n",
              "      fill: #174EA6;\n",
              "    }\n",
              "\n",
              "    [theme=dark] .colab-df-convert {\n",
              "      background-color: #3B4455;\n",
              "      fill: #D2E3FC;\n",
              "    }\n",
              "\n",
              "    [theme=dark] .colab-df-convert:hover {\n",
              "      background-color: #434B5C;\n",
              "      box-shadow: 0px 1px 3px 1px rgba(0, 0, 0, 0.15);\n",
              "      filter: drop-shadow(0px 1px 2px rgba(0, 0, 0, 0.3));\n",
              "      fill: #FFFFFF;\n",
              "    }\n",
              "  </style>\n",
              "\n",
              "      <script>\n",
              "        const buttonEl =\n",
              "          document.querySelector('#df-8a39500c-2018-4a04-8e4e-9bf459038072 button.colab-df-convert');\n",
              "        buttonEl.style.display =\n",
              "          google.colab.kernel.accessAllowed ? 'block' : 'none';\n",
              "\n",
              "        async function convertToInteractive(key) {\n",
              "          const element = document.querySelector('#df-8a39500c-2018-4a04-8e4e-9bf459038072');\n",
              "          const dataTable =\n",
              "            await google.colab.kernel.invokeFunction('convertToInteractive',\n",
              "                                                     [key], {});\n",
              "          if (!dataTable) return;\n",
              "\n",
              "          const docLinkHtml = 'Like what you see? Visit the ' +\n",
              "            '<a target=\"_blank\" href=https://colab.research.google.com/notebooks/data_table.ipynb>data table notebook</a>'\n",
              "            + ' to learn more about interactive tables.';\n",
              "          element.innerHTML = '';\n",
              "          dataTable['output_type'] = 'display_data';\n",
              "          await google.colab.output.renderOutput(dataTable, element);\n",
              "          const docLink = document.createElement('div');\n",
              "          docLink.innerHTML = docLinkHtml;\n",
              "          element.appendChild(docLink);\n",
              "        }\n",
              "      </script>\n",
              "    </div>\n",
              "  </div>\n",
              "  "
            ]
          },
          "metadata": {},
          "execution_count": 89
        }
      ]
    },
    {
      "cell_type": "markdown",
      "source": [
        "**Experiment 1 Results:** As expected increasing number of epochs slightly improved the f1 score and accuracy. Running it on 3 epochs seemed like a good threshold as the loss function kept decresing but the accuracy stopped improving. We're getting pretty good results with only 18 text messages that got missclassfied from the test."
      ],
      "metadata": {
        "id": "jWSfz5EA9gkW"
      }
    },
    {
      "cell_type": "code",
      "source": [
        "# unfreeze layers\n",
        "pooled_bert_model_unfreeze = create_bert_pooled_model(train_layers=1)"
      ],
      "metadata": {
        "id": "BlSsZB1z7TXY",
        "colab": {
          "base_uri": "https://localhost:8080/"
        },
        "outputId": "fbf36607-a05a-4182-ec23-99e823a899e6"
      },
      "execution_count": null,
      "outputs": [
        {
          "output_type": "stream",
          "name": "stderr",
          "text": [
            "Some layers from the model checkpoint at bert-base-cased were not used when initializing TFBertModel: ['nsp___cls', 'mlm___cls']\n",
            "- This IS expected if you are initializing TFBertModel from the checkpoint of a model trained on another task or with another architecture (e.g. initializing a BertForSequenceClassification model from a BertForPreTraining model).\n",
            "- This IS NOT expected if you are initializing TFBertModel from the checkpoint of a model that you expect to be exactly identical (initializing a BertForSequenceClassification model from a BertForSequenceClassification model).\n",
            "All the layers of TFBertModel were initialized from the model checkpoint at bert-base-cased.\n",
            "If your task is similar to the task the model of the checkpoint was trained on, you can already use TFBertModel for predictions without further training.\n"
          ]
        }
      ]
    },
    {
      "cell_type": "code",
      "source": [
        "pooled_bert_model_history = pooled_bert_model_unfreeze.fit([x_train.input_ids, x_train.token_type_ids, x_train.attention_mask], \n",
        "                                                  y_train,   \n",
        "                                                  validation_data=([x_test.input_ids, x_test.token_type_ids, x_test.attention_mask], y_test),    \n",
        "                                                  batch_size=8, \n",
        "                                                  epochs=3) "
      ],
      "metadata": {
        "id": "7E1tsBon7nDo",
        "colab": {
          "base_uri": "https://localhost:8080/"
        },
        "outputId": "7e934680-8ae9-4fa1-dd7f-c76a78703c3d"
      },
      "execution_count": null,
      "outputs": [
        {
          "output_type": "stream",
          "name": "stdout",
          "text": [
            "Epoch 1/3\n",
            "WARNING:tensorflow:Gradients do not exist for variables ['tf_bert_model_4/bert/embeddings/word_embeddings/weight:0', 'tf_bert_model_4/bert/embeddings/token_type_embeddings/embeddings:0', 'tf_bert_model_4/bert/embeddings/position_embeddings/embeddings:0', 'tf_bert_model_4/bert/embeddings/LayerNorm/gamma:0', 'tf_bert_model_4/bert/embeddings/LayerNorm/beta:0', 'tf_bert_model_4/bert/encoder/layer_._0/attention/self/query/kernel:0', 'tf_bert_model_4/bert/encoder/layer_._0/attention/self/query/bias:0', 'tf_bert_model_4/bert/encoder/layer_._0/attention/self/key/kernel:0', 'tf_bert_model_4/bert/encoder/layer_._0/attention/self/key/bias:0', 'tf_bert_model_4/bert/encoder/layer_._0/attention/self/value/kernel:0', 'tf_bert_model_4/bert/encoder/layer_._0/attention/self/value/bias:0', 'tf_bert_model_4/bert/encoder/layer_._0/attention/output/dense/kernel:0', 'tf_bert_model_4/bert/encoder/layer_._0/attention/output/dense/bias:0', 'tf_bert_model_4/bert/encoder/layer_._0/attention/output/LayerNorm/gamma:0', 'tf_bert_model_4/bert/encoder/layer_._0/attention/output/LayerNorm/beta:0', 'tf_bert_model_4/bert/encoder/layer_._0/intermediate/dense/kernel:0', 'tf_bert_model_4/bert/encoder/layer_._0/intermediate/dense/bias:0', 'tf_bert_model_4/bert/encoder/layer_._0/output/dense/kernel:0', 'tf_bert_model_4/bert/encoder/layer_._0/output/dense/bias:0', 'tf_bert_model_4/bert/encoder/layer_._0/output/LayerNorm/gamma:0', 'tf_bert_model_4/bert/encoder/layer_._0/output/LayerNorm/beta:0', 'tf_bert_model_4/bert/encoder/layer_._1/attention/self/query/kernel:0', 'tf_bert_model_4/bert/encoder/layer_._1/attention/self/query/bias:0', 'tf_bert_model_4/bert/encoder/layer_._1/attention/self/key/kernel:0', 'tf_bert_model_4/bert/encoder/layer_._1/attention/self/key/bias:0', 'tf_bert_model_4/bert/encoder/layer_._1/attention/self/value/kernel:0', 'tf_bert_model_4/bert/encoder/layer_._1/attention/self/value/bias:0', 'tf_bert_model_4/bert/encoder/layer_._1/attention/output/dense/kernel:0', 'tf_bert_model_4/bert/encoder/layer_._1/attention/output/dense/bias:0', 'tf_bert_model_4/bert/encoder/layer_._1/attention/output/LayerNorm/gamma:0', 'tf_bert_model_4/bert/encoder/layer_._1/attention/output/LayerNorm/beta:0', 'tf_bert_model_4/bert/encoder/layer_._1/intermediate/dense/kernel:0', 'tf_bert_model_4/bert/encoder/layer_._1/intermediate/dense/bias:0', 'tf_bert_model_4/bert/encoder/layer_._1/output/dense/kernel:0', 'tf_bert_model_4/bert/encoder/layer_._1/output/dense/bias:0', 'tf_bert_model_4/bert/encoder/layer_._1/output/LayerNorm/gamma:0', 'tf_bert_model_4/bert/encoder/layer_._1/output/LayerNorm/beta:0', 'tf_bert_model_4/bert/encoder/layer_._2/attention/self/query/kernel:0', 'tf_bert_model_4/bert/encoder/layer_._2/attention/self/query/bias:0', 'tf_bert_model_4/bert/encoder/layer_._2/attention/self/key/kernel:0', 'tf_bert_model_4/bert/encoder/layer_._2/attention/self/key/bias:0', 'tf_bert_model_4/bert/encoder/layer_._2/attention/self/value/kernel:0', 'tf_bert_model_4/bert/encoder/layer_._2/attention/self/value/bias:0', 'tf_bert_model_4/bert/encoder/layer_._2/attention/output/dense/kernel:0', 'tf_bert_model_4/bert/encoder/layer_._2/attention/output/dense/bias:0', 'tf_bert_model_4/bert/encoder/layer_._2/attention/output/LayerNorm/gamma:0', 'tf_bert_model_4/bert/encoder/layer_._2/attention/output/LayerNorm/beta:0', 'tf_bert_model_4/bert/encoder/layer_._2/intermediate/dense/kernel:0', 'tf_bert_model_4/bert/encoder/layer_._2/intermediate/dense/bias:0', 'tf_bert_model_4/bert/encoder/layer_._2/output/dense/kernel:0', 'tf_bert_model_4/bert/encoder/layer_._2/output/dense/bias:0', 'tf_bert_model_4/bert/encoder/layer_._2/output/LayerNorm/gamma:0', 'tf_bert_model_4/bert/encoder/layer_._2/output/LayerNorm/beta:0', 'tf_bert_model_4/bert/encoder/layer_._3/attention/self/query/kernel:0', 'tf_bert_model_4/bert/encoder/layer_._3/attention/self/query/bias:0', 'tf_bert_model_4/bert/encoder/layer_._3/attention/self/key/kernel:0', 'tf_bert_model_4/bert/encoder/layer_._3/attention/self/key/bias:0', 'tf_bert_model_4/bert/encoder/layer_._3/attention/self/value/kernel:0', 'tf_bert_model_4/bert/encoder/layer_._3/attention/self/value/bias:0', 'tf_bert_model_4/bert/encoder/layer_._3/attention/output/dense/kernel:0', 'tf_bert_model_4/bert/encoder/layer_._3/attention/output/dense/bias:0', 'tf_bert_model_4/bert/encoder/layer_._3/attention/output/LayerNorm/gamma:0', 'tf_bert_model_4/bert/encoder/layer_._3/attention/output/LayerNorm/beta:0', 'tf_bert_model_4/bert/encoder/layer_._3/intermediate/dense/kernel:0', 'tf_bert_model_4/bert/encoder/layer_._3/intermediate/dense/bias:0', 'tf_bert_model_4/bert/encoder/layer_._3/output/dense/kernel:0', 'tf_bert_model_4/bert/encoder/layer_._3/output/dense/bias:0', 'tf_bert_model_4/bert/encoder/layer_._3/output/LayerNorm/gamma:0', 'tf_bert_model_4/bert/encoder/layer_._3/output/LayerNorm/beta:0', 'tf_bert_model_4/bert/encoder/layer_._4/attention/self/query/kernel:0', 'tf_bert_model_4/bert/encoder/layer_._4/attention/self/query/bias:0', 'tf_bert_model_4/bert/encoder/layer_._4/attention/self/key/kernel:0', 'tf_bert_model_4/bert/encoder/layer_._4/attention/self/key/bias:0', 'tf_bert_model_4/bert/encoder/layer_._4/attention/self/value/kernel:0', 'tf_bert_model_4/bert/encoder/layer_._4/attention/self/value/bias:0', 'tf_bert_model_4/bert/encoder/layer_._4/attention/output/dense/kernel:0', 'tf_bert_model_4/bert/encoder/layer_._4/attention/output/dense/bias:0', 'tf_bert_model_4/bert/encoder/layer_._4/attention/output/LayerNorm/gamma:0', 'tf_bert_model_4/bert/encoder/layer_._4/attention/output/LayerNorm/beta:0', 'tf_bert_model_4/bert/encoder/layer_._4/intermediate/dense/kernel:0', 'tf_bert_model_4/bert/encoder/layer_._4/intermediate/dense/bias:0', 'tf_bert_model_4/bert/encoder/layer_._4/output/dense/kernel:0', 'tf_bert_model_4/bert/encoder/layer_._4/output/dense/bias:0', 'tf_bert_model_4/bert/encoder/layer_._4/output/LayerNorm/gamma:0', 'tf_bert_model_4/bert/encoder/layer_._4/output/LayerNorm/beta:0', 'tf_bert_model_4/bert/encoder/layer_._5/attention/self/query/kernel:0', 'tf_bert_model_4/bert/encoder/layer_._5/attention/self/query/bias:0', 'tf_bert_model_4/bert/encoder/layer_._5/attention/self/key/kernel:0', 'tf_bert_model_4/bert/encoder/layer_._5/attention/self/key/bias:0', 'tf_bert_model_4/bert/encoder/layer_._5/attention/self/value/kernel:0', 'tf_bert_model_4/bert/encoder/layer_._5/attention/self/value/bias:0', 'tf_bert_model_4/bert/encoder/layer_._5/attention/output/dense/kernel:0', 'tf_bert_model_4/bert/encoder/layer_._5/attention/output/dense/bias:0', 'tf_bert_model_4/bert/encoder/layer_._5/attention/output/LayerNorm/gamma:0', 'tf_bert_model_4/bert/encoder/layer_._5/attention/output/LayerNorm/beta:0', 'tf_bert_model_4/bert/encoder/layer_._5/intermediate/dense/kernel:0', 'tf_bert_model_4/bert/encoder/layer_._5/intermediate/dense/bias:0', 'tf_bert_model_4/bert/encoder/layer_._5/output/dense/kernel:0', 'tf_bert_model_4/bert/encoder/layer_._5/output/dense/bias:0', 'tf_bert_model_4/bert/encoder/layer_._5/output/LayerNorm/gamma:0', 'tf_bert_model_4/bert/encoder/layer_._5/output/LayerNorm/beta:0', 'tf_bert_model_4/bert/encoder/layer_._6/attention/self/query/kernel:0', 'tf_bert_model_4/bert/encoder/layer_._6/attention/self/query/bias:0', 'tf_bert_model_4/bert/encoder/layer_._6/attention/self/key/kernel:0', 'tf_bert_model_4/bert/encoder/layer_._6/attention/self/key/bias:0', 'tf_bert_model_4/bert/encoder/layer_._6/attention/self/value/kernel:0', 'tf_bert_model_4/bert/encoder/layer_._6/attention/self/value/bias:0', 'tf_bert_model_4/bert/encoder/layer_._6/attention/output/dense/kernel:0', 'tf_bert_model_4/bert/encoder/layer_._6/attention/output/dense/bias:0', 'tf_bert_model_4/bert/encoder/layer_._6/attention/output/LayerNorm/gamma:0', 'tf_bert_model_4/bert/encoder/layer_._6/attention/output/LayerNorm/beta:0', 'tf_bert_model_4/bert/encoder/layer_._6/intermediate/dense/kernel:0', 'tf_bert_model_4/bert/encoder/layer_._6/intermediate/dense/bias:0', 'tf_bert_model_4/bert/encoder/layer_._6/output/dense/kernel:0', 'tf_bert_model_4/bert/encoder/layer_._6/output/dense/bias:0', 'tf_bert_model_4/bert/encoder/layer_._6/output/LayerNorm/gamma:0', 'tf_bert_model_4/bert/encoder/layer_._6/output/LayerNorm/beta:0', 'tf_bert_model_4/bert/encoder/layer_._7/attention/self/query/kernel:0', 'tf_bert_model_4/bert/encoder/layer_._7/attention/self/query/bias:0', 'tf_bert_model_4/bert/encoder/layer_._7/attention/self/key/kernel:0', 'tf_bert_model_4/bert/encoder/layer_._7/attention/self/key/bias:0', 'tf_bert_model_4/bert/encoder/layer_._7/attention/self/value/kernel:0', 'tf_bert_model_4/bert/encoder/layer_._7/attention/self/value/bias:0', 'tf_bert_model_4/bert/encoder/layer_._7/attention/output/dense/kernel:0', 'tf_bert_model_4/bert/encoder/layer_._7/attention/output/dense/bias:0', 'tf_bert_model_4/bert/encoder/layer_._7/attention/output/LayerNorm/gamma:0', 'tf_bert_model_4/bert/encoder/layer_._7/attention/output/LayerNorm/beta:0', 'tf_bert_model_4/bert/encoder/layer_._7/intermediate/dense/kernel:0', 'tf_bert_model_4/bert/encoder/layer_._7/intermediate/dense/bias:0', 'tf_bert_model_4/bert/encoder/layer_._7/output/dense/kernel:0', 'tf_bert_model_4/bert/encoder/layer_._7/output/dense/bias:0', 'tf_bert_model_4/bert/encoder/layer_._7/output/LayerNorm/gamma:0', 'tf_bert_model_4/bert/encoder/layer_._7/output/LayerNorm/beta:0', 'tf_bert_model_4/bert/encoder/layer_._8/attention/self/query/kernel:0', 'tf_bert_model_4/bert/encoder/layer_._8/attention/self/query/bias:0', 'tf_bert_model_4/bert/encoder/layer_._8/attention/self/key/kernel:0', 'tf_bert_model_4/bert/encoder/layer_._8/attention/self/key/bias:0', 'tf_bert_model_4/bert/encoder/layer_._8/attention/self/value/kernel:0', 'tf_bert_model_4/bert/encoder/layer_._8/attention/self/value/bias:0', 'tf_bert_model_4/bert/encoder/layer_._8/attention/output/dense/kernel:0', 'tf_bert_model_4/bert/encoder/layer_._8/attention/output/dense/bias:0', 'tf_bert_model_4/bert/encoder/layer_._8/attention/output/LayerNorm/gamma:0', 'tf_bert_model_4/bert/encoder/layer_._8/attention/output/LayerNorm/beta:0', 'tf_bert_model_4/bert/encoder/layer_._8/intermediate/dense/kernel:0', 'tf_bert_model_4/bert/encoder/layer_._8/intermediate/dense/bias:0', 'tf_bert_model_4/bert/encoder/layer_._8/output/dense/kernel:0', 'tf_bert_model_4/bert/encoder/layer_._8/output/dense/bias:0', 'tf_bert_model_4/bert/encoder/layer_._8/output/LayerNorm/gamma:0', 'tf_bert_model_4/bert/encoder/layer_._8/output/LayerNorm/beta:0', 'tf_bert_model_4/bert/encoder/layer_._9/attention/self/query/kernel:0', 'tf_bert_model_4/bert/encoder/layer_._9/attention/self/query/bias:0', 'tf_bert_model_4/bert/encoder/layer_._9/attention/self/key/kernel:0', 'tf_bert_model_4/bert/encoder/layer_._9/attention/self/key/bias:0', 'tf_bert_model_4/bert/encoder/layer_._9/attention/self/value/kernel:0', 'tf_bert_model_4/bert/encoder/layer_._9/attention/self/value/bias:0', 'tf_bert_model_4/bert/encoder/layer_._9/attention/output/dense/kernel:0', 'tf_bert_model_4/bert/encoder/layer_._9/attention/output/dense/bias:0', 'tf_bert_model_4/bert/encoder/layer_._9/attention/output/LayerNorm/gamma:0', 'tf_bert_model_4/bert/encoder/layer_._9/attention/output/LayerNorm/beta:0', 'tf_bert_model_4/bert/encoder/layer_._9/intermediate/dense/kernel:0', 'tf_bert_model_4/bert/encoder/layer_._9/intermediate/dense/bias:0', 'tf_bert_model_4/bert/encoder/layer_._9/output/dense/kernel:0', 'tf_bert_model_4/bert/encoder/layer_._9/output/dense/bias:0', 'tf_bert_model_4/bert/encoder/layer_._9/output/LayerNorm/gamma:0', 'tf_bert_model_4/bert/encoder/layer_._9/output/LayerNorm/beta:0', 'tf_bert_model_4/bert/encoder/layer_._10/attention/self/query/kernel:0', 'tf_bert_model_4/bert/encoder/layer_._10/attention/self/query/bias:0', 'tf_bert_model_4/bert/encoder/layer_._10/attention/self/key/kernel:0', 'tf_bert_model_4/bert/encoder/layer_._10/attention/self/key/bias:0', 'tf_bert_model_4/bert/encoder/layer_._10/attention/self/value/kernel:0', 'tf_bert_model_4/bert/encoder/layer_._10/attention/self/value/bias:0', 'tf_bert_model_4/bert/encoder/layer_._10/attention/output/dense/kernel:0', 'tf_bert_model_4/bert/encoder/layer_._10/attention/output/dense/bias:0', 'tf_bert_model_4/bert/encoder/layer_._10/attention/output/LayerNorm/gamma:0', 'tf_bert_model_4/bert/encoder/layer_._10/attention/output/LayerNorm/beta:0', 'tf_bert_model_4/bert/encoder/layer_._10/intermediate/dense/kernel:0', 'tf_bert_model_4/bert/encoder/layer_._10/intermediate/dense/bias:0', 'tf_bert_model_4/bert/encoder/layer_._10/output/dense/kernel:0', 'tf_bert_model_4/bert/encoder/layer_._10/output/dense/bias:0', 'tf_bert_model_4/bert/encoder/layer_._10/output/LayerNorm/gamma:0', 'tf_bert_model_4/bert/encoder/layer_._10/output/LayerNorm/beta:0', 'tf_bert_model_4/bert/pooler/dense/kernel:0', 'tf_bert_model_4/bert/pooler/dense/bias:0'] when minimizing the loss. If you're using `model.compile()`, did you forget to provide a `loss`argument?\n",
            "WARNING:tensorflow:Gradients do not exist for variables ['tf_bert_model_4/bert/embeddings/word_embeddings/weight:0', 'tf_bert_model_4/bert/embeddings/token_type_embeddings/embeddings:0', 'tf_bert_model_4/bert/embeddings/position_embeddings/embeddings:0', 'tf_bert_model_4/bert/embeddings/LayerNorm/gamma:0', 'tf_bert_model_4/bert/embeddings/LayerNorm/beta:0', 'tf_bert_model_4/bert/encoder/layer_._0/attention/self/query/kernel:0', 'tf_bert_model_4/bert/encoder/layer_._0/attention/self/query/bias:0', 'tf_bert_model_4/bert/encoder/layer_._0/attention/self/key/kernel:0', 'tf_bert_model_4/bert/encoder/layer_._0/attention/self/key/bias:0', 'tf_bert_model_4/bert/encoder/layer_._0/attention/self/value/kernel:0', 'tf_bert_model_4/bert/encoder/layer_._0/attention/self/value/bias:0', 'tf_bert_model_4/bert/encoder/layer_._0/attention/output/dense/kernel:0', 'tf_bert_model_4/bert/encoder/layer_._0/attention/output/dense/bias:0', 'tf_bert_model_4/bert/encoder/layer_._0/attention/output/LayerNorm/gamma:0', 'tf_bert_model_4/bert/encoder/layer_._0/attention/output/LayerNorm/beta:0', 'tf_bert_model_4/bert/encoder/layer_._0/intermediate/dense/kernel:0', 'tf_bert_model_4/bert/encoder/layer_._0/intermediate/dense/bias:0', 'tf_bert_model_4/bert/encoder/layer_._0/output/dense/kernel:0', 'tf_bert_model_4/bert/encoder/layer_._0/output/dense/bias:0', 'tf_bert_model_4/bert/encoder/layer_._0/output/LayerNorm/gamma:0', 'tf_bert_model_4/bert/encoder/layer_._0/output/LayerNorm/beta:0', 'tf_bert_model_4/bert/encoder/layer_._1/attention/self/query/kernel:0', 'tf_bert_model_4/bert/encoder/layer_._1/attention/self/query/bias:0', 'tf_bert_model_4/bert/encoder/layer_._1/attention/self/key/kernel:0', 'tf_bert_model_4/bert/encoder/layer_._1/attention/self/key/bias:0', 'tf_bert_model_4/bert/encoder/layer_._1/attention/self/value/kernel:0', 'tf_bert_model_4/bert/encoder/layer_._1/attention/self/value/bias:0', 'tf_bert_model_4/bert/encoder/layer_._1/attention/output/dense/kernel:0', 'tf_bert_model_4/bert/encoder/layer_._1/attention/output/dense/bias:0', 'tf_bert_model_4/bert/encoder/layer_._1/attention/output/LayerNorm/gamma:0', 'tf_bert_model_4/bert/encoder/layer_._1/attention/output/LayerNorm/beta:0', 'tf_bert_model_4/bert/encoder/layer_._1/intermediate/dense/kernel:0', 'tf_bert_model_4/bert/encoder/layer_._1/intermediate/dense/bias:0', 'tf_bert_model_4/bert/encoder/layer_._1/output/dense/kernel:0', 'tf_bert_model_4/bert/encoder/layer_._1/output/dense/bias:0', 'tf_bert_model_4/bert/encoder/layer_._1/output/LayerNorm/gamma:0', 'tf_bert_model_4/bert/encoder/layer_._1/output/LayerNorm/beta:0', 'tf_bert_model_4/bert/encoder/layer_._2/attention/self/query/kernel:0', 'tf_bert_model_4/bert/encoder/layer_._2/attention/self/query/bias:0', 'tf_bert_model_4/bert/encoder/layer_._2/attention/self/key/kernel:0', 'tf_bert_model_4/bert/encoder/layer_._2/attention/self/key/bias:0', 'tf_bert_model_4/bert/encoder/layer_._2/attention/self/value/kernel:0', 'tf_bert_model_4/bert/encoder/layer_._2/attention/self/value/bias:0', 'tf_bert_model_4/bert/encoder/layer_._2/attention/output/dense/kernel:0', 'tf_bert_model_4/bert/encoder/layer_._2/attention/output/dense/bias:0', 'tf_bert_model_4/bert/encoder/layer_._2/attention/output/LayerNorm/gamma:0', 'tf_bert_model_4/bert/encoder/layer_._2/attention/output/LayerNorm/beta:0', 'tf_bert_model_4/bert/encoder/layer_._2/intermediate/dense/kernel:0', 'tf_bert_model_4/bert/encoder/layer_._2/intermediate/dense/bias:0', 'tf_bert_model_4/bert/encoder/layer_._2/output/dense/kernel:0', 'tf_bert_model_4/bert/encoder/layer_._2/output/dense/bias:0', 'tf_bert_model_4/bert/encoder/layer_._2/output/LayerNorm/gamma:0', 'tf_bert_model_4/bert/encoder/layer_._2/output/LayerNorm/beta:0', 'tf_bert_model_4/bert/encoder/layer_._3/attention/self/query/kernel:0', 'tf_bert_model_4/bert/encoder/layer_._3/attention/self/query/bias:0', 'tf_bert_model_4/bert/encoder/layer_._3/attention/self/key/kernel:0', 'tf_bert_model_4/bert/encoder/layer_._3/attention/self/key/bias:0', 'tf_bert_model_4/bert/encoder/layer_._3/attention/self/value/kernel:0', 'tf_bert_model_4/bert/encoder/layer_._3/attention/self/value/bias:0', 'tf_bert_model_4/bert/encoder/layer_._3/attention/output/dense/kernel:0', 'tf_bert_model_4/bert/encoder/layer_._3/attention/output/dense/bias:0', 'tf_bert_model_4/bert/encoder/layer_._3/attention/output/LayerNorm/gamma:0', 'tf_bert_model_4/bert/encoder/layer_._3/attention/output/LayerNorm/beta:0', 'tf_bert_model_4/bert/encoder/layer_._3/intermediate/dense/kernel:0', 'tf_bert_model_4/bert/encoder/layer_._3/intermediate/dense/bias:0', 'tf_bert_model_4/bert/encoder/layer_._3/output/dense/kernel:0', 'tf_bert_model_4/bert/encoder/layer_._3/output/dense/bias:0', 'tf_bert_model_4/bert/encoder/layer_._3/output/LayerNorm/gamma:0', 'tf_bert_model_4/bert/encoder/layer_._3/output/LayerNorm/beta:0', 'tf_bert_model_4/bert/encoder/layer_._4/attention/self/query/kernel:0', 'tf_bert_model_4/bert/encoder/layer_._4/attention/self/query/bias:0', 'tf_bert_model_4/bert/encoder/layer_._4/attention/self/key/kernel:0', 'tf_bert_model_4/bert/encoder/layer_._4/attention/self/key/bias:0', 'tf_bert_model_4/bert/encoder/layer_._4/attention/self/value/kernel:0', 'tf_bert_model_4/bert/encoder/layer_._4/attention/self/value/bias:0', 'tf_bert_model_4/bert/encoder/layer_._4/attention/output/dense/kernel:0', 'tf_bert_model_4/bert/encoder/layer_._4/attention/output/dense/bias:0', 'tf_bert_model_4/bert/encoder/layer_._4/attention/output/LayerNorm/gamma:0', 'tf_bert_model_4/bert/encoder/layer_._4/attention/output/LayerNorm/beta:0', 'tf_bert_model_4/bert/encoder/layer_._4/intermediate/dense/kernel:0', 'tf_bert_model_4/bert/encoder/layer_._4/intermediate/dense/bias:0', 'tf_bert_model_4/bert/encoder/layer_._4/output/dense/kernel:0', 'tf_bert_model_4/bert/encoder/layer_._4/output/dense/bias:0', 'tf_bert_model_4/bert/encoder/layer_._4/output/LayerNorm/gamma:0', 'tf_bert_model_4/bert/encoder/layer_._4/output/LayerNorm/beta:0', 'tf_bert_model_4/bert/encoder/layer_._5/attention/self/query/kernel:0', 'tf_bert_model_4/bert/encoder/layer_._5/attention/self/query/bias:0', 'tf_bert_model_4/bert/encoder/layer_._5/attention/self/key/kernel:0', 'tf_bert_model_4/bert/encoder/layer_._5/attention/self/key/bias:0', 'tf_bert_model_4/bert/encoder/layer_._5/attention/self/value/kernel:0', 'tf_bert_model_4/bert/encoder/layer_._5/attention/self/value/bias:0', 'tf_bert_model_4/bert/encoder/layer_._5/attention/output/dense/kernel:0', 'tf_bert_model_4/bert/encoder/layer_._5/attention/output/dense/bias:0', 'tf_bert_model_4/bert/encoder/layer_._5/attention/output/LayerNorm/gamma:0', 'tf_bert_model_4/bert/encoder/layer_._5/attention/output/LayerNorm/beta:0', 'tf_bert_model_4/bert/encoder/layer_._5/intermediate/dense/kernel:0', 'tf_bert_model_4/bert/encoder/layer_._5/intermediate/dense/bias:0', 'tf_bert_model_4/bert/encoder/layer_._5/output/dense/kernel:0', 'tf_bert_model_4/bert/encoder/layer_._5/output/dense/bias:0', 'tf_bert_model_4/bert/encoder/layer_._5/output/LayerNorm/gamma:0', 'tf_bert_model_4/bert/encoder/layer_._5/output/LayerNorm/beta:0', 'tf_bert_model_4/bert/encoder/layer_._6/attention/self/query/kernel:0', 'tf_bert_model_4/bert/encoder/layer_._6/attention/self/query/bias:0', 'tf_bert_model_4/bert/encoder/layer_._6/attention/self/key/kernel:0', 'tf_bert_model_4/bert/encoder/layer_._6/attention/self/key/bias:0', 'tf_bert_model_4/bert/encoder/layer_._6/attention/self/value/kernel:0', 'tf_bert_model_4/bert/encoder/layer_._6/attention/self/value/bias:0', 'tf_bert_model_4/bert/encoder/layer_._6/attention/output/dense/kernel:0', 'tf_bert_model_4/bert/encoder/layer_._6/attention/output/dense/bias:0', 'tf_bert_model_4/bert/encoder/layer_._6/attention/output/LayerNorm/gamma:0', 'tf_bert_model_4/bert/encoder/layer_._6/attention/output/LayerNorm/beta:0', 'tf_bert_model_4/bert/encoder/layer_._6/intermediate/dense/kernel:0', 'tf_bert_model_4/bert/encoder/layer_._6/intermediate/dense/bias:0', 'tf_bert_model_4/bert/encoder/layer_._6/output/dense/kernel:0', 'tf_bert_model_4/bert/encoder/layer_._6/output/dense/bias:0', 'tf_bert_model_4/bert/encoder/layer_._6/output/LayerNorm/gamma:0', 'tf_bert_model_4/bert/encoder/layer_._6/output/LayerNorm/beta:0', 'tf_bert_model_4/bert/encoder/layer_._7/attention/self/query/kernel:0', 'tf_bert_model_4/bert/encoder/layer_._7/attention/self/query/bias:0', 'tf_bert_model_4/bert/encoder/layer_._7/attention/self/key/kernel:0', 'tf_bert_model_4/bert/encoder/layer_._7/attention/self/key/bias:0', 'tf_bert_model_4/bert/encoder/layer_._7/attention/self/value/kernel:0', 'tf_bert_model_4/bert/encoder/layer_._7/attention/self/value/bias:0', 'tf_bert_model_4/bert/encoder/layer_._7/attention/output/dense/kernel:0', 'tf_bert_model_4/bert/encoder/layer_._7/attention/output/dense/bias:0', 'tf_bert_model_4/bert/encoder/layer_._7/attention/output/LayerNorm/gamma:0', 'tf_bert_model_4/bert/encoder/layer_._7/attention/output/LayerNorm/beta:0', 'tf_bert_model_4/bert/encoder/layer_._7/intermediate/dense/kernel:0', 'tf_bert_model_4/bert/encoder/layer_._7/intermediate/dense/bias:0', 'tf_bert_model_4/bert/encoder/layer_._7/output/dense/kernel:0', 'tf_bert_model_4/bert/encoder/layer_._7/output/dense/bias:0', 'tf_bert_model_4/bert/encoder/layer_._7/output/LayerNorm/gamma:0', 'tf_bert_model_4/bert/encoder/layer_._7/output/LayerNorm/beta:0', 'tf_bert_model_4/bert/encoder/layer_._8/attention/self/query/kernel:0', 'tf_bert_model_4/bert/encoder/layer_._8/attention/self/query/bias:0', 'tf_bert_model_4/bert/encoder/layer_._8/attention/self/key/kernel:0', 'tf_bert_model_4/bert/encoder/layer_._8/attention/self/key/bias:0', 'tf_bert_model_4/bert/encoder/layer_._8/attention/self/value/kernel:0', 'tf_bert_model_4/bert/encoder/layer_._8/attention/self/value/bias:0', 'tf_bert_model_4/bert/encoder/layer_._8/attention/output/dense/kernel:0', 'tf_bert_model_4/bert/encoder/layer_._8/attention/output/dense/bias:0', 'tf_bert_model_4/bert/encoder/layer_._8/attention/output/LayerNorm/gamma:0', 'tf_bert_model_4/bert/encoder/layer_._8/attention/output/LayerNorm/beta:0', 'tf_bert_model_4/bert/encoder/layer_._8/intermediate/dense/kernel:0', 'tf_bert_model_4/bert/encoder/layer_._8/intermediate/dense/bias:0', 'tf_bert_model_4/bert/encoder/layer_._8/output/dense/kernel:0', 'tf_bert_model_4/bert/encoder/layer_._8/output/dense/bias:0', 'tf_bert_model_4/bert/encoder/layer_._8/output/LayerNorm/gamma:0', 'tf_bert_model_4/bert/encoder/layer_._8/output/LayerNorm/beta:0', 'tf_bert_model_4/bert/encoder/layer_._9/attention/self/query/kernel:0', 'tf_bert_model_4/bert/encoder/layer_._9/attention/self/query/bias:0', 'tf_bert_model_4/bert/encoder/layer_._9/attention/self/key/kernel:0', 'tf_bert_model_4/bert/encoder/layer_._9/attention/self/key/bias:0', 'tf_bert_model_4/bert/encoder/layer_._9/attention/self/value/kernel:0', 'tf_bert_model_4/bert/encoder/layer_._9/attention/self/value/bias:0', 'tf_bert_model_4/bert/encoder/layer_._9/attention/output/dense/kernel:0', 'tf_bert_model_4/bert/encoder/layer_._9/attention/output/dense/bias:0', 'tf_bert_model_4/bert/encoder/layer_._9/attention/output/LayerNorm/gamma:0', 'tf_bert_model_4/bert/encoder/layer_._9/attention/output/LayerNorm/beta:0', 'tf_bert_model_4/bert/encoder/layer_._9/intermediate/dense/kernel:0', 'tf_bert_model_4/bert/encoder/layer_._9/intermediate/dense/bias:0', 'tf_bert_model_4/bert/encoder/layer_._9/output/dense/kernel:0', 'tf_bert_model_4/bert/encoder/layer_._9/output/dense/bias:0', 'tf_bert_model_4/bert/encoder/layer_._9/output/LayerNorm/gamma:0', 'tf_bert_model_4/bert/encoder/layer_._9/output/LayerNorm/beta:0', 'tf_bert_model_4/bert/encoder/layer_._10/attention/self/query/kernel:0', 'tf_bert_model_4/bert/encoder/layer_._10/attention/self/query/bias:0', 'tf_bert_model_4/bert/encoder/layer_._10/attention/self/key/kernel:0', 'tf_bert_model_4/bert/encoder/layer_._10/attention/self/key/bias:0', 'tf_bert_model_4/bert/encoder/layer_._10/attention/self/value/kernel:0', 'tf_bert_model_4/bert/encoder/layer_._10/attention/self/value/bias:0', 'tf_bert_model_4/bert/encoder/layer_._10/attention/output/dense/kernel:0', 'tf_bert_model_4/bert/encoder/layer_._10/attention/output/dense/bias:0', 'tf_bert_model_4/bert/encoder/layer_._10/attention/output/LayerNorm/gamma:0', 'tf_bert_model_4/bert/encoder/layer_._10/attention/output/LayerNorm/beta:0', 'tf_bert_model_4/bert/encoder/layer_._10/intermediate/dense/kernel:0', 'tf_bert_model_4/bert/encoder/layer_._10/intermediate/dense/bias:0', 'tf_bert_model_4/bert/encoder/layer_._10/output/dense/kernel:0', 'tf_bert_model_4/bert/encoder/layer_._10/output/dense/bias:0', 'tf_bert_model_4/bert/encoder/layer_._10/output/LayerNorm/gamma:0', 'tf_bert_model_4/bert/encoder/layer_._10/output/LayerNorm/beta:0', 'tf_bert_model_4/bert/pooler/dense/kernel:0', 'tf_bert_model_4/bert/pooler/dense/bias:0'] when minimizing the loss. If you're using `model.compile()`, did you forget to provide a `loss`argument?\n",
            "611/611 [==============================] - 32s 41ms/step - loss: 0.0990 - accuracy: 0.9648 - val_loss: 0.0642 - val_accuracy: 0.9804\n",
            "Epoch 2/3\n",
            "611/611 [==============================] - 23s 38ms/step - loss: 0.0329 - accuracy: 0.9916 - val_loss: 0.0472 - val_accuracy: 0.9894\n",
            "Epoch 3/3\n",
            "611/611 [==============================] - 23s 37ms/step - loss: 0.0228 - accuracy: 0.9928 - val_loss: 0.0601 - val_accuracy: 0.9885\n"
          ]
        }
      ]
    },
    {
      "cell_type": "code",
      "source": [
        "train_predict_labels = pooled_bert_model_unfreeze.predict([x_train.input_ids, x_train.token_type_ids, x_train.attention_mask])\n",
        "train_y_predict = train_predict_labels.round(0)"
      ],
      "metadata": {
        "id": "_OpcuEbyAuIp"
      },
      "execution_count": null,
      "outputs": []
    },
    {
      "cell_type": "code",
      "source": [
        "test_predict_labels = pooled_bert_model_unfreeze.predict([x_test.input_ids, x_test.token_type_ids, x_test.attention_mask])\n",
        "test_y_predict = test_predict_labels.round(0)"
      ],
      "metadata": {
        "id": "IsfZJw01A0jH"
      },
      "execution_count": null,
      "outputs": []
    },
    {
      "cell_type": "code",
      "source": [
        "# train\n",
        "sns.heatmap(confusion_matrix(np.array(train_y, int), np.array(train_y_predict.reshape(-1), int)), annot=True, fmt='g')  #annot=True to annotate cells, ftm='g' to disable scientific notation"
      ],
      "metadata": {
        "id": "wENCXkfaBQQC",
        "colab": {
          "base_uri": "https://localhost:8080/",
          "height": 283
        },
        "outputId": "8c001f94-e77d-4dc4-b113-44c5907ce96f"
      },
      "execution_count": null,
      "outputs": [
        {
          "output_type": "execute_result",
          "data": {
            "text/plain": [
              "<matplotlib.axes._subplots.AxesSubplot at 0x7f4feb05f910>"
            ]
          },
          "metadata": {},
          "execution_count": 94
        },
        {
          "output_type": "display_data",
          "data": {
            "text/plain": [
              "<Figure size 432x288 with 2 Axes>"
            ],
            "image/png": "[encoded data removed]"
          },
          "metadata": {
            "needs_background": "light"
          }
        }
      ]
    },
    {
      "cell_type": "code",
      "source": [
        "# test\n",
        "sns.heatmap(confusion_matrix(np.array(test_y, int), np.array(test_y_predict.reshape(-1), int)), annot=True, fmt='g')  #annot=True to annotate cells, ftm='g' to disable scientific notation"
      ],
      "metadata": {
        "id": "4joh3aupBQwG",
        "colab": {
          "base_uri": "https://localhost:8080/",
          "height": 283
        },
        "outputId": "61d6699a-4851-4635-9144-256e96aa1f05"
      },
      "execution_count": null,
      "outputs": [
        {
          "output_type": "execute_result",
          "data": {
            "text/plain": [
              "<matplotlib.axes._subplots.AxesSubplot at 0x7f4ecf4faa90>"
            ]
          },
          "metadata": {},
          "execution_count": 95
        },
        {
          "output_type": "display_data",
          "data": {
            "text/plain": [
              "<Figure size 432x288 with 2 Axes>"
            ],
            "image/png": "[encoded data removed]"
          },
          "metadata": {
            "needs_background": "light"
          }
        }
      ]
    },
    {
      "cell_type": "code",
      "source": [
        "# train\n",
        "print_metrics('BERT 3e + FCN, train data: ', np.array(train_y, int), train_y_predict)"
      ],
      "metadata": {
        "id": "WRs8lu0JA76b",
        "colab": {
          "base_uri": "https://localhost:8080/"
        },
        "outputId": "d200dc6d-c3a9-49db-ea45-5a5c0055956d"
      },
      "execution_count": null,
      "outputs": [
        {
          "output_type": "stream",
          "name": "stdout",
          "text": [
            "BERT 3e + FCN, train data: : accuracy = 0.9984, precision = 0.9980, recall = 0.9941, f1 = 0.9961\n"
          ]
        }
      ]
    },
    {
      "cell_type": "code",
      "source": [
        "# test\n",
        "print_metrics('BERT 3e + FCN, test data: ', np.array(test_y, int), test_y_predict)"
      ],
      "metadata": {
        "id": "JBB3uuD3AqUR",
        "colab": {
          "base_uri": "https://localhost:8080/"
        },
        "outputId": "5f732c7a-bd1f-4528-8df4-eedfca080a7f"
      },
      "execution_count": null,
      "outputs": [
        {
          "output_type": "stream",
          "name": "stdout",
          "text": [
            "BERT 3e + FCN, test data: : accuracy = 0.9885, precision = 0.9734, recall = 0.9734, f1 = 0.9734\n"
          ]
        }
      ]
    },
    {
      "cell_type": "code",
      "source": [
        "# test\n",
        "missclassified_text = test_X[np.array(test_y, int) != test_y_predict.reshape(-1)]\n",
        "missclassified_label = test_y[np.array(test_y, int) != test_y_predict.reshape(-1)]\n",
        "\n",
        "df_report = pd.DataFrame({'missclassified_text': missclassified_text, 'true_label': missclassified_label})\n",
        "\n",
        "df_report"
      ],
      "metadata": {
        "id": "_F0aKI--BZ7o",
        "colab": {
          "base_uri": "https://localhost:8080/",
          "height": 488
        },
        "outputId": "0701823a-2796-478e-8daa-ec5816a36ea8"
      },
      "execution_count": null,
      "outputs": [
        {
          "output_type": "execute_result",
          "data": {
            "text/plain": [
              "                                    missclassified_text  true_label\n",
              "5738  Hi! Wànt to àvàil Our Pèrsonàl Loàn? Fàst & eà...           1\n",
              "2663  Hello darling how are you today? I would love ...           1\n",
              "718   Book which lesson? then you msg me... I will c...           0\n",
              "263   MY NO. IN LUTON 0125698789 RING ME IF UR AROUN...           0\n",
              "989   Yun ah.the ubi one say if ü wan call by tomorr...           0\n",
              "5581                                                N/a           1\n",
              "2680  New Tones This week include: 1)McFly-All Ab..,...           1\n",
              "4141  Leave it wif me lar... Ü wan to carry meh so h...           0\n",
              "334   Any chance you might have had with me evaporat...           0\n",
              "4330  1Apple/Day=No Doctor. 1Tulsi Leaf/Day=No Cance...           0\n",
              "2774  How come it takes so little time for a child w...           1\n",
              "4298  thesmszone.com lets you send free anonymous an...           1\n",
              "5372  dating:i have had two of these. Only started a...           1\n",
              "3094  staff.science.nus.edu.sg/~phyhcmk/teaching/pc1...           0"
            ],
            "text/html": [
              "\n",
              "  <div id=\"df-7db4aba7-f921-4e98-b751-5c289c410b1f\">\n",
              "    <div class=\"colab-df-container\">\n",
              "      <div>\n",
              "<style scoped>\n",
              "    .dataframe tbody tr th:only-of-type {\n",
              "        vertical-align: middle;\n",
              "    }\n",
              "\n",
              "    .dataframe tbody tr th {\n",
              "        vertical-align: top;\n",
              "    }\n",
              "\n",
              "    .dataframe thead th {\n",
              "        text-align: right;\n",
              "    }\n",
              "</style>\n",
              "<table border=\"1\" class=\"dataframe\">\n",
              "  <thead>\n",
              "    <tr style=\"text-align: right;\">\n",
              "      <th></th>\n",
              "      <th>missclassified_text</th>\n",
              "      <th>true_label</th>\n",
              "    </tr>\n",
              "  </thead>\n",
              "  <tbody>\n",
              "    <tr>\n",
              "      <th>5738</th>\n",
              "      <td>Hi! Wànt to àvàil Our Pèrsonàl Loàn? Fàst &amp; eà...</td>\n",
              "      <td>1</td>\n",
              "    </tr>\n",
              "    <tr>\n",
              "      <th>2663</th>\n",
              "      <td>Hello darling how are you today? I would love ...</td>\n",
              "      <td>1</td>\n",
              "    </tr>\n",
              "    <tr>\n",
              "      <th>718</th>\n",
              "      <td>Book which lesson? then you msg me... I will c...</td>\n",
              "      <td>0</td>\n",
              "    </tr>\n",
              "    <tr>\n",
              "      <th>263</th>\n",
              "      <td>MY NO. IN LUTON 0125698789 RING ME IF UR AROUN...</td>\n",
              "      <td>0</td>\n",
              "    </tr>\n",
              "    <tr>\n",
              "      <th>989</th>\n",
              "      <td>Yun ah.the ubi one say if ü wan call by tomorr...</td>\n",
              "      <td>0</td>\n",
              "    </tr>\n",
              "    <tr>\n",
              "      <th>5581</th>\n",
              "      <td>N/a</td>\n",
              "      <td>1</td>\n",
              "    </tr>\n",
              "    <tr>\n",
              "      <th>2680</th>\n",
              "      <td>New Tones This week include: 1)McFly-All Ab..,...</td>\n",
              "      <td>1</td>\n",
              "    </tr>\n",
              "    <tr>\n",
              "      <th>4141</th>\n",
              "      <td>Leave it wif me lar... Ü wan to carry meh so h...</td>\n",
              "      <td>0</td>\n",
              "    </tr>\n",
              "    <tr>\n",
              "      <th>334</th>\n",
              "      <td>Any chance you might have had with me evaporat...</td>\n",
              "      <td>0</td>\n",
              "    </tr>\n",
              "    <tr>\n",
              "      <th>4330</th>\n",
              "      <td>1Apple/Day=No Doctor. 1Tulsi Leaf/Day=No Cance...</td>\n",
              "      <td>0</td>\n",
              "    </tr>\n",
              "    <tr>\n",
              "      <th>2774</th>\n",
              "      <td>How come it takes so little time for a child w...</td>\n",
              "      <td>1</td>\n",
              "    </tr>\n",
              "    <tr>\n",
              "      <th>4298</th>\n",
              "      <td>thesmszone.com lets you send free anonymous an...</td>\n",
              "      <td>1</td>\n",
              "    </tr>\n",
              "    <tr>\n",
              "      <th>5372</th>\n",
              "      <td>dating:i have had two of these. Only started a...</td>\n",
              "      <td>1</td>\n",
              "    </tr>\n",
              "    <tr>\n",
              "      <th>3094</th>\n",
              "      <td>staff.science.nus.edu.sg/~phyhcmk/teaching/pc1...</td>\n",
              "      <td>0</td>\n",
              "    </tr>\n",
              "  </tbody>\n",
              "</table>\n",
              "</div>\n",
              "      <button class=\"colab-df-convert\" onclick=\"convertToInteractive('df-7db4aba7-f921-4e98-b751-5c289c410b1f')\"\n",
              "              title=\"Convert this dataframe to an interactive table.\"\n",
              "              style=\"display:none;\">\n",
              "        \n",
              "  <svg xmlns=\"http://www.w3.org/2000/svg\" height=\"24px\"viewBox=\"0 0 24 24\"\n",
              "       width=\"24px\">\n",
              "    <path d=\"M0 0h24v24H0V0z\" fill=\"none\"/>\n",
              "    <path d=\"M18.56 5.44l.94 2.06.94-2.06 2.06-.94-2.06-.94-.94-2.06-.94 2.06-2.06.94zm-11 1L8.5 8.5l.94-2.06 2.06-.94-2.06-.94L8.5 2.5l-.94 2.06-2.06.94zm10 10l.94 2.06.94-2.06 2.06-.94-2.06-.94-.94-2.06-.94 2.06-2.06.94z\"/><path d=\"M17.41 7.96l-1.37-1.37c-.4-.4-.92-.59-1.43-.59-.52 0-1.04.2-1.43.59L10.3 9.45l-7.72 7.72c-.78.78-.78 2.05 0 2.83L4 21.41c.39.39.9.59 1.41.59.51 0 1.02-.2 1.41-.59l7.78-7.78 2.81-2.81c.8-.78.8-2.07 0-2.86zM5.41 20L4 18.59l7.72-7.72 1.47 1.35L5.41 20z\"/>\n",
              "  </svg>\n",
              "      </button>\n",
              "      \n",
              "  <style>\n",
              "    .colab-df-container {\n",
              "      display:flex;\n",
              "      flex-wrap:wrap;\n",
              "      gap: 12px;\n",
              "    }\n",
              "\n",
              "    .colab-df-convert {\n",
              "      background-color: #E8F0FE;\n",
              "      border: none;\n",
              "      border-radius: 50%;\n",
              "      cursor: pointer;\n",
              "      display: none;\n",
              "      fill: #1967D2;\n",
              "      height: 32px;\n",
              "      padding: 0 0 0 0;\n",
              "      width: 32px;\n",
              "    }\n",
              "\n",
              "    .colab-df-convert:hover {\n",
              "      background-color: #E2EBFA;\n",
              "      box-shadow: 0px 1px 2px rgba(60, 64, 67, 0.3), 0px 1px 3px 1px rgba(60, 64, 67, 0.15);\n",
              "      fill: #174EA6;\n",
              "    }\n",
              "\n",
              "    [theme=dark] .colab-df-convert {\n",
              "      background-color: #3B4455;\n",
              "      fill: #D2E3FC;\n",
              "    }\n",
              "\n",
              "    [theme=dark] .colab-df-convert:hover {\n",
              "      background-color: #434B5C;\n",
              "      box-shadow: 0px 1px 3px 1px rgba(0, 0, 0, 0.15);\n",
              "      filter: drop-shadow(0px 1px 2px rgba(0, 0, 0, 0.3));\n",
              "      fill: #FFFFFF;\n",
              "    }\n",
              "  </style>\n",
              "\n",
              "      <script>\n",
              "        const buttonEl =\n",
              "          document.querySelector('#df-7db4aba7-f921-4e98-b751-5c289c410b1f button.colab-df-convert');\n",
              "        buttonEl.style.display =\n",
              "          google.colab.kernel.accessAllowed ? 'block' : 'none';\n",
              "\n",
              "        async function convertToInteractive(key) {\n",
              "          const element = document.querySelector('#df-7db4aba7-f921-4e98-b751-5c289c410b1f');\n",
              "          const dataTable =\n",
              "            await google.colab.kernel.invokeFunction('convertToInteractive',\n",
              "                                                     [key], {});\n",
              "          if (!dataTable) return;\n",
              "\n",
              "          const docLinkHtml = 'Like what you see? Visit the ' +\n",
              "            '<a target=\"_blank\" href=https://colab.research.google.com/notebooks/data_table.ipynb>data table notebook</a>'\n",
              "            + ' to learn more about interactive tables.';\n",
              "          element.innerHTML = '';\n",
              "          dataTable['output_type'] = 'display_data';\n",
              "          await google.colab.output.renderOutput(dataTable, element);\n",
              "          const docLink = document.createElement('div');\n",
              "          docLink.innerHTML = docLinkHtml;\n",
              "          element.appendChild(docLink);\n",
              "        }\n",
              "      </script>\n",
              "    </div>\n",
              "  </div>\n",
              "  "
            ]
          },
          "metadata": {},
          "execution_count": 98
        }
      ]
    },
    {
      "cell_type": "markdown",
      "source": [
        "**Experiment 1 Results:** Unfreezing the BERT model layers helped with increasing the F1 score to 0.9745 on running the model for 3 epochs. The performance on the training set was excellent which may mean that we're slightly overfitting. \n",
        "\n",
        "Because the performance kept improving we may try to run on a couple more epochs to see if overfitting becomes worse and see if we will hit lower performance on the validation set."
      ],
      "metadata": {
        "id": "7l9OgX4CCA8m"
      }
    },
    {
      "cell_type": "code",
      "source": [
        "# unfreeze layers\n",
        "pooled_bert_model_unfreeze = create_bert_pooled_model(train_layers=1)"
      ],
      "metadata": {
        "colab": {
          "base_uri": "https://localhost:8080/"
        },
        "id": "wOcZs6nZCwYq",
        "outputId": "cc097773-72db-414a-a3b1-f55ca9d23feb"
      },
      "execution_count": null,
      "outputs": [
        {
          "output_type": "stream",
          "name": "stderr",
          "text": [
            "Some layers from the model checkpoint at bert-base-cased were not used when initializing TFBertModel: ['nsp___cls', 'mlm___cls']\n",
            "- This IS expected if you are initializing TFBertModel from the checkpoint of a model trained on another task or with another architecture (e.g. initializing a BertForSequenceClassification model from a BertForPreTraining model).\n",
            "- This IS NOT expected if you are initializing TFBertModel from the checkpoint of a model that you expect to be exactly identical (initializing a BertForSequenceClassification model from a BertForSequenceClassification model).\n",
            "All the layers of TFBertModel were initialized from the model checkpoint at bert-base-cased.\n",
            "If your task is similar to the task the model of the checkpoint was trained on, you can already use TFBertModel for predictions without further training.\n"
          ]
        }
      ]
    },
    {
      "cell_type": "code",
      "source": [
        "# change to 5 epochs\n",
        "pooled_bert_model_history = pooled_bert_model_unfreeze.fit([x_train.input_ids, x_train.token_type_ids, x_train.attention_mask], \n",
        "                                                  y_train,   \n",
        "                                                  validation_data=([x_test.input_ids, x_test.token_type_ids, x_test.attention_mask], y_test),    \n",
        "                                                  batch_size=8, \n",
        "                                                  epochs=5) "
      ],
      "metadata": {
        "colab": {
          "base_uri": "https://localhost:8080/"
        },
        "id": "0sSSN7ULC1es",
        "outputId": "a96ba460-ea57-46c1-c0a1-173bb781d77d"
      },
      "execution_count": null,
      "outputs": [
        {
          "output_type": "stream",
          "name": "stdout",
          "text": [
            "Epoch 1/5\n",
            "WARNING:tensorflow:Gradients do not exist for variables ['tf_bert_model_5/bert/embeddings/word_embeddings/weight:0', 'tf_bert_model_5/bert/embeddings/token_type_embeddings/embeddings:0', 'tf_bert_model_5/bert/embeddings/position_embeddings/embeddings:0', 'tf_bert_model_5/bert/embeddings/LayerNorm/gamma:0', 'tf_bert_model_5/bert/embeddings/LayerNorm/beta:0', 'tf_bert_model_5/bert/encoder/layer_._0/attention/self/query/kernel:0', 'tf_bert_model_5/bert/encoder/layer_._0/attention/self/query/bias:0', 'tf_bert_model_5/bert/encoder/layer_._0/attention/self/key/kernel:0', 'tf_bert_model_5/bert/encoder/layer_._0/attention/self/key/bias:0', 'tf_bert_model_5/bert/encoder/layer_._0/attention/self/value/kernel:0', 'tf_bert_model_5/bert/encoder/layer_._0/attention/self/value/bias:0', 'tf_bert_model_5/bert/encoder/layer_._0/attention/output/dense/kernel:0', 'tf_bert_model_5/bert/encoder/layer_._0/attention/output/dense/bias:0', 'tf_bert_model_5/bert/encoder/layer_._0/attention/output/LayerNorm/gamma:0', 'tf_bert_model_5/bert/encoder/layer_._0/attention/output/LayerNorm/beta:0', 'tf_bert_model_5/bert/encoder/layer_._0/intermediate/dense/kernel:0', 'tf_bert_model_5/bert/encoder/layer_._0/intermediate/dense/bias:0', 'tf_bert_model_5/bert/encoder/layer_._0/output/dense/kernel:0', 'tf_bert_model_5/bert/encoder/layer_._0/output/dense/bias:0', 'tf_bert_model_5/bert/encoder/layer_._0/output/LayerNorm/gamma:0', 'tf_bert_model_5/bert/encoder/layer_._0/output/LayerNorm/beta:0', 'tf_bert_model_5/bert/encoder/layer_._1/attention/self/query/kernel:0', 'tf_bert_model_5/bert/encoder/layer_._1/attention/self/query/bias:0', 'tf_bert_model_5/bert/encoder/layer_._1/attention/self/key/kernel:0', 'tf_bert_model_5/bert/encoder/layer_._1/attention/self/key/bias:0', 'tf_bert_model_5/bert/encoder/layer_._1/attention/self/value/kernel:0', 'tf_bert_model_5/bert/encoder/layer_._1/attention/self/value/bias:0', 'tf_bert_model_5/bert/encoder/layer_._1/attention/output/dense/kernel:0', 'tf_bert_model_5/bert/encoder/layer_._1/attention/output/dense/bias:0', 'tf_bert_model_5/bert/encoder/layer_._1/attention/output/LayerNorm/gamma:0', 'tf_bert_model_5/bert/encoder/layer_._1/attention/output/LayerNorm/beta:0', 'tf_bert_model_5/bert/encoder/layer_._1/intermediate/dense/kernel:0', 'tf_bert_model_5/bert/encoder/layer_._1/intermediate/dense/bias:0', 'tf_bert_model_5/bert/encoder/layer_._1/output/dense/kernel:0', 'tf_bert_model_5/bert/encoder/layer_._1/output/dense/bias:0', 'tf_bert_model_5/bert/encoder/layer_._1/output/LayerNorm/gamma:0', 'tf_bert_model_5/bert/encoder/layer_._1/output/LayerNorm/beta:0', 'tf_bert_model_5/bert/encoder/layer_._2/attention/self/query/kernel:0', 'tf_bert_model_5/bert/encoder/layer_._2/attention/self/query/bias:0', 'tf_bert_model_5/bert/encoder/layer_._2/attention/self/key/kernel:0', 'tf_bert_model_5/bert/encoder/layer_._2/attention/self/key/bias:0', 'tf_bert_model_5/bert/encoder/layer_._2/attention/self/value/kernel:0', 'tf_bert_model_5/bert/encoder/layer_._2/attention/self/value/bias:0', 'tf_bert_model_5/bert/encoder/layer_._2/attention/output/dense/kernel:0', 'tf_bert_model_5/bert/encoder/layer_._2/attention/output/dense/bias:0', 'tf_bert_model_5/bert/encoder/layer_._2/attention/output/LayerNorm/gamma:0', 'tf_bert_model_5/bert/encoder/layer_._2/attention/output/LayerNorm/beta:0', 'tf_bert_model_5/bert/encoder/layer_._2/intermediate/dense/kernel:0', 'tf_bert_model_5/bert/encoder/layer_._2/intermediate/dense/bias:0', 'tf_bert_model_5/bert/encoder/layer_._2/output/dense/kernel:0', 'tf_bert_model_5/bert/encoder/layer_._2/output/dense/bias:0', 'tf_bert_model_5/bert/encoder/layer_._2/output/LayerNorm/gamma:0', 'tf_bert_model_5/bert/encoder/layer_._2/output/LayerNorm/beta:0', 'tf_bert_model_5/bert/encoder/layer_._3/attention/self/query/kernel:0', 'tf_bert_model_5/bert/encoder/layer_._3/attention/self/query/bias:0', 'tf_bert_model_5/bert/encoder/layer_._3/attention/self/key/kernel:0', 'tf_bert_model_5/bert/encoder/layer_._3/attention/self/key/bias:0', 'tf_bert_model_5/bert/encoder/layer_._3/attention/self/value/kernel:0', 'tf_bert_model_5/bert/encoder/layer_._3/attention/self/value/bias:0', 'tf_bert_model_5/bert/encoder/layer_._3/attention/output/dense/kernel:0', 'tf_bert_model_5/bert/encoder/layer_._3/attention/output/dense/bias:0', 'tf_bert_model_5/bert/encoder/layer_._3/attention/output/LayerNorm/gamma:0', 'tf_bert_model_5/bert/encoder/layer_._3/attention/output/LayerNorm/beta:0', 'tf_bert_model_5/bert/encoder/layer_._3/intermediate/dense/kernel:0', 'tf_bert_model_5/bert/encoder/layer_._3/intermediate/dense/bias:0', 'tf_bert_model_5/bert/encoder/layer_._3/output/dense/kernel:0', 'tf_bert_model_5/bert/encoder/layer_._3/output/dense/bias:0', 'tf_bert_model_5/bert/encoder/layer_._3/output/LayerNorm/gamma:0', 'tf_bert_model_5/bert/encoder/layer_._3/output/LayerNorm/beta:0', 'tf_bert_model_5/bert/encoder/layer_._4/attention/self/query/kernel:0', 'tf_bert_model_5/bert/encoder/layer_._4/attention/self/query/bias:0', 'tf_bert_model_5/bert/encoder/layer_._4/attention/self/key/kernel:0', 'tf_bert_model_5/bert/encoder/layer_._4/attention/self/key/bias:0', 'tf_bert_model_5/bert/encoder/layer_._4/attention/self/value/kernel:0', 'tf_bert_model_5/bert/encoder/layer_._4/attention/self/value/bias:0', 'tf_bert_model_5/bert/encoder/layer_._4/attention/output/dense/kernel:0', 'tf_bert_model_5/bert/encoder/layer_._4/attention/output/dense/bias:0', 'tf_bert_model_5/bert/encoder/layer_._4/attention/output/LayerNorm/gamma:0', 'tf_bert_model_5/bert/encoder/layer_._4/attention/output/LayerNorm/beta:0', 'tf_bert_model_5/bert/encoder/layer_._4/intermediate/dense/kernel:0', 'tf_bert_model_5/bert/encoder/layer_._4/intermediate/dense/bias:0', 'tf_bert_model_5/bert/encoder/layer_._4/output/dense/kernel:0', 'tf_bert_model_5/bert/encoder/layer_._4/output/dense/bias:0', 'tf_bert_model_5/bert/encoder/layer_._4/output/LayerNorm/gamma:0', 'tf_bert_model_5/bert/encoder/layer_._4/output/LayerNorm/beta:0', 'tf_bert_model_5/bert/encoder/layer_._5/attention/self/query/kernel:0', 'tf_bert_model_5/bert/encoder/layer_._5/attention/self/query/bias:0', 'tf_bert_model_5/bert/encoder/layer_._5/attention/self/key/kernel:0', 'tf_bert_model_5/bert/encoder/layer_._5/attention/self/key/bias:0', 'tf_bert_model_5/bert/encoder/layer_._5/attention/self/value/kernel:0', 'tf_bert_model_5/bert/encoder/layer_._5/attention/self/value/bias:0', 'tf_bert_model_5/bert/encoder/layer_._5/attention/output/dense/kernel:0', 'tf_bert_model_5/bert/encoder/layer_._5/attention/output/dense/bias:0', 'tf_bert_model_5/bert/encoder/layer_._5/attention/output/LayerNorm/gamma:0', 'tf_bert_model_5/bert/encoder/layer_._5/attention/output/LayerNorm/beta:0', 'tf_bert_model_5/bert/encoder/layer_._5/intermediate/dense/kernel:0', 'tf_bert_model_5/bert/encoder/layer_._5/intermediate/dense/bias:0', 'tf_bert_model_5/bert/encoder/layer_._5/output/dense/kernel:0', 'tf_bert_model_5/bert/encoder/layer_._5/output/dense/bias:0', 'tf_bert_model_5/bert/encoder/layer_._5/output/LayerNorm/gamma:0', 'tf_bert_model_5/bert/encoder/layer_._5/output/LayerNorm/beta:0', 'tf_bert_model_5/bert/encoder/layer_._6/attention/self/query/kernel:0', 'tf_bert_model_5/bert/encoder/layer_._6/attention/self/query/bias:0', 'tf_bert_model_5/bert/encoder/layer_._6/attention/self/key/kernel:0', 'tf_bert_model_5/bert/encoder/layer_._6/attention/self/key/bias:0', 'tf_bert_model_5/bert/encoder/layer_._6/attention/self/value/kernel:0', 'tf_bert_model_5/bert/encoder/layer_._6/attention/self/value/bias:0', 'tf_bert_model_5/bert/encoder/layer_._6/attention/output/dense/kernel:0', 'tf_bert_model_5/bert/encoder/layer_._6/attention/output/dense/bias:0', 'tf_bert_model_5/bert/encoder/layer_._6/attention/output/LayerNorm/gamma:0', 'tf_bert_model_5/bert/encoder/layer_._6/attention/output/LayerNorm/beta:0', 'tf_bert_model_5/bert/encoder/layer_._6/intermediate/dense/kernel:0', 'tf_bert_model_5/bert/encoder/layer_._6/intermediate/dense/bias:0', 'tf_bert_model_5/bert/encoder/layer_._6/output/dense/kernel:0', 'tf_bert_model_5/bert/encoder/layer_._6/output/dense/bias:0', 'tf_bert_model_5/bert/encoder/layer_._6/output/LayerNorm/gamma:0', 'tf_bert_model_5/bert/encoder/layer_._6/output/LayerNorm/beta:0', 'tf_bert_model_5/bert/encoder/layer_._7/attention/self/query/kernel:0', 'tf_bert_model_5/bert/encoder/layer_._7/attention/self/query/bias:0', 'tf_bert_model_5/bert/encoder/layer_._7/attention/self/key/kernel:0', 'tf_bert_model_5/bert/encoder/layer_._7/attention/self/key/bias:0', 'tf_bert_model_5/bert/encoder/layer_._7/attention/self/value/kernel:0', 'tf_bert_model_5/bert/encoder/layer_._7/attention/self/value/bias:0', 'tf_bert_model_5/bert/encoder/layer_._7/attention/output/dense/kernel:0', 'tf_bert_model_5/bert/encoder/layer_._7/attention/output/dense/bias:0', 'tf_bert_model_5/bert/encoder/layer_._7/attention/output/LayerNorm/gamma:0', 'tf_bert_model_5/bert/encoder/layer_._7/attention/output/LayerNorm/beta:0', 'tf_bert_model_5/bert/encoder/layer_._7/intermediate/dense/kernel:0', 'tf_bert_model_5/bert/encoder/layer_._7/intermediate/dense/bias:0', 'tf_bert_model_5/bert/encoder/layer_._7/output/dense/kernel:0', 'tf_bert_model_5/bert/encoder/layer_._7/output/dense/bias:0', 'tf_bert_model_5/bert/encoder/layer_._7/output/LayerNorm/gamma:0', 'tf_bert_model_5/bert/encoder/layer_._7/output/LayerNorm/beta:0', 'tf_bert_model_5/bert/encoder/layer_._8/attention/self/query/kernel:0', 'tf_bert_model_5/bert/encoder/layer_._8/attention/self/query/bias:0', 'tf_bert_model_5/bert/encoder/layer_._8/attention/self/key/kernel:0', 'tf_bert_model_5/bert/encoder/layer_._8/attention/self/key/bias:0', 'tf_bert_model_5/bert/encoder/layer_._8/attention/self/value/kernel:0', 'tf_bert_model_5/bert/encoder/layer_._8/attention/self/value/bias:0', 'tf_bert_model_5/bert/encoder/layer_._8/attention/output/dense/kernel:0', 'tf_bert_model_5/bert/encoder/layer_._8/attention/output/dense/bias:0', 'tf_bert_model_5/bert/encoder/layer_._8/attention/output/LayerNorm/gamma:0', 'tf_bert_model_5/bert/encoder/layer_._8/attention/output/LayerNorm/beta:0', 'tf_bert_model_5/bert/encoder/layer_._8/intermediate/dense/kernel:0', 'tf_bert_model_5/bert/encoder/layer_._8/intermediate/dense/bias:0', 'tf_bert_model_5/bert/encoder/layer_._8/output/dense/kernel:0', 'tf_bert_model_5/bert/encoder/layer_._8/output/dense/bias:0', 'tf_bert_model_5/bert/encoder/layer_._8/output/LayerNorm/gamma:0', 'tf_bert_model_5/bert/encoder/layer_._8/output/LayerNorm/beta:0', 'tf_bert_model_5/bert/encoder/layer_._9/attention/self/query/kernel:0', 'tf_bert_model_5/bert/encoder/layer_._9/attention/self/query/bias:0', 'tf_bert_model_5/bert/encoder/layer_._9/attention/self/key/kernel:0', 'tf_bert_model_5/bert/encoder/layer_._9/attention/self/key/bias:0', 'tf_bert_model_5/bert/encoder/layer_._9/attention/self/value/kernel:0', 'tf_bert_model_5/bert/encoder/layer_._9/attention/self/value/bias:0', 'tf_bert_model_5/bert/encoder/layer_._9/attention/output/dense/kernel:0', 'tf_bert_model_5/bert/encoder/layer_._9/attention/output/dense/bias:0', 'tf_bert_model_5/bert/encoder/layer_._9/attention/output/LayerNorm/gamma:0', 'tf_bert_model_5/bert/encoder/layer_._9/attention/output/LayerNorm/beta:0', 'tf_bert_model_5/bert/encoder/layer_._9/intermediate/dense/kernel:0', 'tf_bert_model_5/bert/encoder/layer_._9/intermediate/dense/bias:0', 'tf_bert_model_5/bert/encoder/layer_._9/output/dense/kernel:0', 'tf_bert_model_5/bert/encoder/layer_._9/output/dense/bias:0', 'tf_bert_model_5/bert/encoder/layer_._9/output/LayerNorm/gamma:0', 'tf_bert_model_5/bert/encoder/layer_._9/output/LayerNorm/beta:0', 'tf_bert_model_5/bert/encoder/layer_._10/attention/self/query/kernel:0', 'tf_bert_model_5/bert/encoder/layer_._10/attention/self/query/bias:0', 'tf_bert_model_5/bert/encoder/layer_._10/attention/self/key/kernel:0', 'tf_bert_model_5/bert/encoder/layer_._10/attention/self/key/bias:0', 'tf_bert_model_5/bert/encoder/layer_._10/attention/self/value/kernel:0', 'tf_bert_model_5/bert/encoder/layer_._10/attention/self/value/bias:0', 'tf_bert_model_5/bert/encoder/layer_._10/attention/output/dense/kernel:0', 'tf_bert_model_5/bert/encoder/layer_._10/attention/output/dense/bias:0', 'tf_bert_model_5/bert/encoder/layer_._10/attention/output/LayerNorm/gamma:0', 'tf_bert_model_5/bert/encoder/layer_._10/attention/output/LayerNorm/beta:0', 'tf_bert_model_5/bert/encoder/layer_._10/intermediate/dense/kernel:0', 'tf_bert_model_5/bert/encoder/layer_._10/intermediate/dense/bias:0', 'tf_bert_model_5/bert/encoder/layer_._10/output/dense/kernel:0', 'tf_bert_model_5/bert/encoder/layer_._10/output/dense/bias:0', 'tf_bert_model_5/bert/encoder/layer_._10/output/LayerNorm/gamma:0', 'tf_bert_model_5/bert/encoder/layer_._10/output/LayerNorm/beta:0', 'tf_bert_model_5/bert/pooler/dense/kernel:0', 'tf_bert_model_5/bert/pooler/dense/bias:0'] when minimizing the loss. If you're using `model.compile()`, did you forget to provide a `loss`argument?\n",
            "WARNING:tensorflow:Gradients do not exist for variables ['tf_bert_model_5/bert/embeddings/word_embeddings/weight:0', 'tf_bert_model_5/bert/embeddings/token_type_embeddings/embeddings:0', 'tf_bert_model_5/bert/embeddings/position_embeddings/embeddings:0', 'tf_bert_model_5/bert/embeddings/LayerNorm/gamma:0', 'tf_bert_model_5/bert/embeddings/LayerNorm/beta:0', 'tf_bert_model_5/bert/encoder/layer_._0/attention/self/query/kernel:0', 'tf_bert_model_5/bert/encoder/layer_._0/attention/self/query/bias:0', 'tf_bert_model_5/bert/encoder/layer_._0/attention/self/key/kernel:0', 'tf_bert_model_5/bert/encoder/layer_._0/attention/self/key/bias:0', 'tf_bert_model_5/bert/encoder/layer_._0/attention/self/value/kernel:0', 'tf_bert_model_5/bert/encoder/layer_._0/attention/self/value/bias:0', 'tf_bert_model_5/bert/encoder/layer_._0/attention/output/dense/kernel:0', 'tf_bert_model_5/bert/encoder/layer_._0/attention/output/dense/bias:0', 'tf_bert_model_5/bert/encoder/layer_._0/attention/output/LayerNorm/gamma:0', 'tf_bert_model_5/bert/encoder/layer_._0/attention/output/LayerNorm/beta:0', 'tf_bert_model_5/bert/encoder/layer_._0/intermediate/dense/kernel:0', 'tf_bert_model_5/bert/encoder/layer_._0/intermediate/dense/bias:0', 'tf_bert_model_5/bert/encoder/layer_._0/output/dense/kernel:0', 'tf_bert_model_5/bert/encoder/layer_._0/output/dense/bias:0', 'tf_bert_model_5/bert/encoder/layer_._0/output/LayerNorm/gamma:0', 'tf_bert_model_5/bert/encoder/layer_._0/output/LayerNorm/beta:0', 'tf_bert_model_5/bert/encoder/layer_._1/attention/self/query/kernel:0', 'tf_bert_model_5/bert/encoder/layer_._1/attention/self/query/bias:0', 'tf_bert_model_5/bert/encoder/layer_._1/attention/self/key/kernel:0', 'tf_bert_model_5/bert/encoder/layer_._1/attention/self/key/bias:0', 'tf_bert_model_5/bert/encoder/layer_._1/attention/self/value/kernel:0', 'tf_bert_model_5/bert/encoder/layer_._1/attention/self/value/bias:0', 'tf_bert_model_5/bert/encoder/layer_._1/attention/output/dense/kernel:0', 'tf_bert_model_5/bert/encoder/layer_._1/attention/output/dense/bias:0', 'tf_bert_model_5/bert/encoder/layer_._1/attention/output/LayerNorm/gamma:0', 'tf_bert_model_5/bert/encoder/layer_._1/attention/output/LayerNorm/beta:0', 'tf_bert_model_5/bert/encoder/layer_._1/intermediate/dense/kernel:0', 'tf_bert_model_5/bert/encoder/layer_._1/intermediate/dense/bias:0', 'tf_bert_model_5/bert/encoder/layer_._1/output/dense/kernel:0', 'tf_bert_model_5/bert/encoder/layer_._1/output/dense/bias:0', 'tf_bert_model_5/bert/encoder/layer_._1/output/LayerNorm/gamma:0', 'tf_bert_model_5/bert/encoder/layer_._1/output/LayerNorm/beta:0', 'tf_bert_model_5/bert/encoder/layer_._2/attention/self/query/kernel:0', 'tf_bert_model_5/bert/encoder/layer_._2/attention/self/query/bias:0', 'tf_bert_model_5/bert/encoder/layer_._2/attention/self/key/kernel:0', 'tf_bert_model_5/bert/encoder/layer_._2/attention/self/key/bias:0', 'tf_bert_model_5/bert/encoder/layer_._2/attention/self/value/kernel:0', 'tf_bert_model_5/bert/encoder/layer_._2/attention/self/value/bias:0', 'tf_bert_model_5/bert/encoder/layer_._2/attention/output/dense/kernel:0', 'tf_bert_model_5/bert/encoder/layer_._2/attention/output/dense/bias:0', 'tf_bert_model_5/bert/encoder/layer_._2/attention/output/LayerNorm/gamma:0', 'tf_bert_model_5/bert/encoder/layer_._2/attention/output/LayerNorm/beta:0', 'tf_bert_model_5/bert/encoder/layer_._2/intermediate/dense/kernel:0', 'tf_bert_model_5/bert/encoder/layer_._2/intermediate/dense/bias:0', 'tf_bert_model_5/bert/encoder/layer_._2/output/dense/kernel:0', 'tf_bert_model_5/bert/encoder/layer_._2/output/dense/bias:0', 'tf_bert_model_5/bert/encoder/layer_._2/output/LayerNorm/gamma:0', 'tf_bert_model_5/bert/encoder/layer_._2/output/LayerNorm/beta:0', 'tf_bert_model_5/bert/encoder/layer_._3/attention/self/query/kernel:0', 'tf_bert_model_5/bert/encoder/layer_._3/attention/self/query/bias:0', 'tf_bert_model_5/bert/encoder/layer_._3/attention/self/key/kernel:0', 'tf_bert_model_5/bert/encoder/layer_._3/attention/self/key/bias:0', 'tf_bert_model_5/bert/encoder/layer_._3/attention/self/value/kernel:0', 'tf_bert_model_5/bert/encoder/layer_._3/attention/self/value/bias:0', 'tf_bert_model_5/bert/encoder/layer_._3/attention/output/dense/kernel:0', 'tf_bert_model_5/bert/encoder/layer_._3/attention/output/dense/bias:0', 'tf_bert_model_5/bert/encoder/layer_._3/attention/output/LayerNorm/gamma:0', 'tf_bert_model_5/bert/encoder/layer_._3/attention/output/LayerNorm/beta:0', 'tf_bert_model_5/bert/encoder/layer_._3/intermediate/dense/kernel:0', 'tf_bert_model_5/bert/encoder/layer_._3/intermediate/dense/bias:0', 'tf_bert_model_5/bert/encoder/layer_._3/output/dense/kernel:0', 'tf_bert_model_5/bert/encoder/layer_._3/output/dense/bias:0', 'tf_bert_model_5/bert/encoder/layer_._3/output/LayerNorm/gamma:0', 'tf_bert_model_5/bert/encoder/layer_._3/output/LayerNorm/beta:0', 'tf_bert_model_5/bert/encoder/layer_._4/attention/self/query/kernel:0', 'tf_bert_model_5/bert/encoder/layer_._4/attention/self/query/bias:0', 'tf_bert_model_5/bert/encoder/layer_._4/attention/self/key/kernel:0', 'tf_bert_model_5/bert/encoder/layer_._4/attention/self/key/bias:0', 'tf_bert_model_5/bert/encoder/layer_._4/attention/self/value/kernel:0', 'tf_bert_model_5/bert/encoder/layer_._4/attention/self/value/bias:0', 'tf_bert_model_5/bert/encoder/layer_._4/attention/output/dense/kernel:0', 'tf_bert_model_5/bert/encoder/layer_._4/attention/output/dense/bias:0', 'tf_bert_model_5/bert/encoder/layer_._4/attention/output/LayerNorm/gamma:0', 'tf_bert_model_5/bert/encoder/layer_._4/attention/output/LayerNorm/beta:0', 'tf_bert_model_5/bert/encoder/layer_._4/intermediate/dense/kernel:0', 'tf_bert_model_5/bert/encoder/layer_._4/intermediate/dense/bias:0', 'tf_bert_model_5/bert/encoder/layer_._4/output/dense/kernel:0', 'tf_bert_model_5/bert/encoder/layer_._4/output/dense/bias:0', 'tf_bert_model_5/bert/encoder/layer_._4/output/LayerNorm/gamma:0', 'tf_bert_model_5/bert/encoder/layer_._4/output/LayerNorm/beta:0', 'tf_bert_model_5/bert/encoder/layer_._5/attention/self/query/kernel:0', 'tf_bert_model_5/bert/encoder/layer_._5/attention/self/query/bias:0', 'tf_bert_model_5/bert/encoder/layer_._5/attention/self/key/kernel:0', 'tf_bert_model_5/bert/encoder/layer_._5/attention/self/key/bias:0', 'tf_bert_model_5/bert/encoder/layer_._5/attention/self/value/kernel:0', 'tf_bert_model_5/bert/encoder/layer_._5/attention/self/value/bias:0', 'tf_bert_model_5/bert/encoder/layer_._5/attention/output/dense/kernel:0', 'tf_bert_model_5/bert/encoder/layer_._5/attention/output/dense/bias:0', 'tf_bert_model_5/bert/encoder/layer_._5/attention/output/LayerNorm/gamma:0', 'tf_bert_model_5/bert/encoder/layer_._5/attention/output/LayerNorm/beta:0', 'tf_bert_model_5/bert/encoder/layer_._5/intermediate/dense/kernel:0', 'tf_bert_model_5/bert/encoder/layer_._5/intermediate/dense/bias:0', 'tf_bert_model_5/bert/encoder/layer_._5/output/dense/kernel:0', 'tf_bert_model_5/bert/encoder/layer_._5/output/dense/bias:0', 'tf_bert_model_5/bert/encoder/layer_._5/output/LayerNorm/gamma:0', 'tf_bert_model_5/bert/encoder/layer_._5/output/LayerNorm/beta:0', 'tf_bert_model_5/bert/encoder/layer_._6/attention/self/query/kernel:0', 'tf_bert_model_5/bert/encoder/layer_._6/attention/self/query/bias:0', 'tf_bert_model_5/bert/encoder/layer_._6/attention/self/key/kernel:0', 'tf_bert_model_5/bert/encoder/layer_._6/attention/self/key/bias:0', 'tf_bert_model_5/bert/encoder/layer_._6/attention/self/value/kernel:0', 'tf_bert_model_5/bert/encoder/layer_._6/attention/self/value/bias:0', 'tf_bert_model_5/bert/encoder/layer_._6/attention/output/dense/kernel:0', 'tf_bert_model_5/bert/encoder/layer_._6/attention/output/dense/bias:0', 'tf_bert_model_5/bert/encoder/layer_._6/attention/output/LayerNorm/gamma:0', 'tf_bert_model_5/bert/encoder/layer_._6/attention/output/LayerNorm/beta:0', 'tf_bert_model_5/bert/encoder/layer_._6/intermediate/dense/kernel:0', 'tf_bert_model_5/bert/encoder/layer_._6/intermediate/dense/bias:0', 'tf_bert_model_5/bert/encoder/layer_._6/output/dense/kernel:0', 'tf_bert_model_5/bert/encoder/layer_._6/output/dense/bias:0', 'tf_bert_model_5/bert/encoder/layer_._6/output/LayerNorm/gamma:0', 'tf_bert_model_5/bert/encoder/layer_._6/output/LayerNorm/beta:0', 'tf_bert_model_5/bert/encoder/layer_._7/attention/self/query/kernel:0', 'tf_bert_model_5/bert/encoder/layer_._7/attention/self/query/bias:0', 'tf_bert_model_5/bert/encoder/layer_._7/attention/self/key/kernel:0', 'tf_bert_model_5/bert/encoder/layer_._7/attention/self/key/bias:0', 'tf_bert_model_5/bert/encoder/layer_._7/attention/self/value/kernel:0', 'tf_bert_model_5/bert/encoder/layer_._7/attention/self/value/bias:0', 'tf_bert_model_5/bert/encoder/layer_._7/attention/output/dense/kernel:0', 'tf_bert_model_5/bert/encoder/layer_._7/attention/output/dense/bias:0', 'tf_bert_model_5/bert/encoder/layer_._7/attention/output/LayerNorm/gamma:0', 'tf_bert_model_5/bert/encoder/layer_._7/attention/output/LayerNorm/beta:0', 'tf_bert_model_5/bert/encoder/layer_._7/intermediate/dense/kernel:0', 'tf_bert_model_5/bert/encoder/layer_._7/intermediate/dense/bias:0', 'tf_bert_model_5/bert/encoder/layer_._7/output/dense/kernel:0', 'tf_bert_model_5/bert/encoder/layer_._7/output/dense/bias:0', 'tf_bert_model_5/bert/encoder/layer_._7/output/LayerNorm/gamma:0', 'tf_bert_model_5/bert/encoder/layer_._7/output/LayerNorm/beta:0', 'tf_bert_model_5/bert/encoder/layer_._8/attention/self/query/kernel:0', 'tf_bert_model_5/bert/encoder/layer_._8/attention/self/query/bias:0', 'tf_bert_model_5/bert/encoder/layer_._8/attention/self/key/kernel:0', 'tf_bert_model_5/bert/encoder/layer_._8/attention/self/key/bias:0', 'tf_bert_model_5/bert/encoder/layer_._8/attention/self/value/kernel:0', 'tf_bert_model_5/bert/encoder/layer_._8/attention/self/value/bias:0', 'tf_bert_model_5/bert/encoder/layer_._8/attention/output/dense/kernel:0', 'tf_bert_model_5/bert/encoder/layer_._8/attention/output/dense/bias:0', 'tf_bert_model_5/bert/encoder/layer_._8/attention/output/LayerNorm/gamma:0', 'tf_bert_model_5/bert/encoder/layer_._8/attention/output/LayerNorm/beta:0', 'tf_bert_model_5/bert/encoder/layer_._8/intermediate/dense/kernel:0', 'tf_bert_model_5/bert/encoder/layer_._8/intermediate/dense/bias:0', 'tf_bert_model_5/bert/encoder/layer_._8/output/dense/kernel:0', 'tf_bert_model_5/bert/encoder/layer_._8/output/dense/bias:0', 'tf_bert_model_5/bert/encoder/layer_._8/output/LayerNorm/gamma:0', 'tf_bert_model_5/bert/encoder/layer_._8/output/LayerNorm/beta:0', 'tf_bert_model_5/bert/encoder/layer_._9/attention/self/query/kernel:0', 'tf_bert_model_5/bert/encoder/layer_._9/attention/self/query/bias:0', 'tf_bert_model_5/bert/encoder/layer_._9/attention/self/key/kernel:0', 'tf_bert_model_5/bert/encoder/layer_._9/attention/self/key/bias:0', 'tf_bert_model_5/bert/encoder/layer_._9/attention/self/value/kernel:0', 'tf_bert_model_5/bert/encoder/layer_._9/attention/self/value/bias:0', 'tf_bert_model_5/bert/encoder/layer_._9/attention/output/dense/kernel:0', 'tf_bert_model_5/bert/encoder/layer_._9/attention/output/dense/bias:0', 'tf_bert_model_5/bert/encoder/layer_._9/attention/output/LayerNorm/gamma:0', 'tf_bert_model_5/bert/encoder/layer_._9/attention/output/LayerNorm/beta:0', 'tf_bert_model_5/bert/encoder/layer_._9/intermediate/dense/kernel:0', 'tf_bert_model_5/bert/encoder/layer_._9/intermediate/dense/bias:0', 'tf_bert_model_5/bert/encoder/layer_._9/output/dense/kernel:0', 'tf_bert_model_5/bert/encoder/layer_._9/output/dense/bias:0', 'tf_bert_model_5/bert/encoder/layer_._9/output/LayerNorm/gamma:0', 'tf_bert_model_5/bert/encoder/layer_._9/output/LayerNorm/beta:0', 'tf_bert_model_5/bert/encoder/layer_._10/attention/self/query/kernel:0', 'tf_bert_model_5/bert/encoder/layer_._10/attention/self/query/bias:0', 'tf_bert_model_5/bert/encoder/layer_._10/attention/self/key/kernel:0', 'tf_bert_model_5/bert/encoder/layer_._10/attention/self/key/bias:0', 'tf_bert_model_5/bert/encoder/layer_._10/attention/self/value/kernel:0', 'tf_bert_model_5/bert/encoder/layer_._10/attention/self/value/bias:0', 'tf_bert_model_5/bert/encoder/layer_._10/attention/output/dense/kernel:0', 'tf_bert_model_5/bert/encoder/layer_._10/attention/output/dense/bias:0', 'tf_bert_model_5/bert/encoder/layer_._10/attention/output/LayerNorm/gamma:0', 'tf_bert_model_5/bert/encoder/layer_._10/attention/output/LayerNorm/beta:0', 'tf_bert_model_5/bert/encoder/layer_._10/intermediate/dense/kernel:0', 'tf_bert_model_5/bert/encoder/layer_._10/intermediate/dense/bias:0', 'tf_bert_model_5/bert/encoder/layer_._10/output/dense/kernel:0', 'tf_bert_model_5/bert/encoder/layer_._10/output/dense/bias:0', 'tf_bert_model_5/bert/encoder/layer_._10/output/LayerNorm/gamma:0', 'tf_bert_model_5/bert/encoder/layer_._10/output/LayerNorm/beta:0', 'tf_bert_model_5/bert/pooler/dense/kernel:0', 'tf_bert_model_5/bert/pooler/dense/bias:0'] when minimizing the loss. If you're using `model.compile()`, did you forget to provide a `loss`argument?\n",
            "611/611 [==============================] - 33s 42ms/step - loss: 0.0920 - accuracy: 0.9662 - val_loss: 0.0627 - val_accuracy: 0.9828\n",
            "Epoch 2/5\n",
            "611/611 [==============================] - 23s 37ms/step - loss: 0.0318 - accuracy: 0.9908 - val_loss: 0.0645 - val_accuracy: 0.9853\n",
            "Epoch 3/5\n",
            "611/611 [==============================] - 22s 37ms/step - loss: 0.0211 - accuracy: 0.9934 - val_loss: 0.0593 - val_accuracy: 0.9861\n",
            "Epoch 4/5\n",
            "611/611 [==============================] - 22s 37ms/step - loss: 0.0115 - accuracy: 0.9973 - val_loss: 0.0706 - val_accuracy: 0.9885\n",
            "Epoch 5/5\n",
            "611/611 [==============================] - 23s 38ms/step - loss: 0.0137 - accuracy: 0.9957 - val_loss: 0.0666 - val_accuracy: 0.9877\n"
          ]
        }
      ]
    },
    {
      "cell_type": "code",
      "source": [
        "train_predict_labels = pooled_bert_model_unfreeze.predict([x_train.input_ids, x_train.token_type_ids, x_train.attention_mask])\n",
        "train_y_predict = train_predict_labels.round(0)"
      ],
      "metadata": {
        "id": "_EkvhANcE1R8"
      },
      "execution_count": null,
      "outputs": []
    },
    {
      "cell_type": "code",
      "source": [
        "test_predict_labels = pooled_bert_model_unfreeze.predict([x_test.input_ids, x_test.token_type_ids, x_test.attention_mask])\n",
        "test_y_predict = test_predict_labels.round(0)"
      ],
      "metadata": {
        "id": "F3HqKj74EcdL"
      },
      "execution_count": null,
      "outputs": []
    },
    {
      "cell_type": "code",
      "source": [
        "# test\n",
        "missclassified_text = test_X[np.array(test_y, int) != test_y_predict.reshape(-1)]\n",
        "missclassified_label = test_y[np.array(test_y, int) != test_y_predict.reshape(-1)]\n",
        "\n",
        "df_report = pd.DataFrame({'missclassified_text': missclassified_text, 'true_label': missclassified_label})\n",
        "\n",
        "df_report"
      ],
      "metadata": {
        "colab": {
          "base_uri": "https://localhost:8080/",
          "height": 520
        },
        "id": "5TwzjWs8EM2w",
        "outputId": "8ebe8467-6470-47b2-c8b6-c4ff2e6bf517"
      },
      "execution_count": null,
      "outputs": [
        {
          "output_type": "execute_result",
          "data": {
            "text/plain": [
              "                                    missclassified_text  true_label\n",
              "3044        Your bill at 3 is £33.65 so thats not bad!\n",
              "           0\n",
              "5667  Keep safe and let me assist you to have a CÀSH...           1\n",
              "5738  Hi! Wànt to àvàil Our Pèrsonàl Loàn? Fàst & eà...           1\n",
              "2663  Hello darling how are you today? I would love ...           1\n",
              "263   MY NO. IN LUTON 0125698789 RING ME IF UR AROUN...           0\n",
              "989   Yun ah.the ubi one say if ü wan call by tomorr...           0\n",
              "5581                                                N/a           1\n",
              "2680  New Tones This week include: 1)McFly-All Ab..,...           1\n",
              "3422  Welcome! Please reply with your AGE and GENDER...           1\n",
              "2774  How come it takes so little time for a child w...           1\n",
              "4298  thesmszone.com lets you send free anonymous an...           1\n",
              "5372  dating:i have had two of these. Only started a...           1\n",
              "6068  Keep safe and let me assist you to have a CÀSH...           1\n",
              "5709  Need additional funds? We process bank cashloa...           1\n",
              "3094  staff.science.nus.edu.sg/~phyhcmk/teaching/pc1...           0"
            ],
            "text/html": [
              "\n",
              "  <div id=\"df-e6018d12-701e-4263-906d-d71916ec1c56\">\n",
              "    <div class=\"colab-df-container\">\n",
              "      <div>\n",
              "<style scoped>\n",
              "    .dataframe tbody tr th:only-of-type {\n",
              "        vertical-align: middle;\n",
              "    }\n",
              "\n",
              "    .dataframe tbody tr th {\n",
              "        vertical-align: top;\n",
              "    }\n",
              "\n",
              "    .dataframe thead th {\n",
              "        text-align: right;\n",
              "    }\n",
              "</style>\n",
              "<table border=\"1\" class=\"dataframe\">\n",
              "  <thead>\n",
              "    <tr style=\"text-align: right;\">\n",
              "      <th></th>\n",
              "      <th>missclassified_text</th>\n",
              "      <th>true_label</th>\n",
              "    </tr>\n",
              "  </thead>\n",
              "  <tbody>\n",
              "    <tr>\n",
              "      <th>3044</th>\n",
              "      <td>Your bill at 3 is £33.65 so thats not bad!</td>\n",
              "      <td>0</td>\n",
              "    </tr>\n",
              "    <tr>\n",
              "      <th>5667</th>\n",
              "      <td>Keep safe and let me assist you to have a CÀSH...</td>\n",
              "      <td>1</td>\n",
              "    </tr>\n",
              "    <tr>\n",
              "      <th>5738</th>\n",
              "      <td>Hi! Wànt to àvàil Our Pèrsonàl Loàn? Fàst &amp; eà...</td>\n",
              "      <td>1</td>\n",
              "    </tr>\n",
              "    <tr>\n",
              "      <th>2663</th>\n",
              "      <td>Hello darling how are you today? I would love ...</td>\n",
              "      <td>1</td>\n",
              "    </tr>\n",
              "    <tr>\n",
              "      <th>263</th>\n",
              "      <td>MY NO. IN LUTON 0125698789 RING ME IF UR AROUN...</td>\n",
              "      <td>0</td>\n",
              "    </tr>\n",
              "    <tr>\n",
              "      <th>989</th>\n",
              "      <td>Yun ah.the ubi one say if ü wan call by tomorr...</td>\n",
              "      <td>0</td>\n",
              "    </tr>\n",
              "    <tr>\n",
              "      <th>5581</th>\n",
              "      <td>N/a</td>\n",
              "      <td>1</td>\n",
              "    </tr>\n",
              "    <tr>\n",
              "      <th>2680</th>\n",
              "      <td>New Tones This week include: 1)McFly-All Ab..,...</td>\n",
              "      <td>1</td>\n",
              "    </tr>\n",
              "    <tr>\n",
              "      <th>3422</th>\n",
              "      <td>Welcome! Please reply with your AGE and GENDER...</td>\n",
              "      <td>1</td>\n",
              "    </tr>\n",
              "    <tr>\n",
              "      <th>2774</th>\n",
              "      <td>How come it takes so little time for a child w...</td>\n",
              "      <td>1</td>\n",
              "    </tr>\n",
              "    <tr>\n",
              "      <th>4298</th>\n",
              "      <td>thesmszone.com lets you send free anonymous an...</td>\n",
              "      <td>1</td>\n",
              "    </tr>\n",
              "    <tr>\n",
              "      <th>5372</th>\n",
              "      <td>dating:i have had two of these. Only started a...</td>\n",
              "      <td>1</td>\n",
              "    </tr>\n",
              "    <tr>\n",
              "      <th>6068</th>\n",
              "      <td>Keep safe and let me assist you to have a CÀSH...</td>\n",
              "      <td>1</td>\n",
              "    </tr>\n",
              "    <tr>\n",
              "      <th>5709</th>\n",
              "      <td>Need additional funds? We process bank cashloa...</td>\n",
              "      <td>1</td>\n",
              "    </tr>\n",
              "    <tr>\n",
              "      <th>3094</th>\n",
              "      <td>staff.science.nus.edu.sg/~phyhcmk/teaching/pc1...</td>\n",
              "      <td>0</td>\n",
              "    </tr>\n",
              "  </tbody>\n",
              "</table>\n",
              "</div>\n",
              "      <button class=\"colab-df-convert\" onclick=\"convertToInteractive('df-e6018d12-701e-4263-906d-d71916ec1c56')\"\n",
              "              title=\"Convert this dataframe to an interactive table.\"\n",
              "              style=\"display:none;\">\n",
              "        \n",
              "  <svg xmlns=\"http://www.w3.org/2000/svg\" height=\"24px\"viewBox=\"0 0 24 24\"\n",
              "       width=\"24px\">\n",
              "    <path d=\"M0 0h24v24H0V0z\" fill=\"none\"/>\n",
              "    <path d=\"M18.56 5.44l.94 2.06.94-2.06 2.06-.94-2.06-.94-.94-2.06-.94 2.06-2.06.94zm-11 1L8.5 8.5l.94-2.06 2.06-.94-2.06-.94L8.5 2.5l-.94 2.06-2.06.94zm10 10l.94 2.06.94-2.06 2.06-.94-2.06-.94-.94-2.06-.94 2.06-2.06.94z\"/><path d=\"M17.41 7.96l-1.37-1.37c-.4-.4-.92-.59-1.43-.59-.52 0-1.04.2-1.43.59L10.3 9.45l-7.72 7.72c-.78.78-.78 2.05 0 2.83L4 21.41c.39.39.9.59 1.41.59.51 0 1.02-.2 1.41-.59l7.78-7.78 2.81-2.81c.8-.78.8-2.07 0-2.86zM5.41 20L4 18.59l7.72-7.72 1.47 1.35L5.41 20z\"/>\n",
              "  </svg>\n",
              "      </button>\n",
              "      \n",
              "  <style>\n",
              "    .colab-df-container {\n",
              "      display:flex;\n",
              "      flex-wrap:wrap;\n",
              "      gap: 12px;\n",
              "    }\n",
              "\n",
              "    .colab-df-convert {\n",
              "      background-color: #E8F0FE;\n",
              "      border: none;\n",
              "      border-radius: 50%;\n",
              "      cursor: pointer;\n",
              "      display: none;\n",
              "      fill: #1967D2;\n",
              "      height: 32px;\n",
              "      padding: 0 0 0 0;\n",
              "      width: 32px;\n",
              "    }\n",
              "\n",
              "    .colab-df-convert:hover {\n",
              "      background-color: #E2EBFA;\n",
              "      box-shadow: 0px 1px 2px rgba(60, 64, 67, 0.3), 0px 1px 3px 1px rgba(60, 64, 67, 0.15);\n",
              "      fill: #174EA6;\n",
              "    }\n",
              "\n",
              "    [theme=dark] .colab-df-convert {\n",
              "      background-color: #3B4455;\n",
              "      fill: #D2E3FC;\n",
              "    }\n",
              "\n",
              "    [theme=dark] .colab-df-convert:hover {\n",
              "      background-color: #434B5C;\n",
              "      box-shadow: 0px 1px 3px 1px rgba(0, 0, 0, 0.15);\n",
              "      filter: drop-shadow(0px 1px 2px rgba(0, 0, 0, 0.3));\n",
              "      fill: #FFFFFF;\n",
              "    }\n",
              "  </style>\n",
              "\n",
              "      <script>\n",
              "        const buttonEl =\n",
              "          document.querySelector('#df-e6018d12-701e-4263-906d-d71916ec1c56 button.colab-df-convert');\n",
              "        buttonEl.style.display =\n",
              "          google.colab.kernel.accessAllowed ? 'block' : 'none';\n",
              "\n",
              "        async function convertToInteractive(key) {\n",
              "          const element = document.querySelector('#df-e6018d12-701e-4263-906d-d71916ec1c56');\n",
              "          const dataTable =\n",
              "            await google.colab.kernel.invokeFunction('convertToInteractive',\n",
              "                                                     [key], {});\n",
              "          if (!dataTable) return;\n",
              "\n",
              "          const docLinkHtml = 'Like what you see? Visit the ' +\n",
              "            '<a target=\"_blank\" href=https://colab.research.google.com/notebooks/data_table.ipynb>data table notebook</a>'\n",
              "            + ' to learn more about interactive tables.';\n",
              "          element.innerHTML = '';\n",
              "          dataTable['output_type'] = 'display_data';\n",
              "          await google.colab.output.renderOutput(dataTable, element);\n",
              "          const docLink = document.createElement('div');\n",
              "          docLink.innerHTML = docLinkHtml;\n",
              "          element.appendChild(docLink);\n",
              "        }\n",
              "      </script>\n",
              "    </div>\n",
              "  </div>\n",
              "  "
            ]
          },
          "metadata": {},
          "execution_count": 103
        }
      ]
    },
    {
      "cell_type": "code",
      "source": [
        "# train\n",
        "print_metrics('BERT 5e + FCN, train data: ', np.array(train_y, int), train_y_predict)\n",
        "# test\n",
        "print_metrics('test data: ', np.array(test_y, int), test_y_predict)"
      ],
      "metadata": {
        "colab": {
          "base_uri": "https://localhost:8080/"
        },
        "id": "cP-dGTD6ExBx",
        "outputId": "7a9ecc4a-6758-4504-950d-573750b5b0bb"
      },
      "execution_count": null,
      "outputs": [
        {
          "output_type": "stream",
          "name": "stdout",
          "text": [
            "BERT 5e + FCN, train data: : accuracy = 0.9992, precision = 1.0000, recall = 0.9961, f1 = 0.9980\n",
            "test data: : accuracy = 0.9877, precision = 0.9844, recall = 0.9582, f1 = 0.9711\n"
          ]
        }
      ]
    },
    {
      "cell_type": "markdown",
      "source": [
        "**Experiment 1 Results:** Increasing the number of epochs to 5 has resulted in some overfitting, we see a degraded performance on the test set in F1 score and increase in the number of misclassified examples. As a result of this experiment BERT model with unfrozen layers and 3 epochs proved to produce really good results. \n",
        "\n",
        "Original untuned model test performance:\n",
        "accuracy = 0.9828, precision = 0.9797, recall = 0.9377, f1 = 0.9583\n",
        "\n",
        "\n",
        "Tuned model test performance:\n",
        "accuracy = 0.9893, precision = 0.9841, recall = 0.9650, f1 = 0.9745\n"
      ],
      "metadata": {
        "id": "MLkuzmXNFO08"
      }
    },
    {
      "cell_type": "markdown",
      "source": [
        "#### BERT + CNN tuning"
      ],
      "metadata": {
        "id": "1CIcslSTOgOY"
      }
    },
    {
      "cell_type": "markdown",
      "source": [
        "##### BERT + CNN 3e un"
      ],
      "metadata": {
        "id": "ACy_uNr2M3y2"
      }
    },
    {
      "cell_type": "markdown",
      "source": [
        "**Experiment 1:** Increase number of epochs and unfreeze BERT layers, not much improvement."
      ],
      "metadata": {
        "id": "rJdcEHPfQ3nn"
      }
    },
    {
      "cell_type": "code",
      "source": [
        "cnn_bert_model = create_bert_cnn_model(train_layers=1)\n",
        "\n",
        "cnn_bert_model_history = cnn_bert_model.fit([x_train.input_ids, x_train.token_type_ids, x_train.attention_mask], \n",
        "                                            y_train,   \n",
        "                                            validation_data=([x_test.input_ids, x_test.token_type_ids, x_test.attention_mask], y_test),    \n",
        "                                            batch_size=8, \n",
        "                                            epochs=3)  "
      ],
      "metadata": {
        "colab": {
          "base_uri": "https://localhost:8080/"
        },
        "id": "ZsaCz6dnPDgO",
        "outputId": "d35ce766-7665-428c-e1ae-94f4c5632ae0"
      },
      "execution_count": null,
      "outputs": [
        {
          "output_type": "stream",
          "name": "stderr",
          "text": [
            "Some layers from the model checkpoint at bert-base-cased were not used when initializing TFBertModel: ['nsp___cls', 'mlm___cls']\n",
            "- This IS expected if you are initializing TFBertModel from the checkpoint of a model trained on another task or with another architecture (e.g. initializing a BertForSequenceClassification model from a BertForPreTraining model).\n",
            "- This IS NOT expected if you are initializing TFBertModel from the checkpoint of a model that you expect to be exactly identical (initializing a BertForSequenceClassification model from a BertForSequenceClassification model).\n",
            "All the layers of TFBertModel were initialized from the model checkpoint at bert-base-cased.\n",
            "If your task is similar to the task the model of the checkpoint was trained on, you can already use TFBertModel for predictions without further training.\n"
          ]
        },
        {
          "output_type": "stream",
          "name": "stdout",
          "text": [
            "Epoch 1/3\n",
            "WARNING:tensorflow:Gradients do not exist for variables ['tf_bert_model_1/bert/embeddings/word_embeddings/weight:0', 'tf_bert_model_1/bert/embeddings/token_type_embeddings/embeddings:0', 'tf_bert_model_1/bert/embeddings/position_embeddings/embeddings:0', 'tf_bert_model_1/bert/embeddings/LayerNorm/gamma:0', 'tf_bert_model_1/bert/embeddings/LayerNorm/beta:0', 'tf_bert_model_1/bert/encoder/layer_._0/attention/self/query/kernel:0', 'tf_bert_model_1/bert/encoder/layer_._0/attention/self/query/bias:0', 'tf_bert_model_1/bert/encoder/layer_._0/attention/self/key/kernel:0', 'tf_bert_model_1/bert/encoder/layer_._0/attention/self/key/bias:0', 'tf_bert_model_1/bert/encoder/layer_._0/attention/self/value/kernel:0', 'tf_bert_model_1/bert/encoder/layer_._0/attention/self/value/bias:0', 'tf_bert_model_1/bert/encoder/layer_._0/attention/output/dense/kernel:0', 'tf_bert_model_1/bert/encoder/layer_._0/attention/output/dense/bias:0', 'tf_bert_model_1/bert/encoder/layer_._0/attention/output/LayerNorm/gamma:0', 'tf_bert_model_1/bert/encoder/layer_._0/attention/output/LayerNorm/beta:0', 'tf_bert_model_1/bert/encoder/layer_._0/intermediate/dense/kernel:0', 'tf_bert_model_1/bert/encoder/layer_._0/intermediate/dense/bias:0', 'tf_bert_model_1/bert/encoder/layer_._0/output/dense/kernel:0', 'tf_bert_model_1/bert/encoder/layer_._0/output/dense/bias:0', 'tf_bert_model_1/bert/encoder/layer_._0/output/LayerNorm/gamma:0', 'tf_bert_model_1/bert/encoder/layer_._0/output/LayerNorm/beta:0', 'tf_bert_model_1/bert/encoder/layer_._1/attention/self/query/kernel:0', 'tf_bert_model_1/bert/encoder/layer_._1/attention/self/query/bias:0', 'tf_bert_model_1/bert/encoder/layer_._1/attention/self/key/kernel:0', 'tf_bert_model_1/bert/encoder/layer_._1/attention/self/key/bias:0', 'tf_bert_model_1/bert/encoder/layer_._1/attention/self/value/kernel:0', 'tf_bert_model_1/bert/encoder/layer_._1/attention/self/value/bias:0', 'tf_bert_model_1/bert/encoder/layer_._1/attention/output/dense/kernel:0', 'tf_bert_model_1/bert/encoder/layer_._1/attention/output/dense/bias:0', 'tf_bert_model_1/bert/encoder/layer_._1/attention/output/LayerNorm/gamma:0', 'tf_bert_model_1/bert/encoder/layer_._1/attention/output/LayerNorm/beta:0', 'tf_bert_model_1/bert/encoder/layer_._1/intermediate/dense/kernel:0', 'tf_bert_model_1/bert/encoder/layer_._1/intermediate/dense/bias:0', 'tf_bert_model_1/bert/encoder/layer_._1/output/dense/kernel:0', 'tf_bert_model_1/bert/encoder/layer_._1/output/dense/bias:0', 'tf_bert_model_1/bert/encoder/layer_._1/output/LayerNorm/gamma:0', 'tf_bert_model_1/bert/encoder/layer_._1/output/LayerNorm/beta:0', 'tf_bert_model_1/bert/encoder/layer_._2/attention/self/query/kernel:0', 'tf_bert_model_1/bert/encoder/layer_._2/attention/self/query/bias:0', 'tf_bert_model_1/bert/encoder/layer_._2/attention/self/key/kernel:0', 'tf_bert_model_1/bert/encoder/layer_._2/attention/self/key/bias:0', 'tf_bert_model_1/bert/encoder/layer_._2/attention/self/value/kernel:0', 'tf_bert_model_1/bert/encoder/layer_._2/attention/self/value/bias:0', 'tf_bert_model_1/bert/encoder/layer_._2/attention/output/dense/kernel:0', 'tf_bert_model_1/bert/encoder/layer_._2/attention/output/dense/bias:0', 'tf_bert_model_1/bert/encoder/layer_._2/attention/output/LayerNorm/gamma:0', 'tf_bert_model_1/bert/encoder/layer_._2/attention/output/LayerNorm/beta:0', 'tf_bert_model_1/bert/encoder/layer_._2/intermediate/dense/kernel:0', 'tf_bert_model_1/bert/encoder/layer_._2/intermediate/dense/bias:0', 'tf_bert_model_1/bert/encoder/layer_._2/output/dense/kernel:0', 'tf_bert_model_1/bert/encoder/layer_._2/output/dense/bias:0', 'tf_bert_model_1/bert/encoder/layer_._2/output/LayerNorm/gamma:0', 'tf_bert_model_1/bert/encoder/layer_._2/output/LayerNorm/beta:0', 'tf_bert_model_1/bert/encoder/layer_._3/attention/self/query/kernel:0', 'tf_bert_model_1/bert/encoder/layer_._3/attention/self/query/bias:0', 'tf_bert_model_1/bert/encoder/layer_._3/attention/self/key/kernel:0', 'tf_bert_model_1/bert/encoder/layer_._3/attention/self/key/bias:0', 'tf_bert_model_1/bert/encoder/layer_._3/attention/self/value/kernel:0', 'tf_bert_model_1/bert/encoder/layer_._3/attention/self/value/bias:0', 'tf_bert_model_1/bert/encoder/layer_._3/attention/output/dense/kernel:0', 'tf_bert_model_1/bert/encoder/layer_._3/attention/output/dense/bias:0', 'tf_bert_model_1/bert/encoder/layer_._3/attention/output/LayerNorm/gamma:0', 'tf_bert_model_1/bert/encoder/layer_._3/attention/output/LayerNorm/beta:0', 'tf_bert_model_1/bert/encoder/layer_._3/intermediate/dense/kernel:0', 'tf_bert_model_1/bert/encoder/layer_._3/intermediate/dense/bias:0', 'tf_bert_model_1/bert/encoder/layer_._3/output/dense/kernel:0', 'tf_bert_model_1/bert/encoder/layer_._3/output/dense/bias:0', 'tf_bert_model_1/bert/encoder/layer_._3/output/LayerNorm/gamma:0', 'tf_bert_model_1/bert/encoder/layer_._3/output/LayerNorm/beta:0', 'tf_bert_model_1/bert/encoder/layer_._4/attention/self/query/kernel:0', 'tf_bert_model_1/bert/encoder/layer_._4/attention/self/query/bias:0', 'tf_bert_model_1/bert/encoder/layer_._4/attention/self/key/kernel:0', 'tf_bert_model_1/bert/encoder/layer_._4/attention/self/key/bias:0', 'tf_bert_model_1/bert/encoder/layer_._4/attention/self/value/kernel:0', 'tf_bert_model_1/bert/encoder/layer_._4/attention/self/value/bias:0', 'tf_bert_model_1/bert/encoder/layer_._4/attention/output/dense/kernel:0', 'tf_bert_model_1/bert/encoder/layer_._4/attention/output/dense/bias:0', 'tf_bert_model_1/bert/encoder/layer_._4/attention/output/LayerNorm/gamma:0', 'tf_bert_model_1/bert/encoder/layer_._4/attention/output/LayerNorm/beta:0', 'tf_bert_model_1/bert/encoder/layer_._4/intermediate/dense/kernel:0', 'tf_bert_model_1/bert/encoder/layer_._4/intermediate/dense/bias:0', 'tf_bert_model_1/bert/encoder/layer_._4/output/dense/kernel:0', 'tf_bert_model_1/bert/encoder/layer_._4/output/dense/bias:0', 'tf_bert_model_1/bert/encoder/layer_._4/output/LayerNorm/gamma:0', 'tf_bert_model_1/bert/encoder/layer_._4/output/LayerNorm/beta:0', 'tf_bert_model_1/bert/encoder/layer_._5/attention/self/query/kernel:0', 'tf_bert_model_1/bert/encoder/layer_._5/attention/self/query/bias:0', 'tf_bert_model_1/bert/encoder/layer_._5/attention/self/key/kernel:0', 'tf_bert_model_1/bert/encoder/layer_._5/attention/self/key/bias:0', 'tf_bert_model_1/bert/encoder/layer_._5/attention/self/value/kernel:0', 'tf_bert_model_1/bert/encoder/layer_._5/attention/self/value/bias:0', 'tf_bert_model_1/bert/encoder/layer_._5/attention/output/dense/kernel:0', 'tf_bert_model_1/bert/encoder/layer_._5/attention/output/dense/bias:0', 'tf_bert_model_1/bert/encoder/layer_._5/attention/output/LayerNorm/gamma:0', 'tf_bert_model_1/bert/encoder/layer_._5/attention/output/LayerNorm/beta:0', 'tf_bert_model_1/bert/encoder/layer_._5/intermediate/dense/kernel:0', 'tf_bert_model_1/bert/encoder/layer_._5/intermediate/dense/bias:0', 'tf_bert_model_1/bert/encoder/layer_._5/output/dense/kernel:0', 'tf_bert_model_1/bert/encoder/layer_._5/output/dense/bias:0', 'tf_bert_model_1/bert/encoder/layer_._5/output/LayerNorm/gamma:0', 'tf_bert_model_1/bert/encoder/layer_._5/output/LayerNorm/beta:0', 'tf_bert_model_1/bert/encoder/layer_._6/attention/self/query/kernel:0', 'tf_bert_model_1/bert/encoder/layer_._6/attention/self/query/bias:0', 'tf_bert_model_1/bert/encoder/layer_._6/attention/self/key/kernel:0', 'tf_bert_model_1/bert/encoder/layer_._6/attention/self/key/bias:0', 'tf_bert_model_1/bert/encoder/layer_._6/attention/self/value/kernel:0', 'tf_bert_model_1/bert/encoder/layer_._6/attention/self/value/bias:0', 'tf_bert_model_1/bert/encoder/layer_._6/attention/output/dense/kernel:0', 'tf_bert_model_1/bert/encoder/layer_._6/attention/output/dense/bias:0', 'tf_bert_model_1/bert/encoder/layer_._6/attention/output/LayerNorm/gamma:0', 'tf_bert_model_1/bert/encoder/layer_._6/attention/output/LayerNorm/beta:0', 'tf_bert_model_1/bert/encoder/layer_._6/intermediate/dense/kernel:0', 'tf_bert_model_1/bert/encoder/layer_._6/intermediate/dense/bias:0', 'tf_bert_model_1/bert/encoder/layer_._6/output/dense/kernel:0', 'tf_bert_model_1/bert/encoder/layer_._6/output/dense/bias:0', 'tf_bert_model_1/bert/encoder/layer_._6/output/LayerNorm/gamma:0', 'tf_bert_model_1/bert/encoder/layer_._6/output/LayerNorm/beta:0', 'tf_bert_model_1/bert/encoder/layer_._7/attention/self/query/kernel:0', 'tf_bert_model_1/bert/encoder/layer_._7/attention/self/query/bias:0', 'tf_bert_model_1/bert/encoder/layer_._7/attention/self/key/kernel:0', 'tf_bert_model_1/bert/encoder/layer_._7/attention/self/key/bias:0', 'tf_bert_model_1/bert/encoder/layer_._7/attention/self/value/kernel:0', 'tf_bert_model_1/bert/encoder/layer_._7/attention/self/value/bias:0', 'tf_bert_model_1/bert/encoder/layer_._7/attention/output/dense/kernel:0', 'tf_bert_model_1/bert/encoder/layer_._7/attention/output/dense/bias:0', 'tf_bert_model_1/bert/encoder/layer_._7/attention/output/LayerNorm/gamma:0', 'tf_bert_model_1/bert/encoder/layer_._7/attention/output/LayerNorm/beta:0', 'tf_bert_model_1/bert/encoder/layer_._7/intermediate/dense/kernel:0', 'tf_bert_model_1/bert/encoder/layer_._7/intermediate/dense/bias:0', 'tf_bert_model_1/bert/encoder/layer_._7/output/dense/kernel:0', 'tf_bert_model_1/bert/encoder/layer_._7/output/dense/bias:0', 'tf_bert_model_1/bert/encoder/layer_._7/output/LayerNorm/gamma:0', 'tf_bert_model_1/bert/encoder/layer_._7/output/LayerNorm/beta:0', 'tf_bert_model_1/bert/encoder/layer_._8/attention/self/query/kernel:0', 'tf_bert_model_1/bert/encoder/layer_._8/attention/self/query/bias:0', 'tf_bert_model_1/bert/encoder/layer_._8/attention/self/key/kernel:0', 'tf_bert_model_1/bert/encoder/layer_._8/attention/self/key/bias:0', 'tf_bert_model_1/bert/encoder/layer_._8/attention/self/value/kernel:0', 'tf_bert_model_1/bert/encoder/layer_._8/attention/self/value/bias:0', 'tf_bert_model_1/bert/encoder/layer_._8/attention/output/dense/kernel:0', 'tf_bert_model_1/bert/encoder/layer_._8/attention/output/dense/bias:0', 'tf_bert_model_1/bert/encoder/layer_._8/attention/output/LayerNorm/gamma:0', 'tf_bert_model_1/bert/encoder/layer_._8/attention/output/LayerNorm/beta:0', 'tf_bert_model_1/bert/encoder/layer_._8/intermediate/dense/kernel:0', 'tf_bert_model_1/bert/encoder/layer_._8/intermediate/dense/bias:0', 'tf_bert_model_1/bert/encoder/layer_._8/output/dense/kernel:0', 'tf_bert_model_1/bert/encoder/layer_._8/output/dense/bias:0', 'tf_bert_model_1/bert/encoder/layer_._8/output/LayerNorm/gamma:0', 'tf_bert_model_1/bert/encoder/layer_._8/output/LayerNorm/beta:0', 'tf_bert_model_1/bert/encoder/layer_._9/attention/self/query/kernel:0', 'tf_bert_model_1/bert/encoder/layer_._9/attention/self/query/bias:0', 'tf_bert_model_1/bert/encoder/layer_._9/attention/self/key/kernel:0', 'tf_bert_model_1/bert/encoder/layer_._9/attention/self/key/bias:0', 'tf_bert_model_1/bert/encoder/layer_._9/attention/self/value/kernel:0', 'tf_bert_model_1/bert/encoder/layer_._9/attention/self/value/bias:0', 'tf_bert_model_1/bert/encoder/layer_._9/attention/output/dense/kernel:0', 'tf_bert_model_1/bert/encoder/layer_._9/attention/output/dense/bias:0', 'tf_bert_model_1/bert/encoder/layer_._9/attention/output/LayerNorm/gamma:0', 'tf_bert_model_1/bert/encoder/layer_._9/attention/output/LayerNorm/beta:0', 'tf_bert_model_1/bert/encoder/layer_._9/intermediate/dense/kernel:0', 'tf_bert_model_1/bert/encoder/layer_._9/intermediate/dense/bias:0', 'tf_bert_model_1/bert/encoder/layer_._9/output/dense/kernel:0', 'tf_bert_model_1/bert/encoder/layer_._9/output/dense/bias:0', 'tf_bert_model_1/bert/encoder/layer_._9/output/LayerNorm/gamma:0', 'tf_bert_model_1/bert/encoder/layer_._9/output/LayerNorm/beta:0', 'tf_bert_model_1/bert/encoder/layer_._10/attention/self/query/kernel:0', 'tf_bert_model_1/bert/encoder/layer_._10/attention/self/query/bias:0', 'tf_bert_model_1/bert/encoder/layer_._10/attention/self/key/kernel:0', 'tf_bert_model_1/bert/encoder/layer_._10/attention/self/key/bias:0', 'tf_bert_model_1/bert/encoder/layer_._10/attention/self/value/kernel:0', 'tf_bert_model_1/bert/encoder/layer_._10/attention/self/value/bias:0', 'tf_bert_model_1/bert/encoder/layer_._10/attention/output/dense/kernel:0', 'tf_bert_model_1/bert/encoder/layer_._10/attention/output/dense/bias:0', 'tf_bert_model_1/bert/encoder/layer_._10/attention/output/LayerNorm/gamma:0', 'tf_bert_model_1/bert/encoder/layer_._10/attention/output/LayerNorm/beta:0', 'tf_bert_model_1/bert/encoder/layer_._10/intermediate/dense/kernel:0', 'tf_bert_model_1/bert/encoder/layer_._10/intermediate/dense/bias:0', 'tf_bert_model_1/bert/encoder/layer_._10/output/dense/kernel:0', 'tf_bert_model_1/bert/encoder/layer_._10/output/dense/bias:0', 'tf_bert_model_1/bert/encoder/layer_._10/output/LayerNorm/gamma:0', 'tf_bert_model_1/bert/encoder/layer_._10/output/LayerNorm/beta:0', 'tf_bert_model_1/bert/pooler/dense/kernel:0', 'tf_bert_model_1/bert/pooler/dense/bias:0'] when minimizing the loss. If you're using `model.compile()`, did you forget to provide a `loss`argument?\n",
            "WARNING:tensorflow:Gradients do not exist for variables ['tf_bert_model_1/bert/embeddings/word_embeddings/weight:0', 'tf_bert_model_1/bert/embeddings/token_type_embeddings/embeddings:0', 'tf_bert_model_1/bert/embeddings/position_embeddings/embeddings:0', 'tf_bert_model_1/bert/embeddings/LayerNorm/gamma:0', 'tf_bert_model_1/bert/embeddings/LayerNorm/beta:0', 'tf_bert_model_1/bert/encoder/layer_._0/attention/self/query/kernel:0', 'tf_bert_model_1/bert/encoder/layer_._0/attention/self/query/bias:0', 'tf_bert_model_1/bert/encoder/layer_._0/attention/self/key/kernel:0', 'tf_bert_model_1/bert/encoder/layer_._0/attention/self/key/bias:0', 'tf_bert_model_1/bert/encoder/layer_._0/attention/self/value/kernel:0', 'tf_bert_model_1/bert/encoder/layer_._0/attention/self/value/bias:0', 'tf_bert_model_1/bert/encoder/layer_._0/attention/output/dense/kernel:0', 'tf_bert_model_1/bert/encoder/layer_._0/attention/output/dense/bias:0', 'tf_bert_model_1/bert/encoder/layer_._0/attention/output/LayerNorm/gamma:0', 'tf_bert_model_1/bert/encoder/layer_._0/attention/output/LayerNorm/beta:0', 'tf_bert_model_1/bert/encoder/layer_._0/intermediate/dense/kernel:0', 'tf_bert_model_1/bert/encoder/layer_._0/intermediate/dense/bias:0', 'tf_bert_model_1/bert/encoder/layer_._0/output/dense/kernel:0', 'tf_bert_model_1/bert/encoder/layer_._0/output/dense/bias:0', 'tf_bert_model_1/bert/encoder/layer_._0/output/LayerNorm/gamma:0', 'tf_bert_model_1/bert/encoder/layer_._0/output/LayerNorm/beta:0', 'tf_bert_model_1/bert/encoder/layer_._1/attention/self/query/kernel:0', 'tf_bert_model_1/bert/encoder/layer_._1/attention/self/query/bias:0', 'tf_bert_model_1/bert/encoder/layer_._1/attention/self/key/kernel:0', 'tf_bert_model_1/bert/encoder/layer_._1/attention/self/key/bias:0', 'tf_bert_model_1/bert/encoder/layer_._1/attention/self/value/kernel:0', 'tf_bert_model_1/bert/encoder/layer_._1/attention/self/value/bias:0', 'tf_bert_model_1/bert/encoder/layer_._1/attention/output/dense/kernel:0', 'tf_bert_model_1/bert/encoder/layer_._1/attention/output/dense/bias:0', 'tf_bert_model_1/bert/encoder/layer_._1/attention/output/LayerNorm/gamma:0', 'tf_bert_model_1/bert/encoder/layer_._1/attention/output/LayerNorm/beta:0', 'tf_bert_model_1/bert/encoder/layer_._1/intermediate/dense/kernel:0', 'tf_bert_model_1/bert/encoder/layer_._1/intermediate/dense/bias:0', 'tf_bert_model_1/bert/encoder/layer_._1/output/dense/kernel:0', 'tf_bert_model_1/bert/encoder/layer_._1/output/dense/bias:0', 'tf_bert_model_1/bert/encoder/layer_._1/output/LayerNorm/gamma:0', 'tf_bert_model_1/bert/encoder/layer_._1/output/LayerNorm/beta:0', 'tf_bert_model_1/bert/encoder/layer_._2/attention/self/query/kernel:0', 'tf_bert_model_1/bert/encoder/layer_._2/attention/self/query/bias:0', 'tf_bert_model_1/bert/encoder/layer_._2/attention/self/key/kernel:0', 'tf_bert_model_1/bert/encoder/layer_._2/attention/self/key/bias:0', 'tf_bert_model_1/bert/encoder/layer_._2/attention/self/value/kernel:0', 'tf_bert_model_1/bert/encoder/layer_._2/attention/self/value/bias:0', 'tf_bert_model_1/bert/encoder/layer_._2/attention/output/dense/kernel:0', 'tf_bert_model_1/bert/encoder/layer_._2/attention/output/dense/bias:0', 'tf_bert_model_1/bert/encoder/layer_._2/attention/output/LayerNorm/gamma:0', 'tf_bert_model_1/bert/encoder/layer_._2/attention/output/LayerNorm/beta:0', 'tf_bert_model_1/bert/encoder/layer_._2/intermediate/dense/kernel:0', 'tf_bert_model_1/bert/encoder/layer_._2/intermediate/dense/bias:0', 'tf_bert_model_1/bert/encoder/layer_._2/output/dense/kernel:0', 'tf_bert_model_1/bert/encoder/layer_._2/output/dense/bias:0', 'tf_bert_model_1/bert/encoder/layer_._2/output/LayerNorm/gamma:0', 'tf_bert_model_1/bert/encoder/layer_._2/output/LayerNorm/beta:0', 'tf_bert_model_1/bert/encoder/layer_._3/attention/self/query/kernel:0', 'tf_bert_model_1/bert/encoder/layer_._3/attention/self/query/bias:0', 'tf_bert_model_1/bert/encoder/layer_._3/attention/self/key/kernel:0', 'tf_bert_model_1/bert/encoder/layer_._3/attention/self/key/bias:0', 'tf_bert_model_1/bert/encoder/layer_._3/attention/self/value/kernel:0', 'tf_bert_model_1/bert/encoder/layer_._3/attention/self/value/bias:0', 'tf_bert_model_1/bert/encoder/layer_._3/attention/output/dense/kernel:0', 'tf_bert_model_1/bert/encoder/layer_._3/attention/output/dense/bias:0', 'tf_bert_model_1/bert/encoder/layer_._3/attention/output/LayerNorm/gamma:0', 'tf_bert_model_1/bert/encoder/layer_._3/attention/output/LayerNorm/beta:0', 'tf_bert_model_1/bert/encoder/layer_._3/intermediate/dense/kernel:0', 'tf_bert_model_1/bert/encoder/layer_._3/intermediate/dense/bias:0', 'tf_bert_model_1/bert/encoder/layer_._3/output/dense/kernel:0', 'tf_bert_model_1/bert/encoder/layer_._3/output/dense/bias:0', 'tf_bert_model_1/bert/encoder/layer_._3/output/LayerNorm/gamma:0', 'tf_bert_model_1/bert/encoder/layer_._3/output/LayerNorm/beta:0', 'tf_bert_model_1/bert/encoder/layer_._4/attention/self/query/kernel:0', 'tf_bert_model_1/bert/encoder/layer_._4/attention/self/query/bias:0', 'tf_bert_model_1/bert/encoder/layer_._4/attention/self/key/kernel:0', 'tf_bert_model_1/bert/encoder/layer_._4/attention/self/key/bias:0', 'tf_bert_model_1/bert/encoder/layer_._4/attention/self/value/kernel:0', 'tf_bert_model_1/bert/encoder/layer_._4/attention/self/value/bias:0', 'tf_bert_model_1/bert/encoder/layer_._4/attention/output/dense/kernel:0', 'tf_bert_model_1/bert/encoder/layer_._4/attention/output/dense/bias:0', 'tf_bert_model_1/bert/encoder/layer_._4/attention/output/LayerNorm/gamma:0', 'tf_bert_model_1/bert/encoder/layer_._4/attention/output/LayerNorm/beta:0', 'tf_bert_model_1/bert/encoder/layer_._4/intermediate/dense/kernel:0', 'tf_bert_model_1/bert/encoder/layer_._4/intermediate/dense/bias:0', 'tf_bert_model_1/bert/encoder/layer_._4/output/dense/kernel:0', 'tf_bert_model_1/bert/encoder/layer_._4/output/dense/bias:0', 'tf_bert_model_1/bert/encoder/layer_._4/output/LayerNorm/gamma:0', 'tf_bert_model_1/bert/encoder/layer_._4/output/LayerNorm/beta:0', 'tf_bert_model_1/bert/encoder/layer_._5/attention/self/query/kernel:0', 'tf_bert_model_1/bert/encoder/layer_._5/attention/self/query/bias:0', 'tf_bert_model_1/bert/encoder/layer_._5/attention/self/key/kernel:0', 'tf_bert_model_1/bert/encoder/layer_._5/attention/self/key/bias:0', 'tf_bert_model_1/bert/encoder/layer_._5/attention/self/value/kernel:0', 'tf_bert_model_1/bert/encoder/layer_._5/attention/self/value/bias:0', 'tf_bert_model_1/bert/encoder/layer_._5/attention/output/dense/kernel:0', 'tf_bert_model_1/bert/encoder/layer_._5/attention/output/dense/bias:0', 'tf_bert_model_1/bert/encoder/layer_._5/attention/output/LayerNorm/gamma:0', 'tf_bert_model_1/bert/encoder/layer_._5/attention/output/LayerNorm/beta:0', 'tf_bert_model_1/bert/encoder/layer_._5/intermediate/dense/kernel:0', 'tf_bert_model_1/bert/encoder/layer_._5/intermediate/dense/bias:0', 'tf_bert_model_1/bert/encoder/layer_._5/output/dense/kernel:0', 'tf_bert_model_1/bert/encoder/layer_._5/output/dense/bias:0', 'tf_bert_model_1/bert/encoder/layer_._5/output/LayerNorm/gamma:0', 'tf_bert_model_1/bert/encoder/layer_._5/output/LayerNorm/beta:0', 'tf_bert_model_1/bert/encoder/layer_._6/attention/self/query/kernel:0', 'tf_bert_model_1/bert/encoder/layer_._6/attention/self/query/bias:0', 'tf_bert_model_1/bert/encoder/layer_._6/attention/self/key/kernel:0', 'tf_bert_model_1/bert/encoder/layer_._6/attention/self/key/bias:0', 'tf_bert_model_1/bert/encoder/layer_._6/attention/self/value/kernel:0', 'tf_bert_model_1/bert/encoder/layer_._6/attention/self/value/bias:0', 'tf_bert_model_1/bert/encoder/layer_._6/attention/output/dense/kernel:0', 'tf_bert_model_1/bert/encoder/layer_._6/attention/output/dense/bias:0', 'tf_bert_model_1/bert/encoder/layer_._6/attention/output/LayerNorm/gamma:0', 'tf_bert_model_1/bert/encoder/layer_._6/attention/output/LayerNorm/beta:0', 'tf_bert_model_1/bert/encoder/layer_._6/intermediate/dense/kernel:0', 'tf_bert_model_1/bert/encoder/layer_._6/intermediate/dense/bias:0', 'tf_bert_model_1/bert/encoder/layer_._6/output/dense/kernel:0', 'tf_bert_model_1/bert/encoder/layer_._6/output/dense/bias:0', 'tf_bert_model_1/bert/encoder/layer_._6/output/LayerNorm/gamma:0', 'tf_bert_model_1/bert/encoder/layer_._6/output/LayerNorm/beta:0', 'tf_bert_model_1/bert/encoder/layer_._7/attention/self/query/kernel:0', 'tf_bert_model_1/bert/encoder/layer_._7/attention/self/query/bias:0', 'tf_bert_model_1/bert/encoder/layer_._7/attention/self/key/kernel:0', 'tf_bert_model_1/bert/encoder/layer_._7/attention/self/key/bias:0', 'tf_bert_model_1/bert/encoder/layer_._7/attention/self/value/kernel:0', 'tf_bert_model_1/bert/encoder/layer_._7/attention/self/value/bias:0', 'tf_bert_model_1/bert/encoder/layer_._7/attention/output/dense/kernel:0', 'tf_bert_model_1/bert/encoder/layer_._7/attention/output/dense/bias:0', 'tf_bert_model_1/bert/encoder/layer_._7/attention/output/LayerNorm/gamma:0', 'tf_bert_model_1/bert/encoder/layer_._7/attention/output/LayerNorm/beta:0', 'tf_bert_model_1/bert/encoder/layer_._7/intermediate/dense/kernel:0', 'tf_bert_model_1/bert/encoder/layer_._7/intermediate/dense/bias:0', 'tf_bert_model_1/bert/encoder/layer_._7/output/dense/kernel:0', 'tf_bert_model_1/bert/encoder/layer_._7/output/dense/bias:0', 'tf_bert_model_1/bert/encoder/layer_._7/output/LayerNorm/gamma:0', 'tf_bert_model_1/bert/encoder/layer_._7/output/LayerNorm/beta:0', 'tf_bert_model_1/bert/encoder/layer_._8/attention/self/query/kernel:0', 'tf_bert_model_1/bert/encoder/layer_._8/attention/self/query/bias:0', 'tf_bert_model_1/bert/encoder/layer_._8/attention/self/key/kernel:0', 'tf_bert_model_1/bert/encoder/layer_._8/attention/self/key/bias:0', 'tf_bert_model_1/bert/encoder/layer_._8/attention/self/value/kernel:0', 'tf_bert_model_1/bert/encoder/layer_._8/attention/self/value/bias:0', 'tf_bert_model_1/bert/encoder/layer_._8/attention/output/dense/kernel:0', 'tf_bert_model_1/bert/encoder/layer_._8/attention/output/dense/bias:0', 'tf_bert_model_1/bert/encoder/layer_._8/attention/output/LayerNorm/gamma:0', 'tf_bert_model_1/bert/encoder/layer_._8/attention/output/LayerNorm/beta:0', 'tf_bert_model_1/bert/encoder/layer_._8/intermediate/dense/kernel:0', 'tf_bert_model_1/bert/encoder/layer_._8/intermediate/dense/bias:0', 'tf_bert_model_1/bert/encoder/layer_._8/output/dense/kernel:0', 'tf_bert_model_1/bert/encoder/layer_._8/output/dense/bias:0', 'tf_bert_model_1/bert/encoder/layer_._8/output/LayerNorm/gamma:0', 'tf_bert_model_1/bert/encoder/layer_._8/output/LayerNorm/beta:0', 'tf_bert_model_1/bert/encoder/layer_._9/attention/self/query/kernel:0', 'tf_bert_model_1/bert/encoder/layer_._9/attention/self/query/bias:0', 'tf_bert_model_1/bert/encoder/layer_._9/attention/self/key/kernel:0', 'tf_bert_model_1/bert/encoder/layer_._9/attention/self/key/bias:0', 'tf_bert_model_1/bert/encoder/layer_._9/attention/self/value/kernel:0', 'tf_bert_model_1/bert/encoder/layer_._9/attention/self/value/bias:0', 'tf_bert_model_1/bert/encoder/layer_._9/attention/output/dense/kernel:0', 'tf_bert_model_1/bert/encoder/layer_._9/attention/output/dense/bias:0', 'tf_bert_model_1/bert/encoder/layer_._9/attention/output/LayerNorm/gamma:0', 'tf_bert_model_1/bert/encoder/layer_._9/attention/output/LayerNorm/beta:0', 'tf_bert_model_1/bert/encoder/layer_._9/intermediate/dense/kernel:0', 'tf_bert_model_1/bert/encoder/layer_._9/intermediate/dense/bias:0', 'tf_bert_model_1/bert/encoder/layer_._9/output/dense/kernel:0', 'tf_bert_model_1/bert/encoder/layer_._9/output/dense/bias:0', 'tf_bert_model_1/bert/encoder/layer_._9/output/LayerNorm/gamma:0', 'tf_bert_model_1/bert/encoder/layer_._9/output/LayerNorm/beta:0', 'tf_bert_model_1/bert/encoder/layer_._10/attention/self/query/kernel:0', 'tf_bert_model_1/bert/encoder/layer_._10/attention/self/query/bias:0', 'tf_bert_model_1/bert/encoder/layer_._10/attention/self/key/kernel:0', 'tf_bert_model_1/bert/encoder/layer_._10/attention/self/key/bias:0', 'tf_bert_model_1/bert/encoder/layer_._10/attention/self/value/kernel:0', 'tf_bert_model_1/bert/encoder/layer_._10/attention/self/value/bias:0', 'tf_bert_model_1/bert/encoder/layer_._10/attention/output/dense/kernel:0', 'tf_bert_model_1/bert/encoder/layer_._10/attention/output/dense/bias:0', 'tf_bert_model_1/bert/encoder/layer_._10/attention/output/LayerNorm/gamma:0', 'tf_bert_model_1/bert/encoder/layer_._10/attention/output/LayerNorm/beta:0', 'tf_bert_model_1/bert/encoder/layer_._10/intermediate/dense/kernel:0', 'tf_bert_model_1/bert/encoder/layer_._10/intermediate/dense/bias:0', 'tf_bert_model_1/bert/encoder/layer_._10/output/dense/kernel:0', 'tf_bert_model_1/bert/encoder/layer_._10/output/dense/bias:0', 'tf_bert_model_1/bert/encoder/layer_._10/output/LayerNorm/gamma:0', 'tf_bert_model_1/bert/encoder/layer_._10/output/LayerNorm/beta:0', 'tf_bert_model_1/bert/pooler/dense/kernel:0', 'tf_bert_model_1/bert/pooler/dense/bias:0'] when minimizing the loss. If you're using `model.compile()`, did you forget to provide a `loss`argument?\n",
            "611/611 [==============================] - 70s 93ms/step - loss: 0.0794 - accuracy: 0.9730 - val_loss: 0.0610 - val_accuracy: 0.9804\n",
            "Epoch 2/3\n",
            "611/611 [==============================] - 53s 87ms/step - loss: 0.0318 - accuracy: 0.9902 - val_loss: 0.0509 - val_accuracy: 0.9869\n",
            "Epoch 3/3\n",
            "611/611 [==============================] - 54s 88ms/step - loss: 0.0151 - accuracy: 0.9959 - val_loss: 0.0449 - val_accuracy: 0.9885\n"
          ]
        }
      ]
    },
    {
      "cell_type": "code",
      "source": [
        "predict_labels = cnn_bert_model.predict([x_train.input_ids, x_train.token_type_ids, x_train.attention_mask])\n",
        "train_y_predict = predict_labels.round(0)\n",
        "test_predict_labels = cnn_bert_model.predict([x_test.input_ids, x_test.token_type_ids, x_test.attention_mask])\n",
        "test_y_predict = test_predict_labels.round(0)"
      ],
      "metadata": {
        "id": "TP7lfF9UQvQZ"
      },
      "execution_count": null,
      "outputs": []
    },
    {
      "cell_type": "code",
      "source": [
        "print_metrics('BERT + CNN, train data: ', np.array(train_y, int), train_y_predict)\n",
        "print_metrics('BERT + CNN, test data: ', np.array(test_y, int), test_y_predict)"
      ],
      "metadata": {
        "colab": {
          "base_uri": "https://localhost:8080/"
        },
        "id": "YdvlFabDQcSH",
        "outputId": "43c5f7e4-001f-4bf0-ad66-4bcaac0542ee"
      },
      "execution_count": null,
      "outputs": [
        {
          "output_type": "stream",
          "name": "stdout",
          "text": [
            "BERT + CNN, train data: : accuracy = 0.9990, precision = 0.9971, recall = 0.9980, f1 = 0.9975\n",
            "BERT + CNN, test data: : accuracy = 0.9885, precision = 0.9770, recall = 0.9696, f1 = 0.9733\n"
          ]
        }
      ]
    },
    {
      "cell_type": "code",
      "source": [
        "# test\n",
        "missclassified_text = test_X[np.array(test_y, int) != test_y_predict.reshape(-1)]\n",
        "missclassified_label = test_y[np.array(test_y, int) != test_y_predict.reshape(-1)]\n",
        "\n",
        "df_report = pd.DataFrame({'missclassified_text': missclassified_text, 'true_label': missclassified_label})\n",
        "\n",
        "df_report"
      ],
      "metadata": {
        "colab": {
          "base_uri": "https://localhost:8080/",
          "height": 489
        },
        "id": "EdNr3Qec3WhC",
        "outputId": "60d3712f-2374-4a33-f151-cbb0aa9b0e5d"
      },
      "execution_count": null,
      "outputs": [
        {
          "output_type": "execute_result",
          "data": {
            "text/plain": [
              "                                    missclassified_text  true_label\n",
              "5738  Hi! Wànt to àvàil Our Pèrsonàl Loàn? Fàst & eà...           1\n",
              "2663  Hello darling how are you today? I would love ...           1\n",
              "718   Book which lesson? then you msg me... I will c...           0\n",
              "263   MY NO. IN LUTON 0125698789 RING ME IF UR AROUN...           0\n",
              "989   Yun ah.the ubi one say if ü wan call by tomorr...           0\n",
              "5581                                                N/a           1\n",
              "2680  New Tones This week include: 1)McFly-All Ab..,...           1\n",
              "334   Any chance you might have had with me evaporat...           0\n",
              "3142                    Customer place i will call you\n",
              "           0\n",
              "6008  Daghang salamat sa suporta ug pagsalig nga iny...           1\n",
              "2774  How come it takes so little time for a child w...           1\n",
              "4298  thesmszone.com lets you send free anonymous an...           1\n",
              "5372  dating:i have had two of these. Only started a...           1\n",
              "3094  staff.science.nus.edu.sg/~phyhcmk/teaching/pc1...           0"
            ],
            "text/html": [
              "\n",
              "  <div id=\"df-1d044a61-64d9-4dd0-a334-0745de111ca1\">\n",
              "    <div class=\"colab-df-container\">\n",
              "      <div>\n",
              "<style scoped>\n",
              "    .dataframe tbody tr th:only-of-type {\n",
              "        vertical-align: middle;\n",
              "    }\n",
              "\n",
              "    .dataframe tbody tr th {\n",
              "        vertical-align: top;\n",
              "    }\n",
              "\n",
              "    .dataframe thead th {\n",
              "        text-align: right;\n",
              "    }\n",
              "</style>\n",
              "<table border=\"1\" class=\"dataframe\">\n",
              "  <thead>\n",
              "    <tr style=\"text-align: right;\">\n",
              "      <th></th>\n",
              "      <th>missclassified_text</th>\n",
              "      <th>true_label</th>\n",
              "    </tr>\n",
              "  </thead>\n",
              "  <tbody>\n",
              "    <tr>\n",
              "      <th>5738</th>\n",
              "      <td>Hi! Wànt to àvàil Our Pèrsonàl Loàn? Fàst &amp; eà...</td>\n",
              "      <td>1</td>\n",
              "    </tr>\n",
              "    <tr>\n",
              "      <th>2663</th>\n",
              "      <td>Hello darling how are you today? I would love ...</td>\n",
              "      <td>1</td>\n",
              "    </tr>\n",
              "    <tr>\n",
              "      <th>718</th>\n",
              "      <td>Book which lesson? then you msg me... I will c...</td>\n",
              "      <td>0</td>\n",
              "    </tr>\n",
              "    <tr>\n",
              "      <th>263</th>\n",
              "      <td>MY NO. IN LUTON 0125698789 RING ME IF UR AROUN...</td>\n",
              "      <td>0</td>\n",
              "    </tr>\n",
              "    <tr>\n",
              "      <th>989</th>\n",
              "      <td>Yun ah.the ubi one say if ü wan call by tomorr...</td>\n",
              "      <td>0</td>\n",
              "    </tr>\n",
              "    <tr>\n",
              "      <th>5581</th>\n",
              "      <td>N/a</td>\n",
              "      <td>1</td>\n",
              "    </tr>\n",
              "    <tr>\n",
              "      <th>2680</th>\n",
              "      <td>New Tones This week include: 1)McFly-All Ab..,...</td>\n",
              "      <td>1</td>\n",
              "    </tr>\n",
              "    <tr>\n",
              "      <th>334</th>\n",
              "      <td>Any chance you might have had with me evaporat...</td>\n",
              "      <td>0</td>\n",
              "    </tr>\n",
              "    <tr>\n",
              "      <th>3142</th>\n",
              "      <td>Customer place i will call you</td>\n",
              "      <td>0</td>\n",
              "    </tr>\n",
              "    <tr>\n",
              "      <th>6008</th>\n",
              "      <td>Daghang salamat sa suporta ug pagsalig nga iny...</td>\n",
              "      <td>1</td>\n",
              "    </tr>\n",
              "    <tr>\n",
              "      <th>2774</th>\n",
              "      <td>How come it takes so little time for a child w...</td>\n",
              "      <td>1</td>\n",
              "    </tr>\n",
              "    <tr>\n",
              "      <th>4298</th>\n",
              "      <td>thesmszone.com lets you send free anonymous an...</td>\n",
              "      <td>1</td>\n",
              "    </tr>\n",
              "    <tr>\n",
              "      <th>5372</th>\n",
              "      <td>dating:i have had two of these. Only started a...</td>\n",
              "      <td>1</td>\n",
              "    </tr>\n",
              "    <tr>\n",
              "      <th>3094</th>\n",
              "      <td>staff.science.nus.edu.sg/~phyhcmk/teaching/pc1...</td>\n",
              "      <td>0</td>\n",
              "    </tr>\n",
              "  </tbody>\n",
              "</table>\n",
              "</div>\n",
              "      <button class=\"colab-df-convert\" onclick=\"convertToInteractive('df-1d044a61-64d9-4dd0-a334-0745de111ca1')\"\n",
              "              title=\"Convert this dataframe to an interactive table.\"\n",
              "              style=\"display:none;\">\n",
              "        \n",
              "  <svg xmlns=\"http://www.w3.org/2000/svg\" height=\"24px\"viewBox=\"0 0 24 24\"\n",
              "       width=\"24px\">\n",
              "    <path d=\"M0 0h24v24H0V0z\" fill=\"none\"/>\n",
              "    <path d=\"M18.56 5.44l.94 2.06.94-2.06 2.06-.94-2.06-.94-.94-2.06-.94 2.06-2.06.94zm-11 1L8.5 8.5l.94-2.06 2.06-.94-2.06-.94L8.5 2.5l-.94 2.06-2.06.94zm10 10l.94 2.06.94-2.06 2.06-.94-2.06-.94-.94-2.06-.94 2.06-2.06.94z\"/><path d=\"M17.41 7.96l-1.37-1.37c-.4-.4-.92-.59-1.43-.59-.52 0-1.04.2-1.43.59L10.3 9.45l-7.72 7.72c-.78.78-.78 2.05 0 2.83L4 21.41c.39.39.9.59 1.41.59.51 0 1.02-.2 1.41-.59l7.78-7.78 2.81-2.81c.8-.78.8-2.07 0-2.86zM5.41 20L4 18.59l7.72-7.72 1.47 1.35L5.41 20z\"/>\n",
              "  </svg>\n",
              "      </button>\n",
              "      \n",
              "  <style>\n",
              "    .colab-df-container {\n",
              "      display:flex;\n",
              "      flex-wrap:wrap;\n",
              "      gap: 12px;\n",
              "    }\n",
              "\n",
              "    .colab-df-convert {\n",
              "      background-color: #E8F0FE;\n",
              "      border: none;\n",
              "      border-radius: 50%;\n",
              "      cursor: pointer;\n",
              "      display: none;\n",
              "      fill: #1967D2;\n",
              "      height: 32px;\n",
              "      padding: 0 0 0 0;\n",
              "      width: 32px;\n",
              "    }\n",
              "\n",
              "    .colab-df-convert:hover {\n",
              "      background-color: #E2EBFA;\n",
              "      box-shadow: 0px 1px 2px rgba(60, 64, 67, 0.3), 0px 1px 3px 1px rgba(60, 64, 67, 0.15);\n",
              "      fill: #174EA6;\n",
              "    }\n",
              "\n",
              "    [theme=dark] .colab-df-convert {\n",
              "      background-color: #3B4455;\n",
              "      fill: #D2E3FC;\n",
              "    }\n",
              "\n",
              "    [theme=dark] .colab-df-convert:hover {\n",
              "      background-color: #434B5C;\n",
              "      box-shadow: 0px 1px 3px 1px rgba(0, 0, 0, 0.15);\n",
              "      filter: drop-shadow(0px 1px 2px rgba(0, 0, 0, 0.3));\n",
              "      fill: #FFFFFF;\n",
              "    }\n",
              "  </style>\n",
              "\n",
              "      <script>\n",
              "        const buttonEl =\n",
              "          document.querySelector('#df-1d044a61-64d9-4dd0-a334-0745de111ca1 button.colab-df-convert');\n",
              "        buttonEl.style.display =\n",
              "          google.colab.kernel.accessAllowed ? 'block' : 'none';\n",
              "\n",
              "        async function convertToInteractive(key) {\n",
              "          const element = document.querySelector('#df-1d044a61-64d9-4dd0-a334-0745de111ca1');\n",
              "          const dataTable =\n",
              "            await google.colab.kernel.invokeFunction('convertToInteractive',\n",
              "                                                     [key], {});\n",
              "          if (!dataTable) return;\n",
              "\n",
              "          const docLinkHtml = 'Like what you see? Visit the ' +\n",
              "            '<a target=\"_blank\" href=https://colab.research.google.com/notebooks/data_table.ipynb>data table notebook</a>'\n",
              "            + ' to learn more about interactive tables.';\n",
              "          element.innerHTML = '';\n",
              "          dataTable['output_type'] = 'display_data';\n",
              "          await google.colab.output.renderOutput(dataTable, element);\n",
              "          const docLink = document.createElement('div');\n",
              "          docLink.innerHTML = docLinkHtml;\n",
              "          element.appendChild(docLink);\n",
              "        }\n",
              "      </script>\n",
              "    </div>\n",
              "  </div>\n",
              "  "
            ]
          },
          "metadata": {},
          "execution_count": 19
        }
      ]
    },
    {
      "cell_type": "markdown",
      "source": [
        "##### BERT + CNN 3e un kernel"
      ],
      "metadata": {
        "id": "rsB0IRhLM7PP"
      }
    },
    {
      "cell_type": "markdown",
      "source": [
        "**Experiment 2:** Change kernel sizes, from lit review Roy et al. used the following kernel sizes. Kernel sizes improved the model. But now it overfits given that we're running it on 3 epochs."
      ],
      "metadata": {
        "id": "hPHddgjfRCcA"
      }
    },
    {
      "cell_type": "code",
      "source": [
        "cnn_bert_model = create_bert_cnn_model(train_layers=1,\n",
        "                                       kernel_sizes = [2, 3, 4, 5])\n",
        "\n",
        "cnn_bert_model_history = cnn_bert_model.fit([x_train.input_ids, x_train.token_type_ids, x_train.attention_mask], \n",
        "                                            y_train,   \n",
        "                                            validation_data=([x_test.input_ids, x_test.token_type_ids, x_test.attention_mask], y_test),    \n",
        "                                            batch_size=8, \n",
        "                                            epochs=3)"
      ],
      "metadata": {
        "colab": {
          "base_uri": "https://localhost:8080/"
        },
        "id": "cVMinOwPPxU4",
        "outputId": "74726e70-390f-4b15-a609-e244c5658ac1"
      },
      "execution_count": null,
      "outputs": [
        {
          "output_type": "stream",
          "name": "stderr",
          "text": [
            "Some layers from the model checkpoint at bert-base-cased were not used when initializing TFBertModel: ['nsp___cls', 'mlm___cls']\n",
            "- This IS expected if you are initializing TFBertModel from the checkpoint of a model trained on another task or with another architecture (e.g. initializing a BertForSequenceClassification model from a BertForPreTraining model).\n",
            "- This IS NOT expected if you are initializing TFBertModel from the checkpoint of a model that you expect to be exactly identical (initializing a BertForSequenceClassification model from a BertForSequenceClassification model).\n",
            "All the layers of TFBertModel were initialized from the model checkpoint at bert-base-cased.\n",
            "If your task is similar to the task the model of the checkpoint was trained on, you can already use TFBertModel for predictions without further training.\n"
          ]
        },
        {
          "output_type": "stream",
          "name": "stdout",
          "text": [
            "Epoch 1/3\n",
            "WARNING:tensorflow:Gradients do not exist for variables ['tf_bert_model_4/bert/embeddings/word_embeddings/weight:0', 'tf_bert_model_4/bert/embeddings/token_type_embeddings/embeddings:0', 'tf_bert_model_4/bert/embeddings/position_embeddings/embeddings:0', 'tf_bert_model_4/bert/embeddings/LayerNorm/gamma:0', 'tf_bert_model_4/bert/embeddings/LayerNorm/beta:0', 'tf_bert_model_4/bert/encoder/layer_._0/attention/self/query/kernel:0', 'tf_bert_model_4/bert/encoder/layer_._0/attention/self/query/bias:0', 'tf_bert_model_4/bert/encoder/layer_._0/attention/self/key/kernel:0', 'tf_bert_model_4/bert/encoder/layer_._0/attention/self/key/bias:0', 'tf_bert_model_4/bert/encoder/layer_._0/attention/self/value/kernel:0', 'tf_bert_model_4/bert/encoder/layer_._0/attention/self/value/bias:0', 'tf_bert_model_4/bert/encoder/layer_._0/attention/output/dense/kernel:0', 'tf_bert_model_4/bert/encoder/layer_._0/attention/output/dense/bias:0', 'tf_bert_model_4/bert/encoder/layer_._0/attention/output/LayerNorm/gamma:0', 'tf_bert_model_4/bert/encoder/layer_._0/attention/output/LayerNorm/beta:0', 'tf_bert_model_4/bert/encoder/layer_._0/intermediate/dense/kernel:0', 'tf_bert_model_4/bert/encoder/layer_._0/intermediate/dense/bias:0', 'tf_bert_model_4/bert/encoder/layer_._0/output/dense/kernel:0', 'tf_bert_model_4/bert/encoder/layer_._0/output/dense/bias:0', 'tf_bert_model_4/bert/encoder/layer_._0/output/LayerNorm/gamma:0', 'tf_bert_model_4/bert/encoder/layer_._0/output/LayerNorm/beta:0', 'tf_bert_model_4/bert/encoder/layer_._1/attention/self/query/kernel:0', 'tf_bert_model_4/bert/encoder/layer_._1/attention/self/query/bias:0', 'tf_bert_model_4/bert/encoder/layer_._1/attention/self/key/kernel:0', 'tf_bert_model_4/bert/encoder/layer_._1/attention/self/key/bias:0', 'tf_bert_model_4/bert/encoder/layer_._1/attention/self/value/kernel:0', 'tf_bert_model_4/bert/encoder/layer_._1/attention/self/value/bias:0', 'tf_bert_model_4/bert/encoder/layer_._1/attention/output/dense/kernel:0', 'tf_bert_model_4/bert/encoder/layer_._1/attention/output/dense/bias:0', 'tf_bert_model_4/bert/encoder/layer_._1/attention/output/LayerNorm/gamma:0', 'tf_bert_model_4/bert/encoder/layer_._1/attention/output/LayerNorm/beta:0', 'tf_bert_model_4/bert/encoder/layer_._1/intermediate/dense/kernel:0', 'tf_bert_model_4/bert/encoder/layer_._1/intermediate/dense/bias:0', 'tf_bert_model_4/bert/encoder/layer_._1/output/dense/kernel:0', 'tf_bert_model_4/bert/encoder/layer_._1/output/dense/bias:0', 'tf_bert_model_4/bert/encoder/layer_._1/output/LayerNorm/gamma:0', 'tf_bert_model_4/bert/encoder/layer_._1/output/LayerNorm/beta:0', 'tf_bert_model_4/bert/encoder/layer_._2/attention/self/query/kernel:0', 'tf_bert_model_4/bert/encoder/layer_._2/attention/self/query/bias:0', 'tf_bert_model_4/bert/encoder/layer_._2/attention/self/key/kernel:0', 'tf_bert_model_4/bert/encoder/layer_._2/attention/self/key/bias:0', 'tf_bert_model_4/bert/encoder/layer_._2/attention/self/value/kernel:0', 'tf_bert_model_4/bert/encoder/layer_._2/attention/self/value/bias:0', 'tf_bert_model_4/bert/encoder/layer_._2/attention/output/dense/kernel:0', 'tf_bert_model_4/bert/encoder/layer_._2/attention/output/dense/bias:0', 'tf_bert_model_4/bert/encoder/layer_._2/attention/output/LayerNorm/gamma:0', 'tf_bert_model_4/bert/encoder/layer_._2/attention/output/LayerNorm/beta:0', 'tf_bert_model_4/bert/encoder/layer_._2/intermediate/dense/kernel:0', 'tf_bert_model_4/bert/encoder/layer_._2/intermediate/dense/bias:0', 'tf_bert_model_4/bert/encoder/layer_._2/output/dense/kernel:0', 'tf_bert_model_4/bert/encoder/layer_._2/output/dense/bias:0', 'tf_bert_model_4/bert/encoder/layer_._2/output/LayerNorm/gamma:0', 'tf_bert_model_4/bert/encoder/layer_._2/output/LayerNorm/beta:0', 'tf_bert_model_4/bert/encoder/layer_._3/attention/self/query/kernel:0', 'tf_bert_model_4/bert/encoder/layer_._3/attention/self/query/bias:0', 'tf_bert_model_4/bert/encoder/layer_._3/attention/self/key/kernel:0', 'tf_bert_model_4/bert/encoder/layer_._3/attention/self/key/bias:0', 'tf_bert_model_4/bert/encoder/layer_._3/attention/self/value/kernel:0', 'tf_bert_model_4/bert/encoder/layer_._3/attention/self/value/bias:0', 'tf_bert_model_4/bert/encoder/layer_._3/attention/output/dense/kernel:0', 'tf_bert_model_4/bert/encoder/layer_._3/attention/output/dense/bias:0', 'tf_bert_model_4/bert/encoder/layer_._3/attention/output/LayerNorm/gamma:0', 'tf_bert_model_4/bert/encoder/layer_._3/attention/output/LayerNorm/beta:0', 'tf_bert_model_4/bert/encoder/layer_._3/intermediate/dense/kernel:0', 'tf_bert_model_4/bert/encoder/layer_._3/intermediate/dense/bias:0', 'tf_bert_model_4/bert/encoder/layer_._3/output/dense/kernel:0', 'tf_bert_model_4/bert/encoder/layer_._3/output/dense/bias:0', 'tf_bert_model_4/bert/encoder/layer_._3/output/LayerNorm/gamma:0', 'tf_bert_model_4/bert/encoder/layer_._3/output/LayerNorm/beta:0', 'tf_bert_model_4/bert/encoder/layer_._4/attention/self/query/kernel:0', 'tf_bert_model_4/bert/encoder/layer_._4/attention/self/query/bias:0', 'tf_bert_model_4/bert/encoder/layer_._4/attention/self/key/kernel:0', 'tf_bert_model_4/bert/encoder/layer_._4/attention/self/key/bias:0', 'tf_bert_model_4/bert/encoder/layer_._4/attention/self/value/kernel:0', 'tf_bert_model_4/bert/encoder/layer_._4/attention/self/value/bias:0', 'tf_bert_model_4/bert/encoder/layer_._4/attention/output/dense/kernel:0', 'tf_bert_model_4/bert/encoder/layer_._4/attention/output/dense/bias:0', 'tf_bert_model_4/bert/encoder/layer_._4/attention/output/LayerNorm/gamma:0', 'tf_bert_model_4/bert/encoder/layer_._4/attention/output/LayerNorm/beta:0', 'tf_bert_model_4/bert/encoder/layer_._4/intermediate/dense/kernel:0', 'tf_bert_model_4/bert/encoder/layer_._4/intermediate/dense/bias:0', 'tf_bert_model_4/bert/encoder/layer_._4/output/dense/kernel:0', 'tf_bert_model_4/bert/encoder/layer_._4/output/dense/bias:0', 'tf_bert_model_4/bert/encoder/layer_._4/output/LayerNorm/gamma:0', 'tf_bert_model_4/bert/encoder/layer_._4/output/LayerNorm/beta:0', 'tf_bert_model_4/bert/encoder/layer_._5/attention/self/query/kernel:0', 'tf_bert_model_4/bert/encoder/layer_._5/attention/self/query/bias:0', 'tf_bert_model_4/bert/encoder/layer_._5/attention/self/key/kernel:0', 'tf_bert_model_4/bert/encoder/layer_._5/attention/self/key/bias:0', 'tf_bert_model_4/bert/encoder/layer_._5/attention/self/value/kernel:0', 'tf_bert_model_4/bert/encoder/layer_._5/attention/self/value/bias:0', 'tf_bert_model_4/bert/encoder/layer_._5/attention/output/dense/kernel:0', 'tf_bert_model_4/bert/encoder/layer_._5/attention/output/dense/bias:0', 'tf_bert_model_4/bert/encoder/layer_._5/attention/output/LayerNorm/gamma:0', 'tf_bert_model_4/bert/encoder/layer_._5/attention/output/LayerNorm/beta:0', 'tf_bert_model_4/bert/encoder/layer_._5/intermediate/dense/kernel:0', 'tf_bert_model_4/bert/encoder/layer_._5/intermediate/dense/bias:0', 'tf_bert_model_4/bert/encoder/layer_._5/output/dense/kernel:0', 'tf_bert_model_4/bert/encoder/layer_._5/output/dense/bias:0', 'tf_bert_model_4/bert/encoder/layer_._5/output/LayerNorm/gamma:0', 'tf_bert_model_4/bert/encoder/layer_._5/output/LayerNorm/beta:0', 'tf_bert_model_4/bert/encoder/layer_._6/attention/self/query/kernel:0', 'tf_bert_model_4/bert/encoder/layer_._6/attention/self/query/bias:0', 'tf_bert_model_4/bert/encoder/layer_._6/attention/self/key/kernel:0', 'tf_bert_model_4/bert/encoder/layer_._6/attention/self/key/bias:0', 'tf_bert_model_4/bert/encoder/layer_._6/attention/self/value/kernel:0', 'tf_bert_model_4/bert/encoder/layer_._6/attention/self/value/bias:0', 'tf_bert_model_4/bert/encoder/layer_._6/attention/output/dense/kernel:0', 'tf_bert_model_4/bert/encoder/layer_._6/attention/output/dense/bias:0', 'tf_bert_model_4/bert/encoder/layer_._6/attention/output/LayerNorm/gamma:0', 'tf_bert_model_4/bert/encoder/layer_._6/attention/output/LayerNorm/beta:0', 'tf_bert_model_4/bert/encoder/layer_._6/intermediate/dense/kernel:0', 'tf_bert_model_4/bert/encoder/layer_._6/intermediate/dense/bias:0', 'tf_bert_model_4/bert/encoder/layer_._6/output/dense/kernel:0', 'tf_bert_model_4/bert/encoder/layer_._6/output/dense/bias:0', 'tf_bert_model_4/bert/encoder/layer_._6/output/LayerNorm/gamma:0', 'tf_bert_model_4/bert/encoder/layer_._6/output/LayerNorm/beta:0', 'tf_bert_model_4/bert/encoder/layer_._7/attention/self/query/kernel:0', 'tf_bert_model_4/bert/encoder/layer_._7/attention/self/query/bias:0', 'tf_bert_model_4/bert/encoder/layer_._7/attention/self/key/kernel:0', 'tf_bert_model_4/bert/encoder/layer_._7/attention/self/key/bias:0', 'tf_bert_model_4/bert/encoder/layer_._7/attention/self/value/kernel:0', 'tf_bert_model_4/bert/encoder/layer_._7/attention/self/value/bias:0', 'tf_bert_model_4/bert/encoder/layer_._7/attention/output/dense/kernel:0', 'tf_bert_model_4/bert/encoder/layer_._7/attention/output/dense/bias:0', 'tf_bert_model_4/bert/encoder/layer_._7/attention/output/LayerNorm/gamma:0', 'tf_bert_model_4/bert/encoder/layer_._7/attention/output/LayerNorm/beta:0', 'tf_bert_model_4/bert/encoder/layer_._7/intermediate/dense/kernel:0', 'tf_bert_model_4/bert/encoder/layer_._7/intermediate/dense/bias:0', 'tf_bert_model_4/bert/encoder/layer_._7/output/dense/kernel:0', 'tf_bert_model_4/bert/encoder/layer_._7/output/dense/bias:0', 'tf_bert_model_4/bert/encoder/layer_._7/output/LayerNorm/gamma:0', 'tf_bert_model_4/bert/encoder/layer_._7/output/LayerNorm/beta:0', 'tf_bert_model_4/bert/encoder/layer_._8/attention/self/query/kernel:0', 'tf_bert_model_4/bert/encoder/layer_._8/attention/self/query/bias:0', 'tf_bert_model_4/bert/encoder/layer_._8/attention/self/key/kernel:0', 'tf_bert_model_4/bert/encoder/layer_._8/attention/self/key/bias:0', 'tf_bert_model_4/bert/encoder/layer_._8/attention/self/value/kernel:0', 'tf_bert_model_4/bert/encoder/layer_._8/attention/self/value/bias:0', 'tf_bert_model_4/bert/encoder/layer_._8/attention/output/dense/kernel:0', 'tf_bert_model_4/bert/encoder/layer_._8/attention/output/dense/bias:0', 'tf_bert_model_4/bert/encoder/layer_._8/attention/output/LayerNorm/gamma:0', 'tf_bert_model_4/bert/encoder/layer_._8/attention/output/LayerNorm/beta:0', 'tf_bert_model_4/bert/encoder/layer_._8/intermediate/dense/kernel:0', 'tf_bert_model_4/bert/encoder/layer_._8/intermediate/dense/bias:0', 'tf_bert_model_4/bert/encoder/layer_._8/output/dense/kernel:0', 'tf_bert_model_4/bert/encoder/layer_._8/output/dense/bias:0', 'tf_bert_model_4/bert/encoder/layer_._8/output/LayerNorm/gamma:0', 'tf_bert_model_4/bert/encoder/layer_._8/output/LayerNorm/beta:0', 'tf_bert_model_4/bert/encoder/layer_._9/attention/self/query/kernel:0', 'tf_bert_model_4/bert/encoder/layer_._9/attention/self/query/bias:0', 'tf_bert_model_4/bert/encoder/layer_._9/attention/self/key/kernel:0', 'tf_bert_model_4/bert/encoder/layer_._9/attention/self/key/bias:0', 'tf_bert_model_4/bert/encoder/layer_._9/attention/self/value/kernel:0', 'tf_bert_model_4/bert/encoder/layer_._9/attention/self/value/bias:0', 'tf_bert_model_4/bert/encoder/layer_._9/attention/output/dense/kernel:0', 'tf_bert_model_4/bert/encoder/layer_._9/attention/output/dense/bias:0', 'tf_bert_model_4/bert/encoder/layer_._9/attention/output/LayerNorm/gamma:0', 'tf_bert_model_4/bert/encoder/layer_._9/attention/output/LayerNorm/beta:0', 'tf_bert_model_4/bert/encoder/layer_._9/intermediate/dense/kernel:0', 'tf_bert_model_4/bert/encoder/layer_._9/intermediate/dense/bias:0', 'tf_bert_model_4/bert/encoder/layer_._9/output/dense/kernel:0', 'tf_bert_model_4/bert/encoder/layer_._9/output/dense/bias:0', 'tf_bert_model_4/bert/encoder/layer_._9/output/LayerNorm/gamma:0', 'tf_bert_model_4/bert/encoder/layer_._9/output/LayerNorm/beta:0', 'tf_bert_model_4/bert/encoder/layer_._10/attention/self/query/kernel:0', 'tf_bert_model_4/bert/encoder/layer_._10/attention/self/query/bias:0', 'tf_bert_model_4/bert/encoder/layer_._10/attention/self/key/kernel:0', 'tf_bert_model_4/bert/encoder/layer_._10/attention/self/key/bias:0', 'tf_bert_model_4/bert/encoder/layer_._10/attention/self/value/kernel:0', 'tf_bert_model_4/bert/encoder/layer_._10/attention/self/value/bias:0', 'tf_bert_model_4/bert/encoder/layer_._10/attention/output/dense/kernel:0', 'tf_bert_model_4/bert/encoder/layer_._10/attention/output/dense/bias:0', 'tf_bert_model_4/bert/encoder/layer_._10/attention/output/LayerNorm/gamma:0', 'tf_bert_model_4/bert/encoder/layer_._10/attention/output/LayerNorm/beta:0', 'tf_bert_model_4/bert/encoder/layer_._10/intermediate/dense/kernel:0', 'tf_bert_model_4/bert/encoder/layer_._10/intermediate/dense/bias:0', 'tf_bert_model_4/bert/encoder/layer_._10/output/dense/kernel:0', 'tf_bert_model_4/bert/encoder/layer_._10/output/dense/bias:0', 'tf_bert_model_4/bert/encoder/layer_._10/output/LayerNorm/gamma:0', 'tf_bert_model_4/bert/encoder/layer_._10/output/LayerNorm/beta:0', 'tf_bert_model_4/bert/pooler/dense/kernel:0', 'tf_bert_model_4/bert/pooler/dense/bias:0'] when minimizing the loss. If you're using `model.compile()`, did you forget to provide a `loss`argument?\n",
            "WARNING:tensorflow:Gradients do not exist for variables ['tf_bert_model_4/bert/embeddings/word_embeddings/weight:0', 'tf_bert_model_4/bert/embeddings/token_type_embeddings/embeddings:0', 'tf_bert_model_4/bert/embeddings/position_embeddings/embeddings:0', 'tf_bert_model_4/bert/embeddings/LayerNorm/gamma:0', 'tf_bert_model_4/bert/embeddings/LayerNorm/beta:0', 'tf_bert_model_4/bert/encoder/layer_._0/attention/self/query/kernel:0', 'tf_bert_model_4/bert/encoder/layer_._0/attention/self/query/bias:0', 'tf_bert_model_4/bert/encoder/layer_._0/attention/self/key/kernel:0', 'tf_bert_model_4/bert/encoder/layer_._0/attention/self/key/bias:0', 'tf_bert_model_4/bert/encoder/layer_._0/attention/self/value/kernel:0', 'tf_bert_model_4/bert/encoder/layer_._0/attention/self/value/bias:0', 'tf_bert_model_4/bert/encoder/layer_._0/attention/output/dense/kernel:0', 'tf_bert_model_4/bert/encoder/layer_._0/attention/output/dense/bias:0', 'tf_bert_model_4/bert/encoder/layer_._0/attention/output/LayerNorm/gamma:0', 'tf_bert_model_4/bert/encoder/layer_._0/attention/output/LayerNorm/beta:0', 'tf_bert_model_4/bert/encoder/layer_._0/intermediate/dense/kernel:0', 'tf_bert_model_4/bert/encoder/layer_._0/intermediate/dense/bias:0', 'tf_bert_model_4/bert/encoder/layer_._0/output/dense/kernel:0', 'tf_bert_model_4/bert/encoder/layer_._0/output/dense/bias:0', 'tf_bert_model_4/bert/encoder/layer_._0/output/LayerNorm/gamma:0', 'tf_bert_model_4/bert/encoder/layer_._0/output/LayerNorm/beta:0', 'tf_bert_model_4/bert/encoder/layer_._1/attention/self/query/kernel:0', 'tf_bert_model_4/bert/encoder/layer_._1/attention/self/query/bias:0', 'tf_bert_model_4/bert/encoder/layer_._1/attention/self/key/kernel:0', 'tf_bert_model_4/bert/encoder/layer_._1/attention/self/key/bias:0', 'tf_bert_model_4/bert/encoder/layer_._1/attention/self/value/kernel:0', 'tf_bert_model_4/bert/encoder/layer_._1/attention/self/value/bias:0', 'tf_bert_model_4/bert/encoder/layer_._1/attention/output/dense/kernel:0', 'tf_bert_model_4/bert/encoder/layer_._1/attention/output/dense/bias:0', 'tf_bert_model_4/bert/encoder/layer_._1/attention/output/LayerNorm/gamma:0', 'tf_bert_model_4/bert/encoder/layer_._1/attention/output/LayerNorm/beta:0', 'tf_bert_model_4/bert/encoder/layer_._1/intermediate/dense/kernel:0', 'tf_bert_model_4/bert/encoder/layer_._1/intermediate/dense/bias:0', 'tf_bert_model_4/bert/encoder/layer_._1/output/dense/kernel:0', 'tf_bert_model_4/bert/encoder/layer_._1/output/dense/bias:0', 'tf_bert_model_4/bert/encoder/layer_._1/output/LayerNorm/gamma:0', 'tf_bert_model_4/bert/encoder/layer_._1/output/LayerNorm/beta:0', 'tf_bert_model_4/bert/encoder/layer_._2/attention/self/query/kernel:0', 'tf_bert_model_4/bert/encoder/layer_._2/attention/self/query/bias:0', 'tf_bert_model_4/bert/encoder/layer_._2/attention/self/key/kernel:0', 'tf_bert_model_4/bert/encoder/layer_._2/attention/self/key/bias:0', 'tf_bert_model_4/bert/encoder/layer_._2/attention/self/value/kernel:0', 'tf_bert_model_4/bert/encoder/layer_._2/attention/self/value/bias:0', 'tf_bert_model_4/bert/encoder/layer_._2/attention/output/dense/kernel:0', 'tf_bert_model_4/bert/encoder/layer_._2/attention/output/dense/bias:0', 'tf_bert_model_4/bert/encoder/layer_._2/attention/output/LayerNorm/gamma:0', 'tf_bert_model_4/bert/encoder/layer_._2/attention/output/LayerNorm/beta:0', 'tf_bert_model_4/bert/encoder/layer_._2/intermediate/dense/kernel:0', 'tf_bert_model_4/bert/encoder/layer_._2/intermediate/dense/bias:0', 'tf_bert_model_4/bert/encoder/layer_._2/output/dense/kernel:0', 'tf_bert_model_4/bert/encoder/layer_._2/output/dense/bias:0', 'tf_bert_model_4/bert/encoder/layer_._2/output/LayerNorm/gamma:0', 'tf_bert_model_4/bert/encoder/layer_._2/output/LayerNorm/beta:0', 'tf_bert_model_4/bert/encoder/layer_._3/attention/self/query/kernel:0', 'tf_bert_model_4/bert/encoder/layer_._3/attention/self/query/bias:0', 'tf_bert_model_4/bert/encoder/layer_._3/attention/self/key/kernel:0', 'tf_bert_model_4/bert/encoder/layer_._3/attention/self/key/bias:0', 'tf_bert_model_4/bert/encoder/layer_._3/attention/self/value/kernel:0', 'tf_bert_model_4/bert/encoder/layer_._3/attention/self/value/bias:0', 'tf_bert_model_4/bert/encoder/layer_._3/attention/output/dense/kernel:0', 'tf_bert_model_4/bert/encoder/layer_._3/attention/output/dense/bias:0', 'tf_bert_model_4/bert/encoder/layer_._3/attention/output/LayerNorm/gamma:0', 'tf_bert_model_4/bert/encoder/layer_._3/attention/output/LayerNorm/beta:0', 'tf_bert_model_4/bert/encoder/layer_._3/intermediate/dense/kernel:0', 'tf_bert_model_4/bert/encoder/layer_._3/intermediate/dense/bias:0', 'tf_bert_model_4/bert/encoder/layer_._3/output/dense/kernel:0', 'tf_bert_model_4/bert/encoder/layer_._3/output/dense/bias:0', 'tf_bert_model_4/bert/encoder/layer_._3/output/LayerNorm/gamma:0', 'tf_bert_model_4/bert/encoder/layer_._3/output/LayerNorm/beta:0', 'tf_bert_model_4/bert/encoder/layer_._4/attention/self/query/kernel:0', 'tf_bert_model_4/bert/encoder/layer_._4/attention/self/query/bias:0', 'tf_bert_model_4/bert/encoder/layer_._4/attention/self/key/kernel:0', 'tf_bert_model_4/bert/encoder/layer_._4/attention/self/key/bias:0', 'tf_bert_model_4/bert/encoder/layer_._4/attention/self/value/kernel:0', 'tf_bert_model_4/bert/encoder/layer_._4/attention/self/value/bias:0', 'tf_bert_model_4/bert/encoder/layer_._4/attention/output/dense/kernel:0', 'tf_bert_model_4/bert/encoder/layer_._4/attention/output/dense/bias:0', 'tf_bert_model_4/bert/encoder/layer_._4/attention/output/LayerNorm/gamma:0', 'tf_bert_model_4/bert/encoder/layer_._4/attention/output/LayerNorm/beta:0', 'tf_bert_model_4/bert/encoder/layer_._4/intermediate/dense/kernel:0', 'tf_bert_model_4/bert/encoder/layer_._4/intermediate/dense/bias:0', 'tf_bert_model_4/bert/encoder/layer_._4/output/dense/kernel:0', 'tf_bert_model_4/bert/encoder/layer_._4/output/dense/bias:0', 'tf_bert_model_4/bert/encoder/layer_._4/output/LayerNorm/gamma:0', 'tf_bert_model_4/bert/encoder/layer_._4/output/LayerNorm/beta:0', 'tf_bert_model_4/bert/encoder/layer_._5/attention/self/query/kernel:0', 'tf_bert_model_4/bert/encoder/layer_._5/attention/self/query/bias:0', 'tf_bert_model_4/bert/encoder/layer_._5/attention/self/key/kernel:0', 'tf_bert_model_4/bert/encoder/layer_._5/attention/self/key/bias:0', 'tf_bert_model_4/bert/encoder/layer_._5/attention/self/value/kernel:0', 'tf_bert_model_4/bert/encoder/layer_._5/attention/self/value/bias:0', 'tf_bert_model_4/bert/encoder/layer_._5/attention/output/dense/kernel:0', 'tf_bert_model_4/bert/encoder/layer_._5/attention/output/dense/bias:0', 'tf_bert_model_4/bert/encoder/layer_._5/attention/output/LayerNorm/gamma:0', 'tf_bert_model_4/bert/encoder/layer_._5/attention/output/LayerNorm/beta:0', 'tf_bert_model_4/bert/encoder/layer_._5/intermediate/dense/kernel:0', 'tf_bert_model_4/bert/encoder/layer_._5/intermediate/dense/bias:0', 'tf_bert_model_4/bert/encoder/layer_._5/output/dense/kernel:0', 'tf_bert_model_4/bert/encoder/layer_._5/output/dense/bias:0', 'tf_bert_model_4/bert/encoder/layer_._5/output/LayerNorm/gamma:0', 'tf_bert_model_4/bert/encoder/layer_._5/output/LayerNorm/beta:0', 'tf_bert_model_4/bert/encoder/layer_._6/attention/self/query/kernel:0', 'tf_bert_model_4/bert/encoder/layer_._6/attention/self/query/bias:0', 'tf_bert_model_4/bert/encoder/layer_._6/attention/self/key/kernel:0', 'tf_bert_model_4/bert/encoder/layer_._6/attention/self/key/bias:0', 'tf_bert_model_4/bert/encoder/layer_._6/attention/self/value/kernel:0', 'tf_bert_model_4/bert/encoder/layer_._6/attention/self/value/bias:0', 'tf_bert_model_4/bert/encoder/layer_._6/attention/output/dense/kernel:0', 'tf_bert_model_4/bert/encoder/layer_._6/attention/output/dense/bias:0', 'tf_bert_model_4/bert/encoder/layer_._6/attention/output/LayerNorm/gamma:0', 'tf_bert_model_4/bert/encoder/layer_._6/attention/output/LayerNorm/beta:0', 'tf_bert_model_4/bert/encoder/layer_._6/intermediate/dense/kernel:0', 'tf_bert_model_4/bert/encoder/layer_._6/intermediate/dense/bias:0', 'tf_bert_model_4/bert/encoder/layer_._6/output/dense/kernel:0', 'tf_bert_model_4/bert/encoder/layer_._6/output/dense/bias:0', 'tf_bert_model_4/bert/encoder/layer_._6/output/LayerNorm/gamma:0', 'tf_bert_model_4/bert/encoder/layer_._6/output/LayerNorm/beta:0', 'tf_bert_model_4/bert/encoder/layer_._7/attention/self/query/kernel:0', 'tf_bert_model_4/bert/encoder/layer_._7/attention/self/query/bias:0', 'tf_bert_model_4/bert/encoder/layer_._7/attention/self/key/kernel:0', 'tf_bert_model_4/bert/encoder/layer_._7/attention/self/key/bias:0', 'tf_bert_model_4/bert/encoder/layer_._7/attention/self/value/kernel:0', 'tf_bert_model_4/bert/encoder/layer_._7/attention/self/value/bias:0', 'tf_bert_model_4/bert/encoder/layer_._7/attention/output/dense/kernel:0', 'tf_bert_model_4/bert/encoder/layer_._7/attention/output/dense/bias:0', 'tf_bert_model_4/bert/encoder/layer_._7/attention/output/LayerNorm/gamma:0', 'tf_bert_model_4/bert/encoder/layer_._7/attention/output/LayerNorm/beta:0', 'tf_bert_model_4/bert/encoder/layer_._7/intermediate/dense/kernel:0', 'tf_bert_model_4/bert/encoder/layer_._7/intermediate/dense/bias:0', 'tf_bert_model_4/bert/encoder/layer_._7/output/dense/kernel:0', 'tf_bert_model_4/bert/encoder/layer_._7/output/dense/bias:0', 'tf_bert_model_4/bert/encoder/layer_._7/output/LayerNorm/gamma:0', 'tf_bert_model_4/bert/encoder/layer_._7/output/LayerNorm/beta:0', 'tf_bert_model_4/bert/encoder/layer_._8/attention/self/query/kernel:0', 'tf_bert_model_4/bert/encoder/layer_._8/attention/self/query/bias:0', 'tf_bert_model_4/bert/encoder/layer_._8/attention/self/key/kernel:0', 'tf_bert_model_4/bert/encoder/layer_._8/attention/self/key/bias:0', 'tf_bert_model_4/bert/encoder/layer_._8/attention/self/value/kernel:0', 'tf_bert_model_4/bert/encoder/layer_._8/attention/self/value/bias:0', 'tf_bert_model_4/bert/encoder/layer_._8/attention/output/dense/kernel:0', 'tf_bert_model_4/bert/encoder/layer_._8/attention/output/dense/bias:0', 'tf_bert_model_4/bert/encoder/layer_._8/attention/output/LayerNorm/gamma:0', 'tf_bert_model_4/bert/encoder/layer_._8/attention/output/LayerNorm/beta:0', 'tf_bert_model_4/bert/encoder/layer_._8/intermediate/dense/kernel:0', 'tf_bert_model_4/bert/encoder/layer_._8/intermediate/dense/bias:0', 'tf_bert_model_4/bert/encoder/layer_._8/output/dense/kernel:0', 'tf_bert_model_4/bert/encoder/layer_._8/output/dense/bias:0', 'tf_bert_model_4/bert/encoder/layer_._8/output/LayerNorm/gamma:0', 'tf_bert_model_4/bert/encoder/layer_._8/output/LayerNorm/beta:0', 'tf_bert_model_4/bert/encoder/layer_._9/attention/self/query/kernel:0', 'tf_bert_model_4/bert/encoder/layer_._9/attention/self/query/bias:0', 'tf_bert_model_4/bert/encoder/layer_._9/attention/self/key/kernel:0', 'tf_bert_model_4/bert/encoder/layer_._9/attention/self/key/bias:0', 'tf_bert_model_4/bert/encoder/layer_._9/attention/self/value/kernel:0', 'tf_bert_model_4/bert/encoder/layer_._9/attention/self/value/bias:0', 'tf_bert_model_4/bert/encoder/layer_._9/attention/output/dense/kernel:0', 'tf_bert_model_4/bert/encoder/layer_._9/attention/output/dense/bias:0', 'tf_bert_model_4/bert/encoder/layer_._9/attention/output/LayerNorm/gamma:0', 'tf_bert_model_4/bert/encoder/layer_._9/attention/output/LayerNorm/beta:0', 'tf_bert_model_4/bert/encoder/layer_._9/intermediate/dense/kernel:0', 'tf_bert_model_4/bert/encoder/layer_._9/intermediate/dense/bias:0', 'tf_bert_model_4/bert/encoder/layer_._9/output/dense/kernel:0', 'tf_bert_model_4/bert/encoder/layer_._9/output/dense/bias:0', 'tf_bert_model_4/bert/encoder/layer_._9/output/LayerNorm/gamma:0', 'tf_bert_model_4/bert/encoder/layer_._9/output/LayerNorm/beta:0', 'tf_bert_model_4/bert/encoder/layer_._10/attention/self/query/kernel:0', 'tf_bert_model_4/bert/encoder/layer_._10/attention/self/query/bias:0', 'tf_bert_model_4/bert/encoder/layer_._10/attention/self/key/kernel:0', 'tf_bert_model_4/bert/encoder/layer_._10/attention/self/key/bias:0', 'tf_bert_model_4/bert/encoder/layer_._10/attention/self/value/kernel:0', 'tf_bert_model_4/bert/encoder/layer_._10/attention/self/value/bias:0', 'tf_bert_model_4/bert/encoder/layer_._10/attention/output/dense/kernel:0', 'tf_bert_model_4/bert/encoder/layer_._10/attention/output/dense/bias:0', 'tf_bert_model_4/bert/encoder/layer_._10/attention/output/LayerNorm/gamma:0', 'tf_bert_model_4/bert/encoder/layer_._10/attention/output/LayerNorm/beta:0', 'tf_bert_model_4/bert/encoder/layer_._10/intermediate/dense/kernel:0', 'tf_bert_model_4/bert/encoder/layer_._10/intermediate/dense/bias:0', 'tf_bert_model_4/bert/encoder/layer_._10/output/dense/kernel:0', 'tf_bert_model_4/bert/encoder/layer_._10/output/dense/bias:0', 'tf_bert_model_4/bert/encoder/layer_._10/output/LayerNorm/gamma:0', 'tf_bert_model_4/bert/encoder/layer_._10/output/LayerNorm/beta:0', 'tf_bert_model_4/bert/pooler/dense/kernel:0', 'tf_bert_model_4/bert/pooler/dense/bias:0'] when minimizing the loss. If you're using `model.compile()`, did you forget to provide a `loss`argument?\n",
            "611/611 [==============================] - 78s 116ms/step - loss: 0.0880 - accuracy: 0.9675 - val_loss: 0.0518 - val_accuracy: 0.9828\n",
            "Epoch 2/3\n",
            "611/611 [==============================] - 62s 102ms/step - loss: 0.0353 - accuracy: 0.9902 - val_loss: 0.0486 - val_accuracy: 0.9877\n",
            "Epoch 3/3\n",
            "611/611 [==============================] - 62s 101ms/step - loss: 0.0229 - accuracy: 0.9939 - val_loss: 0.0537 - val_accuracy: 0.9885\n"
          ]
        }
      ]
    },
    {
      "cell_type": "code",
      "source": [
        "predict_labels = cnn_bert_model.predict([x_train.input_ids, x_train.token_type_ids, x_train.attention_mask])\n",
        "train_y_predict = predict_labels.round(0)\n",
        "test_predict_labels = cnn_bert_model.predict([x_test.input_ids, x_test.token_type_ids, x_test.attention_mask])\n",
        "test_y_predict = test_predict_labels.round(0)"
      ],
      "metadata": {
        "id": "JpLxOK_yRSOP"
      },
      "execution_count": null,
      "outputs": []
    },
    {
      "cell_type": "code",
      "source": [
        "print_metrics('BERT + CNN kernel, train data: ', np.array(train_y, int), train_y_predict)\n",
        "print_metrics('test data: ', np.array(test_y, int), test_y_predict)"
      ],
      "metadata": {
        "colab": {
          "base_uri": "https://localhost:8080/"
        },
        "id": "PALsjyI1RS5a",
        "outputId": "39a4c2e0-2acf-4a0f-e2de-06ffe78dbe00"
      },
      "execution_count": null,
      "outputs": [
        {
          "output_type": "stream",
          "name": "stdout",
          "text": [
            "BERT + CNN kernel, train data: : accuracy = 0.9984, precision = 0.9951, recall = 0.9971, f1 = 0.9961\n",
            "test data: : accuracy = 0.9885, precision = 0.9698, recall = 0.9772, f1 = 0.9735\n"
          ]
        }
      ]
    },
    {
      "cell_type": "code",
      "source": [
        "# test\n",
        "missclassified_text = test_X[np.array(test_y, int) != test_y_predict.reshape(-1)]\n",
        "missclassified_label = test_y[np.array(test_y, int) != test_y_predict.reshape(-1)]\n",
        "\n",
        "df_report = pd.DataFrame({'missclassified_text': missclassified_text, 'true_label': missclassified_label})\n",
        "\n",
        "df_report"
      ],
      "metadata": {
        "colab": {
          "base_uri": "https://localhost:8080/",
          "height": 489
        },
        "id": "G1Haq6M-3c1u",
        "outputId": "9bd4e75f-9e20-4754-e613-37c4954a7d02"
      },
      "execution_count": null,
      "outputs": [
        {
          "output_type": "execute_result",
          "data": {
            "text/plain": [
              "                                    missclassified_text  true_label\n",
              "2663  Hello darling how are you today? I would love ...           1\n",
              "714   Save yourself the stress. If the person has a ...           0\n",
              "1429  Tell you what, if you make a little spreadshee...           0\n",
              "5381  Somebody set up a website where you can play h...           0\n",
              "718   Book which lesson? then you msg me... I will c...           0\n",
              "263   MY NO. IN LUTON 0125698789 RING ME IF UR AROUN...           0\n",
              "989   Yun ah.the ubi one say if ü wan call by tomorr...           0\n",
              "5581                                                N/a           1\n",
              "2680  New Tones This week include: 1)McFly-All Ab..,...           1\n",
              "334   Any chance you might have had with me evaporat...           0\n",
              "2774  How come it takes so little time for a child w...           1\n",
              "4298  thesmszone.com lets you send free anonymous an...           1\n",
              "5372  dating:i have had two of these. Only started a...           1\n",
              "3094  staff.science.nus.edu.sg/~phyhcmk/teaching/pc1...           0"
            ],
            "text/html": [
              "\n",
              "  <div id=\"df-69a8c9e4-0dcd-41c6-b3f6-99ae36548dc3\">\n",
              "    <div class=\"colab-df-container\">\n",
              "      <div>\n",
              "<style scoped>\n",
              "    .dataframe tbody tr th:only-of-type {\n",
              "        vertical-align: middle;\n",
              "    }\n",
              "\n",
              "    .dataframe tbody tr th {\n",
              "        vertical-align: top;\n",
              "    }\n",
              "\n",
              "    .dataframe thead th {\n",
              "        text-align: right;\n",
              "    }\n",
              "</style>\n",
              "<table border=\"1\" class=\"dataframe\">\n",
              "  <thead>\n",
              "    <tr style=\"text-align: right;\">\n",
              "      <th></th>\n",
              "      <th>missclassified_text</th>\n",
              "      <th>true_label</th>\n",
              "    </tr>\n",
              "  </thead>\n",
              "  <tbody>\n",
              "    <tr>\n",
              "      <th>2663</th>\n",
              "      <td>Hello darling how are you today? I would love ...</td>\n",
              "      <td>1</td>\n",
              "    </tr>\n",
              "    <tr>\n",
              "      <th>714</th>\n",
              "      <td>Save yourself the stress. If the person has a ...</td>\n",
              "      <td>0</td>\n",
              "    </tr>\n",
              "    <tr>\n",
              "      <th>1429</th>\n",
              "      <td>Tell you what, if you make a little spreadshee...</td>\n",
              "      <td>0</td>\n",
              "    </tr>\n",
              "    <tr>\n",
              "      <th>5381</th>\n",
              "      <td>Somebody set up a website where you can play h...</td>\n",
              "      <td>0</td>\n",
              "    </tr>\n",
              "    <tr>\n",
              "      <th>718</th>\n",
              "      <td>Book which lesson? then you msg me... I will c...</td>\n",
              "      <td>0</td>\n",
              "    </tr>\n",
              "    <tr>\n",
              "      <th>263</th>\n",
              "      <td>MY NO. IN LUTON 0125698789 RING ME IF UR AROUN...</td>\n",
              "      <td>0</td>\n",
              "    </tr>\n",
              "    <tr>\n",
              "      <th>989</th>\n",
              "      <td>Yun ah.the ubi one say if ü wan call by tomorr...</td>\n",
              "      <td>0</td>\n",
              "    </tr>\n",
              "    <tr>\n",
              "      <th>5581</th>\n",
              "      <td>N/a</td>\n",
              "      <td>1</td>\n",
              "    </tr>\n",
              "    <tr>\n",
              "      <th>2680</th>\n",
              "      <td>New Tones This week include: 1)McFly-All Ab..,...</td>\n",
              "      <td>1</td>\n",
              "    </tr>\n",
              "    <tr>\n",
              "      <th>334</th>\n",
              "      <td>Any chance you might have had with me evaporat...</td>\n",
              "      <td>0</td>\n",
              "    </tr>\n",
              "    <tr>\n",
              "      <th>2774</th>\n",
              "      <td>How come it takes so little time for a child w...</td>\n",
              "      <td>1</td>\n",
              "    </tr>\n",
              "    <tr>\n",
              "      <th>4298</th>\n",
              "      <td>thesmszone.com lets you send free anonymous an...</td>\n",
              "      <td>1</td>\n",
              "    </tr>\n",
              "    <tr>\n",
              "      <th>5372</th>\n",
              "      <td>dating:i have had two of these. Only started a...</td>\n",
              "      <td>1</td>\n",
              "    </tr>\n",
              "    <tr>\n",
              "      <th>3094</th>\n",
              "      <td>staff.science.nus.edu.sg/~phyhcmk/teaching/pc1...</td>\n",
              "      <td>0</td>\n",
              "    </tr>\n",
              "  </tbody>\n",
              "</table>\n",
              "</div>\n",
              "      <button class=\"colab-df-convert\" onclick=\"convertToInteractive('df-69a8c9e4-0dcd-41c6-b3f6-99ae36548dc3')\"\n",
              "              title=\"Convert this dataframe to an interactive table.\"\n",
              "              style=\"display:none;\">\n",
              "        \n",
              "  <svg xmlns=\"http://www.w3.org/2000/svg\" height=\"24px\"viewBox=\"0 0 24 24\"\n",
              "       width=\"24px\">\n",
              "    <path d=\"M0 0h24v24H0V0z\" fill=\"none\"/>\n",
              "    <path d=\"M18.56 5.44l.94 2.06.94-2.06 2.06-.94-2.06-.94-.94-2.06-.94 2.06-2.06.94zm-11 1L8.5 8.5l.94-2.06 2.06-.94-2.06-.94L8.5 2.5l-.94 2.06-2.06.94zm10 10l.94 2.06.94-2.06 2.06-.94-2.06-.94-.94-2.06-.94 2.06-2.06.94z\"/><path d=\"M17.41 7.96l-1.37-1.37c-.4-.4-.92-.59-1.43-.59-.52 0-1.04.2-1.43.59L10.3 9.45l-7.72 7.72c-.78.78-.78 2.05 0 2.83L4 21.41c.39.39.9.59 1.41.59.51 0 1.02-.2 1.41-.59l7.78-7.78 2.81-2.81c.8-.78.8-2.07 0-2.86zM5.41 20L4 18.59l7.72-7.72 1.47 1.35L5.41 20z\"/>\n",
              "  </svg>\n",
              "      </button>\n",
              "      \n",
              "  <style>\n",
              "    .colab-df-container {\n",
              "      display:flex;\n",
              "      flex-wrap:wrap;\n",
              "      gap: 12px;\n",
              "    }\n",
              "\n",
              "    .colab-df-convert {\n",
              "      background-color: #E8F0FE;\n",
              "      border: none;\n",
              "      border-radius: 50%;\n",
              "      cursor: pointer;\n",
              "      display: none;\n",
              "      fill: #1967D2;\n",
              "      height: 32px;\n",
              "      padding: 0 0 0 0;\n",
              "      width: 32px;\n",
              "    }\n",
              "\n",
              "    .colab-df-convert:hover {\n",
              "      background-color: #E2EBFA;\n",
              "      box-shadow: 0px 1px 2px rgba(60, 64, 67, 0.3), 0px 1px 3px 1px rgba(60, 64, 67, 0.15);\n",
              "      fill: #174EA6;\n",
              "    }\n",
              "\n",
              "    [theme=dark] .colab-df-convert {\n",
              "      background-color: #3B4455;\n",
              "      fill: #D2E3FC;\n",
              "    }\n",
              "\n",
              "    [theme=dark] .colab-df-convert:hover {\n",
              "      background-color: #434B5C;\n",
              "      box-shadow: 0px 1px 3px 1px rgba(0, 0, 0, 0.15);\n",
              "      filter: drop-shadow(0px 1px 2px rgba(0, 0, 0, 0.3));\n",
              "      fill: #FFFFFF;\n",
              "    }\n",
              "  </style>\n",
              "\n",
              "      <script>\n",
              "        const buttonEl =\n",
              "          document.querySelector('#df-69a8c9e4-0dcd-41c6-b3f6-99ae36548dc3 button.colab-df-convert');\n",
              "        buttonEl.style.display =\n",
              "          google.colab.kernel.accessAllowed ? 'block' : 'none';\n",
              "\n",
              "        async function convertToInteractive(key) {\n",
              "          const element = document.querySelector('#df-69a8c9e4-0dcd-41c6-b3f6-99ae36548dc3');\n",
              "          const dataTable =\n",
              "            await google.colab.kernel.invokeFunction('convertToInteractive',\n",
              "                                                     [key], {});\n",
              "          if (!dataTable) return;\n",
              "\n",
              "          const docLinkHtml = 'Like what you see? Visit the ' +\n",
              "            '<a target=\"_blank\" href=https://colab.research.google.com/notebooks/data_table.ipynb>data table notebook</a>'\n",
              "            + ' to learn more about interactive tables.';\n",
              "          element.innerHTML = '';\n",
              "          dataTable['output_type'] = 'display_data';\n",
              "          await google.colab.output.renderOutput(dataTable, element);\n",
              "          const docLink = document.createElement('div');\n",
              "          docLink.innerHTML = docLinkHtml;\n",
              "          element.appendChild(docLink);\n",
              "        }\n",
              "      </script>\n",
              "    </div>\n",
              "  </div>\n",
              "  "
            ]
          },
          "metadata": {},
          "execution_count": 31
        }
      ]
    },
    {
      "cell_type": "markdown",
      "source": [
        "##### BERT + CNN 3e un filters"
      ],
      "metadata": {
        "id": "TM-DpiZ1NB13"
      }
    },
    {
      "cell_type": "markdown",
      "source": [
        "**Experiment 3:** Decrease the number of filters to offset overfitting and possibly increase performance"
      ],
      "metadata": {
        "id": "VnaafpFDThAp"
      }
    },
    {
      "cell_type": "code",
      "source": [
        "cnn_bert_model = create_bert_cnn_model(train_layers=1,\n",
        "                                       kernel_sizes = [2, 3, 4, 5],\n",
        "                                       num_filters = [32,64,128])\n",
        "\n",
        "cnn_bert_model_history = cnn_bert_model.fit([x_train.input_ids, x_train.token_type_ids, x_train.attention_mask], \n",
        "                                            y_train,   \n",
        "                                            validation_data=([x_test.input_ids, x_test.token_type_ids, x_test.attention_mask], y_test),    \n",
        "                                            batch_size=8, \n",
        "                                            epochs=3)"
      ],
      "metadata": {
        "colab": {
          "base_uri": "https://localhost:8080/"
        },
        "id": "vy32_mv7TMm7",
        "outputId": "f7bafaf4-153c-451d-bf73-a06ee31cbb16"
      },
      "execution_count": null,
      "outputs": [
        {
          "output_type": "stream",
          "name": "stderr",
          "text": [
            "Some layers from the model checkpoint at bert-base-cased were not used when initializing TFBertModel: ['nsp___cls', 'mlm___cls']\n",
            "- This IS expected if you are initializing TFBertModel from the checkpoint of a model trained on another task or with another architecture (e.g. initializing a BertForSequenceClassification model from a BertForPreTraining model).\n",
            "- This IS NOT expected if you are initializing TFBertModel from the checkpoint of a model that you expect to be exactly identical (initializing a BertForSequenceClassification model from a BertForSequenceClassification model).\n",
            "All the layers of TFBertModel were initialized from the model checkpoint at bert-base-cased.\n",
            "If your task is similar to the task the model of the checkpoint was trained on, you can already use TFBertModel for predictions without further training.\n"
          ]
        },
        {
          "output_type": "stream",
          "name": "stdout",
          "text": [
            "Epoch 1/3\n",
            "WARNING:tensorflow:Gradients do not exist for variables ['tf_bert_model_8/bert/embeddings/word_embeddings/weight:0', 'tf_bert_model_8/bert/embeddings/token_type_embeddings/embeddings:0', 'tf_bert_model_8/bert/embeddings/position_embeddings/embeddings:0', 'tf_bert_model_8/bert/embeddings/LayerNorm/gamma:0', 'tf_bert_model_8/bert/embeddings/LayerNorm/beta:0', 'tf_bert_model_8/bert/encoder/layer_._0/attention/self/query/kernel:0', 'tf_bert_model_8/bert/encoder/layer_._0/attention/self/query/bias:0', 'tf_bert_model_8/bert/encoder/layer_._0/attention/self/key/kernel:0', 'tf_bert_model_8/bert/encoder/layer_._0/attention/self/key/bias:0', 'tf_bert_model_8/bert/encoder/layer_._0/attention/self/value/kernel:0', 'tf_bert_model_8/bert/encoder/layer_._0/attention/self/value/bias:0', 'tf_bert_model_8/bert/encoder/layer_._0/attention/output/dense/kernel:0', 'tf_bert_model_8/bert/encoder/layer_._0/attention/output/dense/bias:0', 'tf_bert_model_8/bert/encoder/layer_._0/attention/output/LayerNorm/gamma:0', 'tf_bert_model_8/bert/encoder/layer_._0/attention/output/LayerNorm/beta:0', 'tf_bert_model_8/bert/encoder/layer_._0/intermediate/dense/kernel:0', 'tf_bert_model_8/bert/encoder/layer_._0/intermediate/dense/bias:0', 'tf_bert_model_8/bert/encoder/layer_._0/output/dense/kernel:0', 'tf_bert_model_8/bert/encoder/layer_._0/output/dense/bias:0', 'tf_bert_model_8/bert/encoder/layer_._0/output/LayerNorm/gamma:0', 'tf_bert_model_8/bert/encoder/layer_._0/output/LayerNorm/beta:0', 'tf_bert_model_8/bert/encoder/layer_._1/attention/self/query/kernel:0', 'tf_bert_model_8/bert/encoder/layer_._1/attention/self/query/bias:0', 'tf_bert_model_8/bert/encoder/layer_._1/attention/self/key/kernel:0', 'tf_bert_model_8/bert/encoder/layer_._1/attention/self/key/bias:0', 'tf_bert_model_8/bert/encoder/layer_._1/attention/self/value/kernel:0', 'tf_bert_model_8/bert/encoder/layer_._1/attention/self/value/bias:0', 'tf_bert_model_8/bert/encoder/layer_._1/attention/output/dense/kernel:0', 'tf_bert_model_8/bert/encoder/layer_._1/attention/output/dense/bias:0', 'tf_bert_model_8/bert/encoder/layer_._1/attention/output/LayerNorm/gamma:0', 'tf_bert_model_8/bert/encoder/layer_._1/attention/output/LayerNorm/beta:0', 'tf_bert_model_8/bert/encoder/layer_._1/intermediate/dense/kernel:0', 'tf_bert_model_8/bert/encoder/layer_._1/intermediate/dense/bias:0', 'tf_bert_model_8/bert/encoder/layer_._1/output/dense/kernel:0', 'tf_bert_model_8/bert/encoder/layer_._1/output/dense/bias:0', 'tf_bert_model_8/bert/encoder/layer_._1/output/LayerNorm/gamma:0', 'tf_bert_model_8/bert/encoder/layer_._1/output/LayerNorm/beta:0', 'tf_bert_model_8/bert/encoder/layer_._2/attention/self/query/kernel:0', 'tf_bert_model_8/bert/encoder/layer_._2/attention/self/query/bias:0', 'tf_bert_model_8/bert/encoder/layer_._2/attention/self/key/kernel:0', 'tf_bert_model_8/bert/encoder/layer_._2/attention/self/key/bias:0', 'tf_bert_model_8/bert/encoder/layer_._2/attention/self/value/kernel:0', 'tf_bert_model_8/bert/encoder/layer_._2/attention/self/value/bias:0', 'tf_bert_model_8/bert/encoder/layer_._2/attention/output/dense/kernel:0', 'tf_bert_model_8/bert/encoder/layer_._2/attention/output/dense/bias:0', 'tf_bert_model_8/bert/encoder/layer_._2/attention/output/LayerNorm/gamma:0', 'tf_bert_model_8/bert/encoder/layer_._2/attention/output/LayerNorm/beta:0', 'tf_bert_model_8/bert/encoder/layer_._2/intermediate/dense/kernel:0', 'tf_bert_model_8/bert/encoder/layer_._2/intermediate/dense/bias:0', 'tf_bert_model_8/bert/encoder/layer_._2/output/dense/kernel:0', 'tf_bert_model_8/bert/encoder/layer_._2/output/dense/bias:0', 'tf_bert_model_8/bert/encoder/layer_._2/output/LayerNorm/gamma:0', 'tf_bert_model_8/bert/encoder/layer_._2/output/LayerNorm/beta:0', 'tf_bert_model_8/bert/encoder/layer_._3/attention/self/query/kernel:0', 'tf_bert_model_8/bert/encoder/layer_._3/attention/self/query/bias:0', 'tf_bert_model_8/bert/encoder/layer_._3/attention/self/key/kernel:0', 'tf_bert_model_8/bert/encoder/layer_._3/attention/self/key/bias:0', 'tf_bert_model_8/bert/encoder/layer_._3/attention/self/value/kernel:0', 'tf_bert_model_8/bert/encoder/layer_._3/attention/self/value/bias:0', 'tf_bert_model_8/bert/encoder/layer_._3/attention/output/dense/kernel:0', 'tf_bert_model_8/bert/encoder/layer_._3/attention/output/dense/bias:0', 'tf_bert_model_8/bert/encoder/layer_._3/attention/output/LayerNorm/gamma:0', 'tf_bert_model_8/bert/encoder/layer_._3/attention/output/LayerNorm/beta:0', 'tf_bert_model_8/bert/encoder/layer_._3/intermediate/dense/kernel:0', 'tf_bert_model_8/bert/encoder/layer_._3/intermediate/dense/bias:0', 'tf_bert_model_8/bert/encoder/layer_._3/output/dense/kernel:0', 'tf_bert_model_8/bert/encoder/layer_._3/output/dense/bias:0', 'tf_bert_model_8/bert/encoder/layer_._3/output/LayerNorm/gamma:0', 'tf_bert_model_8/bert/encoder/layer_._3/output/LayerNorm/beta:0', 'tf_bert_model_8/bert/encoder/layer_._4/attention/self/query/kernel:0', 'tf_bert_model_8/bert/encoder/layer_._4/attention/self/query/bias:0', 'tf_bert_model_8/bert/encoder/layer_._4/attention/self/key/kernel:0', 'tf_bert_model_8/bert/encoder/layer_._4/attention/self/key/bias:0', 'tf_bert_model_8/bert/encoder/layer_._4/attention/self/value/kernel:0', 'tf_bert_model_8/bert/encoder/layer_._4/attention/self/value/bias:0', 'tf_bert_model_8/bert/encoder/layer_._4/attention/output/dense/kernel:0', 'tf_bert_model_8/bert/encoder/layer_._4/attention/output/dense/bias:0', 'tf_bert_model_8/bert/encoder/layer_._4/attention/output/LayerNorm/gamma:0', 'tf_bert_model_8/bert/encoder/layer_._4/attention/output/LayerNorm/beta:0', 'tf_bert_model_8/bert/encoder/layer_._4/intermediate/dense/kernel:0', 'tf_bert_model_8/bert/encoder/layer_._4/intermediate/dense/bias:0', 'tf_bert_model_8/bert/encoder/layer_._4/output/dense/kernel:0', 'tf_bert_model_8/bert/encoder/layer_._4/output/dense/bias:0', 'tf_bert_model_8/bert/encoder/layer_._4/output/LayerNorm/gamma:0', 'tf_bert_model_8/bert/encoder/layer_._4/output/LayerNorm/beta:0', 'tf_bert_model_8/bert/encoder/layer_._5/attention/self/query/kernel:0', 'tf_bert_model_8/bert/encoder/layer_._5/attention/self/query/bias:0', 'tf_bert_model_8/bert/encoder/layer_._5/attention/self/key/kernel:0', 'tf_bert_model_8/bert/encoder/layer_._5/attention/self/key/bias:0', 'tf_bert_model_8/bert/encoder/layer_._5/attention/self/value/kernel:0', 'tf_bert_model_8/bert/encoder/layer_._5/attention/self/value/bias:0', 'tf_bert_model_8/bert/encoder/layer_._5/attention/output/dense/kernel:0', 'tf_bert_model_8/bert/encoder/layer_._5/attention/output/dense/bias:0', 'tf_bert_model_8/bert/encoder/layer_._5/attention/output/LayerNorm/gamma:0', 'tf_bert_model_8/bert/encoder/layer_._5/attention/output/LayerNorm/beta:0', 'tf_bert_model_8/bert/encoder/layer_._5/intermediate/dense/kernel:0', 'tf_bert_model_8/bert/encoder/layer_._5/intermediate/dense/bias:0', 'tf_bert_model_8/bert/encoder/layer_._5/output/dense/kernel:0', 'tf_bert_model_8/bert/encoder/layer_._5/output/dense/bias:0', 'tf_bert_model_8/bert/encoder/layer_._5/output/LayerNorm/gamma:0', 'tf_bert_model_8/bert/encoder/layer_._5/output/LayerNorm/beta:0', 'tf_bert_model_8/bert/encoder/layer_._6/attention/self/query/kernel:0', 'tf_bert_model_8/bert/encoder/layer_._6/attention/self/query/bias:0', 'tf_bert_model_8/bert/encoder/layer_._6/attention/self/key/kernel:0', 'tf_bert_model_8/bert/encoder/layer_._6/attention/self/key/bias:0', 'tf_bert_model_8/bert/encoder/layer_._6/attention/self/value/kernel:0', 'tf_bert_model_8/bert/encoder/layer_._6/attention/self/value/bias:0', 'tf_bert_model_8/bert/encoder/layer_._6/attention/output/dense/kernel:0', 'tf_bert_model_8/bert/encoder/layer_._6/attention/output/dense/bias:0', 'tf_bert_model_8/bert/encoder/layer_._6/attention/output/LayerNorm/gamma:0', 'tf_bert_model_8/bert/encoder/layer_._6/attention/output/LayerNorm/beta:0', 'tf_bert_model_8/bert/encoder/layer_._6/intermediate/dense/kernel:0', 'tf_bert_model_8/bert/encoder/layer_._6/intermediate/dense/bias:0', 'tf_bert_model_8/bert/encoder/layer_._6/output/dense/kernel:0', 'tf_bert_model_8/bert/encoder/layer_._6/output/dense/bias:0', 'tf_bert_model_8/bert/encoder/layer_._6/output/LayerNorm/gamma:0', 'tf_bert_model_8/bert/encoder/layer_._6/output/LayerNorm/beta:0', 'tf_bert_model_8/bert/encoder/layer_._7/attention/self/query/kernel:0', 'tf_bert_model_8/bert/encoder/layer_._7/attention/self/query/bias:0', 'tf_bert_model_8/bert/encoder/layer_._7/attention/self/key/kernel:0', 'tf_bert_model_8/bert/encoder/layer_._7/attention/self/key/bias:0', 'tf_bert_model_8/bert/encoder/layer_._7/attention/self/value/kernel:0', 'tf_bert_model_8/bert/encoder/layer_._7/attention/self/value/bias:0', 'tf_bert_model_8/bert/encoder/layer_._7/attention/output/dense/kernel:0', 'tf_bert_model_8/bert/encoder/layer_._7/attention/output/dense/bias:0', 'tf_bert_model_8/bert/encoder/layer_._7/attention/output/LayerNorm/gamma:0', 'tf_bert_model_8/bert/encoder/layer_._7/attention/output/LayerNorm/beta:0', 'tf_bert_model_8/bert/encoder/layer_._7/intermediate/dense/kernel:0', 'tf_bert_model_8/bert/encoder/layer_._7/intermediate/dense/bias:0', 'tf_bert_model_8/bert/encoder/layer_._7/output/dense/kernel:0', 'tf_bert_model_8/bert/encoder/layer_._7/output/dense/bias:0', 'tf_bert_model_8/bert/encoder/layer_._7/output/LayerNorm/gamma:0', 'tf_bert_model_8/bert/encoder/layer_._7/output/LayerNorm/beta:0', 'tf_bert_model_8/bert/encoder/layer_._8/attention/self/query/kernel:0', 'tf_bert_model_8/bert/encoder/layer_._8/attention/self/query/bias:0', 'tf_bert_model_8/bert/encoder/layer_._8/attention/self/key/kernel:0', 'tf_bert_model_8/bert/encoder/layer_._8/attention/self/key/bias:0', 'tf_bert_model_8/bert/encoder/layer_._8/attention/self/value/kernel:0', 'tf_bert_model_8/bert/encoder/layer_._8/attention/self/value/bias:0', 'tf_bert_model_8/bert/encoder/layer_._8/attention/output/dense/kernel:0', 'tf_bert_model_8/bert/encoder/layer_._8/attention/output/dense/bias:0', 'tf_bert_model_8/bert/encoder/layer_._8/attention/output/LayerNorm/gamma:0', 'tf_bert_model_8/bert/encoder/layer_._8/attention/output/LayerNorm/beta:0', 'tf_bert_model_8/bert/encoder/layer_._8/intermediate/dense/kernel:0', 'tf_bert_model_8/bert/encoder/layer_._8/intermediate/dense/bias:0', 'tf_bert_model_8/bert/encoder/layer_._8/output/dense/kernel:0', 'tf_bert_model_8/bert/encoder/layer_._8/output/dense/bias:0', 'tf_bert_model_8/bert/encoder/layer_._8/output/LayerNorm/gamma:0', 'tf_bert_model_8/bert/encoder/layer_._8/output/LayerNorm/beta:0', 'tf_bert_model_8/bert/encoder/layer_._9/attention/self/query/kernel:0', 'tf_bert_model_8/bert/encoder/layer_._9/attention/self/query/bias:0', 'tf_bert_model_8/bert/encoder/layer_._9/attention/self/key/kernel:0', 'tf_bert_model_8/bert/encoder/layer_._9/attention/self/key/bias:0', 'tf_bert_model_8/bert/encoder/layer_._9/attention/self/value/kernel:0', 'tf_bert_model_8/bert/encoder/layer_._9/attention/self/value/bias:0', 'tf_bert_model_8/bert/encoder/layer_._9/attention/output/dense/kernel:0', 'tf_bert_model_8/bert/encoder/layer_._9/attention/output/dense/bias:0', 'tf_bert_model_8/bert/encoder/layer_._9/attention/output/LayerNorm/gamma:0', 'tf_bert_model_8/bert/encoder/layer_._9/attention/output/LayerNorm/beta:0', 'tf_bert_model_8/bert/encoder/layer_._9/intermediate/dense/kernel:0', 'tf_bert_model_8/bert/encoder/layer_._9/intermediate/dense/bias:0', 'tf_bert_model_8/bert/encoder/layer_._9/output/dense/kernel:0', 'tf_bert_model_8/bert/encoder/layer_._9/output/dense/bias:0', 'tf_bert_model_8/bert/encoder/layer_._9/output/LayerNorm/gamma:0', 'tf_bert_model_8/bert/encoder/layer_._9/output/LayerNorm/beta:0', 'tf_bert_model_8/bert/encoder/layer_._10/attention/self/query/kernel:0', 'tf_bert_model_8/bert/encoder/layer_._10/attention/self/query/bias:0', 'tf_bert_model_8/bert/encoder/layer_._10/attention/self/key/kernel:0', 'tf_bert_model_8/bert/encoder/layer_._10/attention/self/key/bias:0', 'tf_bert_model_8/bert/encoder/layer_._10/attention/self/value/kernel:0', 'tf_bert_model_8/bert/encoder/layer_._10/attention/self/value/bias:0', 'tf_bert_model_8/bert/encoder/layer_._10/attention/output/dense/kernel:0', 'tf_bert_model_8/bert/encoder/layer_._10/attention/output/dense/bias:0', 'tf_bert_model_8/bert/encoder/layer_._10/attention/output/LayerNorm/gamma:0', 'tf_bert_model_8/bert/encoder/layer_._10/attention/output/LayerNorm/beta:0', 'tf_bert_model_8/bert/encoder/layer_._10/intermediate/dense/kernel:0', 'tf_bert_model_8/bert/encoder/layer_._10/intermediate/dense/bias:0', 'tf_bert_model_8/bert/encoder/layer_._10/output/dense/kernel:0', 'tf_bert_model_8/bert/encoder/layer_._10/output/dense/bias:0', 'tf_bert_model_8/bert/encoder/layer_._10/output/LayerNorm/gamma:0', 'tf_bert_model_8/bert/encoder/layer_._10/output/LayerNorm/beta:0', 'tf_bert_model_8/bert/pooler/dense/kernel:0', 'tf_bert_model_8/bert/pooler/dense/bias:0'] when minimizing the loss. If you're using `model.compile()`, did you forget to provide a `loss`argument?\n",
            "WARNING:tensorflow:Gradients do not exist for variables ['tf_bert_model_8/bert/embeddings/word_embeddings/weight:0', 'tf_bert_model_8/bert/embeddings/token_type_embeddings/embeddings:0', 'tf_bert_model_8/bert/embeddings/position_embeddings/embeddings:0', 'tf_bert_model_8/bert/embeddings/LayerNorm/gamma:0', 'tf_bert_model_8/bert/embeddings/LayerNorm/beta:0', 'tf_bert_model_8/bert/encoder/layer_._0/attention/self/query/kernel:0', 'tf_bert_model_8/bert/encoder/layer_._0/attention/self/query/bias:0', 'tf_bert_model_8/bert/encoder/layer_._0/attention/self/key/kernel:0', 'tf_bert_model_8/bert/encoder/layer_._0/attention/self/key/bias:0', 'tf_bert_model_8/bert/encoder/layer_._0/attention/self/value/kernel:0', 'tf_bert_model_8/bert/encoder/layer_._0/attention/self/value/bias:0', 'tf_bert_model_8/bert/encoder/layer_._0/attention/output/dense/kernel:0', 'tf_bert_model_8/bert/encoder/layer_._0/attention/output/dense/bias:0', 'tf_bert_model_8/bert/encoder/layer_._0/attention/output/LayerNorm/gamma:0', 'tf_bert_model_8/bert/encoder/layer_._0/attention/output/LayerNorm/beta:0', 'tf_bert_model_8/bert/encoder/layer_._0/intermediate/dense/kernel:0', 'tf_bert_model_8/bert/encoder/layer_._0/intermediate/dense/bias:0', 'tf_bert_model_8/bert/encoder/layer_._0/output/dense/kernel:0', 'tf_bert_model_8/bert/encoder/layer_._0/output/dense/bias:0', 'tf_bert_model_8/bert/encoder/layer_._0/output/LayerNorm/gamma:0', 'tf_bert_model_8/bert/encoder/layer_._0/output/LayerNorm/beta:0', 'tf_bert_model_8/bert/encoder/layer_._1/attention/self/query/kernel:0', 'tf_bert_model_8/bert/encoder/layer_._1/attention/self/query/bias:0', 'tf_bert_model_8/bert/encoder/layer_._1/attention/self/key/kernel:0', 'tf_bert_model_8/bert/encoder/layer_._1/attention/self/key/bias:0', 'tf_bert_model_8/bert/encoder/layer_._1/attention/self/value/kernel:0', 'tf_bert_model_8/bert/encoder/layer_._1/attention/self/value/bias:0', 'tf_bert_model_8/bert/encoder/layer_._1/attention/output/dense/kernel:0', 'tf_bert_model_8/bert/encoder/layer_._1/attention/output/dense/bias:0', 'tf_bert_model_8/bert/encoder/layer_._1/attention/output/LayerNorm/gamma:0', 'tf_bert_model_8/bert/encoder/layer_._1/attention/output/LayerNorm/beta:0', 'tf_bert_model_8/bert/encoder/layer_._1/intermediate/dense/kernel:0', 'tf_bert_model_8/bert/encoder/layer_._1/intermediate/dense/bias:0', 'tf_bert_model_8/bert/encoder/layer_._1/output/dense/kernel:0', 'tf_bert_model_8/bert/encoder/layer_._1/output/dense/bias:0', 'tf_bert_model_8/bert/encoder/layer_._1/output/LayerNorm/gamma:0', 'tf_bert_model_8/bert/encoder/layer_._1/output/LayerNorm/beta:0', 'tf_bert_model_8/bert/encoder/layer_._2/attention/self/query/kernel:0', 'tf_bert_model_8/bert/encoder/layer_._2/attention/self/query/bias:0', 'tf_bert_model_8/bert/encoder/layer_._2/attention/self/key/kernel:0', 'tf_bert_model_8/bert/encoder/layer_._2/attention/self/key/bias:0', 'tf_bert_model_8/bert/encoder/layer_._2/attention/self/value/kernel:0', 'tf_bert_model_8/bert/encoder/layer_._2/attention/self/value/bias:0', 'tf_bert_model_8/bert/encoder/layer_._2/attention/output/dense/kernel:0', 'tf_bert_model_8/bert/encoder/layer_._2/attention/output/dense/bias:0', 'tf_bert_model_8/bert/encoder/layer_._2/attention/output/LayerNorm/gamma:0', 'tf_bert_model_8/bert/encoder/layer_._2/attention/output/LayerNorm/beta:0', 'tf_bert_model_8/bert/encoder/layer_._2/intermediate/dense/kernel:0', 'tf_bert_model_8/bert/encoder/layer_._2/intermediate/dense/bias:0', 'tf_bert_model_8/bert/encoder/layer_._2/output/dense/kernel:0', 'tf_bert_model_8/bert/encoder/layer_._2/output/dense/bias:0', 'tf_bert_model_8/bert/encoder/layer_._2/output/LayerNorm/gamma:0', 'tf_bert_model_8/bert/encoder/layer_._2/output/LayerNorm/beta:0', 'tf_bert_model_8/bert/encoder/layer_._3/attention/self/query/kernel:0', 'tf_bert_model_8/bert/encoder/layer_._3/attention/self/query/bias:0', 'tf_bert_model_8/bert/encoder/layer_._3/attention/self/key/kernel:0', 'tf_bert_model_8/bert/encoder/layer_._3/attention/self/key/bias:0', 'tf_bert_model_8/bert/encoder/layer_._3/attention/self/value/kernel:0', 'tf_bert_model_8/bert/encoder/layer_._3/attention/self/value/bias:0', 'tf_bert_model_8/bert/encoder/layer_._3/attention/output/dense/kernel:0', 'tf_bert_model_8/bert/encoder/layer_._3/attention/output/dense/bias:0', 'tf_bert_model_8/bert/encoder/layer_._3/attention/output/LayerNorm/gamma:0', 'tf_bert_model_8/bert/encoder/layer_._3/attention/output/LayerNorm/beta:0', 'tf_bert_model_8/bert/encoder/layer_._3/intermediate/dense/kernel:0', 'tf_bert_model_8/bert/encoder/layer_._3/intermediate/dense/bias:0', 'tf_bert_model_8/bert/encoder/layer_._3/output/dense/kernel:0', 'tf_bert_model_8/bert/encoder/layer_._3/output/dense/bias:0', 'tf_bert_model_8/bert/encoder/layer_._3/output/LayerNorm/gamma:0', 'tf_bert_model_8/bert/encoder/layer_._3/output/LayerNorm/beta:0', 'tf_bert_model_8/bert/encoder/layer_._4/attention/self/query/kernel:0', 'tf_bert_model_8/bert/encoder/layer_._4/attention/self/query/bias:0', 'tf_bert_model_8/bert/encoder/layer_._4/attention/self/key/kernel:0', 'tf_bert_model_8/bert/encoder/layer_._4/attention/self/key/bias:0', 'tf_bert_model_8/bert/encoder/layer_._4/attention/self/value/kernel:0', 'tf_bert_model_8/bert/encoder/layer_._4/attention/self/value/bias:0', 'tf_bert_model_8/bert/encoder/layer_._4/attention/output/dense/kernel:0', 'tf_bert_model_8/bert/encoder/layer_._4/attention/output/dense/bias:0', 'tf_bert_model_8/bert/encoder/layer_._4/attention/output/LayerNorm/gamma:0', 'tf_bert_model_8/bert/encoder/layer_._4/attention/output/LayerNorm/beta:0', 'tf_bert_model_8/bert/encoder/layer_._4/intermediate/dense/kernel:0', 'tf_bert_model_8/bert/encoder/layer_._4/intermediate/dense/bias:0', 'tf_bert_model_8/bert/encoder/layer_._4/output/dense/kernel:0', 'tf_bert_model_8/bert/encoder/layer_._4/output/dense/bias:0', 'tf_bert_model_8/bert/encoder/layer_._4/output/LayerNorm/gamma:0', 'tf_bert_model_8/bert/encoder/layer_._4/output/LayerNorm/beta:0', 'tf_bert_model_8/bert/encoder/layer_._5/attention/self/query/kernel:0', 'tf_bert_model_8/bert/encoder/layer_._5/attention/self/query/bias:0', 'tf_bert_model_8/bert/encoder/layer_._5/attention/self/key/kernel:0', 'tf_bert_model_8/bert/encoder/layer_._5/attention/self/key/bias:0', 'tf_bert_model_8/bert/encoder/layer_._5/attention/self/value/kernel:0', 'tf_bert_model_8/bert/encoder/layer_._5/attention/self/value/bias:0', 'tf_bert_model_8/bert/encoder/layer_._5/attention/output/dense/kernel:0', 'tf_bert_model_8/bert/encoder/layer_._5/attention/output/dense/bias:0', 'tf_bert_model_8/bert/encoder/layer_._5/attention/output/LayerNorm/gamma:0', 'tf_bert_model_8/bert/encoder/layer_._5/attention/output/LayerNorm/beta:0', 'tf_bert_model_8/bert/encoder/layer_._5/intermediate/dense/kernel:0', 'tf_bert_model_8/bert/encoder/layer_._5/intermediate/dense/bias:0', 'tf_bert_model_8/bert/encoder/layer_._5/output/dense/kernel:0', 'tf_bert_model_8/bert/encoder/layer_._5/output/dense/bias:0', 'tf_bert_model_8/bert/encoder/layer_._5/output/LayerNorm/gamma:0', 'tf_bert_model_8/bert/encoder/layer_._5/output/LayerNorm/beta:0', 'tf_bert_model_8/bert/encoder/layer_._6/attention/self/query/kernel:0', 'tf_bert_model_8/bert/encoder/layer_._6/attention/self/query/bias:0', 'tf_bert_model_8/bert/encoder/layer_._6/attention/self/key/kernel:0', 'tf_bert_model_8/bert/encoder/layer_._6/attention/self/key/bias:0', 'tf_bert_model_8/bert/encoder/layer_._6/attention/self/value/kernel:0', 'tf_bert_model_8/bert/encoder/layer_._6/attention/self/value/bias:0', 'tf_bert_model_8/bert/encoder/layer_._6/attention/output/dense/kernel:0', 'tf_bert_model_8/bert/encoder/layer_._6/attention/output/dense/bias:0', 'tf_bert_model_8/bert/encoder/layer_._6/attention/output/LayerNorm/gamma:0', 'tf_bert_model_8/bert/encoder/layer_._6/attention/output/LayerNorm/beta:0', 'tf_bert_model_8/bert/encoder/layer_._6/intermediate/dense/kernel:0', 'tf_bert_model_8/bert/encoder/layer_._6/intermediate/dense/bias:0', 'tf_bert_model_8/bert/encoder/layer_._6/output/dense/kernel:0', 'tf_bert_model_8/bert/encoder/layer_._6/output/dense/bias:0', 'tf_bert_model_8/bert/encoder/layer_._6/output/LayerNorm/gamma:0', 'tf_bert_model_8/bert/encoder/layer_._6/output/LayerNorm/beta:0', 'tf_bert_model_8/bert/encoder/layer_._7/attention/self/query/kernel:0', 'tf_bert_model_8/bert/encoder/layer_._7/attention/self/query/bias:0', 'tf_bert_model_8/bert/encoder/layer_._7/attention/self/key/kernel:0', 'tf_bert_model_8/bert/encoder/layer_._7/attention/self/key/bias:0', 'tf_bert_model_8/bert/encoder/layer_._7/attention/self/value/kernel:0', 'tf_bert_model_8/bert/encoder/layer_._7/attention/self/value/bias:0', 'tf_bert_model_8/bert/encoder/layer_._7/attention/output/dense/kernel:0', 'tf_bert_model_8/bert/encoder/layer_._7/attention/output/dense/bias:0', 'tf_bert_model_8/bert/encoder/layer_._7/attention/output/LayerNorm/gamma:0', 'tf_bert_model_8/bert/encoder/layer_._7/attention/output/LayerNorm/beta:0', 'tf_bert_model_8/bert/encoder/layer_._7/intermediate/dense/kernel:0', 'tf_bert_model_8/bert/encoder/layer_._7/intermediate/dense/bias:0', 'tf_bert_model_8/bert/encoder/layer_._7/output/dense/kernel:0', 'tf_bert_model_8/bert/encoder/layer_._7/output/dense/bias:0', 'tf_bert_model_8/bert/encoder/layer_._7/output/LayerNorm/gamma:0', 'tf_bert_model_8/bert/encoder/layer_._7/output/LayerNorm/beta:0', 'tf_bert_model_8/bert/encoder/layer_._8/attention/self/query/kernel:0', 'tf_bert_model_8/bert/encoder/layer_._8/attention/self/query/bias:0', 'tf_bert_model_8/bert/encoder/layer_._8/attention/self/key/kernel:0', 'tf_bert_model_8/bert/encoder/layer_._8/attention/self/key/bias:0', 'tf_bert_model_8/bert/encoder/layer_._8/attention/self/value/kernel:0', 'tf_bert_model_8/bert/encoder/layer_._8/attention/self/value/bias:0', 'tf_bert_model_8/bert/encoder/layer_._8/attention/output/dense/kernel:0', 'tf_bert_model_8/bert/encoder/layer_._8/attention/output/dense/bias:0', 'tf_bert_model_8/bert/encoder/layer_._8/attention/output/LayerNorm/gamma:0', 'tf_bert_model_8/bert/encoder/layer_._8/attention/output/LayerNorm/beta:0', 'tf_bert_model_8/bert/encoder/layer_._8/intermediate/dense/kernel:0', 'tf_bert_model_8/bert/encoder/layer_._8/intermediate/dense/bias:0', 'tf_bert_model_8/bert/encoder/layer_._8/output/dense/kernel:0', 'tf_bert_model_8/bert/encoder/layer_._8/output/dense/bias:0', 'tf_bert_model_8/bert/encoder/layer_._8/output/LayerNorm/gamma:0', 'tf_bert_model_8/bert/encoder/layer_._8/output/LayerNorm/beta:0', 'tf_bert_model_8/bert/encoder/layer_._9/attention/self/query/kernel:0', 'tf_bert_model_8/bert/encoder/layer_._9/attention/self/query/bias:0', 'tf_bert_model_8/bert/encoder/layer_._9/attention/self/key/kernel:0', 'tf_bert_model_8/bert/encoder/layer_._9/attention/self/key/bias:0', 'tf_bert_model_8/bert/encoder/layer_._9/attention/self/value/kernel:0', 'tf_bert_model_8/bert/encoder/layer_._9/attention/self/value/bias:0', 'tf_bert_model_8/bert/encoder/layer_._9/attention/output/dense/kernel:0', 'tf_bert_model_8/bert/encoder/layer_._9/attention/output/dense/bias:0', 'tf_bert_model_8/bert/encoder/layer_._9/attention/output/LayerNorm/gamma:0', 'tf_bert_model_8/bert/encoder/layer_._9/attention/output/LayerNorm/beta:0', 'tf_bert_model_8/bert/encoder/layer_._9/intermediate/dense/kernel:0', 'tf_bert_model_8/bert/encoder/layer_._9/intermediate/dense/bias:0', 'tf_bert_model_8/bert/encoder/layer_._9/output/dense/kernel:0', 'tf_bert_model_8/bert/encoder/layer_._9/output/dense/bias:0', 'tf_bert_model_8/bert/encoder/layer_._9/output/LayerNorm/gamma:0', 'tf_bert_model_8/bert/encoder/layer_._9/output/LayerNorm/beta:0', 'tf_bert_model_8/bert/encoder/layer_._10/attention/self/query/kernel:0', 'tf_bert_model_8/bert/encoder/layer_._10/attention/self/query/bias:0', 'tf_bert_model_8/bert/encoder/layer_._10/attention/self/key/kernel:0', 'tf_bert_model_8/bert/encoder/layer_._10/attention/self/key/bias:0', 'tf_bert_model_8/bert/encoder/layer_._10/attention/self/value/kernel:0', 'tf_bert_model_8/bert/encoder/layer_._10/attention/self/value/bias:0', 'tf_bert_model_8/bert/encoder/layer_._10/attention/output/dense/kernel:0', 'tf_bert_model_8/bert/encoder/layer_._10/attention/output/dense/bias:0', 'tf_bert_model_8/bert/encoder/layer_._10/attention/output/LayerNorm/gamma:0', 'tf_bert_model_8/bert/encoder/layer_._10/attention/output/LayerNorm/beta:0', 'tf_bert_model_8/bert/encoder/layer_._10/intermediate/dense/kernel:0', 'tf_bert_model_8/bert/encoder/layer_._10/intermediate/dense/bias:0', 'tf_bert_model_8/bert/encoder/layer_._10/output/dense/kernel:0', 'tf_bert_model_8/bert/encoder/layer_._10/output/dense/bias:0', 'tf_bert_model_8/bert/encoder/layer_._10/output/LayerNorm/gamma:0', 'tf_bert_model_8/bert/encoder/layer_._10/output/LayerNorm/beta:0', 'tf_bert_model_8/bert/pooler/dense/kernel:0', 'tf_bert_model_8/bert/pooler/dense/bias:0'] when minimizing the loss. If you're using `model.compile()`, did you forget to provide a `loss`argument?\n",
            "611/611 [==============================] - 36s 44ms/step - loss: 0.0822 - accuracy: 0.9722 - val_loss: 0.0984 - val_accuracy: 0.9664\n",
            "Epoch 2/3\n",
            "611/611 [==============================] - 24s 39ms/step - loss: 0.0334 - accuracy: 0.9879 - val_loss: 0.0489 - val_accuracy: 0.9885\n",
            "Epoch 3/3\n",
            "611/611 [==============================] - 24s 39ms/step - loss: 0.0188 - accuracy: 0.9941 - val_loss: 0.0559 - val_accuracy: 0.9845\n"
          ]
        }
      ]
    },
    {
      "cell_type": "code",
      "source": [
        "predict_labels = cnn_bert_model.predict([x_train.input_ids, x_train.token_type_ids, x_train.attention_mask])\n",
        "train_y_predict = predict_labels.round(0)\n",
        "test_predict_labels = cnn_bert_model.predict([x_test.input_ids, x_test.token_type_ids, x_test.attention_mask])\n",
        "test_y_predict = test_predict_labels.round(0)\n",
        "\n",
        "print_metrics('BERT + CNN, train data: ', np.array(train_y, int), train_y_predict)\n",
        "print_metrics('BERT + CNN, test data: ', np.array(test_y, int), test_y_predict)"
      ],
      "metadata": {
        "id": "sVf6Q3ZBUGSJ",
        "colab": {
          "base_uri": "https://localhost:8080/"
        },
        "outputId": "80d76523-de2e-4396-d5e4-37b2c16341be"
      },
      "execution_count": null,
      "outputs": [
        {
          "output_type": "stream",
          "name": "stdout",
          "text": [
            "BERT + CNN, train data: : accuracy = 0.9982, precision = 1.0000, recall = 0.9912, f1 = 0.9956\n",
            "BERT + CNN, test data: : accuracy = 0.9845, precision = 0.9880, recall = 0.9392, f1 = 0.9630\n"
          ]
        }
      ]
    },
    {
      "cell_type": "code",
      "source": [
        ""
      ],
      "metadata": {
        "id": "HdBV-7BtXLbO"
      },
      "execution_count": null,
      "outputs": []
    },
    {
      "cell_type": "markdown",
      "source": [
        "#### Cross-validation"
      ],
      "metadata": {
        "id": "_suEHlIKjKat"
      }
    },
    {
      "cell_type": "markdown",
      "source": [
        "##### BERT + FCN 5e"
      ],
      "metadata": {
        "id": "ou2wxegwJ8KM"
      }
    },
    {
      "cell_type": "code",
      "source": [
        "len(train_X)"
      ],
      "metadata": {
        "id": "R8k87gioltGR",
        "colab": {
          "base_uri": "https://localhost:8080/"
        },
        "outputId": "5e88a249-19bb-4c5a-ca37-12133cd0539e"
      },
      "execution_count": null,
      "outputs": [
        {
          "output_type": "execute_result",
          "data": {
            "text/plain": [
              "4885"
            ]
          },
          "metadata": {},
          "execution_count": 113
        }
      ]
    },
    {
      "cell_type": "code",
      "source": [
        "len(train_X[:977])\n",
        "len(train_X[977:1954])\n",
        "len(train_X[1954:2931])\n",
        "len(train_X[2931:3908])\n",
        "len(train_X[3908:4885])"
      ],
      "metadata": {
        "id": "ySIcuBlBk4jN",
        "colab": {
          "base_uri": "https://localhost:8080/"
        },
        "outputId": "9a8336b8-6871-459a-f900-4168c3b15b82"
      },
      "execution_count": null,
      "outputs": [
        {
          "output_type": "execute_result",
          "data": {
            "text/plain": [
              "977"
            ]
          },
          "metadata": {},
          "execution_count": 114
        }
      ]
    },
    {
      "cell_type": "code",
      "source": [
        "# first fold\n",
        "len(train_X[977:4885]) + len(train_X[:977])"
      ],
      "metadata": {
        "id": "QdRE1Ot2mer5",
        "colab": {
          "base_uri": "https://localhost:8080/"
        },
        "outputId": "a7a8cb1e-8b6d-46c4-8057-6ae81de0f0be"
      },
      "execution_count": null,
      "outputs": [
        {
          "output_type": "execute_result",
          "data": {
            "text/plain": [
              "4885"
            ]
          },
          "metadata": {},
          "execution_count": 115
        }
      ]
    },
    {
      "cell_type": "code",
      "source": [
        "# cross_val = 5\n",
        "# FOLD_SIZE = 977\n",
        "# for i in range(cross_val):\n",
        "#   test_1 = train_X.iloc[np.r_[0:FOLD_SIZE*i,FOLD_SIZE*(i+1):FOLD_SIZE*5]]\n",
        "#   test_2 = train_X[FOLD_SIZE*i:FOLD_SIZE*(i+1)]\n"
      ],
      "metadata": {
        "id": "0vdErCr6xAgq"
      },
      "execution_count": null,
      "outputs": []
    },
    {
      "cell_type": "code",
      "source": [
        "CROSS_VAL = 5\n",
        "FOLD_SIZE = 977\n",
        "\n",
        "for i in range(CROSS_VAL):\n",
        "  max_length = 100\n",
        "  #max_length = 160                  # set max_length\n",
        "\n",
        "  all_train_examples = list(train_X.iloc[np.r_[0:FOLD_SIZE*i,FOLD_SIZE*(i+1):FOLD_SIZE*5]])\n",
        "  all_val_examples = list(train_X[FOLD_SIZE*i:FOLD_SIZE*(i+1)])\n",
        "  all_test_examples = list(test_X)\n",
        "\n",
        "  x_train = bert_tokenizer(all_train_examples, \n",
        "                max_length=max_length,\n",
        "                truncation=True,\n",
        "                padding='max_length', \n",
        "                return_tensors='tf')\n",
        "\n",
        "  y_train = tf.convert_to_tensor(list(train_y.iloc[np.r_[0:FOLD_SIZE*i,FOLD_SIZE*(i+1):FOLD_SIZE*5]]))\n",
        "\n",
        "  x_test = bert_tokenizer(all_test_examples, \n",
        "                max_length=max_length,\n",
        "                truncation=True,\n",
        "                padding='max_length', \n",
        "                return_tensors='tf')\n",
        "\n",
        "  y_test = tf.convert_to_tensor(list(test_y))\n",
        "\n",
        "  x_val = bert_tokenizer(all_val_examples, \n",
        "                max_length=max_length,\n",
        "                truncation=True,\n",
        "                padding='max_length', \n",
        "                return_tensors='tf')\n",
        "\n",
        "  y_val = tf.convert_to_tensor(list(train_y[FOLD_SIZE*i:FOLD_SIZE*(i+1)]))\n",
        "\n",
        "  # unfreeze layers\n",
        "  pooled_bert_model_unfreeze = create_bert_pooled_model(train_layers=1)\n",
        "\n",
        "  # change to 5 epochs\n",
        "  pooled_bert_model_history = pooled_bert_model_unfreeze.fit([x_train.input_ids, x_train.token_type_ids, x_train.attention_mask], \n",
        "                                                    y_train,   \n",
        "                                                    validation_data=([x_val.input_ids, x_val.token_type_ids, x_val.attention_mask], y_val),    \n",
        "                                                    batch_size=8, \n",
        "                                                    epochs=5) \n",
        "\n",
        "  train_predict_labels = pooled_bert_model_unfreeze.predict([x_train.input_ids, x_train.token_type_ids, x_train.attention_mask])\n",
        "  train_y_predict = train_predict_labels.round(0)\n",
        "\n",
        "  val_predict_labels = pooled_bert_model_unfreeze.predict([x_val.input_ids, x_val.token_type_ids, x_val.attention_mask])\n",
        "  val_y_predict = val_predict_labels.round(0)\n",
        "\n",
        "  # train\n",
        "  print_metrics('BERT 5e + FCN, train', np.array(train_y.iloc[np.r_[0:FOLD_SIZE*i,FOLD_SIZE*(i+1):FOLD_SIZE*5]], int), train_y_predict)\n",
        "  # validation\n",
        "  print_metrics('BERT 5e + FCN, validation', np.array(train_y[FOLD_SIZE*i:FOLD_SIZE*(i+1)], int), val_y_predict)"
      ],
      "metadata": {
        "id": "gYyW1APYkiaK",
        "colab": {
          "base_uri": "https://localhost:8080/"
        },
        "outputId": "13bc9048-3d93-4cae-a157-d4f5a5bed367"
      },
      "execution_count": null,
      "outputs": [
        {
          "output_type": "stream",
          "name": "stderr",
          "text": [
            "Some layers from the model checkpoint at bert-base-cased were not used when initializing TFBertModel: ['nsp___cls', 'mlm___cls']\n",
            "- This IS expected if you are initializing TFBertModel from the checkpoint of a model trained on another task or with another architecture (e.g. initializing a BertForSequenceClassification model from a BertForPreTraining model).\n",
            "- This IS NOT expected if you are initializing TFBertModel from the checkpoint of a model that you expect to be exactly identical (initializing a BertForSequenceClassification model from a BertForSequenceClassification model).\n",
            "All the layers of TFBertModel were initialized from the model checkpoint at bert-base-cased.\n",
            "If your task is similar to the task the model of the checkpoint was trained on, you can already use TFBertModel for predictions without further training.\n"
          ]
        },
        {
          "output_type": "stream",
          "name": "stdout",
          "text": [
            "Epoch 1/5\n",
            "WARNING:tensorflow:Gradients do not exist for variables ['tf_bert_model_9/bert/embeddings/word_embeddings/weight:0', 'tf_bert_model_9/bert/embeddings/token_type_embeddings/embeddings:0', 'tf_bert_model_9/bert/embeddings/position_embeddings/embeddings:0', 'tf_bert_model_9/bert/embeddings/LayerNorm/gamma:0', 'tf_bert_model_9/bert/embeddings/LayerNorm/beta:0', 'tf_bert_model_9/bert/encoder/layer_._0/attention/self/query/kernel:0', 'tf_bert_model_9/bert/encoder/layer_._0/attention/self/query/bias:0', 'tf_bert_model_9/bert/encoder/layer_._0/attention/self/key/kernel:0', 'tf_bert_model_9/bert/encoder/layer_._0/attention/self/key/bias:0', 'tf_bert_model_9/bert/encoder/layer_._0/attention/self/value/kernel:0', 'tf_bert_model_9/bert/encoder/layer_._0/attention/self/value/bias:0', 'tf_bert_model_9/bert/encoder/layer_._0/attention/output/dense/kernel:0', 'tf_bert_model_9/bert/encoder/layer_._0/attention/output/dense/bias:0', 'tf_bert_model_9/bert/encoder/layer_._0/attention/output/LayerNorm/gamma:0', 'tf_bert_model_9/bert/encoder/layer_._0/attention/output/LayerNorm/beta:0', 'tf_bert_model_9/bert/encoder/layer_._0/intermediate/dense/kernel:0', 'tf_bert_model_9/bert/encoder/layer_._0/intermediate/dense/bias:0', 'tf_bert_model_9/bert/encoder/layer_._0/output/dense/kernel:0', 'tf_bert_model_9/bert/encoder/layer_._0/output/dense/bias:0', 'tf_bert_model_9/bert/encoder/layer_._0/output/LayerNorm/gamma:0', 'tf_bert_model_9/bert/encoder/layer_._0/output/LayerNorm/beta:0', 'tf_bert_model_9/bert/encoder/layer_._1/attention/self/query/kernel:0', 'tf_bert_model_9/bert/encoder/layer_._1/attention/self/query/bias:0', 'tf_bert_model_9/bert/encoder/layer_._1/attention/self/key/kernel:0', 'tf_bert_model_9/bert/encoder/layer_._1/attention/self/key/bias:0', 'tf_bert_model_9/bert/encoder/layer_._1/attention/self/value/kernel:0', 'tf_bert_model_9/bert/encoder/layer_._1/attention/self/value/bias:0', 'tf_bert_model_9/bert/encoder/layer_._1/attention/output/dense/kernel:0', 'tf_bert_model_9/bert/encoder/layer_._1/attention/output/dense/bias:0', 'tf_bert_model_9/bert/encoder/layer_._1/attention/output/LayerNorm/gamma:0', 'tf_bert_model_9/bert/encoder/layer_._1/attention/output/LayerNorm/beta:0', 'tf_bert_model_9/bert/encoder/layer_._1/intermediate/dense/kernel:0', 'tf_bert_model_9/bert/encoder/layer_._1/intermediate/dense/bias:0', 'tf_bert_model_9/bert/encoder/layer_._1/output/dense/kernel:0', 'tf_bert_model_9/bert/encoder/layer_._1/output/dense/bias:0', 'tf_bert_model_9/bert/encoder/layer_._1/output/LayerNorm/gamma:0', 'tf_bert_model_9/bert/encoder/layer_._1/output/LayerNorm/beta:0', 'tf_bert_model_9/bert/encoder/layer_._2/attention/self/query/kernel:0', 'tf_bert_model_9/bert/encoder/layer_._2/attention/self/query/bias:0', 'tf_bert_model_9/bert/encoder/layer_._2/attention/self/key/kernel:0', 'tf_bert_model_9/bert/encoder/layer_._2/attention/self/key/bias:0', 'tf_bert_model_9/bert/encoder/layer_._2/attention/self/value/kernel:0', 'tf_bert_model_9/bert/encoder/layer_._2/attention/self/value/bias:0', 'tf_bert_model_9/bert/encoder/layer_._2/attention/output/dense/kernel:0', 'tf_bert_model_9/bert/encoder/layer_._2/attention/output/dense/bias:0', 'tf_bert_model_9/bert/encoder/layer_._2/attention/output/LayerNorm/gamma:0', 'tf_bert_model_9/bert/encoder/layer_._2/attention/output/LayerNorm/beta:0', 'tf_bert_model_9/bert/encoder/layer_._2/intermediate/dense/kernel:0', 'tf_bert_model_9/bert/encoder/layer_._2/intermediate/dense/bias:0', 'tf_bert_model_9/bert/encoder/layer_._2/output/dense/kernel:0', 'tf_bert_model_9/bert/encoder/layer_._2/output/dense/bias:0', 'tf_bert_model_9/bert/encoder/layer_._2/output/LayerNorm/gamma:0', 'tf_bert_model_9/bert/encoder/layer_._2/output/LayerNorm/beta:0', 'tf_bert_model_9/bert/encoder/layer_._3/attention/self/query/kernel:0', 'tf_bert_model_9/bert/encoder/layer_._3/attention/self/query/bias:0', 'tf_bert_model_9/bert/encoder/layer_._3/attention/self/key/kernel:0', 'tf_bert_model_9/bert/encoder/layer_._3/attention/self/key/bias:0', 'tf_bert_model_9/bert/encoder/layer_._3/attention/self/value/kernel:0', 'tf_bert_model_9/bert/encoder/layer_._3/attention/self/value/bias:0', 'tf_bert_model_9/bert/encoder/layer_._3/attention/output/dense/kernel:0', 'tf_bert_model_9/bert/encoder/layer_._3/attention/output/dense/bias:0', 'tf_bert_model_9/bert/encoder/layer_._3/attention/output/LayerNorm/gamma:0', 'tf_bert_model_9/bert/encoder/layer_._3/attention/output/LayerNorm/beta:0', 'tf_bert_model_9/bert/encoder/layer_._3/intermediate/dense/kernel:0', 'tf_bert_model_9/bert/encoder/layer_._3/intermediate/dense/bias:0', 'tf_bert_model_9/bert/encoder/layer_._3/output/dense/kernel:0', 'tf_bert_model_9/bert/encoder/layer_._3/output/dense/bias:0', 'tf_bert_model_9/bert/encoder/layer_._3/output/LayerNorm/gamma:0', 'tf_bert_model_9/bert/encoder/layer_._3/output/LayerNorm/beta:0', 'tf_bert_model_9/bert/encoder/layer_._4/attention/self/query/kernel:0', 'tf_bert_model_9/bert/encoder/layer_._4/attention/self/query/bias:0', 'tf_bert_model_9/bert/encoder/layer_._4/attention/self/key/kernel:0', 'tf_bert_model_9/bert/encoder/layer_._4/attention/self/key/bias:0', 'tf_bert_model_9/bert/encoder/layer_._4/attention/self/value/kernel:0', 'tf_bert_model_9/bert/encoder/layer_._4/attention/self/value/bias:0', 'tf_bert_model_9/bert/encoder/layer_._4/attention/output/dense/kernel:0', 'tf_bert_model_9/bert/encoder/layer_._4/attention/output/dense/bias:0', 'tf_bert_model_9/bert/encoder/layer_._4/attention/output/LayerNorm/gamma:0', 'tf_bert_model_9/bert/encoder/layer_._4/attention/output/LayerNorm/beta:0', 'tf_bert_model_9/bert/encoder/layer_._4/intermediate/dense/kernel:0', 'tf_bert_model_9/bert/encoder/layer_._4/intermediate/dense/bias:0', 'tf_bert_model_9/bert/encoder/layer_._4/output/dense/kernel:0', 'tf_bert_model_9/bert/encoder/layer_._4/output/dense/bias:0', 'tf_bert_model_9/bert/encoder/layer_._4/output/LayerNorm/gamma:0', 'tf_bert_model_9/bert/encoder/layer_._4/output/LayerNorm/beta:0', 'tf_bert_model_9/bert/encoder/layer_._5/attention/self/query/kernel:0', 'tf_bert_model_9/bert/encoder/layer_._5/attention/self/query/bias:0', 'tf_bert_model_9/bert/encoder/layer_._5/attention/self/key/kernel:0', 'tf_bert_model_9/bert/encoder/layer_._5/attention/self/key/bias:0', 'tf_bert_model_9/bert/encoder/layer_._5/attention/self/value/kernel:0', 'tf_bert_model_9/bert/encoder/layer_._5/attention/self/value/bias:0', 'tf_bert_model_9/bert/encoder/layer_._5/attention/output/dense/kernel:0', 'tf_bert_model_9/bert/encoder/layer_._5/attention/output/dense/bias:0', 'tf_bert_model_9/bert/encoder/layer_._5/attention/output/LayerNorm/gamma:0', 'tf_bert_model_9/bert/encoder/layer_._5/attention/output/LayerNorm/beta:0', 'tf_bert_model_9/bert/encoder/layer_._5/intermediate/dense/kernel:0', 'tf_bert_model_9/bert/encoder/layer_._5/intermediate/dense/bias:0', 'tf_bert_model_9/bert/encoder/layer_._5/output/dense/kernel:0', 'tf_bert_model_9/bert/encoder/layer_._5/output/dense/bias:0', 'tf_bert_model_9/bert/encoder/layer_._5/output/LayerNorm/gamma:0', 'tf_bert_model_9/bert/encoder/layer_._5/output/LayerNorm/beta:0', 'tf_bert_model_9/bert/encoder/layer_._6/attention/self/query/kernel:0', 'tf_bert_model_9/bert/encoder/layer_._6/attention/self/query/bias:0', 'tf_bert_model_9/bert/encoder/layer_._6/attention/self/key/kernel:0', 'tf_bert_model_9/bert/encoder/layer_._6/attention/self/key/bias:0', 'tf_bert_model_9/bert/encoder/layer_._6/attention/self/value/kernel:0', 'tf_bert_model_9/bert/encoder/layer_._6/attention/self/value/bias:0', 'tf_bert_model_9/bert/encoder/layer_._6/attention/output/dense/kernel:0', 'tf_bert_model_9/bert/encoder/layer_._6/attention/output/dense/bias:0', 'tf_bert_model_9/bert/encoder/layer_._6/attention/output/LayerNorm/gamma:0', 'tf_bert_model_9/bert/encoder/layer_._6/attention/output/LayerNorm/beta:0', 'tf_bert_model_9/bert/encoder/layer_._6/intermediate/dense/kernel:0', 'tf_bert_model_9/bert/encoder/layer_._6/intermediate/dense/bias:0', 'tf_bert_model_9/bert/encoder/layer_._6/output/dense/kernel:0', 'tf_bert_model_9/bert/encoder/layer_._6/output/dense/bias:0', 'tf_bert_model_9/bert/encoder/layer_._6/output/LayerNorm/gamma:0', 'tf_bert_model_9/bert/encoder/layer_._6/output/LayerNorm/beta:0', 'tf_bert_model_9/bert/encoder/layer_._7/attention/self/query/kernel:0', 'tf_bert_model_9/bert/encoder/layer_._7/attention/self/query/bias:0', 'tf_bert_model_9/bert/encoder/layer_._7/attention/self/key/kernel:0', 'tf_bert_model_9/bert/encoder/layer_._7/attention/self/key/bias:0', 'tf_bert_model_9/bert/encoder/layer_._7/attention/self/value/kernel:0', 'tf_bert_model_9/bert/encoder/layer_._7/attention/self/value/bias:0', 'tf_bert_model_9/bert/encoder/layer_._7/attention/output/dense/kernel:0', 'tf_bert_model_9/bert/encoder/layer_._7/attention/output/dense/bias:0', 'tf_bert_model_9/bert/encoder/layer_._7/attention/output/LayerNorm/gamma:0', 'tf_bert_model_9/bert/encoder/layer_._7/attention/output/LayerNorm/beta:0', 'tf_bert_model_9/bert/encoder/layer_._7/intermediate/dense/kernel:0', 'tf_bert_model_9/bert/encoder/layer_._7/intermediate/dense/bias:0', 'tf_bert_model_9/bert/encoder/layer_._7/output/dense/kernel:0', 'tf_bert_model_9/bert/encoder/layer_._7/output/dense/bias:0', 'tf_bert_model_9/bert/encoder/layer_._7/output/LayerNorm/gamma:0', 'tf_bert_model_9/bert/encoder/layer_._7/output/LayerNorm/beta:0', 'tf_bert_model_9/bert/encoder/layer_._8/attention/self/query/kernel:0', 'tf_bert_model_9/bert/encoder/layer_._8/attention/self/query/bias:0', 'tf_bert_model_9/bert/encoder/layer_._8/attention/self/key/kernel:0', 'tf_bert_model_9/bert/encoder/layer_._8/attention/self/key/bias:0', 'tf_bert_model_9/bert/encoder/layer_._8/attention/self/value/kernel:0', 'tf_bert_model_9/bert/encoder/layer_._8/attention/self/value/bias:0', 'tf_bert_model_9/bert/encoder/layer_._8/attention/output/dense/kernel:0', 'tf_bert_model_9/bert/encoder/layer_._8/attention/output/dense/bias:0', 'tf_bert_model_9/bert/encoder/layer_._8/attention/output/LayerNorm/gamma:0', 'tf_bert_model_9/bert/encoder/layer_._8/attention/output/LayerNorm/beta:0', 'tf_bert_model_9/bert/encoder/layer_._8/intermediate/dense/kernel:0', 'tf_bert_model_9/bert/encoder/layer_._8/intermediate/dense/bias:0', 'tf_bert_model_9/bert/encoder/layer_._8/output/dense/kernel:0', 'tf_bert_model_9/bert/encoder/layer_._8/output/dense/bias:0', 'tf_bert_model_9/bert/encoder/layer_._8/output/LayerNorm/gamma:0', 'tf_bert_model_9/bert/encoder/layer_._8/output/LayerNorm/beta:0', 'tf_bert_model_9/bert/encoder/layer_._9/attention/self/query/kernel:0', 'tf_bert_model_9/bert/encoder/layer_._9/attention/self/query/bias:0', 'tf_bert_model_9/bert/encoder/layer_._9/attention/self/key/kernel:0', 'tf_bert_model_9/bert/encoder/layer_._9/attention/self/key/bias:0', 'tf_bert_model_9/bert/encoder/layer_._9/attention/self/value/kernel:0', 'tf_bert_model_9/bert/encoder/layer_._9/attention/self/value/bias:0', 'tf_bert_model_9/bert/encoder/layer_._9/attention/output/dense/kernel:0', 'tf_bert_model_9/bert/encoder/layer_._9/attention/output/dense/bias:0', 'tf_bert_model_9/bert/encoder/layer_._9/attention/output/LayerNorm/gamma:0', 'tf_bert_model_9/bert/encoder/layer_._9/attention/output/LayerNorm/beta:0', 'tf_bert_model_9/bert/encoder/layer_._9/intermediate/dense/kernel:0', 'tf_bert_model_9/bert/encoder/layer_._9/intermediate/dense/bias:0', 'tf_bert_model_9/bert/encoder/layer_._9/output/dense/kernel:0', 'tf_bert_model_9/bert/encoder/layer_._9/output/dense/bias:0', 'tf_bert_model_9/bert/encoder/layer_._9/output/LayerNorm/gamma:0', 'tf_bert_model_9/bert/encoder/layer_._9/output/LayerNorm/beta:0', 'tf_bert_model_9/bert/encoder/layer_._10/attention/self/query/kernel:0', 'tf_bert_model_9/bert/encoder/layer_._10/attention/self/query/bias:0', 'tf_bert_model_9/bert/encoder/layer_._10/attention/self/key/kernel:0', 'tf_bert_model_9/bert/encoder/layer_._10/attention/self/key/bias:0', 'tf_bert_model_9/bert/encoder/layer_._10/attention/self/value/kernel:0', 'tf_bert_model_9/bert/encoder/layer_._10/attention/self/value/bias:0', 'tf_bert_model_9/bert/encoder/layer_._10/attention/output/dense/kernel:0', 'tf_bert_model_9/bert/encoder/layer_._10/attention/output/dense/bias:0', 'tf_bert_model_9/bert/encoder/layer_._10/attention/output/LayerNorm/gamma:0', 'tf_bert_model_9/bert/encoder/layer_._10/attention/output/LayerNorm/beta:0', 'tf_bert_model_9/bert/encoder/layer_._10/intermediate/dense/kernel:0', 'tf_bert_model_9/bert/encoder/layer_._10/intermediate/dense/bias:0', 'tf_bert_model_9/bert/encoder/layer_._10/output/dense/kernel:0', 'tf_bert_model_9/bert/encoder/layer_._10/output/dense/bias:0', 'tf_bert_model_9/bert/encoder/layer_._10/output/LayerNorm/gamma:0', 'tf_bert_model_9/bert/encoder/layer_._10/output/LayerNorm/beta:0', 'tf_bert_model_9/bert/pooler/dense/kernel:0', 'tf_bert_model_9/bert/pooler/dense/bias:0'] when minimizing the loss. If you're using `model.compile()`, did you forget to provide a `loss`argument?\n",
            "WARNING:tensorflow:Gradients do not exist for variables ['tf_bert_model_9/bert/embeddings/word_embeddings/weight:0', 'tf_bert_model_9/bert/embeddings/token_type_embeddings/embeddings:0', 'tf_bert_model_9/bert/embeddings/position_embeddings/embeddings:0', 'tf_bert_model_9/bert/embeddings/LayerNorm/gamma:0', 'tf_bert_model_9/bert/embeddings/LayerNorm/beta:0', 'tf_bert_model_9/bert/encoder/layer_._0/attention/self/query/kernel:0', 'tf_bert_model_9/bert/encoder/layer_._0/attention/self/query/bias:0', 'tf_bert_model_9/bert/encoder/layer_._0/attention/self/key/kernel:0', 'tf_bert_model_9/bert/encoder/layer_._0/attention/self/key/bias:0', 'tf_bert_model_9/bert/encoder/layer_._0/attention/self/value/kernel:0', 'tf_bert_model_9/bert/encoder/layer_._0/attention/self/value/bias:0', 'tf_bert_model_9/bert/encoder/layer_._0/attention/output/dense/kernel:0', 'tf_bert_model_9/bert/encoder/layer_._0/attention/output/dense/bias:0', 'tf_bert_model_9/bert/encoder/layer_._0/attention/output/LayerNorm/gamma:0', 'tf_bert_model_9/bert/encoder/layer_._0/attention/output/LayerNorm/beta:0', 'tf_bert_model_9/bert/encoder/layer_._0/intermediate/dense/kernel:0', 'tf_bert_model_9/bert/encoder/layer_._0/intermediate/dense/bias:0', 'tf_bert_model_9/bert/encoder/layer_._0/output/dense/kernel:0', 'tf_bert_model_9/bert/encoder/layer_._0/output/dense/bias:0', 'tf_bert_model_9/bert/encoder/layer_._0/output/LayerNorm/gamma:0', 'tf_bert_model_9/bert/encoder/layer_._0/output/LayerNorm/beta:0', 'tf_bert_model_9/bert/encoder/layer_._1/attention/self/query/kernel:0', 'tf_bert_model_9/bert/encoder/layer_._1/attention/self/query/bias:0', 'tf_bert_model_9/bert/encoder/layer_._1/attention/self/key/kernel:0', 'tf_bert_model_9/bert/encoder/layer_._1/attention/self/key/bias:0', 'tf_bert_model_9/bert/encoder/layer_._1/attention/self/value/kernel:0', 'tf_bert_model_9/bert/encoder/layer_._1/attention/self/value/bias:0', 'tf_bert_model_9/bert/encoder/layer_._1/attention/output/dense/kernel:0', 'tf_bert_model_9/bert/encoder/layer_._1/attention/output/dense/bias:0', 'tf_bert_model_9/bert/encoder/layer_._1/attention/output/LayerNorm/gamma:0', 'tf_bert_model_9/bert/encoder/layer_._1/attention/output/LayerNorm/beta:0', 'tf_bert_model_9/bert/encoder/layer_._1/intermediate/dense/kernel:0', 'tf_bert_model_9/bert/encoder/layer_._1/intermediate/dense/bias:0', 'tf_bert_model_9/bert/encoder/layer_._1/output/dense/kernel:0', 'tf_bert_model_9/bert/encoder/layer_._1/output/dense/bias:0', 'tf_bert_model_9/bert/encoder/layer_._1/output/LayerNorm/gamma:0', 'tf_bert_model_9/bert/encoder/layer_._1/output/LayerNorm/beta:0', 'tf_bert_model_9/bert/encoder/layer_._2/attention/self/query/kernel:0', 'tf_bert_model_9/bert/encoder/layer_._2/attention/self/query/bias:0', 'tf_bert_model_9/bert/encoder/layer_._2/attention/self/key/kernel:0', 'tf_bert_model_9/bert/encoder/layer_._2/attention/self/key/bias:0', 'tf_bert_model_9/bert/encoder/layer_._2/attention/self/value/kernel:0', 'tf_bert_model_9/bert/encoder/layer_._2/attention/self/value/bias:0', 'tf_bert_model_9/bert/encoder/layer_._2/attention/output/dense/kernel:0', 'tf_bert_model_9/bert/encoder/layer_._2/attention/output/dense/bias:0', 'tf_bert_model_9/bert/encoder/layer_._2/attention/output/LayerNorm/gamma:0', 'tf_bert_model_9/bert/encoder/layer_._2/attention/output/LayerNorm/beta:0', 'tf_bert_model_9/bert/encoder/layer_._2/intermediate/dense/kernel:0', 'tf_bert_model_9/bert/encoder/layer_._2/intermediate/dense/bias:0', 'tf_bert_model_9/bert/encoder/layer_._2/output/dense/kernel:0', 'tf_bert_model_9/bert/encoder/layer_._2/output/dense/bias:0', 'tf_bert_model_9/bert/encoder/layer_._2/output/LayerNorm/gamma:0', 'tf_bert_model_9/bert/encoder/layer_._2/output/LayerNorm/beta:0', 'tf_bert_model_9/bert/encoder/layer_._3/attention/self/query/kernel:0', 'tf_bert_model_9/bert/encoder/layer_._3/attention/self/query/bias:0', 'tf_bert_model_9/bert/encoder/layer_._3/attention/self/key/kernel:0', 'tf_bert_model_9/bert/encoder/layer_._3/attention/self/key/bias:0', 'tf_bert_model_9/bert/encoder/layer_._3/attention/self/value/kernel:0', 'tf_bert_model_9/bert/encoder/layer_._3/attention/self/value/bias:0', 'tf_bert_model_9/bert/encoder/layer_._3/attention/output/dense/kernel:0', 'tf_bert_model_9/bert/encoder/layer_._3/attention/output/dense/bias:0', 'tf_bert_model_9/bert/encoder/layer_._3/attention/output/LayerNorm/gamma:0', 'tf_bert_model_9/bert/encoder/layer_._3/attention/output/LayerNorm/beta:0', 'tf_bert_model_9/bert/encoder/layer_._3/intermediate/dense/kernel:0', 'tf_bert_model_9/bert/encoder/layer_._3/intermediate/dense/bias:0', 'tf_bert_model_9/bert/encoder/layer_._3/output/dense/kernel:0', 'tf_bert_model_9/bert/encoder/layer_._3/output/dense/bias:0', 'tf_bert_model_9/bert/encoder/layer_._3/output/LayerNorm/gamma:0', 'tf_bert_model_9/bert/encoder/layer_._3/output/LayerNorm/beta:0', 'tf_bert_model_9/bert/encoder/layer_._4/attention/self/query/kernel:0', 'tf_bert_model_9/bert/encoder/layer_._4/attention/self/query/bias:0', 'tf_bert_model_9/bert/encoder/layer_._4/attention/self/key/kernel:0', 'tf_bert_model_9/bert/encoder/layer_._4/attention/self/key/bias:0', 'tf_bert_model_9/bert/encoder/layer_._4/attention/self/value/kernel:0', 'tf_bert_model_9/bert/encoder/layer_._4/attention/self/value/bias:0', 'tf_bert_model_9/bert/encoder/layer_._4/attention/output/dense/kernel:0', 'tf_bert_model_9/bert/encoder/layer_._4/attention/output/dense/bias:0', 'tf_bert_model_9/bert/encoder/layer_._4/attention/output/LayerNorm/gamma:0', 'tf_bert_model_9/bert/encoder/layer_._4/attention/output/LayerNorm/beta:0', 'tf_bert_model_9/bert/encoder/layer_._4/intermediate/dense/kernel:0', 'tf_bert_model_9/bert/encoder/layer_._4/intermediate/dense/bias:0', 'tf_bert_model_9/bert/encoder/layer_._4/output/dense/kernel:0', 'tf_bert_model_9/bert/encoder/layer_._4/output/dense/bias:0', 'tf_bert_model_9/bert/encoder/layer_._4/output/LayerNorm/gamma:0', 'tf_bert_model_9/bert/encoder/layer_._4/output/LayerNorm/beta:0', 'tf_bert_model_9/bert/encoder/layer_._5/attention/self/query/kernel:0', 'tf_bert_model_9/bert/encoder/layer_._5/attention/self/query/bias:0', 'tf_bert_model_9/bert/encoder/layer_._5/attention/self/key/kernel:0', 'tf_bert_model_9/bert/encoder/layer_._5/attention/self/key/bias:0', 'tf_bert_model_9/bert/encoder/layer_._5/attention/self/value/kernel:0', 'tf_bert_model_9/bert/encoder/layer_._5/attention/self/value/bias:0', 'tf_bert_model_9/bert/encoder/layer_._5/attention/output/dense/kernel:0', 'tf_bert_model_9/bert/encoder/layer_._5/attention/output/dense/bias:0', 'tf_bert_model_9/bert/encoder/layer_._5/attention/output/LayerNorm/gamma:0', 'tf_bert_model_9/bert/encoder/layer_._5/attention/output/LayerNorm/beta:0', 'tf_bert_model_9/bert/encoder/layer_._5/intermediate/dense/kernel:0', 'tf_bert_model_9/bert/encoder/layer_._5/intermediate/dense/bias:0', 'tf_bert_model_9/bert/encoder/layer_._5/output/dense/kernel:0', 'tf_bert_model_9/bert/encoder/layer_._5/output/dense/bias:0', 'tf_bert_model_9/bert/encoder/layer_._5/output/LayerNorm/gamma:0', 'tf_bert_model_9/bert/encoder/layer_._5/output/LayerNorm/beta:0', 'tf_bert_model_9/bert/encoder/layer_._6/attention/self/query/kernel:0', 'tf_bert_model_9/bert/encoder/layer_._6/attention/self/query/bias:0', 'tf_bert_model_9/bert/encoder/layer_._6/attention/self/key/kernel:0', 'tf_bert_model_9/bert/encoder/layer_._6/attention/self/key/bias:0', 'tf_bert_model_9/bert/encoder/layer_._6/attention/self/value/kernel:0', 'tf_bert_model_9/bert/encoder/layer_._6/attention/self/value/bias:0', 'tf_bert_model_9/bert/encoder/layer_._6/attention/output/dense/kernel:0', 'tf_bert_model_9/bert/encoder/layer_._6/attention/output/dense/bias:0', 'tf_bert_model_9/bert/encoder/layer_._6/attention/output/LayerNorm/gamma:0', 'tf_bert_model_9/bert/encoder/layer_._6/attention/output/LayerNorm/beta:0', 'tf_bert_model_9/bert/encoder/layer_._6/intermediate/dense/kernel:0', 'tf_bert_model_9/bert/encoder/layer_._6/intermediate/dense/bias:0', 'tf_bert_model_9/bert/encoder/layer_._6/output/dense/kernel:0', 'tf_bert_model_9/bert/encoder/layer_._6/output/dense/bias:0', 'tf_bert_model_9/bert/encoder/layer_._6/output/LayerNorm/gamma:0', 'tf_bert_model_9/bert/encoder/layer_._6/output/LayerNorm/beta:0', 'tf_bert_model_9/bert/encoder/layer_._7/attention/self/query/kernel:0', 'tf_bert_model_9/bert/encoder/layer_._7/attention/self/query/bias:0', 'tf_bert_model_9/bert/encoder/layer_._7/attention/self/key/kernel:0', 'tf_bert_model_9/bert/encoder/layer_._7/attention/self/key/bias:0', 'tf_bert_model_9/bert/encoder/layer_._7/attention/self/value/kernel:0', 'tf_bert_model_9/bert/encoder/layer_._7/attention/self/value/bias:0', 'tf_bert_model_9/bert/encoder/layer_._7/attention/output/dense/kernel:0', 'tf_bert_model_9/bert/encoder/layer_._7/attention/output/dense/bias:0', 'tf_bert_model_9/bert/encoder/layer_._7/attention/output/LayerNorm/gamma:0', 'tf_bert_model_9/bert/encoder/layer_._7/attention/output/LayerNorm/beta:0', 'tf_bert_model_9/bert/encoder/layer_._7/intermediate/dense/kernel:0', 'tf_bert_model_9/bert/encoder/layer_._7/intermediate/dense/bias:0', 'tf_bert_model_9/bert/encoder/layer_._7/output/dense/kernel:0', 'tf_bert_model_9/bert/encoder/layer_._7/output/dense/bias:0', 'tf_bert_model_9/bert/encoder/layer_._7/output/LayerNorm/gamma:0', 'tf_bert_model_9/bert/encoder/layer_._7/output/LayerNorm/beta:0', 'tf_bert_model_9/bert/encoder/layer_._8/attention/self/query/kernel:0', 'tf_bert_model_9/bert/encoder/layer_._8/attention/self/query/bias:0', 'tf_bert_model_9/bert/encoder/layer_._8/attention/self/key/kernel:0', 'tf_bert_model_9/bert/encoder/layer_._8/attention/self/key/bias:0', 'tf_bert_model_9/bert/encoder/layer_._8/attention/self/value/kernel:0', 'tf_bert_model_9/bert/encoder/layer_._8/attention/self/value/bias:0', 'tf_bert_model_9/bert/encoder/layer_._8/attention/output/dense/kernel:0', 'tf_bert_model_9/bert/encoder/layer_._8/attention/output/dense/bias:0', 'tf_bert_model_9/bert/encoder/layer_._8/attention/output/LayerNorm/gamma:0', 'tf_bert_model_9/bert/encoder/layer_._8/attention/output/LayerNorm/beta:0', 'tf_bert_model_9/bert/encoder/layer_._8/intermediate/dense/kernel:0', 'tf_bert_model_9/bert/encoder/layer_._8/intermediate/dense/bias:0', 'tf_bert_model_9/bert/encoder/layer_._8/output/dense/kernel:0', 'tf_bert_model_9/bert/encoder/layer_._8/output/dense/bias:0', 'tf_bert_model_9/bert/encoder/layer_._8/output/LayerNorm/gamma:0', 'tf_bert_model_9/bert/encoder/layer_._8/output/LayerNorm/beta:0', 'tf_bert_model_9/bert/encoder/layer_._9/attention/self/query/kernel:0', 'tf_bert_model_9/bert/encoder/layer_._9/attention/self/query/bias:0', 'tf_bert_model_9/bert/encoder/layer_._9/attention/self/key/kernel:0', 'tf_bert_model_9/bert/encoder/layer_._9/attention/self/key/bias:0', 'tf_bert_model_9/bert/encoder/layer_._9/attention/self/value/kernel:0', 'tf_bert_model_9/bert/encoder/layer_._9/attention/self/value/bias:0', 'tf_bert_model_9/bert/encoder/layer_._9/attention/output/dense/kernel:0', 'tf_bert_model_9/bert/encoder/layer_._9/attention/output/dense/bias:0', 'tf_bert_model_9/bert/encoder/layer_._9/attention/output/LayerNorm/gamma:0', 'tf_bert_model_9/bert/encoder/layer_._9/attention/output/LayerNorm/beta:0', 'tf_bert_model_9/bert/encoder/layer_._9/intermediate/dense/kernel:0', 'tf_bert_model_9/bert/encoder/layer_._9/intermediate/dense/bias:0', 'tf_bert_model_9/bert/encoder/layer_._9/output/dense/kernel:0', 'tf_bert_model_9/bert/encoder/layer_._9/output/dense/bias:0', 'tf_bert_model_9/bert/encoder/layer_._9/output/LayerNorm/gamma:0', 'tf_bert_model_9/bert/encoder/layer_._9/output/LayerNorm/beta:0', 'tf_bert_model_9/bert/encoder/layer_._10/attention/self/query/kernel:0', 'tf_bert_model_9/bert/encoder/layer_._10/attention/self/query/bias:0', 'tf_bert_model_9/bert/encoder/layer_._10/attention/self/key/kernel:0', 'tf_bert_model_9/bert/encoder/layer_._10/attention/self/key/bias:0', 'tf_bert_model_9/bert/encoder/layer_._10/attention/self/value/kernel:0', 'tf_bert_model_9/bert/encoder/layer_._10/attention/self/value/bias:0', 'tf_bert_model_9/bert/encoder/layer_._10/attention/output/dense/kernel:0', 'tf_bert_model_9/bert/encoder/layer_._10/attention/output/dense/bias:0', 'tf_bert_model_9/bert/encoder/layer_._10/attention/output/LayerNorm/gamma:0', 'tf_bert_model_9/bert/encoder/layer_._10/attention/output/LayerNorm/beta:0', 'tf_bert_model_9/bert/encoder/layer_._10/intermediate/dense/kernel:0', 'tf_bert_model_9/bert/encoder/layer_._10/intermediate/dense/bias:0', 'tf_bert_model_9/bert/encoder/layer_._10/output/dense/kernel:0', 'tf_bert_model_9/bert/encoder/layer_._10/output/dense/bias:0', 'tf_bert_model_9/bert/encoder/layer_._10/output/LayerNorm/gamma:0', 'tf_bert_model_9/bert/encoder/layer_._10/output/LayerNorm/beta:0', 'tf_bert_model_9/bert/pooler/dense/kernel:0', 'tf_bert_model_9/bert/pooler/dense/bias:0'] when minimizing the loss. If you're using `model.compile()`, did you forget to provide a `loss`argument?\n",
            "489/489 [==============================] - 28s 43ms/step - loss: 0.1203 - accuracy: 0.9555 - val_loss: 0.0339 - val_accuracy: 0.9898\n",
            "Epoch 2/5\n",
            "489/489 [==============================] - 18s 37ms/step - loss: 0.0379 - accuracy: 0.9895 - val_loss: 0.0293 - val_accuracy: 0.9898\n",
            "Epoch 3/5\n",
            "489/489 [==============================] - 18s 37ms/step - loss: 0.0220 - accuracy: 0.9941 - val_loss: 0.0320 - val_accuracy: 0.9867\n",
            "Epoch 4/5\n",
            "489/489 [==============================] - 18s 37ms/step - loss: 0.0079 - accuracy: 0.9980 - val_loss: 0.0514 - val_accuracy: 0.9877\n",
            "Epoch 5/5\n",
            "489/489 [==============================] - 18s 37ms/step - loss: 0.0063 - accuracy: 0.9985 - val_loss: 0.0464 - val_accuracy: 0.9908\n",
            "BERT 5e + FCN, train: accuracy = 0.9995, precision = 0.9988, recall = 0.9988, f1 = 0.9988\n",
            "BERT 5e + FCN, validation: accuracy = 0.9908, precision = 0.9801, recall = 0.9752, f1 = 0.9777\n"
          ]
        },
        {
          "output_type": "stream",
          "name": "stderr",
          "text": [
            "Some layers from the model checkpoint at bert-base-cased were not used when initializing TFBertModel: ['nsp___cls', 'mlm___cls']\n",
            "- This IS expected if you are initializing TFBertModel from the checkpoint of a model trained on another task or with another architecture (e.g. initializing a BertForSequenceClassification model from a BertForPreTraining model).\n",
            "- This IS NOT expected if you are initializing TFBertModel from the checkpoint of a model that you expect to be exactly identical (initializing a BertForSequenceClassification model from a BertForSequenceClassification model).\n",
            "All the layers of TFBertModel were initialized from the model checkpoint at bert-base-cased.\n",
            "If your task is similar to the task the model of the checkpoint was trained on, you can already use TFBertModel for predictions without further training.\n"
          ]
        },
        {
          "output_type": "stream",
          "name": "stdout",
          "text": [
            "Epoch 1/5\n",
            "WARNING:tensorflow:Gradients do not exist for variables ['tf_bert_model_10/bert/embeddings/word_embeddings/weight:0', 'tf_bert_model_10/bert/embeddings/token_type_embeddings/embeddings:0', 'tf_bert_model_10/bert/embeddings/position_embeddings/embeddings:0', 'tf_bert_model_10/bert/embeddings/LayerNorm/gamma:0', 'tf_bert_model_10/bert/embeddings/LayerNorm/beta:0', 'tf_bert_model_10/bert/encoder/layer_._0/attention/self/query/kernel:0', 'tf_bert_model_10/bert/encoder/layer_._0/attention/self/query/bias:0', 'tf_bert_model_10/bert/encoder/layer_._0/attention/self/key/kernel:0', 'tf_bert_model_10/bert/encoder/layer_._0/attention/self/key/bias:0', 'tf_bert_model_10/bert/encoder/layer_._0/attention/self/value/kernel:0', 'tf_bert_model_10/bert/encoder/layer_._0/attention/self/value/bias:0', 'tf_bert_model_10/bert/encoder/layer_._0/attention/output/dense/kernel:0', 'tf_bert_model_10/bert/encoder/layer_._0/attention/output/dense/bias:0', 'tf_bert_model_10/bert/encoder/layer_._0/attention/output/LayerNorm/gamma:0', 'tf_bert_model_10/bert/encoder/layer_._0/attention/output/LayerNorm/beta:0', 'tf_bert_model_10/bert/encoder/layer_._0/intermediate/dense/kernel:0', 'tf_bert_model_10/bert/encoder/layer_._0/intermediate/dense/bias:0', 'tf_bert_model_10/bert/encoder/layer_._0/output/dense/kernel:0', 'tf_bert_model_10/bert/encoder/layer_._0/output/dense/bias:0', 'tf_bert_model_10/bert/encoder/layer_._0/output/LayerNorm/gamma:0', 'tf_bert_model_10/bert/encoder/layer_._0/output/LayerNorm/beta:0', 'tf_bert_model_10/bert/encoder/layer_._1/attention/self/query/kernel:0', 'tf_bert_model_10/bert/encoder/layer_._1/attention/self/query/bias:0', 'tf_bert_model_10/bert/encoder/layer_._1/attention/self/key/kernel:0', 'tf_bert_model_10/bert/encoder/layer_._1/attention/self/key/bias:0', 'tf_bert_model_10/bert/encoder/layer_._1/attention/self/value/kernel:0', 'tf_bert_model_10/bert/encoder/layer_._1/attention/self/value/bias:0', 'tf_bert_model_10/bert/encoder/layer_._1/attention/output/dense/kernel:0', 'tf_bert_model_10/bert/encoder/layer_._1/attention/output/dense/bias:0', 'tf_bert_model_10/bert/encoder/layer_._1/attention/output/LayerNorm/gamma:0', 'tf_bert_model_10/bert/encoder/layer_._1/attention/output/LayerNorm/beta:0', 'tf_bert_model_10/bert/encoder/layer_._1/intermediate/dense/kernel:0', 'tf_bert_model_10/bert/encoder/layer_._1/intermediate/dense/bias:0', 'tf_bert_model_10/bert/encoder/layer_._1/output/dense/kernel:0', 'tf_bert_model_10/bert/encoder/layer_._1/output/dense/bias:0', 'tf_bert_model_10/bert/encoder/layer_._1/output/LayerNorm/gamma:0', 'tf_bert_model_10/bert/encoder/layer_._1/output/LayerNorm/beta:0', 'tf_bert_model_10/bert/encoder/layer_._2/attention/self/query/kernel:0', 'tf_bert_model_10/bert/encoder/layer_._2/attention/self/query/bias:0', 'tf_bert_model_10/bert/encoder/layer_._2/attention/self/key/kernel:0', 'tf_bert_model_10/bert/encoder/layer_._2/attention/self/key/bias:0', 'tf_bert_model_10/bert/encoder/layer_._2/attention/self/value/kernel:0', 'tf_bert_model_10/bert/encoder/layer_._2/attention/self/value/bias:0', 'tf_bert_model_10/bert/encoder/layer_._2/attention/output/dense/kernel:0', 'tf_bert_model_10/bert/encoder/layer_._2/attention/output/dense/bias:0', 'tf_bert_model_10/bert/encoder/layer_._2/attention/output/LayerNorm/gamma:0', 'tf_bert_model_10/bert/encoder/layer_._2/attention/output/LayerNorm/beta:0', 'tf_bert_model_10/bert/encoder/layer_._2/intermediate/dense/kernel:0', 'tf_bert_model_10/bert/encoder/layer_._2/intermediate/dense/bias:0', 'tf_bert_model_10/bert/encoder/layer_._2/output/dense/kernel:0', 'tf_bert_model_10/bert/encoder/layer_._2/output/dense/bias:0', 'tf_bert_model_10/bert/encoder/layer_._2/output/LayerNorm/gamma:0', 'tf_bert_model_10/bert/encoder/layer_._2/output/LayerNorm/beta:0', 'tf_bert_model_10/bert/encoder/layer_._3/attention/self/query/kernel:0', 'tf_bert_model_10/bert/encoder/layer_._3/attention/self/query/bias:0', 'tf_bert_model_10/bert/encoder/layer_._3/attention/self/key/kernel:0', 'tf_bert_model_10/bert/encoder/layer_._3/attention/self/key/bias:0', 'tf_bert_model_10/bert/encoder/layer_._3/attention/self/value/kernel:0', 'tf_bert_model_10/bert/encoder/layer_._3/attention/self/value/bias:0', 'tf_bert_model_10/bert/encoder/layer_._3/attention/output/dense/kernel:0', 'tf_bert_model_10/bert/encoder/layer_._3/attention/output/dense/bias:0', 'tf_bert_model_10/bert/encoder/layer_._3/attention/output/LayerNorm/gamma:0', 'tf_bert_model_10/bert/encoder/layer_._3/attention/output/LayerNorm/beta:0', 'tf_bert_model_10/bert/encoder/layer_._3/intermediate/dense/kernel:0', 'tf_bert_model_10/bert/encoder/layer_._3/intermediate/dense/bias:0', 'tf_bert_model_10/bert/encoder/layer_._3/output/dense/kernel:0', 'tf_bert_model_10/bert/encoder/layer_._3/output/dense/bias:0', 'tf_bert_model_10/bert/encoder/layer_._3/output/LayerNorm/gamma:0', 'tf_bert_model_10/bert/encoder/layer_._3/output/LayerNorm/beta:0', 'tf_bert_model_10/bert/encoder/layer_._4/attention/self/query/kernel:0', 'tf_bert_model_10/bert/encoder/layer_._4/attention/self/query/bias:0', 'tf_bert_model_10/bert/encoder/layer_._4/attention/self/key/kernel:0', 'tf_bert_model_10/bert/encoder/layer_._4/attention/self/key/bias:0', 'tf_bert_model_10/bert/encoder/layer_._4/attention/self/value/kernel:0', 'tf_bert_model_10/bert/encoder/layer_._4/attention/self/value/bias:0', 'tf_bert_model_10/bert/encoder/layer_._4/attention/output/dense/kernel:0', 'tf_bert_model_10/bert/encoder/layer_._4/attention/output/dense/bias:0', 'tf_bert_model_10/bert/encoder/layer_._4/attention/output/LayerNorm/gamma:0', 'tf_bert_model_10/bert/encoder/layer_._4/attention/output/LayerNorm/beta:0', 'tf_bert_model_10/bert/encoder/layer_._4/intermediate/dense/kernel:0', 'tf_bert_model_10/bert/encoder/layer_._4/intermediate/dense/bias:0', 'tf_bert_model_10/bert/encoder/layer_._4/output/dense/kernel:0', 'tf_bert_model_10/bert/encoder/layer_._4/output/dense/bias:0', 'tf_bert_model_10/bert/encoder/layer_._4/output/LayerNorm/gamma:0', 'tf_bert_model_10/bert/encoder/layer_._4/output/LayerNorm/beta:0', 'tf_bert_model_10/bert/encoder/layer_._5/attention/self/query/kernel:0', 'tf_bert_model_10/bert/encoder/layer_._5/attention/self/query/bias:0', 'tf_bert_model_10/bert/encoder/layer_._5/attention/self/key/kernel:0', 'tf_bert_model_10/bert/encoder/layer_._5/attention/self/key/bias:0', 'tf_bert_model_10/bert/encoder/layer_._5/attention/self/value/kernel:0', 'tf_bert_model_10/bert/encoder/layer_._5/attention/self/value/bias:0', 'tf_bert_model_10/bert/encoder/layer_._5/attention/output/dense/kernel:0', 'tf_bert_model_10/bert/encoder/layer_._5/attention/output/dense/bias:0', 'tf_bert_model_10/bert/encoder/layer_._5/attention/output/LayerNorm/gamma:0', 'tf_bert_model_10/bert/encoder/layer_._5/attention/output/LayerNorm/beta:0', 'tf_bert_model_10/bert/encoder/layer_._5/intermediate/dense/kernel:0', 'tf_bert_model_10/bert/encoder/layer_._5/intermediate/dense/bias:0', 'tf_bert_model_10/bert/encoder/layer_._5/output/dense/kernel:0', 'tf_bert_model_10/bert/encoder/layer_._5/output/dense/bias:0', 'tf_bert_model_10/bert/encoder/layer_._5/output/LayerNorm/gamma:0', 'tf_bert_model_10/bert/encoder/layer_._5/output/LayerNorm/beta:0', 'tf_bert_model_10/bert/encoder/layer_._6/attention/self/query/kernel:0', 'tf_bert_model_10/bert/encoder/layer_._6/attention/self/query/bias:0', 'tf_bert_model_10/bert/encoder/layer_._6/attention/self/key/kernel:0', 'tf_bert_model_10/bert/encoder/layer_._6/attention/self/key/bias:0', 'tf_bert_model_10/bert/encoder/layer_._6/attention/self/value/kernel:0', 'tf_bert_model_10/bert/encoder/layer_._6/attention/self/value/bias:0', 'tf_bert_model_10/bert/encoder/layer_._6/attention/output/dense/kernel:0', 'tf_bert_model_10/bert/encoder/layer_._6/attention/output/dense/bias:0', 'tf_bert_model_10/bert/encoder/layer_._6/attention/output/LayerNorm/gamma:0', 'tf_bert_model_10/bert/encoder/layer_._6/attention/output/LayerNorm/beta:0', 'tf_bert_model_10/bert/encoder/layer_._6/intermediate/dense/kernel:0', 'tf_bert_model_10/bert/encoder/layer_._6/intermediate/dense/bias:0', 'tf_bert_model_10/bert/encoder/layer_._6/output/dense/kernel:0', 'tf_bert_model_10/bert/encoder/layer_._6/output/dense/bias:0', 'tf_bert_model_10/bert/encoder/layer_._6/output/LayerNorm/gamma:0', 'tf_bert_model_10/bert/encoder/layer_._6/output/LayerNorm/beta:0', 'tf_bert_model_10/bert/encoder/layer_._7/attention/self/query/kernel:0', 'tf_bert_model_10/bert/encoder/layer_._7/attention/self/query/bias:0', 'tf_bert_model_10/bert/encoder/layer_._7/attention/self/key/kernel:0', 'tf_bert_model_10/bert/encoder/layer_._7/attention/self/key/bias:0', 'tf_bert_model_10/bert/encoder/layer_._7/attention/self/value/kernel:0', 'tf_bert_model_10/bert/encoder/layer_._7/attention/self/value/bias:0', 'tf_bert_model_10/bert/encoder/layer_._7/attention/output/dense/kernel:0', 'tf_bert_model_10/bert/encoder/layer_._7/attention/output/dense/bias:0', 'tf_bert_model_10/bert/encoder/layer_._7/attention/output/LayerNorm/gamma:0', 'tf_bert_model_10/bert/encoder/layer_._7/attention/output/LayerNorm/beta:0', 'tf_bert_model_10/bert/encoder/layer_._7/intermediate/dense/kernel:0', 'tf_bert_model_10/bert/encoder/layer_._7/intermediate/dense/bias:0', 'tf_bert_model_10/bert/encoder/layer_._7/output/dense/kernel:0', 'tf_bert_model_10/bert/encoder/layer_._7/output/dense/bias:0', 'tf_bert_model_10/bert/encoder/layer_._7/output/LayerNorm/gamma:0', 'tf_bert_model_10/bert/encoder/layer_._7/output/LayerNorm/beta:0', 'tf_bert_model_10/bert/encoder/layer_._8/attention/self/query/kernel:0', 'tf_bert_model_10/bert/encoder/layer_._8/attention/self/query/bias:0', 'tf_bert_model_10/bert/encoder/layer_._8/attention/self/key/kernel:0', 'tf_bert_model_10/bert/encoder/layer_._8/attention/self/key/bias:0', 'tf_bert_model_10/bert/encoder/layer_._8/attention/self/value/kernel:0', 'tf_bert_model_10/bert/encoder/layer_._8/attention/self/value/bias:0', 'tf_bert_model_10/bert/encoder/layer_._8/attention/output/dense/kernel:0', 'tf_bert_model_10/bert/encoder/layer_._8/attention/output/dense/bias:0', 'tf_bert_model_10/bert/encoder/layer_._8/attention/output/LayerNorm/gamma:0', 'tf_bert_model_10/bert/encoder/layer_._8/attention/output/LayerNorm/beta:0', 'tf_bert_model_10/bert/encoder/layer_._8/intermediate/dense/kernel:0', 'tf_bert_model_10/bert/encoder/layer_._8/intermediate/dense/bias:0', 'tf_bert_model_10/bert/encoder/layer_._8/output/dense/kernel:0', 'tf_bert_model_10/bert/encoder/layer_._8/output/dense/bias:0', 'tf_bert_model_10/bert/encoder/layer_._8/output/LayerNorm/gamma:0', 'tf_bert_model_10/bert/encoder/layer_._8/output/LayerNorm/beta:0', 'tf_bert_model_10/bert/encoder/layer_._9/attention/self/query/kernel:0', 'tf_bert_model_10/bert/encoder/layer_._9/attention/self/query/bias:0', 'tf_bert_model_10/bert/encoder/layer_._9/attention/self/key/kernel:0', 'tf_bert_model_10/bert/encoder/layer_._9/attention/self/key/bias:0', 'tf_bert_model_10/bert/encoder/layer_._9/attention/self/value/kernel:0', 'tf_bert_model_10/bert/encoder/layer_._9/attention/self/value/bias:0', 'tf_bert_model_10/bert/encoder/layer_._9/attention/output/dense/kernel:0', 'tf_bert_model_10/bert/encoder/layer_._9/attention/output/dense/bias:0', 'tf_bert_model_10/bert/encoder/layer_._9/attention/output/LayerNorm/gamma:0', 'tf_bert_model_10/bert/encoder/layer_._9/attention/output/LayerNorm/beta:0', 'tf_bert_model_10/bert/encoder/layer_._9/intermediate/dense/kernel:0', 'tf_bert_model_10/bert/encoder/layer_._9/intermediate/dense/bias:0', 'tf_bert_model_10/bert/encoder/layer_._9/output/dense/kernel:0', 'tf_bert_model_10/bert/encoder/layer_._9/output/dense/bias:0', 'tf_bert_model_10/bert/encoder/layer_._9/output/LayerNorm/gamma:0', 'tf_bert_model_10/bert/encoder/layer_._9/output/LayerNorm/beta:0', 'tf_bert_model_10/bert/encoder/layer_._10/attention/self/query/kernel:0', 'tf_bert_model_10/bert/encoder/layer_._10/attention/self/query/bias:0', 'tf_bert_model_10/bert/encoder/layer_._10/attention/self/key/kernel:0', 'tf_bert_model_10/bert/encoder/layer_._10/attention/self/key/bias:0', 'tf_bert_model_10/bert/encoder/layer_._10/attention/self/value/kernel:0', 'tf_bert_model_10/bert/encoder/layer_._10/attention/self/value/bias:0', 'tf_bert_model_10/bert/encoder/layer_._10/attention/output/dense/kernel:0', 'tf_bert_model_10/bert/encoder/layer_._10/attention/output/dense/bias:0', 'tf_bert_model_10/bert/encoder/layer_._10/attention/output/LayerNorm/gamma:0', 'tf_bert_model_10/bert/encoder/layer_._10/attention/output/LayerNorm/beta:0', 'tf_bert_model_10/bert/encoder/layer_._10/intermediate/dense/kernel:0', 'tf_bert_model_10/bert/encoder/layer_._10/intermediate/dense/bias:0', 'tf_bert_model_10/bert/encoder/layer_._10/output/dense/kernel:0', 'tf_bert_model_10/bert/encoder/layer_._10/output/dense/bias:0', 'tf_bert_model_10/bert/encoder/layer_._10/output/LayerNorm/gamma:0', 'tf_bert_model_10/bert/encoder/layer_._10/output/LayerNorm/beta:0', 'tf_bert_model_10/bert/pooler/dense/kernel:0', 'tf_bert_model_10/bert/pooler/dense/bias:0'] when minimizing the loss. If you're using `model.compile()`, did you forget to provide a `loss`argument?\n",
            "WARNING:tensorflow:Gradients do not exist for variables ['tf_bert_model_10/bert/embeddings/word_embeddings/weight:0', 'tf_bert_model_10/bert/embeddings/token_type_embeddings/embeddings:0', 'tf_bert_model_10/bert/embeddings/position_embeddings/embeddings:0', 'tf_bert_model_10/bert/embeddings/LayerNorm/gamma:0', 'tf_bert_model_10/bert/embeddings/LayerNorm/beta:0', 'tf_bert_model_10/bert/encoder/layer_._0/attention/self/query/kernel:0', 'tf_bert_model_10/bert/encoder/layer_._0/attention/self/query/bias:0', 'tf_bert_model_10/bert/encoder/layer_._0/attention/self/key/kernel:0', 'tf_bert_model_10/bert/encoder/layer_._0/attention/self/key/bias:0', 'tf_bert_model_10/bert/encoder/layer_._0/attention/self/value/kernel:0', 'tf_bert_model_10/bert/encoder/layer_._0/attention/self/value/bias:0', 'tf_bert_model_10/bert/encoder/layer_._0/attention/output/dense/kernel:0', 'tf_bert_model_10/bert/encoder/layer_._0/attention/output/dense/bias:0', 'tf_bert_model_10/bert/encoder/layer_._0/attention/output/LayerNorm/gamma:0', 'tf_bert_model_10/bert/encoder/layer_._0/attention/output/LayerNorm/beta:0', 'tf_bert_model_10/bert/encoder/layer_._0/intermediate/dense/kernel:0', 'tf_bert_model_10/bert/encoder/layer_._0/intermediate/dense/bias:0', 'tf_bert_model_10/bert/encoder/layer_._0/output/dense/kernel:0', 'tf_bert_model_10/bert/encoder/layer_._0/output/dense/bias:0', 'tf_bert_model_10/bert/encoder/layer_._0/output/LayerNorm/gamma:0', 'tf_bert_model_10/bert/encoder/layer_._0/output/LayerNorm/beta:0', 'tf_bert_model_10/bert/encoder/layer_._1/attention/self/query/kernel:0', 'tf_bert_model_10/bert/encoder/layer_._1/attention/self/query/bias:0', 'tf_bert_model_10/bert/encoder/layer_._1/attention/self/key/kernel:0', 'tf_bert_model_10/bert/encoder/layer_._1/attention/self/key/bias:0', 'tf_bert_model_10/bert/encoder/layer_._1/attention/self/value/kernel:0', 'tf_bert_model_10/bert/encoder/layer_._1/attention/self/value/bias:0', 'tf_bert_model_10/bert/encoder/layer_._1/attention/output/dense/kernel:0', 'tf_bert_model_10/bert/encoder/layer_._1/attention/output/dense/bias:0', 'tf_bert_model_10/bert/encoder/layer_._1/attention/output/LayerNorm/gamma:0', 'tf_bert_model_10/bert/encoder/layer_._1/attention/output/LayerNorm/beta:0', 'tf_bert_model_10/bert/encoder/layer_._1/intermediate/dense/kernel:0', 'tf_bert_model_10/bert/encoder/layer_._1/intermediate/dense/bias:0', 'tf_bert_model_10/bert/encoder/layer_._1/output/dense/kernel:0', 'tf_bert_model_10/bert/encoder/layer_._1/output/dense/bias:0', 'tf_bert_model_10/bert/encoder/layer_._1/output/LayerNorm/gamma:0', 'tf_bert_model_10/bert/encoder/layer_._1/output/LayerNorm/beta:0', 'tf_bert_model_10/bert/encoder/layer_._2/attention/self/query/kernel:0', 'tf_bert_model_10/bert/encoder/layer_._2/attention/self/query/bias:0', 'tf_bert_model_10/bert/encoder/layer_._2/attention/self/key/kernel:0', 'tf_bert_model_10/bert/encoder/layer_._2/attention/self/key/bias:0', 'tf_bert_model_10/bert/encoder/layer_._2/attention/self/value/kernel:0', 'tf_bert_model_10/bert/encoder/layer_._2/attention/self/value/bias:0', 'tf_bert_model_10/bert/encoder/layer_._2/attention/output/dense/kernel:0', 'tf_bert_model_10/bert/encoder/layer_._2/attention/output/dense/bias:0', 'tf_bert_model_10/bert/encoder/layer_._2/attention/output/LayerNorm/gamma:0', 'tf_bert_model_10/bert/encoder/layer_._2/attention/output/LayerNorm/beta:0', 'tf_bert_model_10/bert/encoder/layer_._2/intermediate/dense/kernel:0', 'tf_bert_model_10/bert/encoder/layer_._2/intermediate/dense/bias:0', 'tf_bert_model_10/bert/encoder/layer_._2/output/dense/kernel:0', 'tf_bert_model_10/bert/encoder/layer_._2/output/dense/bias:0', 'tf_bert_model_10/bert/encoder/layer_._2/output/LayerNorm/gamma:0', 'tf_bert_model_10/bert/encoder/layer_._2/output/LayerNorm/beta:0', 'tf_bert_model_10/bert/encoder/layer_._3/attention/self/query/kernel:0', 'tf_bert_model_10/bert/encoder/layer_._3/attention/self/query/bias:0', 'tf_bert_model_10/bert/encoder/layer_._3/attention/self/key/kernel:0', 'tf_bert_model_10/bert/encoder/layer_._3/attention/self/key/bias:0', 'tf_bert_model_10/bert/encoder/layer_._3/attention/self/value/kernel:0', 'tf_bert_model_10/bert/encoder/layer_._3/attention/self/value/bias:0', 'tf_bert_model_10/bert/encoder/layer_._3/attention/output/dense/kernel:0', 'tf_bert_model_10/bert/encoder/layer_._3/attention/output/dense/bias:0', 'tf_bert_model_10/bert/encoder/layer_._3/attention/output/LayerNorm/gamma:0', 'tf_bert_model_10/bert/encoder/layer_._3/attention/output/LayerNorm/beta:0', 'tf_bert_model_10/bert/encoder/layer_._3/intermediate/dense/kernel:0', 'tf_bert_model_10/bert/encoder/layer_._3/intermediate/dense/bias:0', 'tf_bert_model_10/bert/encoder/layer_._3/output/dense/kernel:0', 'tf_bert_model_10/bert/encoder/layer_._3/output/dense/bias:0', 'tf_bert_model_10/bert/encoder/layer_._3/output/LayerNorm/gamma:0', 'tf_bert_model_10/bert/encoder/layer_._3/output/LayerNorm/beta:0', 'tf_bert_model_10/bert/encoder/layer_._4/attention/self/query/kernel:0', 'tf_bert_model_10/bert/encoder/layer_._4/attention/self/query/bias:0', 'tf_bert_model_10/bert/encoder/layer_._4/attention/self/key/kernel:0', 'tf_bert_model_10/bert/encoder/layer_._4/attention/self/key/bias:0', 'tf_bert_model_10/bert/encoder/layer_._4/attention/self/value/kernel:0', 'tf_bert_model_10/bert/encoder/layer_._4/attention/self/value/bias:0', 'tf_bert_model_10/bert/encoder/layer_._4/attention/output/dense/kernel:0', 'tf_bert_model_10/bert/encoder/layer_._4/attention/output/dense/bias:0', 'tf_bert_model_10/bert/encoder/layer_._4/attention/output/LayerNorm/gamma:0', 'tf_bert_model_10/bert/encoder/layer_._4/attention/output/LayerNorm/beta:0', 'tf_bert_model_10/bert/encoder/layer_._4/intermediate/dense/kernel:0', 'tf_bert_model_10/bert/encoder/layer_._4/intermediate/dense/bias:0', 'tf_bert_model_10/bert/encoder/layer_._4/output/dense/kernel:0', 'tf_bert_model_10/bert/encoder/layer_._4/output/dense/bias:0', 'tf_bert_model_10/bert/encoder/layer_._4/output/LayerNorm/gamma:0', 'tf_bert_model_10/bert/encoder/layer_._4/output/LayerNorm/beta:0', 'tf_bert_model_10/bert/encoder/layer_._5/attention/self/query/kernel:0', 'tf_bert_model_10/bert/encoder/layer_._5/attention/self/query/bias:0', 'tf_bert_model_10/bert/encoder/layer_._5/attention/self/key/kernel:0', 'tf_bert_model_10/bert/encoder/layer_._5/attention/self/key/bias:0', 'tf_bert_model_10/bert/encoder/layer_._5/attention/self/value/kernel:0', 'tf_bert_model_10/bert/encoder/layer_._5/attention/self/value/bias:0', 'tf_bert_model_10/bert/encoder/layer_._5/attention/output/dense/kernel:0', 'tf_bert_model_10/bert/encoder/layer_._5/attention/output/dense/bias:0', 'tf_bert_model_10/bert/encoder/layer_._5/attention/output/LayerNorm/gamma:0', 'tf_bert_model_10/bert/encoder/layer_._5/attention/output/LayerNorm/beta:0', 'tf_bert_model_10/bert/encoder/layer_._5/intermediate/dense/kernel:0', 'tf_bert_model_10/bert/encoder/layer_._5/intermediate/dense/bias:0', 'tf_bert_model_10/bert/encoder/layer_._5/output/dense/kernel:0', 'tf_bert_model_10/bert/encoder/layer_._5/output/dense/bias:0', 'tf_bert_model_10/bert/encoder/layer_._5/output/LayerNorm/gamma:0', 'tf_bert_model_10/bert/encoder/layer_._5/output/LayerNorm/beta:0', 'tf_bert_model_10/bert/encoder/layer_._6/attention/self/query/kernel:0', 'tf_bert_model_10/bert/encoder/layer_._6/attention/self/query/bias:0', 'tf_bert_model_10/bert/encoder/layer_._6/attention/self/key/kernel:0', 'tf_bert_model_10/bert/encoder/layer_._6/attention/self/key/bias:0', 'tf_bert_model_10/bert/encoder/layer_._6/attention/self/value/kernel:0', 'tf_bert_model_10/bert/encoder/layer_._6/attention/self/value/bias:0', 'tf_bert_model_10/bert/encoder/layer_._6/attention/output/dense/kernel:0', 'tf_bert_model_10/bert/encoder/layer_._6/attention/output/dense/bias:0', 'tf_bert_model_10/bert/encoder/layer_._6/attention/output/LayerNorm/gamma:0', 'tf_bert_model_10/bert/encoder/layer_._6/attention/output/LayerNorm/beta:0', 'tf_bert_model_10/bert/encoder/layer_._6/intermediate/dense/kernel:0', 'tf_bert_model_10/bert/encoder/layer_._6/intermediate/dense/bias:0', 'tf_bert_model_10/bert/encoder/layer_._6/output/dense/kernel:0', 'tf_bert_model_10/bert/encoder/layer_._6/output/dense/bias:0', 'tf_bert_model_10/bert/encoder/layer_._6/output/LayerNorm/gamma:0', 'tf_bert_model_10/bert/encoder/layer_._6/output/LayerNorm/beta:0', 'tf_bert_model_10/bert/encoder/layer_._7/attention/self/query/kernel:0', 'tf_bert_model_10/bert/encoder/layer_._7/attention/self/query/bias:0', 'tf_bert_model_10/bert/encoder/layer_._7/attention/self/key/kernel:0', 'tf_bert_model_10/bert/encoder/layer_._7/attention/self/key/bias:0', 'tf_bert_model_10/bert/encoder/layer_._7/attention/self/value/kernel:0', 'tf_bert_model_10/bert/encoder/layer_._7/attention/self/value/bias:0', 'tf_bert_model_10/bert/encoder/layer_._7/attention/output/dense/kernel:0', 'tf_bert_model_10/bert/encoder/layer_._7/attention/output/dense/bias:0', 'tf_bert_model_10/bert/encoder/layer_._7/attention/output/LayerNorm/gamma:0', 'tf_bert_model_10/bert/encoder/layer_._7/attention/output/LayerNorm/beta:0', 'tf_bert_model_10/bert/encoder/layer_._7/intermediate/dense/kernel:0', 'tf_bert_model_10/bert/encoder/layer_._7/intermediate/dense/bias:0', 'tf_bert_model_10/bert/encoder/layer_._7/output/dense/kernel:0', 'tf_bert_model_10/bert/encoder/layer_._7/output/dense/bias:0', 'tf_bert_model_10/bert/encoder/layer_._7/output/LayerNorm/gamma:0', 'tf_bert_model_10/bert/encoder/layer_._7/output/LayerNorm/beta:0', 'tf_bert_model_10/bert/encoder/layer_._8/attention/self/query/kernel:0', 'tf_bert_model_10/bert/encoder/layer_._8/attention/self/query/bias:0', 'tf_bert_model_10/bert/encoder/layer_._8/attention/self/key/kernel:0', 'tf_bert_model_10/bert/encoder/layer_._8/attention/self/key/bias:0', 'tf_bert_model_10/bert/encoder/layer_._8/attention/self/value/kernel:0', 'tf_bert_model_10/bert/encoder/layer_._8/attention/self/value/bias:0', 'tf_bert_model_10/bert/encoder/layer_._8/attention/output/dense/kernel:0', 'tf_bert_model_10/bert/encoder/layer_._8/attention/output/dense/bias:0', 'tf_bert_model_10/bert/encoder/layer_._8/attention/output/LayerNorm/gamma:0', 'tf_bert_model_10/bert/encoder/layer_._8/attention/output/LayerNorm/beta:0', 'tf_bert_model_10/bert/encoder/layer_._8/intermediate/dense/kernel:0', 'tf_bert_model_10/bert/encoder/layer_._8/intermediate/dense/bias:0', 'tf_bert_model_10/bert/encoder/layer_._8/output/dense/kernel:0', 'tf_bert_model_10/bert/encoder/layer_._8/output/dense/bias:0', 'tf_bert_model_10/bert/encoder/layer_._8/output/LayerNorm/gamma:0', 'tf_bert_model_10/bert/encoder/layer_._8/output/LayerNorm/beta:0', 'tf_bert_model_10/bert/encoder/layer_._9/attention/self/query/kernel:0', 'tf_bert_model_10/bert/encoder/layer_._9/attention/self/query/bias:0', 'tf_bert_model_10/bert/encoder/layer_._9/attention/self/key/kernel:0', 'tf_bert_model_10/bert/encoder/layer_._9/attention/self/key/bias:0', 'tf_bert_model_10/bert/encoder/layer_._9/attention/self/value/kernel:0', 'tf_bert_model_10/bert/encoder/layer_._9/attention/self/value/bias:0', 'tf_bert_model_10/bert/encoder/layer_._9/attention/output/dense/kernel:0', 'tf_bert_model_10/bert/encoder/layer_._9/attention/output/dense/bias:0', 'tf_bert_model_10/bert/encoder/layer_._9/attention/output/LayerNorm/gamma:0', 'tf_bert_model_10/bert/encoder/layer_._9/attention/output/LayerNorm/beta:0', 'tf_bert_model_10/bert/encoder/layer_._9/intermediate/dense/kernel:0', 'tf_bert_model_10/bert/encoder/layer_._9/intermediate/dense/bias:0', 'tf_bert_model_10/bert/encoder/layer_._9/output/dense/kernel:0', 'tf_bert_model_10/bert/encoder/layer_._9/output/dense/bias:0', 'tf_bert_model_10/bert/encoder/layer_._9/output/LayerNorm/gamma:0', 'tf_bert_model_10/bert/encoder/layer_._9/output/LayerNorm/beta:0', 'tf_bert_model_10/bert/encoder/layer_._10/attention/self/query/kernel:0', 'tf_bert_model_10/bert/encoder/layer_._10/attention/self/query/bias:0', 'tf_bert_model_10/bert/encoder/layer_._10/attention/self/key/kernel:0', 'tf_bert_model_10/bert/encoder/layer_._10/attention/self/key/bias:0', 'tf_bert_model_10/bert/encoder/layer_._10/attention/self/value/kernel:0', 'tf_bert_model_10/bert/encoder/layer_._10/attention/self/value/bias:0', 'tf_bert_model_10/bert/encoder/layer_._10/attention/output/dense/kernel:0', 'tf_bert_model_10/bert/encoder/layer_._10/attention/output/dense/bias:0', 'tf_bert_model_10/bert/encoder/layer_._10/attention/output/LayerNorm/gamma:0', 'tf_bert_model_10/bert/encoder/layer_._10/attention/output/LayerNorm/beta:0', 'tf_bert_model_10/bert/encoder/layer_._10/intermediate/dense/kernel:0', 'tf_bert_model_10/bert/encoder/layer_._10/intermediate/dense/bias:0', 'tf_bert_model_10/bert/encoder/layer_._10/output/dense/kernel:0', 'tf_bert_model_10/bert/encoder/layer_._10/output/dense/bias:0', 'tf_bert_model_10/bert/encoder/layer_._10/output/LayerNorm/gamma:0', 'tf_bert_model_10/bert/encoder/layer_._10/output/LayerNorm/beta:0', 'tf_bert_model_10/bert/pooler/dense/kernel:0', 'tf_bert_model_10/bert/pooler/dense/bias:0'] when minimizing the loss. If you're using `model.compile()`, did you forget to provide a `loss`argument?\n",
            "489/489 [==============================] - 28s 43ms/step - loss: 0.1042 - accuracy: 0.9662 - val_loss: 0.0396 - val_accuracy: 0.9898\n",
            "Epoch 2/5\n",
            "489/489 [==============================] - 18s 37ms/step - loss: 0.0403 - accuracy: 0.9882 - val_loss: 0.0464 - val_accuracy: 0.9877\n",
            "Epoch 3/5\n",
            "489/489 [==============================] - 18s 38ms/step - loss: 0.0273 - accuracy: 0.9910 - val_loss: 0.0307 - val_accuracy: 0.9908\n",
            "Epoch 4/5\n",
            "489/489 [==============================] - 18s 37ms/step - loss: 0.0148 - accuracy: 0.9959 - val_loss: 0.0284 - val_accuracy: 0.9949\n",
            "Epoch 5/5\n",
            "489/489 [==============================] - 18s 37ms/step - loss: 0.0121 - accuracy: 0.9964 - val_loss: 0.0420 - val_accuracy: 0.9939\n",
            "BERT 5e + FCN, train: accuracy = 0.9990, precision = 1.0000, recall = 0.9951, f1 = 0.9975\n",
            "BERT 5e + FCN, validation: accuracy = 0.9939, precision = 1.0000, recall = 0.9704, f1 = 0.9850\n"
          ]
        },
        {
          "output_type": "stream",
          "name": "stderr",
          "text": [
            "Some layers from the model checkpoint at bert-base-cased were not used when initializing TFBertModel: ['nsp___cls', 'mlm___cls']\n",
            "- This IS expected if you are initializing TFBertModel from the checkpoint of a model trained on another task or with another architecture (e.g. initializing a BertForSequenceClassification model from a BertForPreTraining model).\n",
            "- This IS NOT expected if you are initializing TFBertModel from the checkpoint of a model that you expect to be exactly identical (initializing a BertForSequenceClassification model from a BertForSequenceClassification model).\n",
            "All the layers of TFBertModel were initialized from the model checkpoint at bert-base-cased.\n",
            "If your task is similar to the task the model of the checkpoint was trained on, you can already use TFBertModel for predictions without further training.\n"
          ]
        },
        {
          "output_type": "stream",
          "name": "stdout",
          "text": [
            "Epoch 1/5\n",
            "489/489 [==============================] - 46s 63ms/step - loss: 0.1020 - accuracy: 0.9678 - val_loss: 0.0863 - val_accuracy: 0.9765\n",
            "Epoch 2/5\n",
            "489/489 [==============================] - 28s 57ms/step - loss: 0.0537 - accuracy: 0.9880 - val_loss: 0.1279 - val_accuracy: 0.9734\n",
            "Epoch 3/5\n",
            "489/489 [==============================] - 28s 57ms/step - loss: 0.0803 - accuracy: 0.9813 - val_loss: 0.1575 - val_accuracy: 0.9498\n",
            "Epoch 4/5\n",
            "489/489 [==============================] - 28s 57ms/step - loss: 0.0594 - accuracy: 0.9852 - val_loss: 0.1080 - val_accuracy: 0.9826\n",
            "Epoch 5/5\n",
            "489/489 [==============================] - 28s 57ms/step - loss: 0.0237 - accuracy: 0.9944 - val_loss: 0.1093 - val_accuracy: 0.9826\n",
            "BERT 5e + FCN, train: accuracy = 0.9982, precision = 0.9988, recall = 0.9926, f1 = 0.9957\n",
            "BERT 5e + FCN, validation: accuracy = 0.9826, precision = 0.9749, recall = 0.9417, f1 = 0.9580\n"
          ]
        },
        {
          "output_type": "stream",
          "name": "stderr",
          "text": [
            "Some layers from the model checkpoint at bert-base-cased were not used when initializing TFBertModel: ['nsp___cls', 'mlm___cls']\n",
            "- This IS expected if you are initializing TFBertModel from the checkpoint of a model trained on another task or with another architecture (e.g. initializing a BertForSequenceClassification model from a BertForPreTraining model).\n",
            "- This IS NOT expected if you are initializing TFBertModel from the checkpoint of a model that you expect to be exactly identical (initializing a BertForSequenceClassification model from a BertForSequenceClassification model).\n",
            "All the layers of TFBertModel were initialized from the model checkpoint at bert-base-cased.\n",
            "If your task is similar to the task the model of the checkpoint was trained on, you can already use TFBertModel for predictions without further training.\n"
          ]
        },
        {
          "output_type": "stream",
          "name": "stdout",
          "text": [
            "Epoch 1/5\n",
            "WARNING:tensorflow:Gradients do not exist for variables ['tf_bert_model_12/bert/embeddings/word_embeddings/weight:0', 'tf_bert_model_12/bert/embeddings/token_type_embeddings/embeddings:0', 'tf_bert_model_12/bert/embeddings/position_embeddings/embeddings:0', 'tf_bert_model_12/bert/embeddings/LayerNorm/gamma:0', 'tf_bert_model_12/bert/embeddings/LayerNorm/beta:0', 'tf_bert_model_12/bert/encoder/layer_._0/attention/self/query/kernel:0', 'tf_bert_model_12/bert/encoder/layer_._0/attention/self/query/bias:0', 'tf_bert_model_12/bert/encoder/layer_._0/attention/self/key/kernel:0', 'tf_bert_model_12/bert/encoder/layer_._0/attention/self/key/bias:0', 'tf_bert_model_12/bert/encoder/layer_._0/attention/self/value/kernel:0', 'tf_bert_model_12/bert/encoder/layer_._0/attention/self/value/bias:0', 'tf_bert_model_12/bert/encoder/layer_._0/attention/output/dense/kernel:0', 'tf_bert_model_12/bert/encoder/layer_._0/attention/output/dense/bias:0', 'tf_bert_model_12/bert/encoder/layer_._0/attention/output/LayerNorm/gamma:0', 'tf_bert_model_12/bert/encoder/layer_._0/attention/output/LayerNorm/beta:0', 'tf_bert_model_12/bert/encoder/layer_._0/intermediate/dense/kernel:0', 'tf_bert_model_12/bert/encoder/layer_._0/intermediate/dense/bias:0', 'tf_bert_model_12/bert/encoder/layer_._0/output/dense/kernel:0', 'tf_bert_model_12/bert/encoder/layer_._0/output/dense/bias:0', 'tf_bert_model_12/bert/encoder/layer_._0/output/LayerNorm/gamma:0', 'tf_bert_model_12/bert/encoder/layer_._0/output/LayerNorm/beta:0', 'tf_bert_model_12/bert/encoder/layer_._1/attention/self/query/kernel:0', 'tf_bert_model_12/bert/encoder/layer_._1/attention/self/query/bias:0', 'tf_bert_model_12/bert/encoder/layer_._1/attention/self/key/kernel:0', 'tf_bert_model_12/bert/encoder/layer_._1/attention/self/key/bias:0', 'tf_bert_model_12/bert/encoder/layer_._1/attention/self/value/kernel:0', 'tf_bert_model_12/bert/encoder/layer_._1/attention/self/value/bias:0', 'tf_bert_model_12/bert/encoder/layer_._1/attention/output/dense/kernel:0', 'tf_bert_model_12/bert/encoder/layer_._1/attention/output/dense/bias:0', 'tf_bert_model_12/bert/encoder/layer_._1/attention/output/LayerNorm/gamma:0', 'tf_bert_model_12/bert/encoder/layer_._1/attention/output/LayerNorm/beta:0', 'tf_bert_model_12/bert/encoder/layer_._1/intermediate/dense/kernel:0', 'tf_bert_model_12/bert/encoder/layer_._1/intermediate/dense/bias:0', 'tf_bert_model_12/bert/encoder/layer_._1/output/dense/kernel:0', 'tf_bert_model_12/bert/encoder/layer_._1/output/dense/bias:0', 'tf_bert_model_12/bert/encoder/layer_._1/output/LayerNorm/gamma:0', 'tf_bert_model_12/bert/encoder/layer_._1/output/LayerNorm/beta:0', 'tf_bert_model_12/bert/encoder/layer_._2/attention/self/query/kernel:0', 'tf_bert_model_12/bert/encoder/layer_._2/attention/self/query/bias:0', 'tf_bert_model_12/bert/encoder/layer_._2/attention/self/key/kernel:0', 'tf_bert_model_12/bert/encoder/layer_._2/attention/self/key/bias:0', 'tf_bert_model_12/bert/encoder/layer_._2/attention/self/value/kernel:0', 'tf_bert_model_12/bert/encoder/layer_._2/attention/self/value/bias:0', 'tf_bert_model_12/bert/encoder/layer_._2/attention/output/dense/kernel:0', 'tf_bert_model_12/bert/encoder/layer_._2/attention/output/dense/bias:0', 'tf_bert_model_12/bert/encoder/layer_._2/attention/output/LayerNorm/gamma:0', 'tf_bert_model_12/bert/encoder/layer_._2/attention/output/LayerNorm/beta:0', 'tf_bert_model_12/bert/encoder/layer_._2/intermediate/dense/kernel:0', 'tf_bert_model_12/bert/encoder/layer_._2/intermediate/dense/bias:0', 'tf_bert_model_12/bert/encoder/layer_._2/output/dense/kernel:0', 'tf_bert_model_12/bert/encoder/layer_._2/output/dense/bias:0', 'tf_bert_model_12/bert/encoder/layer_._2/output/LayerNorm/gamma:0', 'tf_bert_model_12/bert/encoder/layer_._2/output/LayerNorm/beta:0', 'tf_bert_model_12/bert/encoder/layer_._3/attention/self/query/kernel:0', 'tf_bert_model_12/bert/encoder/layer_._3/attention/self/query/bias:0', 'tf_bert_model_12/bert/encoder/layer_._3/attention/self/key/kernel:0', 'tf_bert_model_12/bert/encoder/layer_._3/attention/self/key/bias:0', 'tf_bert_model_12/bert/encoder/layer_._3/attention/self/value/kernel:0', 'tf_bert_model_12/bert/encoder/layer_._3/attention/self/value/bias:0', 'tf_bert_model_12/bert/encoder/layer_._3/attention/output/dense/kernel:0', 'tf_bert_model_12/bert/encoder/layer_._3/attention/output/dense/bias:0', 'tf_bert_model_12/bert/encoder/layer_._3/attention/output/LayerNorm/gamma:0', 'tf_bert_model_12/bert/encoder/layer_._3/attention/output/LayerNorm/beta:0', 'tf_bert_model_12/bert/encoder/layer_._3/intermediate/dense/kernel:0', 'tf_bert_model_12/bert/encoder/layer_._3/intermediate/dense/bias:0', 'tf_bert_model_12/bert/encoder/layer_._3/output/dense/kernel:0', 'tf_bert_model_12/bert/encoder/layer_._3/output/dense/bias:0', 'tf_bert_model_12/bert/encoder/layer_._3/output/LayerNorm/gamma:0', 'tf_bert_model_12/bert/encoder/layer_._3/output/LayerNorm/beta:0', 'tf_bert_model_12/bert/encoder/layer_._4/attention/self/query/kernel:0', 'tf_bert_model_12/bert/encoder/layer_._4/attention/self/query/bias:0', 'tf_bert_model_12/bert/encoder/layer_._4/attention/self/key/kernel:0', 'tf_bert_model_12/bert/encoder/layer_._4/attention/self/key/bias:0', 'tf_bert_model_12/bert/encoder/layer_._4/attention/self/value/kernel:0', 'tf_bert_model_12/bert/encoder/layer_._4/attention/self/value/bias:0', 'tf_bert_model_12/bert/encoder/layer_._4/attention/output/dense/kernel:0', 'tf_bert_model_12/bert/encoder/layer_._4/attention/output/dense/bias:0', 'tf_bert_model_12/bert/encoder/layer_._4/attention/output/LayerNorm/gamma:0', 'tf_bert_model_12/bert/encoder/layer_._4/attention/output/LayerNorm/beta:0', 'tf_bert_model_12/bert/encoder/layer_._4/intermediate/dense/kernel:0', 'tf_bert_model_12/bert/encoder/layer_._4/intermediate/dense/bias:0', 'tf_bert_model_12/bert/encoder/layer_._4/output/dense/kernel:0', 'tf_bert_model_12/bert/encoder/layer_._4/output/dense/bias:0', 'tf_bert_model_12/bert/encoder/layer_._4/output/LayerNorm/gamma:0', 'tf_bert_model_12/bert/encoder/layer_._4/output/LayerNorm/beta:0', 'tf_bert_model_12/bert/encoder/layer_._5/attention/self/query/kernel:0', 'tf_bert_model_12/bert/encoder/layer_._5/attention/self/query/bias:0', 'tf_bert_model_12/bert/encoder/layer_._5/attention/self/key/kernel:0', 'tf_bert_model_12/bert/encoder/layer_._5/attention/self/key/bias:0', 'tf_bert_model_12/bert/encoder/layer_._5/attention/self/value/kernel:0', 'tf_bert_model_12/bert/encoder/layer_._5/attention/self/value/bias:0', 'tf_bert_model_12/bert/encoder/layer_._5/attention/output/dense/kernel:0', 'tf_bert_model_12/bert/encoder/layer_._5/attention/output/dense/bias:0', 'tf_bert_model_12/bert/encoder/layer_._5/attention/output/LayerNorm/gamma:0', 'tf_bert_model_12/bert/encoder/layer_._5/attention/output/LayerNorm/beta:0', 'tf_bert_model_12/bert/encoder/layer_._5/intermediate/dense/kernel:0', 'tf_bert_model_12/bert/encoder/layer_._5/intermediate/dense/bias:0', 'tf_bert_model_12/bert/encoder/layer_._5/output/dense/kernel:0', 'tf_bert_model_12/bert/encoder/layer_._5/output/dense/bias:0', 'tf_bert_model_12/bert/encoder/layer_._5/output/LayerNorm/gamma:0', 'tf_bert_model_12/bert/encoder/layer_._5/output/LayerNorm/beta:0', 'tf_bert_model_12/bert/encoder/layer_._6/attention/self/query/kernel:0', 'tf_bert_model_12/bert/encoder/layer_._6/attention/self/query/bias:0', 'tf_bert_model_12/bert/encoder/layer_._6/attention/self/key/kernel:0', 'tf_bert_model_12/bert/encoder/layer_._6/attention/self/key/bias:0', 'tf_bert_model_12/bert/encoder/layer_._6/attention/self/value/kernel:0', 'tf_bert_model_12/bert/encoder/layer_._6/attention/self/value/bias:0', 'tf_bert_model_12/bert/encoder/layer_._6/attention/output/dense/kernel:0', 'tf_bert_model_12/bert/encoder/layer_._6/attention/output/dense/bias:0', 'tf_bert_model_12/bert/encoder/layer_._6/attention/output/LayerNorm/gamma:0', 'tf_bert_model_12/bert/encoder/layer_._6/attention/output/LayerNorm/beta:0', 'tf_bert_model_12/bert/encoder/layer_._6/intermediate/dense/kernel:0', 'tf_bert_model_12/bert/encoder/layer_._6/intermediate/dense/bias:0', 'tf_bert_model_12/bert/encoder/layer_._6/output/dense/kernel:0', 'tf_bert_model_12/bert/encoder/layer_._6/output/dense/bias:0', 'tf_bert_model_12/bert/encoder/layer_._6/output/LayerNorm/gamma:0', 'tf_bert_model_12/bert/encoder/layer_._6/output/LayerNorm/beta:0', 'tf_bert_model_12/bert/encoder/layer_._7/attention/self/query/kernel:0', 'tf_bert_model_12/bert/encoder/layer_._7/attention/self/query/bias:0', 'tf_bert_model_12/bert/encoder/layer_._7/attention/self/key/kernel:0', 'tf_bert_model_12/bert/encoder/layer_._7/attention/self/key/bias:0', 'tf_bert_model_12/bert/encoder/layer_._7/attention/self/value/kernel:0', 'tf_bert_model_12/bert/encoder/layer_._7/attention/self/value/bias:0', 'tf_bert_model_12/bert/encoder/layer_._7/attention/output/dense/kernel:0', 'tf_bert_model_12/bert/encoder/layer_._7/attention/output/dense/bias:0', 'tf_bert_model_12/bert/encoder/layer_._7/attention/output/LayerNorm/gamma:0', 'tf_bert_model_12/bert/encoder/layer_._7/attention/output/LayerNorm/beta:0', 'tf_bert_model_12/bert/encoder/layer_._7/intermediate/dense/kernel:0', 'tf_bert_model_12/bert/encoder/layer_._7/intermediate/dense/bias:0', 'tf_bert_model_12/bert/encoder/layer_._7/output/dense/kernel:0', 'tf_bert_model_12/bert/encoder/layer_._7/output/dense/bias:0', 'tf_bert_model_12/bert/encoder/layer_._7/output/LayerNorm/gamma:0', 'tf_bert_model_12/bert/encoder/layer_._7/output/LayerNorm/beta:0', 'tf_bert_model_12/bert/encoder/layer_._8/attention/self/query/kernel:0', 'tf_bert_model_12/bert/encoder/layer_._8/attention/self/query/bias:0', 'tf_bert_model_12/bert/encoder/layer_._8/attention/self/key/kernel:0', 'tf_bert_model_12/bert/encoder/layer_._8/attention/self/key/bias:0', 'tf_bert_model_12/bert/encoder/layer_._8/attention/self/value/kernel:0', 'tf_bert_model_12/bert/encoder/layer_._8/attention/self/value/bias:0', 'tf_bert_model_12/bert/encoder/layer_._8/attention/output/dense/kernel:0', 'tf_bert_model_12/bert/encoder/layer_._8/attention/output/dense/bias:0', 'tf_bert_model_12/bert/encoder/layer_._8/attention/output/LayerNorm/gamma:0', 'tf_bert_model_12/bert/encoder/layer_._8/attention/output/LayerNorm/beta:0', 'tf_bert_model_12/bert/encoder/layer_._8/intermediate/dense/kernel:0', 'tf_bert_model_12/bert/encoder/layer_._8/intermediate/dense/bias:0', 'tf_bert_model_12/bert/encoder/layer_._8/output/dense/kernel:0', 'tf_bert_model_12/bert/encoder/layer_._8/output/dense/bias:0', 'tf_bert_model_12/bert/encoder/layer_._8/output/LayerNorm/gamma:0', 'tf_bert_model_12/bert/encoder/layer_._8/output/LayerNorm/beta:0', 'tf_bert_model_12/bert/encoder/layer_._9/attention/self/query/kernel:0', 'tf_bert_model_12/bert/encoder/layer_._9/attention/self/query/bias:0', 'tf_bert_model_12/bert/encoder/layer_._9/attention/self/key/kernel:0', 'tf_bert_model_12/bert/encoder/layer_._9/attention/self/key/bias:0', 'tf_bert_model_12/bert/encoder/layer_._9/attention/self/value/kernel:0', 'tf_bert_model_12/bert/encoder/layer_._9/attention/self/value/bias:0', 'tf_bert_model_12/bert/encoder/layer_._9/attention/output/dense/kernel:0', 'tf_bert_model_12/bert/encoder/layer_._9/attention/output/dense/bias:0', 'tf_bert_model_12/bert/encoder/layer_._9/attention/output/LayerNorm/gamma:0', 'tf_bert_model_12/bert/encoder/layer_._9/attention/output/LayerNorm/beta:0', 'tf_bert_model_12/bert/encoder/layer_._9/intermediate/dense/kernel:0', 'tf_bert_model_12/bert/encoder/layer_._9/intermediate/dense/bias:0', 'tf_bert_model_12/bert/encoder/layer_._9/output/dense/kernel:0', 'tf_bert_model_12/bert/encoder/layer_._9/output/dense/bias:0', 'tf_bert_model_12/bert/encoder/layer_._9/output/LayerNorm/gamma:0', 'tf_bert_model_12/bert/encoder/layer_._9/output/LayerNorm/beta:0', 'tf_bert_model_12/bert/encoder/layer_._10/attention/self/query/kernel:0', 'tf_bert_model_12/bert/encoder/layer_._10/attention/self/query/bias:0', 'tf_bert_model_12/bert/encoder/layer_._10/attention/self/key/kernel:0', 'tf_bert_model_12/bert/encoder/layer_._10/attention/self/key/bias:0', 'tf_bert_model_12/bert/encoder/layer_._10/attention/self/value/kernel:0', 'tf_bert_model_12/bert/encoder/layer_._10/attention/self/value/bias:0', 'tf_bert_model_12/bert/encoder/layer_._10/attention/output/dense/kernel:0', 'tf_bert_model_12/bert/encoder/layer_._10/attention/output/dense/bias:0', 'tf_bert_model_12/bert/encoder/layer_._10/attention/output/LayerNorm/gamma:0', 'tf_bert_model_12/bert/encoder/layer_._10/attention/output/LayerNorm/beta:0', 'tf_bert_model_12/bert/encoder/layer_._10/intermediate/dense/kernel:0', 'tf_bert_model_12/bert/encoder/layer_._10/intermediate/dense/bias:0', 'tf_bert_model_12/bert/encoder/layer_._10/output/dense/kernel:0', 'tf_bert_model_12/bert/encoder/layer_._10/output/dense/bias:0', 'tf_bert_model_12/bert/encoder/layer_._10/output/LayerNorm/gamma:0', 'tf_bert_model_12/bert/encoder/layer_._10/output/LayerNorm/beta:0', 'tf_bert_model_12/bert/pooler/dense/kernel:0', 'tf_bert_model_12/bert/pooler/dense/bias:0'] when minimizing the loss. If you're using `model.compile()`, did you forget to provide a `loss`argument?\n",
            "WARNING:tensorflow:Gradients do not exist for variables ['tf_bert_model_12/bert/embeddings/word_embeddings/weight:0', 'tf_bert_model_12/bert/embeddings/token_type_embeddings/embeddings:0', 'tf_bert_model_12/bert/embeddings/position_embeddings/embeddings:0', 'tf_bert_model_12/bert/embeddings/LayerNorm/gamma:0', 'tf_bert_model_12/bert/embeddings/LayerNorm/beta:0', 'tf_bert_model_12/bert/encoder/layer_._0/attention/self/query/kernel:0', 'tf_bert_model_12/bert/encoder/layer_._0/attention/self/query/bias:0', 'tf_bert_model_12/bert/encoder/layer_._0/attention/self/key/kernel:0', 'tf_bert_model_12/bert/encoder/layer_._0/attention/self/key/bias:0', 'tf_bert_model_12/bert/encoder/layer_._0/attention/self/value/kernel:0', 'tf_bert_model_12/bert/encoder/layer_._0/attention/self/value/bias:0', 'tf_bert_model_12/bert/encoder/layer_._0/attention/output/dense/kernel:0', 'tf_bert_model_12/bert/encoder/layer_._0/attention/output/dense/bias:0', 'tf_bert_model_12/bert/encoder/layer_._0/attention/output/LayerNorm/gamma:0', 'tf_bert_model_12/bert/encoder/layer_._0/attention/output/LayerNorm/beta:0', 'tf_bert_model_12/bert/encoder/layer_._0/intermediate/dense/kernel:0', 'tf_bert_model_12/bert/encoder/layer_._0/intermediate/dense/bias:0', 'tf_bert_model_12/bert/encoder/layer_._0/output/dense/kernel:0', 'tf_bert_model_12/bert/encoder/layer_._0/output/dense/bias:0', 'tf_bert_model_12/bert/encoder/layer_._0/output/LayerNorm/gamma:0', 'tf_bert_model_12/bert/encoder/layer_._0/output/LayerNorm/beta:0', 'tf_bert_model_12/bert/encoder/layer_._1/attention/self/query/kernel:0', 'tf_bert_model_12/bert/encoder/layer_._1/attention/self/query/bias:0', 'tf_bert_model_12/bert/encoder/layer_._1/attention/self/key/kernel:0', 'tf_bert_model_12/bert/encoder/layer_._1/attention/self/key/bias:0', 'tf_bert_model_12/bert/encoder/layer_._1/attention/self/value/kernel:0', 'tf_bert_model_12/bert/encoder/layer_._1/attention/self/value/bias:0', 'tf_bert_model_12/bert/encoder/layer_._1/attention/output/dense/kernel:0', 'tf_bert_model_12/bert/encoder/layer_._1/attention/output/dense/bias:0', 'tf_bert_model_12/bert/encoder/layer_._1/attention/output/LayerNorm/gamma:0', 'tf_bert_model_12/bert/encoder/layer_._1/attention/output/LayerNorm/beta:0', 'tf_bert_model_12/bert/encoder/layer_._1/intermediate/dense/kernel:0', 'tf_bert_model_12/bert/encoder/layer_._1/intermediate/dense/bias:0', 'tf_bert_model_12/bert/encoder/layer_._1/output/dense/kernel:0', 'tf_bert_model_12/bert/encoder/layer_._1/output/dense/bias:0', 'tf_bert_model_12/bert/encoder/layer_._1/output/LayerNorm/gamma:0', 'tf_bert_model_12/bert/encoder/layer_._1/output/LayerNorm/beta:0', 'tf_bert_model_12/bert/encoder/layer_._2/attention/self/query/kernel:0', 'tf_bert_model_12/bert/encoder/layer_._2/attention/self/query/bias:0', 'tf_bert_model_12/bert/encoder/layer_._2/attention/self/key/kernel:0', 'tf_bert_model_12/bert/encoder/layer_._2/attention/self/key/bias:0', 'tf_bert_model_12/bert/encoder/layer_._2/attention/self/value/kernel:0', 'tf_bert_model_12/bert/encoder/layer_._2/attention/self/value/bias:0', 'tf_bert_model_12/bert/encoder/layer_._2/attention/output/dense/kernel:0', 'tf_bert_model_12/bert/encoder/layer_._2/attention/output/dense/bias:0', 'tf_bert_model_12/bert/encoder/layer_._2/attention/output/LayerNorm/gamma:0', 'tf_bert_model_12/bert/encoder/layer_._2/attention/output/LayerNorm/beta:0', 'tf_bert_model_12/bert/encoder/layer_._2/intermediate/dense/kernel:0', 'tf_bert_model_12/bert/encoder/layer_._2/intermediate/dense/bias:0', 'tf_bert_model_12/bert/encoder/layer_._2/output/dense/kernel:0', 'tf_bert_model_12/bert/encoder/layer_._2/output/dense/bias:0', 'tf_bert_model_12/bert/encoder/layer_._2/output/LayerNorm/gamma:0', 'tf_bert_model_12/bert/encoder/layer_._2/output/LayerNorm/beta:0', 'tf_bert_model_12/bert/encoder/layer_._3/attention/self/query/kernel:0', 'tf_bert_model_12/bert/encoder/layer_._3/attention/self/query/bias:0', 'tf_bert_model_12/bert/encoder/layer_._3/attention/self/key/kernel:0', 'tf_bert_model_12/bert/encoder/layer_._3/attention/self/key/bias:0', 'tf_bert_model_12/bert/encoder/layer_._3/attention/self/value/kernel:0', 'tf_bert_model_12/bert/encoder/layer_._3/attention/self/value/bias:0', 'tf_bert_model_12/bert/encoder/layer_._3/attention/output/dense/kernel:0', 'tf_bert_model_12/bert/encoder/layer_._3/attention/output/dense/bias:0', 'tf_bert_model_12/bert/encoder/layer_._3/attention/output/LayerNorm/gamma:0', 'tf_bert_model_12/bert/encoder/layer_._3/attention/output/LayerNorm/beta:0', 'tf_bert_model_12/bert/encoder/layer_._3/intermediate/dense/kernel:0', 'tf_bert_model_12/bert/encoder/layer_._3/intermediate/dense/bias:0', 'tf_bert_model_12/bert/encoder/layer_._3/output/dense/kernel:0', 'tf_bert_model_12/bert/encoder/layer_._3/output/dense/bias:0', 'tf_bert_model_12/bert/encoder/layer_._3/output/LayerNorm/gamma:0', 'tf_bert_model_12/bert/encoder/layer_._3/output/LayerNorm/beta:0', 'tf_bert_model_12/bert/encoder/layer_._4/attention/self/query/kernel:0', 'tf_bert_model_12/bert/encoder/layer_._4/attention/self/query/bias:0', 'tf_bert_model_12/bert/encoder/layer_._4/attention/self/key/kernel:0', 'tf_bert_model_12/bert/encoder/layer_._4/attention/self/key/bias:0', 'tf_bert_model_12/bert/encoder/layer_._4/attention/self/value/kernel:0', 'tf_bert_model_12/bert/encoder/layer_._4/attention/self/value/bias:0', 'tf_bert_model_12/bert/encoder/layer_._4/attention/output/dense/kernel:0', 'tf_bert_model_12/bert/encoder/layer_._4/attention/output/dense/bias:0', 'tf_bert_model_12/bert/encoder/layer_._4/attention/output/LayerNorm/gamma:0', 'tf_bert_model_12/bert/encoder/layer_._4/attention/output/LayerNorm/beta:0', 'tf_bert_model_12/bert/encoder/layer_._4/intermediate/dense/kernel:0', 'tf_bert_model_12/bert/encoder/layer_._4/intermediate/dense/bias:0', 'tf_bert_model_12/bert/encoder/layer_._4/output/dense/kernel:0', 'tf_bert_model_12/bert/encoder/layer_._4/output/dense/bias:0', 'tf_bert_model_12/bert/encoder/layer_._4/output/LayerNorm/gamma:0', 'tf_bert_model_12/bert/encoder/layer_._4/output/LayerNorm/beta:0', 'tf_bert_model_12/bert/encoder/layer_._5/attention/self/query/kernel:0', 'tf_bert_model_12/bert/encoder/layer_._5/attention/self/query/bias:0', 'tf_bert_model_12/bert/encoder/layer_._5/attention/self/key/kernel:0', 'tf_bert_model_12/bert/encoder/layer_._5/attention/self/key/bias:0', 'tf_bert_model_12/bert/encoder/layer_._5/attention/self/value/kernel:0', 'tf_bert_model_12/bert/encoder/layer_._5/attention/self/value/bias:0', 'tf_bert_model_12/bert/encoder/layer_._5/attention/output/dense/kernel:0', 'tf_bert_model_12/bert/encoder/layer_._5/attention/output/dense/bias:0', 'tf_bert_model_12/bert/encoder/layer_._5/attention/output/LayerNorm/gamma:0', 'tf_bert_model_12/bert/encoder/layer_._5/attention/output/LayerNorm/beta:0', 'tf_bert_model_12/bert/encoder/layer_._5/intermediate/dense/kernel:0', 'tf_bert_model_12/bert/encoder/layer_._5/intermediate/dense/bias:0', 'tf_bert_model_12/bert/encoder/layer_._5/output/dense/kernel:0', 'tf_bert_model_12/bert/encoder/layer_._5/output/dense/bias:0', 'tf_bert_model_12/bert/encoder/layer_._5/output/LayerNorm/gamma:0', 'tf_bert_model_12/bert/encoder/layer_._5/output/LayerNorm/beta:0', 'tf_bert_model_12/bert/encoder/layer_._6/attention/self/query/kernel:0', 'tf_bert_model_12/bert/encoder/layer_._6/attention/self/query/bias:0', 'tf_bert_model_12/bert/encoder/layer_._6/attention/self/key/kernel:0', 'tf_bert_model_12/bert/encoder/layer_._6/attention/self/key/bias:0', 'tf_bert_model_12/bert/encoder/layer_._6/attention/self/value/kernel:0', 'tf_bert_model_12/bert/encoder/layer_._6/attention/self/value/bias:0', 'tf_bert_model_12/bert/encoder/layer_._6/attention/output/dense/kernel:0', 'tf_bert_model_12/bert/encoder/layer_._6/attention/output/dense/bias:0', 'tf_bert_model_12/bert/encoder/layer_._6/attention/output/LayerNorm/gamma:0', 'tf_bert_model_12/bert/encoder/layer_._6/attention/output/LayerNorm/beta:0', 'tf_bert_model_12/bert/encoder/layer_._6/intermediate/dense/kernel:0', 'tf_bert_model_12/bert/encoder/layer_._6/intermediate/dense/bias:0', 'tf_bert_model_12/bert/encoder/layer_._6/output/dense/kernel:0', 'tf_bert_model_12/bert/encoder/layer_._6/output/dense/bias:0', 'tf_bert_model_12/bert/encoder/layer_._6/output/LayerNorm/gamma:0', 'tf_bert_model_12/bert/encoder/layer_._6/output/LayerNorm/beta:0', 'tf_bert_model_12/bert/encoder/layer_._7/attention/self/query/kernel:0', 'tf_bert_model_12/bert/encoder/layer_._7/attention/self/query/bias:0', 'tf_bert_model_12/bert/encoder/layer_._7/attention/self/key/kernel:0', 'tf_bert_model_12/bert/encoder/layer_._7/attention/self/key/bias:0', 'tf_bert_model_12/bert/encoder/layer_._7/attention/self/value/kernel:0', 'tf_bert_model_12/bert/encoder/layer_._7/attention/self/value/bias:0', 'tf_bert_model_12/bert/encoder/layer_._7/attention/output/dense/kernel:0', 'tf_bert_model_12/bert/encoder/layer_._7/attention/output/dense/bias:0', 'tf_bert_model_12/bert/encoder/layer_._7/attention/output/LayerNorm/gamma:0', 'tf_bert_model_12/bert/encoder/layer_._7/attention/output/LayerNorm/beta:0', 'tf_bert_model_12/bert/encoder/layer_._7/intermediate/dense/kernel:0', 'tf_bert_model_12/bert/encoder/layer_._7/intermediate/dense/bias:0', 'tf_bert_model_12/bert/encoder/layer_._7/output/dense/kernel:0', 'tf_bert_model_12/bert/encoder/layer_._7/output/dense/bias:0', 'tf_bert_model_12/bert/encoder/layer_._7/output/LayerNorm/gamma:0', 'tf_bert_model_12/bert/encoder/layer_._7/output/LayerNorm/beta:0', 'tf_bert_model_12/bert/encoder/layer_._8/attention/self/query/kernel:0', 'tf_bert_model_12/bert/encoder/layer_._8/attention/self/query/bias:0', 'tf_bert_model_12/bert/encoder/layer_._8/attention/self/key/kernel:0', 'tf_bert_model_12/bert/encoder/layer_._8/attention/self/key/bias:0', 'tf_bert_model_12/bert/encoder/layer_._8/attention/self/value/kernel:0', 'tf_bert_model_12/bert/encoder/layer_._8/attention/self/value/bias:0', 'tf_bert_model_12/bert/encoder/layer_._8/attention/output/dense/kernel:0', 'tf_bert_model_12/bert/encoder/layer_._8/attention/output/dense/bias:0', 'tf_bert_model_12/bert/encoder/layer_._8/attention/output/LayerNorm/gamma:0', 'tf_bert_model_12/bert/encoder/layer_._8/attention/output/LayerNorm/beta:0', 'tf_bert_model_12/bert/encoder/layer_._8/intermediate/dense/kernel:0', 'tf_bert_model_12/bert/encoder/layer_._8/intermediate/dense/bias:0', 'tf_bert_model_12/bert/encoder/layer_._8/output/dense/kernel:0', 'tf_bert_model_12/bert/encoder/layer_._8/output/dense/bias:0', 'tf_bert_model_12/bert/encoder/layer_._8/output/LayerNorm/gamma:0', 'tf_bert_model_12/bert/encoder/layer_._8/output/LayerNorm/beta:0', 'tf_bert_model_12/bert/encoder/layer_._9/attention/self/query/kernel:0', 'tf_bert_model_12/bert/encoder/layer_._9/attention/self/query/bias:0', 'tf_bert_model_12/bert/encoder/layer_._9/attention/self/key/kernel:0', 'tf_bert_model_12/bert/encoder/layer_._9/attention/self/key/bias:0', 'tf_bert_model_12/bert/encoder/layer_._9/attention/self/value/kernel:0', 'tf_bert_model_12/bert/encoder/layer_._9/attention/self/value/bias:0', 'tf_bert_model_12/bert/encoder/layer_._9/attention/output/dense/kernel:0', 'tf_bert_model_12/bert/encoder/layer_._9/attention/output/dense/bias:0', 'tf_bert_model_12/bert/encoder/layer_._9/attention/output/LayerNorm/gamma:0', 'tf_bert_model_12/bert/encoder/layer_._9/attention/output/LayerNorm/beta:0', 'tf_bert_model_12/bert/encoder/layer_._9/intermediate/dense/kernel:0', 'tf_bert_model_12/bert/encoder/layer_._9/intermediate/dense/bias:0', 'tf_bert_model_12/bert/encoder/layer_._9/output/dense/kernel:0', 'tf_bert_model_12/bert/encoder/layer_._9/output/dense/bias:0', 'tf_bert_model_12/bert/encoder/layer_._9/output/LayerNorm/gamma:0', 'tf_bert_model_12/bert/encoder/layer_._9/output/LayerNorm/beta:0', 'tf_bert_model_12/bert/encoder/layer_._10/attention/self/query/kernel:0', 'tf_bert_model_12/bert/encoder/layer_._10/attention/self/query/bias:0', 'tf_bert_model_12/bert/encoder/layer_._10/attention/self/key/kernel:0', 'tf_bert_model_12/bert/encoder/layer_._10/attention/self/key/bias:0', 'tf_bert_model_12/bert/encoder/layer_._10/attention/self/value/kernel:0', 'tf_bert_model_12/bert/encoder/layer_._10/attention/self/value/bias:0', 'tf_bert_model_12/bert/encoder/layer_._10/attention/output/dense/kernel:0', 'tf_bert_model_12/bert/encoder/layer_._10/attention/output/dense/bias:0', 'tf_bert_model_12/bert/encoder/layer_._10/attention/output/LayerNorm/gamma:0', 'tf_bert_model_12/bert/encoder/layer_._10/attention/output/LayerNorm/beta:0', 'tf_bert_model_12/bert/encoder/layer_._10/intermediate/dense/kernel:0', 'tf_bert_model_12/bert/encoder/layer_._10/intermediate/dense/bias:0', 'tf_bert_model_12/bert/encoder/layer_._10/output/dense/kernel:0', 'tf_bert_model_12/bert/encoder/layer_._10/output/dense/bias:0', 'tf_bert_model_12/bert/encoder/layer_._10/output/LayerNorm/gamma:0', 'tf_bert_model_12/bert/encoder/layer_._10/output/LayerNorm/beta:0', 'tf_bert_model_12/bert/pooler/dense/kernel:0', 'tf_bert_model_12/bert/pooler/dense/bias:0'] when minimizing the loss. If you're using `model.compile()`, did you forget to provide a `loss`argument?\n",
            "489/489 [==============================] - 28s 43ms/step - loss: 0.1019 - accuracy: 0.9632 - val_loss: 0.0376 - val_accuracy: 0.9877\n",
            "Epoch 2/5\n",
            "489/489 [==============================] - 18s 37ms/step - loss: 0.0371 - accuracy: 0.9890 - val_loss: 0.0487 - val_accuracy: 0.9857\n",
            "Epoch 3/5\n",
            "489/489 [==============================] - 18s 37ms/step - loss: 0.0245 - accuracy: 0.9918 - val_loss: 0.0218 - val_accuracy: 0.9918\n",
            "Epoch 4/5\n",
            "489/489 [==============================] - 19s 38ms/step - loss: 0.0203 - accuracy: 0.9939 - val_loss: 0.0269 - val_accuracy: 0.9887\n",
            "Epoch 5/5\n",
            "489/489 [==============================] - 18s 37ms/step - loss: 0.0107 - accuracy: 0.9974 - val_loss: 0.0348 - val_accuracy: 0.9887\n",
            "BERT 5e + FCN, train: accuracy = 0.9985, precision = 1.0000, recall = 0.9925, f1 = 0.9962\n",
            "BERT 5e + FCN, validation: accuracy = 0.9887, precision = 0.9903, recall = 0.9579, f1 = 0.9739\n"
          ]
        },
        {
          "output_type": "stream",
          "name": "stderr",
          "text": [
            "Some layers from the model checkpoint at bert-base-cased were not used when initializing TFBertModel: ['nsp___cls', 'mlm___cls']\n",
            "- This IS expected if you are initializing TFBertModel from the checkpoint of a model trained on another task or with another architecture (e.g. initializing a BertForSequenceClassification model from a BertForPreTraining model).\n",
            "- This IS NOT expected if you are initializing TFBertModel from the checkpoint of a model that you expect to be exactly identical (initializing a BertForSequenceClassification model from a BertForSequenceClassification model).\n",
            "All the layers of TFBertModel were initialized from the model checkpoint at bert-base-cased.\n",
            "If your task is similar to the task the model of the checkpoint was trained on, you can already use TFBertModel for predictions without further training.\n"
          ]
        },
        {
          "output_type": "stream",
          "name": "stdout",
          "text": [
            "Epoch 1/5\n",
            "WARNING:tensorflow:Gradients do not exist for variables ['tf_bert_model_13/bert/embeddings/word_embeddings/weight:0', 'tf_bert_model_13/bert/embeddings/token_type_embeddings/embeddings:0', 'tf_bert_model_13/bert/embeddings/position_embeddings/embeddings:0', 'tf_bert_model_13/bert/embeddings/LayerNorm/gamma:0', 'tf_bert_model_13/bert/embeddings/LayerNorm/beta:0', 'tf_bert_model_13/bert/encoder/layer_._0/attention/self/query/kernel:0', 'tf_bert_model_13/bert/encoder/layer_._0/attention/self/query/bias:0', 'tf_bert_model_13/bert/encoder/layer_._0/attention/self/key/kernel:0', 'tf_bert_model_13/bert/encoder/layer_._0/attention/self/key/bias:0', 'tf_bert_model_13/bert/encoder/layer_._0/attention/self/value/kernel:0', 'tf_bert_model_13/bert/encoder/layer_._0/attention/self/value/bias:0', 'tf_bert_model_13/bert/encoder/layer_._0/attention/output/dense/kernel:0', 'tf_bert_model_13/bert/encoder/layer_._0/attention/output/dense/bias:0', 'tf_bert_model_13/bert/encoder/layer_._0/attention/output/LayerNorm/gamma:0', 'tf_bert_model_13/bert/encoder/layer_._0/attention/output/LayerNorm/beta:0', 'tf_bert_model_13/bert/encoder/layer_._0/intermediate/dense/kernel:0', 'tf_bert_model_13/bert/encoder/layer_._0/intermediate/dense/bias:0', 'tf_bert_model_13/bert/encoder/layer_._0/output/dense/kernel:0', 'tf_bert_model_13/bert/encoder/layer_._0/output/dense/bias:0', 'tf_bert_model_13/bert/encoder/layer_._0/output/LayerNorm/gamma:0', 'tf_bert_model_13/bert/encoder/layer_._0/output/LayerNorm/beta:0', 'tf_bert_model_13/bert/encoder/layer_._1/attention/self/query/kernel:0', 'tf_bert_model_13/bert/encoder/layer_._1/attention/self/query/bias:0', 'tf_bert_model_13/bert/encoder/layer_._1/attention/self/key/kernel:0', 'tf_bert_model_13/bert/encoder/layer_._1/attention/self/key/bias:0', 'tf_bert_model_13/bert/encoder/layer_._1/attention/self/value/kernel:0', 'tf_bert_model_13/bert/encoder/layer_._1/attention/self/value/bias:0', 'tf_bert_model_13/bert/encoder/layer_._1/attention/output/dense/kernel:0', 'tf_bert_model_13/bert/encoder/layer_._1/attention/output/dense/bias:0', 'tf_bert_model_13/bert/encoder/layer_._1/attention/output/LayerNorm/gamma:0', 'tf_bert_model_13/bert/encoder/layer_._1/attention/output/LayerNorm/beta:0', 'tf_bert_model_13/bert/encoder/layer_._1/intermediate/dense/kernel:0', 'tf_bert_model_13/bert/encoder/layer_._1/intermediate/dense/bias:0', 'tf_bert_model_13/bert/encoder/layer_._1/output/dense/kernel:0', 'tf_bert_model_13/bert/encoder/layer_._1/output/dense/bias:0', 'tf_bert_model_13/bert/encoder/layer_._1/output/LayerNorm/gamma:0', 'tf_bert_model_13/bert/encoder/layer_._1/output/LayerNorm/beta:0', 'tf_bert_model_13/bert/encoder/layer_._2/attention/self/query/kernel:0', 'tf_bert_model_13/bert/encoder/layer_._2/attention/self/query/bias:0', 'tf_bert_model_13/bert/encoder/layer_._2/attention/self/key/kernel:0', 'tf_bert_model_13/bert/encoder/layer_._2/attention/self/key/bias:0', 'tf_bert_model_13/bert/encoder/layer_._2/attention/self/value/kernel:0', 'tf_bert_model_13/bert/encoder/layer_._2/attention/self/value/bias:0', 'tf_bert_model_13/bert/encoder/layer_._2/attention/output/dense/kernel:0', 'tf_bert_model_13/bert/encoder/layer_._2/attention/output/dense/bias:0', 'tf_bert_model_13/bert/encoder/layer_._2/attention/output/LayerNorm/gamma:0', 'tf_bert_model_13/bert/encoder/layer_._2/attention/output/LayerNorm/beta:0', 'tf_bert_model_13/bert/encoder/layer_._2/intermediate/dense/kernel:0', 'tf_bert_model_13/bert/encoder/layer_._2/intermediate/dense/bias:0', 'tf_bert_model_13/bert/encoder/layer_._2/output/dense/kernel:0', 'tf_bert_model_13/bert/encoder/layer_._2/output/dense/bias:0', 'tf_bert_model_13/bert/encoder/layer_._2/output/LayerNorm/gamma:0', 'tf_bert_model_13/bert/encoder/layer_._2/output/LayerNorm/beta:0', 'tf_bert_model_13/bert/encoder/layer_._3/attention/self/query/kernel:0', 'tf_bert_model_13/bert/encoder/layer_._3/attention/self/query/bias:0', 'tf_bert_model_13/bert/encoder/layer_._3/attention/self/key/kernel:0', 'tf_bert_model_13/bert/encoder/layer_._3/attention/self/key/bias:0', 'tf_bert_model_13/bert/encoder/layer_._3/attention/self/value/kernel:0', 'tf_bert_model_13/bert/encoder/layer_._3/attention/self/value/bias:0', 'tf_bert_model_13/bert/encoder/layer_._3/attention/output/dense/kernel:0', 'tf_bert_model_13/bert/encoder/layer_._3/attention/output/dense/bias:0', 'tf_bert_model_13/bert/encoder/layer_._3/attention/output/LayerNorm/gamma:0', 'tf_bert_model_13/bert/encoder/layer_._3/attention/output/LayerNorm/beta:0', 'tf_bert_model_13/bert/encoder/layer_._3/intermediate/dense/kernel:0', 'tf_bert_model_13/bert/encoder/layer_._3/intermediate/dense/bias:0', 'tf_bert_model_13/bert/encoder/layer_._3/output/dense/kernel:0', 'tf_bert_model_13/bert/encoder/layer_._3/output/dense/bias:0', 'tf_bert_model_13/bert/encoder/layer_._3/output/LayerNorm/gamma:0', 'tf_bert_model_13/bert/encoder/layer_._3/output/LayerNorm/beta:0', 'tf_bert_model_13/bert/encoder/layer_._4/attention/self/query/kernel:0', 'tf_bert_model_13/bert/encoder/layer_._4/attention/self/query/bias:0', 'tf_bert_model_13/bert/encoder/layer_._4/attention/self/key/kernel:0', 'tf_bert_model_13/bert/encoder/layer_._4/attention/self/key/bias:0', 'tf_bert_model_13/bert/encoder/layer_._4/attention/self/value/kernel:0', 'tf_bert_model_13/bert/encoder/layer_._4/attention/self/value/bias:0', 'tf_bert_model_13/bert/encoder/layer_._4/attention/output/dense/kernel:0', 'tf_bert_model_13/bert/encoder/layer_._4/attention/output/dense/bias:0', 'tf_bert_model_13/bert/encoder/layer_._4/attention/output/LayerNorm/gamma:0', 'tf_bert_model_13/bert/encoder/layer_._4/attention/output/LayerNorm/beta:0', 'tf_bert_model_13/bert/encoder/layer_._4/intermediate/dense/kernel:0', 'tf_bert_model_13/bert/encoder/layer_._4/intermediate/dense/bias:0', 'tf_bert_model_13/bert/encoder/layer_._4/output/dense/kernel:0', 'tf_bert_model_13/bert/encoder/layer_._4/output/dense/bias:0', 'tf_bert_model_13/bert/encoder/layer_._4/output/LayerNorm/gamma:0', 'tf_bert_model_13/bert/encoder/layer_._4/output/LayerNorm/beta:0', 'tf_bert_model_13/bert/encoder/layer_._5/attention/self/query/kernel:0', 'tf_bert_model_13/bert/encoder/layer_._5/attention/self/query/bias:0', 'tf_bert_model_13/bert/encoder/layer_._5/attention/self/key/kernel:0', 'tf_bert_model_13/bert/encoder/layer_._5/attention/self/key/bias:0', 'tf_bert_model_13/bert/encoder/layer_._5/attention/self/value/kernel:0', 'tf_bert_model_13/bert/encoder/layer_._5/attention/self/value/bias:0', 'tf_bert_model_13/bert/encoder/layer_._5/attention/output/dense/kernel:0', 'tf_bert_model_13/bert/encoder/layer_._5/attention/output/dense/bias:0', 'tf_bert_model_13/bert/encoder/layer_._5/attention/output/LayerNorm/gamma:0', 'tf_bert_model_13/bert/encoder/layer_._5/attention/output/LayerNorm/beta:0', 'tf_bert_model_13/bert/encoder/layer_._5/intermediate/dense/kernel:0', 'tf_bert_model_13/bert/encoder/layer_._5/intermediate/dense/bias:0', 'tf_bert_model_13/bert/encoder/layer_._5/output/dense/kernel:0', 'tf_bert_model_13/bert/encoder/layer_._5/output/dense/bias:0', 'tf_bert_model_13/bert/encoder/layer_._5/output/LayerNorm/gamma:0', 'tf_bert_model_13/bert/encoder/layer_._5/output/LayerNorm/beta:0', 'tf_bert_model_13/bert/encoder/layer_._6/attention/self/query/kernel:0', 'tf_bert_model_13/bert/encoder/layer_._6/attention/self/query/bias:0', 'tf_bert_model_13/bert/encoder/layer_._6/attention/self/key/kernel:0', 'tf_bert_model_13/bert/encoder/layer_._6/attention/self/key/bias:0', 'tf_bert_model_13/bert/encoder/layer_._6/attention/self/value/kernel:0', 'tf_bert_model_13/bert/encoder/layer_._6/attention/self/value/bias:0', 'tf_bert_model_13/bert/encoder/layer_._6/attention/output/dense/kernel:0', 'tf_bert_model_13/bert/encoder/layer_._6/attention/output/dense/bias:0', 'tf_bert_model_13/bert/encoder/layer_._6/attention/output/LayerNorm/gamma:0', 'tf_bert_model_13/bert/encoder/layer_._6/attention/output/LayerNorm/beta:0', 'tf_bert_model_13/bert/encoder/layer_._6/intermediate/dense/kernel:0', 'tf_bert_model_13/bert/encoder/layer_._6/intermediate/dense/bias:0', 'tf_bert_model_13/bert/encoder/layer_._6/output/dense/kernel:0', 'tf_bert_model_13/bert/encoder/layer_._6/output/dense/bias:0', 'tf_bert_model_13/bert/encoder/layer_._6/output/LayerNorm/gamma:0', 'tf_bert_model_13/bert/encoder/layer_._6/output/LayerNorm/beta:0', 'tf_bert_model_13/bert/encoder/layer_._7/attention/self/query/kernel:0', 'tf_bert_model_13/bert/encoder/layer_._7/attention/self/query/bias:0', 'tf_bert_model_13/bert/encoder/layer_._7/attention/self/key/kernel:0', 'tf_bert_model_13/bert/encoder/layer_._7/attention/self/key/bias:0', 'tf_bert_model_13/bert/encoder/layer_._7/attention/self/value/kernel:0', 'tf_bert_model_13/bert/encoder/layer_._7/attention/self/value/bias:0', 'tf_bert_model_13/bert/encoder/layer_._7/attention/output/dense/kernel:0', 'tf_bert_model_13/bert/encoder/layer_._7/attention/output/dense/bias:0', 'tf_bert_model_13/bert/encoder/layer_._7/attention/output/LayerNorm/gamma:0', 'tf_bert_model_13/bert/encoder/layer_._7/attention/output/LayerNorm/beta:0', 'tf_bert_model_13/bert/encoder/layer_._7/intermediate/dense/kernel:0', 'tf_bert_model_13/bert/encoder/layer_._7/intermediate/dense/bias:0', 'tf_bert_model_13/bert/encoder/layer_._7/output/dense/kernel:0', 'tf_bert_model_13/bert/encoder/layer_._7/output/dense/bias:0', 'tf_bert_model_13/bert/encoder/layer_._7/output/LayerNorm/gamma:0', 'tf_bert_model_13/bert/encoder/layer_._7/output/LayerNorm/beta:0', 'tf_bert_model_13/bert/encoder/layer_._8/attention/self/query/kernel:0', 'tf_bert_model_13/bert/encoder/layer_._8/attention/self/query/bias:0', 'tf_bert_model_13/bert/encoder/layer_._8/attention/self/key/kernel:0', 'tf_bert_model_13/bert/encoder/layer_._8/attention/self/key/bias:0', 'tf_bert_model_13/bert/encoder/layer_._8/attention/self/value/kernel:0', 'tf_bert_model_13/bert/encoder/layer_._8/attention/self/value/bias:0', 'tf_bert_model_13/bert/encoder/layer_._8/attention/output/dense/kernel:0', 'tf_bert_model_13/bert/encoder/layer_._8/attention/output/dense/bias:0', 'tf_bert_model_13/bert/encoder/layer_._8/attention/output/LayerNorm/gamma:0', 'tf_bert_model_13/bert/encoder/layer_._8/attention/output/LayerNorm/beta:0', 'tf_bert_model_13/bert/encoder/layer_._8/intermediate/dense/kernel:0', 'tf_bert_model_13/bert/encoder/layer_._8/intermediate/dense/bias:0', 'tf_bert_model_13/bert/encoder/layer_._8/output/dense/kernel:0', 'tf_bert_model_13/bert/encoder/layer_._8/output/dense/bias:0', 'tf_bert_model_13/bert/encoder/layer_._8/output/LayerNorm/gamma:0', 'tf_bert_model_13/bert/encoder/layer_._8/output/LayerNorm/beta:0', 'tf_bert_model_13/bert/encoder/layer_._9/attention/self/query/kernel:0', 'tf_bert_model_13/bert/encoder/layer_._9/attention/self/query/bias:0', 'tf_bert_model_13/bert/encoder/layer_._9/attention/self/key/kernel:0', 'tf_bert_model_13/bert/encoder/layer_._9/attention/self/key/bias:0', 'tf_bert_model_13/bert/encoder/layer_._9/attention/self/value/kernel:0', 'tf_bert_model_13/bert/encoder/layer_._9/attention/self/value/bias:0', 'tf_bert_model_13/bert/encoder/layer_._9/attention/output/dense/kernel:0', 'tf_bert_model_13/bert/encoder/layer_._9/attention/output/dense/bias:0', 'tf_bert_model_13/bert/encoder/layer_._9/attention/output/LayerNorm/gamma:0', 'tf_bert_model_13/bert/encoder/layer_._9/attention/output/LayerNorm/beta:0', 'tf_bert_model_13/bert/encoder/layer_._9/intermediate/dense/kernel:0', 'tf_bert_model_13/bert/encoder/layer_._9/intermediate/dense/bias:0', 'tf_bert_model_13/bert/encoder/layer_._9/output/dense/kernel:0', 'tf_bert_model_13/bert/encoder/layer_._9/output/dense/bias:0', 'tf_bert_model_13/bert/encoder/layer_._9/output/LayerNorm/gamma:0', 'tf_bert_model_13/bert/encoder/layer_._9/output/LayerNorm/beta:0', 'tf_bert_model_13/bert/encoder/layer_._10/attention/self/query/kernel:0', 'tf_bert_model_13/bert/encoder/layer_._10/attention/self/query/bias:0', 'tf_bert_model_13/bert/encoder/layer_._10/attention/self/key/kernel:0', 'tf_bert_model_13/bert/encoder/layer_._10/attention/self/key/bias:0', 'tf_bert_model_13/bert/encoder/layer_._10/attention/self/value/kernel:0', 'tf_bert_model_13/bert/encoder/layer_._10/attention/self/value/bias:0', 'tf_bert_model_13/bert/encoder/layer_._10/attention/output/dense/kernel:0', 'tf_bert_model_13/bert/encoder/layer_._10/attention/output/dense/bias:0', 'tf_bert_model_13/bert/encoder/layer_._10/attention/output/LayerNorm/gamma:0', 'tf_bert_model_13/bert/encoder/layer_._10/attention/output/LayerNorm/beta:0', 'tf_bert_model_13/bert/encoder/layer_._10/intermediate/dense/kernel:0', 'tf_bert_model_13/bert/encoder/layer_._10/intermediate/dense/bias:0', 'tf_bert_model_13/bert/encoder/layer_._10/output/dense/kernel:0', 'tf_bert_model_13/bert/encoder/layer_._10/output/dense/bias:0', 'tf_bert_model_13/bert/encoder/layer_._10/output/LayerNorm/gamma:0', 'tf_bert_model_13/bert/encoder/layer_._10/output/LayerNorm/beta:0', 'tf_bert_model_13/bert/pooler/dense/kernel:0', 'tf_bert_model_13/bert/pooler/dense/bias:0'] when minimizing the loss. If you're using `model.compile()`, did you forget to provide a `loss`argument?\n",
            "WARNING:tensorflow:Gradients do not exist for variables ['tf_bert_model_13/bert/embeddings/word_embeddings/weight:0', 'tf_bert_model_13/bert/embeddings/token_type_embeddings/embeddings:0', 'tf_bert_model_13/bert/embeddings/position_embeddings/embeddings:0', 'tf_bert_model_13/bert/embeddings/LayerNorm/gamma:0', 'tf_bert_model_13/bert/embeddings/LayerNorm/beta:0', 'tf_bert_model_13/bert/encoder/layer_._0/attention/self/query/kernel:0', 'tf_bert_model_13/bert/encoder/layer_._0/attention/self/query/bias:0', 'tf_bert_model_13/bert/encoder/layer_._0/attention/self/key/kernel:0', 'tf_bert_model_13/bert/encoder/layer_._0/attention/self/key/bias:0', 'tf_bert_model_13/bert/encoder/layer_._0/attention/self/value/kernel:0', 'tf_bert_model_13/bert/encoder/layer_._0/attention/self/value/bias:0', 'tf_bert_model_13/bert/encoder/layer_._0/attention/output/dense/kernel:0', 'tf_bert_model_13/bert/encoder/layer_._0/attention/output/dense/bias:0', 'tf_bert_model_13/bert/encoder/layer_._0/attention/output/LayerNorm/gamma:0', 'tf_bert_model_13/bert/encoder/layer_._0/attention/output/LayerNorm/beta:0', 'tf_bert_model_13/bert/encoder/layer_._0/intermediate/dense/kernel:0', 'tf_bert_model_13/bert/encoder/layer_._0/intermediate/dense/bias:0', 'tf_bert_model_13/bert/encoder/layer_._0/output/dense/kernel:0', 'tf_bert_model_13/bert/encoder/layer_._0/output/dense/bias:0', 'tf_bert_model_13/bert/encoder/layer_._0/output/LayerNorm/gamma:0', 'tf_bert_model_13/bert/encoder/layer_._0/output/LayerNorm/beta:0', 'tf_bert_model_13/bert/encoder/layer_._1/attention/self/query/kernel:0', 'tf_bert_model_13/bert/encoder/layer_._1/attention/self/query/bias:0', 'tf_bert_model_13/bert/encoder/layer_._1/attention/self/key/kernel:0', 'tf_bert_model_13/bert/encoder/layer_._1/attention/self/key/bias:0', 'tf_bert_model_13/bert/encoder/layer_._1/attention/self/value/kernel:0', 'tf_bert_model_13/bert/encoder/layer_._1/attention/self/value/bias:0', 'tf_bert_model_13/bert/encoder/layer_._1/attention/output/dense/kernel:0', 'tf_bert_model_13/bert/encoder/layer_._1/attention/output/dense/bias:0', 'tf_bert_model_13/bert/encoder/layer_._1/attention/output/LayerNorm/gamma:0', 'tf_bert_model_13/bert/encoder/layer_._1/attention/output/LayerNorm/beta:0', 'tf_bert_model_13/bert/encoder/layer_._1/intermediate/dense/kernel:0', 'tf_bert_model_13/bert/encoder/layer_._1/intermediate/dense/bias:0', 'tf_bert_model_13/bert/encoder/layer_._1/output/dense/kernel:0', 'tf_bert_model_13/bert/encoder/layer_._1/output/dense/bias:0', 'tf_bert_model_13/bert/encoder/layer_._1/output/LayerNorm/gamma:0', 'tf_bert_model_13/bert/encoder/layer_._1/output/LayerNorm/beta:0', 'tf_bert_model_13/bert/encoder/layer_._2/attention/self/query/kernel:0', 'tf_bert_model_13/bert/encoder/layer_._2/attention/self/query/bias:0', 'tf_bert_model_13/bert/encoder/layer_._2/attention/self/key/kernel:0', 'tf_bert_model_13/bert/encoder/layer_._2/attention/self/key/bias:0', 'tf_bert_model_13/bert/encoder/layer_._2/attention/self/value/kernel:0', 'tf_bert_model_13/bert/encoder/layer_._2/attention/self/value/bias:0', 'tf_bert_model_13/bert/encoder/layer_._2/attention/output/dense/kernel:0', 'tf_bert_model_13/bert/encoder/layer_._2/attention/output/dense/bias:0', 'tf_bert_model_13/bert/encoder/layer_._2/attention/output/LayerNorm/gamma:0', 'tf_bert_model_13/bert/encoder/layer_._2/attention/output/LayerNorm/beta:0', 'tf_bert_model_13/bert/encoder/layer_._2/intermediate/dense/kernel:0', 'tf_bert_model_13/bert/encoder/layer_._2/intermediate/dense/bias:0', 'tf_bert_model_13/bert/encoder/layer_._2/output/dense/kernel:0', 'tf_bert_model_13/bert/encoder/layer_._2/output/dense/bias:0', 'tf_bert_model_13/bert/encoder/layer_._2/output/LayerNorm/gamma:0', 'tf_bert_model_13/bert/encoder/layer_._2/output/LayerNorm/beta:0', 'tf_bert_model_13/bert/encoder/layer_._3/attention/self/query/kernel:0', 'tf_bert_model_13/bert/encoder/layer_._3/attention/self/query/bias:0', 'tf_bert_model_13/bert/encoder/layer_._3/attention/self/key/kernel:0', 'tf_bert_model_13/bert/encoder/layer_._3/attention/self/key/bias:0', 'tf_bert_model_13/bert/encoder/layer_._3/attention/self/value/kernel:0', 'tf_bert_model_13/bert/encoder/layer_._3/attention/self/value/bias:0', 'tf_bert_model_13/bert/encoder/layer_._3/attention/output/dense/kernel:0', 'tf_bert_model_13/bert/encoder/layer_._3/attention/output/dense/bias:0', 'tf_bert_model_13/bert/encoder/layer_._3/attention/output/LayerNorm/gamma:0', 'tf_bert_model_13/bert/encoder/layer_._3/attention/output/LayerNorm/beta:0', 'tf_bert_model_13/bert/encoder/layer_._3/intermediate/dense/kernel:0', 'tf_bert_model_13/bert/encoder/layer_._3/intermediate/dense/bias:0', 'tf_bert_model_13/bert/encoder/layer_._3/output/dense/kernel:0', 'tf_bert_model_13/bert/encoder/layer_._3/output/dense/bias:0', 'tf_bert_model_13/bert/encoder/layer_._3/output/LayerNorm/gamma:0', 'tf_bert_model_13/bert/encoder/layer_._3/output/LayerNorm/beta:0', 'tf_bert_model_13/bert/encoder/layer_._4/attention/self/query/kernel:0', 'tf_bert_model_13/bert/encoder/layer_._4/attention/self/query/bias:0', 'tf_bert_model_13/bert/encoder/layer_._4/attention/self/key/kernel:0', 'tf_bert_model_13/bert/encoder/layer_._4/attention/self/key/bias:0', 'tf_bert_model_13/bert/encoder/layer_._4/attention/self/value/kernel:0', 'tf_bert_model_13/bert/encoder/layer_._4/attention/self/value/bias:0', 'tf_bert_model_13/bert/encoder/layer_._4/attention/output/dense/kernel:0', 'tf_bert_model_13/bert/encoder/layer_._4/attention/output/dense/bias:0', 'tf_bert_model_13/bert/encoder/layer_._4/attention/output/LayerNorm/gamma:0', 'tf_bert_model_13/bert/encoder/layer_._4/attention/output/LayerNorm/beta:0', 'tf_bert_model_13/bert/encoder/layer_._4/intermediate/dense/kernel:0', 'tf_bert_model_13/bert/encoder/layer_._4/intermediate/dense/bias:0', 'tf_bert_model_13/bert/encoder/layer_._4/output/dense/kernel:0', 'tf_bert_model_13/bert/encoder/layer_._4/output/dense/bias:0', 'tf_bert_model_13/bert/encoder/layer_._4/output/LayerNorm/gamma:0', 'tf_bert_model_13/bert/encoder/layer_._4/output/LayerNorm/beta:0', 'tf_bert_model_13/bert/encoder/layer_._5/attention/self/query/kernel:0', 'tf_bert_model_13/bert/encoder/layer_._5/attention/self/query/bias:0', 'tf_bert_model_13/bert/encoder/layer_._5/attention/self/key/kernel:0', 'tf_bert_model_13/bert/encoder/layer_._5/attention/self/key/bias:0', 'tf_bert_model_13/bert/encoder/layer_._5/attention/self/value/kernel:0', 'tf_bert_model_13/bert/encoder/layer_._5/attention/self/value/bias:0', 'tf_bert_model_13/bert/encoder/layer_._5/attention/output/dense/kernel:0', 'tf_bert_model_13/bert/encoder/layer_._5/attention/output/dense/bias:0', 'tf_bert_model_13/bert/encoder/layer_._5/attention/output/LayerNorm/gamma:0', 'tf_bert_model_13/bert/encoder/layer_._5/attention/output/LayerNorm/beta:0', 'tf_bert_model_13/bert/encoder/layer_._5/intermediate/dense/kernel:0', 'tf_bert_model_13/bert/encoder/layer_._5/intermediate/dense/bias:0', 'tf_bert_model_13/bert/encoder/layer_._5/output/dense/kernel:0', 'tf_bert_model_13/bert/encoder/layer_._5/output/dense/bias:0', 'tf_bert_model_13/bert/encoder/layer_._5/output/LayerNorm/gamma:0', 'tf_bert_model_13/bert/encoder/layer_._5/output/LayerNorm/beta:0', 'tf_bert_model_13/bert/encoder/layer_._6/attention/self/query/kernel:0', 'tf_bert_model_13/bert/encoder/layer_._6/attention/self/query/bias:0', 'tf_bert_model_13/bert/encoder/layer_._6/attention/self/key/kernel:0', 'tf_bert_model_13/bert/encoder/layer_._6/attention/self/key/bias:0', 'tf_bert_model_13/bert/encoder/layer_._6/attention/self/value/kernel:0', 'tf_bert_model_13/bert/encoder/layer_._6/attention/self/value/bias:0', 'tf_bert_model_13/bert/encoder/layer_._6/attention/output/dense/kernel:0', 'tf_bert_model_13/bert/encoder/layer_._6/attention/output/dense/bias:0', 'tf_bert_model_13/bert/encoder/layer_._6/attention/output/LayerNorm/gamma:0', 'tf_bert_model_13/bert/encoder/layer_._6/attention/output/LayerNorm/beta:0', 'tf_bert_model_13/bert/encoder/layer_._6/intermediate/dense/kernel:0', 'tf_bert_model_13/bert/encoder/layer_._6/intermediate/dense/bias:0', 'tf_bert_model_13/bert/encoder/layer_._6/output/dense/kernel:0', 'tf_bert_model_13/bert/encoder/layer_._6/output/dense/bias:0', 'tf_bert_model_13/bert/encoder/layer_._6/output/LayerNorm/gamma:0', 'tf_bert_model_13/bert/encoder/layer_._6/output/LayerNorm/beta:0', 'tf_bert_model_13/bert/encoder/layer_._7/attention/self/query/kernel:0', 'tf_bert_model_13/bert/encoder/layer_._7/attention/self/query/bias:0', 'tf_bert_model_13/bert/encoder/layer_._7/attention/self/key/kernel:0', 'tf_bert_model_13/bert/encoder/layer_._7/attention/self/key/bias:0', 'tf_bert_model_13/bert/encoder/layer_._7/attention/self/value/kernel:0', 'tf_bert_model_13/bert/encoder/layer_._7/attention/self/value/bias:0', 'tf_bert_model_13/bert/encoder/layer_._7/attention/output/dense/kernel:0', 'tf_bert_model_13/bert/encoder/layer_._7/attention/output/dense/bias:0', 'tf_bert_model_13/bert/encoder/layer_._7/attention/output/LayerNorm/gamma:0', 'tf_bert_model_13/bert/encoder/layer_._7/attention/output/LayerNorm/beta:0', 'tf_bert_model_13/bert/encoder/layer_._7/intermediate/dense/kernel:0', 'tf_bert_model_13/bert/encoder/layer_._7/intermediate/dense/bias:0', 'tf_bert_model_13/bert/encoder/layer_._7/output/dense/kernel:0', 'tf_bert_model_13/bert/encoder/layer_._7/output/dense/bias:0', 'tf_bert_model_13/bert/encoder/layer_._7/output/LayerNorm/gamma:0', 'tf_bert_model_13/bert/encoder/layer_._7/output/LayerNorm/beta:0', 'tf_bert_model_13/bert/encoder/layer_._8/attention/self/query/kernel:0', 'tf_bert_model_13/bert/encoder/layer_._8/attention/self/query/bias:0', 'tf_bert_model_13/bert/encoder/layer_._8/attention/self/key/kernel:0', 'tf_bert_model_13/bert/encoder/layer_._8/attention/self/key/bias:0', 'tf_bert_model_13/bert/encoder/layer_._8/attention/self/value/kernel:0', 'tf_bert_model_13/bert/encoder/layer_._8/attention/self/value/bias:0', 'tf_bert_model_13/bert/encoder/layer_._8/attention/output/dense/kernel:0', 'tf_bert_model_13/bert/encoder/layer_._8/attention/output/dense/bias:0', 'tf_bert_model_13/bert/encoder/layer_._8/attention/output/LayerNorm/gamma:0', 'tf_bert_model_13/bert/encoder/layer_._8/attention/output/LayerNorm/beta:0', 'tf_bert_model_13/bert/encoder/layer_._8/intermediate/dense/kernel:0', 'tf_bert_model_13/bert/encoder/layer_._8/intermediate/dense/bias:0', 'tf_bert_model_13/bert/encoder/layer_._8/output/dense/kernel:0', 'tf_bert_model_13/bert/encoder/layer_._8/output/dense/bias:0', 'tf_bert_model_13/bert/encoder/layer_._8/output/LayerNorm/gamma:0', 'tf_bert_model_13/bert/encoder/layer_._8/output/LayerNorm/beta:0', 'tf_bert_model_13/bert/encoder/layer_._9/attention/self/query/kernel:0', 'tf_bert_model_13/bert/encoder/layer_._9/attention/self/query/bias:0', 'tf_bert_model_13/bert/encoder/layer_._9/attention/self/key/kernel:0', 'tf_bert_model_13/bert/encoder/layer_._9/attention/self/key/bias:0', 'tf_bert_model_13/bert/encoder/layer_._9/attention/self/value/kernel:0', 'tf_bert_model_13/bert/encoder/layer_._9/attention/self/value/bias:0', 'tf_bert_model_13/bert/encoder/layer_._9/attention/output/dense/kernel:0', 'tf_bert_model_13/bert/encoder/layer_._9/attention/output/dense/bias:0', 'tf_bert_model_13/bert/encoder/layer_._9/attention/output/LayerNorm/gamma:0', 'tf_bert_model_13/bert/encoder/layer_._9/attention/output/LayerNorm/beta:0', 'tf_bert_model_13/bert/encoder/layer_._9/intermediate/dense/kernel:0', 'tf_bert_model_13/bert/encoder/layer_._9/intermediate/dense/bias:0', 'tf_bert_model_13/bert/encoder/layer_._9/output/dense/kernel:0', 'tf_bert_model_13/bert/encoder/layer_._9/output/dense/bias:0', 'tf_bert_model_13/bert/encoder/layer_._9/output/LayerNorm/gamma:0', 'tf_bert_model_13/bert/encoder/layer_._9/output/LayerNorm/beta:0', 'tf_bert_model_13/bert/encoder/layer_._10/attention/self/query/kernel:0', 'tf_bert_model_13/bert/encoder/layer_._10/attention/self/query/bias:0', 'tf_bert_model_13/bert/encoder/layer_._10/attention/self/key/kernel:0', 'tf_bert_model_13/bert/encoder/layer_._10/attention/self/key/bias:0', 'tf_bert_model_13/bert/encoder/layer_._10/attention/self/value/kernel:0', 'tf_bert_model_13/bert/encoder/layer_._10/attention/self/value/bias:0', 'tf_bert_model_13/bert/encoder/layer_._10/attention/output/dense/kernel:0', 'tf_bert_model_13/bert/encoder/layer_._10/attention/output/dense/bias:0', 'tf_bert_model_13/bert/encoder/layer_._10/attention/output/LayerNorm/gamma:0', 'tf_bert_model_13/bert/encoder/layer_._10/attention/output/LayerNorm/beta:0', 'tf_bert_model_13/bert/encoder/layer_._10/intermediate/dense/kernel:0', 'tf_bert_model_13/bert/encoder/layer_._10/intermediate/dense/bias:0', 'tf_bert_model_13/bert/encoder/layer_._10/output/dense/kernel:0', 'tf_bert_model_13/bert/encoder/layer_._10/output/dense/bias:0', 'tf_bert_model_13/bert/encoder/layer_._10/output/LayerNorm/gamma:0', 'tf_bert_model_13/bert/encoder/layer_._10/output/LayerNorm/beta:0', 'tf_bert_model_13/bert/pooler/dense/kernel:0', 'tf_bert_model_13/bert/pooler/dense/bias:0'] when minimizing the loss. If you're using `model.compile()`, did you forget to provide a `loss`argument?\n",
            "489/489 [==============================] - 29s 43ms/step - loss: 0.1030 - accuracy: 0.9632 - val_loss: 0.0342 - val_accuracy: 0.9877\n",
            "Epoch 2/5\n",
            "489/489 [==============================] - 18s 37ms/step - loss: 0.0381 - accuracy: 0.9898 - val_loss: 0.0283 - val_accuracy: 0.9898\n",
            "Epoch 3/5\n",
            "489/489 [==============================] - 18s 37ms/step - loss: 0.0304 - accuracy: 0.9910 - val_loss: 0.0266 - val_accuracy: 0.9928\n",
            "Epoch 4/5\n",
            "489/489 [==============================] - 18s 37ms/step - loss: 0.0112 - accuracy: 0.9977 - val_loss: 0.0321 - val_accuracy: 0.9918\n",
            "Epoch 5/5\n",
            "489/489 [==============================] - 18s 37ms/step - loss: 0.0111 - accuracy: 0.9972 - val_loss: 0.0232 - val_accuracy: 0.9928\n",
            "BERT 5e + FCN, train: accuracy = 0.9967, precision = 0.9880, recall = 0.9964, f1 = 0.9922\n",
            "BERT 5e + FCN, validation: accuracy = 0.9928, precision = 0.9695, recall = 0.9948, f1 = 0.9820\n"
          ]
        }
      ]
    },
    {
      "cell_type": "markdown",
      "source": [
        "accuracy = 0.9908, precision = 0.9801, recall = 0.9752, f1 = 0.9777\n",
        "\n",
        "accuracy = 0.9939, precision = 1.0000, recall = 0.9704, f1 = 0.9850\n",
        "\n",
        "accuracy = 0.9826, precision = 0.9749, recall = 0.9417, f1 = 0.9580\n",
        "\n",
        "accuracy = 0.9887, precision = 0.9903, recall = 0.9579, f1 = 0.9739\n",
        "\n",
        "accuracy = 0.9928, precision = 0.9695, recall = 0.9948, f1 = 0.9820"
      ],
      "metadata": {
        "id": "t4hScVQZ4NAd"
      }
    },
    {
      "cell_type": "code",
      "source": [
        "# cross validation results\n",
        "cross_val_acc = [0.9908, 0.9939,0.9826,0.9887,0.9928]\n",
        "cross_val_precision = [0.9801, 1.0000, 0.9749, 0.9903, 0.9695]\n",
        "cross_val_recall = [0.9752, 0.9704, 0.9417, 0.9579, 0.9948]\n",
        "cross_val_f1 = [0.9777, 0.9850, 0.9580, 0.9739, 0.9820]\n",
        "\n",
        "print(\"mean accuracy\", np.mean(cross_val_acc))\n",
        "print(\"mean f1\", np.mean(cross_val_f1))\n",
        "\n",
        "print(\"st dev accuracy\", np.std(cross_val_acc))\n",
        "print(\"se dev f1\", np.std(cross_val_f1))"
      ],
      "metadata": {
        "id": "_pn9z7wQpwEa",
        "colab": {
          "base_uri": "https://localhost:8080/"
        },
        "outputId": "2ddeb786-a27e-4f9d-e2ec-37d0774fbd9a"
      },
      "execution_count": null,
      "outputs": [
        {
          "output_type": "stream",
          "name": "stdout",
          "text": [
            "mean accuracy 0.9897600000000001\n",
            "mean f1 0.97532\n",
            "st dev accuracy 0.003996298287165254\n",
            "se dev f1 0.009444448104574463\n"
          ]
        }
      ]
    },
    {
      "cell_type": "code",
      "source": [
        ""
      ],
      "metadata": {
        "id": "RmExkj8Z9G03"
      },
      "execution_count": null,
      "outputs": []
    },
    {
      "cell_type": "markdown",
      "source": [
        "##### BERT + CNN 3e un kernel"
      ],
      "metadata": {
        "id": "NQCvVYYoKH-T"
      }
    },
    {
      "cell_type": "code",
      "source": [
        "CROSS_VAL = 5\n",
        "FOLD_SIZE = 977\n",
        "\n",
        "for i in range(CROSS_VAL):\n",
        "  max_length = 100\n",
        "  #max_length = 160                  # set max_length\n",
        "\n",
        "  all_train_examples = list(train_X.iloc[np.r_[0:FOLD_SIZE*i,FOLD_SIZE*(i+1):FOLD_SIZE*5]])\n",
        "  all_val_examples = list(train_X[FOLD_SIZE*i:FOLD_SIZE*(i+1)])\n",
        "  all_test_examples = list(test_X)\n",
        "\n",
        "  x_train = bert_tokenizer(all_train_examples, \n",
        "                max_length=max_length,\n",
        "                truncation=True,\n",
        "                padding='max_length', \n",
        "                return_tensors='tf')\n",
        "\n",
        "  y_train = tf.convert_to_tensor(list(train_y.iloc[np.r_[0:FOLD_SIZE*i,FOLD_SIZE*(i+1):FOLD_SIZE*5]]))\n",
        "\n",
        "  x_test = bert_tokenizer(all_test_examples, \n",
        "                max_length=max_length,\n",
        "                truncation=True,\n",
        "                padding='max_length', \n",
        "                return_tensors='tf')\n",
        "\n",
        "  y_test = tf.convert_to_tensor(list(test_y))\n",
        "\n",
        "  x_val = bert_tokenizer(all_val_examples, \n",
        "                max_length=max_length,\n",
        "                truncation=True,\n",
        "                padding='max_length', \n",
        "                return_tensors='tf')\n",
        "\n",
        "  y_val = tf.convert_to_tensor(list(train_y[FOLD_SIZE*i:FOLD_SIZE*(i+1)]))\n",
        "\n",
        "  cnn_bert_model = create_bert_cnn_model(train_layers=1,\n",
        "                                       kernel_sizes = [2, 3, 4, 5])\n",
        "\n",
        "  cnn_bert_model_history = cnn_bert_model.fit([x_train.input_ids, x_train.token_type_ids, x_train.attention_mask], \n",
        "                                            y_train,   \n",
        "                                            validation_data=([x_test.input_ids, x_test.token_type_ids, x_test.attention_mask], y_test),    \n",
        "                                            batch_size=8, \n",
        "                                            epochs=3)\n",
        "\n",
        "\n",
        "\n",
        "  train_predict_labels = cnn_bert_model.predict([x_train.input_ids, x_train.token_type_ids, x_train.attention_mask])\n",
        "  train_y_predict = train_predict_labels.round(0)\n",
        "\n",
        "  val_predict_labels = cnn_bert_model.predict([x_val.input_ids, x_val.token_type_ids, x_val.attention_mask])\n",
        "  val_y_predict = val_predict_labels.round(0)\n",
        "\n",
        "  # train\n",
        "  print_metrics('BERT 3e + CNN kernel un, train', np.array(train_y.iloc[np.r_[0:FOLD_SIZE*i,FOLD_SIZE*(i+1):FOLD_SIZE*5]], int), train_y_predict)\n",
        "  # validation\n",
        "  print_metrics('validation', np.array(train_y[FOLD_SIZE*i:FOLD_SIZE*(i+1)], int), val_y_predict)"
      ],
      "metadata": {
        "id": "cbUWBxG6hkCp",
        "colab": {
          "base_uri": "https://localhost:8080/"
        },
        "outputId": "e363664e-130e-4ece-ae83-47946252009f"
      },
      "execution_count": null,
      "outputs": [
        {
          "output_type": "stream",
          "name": "stderr",
          "text": [
            "Some layers from the model checkpoint at bert-base-cased were not used when initializing TFBertModel: ['nsp___cls', 'mlm___cls']\n",
            "- This IS expected if you are initializing TFBertModel from the checkpoint of a model trained on another task or with another architecture (e.g. initializing a BertForSequenceClassification model from a BertForPreTraining model).\n",
            "- This IS NOT expected if you are initializing TFBertModel from the checkpoint of a model that you expect to be exactly identical (initializing a BertForSequenceClassification model from a BertForSequenceClassification model).\n",
            "All the layers of TFBertModel were initialized from the model checkpoint at bert-base-cased.\n",
            "If your task is similar to the task the model of the checkpoint was trained on, you can already use TFBertModel for predictions without further training.\n"
          ]
        },
        {
          "output_type": "stream",
          "name": "stdout",
          "text": [
            "Epoch 1/3\n",
            "WARNING:tensorflow:Gradients do not exist for variables ['tf_bert_model_14/bert/embeddings/word_embeddings/weight:0', 'tf_bert_model_14/bert/embeddings/token_type_embeddings/embeddings:0', 'tf_bert_model_14/bert/embeddings/position_embeddings/embeddings:0', 'tf_bert_model_14/bert/embeddings/LayerNorm/gamma:0', 'tf_bert_model_14/bert/embeddings/LayerNorm/beta:0', 'tf_bert_model_14/bert/encoder/layer_._0/attention/self/query/kernel:0', 'tf_bert_model_14/bert/encoder/layer_._0/attention/self/query/bias:0', 'tf_bert_model_14/bert/encoder/layer_._0/attention/self/key/kernel:0', 'tf_bert_model_14/bert/encoder/layer_._0/attention/self/key/bias:0', 'tf_bert_model_14/bert/encoder/layer_._0/attention/self/value/kernel:0', 'tf_bert_model_14/bert/encoder/layer_._0/attention/self/value/bias:0', 'tf_bert_model_14/bert/encoder/layer_._0/attention/output/dense/kernel:0', 'tf_bert_model_14/bert/encoder/layer_._0/attention/output/dense/bias:0', 'tf_bert_model_14/bert/encoder/layer_._0/attention/output/LayerNorm/gamma:0', 'tf_bert_model_14/bert/encoder/layer_._0/attention/output/LayerNorm/beta:0', 'tf_bert_model_14/bert/encoder/layer_._0/intermediate/dense/kernel:0', 'tf_bert_model_14/bert/encoder/layer_._0/intermediate/dense/bias:0', 'tf_bert_model_14/bert/encoder/layer_._0/output/dense/kernel:0', 'tf_bert_model_14/bert/encoder/layer_._0/output/dense/bias:0', 'tf_bert_model_14/bert/encoder/layer_._0/output/LayerNorm/gamma:0', 'tf_bert_model_14/bert/encoder/layer_._0/output/LayerNorm/beta:0', 'tf_bert_model_14/bert/encoder/layer_._1/attention/self/query/kernel:0', 'tf_bert_model_14/bert/encoder/layer_._1/attention/self/query/bias:0', 'tf_bert_model_14/bert/encoder/layer_._1/attention/self/key/kernel:0', 'tf_bert_model_14/bert/encoder/layer_._1/attention/self/key/bias:0', 'tf_bert_model_14/bert/encoder/layer_._1/attention/self/value/kernel:0', 'tf_bert_model_14/bert/encoder/layer_._1/attention/self/value/bias:0', 'tf_bert_model_14/bert/encoder/layer_._1/attention/output/dense/kernel:0', 'tf_bert_model_14/bert/encoder/layer_._1/attention/output/dense/bias:0', 'tf_bert_model_14/bert/encoder/layer_._1/attention/output/LayerNorm/gamma:0', 'tf_bert_model_14/bert/encoder/layer_._1/attention/output/LayerNorm/beta:0', 'tf_bert_model_14/bert/encoder/layer_._1/intermediate/dense/kernel:0', 'tf_bert_model_14/bert/encoder/layer_._1/intermediate/dense/bias:0', 'tf_bert_model_14/bert/encoder/layer_._1/output/dense/kernel:0', 'tf_bert_model_14/bert/encoder/layer_._1/output/dense/bias:0', 'tf_bert_model_14/bert/encoder/layer_._1/output/LayerNorm/gamma:0', 'tf_bert_model_14/bert/encoder/layer_._1/output/LayerNorm/beta:0', 'tf_bert_model_14/bert/encoder/layer_._2/attention/self/query/kernel:0', 'tf_bert_model_14/bert/encoder/layer_._2/attention/self/query/bias:0', 'tf_bert_model_14/bert/encoder/layer_._2/attention/self/key/kernel:0', 'tf_bert_model_14/bert/encoder/layer_._2/attention/self/key/bias:0', 'tf_bert_model_14/bert/encoder/layer_._2/attention/self/value/kernel:0', 'tf_bert_model_14/bert/encoder/layer_._2/attention/self/value/bias:0', 'tf_bert_model_14/bert/encoder/layer_._2/attention/output/dense/kernel:0', 'tf_bert_model_14/bert/encoder/layer_._2/attention/output/dense/bias:0', 'tf_bert_model_14/bert/encoder/layer_._2/attention/output/LayerNorm/gamma:0', 'tf_bert_model_14/bert/encoder/layer_._2/attention/output/LayerNorm/beta:0', 'tf_bert_model_14/bert/encoder/layer_._2/intermediate/dense/kernel:0', 'tf_bert_model_14/bert/encoder/layer_._2/intermediate/dense/bias:0', 'tf_bert_model_14/bert/encoder/layer_._2/output/dense/kernel:0', 'tf_bert_model_14/bert/encoder/layer_._2/output/dense/bias:0', 'tf_bert_model_14/bert/encoder/layer_._2/output/LayerNorm/gamma:0', 'tf_bert_model_14/bert/encoder/layer_._2/output/LayerNorm/beta:0', 'tf_bert_model_14/bert/encoder/layer_._3/attention/self/query/kernel:0', 'tf_bert_model_14/bert/encoder/layer_._3/attention/self/query/bias:0', 'tf_bert_model_14/bert/encoder/layer_._3/attention/self/key/kernel:0', 'tf_bert_model_14/bert/encoder/layer_._3/attention/self/key/bias:0', 'tf_bert_model_14/bert/encoder/layer_._3/attention/self/value/kernel:0', 'tf_bert_model_14/bert/encoder/layer_._3/attention/self/value/bias:0', 'tf_bert_model_14/bert/encoder/layer_._3/attention/output/dense/kernel:0', 'tf_bert_model_14/bert/encoder/layer_._3/attention/output/dense/bias:0', 'tf_bert_model_14/bert/encoder/layer_._3/attention/output/LayerNorm/gamma:0', 'tf_bert_model_14/bert/encoder/layer_._3/attention/output/LayerNorm/beta:0', 'tf_bert_model_14/bert/encoder/layer_._3/intermediate/dense/kernel:0', 'tf_bert_model_14/bert/encoder/layer_._3/intermediate/dense/bias:0', 'tf_bert_model_14/bert/encoder/layer_._3/output/dense/kernel:0', 'tf_bert_model_14/bert/encoder/layer_._3/output/dense/bias:0', 'tf_bert_model_14/bert/encoder/layer_._3/output/LayerNorm/gamma:0', 'tf_bert_model_14/bert/encoder/layer_._3/output/LayerNorm/beta:0', 'tf_bert_model_14/bert/encoder/layer_._4/attention/self/query/kernel:0', 'tf_bert_model_14/bert/encoder/layer_._4/attention/self/query/bias:0', 'tf_bert_model_14/bert/encoder/layer_._4/attention/self/key/kernel:0', 'tf_bert_model_14/bert/encoder/layer_._4/attention/self/key/bias:0', 'tf_bert_model_14/bert/encoder/layer_._4/attention/self/value/kernel:0', 'tf_bert_model_14/bert/encoder/layer_._4/attention/self/value/bias:0', 'tf_bert_model_14/bert/encoder/layer_._4/attention/output/dense/kernel:0', 'tf_bert_model_14/bert/encoder/layer_._4/attention/output/dense/bias:0', 'tf_bert_model_14/bert/encoder/layer_._4/attention/output/LayerNorm/gamma:0', 'tf_bert_model_14/bert/encoder/layer_._4/attention/output/LayerNorm/beta:0', 'tf_bert_model_14/bert/encoder/layer_._4/intermediate/dense/kernel:0', 'tf_bert_model_14/bert/encoder/layer_._4/intermediate/dense/bias:0', 'tf_bert_model_14/bert/encoder/layer_._4/output/dense/kernel:0', 'tf_bert_model_14/bert/encoder/layer_._4/output/dense/bias:0', 'tf_bert_model_14/bert/encoder/layer_._4/output/LayerNorm/gamma:0', 'tf_bert_model_14/bert/encoder/layer_._4/output/LayerNorm/beta:0', 'tf_bert_model_14/bert/encoder/layer_._5/attention/self/query/kernel:0', 'tf_bert_model_14/bert/encoder/layer_._5/attention/self/query/bias:0', 'tf_bert_model_14/bert/encoder/layer_._5/attention/self/key/kernel:0', 'tf_bert_model_14/bert/encoder/layer_._5/attention/self/key/bias:0', 'tf_bert_model_14/bert/encoder/layer_._5/attention/self/value/kernel:0', 'tf_bert_model_14/bert/encoder/layer_._5/attention/self/value/bias:0', 'tf_bert_model_14/bert/encoder/layer_._5/attention/output/dense/kernel:0', 'tf_bert_model_14/bert/encoder/layer_._5/attention/output/dense/bias:0', 'tf_bert_model_14/bert/encoder/layer_._5/attention/output/LayerNorm/gamma:0', 'tf_bert_model_14/bert/encoder/layer_._5/attention/output/LayerNorm/beta:0', 'tf_bert_model_14/bert/encoder/layer_._5/intermediate/dense/kernel:0', 'tf_bert_model_14/bert/encoder/layer_._5/intermediate/dense/bias:0', 'tf_bert_model_14/bert/encoder/layer_._5/output/dense/kernel:0', 'tf_bert_model_14/bert/encoder/layer_._5/output/dense/bias:0', 'tf_bert_model_14/bert/encoder/layer_._5/output/LayerNorm/gamma:0', 'tf_bert_model_14/bert/encoder/layer_._5/output/LayerNorm/beta:0', 'tf_bert_model_14/bert/encoder/layer_._6/attention/self/query/kernel:0', 'tf_bert_model_14/bert/encoder/layer_._6/attention/self/query/bias:0', 'tf_bert_model_14/bert/encoder/layer_._6/attention/self/key/kernel:0', 'tf_bert_model_14/bert/encoder/layer_._6/attention/self/key/bias:0', 'tf_bert_model_14/bert/encoder/layer_._6/attention/self/value/kernel:0', 'tf_bert_model_14/bert/encoder/layer_._6/attention/self/value/bias:0', 'tf_bert_model_14/bert/encoder/layer_._6/attention/output/dense/kernel:0', 'tf_bert_model_14/bert/encoder/layer_._6/attention/output/dense/bias:0', 'tf_bert_model_14/bert/encoder/layer_._6/attention/output/LayerNorm/gamma:0', 'tf_bert_model_14/bert/encoder/layer_._6/attention/output/LayerNorm/beta:0', 'tf_bert_model_14/bert/encoder/layer_._6/intermediate/dense/kernel:0', 'tf_bert_model_14/bert/encoder/layer_._6/intermediate/dense/bias:0', 'tf_bert_model_14/bert/encoder/layer_._6/output/dense/kernel:0', 'tf_bert_model_14/bert/encoder/layer_._6/output/dense/bias:0', 'tf_bert_model_14/bert/encoder/layer_._6/output/LayerNorm/gamma:0', 'tf_bert_model_14/bert/encoder/layer_._6/output/LayerNorm/beta:0', 'tf_bert_model_14/bert/encoder/layer_._7/attention/self/query/kernel:0', 'tf_bert_model_14/bert/encoder/layer_._7/attention/self/query/bias:0', 'tf_bert_model_14/bert/encoder/layer_._7/attention/self/key/kernel:0', 'tf_bert_model_14/bert/encoder/layer_._7/attention/self/key/bias:0', 'tf_bert_model_14/bert/encoder/layer_._7/attention/self/value/kernel:0', 'tf_bert_model_14/bert/encoder/layer_._7/attention/self/value/bias:0', 'tf_bert_model_14/bert/encoder/layer_._7/attention/output/dense/kernel:0', 'tf_bert_model_14/bert/encoder/layer_._7/attention/output/dense/bias:0', 'tf_bert_model_14/bert/encoder/layer_._7/attention/output/LayerNorm/gamma:0', 'tf_bert_model_14/bert/encoder/layer_._7/attention/output/LayerNorm/beta:0', 'tf_bert_model_14/bert/encoder/layer_._7/intermediate/dense/kernel:0', 'tf_bert_model_14/bert/encoder/layer_._7/intermediate/dense/bias:0', 'tf_bert_model_14/bert/encoder/layer_._7/output/dense/kernel:0', 'tf_bert_model_14/bert/encoder/layer_._7/output/dense/bias:0', 'tf_bert_model_14/bert/encoder/layer_._7/output/LayerNorm/gamma:0', 'tf_bert_model_14/bert/encoder/layer_._7/output/LayerNorm/beta:0', 'tf_bert_model_14/bert/encoder/layer_._8/attention/self/query/kernel:0', 'tf_bert_model_14/bert/encoder/layer_._8/attention/self/query/bias:0', 'tf_bert_model_14/bert/encoder/layer_._8/attention/self/key/kernel:0', 'tf_bert_model_14/bert/encoder/layer_._8/attention/self/key/bias:0', 'tf_bert_model_14/bert/encoder/layer_._8/attention/self/value/kernel:0', 'tf_bert_model_14/bert/encoder/layer_._8/attention/self/value/bias:0', 'tf_bert_model_14/bert/encoder/layer_._8/attention/output/dense/kernel:0', 'tf_bert_model_14/bert/encoder/layer_._8/attention/output/dense/bias:0', 'tf_bert_model_14/bert/encoder/layer_._8/attention/output/LayerNorm/gamma:0', 'tf_bert_model_14/bert/encoder/layer_._8/attention/output/LayerNorm/beta:0', 'tf_bert_model_14/bert/encoder/layer_._8/intermediate/dense/kernel:0', 'tf_bert_model_14/bert/encoder/layer_._8/intermediate/dense/bias:0', 'tf_bert_model_14/bert/encoder/layer_._8/output/dense/kernel:0', 'tf_bert_model_14/bert/encoder/layer_._8/output/dense/bias:0', 'tf_bert_model_14/bert/encoder/layer_._8/output/LayerNorm/gamma:0', 'tf_bert_model_14/bert/encoder/layer_._8/output/LayerNorm/beta:0', 'tf_bert_model_14/bert/encoder/layer_._9/attention/self/query/kernel:0', 'tf_bert_model_14/bert/encoder/layer_._9/attention/self/query/bias:0', 'tf_bert_model_14/bert/encoder/layer_._9/attention/self/key/kernel:0', 'tf_bert_model_14/bert/encoder/layer_._9/attention/self/key/bias:0', 'tf_bert_model_14/bert/encoder/layer_._9/attention/self/value/kernel:0', 'tf_bert_model_14/bert/encoder/layer_._9/attention/self/value/bias:0', 'tf_bert_model_14/bert/encoder/layer_._9/attention/output/dense/kernel:0', 'tf_bert_model_14/bert/encoder/layer_._9/attention/output/dense/bias:0', 'tf_bert_model_14/bert/encoder/layer_._9/attention/output/LayerNorm/gamma:0', 'tf_bert_model_14/bert/encoder/layer_._9/attention/output/LayerNorm/beta:0', 'tf_bert_model_14/bert/encoder/layer_._9/intermediate/dense/kernel:0', 'tf_bert_model_14/bert/encoder/layer_._9/intermediate/dense/bias:0', 'tf_bert_model_14/bert/encoder/layer_._9/output/dense/kernel:0', 'tf_bert_model_14/bert/encoder/layer_._9/output/dense/bias:0', 'tf_bert_model_14/bert/encoder/layer_._9/output/LayerNorm/gamma:0', 'tf_bert_model_14/bert/encoder/layer_._9/output/LayerNorm/beta:0', 'tf_bert_model_14/bert/encoder/layer_._10/attention/self/query/kernel:0', 'tf_bert_model_14/bert/encoder/layer_._10/attention/self/query/bias:0', 'tf_bert_model_14/bert/encoder/layer_._10/attention/self/key/kernel:0', 'tf_bert_model_14/bert/encoder/layer_._10/attention/self/key/bias:0', 'tf_bert_model_14/bert/encoder/layer_._10/attention/self/value/kernel:0', 'tf_bert_model_14/bert/encoder/layer_._10/attention/self/value/bias:0', 'tf_bert_model_14/bert/encoder/layer_._10/attention/output/dense/kernel:0', 'tf_bert_model_14/bert/encoder/layer_._10/attention/output/dense/bias:0', 'tf_bert_model_14/bert/encoder/layer_._10/attention/output/LayerNorm/gamma:0', 'tf_bert_model_14/bert/encoder/layer_._10/attention/output/LayerNorm/beta:0', 'tf_bert_model_14/bert/encoder/layer_._10/intermediate/dense/kernel:0', 'tf_bert_model_14/bert/encoder/layer_._10/intermediate/dense/bias:0', 'tf_bert_model_14/bert/encoder/layer_._10/output/dense/kernel:0', 'tf_bert_model_14/bert/encoder/layer_._10/output/dense/bias:0', 'tf_bert_model_14/bert/encoder/layer_._10/output/LayerNorm/gamma:0', 'tf_bert_model_14/bert/encoder/layer_._10/output/LayerNorm/beta:0', 'tf_bert_model_14/bert/pooler/dense/kernel:0', 'tf_bert_model_14/bert/pooler/dense/bias:0'] when minimizing the loss. If you're using `model.compile()`, did you forget to provide a `loss`argument?\n",
            "WARNING:tensorflow:Gradients do not exist for variables ['tf_bert_model_14/bert/embeddings/word_embeddings/weight:0', 'tf_bert_model_14/bert/embeddings/token_type_embeddings/embeddings:0', 'tf_bert_model_14/bert/embeddings/position_embeddings/embeddings:0', 'tf_bert_model_14/bert/embeddings/LayerNorm/gamma:0', 'tf_bert_model_14/bert/embeddings/LayerNorm/beta:0', 'tf_bert_model_14/bert/encoder/layer_._0/attention/self/query/kernel:0', 'tf_bert_model_14/bert/encoder/layer_._0/attention/self/query/bias:0', 'tf_bert_model_14/bert/encoder/layer_._0/attention/self/key/kernel:0', 'tf_bert_model_14/bert/encoder/layer_._0/attention/self/key/bias:0', 'tf_bert_model_14/bert/encoder/layer_._0/attention/self/value/kernel:0', 'tf_bert_model_14/bert/encoder/layer_._0/attention/self/value/bias:0', 'tf_bert_model_14/bert/encoder/layer_._0/attention/output/dense/kernel:0', 'tf_bert_model_14/bert/encoder/layer_._0/attention/output/dense/bias:0', 'tf_bert_model_14/bert/encoder/layer_._0/attention/output/LayerNorm/gamma:0', 'tf_bert_model_14/bert/encoder/layer_._0/attention/output/LayerNorm/beta:0', 'tf_bert_model_14/bert/encoder/layer_._0/intermediate/dense/kernel:0', 'tf_bert_model_14/bert/encoder/layer_._0/intermediate/dense/bias:0', 'tf_bert_model_14/bert/encoder/layer_._0/output/dense/kernel:0', 'tf_bert_model_14/bert/encoder/layer_._0/output/dense/bias:0', 'tf_bert_model_14/bert/encoder/layer_._0/output/LayerNorm/gamma:0', 'tf_bert_model_14/bert/encoder/layer_._0/output/LayerNorm/beta:0', 'tf_bert_model_14/bert/encoder/layer_._1/attention/self/query/kernel:0', 'tf_bert_model_14/bert/encoder/layer_._1/attention/self/query/bias:0', 'tf_bert_model_14/bert/encoder/layer_._1/attention/self/key/kernel:0', 'tf_bert_model_14/bert/encoder/layer_._1/attention/self/key/bias:0', 'tf_bert_model_14/bert/encoder/layer_._1/attention/self/value/kernel:0', 'tf_bert_model_14/bert/encoder/layer_._1/attention/self/value/bias:0', 'tf_bert_model_14/bert/encoder/layer_._1/attention/output/dense/kernel:0', 'tf_bert_model_14/bert/encoder/layer_._1/attention/output/dense/bias:0', 'tf_bert_model_14/bert/encoder/layer_._1/attention/output/LayerNorm/gamma:0', 'tf_bert_model_14/bert/encoder/layer_._1/attention/output/LayerNorm/beta:0', 'tf_bert_model_14/bert/encoder/layer_._1/intermediate/dense/kernel:0', 'tf_bert_model_14/bert/encoder/layer_._1/intermediate/dense/bias:0', 'tf_bert_model_14/bert/encoder/layer_._1/output/dense/kernel:0', 'tf_bert_model_14/bert/encoder/layer_._1/output/dense/bias:0', 'tf_bert_model_14/bert/encoder/layer_._1/output/LayerNorm/gamma:0', 'tf_bert_model_14/bert/encoder/layer_._1/output/LayerNorm/beta:0', 'tf_bert_model_14/bert/encoder/layer_._2/attention/self/query/kernel:0', 'tf_bert_model_14/bert/encoder/layer_._2/attention/self/query/bias:0', 'tf_bert_model_14/bert/encoder/layer_._2/attention/self/key/kernel:0', 'tf_bert_model_14/bert/encoder/layer_._2/attention/self/key/bias:0', 'tf_bert_model_14/bert/encoder/layer_._2/attention/self/value/kernel:0', 'tf_bert_model_14/bert/encoder/layer_._2/attention/self/value/bias:0', 'tf_bert_model_14/bert/encoder/layer_._2/attention/output/dense/kernel:0', 'tf_bert_model_14/bert/encoder/layer_._2/attention/output/dense/bias:0', 'tf_bert_model_14/bert/encoder/layer_._2/attention/output/LayerNorm/gamma:0', 'tf_bert_model_14/bert/encoder/layer_._2/attention/output/LayerNorm/beta:0', 'tf_bert_model_14/bert/encoder/layer_._2/intermediate/dense/kernel:0', 'tf_bert_model_14/bert/encoder/layer_._2/intermediate/dense/bias:0', 'tf_bert_model_14/bert/encoder/layer_._2/output/dense/kernel:0', 'tf_bert_model_14/bert/encoder/layer_._2/output/dense/bias:0', 'tf_bert_model_14/bert/encoder/layer_._2/output/LayerNorm/gamma:0', 'tf_bert_model_14/bert/encoder/layer_._2/output/LayerNorm/beta:0', 'tf_bert_model_14/bert/encoder/layer_._3/attention/self/query/kernel:0', 'tf_bert_model_14/bert/encoder/layer_._3/attention/self/query/bias:0', 'tf_bert_model_14/bert/encoder/layer_._3/attention/self/key/kernel:0', 'tf_bert_model_14/bert/encoder/layer_._3/attention/self/key/bias:0', 'tf_bert_model_14/bert/encoder/layer_._3/attention/self/value/kernel:0', 'tf_bert_model_14/bert/encoder/layer_._3/attention/self/value/bias:0', 'tf_bert_model_14/bert/encoder/layer_._3/attention/output/dense/kernel:0', 'tf_bert_model_14/bert/encoder/layer_._3/attention/output/dense/bias:0', 'tf_bert_model_14/bert/encoder/layer_._3/attention/output/LayerNorm/gamma:0', 'tf_bert_model_14/bert/encoder/layer_._3/attention/output/LayerNorm/beta:0', 'tf_bert_model_14/bert/encoder/layer_._3/intermediate/dense/kernel:0', 'tf_bert_model_14/bert/encoder/layer_._3/intermediate/dense/bias:0', 'tf_bert_model_14/bert/encoder/layer_._3/output/dense/kernel:0', 'tf_bert_model_14/bert/encoder/layer_._3/output/dense/bias:0', 'tf_bert_model_14/bert/encoder/layer_._3/output/LayerNorm/gamma:0', 'tf_bert_model_14/bert/encoder/layer_._3/output/LayerNorm/beta:0', 'tf_bert_model_14/bert/encoder/layer_._4/attention/self/query/kernel:0', 'tf_bert_model_14/bert/encoder/layer_._4/attention/self/query/bias:0', 'tf_bert_model_14/bert/encoder/layer_._4/attention/self/key/kernel:0', 'tf_bert_model_14/bert/encoder/layer_._4/attention/self/key/bias:0', 'tf_bert_model_14/bert/encoder/layer_._4/attention/self/value/kernel:0', 'tf_bert_model_14/bert/encoder/layer_._4/attention/self/value/bias:0', 'tf_bert_model_14/bert/encoder/layer_._4/attention/output/dense/kernel:0', 'tf_bert_model_14/bert/encoder/layer_._4/attention/output/dense/bias:0', 'tf_bert_model_14/bert/encoder/layer_._4/attention/output/LayerNorm/gamma:0', 'tf_bert_model_14/bert/encoder/layer_._4/attention/output/LayerNorm/beta:0', 'tf_bert_model_14/bert/encoder/layer_._4/intermediate/dense/kernel:0', 'tf_bert_model_14/bert/encoder/layer_._4/intermediate/dense/bias:0', 'tf_bert_model_14/bert/encoder/layer_._4/output/dense/kernel:0', 'tf_bert_model_14/bert/encoder/layer_._4/output/dense/bias:0', 'tf_bert_model_14/bert/encoder/layer_._4/output/LayerNorm/gamma:0', 'tf_bert_model_14/bert/encoder/layer_._4/output/LayerNorm/beta:0', 'tf_bert_model_14/bert/encoder/layer_._5/attention/self/query/kernel:0', 'tf_bert_model_14/bert/encoder/layer_._5/attention/self/query/bias:0', 'tf_bert_model_14/bert/encoder/layer_._5/attention/self/key/kernel:0', 'tf_bert_model_14/bert/encoder/layer_._5/attention/self/key/bias:0', 'tf_bert_model_14/bert/encoder/layer_._5/attention/self/value/kernel:0', 'tf_bert_model_14/bert/encoder/layer_._5/attention/self/value/bias:0', 'tf_bert_model_14/bert/encoder/layer_._5/attention/output/dense/kernel:0', 'tf_bert_model_14/bert/encoder/layer_._5/attention/output/dense/bias:0', 'tf_bert_model_14/bert/encoder/layer_._5/attention/output/LayerNorm/gamma:0', 'tf_bert_model_14/bert/encoder/layer_._5/attention/output/LayerNorm/beta:0', 'tf_bert_model_14/bert/encoder/layer_._5/intermediate/dense/kernel:0', 'tf_bert_model_14/bert/encoder/layer_._5/intermediate/dense/bias:0', 'tf_bert_model_14/bert/encoder/layer_._5/output/dense/kernel:0', 'tf_bert_model_14/bert/encoder/layer_._5/output/dense/bias:0', 'tf_bert_model_14/bert/encoder/layer_._5/output/LayerNorm/gamma:0', 'tf_bert_model_14/bert/encoder/layer_._5/output/LayerNorm/beta:0', 'tf_bert_model_14/bert/encoder/layer_._6/attention/self/query/kernel:0', 'tf_bert_model_14/bert/encoder/layer_._6/attention/self/query/bias:0', 'tf_bert_model_14/bert/encoder/layer_._6/attention/self/key/kernel:0', 'tf_bert_model_14/bert/encoder/layer_._6/attention/self/key/bias:0', 'tf_bert_model_14/bert/encoder/layer_._6/attention/self/value/kernel:0', 'tf_bert_model_14/bert/encoder/layer_._6/attention/self/value/bias:0', 'tf_bert_model_14/bert/encoder/layer_._6/attention/output/dense/kernel:0', 'tf_bert_model_14/bert/encoder/layer_._6/attention/output/dense/bias:0', 'tf_bert_model_14/bert/encoder/layer_._6/attention/output/LayerNorm/gamma:0', 'tf_bert_model_14/bert/encoder/layer_._6/attention/output/LayerNorm/beta:0', 'tf_bert_model_14/bert/encoder/layer_._6/intermediate/dense/kernel:0', 'tf_bert_model_14/bert/encoder/layer_._6/intermediate/dense/bias:0', 'tf_bert_model_14/bert/encoder/layer_._6/output/dense/kernel:0', 'tf_bert_model_14/bert/encoder/layer_._6/output/dense/bias:0', 'tf_bert_model_14/bert/encoder/layer_._6/output/LayerNorm/gamma:0', 'tf_bert_model_14/bert/encoder/layer_._6/output/LayerNorm/beta:0', 'tf_bert_model_14/bert/encoder/layer_._7/attention/self/query/kernel:0', 'tf_bert_model_14/bert/encoder/layer_._7/attention/self/query/bias:0', 'tf_bert_model_14/bert/encoder/layer_._7/attention/self/key/kernel:0', 'tf_bert_model_14/bert/encoder/layer_._7/attention/self/key/bias:0', 'tf_bert_model_14/bert/encoder/layer_._7/attention/self/value/kernel:0', 'tf_bert_model_14/bert/encoder/layer_._7/attention/self/value/bias:0', 'tf_bert_model_14/bert/encoder/layer_._7/attention/output/dense/kernel:0', 'tf_bert_model_14/bert/encoder/layer_._7/attention/output/dense/bias:0', 'tf_bert_model_14/bert/encoder/layer_._7/attention/output/LayerNorm/gamma:0', 'tf_bert_model_14/bert/encoder/layer_._7/attention/output/LayerNorm/beta:0', 'tf_bert_model_14/bert/encoder/layer_._7/intermediate/dense/kernel:0', 'tf_bert_model_14/bert/encoder/layer_._7/intermediate/dense/bias:0', 'tf_bert_model_14/bert/encoder/layer_._7/output/dense/kernel:0', 'tf_bert_model_14/bert/encoder/layer_._7/output/dense/bias:0', 'tf_bert_model_14/bert/encoder/layer_._7/output/LayerNorm/gamma:0', 'tf_bert_model_14/bert/encoder/layer_._7/output/LayerNorm/beta:0', 'tf_bert_model_14/bert/encoder/layer_._8/attention/self/query/kernel:0', 'tf_bert_model_14/bert/encoder/layer_._8/attention/self/query/bias:0', 'tf_bert_model_14/bert/encoder/layer_._8/attention/self/key/kernel:0', 'tf_bert_model_14/bert/encoder/layer_._8/attention/self/key/bias:0', 'tf_bert_model_14/bert/encoder/layer_._8/attention/self/value/kernel:0', 'tf_bert_model_14/bert/encoder/layer_._8/attention/self/value/bias:0', 'tf_bert_model_14/bert/encoder/layer_._8/attention/output/dense/kernel:0', 'tf_bert_model_14/bert/encoder/layer_._8/attention/output/dense/bias:0', 'tf_bert_model_14/bert/encoder/layer_._8/attention/output/LayerNorm/gamma:0', 'tf_bert_model_14/bert/encoder/layer_._8/attention/output/LayerNorm/beta:0', 'tf_bert_model_14/bert/encoder/layer_._8/intermediate/dense/kernel:0', 'tf_bert_model_14/bert/encoder/layer_._8/intermediate/dense/bias:0', 'tf_bert_model_14/bert/encoder/layer_._8/output/dense/kernel:0', 'tf_bert_model_14/bert/encoder/layer_._8/output/dense/bias:0', 'tf_bert_model_14/bert/encoder/layer_._8/output/LayerNorm/gamma:0', 'tf_bert_model_14/bert/encoder/layer_._8/output/LayerNorm/beta:0', 'tf_bert_model_14/bert/encoder/layer_._9/attention/self/query/kernel:0', 'tf_bert_model_14/bert/encoder/layer_._9/attention/self/query/bias:0', 'tf_bert_model_14/bert/encoder/layer_._9/attention/self/key/kernel:0', 'tf_bert_model_14/bert/encoder/layer_._9/attention/self/key/bias:0', 'tf_bert_model_14/bert/encoder/layer_._9/attention/self/value/kernel:0', 'tf_bert_model_14/bert/encoder/layer_._9/attention/self/value/bias:0', 'tf_bert_model_14/bert/encoder/layer_._9/attention/output/dense/kernel:0', 'tf_bert_model_14/bert/encoder/layer_._9/attention/output/dense/bias:0', 'tf_bert_model_14/bert/encoder/layer_._9/attention/output/LayerNorm/gamma:0', 'tf_bert_model_14/bert/encoder/layer_._9/attention/output/LayerNorm/beta:0', 'tf_bert_model_14/bert/encoder/layer_._9/intermediate/dense/kernel:0', 'tf_bert_model_14/bert/encoder/layer_._9/intermediate/dense/bias:0', 'tf_bert_model_14/bert/encoder/layer_._9/output/dense/kernel:0', 'tf_bert_model_14/bert/encoder/layer_._9/output/dense/bias:0', 'tf_bert_model_14/bert/encoder/layer_._9/output/LayerNorm/gamma:0', 'tf_bert_model_14/bert/encoder/layer_._9/output/LayerNorm/beta:0', 'tf_bert_model_14/bert/encoder/layer_._10/attention/self/query/kernel:0', 'tf_bert_model_14/bert/encoder/layer_._10/attention/self/query/bias:0', 'tf_bert_model_14/bert/encoder/layer_._10/attention/self/key/kernel:0', 'tf_bert_model_14/bert/encoder/layer_._10/attention/self/key/bias:0', 'tf_bert_model_14/bert/encoder/layer_._10/attention/self/value/kernel:0', 'tf_bert_model_14/bert/encoder/layer_._10/attention/self/value/bias:0', 'tf_bert_model_14/bert/encoder/layer_._10/attention/output/dense/kernel:0', 'tf_bert_model_14/bert/encoder/layer_._10/attention/output/dense/bias:0', 'tf_bert_model_14/bert/encoder/layer_._10/attention/output/LayerNorm/gamma:0', 'tf_bert_model_14/bert/encoder/layer_._10/attention/output/LayerNorm/beta:0', 'tf_bert_model_14/bert/encoder/layer_._10/intermediate/dense/kernel:0', 'tf_bert_model_14/bert/encoder/layer_._10/intermediate/dense/bias:0', 'tf_bert_model_14/bert/encoder/layer_._10/output/dense/kernel:0', 'tf_bert_model_14/bert/encoder/layer_._10/output/dense/bias:0', 'tf_bert_model_14/bert/encoder/layer_._10/output/LayerNorm/gamma:0', 'tf_bert_model_14/bert/encoder/layer_._10/output/LayerNorm/beta:0', 'tf_bert_model_14/bert/pooler/dense/kernel:0', 'tf_bert_model_14/bert/pooler/dense/bias:0'] when minimizing the loss. If you're using `model.compile()`, did you forget to provide a `loss`argument?\n",
            "489/489 [==============================] - 30s 47ms/step - loss: 0.0867 - accuracy: 0.9693 - val_loss: 0.0559 - val_accuracy: 0.9836\n",
            "Epoch 2/3\n",
            "489/489 [==============================] - 20s 40ms/step - loss: 0.0292 - accuracy: 0.9908 - val_loss: 0.0520 - val_accuracy: 0.9885\n",
            "Epoch 3/3\n",
            "489/489 [==============================] - 20s 40ms/step - loss: 0.0232 - accuracy: 0.9926 - val_loss: 0.0554 - val_accuracy: 0.9869\n",
            "BERT 3e + CNN kernel un, train: accuracy = 0.9982, precision = 1.0000, recall = 0.9914, f1 = 0.9957\n",
            "validation: accuracy = 0.9918, precision = 0.9949, recall = 0.9653, f1 = 0.9799\n"
          ]
        },
        {
          "output_type": "stream",
          "name": "stderr",
          "text": [
            "Some layers from the model checkpoint at bert-base-cased were not used when initializing TFBertModel: ['nsp___cls', 'mlm___cls']\n",
            "- This IS expected if you are initializing TFBertModel from the checkpoint of a model trained on another task or with another architecture (e.g. initializing a BertForSequenceClassification model from a BertForPreTraining model).\n",
            "- This IS NOT expected if you are initializing TFBertModel from the checkpoint of a model that you expect to be exactly identical (initializing a BertForSequenceClassification model from a BertForSequenceClassification model).\n",
            "All the layers of TFBertModel were initialized from the model checkpoint at bert-base-cased.\n",
            "If your task is similar to the task the model of the checkpoint was trained on, you can already use TFBertModel for predictions without further training.\n"
          ]
        },
        {
          "output_type": "stream",
          "name": "stdout",
          "text": [
            "Epoch 1/3\n",
            "WARNING:tensorflow:Gradients do not exist for variables ['tf_bert_model_15/bert/embeddings/word_embeddings/weight:0', 'tf_bert_model_15/bert/embeddings/token_type_embeddings/embeddings:0', 'tf_bert_model_15/bert/embeddings/position_embeddings/embeddings:0', 'tf_bert_model_15/bert/embeddings/LayerNorm/gamma:0', 'tf_bert_model_15/bert/embeddings/LayerNorm/beta:0', 'tf_bert_model_15/bert/encoder/layer_._0/attention/self/query/kernel:0', 'tf_bert_model_15/bert/encoder/layer_._0/attention/self/query/bias:0', 'tf_bert_model_15/bert/encoder/layer_._0/attention/self/key/kernel:0', 'tf_bert_model_15/bert/encoder/layer_._0/attention/self/key/bias:0', 'tf_bert_model_15/bert/encoder/layer_._0/attention/self/value/kernel:0', 'tf_bert_model_15/bert/encoder/layer_._0/attention/self/value/bias:0', 'tf_bert_model_15/bert/encoder/layer_._0/attention/output/dense/kernel:0', 'tf_bert_model_15/bert/encoder/layer_._0/attention/output/dense/bias:0', 'tf_bert_model_15/bert/encoder/layer_._0/attention/output/LayerNorm/gamma:0', 'tf_bert_model_15/bert/encoder/layer_._0/attention/output/LayerNorm/beta:0', 'tf_bert_model_15/bert/encoder/layer_._0/intermediate/dense/kernel:0', 'tf_bert_model_15/bert/encoder/layer_._0/intermediate/dense/bias:0', 'tf_bert_model_15/bert/encoder/layer_._0/output/dense/kernel:0', 'tf_bert_model_15/bert/encoder/layer_._0/output/dense/bias:0', 'tf_bert_model_15/bert/encoder/layer_._0/output/LayerNorm/gamma:0', 'tf_bert_model_15/bert/encoder/layer_._0/output/LayerNorm/beta:0', 'tf_bert_model_15/bert/encoder/layer_._1/attention/self/query/kernel:0', 'tf_bert_model_15/bert/encoder/layer_._1/attention/self/query/bias:0', 'tf_bert_model_15/bert/encoder/layer_._1/attention/self/key/kernel:0', 'tf_bert_model_15/bert/encoder/layer_._1/attention/self/key/bias:0', 'tf_bert_model_15/bert/encoder/layer_._1/attention/self/value/kernel:0', 'tf_bert_model_15/bert/encoder/layer_._1/attention/self/value/bias:0', 'tf_bert_model_15/bert/encoder/layer_._1/attention/output/dense/kernel:0', 'tf_bert_model_15/bert/encoder/layer_._1/attention/output/dense/bias:0', 'tf_bert_model_15/bert/encoder/layer_._1/attention/output/LayerNorm/gamma:0', 'tf_bert_model_15/bert/encoder/layer_._1/attention/output/LayerNorm/beta:0', 'tf_bert_model_15/bert/encoder/layer_._1/intermediate/dense/kernel:0', 'tf_bert_model_15/bert/encoder/layer_._1/intermediate/dense/bias:0', 'tf_bert_model_15/bert/encoder/layer_._1/output/dense/kernel:0', 'tf_bert_model_15/bert/encoder/layer_._1/output/dense/bias:0', 'tf_bert_model_15/bert/encoder/layer_._1/output/LayerNorm/gamma:0', 'tf_bert_model_15/bert/encoder/layer_._1/output/LayerNorm/beta:0', 'tf_bert_model_15/bert/encoder/layer_._2/attention/self/query/kernel:0', 'tf_bert_model_15/bert/encoder/layer_._2/attention/self/query/bias:0', 'tf_bert_model_15/bert/encoder/layer_._2/attention/self/key/kernel:0', 'tf_bert_model_15/bert/encoder/layer_._2/attention/self/key/bias:0', 'tf_bert_model_15/bert/encoder/layer_._2/attention/self/value/kernel:0', 'tf_bert_model_15/bert/encoder/layer_._2/attention/self/value/bias:0', 'tf_bert_model_15/bert/encoder/layer_._2/attention/output/dense/kernel:0', 'tf_bert_model_15/bert/encoder/layer_._2/attention/output/dense/bias:0', 'tf_bert_model_15/bert/encoder/layer_._2/attention/output/LayerNorm/gamma:0', 'tf_bert_model_15/bert/encoder/layer_._2/attention/output/LayerNorm/beta:0', 'tf_bert_model_15/bert/encoder/layer_._2/intermediate/dense/kernel:0', 'tf_bert_model_15/bert/encoder/layer_._2/intermediate/dense/bias:0', 'tf_bert_model_15/bert/encoder/layer_._2/output/dense/kernel:0', 'tf_bert_model_15/bert/encoder/layer_._2/output/dense/bias:0', 'tf_bert_model_15/bert/encoder/layer_._2/output/LayerNorm/gamma:0', 'tf_bert_model_15/bert/encoder/layer_._2/output/LayerNorm/beta:0', 'tf_bert_model_15/bert/encoder/layer_._3/attention/self/query/kernel:0', 'tf_bert_model_15/bert/encoder/layer_._3/attention/self/query/bias:0', 'tf_bert_model_15/bert/encoder/layer_._3/attention/self/key/kernel:0', 'tf_bert_model_15/bert/encoder/layer_._3/attention/self/key/bias:0', 'tf_bert_model_15/bert/encoder/layer_._3/attention/self/value/kernel:0', 'tf_bert_model_15/bert/encoder/layer_._3/attention/self/value/bias:0', 'tf_bert_model_15/bert/encoder/layer_._3/attention/output/dense/kernel:0', 'tf_bert_model_15/bert/encoder/layer_._3/attention/output/dense/bias:0', 'tf_bert_model_15/bert/encoder/layer_._3/attention/output/LayerNorm/gamma:0', 'tf_bert_model_15/bert/encoder/layer_._3/attention/output/LayerNorm/beta:0', 'tf_bert_model_15/bert/encoder/layer_._3/intermediate/dense/kernel:0', 'tf_bert_model_15/bert/encoder/layer_._3/intermediate/dense/bias:0', 'tf_bert_model_15/bert/encoder/layer_._3/output/dense/kernel:0', 'tf_bert_model_15/bert/encoder/layer_._3/output/dense/bias:0', 'tf_bert_model_15/bert/encoder/layer_._3/output/LayerNorm/gamma:0', 'tf_bert_model_15/bert/encoder/layer_._3/output/LayerNorm/beta:0', 'tf_bert_model_15/bert/encoder/layer_._4/attention/self/query/kernel:0', 'tf_bert_model_15/bert/encoder/layer_._4/attention/self/query/bias:0', 'tf_bert_model_15/bert/encoder/layer_._4/attention/self/key/kernel:0', 'tf_bert_model_15/bert/encoder/layer_._4/attention/self/key/bias:0', 'tf_bert_model_15/bert/encoder/layer_._4/attention/self/value/kernel:0', 'tf_bert_model_15/bert/encoder/layer_._4/attention/self/value/bias:0', 'tf_bert_model_15/bert/encoder/layer_._4/attention/output/dense/kernel:0', 'tf_bert_model_15/bert/encoder/layer_._4/attention/output/dense/bias:0', 'tf_bert_model_15/bert/encoder/layer_._4/attention/output/LayerNorm/gamma:0', 'tf_bert_model_15/bert/encoder/layer_._4/attention/output/LayerNorm/beta:0', 'tf_bert_model_15/bert/encoder/layer_._4/intermediate/dense/kernel:0', 'tf_bert_model_15/bert/encoder/layer_._4/intermediate/dense/bias:0', 'tf_bert_model_15/bert/encoder/layer_._4/output/dense/kernel:0', 'tf_bert_model_15/bert/encoder/layer_._4/output/dense/bias:0', 'tf_bert_model_15/bert/encoder/layer_._4/output/LayerNorm/gamma:0', 'tf_bert_model_15/bert/encoder/layer_._4/output/LayerNorm/beta:0', 'tf_bert_model_15/bert/encoder/layer_._5/attention/self/query/kernel:0', 'tf_bert_model_15/bert/encoder/layer_._5/attention/self/query/bias:0', 'tf_bert_model_15/bert/encoder/layer_._5/attention/self/key/kernel:0', 'tf_bert_model_15/bert/encoder/layer_._5/attention/self/key/bias:0', 'tf_bert_model_15/bert/encoder/layer_._5/attention/self/value/kernel:0', 'tf_bert_model_15/bert/encoder/layer_._5/attention/self/value/bias:0', 'tf_bert_model_15/bert/encoder/layer_._5/attention/output/dense/kernel:0', 'tf_bert_model_15/bert/encoder/layer_._5/attention/output/dense/bias:0', 'tf_bert_model_15/bert/encoder/layer_._5/attention/output/LayerNorm/gamma:0', 'tf_bert_model_15/bert/encoder/layer_._5/attention/output/LayerNorm/beta:0', 'tf_bert_model_15/bert/encoder/layer_._5/intermediate/dense/kernel:0', 'tf_bert_model_15/bert/encoder/layer_._5/intermediate/dense/bias:0', 'tf_bert_model_15/bert/encoder/layer_._5/output/dense/kernel:0', 'tf_bert_model_15/bert/encoder/layer_._5/output/dense/bias:0', 'tf_bert_model_15/bert/encoder/layer_._5/output/LayerNorm/gamma:0', 'tf_bert_model_15/bert/encoder/layer_._5/output/LayerNorm/beta:0', 'tf_bert_model_15/bert/encoder/layer_._6/attention/self/query/kernel:0', 'tf_bert_model_15/bert/encoder/layer_._6/attention/self/query/bias:0', 'tf_bert_model_15/bert/encoder/layer_._6/attention/self/key/kernel:0', 'tf_bert_model_15/bert/encoder/layer_._6/attention/self/key/bias:0', 'tf_bert_model_15/bert/encoder/layer_._6/attention/self/value/kernel:0', 'tf_bert_model_15/bert/encoder/layer_._6/attention/self/value/bias:0', 'tf_bert_model_15/bert/encoder/layer_._6/attention/output/dense/kernel:0', 'tf_bert_model_15/bert/encoder/layer_._6/attention/output/dense/bias:0', 'tf_bert_model_15/bert/encoder/layer_._6/attention/output/LayerNorm/gamma:0', 'tf_bert_model_15/bert/encoder/layer_._6/attention/output/LayerNorm/beta:0', 'tf_bert_model_15/bert/encoder/layer_._6/intermediate/dense/kernel:0', 'tf_bert_model_15/bert/encoder/layer_._6/intermediate/dense/bias:0', 'tf_bert_model_15/bert/encoder/layer_._6/output/dense/kernel:0', 'tf_bert_model_15/bert/encoder/layer_._6/output/dense/bias:0', 'tf_bert_model_15/bert/encoder/layer_._6/output/LayerNorm/gamma:0', 'tf_bert_model_15/bert/encoder/layer_._6/output/LayerNorm/beta:0', 'tf_bert_model_15/bert/encoder/layer_._7/attention/self/query/kernel:0', 'tf_bert_model_15/bert/encoder/layer_._7/attention/self/query/bias:0', 'tf_bert_model_15/bert/encoder/layer_._7/attention/self/key/kernel:0', 'tf_bert_model_15/bert/encoder/layer_._7/attention/self/key/bias:0', 'tf_bert_model_15/bert/encoder/layer_._7/attention/self/value/kernel:0', 'tf_bert_model_15/bert/encoder/layer_._7/attention/self/value/bias:0', 'tf_bert_model_15/bert/encoder/layer_._7/attention/output/dense/kernel:0', 'tf_bert_model_15/bert/encoder/layer_._7/attention/output/dense/bias:0', 'tf_bert_model_15/bert/encoder/layer_._7/attention/output/LayerNorm/gamma:0', 'tf_bert_model_15/bert/encoder/layer_._7/attention/output/LayerNorm/beta:0', 'tf_bert_model_15/bert/encoder/layer_._7/intermediate/dense/kernel:0', 'tf_bert_model_15/bert/encoder/layer_._7/intermediate/dense/bias:0', 'tf_bert_model_15/bert/encoder/layer_._7/output/dense/kernel:0', 'tf_bert_model_15/bert/encoder/layer_._7/output/dense/bias:0', 'tf_bert_model_15/bert/encoder/layer_._7/output/LayerNorm/gamma:0', 'tf_bert_model_15/bert/encoder/layer_._7/output/LayerNorm/beta:0', 'tf_bert_model_15/bert/encoder/layer_._8/attention/self/query/kernel:0', 'tf_bert_model_15/bert/encoder/layer_._8/attention/self/query/bias:0', 'tf_bert_model_15/bert/encoder/layer_._8/attention/self/key/kernel:0', 'tf_bert_model_15/bert/encoder/layer_._8/attention/self/key/bias:0', 'tf_bert_model_15/bert/encoder/layer_._8/attention/self/value/kernel:0', 'tf_bert_model_15/bert/encoder/layer_._8/attention/self/value/bias:0', 'tf_bert_model_15/bert/encoder/layer_._8/attention/output/dense/kernel:0', 'tf_bert_model_15/bert/encoder/layer_._8/attention/output/dense/bias:0', 'tf_bert_model_15/bert/encoder/layer_._8/attention/output/LayerNorm/gamma:0', 'tf_bert_model_15/bert/encoder/layer_._8/attention/output/LayerNorm/beta:0', 'tf_bert_model_15/bert/encoder/layer_._8/intermediate/dense/kernel:0', 'tf_bert_model_15/bert/encoder/layer_._8/intermediate/dense/bias:0', 'tf_bert_model_15/bert/encoder/layer_._8/output/dense/kernel:0', 'tf_bert_model_15/bert/encoder/layer_._8/output/dense/bias:0', 'tf_bert_model_15/bert/encoder/layer_._8/output/LayerNorm/gamma:0', 'tf_bert_model_15/bert/encoder/layer_._8/output/LayerNorm/beta:0', 'tf_bert_model_15/bert/encoder/layer_._9/attention/self/query/kernel:0', 'tf_bert_model_15/bert/encoder/layer_._9/attention/self/query/bias:0', 'tf_bert_model_15/bert/encoder/layer_._9/attention/self/key/kernel:0', 'tf_bert_model_15/bert/encoder/layer_._9/attention/self/key/bias:0', 'tf_bert_model_15/bert/encoder/layer_._9/attention/self/value/kernel:0', 'tf_bert_model_15/bert/encoder/layer_._9/attention/self/value/bias:0', 'tf_bert_model_15/bert/encoder/layer_._9/attention/output/dense/kernel:0', 'tf_bert_model_15/bert/encoder/layer_._9/attention/output/dense/bias:0', 'tf_bert_model_15/bert/encoder/layer_._9/attention/output/LayerNorm/gamma:0', 'tf_bert_model_15/bert/encoder/layer_._9/attention/output/LayerNorm/beta:0', 'tf_bert_model_15/bert/encoder/layer_._9/intermediate/dense/kernel:0', 'tf_bert_model_15/bert/encoder/layer_._9/intermediate/dense/bias:0', 'tf_bert_model_15/bert/encoder/layer_._9/output/dense/kernel:0', 'tf_bert_model_15/bert/encoder/layer_._9/output/dense/bias:0', 'tf_bert_model_15/bert/encoder/layer_._9/output/LayerNorm/gamma:0', 'tf_bert_model_15/bert/encoder/layer_._9/output/LayerNorm/beta:0', 'tf_bert_model_15/bert/encoder/layer_._10/attention/self/query/kernel:0', 'tf_bert_model_15/bert/encoder/layer_._10/attention/self/query/bias:0', 'tf_bert_model_15/bert/encoder/layer_._10/attention/self/key/kernel:0', 'tf_bert_model_15/bert/encoder/layer_._10/attention/self/key/bias:0', 'tf_bert_model_15/bert/encoder/layer_._10/attention/self/value/kernel:0', 'tf_bert_model_15/bert/encoder/layer_._10/attention/self/value/bias:0', 'tf_bert_model_15/bert/encoder/layer_._10/attention/output/dense/kernel:0', 'tf_bert_model_15/bert/encoder/layer_._10/attention/output/dense/bias:0', 'tf_bert_model_15/bert/encoder/layer_._10/attention/output/LayerNorm/gamma:0', 'tf_bert_model_15/bert/encoder/layer_._10/attention/output/LayerNorm/beta:0', 'tf_bert_model_15/bert/encoder/layer_._10/intermediate/dense/kernel:0', 'tf_bert_model_15/bert/encoder/layer_._10/intermediate/dense/bias:0', 'tf_bert_model_15/bert/encoder/layer_._10/output/dense/kernel:0', 'tf_bert_model_15/bert/encoder/layer_._10/output/dense/bias:0', 'tf_bert_model_15/bert/encoder/layer_._10/output/LayerNorm/gamma:0', 'tf_bert_model_15/bert/encoder/layer_._10/output/LayerNorm/beta:0', 'tf_bert_model_15/bert/pooler/dense/kernel:0', 'tf_bert_model_15/bert/pooler/dense/bias:0'] when minimizing the loss. If you're using `model.compile()`, did you forget to provide a `loss`argument?\n",
            "WARNING:tensorflow:Gradients do not exist for variables ['tf_bert_model_15/bert/embeddings/word_embeddings/weight:0', 'tf_bert_model_15/bert/embeddings/token_type_embeddings/embeddings:0', 'tf_bert_model_15/bert/embeddings/position_embeddings/embeddings:0', 'tf_bert_model_15/bert/embeddings/LayerNorm/gamma:0', 'tf_bert_model_15/bert/embeddings/LayerNorm/beta:0', 'tf_bert_model_15/bert/encoder/layer_._0/attention/self/query/kernel:0', 'tf_bert_model_15/bert/encoder/layer_._0/attention/self/query/bias:0', 'tf_bert_model_15/bert/encoder/layer_._0/attention/self/key/kernel:0', 'tf_bert_model_15/bert/encoder/layer_._0/attention/self/key/bias:0', 'tf_bert_model_15/bert/encoder/layer_._0/attention/self/value/kernel:0', 'tf_bert_model_15/bert/encoder/layer_._0/attention/self/value/bias:0', 'tf_bert_model_15/bert/encoder/layer_._0/attention/output/dense/kernel:0', 'tf_bert_model_15/bert/encoder/layer_._0/attention/output/dense/bias:0', 'tf_bert_model_15/bert/encoder/layer_._0/attention/output/LayerNorm/gamma:0', 'tf_bert_model_15/bert/encoder/layer_._0/attention/output/LayerNorm/beta:0', 'tf_bert_model_15/bert/encoder/layer_._0/intermediate/dense/kernel:0', 'tf_bert_model_15/bert/encoder/layer_._0/intermediate/dense/bias:0', 'tf_bert_model_15/bert/encoder/layer_._0/output/dense/kernel:0', 'tf_bert_model_15/bert/encoder/layer_._0/output/dense/bias:0', 'tf_bert_model_15/bert/encoder/layer_._0/output/LayerNorm/gamma:0', 'tf_bert_model_15/bert/encoder/layer_._0/output/LayerNorm/beta:0', 'tf_bert_model_15/bert/encoder/layer_._1/attention/self/query/kernel:0', 'tf_bert_model_15/bert/encoder/layer_._1/attention/self/query/bias:0', 'tf_bert_model_15/bert/encoder/layer_._1/attention/self/key/kernel:0', 'tf_bert_model_15/bert/encoder/layer_._1/attention/self/key/bias:0', 'tf_bert_model_15/bert/encoder/layer_._1/attention/self/value/kernel:0', 'tf_bert_model_15/bert/encoder/layer_._1/attention/self/value/bias:0', 'tf_bert_model_15/bert/encoder/layer_._1/attention/output/dense/kernel:0', 'tf_bert_model_15/bert/encoder/layer_._1/attention/output/dense/bias:0', 'tf_bert_model_15/bert/encoder/layer_._1/attention/output/LayerNorm/gamma:0', 'tf_bert_model_15/bert/encoder/layer_._1/attention/output/LayerNorm/beta:0', 'tf_bert_model_15/bert/encoder/layer_._1/intermediate/dense/kernel:0', 'tf_bert_model_15/bert/encoder/layer_._1/intermediate/dense/bias:0', 'tf_bert_model_15/bert/encoder/layer_._1/output/dense/kernel:0', 'tf_bert_model_15/bert/encoder/layer_._1/output/dense/bias:0', 'tf_bert_model_15/bert/encoder/layer_._1/output/LayerNorm/gamma:0', 'tf_bert_model_15/bert/encoder/layer_._1/output/LayerNorm/beta:0', 'tf_bert_model_15/bert/encoder/layer_._2/attention/self/query/kernel:0', 'tf_bert_model_15/bert/encoder/layer_._2/attention/self/query/bias:0', 'tf_bert_model_15/bert/encoder/layer_._2/attention/self/key/kernel:0', 'tf_bert_model_15/bert/encoder/layer_._2/attention/self/key/bias:0', 'tf_bert_model_15/bert/encoder/layer_._2/attention/self/value/kernel:0', 'tf_bert_model_15/bert/encoder/layer_._2/attention/self/value/bias:0', 'tf_bert_model_15/bert/encoder/layer_._2/attention/output/dense/kernel:0', 'tf_bert_model_15/bert/encoder/layer_._2/attention/output/dense/bias:0', 'tf_bert_model_15/bert/encoder/layer_._2/attention/output/LayerNorm/gamma:0', 'tf_bert_model_15/bert/encoder/layer_._2/attention/output/LayerNorm/beta:0', 'tf_bert_model_15/bert/encoder/layer_._2/intermediate/dense/kernel:0', 'tf_bert_model_15/bert/encoder/layer_._2/intermediate/dense/bias:0', 'tf_bert_model_15/bert/encoder/layer_._2/output/dense/kernel:0', 'tf_bert_model_15/bert/encoder/layer_._2/output/dense/bias:0', 'tf_bert_model_15/bert/encoder/layer_._2/output/LayerNorm/gamma:0', 'tf_bert_model_15/bert/encoder/layer_._2/output/LayerNorm/beta:0', 'tf_bert_model_15/bert/encoder/layer_._3/attention/self/query/kernel:0', 'tf_bert_model_15/bert/encoder/layer_._3/attention/self/query/bias:0', 'tf_bert_model_15/bert/encoder/layer_._3/attention/self/key/kernel:0', 'tf_bert_model_15/bert/encoder/layer_._3/attention/self/key/bias:0', 'tf_bert_model_15/bert/encoder/layer_._3/attention/self/value/kernel:0', 'tf_bert_model_15/bert/encoder/layer_._3/attention/self/value/bias:0', 'tf_bert_model_15/bert/encoder/layer_._3/attention/output/dense/kernel:0', 'tf_bert_model_15/bert/encoder/layer_._3/attention/output/dense/bias:0', 'tf_bert_model_15/bert/encoder/layer_._3/attention/output/LayerNorm/gamma:0', 'tf_bert_model_15/bert/encoder/layer_._3/attention/output/LayerNorm/beta:0', 'tf_bert_model_15/bert/encoder/layer_._3/intermediate/dense/kernel:0', 'tf_bert_model_15/bert/encoder/layer_._3/intermediate/dense/bias:0', 'tf_bert_model_15/bert/encoder/layer_._3/output/dense/kernel:0', 'tf_bert_model_15/bert/encoder/layer_._3/output/dense/bias:0', 'tf_bert_model_15/bert/encoder/layer_._3/output/LayerNorm/gamma:0', 'tf_bert_model_15/bert/encoder/layer_._3/output/LayerNorm/beta:0', 'tf_bert_model_15/bert/encoder/layer_._4/attention/self/query/kernel:0', 'tf_bert_model_15/bert/encoder/layer_._4/attention/self/query/bias:0', 'tf_bert_model_15/bert/encoder/layer_._4/attention/self/key/kernel:0', 'tf_bert_model_15/bert/encoder/layer_._4/attention/self/key/bias:0', 'tf_bert_model_15/bert/encoder/layer_._4/attention/self/value/kernel:0', 'tf_bert_model_15/bert/encoder/layer_._4/attention/self/value/bias:0', 'tf_bert_model_15/bert/encoder/layer_._4/attention/output/dense/kernel:0', 'tf_bert_model_15/bert/encoder/layer_._4/attention/output/dense/bias:0', 'tf_bert_model_15/bert/encoder/layer_._4/attention/output/LayerNorm/gamma:0', 'tf_bert_model_15/bert/encoder/layer_._4/attention/output/LayerNorm/beta:0', 'tf_bert_model_15/bert/encoder/layer_._4/intermediate/dense/kernel:0', 'tf_bert_model_15/bert/encoder/layer_._4/intermediate/dense/bias:0', 'tf_bert_model_15/bert/encoder/layer_._4/output/dense/kernel:0', 'tf_bert_model_15/bert/encoder/layer_._4/output/dense/bias:0', 'tf_bert_model_15/bert/encoder/layer_._4/output/LayerNorm/gamma:0', 'tf_bert_model_15/bert/encoder/layer_._4/output/LayerNorm/beta:0', 'tf_bert_model_15/bert/encoder/layer_._5/attention/self/query/kernel:0', 'tf_bert_model_15/bert/encoder/layer_._5/attention/self/query/bias:0', 'tf_bert_model_15/bert/encoder/layer_._5/attention/self/key/kernel:0', 'tf_bert_model_15/bert/encoder/layer_._5/attention/self/key/bias:0', 'tf_bert_model_15/bert/encoder/layer_._5/attention/self/value/kernel:0', 'tf_bert_model_15/bert/encoder/layer_._5/attention/self/value/bias:0', 'tf_bert_model_15/bert/encoder/layer_._5/attention/output/dense/kernel:0', 'tf_bert_model_15/bert/encoder/layer_._5/attention/output/dense/bias:0', 'tf_bert_model_15/bert/encoder/layer_._5/attention/output/LayerNorm/gamma:0', 'tf_bert_model_15/bert/encoder/layer_._5/attention/output/LayerNorm/beta:0', 'tf_bert_model_15/bert/encoder/layer_._5/intermediate/dense/kernel:0', 'tf_bert_model_15/bert/encoder/layer_._5/intermediate/dense/bias:0', 'tf_bert_model_15/bert/encoder/layer_._5/output/dense/kernel:0', 'tf_bert_model_15/bert/encoder/layer_._5/output/dense/bias:0', 'tf_bert_model_15/bert/encoder/layer_._5/output/LayerNorm/gamma:0', 'tf_bert_model_15/bert/encoder/layer_._5/output/LayerNorm/beta:0', 'tf_bert_model_15/bert/encoder/layer_._6/attention/self/query/kernel:0', 'tf_bert_model_15/bert/encoder/layer_._6/attention/self/query/bias:0', 'tf_bert_model_15/bert/encoder/layer_._6/attention/self/key/kernel:0', 'tf_bert_model_15/bert/encoder/layer_._6/attention/self/key/bias:0', 'tf_bert_model_15/bert/encoder/layer_._6/attention/self/value/kernel:0', 'tf_bert_model_15/bert/encoder/layer_._6/attention/self/value/bias:0', 'tf_bert_model_15/bert/encoder/layer_._6/attention/output/dense/kernel:0', 'tf_bert_model_15/bert/encoder/layer_._6/attention/output/dense/bias:0', 'tf_bert_model_15/bert/encoder/layer_._6/attention/output/LayerNorm/gamma:0', 'tf_bert_model_15/bert/encoder/layer_._6/attention/output/LayerNorm/beta:0', 'tf_bert_model_15/bert/encoder/layer_._6/intermediate/dense/kernel:0', 'tf_bert_model_15/bert/encoder/layer_._6/intermediate/dense/bias:0', 'tf_bert_model_15/bert/encoder/layer_._6/output/dense/kernel:0', 'tf_bert_model_15/bert/encoder/layer_._6/output/dense/bias:0', 'tf_bert_model_15/bert/encoder/layer_._6/output/LayerNorm/gamma:0', 'tf_bert_model_15/bert/encoder/layer_._6/output/LayerNorm/beta:0', 'tf_bert_model_15/bert/encoder/layer_._7/attention/self/query/kernel:0', 'tf_bert_model_15/bert/encoder/layer_._7/attention/self/query/bias:0', 'tf_bert_model_15/bert/encoder/layer_._7/attention/self/key/kernel:0', 'tf_bert_model_15/bert/encoder/layer_._7/attention/self/key/bias:0', 'tf_bert_model_15/bert/encoder/layer_._7/attention/self/value/kernel:0', 'tf_bert_model_15/bert/encoder/layer_._7/attention/self/value/bias:0', 'tf_bert_model_15/bert/encoder/layer_._7/attention/output/dense/kernel:0', 'tf_bert_model_15/bert/encoder/layer_._7/attention/output/dense/bias:0', 'tf_bert_model_15/bert/encoder/layer_._7/attention/output/LayerNorm/gamma:0', 'tf_bert_model_15/bert/encoder/layer_._7/attention/output/LayerNorm/beta:0', 'tf_bert_model_15/bert/encoder/layer_._7/intermediate/dense/kernel:0', 'tf_bert_model_15/bert/encoder/layer_._7/intermediate/dense/bias:0', 'tf_bert_model_15/bert/encoder/layer_._7/output/dense/kernel:0', 'tf_bert_model_15/bert/encoder/layer_._7/output/dense/bias:0', 'tf_bert_model_15/bert/encoder/layer_._7/output/LayerNorm/gamma:0', 'tf_bert_model_15/bert/encoder/layer_._7/output/LayerNorm/beta:0', 'tf_bert_model_15/bert/encoder/layer_._8/attention/self/query/kernel:0', 'tf_bert_model_15/bert/encoder/layer_._8/attention/self/query/bias:0', 'tf_bert_model_15/bert/encoder/layer_._8/attention/self/key/kernel:0', 'tf_bert_model_15/bert/encoder/layer_._8/attention/self/key/bias:0', 'tf_bert_model_15/bert/encoder/layer_._8/attention/self/value/kernel:0', 'tf_bert_model_15/bert/encoder/layer_._8/attention/self/value/bias:0', 'tf_bert_model_15/bert/encoder/layer_._8/attention/output/dense/kernel:0', 'tf_bert_model_15/bert/encoder/layer_._8/attention/output/dense/bias:0', 'tf_bert_model_15/bert/encoder/layer_._8/attention/output/LayerNorm/gamma:0', 'tf_bert_model_15/bert/encoder/layer_._8/attention/output/LayerNorm/beta:0', 'tf_bert_model_15/bert/encoder/layer_._8/intermediate/dense/kernel:0', 'tf_bert_model_15/bert/encoder/layer_._8/intermediate/dense/bias:0', 'tf_bert_model_15/bert/encoder/layer_._8/output/dense/kernel:0', 'tf_bert_model_15/bert/encoder/layer_._8/output/dense/bias:0', 'tf_bert_model_15/bert/encoder/layer_._8/output/LayerNorm/gamma:0', 'tf_bert_model_15/bert/encoder/layer_._8/output/LayerNorm/beta:0', 'tf_bert_model_15/bert/encoder/layer_._9/attention/self/query/kernel:0', 'tf_bert_model_15/bert/encoder/layer_._9/attention/self/query/bias:0', 'tf_bert_model_15/bert/encoder/layer_._9/attention/self/key/kernel:0', 'tf_bert_model_15/bert/encoder/layer_._9/attention/self/key/bias:0', 'tf_bert_model_15/bert/encoder/layer_._9/attention/self/value/kernel:0', 'tf_bert_model_15/bert/encoder/layer_._9/attention/self/value/bias:0', 'tf_bert_model_15/bert/encoder/layer_._9/attention/output/dense/kernel:0', 'tf_bert_model_15/bert/encoder/layer_._9/attention/output/dense/bias:0', 'tf_bert_model_15/bert/encoder/layer_._9/attention/output/LayerNorm/gamma:0', 'tf_bert_model_15/bert/encoder/layer_._9/attention/output/LayerNorm/beta:0', 'tf_bert_model_15/bert/encoder/layer_._9/intermediate/dense/kernel:0', 'tf_bert_model_15/bert/encoder/layer_._9/intermediate/dense/bias:0', 'tf_bert_model_15/bert/encoder/layer_._9/output/dense/kernel:0', 'tf_bert_model_15/bert/encoder/layer_._9/output/dense/bias:0', 'tf_bert_model_15/bert/encoder/layer_._9/output/LayerNorm/gamma:0', 'tf_bert_model_15/bert/encoder/layer_._9/output/LayerNorm/beta:0', 'tf_bert_model_15/bert/encoder/layer_._10/attention/self/query/kernel:0', 'tf_bert_model_15/bert/encoder/layer_._10/attention/self/query/bias:0', 'tf_bert_model_15/bert/encoder/layer_._10/attention/self/key/kernel:0', 'tf_bert_model_15/bert/encoder/layer_._10/attention/self/key/bias:0', 'tf_bert_model_15/bert/encoder/layer_._10/attention/self/value/kernel:0', 'tf_bert_model_15/bert/encoder/layer_._10/attention/self/value/bias:0', 'tf_bert_model_15/bert/encoder/layer_._10/attention/output/dense/kernel:0', 'tf_bert_model_15/bert/encoder/layer_._10/attention/output/dense/bias:0', 'tf_bert_model_15/bert/encoder/layer_._10/attention/output/LayerNorm/gamma:0', 'tf_bert_model_15/bert/encoder/layer_._10/attention/output/LayerNorm/beta:0', 'tf_bert_model_15/bert/encoder/layer_._10/intermediate/dense/kernel:0', 'tf_bert_model_15/bert/encoder/layer_._10/intermediate/dense/bias:0', 'tf_bert_model_15/bert/encoder/layer_._10/output/dense/kernel:0', 'tf_bert_model_15/bert/encoder/layer_._10/output/dense/bias:0', 'tf_bert_model_15/bert/encoder/layer_._10/output/LayerNorm/gamma:0', 'tf_bert_model_15/bert/encoder/layer_._10/output/LayerNorm/beta:0', 'tf_bert_model_15/bert/pooler/dense/kernel:0', 'tf_bert_model_15/bert/pooler/dense/bias:0'] when minimizing the loss. If you're using `model.compile()`, did you forget to provide a `loss`argument?\n",
            "489/489 [==============================] - 30s 47ms/step - loss: 0.0890 - accuracy: 0.9706 - val_loss: 0.0734 - val_accuracy: 0.9763\n",
            "Epoch 2/3\n",
            "489/489 [==============================] - 20s 41ms/step - loss: 0.0371 - accuracy: 0.9885 - val_loss: 0.0523 - val_accuracy: 0.9836\n",
            "Epoch 3/3\n",
            "489/489 [==============================] - 20s 40ms/step - loss: 0.0198 - accuracy: 0.9936 - val_loss: 0.0467 - val_accuracy: 0.9885\n",
            "BERT 3e + CNN kernel un, train: accuracy = 0.9987, precision = 0.9951, recall = 0.9988, f1 = 0.9969\n",
            "validation: accuracy = 0.9939, precision = 0.9950, recall = 0.9754, f1 = 0.9851\n"
          ]
        },
        {
          "output_type": "stream",
          "name": "stderr",
          "text": [
            "Some layers from the model checkpoint at bert-base-cased were not used when initializing TFBertModel: ['nsp___cls', 'mlm___cls']\n",
            "- This IS expected if you are initializing TFBertModel from the checkpoint of a model trained on another task or with another architecture (e.g. initializing a BertForSequenceClassification model from a BertForPreTraining model).\n",
            "- This IS NOT expected if you are initializing TFBertModel from the checkpoint of a model that you expect to be exactly identical (initializing a BertForSequenceClassification model from a BertForSequenceClassification model).\n",
            "All the layers of TFBertModel were initialized from the model checkpoint at bert-base-cased.\n",
            "If your task is similar to the task the model of the checkpoint was trained on, you can already use TFBertModel for predictions without further training.\n"
          ]
        },
        {
          "output_type": "stream",
          "name": "stdout",
          "text": [
            "Epoch 1/3\n",
            "WARNING:tensorflow:Gradients do not exist for variables ['tf_bert_model_16/bert/embeddings/word_embeddings/weight:0', 'tf_bert_model_16/bert/embeddings/token_type_embeddings/embeddings:0', 'tf_bert_model_16/bert/embeddings/position_embeddings/embeddings:0', 'tf_bert_model_16/bert/embeddings/LayerNorm/gamma:0', 'tf_bert_model_16/bert/embeddings/LayerNorm/beta:0', 'tf_bert_model_16/bert/encoder/layer_._0/attention/self/query/kernel:0', 'tf_bert_model_16/bert/encoder/layer_._0/attention/self/query/bias:0', 'tf_bert_model_16/bert/encoder/layer_._0/attention/self/key/kernel:0', 'tf_bert_model_16/bert/encoder/layer_._0/attention/self/key/bias:0', 'tf_bert_model_16/bert/encoder/layer_._0/attention/self/value/kernel:0', 'tf_bert_model_16/bert/encoder/layer_._0/attention/self/value/bias:0', 'tf_bert_model_16/bert/encoder/layer_._0/attention/output/dense/kernel:0', 'tf_bert_model_16/bert/encoder/layer_._0/attention/output/dense/bias:0', 'tf_bert_model_16/bert/encoder/layer_._0/attention/output/LayerNorm/gamma:0', 'tf_bert_model_16/bert/encoder/layer_._0/attention/output/LayerNorm/beta:0', 'tf_bert_model_16/bert/encoder/layer_._0/intermediate/dense/kernel:0', 'tf_bert_model_16/bert/encoder/layer_._0/intermediate/dense/bias:0', 'tf_bert_model_16/bert/encoder/layer_._0/output/dense/kernel:0', 'tf_bert_model_16/bert/encoder/layer_._0/output/dense/bias:0', 'tf_bert_model_16/bert/encoder/layer_._0/output/LayerNorm/gamma:0', 'tf_bert_model_16/bert/encoder/layer_._0/output/LayerNorm/beta:0', 'tf_bert_model_16/bert/encoder/layer_._1/attention/self/query/kernel:0', 'tf_bert_model_16/bert/encoder/layer_._1/attention/self/query/bias:0', 'tf_bert_model_16/bert/encoder/layer_._1/attention/self/key/kernel:0', 'tf_bert_model_16/bert/encoder/layer_._1/attention/self/key/bias:0', 'tf_bert_model_16/bert/encoder/layer_._1/attention/self/value/kernel:0', 'tf_bert_model_16/bert/encoder/layer_._1/attention/self/value/bias:0', 'tf_bert_model_16/bert/encoder/layer_._1/attention/output/dense/kernel:0', 'tf_bert_model_16/bert/encoder/layer_._1/attention/output/dense/bias:0', 'tf_bert_model_16/bert/encoder/layer_._1/attention/output/LayerNorm/gamma:0', 'tf_bert_model_16/bert/encoder/layer_._1/attention/output/LayerNorm/beta:0', 'tf_bert_model_16/bert/encoder/layer_._1/intermediate/dense/kernel:0', 'tf_bert_model_16/bert/encoder/layer_._1/intermediate/dense/bias:0', 'tf_bert_model_16/bert/encoder/layer_._1/output/dense/kernel:0', 'tf_bert_model_16/bert/encoder/layer_._1/output/dense/bias:0', 'tf_bert_model_16/bert/encoder/layer_._1/output/LayerNorm/gamma:0', 'tf_bert_model_16/bert/encoder/layer_._1/output/LayerNorm/beta:0', 'tf_bert_model_16/bert/encoder/layer_._2/attention/self/query/kernel:0', 'tf_bert_model_16/bert/encoder/layer_._2/attention/self/query/bias:0', 'tf_bert_model_16/bert/encoder/layer_._2/attention/self/key/kernel:0', 'tf_bert_model_16/bert/encoder/layer_._2/attention/self/key/bias:0', 'tf_bert_model_16/bert/encoder/layer_._2/attention/self/value/kernel:0', 'tf_bert_model_16/bert/encoder/layer_._2/attention/self/value/bias:0', 'tf_bert_model_16/bert/encoder/layer_._2/attention/output/dense/kernel:0', 'tf_bert_model_16/bert/encoder/layer_._2/attention/output/dense/bias:0', 'tf_bert_model_16/bert/encoder/layer_._2/attention/output/LayerNorm/gamma:0', 'tf_bert_model_16/bert/encoder/layer_._2/attention/output/LayerNorm/beta:0', 'tf_bert_model_16/bert/encoder/layer_._2/intermediate/dense/kernel:0', 'tf_bert_model_16/bert/encoder/layer_._2/intermediate/dense/bias:0', 'tf_bert_model_16/bert/encoder/layer_._2/output/dense/kernel:0', 'tf_bert_model_16/bert/encoder/layer_._2/output/dense/bias:0', 'tf_bert_model_16/bert/encoder/layer_._2/output/LayerNorm/gamma:0', 'tf_bert_model_16/bert/encoder/layer_._2/output/LayerNorm/beta:0', 'tf_bert_model_16/bert/encoder/layer_._3/attention/self/query/kernel:0', 'tf_bert_model_16/bert/encoder/layer_._3/attention/self/query/bias:0', 'tf_bert_model_16/bert/encoder/layer_._3/attention/self/key/kernel:0', 'tf_bert_model_16/bert/encoder/layer_._3/attention/self/key/bias:0', 'tf_bert_model_16/bert/encoder/layer_._3/attention/self/value/kernel:0', 'tf_bert_model_16/bert/encoder/layer_._3/attention/self/value/bias:0', 'tf_bert_model_16/bert/encoder/layer_._3/attention/output/dense/kernel:0', 'tf_bert_model_16/bert/encoder/layer_._3/attention/output/dense/bias:0', 'tf_bert_model_16/bert/encoder/layer_._3/attention/output/LayerNorm/gamma:0', 'tf_bert_model_16/bert/encoder/layer_._3/attention/output/LayerNorm/beta:0', 'tf_bert_model_16/bert/encoder/layer_._3/intermediate/dense/kernel:0', 'tf_bert_model_16/bert/encoder/layer_._3/intermediate/dense/bias:0', 'tf_bert_model_16/bert/encoder/layer_._3/output/dense/kernel:0', 'tf_bert_model_16/bert/encoder/layer_._3/output/dense/bias:0', 'tf_bert_model_16/bert/encoder/layer_._3/output/LayerNorm/gamma:0', 'tf_bert_model_16/bert/encoder/layer_._3/output/LayerNorm/beta:0', 'tf_bert_model_16/bert/encoder/layer_._4/attention/self/query/kernel:0', 'tf_bert_model_16/bert/encoder/layer_._4/attention/self/query/bias:0', 'tf_bert_model_16/bert/encoder/layer_._4/attention/self/key/kernel:0', 'tf_bert_model_16/bert/encoder/layer_._4/attention/self/key/bias:0', 'tf_bert_model_16/bert/encoder/layer_._4/attention/self/value/kernel:0', 'tf_bert_model_16/bert/encoder/layer_._4/attention/self/value/bias:0', 'tf_bert_model_16/bert/encoder/layer_._4/attention/output/dense/kernel:0', 'tf_bert_model_16/bert/encoder/layer_._4/attention/output/dense/bias:0', 'tf_bert_model_16/bert/encoder/layer_._4/attention/output/LayerNorm/gamma:0', 'tf_bert_model_16/bert/encoder/layer_._4/attention/output/LayerNorm/beta:0', 'tf_bert_model_16/bert/encoder/layer_._4/intermediate/dense/kernel:0', 'tf_bert_model_16/bert/encoder/layer_._4/intermediate/dense/bias:0', 'tf_bert_model_16/bert/encoder/layer_._4/output/dense/kernel:0', 'tf_bert_model_16/bert/encoder/layer_._4/output/dense/bias:0', 'tf_bert_model_16/bert/encoder/layer_._4/output/LayerNorm/gamma:0', 'tf_bert_model_16/bert/encoder/layer_._4/output/LayerNorm/beta:0', 'tf_bert_model_16/bert/encoder/layer_._5/attention/self/query/kernel:0', 'tf_bert_model_16/bert/encoder/layer_._5/attention/self/query/bias:0', 'tf_bert_model_16/bert/encoder/layer_._5/attention/self/key/kernel:0', 'tf_bert_model_16/bert/encoder/layer_._5/attention/self/key/bias:0', 'tf_bert_model_16/bert/encoder/layer_._5/attention/self/value/kernel:0', 'tf_bert_model_16/bert/encoder/layer_._5/attention/self/value/bias:0', 'tf_bert_model_16/bert/encoder/layer_._5/attention/output/dense/kernel:0', 'tf_bert_model_16/bert/encoder/layer_._5/attention/output/dense/bias:0', 'tf_bert_model_16/bert/encoder/layer_._5/attention/output/LayerNorm/gamma:0', 'tf_bert_model_16/bert/encoder/layer_._5/attention/output/LayerNorm/beta:0', 'tf_bert_model_16/bert/encoder/layer_._5/intermediate/dense/kernel:0', 'tf_bert_model_16/bert/encoder/layer_._5/intermediate/dense/bias:0', 'tf_bert_model_16/bert/encoder/layer_._5/output/dense/kernel:0', 'tf_bert_model_16/bert/encoder/layer_._5/output/dense/bias:0', 'tf_bert_model_16/bert/encoder/layer_._5/output/LayerNorm/gamma:0', 'tf_bert_model_16/bert/encoder/layer_._5/output/LayerNorm/beta:0', 'tf_bert_model_16/bert/encoder/layer_._6/attention/self/query/kernel:0', 'tf_bert_model_16/bert/encoder/layer_._6/attention/self/query/bias:0', 'tf_bert_model_16/bert/encoder/layer_._6/attention/self/key/kernel:0', 'tf_bert_model_16/bert/encoder/layer_._6/attention/self/key/bias:0', 'tf_bert_model_16/bert/encoder/layer_._6/attention/self/value/kernel:0', 'tf_bert_model_16/bert/encoder/layer_._6/attention/self/value/bias:0', 'tf_bert_model_16/bert/encoder/layer_._6/attention/output/dense/kernel:0', 'tf_bert_model_16/bert/encoder/layer_._6/attention/output/dense/bias:0', 'tf_bert_model_16/bert/encoder/layer_._6/attention/output/LayerNorm/gamma:0', 'tf_bert_model_16/bert/encoder/layer_._6/attention/output/LayerNorm/beta:0', 'tf_bert_model_16/bert/encoder/layer_._6/intermediate/dense/kernel:0', 'tf_bert_model_16/bert/encoder/layer_._6/intermediate/dense/bias:0', 'tf_bert_model_16/bert/encoder/layer_._6/output/dense/kernel:0', 'tf_bert_model_16/bert/encoder/layer_._6/output/dense/bias:0', 'tf_bert_model_16/bert/encoder/layer_._6/output/LayerNorm/gamma:0', 'tf_bert_model_16/bert/encoder/layer_._6/output/LayerNorm/beta:0', 'tf_bert_model_16/bert/encoder/layer_._7/attention/self/query/kernel:0', 'tf_bert_model_16/bert/encoder/layer_._7/attention/self/query/bias:0', 'tf_bert_model_16/bert/encoder/layer_._7/attention/self/key/kernel:0', 'tf_bert_model_16/bert/encoder/layer_._7/attention/self/key/bias:0', 'tf_bert_model_16/bert/encoder/layer_._7/attention/self/value/kernel:0', 'tf_bert_model_16/bert/encoder/layer_._7/attention/self/value/bias:0', 'tf_bert_model_16/bert/encoder/layer_._7/attention/output/dense/kernel:0', 'tf_bert_model_16/bert/encoder/layer_._7/attention/output/dense/bias:0', 'tf_bert_model_16/bert/encoder/layer_._7/attention/output/LayerNorm/gamma:0', 'tf_bert_model_16/bert/encoder/layer_._7/attention/output/LayerNorm/beta:0', 'tf_bert_model_16/bert/encoder/layer_._7/intermediate/dense/kernel:0', 'tf_bert_model_16/bert/encoder/layer_._7/intermediate/dense/bias:0', 'tf_bert_model_16/bert/encoder/layer_._7/output/dense/kernel:0', 'tf_bert_model_16/bert/encoder/layer_._7/output/dense/bias:0', 'tf_bert_model_16/bert/encoder/layer_._7/output/LayerNorm/gamma:0', 'tf_bert_model_16/bert/encoder/layer_._7/output/LayerNorm/beta:0', 'tf_bert_model_16/bert/encoder/layer_._8/attention/self/query/kernel:0', 'tf_bert_model_16/bert/encoder/layer_._8/attention/self/query/bias:0', 'tf_bert_model_16/bert/encoder/layer_._8/attention/self/key/kernel:0', 'tf_bert_model_16/bert/encoder/layer_._8/attention/self/key/bias:0', 'tf_bert_model_16/bert/encoder/layer_._8/attention/self/value/kernel:0', 'tf_bert_model_16/bert/encoder/layer_._8/attention/self/value/bias:0', 'tf_bert_model_16/bert/encoder/layer_._8/attention/output/dense/kernel:0', 'tf_bert_model_16/bert/encoder/layer_._8/attention/output/dense/bias:0', 'tf_bert_model_16/bert/encoder/layer_._8/attention/output/LayerNorm/gamma:0', 'tf_bert_model_16/bert/encoder/layer_._8/attention/output/LayerNorm/beta:0', 'tf_bert_model_16/bert/encoder/layer_._8/intermediate/dense/kernel:0', 'tf_bert_model_16/bert/encoder/layer_._8/intermediate/dense/bias:0', 'tf_bert_model_16/bert/encoder/layer_._8/output/dense/kernel:0', 'tf_bert_model_16/bert/encoder/layer_._8/output/dense/bias:0', 'tf_bert_model_16/bert/encoder/layer_._8/output/LayerNorm/gamma:0', 'tf_bert_model_16/bert/encoder/layer_._8/output/LayerNorm/beta:0', 'tf_bert_model_16/bert/encoder/layer_._9/attention/self/query/kernel:0', 'tf_bert_model_16/bert/encoder/layer_._9/attention/self/query/bias:0', 'tf_bert_model_16/bert/encoder/layer_._9/attention/self/key/kernel:0', 'tf_bert_model_16/bert/encoder/layer_._9/attention/self/key/bias:0', 'tf_bert_model_16/bert/encoder/layer_._9/attention/self/value/kernel:0', 'tf_bert_model_16/bert/encoder/layer_._9/attention/self/value/bias:0', 'tf_bert_model_16/bert/encoder/layer_._9/attention/output/dense/kernel:0', 'tf_bert_model_16/bert/encoder/layer_._9/attention/output/dense/bias:0', 'tf_bert_model_16/bert/encoder/layer_._9/attention/output/LayerNorm/gamma:0', 'tf_bert_model_16/bert/encoder/layer_._9/attention/output/LayerNorm/beta:0', 'tf_bert_model_16/bert/encoder/layer_._9/intermediate/dense/kernel:0', 'tf_bert_model_16/bert/encoder/layer_._9/intermediate/dense/bias:0', 'tf_bert_model_16/bert/encoder/layer_._9/output/dense/kernel:0', 'tf_bert_model_16/bert/encoder/layer_._9/output/dense/bias:0', 'tf_bert_model_16/bert/encoder/layer_._9/output/LayerNorm/gamma:0', 'tf_bert_model_16/bert/encoder/layer_._9/output/LayerNorm/beta:0', 'tf_bert_model_16/bert/encoder/layer_._10/attention/self/query/kernel:0', 'tf_bert_model_16/bert/encoder/layer_._10/attention/self/query/bias:0', 'tf_bert_model_16/bert/encoder/layer_._10/attention/self/key/kernel:0', 'tf_bert_model_16/bert/encoder/layer_._10/attention/self/key/bias:0', 'tf_bert_model_16/bert/encoder/layer_._10/attention/self/value/kernel:0', 'tf_bert_model_16/bert/encoder/layer_._10/attention/self/value/bias:0', 'tf_bert_model_16/bert/encoder/layer_._10/attention/output/dense/kernel:0', 'tf_bert_model_16/bert/encoder/layer_._10/attention/output/dense/bias:0', 'tf_bert_model_16/bert/encoder/layer_._10/attention/output/LayerNorm/gamma:0', 'tf_bert_model_16/bert/encoder/layer_._10/attention/output/LayerNorm/beta:0', 'tf_bert_model_16/bert/encoder/layer_._10/intermediate/dense/kernel:0', 'tf_bert_model_16/bert/encoder/layer_._10/intermediate/dense/bias:0', 'tf_bert_model_16/bert/encoder/layer_._10/output/dense/kernel:0', 'tf_bert_model_16/bert/encoder/layer_._10/output/dense/bias:0', 'tf_bert_model_16/bert/encoder/layer_._10/output/LayerNorm/gamma:0', 'tf_bert_model_16/bert/encoder/layer_._10/output/LayerNorm/beta:0', 'tf_bert_model_16/bert/pooler/dense/kernel:0', 'tf_bert_model_16/bert/pooler/dense/bias:0'] when minimizing the loss. If you're using `model.compile()`, did you forget to provide a `loss`argument?\n",
            "WARNING:tensorflow:Gradients do not exist for variables ['tf_bert_model_16/bert/embeddings/word_embeddings/weight:0', 'tf_bert_model_16/bert/embeddings/token_type_embeddings/embeddings:0', 'tf_bert_model_16/bert/embeddings/position_embeddings/embeddings:0', 'tf_bert_model_16/bert/embeddings/LayerNorm/gamma:0', 'tf_bert_model_16/bert/embeddings/LayerNorm/beta:0', 'tf_bert_model_16/bert/encoder/layer_._0/attention/self/query/kernel:0', 'tf_bert_model_16/bert/encoder/layer_._0/attention/self/query/bias:0', 'tf_bert_model_16/bert/encoder/layer_._0/attention/self/key/kernel:0', 'tf_bert_model_16/bert/encoder/layer_._0/attention/self/key/bias:0', 'tf_bert_model_16/bert/encoder/layer_._0/attention/self/value/kernel:0', 'tf_bert_model_16/bert/encoder/layer_._0/attention/self/value/bias:0', 'tf_bert_model_16/bert/encoder/layer_._0/attention/output/dense/kernel:0', 'tf_bert_model_16/bert/encoder/layer_._0/attention/output/dense/bias:0', 'tf_bert_model_16/bert/encoder/layer_._0/attention/output/LayerNorm/gamma:0', 'tf_bert_model_16/bert/encoder/layer_._0/attention/output/LayerNorm/beta:0', 'tf_bert_model_16/bert/encoder/layer_._0/intermediate/dense/kernel:0', 'tf_bert_model_16/bert/encoder/layer_._0/intermediate/dense/bias:0', 'tf_bert_model_16/bert/encoder/layer_._0/output/dense/kernel:0', 'tf_bert_model_16/bert/encoder/layer_._0/output/dense/bias:0', 'tf_bert_model_16/bert/encoder/layer_._0/output/LayerNorm/gamma:0', 'tf_bert_model_16/bert/encoder/layer_._0/output/LayerNorm/beta:0', 'tf_bert_model_16/bert/encoder/layer_._1/attention/self/query/kernel:0', 'tf_bert_model_16/bert/encoder/layer_._1/attention/self/query/bias:0', 'tf_bert_model_16/bert/encoder/layer_._1/attention/self/key/kernel:0', 'tf_bert_model_16/bert/encoder/layer_._1/attention/self/key/bias:0', 'tf_bert_model_16/bert/encoder/layer_._1/attention/self/value/kernel:0', 'tf_bert_model_16/bert/encoder/layer_._1/attention/self/value/bias:0', 'tf_bert_model_16/bert/encoder/layer_._1/attention/output/dense/kernel:0', 'tf_bert_model_16/bert/encoder/layer_._1/attention/output/dense/bias:0', 'tf_bert_model_16/bert/encoder/layer_._1/attention/output/LayerNorm/gamma:0', 'tf_bert_model_16/bert/encoder/layer_._1/attention/output/LayerNorm/beta:0', 'tf_bert_model_16/bert/encoder/layer_._1/intermediate/dense/kernel:0', 'tf_bert_model_16/bert/encoder/layer_._1/intermediate/dense/bias:0', 'tf_bert_model_16/bert/encoder/layer_._1/output/dense/kernel:0', 'tf_bert_model_16/bert/encoder/layer_._1/output/dense/bias:0', 'tf_bert_model_16/bert/encoder/layer_._1/output/LayerNorm/gamma:0', 'tf_bert_model_16/bert/encoder/layer_._1/output/LayerNorm/beta:0', 'tf_bert_model_16/bert/encoder/layer_._2/attention/self/query/kernel:0', 'tf_bert_model_16/bert/encoder/layer_._2/attention/self/query/bias:0', 'tf_bert_model_16/bert/encoder/layer_._2/attention/self/key/kernel:0', 'tf_bert_model_16/bert/encoder/layer_._2/attention/self/key/bias:0', 'tf_bert_model_16/bert/encoder/layer_._2/attention/self/value/kernel:0', 'tf_bert_model_16/bert/encoder/layer_._2/attention/self/value/bias:0', 'tf_bert_model_16/bert/encoder/layer_._2/attention/output/dense/kernel:0', 'tf_bert_model_16/bert/encoder/layer_._2/attention/output/dense/bias:0', 'tf_bert_model_16/bert/encoder/layer_._2/attention/output/LayerNorm/gamma:0', 'tf_bert_model_16/bert/encoder/layer_._2/attention/output/LayerNorm/beta:0', 'tf_bert_model_16/bert/encoder/layer_._2/intermediate/dense/kernel:0', 'tf_bert_model_16/bert/encoder/layer_._2/intermediate/dense/bias:0', 'tf_bert_model_16/bert/encoder/layer_._2/output/dense/kernel:0', 'tf_bert_model_16/bert/encoder/layer_._2/output/dense/bias:0', 'tf_bert_model_16/bert/encoder/layer_._2/output/LayerNorm/gamma:0', 'tf_bert_model_16/bert/encoder/layer_._2/output/LayerNorm/beta:0', 'tf_bert_model_16/bert/encoder/layer_._3/attention/self/query/kernel:0', 'tf_bert_model_16/bert/encoder/layer_._3/attention/self/query/bias:0', 'tf_bert_model_16/bert/encoder/layer_._3/attention/self/key/kernel:0', 'tf_bert_model_16/bert/encoder/layer_._3/attention/self/key/bias:0', 'tf_bert_model_16/bert/encoder/layer_._3/attention/self/value/kernel:0', 'tf_bert_model_16/bert/encoder/layer_._3/attention/self/value/bias:0', 'tf_bert_model_16/bert/encoder/layer_._3/attention/output/dense/kernel:0', 'tf_bert_model_16/bert/encoder/layer_._3/attention/output/dense/bias:0', 'tf_bert_model_16/bert/encoder/layer_._3/attention/output/LayerNorm/gamma:0', 'tf_bert_model_16/bert/encoder/layer_._3/attention/output/LayerNorm/beta:0', 'tf_bert_model_16/bert/encoder/layer_._3/intermediate/dense/kernel:0', 'tf_bert_model_16/bert/encoder/layer_._3/intermediate/dense/bias:0', 'tf_bert_model_16/bert/encoder/layer_._3/output/dense/kernel:0', 'tf_bert_model_16/bert/encoder/layer_._3/output/dense/bias:0', 'tf_bert_model_16/bert/encoder/layer_._3/output/LayerNorm/gamma:0', 'tf_bert_model_16/bert/encoder/layer_._3/output/LayerNorm/beta:0', 'tf_bert_model_16/bert/encoder/layer_._4/attention/self/query/kernel:0', 'tf_bert_model_16/bert/encoder/layer_._4/attention/self/query/bias:0', 'tf_bert_model_16/bert/encoder/layer_._4/attention/self/key/kernel:0', 'tf_bert_model_16/bert/encoder/layer_._4/attention/self/key/bias:0', 'tf_bert_model_16/bert/encoder/layer_._4/attention/self/value/kernel:0', 'tf_bert_model_16/bert/encoder/layer_._4/attention/self/value/bias:0', 'tf_bert_model_16/bert/encoder/layer_._4/attention/output/dense/kernel:0', 'tf_bert_model_16/bert/encoder/layer_._4/attention/output/dense/bias:0', 'tf_bert_model_16/bert/encoder/layer_._4/attention/output/LayerNorm/gamma:0', 'tf_bert_model_16/bert/encoder/layer_._4/attention/output/LayerNorm/beta:0', 'tf_bert_model_16/bert/encoder/layer_._4/intermediate/dense/kernel:0', 'tf_bert_model_16/bert/encoder/layer_._4/intermediate/dense/bias:0', 'tf_bert_model_16/bert/encoder/layer_._4/output/dense/kernel:0', 'tf_bert_model_16/bert/encoder/layer_._4/output/dense/bias:0', 'tf_bert_model_16/bert/encoder/layer_._4/output/LayerNorm/gamma:0', 'tf_bert_model_16/bert/encoder/layer_._4/output/LayerNorm/beta:0', 'tf_bert_model_16/bert/encoder/layer_._5/attention/self/query/kernel:0', 'tf_bert_model_16/bert/encoder/layer_._5/attention/self/query/bias:0', 'tf_bert_model_16/bert/encoder/layer_._5/attention/self/key/kernel:0', 'tf_bert_model_16/bert/encoder/layer_._5/attention/self/key/bias:0', 'tf_bert_model_16/bert/encoder/layer_._5/attention/self/value/kernel:0', 'tf_bert_model_16/bert/encoder/layer_._5/attention/self/value/bias:0', 'tf_bert_model_16/bert/encoder/layer_._5/attention/output/dense/kernel:0', 'tf_bert_model_16/bert/encoder/layer_._5/attention/output/dense/bias:0', 'tf_bert_model_16/bert/encoder/layer_._5/attention/output/LayerNorm/gamma:0', 'tf_bert_model_16/bert/encoder/layer_._5/attention/output/LayerNorm/beta:0', 'tf_bert_model_16/bert/encoder/layer_._5/intermediate/dense/kernel:0', 'tf_bert_model_16/bert/encoder/layer_._5/intermediate/dense/bias:0', 'tf_bert_model_16/bert/encoder/layer_._5/output/dense/kernel:0', 'tf_bert_model_16/bert/encoder/layer_._5/output/dense/bias:0', 'tf_bert_model_16/bert/encoder/layer_._5/output/LayerNorm/gamma:0', 'tf_bert_model_16/bert/encoder/layer_._5/output/LayerNorm/beta:0', 'tf_bert_model_16/bert/encoder/layer_._6/attention/self/query/kernel:0', 'tf_bert_model_16/bert/encoder/layer_._6/attention/self/query/bias:0', 'tf_bert_model_16/bert/encoder/layer_._6/attention/self/key/kernel:0', 'tf_bert_model_16/bert/encoder/layer_._6/attention/self/key/bias:0', 'tf_bert_model_16/bert/encoder/layer_._6/attention/self/value/kernel:0', 'tf_bert_model_16/bert/encoder/layer_._6/attention/self/value/bias:0', 'tf_bert_model_16/bert/encoder/layer_._6/attention/output/dense/kernel:0', 'tf_bert_model_16/bert/encoder/layer_._6/attention/output/dense/bias:0', 'tf_bert_model_16/bert/encoder/layer_._6/attention/output/LayerNorm/gamma:0', 'tf_bert_model_16/bert/encoder/layer_._6/attention/output/LayerNorm/beta:0', 'tf_bert_model_16/bert/encoder/layer_._6/intermediate/dense/kernel:0', 'tf_bert_model_16/bert/encoder/layer_._6/intermediate/dense/bias:0', 'tf_bert_model_16/bert/encoder/layer_._6/output/dense/kernel:0', 'tf_bert_model_16/bert/encoder/layer_._6/output/dense/bias:0', 'tf_bert_model_16/bert/encoder/layer_._6/output/LayerNorm/gamma:0', 'tf_bert_model_16/bert/encoder/layer_._6/output/LayerNorm/beta:0', 'tf_bert_model_16/bert/encoder/layer_._7/attention/self/query/kernel:0', 'tf_bert_model_16/bert/encoder/layer_._7/attention/self/query/bias:0', 'tf_bert_model_16/bert/encoder/layer_._7/attention/self/key/kernel:0', 'tf_bert_model_16/bert/encoder/layer_._7/attention/self/key/bias:0', 'tf_bert_model_16/bert/encoder/layer_._7/attention/self/value/kernel:0', 'tf_bert_model_16/bert/encoder/layer_._7/attention/self/value/bias:0', 'tf_bert_model_16/bert/encoder/layer_._7/attention/output/dense/kernel:0', 'tf_bert_model_16/bert/encoder/layer_._7/attention/output/dense/bias:0', 'tf_bert_model_16/bert/encoder/layer_._7/attention/output/LayerNorm/gamma:0', 'tf_bert_model_16/bert/encoder/layer_._7/attention/output/LayerNorm/beta:0', 'tf_bert_model_16/bert/encoder/layer_._7/intermediate/dense/kernel:0', 'tf_bert_model_16/bert/encoder/layer_._7/intermediate/dense/bias:0', 'tf_bert_model_16/bert/encoder/layer_._7/output/dense/kernel:0', 'tf_bert_model_16/bert/encoder/layer_._7/output/dense/bias:0', 'tf_bert_model_16/bert/encoder/layer_._7/output/LayerNorm/gamma:0', 'tf_bert_model_16/bert/encoder/layer_._7/output/LayerNorm/beta:0', 'tf_bert_model_16/bert/encoder/layer_._8/attention/self/query/kernel:0', 'tf_bert_model_16/bert/encoder/layer_._8/attention/self/query/bias:0', 'tf_bert_model_16/bert/encoder/layer_._8/attention/self/key/kernel:0', 'tf_bert_model_16/bert/encoder/layer_._8/attention/self/key/bias:0', 'tf_bert_model_16/bert/encoder/layer_._8/attention/self/value/kernel:0', 'tf_bert_model_16/bert/encoder/layer_._8/attention/self/value/bias:0', 'tf_bert_model_16/bert/encoder/layer_._8/attention/output/dense/kernel:0', 'tf_bert_model_16/bert/encoder/layer_._8/attention/output/dense/bias:0', 'tf_bert_model_16/bert/encoder/layer_._8/attention/output/LayerNorm/gamma:0', 'tf_bert_model_16/bert/encoder/layer_._8/attention/output/LayerNorm/beta:0', 'tf_bert_model_16/bert/encoder/layer_._8/intermediate/dense/kernel:0', 'tf_bert_model_16/bert/encoder/layer_._8/intermediate/dense/bias:0', 'tf_bert_model_16/bert/encoder/layer_._8/output/dense/kernel:0', 'tf_bert_model_16/bert/encoder/layer_._8/output/dense/bias:0', 'tf_bert_model_16/bert/encoder/layer_._8/output/LayerNorm/gamma:0', 'tf_bert_model_16/bert/encoder/layer_._8/output/LayerNorm/beta:0', 'tf_bert_model_16/bert/encoder/layer_._9/attention/self/query/kernel:0', 'tf_bert_model_16/bert/encoder/layer_._9/attention/self/query/bias:0', 'tf_bert_model_16/bert/encoder/layer_._9/attention/self/key/kernel:0', 'tf_bert_model_16/bert/encoder/layer_._9/attention/self/key/bias:0', 'tf_bert_model_16/bert/encoder/layer_._9/attention/self/value/kernel:0', 'tf_bert_model_16/bert/encoder/layer_._9/attention/self/value/bias:0', 'tf_bert_model_16/bert/encoder/layer_._9/attention/output/dense/kernel:0', 'tf_bert_model_16/bert/encoder/layer_._9/attention/output/dense/bias:0', 'tf_bert_model_16/bert/encoder/layer_._9/attention/output/LayerNorm/gamma:0', 'tf_bert_model_16/bert/encoder/layer_._9/attention/output/LayerNorm/beta:0', 'tf_bert_model_16/bert/encoder/layer_._9/intermediate/dense/kernel:0', 'tf_bert_model_16/bert/encoder/layer_._9/intermediate/dense/bias:0', 'tf_bert_model_16/bert/encoder/layer_._9/output/dense/kernel:0', 'tf_bert_model_16/bert/encoder/layer_._9/output/dense/bias:0', 'tf_bert_model_16/bert/encoder/layer_._9/output/LayerNorm/gamma:0', 'tf_bert_model_16/bert/encoder/layer_._9/output/LayerNorm/beta:0', 'tf_bert_model_16/bert/encoder/layer_._10/attention/self/query/kernel:0', 'tf_bert_model_16/bert/encoder/layer_._10/attention/self/query/bias:0', 'tf_bert_model_16/bert/encoder/layer_._10/attention/self/key/kernel:0', 'tf_bert_model_16/bert/encoder/layer_._10/attention/self/key/bias:0', 'tf_bert_model_16/bert/encoder/layer_._10/attention/self/value/kernel:0', 'tf_bert_model_16/bert/encoder/layer_._10/attention/self/value/bias:0', 'tf_bert_model_16/bert/encoder/layer_._10/attention/output/dense/kernel:0', 'tf_bert_model_16/bert/encoder/layer_._10/attention/output/dense/bias:0', 'tf_bert_model_16/bert/encoder/layer_._10/attention/output/LayerNorm/gamma:0', 'tf_bert_model_16/bert/encoder/layer_._10/attention/output/LayerNorm/beta:0', 'tf_bert_model_16/bert/encoder/layer_._10/intermediate/dense/kernel:0', 'tf_bert_model_16/bert/encoder/layer_._10/intermediate/dense/bias:0', 'tf_bert_model_16/bert/encoder/layer_._10/output/dense/kernel:0', 'tf_bert_model_16/bert/encoder/layer_._10/output/dense/bias:0', 'tf_bert_model_16/bert/encoder/layer_._10/output/LayerNorm/gamma:0', 'tf_bert_model_16/bert/encoder/layer_._10/output/LayerNorm/beta:0', 'tf_bert_model_16/bert/pooler/dense/kernel:0', 'tf_bert_model_16/bert/pooler/dense/bias:0'] when minimizing the loss. If you're using `model.compile()`, did you forget to provide a `loss`argument?\n",
            "489/489 [==============================] - 31s 47ms/step - loss: 0.0865 - accuracy: 0.9719 - val_loss: 0.0494 - val_accuracy: 0.9861\n",
            "Epoch 2/3\n",
            "489/489 [==============================] - 20s 41ms/step - loss: 0.0325 - accuracy: 0.9913 - val_loss: 0.0478 - val_accuracy: 0.9877\n",
            "Epoch 3/3\n",
            "489/489 [==============================] - 20s 40ms/step - loss: 0.0188 - accuracy: 0.9946 - val_loss: 0.0633 - val_accuracy: 0.9861\n",
            "BERT 3e + CNN kernel un, train: accuracy = 0.9980, precision = 1.0000, recall = 0.9901, f1 = 0.9950\n",
            "validation: accuracy = 0.9877, precision = 0.9850, recall = 0.9563, f1 = 0.9704\n"
          ]
        },
        {
          "output_type": "stream",
          "name": "stderr",
          "text": [
            "Some layers from the model checkpoint at bert-base-cased were not used when initializing TFBertModel: ['nsp___cls', 'mlm___cls']\n",
            "- This IS expected if you are initializing TFBertModel from the checkpoint of a model trained on another task or with another architecture (e.g. initializing a BertForSequenceClassification model from a BertForPreTraining model).\n",
            "- This IS NOT expected if you are initializing TFBertModel from the checkpoint of a model that you expect to be exactly identical (initializing a BertForSequenceClassification model from a BertForSequenceClassification model).\n",
            "All the layers of TFBertModel were initialized from the model checkpoint at bert-base-cased.\n",
            "If your task is similar to the task the model of the checkpoint was trained on, you can already use TFBertModel for predictions without further training.\n"
          ]
        },
        {
          "output_type": "stream",
          "name": "stdout",
          "text": [
            "Epoch 1/3\n",
            "WARNING:tensorflow:Gradients do not exist for variables ['tf_bert_model_17/bert/embeddings/word_embeddings/weight:0', 'tf_bert_model_17/bert/embeddings/token_type_embeddings/embeddings:0', 'tf_bert_model_17/bert/embeddings/position_embeddings/embeddings:0', 'tf_bert_model_17/bert/embeddings/LayerNorm/gamma:0', 'tf_bert_model_17/bert/embeddings/LayerNorm/beta:0', 'tf_bert_model_17/bert/encoder/layer_._0/attention/self/query/kernel:0', 'tf_bert_model_17/bert/encoder/layer_._0/attention/self/query/bias:0', 'tf_bert_model_17/bert/encoder/layer_._0/attention/self/key/kernel:0', 'tf_bert_model_17/bert/encoder/layer_._0/attention/self/key/bias:0', 'tf_bert_model_17/bert/encoder/layer_._0/attention/self/value/kernel:0', 'tf_bert_model_17/bert/encoder/layer_._0/attention/self/value/bias:0', 'tf_bert_model_17/bert/encoder/layer_._0/attention/output/dense/kernel:0', 'tf_bert_model_17/bert/encoder/layer_._0/attention/output/dense/bias:0', 'tf_bert_model_17/bert/encoder/layer_._0/attention/output/LayerNorm/gamma:0', 'tf_bert_model_17/bert/encoder/layer_._0/attention/output/LayerNorm/beta:0', 'tf_bert_model_17/bert/encoder/layer_._0/intermediate/dense/kernel:0', 'tf_bert_model_17/bert/encoder/layer_._0/intermediate/dense/bias:0', 'tf_bert_model_17/bert/encoder/layer_._0/output/dense/kernel:0', 'tf_bert_model_17/bert/encoder/layer_._0/output/dense/bias:0', 'tf_bert_model_17/bert/encoder/layer_._0/output/LayerNorm/gamma:0', 'tf_bert_model_17/bert/encoder/layer_._0/output/LayerNorm/beta:0', 'tf_bert_model_17/bert/encoder/layer_._1/attention/self/query/kernel:0', 'tf_bert_model_17/bert/encoder/layer_._1/attention/self/query/bias:0', 'tf_bert_model_17/bert/encoder/layer_._1/attention/self/key/kernel:0', 'tf_bert_model_17/bert/encoder/layer_._1/attention/self/key/bias:0', 'tf_bert_model_17/bert/encoder/layer_._1/attention/self/value/kernel:0', 'tf_bert_model_17/bert/encoder/layer_._1/attention/self/value/bias:0', 'tf_bert_model_17/bert/encoder/layer_._1/attention/output/dense/kernel:0', 'tf_bert_model_17/bert/encoder/layer_._1/attention/output/dense/bias:0', 'tf_bert_model_17/bert/encoder/layer_._1/attention/output/LayerNorm/gamma:0', 'tf_bert_model_17/bert/encoder/layer_._1/attention/output/LayerNorm/beta:0', 'tf_bert_model_17/bert/encoder/layer_._1/intermediate/dense/kernel:0', 'tf_bert_model_17/bert/encoder/layer_._1/intermediate/dense/bias:0', 'tf_bert_model_17/bert/encoder/layer_._1/output/dense/kernel:0', 'tf_bert_model_17/bert/encoder/layer_._1/output/dense/bias:0', 'tf_bert_model_17/bert/encoder/layer_._1/output/LayerNorm/gamma:0', 'tf_bert_model_17/bert/encoder/layer_._1/output/LayerNorm/beta:0', 'tf_bert_model_17/bert/encoder/layer_._2/attention/self/query/kernel:0', 'tf_bert_model_17/bert/encoder/layer_._2/attention/self/query/bias:0', 'tf_bert_model_17/bert/encoder/layer_._2/attention/self/key/kernel:0', 'tf_bert_model_17/bert/encoder/layer_._2/attention/self/key/bias:0', 'tf_bert_model_17/bert/encoder/layer_._2/attention/self/value/kernel:0', 'tf_bert_model_17/bert/encoder/layer_._2/attention/self/value/bias:0', 'tf_bert_model_17/bert/encoder/layer_._2/attention/output/dense/kernel:0', 'tf_bert_model_17/bert/encoder/layer_._2/attention/output/dense/bias:0', 'tf_bert_model_17/bert/encoder/layer_._2/attention/output/LayerNorm/gamma:0', 'tf_bert_model_17/bert/encoder/layer_._2/attention/output/LayerNorm/beta:0', 'tf_bert_model_17/bert/encoder/layer_._2/intermediate/dense/kernel:0', 'tf_bert_model_17/bert/encoder/layer_._2/intermediate/dense/bias:0', 'tf_bert_model_17/bert/encoder/layer_._2/output/dense/kernel:0', 'tf_bert_model_17/bert/encoder/layer_._2/output/dense/bias:0', 'tf_bert_model_17/bert/encoder/layer_._2/output/LayerNorm/gamma:0', 'tf_bert_model_17/bert/encoder/layer_._2/output/LayerNorm/beta:0', 'tf_bert_model_17/bert/encoder/layer_._3/attention/self/query/kernel:0', 'tf_bert_model_17/bert/encoder/layer_._3/attention/self/query/bias:0', 'tf_bert_model_17/bert/encoder/layer_._3/attention/self/key/kernel:0', 'tf_bert_model_17/bert/encoder/layer_._3/attention/self/key/bias:0', 'tf_bert_model_17/bert/encoder/layer_._3/attention/self/value/kernel:0', 'tf_bert_model_17/bert/encoder/layer_._3/attention/self/value/bias:0', 'tf_bert_model_17/bert/encoder/layer_._3/attention/output/dense/kernel:0', 'tf_bert_model_17/bert/encoder/layer_._3/attention/output/dense/bias:0', 'tf_bert_model_17/bert/encoder/layer_._3/attention/output/LayerNorm/gamma:0', 'tf_bert_model_17/bert/encoder/layer_._3/attention/output/LayerNorm/beta:0', 'tf_bert_model_17/bert/encoder/layer_._3/intermediate/dense/kernel:0', 'tf_bert_model_17/bert/encoder/layer_._3/intermediate/dense/bias:0', 'tf_bert_model_17/bert/encoder/layer_._3/output/dense/kernel:0', 'tf_bert_model_17/bert/encoder/layer_._3/output/dense/bias:0', 'tf_bert_model_17/bert/encoder/layer_._3/output/LayerNorm/gamma:0', 'tf_bert_model_17/bert/encoder/layer_._3/output/LayerNorm/beta:0', 'tf_bert_model_17/bert/encoder/layer_._4/attention/self/query/kernel:0', 'tf_bert_model_17/bert/encoder/layer_._4/attention/self/query/bias:0', 'tf_bert_model_17/bert/encoder/layer_._4/attention/self/key/kernel:0', 'tf_bert_model_17/bert/encoder/layer_._4/attention/self/key/bias:0', 'tf_bert_model_17/bert/encoder/layer_._4/attention/self/value/kernel:0', 'tf_bert_model_17/bert/encoder/layer_._4/attention/self/value/bias:0', 'tf_bert_model_17/bert/encoder/layer_._4/attention/output/dense/kernel:0', 'tf_bert_model_17/bert/encoder/layer_._4/attention/output/dense/bias:0', 'tf_bert_model_17/bert/encoder/layer_._4/attention/output/LayerNorm/gamma:0', 'tf_bert_model_17/bert/encoder/layer_._4/attention/output/LayerNorm/beta:0', 'tf_bert_model_17/bert/encoder/layer_._4/intermediate/dense/kernel:0', 'tf_bert_model_17/bert/encoder/layer_._4/intermediate/dense/bias:0', 'tf_bert_model_17/bert/encoder/layer_._4/output/dense/kernel:0', 'tf_bert_model_17/bert/encoder/layer_._4/output/dense/bias:0', 'tf_bert_model_17/bert/encoder/layer_._4/output/LayerNorm/gamma:0', 'tf_bert_model_17/bert/encoder/layer_._4/output/LayerNorm/beta:0', 'tf_bert_model_17/bert/encoder/layer_._5/attention/self/query/kernel:0', 'tf_bert_model_17/bert/encoder/layer_._5/attention/self/query/bias:0', 'tf_bert_model_17/bert/encoder/layer_._5/attention/self/key/kernel:0', 'tf_bert_model_17/bert/encoder/layer_._5/attention/self/key/bias:0', 'tf_bert_model_17/bert/encoder/layer_._5/attention/self/value/kernel:0', 'tf_bert_model_17/bert/encoder/layer_._5/attention/self/value/bias:0', 'tf_bert_model_17/bert/encoder/layer_._5/attention/output/dense/kernel:0', 'tf_bert_model_17/bert/encoder/layer_._5/attention/output/dense/bias:0', 'tf_bert_model_17/bert/encoder/layer_._5/attention/output/LayerNorm/gamma:0', 'tf_bert_model_17/bert/encoder/layer_._5/attention/output/LayerNorm/beta:0', 'tf_bert_model_17/bert/encoder/layer_._5/intermediate/dense/kernel:0', 'tf_bert_model_17/bert/encoder/layer_._5/intermediate/dense/bias:0', 'tf_bert_model_17/bert/encoder/layer_._5/output/dense/kernel:0', 'tf_bert_model_17/bert/encoder/layer_._5/output/dense/bias:0', 'tf_bert_model_17/bert/encoder/layer_._5/output/LayerNorm/gamma:0', 'tf_bert_model_17/bert/encoder/layer_._5/output/LayerNorm/beta:0', 'tf_bert_model_17/bert/encoder/layer_._6/attention/self/query/kernel:0', 'tf_bert_model_17/bert/encoder/layer_._6/attention/self/query/bias:0', 'tf_bert_model_17/bert/encoder/layer_._6/attention/self/key/kernel:0', 'tf_bert_model_17/bert/encoder/layer_._6/attention/self/key/bias:0', 'tf_bert_model_17/bert/encoder/layer_._6/attention/self/value/kernel:0', 'tf_bert_model_17/bert/encoder/layer_._6/attention/self/value/bias:0', 'tf_bert_model_17/bert/encoder/layer_._6/attention/output/dense/kernel:0', 'tf_bert_model_17/bert/encoder/layer_._6/attention/output/dense/bias:0', 'tf_bert_model_17/bert/encoder/layer_._6/attention/output/LayerNorm/gamma:0', 'tf_bert_model_17/bert/encoder/layer_._6/attention/output/LayerNorm/beta:0', 'tf_bert_model_17/bert/encoder/layer_._6/intermediate/dense/kernel:0', 'tf_bert_model_17/bert/encoder/layer_._6/intermediate/dense/bias:0', 'tf_bert_model_17/bert/encoder/layer_._6/output/dense/kernel:0', 'tf_bert_model_17/bert/encoder/layer_._6/output/dense/bias:0', 'tf_bert_model_17/bert/encoder/layer_._6/output/LayerNorm/gamma:0', 'tf_bert_model_17/bert/encoder/layer_._6/output/LayerNorm/beta:0', 'tf_bert_model_17/bert/encoder/layer_._7/attention/self/query/kernel:0', 'tf_bert_model_17/bert/encoder/layer_._7/attention/self/query/bias:0', 'tf_bert_model_17/bert/encoder/layer_._7/attention/self/key/kernel:0', 'tf_bert_model_17/bert/encoder/layer_._7/attention/self/key/bias:0', 'tf_bert_model_17/bert/encoder/layer_._7/attention/self/value/kernel:0', 'tf_bert_model_17/bert/encoder/layer_._7/attention/self/value/bias:0', 'tf_bert_model_17/bert/encoder/layer_._7/attention/output/dense/kernel:0', 'tf_bert_model_17/bert/encoder/layer_._7/attention/output/dense/bias:0', 'tf_bert_model_17/bert/encoder/layer_._7/attention/output/LayerNorm/gamma:0', 'tf_bert_model_17/bert/encoder/layer_._7/attention/output/LayerNorm/beta:0', 'tf_bert_model_17/bert/encoder/layer_._7/intermediate/dense/kernel:0', 'tf_bert_model_17/bert/encoder/layer_._7/intermediate/dense/bias:0', 'tf_bert_model_17/bert/encoder/layer_._7/output/dense/kernel:0', 'tf_bert_model_17/bert/encoder/layer_._7/output/dense/bias:0', 'tf_bert_model_17/bert/encoder/layer_._7/output/LayerNorm/gamma:0', 'tf_bert_model_17/bert/encoder/layer_._7/output/LayerNorm/beta:0', 'tf_bert_model_17/bert/encoder/layer_._8/attention/self/query/kernel:0', 'tf_bert_model_17/bert/encoder/layer_._8/attention/self/query/bias:0', 'tf_bert_model_17/bert/encoder/layer_._8/attention/self/key/kernel:0', 'tf_bert_model_17/bert/encoder/layer_._8/attention/self/key/bias:0', 'tf_bert_model_17/bert/encoder/layer_._8/attention/self/value/kernel:0', 'tf_bert_model_17/bert/encoder/layer_._8/attention/self/value/bias:0', 'tf_bert_model_17/bert/encoder/layer_._8/attention/output/dense/kernel:0', 'tf_bert_model_17/bert/encoder/layer_._8/attention/output/dense/bias:0', 'tf_bert_model_17/bert/encoder/layer_._8/attention/output/LayerNorm/gamma:0', 'tf_bert_model_17/bert/encoder/layer_._8/attention/output/LayerNorm/beta:0', 'tf_bert_model_17/bert/encoder/layer_._8/intermediate/dense/kernel:0', 'tf_bert_model_17/bert/encoder/layer_._8/intermediate/dense/bias:0', 'tf_bert_model_17/bert/encoder/layer_._8/output/dense/kernel:0', 'tf_bert_model_17/bert/encoder/layer_._8/output/dense/bias:0', 'tf_bert_model_17/bert/encoder/layer_._8/output/LayerNorm/gamma:0', 'tf_bert_model_17/bert/encoder/layer_._8/output/LayerNorm/beta:0', 'tf_bert_model_17/bert/encoder/layer_._9/attention/self/query/kernel:0', 'tf_bert_model_17/bert/encoder/layer_._9/attention/self/query/bias:0', 'tf_bert_model_17/bert/encoder/layer_._9/attention/self/key/kernel:0', 'tf_bert_model_17/bert/encoder/layer_._9/attention/self/key/bias:0', 'tf_bert_model_17/bert/encoder/layer_._9/attention/self/value/kernel:0', 'tf_bert_model_17/bert/encoder/layer_._9/attention/self/value/bias:0', 'tf_bert_model_17/bert/encoder/layer_._9/attention/output/dense/kernel:0', 'tf_bert_model_17/bert/encoder/layer_._9/attention/output/dense/bias:0', 'tf_bert_model_17/bert/encoder/layer_._9/attention/output/LayerNorm/gamma:0', 'tf_bert_model_17/bert/encoder/layer_._9/attention/output/LayerNorm/beta:0', 'tf_bert_model_17/bert/encoder/layer_._9/intermediate/dense/kernel:0', 'tf_bert_model_17/bert/encoder/layer_._9/intermediate/dense/bias:0', 'tf_bert_model_17/bert/encoder/layer_._9/output/dense/kernel:0', 'tf_bert_model_17/bert/encoder/layer_._9/output/dense/bias:0', 'tf_bert_model_17/bert/encoder/layer_._9/output/LayerNorm/gamma:0', 'tf_bert_model_17/bert/encoder/layer_._9/output/LayerNorm/beta:0', 'tf_bert_model_17/bert/encoder/layer_._10/attention/self/query/kernel:0', 'tf_bert_model_17/bert/encoder/layer_._10/attention/self/query/bias:0', 'tf_bert_model_17/bert/encoder/layer_._10/attention/self/key/kernel:0', 'tf_bert_model_17/bert/encoder/layer_._10/attention/self/key/bias:0', 'tf_bert_model_17/bert/encoder/layer_._10/attention/self/value/kernel:0', 'tf_bert_model_17/bert/encoder/layer_._10/attention/self/value/bias:0', 'tf_bert_model_17/bert/encoder/layer_._10/attention/output/dense/kernel:0', 'tf_bert_model_17/bert/encoder/layer_._10/attention/output/dense/bias:0', 'tf_bert_model_17/bert/encoder/layer_._10/attention/output/LayerNorm/gamma:0', 'tf_bert_model_17/bert/encoder/layer_._10/attention/output/LayerNorm/beta:0', 'tf_bert_model_17/bert/encoder/layer_._10/intermediate/dense/kernel:0', 'tf_bert_model_17/bert/encoder/layer_._10/intermediate/dense/bias:0', 'tf_bert_model_17/bert/encoder/layer_._10/output/dense/kernel:0', 'tf_bert_model_17/bert/encoder/layer_._10/output/dense/bias:0', 'tf_bert_model_17/bert/encoder/layer_._10/output/LayerNorm/gamma:0', 'tf_bert_model_17/bert/encoder/layer_._10/output/LayerNorm/beta:0', 'tf_bert_model_17/bert/pooler/dense/kernel:0', 'tf_bert_model_17/bert/pooler/dense/bias:0'] when minimizing the loss. If you're using `model.compile()`, did you forget to provide a `loss`argument?\n",
            "WARNING:tensorflow:Gradients do not exist for variables ['tf_bert_model_17/bert/embeddings/word_embeddings/weight:0', 'tf_bert_model_17/bert/embeddings/token_type_embeddings/embeddings:0', 'tf_bert_model_17/bert/embeddings/position_embeddings/embeddings:0', 'tf_bert_model_17/bert/embeddings/LayerNorm/gamma:0', 'tf_bert_model_17/bert/embeddings/LayerNorm/beta:0', 'tf_bert_model_17/bert/encoder/layer_._0/attention/self/query/kernel:0', 'tf_bert_model_17/bert/encoder/layer_._0/attention/self/query/bias:0', 'tf_bert_model_17/bert/encoder/layer_._0/attention/self/key/kernel:0', 'tf_bert_model_17/bert/encoder/layer_._0/attention/self/key/bias:0', 'tf_bert_model_17/bert/encoder/layer_._0/attention/self/value/kernel:0', 'tf_bert_model_17/bert/encoder/layer_._0/attention/self/value/bias:0', 'tf_bert_model_17/bert/encoder/layer_._0/attention/output/dense/kernel:0', 'tf_bert_model_17/bert/encoder/layer_._0/attention/output/dense/bias:0', 'tf_bert_model_17/bert/encoder/layer_._0/attention/output/LayerNorm/gamma:0', 'tf_bert_model_17/bert/encoder/layer_._0/attention/output/LayerNorm/beta:0', 'tf_bert_model_17/bert/encoder/layer_._0/intermediate/dense/kernel:0', 'tf_bert_model_17/bert/encoder/layer_._0/intermediate/dense/bias:0', 'tf_bert_model_17/bert/encoder/layer_._0/output/dense/kernel:0', 'tf_bert_model_17/bert/encoder/layer_._0/output/dense/bias:0', 'tf_bert_model_17/bert/encoder/layer_._0/output/LayerNorm/gamma:0', 'tf_bert_model_17/bert/encoder/layer_._0/output/LayerNorm/beta:0', 'tf_bert_model_17/bert/encoder/layer_._1/attention/self/query/kernel:0', 'tf_bert_model_17/bert/encoder/layer_._1/attention/self/query/bias:0', 'tf_bert_model_17/bert/encoder/layer_._1/attention/self/key/kernel:0', 'tf_bert_model_17/bert/encoder/layer_._1/attention/self/key/bias:0', 'tf_bert_model_17/bert/encoder/layer_._1/attention/self/value/kernel:0', 'tf_bert_model_17/bert/encoder/layer_._1/attention/self/value/bias:0', 'tf_bert_model_17/bert/encoder/layer_._1/attention/output/dense/kernel:0', 'tf_bert_model_17/bert/encoder/layer_._1/attention/output/dense/bias:0', 'tf_bert_model_17/bert/encoder/layer_._1/attention/output/LayerNorm/gamma:0', 'tf_bert_model_17/bert/encoder/layer_._1/attention/output/LayerNorm/beta:0', 'tf_bert_model_17/bert/encoder/layer_._1/intermediate/dense/kernel:0', 'tf_bert_model_17/bert/encoder/layer_._1/intermediate/dense/bias:0', 'tf_bert_model_17/bert/encoder/layer_._1/output/dense/kernel:0', 'tf_bert_model_17/bert/encoder/layer_._1/output/dense/bias:0', 'tf_bert_model_17/bert/encoder/layer_._1/output/LayerNorm/gamma:0', 'tf_bert_model_17/bert/encoder/layer_._1/output/LayerNorm/beta:0', 'tf_bert_model_17/bert/encoder/layer_._2/attention/self/query/kernel:0', 'tf_bert_model_17/bert/encoder/layer_._2/attention/self/query/bias:0', 'tf_bert_model_17/bert/encoder/layer_._2/attention/self/key/kernel:0', 'tf_bert_model_17/bert/encoder/layer_._2/attention/self/key/bias:0', 'tf_bert_model_17/bert/encoder/layer_._2/attention/self/value/kernel:0', 'tf_bert_model_17/bert/encoder/layer_._2/attention/self/value/bias:0', 'tf_bert_model_17/bert/encoder/layer_._2/attention/output/dense/kernel:0', 'tf_bert_model_17/bert/encoder/layer_._2/attention/output/dense/bias:0', 'tf_bert_model_17/bert/encoder/layer_._2/attention/output/LayerNorm/gamma:0', 'tf_bert_model_17/bert/encoder/layer_._2/attention/output/LayerNorm/beta:0', 'tf_bert_model_17/bert/encoder/layer_._2/intermediate/dense/kernel:0', 'tf_bert_model_17/bert/encoder/layer_._2/intermediate/dense/bias:0', 'tf_bert_model_17/bert/encoder/layer_._2/output/dense/kernel:0', 'tf_bert_model_17/bert/encoder/layer_._2/output/dense/bias:0', 'tf_bert_model_17/bert/encoder/layer_._2/output/LayerNorm/gamma:0', 'tf_bert_model_17/bert/encoder/layer_._2/output/LayerNorm/beta:0', 'tf_bert_model_17/bert/encoder/layer_._3/attention/self/query/kernel:0', 'tf_bert_model_17/bert/encoder/layer_._3/attention/self/query/bias:0', 'tf_bert_model_17/bert/encoder/layer_._3/attention/self/key/kernel:0', 'tf_bert_model_17/bert/encoder/layer_._3/attention/self/key/bias:0', 'tf_bert_model_17/bert/encoder/layer_._3/attention/self/value/kernel:0', 'tf_bert_model_17/bert/encoder/layer_._3/attention/self/value/bias:0', 'tf_bert_model_17/bert/encoder/layer_._3/attention/output/dense/kernel:0', 'tf_bert_model_17/bert/encoder/layer_._3/attention/output/dense/bias:0', 'tf_bert_model_17/bert/encoder/layer_._3/attention/output/LayerNorm/gamma:0', 'tf_bert_model_17/bert/encoder/layer_._3/attention/output/LayerNorm/beta:0', 'tf_bert_model_17/bert/encoder/layer_._3/intermediate/dense/kernel:0', 'tf_bert_model_17/bert/encoder/layer_._3/intermediate/dense/bias:0', 'tf_bert_model_17/bert/encoder/layer_._3/output/dense/kernel:0', 'tf_bert_model_17/bert/encoder/layer_._3/output/dense/bias:0', 'tf_bert_model_17/bert/encoder/layer_._3/output/LayerNorm/gamma:0', 'tf_bert_model_17/bert/encoder/layer_._3/output/LayerNorm/beta:0', 'tf_bert_model_17/bert/encoder/layer_._4/attention/self/query/kernel:0', 'tf_bert_model_17/bert/encoder/layer_._4/attention/self/query/bias:0', 'tf_bert_model_17/bert/encoder/layer_._4/attention/self/key/kernel:0', 'tf_bert_model_17/bert/encoder/layer_._4/attention/self/key/bias:0', 'tf_bert_model_17/bert/encoder/layer_._4/attention/self/value/kernel:0', 'tf_bert_model_17/bert/encoder/layer_._4/attention/self/value/bias:0', 'tf_bert_model_17/bert/encoder/layer_._4/attention/output/dense/kernel:0', 'tf_bert_model_17/bert/encoder/layer_._4/attention/output/dense/bias:0', 'tf_bert_model_17/bert/encoder/layer_._4/attention/output/LayerNorm/gamma:0', 'tf_bert_model_17/bert/encoder/layer_._4/attention/output/LayerNorm/beta:0', 'tf_bert_model_17/bert/encoder/layer_._4/intermediate/dense/kernel:0', 'tf_bert_model_17/bert/encoder/layer_._4/intermediate/dense/bias:0', 'tf_bert_model_17/bert/encoder/layer_._4/output/dense/kernel:0', 'tf_bert_model_17/bert/encoder/layer_._4/output/dense/bias:0', 'tf_bert_model_17/bert/encoder/layer_._4/output/LayerNorm/gamma:0', 'tf_bert_model_17/bert/encoder/layer_._4/output/LayerNorm/beta:0', 'tf_bert_model_17/bert/encoder/layer_._5/attention/self/query/kernel:0', 'tf_bert_model_17/bert/encoder/layer_._5/attention/self/query/bias:0', 'tf_bert_model_17/bert/encoder/layer_._5/attention/self/key/kernel:0', 'tf_bert_model_17/bert/encoder/layer_._5/attention/self/key/bias:0', 'tf_bert_model_17/bert/encoder/layer_._5/attention/self/value/kernel:0', 'tf_bert_model_17/bert/encoder/layer_._5/attention/self/value/bias:0', 'tf_bert_model_17/bert/encoder/layer_._5/attention/output/dense/kernel:0', 'tf_bert_model_17/bert/encoder/layer_._5/attention/output/dense/bias:0', 'tf_bert_model_17/bert/encoder/layer_._5/attention/output/LayerNorm/gamma:0', 'tf_bert_model_17/bert/encoder/layer_._5/attention/output/LayerNorm/beta:0', 'tf_bert_model_17/bert/encoder/layer_._5/intermediate/dense/kernel:0', 'tf_bert_model_17/bert/encoder/layer_._5/intermediate/dense/bias:0', 'tf_bert_model_17/bert/encoder/layer_._5/output/dense/kernel:0', 'tf_bert_model_17/bert/encoder/layer_._5/output/dense/bias:0', 'tf_bert_model_17/bert/encoder/layer_._5/output/LayerNorm/gamma:0', 'tf_bert_model_17/bert/encoder/layer_._5/output/LayerNorm/beta:0', 'tf_bert_model_17/bert/encoder/layer_._6/attention/self/query/kernel:0', 'tf_bert_model_17/bert/encoder/layer_._6/attention/self/query/bias:0', 'tf_bert_model_17/bert/encoder/layer_._6/attention/self/key/kernel:0', 'tf_bert_model_17/bert/encoder/layer_._6/attention/self/key/bias:0', 'tf_bert_model_17/bert/encoder/layer_._6/attention/self/value/kernel:0', 'tf_bert_model_17/bert/encoder/layer_._6/attention/self/value/bias:0', 'tf_bert_model_17/bert/encoder/layer_._6/attention/output/dense/kernel:0', 'tf_bert_model_17/bert/encoder/layer_._6/attention/output/dense/bias:0', 'tf_bert_model_17/bert/encoder/layer_._6/attention/output/LayerNorm/gamma:0', 'tf_bert_model_17/bert/encoder/layer_._6/attention/output/LayerNorm/beta:0', 'tf_bert_model_17/bert/encoder/layer_._6/intermediate/dense/kernel:0', 'tf_bert_model_17/bert/encoder/layer_._6/intermediate/dense/bias:0', 'tf_bert_model_17/bert/encoder/layer_._6/output/dense/kernel:0', 'tf_bert_model_17/bert/encoder/layer_._6/output/dense/bias:0', 'tf_bert_model_17/bert/encoder/layer_._6/output/LayerNorm/gamma:0', 'tf_bert_model_17/bert/encoder/layer_._6/output/LayerNorm/beta:0', 'tf_bert_model_17/bert/encoder/layer_._7/attention/self/query/kernel:0', 'tf_bert_model_17/bert/encoder/layer_._7/attention/self/query/bias:0', 'tf_bert_model_17/bert/encoder/layer_._7/attention/self/key/kernel:0', 'tf_bert_model_17/bert/encoder/layer_._7/attention/self/key/bias:0', 'tf_bert_model_17/bert/encoder/layer_._7/attention/self/value/kernel:0', 'tf_bert_model_17/bert/encoder/layer_._7/attention/self/value/bias:0', 'tf_bert_model_17/bert/encoder/layer_._7/attention/output/dense/kernel:0', 'tf_bert_model_17/bert/encoder/layer_._7/attention/output/dense/bias:0', 'tf_bert_model_17/bert/encoder/layer_._7/attention/output/LayerNorm/gamma:0', 'tf_bert_model_17/bert/encoder/layer_._7/attention/output/LayerNorm/beta:0', 'tf_bert_model_17/bert/encoder/layer_._7/intermediate/dense/kernel:0', 'tf_bert_model_17/bert/encoder/layer_._7/intermediate/dense/bias:0', 'tf_bert_model_17/bert/encoder/layer_._7/output/dense/kernel:0', 'tf_bert_model_17/bert/encoder/layer_._7/output/dense/bias:0', 'tf_bert_model_17/bert/encoder/layer_._7/output/LayerNorm/gamma:0', 'tf_bert_model_17/bert/encoder/layer_._7/output/LayerNorm/beta:0', 'tf_bert_model_17/bert/encoder/layer_._8/attention/self/query/kernel:0', 'tf_bert_model_17/bert/encoder/layer_._8/attention/self/query/bias:0', 'tf_bert_model_17/bert/encoder/layer_._8/attention/self/key/kernel:0', 'tf_bert_model_17/bert/encoder/layer_._8/attention/self/key/bias:0', 'tf_bert_model_17/bert/encoder/layer_._8/attention/self/value/kernel:0', 'tf_bert_model_17/bert/encoder/layer_._8/attention/self/value/bias:0', 'tf_bert_model_17/bert/encoder/layer_._8/attention/output/dense/kernel:0', 'tf_bert_model_17/bert/encoder/layer_._8/attention/output/dense/bias:0', 'tf_bert_model_17/bert/encoder/layer_._8/attention/output/LayerNorm/gamma:0', 'tf_bert_model_17/bert/encoder/layer_._8/attention/output/LayerNorm/beta:0', 'tf_bert_model_17/bert/encoder/layer_._8/intermediate/dense/kernel:0', 'tf_bert_model_17/bert/encoder/layer_._8/intermediate/dense/bias:0', 'tf_bert_model_17/bert/encoder/layer_._8/output/dense/kernel:0', 'tf_bert_model_17/bert/encoder/layer_._8/output/dense/bias:0', 'tf_bert_model_17/bert/encoder/layer_._8/output/LayerNorm/gamma:0', 'tf_bert_model_17/bert/encoder/layer_._8/output/LayerNorm/beta:0', 'tf_bert_model_17/bert/encoder/layer_._9/attention/self/query/kernel:0', 'tf_bert_model_17/bert/encoder/layer_._9/attention/self/query/bias:0', 'tf_bert_model_17/bert/encoder/layer_._9/attention/self/key/kernel:0', 'tf_bert_model_17/bert/encoder/layer_._9/attention/self/key/bias:0', 'tf_bert_model_17/bert/encoder/layer_._9/attention/self/value/kernel:0', 'tf_bert_model_17/bert/encoder/layer_._9/attention/self/value/bias:0', 'tf_bert_model_17/bert/encoder/layer_._9/attention/output/dense/kernel:0', 'tf_bert_model_17/bert/encoder/layer_._9/attention/output/dense/bias:0', 'tf_bert_model_17/bert/encoder/layer_._9/attention/output/LayerNorm/gamma:0', 'tf_bert_model_17/bert/encoder/layer_._9/attention/output/LayerNorm/beta:0', 'tf_bert_model_17/bert/encoder/layer_._9/intermediate/dense/kernel:0', 'tf_bert_model_17/bert/encoder/layer_._9/intermediate/dense/bias:0', 'tf_bert_model_17/bert/encoder/layer_._9/output/dense/kernel:0', 'tf_bert_model_17/bert/encoder/layer_._9/output/dense/bias:0', 'tf_bert_model_17/bert/encoder/layer_._9/output/LayerNorm/gamma:0', 'tf_bert_model_17/bert/encoder/layer_._9/output/LayerNorm/beta:0', 'tf_bert_model_17/bert/encoder/layer_._10/attention/self/query/kernel:0', 'tf_bert_model_17/bert/encoder/layer_._10/attention/self/query/bias:0', 'tf_bert_model_17/bert/encoder/layer_._10/attention/self/key/kernel:0', 'tf_bert_model_17/bert/encoder/layer_._10/attention/self/key/bias:0', 'tf_bert_model_17/bert/encoder/layer_._10/attention/self/value/kernel:0', 'tf_bert_model_17/bert/encoder/layer_._10/attention/self/value/bias:0', 'tf_bert_model_17/bert/encoder/layer_._10/attention/output/dense/kernel:0', 'tf_bert_model_17/bert/encoder/layer_._10/attention/output/dense/bias:0', 'tf_bert_model_17/bert/encoder/layer_._10/attention/output/LayerNorm/gamma:0', 'tf_bert_model_17/bert/encoder/layer_._10/attention/output/LayerNorm/beta:0', 'tf_bert_model_17/bert/encoder/layer_._10/intermediate/dense/kernel:0', 'tf_bert_model_17/bert/encoder/layer_._10/intermediate/dense/bias:0', 'tf_bert_model_17/bert/encoder/layer_._10/output/dense/kernel:0', 'tf_bert_model_17/bert/encoder/layer_._10/output/dense/bias:0', 'tf_bert_model_17/bert/encoder/layer_._10/output/LayerNorm/gamma:0', 'tf_bert_model_17/bert/encoder/layer_._10/output/LayerNorm/beta:0', 'tf_bert_model_17/bert/pooler/dense/kernel:0', 'tf_bert_model_17/bert/pooler/dense/bias:0'] when minimizing the loss. If you're using `model.compile()`, did you forget to provide a `loss`argument?\n",
            "489/489 [==============================] - 31s 48ms/step - loss: 0.0985 - accuracy: 0.9660 - val_loss: 0.0484 - val_accuracy: 0.9877\n",
            "Epoch 2/3\n",
            "489/489 [==============================] - 20s 40ms/step - loss: 0.0324 - accuracy: 0.9910 - val_loss: 0.0549 - val_accuracy: 0.9869\n",
            "Epoch 3/3\n",
            "489/489 [==============================] - 20s 40ms/step - loss: 0.0208 - accuracy: 0.9941 - val_loss: 0.0652 - val_accuracy: 0.9877\n",
            "BERT 3e + CNN kernel un, train: accuracy = 0.9990, precision = 0.9988, recall = 0.9963, f1 = 0.9975\n",
            "validation: accuracy = 0.9928, precision = 0.9905, recall = 0.9766, f1 = 0.9835\n"
          ]
        },
        {
          "output_type": "stream",
          "name": "stderr",
          "text": [
            "Some layers from the model checkpoint at bert-base-cased were not used when initializing TFBertModel: ['nsp___cls', 'mlm___cls']\n",
            "- This IS expected if you are initializing TFBertModel from the checkpoint of a model trained on another task or with another architecture (e.g. initializing a BertForSequenceClassification model from a BertForPreTraining model).\n",
            "- This IS NOT expected if you are initializing TFBertModel from the checkpoint of a model that you expect to be exactly identical (initializing a BertForSequenceClassification model from a BertForSequenceClassification model).\n",
            "All the layers of TFBertModel were initialized from the model checkpoint at bert-base-cased.\n",
            "If your task is similar to the task the model of the checkpoint was trained on, you can already use TFBertModel for predictions without further training.\n"
          ]
        },
        {
          "output_type": "stream",
          "name": "stdout",
          "text": [
            "Epoch 1/3\n",
            "WARNING:tensorflow:Gradients do not exist for variables ['tf_bert_model_18/bert/embeddings/word_embeddings/weight:0', 'tf_bert_model_18/bert/embeddings/token_type_embeddings/embeddings:0', 'tf_bert_model_18/bert/embeddings/position_embeddings/embeddings:0', 'tf_bert_model_18/bert/embeddings/LayerNorm/gamma:0', 'tf_bert_model_18/bert/embeddings/LayerNorm/beta:0', 'tf_bert_model_18/bert/encoder/layer_._0/attention/self/query/kernel:0', 'tf_bert_model_18/bert/encoder/layer_._0/attention/self/query/bias:0', 'tf_bert_model_18/bert/encoder/layer_._0/attention/self/key/kernel:0', 'tf_bert_model_18/bert/encoder/layer_._0/attention/self/key/bias:0', 'tf_bert_model_18/bert/encoder/layer_._0/attention/self/value/kernel:0', 'tf_bert_model_18/bert/encoder/layer_._0/attention/self/value/bias:0', 'tf_bert_model_18/bert/encoder/layer_._0/attention/output/dense/kernel:0', 'tf_bert_model_18/bert/encoder/layer_._0/attention/output/dense/bias:0', 'tf_bert_model_18/bert/encoder/layer_._0/attention/output/LayerNorm/gamma:0', 'tf_bert_model_18/bert/encoder/layer_._0/attention/output/LayerNorm/beta:0', 'tf_bert_model_18/bert/encoder/layer_._0/intermediate/dense/kernel:0', 'tf_bert_model_18/bert/encoder/layer_._0/intermediate/dense/bias:0', 'tf_bert_model_18/bert/encoder/layer_._0/output/dense/kernel:0', 'tf_bert_model_18/bert/encoder/layer_._0/output/dense/bias:0', 'tf_bert_model_18/bert/encoder/layer_._0/output/LayerNorm/gamma:0', 'tf_bert_model_18/bert/encoder/layer_._0/output/LayerNorm/beta:0', 'tf_bert_model_18/bert/encoder/layer_._1/attention/self/query/kernel:0', 'tf_bert_model_18/bert/encoder/layer_._1/attention/self/query/bias:0', 'tf_bert_model_18/bert/encoder/layer_._1/attention/self/key/kernel:0', 'tf_bert_model_18/bert/encoder/layer_._1/attention/self/key/bias:0', 'tf_bert_model_18/bert/encoder/layer_._1/attention/self/value/kernel:0', 'tf_bert_model_18/bert/encoder/layer_._1/attention/self/value/bias:0', 'tf_bert_model_18/bert/encoder/layer_._1/attention/output/dense/kernel:0', 'tf_bert_model_18/bert/encoder/layer_._1/attention/output/dense/bias:0', 'tf_bert_model_18/bert/encoder/layer_._1/attention/output/LayerNorm/gamma:0', 'tf_bert_model_18/bert/encoder/layer_._1/attention/output/LayerNorm/beta:0', 'tf_bert_model_18/bert/encoder/layer_._1/intermediate/dense/kernel:0', 'tf_bert_model_18/bert/encoder/layer_._1/intermediate/dense/bias:0', 'tf_bert_model_18/bert/encoder/layer_._1/output/dense/kernel:0', 'tf_bert_model_18/bert/encoder/layer_._1/output/dense/bias:0', 'tf_bert_model_18/bert/encoder/layer_._1/output/LayerNorm/gamma:0', 'tf_bert_model_18/bert/encoder/layer_._1/output/LayerNorm/beta:0', 'tf_bert_model_18/bert/encoder/layer_._2/attention/self/query/kernel:0', 'tf_bert_model_18/bert/encoder/layer_._2/attention/self/query/bias:0', 'tf_bert_model_18/bert/encoder/layer_._2/attention/self/key/kernel:0', 'tf_bert_model_18/bert/encoder/layer_._2/attention/self/key/bias:0', 'tf_bert_model_18/bert/encoder/layer_._2/attention/self/value/kernel:0', 'tf_bert_model_18/bert/encoder/layer_._2/attention/self/value/bias:0', 'tf_bert_model_18/bert/encoder/layer_._2/attention/output/dense/kernel:0', 'tf_bert_model_18/bert/encoder/layer_._2/attention/output/dense/bias:0', 'tf_bert_model_18/bert/encoder/layer_._2/attention/output/LayerNorm/gamma:0', 'tf_bert_model_18/bert/encoder/layer_._2/attention/output/LayerNorm/beta:0', 'tf_bert_model_18/bert/encoder/layer_._2/intermediate/dense/kernel:0', 'tf_bert_model_18/bert/encoder/layer_._2/intermediate/dense/bias:0', 'tf_bert_model_18/bert/encoder/layer_._2/output/dense/kernel:0', 'tf_bert_model_18/bert/encoder/layer_._2/output/dense/bias:0', 'tf_bert_model_18/bert/encoder/layer_._2/output/LayerNorm/gamma:0', 'tf_bert_model_18/bert/encoder/layer_._2/output/LayerNorm/beta:0', 'tf_bert_model_18/bert/encoder/layer_._3/attention/self/query/kernel:0', 'tf_bert_model_18/bert/encoder/layer_._3/attention/self/query/bias:0', 'tf_bert_model_18/bert/encoder/layer_._3/attention/self/key/kernel:0', 'tf_bert_model_18/bert/encoder/layer_._3/attention/self/key/bias:0', 'tf_bert_model_18/bert/encoder/layer_._3/attention/self/value/kernel:0', 'tf_bert_model_18/bert/encoder/layer_._3/attention/self/value/bias:0', 'tf_bert_model_18/bert/encoder/layer_._3/attention/output/dense/kernel:0', 'tf_bert_model_18/bert/encoder/layer_._3/attention/output/dense/bias:0', 'tf_bert_model_18/bert/encoder/layer_._3/attention/output/LayerNorm/gamma:0', 'tf_bert_model_18/bert/encoder/layer_._3/attention/output/LayerNorm/beta:0', 'tf_bert_model_18/bert/encoder/layer_._3/intermediate/dense/kernel:0', 'tf_bert_model_18/bert/encoder/layer_._3/intermediate/dense/bias:0', 'tf_bert_model_18/bert/encoder/layer_._3/output/dense/kernel:0', 'tf_bert_model_18/bert/encoder/layer_._3/output/dense/bias:0', 'tf_bert_model_18/bert/encoder/layer_._3/output/LayerNorm/gamma:0', 'tf_bert_model_18/bert/encoder/layer_._3/output/LayerNorm/beta:0', 'tf_bert_model_18/bert/encoder/layer_._4/attention/self/query/kernel:0', 'tf_bert_model_18/bert/encoder/layer_._4/attention/self/query/bias:0', 'tf_bert_model_18/bert/encoder/layer_._4/attention/self/key/kernel:0', 'tf_bert_model_18/bert/encoder/layer_._4/attention/self/key/bias:0', 'tf_bert_model_18/bert/encoder/layer_._4/attention/self/value/kernel:0', 'tf_bert_model_18/bert/encoder/layer_._4/attention/self/value/bias:0', 'tf_bert_model_18/bert/encoder/layer_._4/attention/output/dense/kernel:0', 'tf_bert_model_18/bert/encoder/layer_._4/attention/output/dense/bias:0', 'tf_bert_model_18/bert/encoder/layer_._4/attention/output/LayerNorm/gamma:0', 'tf_bert_model_18/bert/encoder/layer_._4/attention/output/LayerNorm/beta:0', 'tf_bert_model_18/bert/encoder/layer_._4/intermediate/dense/kernel:0', 'tf_bert_model_18/bert/encoder/layer_._4/intermediate/dense/bias:0', 'tf_bert_model_18/bert/encoder/layer_._4/output/dense/kernel:0', 'tf_bert_model_18/bert/encoder/layer_._4/output/dense/bias:0', 'tf_bert_model_18/bert/encoder/layer_._4/output/LayerNorm/gamma:0', 'tf_bert_model_18/bert/encoder/layer_._4/output/LayerNorm/beta:0', 'tf_bert_model_18/bert/encoder/layer_._5/attention/self/query/kernel:0', 'tf_bert_model_18/bert/encoder/layer_._5/attention/self/query/bias:0', 'tf_bert_model_18/bert/encoder/layer_._5/attention/self/key/kernel:0', 'tf_bert_model_18/bert/encoder/layer_._5/attention/self/key/bias:0', 'tf_bert_model_18/bert/encoder/layer_._5/attention/self/value/kernel:0', 'tf_bert_model_18/bert/encoder/layer_._5/attention/self/value/bias:0', 'tf_bert_model_18/bert/encoder/layer_._5/attention/output/dense/kernel:0', 'tf_bert_model_18/bert/encoder/layer_._5/attention/output/dense/bias:0', 'tf_bert_model_18/bert/encoder/layer_._5/attention/output/LayerNorm/gamma:0', 'tf_bert_model_18/bert/encoder/layer_._5/attention/output/LayerNorm/beta:0', 'tf_bert_model_18/bert/encoder/layer_._5/intermediate/dense/kernel:0', 'tf_bert_model_18/bert/encoder/layer_._5/intermediate/dense/bias:0', 'tf_bert_model_18/bert/encoder/layer_._5/output/dense/kernel:0', 'tf_bert_model_18/bert/encoder/layer_._5/output/dense/bias:0', 'tf_bert_model_18/bert/encoder/layer_._5/output/LayerNorm/gamma:0', 'tf_bert_model_18/bert/encoder/layer_._5/output/LayerNorm/beta:0', 'tf_bert_model_18/bert/encoder/layer_._6/attention/self/query/kernel:0', 'tf_bert_model_18/bert/encoder/layer_._6/attention/self/query/bias:0', 'tf_bert_model_18/bert/encoder/layer_._6/attention/self/key/kernel:0', 'tf_bert_model_18/bert/encoder/layer_._6/attention/self/key/bias:0', 'tf_bert_model_18/bert/encoder/layer_._6/attention/self/value/kernel:0', 'tf_bert_model_18/bert/encoder/layer_._6/attention/self/value/bias:0', 'tf_bert_model_18/bert/encoder/layer_._6/attention/output/dense/kernel:0', 'tf_bert_model_18/bert/encoder/layer_._6/attention/output/dense/bias:0', 'tf_bert_model_18/bert/encoder/layer_._6/attention/output/LayerNorm/gamma:0', 'tf_bert_model_18/bert/encoder/layer_._6/attention/output/LayerNorm/beta:0', 'tf_bert_model_18/bert/encoder/layer_._6/intermediate/dense/kernel:0', 'tf_bert_model_18/bert/encoder/layer_._6/intermediate/dense/bias:0', 'tf_bert_model_18/bert/encoder/layer_._6/output/dense/kernel:0', 'tf_bert_model_18/bert/encoder/layer_._6/output/dense/bias:0', 'tf_bert_model_18/bert/encoder/layer_._6/output/LayerNorm/gamma:0', 'tf_bert_model_18/bert/encoder/layer_._6/output/LayerNorm/beta:0', 'tf_bert_model_18/bert/encoder/layer_._7/attention/self/query/kernel:0', 'tf_bert_model_18/bert/encoder/layer_._7/attention/self/query/bias:0', 'tf_bert_model_18/bert/encoder/layer_._7/attention/self/key/kernel:0', 'tf_bert_model_18/bert/encoder/layer_._7/attention/self/key/bias:0', 'tf_bert_model_18/bert/encoder/layer_._7/attention/self/value/kernel:0', 'tf_bert_model_18/bert/encoder/layer_._7/attention/self/value/bias:0', 'tf_bert_model_18/bert/encoder/layer_._7/attention/output/dense/kernel:0', 'tf_bert_model_18/bert/encoder/layer_._7/attention/output/dense/bias:0', 'tf_bert_model_18/bert/encoder/layer_._7/attention/output/LayerNorm/gamma:0', 'tf_bert_model_18/bert/encoder/layer_._7/attention/output/LayerNorm/beta:0', 'tf_bert_model_18/bert/encoder/layer_._7/intermediate/dense/kernel:0', 'tf_bert_model_18/bert/encoder/layer_._7/intermediate/dense/bias:0', 'tf_bert_model_18/bert/encoder/layer_._7/output/dense/kernel:0', 'tf_bert_model_18/bert/encoder/layer_._7/output/dense/bias:0', 'tf_bert_model_18/bert/encoder/layer_._7/output/LayerNorm/gamma:0', 'tf_bert_model_18/bert/encoder/layer_._7/output/LayerNorm/beta:0', 'tf_bert_model_18/bert/encoder/layer_._8/attention/self/query/kernel:0', 'tf_bert_model_18/bert/encoder/layer_._8/attention/self/query/bias:0', 'tf_bert_model_18/bert/encoder/layer_._8/attention/self/key/kernel:0', 'tf_bert_model_18/bert/encoder/layer_._8/attention/self/key/bias:0', 'tf_bert_model_18/bert/encoder/layer_._8/attention/self/value/kernel:0', 'tf_bert_model_18/bert/encoder/layer_._8/attention/self/value/bias:0', 'tf_bert_model_18/bert/encoder/layer_._8/attention/output/dense/kernel:0', 'tf_bert_model_18/bert/encoder/layer_._8/attention/output/dense/bias:0', 'tf_bert_model_18/bert/encoder/layer_._8/attention/output/LayerNorm/gamma:0', 'tf_bert_model_18/bert/encoder/layer_._8/attention/output/LayerNorm/beta:0', 'tf_bert_model_18/bert/encoder/layer_._8/intermediate/dense/kernel:0', 'tf_bert_model_18/bert/encoder/layer_._8/intermediate/dense/bias:0', 'tf_bert_model_18/bert/encoder/layer_._8/output/dense/kernel:0', 'tf_bert_model_18/bert/encoder/layer_._8/output/dense/bias:0', 'tf_bert_model_18/bert/encoder/layer_._8/output/LayerNorm/gamma:0', 'tf_bert_model_18/bert/encoder/layer_._8/output/LayerNorm/beta:0', 'tf_bert_model_18/bert/encoder/layer_._9/attention/self/query/kernel:0', 'tf_bert_model_18/bert/encoder/layer_._9/attention/self/query/bias:0', 'tf_bert_model_18/bert/encoder/layer_._9/attention/self/key/kernel:0', 'tf_bert_model_18/bert/encoder/layer_._9/attention/self/key/bias:0', 'tf_bert_model_18/bert/encoder/layer_._9/attention/self/value/kernel:0', 'tf_bert_model_18/bert/encoder/layer_._9/attention/self/value/bias:0', 'tf_bert_model_18/bert/encoder/layer_._9/attention/output/dense/kernel:0', 'tf_bert_model_18/bert/encoder/layer_._9/attention/output/dense/bias:0', 'tf_bert_model_18/bert/encoder/layer_._9/attention/output/LayerNorm/gamma:0', 'tf_bert_model_18/bert/encoder/layer_._9/attention/output/LayerNorm/beta:0', 'tf_bert_model_18/bert/encoder/layer_._9/intermediate/dense/kernel:0', 'tf_bert_model_18/bert/encoder/layer_._9/intermediate/dense/bias:0', 'tf_bert_model_18/bert/encoder/layer_._9/output/dense/kernel:0', 'tf_bert_model_18/bert/encoder/layer_._9/output/dense/bias:0', 'tf_bert_model_18/bert/encoder/layer_._9/output/LayerNorm/gamma:0', 'tf_bert_model_18/bert/encoder/layer_._9/output/LayerNorm/beta:0', 'tf_bert_model_18/bert/encoder/layer_._10/attention/self/query/kernel:0', 'tf_bert_model_18/bert/encoder/layer_._10/attention/self/query/bias:0', 'tf_bert_model_18/bert/encoder/layer_._10/attention/self/key/kernel:0', 'tf_bert_model_18/bert/encoder/layer_._10/attention/self/key/bias:0', 'tf_bert_model_18/bert/encoder/layer_._10/attention/self/value/kernel:0', 'tf_bert_model_18/bert/encoder/layer_._10/attention/self/value/bias:0', 'tf_bert_model_18/bert/encoder/layer_._10/attention/output/dense/kernel:0', 'tf_bert_model_18/bert/encoder/layer_._10/attention/output/dense/bias:0', 'tf_bert_model_18/bert/encoder/layer_._10/attention/output/LayerNorm/gamma:0', 'tf_bert_model_18/bert/encoder/layer_._10/attention/output/LayerNorm/beta:0', 'tf_bert_model_18/bert/encoder/layer_._10/intermediate/dense/kernel:0', 'tf_bert_model_18/bert/encoder/layer_._10/intermediate/dense/bias:0', 'tf_bert_model_18/bert/encoder/layer_._10/output/dense/kernel:0', 'tf_bert_model_18/bert/encoder/layer_._10/output/dense/bias:0', 'tf_bert_model_18/bert/encoder/layer_._10/output/LayerNorm/gamma:0', 'tf_bert_model_18/bert/encoder/layer_._10/output/LayerNorm/beta:0', 'tf_bert_model_18/bert/pooler/dense/kernel:0', 'tf_bert_model_18/bert/pooler/dense/bias:0'] when minimizing the loss. If you're using `model.compile()`, did you forget to provide a `loss`argument?\n",
            "WARNING:tensorflow:Gradients do not exist for variables ['tf_bert_model_18/bert/embeddings/word_embeddings/weight:0', 'tf_bert_model_18/bert/embeddings/token_type_embeddings/embeddings:0', 'tf_bert_model_18/bert/embeddings/position_embeddings/embeddings:0', 'tf_bert_model_18/bert/embeddings/LayerNorm/gamma:0', 'tf_bert_model_18/bert/embeddings/LayerNorm/beta:0', 'tf_bert_model_18/bert/encoder/layer_._0/attention/self/query/kernel:0', 'tf_bert_model_18/bert/encoder/layer_._0/attention/self/query/bias:0', 'tf_bert_model_18/bert/encoder/layer_._0/attention/self/key/kernel:0', 'tf_bert_model_18/bert/encoder/layer_._0/attention/self/key/bias:0', 'tf_bert_model_18/bert/encoder/layer_._0/attention/self/value/kernel:0', 'tf_bert_model_18/bert/encoder/layer_._0/attention/self/value/bias:0', 'tf_bert_model_18/bert/encoder/layer_._0/attention/output/dense/kernel:0', 'tf_bert_model_18/bert/encoder/layer_._0/attention/output/dense/bias:0', 'tf_bert_model_18/bert/encoder/layer_._0/attention/output/LayerNorm/gamma:0', 'tf_bert_model_18/bert/encoder/layer_._0/attention/output/LayerNorm/beta:0', 'tf_bert_model_18/bert/encoder/layer_._0/intermediate/dense/kernel:0', 'tf_bert_model_18/bert/encoder/layer_._0/intermediate/dense/bias:0', 'tf_bert_model_18/bert/encoder/layer_._0/output/dense/kernel:0', 'tf_bert_model_18/bert/encoder/layer_._0/output/dense/bias:0', 'tf_bert_model_18/bert/encoder/layer_._0/output/LayerNorm/gamma:0', 'tf_bert_model_18/bert/encoder/layer_._0/output/LayerNorm/beta:0', 'tf_bert_model_18/bert/encoder/layer_._1/attention/self/query/kernel:0', 'tf_bert_model_18/bert/encoder/layer_._1/attention/self/query/bias:0', 'tf_bert_model_18/bert/encoder/layer_._1/attention/self/key/kernel:0', 'tf_bert_model_18/bert/encoder/layer_._1/attention/self/key/bias:0', 'tf_bert_model_18/bert/encoder/layer_._1/attention/self/value/kernel:0', 'tf_bert_model_18/bert/encoder/layer_._1/attention/self/value/bias:0', 'tf_bert_model_18/bert/encoder/layer_._1/attention/output/dense/kernel:0', 'tf_bert_model_18/bert/encoder/layer_._1/attention/output/dense/bias:0', 'tf_bert_model_18/bert/encoder/layer_._1/attention/output/LayerNorm/gamma:0', 'tf_bert_model_18/bert/encoder/layer_._1/attention/output/LayerNorm/beta:0', 'tf_bert_model_18/bert/encoder/layer_._1/intermediate/dense/kernel:0', 'tf_bert_model_18/bert/encoder/layer_._1/intermediate/dense/bias:0', 'tf_bert_model_18/bert/encoder/layer_._1/output/dense/kernel:0', 'tf_bert_model_18/bert/encoder/layer_._1/output/dense/bias:0', 'tf_bert_model_18/bert/encoder/layer_._1/output/LayerNorm/gamma:0', 'tf_bert_model_18/bert/encoder/layer_._1/output/LayerNorm/beta:0', 'tf_bert_model_18/bert/encoder/layer_._2/attention/self/query/kernel:0', 'tf_bert_model_18/bert/encoder/layer_._2/attention/self/query/bias:0', 'tf_bert_model_18/bert/encoder/layer_._2/attention/self/key/kernel:0', 'tf_bert_model_18/bert/encoder/layer_._2/attention/self/key/bias:0', 'tf_bert_model_18/bert/encoder/layer_._2/attention/self/value/kernel:0', 'tf_bert_model_18/bert/encoder/layer_._2/attention/self/value/bias:0', 'tf_bert_model_18/bert/encoder/layer_._2/attention/output/dense/kernel:0', 'tf_bert_model_18/bert/encoder/layer_._2/attention/output/dense/bias:0', 'tf_bert_model_18/bert/encoder/layer_._2/attention/output/LayerNorm/gamma:0', 'tf_bert_model_18/bert/encoder/layer_._2/attention/output/LayerNorm/beta:0', 'tf_bert_model_18/bert/encoder/layer_._2/intermediate/dense/kernel:0', 'tf_bert_model_18/bert/encoder/layer_._2/intermediate/dense/bias:0', 'tf_bert_model_18/bert/encoder/layer_._2/output/dense/kernel:0', 'tf_bert_model_18/bert/encoder/layer_._2/output/dense/bias:0', 'tf_bert_model_18/bert/encoder/layer_._2/output/LayerNorm/gamma:0', 'tf_bert_model_18/bert/encoder/layer_._2/output/LayerNorm/beta:0', 'tf_bert_model_18/bert/encoder/layer_._3/attention/self/query/kernel:0', 'tf_bert_model_18/bert/encoder/layer_._3/attention/self/query/bias:0', 'tf_bert_model_18/bert/encoder/layer_._3/attention/self/key/kernel:0', 'tf_bert_model_18/bert/encoder/layer_._3/attention/self/key/bias:0', 'tf_bert_model_18/bert/encoder/layer_._3/attention/self/value/kernel:0', 'tf_bert_model_18/bert/encoder/layer_._3/attention/self/value/bias:0', 'tf_bert_model_18/bert/encoder/layer_._3/attention/output/dense/kernel:0', 'tf_bert_model_18/bert/encoder/layer_._3/attention/output/dense/bias:0', 'tf_bert_model_18/bert/encoder/layer_._3/attention/output/LayerNorm/gamma:0', 'tf_bert_model_18/bert/encoder/layer_._3/attention/output/LayerNorm/beta:0', 'tf_bert_model_18/bert/encoder/layer_._3/intermediate/dense/kernel:0', 'tf_bert_model_18/bert/encoder/layer_._3/intermediate/dense/bias:0', 'tf_bert_model_18/bert/encoder/layer_._3/output/dense/kernel:0', 'tf_bert_model_18/bert/encoder/layer_._3/output/dense/bias:0', 'tf_bert_model_18/bert/encoder/layer_._3/output/LayerNorm/gamma:0', 'tf_bert_model_18/bert/encoder/layer_._3/output/LayerNorm/beta:0', 'tf_bert_model_18/bert/encoder/layer_._4/attention/self/query/kernel:0', 'tf_bert_model_18/bert/encoder/layer_._4/attention/self/query/bias:0', 'tf_bert_model_18/bert/encoder/layer_._4/attention/self/key/kernel:0', 'tf_bert_model_18/bert/encoder/layer_._4/attention/self/key/bias:0', 'tf_bert_model_18/bert/encoder/layer_._4/attention/self/value/kernel:0', 'tf_bert_model_18/bert/encoder/layer_._4/attention/self/value/bias:0', 'tf_bert_model_18/bert/encoder/layer_._4/attention/output/dense/kernel:0', 'tf_bert_model_18/bert/encoder/layer_._4/attention/output/dense/bias:0', 'tf_bert_model_18/bert/encoder/layer_._4/attention/output/LayerNorm/gamma:0', 'tf_bert_model_18/bert/encoder/layer_._4/attention/output/LayerNorm/beta:0', 'tf_bert_model_18/bert/encoder/layer_._4/intermediate/dense/kernel:0', 'tf_bert_model_18/bert/encoder/layer_._4/intermediate/dense/bias:0', 'tf_bert_model_18/bert/encoder/layer_._4/output/dense/kernel:0', 'tf_bert_model_18/bert/encoder/layer_._4/output/dense/bias:0', 'tf_bert_model_18/bert/encoder/layer_._4/output/LayerNorm/gamma:0', 'tf_bert_model_18/bert/encoder/layer_._4/output/LayerNorm/beta:0', 'tf_bert_model_18/bert/encoder/layer_._5/attention/self/query/kernel:0', 'tf_bert_model_18/bert/encoder/layer_._5/attention/self/query/bias:0', 'tf_bert_model_18/bert/encoder/layer_._5/attention/self/key/kernel:0', 'tf_bert_model_18/bert/encoder/layer_._5/attention/self/key/bias:0', 'tf_bert_model_18/bert/encoder/layer_._5/attention/self/value/kernel:0', 'tf_bert_model_18/bert/encoder/layer_._5/attention/self/value/bias:0', 'tf_bert_model_18/bert/encoder/layer_._5/attention/output/dense/kernel:0', 'tf_bert_model_18/bert/encoder/layer_._5/attention/output/dense/bias:0', 'tf_bert_model_18/bert/encoder/layer_._5/attention/output/LayerNorm/gamma:0', 'tf_bert_model_18/bert/encoder/layer_._5/attention/output/LayerNorm/beta:0', 'tf_bert_model_18/bert/encoder/layer_._5/intermediate/dense/kernel:0', 'tf_bert_model_18/bert/encoder/layer_._5/intermediate/dense/bias:0', 'tf_bert_model_18/bert/encoder/layer_._5/output/dense/kernel:0', 'tf_bert_model_18/bert/encoder/layer_._5/output/dense/bias:0', 'tf_bert_model_18/bert/encoder/layer_._5/output/LayerNorm/gamma:0', 'tf_bert_model_18/bert/encoder/layer_._5/output/LayerNorm/beta:0', 'tf_bert_model_18/bert/encoder/layer_._6/attention/self/query/kernel:0', 'tf_bert_model_18/bert/encoder/layer_._6/attention/self/query/bias:0', 'tf_bert_model_18/bert/encoder/layer_._6/attention/self/key/kernel:0', 'tf_bert_model_18/bert/encoder/layer_._6/attention/self/key/bias:0', 'tf_bert_model_18/bert/encoder/layer_._6/attention/self/value/kernel:0', 'tf_bert_model_18/bert/encoder/layer_._6/attention/self/value/bias:0', 'tf_bert_model_18/bert/encoder/layer_._6/attention/output/dense/kernel:0', 'tf_bert_model_18/bert/encoder/layer_._6/attention/output/dense/bias:0', 'tf_bert_model_18/bert/encoder/layer_._6/attention/output/LayerNorm/gamma:0', 'tf_bert_model_18/bert/encoder/layer_._6/attention/output/LayerNorm/beta:0', 'tf_bert_model_18/bert/encoder/layer_._6/intermediate/dense/kernel:0', 'tf_bert_model_18/bert/encoder/layer_._6/intermediate/dense/bias:0', 'tf_bert_model_18/bert/encoder/layer_._6/output/dense/kernel:0', 'tf_bert_model_18/bert/encoder/layer_._6/output/dense/bias:0', 'tf_bert_model_18/bert/encoder/layer_._6/output/LayerNorm/gamma:0', 'tf_bert_model_18/bert/encoder/layer_._6/output/LayerNorm/beta:0', 'tf_bert_model_18/bert/encoder/layer_._7/attention/self/query/kernel:0', 'tf_bert_model_18/bert/encoder/layer_._7/attention/self/query/bias:0', 'tf_bert_model_18/bert/encoder/layer_._7/attention/self/key/kernel:0', 'tf_bert_model_18/bert/encoder/layer_._7/attention/self/key/bias:0', 'tf_bert_model_18/bert/encoder/layer_._7/attention/self/value/kernel:0', 'tf_bert_model_18/bert/encoder/layer_._7/attention/self/value/bias:0', 'tf_bert_model_18/bert/encoder/layer_._7/attention/output/dense/kernel:0', 'tf_bert_model_18/bert/encoder/layer_._7/attention/output/dense/bias:0', 'tf_bert_model_18/bert/encoder/layer_._7/attention/output/LayerNorm/gamma:0', 'tf_bert_model_18/bert/encoder/layer_._7/attention/output/LayerNorm/beta:0', 'tf_bert_model_18/bert/encoder/layer_._7/intermediate/dense/kernel:0', 'tf_bert_model_18/bert/encoder/layer_._7/intermediate/dense/bias:0', 'tf_bert_model_18/bert/encoder/layer_._7/output/dense/kernel:0', 'tf_bert_model_18/bert/encoder/layer_._7/output/dense/bias:0', 'tf_bert_model_18/bert/encoder/layer_._7/output/LayerNorm/gamma:0', 'tf_bert_model_18/bert/encoder/layer_._7/output/LayerNorm/beta:0', 'tf_bert_model_18/bert/encoder/layer_._8/attention/self/query/kernel:0', 'tf_bert_model_18/bert/encoder/layer_._8/attention/self/query/bias:0', 'tf_bert_model_18/bert/encoder/layer_._8/attention/self/key/kernel:0', 'tf_bert_model_18/bert/encoder/layer_._8/attention/self/key/bias:0', 'tf_bert_model_18/bert/encoder/layer_._8/attention/self/value/kernel:0', 'tf_bert_model_18/bert/encoder/layer_._8/attention/self/value/bias:0', 'tf_bert_model_18/bert/encoder/layer_._8/attention/output/dense/kernel:0', 'tf_bert_model_18/bert/encoder/layer_._8/attention/output/dense/bias:0', 'tf_bert_model_18/bert/encoder/layer_._8/attention/output/LayerNorm/gamma:0', 'tf_bert_model_18/bert/encoder/layer_._8/attention/output/LayerNorm/beta:0', 'tf_bert_model_18/bert/encoder/layer_._8/intermediate/dense/kernel:0', 'tf_bert_model_18/bert/encoder/layer_._8/intermediate/dense/bias:0', 'tf_bert_model_18/bert/encoder/layer_._8/output/dense/kernel:0', 'tf_bert_model_18/bert/encoder/layer_._8/output/dense/bias:0', 'tf_bert_model_18/bert/encoder/layer_._8/output/LayerNorm/gamma:0', 'tf_bert_model_18/bert/encoder/layer_._8/output/LayerNorm/beta:0', 'tf_bert_model_18/bert/encoder/layer_._9/attention/self/query/kernel:0', 'tf_bert_model_18/bert/encoder/layer_._9/attention/self/query/bias:0', 'tf_bert_model_18/bert/encoder/layer_._9/attention/self/key/kernel:0', 'tf_bert_model_18/bert/encoder/layer_._9/attention/self/key/bias:0', 'tf_bert_model_18/bert/encoder/layer_._9/attention/self/value/kernel:0', 'tf_bert_model_18/bert/encoder/layer_._9/attention/self/value/bias:0', 'tf_bert_model_18/bert/encoder/layer_._9/attention/output/dense/kernel:0', 'tf_bert_model_18/bert/encoder/layer_._9/attention/output/dense/bias:0', 'tf_bert_model_18/bert/encoder/layer_._9/attention/output/LayerNorm/gamma:0', 'tf_bert_model_18/bert/encoder/layer_._9/attention/output/LayerNorm/beta:0', 'tf_bert_model_18/bert/encoder/layer_._9/intermediate/dense/kernel:0', 'tf_bert_model_18/bert/encoder/layer_._9/intermediate/dense/bias:0', 'tf_bert_model_18/bert/encoder/layer_._9/output/dense/kernel:0', 'tf_bert_model_18/bert/encoder/layer_._9/output/dense/bias:0', 'tf_bert_model_18/bert/encoder/layer_._9/output/LayerNorm/gamma:0', 'tf_bert_model_18/bert/encoder/layer_._9/output/LayerNorm/beta:0', 'tf_bert_model_18/bert/encoder/layer_._10/attention/self/query/kernel:0', 'tf_bert_model_18/bert/encoder/layer_._10/attention/self/query/bias:0', 'tf_bert_model_18/bert/encoder/layer_._10/attention/self/key/kernel:0', 'tf_bert_model_18/bert/encoder/layer_._10/attention/self/key/bias:0', 'tf_bert_model_18/bert/encoder/layer_._10/attention/self/value/kernel:0', 'tf_bert_model_18/bert/encoder/layer_._10/attention/self/value/bias:0', 'tf_bert_model_18/bert/encoder/layer_._10/attention/output/dense/kernel:0', 'tf_bert_model_18/bert/encoder/layer_._10/attention/output/dense/bias:0', 'tf_bert_model_18/bert/encoder/layer_._10/attention/output/LayerNorm/gamma:0', 'tf_bert_model_18/bert/encoder/layer_._10/attention/output/LayerNorm/beta:0', 'tf_bert_model_18/bert/encoder/layer_._10/intermediate/dense/kernel:0', 'tf_bert_model_18/bert/encoder/layer_._10/intermediate/dense/bias:0', 'tf_bert_model_18/bert/encoder/layer_._10/output/dense/kernel:0', 'tf_bert_model_18/bert/encoder/layer_._10/output/dense/bias:0', 'tf_bert_model_18/bert/encoder/layer_._10/output/LayerNorm/gamma:0', 'tf_bert_model_18/bert/encoder/layer_._10/output/LayerNorm/beta:0', 'tf_bert_model_18/bert/pooler/dense/kernel:0', 'tf_bert_model_18/bert/pooler/dense/bias:0'] when minimizing the loss. If you're using `model.compile()`, did you forget to provide a `loss`argument?\n",
            "489/489 [==============================] - 30s 46ms/step - loss: 0.0889 - accuracy: 0.9706 - val_loss: 0.0718 - val_accuracy: 0.9812\n",
            "Epoch 2/3\n",
            "489/489 [==============================] - 20s 40ms/step - loss: 0.0374 - accuracy: 0.9887 - val_loss: 0.0547 - val_accuracy: 0.9861\n",
            "Epoch 3/3\n",
            "489/489 [==============================] - 20s 40ms/step - loss: 0.0218 - accuracy: 0.9921 - val_loss: 0.0577 - val_accuracy: 0.9861\n",
            "BERT 3e + CNN kernel un, train: accuracy = 0.9980, precision = 1.0000, recall = 0.9903, f1 = 0.9951\n",
            "validation: accuracy = 0.9939, precision = 1.0000, recall = 0.9688, f1 = 0.9841\n"
          ]
        }
      ]
    },
    {
      "cell_type": "markdown",
      "source": [
        "accuracy = 0.9918, precision = 0.9949, recall = 0.9653, f1 = 0.9799\n",
        "\n",
        "accuracy = 0.9939, precision = 0.9950, recall = 0.9754, f1 = 0.9851\n",
        "\n",
        "accuracy = 0.9877, precision = 0.9850, recall = 0.9563, f1 = 0.9704\n",
        "\n",
        "accuracy = 0.9928, precision = 0.9905, recall = 0.9766, f1 = 0.9835\n",
        "\n",
        "accuracy = 0.9939, precision = 1.0000, recall = 0.9688, f1 = 0.9841\n"
      ],
      "metadata": {
        "id": "4ZPhvf8ozQTa"
      }
    },
    {
      "cell_type": "code",
      "source": [
        "# cross validation results\n",
        "cross_val_acc = [0.9918, 0.9939,0.9877,0.9928,0.9939]\n",
        "cross_val_precision = [0.9949, 0.9950,0.9850,0.9905,1.0000]\n",
        "cross_val_recall = [0.9653,0.9754,0.9563,0.9766,0.9688]\n",
        "cross_val_f1 = [0.9799, 0.9851, 0.9704, 0.9835, 0.9841]\n",
        "\n",
        "print(\"mean accuracy\", np.mean(cross_val_acc))\n",
        "print(\"mean f1\", np.mean(cross_val_f1))\n",
        "\n",
        "print(\"st dev accuracy\", np.std(cross_val_acc))\n",
        "print(\"se dev f1\", np.std(cross_val_f1))"
      ],
      "metadata": {
        "colab": {
          "base_uri": "https://localhost:8080/"
        },
        "id": "ENs2yinEzV64",
        "outputId": "592ef23d-643b-4e67-e624-eeda3a9a7962"
      },
      "execution_count": null,
      "outputs": [
        {
          "output_type": "stream",
          "name": "stdout",
          "text": [
            "mean accuracy 0.9920199999999999\n",
            "mean f1 0.9805999999999999\n",
            "st dev accuracy 0.002297302766289192\n",
            "se dev f1 0.005393329213018597\n"
          ]
        }
      ]
    },
    {
      "cell_type": "markdown",
      "source": [
        "##### BERT + CNN 3e un kernel 160 len"
      ],
      "metadata": {
        "id": "LEfX4XGVKxDh"
      }
    },
    {
      "cell_type": "code",
      "source": [
        "CROSS_VAL = 5\n",
        "FOLD_SIZE = 977\n",
        "\n",
        "for i in range(CROSS_VAL):\n",
        "  #max_length = 100\n",
        "  max_length = 160                  # set max_length\n",
        "\n",
        "  all_train_examples = list(train_X.iloc[np.r_[0:FOLD_SIZE*i,FOLD_SIZE*(i+1):FOLD_SIZE*5]])\n",
        "  all_val_examples = list(train_X[FOLD_SIZE*i:FOLD_SIZE*(i+1)])\n",
        "  all_test_examples = list(test_X)\n",
        "\n",
        "  x_train = bert_tokenizer(all_train_examples, \n",
        "                max_length=max_length,\n",
        "                truncation=True,\n",
        "                padding='max_length', \n",
        "                return_tensors='tf')\n",
        "\n",
        "  y_train = tf.convert_to_tensor(list(train_y.iloc[np.r_[0:FOLD_SIZE*i,FOLD_SIZE*(i+1):FOLD_SIZE*5]]))\n",
        "\n",
        "  x_test = bert_tokenizer(all_test_examples, \n",
        "                max_length=max_length,\n",
        "                truncation=True,\n",
        "                padding='max_length', \n",
        "                return_tensors='tf')\n",
        "\n",
        "  y_test = tf.convert_to_tensor(list(test_y))\n",
        "\n",
        "  x_val = bert_tokenizer(all_val_examples, \n",
        "                max_length=max_length,\n",
        "                truncation=True,\n",
        "                padding='max_length', \n",
        "                return_tensors='tf')\n",
        "\n",
        "  y_val = tf.convert_to_tensor(list(train_y[FOLD_SIZE*i:FOLD_SIZE*(i+1)]))\n",
        "\n",
        "  cnn_bert_model = create_bert_cnn_model(train_layers=1,\n",
        "                                       kernel_sizes = [2, 3, 4, 5])\n",
        "\n",
        "  cnn_bert_model_history = cnn_bert_model.fit([x_train.input_ids, x_train.token_type_ids, x_train.attention_mask], \n",
        "                                            y_train,   \n",
        "                                            validation_data=([x_test.input_ids, x_test.token_type_ids, x_test.attention_mask], y_test),    \n",
        "                                            batch_size=8, \n",
        "                                            epochs=3)\n",
        "\n",
        "\n",
        "\n",
        "  train_predict_labels = cnn_bert_model.predict([x_train.input_ids, x_train.token_type_ids, x_train.attention_mask])\n",
        "  train_y_predict = train_predict_labels.round(0)\n",
        "\n",
        "  val_predict_labels = cnn_bert_model.predict([x_val.input_ids, x_val.token_type_ids, x_val.attention_mask])\n",
        "  val_y_predict = val_predict_labels.round(0)\n",
        "\n",
        "  # train\n",
        "  print_metrics('BERT 3e + CNN kernel un 160, train', np.array(train_y.iloc[np.r_[0:FOLD_SIZE*i,FOLD_SIZE*(i+1):FOLD_SIZE*5]], int), train_y_predict)\n",
        "  # validation\n",
        "  print_metrics('validation', np.array(train_y[FOLD_SIZE*i:FOLD_SIZE*(i+1)], int), val_y_predict)"
      ],
      "metadata": {
        "id": "E_niVw1piMlN",
        "colab": {
          "base_uri": "https://localhost:8080/"
        },
        "outputId": "fff4dbb0-53d2-4c08-b364-11d26ce38437"
      },
      "execution_count": null,
      "outputs": [
        {
          "output_type": "stream",
          "name": "stderr",
          "text": [
            "Some layers from the model checkpoint at bert-base-cased were not used when initializing TFBertModel: ['nsp___cls', 'mlm___cls']\n",
            "- This IS expected if you are initializing TFBertModel from the checkpoint of a model trained on another task or with another architecture (e.g. initializing a BertForSequenceClassification model from a BertForPreTraining model).\n",
            "- This IS NOT expected if you are initializing TFBertModel from the checkpoint of a model that you expect to be exactly identical (initializing a BertForSequenceClassification model from a BertForSequenceClassification model).\n",
            "All the layers of TFBertModel were initialized from the model checkpoint at bert-base-cased.\n",
            "If your task is similar to the task the model of the checkpoint was trained on, you can already use TFBertModel for predictions without further training.\n"
          ]
        },
        {
          "output_type": "stream",
          "name": "stdout",
          "text": [
            "Epoch 1/3\n",
            "WARNING:tensorflow:Gradients do not exist for variables ['tf_bert_model_19/bert/embeddings/word_embeddings/weight:0', 'tf_bert_model_19/bert/embeddings/token_type_embeddings/embeddings:0', 'tf_bert_model_19/bert/embeddings/position_embeddings/embeddings:0', 'tf_bert_model_19/bert/embeddings/LayerNorm/gamma:0', 'tf_bert_model_19/bert/embeddings/LayerNorm/beta:0', 'tf_bert_model_19/bert/encoder/layer_._0/attention/self/query/kernel:0', 'tf_bert_model_19/bert/encoder/layer_._0/attention/self/query/bias:0', 'tf_bert_model_19/bert/encoder/layer_._0/attention/self/key/kernel:0', 'tf_bert_model_19/bert/encoder/layer_._0/attention/self/key/bias:0', 'tf_bert_model_19/bert/encoder/layer_._0/attention/self/value/kernel:0', 'tf_bert_model_19/bert/encoder/layer_._0/attention/self/value/bias:0', 'tf_bert_model_19/bert/encoder/layer_._0/attention/output/dense/kernel:0', 'tf_bert_model_19/bert/encoder/layer_._0/attention/output/dense/bias:0', 'tf_bert_model_19/bert/encoder/layer_._0/attention/output/LayerNorm/gamma:0', 'tf_bert_model_19/bert/encoder/layer_._0/attention/output/LayerNorm/beta:0', 'tf_bert_model_19/bert/encoder/layer_._0/intermediate/dense/kernel:0', 'tf_bert_model_19/bert/encoder/layer_._0/intermediate/dense/bias:0', 'tf_bert_model_19/bert/encoder/layer_._0/output/dense/kernel:0', 'tf_bert_model_19/bert/encoder/layer_._0/output/dense/bias:0', 'tf_bert_model_19/bert/encoder/layer_._0/output/LayerNorm/gamma:0', 'tf_bert_model_19/bert/encoder/layer_._0/output/LayerNorm/beta:0', 'tf_bert_model_19/bert/encoder/layer_._1/attention/self/query/kernel:0', 'tf_bert_model_19/bert/encoder/layer_._1/attention/self/query/bias:0', 'tf_bert_model_19/bert/encoder/layer_._1/attention/self/key/kernel:0', 'tf_bert_model_19/bert/encoder/layer_._1/attention/self/key/bias:0', 'tf_bert_model_19/bert/encoder/layer_._1/attention/self/value/kernel:0', 'tf_bert_model_19/bert/encoder/layer_._1/attention/self/value/bias:0', 'tf_bert_model_19/bert/encoder/layer_._1/attention/output/dense/kernel:0', 'tf_bert_model_19/bert/encoder/layer_._1/attention/output/dense/bias:0', 'tf_bert_model_19/bert/encoder/layer_._1/attention/output/LayerNorm/gamma:0', 'tf_bert_model_19/bert/encoder/layer_._1/attention/output/LayerNorm/beta:0', 'tf_bert_model_19/bert/encoder/layer_._1/intermediate/dense/kernel:0', 'tf_bert_model_19/bert/encoder/layer_._1/intermediate/dense/bias:0', 'tf_bert_model_19/bert/encoder/layer_._1/output/dense/kernel:0', 'tf_bert_model_19/bert/encoder/layer_._1/output/dense/bias:0', 'tf_bert_model_19/bert/encoder/layer_._1/output/LayerNorm/gamma:0', 'tf_bert_model_19/bert/encoder/layer_._1/output/LayerNorm/beta:0', 'tf_bert_model_19/bert/encoder/layer_._2/attention/self/query/kernel:0', 'tf_bert_model_19/bert/encoder/layer_._2/attention/self/query/bias:0', 'tf_bert_model_19/bert/encoder/layer_._2/attention/self/key/kernel:0', 'tf_bert_model_19/bert/encoder/layer_._2/attention/self/key/bias:0', 'tf_bert_model_19/bert/encoder/layer_._2/attention/self/value/kernel:0', 'tf_bert_model_19/bert/encoder/layer_._2/attention/self/value/bias:0', 'tf_bert_model_19/bert/encoder/layer_._2/attention/output/dense/kernel:0', 'tf_bert_model_19/bert/encoder/layer_._2/attention/output/dense/bias:0', 'tf_bert_model_19/bert/encoder/layer_._2/attention/output/LayerNorm/gamma:0', 'tf_bert_model_19/bert/encoder/layer_._2/attention/output/LayerNorm/beta:0', 'tf_bert_model_19/bert/encoder/layer_._2/intermediate/dense/kernel:0', 'tf_bert_model_19/bert/encoder/layer_._2/intermediate/dense/bias:0', 'tf_bert_model_19/bert/encoder/layer_._2/output/dense/kernel:0', 'tf_bert_model_19/bert/encoder/layer_._2/output/dense/bias:0', 'tf_bert_model_19/bert/encoder/layer_._2/output/LayerNorm/gamma:0', 'tf_bert_model_19/bert/encoder/layer_._2/output/LayerNorm/beta:0', 'tf_bert_model_19/bert/encoder/layer_._3/attention/self/query/kernel:0', 'tf_bert_model_19/bert/encoder/layer_._3/attention/self/query/bias:0', 'tf_bert_model_19/bert/encoder/layer_._3/attention/self/key/kernel:0', 'tf_bert_model_19/bert/encoder/layer_._3/attention/self/key/bias:0', 'tf_bert_model_19/bert/encoder/layer_._3/attention/self/value/kernel:0', 'tf_bert_model_19/bert/encoder/layer_._3/attention/self/value/bias:0', 'tf_bert_model_19/bert/encoder/layer_._3/attention/output/dense/kernel:0', 'tf_bert_model_19/bert/encoder/layer_._3/attention/output/dense/bias:0', 'tf_bert_model_19/bert/encoder/layer_._3/attention/output/LayerNorm/gamma:0', 'tf_bert_model_19/bert/encoder/layer_._3/attention/output/LayerNorm/beta:0', 'tf_bert_model_19/bert/encoder/layer_._3/intermediate/dense/kernel:0', 'tf_bert_model_19/bert/encoder/layer_._3/intermediate/dense/bias:0', 'tf_bert_model_19/bert/encoder/layer_._3/output/dense/kernel:0', 'tf_bert_model_19/bert/encoder/layer_._3/output/dense/bias:0', 'tf_bert_model_19/bert/encoder/layer_._3/output/LayerNorm/gamma:0', 'tf_bert_model_19/bert/encoder/layer_._3/output/LayerNorm/beta:0', 'tf_bert_model_19/bert/encoder/layer_._4/attention/self/query/kernel:0', 'tf_bert_model_19/bert/encoder/layer_._4/attention/self/query/bias:0', 'tf_bert_model_19/bert/encoder/layer_._4/attention/self/key/kernel:0', 'tf_bert_model_19/bert/encoder/layer_._4/attention/self/key/bias:0', 'tf_bert_model_19/bert/encoder/layer_._4/attention/self/value/kernel:0', 'tf_bert_model_19/bert/encoder/layer_._4/attention/self/value/bias:0', 'tf_bert_model_19/bert/encoder/layer_._4/attention/output/dense/kernel:0', 'tf_bert_model_19/bert/encoder/layer_._4/attention/output/dense/bias:0', 'tf_bert_model_19/bert/encoder/layer_._4/attention/output/LayerNorm/gamma:0', 'tf_bert_model_19/bert/encoder/layer_._4/attention/output/LayerNorm/beta:0', 'tf_bert_model_19/bert/encoder/layer_._4/intermediate/dense/kernel:0', 'tf_bert_model_19/bert/encoder/layer_._4/intermediate/dense/bias:0', 'tf_bert_model_19/bert/encoder/layer_._4/output/dense/kernel:0', 'tf_bert_model_19/bert/encoder/layer_._4/output/dense/bias:0', 'tf_bert_model_19/bert/encoder/layer_._4/output/LayerNorm/gamma:0', 'tf_bert_model_19/bert/encoder/layer_._4/output/LayerNorm/beta:0', 'tf_bert_model_19/bert/encoder/layer_._5/attention/self/query/kernel:0', 'tf_bert_model_19/bert/encoder/layer_._5/attention/self/query/bias:0', 'tf_bert_model_19/bert/encoder/layer_._5/attention/self/key/kernel:0', 'tf_bert_model_19/bert/encoder/layer_._5/attention/self/key/bias:0', 'tf_bert_model_19/bert/encoder/layer_._5/attention/self/value/kernel:0', 'tf_bert_model_19/bert/encoder/layer_._5/attention/self/value/bias:0', 'tf_bert_model_19/bert/encoder/layer_._5/attention/output/dense/kernel:0', 'tf_bert_model_19/bert/encoder/layer_._5/attention/output/dense/bias:0', 'tf_bert_model_19/bert/encoder/layer_._5/attention/output/LayerNorm/gamma:0', 'tf_bert_model_19/bert/encoder/layer_._5/attention/output/LayerNorm/beta:0', 'tf_bert_model_19/bert/encoder/layer_._5/intermediate/dense/kernel:0', 'tf_bert_model_19/bert/encoder/layer_._5/intermediate/dense/bias:0', 'tf_bert_model_19/bert/encoder/layer_._5/output/dense/kernel:0', 'tf_bert_model_19/bert/encoder/layer_._5/output/dense/bias:0', 'tf_bert_model_19/bert/encoder/layer_._5/output/LayerNorm/gamma:0', 'tf_bert_model_19/bert/encoder/layer_._5/output/LayerNorm/beta:0', 'tf_bert_model_19/bert/encoder/layer_._6/attention/self/query/kernel:0', 'tf_bert_model_19/bert/encoder/layer_._6/attention/self/query/bias:0', 'tf_bert_model_19/bert/encoder/layer_._6/attention/self/key/kernel:0', 'tf_bert_model_19/bert/encoder/layer_._6/attention/self/key/bias:0', 'tf_bert_model_19/bert/encoder/layer_._6/attention/self/value/kernel:0', 'tf_bert_model_19/bert/encoder/layer_._6/attention/self/value/bias:0', 'tf_bert_model_19/bert/encoder/layer_._6/attention/output/dense/kernel:0', 'tf_bert_model_19/bert/encoder/layer_._6/attention/output/dense/bias:0', 'tf_bert_model_19/bert/encoder/layer_._6/attention/output/LayerNorm/gamma:0', 'tf_bert_model_19/bert/encoder/layer_._6/attention/output/LayerNorm/beta:0', 'tf_bert_model_19/bert/encoder/layer_._6/intermediate/dense/kernel:0', 'tf_bert_model_19/bert/encoder/layer_._6/intermediate/dense/bias:0', 'tf_bert_model_19/bert/encoder/layer_._6/output/dense/kernel:0', 'tf_bert_model_19/bert/encoder/layer_._6/output/dense/bias:0', 'tf_bert_model_19/bert/encoder/layer_._6/output/LayerNorm/gamma:0', 'tf_bert_model_19/bert/encoder/layer_._6/output/LayerNorm/beta:0', 'tf_bert_model_19/bert/encoder/layer_._7/attention/self/query/kernel:0', 'tf_bert_model_19/bert/encoder/layer_._7/attention/self/query/bias:0', 'tf_bert_model_19/bert/encoder/layer_._7/attention/self/key/kernel:0', 'tf_bert_model_19/bert/encoder/layer_._7/attention/self/key/bias:0', 'tf_bert_model_19/bert/encoder/layer_._7/attention/self/value/kernel:0', 'tf_bert_model_19/bert/encoder/layer_._7/attention/self/value/bias:0', 'tf_bert_model_19/bert/encoder/layer_._7/attention/output/dense/kernel:0', 'tf_bert_model_19/bert/encoder/layer_._7/attention/output/dense/bias:0', 'tf_bert_model_19/bert/encoder/layer_._7/attention/output/LayerNorm/gamma:0', 'tf_bert_model_19/bert/encoder/layer_._7/attention/output/LayerNorm/beta:0', 'tf_bert_model_19/bert/encoder/layer_._7/intermediate/dense/kernel:0', 'tf_bert_model_19/bert/encoder/layer_._7/intermediate/dense/bias:0', 'tf_bert_model_19/bert/encoder/layer_._7/output/dense/kernel:0', 'tf_bert_model_19/bert/encoder/layer_._7/output/dense/bias:0', 'tf_bert_model_19/bert/encoder/layer_._7/output/LayerNorm/gamma:0', 'tf_bert_model_19/bert/encoder/layer_._7/output/LayerNorm/beta:0', 'tf_bert_model_19/bert/encoder/layer_._8/attention/self/query/kernel:0', 'tf_bert_model_19/bert/encoder/layer_._8/attention/self/query/bias:0', 'tf_bert_model_19/bert/encoder/layer_._8/attention/self/key/kernel:0', 'tf_bert_model_19/bert/encoder/layer_._8/attention/self/key/bias:0', 'tf_bert_model_19/bert/encoder/layer_._8/attention/self/value/kernel:0', 'tf_bert_model_19/bert/encoder/layer_._8/attention/self/value/bias:0', 'tf_bert_model_19/bert/encoder/layer_._8/attention/output/dense/kernel:0', 'tf_bert_model_19/bert/encoder/layer_._8/attention/output/dense/bias:0', 'tf_bert_model_19/bert/encoder/layer_._8/attention/output/LayerNorm/gamma:0', 'tf_bert_model_19/bert/encoder/layer_._8/attention/output/LayerNorm/beta:0', 'tf_bert_model_19/bert/encoder/layer_._8/intermediate/dense/kernel:0', 'tf_bert_model_19/bert/encoder/layer_._8/intermediate/dense/bias:0', 'tf_bert_model_19/bert/encoder/layer_._8/output/dense/kernel:0', 'tf_bert_model_19/bert/encoder/layer_._8/output/dense/bias:0', 'tf_bert_model_19/bert/encoder/layer_._8/output/LayerNorm/gamma:0', 'tf_bert_model_19/bert/encoder/layer_._8/output/LayerNorm/beta:0', 'tf_bert_model_19/bert/encoder/layer_._9/attention/self/query/kernel:0', 'tf_bert_model_19/bert/encoder/layer_._9/attention/self/query/bias:0', 'tf_bert_model_19/bert/encoder/layer_._9/attention/self/key/kernel:0', 'tf_bert_model_19/bert/encoder/layer_._9/attention/self/key/bias:0', 'tf_bert_model_19/bert/encoder/layer_._9/attention/self/value/kernel:0', 'tf_bert_model_19/bert/encoder/layer_._9/attention/self/value/bias:0', 'tf_bert_model_19/bert/encoder/layer_._9/attention/output/dense/kernel:0', 'tf_bert_model_19/bert/encoder/layer_._9/attention/output/dense/bias:0', 'tf_bert_model_19/bert/encoder/layer_._9/attention/output/LayerNorm/gamma:0', 'tf_bert_model_19/bert/encoder/layer_._9/attention/output/LayerNorm/beta:0', 'tf_bert_model_19/bert/encoder/layer_._9/intermediate/dense/kernel:0', 'tf_bert_model_19/bert/encoder/layer_._9/intermediate/dense/bias:0', 'tf_bert_model_19/bert/encoder/layer_._9/output/dense/kernel:0', 'tf_bert_model_19/bert/encoder/layer_._9/output/dense/bias:0', 'tf_bert_model_19/bert/encoder/layer_._9/output/LayerNorm/gamma:0', 'tf_bert_model_19/bert/encoder/layer_._9/output/LayerNorm/beta:0', 'tf_bert_model_19/bert/encoder/layer_._10/attention/self/query/kernel:0', 'tf_bert_model_19/bert/encoder/layer_._10/attention/self/query/bias:0', 'tf_bert_model_19/bert/encoder/layer_._10/attention/self/key/kernel:0', 'tf_bert_model_19/bert/encoder/layer_._10/attention/self/key/bias:0', 'tf_bert_model_19/bert/encoder/layer_._10/attention/self/value/kernel:0', 'tf_bert_model_19/bert/encoder/layer_._10/attention/self/value/bias:0', 'tf_bert_model_19/bert/encoder/layer_._10/attention/output/dense/kernel:0', 'tf_bert_model_19/bert/encoder/layer_._10/attention/output/dense/bias:0', 'tf_bert_model_19/bert/encoder/layer_._10/attention/output/LayerNorm/gamma:0', 'tf_bert_model_19/bert/encoder/layer_._10/attention/output/LayerNorm/beta:0', 'tf_bert_model_19/bert/encoder/layer_._10/intermediate/dense/kernel:0', 'tf_bert_model_19/bert/encoder/layer_._10/intermediate/dense/bias:0', 'tf_bert_model_19/bert/encoder/layer_._10/output/dense/kernel:0', 'tf_bert_model_19/bert/encoder/layer_._10/output/dense/bias:0', 'tf_bert_model_19/bert/encoder/layer_._10/output/LayerNorm/gamma:0', 'tf_bert_model_19/bert/encoder/layer_._10/output/LayerNorm/beta:0', 'tf_bert_model_19/bert/pooler/dense/kernel:0', 'tf_bert_model_19/bert/pooler/dense/bias:0'] when minimizing the loss. If you're using `model.compile()`, did you forget to provide a `loss`argument?\n",
            "WARNING:tensorflow:Gradients do not exist for variables ['tf_bert_model_19/bert/embeddings/word_embeddings/weight:0', 'tf_bert_model_19/bert/embeddings/token_type_embeddings/embeddings:0', 'tf_bert_model_19/bert/embeddings/position_embeddings/embeddings:0', 'tf_bert_model_19/bert/embeddings/LayerNorm/gamma:0', 'tf_bert_model_19/bert/embeddings/LayerNorm/beta:0', 'tf_bert_model_19/bert/encoder/layer_._0/attention/self/query/kernel:0', 'tf_bert_model_19/bert/encoder/layer_._0/attention/self/query/bias:0', 'tf_bert_model_19/bert/encoder/layer_._0/attention/self/key/kernel:0', 'tf_bert_model_19/bert/encoder/layer_._0/attention/self/key/bias:0', 'tf_bert_model_19/bert/encoder/layer_._0/attention/self/value/kernel:0', 'tf_bert_model_19/bert/encoder/layer_._0/attention/self/value/bias:0', 'tf_bert_model_19/bert/encoder/layer_._0/attention/output/dense/kernel:0', 'tf_bert_model_19/bert/encoder/layer_._0/attention/output/dense/bias:0', 'tf_bert_model_19/bert/encoder/layer_._0/attention/output/LayerNorm/gamma:0', 'tf_bert_model_19/bert/encoder/layer_._0/attention/output/LayerNorm/beta:0', 'tf_bert_model_19/bert/encoder/layer_._0/intermediate/dense/kernel:0', 'tf_bert_model_19/bert/encoder/layer_._0/intermediate/dense/bias:0', 'tf_bert_model_19/bert/encoder/layer_._0/output/dense/kernel:0', 'tf_bert_model_19/bert/encoder/layer_._0/output/dense/bias:0', 'tf_bert_model_19/bert/encoder/layer_._0/output/LayerNorm/gamma:0', 'tf_bert_model_19/bert/encoder/layer_._0/output/LayerNorm/beta:0', 'tf_bert_model_19/bert/encoder/layer_._1/attention/self/query/kernel:0', 'tf_bert_model_19/bert/encoder/layer_._1/attention/self/query/bias:0', 'tf_bert_model_19/bert/encoder/layer_._1/attention/self/key/kernel:0', 'tf_bert_model_19/bert/encoder/layer_._1/attention/self/key/bias:0', 'tf_bert_model_19/bert/encoder/layer_._1/attention/self/value/kernel:0', 'tf_bert_model_19/bert/encoder/layer_._1/attention/self/value/bias:0', 'tf_bert_model_19/bert/encoder/layer_._1/attention/output/dense/kernel:0', 'tf_bert_model_19/bert/encoder/layer_._1/attention/output/dense/bias:0', 'tf_bert_model_19/bert/encoder/layer_._1/attention/output/LayerNorm/gamma:0', 'tf_bert_model_19/bert/encoder/layer_._1/attention/output/LayerNorm/beta:0', 'tf_bert_model_19/bert/encoder/layer_._1/intermediate/dense/kernel:0', 'tf_bert_model_19/bert/encoder/layer_._1/intermediate/dense/bias:0', 'tf_bert_model_19/bert/encoder/layer_._1/output/dense/kernel:0', 'tf_bert_model_19/bert/encoder/layer_._1/output/dense/bias:0', 'tf_bert_model_19/bert/encoder/layer_._1/output/LayerNorm/gamma:0', 'tf_bert_model_19/bert/encoder/layer_._1/output/LayerNorm/beta:0', 'tf_bert_model_19/bert/encoder/layer_._2/attention/self/query/kernel:0', 'tf_bert_model_19/bert/encoder/layer_._2/attention/self/query/bias:0', 'tf_bert_model_19/bert/encoder/layer_._2/attention/self/key/kernel:0', 'tf_bert_model_19/bert/encoder/layer_._2/attention/self/key/bias:0', 'tf_bert_model_19/bert/encoder/layer_._2/attention/self/value/kernel:0', 'tf_bert_model_19/bert/encoder/layer_._2/attention/self/value/bias:0', 'tf_bert_model_19/bert/encoder/layer_._2/attention/output/dense/kernel:0', 'tf_bert_model_19/bert/encoder/layer_._2/attention/output/dense/bias:0', 'tf_bert_model_19/bert/encoder/layer_._2/attention/output/LayerNorm/gamma:0', 'tf_bert_model_19/bert/encoder/layer_._2/attention/output/LayerNorm/beta:0', 'tf_bert_model_19/bert/encoder/layer_._2/intermediate/dense/kernel:0', 'tf_bert_model_19/bert/encoder/layer_._2/intermediate/dense/bias:0', 'tf_bert_model_19/bert/encoder/layer_._2/output/dense/kernel:0', 'tf_bert_model_19/bert/encoder/layer_._2/output/dense/bias:0', 'tf_bert_model_19/bert/encoder/layer_._2/output/LayerNorm/gamma:0', 'tf_bert_model_19/bert/encoder/layer_._2/output/LayerNorm/beta:0', 'tf_bert_model_19/bert/encoder/layer_._3/attention/self/query/kernel:0', 'tf_bert_model_19/bert/encoder/layer_._3/attention/self/query/bias:0', 'tf_bert_model_19/bert/encoder/layer_._3/attention/self/key/kernel:0', 'tf_bert_model_19/bert/encoder/layer_._3/attention/self/key/bias:0', 'tf_bert_model_19/bert/encoder/layer_._3/attention/self/value/kernel:0', 'tf_bert_model_19/bert/encoder/layer_._3/attention/self/value/bias:0', 'tf_bert_model_19/bert/encoder/layer_._3/attention/output/dense/kernel:0', 'tf_bert_model_19/bert/encoder/layer_._3/attention/output/dense/bias:0', 'tf_bert_model_19/bert/encoder/layer_._3/attention/output/LayerNorm/gamma:0', 'tf_bert_model_19/bert/encoder/layer_._3/attention/output/LayerNorm/beta:0', 'tf_bert_model_19/bert/encoder/layer_._3/intermediate/dense/kernel:0', 'tf_bert_model_19/bert/encoder/layer_._3/intermediate/dense/bias:0', 'tf_bert_model_19/bert/encoder/layer_._3/output/dense/kernel:0', 'tf_bert_model_19/bert/encoder/layer_._3/output/dense/bias:0', 'tf_bert_model_19/bert/encoder/layer_._3/output/LayerNorm/gamma:0', 'tf_bert_model_19/bert/encoder/layer_._3/output/LayerNorm/beta:0', 'tf_bert_model_19/bert/encoder/layer_._4/attention/self/query/kernel:0', 'tf_bert_model_19/bert/encoder/layer_._4/attention/self/query/bias:0', 'tf_bert_model_19/bert/encoder/layer_._4/attention/self/key/kernel:0', 'tf_bert_model_19/bert/encoder/layer_._4/attention/self/key/bias:0', 'tf_bert_model_19/bert/encoder/layer_._4/attention/self/value/kernel:0', 'tf_bert_model_19/bert/encoder/layer_._4/attention/self/value/bias:0', 'tf_bert_model_19/bert/encoder/layer_._4/attention/output/dense/kernel:0', 'tf_bert_model_19/bert/encoder/layer_._4/attention/output/dense/bias:0', 'tf_bert_model_19/bert/encoder/layer_._4/attention/output/LayerNorm/gamma:0', 'tf_bert_model_19/bert/encoder/layer_._4/attention/output/LayerNorm/beta:0', 'tf_bert_model_19/bert/encoder/layer_._4/intermediate/dense/kernel:0', 'tf_bert_model_19/bert/encoder/layer_._4/intermediate/dense/bias:0', 'tf_bert_model_19/bert/encoder/layer_._4/output/dense/kernel:0', 'tf_bert_model_19/bert/encoder/layer_._4/output/dense/bias:0', 'tf_bert_model_19/bert/encoder/layer_._4/output/LayerNorm/gamma:0', 'tf_bert_model_19/bert/encoder/layer_._4/output/LayerNorm/beta:0', 'tf_bert_model_19/bert/encoder/layer_._5/attention/self/query/kernel:0', 'tf_bert_model_19/bert/encoder/layer_._5/attention/self/query/bias:0', 'tf_bert_model_19/bert/encoder/layer_._5/attention/self/key/kernel:0', 'tf_bert_model_19/bert/encoder/layer_._5/attention/self/key/bias:0', 'tf_bert_model_19/bert/encoder/layer_._5/attention/self/value/kernel:0', 'tf_bert_model_19/bert/encoder/layer_._5/attention/self/value/bias:0', 'tf_bert_model_19/bert/encoder/layer_._5/attention/output/dense/kernel:0', 'tf_bert_model_19/bert/encoder/layer_._5/attention/output/dense/bias:0', 'tf_bert_model_19/bert/encoder/layer_._5/attention/output/LayerNorm/gamma:0', 'tf_bert_model_19/bert/encoder/layer_._5/attention/output/LayerNorm/beta:0', 'tf_bert_model_19/bert/encoder/layer_._5/intermediate/dense/kernel:0', 'tf_bert_model_19/bert/encoder/layer_._5/intermediate/dense/bias:0', 'tf_bert_model_19/bert/encoder/layer_._5/output/dense/kernel:0', 'tf_bert_model_19/bert/encoder/layer_._5/output/dense/bias:0', 'tf_bert_model_19/bert/encoder/layer_._5/output/LayerNorm/gamma:0', 'tf_bert_model_19/bert/encoder/layer_._5/output/LayerNorm/beta:0', 'tf_bert_model_19/bert/encoder/layer_._6/attention/self/query/kernel:0', 'tf_bert_model_19/bert/encoder/layer_._6/attention/self/query/bias:0', 'tf_bert_model_19/bert/encoder/layer_._6/attention/self/key/kernel:0', 'tf_bert_model_19/bert/encoder/layer_._6/attention/self/key/bias:0', 'tf_bert_model_19/bert/encoder/layer_._6/attention/self/value/kernel:0', 'tf_bert_model_19/bert/encoder/layer_._6/attention/self/value/bias:0', 'tf_bert_model_19/bert/encoder/layer_._6/attention/output/dense/kernel:0', 'tf_bert_model_19/bert/encoder/layer_._6/attention/output/dense/bias:0', 'tf_bert_model_19/bert/encoder/layer_._6/attention/output/LayerNorm/gamma:0', 'tf_bert_model_19/bert/encoder/layer_._6/attention/output/LayerNorm/beta:0', 'tf_bert_model_19/bert/encoder/layer_._6/intermediate/dense/kernel:0', 'tf_bert_model_19/bert/encoder/layer_._6/intermediate/dense/bias:0', 'tf_bert_model_19/bert/encoder/layer_._6/output/dense/kernel:0', 'tf_bert_model_19/bert/encoder/layer_._6/output/dense/bias:0', 'tf_bert_model_19/bert/encoder/layer_._6/output/LayerNorm/gamma:0', 'tf_bert_model_19/bert/encoder/layer_._6/output/LayerNorm/beta:0', 'tf_bert_model_19/bert/encoder/layer_._7/attention/self/query/kernel:0', 'tf_bert_model_19/bert/encoder/layer_._7/attention/self/query/bias:0', 'tf_bert_model_19/bert/encoder/layer_._7/attention/self/key/kernel:0', 'tf_bert_model_19/bert/encoder/layer_._7/attention/self/key/bias:0', 'tf_bert_model_19/bert/encoder/layer_._7/attention/self/value/kernel:0', 'tf_bert_model_19/bert/encoder/layer_._7/attention/self/value/bias:0', 'tf_bert_model_19/bert/encoder/layer_._7/attention/output/dense/kernel:0', 'tf_bert_model_19/bert/encoder/layer_._7/attention/output/dense/bias:0', 'tf_bert_model_19/bert/encoder/layer_._7/attention/output/LayerNorm/gamma:0', 'tf_bert_model_19/bert/encoder/layer_._7/attention/output/LayerNorm/beta:0', 'tf_bert_model_19/bert/encoder/layer_._7/intermediate/dense/kernel:0', 'tf_bert_model_19/bert/encoder/layer_._7/intermediate/dense/bias:0', 'tf_bert_model_19/bert/encoder/layer_._7/output/dense/kernel:0', 'tf_bert_model_19/bert/encoder/layer_._7/output/dense/bias:0', 'tf_bert_model_19/bert/encoder/layer_._7/output/LayerNorm/gamma:0', 'tf_bert_model_19/bert/encoder/layer_._7/output/LayerNorm/beta:0', 'tf_bert_model_19/bert/encoder/layer_._8/attention/self/query/kernel:0', 'tf_bert_model_19/bert/encoder/layer_._8/attention/self/query/bias:0', 'tf_bert_model_19/bert/encoder/layer_._8/attention/self/key/kernel:0', 'tf_bert_model_19/bert/encoder/layer_._8/attention/self/key/bias:0', 'tf_bert_model_19/bert/encoder/layer_._8/attention/self/value/kernel:0', 'tf_bert_model_19/bert/encoder/layer_._8/attention/self/value/bias:0', 'tf_bert_model_19/bert/encoder/layer_._8/attention/output/dense/kernel:0', 'tf_bert_model_19/bert/encoder/layer_._8/attention/output/dense/bias:0', 'tf_bert_model_19/bert/encoder/layer_._8/attention/output/LayerNorm/gamma:0', 'tf_bert_model_19/bert/encoder/layer_._8/attention/output/LayerNorm/beta:0', 'tf_bert_model_19/bert/encoder/layer_._8/intermediate/dense/kernel:0', 'tf_bert_model_19/bert/encoder/layer_._8/intermediate/dense/bias:0', 'tf_bert_model_19/bert/encoder/layer_._8/output/dense/kernel:0', 'tf_bert_model_19/bert/encoder/layer_._8/output/dense/bias:0', 'tf_bert_model_19/bert/encoder/layer_._8/output/LayerNorm/gamma:0', 'tf_bert_model_19/bert/encoder/layer_._8/output/LayerNorm/beta:0', 'tf_bert_model_19/bert/encoder/layer_._9/attention/self/query/kernel:0', 'tf_bert_model_19/bert/encoder/layer_._9/attention/self/query/bias:0', 'tf_bert_model_19/bert/encoder/layer_._9/attention/self/key/kernel:0', 'tf_bert_model_19/bert/encoder/layer_._9/attention/self/key/bias:0', 'tf_bert_model_19/bert/encoder/layer_._9/attention/self/value/kernel:0', 'tf_bert_model_19/bert/encoder/layer_._9/attention/self/value/bias:0', 'tf_bert_model_19/bert/encoder/layer_._9/attention/output/dense/kernel:0', 'tf_bert_model_19/bert/encoder/layer_._9/attention/output/dense/bias:0', 'tf_bert_model_19/bert/encoder/layer_._9/attention/output/LayerNorm/gamma:0', 'tf_bert_model_19/bert/encoder/layer_._9/attention/output/LayerNorm/beta:0', 'tf_bert_model_19/bert/encoder/layer_._9/intermediate/dense/kernel:0', 'tf_bert_model_19/bert/encoder/layer_._9/intermediate/dense/bias:0', 'tf_bert_model_19/bert/encoder/layer_._9/output/dense/kernel:0', 'tf_bert_model_19/bert/encoder/layer_._9/output/dense/bias:0', 'tf_bert_model_19/bert/encoder/layer_._9/output/LayerNorm/gamma:0', 'tf_bert_model_19/bert/encoder/layer_._9/output/LayerNorm/beta:0', 'tf_bert_model_19/bert/encoder/layer_._10/attention/self/query/kernel:0', 'tf_bert_model_19/bert/encoder/layer_._10/attention/self/query/bias:0', 'tf_bert_model_19/bert/encoder/layer_._10/attention/self/key/kernel:0', 'tf_bert_model_19/bert/encoder/layer_._10/attention/self/key/bias:0', 'tf_bert_model_19/bert/encoder/layer_._10/attention/self/value/kernel:0', 'tf_bert_model_19/bert/encoder/layer_._10/attention/self/value/bias:0', 'tf_bert_model_19/bert/encoder/layer_._10/attention/output/dense/kernel:0', 'tf_bert_model_19/bert/encoder/layer_._10/attention/output/dense/bias:0', 'tf_bert_model_19/bert/encoder/layer_._10/attention/output/LayerNorm/gamma:0', 'tf_bert_model_19/bert/encoder/layer_._10/attention/output/LayerNorm/beta:0', 'tf_bert_model_19/bert/encoder/layer_._10/intermediate/dense/kernel:0', 'tf_bert_model_19/bert/encoder/layer_._10/intermediate/dense/bias:0', 'tf_bert_model_19/bert/encoder/layer_._10/output/dense/kernel:0', 'tf_bert_model_19/bert/encoder/layer_._10/output/dense/bias:0', 'tf_bert_model_19/bert/encoder/layer_._10/output/LayerNorm/gamma:0', 'tf_bert_model_19/bert/encoder/layer_._10/output/LayerNorm/beta:0', 'tf_bert_model_19/bert/pooler/dense/kernel:0', 'tf_bert_model_19/bert/pooler/dense/bias:0'] when minimizing the loss. If you're using `model.compile()`, did you forget to provide a `loss`argument?\n",
            "489/489 [==============================] - 30s 47ms/step - loss: 0.0905 - accuracy: 0.9711 - val_loss: 0.0574 - val_accuracy: 0.9820\n",
            "Epoch 2/3\n",
            "489/489 [==============================] - 20s 41ms/step - loss: 0.0328 - accuracy: 0.9898 - val_loss: 0.0580 - val_accuracy: 0.9861\n",
            "Epoch 3/3\n",
            "489/489 [==============================] - 20s 41ms/step - loss: 0.0183 - accuracy: 0.9944 - val_loss: 0.0486 - val_accuracy: 0.9869\n",
            "BERT 3e + CNN kernel un 160, train: accuracy = 0.9995, precision = 1.0000, recall = 0.9975, f1 = 0.9988\n",
            "validation: accuracy = 0.9898, precision = 0.9800, recall = 0.9703, f1 = 0.9751\n"
          ]
        },
        {
          "output_type": "stream",
          "name": "stderr",
          "text": [
            "Some layers from the model checkpoint at bert-base-cased were not used when initializing TFBertModel: ['nsp___cls', 'mlm___cls']\n",
            "- This IS expected if you are initializing TFBertModel from the checkpoint of a model trained on another task or with another architecture (e.g. initializing a BertForSequenceClassification model from a BertForPreTraining model).\n",
            "- This IS NOT expected if you are initializing TFBertModel from the checkpoint of a model that you expect to be exactly identical (initializing a BertForSequenceClassification model from a BertForSequenceClassification model).\n",
            "All the layers of TFBertModel were initialized from the model checkpoint at bert-base-cased.\n",
            "If your task is similar to the task the model of the checkpoint was trained on, you can already use TFBertModel for predictions without further training.\n"
          ]
        },
        {
          "output_type": "stream",
          "name": "stdout",
          "text": [
            "Epoch 1/3\n",
            "WARNING:tensorflow:Gradients do not exist for variables ['tf_bert_model_20/bert/embeddings/word_embeddings/weight:0', 'tf_bert_model_20/bert/embeddings/token_type_embeddings/embeddings:0', 'tf_bert_model_20/bert/embeddings/position_embeddings/embeddings:0', 'tf_bert_model_20/bert/embeddings/LayerNorm/gamma:0', 'tf_bert_model_20/bert/embeddings/LayerNorm/beta:0', 'tf_bert_model_20/bert/encoder/layer_._0/attention/self/query/kernel:0', 'tf_bert_model_20/bert/encoder/layer_._0/attention/self/query/bias:0', 'tf_bert_model_20/bert/encoder/layer_._0/attention/self/key/kernel:0', 'tf_bert_model_20/bert/encoder/layer_._0/attention/self/key/bias:0', 'tf_bert_model_20/bert/encoder/layer_._0/attention/self/value/kernel:0', 'tf_bert_model_20/bert/encoder/layer_._0/attention/self/value/bias:0', 'tf_bert_model_20/bert/encoder/layer_._0/attention/output/dense/kernel:0', 'tf_bert_model_20/bert/encoder/layer_._0/attention/output/dense/bias:0', 'tf_bert_model_20/bert/encoder/layer_._0/attention/output/LayerNorm/gamma:0', 'tf_bert_model_20/bert/encoder/layer_._0/attention/output/LayerNorm/beta:0', 'tf_bert_model_20/bert/encoder/layer_._0/intermediate/dense/kernel:0', 'tf_bert_model_20/bert/encoder/layer_._0/intermediate/dense/bias:0', 'tf_bert_model_20/bert/encoder/layer_._0/output/dense/kernel:0', 'tf_bert_model_20/bert/encoder/layer_._0/output/dense/bias:0', 'tf_bert_model_20/bert/encoder/layer_._0/output/LayerNorm/gamma:0', 'tf_bert_model_20/bert/encoder/layer_._0/output/LayerNorm/beta:0', 'tf_bert_model_20/bert/encoder/layer_._1/attention/self/query/kernel:0', 'tf_bert_model_20/bert/encoder/layer_._1/attention/self/query/bias:0', 'tf_bert_model_20/bert/encoder/layer_._1/attention/self/key/kernel:0', 'tf_bert_model_20/bert/encoder/layer_._1/attention/self/key/bias:0', 'tf_bert_model_20/bert/encoder/layer_._1/attention/self/value/kernel:0', 'tf_bert_model_20/bert/encoder/layer_._1/attention/self/value/bias:0', 'tf_bert_model_20/bert/encoder/layer_._1/attention/output/dense/kernel:0', 'tf_bert_model_20/bert/encoder/layer_._1/attention/output/dense/bias:0', 'tf_bert_model_20/bert/encoder/layer_._1/attention/output/LayerNorm/gamma:0', 'tf_bert_model_20/bert/encoder/layer_._1/attention/output/LayerNorm/beta:0', 'tf_bert_model_20/bert/encoder/layer_._1/intermediate/dense/kernel:0', 'tf_bert_model_20/bert/encoder/layer_._1/intermediate/dense/bias:0', 'tf_bert_model_20/bert/encoder/layer_._1/output/dense/kernel:0', 'tf_bert_model_20/bert/encoder/layer_._1/output/dense/bias:0', 'tf_bert_model_20/bert/encoder/layer_._1/output/LayerNorm/gamma:0', 'tf_bert_model_20/bert/encoder/layer_._1/output/LayerNorm/beta:0', 'tf_bert_model_20/bert/encoder/layer_._2/attention/self/query/kernel:0', 'tf_bert_model_20/bert/encoder/layer_._2/attention/self/query/bias:0', 'tf_bert_model_20/bert/encoder/layer_._2/attention/self/key/kernel:0', 'tf_bert_model_20/bert/encoder/layer_._2/attention/self/key/bias:0', 'tf_bert_model_20/bert/encoder/layer_._2/attention/self/value/kernel:0', 'tf_bert_model_20/bert/encoder/layer_._2/attention/self/value/bias:0', 'tf_bert_model_20/bert/encoder/layer_._2/attention/output/dense/kernel:0', 'tf_bert_model_20/bert/encoder/layer_._2/attention/output/dense/bias:0', 'tf_bert_model_20/bert/encoder/layer_._2/attention/output/LayerNorm/gamma:0', 'tf_bert_model_20/bert/encoder/layer_._2/attention/output/LayerNorm/beta:0', 'tf_bert_model_20/bert/encoder/layer_._2/intermediate/dense/kernel:0', 'tf_bert_model_20/bert/encoder/layer_._2/intermediate/dense/bias:0', 'tf_bert_model_20/bert/encoder/layer_._2/output/dense/kernel:0', 'tf_bert_model_20/bert/encoder/layer_._2/output/dense/bias:0', 'tf_bert_model_20/bert/encoder/layer_._2/output/LayerNorm/gamma:0', 'tf_bert_model_20/bert/encoder/layer_._2/output/LayerNorm/beta:0', 'tf_bert_model_20/bert/encoder/layer_._3/attention/self/query/kernel:0', 'tf_bert_model_20/bert/encoder/layer_._3/attention/self/query/bias:0', 'tf_bert_model_20/bert/encoder/layer_._3/attention/self/key/kernel:0', 'tf_bert_model_20/bert/encoder/layer_._3/attention/self/key/bias:0', 'tf_bert_model_20/bert/encoder/layer_._3/attention/self/value/kernel:0', 'tf_bert_model_20/bert/encoder/layer_._3/attention/self/value/bias:0', 'tf_bert_model_20/bert/encoder/layer_._3/attention/output/dense/kernel:0', 'tf_bert_model_20/bert/encoder/layer_._3/attention/output/dense/bias:0', 'tf_bert_model_20/bert/encoder/layer_._3/attention/output/LayerNorm/gamma:0', 'tf_bert_model_20/bert/encoder/layer_._3/attention/output/LayerNorm/beta:0', 'tf_bert_model_20/bert/encoder/layer_._3/intermediate/dense/kernel:0', 'tf_bert_model_20/bert/encoder/layer_._3/intermediate/dense/bias:0', 'tf_bert_model_20/bert/encoder/layer_._3/output/dense/kernel:0', 'tf_bert_model_20/bert/encoder/layer_._3/output/dense/bias:0', 'tf_bert_model_20/bert/encoder/layer_._3/output/LayerNorm/gamma:0', 'tf_bert_model_20/bert/encoder/layer_._3/output/LayerNorm/beta:0', 'tf_bert_model_20/bert/encoder/layer_._4/attention/self/query/kernel:0', 'tf_bert_model_20/bert/encoder/layer_._4/attention/self/query/bias:0', 'tf_bert_model_20/bert/encoder/layer_._4/attention/self/key/kernel:0', 'tf_bert_model_20/bert/encoder/layer_._4/attention/self/key/bias:0', 'tf_bert_model_20/bert/encoder/layer_._4/attention/self/value/kernel:0', 'tf_bert_model_20/bert/encoder/layer_._4/attention/self/value/bias:0', 'tf_bert_model_20/bert/encoder/layer_._4/attention/output/dense/kernel:0', 'tf_bert_model_20/bert/encoder/layer_._4/attention/output/dense/bias:0', 'tf_bert_model_20/bert/encoder/layer_._4/attention/output/LayerNorm/gamma:0', 'tf_bert_model_20/bert/encoder/layer_._4/attention/output/LayerNorm/beta:0', 'tf_bert_model_20/bert/encoder/layer_._4/intermediate/dense/kernel:0', 'tf_bert_model_20/bert/encoder/layer_._4/intermediate/dense/bias:0', 'tf_bert_model_20/bert/encoder/layer_._4/output/dense/kernel:0', 'tf_bert_model_20/bert/encoder/layer_._4/output/dense/bias:0', 'tf_bert_model_20/bert/encoder/layer_._4/output/LayerNorm/gamma:0', 'tf_bert_model_20/bert/encoder/layer_._4/output/LayerNorm/beta:0', 'tf_bert_model_20/bert/encoder/layer_._5/attention/self/query/kernel:0', 'tf_bert_model_20/bert/encoder/layer_._5/attention/self/query/bias:0', 'tf_bert_model_20/bert/encoder/layer_._5/attention/self/key/kernel:0', 'tf_bert_model_20/bert/encoder/layer_._5/attention/self/key/bias:0', 'tf_bert_model_20/bert/encoder/layer_._5/attention/self/value/kernel:0', 'tf_bert_model_20/bert/encoder/layer_._5/attention/self/value/bias:0', 'tf_bert_model_20/bert/encoder/layer_._5/attention/output/dense/kernel:0', 'tf_bert_model_20/bert/encoder/layer_._5/attention/output/dense/bias:0', 'tf_bert_model_20/bert/encoder/layer_._5/attention/output/LayerNorm/gamma:0', 'tf_bert_model_20/bert/encoder/layer_._5/attention/output/LayerNorm/beta:0', 'tf_bert_model_20/bert/encoder/layer_._5/intermediate/dense/kernel:0', 'tf_bert_model_20/bert/encoder/layer_._5/intermediate/dense/bias:0', 'tf_bert_model_20/bert/encoder/layer_._5/output/dense/kernel:0', 'tf_bert_model_20/bert/encoder/layer_._5/output/dense/bias:0', 'tf_bert_model_20/bert/encoder/layer_._5/output/LayerNorm/gamma:0', 'tf_bert_model_20/bert/encoder/layer_._5/output/LayerNorm/beta:0', 'tf_bert_model_20/bert/encoder/layer_._6/attention/self/query/kernel:0', 'tf_bert_model_20/bert/encoder/layer_._6/attention/self/query/bias:0', 'tf_bert_model_20/bert/encoder/layer_._6/attention/self/key/kernel:0', 'tf_bert_model_20/bert/encoder/layer_._6/attention/self/key/bias:0', 'tf_bert_model_20/bert/encoder/layer_._6/attention/self/value/kernel:0', 'tf_bert_model_20/bert/encoder/layer_._6/attention/self/value/bias:0', 'tf_bert_model_20/bert/encoder/layer_._6/attention/output/dense/kernel:0', 'tf_bert_model_20/bert/encoder/layer_._6/attention/output/dense/bias:0', 'tf_bert_model_20/bert/encoder/layer_._6/attention/output/LayerNorm/gamma:0', 'tf_bert_model_20/bert/encoder/layer_._6/attention/output/LayerNorm/beta:0', 'tf_bert_model_20/bert/encoder/layer_._6/intermediate/dense/kernel:0', 'tf_bert_model_20/bert/encoder/layer_._6/intermediate/dense/bias:0', 'tf_bert_model_20/bert/encoder/layer_._6/output/dense/kernel:0', 'tf_bert_model_20/bert/encoder/layer_._6/output/dense/bias:0', 'tf_bert_model_20/bert/encoder/layer_._6/output/LayerNorm/gamma:0', 'tf_bert_model_20/bert/encoder/layer_._6/output/LayerNorm/beta:0', 'tf_bert_model_20/bert/encoder/layer_._7/attention/self/query/kernel:0', 'tf_bert_model_20/bert/encoder/layer_._7/attention/self/query/bias:0', 'tf_bert_model_20/bert/encoder/layer_._7/attention/self/key/kernel:0', 'tf_bert_model_20/bert/encoder/layer_._7/attention/self/key/bias:0', 'tf_bert_model_20/bert/encoder/layer_._7/attention/self/value/kernel:0', 'tf_bert_model_20/bert/encoder/layer_._7/attention/self/value/bias:0', 'tf_bert_model_20/bert/encoder/layer_._7/attention/output/dense/kernel:0', 'tf_bert_model_20/bert/encoder/layer_._7/attention/output/dense/bias:0', 'tf_bert_model_20/bert/encoder/layer_._7/attention/output/LayerNorm/gamma:0', 'tf_bert_model_20/bert/encoder/layer_._7/attention/output/LayerNorm/beta:0', 'tf_bert_model_20/bert/encoder/layer_._7/intermediate/dense/kernel:0', 'tf_bert_model_20/bert/encoder/layer_._7/intermediate/dense/bias:0', 'tf_bert_model_20/bert/encoder/layer_._7/output/dense/kernel:0', 'tf_bert_model_20/bert/encoder/layer_._7/output/dense/bias:0', 'tf_bert_model_20/bert/encoder/layer_._7/output/LayerNorm/gamma:0', 'tf_bert_model_20/bert/encoder/layer_._7/output/LayerNorm/beta:0', 'tf_bert_model_20/bert/encoder/layer_._8/attention/self/query/kernel:0', 'tf_bert_model_20/bert/encoder/layer_._8/attention/self/query/bias:0', 'tf_bert_model_20/bert/encoder/layer_._8/attention/self/key/kernel:0', 'tf_bert_model_20/bert/encoder/layer_._8/attention/self/key/bias:0', 'tf_bert_model_20/bert/encoder/layer_._8/attention/self/value/kernel:0', 'tf_bert_model_20/bert/encoder/layer_._8/attention/self/value/bias:0', 'tf_bert_model_20/bert/encoder/layer_._8/attention/output/dense/kernel:0', 'tf_bert_model_20/bert/encoder/layer_._8/attention/output/dense/bias:0', 'tf_bert_model_20/bert/encoder/layer_._8/attention/output/LayerNorm/gamma:0', 'tf_bert_model_20/bert/encoder/layer_._8/attention/output/LayerNorm/beta:0', 'tf_bert_model_20/bert/encoder/layer_._8/intermediate/dense/kernel:0', 'tf_bert_model_20/bert/encoder/layer_._8/intermediate/dense/bias:0', 'tf_bert_model_20/bert/encoder/layer_._8/output/dense/kernel:0', 'tf_bert_model_20/bert/encoder/layer_._8/output/dense/bias:0', 'tf_bert_model_20/bert/encoder/layer_._8/output/LayerNorm/gamma:0', 'tf_bert_model_20/bert/encoder/layer_._8/output/LayerNorm/beta:0', 'tf_bert_model_20/bert/encoder/layer_._9/attention/self/query/kernel:0', 'tf_bert_model_20/bert/encoder/layer_._9/attention/self/query/bias:0', 'tf_bert_model_20/bert/encoder/layer_._9/attention/self/key/kernel:0', 'tf_bert_model_20/bert/encoder/layer_._9/attention/self/key/bias:0', 'tf_bert_model_20/bert/encoder/layer_._9/attention/self/value/kernel:0', 'tf_bert_model_20/bert/encoder/layer_._9/attention/self/value/bias:0', 'tf_bert_model_20/bert/encoder/layer_._9/attention/output/dense/kernel:0', 'tf_bert_model_20/bert/encoder/layer_._9/attention/output/dense/bias:0', 'tf_bert_model_20/bert/encoder/layer_._9/attention/output/LayerNorm/gamma:0', 'tf_bert_model_20/bert/encoder/layer_._9/attention/output/LayerNorm/beta:0', 'tf_bert_model_20/bert/encoder/layer_._9/intermediate/dense/kernel:0', 'tf_bert_model_20/bert/encoder/layer_._9/intermediate/dense/bias:0', 'tf_bert_model_20/bert/encoder/layer_._9/output/dense/kernel:0', 'tf_bert_model_20/bert/encoder/layer_._9/output/dense/bias:0', 'tf_bert_model_20/bert/encoder/layer_._9/output/LayerNorm/gamma:0', 'tf_bert_model_20/bert/encoder/layer_._9/output/LayerNorm/beta:0', 'tf_bert_model_20/bert/encoder/layer_._10/attention/self/query/kernel:0', 'tf_bert_model_20/bert/encoder/layer_._10/attention/self/query/bias:0', 'tf_bert_model_20/bert/encoder/layer_._10/attention/self/key/kernel:0', 'tf_bert_model_20/bert/encoder/layer_._10/attention/self/key/bias:0', 'tf_bert_model_20/bert/encoder/layer_._10/attention/self/value/kernel:0', 'tf_bert_model_20/bert/encoder/layer_._10/attention/self/value/bias:0', 'tf_bert_model_20/bert/encoder/layer_._10/attention/output/dense/kernel:0', 'tf_bert_model_20/bert/encoder/layer_._10/attention/output/dense/bias:0', 'tf_bert_model_20/bert/encoder/layer_._10/attention/output/LayerNorm/gamma:0', 'tf_bert_model_20/bert/encoder/layer_._10/attention/output/LayerNorm/beta:0', 'tf_bert_model_20/bert/encoder/layer_._10/intermediate/dense/kernel:0', 'tf_bert_model_20/bert/encoder/layer_._10/intermediate/dense/bias:0', 'tf_bert_model_20/bert/encoder/layer_._10/output/dense/kernel:0', 'tf_bert_model_20/bert/encoder/layer_._10/output/dense/bias:0', 'tf_bert_model_20/bert/encoder/layer_._10/output/LayerNorm/gamma:0', 'tf_bert_model_20/bert/encoder/layer_._10/output/LayerNorm/beta:0', 'tf_bert_model_20/bert/pooler/dense/kernel:0', 'tf_bert_model_20/bert/pooler/dense/bias:0'] when minimizing the loss. If you're using `model.compile()`, did you forget to provide a `loss`argument?\n",
            "WARNING:tensorflow:Gradients do not exist for variables ['tf_bert_model_20/bert/embeddings/word_embeddings/weight:0', 'tf_bert_model_20/bert/embeddings/token_type_embeddings/embeddings:0', 'tf_bert_model_20/bert/embeddings/position_embeddings/embeddings:0', 'tf_bert_model_20/bert/embeddings/LayerNorm/gamma:0', 'tf_bert_model_20/bert/embeddings/LayerNorm/beta:0', 'tf_bert_model_20/bert/encoder/layer_._0/attention/self/query/kernel:0', 'tf_bert_model_20/bert/encoder/layer_._0/attention/self/query/bias:0', 'tf_bert_model_20/bert/encoder/layer_._0/attention/self/key/kernel:0', 'tf_bert_model_20/bert/encoder/layer_._0/attention/self/key/bias:0', 'tf_bert_model_20/bert/encoder/layer_._0/attention/self/value/kernel:0', 'tf_bert_model_20/bert/encoder/layer_._0/attention/self/value/bias:0', 'tf_bert_model_20/bert/encoder/layer_._0/attention/output/dense/kernel:0', 'tf_bert_model_20/bert/encoder/layer_._0/attention/output/dense/bias:0', 'tf_bert_model_20/bert/encoder/layer_._0/attention/output/LayerNorm/gamma:0', 'tf_bert_model_20/bert/encoder/layer_._0/attention/output/LayerNorm/beta:0', 'tf_bert_model_20/bert/encoder/layer_._0/intermediate/dense/kernel:0', 'tf_bert_model_20/bert/encoder/layer_._0/intermediate/dense/bias:0', 'tf_bert_model_20/bert/encoder/layer_._0/output/dense/kernel:0', 'tf_bert_model_20/bert/encoder/layer_._0/output/dense/bias:0', 'tf_bert_model_20/bert/encoder/layer_._0/output/LayerNorm/gamma:0', 'tf_bert_model_20/bert/encoder/layer_._0/output/LayerNorm/beta:0', 'tf_bert_model_20/bert/encoder/layer_._1/attention/self/query/kernel:0', 'tf_bert_model_20/bert/encoder/layer_._1/attention/self/query/bias:0', 'tf_bert_model_20/bert/encoder/layer_._1/attention/self/key/kernel:0', 'tf_bert_model_20/bert/encoder/layer_._1/attention/self/key/bias:0', 'tf_bert_model_20/bert/encoder/layer_._1/attention/self/value/kernel:0', 'tf_bert_model_20/bert/encoder/layer_._1/attention/self/value/bias:0', 'tf_bert_model_20/bert/encoder/layer_._1/attention/output/dense/kernel:0', 'tf_bert_model_20/bert/encoder/layer_._1/attention/output/dense/bias:0', 'tf_bert_model_20/bert/encoder/layer_._1/attention/output/LayerNorm/gamma:0', 'tf_bert_model_20/bert/encoder/layer_._1/attention/output/LayerNorm/beta:0', 'tf_bert_model_20/bert/encoder/layer_._1/intermediate/dense/kernel:0', 'tf_bert_model_20/bert/encoder/layer_._1/intermediate/dense/bias:0', 'tf_bert_model_20/bert/encoder/layer_._1/output/dense/kernel:0', 'tf_bert_model_20/bert/encoder/layer_._1/output/dense/bias:0', 'tf_bert_model_20/bert/encoder/layer_._1/output/LayerNorm/gamma:0', 'tf_bert_model_20/bert/encoder/layer_._1/output/LayerNorm/beta:0', 'tf_bert_model_20/bert/encoder/layer_._2/attention/self/query/kernel:0', 'tf_bert_model_20/bert/encoder/layer_._2/attention/self/query/bias:0', 'tf_bert_model_20/bert/encoder/layer_._2/attention/self/key/kernel:0', 'tf_bert_model_20/bert/encoder/layer_._2/attention/self/key/bias:0', 'tf_bert_model_20/bert/encoder/layer_._2/attention/self/value/kernel:0', 'tf_bert_model_20/bert/encoder/layer_._2/attention/self/value/bias:0', 'tf_bert_model_20/bert/encoder/layer_._2/attention/output/dense/kernel:0', 'tf_bert_model_20/bert/encoder/layer_._2/attention/output/dense/bias:0', 'tf_bert_model_20/bert/encoder/layer_._2/attention/output/LayerNorm/gamma:0', 'tf_bert_model_20/bert/encoder/layer_._2/attention/output/LayerNorm/beta:0', 'tf_bert_model_20/bert/encoder/layer_._2/intermediate/dense/kernel:0', 'tf_bert_model_20/bert/encoder/layer_._2/intermediate/dense/bias:0', 'tf_bert_model_20/bert/encoder/layer_._2/output/dense/kernel:0', 'tf_bert_model_20/bert/encoder/layer_._2/output/dense/bias:0', 'tf_bert_model_20/bert/encoder/layer_._2/output/LayerNorm/gamma:0', 'tf_bert_model_20/bert/encoder/layer_._2/output/LayerNorm/beta:0', 'tf_bert_model_20/bert/encoder/layer_._3/attention/self/query/kernel:0', 'tf_bert_model_20/bert/encoder/layer_._3/attention/self/query/bias:0', 'tf_bert_model_20/bert/encoder/layer_._3/attention/self/key/kernel:0', 'tf_bert_model_20/bert/encoder/layer_._3/attention/self/key/bias:0', 'tf_bert_model_20/bert/encoder/layer_._3/attention/self/value/kernel:0', 'tf_bert_model_20/bert/encoder/layer_._3/attention/self/value/bias:0', 'tf_bert_model_20/bert/encoder/layer_._3/attention/output/dense/kernel:0', 'tf_bert_model_20/bert/encoder/layer_._3/attention/output/dense/bias:0', 'tf_bert_model_20/bert/encoder/layer_._3/attention/output/LayerNorm/gamma:0', 'tf_bert_model_20/bert/encoder/layer_._3/attention/output/LayerNorm/beta:0', 'tf_bert_model_20/bert/encoder/layer_._3/intermediate/dense/kernel:0', 'tf_bert_model_20/bert/encoder/layer_._3/intermediate/dense/bias:0', 'tf_bert_model_20/bert/encoder/layer_._3/output/dense/kernel:0', 'tf_bert_model_20/bert/encoder/layer_._3/output/dense/bias:0', 'tf_bert_model_20/bert/encoder/layer_._3/output/LayerNorm/gamma:0', 'tf_bert_model_20/bert/encoder/layer_._3/output/LayerNorm/beta:0', 'tf_bert_model_20/bert/encoder/layer_._4/attention/self/query/kernel:0', 'tf_bert_model_20/bert/encoder/layer_._4/attention/self/query/bias:0', 'tf_bert_model_20/bert/encoder/layer_._4/attention/self/key/kernel:0', 'tf_bert_model_20/bert/encoder/layer_._4/attention/self/key/bias:0', 'tf_bert_model_20/bert/encoder/layer_._4/attention/self/value/kernel:0', 'tf_bert_model_20/bert/encoder/layer_._4/attention/self/value/bias:0', 'tf_bert_model_20/bert/encoder/layer_._4/attention/output/dense/kernel:0', 'tf_bert_model_20/bert/encoder/layer_._4/attention/output/dense/bias:0', 'tf_bert_model_20/bert/encoder/layer_._4/attention/output/LayerNorm/gamma:0', 'tf_bert_model_20/bert/encoder/layer_._4/attention/output/LayerNorm/beta:0', 'tf_bert_model_20/bert/encoder/layer_._4/intermediate/dense/kernel:0', 'tf_bert_model_20/bert/encoder/layer_._4/intermediate/dense/bias:0', 'tf_bert_model_20/bert/encoder/layer_._4/output/dense/kernel:0', 'tf_bert_model_20/bert/encoder/layer_._4/output/dense/bias:0', 'tf_bert_model_20/bert/encoder/layer_._4/output/LayerNorm/gamma:0', 'tf_bert_model_20/bert/encoder/layer_._4/output/LayerNorm/beta:0', 'tf_bert_model_20/bert/encoder/layer_._5/attention/self/query/kernel:0', 'tf_bert_model_20/bert/encoder/layer_._5/attention/self/query/bias:0', 'tf_bert_model_20/bert/encoder/layer_._5/attention/self/key/kernel:0', 'tf_bert_model_20/bert/encoder/layer_._5/attention/self/key/bias:0', 'tf_bert_model_20/bert/encoder/layer_._5/attention/self/value/kernel:0', 'tf_bert_model_20/bert/encoder/layer_._5/attention/self/value/bias:0', 'tf_bert_model_20/bert/encoder/layer_._5/attention/output/dense/kernel:0', 'tf_bert_model_20/bert/encoder/layer_._5/attention/output/dense/bias:0', 'tf_bert_model_20/bert/encoder/layer_._5/attention/output/LayerNorm/gamma:0', 'tf_bert_model_20/bert/encoder/layer_._5/attention/output/LayerNorm/beta:0', 'tf_bert_model_20/bert/encoder/layer_._5/intermediate/dense/kernel:0', 'tf_bert_model_20/bert/encoder/layer_._5/intermediate/dense/bias:0', 'tf_bert_model_20/bert/encoder/layer_._5/output/dense/kernel:0', 'tf_bert_model_20/bert/encoder/layer_._5/output/dense/bias:0', 'tf_bert_model_20/bert/encoder/layer_._5/output/LayerNorm/gamma:0', 'tf_bert_model_20/bert/encoder/layer_._5/output/LayerNorm/beta:0', 'tf_bert_model_20/bert/encoder/layer_._6/attention/self/query/kernel:0', 'tf_bert_model_20/bert/encoder/layer_._6/attention/self/query/bias:0', 'tf_bert_model_20/bert/encoder/layer_._6/attention/self/key/kernel:0', 'tf_bert_model_20/bert/encoder/layer_._6/attention/self/key/bias:0', 'tf_bert_model_20/bert/encoder/layer_._6/attention/self/value/kernel:0', 'tf_bert_model_20/bert/encoder/layer_._6/attention/self/value/bias:0', 'tf_bert_model_20/bert/encoder/layer_._6/attention/output/dense/kernel:0', 'tf_bert_model_20/bert/encoder/layer_._6/attention/output/dense/bias:0', 'tf_bert_model_20/bert/encoder/layer_._6/attention/output/LayerNorm/gamma:0', 'tf_bert_model_20/bert/encoder/layer_._6/attention/output/LayerNorm/beta:0', 'tf_bert_model_20/bert/encoder/layer_._6/intermediate/dense/kernel:0', 'tf_bert_model_20/bert/encoder/layer_._6/intermediate/dense/bias:0', 'tf_bert_model_20/bert/encoder/layer_._6/output/dense/kernel:0', 'tf_bert_model_20/bert/encoder/layer_._6/output/dense/bias:0', 'tf_bert_model_20/bert/encoder/layer_._6/output/LayerNorm/gamma:0', 'tf_bert_model_20/bert/encoder/layer_._6/output/LayerNorm/beta:0', 'tf_bert_model_20/bert/encoder/layer_._7/attention/self/query/kernel:0', 'tf_bert_model_20/bert/encoder/layer_._7/attention/self/query/bias:0', 'tf_bert_model_20/bert/encoder/layer_._7/attention/self/key/kernel:0', 'tf_bert_model_20/bert/encoder/layer_._7/attention/self/key/bias:0', 'tf_bert_model_20/bert/encoder/layer_._7/attention/self/value/kernel:0', 'tf_bert_model_20/bert/encoder/layer_._7/attention/self/value/bias:0', 'tf_bert_model_20/bert/encoder/layer_._7/attention/output/dense/kernel:0', 'tf_bert_model_20/bert/encoder/layer_._7/attention/output/dense/bias:0', 'tf_bert_model_20/bert/encoder/layer_._7/attention/output/LayerNorm/gamma:0', 'tf_bert_model_20/bert/encoder/layer_._7/attention/output/LayerNorm/beta:0', 'tf_bert_model_20/bert/encoder/layer_._7/intermediate/dense/kernel:0', 'tf_bert_model_20/bert/encoder/layer_._7/intermediate/dense/bias:0', 'tf_bert_model_20/bert/encoder/layer_._7/output/dense/kernel:0', 'tf_bert_model_20/bert/encoder/layer_._7/output/dense/bias:0', 'tf_bert_model_20/bert/encoder/layer_._7/output/LayerNorm/gamma:0', 'tf_bert_model_20/bert/encoder/layer_._7/output/LayerNorm/beta:0', 'tf_bert_model_20/bert/encoder/layer_._8/attention/self/query/kernel:0', 'tf_bert_model_20/bert/encoder/layer_._8/attention/self/query/bias:0', 'tf_bert_model_20/bert/encoder/layer_._8/attention/self/key/kernel:0', 'tf_bert_model_20/bert/encoder/layer_._8/attention/self/key/bias:0', 'tf_bert_model_20/bert/encoder/layer_._8/attention/self/value/kernel:0', 'tf_bert_model_20/bert/encoder/layer_._8/attention/self/value/bias:0', 'tf_bert_model_20/bert/encoder/layer_._8/attention/output/dense/kernel:0', 'tf_bert_model_20/bert/encoder/layer_._8/attention/output/dense/bias:0', 'tf_bert_model_20/bert/encoder/layer_._8/attention/output/LayerNorm/gamma:0', 'tf_bert_model_20/bert/encoder/layer_._8/attention/output/LayerNorm/beta:0', 'tf_bert_model_20/bert/encoder/layer_._8/intermediate/dense/kernel:0', 'tf_bert_model_20/bert/encoder/layer_._8/intermediate/dense/bias:0', 'tf_bert_model_20/bert/encoder/layer_._8/output/dense/kernel:0', 'tf_bert_model_20/bert/encoder/layer_._8/output/dense/bias:0', 'tf_bert_model_20/bert/encoder/layer_._8/output/LayerNorm/gamma:0', 'tf_bert_model_20/bert/encoder/layer_._8/output/LayerNorm/beta:0', 'tf_bert_model_20/bert/encoder/layer_._9/attention/self/query/kernel:0', 'tf_bert_model_20/bert/encoder/layer_._9/attention/self/query/bias:0', 'tf_bert_model_20/bert/encoder/layer_._9/attention/self/key/kernel:0', 'tf_bert_model_20/bert/encoder/layer_._9/attention/self/key/bias:0', 'tf_bert_model_20/bert/encoder/layer_._9/attention/self/value/kernel:0', 'tf_bert_model_20/bert/encoder/layer_._9/attention/self/value/bias:0', 'tf_bert_model_20/bert/encoder/layer_._9/attention/output/dense/kernel:0', 'tf_bert_model_20/bert/encoder/layer_._9/attention/output/dense/bias:0', 'tf_bert_model_20/bert/encoder/layer_._9/attention/output/LayerNorm/gamma:0', 'tf_bert_model_20/bert/encoder/layer_._9/attention/output/LayerNorm/beta:0', 'tf_bert_model_20/bert/encoder/layer_._9/intermediate/dense/kernel:0', 'tf_bert_model_20/bert/encoder/layer_._9/intermediate/dense/bias:0', 'tf_bert_model_20/bert/encoder/layer_._9/output/dense/kernel:0', 'tf_bert_model_20/bert/encoder/layer_._9/output/dense/bias:0', 'tf_bert_model_20/bert/encoder/layer_._9/output/LayerNorm/gamma:0', 'tf_bert_model_20/bert/encoder/layer_._9/output/LayerNorm/beta:0', 'tf_bert_model_20/bert/encoder/layer_._10/attention/self/query/kernel:0', 'tf_bert_model_20/bert/encoder/layer_._10/attention/self/query/bias:0', 'tf_bert_model_20/bert/encoder/layer_._10/attention/self/key/kernel:0', 'tf_bert_model_20/bert/encoder/layer_._10/attention/self/key/bias:0', 'tf_bert_model_20/bert/encoder/layer_._10/attention/self/value/kernel:0', 'tf_bert_model_20/bert/encoder/layer_._10/attention/self/value/bias:0', 'tf_bert_model_20/bert/encoder/layer_._10/attention/output/dense/kernel:0', 'tf_bert_model_20/bert/encoder/layer_._10/attention/output/dense/bias:0', 'tf_bert_model_20/bert/encoder/layer_._10/attention/output/LayerNorm/gamma:0', 'tf_bert_model_20/bert/encoder/layer_._10/attention/output/LayerNorm/beta:0', 'tf_bert_model_20/bert/encoder/layer_._10/intermediate/dense/kernel:0', 'tf_bert_model_20/bert/encoder/layer_._10/intermediate/dense/bias:0', 'tf_bert_model_20/bert/encoder/layer_._10/output/dense/kernel:0', 'tf_bert_model_20/bert/encoder/layer_._10/output/dense/bias:0', 'tf_bert_model_20/bert/encoder/layer_._10/output/LayerNorm/gamma:0', 'tf_bert_model_20/bert/encoder/layer_._10/output/LayerNorm/beta:0', 'tf_bert_model_20/bert/pooler/dense/kernel:0', 'tf_bert_model_20/bert/pooler/dense/bias:0'] when minimizing the loss. If you're using `model.compile()`, did you forget to provide a `loss`argument?\n",
            "489/489 [==============================] - 31s 47ms/step - loss: 0.0831 - accuracy: 0.9716 - val_loss: 0.0468 - val_accuracy: 0.9885\n",
            "Epoch 2/3\n",
            "489/489 [==============================] - 20s 41ms/step - loss: 0.0297 - accuracy: 0.9900 - val_loss: 0.0491 - val_accuracy: 0.9885\n",
            "Epoch 3/3\n",
            "489/489 [==============================] - 20s 41ms/step - loss: 0.0179 - accuracy: 0.9944 - val_loss: 0.0598 - val_accuracy: 0.9902\n",
            "BERT 3e + CNN kernel un 160, train: accuracy = 0.9987, precision = 1.0000, recall = 0.9939, f1 = 0.9969\n",
            "validation: accuracy = 0.9939, precision = 0.9950, recall = 0.9754, f1 = 0.9851\n"
          ]
        },
        {
          "output_type": "stream",
          "name": "stderr",
          "text": [
            "Some layers from the model checkpoint at bert-base-cased were not used when initializing TFBertModel: ['nsp___cls', 'mlm___cls']\n",
            "- This IS expected if you are initializing TFBertModel from the checkpoint of a model trained on another task or with another architecture (e.g. initializing a BertForSequenceClassification model from a BertForPreTraining model).\n",
            "- This IS NOT expected if you are initializing TFBertModel from the checkpoint of a model that you expect to be exactly identical (initializing a BertForSequenceClassification model from a BertForSequenceClassification model).\n",
            "All the layers of TFBertModel were initialized from the model checkpoint at bert-base-cased.\n",
            "If your task is similar to the task the model of the checkpoint was trained on, you can already use TFBertModel for predictions without further training.\n"
          ]
        },
        {
          "output_type": "stream",
          "name": "stdout",
          "text": [
            "Epoch 1/3\n",
            "WARNING:tensorflow:Gradients do not exist for variables ['tf_bert_model_21/bert/embeddings/word_embeddings/weight:0', 'tf_bert_model_21/bert/embeddings/token_type_embeddings/embeddings:0', 'tf_bert_model_21/bert/embeddings/position_embeddings/embeddings:0', 'tf_bert_model_21/bert/embeddings/LayerNorm/gamma:0', 'tf_bert_model_21/bert/embeddings/LayerNorm/beta:0', 'tf_bert_model_21/bert/encoder/layer_._0/attention/self/query/kernel:0', 'tf_bert_model_21/bert/encoder/layer_._0/attention/self/query/bias:0', 'tf_bert_model_21/bert/encoder/layer_._0/attention/self/key/kernel:0', 'tf_bert_model_21/bert/encoder/layer_._0/attention/self/key/bias:0', 'tf_bert_model_21/bert/encoder/layer_._0/attention/self/value/kernel:0', 'tf_bert_model_21/bert/encoder/layer_._0/attention/self/value/bias:0', 'tf_bert_model_21/bert/encoder/layer_._0/attention/output/dense/kernel:0', 'tf_bert_model_21/bert/encoder/layer_._0/attention/output/dense/bias:0', 'tf_bert_model_21/bert/encoder/layer_._0/attention/output/LayerNorm/gamma:0', 'tf_bert_model_21/bert/encoder/layer_._0/attention/output/LayerNorm/beta:0', 'tf_bert_model_21/bert/encoder/layer_._0/intermediate/dense/kernel:0', 'tf_bert_model_21/bert/encoder/layer_._0/intermediate/dense/bias:0', 'tf_bert_model_21/bert/encoder/layer_._0/output/dense/kernel:0', 'tf_bert_model_21/bert/encoder/layer_._0/output/dense/bias:0', 'tf_bert_model_21/bert/encoder/layer_._0/output/LayerNorm/gamma:0', 'tf_bert_model_21/bert/encoder/layer_._0/output/LayerNorm/beta:0', 'tf_bert_model_21/bert/encoder/layer_._1/attention/self/query/kernel:0', 'tf_bert_model_21/bert/encoder/layer_._1/attention/self/query/bias:0', 'tf_bert_model_21/bert/encoder/layer_._1/attention/self/key/kernel:0', 'tf_bert_model_21/bert/encoder/layer_._1/attention/self/key/bias:0', 'tf_bert_model_21/bert/encoder/layer_._1/attention/self/value/kernel:0', 'tf_bert_model_21/bert/encoder/layer_._1/attention/self/value/bias:0', 'tf_bert_model_21/bert/encoder/layer_._1/attention/output/dense/kernel:0', 'tf_bert_model_21/bert/encoder/layer_._1/attention/output/dense/bias:0', 'tf_bert_model_21/bert/encoder/layer_._1/attention/output/LayerNorm/gamma:0', 'tf_bert_model_21/bert/encoder/layer_._1/attention/output/LayerNorm/beta:0', 'tf_bert_model_21/bert/encoder/layer_._1/intermediate/dense/kernel:0', 'tf_bert_model_21/bert/encoder/layer_._1/intermediate/dense/bias:0', 'tf_bert_model_21/bert/encoder/layer_._1/output/dense/kernel:0', 'tf_bert_model_21/bert/encoder/layer_._1/output/dense/bias:0', 'tf_bert_model_21/bert/encoder/layer_._1/output/LayerNorm/gamma:0', 'tf_bert_model_21/bert/encoder/layer_._1/output/LayerNorm/beta:0', 'tf_bert_model_21/bert/encoder/layer_._2/attention/self/query/kernel:0', 'tf_bert_model_21/bert/encoder/layer_._2/attention/self/query/bias:0', 'tf_bert_model_21/bert/encoder/layer_._2/attention/self/key/kernel:0', 'tf_bert_model_21/bert/encoder/layer_._2/attention/self/key/bias:0', 'tf_bert_model_21/bert/encoder/layer_._2/attention/self/value/kernel:0', 'tf_bert_model_21/bert/encoder/layer_._2/attention/self/value/bias:0', 'tf_bert_model_21/bert/encoder/layer_._2/attention/output/dense/kernel:0', 'tf_bert_model_21/bert/encoder/layer_._2/attention/output/dense/bias:0', 'tf_bert_model_21/bert/encoder/layer_._2/attention/output/LayerNorm/gamma:0', 'tf_bert_model_21/bert/encoder/layer_._2/attention/output/LayerNorm/beta:0', 'tf_bert_model_21/bert/encoder/layer_._2/intermediate/dense/kernel:0', 'tf_bert_model_21/bert/encoder/layer_._2/intermediate/dense/bias:0', 'tf_bert_model_21/bert/encoder/layer_._2/output/dense/kernel:0', 'tf_bert_model_21/bert/encoder/layer_._2/output/dense/bias:0', 'tf_bert_model_21/bert/encoder/layer_._2/output/LayerNorm/gamma:0', 'tf_bert_model_21/bert/encoder/layer_._2/output/LayerNorm/beta:0', 'tf_bert_model_21/bert/encoder/layer_._3/attention/self/query/kernel:0', 'tf_bert_model_21/bert/encoder/layer_._3/attention/self/query/bias:0', 'tf_bert_model_21/bert/encoder/layer_._3/attention/self/key/kernel:0', 'tf_bert_model_21/bert/encoder/layer_._3/attention/self/key/bias:0', 'tf_bert_model_21/bert/encoder/layer_._3/attention/self/value/kernel:0', 'tf_bert_model_21/bert/encoder/layer_._3/attention/self/value/bias:0', 'tf_bert_model_21/bert/encoder/layer_._3/attention/output/dense/kernel:0', 'tf_bert_model_21/bert/encoder/layer_._3/attention/output/dense/bias:0', 'tf_bert_model_21/bert/encoder/layer_._3/attention/output/LayerNorm/gamma:0', 'tf_bert_model_21/bert/encoder/layer_._3/attention/output/LayerNorm/beta:0', 'tf_bert_model_21/bert/encoder/layer_._3/intermediate/dense/kernel:0', 'tf_bert_model_21/bert/encoder/layer_._3/intermediate/dense/bias:0', 'tf_bert_model_21/bert/encoder/layer_._3/output/dense/kernel:0', 'tf_bert_model_21/bert/encoder/layer_._3/output/dense/bias:0', 'tf_bert_model_21/bert/encoder/layer_._3/output/LayerNorm/gamma:0', 'tf_bert_model_21/bert/encoder/layer_._3/output/LayerNorm/beta:0', 'tf_bert_model_21/bert/encoder/layer_._4/attention/self/query/kernel:0', 'tf_bert_model_21/bert/encoder/layer_._4/attention/self/query/bias:0', 'tf_bert_model_21/bert/encoder/layer_._4/attention/self/key/kernel:0', 'tf_bert_model_21/bert/encoder/layer_._4/attention/self/key/bias:0', 'tf_bert_model_21/bert/encoder/layer_._4/attention/self/value/kernel:0', 'tf_bert_model_21/bert/encoder/layer_._4/attention/self/value/bias:0', 'tf_bert_model_21/bert/encoder/layer_._4/attention/output/dense/kernel:0', 'tf_bert_model_21/bert/encoder/layer_._4/attention/output/dense/bias:0', 'tf_bert_model_21/bert/encoder/layer_._4/attention/output/LayerNorm/gamma:0', 'tf_bert_model_21/bert/encoder/layer_._4/attention/output/LayerNorm/beta:0', 'tf_bert_model_21/bert/encoder/layer_._4/intermediate/dense/kernel:0', 'tf_bert_model_21/bert/encoder/layer_._4/intermediate/dense/bias:0', 'tf_bert_model_21/bert/encoder/layer_._4/output/dense/kernel:0', 'tf_bert_model_21/bert/encoder/layer_._4/output/dense/bias:0', 'tf_bert_model_21/bert/encoder/layer_._4/output/LayerNorm/gamma:0', 'tf_bert_model_21/bert/encoder/layer_._4/output/LayerNorm/beta:0', 'tf_bert_model_21/bert/encoder/layer_._5/attention/self/query/kernel:0', 'tf_bert_model_21/bert/encoder/layer_._5/attention/self/query/bias:0', 'tf_bert_model_21/bert/encoder/layer_._5/attention/self/key/kernel:0', 'tf_bert_model_21/bert/encoder/layer_._5/attention/self/key/bias:0', 'tf_bert_model_21/bert/encoder/layer_._5/attention/self/value/kernel:0', 'tf_bert_model_21/bert/encoder/layer_._5/attention/self/value/bias:0', 'tf_bert_model_21/bert/encoder/layer_._5/attention/output/dense/kernel:0', 'tf_bert_model_21/bert/encoder/layer_._5/attention/output/dense/bias:0', 'tf_bert_model_21/bert/encoder/layer_._5/attention/output/LayerNorm/gamma:0', 'tf_bert_model_21/bert/encoder/layer_._5/attention/output/LayerNorm/beta:0', 'tf_bert_model_21/bert/encoder/layer_._5/intermediate/dense/kernel:0', 'tf_bert_model_21/bert/encoder/layer_._5/intermediate/dense/bias:0', 'tf_bert_model_21/bert/encoder/layer_._5/output/dense/kernel:0', 'tf_bert_model_21/bert/encoder/layer_._5/output/dense/bias:0', 'tf_bert_model_21/bert/encoder/layer_._5/output/LayerNorm/gamma:0', 'tf_bert_model_21/bert/encoder/layer_._5/output/LayerNorm/beta:0', 'tf_bert_model_21/bert/encoder/layer_._6/attention/self/query/kernel:0', 'tf_bert_model_21/bert/encoder/layer_._6/attention/self/query/bias:0', 'tf_bert_model_21/bert/encoder/layer_._6/attention/self/key/kernel:0', 'tf_bert_model_21/bert/encoder/layer_._6/attention/self/key/bias:0', 'tf_bert_model_21/bert/encoder/layer_._6/attention/self/value/kernel:0', 'tf_bert_model_21/bert/encoder/layer_._6/attention/self/value/bias:0', 'tf_bert_model_21/bert/encoder/layer_._6/attention/output/dense/kernel:0', 'tf_bert_model_21/bert/encoder/layer_._6/attention/output/dense/bias:0', 'tf_bert_model_21/bert/encoder/layer_._6/attention/output/LayerNorm/gamma:0', 'tf_bert_model_21/bert/encoder/layer_._6/attention/output/LayerNorm/beta:0', 'tf_bert_model_21/bert/encoder/layer_._6/intermediate/dense/kernel:0', 'tf_bert_model_21/bert/encoder/layer_._6/intermediate/dense/bias:0', 'tf_bert_model_21/bert/encoder/layer_._6/output/dense/kernel:0', 'tf_bert_model_21/bert/encoder/layer_._6/output/dense/bias:0', 'tf_bert_model_21/bert/encoder/layer_._6/output/LayerNorm/gamma:0', 'tf_bert_model_21/bert/encoder/layer_._6/output/LayerNorm/beta:0', 'tf_bert_model_21/bert/encoder/layer_._7/attention/self/query/kernel:0', 'tf_bert_model_21/bert/encoder/layer_._7/attention/self/query/bias:0', 'tf_bert_model_21/bert/encoder/layer_._7/attention/self/key/kernel:0', 'tf_bert_model_21/bert/encoder/layer_._7/attention/self/key/bias:0', 'tf_bert_model_21/bert/encoder/layer_._7/attention/self/value/kernel:0', 'tf_bert_model_21/bert/encoder/layer_._7/attention/self/value/bias:0', 'tf_bert_model_21/bert/encoder/layer_._7/attention/output/dense/kernel:0', 'tf_bert_model_21/bert/encoder/layer_._7/attention/output/dense/bias:0', 'tf_bert_model_21/bert/encoder/layer_._7/attention/output/LayerNorm/gamma:0', 'tf_bert_model_21/bert/encoder/layer_._7/attention/output/LayerNorm/beta:0', 'tf_bert_model_21/bert/encoder/layer_._7/intermediate/dense/kernel:0', 'tf_bert_model_21/bert/encoder/layer_._7/intermediate/dense/bias:0', 'tf_bert_model_21/bert/encoder/layer_._7/output/dense/kernel:0', 'tf_bert_model_21/bert/encoder/layer_._7/output/dense/bias:0', 'tf_bert_model_21/bert/encoder/layer_._7/output/LayerNorm/gamma:0', 'tf_bert_model_21/bert/encoder/layer_._7/output/LayerNorm/beta:0', 'tf_bert_model_21/bert/encoder/layer_._8/attention/self/query/kernel:0', 'tf_bert_model_21/bert/encoder/layer_._8/attention/self/query/bias:0', 'tf_bert_model_21/bert/encoder/layer_._8/attention/self/key/kernel:0', 'tf_bert_model_21/bert/encoder/layer_._8/attention/self/key/bias:0', 'tf_bert_model_21/bert/encoder/layer_._8/attention/self/value/kernel:0', 'tf_bert_model_21/bert/encoder/layer_._8/attention/self/value/bias:0', 'tf_bert_model_21/bert/encoder/layer_._8/attention/output/dense/kernel:0', 'tf_bert_model_21/bert/encoder/layer_._8/attention/output/dense/bias:0', 'tf_bert_model_21/bert/encoder/layer_._8/attention/output/LayerNorm/gamma:0', 'tf_bert_model_21/bert/encoder/layer_._8/attention/output/LayerNorm/beta:0', 'tf_bert_model_21/bert/encoder/layer_._8/intermediate/dense/kernel:0', 'tf_bert_model_21/bert/encoder/layer_._8/intermediate/dense/bias:0', 'tf_bert_model_21/bert/encoder/layer_._8/output/dense/kernel:0', 'tf_bert_model_21/bert/encoder/layer_._8/output/dense/bias:0', 'tf_bert_model_21/bert/encoder/layer_._8/output/LayerNorm/gamma:0', 'tf_bert_model_21/bert/encoder/layer_._8/output/LayerNorm/beta:0', 'tf_bert_model_21/bert/encoder/layer_._9/attention/self/query/kernel:0', 'tf_bert_model_21/bert/encoder/layer_._9/attention/self/query/bias:0', 'tf_bert_model_21/bert/encoder/layer_._9/attention/self/key/kernel:0', 'tf_bert_model_21/bert/encoder/layer_._9/attention/self/key/bias:0', 'tf_bert_model_21/bert/encoder/layer_._9/attention/self/value/kernel:0', 'tf_bert_model_21/bert/encoder/layer_._9/attention/self/value/bias:0', 'tf_bert_model_21/bert/encoder/layer_._9/attention/output/dense/kernel:0', 'tf_bert_model_21/bert/encoder/layer_._9/attention/output/dense/bias:0', 'tf_bert_model_21/bert/encoder/layer_._9/attention/output/LayerNorm/gamma:0', 'tf_bert_model_21/bert/encoder/layer_._9/attention/output/LayerNorm/beta:0', 'tf_bert_model_21/bert/encoder/layer_._9/intermediate/dense/kernel:0', 'tf_bert_model_21/bert/encoder/layer_._9/intermediate/dense/bias:0', 'tf_bert_model_21/bert/encoder/layer_._9/output/dense/kernel:0', 'tf_bert_model_21/bert/encoder/layer_._9/output/dense/bias:0', 'tf_bert_model_21/bert/encoder/layer_._9/output/LayerNorm/gamma:0', 'tf_bert_model_21/bert/encoder/layer_._9/output/LayerNorm/beta:0', 'tf_bert_model_21/bert/encoder/layer_._10/attention/self/query/kernel:0', 'tf_bert_model_21/bert/encoder/layer_._10/attention/self/query/bias:0', 'tf_bert_model_21/bert/encoder/layer_._10/attention/self/key/kernel:0', 'tf_bert_model_21/bert/encoder/layer_._10/attention/self/key/bias:0', 'tf_bert_model_21/bert/encoder/layer_._10/attention/self/value/kernel:0', 'tf_bert_model_21/bert/encoder/layer_._10/attention/self/value/bias:0', 'tf_bert_model_21/bert/encoder/layer_._10/attention/output/dense/kernel:0', 'tf_bert_model_21/bert/encoder/layer_._10/attention/output/dense/bias:0', 'tf_bert_model_21/bert/encoder/layer_._10/attention/output/LayerNorm/gamma:0', 'tf_bert_model_21/bert/encoder/layer_._10/attention/output/LayerNorm/beta:0', 'tf_bert_model_21/bert/encoder/layer_._10/intermediate/dense/kernel:0', 'tf_bert_model_21/bert/encoder/layer_._10/intermediate/dense/bias:0', 'tf_bert_model_21/bert/encoder/layer_._10/output/dense/kernel:0', 'tf_bert_model_21/bert/encoder/layer_._10/output/dense/bias:0', 'tf_bert_model_21/bert/encoder/layer_._10/output/LayerNorm/gamma:0', 'tf_bert_model_21/bert/encoder/layer_._10/output/LayerNorm/beta:0', 'tf_bert_model_21/bert/pooler/dense/kernel:0', 'tf_bert_model_21/bert/pooler/dense/bias:0'] when minimizing the loss. If you're using `model.compile()`, did you forget to provide a `loss`argument?\n",
            "WARNING:tensorflow:Gradients do not exist for variables ['tf_bert_model_21/bert/embeddings/word_embeddings/weight:0', 'tf_bert_model_21/bert/embeddings/token_type_embeddings/embeddings:0', 'tf_bert_model_21/bert/embeddings/position_embeddings/embeddings:0', 'tf_bert_model_21/bert/embeddings/LayerNorm/gamma:0', 'tf_bert_model_21/bert/embeddings/LayerNorm/beta:0', 'tf_bert_model_21/bert/encoder/layer_._0/attention/self/query/kernel:0', 'tf_bert_model_21/bert/encoder/layer_._0/attention/self/query/bias:0', 'tf_bert_model_21/bert/encoder/layer_._0/attention/self/key/kernel:0', 'tf_bert_model_21/bert/encoder/layer_._0/attention/self/key/bias:0', 'tf_bert_model_21/bert/encoder/layer_._0/attention/self/value/kernel:0', 'tf_bert_model_21/bert/encoder/layer_._0/attention/self/value/bias:0', 'tf_bert_model_21/bert/encoder/layer_._0/attention/output/dense/kernel:0', 'tf_bert_model_21/bert/encoder/layer_._0/attention/output/dense/bias:0', 'tf_bert_model_21/bert/encoder/layer_._0/attention/output/LayerNorm/gamma:0', 'tf_bert_model_21/bert/encoder/layer_._0/attention/output/LayerNorm/beta:0', 'tf_bert_model_21/bert/encoder/layer_._0/intermediate/dense/kernel:0', 'tf_bert_model_21/bert/encoder/layer_._0/intermediate/dense/bias:0', 'tf_bert_model_21/bert/encoder/layer_._0/output/dense/kernel:0', 'tf_bert_model_21/bert/encoder/layer_._0/output/dense/bias:0', 'tf_bert_model_21/bert/encoder/layer_._0/output/LayerNorm/gamma:0', 'tf_bert_model_21/bert/encoder/layer_._0/output/LayerNorm/beta:0', 'tf_bert_model_21/bert/encoder/layer_._1/attention/self/query/kernel:0', 'tf_bert_model_21/bert/encoder/layer_._1/attention/self/query/bias:0', 'tf_bert_model_21/bert/encoder/layer_._1/attention/self/key/kernel:0', 'tf_bert_model_21/bert/encoder/layer_._1/attention/self/key/bias:0', 'tf_bert_model_21/bert/encoder/layer_._1/attention/self/value/kernel:0', 'tf_bert_model_21/bert/encoder/layer_._1/attention/self/value/bias:0', 'tf_bert_model_21/bert/encoder/layer_._1/attention/output/dense/kernel:0', 'tf_bert_model_21/bert/encoder/layer_._1/attention/output/dense/bias:0', 'tf_bert_model_21/bert/encoder/layer_._1/attention/output/LayerNorm/gamma:0', 'tf_bert_model_21/bert/encoder/layer_._1/attention/output/LayerNorm/beta:0', 'tf_bert_model_21/bert/encoder/layer_._1/intermediate/dense/kernel:0', 'tf_bert_model_21/bert/encoder/layer_._1/intermediate/dense/bias:0', 'tf_bert_model_21/bert/encoder/layer_._1/output/dense/kernel:0', 'tf_bert_model_21/bert/encoder/layer_._1/output/dense/bias:0', 'tf_bert_model_21/bert/encoder/layer_._1/output/LayerNorm/gamma:0', 'tf_bert_model_21/bert/encoder/layer_._1/output/LayerNorm/beta:0', 'tf_bert_model_21/bert/encoder/layer_._2/attention/self/query/kernel:0', 'tf_bert_model_21/bert/encoder/layer_._2/attention/self/query/bias:0', 'tf_bert_model_21/bert/encoder/layer_._2/attention/self/key/kernel:0', 'tf_bert_model_21/bert/encoder/layer_._2/attention/self/key/bias:0', 'tf_bert_model_21/bert/encoder/layer_._2/attention/self/value/kernel:0', 'tf_bert_model_21/bert/encoder/layer_._2/attention/self/value/bias:0', 'tf_bert_model_21/bert/encoder/layer_._2/attention/output/dense/kernel:0', 'tf_bert_model_21/bert/encoder/layer_._2/attention/output/dense/bias:0', 'tf_bert_model_21/bert/encoder/layer_._2/attention/output/LayerNorm/gamma:0', 'tf_bert_model_21/bert/encoder/layer_._2/attention/output/LayerNorm/beta:0', 'tf_bert_model_21/bert/encoder/layer_._2/intermediate/dense/kernel:0', 'tf_bert_model_21/bert/encoder/layer_._2/intermediate/dense/bias:0', 'tf_bert_model_21/bert/encoder/layer_._2/output/dense/kernel:0', 'tf_bert_model_21/bert/encoder/layer_._2/output/dense/bias:0', 'tf_bert_model_21/bert/encoder/layer_._2/output/LayerNorm/gamma:0', 'tf_bert_model_21/bert/encoder/layer_._2/output/LayerNorm/beta:0', 'tf_bert_model_21/bert/encoder/layer_._3/attention/self/query/kernel:0', 'tf_bert_model_21/bert/encoder/layer_._3/attention/self/query/bias:0', 'tf_bert_model_21/bert/encoder/layer_._3/attention/self/key/kernel:0', 'tf_bert_model_21/bert/encoder/layer_._3/attention/self/key/bias:0', 'tf_bert_model_21/bert/encoder/layer_._3/attention/self/value/kernel:0', 'tf_bert_model_21/bert/encoder/layer_._3/attention/self/value/bias:0', 'tf_bert_model_21/bert/encoder/layer_._3/attention/output/dense/kernel:0', 'tf_bert_model_21/bert/encoder/layer_._3/attention/output/dense/bias:0', 'tf_bert_model_21/bert/encoder/layer_._3/attention/output/LayerNorm/gamma:0', 'tf_bert_model_21/bert/encoder/layer_._3/attention/output/LayerNorm/beta:0', 'tf_bert_model_21/bert/encoder/layer_._3/intermediate/dense/kernel:0', 'tf_bert_model_21/bert/encoder/layer_._3/intermediate/dense/bias:0', 'tf_bert_model_21/bert/encoder/layer_._3/output/dense/kernel:0', 'tf_bert_model_21/bert/encoder/layer_._3/output/dense/bias:0', 'tf_bert_model_21/bert/encoder/layer_._3/output/LayerNorm/gamma:0', 'tf_bert_model_21/bert/encoder/layer_._3/output/LayerNorm/beta:0', 'tf_bert_model_21/bert/encoder/layer_._4/attention/self/query/kernel:0', 'tf_bert_model_21/bert/encoder/layer_._4/attention/self/query/bias:0', 'tf_bert_model_21/bert/encoder/layer_._4/attention/self/key/kernel:0', 'tf_bert_model_21/bert/encoder/layer_._4/attention/self/key/bias:0', 'tf_bert_model_21/bert/encoder/layer_._4/attention/self/value/kernel:0', 'tf_bert_model_21/bert/encoder/layer_._4/attention/self/value/bias:0', 'tf_bert_model_21/bert/encoder/layer_._4/attention/output/dense/kernel:0', 'tf_bert_model_21/bert/encoder/layer_._4/attention/output/dense/bias:0', 'tf_bert_model_21/bert/encoder/layer_._4/attention/output/LayerNorm/gamma:0', 'tf_bert_model_21/bert/encoder/layer_._4/attention/output/LayerNorm/beta:0', 'tf_bert_model_21/bert/encoder/layer_._4/intermediate/dense/kernel:0', 'tf_bert_model_21/bert/encoder/layer_._4/intermediate/dense/bias:0', 'tf_bert_model_21/bert/encoder/layer_._4/output/dense/kernel:0', 'tf_bert_model_21/bert/encoder/layer_._4/output/dense/bias:0', 'tf_bert_model_21/bert/encoder/layer_._4/output/LayerNorm/gamma:0', 'tf_bert_model_21/bert/encoder/layer_._4/output/LayerNorm/beta:0', 'tf_bert_model_21/bert/encoder/layer_._5/attention/self/query/kernel:0', 'tf_bert_model_21/bert/encoder/layer_._5/attention/self/query/bias:0', 'tf_bert_model_21/bert/encoder/layer_._5/attention/self/key/kernel:0', 'tf_bert_model_21/bert/encoder/layer_._5/attention/self/key/bias:0', 'tf_bert_model_21/bert/encoder/layer_._5/attention/self/value/kernel:0', 'tf_bert_model_21/bert/encoder/layer_._5/attention/self/value/bias:0', 'tf_bert_model_21/bert/encoder/layer_._5/attention/output/dense/kernel:0', 'tf_bert_model_21/bert/encoder/layer_._5/attention/output/dense/bias:0', 'tf_bert_model_21/bert/encoder/layer_._5/attention/output/LayerNorm/gamma:0', 'tf_bert_model_21/bert/encoder/layer_._5/attention/output/LayerNorm/beta:0', 'tf_bert_model_21/bert/encoder/layer_._5/intermediate/dense/kernel:0', 'tf_bert_model_21/bert/encoder/layer_._5/intermediate/dense/bias:0', 'tf_bert_model_21/bert/encoder/layer_._5/output/dense/kernel:0', 'tf_bert_model_21/bert/encoder/layer_._5/output/dense/bias:0', 'tf_bert_model_21/bert/encoder/layer_._5/output/LayerNorm/gamma:0', 'tf_bert_model_21/bert/encoder/layer_._5/output/LayerNorm/beta:0', 'tf_bert_model_21/bert/encoder/layer_._6/attention/self/query/kernel:0', 'tf_bert_model_21/bert/encoder/layer_._6/attention/self/query/bias:0', 'tf_bert_model_21/bert/encoder/layer_._6/attention/self/key/kernel:0', 'tf_bert_model_21/bert/encoder/layer_._6/attention/self/key/bias:0', 'tf_bert_model_21/bert/encoder/layer_._6/attention/self/value/kernel:0', 'tf_bert_model_21/bert/encoder/layer_._6/attention/self/value/bias:0', 'tf_bert_model_21/bert/encoder/layer_._6/attention/output/dense/kernel:0', 'tf_bert_model_21/bert/encoder/layer_._6/attention/output/dense/bias:0', 'tf_bert_model_21/bert/encoder/layer_._6/attention/output/LayerNorm/gamma:0', 'tf_bert_model_21/bert/encoder/layer_._6/attention/output/LayerNorm/beta:0', 'tf_bert_model_21/bert/encoder/layer_._6/intermediate/dense/kernel:0', 'tf_bert_model_21/bert/encoder/layer_._6/intermediate/dense/bias:0', 'tf_bert_model_21/bert/encoder/layer_._6/output/dense/kernel:0', 'tf_bert_model_21/bert/encoder/layer_._6/output/dense/bias:0', 'tf_bert_model_21/bert/encoder/layer_._6/output/LayerNorm/gamma:0', 'tf_bert_model_21/bert/encoder/layer_._6/output/LayerNorm/beta:0', 'tf_bert_model_21/bert/encoder/layer_._7/attention/self/query/kernel:0', 'tf_bert_model_21/bert/encoder/layer_._7/attention/self/query/bias:0', 'tf_bert_model_21/bert/encoder/layer_._7/attention/self/key/kernel:0', 'tf_bert_model_21/bert/encoder/layer_._7/attention/self/key/bias:0', 'tf_bert_model_21/bert/encoder/layer_._7/attention/self/value/kernel:0', 'tf_bert_model_21/bert/encoder/layer_._7/attention/self/value/bias:0', 'tf_bert_model_21/bert/encoder/layer_._7/attention/output/dense/kernel:0', 'tf_bert_model_21/bert/encoder/layer_._7/attention/output/dense/bias:0', 'tf_bert_model_21/bert/encoder/layer_._7/attention/output/LayerNorm/gamma:0', 'tf_bert_model_21/bert/encoder/layer_._7/attention/output/LayerNorm/beta:0', 'tf_bert_model_21/bert/encoder/layer_._7/intermediate/dense/kernel:0', 'tf_bert_model_21/bert/encoder/layer_._7/intermediate/dense/bias:0', 'tf_bert_model_21/bert/encoder/layer_._7/output/dense/kernel:0', 'tf_bert_model_21/bert/encoder/layer_._7/output/dense/bias:0', 'tf_bert_model_21/bert/encoder/layer_._7/output/LayerNorm/gamma:0', 'tf_bert_model_21/bert/encoder/layer_._7/output/LayerNorm/beta:0', 'tf_bert_model_21/bert/encoder/layer_._8/attention/self/query/kernel:0', 'tf_bert_model_21/bert/encoder/layer_._8/attention/self/query/bias:0', 'tf_bert_model_21/bert/encoder/layer_._8/attention/self/key/kernel:0', 'tf_bert_model_21/bert/encoder/layer_._8/attention/self/key/bias:0', 'tf_bert_model_21/bert/encoder/layer_._8/attention/self/value/kernel:0', 'tf_bert_model_21/bert/encoder/layer_._8/attention/self/value/bias:0', 'tf_bert_model_21/bert/encoder/layer_._8/attention/output/dense/kernel:0', 'tf_bert_model_21/bert/encoder/layer_._8/attention/output/dense/bias:0', 'tf_bert_model_21/bert/encoder/layer_._8/attention/output/LayerNorm/gamma:0', 'tf_bert_model_21/bert/encoder/layer_._8/attention/output/LayerNorm/beta:0', 'tf_bert_model_21/bert/encoder/layer_._8/intermediate/dense/kernel:0', 'tf_bert_model_21/bert/encoder/layer_._8/intermediate/dense/bias:0', 'tf_bert_model_21/bert/encoder/layer_._8/output/dense/kernel:0', 'tf_bert_model_21/bert/encoder/layer_._8/output/dense/bias:0', 'tf_bert_model_21/bert/encoder/layer_._8/output/LayerNorm/gamma:0', 'tf_bert_model_21/bert/encoder/layer_._8/output/LayerNorm/beta:0', 'tf_bert_model_21/bert/encoder/layer_._9/attention/self/query/kernel:0', 'tf_bert_model_21/bert/encoder/layer_._9/attention/self/query/bias:0', 'tf_bert_model_21/bert/encoder/layer_._9/attention/self/key/kernel:0', 'tf_bert_model_21/bert/encoder/layer_._9/attention/self/key/bias:0', 'tf_bert_model_21/bert/encoder/layer_._9/attention/self/value/kernel:0', 'tf_bert_model_21/bert/encoder/layer_._9/attention/self/value/bias:0', 'tf_bert_model_21/bert/encoder/layer_._9/attention/output/dense/kernel:0', 'tf_bert_model_21/bert/encoder/layer_._9/attention/output/dense/bias:0', 'tf_bert_model_21/bert/encoder/layer_._9/attention/output/LayerNorm/gamma:0', 'tf_bert_model_21/bert/encoder/layer_._9/attention/output/LayerNorm/beta:0', 'tf_bert_model_21/bert/encoder/layer_._9/intermediate/dense/kernel:0', 'tf_bert_model_21/bert/encoder/layer_._9/intermediate/dense/bias:0', 'tf_bert_model_21/bert/encoder/layer_._9/output/dense/kernel:0', 'tf_bert_model_21/bert/encoder/layer_._9/output/dense/bias:0', 'tf_bert_model_21/bert/encoder/layer_._9/output/LayerNorm/gamma:0', 'tf_bert_model_21/bert/encoder/layer_._9/output/LayerNorm/beta:0', 'tf_bert_model_21/bert/encoder/layer_._10/attention/self/query/kernel:0', 'tf_bert_model_21/bert/encoder/layer_._10/attention/self/query/bias:0', 'tf_bert_model_21/bert/encoder/layer_._10/attention/self/key/kernel:0', 'tf_bert_model_21/bert/encoder/layer_._10/attention/self/key/bias:0', 'tf_bert_model_21/bert/encoder/layer_._10/attention/self/value/kernel:0', 'tf_bert_model_21/bert/encoder/layer_._10/attention/self/value/bias:0', 'tf_bert_model_21/bert/encoder/layer_._10/attention/output/dense/kernel:0', 'tf_bert_model_21/bert/encoder/layer_._10/attention/output/dense/bias:0', 'tf_bert_model_21/bert/encoder/layer_._10/attention/output/LayerNorm/gamma:0', 'tf_bert_model_21/bert/encoder/layer_._10/attention/output/LayerNorm/beta:0', 'tf_bert_model_21/bert/encoder/layer_._10/intermediate/dense/kernel:0', 'tf_bert_model_21/bert/encoder/layer_._10/intermediate/dense/bias:0', 'tf_bert_model_21/bert/encoder/layer_._10/output/dense/kernel:0', 'tf_bert_model_21/bert/encoder/layer_._10/output/dense/bias:0', 'tf_bert_model_21/bert/encoder/layer_._10/output/LayerNorm/gamma:0', 'tf_bert_model_21/bert/encoder/layer_._10/output/LayerNorm/beta:0', 'tf_bert_model_21/bert/pooler/dense/kernel:0', 'tf_bert_model_21/bert/pooler/dense/bias:0'] when minimizing the loss. If you're using `model.compile()`, did you forget to provide a `loss`argument?\n",
            "489/489 [==============================] - 30s 47ms/step - loss: 0.0923 - accuracy: 0.9665 - val_loss: 0.0556 - val_accuracy: 0.9836\n",
            "Epoch 2/3\n",
            "489/489 [==============================] - 20s 41ms/step - loss: 0.0358 - accuracy: 0.9885 - val_loss: 0.0464 - val_accuracy: 0.9877\n",
            "Epoch 3/3\n",
            "489/489 [==============================] - 20s 41ms/step - loss: 0.0184 - accuracy: 0.9944 - val_loss: 0.0557 - val_accuracy: 0.9894\n",
            "BERT 3e + CNN kernel un 160, train: accuracy = 0.9987, precision = 1.0000, recall = 0.9938, f1 = 0.9969\n",
            "validation: accuracy = 0.9877, precision = 0.9899, recall = 0.9515, f1 = 0.9703\n"
          ]
        },
        {
          "output_type": "stream",
          "name": "stderr",
          "text": [
            "Some layers from the model checkpoint at bert-base-cased were not used when initializing TFBertModel: ['nsp___cls', 'mlm___cls']\n",
            "- This IS expected if you are initializing TFBertModel from the checkpoint of a model trained on another task or with another architecture (e.g. initializing a BertForSequenceClassification model from a BertForPreTraining model).\n",
            "- This IS NOT expected if you are initializing TFBertModel from the checkpoint of a model that you expect to be exactly identical (initializing a BertForSequenceClassification model from a BertForSequenceClassification model).\n",
            "All the layers of TFBertModel were initialized from the model checkpoint at bert-base-cased.\n",
            "If your task is similar to the task the model of the checkpoint was trained on, you can already use TFBertModel for predictions without further training.\n"
          ]
        },
        {
          "output_type": "stream",
          "name": "stdout",
          "text": [
            "Epoch 1/3\n",
            "WARNING:tensorflow:Gradients do not exist for variables ['tf_bert_model_22/bert/embeddings/word_embeddings/weight:0', 'tf_bert_model_22/bert/embeddings/token_type_embeddings/embeddings:0', 'tf_bert_model_22/bert/embeddings/position_embeddings/embeddings:0', 'tf_bert_model_22/bert/embeddings/LayerNorm/gamma:0', 'tf_bert_model_22/bert/embeddings/LayerNorm/beta:0', 'tf_bert_model_22/bert/encoder/layer_._0/attention/self/query/kernel:0', 'tf_bert_model_22/bert/encoder/layer_._0/attention/self/query/bias:0', 'tf_bert_model_22/bert/encoder/layer_._0/attention/self/key/kernel:0', 'tf_bert_model_22/bert/encoder/layer_._0/attention/self/key/bias:0', 'tf_bert_model_22/bert/encoder/layer_._0/attention/self/value/kernel:0', 'tf_bert_model_22/bert/encoder/layer_._0/attention/self/value/bias:0', 'tf_bert_model_22/bert/encoder/layer_._0/attention/output/dense/kernel:0', 'tf_bert_model_22/bert/encoder/layer_._0/attention/output/dense/bias:0', 'tf_bert_model_22/bert/encoder/layer_._0/attention/output/LayerNorm/gamma:0', 'tf_bert_model_22/bert/encoder/layer_._0/attention/output/LayerNorm/beta:0', 'tf_bert_model_22/bert/encoder/layer_._0/intermediate/dense/kernel:0', 'tf_bert_model_22/bert/encoder/layer_._0/intermediate/dense/bias:0', 'tf_bert_model_22/bert/encoder/layer_._0/output/dense/kernel:0', 'tf_bert_model_22/bert/encoder/layer_._0/output/dense/bias:0', 'tf_bert_model_22/bert/encoder/layer_._0/output/LayerNorm/gamma:0', 'tf_bert_model_22/bert/encoder/layer_._0/output/LayerNorm/beta:0', 'tf_bert_model_22/bert/encoder/layer_._1/attention/self/query/kernel:0', 'tf_bert_model_22/bert/encoder/layer_._1/attention/self/query/bias:0', 'tf_bert_model_22/bert/encoder/layer_._1/attention/self/key/kernel:0', 'tf_bert_model_22/bert/encoder/layer_._1/attention/self/key/bias:0', 'tf_bert_model_22/bert/encoder/layer_._1/attention/self/value/kernel:0', 'tf_bert_model_22/bert/encoder/layer_._1/attention/self/value/bias:0', 'tf_bert_model_22/bert/encoder/layer_._1/attention/output/dense/kernel:0', 'tf_bert_model_22/bert/encoder/layer_._1/attention/output/dense/bias:0', 'tf_bert_model_22/bert/encoder/layer_._1/attention/output/LayerNorm/gamma:0', 'tf_bert_model_22/bert/encoder/layer_._1/attention/output/LayerNorm/beta:0', 'tf_bert_model_22/bert/encoder/layer_._1/intermediate/dense/kernel:0', 'tf_bert_model_22/bert/encoder/layer_._1/intermediate/dense/bias:0', 'tf_bert_model_22/bert/encoder/layer_._1/output/dense/kernel:0', 'tf_bert_model_22/bert/encoder/layer_._1/output/dense/bias:0', 'tf_bert_model_22/bert/encoder/layer_._1/output/LayerNorm/gamma:0', 'tf_bert_model_22/bert/encoder/layer_._1/output/LayerNorm/beta:0', 'tf_bert_model_22/bert/encoder/layer_._2/attention/self/query/kernel:0', 'tf_bert_model_22/bert/encoder/layer_._2/attention/self/query/bias:0', 'tf_bert_model_22/bert/encoder/layer_._2/attention/self/key/kernel:0', 'tf_bert_model_22/bert/encoder/layer_._2/attention/self/key/bias:0', 'tf_bert_model_22/bert/encoder/layer_._2/attention/self/value/kernel:0', 'tf_bert_model_22/bert/encoder/layer_._2/attention/self/value/bias:0', 'tf_bert_model_22/bert/encoder/layer_._2/attention/output/dense/kernel:0', 'tf_bert_model_22/bert/encoder/layer_._2/attention/output/dense/bias:0', 'tf_bert_model_22/bert/encoder/layer_._2/attention/output/LayerNorm/gamma:0', 'tf_bert_model_22/bert/encoder/layer_._2/attention/output/LayerNorm/beta:0', 'tf_bert_model_22/bert/encoder/layer_._2/intermediate/dense/kernel:0', 'tf_bert_model_22/bert/encoder/layer_._2/intermediate/dense/bias:0', 'tf_bert_model_22/bert/encoder/layer_._2/output/dense/kernel:0', 'tf_bert_model_22/bert/encoder/layer_._2/output/dense/bias:0', 'tf_bert_model_22/bert/encoder/layer_._2/output/LayerNorm/gamma:0', 'tf_bert_model_22/bert/encoder/layer_._2/output/LayerNorm/beta:0', 'tf_bert_model_22/bert/encoder/layer_._3/attention/self/query/kernel:0', 'tf_bert_model_22/bert/encoder/layer_._3/attention/self/query/bias:0', 'tf_bert_model_22/bert/encoder/layer_._3/attention/self/key/kernel:0', 'tf_bert_model_22/bert/encoder/layer_._3/attention/self/key/bias:0', 'tf_bert_model_22/bert/encoder/layer_._3/attention/self/value/kernel:0', 'tf_bert_model_22/bert/encoder/layer_._3/attention/self/value/bias:0', 'tf_bert_model_22/bert/encoder/layer_._3/attention/output/dense/kernel:0', 'tf_bert_model_22/bert/encoder/layer_._3/attention/output/dense/bias:0', 'tf_bert_model_22/bert/encoder/layer_._3/attention/output/LayerNorm/gamma:0', 'tf_bert_model_22/bert/encoder/layer_._3/attention/output/LayerNorm/beta:0', 'tf_bert_model_22/bert/encoder/layer_._3/intermediate/dense/kernel:0', 'tf_bert_model_22/bert/encoder/layer_._3/intermediate/dense/bias:0', 'tf_bert_model_22/bert/encoder/layer_._3/output/dense/kernel:0', 'tf_bert_model_22/bert/encoder/layer_._3/output/dense/bias:0', 'tf_bert_model_22/bert/encoder/layer_._3/output/LayerNorm/gamma:0', 'tf_bert_model_22/bert/encoder/layer_._3/output/LayerNorm/beta:0', 'tf_bert_model_22/bert/encoder/layer_._4/attention/self/query/kernel:0', 'tf_bert_model_22/bert/encoder/layer_._4/attention/self/query/bias:0', 'tf_bert_model_22/bert/encoder/layer_._4/attention/self/key/kernel:0', 'tf_bert_model_22/bert/encoder/layer_._4/attention/self/key/bias:0', 'tf_bert_model_22/bert/encoder/layer_._4/attention/self/value/kernel:0', 'tf_bert_model_22/bert/encoder/layer_._4/attention/self/value/bias:0', 'tf_bert_model_22/bert/encoder/layer_._4/attention/output/dense/kernel:0', 'tf_bert_model_22/bert/encoder/layer_._4/attention/output/dense/bias:0', 'tf_bert_model_22/bert/encoder/layer_._4/attention/output/LayerNorm/gamma:0', 'tf_bert_model_22/bert/encoder/layer_._4/attention/output/LayerNorm/beta:0', 'tf_bert_model_22/bert/encoder/layer_._4/intermediate/dense/kernel:0', 'tf_bert_model_22/bert/encoder/layer_._4/intermediate/dense/bias:0', 'tf_bert_model_22/bert/encoder/layer_._4/output/dense/kernel:0', 'tf_bert_model_22/bert/encoder/layer_._4/output/dense/bias:0', 'tf_bert_model_22/bert/encoder/layer_._4/output/LayerNorm/gamma:0', 'tf_bert_model_22/bert/encoder/layer_._4/output/LayerNorm/beta:0', 'tf_bert_model_22/bert/encoder/layer_._5/attention/self/query/kernel:0', 'tf_bert_model_22/bert/encoder/layer_._5/attention/self/query/bias:0', 'tf_bert_model_22/bert/encoder/layer_._5/attention/self/key/kernel:0', 'tf_bert_model_22/bert/encoder/layer_._5/attention/self/key/bias:0', 'tf_bert_model_22/bert/encoder/layer_._5/attention/self/value/kernel:0', 'tf_bert_model_22/bert/encoder/layer_._5/attention/self/value/bias:0', 'tf_bert_model_22/bert/encoder/layer_._5/attention/output/dense/kernel:0', 'tf_bert_model_22/bert/encoder/layer_._5/attention/output/dense/bias:0', 'tf_bert_model_22/bert/encoder/layer_._5/attention/output/LayerNorm/gamma:0', 'tf_bert_model_22/bert/encoder/layer_._5/attention/output/LayerNorm/beta:0', 'tf_bert_model_22/bert/encoder/layer_._5/intermediate/dense/kernel:0', 'tf_bert_model_22/bert/encoder/layer_._5/intermediate/dense/bias:0', 'tf_bert_model_22/bert/encoder/layer_._5/output/dense/kernel:0', 'tf_bert_model_22/bert/encoder/layer_._5/output/dense/bias:0', 'tf_bert_model_22/bert/encoder/layer_._5/output/LayerNorm/gamma:0', 'tf_bert_model_22/bert/encoder/layer_._5/output/LayerNorm/beta:0', 'tf_bert_model_22/bert/encoder/layer_._6/attention/self/query/kernel:0', 'tf_bert_model_22/bert/encoder/layer_._6/attention/self/query/bias:0', 'tf_bert_model_22/bert/encoder/layer_._6/attention/self/key/kernel:0', 'tf_bert_model_22/bert/encoder/layer_._6/attention/self/key/bias:0', 'tf_bert_model_22/bert/encoder/layer_._6/attention/self/value/kernel:0', 'tf_bert_model_22/bert/encoder/layer_._6/attention/self/value/bias:0', 'tf_bert_model_22/bert/encoder/layer_._6/attention/output/dense/kernel:0', 'tf_bert_model_22/bert/encoder/layer_._6/attention/output/dense/bias:0', 'tf_bert_model_22/bert/encoder/layer_._6/attention/output/LayerNorm/gamma:0', 'tf_bert_model_22/bert/encoder/layer_._6/attention/output/LayerNorm/beta:0', 'tf_bert_model_22/bert/encoder/layer_._6/intermediate/dense/kernel:0', 'tf_bert_model_22/bert/encoder/layer_._6/intermediate/dense/bias:0', 'tf_bert_model_22/bert/encoder/layer_._6/output/dense/kernel:0', 'tf_bert_model_22/bert/encoder/layer_._6/output/dense/bias:0', 'tf_bert_model_22/bert/encoder/layer_._6/output/LayerNorm/gamma:0', 'tf_bert_model_22/bert/encoder/layer_._6/output/LayerNorm/beta:0', 'tf_bert_model_22/bert/encoder/layer_._7/attention/self/query/kernel:0', 'tf_bert_model_22/bert/encoder/layer_._7/attention/self/query/bias:0', 'tf_bert_model_22/bert/encoder/layer_._7/attention/self/key/kernel:0', 'tf_bert_model_22/bert/encoder/layer_._7/attention/self/key/bias:0', 'tf_bert_model_22/bert/encoder/layer_._7/attention/self/value/kernel:0', 'tf_bert_model_22/bert/encoder/layer_._7/attention/self/value/bias:0', 'tf_bert_model_22/bert/encoder/layer_._7/attention/output/dense/kernel:0', 'tf_bert_model_22/bert/encoder/layer_._7/attention/output/dense/bias:0', 'tf_bert_model_22/bert/encoder/layer_._7/attention/output/LayerNorm/gamma:0', 'tf_bert_model_22/bert/encoder/layer_._7/attention/output/LayerNorm/beta:0', 'tf_bert_model_22/bert/encoder/layer_._7/intermediate/dense/kernel:0', 'tf_bert_model_22/bert/encoder/layer_._7/intermediate/dense/bias:0', 'tf_bert_model_22/bert/encoder/layer_._7/output/dense/kernel:0', 'tf_bert_model_22/bert/encoder/layer_._7/output/dense/bias:0', 'tf_bert_model_22/bert/encoder/layer_._7/output/LayerNorm/gamma:0', 'tf_bert_model_22/bert/encoder/layer_._7/output/LayerNorm/beta:0', 'tf_bert_model_22/bert/encoder/layer_._8/attention/self/query/kernel:0', 'tf_bert_model_22/bert/encoder/layer_._8/attention/self/query/bias:0', 'tf_bert_model_22/bert/encoder/layer_._8/attention/self/key/kernel:0', 'tf_bert_model_22/bert/encoder/layer_._8/attention/self/key/bias:0', 'tf_bert_model_22/bert/encoder/layer_._8/attention/self/value/kernel:0', 'tf_bert_model_22/bert/encoder/layer_._8/attention/self/value/bias:0', 'tf_bert_model_22/bert/encoder/layer_._8/attention/output/dense/kernel:0', 'tf_bert_model_22/bert/encoder/layer_._8/attention/output/dense/bias:0', 'tf_bert_model_22/bert/encoder/layer_._8/attention/output/LayerNorm/gamma:0', 'tf_bert_model_22/bert/encoder/layer_._8/attention/output/LayerNorm/beta:0', 'tf_bert_model_22/bert/encoder/layer_._8/intermediate/dense/kernel:0', 'tf_bert_model_22/bert/encoder/layer_._8/intermediate/dense/bias:0', 'tf_bert_model_22/bert/encoder/layer_._8/output/dense/kernel:0', 'tf_bert_model_22/bert/encoder/layer_._8/output/dense/bias:0', 'tf_bert_model_22/bert/encoder/layer_._8/output/LayerNorm/gamma:0', 'tf_bert_model_22/bert/encoder/layer_._8/output/LayerNorm/beta:0', 'tf_bert_model_22/bert/encoder/layer_._9/attention/self/query/kernel:0', 'tf_bert_model_22/bert/encoder/layer_._9/attention/self/query/bias:0', 'tf_bert_model_22/bert/encoder/layer_._9/attention/self/key/kernel:0', 'tf_bert_model_22/bert/encoder/layer_._9/attention/self/key/bias:0', 'tf_bert_model_22/bert/encoder/layer_._9/attention/self/value/kernel:0', 'tf_bert_model_22/bert/encoder/layer_._9/attention/self/value/bias:0', 'tf_bert_model_22/bert/encoder/layer_._9/attention/output/dense/kernel:0', 'tf_bert_model_22/bert/encoder/layer_._9/attention/output/dense/bias:0', 'tf_bert_model_22/bert/encoder/layer_._9/attention/output/LayerNorm/gamma:0', 'tf_bert_model_22/bert/encoder/layer_._9/attention/output/LayerNorm/beta:0', 'tf_bert_model_22/bert/encoder/layer_._9/intermediate/dense/kernel:0', 'tf_bert_model_22/bert/encoder/layer_._9/intermediate/dense/bias:0', 'tf_bert_model_22/bert/encoder/layer_._9/output/dense/kernel:0', 'tf_bert_model_22/bert/encoder/layer_._9/output/dense/bias:0', 'tf_bert_model_22/bert/encoder/layer_._9/output/LayerNorm/gamma:0', 'tf_bert_model_22/bert/encoder/layer_._9/output/LayerNorm/beta:0', 'tf_bert_model_22/bert/encoder/layer_._10/attention/self/query/kernel:0', 'tf_bert_model_22/bert/encoder/layer_._10/attention/self/query/bias:0', 'tf_bert_model_22/bert/encoder/layer_._10/attention/self/key/kernel:0', 'tf_bert_model_22/bert/encoder/layer_._10/attention/self/key/bias:0', 'tf_bert_model_22/bert/encoder/layer_._10/attention/self/value/kernel:0', 'tf_bert_model_22/bert/encoder/layer_._10/attention/self/value/bias:0', 'tf_bert_model_22/bert/encoder/layer_._10/attention/output/dense/kernel:0', 'tf_bert_model_22/bert/encoder/layer_._10/attention/output/dense/bias:0', 'tf_bert_model_22/bert/encoder/layer_._10/attention/output/LayerNorm/gamma:0', 'tf_bert_model_22/bert/encoder/layer_._10/attention/output/LayerNorm/beta:0', 'tf_bert_model_22/bert/encoder/layer_._10/intermediate/dense/kernel:0', 'tf_bert_model_22/bert/encoder/layer_._10/intermediate/dense/bias:0', 'tf_bert_model_22/bert/encoder/layer_._10/output/dense/kernel:0', 'tf_bert_model_22/bert/encoder/layer_._10/output/dense/bias:0', 'tf_bert_model_22/bert/encoder/layer_._10/output/LayerNorm/gamma:0', 'tf_bert_model_22/bert/encoder/layer_._10/output/LayerNorm/beta:0', 'tf_bert_model_22/bert/pooler/dense/kernel:0', 'tf_bert_model_22/bert/pooler/dense/bias:0'] when minimizing the loss. If you're using `model.compile()`, did you forget to provide a `loss`argument?\n",
            "WARNING:tensorflow:Gradients do not exist for variables ['tf_bert_model_22/bert/embeddings/word_embeddings/weight:0', 'tf_bert_model_22/bert/embeddings/token_type_embeddings/embeddings:0', 'tf_bert_model_22/bert/embeddings/position_embeddings/embeddings:0', 'tf_bert_model_22/bert/embeddings/LayerNorm/gamma:0', 'tf_bert_model_22/bert/embeddings/LayerNorm/beta:0', 'tf_bert_model_22/bert/encoder/layer_._0/attention/self/query/kernel:0', 'tf_bert_model_22/bert/encoder/layer_._0/attention/self/query/bias:0', 'tf_bert_model_22/bert/encoder/layer_._0/attention/self/key/kernel:0', 'tf_bert_model_22/bert/encoder/layer_._0/attention/self/key/bias:0', 'tf_bert_model_22/bert/encoder/layer_._0/attention/self/value/kernel:0', 'tf_bert_model_22/bert/encoder/layer_._0/attention/self/value/bias:0', 'tf_bert_model_22/bert/encoder/layer_._0/attention/output/dense/kernel:0', 'tf_bert_model_22/bert/encoder/layer_._0/attention/output/dense/bias:0', 'tf_bert_model_22/bert/encoder/layer_._0/attention/output/LayerNorm/gamma:0', 'tf_bert_model_22/bert/encoder/layer_._0/attention/output/LayerNorm/beta:0', 'tf_bert_model_22/bert/encoder/layer_._0/intermediate/dense/kernel:0', 'tf_bert_model_22/bert/encoder/layer_._0/intermediate/dense/bias:0', 'tf_bert_model_22/bert/encoder/layer_._0/output/dense/kernel:0', 'tf_bert_model_22/bert/encoder/layer_._0/output/dense/bias:0', 'tf_bert_model_22/bert/encoder/layer_._0/output/LayerNorm/gamma:0', 'tf_bert_model_22/bert/encoder/layer_._0/output/LayerNorm/beta:0', 'tf_bert_model_22/bert/encoder/layer_._1/attention/self/query/kernel:0', 'tf_bert_model_22/bert/encoder/layer_._1/attention/self/query/bias:0', 'tf_bert_model_22/bert/encoder/layer_._1/attention/self/key/kernel:0', 'tf_bert_model_22/bert/encoder/layer_._1/attention/self/key/bias:0', 'tf_bert_model_22/bert/encoder/layer_._1/attention/self/value/kernel:0', 'tf_bert_model_22/bert/encoder/layer_._1/attention/self/value/bias:0', 'tf_bert_model_22/bert/encoder/layer_._1/attention/output/dense/kernel:0', 'tf_bert_model_22/bert/encoder/layer_._1/attention/output/dense/bias:0', 'tf_bert_model_22/bert/encoder/layer_._1/attention/output/LayerNorm/gamma:0', 'tf_bert_model_22/bert/encoder/layer_._1/attention/output/LayerNorm/beta:0', 'tf_bert_model_22/bert/encoder/layer_._1/intermediate/dense/kernel:0', 'tf_bert_model_22/bert/encoder/layer_._1/intermediate/dense/bias:0', 'tf_bert_model_22/bert/encoder/layer_._1/output/dense/kernel:0', 'tf_bert_model_22/bert/encoder/layer_._1/output/dense/bias:0', 'tf_bert_model_22/bert/encoder/layer_._1/output/LayerNorm/gamma:0', 'tf_bert_model_22/bert/encoder/layer_._1/output/LayerNorm/beta:0', 'tf_bert_model_22/bert/encoder/layer_._2/attention/self/query/kernel:0', 'tf_bert_model_22/bert/encoder/layer_._2/attention/self/query/bias:0', 'tf_bert_model_22/bert/encoder/layer_._2/attention/self/key/kernel:0', 'tf_bert_model_22/bert/encoder/layer_._2/attention/self/key/bias:0', 'tf_bert_model_22/bert/encoder/layer_._2/attention/self/value/kernel:0', 'tf_bert_model_22/bert/encoder/layer_._2/attention/self/value/bias:0', 'tf_bert_model_22/bert/encoder/layer_._2/attention/output/dense/kernel:0', 'tf_bert_model_22/bert/encoder/layer_._2/attention/output/dense/bias:0', 'tf_bert_model_22/bert/encoder/layer_._2/attention/output/LayerNorm/gamma:0', 'tf_bert_model_22/bert/encoder/layer_._2/attention/output/LayerNorm/beta:0', 'tf_bert_model_22/bert/encoder/layer_._2/intermediate/dense/kernel:0', 'tf_bert_model_22/bert/encoder/layer_._2/intermediate/dense/bias:0', 'tf_bert_model_22/bert/encoder/layer_._2/output/dense/kernel:0', 'tf_bert_model_22/bert/encoder/layer_._2/output/dense/bias:0', 'tf_bert_model_22/bert/encoder/layer_._2/output/LayerNorm/gamma:0', 'tf_bert_model_22/bert/encoder/layer_._2/output/LayerNorm/beta:0', 'tf_bert_model_22/bert/encoder/layer_._3/attention/self/query/kernel:0', 'tf_bert_model_22/bert/encoder/layer_._3/attention/self/query/bias:0', 'tf_bert_model_22/bert/encoder/layer_._3/attention/self/key/kernel:0', 'tf_bert_model_22/bert/encoder/layer_._3/attention/self/key/bias:0', 'tf_bert_model_22/bert/encoder/layer_._3/attention/self/value/kernel:0', 'tf_bert_model_22/bert/encoder/layer_._3/attention/self/value/bias:0', 'tf_bert_model_22/bert/encoder/layer_._3/attention/output/dense/kernel:0', 'tf_bert_model_22/bert/encoder/layer_._3/attention/output/dense/bias:0', 'tf_bert_model_22/bert/encoder/layer_._3/attention/output/LayerNorm/gamma:0', 'tf_bert_model_22/bert/encoder/layer_._3/attention/output/LayerNorm/beta:0', 'tf_bert_model_22/bert/encoder/layer_._3/intermediate/dense/kernel:0', 'tf_bert_model_22/bert/encoder/layer_._3/intermediate/dense/bias:0', 'tf_bert_model_22/bert/encoder/layer_._3/output/dense/kernel:0', 'tf_bert_model_22/bert/encoder/layer_._3/output/dense/bias:0', 'tf_bert_model_22/bert/encoder/layer_._3/output/LayerNorm/gamma:0', 'tf_bert_model_22/bert/encoder/layer_._3/output/LayerNorm/beta:0', 'tf_bert_model_22/bert/encoder/layer_._4/attention/self/query/kernel:0', 'tf_bert_model_22/bert/encoder/layer_._4/attention/self/query/bias:0', 'tf_bert_model_22/bert/encoder/layer_._4/attention/self/key/kernel:0', 'tf_bert_model_22/bert/encoder/layer_._4/attention/self/key/bias:0', 'tf_bert_model_22/bert/encoder/layer_._4/attention/self/value/kernel:0', 'tf_bert_model_22/bert/encoder/layer_._4/attention/self/value/bias:0', 'tf_bert_model_22/bert/encoder/layer_._4/attention/output/dense/kernel:0', 'tf_bert_model_22/bert/encoder/layer_._4/attention/output/dense/bias:0', 'tf_bert_model_22/bert/encoder/layer_._4/attention/output/LayerNorm/gamma:0', 'tf_bert_model_22/bert/encoder/layer_._4/attention/output/LayerNorm/beta:0', 'tf_bert_model_22/bert/encoder/layer_._4/intermediate/dense/kernel:0', 'tf_bert_model_22/bert/encoder/layer_._4/intermediate/dense/bias:0', 'tf_bert_model_22/bert/encoder/layer_._4/output/dense/kernel:0', 'tf_bert_model_22/bert/encoder/layer_._4/output/dense/bias:0', 'tf_bert_model_22/bert/encoder/layer_._4/output/LayerNorm/gamma:0', 'tf_bert_model_22/bert/encoder/layer_._4/output/LayerNorm/beta:0', 'tf_bert_model_22/bert/encoder/layer_._5/attention/self/query/kernel:0', 'tf_bert_model_22/bert/encoder/layer_._5/attention/self/query/bias:0', 'tf_bert_model_22/bert/encoder/layer_._5/attention/self/key/kernel:0', 'tf_bert_model_22/bert/encoder/layer_._5/attention/self/key/bias:0', 'tf_bert_model_22/bert/encoder/layer_._5/attention/self/value/kernel:0', 'tf_bert_model_22/bert/encoder/layer_._5/attention/self/value/bias:0', 'tf_bert_model_22/bert/encoder/layer_._5/attention/output/dense/kernel:0', 'tf_bert_model_22/bert/encoder/layer_._5/attention/output/dense/bias:0', 'tf_bert_model_22/bert/encoder/layer_._5/attention/output/LayerNorm/gamma:0', 'tf_bert_model_22/bert/encoder/layer_._5/attention/output/LayerNorm/beta:0', 'tf_bert_model_22/bert/encoder/layer_._5/intermediate/dense/kernel:0', 'tf_bert_model_22/bert/encoder/layer_._5/intermediate/dense/bias:0', 'tf_bert_model_22/bert/encoder/layer_._5/output/dense/kernel:0', 'tf_bert_model_22/bert/encoder/layer_._5/output/dense/bias:0', 'tf_bert_model_22/bert/encoder/layer_._5/output/LayerNorm/gamma:0', 'tf_bert_model_22/bert/encoder/layer_._5/output/LayerNorm/beta:0', 'tf_bert_model_22/bert/encoder/layer_._6/attention/self/query/kernel:0', 'tf_bert_model_22/bert/encoder/layer_._6/attention/self/query/bias:0', 'tf_bert_model_22/bert/encoder/layer_._6/attention/self/key/kernel:0', 'tf_bert_model_22/bert/encoder/layer_._6/attention/self/key/bias:0', 'tf_bert_model_22/bert/encoder/layer_._6/attention/self/value/kernel:0', 'tf_bert_model_22/bert/encoder/layer_._6/attention/self/value/bias:0', 'tf_bert_model_22/bert/encoder/layer_._6/attention/output/dense/kernel:0', 'tf_bert_model_22/bert/encoder/layer_._6/attention/output/dense/bias:0', 'tf_bert_model_22/bert/encoder/layer_._6/attention/output/LayerNorm/gamma:0', 'tf_bert_model_22/bert/encoder/layer_._6/attention/output/LayerNorm/beta:0', 'tf_bert_model_22/bert/encoder/layer_._6/intermediate/dense/kernel:0', 'tf_bert_model_22/bert/encoder/layer_._6/intermediate/dense/bias:0', 'tf_bert_model_22/bert/encoder/layer_._6/output/dense/kernel:0', 'tf_bert_model_22/bert/encoder/layer_._6/output/dense/bias:0', 'tf_bert_model_22/bert/encoder/layer_._6/output/LayerNorm/gamma:0', 'tf_bert_model_22/bert/encoder/layer_._6/output/LayerNorm/beta:0', 'tf_bert_model_22/bert/encoder/layer_._7/attention/self/query/kernel:0', 'tf_bert_model_22/bert/encoder/layer_._7/attention/self/query/bias:0', 'tf_bert_model_22/bert/encoder/layer_._7/attention/self/key/kernel:0', 'tf_bert_model_22/bert/encoder/layer_._7/attention/self/key/bias:0', 'tf_bert_model_22/bert/encoder/layer_._7/attention/self/value/kernel:0', 'tf_bert_model_22/bert/encoder/layer_._7/attention/self/value/bias:0', 'tf_bert_model_22/bert/encoder/layer_._7/attention/output/dense/kernel:0', 'tf_bert_model_22/bert/encoder/layer_._7/attention/output/dense/bias:0', 'tf_bert_model_22/bert/encoder/layer_._7/attention/output/LayerNorm/gamma:0', 'tf_bert_model_22/bert/encoder/layer_._7/attention/output/LayerNorm/beta:0', 'tf_bert_model_22/bert/encoder/layer_._7/intermediate/dense/kernel:0', 'tf_bert_model_22/bert/encoder/layer_._7/intermediate/dense/bias:0', 'tf_bert_model_22/bert/encoder/layer_._7/output/dense/kernel:0', 'tf_bert_model_22/bert/encoder/layer_._7/output/dense/bias:0', 'tf_bert_model_22/bert/encoder/layer_._7/output/LayerNorm/gamma:0', 'tf_bert_model_22/bert/encoder/layer_._7/output/LayerNorm/beta:0', 'tf_bert_model_22/bert/encoder/layer_._8/attention/self/query/kernel:0', 'tf_bert_model_22/bert/encoder/layer_._8/attention/self/query/bias:0', 'tf_bert_model_22/bert/encoder/layer_._8/attention/self/key/kernel:0', 'tf_bert_model_22/bert/encoder/layer_._8/attention/self/key/bias:0', 'tf_bert_model_22/bert/encoder/layer_._8/attention/self/value/kernel:0', 'tf_bert_model_22/bert/encoder/layer_._8/attention/self/value/bias:0', 'tf_bert_model_22/bert/encoder/layer_._8/attention/output/dense/kernel:0', 'tf_bert_model_22/bert/encoder/layer_._8/attention/output/dense/bias:0', 'tf_bert_model_22/bert/encoder/layer_._8/attention/output/LayerNorm/gamma:0', 'tf_bert_model_22/bert/encoder/layer_._8/attention/output/LayerNorm/beta:0', 'tf_bert_model_22/bert/encoder/layer_._8/intermediate/dense/kernel:0', 'tf_bert_model_22/bert/encoder/layer_._8/intermediate/dense/bias:0', 'tf_bert_model_22/bert/encoder/layer_._8/output/dense/kernel:0', 'tf_bert_model_22/bert/encoder/layer_._8/output/dense/bias:0', 'tf_bert_model_22/bert/encoder/layer_._8/output/LayerNorm/gamma:0', 'tf_bert_model_22/bert/encoder/layer_._8/output/LayerNorm/beta:0', 'tf_bert_model_22/bert/encoder/layer_._9/attention/self/query/kernel:0', 'tf_bert_model_22/bert/encoder/layer_._9/attention/self/query/bias:0', 'tf_bert_model_22/bert/encoder/layer_._9/attention/self/key/kernel:0', 'tf_bert_model_22/bert/encoder/layer_._9/attention/self/key/bias:0', 'tf_bert_model_22/bert/encoder/layer_._9/attention/self/value/kernel:0', 'tf_bert_model_22/bert/encoder/layer_._9/attention/self/value/bias:0', 'tf_bert_model_22/bert/encoder/layer_._9/attention/output/dense/kernel:0', 'tf_bert_model_22/bert/encoder/layer_._9/attention/output/dense/bias:0', 'tf_bert_model_22/bert/encoder/layer_._9/attention/output/LayerNorm/gamma:0', 'tf_bert_model_22/bert/encoder/layer_._9/attention/output/LayerNorm/beta:0', 'tf_bert_model_22/bert/encoder/layer_._9/intermediate/dense/kernel:0', 'tf_bert_model_22/bert/encoder/layer_._9/intermediate/dense/bias:0', 'tf_bert_model_22/bert/encoder/layer_._9/output/dense/kernel:0', 'tf_bert_model_22/bert/encoder/layer_._9/output/dense/bias:0', 'tf_bert_model_22/bert/encoder/layer_._9/output/LayerNorm/gamma:0', 'tf_bert_model_22/bert/encoder/layer_._9/output/LayerNorm/beta:0', 'tf_bert_model_22/bert/encoder/layer_._10/attention/self/query/kernel:0', 'tf_bert_model_22/bert/encoder/layer_._10/attention/self/query/bias:0', 'tf_bert_model_22/bert/encoder/layer_._10/attention/self/key/kernel:0', 'tf_bert_model_22/bert/encoder/layer_._10/attention/self/key/bias:0', 'tf_bert_model_22/bert/encoder/layer_._10/attention/self/value/kernel:0', 'tf_bert_model_22/bert/encoder/layer_._10/attention/self/value/bias:0', 'tf_bert_model_22/bert/encoder/layer_._10/attention/output/dense/kernel:0', 'tf_bert_model_22/bert/encoder/layer_._10/attention/output/dense/bias:0', 'tf_bert_model_22/bert/encoder/layer_._10/attention/output/LayerNorm/gamma:0', 'tf_bert_model_22/bert/encoder/layer_._10/attention/output/LayerNorm/beta:0', 'tf_bert_model_22/bert/encoder/layer_._10/intermediate/dense/kernel:0', 'tf_bert_model_22/bert/encoder/layer_._10/intermediate/dense/bias:0', 'tf_bert_model_22/bert/encoder/layer_._10/output/dense/kernel:0', 'tf_bert_model_22/bert/encoder/layer_._10/output/dense/bias:0', 'tf_bert_model_22/bert/encoder/layer_._10/output/LayerNorm/gamma:0', 'tf_bert_model_22/bert/encoder/layer_._10/output/LayerNorm/beta:0', 'tf_bert_model_22/bert/pooler/dense/kernel:0', 'tf_bert_model_22/bert/pooler/dense/bias:0'] when minimizing the loss. If you're using `model.compile()`, did you forget to provide a `loss`argument?\n",
            "489/489 [==============================] - 30s 47ms/step - loss: 0.0827 - accuracy: 0.9719 - val_loss: 0.0514 - val_accuracy: 0.9845\n",
            "Epoch 2/3\n",
            "489/489 [==============================] - 20s 42ms/step - loss: 0.0319 - accuracy: 0.9893 - val_loss: 0.0606 - val_accuracy: 0.9861\n",
            "Epoch 3/3\n",
            "489/489 [==============================] - 20s 41ms/step - loss: 0.0192 - accuracy: 0.9936 - val_loss: 0.0593 - val_accuracy: 0.9877\n",
            "BERT 3e + CNN kernel un 160, train: accuracy = 0.9990, precision = 1.0000, recall = 0.9950, f1 = 0.9975\n",
            "validation: accuracy = 0.9908, precision = 0.9952, recall = 0.9626, f1 = 0.9786\n"
          ]
        },
        {
          "output_type": "stream",
          "name": "stderr",
          "text": [
            "Some layers from the model checkpoint at bert-base-cased were not used when initializing TFBertModel: ['nsp___cls', 'mlm___cls']\n",
            "- This IS expected if you are initializing TFBertModel from the checkpoint of a model trained on another task or with another architecture (e.g. initializing a BertForSequenceClassification model from a BertForPreTraining model).\n",
            "- This IS NOT expected if you are initializing TFBertModel from the checkpoint of a model that you expect to be exactly identical (initializing a BertForSequenceClassification model from a BertForSequenceClassification model).\n",
            "All the layers of TFBertModel were initialized from the model checkpoint at bert-base-cased.\n",
            "If your task is similar to the task the model of the checkpoint was trained on, you can already use TFBertModel for predictions without further training.\n"
          ]
        },
        {
          "output_type": "stream",
          "name": "stdout",
          "text": [
            "Epoch 1/3\n",
            "WARNING:tensorflow:Gradients do not exist for variables ['tf_bert_model_23/bert/embeddings/word_embeddings/weight:0', 'tf_bert_model_23/bert/embeddings/token_type_embeddings/embeddings:0', 'tf_bert_model_23/bert/embeddings/position_embeddings/embeddings:0', 'tf_bert_model_23/bert/embeddings/LayerNorm/gamma:0', 'tf_bert_model_23/bert/embeddings/LayerNorm/beta:0', 'tf_bert_model_23/bert/encoder/layer_._0/attention/self/query/kernel:0', 'tf_bert_model_23/bert/encoder/layer_._0/attention/self/query/bias:0', 'tf_bert_model_23/bert/encoder/layer_._0/attention/self/key/kernel:0', 'tf_bert_model_23/bert/encoder/layer_._0/attention/self/key/bias:0', 'tf_bert_model_23/bert/encoder/layer_._0/attention/self/value/kernel:0', 'tf_bert_model_23/bert/encoder/layer_._0/attention/self/value/bias:0', 'tf_bert_model_23/bert/encoder/layer_._0/attention/output/dense/kernel:0', 'tf_bert_model_23/bert/encoder/layer_._0/attention/output/dense/bias:0', 'tf_bert_model_23/bert/encoder/layer_._0/attention/output/LayerNorm/gamma:0', 'tf_bert_model_23/bert/encoder/layer_._0/attention/output/LayerNorm/beta:0', 'tf_bert_model_23/bert/encoder/layer_._0/intermediate/dense/kernel:0', 'tf_bert_model_23/bert/encoder/layer_._0/intermediate/dense/bias:0', 'tf_bert_model_23/bert/encoder/layer_._0/output/dense/kernel:0', 'tf_bert_model_23/bert/encoder/layer_._0/output/dense/bias:0', 'tf_bert_model_23/bert/encoder/layer_._0/output/LayerNorm/gamma:0', 'tf_bert_model_23/bert/encoder/layer_._0/output/LayerNorm/beta:0', 'tf_bert_model_23/bert/encoder/layer_._1/attention/self/query/kernel:0', 'tf_bert_model_23/bert/encoder/layer_._1/attention/self/query/bias:0', 'tf_bert_model_23/bert/encoder/layer_._1/attention/self/key/kernel:0', 'tf_bert_model_23/bert/encoder/layer_._1/attention/self/key/bias:0', 'tf_bert_model_23/bert/encoder/layer_._1/attention/self/value/kernel:0', 'tf_bert_model_23/bert/encoder/layer_._1/attention/self/value/bias:0', 'tf_bert_model_23/bert/encoder/layer_._1/attention/output/dense/kernel:0', 'tf_bert_model_23/bert/encoder/layer_._1/attention/output/dense/bias:0', 'tf_bert_model_23/bert/encoder/layer_._1/attention/output/LayerNorm/gamma:0', 'tf_bert_model_23/bert/encoder/layer_._1/attention/output/LayerNorm/beta:0', 'tf_bert_model_23/bert/encoder/layer_._1/intermediate/dense/kernel:0', 'tf_bert_model_23/bert/encoder/layer_._1/intermediate/dense/bias:0', 'tf_bert_model_23/bert/encoder/layer_._1/output/dense/kernel:0', 'tf_bert_model_23/bert/encoder/layer_._1/output/dense/bias:0', 'tf_bert_model_23/bert/encoder/layer_._1/output/LayerNorm/gamma:0', 'tf_bert_model_23/bert/encoder/layer_._1/output/LayerNorm/beta:0', 'tf_bert_model_23/bert/encoder/layer_._2/attention/self/query/kernel:0', 'tf_bert_model_23/bert/encoder/layer_._2/attention/self/query/bias:0', 'tf_bert_model_23/bert/encoder/layer_._2/attention/self/key/kernel:0', 'tf_bert_model_23/bert/encoder/layer_._2/attention/self/key/bias:0', 'tf_bert_model_23/bert/encoder/layer_._2/attention/self/value/kernel:0', 'tf_bert_model_23/bert/encoder/layer_._2/attention/self/value/bias:0', 'tf_bert_model_23/bert/encoder/layer_._2/attention/output/dense/kernel:0', 'tf_bert_model_23/bert/encoder/layer_._2/attention/output/dense/bias:0', 'tf_bert_model_23/bert/encoder/layer_._2/attention/output/LayerNorm/gamma:0', 'tf_bert_model_23/bert/encoder/layer_._2/attention/output/LayerNorm/beta:0', 'tf_bert_model_23/bert/encoder/layer_._2/intermediate/dense/kernel:0', 'tf_bert_model_23/bert/encoder/layer_._2/intermediate/dense/bias:0', 'tf_bert_model_23/bert/encoder/layer_._2/output/dense/kernel:0', 'tf_bert_model_23/bert/encoder/layer_._2/output/dense/bias:0', 'tf_bert_model_23/bert/encoder/layer_._2/output/LayerNorm/gamma:0', 'tf_bert_model_23/bert/encoder/layer_._2/output/LayerNorm/beta:0', 'tf_bert_model_23/bert/encoder/layer_._3/attention/self/query/kernel:0', 'tf_bert_model_23/bert/encoder/layer_._3/attention/self/query/bias:0', 'tf_bert_model_23/bert/encoder/layer_._3/attention/self/key/kernel:0', 'tf_bert_model_23/bert/encoder/layer_._3/attention/self/key/bias:0', 'tf_bert_model_23/bert/encoder/layer_._3/attention/self/value/kernel:0', 'tf_bert_model_23/bert/encoder/layer_._3/attention/self/value/bias:0', 'tf_bert_model_23/bert/encoder/layer_._3/attention/output/dense/kernel:0', 'tf_bert_model_23/bert/encoder/layer_._3/attention/output/dense/bias:0', 'tf_bert_model_23/bert/encoder/layer_._3/attention/output/LayerNorm/gamma:0', 'tf_bert_model_23/bert/encoder/layer_._3/attention/output/LayerNorm/beta:0', 'tf_bert_model_23/bert/encoder/layer_._3/intermediate/dense/kernel:0', 'tf_bert_model_23/bert/encoder/layer_._3/intermediate/dense/bias:0', 'tf_bert_model_23/bert/encoder/layer_._3/output/dense/kernel:0', 'tf_bert_model_23/bert/encoder/layer_._3/output/dense/bias:0', 'tf_bert_model_23/bert/encoder/layer_._3/output/LayerNorm/gamma:0', 'tf_bert_model_23/bert/encoder/layer_._3/output/LayerNorm/beta:0', 'tf_bert_model_23/bert/encoder/layer_._4/attention/self/query/kernel:0', 'tf_bert_model_23/bert/encoder/layer_._4/attention/self/query/bias:0', 'tf_bert_model_23/bert/encoder/layer_._4/attention/self/key/kernel:0', 'tf_bert_model_23/bert/encoder/layer_._4/attention/self/key/bias:0', 'tf_bert_model_23/bert/encoder/layer_._4/attention/self/value/kernel:0', 'tf_bert_model_23/bert/encoder/layer_._4/attention/self/value/bias:0', 'tf_bert_model_23/bert/encoder/layer_._4/attention/output/dense/kernel:0', 'tf_bert_model_23/bert/encoder/layer_._4/attention/output/dense/bias:0', 'tf_bert_model_23/bert/encoder/layer_._4/attention/output/LayerNorm/gamma:0', 'tf_bert_model_23/bert/encoder/layer_._4/attention/output/LayerNorm/beta:0', 'tf_bert_model_23/bert/encoder/layer_._4/intermediate/dense/kernel:0', 'tf_bert_model_23/bert/encoder/layer_._4/intermediate/dense/bias:0', 'tf_bert_model_23/bert/encoder/layer_._4/output/dense/kernel:0', 'tf_bert_model_23/bert/encoder/layer_._4/output/dense/bias:0', 'tf_bert_model_23/bert/encoder/layer_._4/output/LayerNorm/gamma:0', 'tf_bert_model_23/bert/encoder/layer_._4/output/LayerNorm/beta:0', 'tf_bert_model_23/bert/encoder/layer_._5/attention/self/query/kernel:0', 'tf_bert_model_23/bert/encoder/layer_._5/attention/self/query/bias:0', 'tf_bert_model_23/bert/encoder/layer_._5/attention/self/key/kernel:0', 'tf_bert_model_23/bert/encoder/layer_._5/attention/self/key/bias:0', 'tf_bert_model_23/bert/encoder/layer_._5/attention/self/value/kernel:0', 'tf_bert_model_23/bert/encoder/layer_._5/attention/self/value/bias:0', 'tf_bert_model_23/bert/encoder/layer_._5/attention/output/dense/kernel:0', 'tf_bert_model_23/bert/encoder/layer_._5/attention/output/dense/bias:0', 'tf_bert_model_23/bert/encoder/layer_._5/attention/output/LayerNorm/gamma:0', 'tf_bert_model_23/bert/encoder/layer_._5/attention/output/LayerNorm/beta:0', 'tf_bert_model_23/bert/encoder/layer_._5/intermediate/dense/kernel:0', 'tf_bert_model_23/bert/encoder/layer_._5/intermediate/dense/bias:0', 'tf_bert_model_23/bert/encoder/layer_._5/output/dense/kernel:0', 'tf_bert_model_23/bert/encoder/layer_._5/output/dense/bias:0', 'tf_bert_model_23/bert/encoder/layer_._5/output/LayerNorm/gamma:0', 'tf_bert_model_23/bert/encoder/layer_._5/output/LayerNorm/beta:0', 'tf_bert_model_23/bert/encoder/layer_._6/attention/self/query/kernel:0', 'tf_bert_model_23/bert/encoder/layer_._6/attention/self/query/bias:0', 'tf_bert_model_23/bert/encoder/layer_._6/attention/self/key/kernel:0', 'tf_bert_model_23/bert/encoder/layer_._6/attention/self/key/bias:0', 'tf_bert_model_23/bert/encoder/layer_._6/attention/self/value/kernel:0', 'tf_bert_model_23/bert/encoder/layer_._6/attention/self/value/bias:0', 'tf_bert_model_23/bert/encoder/layer_._6/attention/output/dense/kernel:0', 'tf_bert_model_23/bert/encoder/layer_._6/attention/output/dense/bias:0', 'tf_bert_model_23/bert/encoder/layer_._6/attention/output/LayerNorm/gamma:0', 'tf_bert_model_23/bert/encoder/layer_._6/attention/output/LayerNorm/beta:0', 'tf_bert_model_23/bert/encoder/layer_._6/intermediate/dense/kernel:0', 'tf_bert_model_23/bert/encoder/layer_._6/intermediate/dense/bias:0', 'tf_bert_model_23/bert/encoder/layer_._6/output/dense/kernel:0', 'tf_bert_model_23/bert/encoder/layer_._6/output/dense/bias:0', 'tf_bert_model_23/bert/encoder/layer_._6/output/LayerNorm/gamma:0', 'tf_bert_model_23/bert/encoder/layer_._6/output/LayerNorm/beta:0', 'tf_bert_model_23/bert/encoder/layer_._7/attention/self/query/kernel:0', 'tf_bert_model_23/bert/encoder/layer_._7/attention/self/query/bias:0', 'tf_bert_model_23/bert/encoder/layer_._7/attention/self/key/kernel:0', 'tf_bert_model_23/bert/encoder/layer_._7/attention/self/key/bias:0', 'tf_bert_model_23/bert/encoder/layer_._7/attention/self/value/kernel:0', 'tf_bert_model_23/bert/encoder/layer_._7/attention/self/value/bias:0', 'tf_bert_model_23/bert/encoder/layer_._7/attention/output/dense/kernel:0', 'tf_bert_model_23/bert/encoder/layer_._7/attention/output/dense/bias:0', 'tf_bert_model_23/bert/encoder/layer_._7/attention/output/LayerNorm/gamma:0', 'tf_bert_model_23/bert/encoder/layer_._7/attention/output/LayerNorm/beta:0', 'tf_bert_model_23/bert/encoder/layer_._7/intermediate/dense/kernel:0', 'tf_bert_model_23/bert/encoder/layer_._7/intermediate/dense/bias:0', 'tf_bert_model_23/bert/encoder/layer_._7/output/dense/kernel:0', 'tf_bert_model_23/bert/encoder/layer_._7/output/dense/bias:0', 'tf_bert_model_23/bert/encoder/layer_._7/output/LayerNorm/gamma:0', 'tf_bert_model_23/bert/encoder/layer_._7/output/LayerNorm/beta:0', 'tf_bert_model_23/bert/encoder/layer_._8/attention/self/query/kernel:0', 'tf_bert_model_23/bert/encoder/layer_._8/attention/self/query/bias:0', 'tf_bert_model_23/bert/encoder/layer_._8/attention/self/key/kernel:0', 'tf_bert_model_23/bert/encoder/layer_._8/attention/self/key/bias:0', 'tf_bert_model_23/bert/encoder/layer_._8/attention/self/value/kernel:0', 'tf_bert_model_23/bert/encoder/layer_._8/attention/self/value/bias:0', 'tf_bert_model_23/bert/encoder/layer_._8/attention/output/dense/kernel:0', 'tf_bert_model_23/bert/encoder/layer_._8/attention/output/dense/bias:0', 'tf_bert_model_23/bert/encoder/layer_._8/attention/output/LayerNorm/gamma:0', 'tf_bert_model_23/bert/encoder/layer_._8/attention/output/LayerNorm/beta:0', 'tf_bert_model_23/bert/encoder/layer_._8/intermediate/dense/kernel:0', 'tf_bert_model_23/bert/encoder/layer_._8/intermediate/dense/bias:0', 'tf_bert_model_23/bert/encoder/layer_._8/output/dense/kernel:0', 'tf_bert_model_23/bert/encoder/layer_._8/output/dense/bias:0', 'tf_bert_model_23/bert/encoder/layer_._8/output/LayerNorm/gamma:0', 'tf_bert_model_23/bert/encoder/layer_._8/output/LayerNorm/beta:0', 'tf_bert_model_23/bert/encoder/layer_._9/attention/self/query/kernel:0', 'tf_bert_model_23/bert/encoder/layer_._9/attention/self/query/bias:0', 'tf_bert_model_23/bert/encoder/layer_._9/attention/self/key/kernel:0', 'tf_bert_model_23/bert/encoder/layer_._9/attention/self/key/bias:0', 'tf_bert_model_23/bert/encoder/layer_._9/attention/self/value/kernel:0', 'tf_bert_model_23/bert/encoder/layer_._9/attention/self/value/bias:0', 'tf_bert_model_23/bert/encoder/layer_._9/attention/output/dense/kernel:0', 'tf_bert_model_23/bert/encoder/layer_._9/attention/output/dense/bias:0', 'tf_bert_model_23/bert/encoder/layer_._9/attention/output/LayerNorm/gamma:0', 'tf_bert_model_23/bert/encoder/layer_._9/attention/output/LayerNorm/beta:0', 'tf_bert_model_23/bert/encoder/layer_._9/intermediate/dense/kernel:0', 'tf_bert_model_23/bert/encoder/layer_._9/intermediate/dense/bias:0', 'tf_bert_model_23/bert/encoder/layer_._9/output/dense/kernel:0', 'tf_bert_model_23/bert/encoder/layer_._9/output/dense/bias:0', 'tf_bert_model_23/bert/encoder/layer_._9/output/LayerNorm/gamma:0', 'tf_bert_model_23/bert/encoder/layer_._9/output/LayerNorm/beta:0', 'tf_bert_model_23/bert/encoder/layer_._10/attention/self/query/kernel:0', 'tf_bert_model_23/bert/encoder/layer_._10/attention/self/query/bias:0', 'tf_bert_model_23/bert/encoder/layer_._10/attention/self/key/kernel:0', 'tf_bert_model_23/bert/encoder/layer_._10/attention/self/key/bias:0', 'tf_bert_model_23/bert/encoder/layer_._10/attention/self/value/kernel:0', 'tf_bert_model_23/bert/encoder/layer_._10/attention/self/value/bias:0', 'tf_bert_model_23/bert/encoder/layer_._10/attention/output/dense/kernel:0', 'tf_bert_model_23/bert/encoder/layer_._10/attention/output/dense/bias:0', 'tf_bert_model_23/bert/encoder/layer_._10/attention/output/LayerNorm/gamma:0', 'tf_bert_model_23/bert/encoder/layer_._10/attention/output/LayerNorm/beta:0', 'tf_bert_model_23/bert/encoder/layer_._10/intermediate/dense/kernel:0', 'tf_bert_model_23/bert/encoder/layer_._10/intermediate/dense/bias:0', 'tf_bert_model_23/bert/encoder/layer_._10/output/dense/kernel:0', 'tf_bert_model_23/bert/encoder/layer_._10/output/dense/bias:0', 'tf_bert_model_23/bert/encoder/layer_._10/output/LayerNorm/gamma:0', 'tf_bert_model_23/bert/encoder/layer_._10/output/LayerNorm/beta:0', 'tf_bert_model_23/bert/pooler/dense/kernel:0', 'tf_bert_model_23/bert/pooler/dense/bias:0'] when minimizing the loss. If you're using `model.compile()`, did you forget to provide a `loss`argument?\n",
            "WARNING:tensorflow:Gradients do not exist for variables ['tf_bert_model_23/bert/embeddings/word_embeddings/weight:0', 'tf_bert_model_23/bert/embeddings/token_type_embeddings/embeddings:0', 'tf_bert_model_23/bert/embeddings/position_embeddings/embeddings:0', 'tf_bert_model_23/bert/embeddings/LayerNorm/gamma:0', 'tf_bert_model_23/bert/embeddings/LayerNorm/beta:0', 'tf_bert_model_23/bert/encoder/layer_._0/attention/self/query/kernel:0', 'tf_bert_model_23/bert/encoder/layer_._0/attention/self/query/bias:0', 'tf_bert_model_23/bert/encoder/layer_._0/attention/self/key/kernel:0', 'tf_bert_model_23/bert/encoder/layer_._0/attention/self/key/bias:0', 'tf_bert_model_23/bert/encoder/layer_._0/attention/self/value/kernel:0', 'tf_bert_model_23/bert/encoder/layer_._0/attention/self/value/bias:0', 'tf_bert_model_23/bert/encoder/layer_._0/attention/output/dense/kernel:0', 'tf_bert_model_23/bert/encoder/layer_._0/attention/output/dense/bias:0', 'tf_bert_model_23/bert/encoder/layer_._0/attention/output/LayerNorm/gamma:0', 'tf_bert_model_23/bert/encoder/layer_._0/attention/output/LayerNorm/beta:0', 'tf_bert_model_23/bert/encoder/layer_._0/intermediate/dense/kernel:0', 'tf_bert_model_23/bert/encoder/layer_._0/intermediate/dense/bias:0', 'tf_bert_model_23/bert/encoder/layer_._0/output/dense/kernel:0', 'tf_bert_model_23/bert/encoder/layer_._0/output/dense/bias:0', 'tf_bert_model_23/bert/encoder/layer_._0/output/LayerNorm/gamma:0', 'tf_bert_model_23/bert/encoder/layer_._0/output/LayerNorm/beta:0', 'tf_bert_model_23/bert/encoder/layer_._1/attention/self/query/kernel:0', 'tf_bert_model_23/bert/encoder/layer_._1/attention/self/query/bias:0', 'tf_bert_model_23/bert/encoder/layer_._1/attention/self/key/kernel:0', 'tf_bert_model_23/bert/encoder/layer_._1/attention/self/key/bias:0', 'tf_bert_model_23/bert/encoder/layer_._1/attention/self/value/kernel:0', 'tf_bert_model_23/bert/encoder/layer_._1/attention/self/value/bias:0', 'tf_bert_model_23/bert/encoder/layer_._1/attention/output/dense/kernel:0', 'tf_bert_model_23/bert/encoder/layer_._1/attention/output/dense/bias:0', 'tf_bert_model_23/bert/encoder/layer_._1/attention/output/LayerNorm/gamma:0', 'tf_bert_model_23/bert/encoder/layer_._1/attention/output/LayerNorm/beta:0', 'tf_bert_model_23/bert/encoder/layer_._1/intermediate/dense/kernel:0', 'tf_bert_model_23/bert/encoder/layer_._1/intermediate/dense/bias:0', 'tf_bert_model_23/bert/encoder/layer_._1/output/dense/kernel:0', 'tf_bert_model_23/bert/encoder/layer_._1/output/dense/bias:0', 'tf_bert_model_23/bert/encoder/layer_._1/output/LayerNorm/gamma:0', 'tf_bert_model_23/bert/encoder/layer_._1/output/LayerNorm/beta:0', 'tf_bert_model_23/bert/encoder/layer_._2/attention/self/query/kernel:0', 'tf_bert_model_23/bert/encoder/layer_._2/attention/self/query/bias:0', 'tf_bert_model_23/bert/encoder/layer_._2/attention/self/key/kernel:0', 'tf_bert_model_23/bert/encoder/layer_._2/attention/self/key/bias:0', 'tf_bert_model_23/bert/encoder/layer_._2/attention/self/value/kernel:0', 'tf_bert_model_23/bert/encoder/layer_._2/attention/self/value/bias:0', 'tf_bert_model_23/bert/encoder/layer_._2/attention/output/dense/kernel:0', 'tf_bert_model_23/bert/encoder/layer_._2/attention/output/dense/bias:0', 'tf_bert_model_23/bert/encoder/layer_._2/attention/output/LayerNorm/gamma:0', 'tf_bert_model_23/bert/encoder/layer_._2/attention/output/LayerNorm/beta:0', 'tf_bert_model_23/bert/encoder/layer_._2/intermediate/dense/kernel:0', 'tf_bert_model_23/bert/encoder/layer_._2/intermediate/dense/bias:0', 'tf_bert_model_23/bert/encoder/layer_._2/output/dense/kernel:0', 'tf_bert_model_23/bert/encoder/layer_._2/output/dense/bias:0', 'tf_bert_model_23/bert/encoder/layer_._2/output/LayerNorm/gamma:0', 'tf_bert_model_23/bert/encoder/layer_._2/output/LayerNorm/beta:0', 'tf_bert_model_23/bert/encoder/layer_._3/attention/self/query/kernel:0', 'tf_bert_model_23/bert/encoder/layer_._3/attention/self/query/bias:0', 'tf_bert_model_23/bert/encoder/layer_._3/attention/self/key/kernel:0', 'tf_bert_model_23/bert/encoder/layer_._3/attention/self/key/bias:0', 'tf_bert_model_23/bert/encoder/layer_._3/attention/self/value/kernel:0', 'tf_bert_model_23/bert/encoder/layer_._3/attention/self/value/bias:0', 'tf_bert_model_23/bert/encoder/layer_._3/attention/output/dense/kernel:0', 'tf_bert_model_23/bert/encoder/layer_._3/attention/output/dense/bias:0', 'tf_bert_model_23/bert/encoder/layer_._3/attention/output/LayerNorm/gamma:0', 'tf_bert_model_23/bert/encoder/layer_._3/attention/output/LayerNorm/beta:0', 'tf_bert_model_23/bert/encoder/layer_._3/intermediate/dense/kernel:0', 'tf_bert_model_23/bert/encoder/layer_._3/intermediate/dense/bias:0', 'tf_bert_model_23/bert/encoder/layer_._3/output/dense/kernel:0', 'tf_bert_model_23/bert/encoder/layer_._3/output/dense/bias:0', 'tf_bert_model_23/bert/encoder/layer_._3/output/LayerNorm/gamma:0', 'tf_bert_model_23/bert/encoder/layer_._3/output/LayerNorm/beta:0', 'tf_bert_model_23/bert/encoder/layer_._4/attention/self/query/kernel:0', 'tf_bert_model_23/bert/encoder/layer_._4/attention/self/query/bias:0', 'tf_bert_model_23/bert/encoder/layer_._4/attention/self/key/kernel:0', 'tf_bert_model_23/bert/encoder/layer_._4/attention/self/key/bias:0', 'tf_bert_model_23/bert/encoder/layer_._4/attention/self/value/kernel:0', 'tf_bert_model_23/bert/encoder/layer_._4/attention/self/value/bias:0', 'tf_bert_model_23/bert/encoder/layer_._4/attention/output/dense/kernel:0', 'tf_bert_model_23/bert/encoder/layer_._4/attention/output/dense/bias:0', 'tf_bert_model_23/bert/encoder/layer_._4/attention/output/LayerNorm/gamma:0', 'tf_bert_model_23/bert/encoder/layer_._4/attention/output/LayerNorm/beta:0', 'tf_bert_model_23/bert/encoder/layer_._4/intermediate/dense/kernel:0', 'tf_bert_model_23/bert/encoder/layer_._4/intermediate/dense/bias:0', 'tf_bert_model_23/bert/encoder/layer_._4/output/dense/kernel:0', 'tf_bert_model_23/bert/encoder/layer_._4/output/dense/bias:0', 'tf_bert_model_23/bert/encoder/layer_._4/output/LayerNorm/gamma:0', 'tf_bert_model_23/bert/encoder/layer_._4/output/LayerNorm/beta:0', 'tf_bert_model_23/bert/encoder/layer_._5/attention/self/query/kernel:0', 'tf_bert_model_23/bert/encoder/layer_._5/attention/self/query/bias:0', 'tf_bert_model_23/bert/encoder/layer_._5/attention/self/key/kernel:0', 'tf_bert_model_23/bert/encoder/layer_._5/attention/self/key/bias:0', 'tf_bert_model_23/bert/encoder/layer_._5/attention/self/value/kernel:0', 'tf_bert_model_23/bert/encoder/layer_._5/attention/self/value/bias:0', 'tf_bert_model_23/bert/encoder/layer_._5/attention/output/dense/kernel:0', 'tf_bert_model_23/bert/encoder/layer_._5/attention/output/dense/bias:0', 'tf_bert_model_23/bert/encoder/layer_._5/attention/output/LayerNorm/gamma:0', 'tf_bert_model_23/bert/encoder/layer_._5/attention/output/LayerNorm/beta:0', 'tf_bert_model_23/bert/encoder/layer_._5/intermediate/dense/kernel:0', 'tf_bert_model_23/bert/encoder/layer_._5/intermediate/dense/bias:0', 'tf_bert_model_23/bert/encoder/layer_._5/output/dense/kernel:0', 'tf_bert_model_23/bert/encoder/layer_._5/output/dense/bias:0', 'tf_bert_model_23/bert/encoder/layer_._5/output/LayerNorm/gamma:0', 'tf_bert_model_23/bert/encoder/layer_._5/output/LayerNorm/beta:0', 'tf_bert_model_23/bert/encoder/layer_._6/attention/self/query/kernel:0', 'tf_bert_model_23/bert/encoder/layer_._6/attention/self/query/bias:0', 'tf_bert_model_23/bert/encoder/layer_._6/attention/self/key/kernel:0', 'tf_bert_model_23/bert/encoder/layer_._6/attention/self/key/bias:0', 'tf_bert_model_23/bert/encoder/layer_._6/attention/self/value/kernel:0', 'tf_bert_model_23/bert/encoder/layer_._6/attention/self/value/bias:0', 'tf_bert_model_23/bert/encoder/layer_._6/attention/output/dense/kernel:0', 'tf_bert_model_23/bert/encoder/layer_._6/attention/output/dense/bias:0', 'tf_bert_model_23/bert/encoder/layer_._6/attention/output/LayerNorm/gamma:0', 'tf_bert_model_23/bert/encoder/layer_._6/attention/output/LayerNorm/beta:0', 'tf_bert_model_23/bert/encoder/layer_._6/intermediate/dense/kernel:0', 'tf_bert_model_23/bert/encoder/layer_._6/intermediate/dense/bias:0', 'tf_bert_model_23/bert/encoder/layer_._6/output/dense/kernel:0', 'tf_bert_model_23/bert/encoder/layer_._6/output/dense/bias:0', 'tf_bert_model_23/bert/encoder/layer_._6/output/LayerNorm/gamma:0', 'tf_bert_model_23/bert/encoder/layer_._6/output/LayerNorm/beta:0', 'tf_bert_model_23/bert/encoder/layer_._7/attention/self/query/kernel:0', 'tf_bert_model_23/bert/encoder/layer_._7/attention/self/query/bias:0', 'tf_bert_model_23/bert/encoder/layer_._7/attention/self/key/kernel:0', 'tf_bert_model_23/bert/encoder/layer_._7/attention/self/key/bias:0', 'tf_bert_model_23/bert/encoder/layer_._7/attention/self/value/kernel:0', 'tf_bert_model_23/bert/encoder/layer_._7/attention/self/value/bias:0', 'tf_bert_model_23/bert/encoder/layer_._7/attention/output/dense/kernel:0', 'tf_bert_model_23/bert/encoder/layer_._7/attention/output/dense/bias:0', 'tf_bert_model_23/bert/encoder/layer_._7/attention/output/LayerNorm/gamma:0', 'tf_bert_model_23/bert/encoder/layer_._7/attention/output/LayerNorm/beta:0', 'tf_bert_model_23/bert/encoder/layer_._7/intermediate/dense/kernel:0', 'tf_bert_model_23/bert/encoder/layer_._7/intermediate/dense/bias:0', 'tf_bert_model_23/bert/encoder/layer_._7/output/dense/kernel:0', 'tf_bert_model_23/bert/encoder/layer_._7/output/dense/bias:0', 'tf_bert_model_23/bert/encoder/layer_._7/output/LayerNorm/gamma:0', 'tf_bert_model_23/bert/encoder/layer_._7/output/LayerNorm/beta:0', 'tf_bert_model_23/bert/encoder/layer_._8/attention/self/query/kernel:0', 'tf_bert_model_23/bert/encoder/layer_._8/attention/self/query/bias:0', 'tf_bert_model_23/bert/encoder/layer_._8/attention/self/key/kernel:0', 'tf_bert_model_23/bert/encoder/layer_._8/attention/self/key/bias:0', 'tf_bert_model_23/bert/encoder/layer_._8/attention/self/value/kernel:0', 'tf_bert_model_23/bert/encoder/layer_._8/attention/self/value/bias:0', 'tf_bert_model_23/bert/encoder/layer_._8/attention/output/dense/kernel:0', 'tf_bert_model_23/bert/encoder/layer_._8/attention/output/dense/bias:0', 'tf_bert_model_23/bert/encoder/layer_._8/attention/output/LayerNorm/gamma:0', 'tf_bert_model_23/bert/encoder/layer_._8/attention/output/LayerNorm/beta:0', 'tf_bert_model_23/bert/encoder/layer_._8/intermediate/dense/kernel:0', 'tf_bert_model_23/bert/encoder/layer_._8/intermediate/dense/bias:0', 'tf_bert_model_23/bert/encoder/layer_._8/output/dense/kernel:0', 'tf_bert_model_23/bert/encoder/layer_._8/output/dense/bias:0', 'tf_bert_model_23/bert/encoder/layer_._8/output/LayerNorm/gamma:0', 'tf_bert_model_23/bert/encoder/layer_._8/output/LayerNorm/beta:0', 'tf_bert_model_23/bert/encoder/layer_._9/attention/self/query/kernel:0', 'tf_bert_model_23/bert/encoder/layer_._9/attention/self/query/bias:0', 'tf_bert_model_23/bert/encoder/layer_._9/attention/self/key/kernel:0', 'tf_bert_model_23/bert/encoder/layer_._9/attention/self/key/bias:0', 'tf_bert_model_23/bert/encoder/layer_._9/attention/self/value/kernel:0', 'tf_bert_model_23/bert/encoder/layer_._9/attention/self/value/bias:0', 'tf_bert_model_23/bert/encoder/layer_._9/attention/output/dense/kernel:0', 'tf_bert_model_23/bert/encoder/layer_._9/attention/output/dense/bias:0', 'tf_bert_model_23/bert/encoder/layer_._9/attention/output/LayerNorm/gamma:0', 'tf_bert_model_23/bert/encoder/layer_._9/attention/output/LayerNorm/beta:0', 'tf_bert_model_23/bert/encoder/layer_._9/intermediate/dense/kernel:0', 'tf_bert_model_23/bert/encoder/layer_._9/intermediate/dense/bias:0', 'tf_bert_model_23/bert/encoder/layer_._9/output/dense/kernel:0', 'tf_bert_model_23/bert/encoder/layer_._9/output/dense/bias:0', 'tf_bert_model_23/bert/encoder/layer_._9/output/LayerNorm/gamma:0', 'tf_bert_model_23/bert/encoder/layer_._9/output/LayerNorm/beta:0', 'tf_bert_model_23/bert/encoder/layer_._10/attention/self/query/kernel:0', 'tf_bert_model_23/bert/encoder/layer_._10/attention/self/query/bias:0', 'tf_bert_model_23/bert/encoder/layer_._10/attention/self/key/kernel:0', 'tf_bert_model_23/bert/encoder/layer_._10/attention/self/key/bias:0', 'tf_bert_model_23/bert/encoder/layer_._10/attention/self/value/kernel:0', 'tf_bert_model_23/bert/encoder/layer_._10/attention/self/value/bias:0', 'tf_bert_model_23/bert/encoder/layer_._10/attention/output/dense/kernel:0', 'tf_bert_model_23/bert/encoder/layer_._10/attention/output/dense/bias:0', 'tf_bert_model_23/bert/encoder/layer_._10/attention/output/LayerNorm/gamma:0', 'tf_bert_model_23/bert/encoder/layer_._10/attention/output/LayerNorm/beta:0', 'tf_bert_model_23/bert/encoder/layer_._10/intermediate/dense/kernel:0', 'tf_bert_model_23/bert/encoder/layer_._10/intermediate/dense/bias:0', 'tf_bert_model_23/bert/encoder/layer_._10/output/dense/kernel:0', 'tf_bert_model_23/bert/encoder/layer_._10/output/dense/bias:0', 'tf_bert_model_23/bert/encoder/layer_._10/output/LayerNorm/gamma:0', 'tf_bert_model_23/bert/encoder/layer_._10/output/LayerNorm/beta:0', 'tf_bert_model_23/bert/pooler/dense/kernel:0', 'tf_bert_model_23/bert/pooler/dense/bias:0'] when minimizing the loss. If you're using `model.compile()`, did you forget to provide a `loss`argument?\n",
            "489/489 [==============================] - 31s 47ms/step - loss: 0.0977 - accuracy: 0.9660 - val_loss: 0.0709 - val_accuracy: 0.9828\n",
            "Epoch 2/3\n",
            "489/489 [==============================] - 20s 41ms/step - loss: 0.0328 - accuracy: 0.9890 - val_loss: 0.0552 - val_accuracy: 0.9853\n",
            "Epoch 3/3\n",
            "489/489 [==============================] - 20s 41ms/step - loss: 0.0210 - accuracy: 0.9928 - val_loss: 0.0498 - val_accuracy: 0.9894\n",
            "BERT 3e + CNN kernel un 160, train: accuracy = 0.9987, precision = 1.0000, recall = 0.9939, f1 = 0.9970\n",
            "validation: accuracy = 0.9928, precision = 0.9843, recall = 0.9792, f1 = 0.9817\n"
          ]
        }
      ]
    },
    {
      "cell_type": "markdown",
      "source": [
        "accuracy = 0.9898, precision = 0.9800, recall = 0.9703, f1 = 0.9751\n",
        "\n",
        "accuracy = 0.9939, precision = 0.9950, recall = 0.9754, f1 = 0.9851\n",
        "\n",
        "accuracy = 0.9877, precision = 0.9899, recall = 0.9515, f1 = 0.9703\n",
        "\n",
        "accuracy = 0.9908, precision = 0.9952, recall = 0.9626, f1 = 0.9786\n",
        "\n",
        "accuracy = 0.9928, precision = 0.9843, recall = 0.9792, f1 = 0.9817"
      ],
      "metadata": {
        "id": "RuO_LeMw0oG5"
      }
    },
    {
      "cell_type": "code",
      "source": [
        "# cross validation results\n",
        "cross_val_acc = [0.9898,0.9939,0.9877,0.9908,0.9928]\n",
        "cross_val_precision = [0.9800, 0.9950, 0.9899, 0.9952,0.9843]\n",
        "cross_val_recall = [0.9703,0.9754,0.9515,0.9626,0.9792]\n",
        "cross_val_f1 = [0.9751, 0.9851, 0.9703, 0.9786, 0.9817]\n",
        "\n",
        "print(\"mean accuracy\", np.mean(cross_val_acc))\n",
        "print(\"mean f1\", np.mean(cross_val_f1))\n",
        "\n",
        "print(\"st dev accuracy\", np.std(cross_val_acc))\n",
        "print(\"se dev f1\", np.std(cross_val_f1))"
      ],
      "metadata": {
        "colab": {
          "base_uri": "https://localhost:8080/"
        },
        "id": "2sPFw0Xv0Cwf",
        "outputId": "afec67d5-64a0-4148-8162-4b67cc81c1d4"
      },
      "execution_count": null,
      "outputs": [
        {
          "output_type": "stream",
          "name": "stdout",
          "text": [
            "mean accuracy 0.991\n",
            "mean f1 0.9781600000000001\n",
            "st dev accuracy 0.0021918029108475927\n",
            "se dev f1 0.005138715792880537\n"
          ]
        }
      ]
    },
    {
      "cell_type": "markdown",
      "source": [
        "#### Count unknown tokens"
      ],
      "metadata": {
        "id": "gThMPxB9_HjH"
      }
    },
    {
      "cell_type": "code",
      "source": [
        "count = 0\n",
        "for sms in data['english']:\n",
        "  if ('[UNK]' in bert_tokenizer.tokenize(sms)):\n",
        "    count += 1\n",
        "\n",
        "count"
      ],
      "metadata": {
        "id": "mvnw49FrDD0-",
        "colab": {
          "base_uri": "https://localhost:8080/"
        },
        "outputId": "8b1f1b2f-079f-40ff-918f-9f347f4affc6"
      },
      "execution_count": null,
      "outputs": [
        {
          "output_type": "execute_result",
          "data": {
            "text/plain": [
              "13"
            ]
          },
          "metadata": {},
          "execution_count": 21
        }
      ]
    },
    {
      "cell_type": "code",
      "source": [
        "count = 0\n",
        "for sms in data[data['crowd'] == 1]['english']:\n",
        "  if ('[UNK]' in bert_tokenizer.tokenize(sms)):\n",
        "    count += 1\n",
        "\n",
        "count"
      ],
      "metadata": {
        "id": "jNgvXDu7_sGW",
        "colab": {
          "base_uri": "https://localhost:8080/"
        },
        "outputId": "1f7b52e0-c67d-4b7a-e875-109a3da2a8f2"
      },
      "execution_count": null,
      "outputs": [
        {
          "output_type": "execute_result",
          "data": {
            "text/plain": [
              "12"
            ]
          },
          "metadata": {},
          "execution_count": 22
        }
      ]
    },
    {
      "cell_type": "code",
      "source": [
        "count = 0\n",
        "for sms in data[data['crowd'] == 0]['english']:\n",
        "  if ('[UNK]' in bert_tokenizer.tokenize(sms)):\n",
        "    count += 1\n",
        "\n",
        "count"
      ],
      "metadata": {
        "id": "jnpYrfDEE-f_",
        "colab": {
          "base_uri": "https://localhost:8080/"
        },
        "outputId": "a331dcdf-68df-4053-852d-f4d19454cc3d"
      },
      "execution_count": null,
      "outputs": [
        {
          "output_type": "execute_result",
          "data": {
            "text/plain": [
              "1"
            ]
          },
          "metadata": {},
          "execution_count": 23
        }
      ]
    },
    {
      "cell_type": "markdown",
      "source": [
        "### Use SBERT to plot 2 datasets"
      ],
      "metadata": {
        "id": "ETPjZp03ZPgi"
      }
    },
    {
      "cell_type": "code",
      "source": [
        ""
      ],
      "metadata": {
        "id": "n6gNssCaEjZf"
      },
      "execution_count": null,
      "outputs": []
    }
  ]
}
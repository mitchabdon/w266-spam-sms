{
  "nbformat": 4,
  "nbformat_minor": 0,
  "metadata": {
    "colab": {
      "name": "W266: Class-weighted UCI + PH Translated Dataset SMS Spam Detection Final Project.ipynb",
      "provenance": [],
      "collapsed_sections": [
        "MySc4TsBTRdT",
        "HCn1BoEaPA6E",
        "JqfIxHLRPFqv",
        "nvR_4nFjOZ8W"
      ],
      "toc_visible": true
    },
    "kernelspec": {
      "name": "python3",
      "display_name": "Python 3"
    },
    "language_info": {
      "name": "python"
    },
    "accelerator": "GPU",
    "gpuClass": "standard"
  },
  "cells": [
    {
      "cell_type": "markdown",
      "source": [
        "## Table of content and model results\n",
        "\n"
      ],
      "metadata": {
        "id": "zL6g1T8Jeyi1"
      }
    },
    {
      "cell_type": "markdown",
      "source": [
        ""
      ],
      "metadata": {
        "id": "zewIcVHferk9"
      }
    },
    {
      "cell_type": "markdown",
      "source": [
        "## Imports"
      ],
      "metadata": {
        "id": "AitRMbM6R_23"
      }
    },
    {
      "cell_type": "code",
      "source": [
        "!pip install gensim==3.8.3 --quiet"
      ],
      "metadata": {
        "id": "uFMQmofaT2x_",
        "colab": {
          "base_uri": "https://localhost:8080/"
        },
        "outputId": "df7423df-1bf6-4955-efa5-107bf6c73a4c"
      },
      "execution_count": null,
      "outputs": [
        {
          "output_type": "stream",
          "name": "stdout",
          "text": [
            "\u001b[K     |████████████████████████████████| 24.2 MB 1.7 MB/s \n",
            "\u001b[?25h"
          ]
        }
      ]
    },
    {
      "cell_type": "code",
      "source": [
        "!pip install transformers --quiet"
      ],
      "metadata": {
        "id": "ZepWG26Pb36a",
        "colab": {
          "base_uri": "https://localhost:8080/"
        },
        "outputId": "4207124f-41a2-438e-d8be-e7a6d1864700"
      },
      "execution_count": null,
      "outputs": [
        {
          "output_type": "stream",
          "name": "stdout",
          "text": [
            "\u001b[K     |████████████████████████████████| 4.7 MB 4.3 MB/s \n",
            "\u001b[K     |████████████████████████████████| 6.6 MB 53.2 MB/s \n",
            "\u001b[K     |████████████████████████████████| 596 kB 69.3 MB/s \n",
            "\u001b[K     |████████████████████████████████| 101 kB 10.8 MB/s \n",
            "\u001b[?25h"
          ]
        }
      ]
    },
    {
      "cell_type": "code",
      "source": [
        "!pip install -U tensorflow-text==2.8.2 --quiet"
      ],
      "metadata": {
        "id": "LBz57saHcLid",
        "colab": {
          "base_uri": "https://localhost:8080/"
        },
        "outputId": "584199c9-3417-422c-88e6-c5a965715c4f"
      },
      "execution_count": null,
      "outputs": [
        {
          "output_type": "stream",
          "name": "stdout",
          "text": [
            "\u001b[K     |████████████████████████████████| 4.9 MB 3.8 MB/s \n",
            "\u001b[?25h"
          ]
        }
      ]
    },
    {
      "cell_type": "code",
      "source": [
        "# misc\n",
        "import pandas as pd\n",
        "import numpy as np\n",
        "from sklearn.model_selection import train_test_split\n",
        "np.random.seed(42)\n",
        "\n",
        "# report\n",
        "from sklearn.metrics import confusion_matrix\n",
        "from sklearn import metrics\n",
        "from sklearn.metrics import classification_report\n",
        "\n",
        "from sklearn.utils import compute_class_weight\n",
        "\n",
        "import seaborn as sns\n",
        "\n",
        "# word2vec\n",
        "import nltk\n",
        "import gensim\n",
        "from nltk.data import find\n",
        "import tensorflow_text as tf_text\n",
        "\n",
        "# BERT\n",
        "import tensorflow as tf\n",
        "from tensorflow import keras\n",
        "from tensorflow.keras.layers import Embedding, Input, Dense, Lambda\n",
        "from tensorflow.keras.models import Model\n",
        "from transformers import BertTokenizer, TFBertModel"
      ],
      "metadata": {
        "id": "EvPhbSW1rrdp"
      },
      "execution_count": null,
      "outputs": []
    },
    {
      "cell_type": "code",
      "source": [
        "from google.colab import drive\n",
        "drive.mount('/content/drive')"
      ],
      "metadata": {
        "id": "LYU51GnwRSs_",
        "colab": {
          "base_uri": "https://localhost:8080/"
        },
        "outputId": "ba164646-f540-4ea0-a603-88d311915340"
      },
      "execution_count": null,
      "outputs": [
        {
          "output_type": "stream",
          "name": "stdout",
          "text": [
            "Mounted at /content/drive\n"
          ]
        }
      ]
    },
    {
      "cell_type": "markdown",
      "source": [
        "## Load and clean data"
      ],
      "metadata": {
        "id": "U6oStQMXSEyO"
      }
    },
    {
      "cell_type": "code",
      "source": [
        "# rename uci data to just data\n",
        "#data = pd.read_csv(\"/content/drive/MyDrive/W266: SMS Spam Detection Final Project/data/data_clean_trans.csv\")\n",
        "data = pd.read_csv(\"/content/drive/MyDrive/W266/data/data_clean_trans.csv\")\n",
        "data"
      ],
      "metadata": {
        "id": "E2RqNNQxKuVT",
        "colab": {
          "base_uri": "https://localhost:8080/",
          "height": 659
        },
        "outputId": "0023a30d-28dd-4f47-b64d-a91cdfac22fa"
      },
      "execution_count": null,
      "outputs": [
        {
          "output_type": "execute_result",
          "data": {
            "text/plain": [
              "      Unnamed: 0  spam                                               text  \\\n",
              "0              0     0  Go until jurong point, crazy.. Available only ...   \n",
              "1              1     0                    Ok lar... Joking wif u oni...\\n   \n",
              "2              2     1  Free entry in 2 a wkly comp to win FA Cup fina...   \n",
              "3              3     0  U dun say so early hor... U c already then say...   \n",
              "4              4     0  Nah I don't think he goes to usf, he lives aro...   \n",
              "...          ...   ...                                                ...   \n",
              "6102        6102     1  You have passed the official certification onl...   \n",
              "6103        6103     1  Win The Big J@CKP0T Up To 1M PHP! 100 GET 100,...   \n",
              "6104        6104     1  Hi, I'm a Shopee Hiring Manager and I'm curren...   \n",
              "6105        6105     1  4 PCS SOLAR LIGHTS FOR ONLY 1,499 !\\nPinaka mu...   \n",
              "6106        6106     1  Sissy, 1P lang per bet kay cutt.ly/BingoPlus-P...   \n",
              "\n",
              "      crowd                                            spanish language  \\\n",
              "0         0  Vaya hasta Jurong Point, loco ... disponible s...       en   \n",
              "1         0               Ok lar ... bromeando wif u oni ...\\n       en   \n",
              "2         0  Entrada gratuita en 2 una compensación de wkly...       en   \n",
              "3         0    No digo tan temprano hor ... ya c ya digo ...\\n       en   \n",
              "4         0  No, no creo que vaya a la USF, aunque vive por...       en   \n",
              "...     ...                                                ...      ...   \n",
              "6102      1  Ha aprobado la certificación oficial de la aud...       en   \n",
              "6103      1  ¡Gana la gran j@ckp0t hasta 1 m php! 100 Get 1...       en   \n",
              "6104      1  Hola, soy un gerente de contratación de Shopee...       en   \n",
              "6105      1  ¡4 PCS Luces solares por solo 1,499!\\n¡La mayo...      fil   \n",
              "6106      1  Sissy, solo 1p por apuesta para Cutt.ly/BingOp...      fil   \n",
              "\n",
              "                                                english  \n",
              "0     Go until jurong point, crazy.. Available only ...  \n",
              "1                       Ok lar... Joking wif u oni...\\n  \n",
              "2     Free entry in 2 a wkly comp to win FA Cup fina...  \n",
              "3     U dun say so early hor... U c already then say...  \n",
              "4     Nah I don't think he goes to usf, he lives aro...  \n",
              "...                                                 ...  \n",
              "6102  You have passed the official certification onl...  \n",
              "6103  Win The Big J@CKP0T Up To 1M PHP! 100 GET 100,...  \n",
              "6104  Hi, I'm a Shopee Hiring Manager and I'm curren...  \n",
              "6105  4 pcs solar lights for only 1,499!\\nMost cheap...  \n",
              "6106  Sissy, just 1p per bet for cutt.ly/bingoplus-p...  \n",
              "\n",
              "[6107 rows x 7 columns]"
            ],
            "text/html": [
              "\n",
              "  <div id=\"df-2816b585-a507-4358-bae3-40dde4da7ec5\">\n",
              "    <div class=\"colab-df-container\">\n",
              "      <div>\n",
              "<style scoped>\n",
              "    .dataframe tbody tr th:only-of-type {\n",
              "        vertical-align: middle;\n",
              "    }\n",
              "\n",
              "    .dataframe tbody tr th {\n",
              "        vertical-align: top;\n",
              "    }\n",
              "\n",
              "    .dataframe thead th {\n",
              "        text-align: right;\n",
              "    }\n",
              "</style>\n",
              "<table border=\"1\" class=\"dataframe\">\n",
              "  <thead>\n",
              "    <tr style=\"text-align: right;\">\n",
              "      <th></th>\n",
              "      <th>Unnamed: 0</th>\n",
              "      <th>spam</th>\n",
              "      <th>text</th>\n",
              "      <th>crowd</th>\n",
              "      <th>spanish</th>\n",
              "      <th>language</th>\n",
              "      <th>english</th>\n",
              "    </tr>\n",
              "  </thead>\n",
              "  <tbody>\n",
              "    <tr>\n",
              "      <th>0</th>\n",
              "      <td>0</td>\n",
              "      <td>0</td>\n",
              "      <td>Go until jurong point, crazy.. Available only ...</td>\n",
              "      <td>0</td>\n",
              "      <td>Vaya hasta Jurong Point, loco ... disponible s...</td>\n",
              "      <td>en</td>\n",
              "      <td>Go until jurong point, crazy.. Available only ...</td>\n",
              "    </tr>\n",
              "    <tr>\n",
              "      <th>1</th>\n",
              "      <td>1</td>\n",
              "      <td>0</td>\n",
              "      <td>Ok lar... Joking wif u oni...\\n</td>\n",
              "      <td>0</td>\n",
              "      <td>Ok lar ... bromeando wif u oni ...\\n</td>\n",
              "      <td>en</td>\n",
              "      <td>Ok lar... Joking wif u oni...\\n</td>\n",
              "    </tr>\n",
              "    <tr>\n",
              "      <th>2</th>\n",
              "      <td>2</td>\n",
              "      <td>1</td>\n",
              "      <td>Free entry in 2 a wkly comp to win FA Cup fina...</td>\n",
              "      <td>0</td>\n",
              "      <td>Entrada gratuita en 2 una compensación de wkly...</td>\n",
              "      <td>en</td>\n",
              "      <td>Free entry in 2 a wkly comp to win FA Cup fina...</td>\n",
              "    </tr>\n",
              "    <tr>\n",
              "      <th>3</th>\n",
              "      <td>3</td>\n",
              "      <td>0</td>\n",
              "      <td>U dun say so early hor... U c already then say...</td>\n",
              "      <td>0</td>\n",
              "      <td>No digo tan temprano hor ... ya c ya digo ...\\n</td>\n",
              "      <td>en</td>\n",
              "      <td>U dun say so early hor... U c already then say...</td>\n",
              "    </tr>\n",
              "    <tr>\n",
              "      <th>4</th>\n",
              "      <td>4</td>\n",
              "      <td>0</td>\n",
              "      <td>Nah I don't think he goes to usf, he lives aro...</td>\n",
              "      <td>0</td>\n",
              "      <td>No, no creo que vaya a la USF, aunque vive por...</td>\n",
              "      <td>en</td>\n",
              "      <td>Nah I don't think he goes to usf, he lives aro...</td>\n",
              "    </tr>\n",
              "    <tr>\n",
              "      <th>...</th>\n",
              "      <td>...</td>\n",
              "      <td>...</td>\n",
              "      <td>...</td>\n",
              "      <td>...</td>\n",
              "      <td>...</td>\n",
              "      <td>...</td>\n",
              "      <td>...</td>\n",
              "    </tr>\n",
              "    <tr>\n",
              "      <th>6102</th>\n",
              "      <td>6102</td>\n",
              "      <td>1</td>\n",
              "      <td>You have passed the official certification onl...</td>\n",
              "      <td>1</td>\n",
              "      <td>Ha aprobado la certificación oficial de la aud...</td>\n",
              "      <td>en</td>\n",
              "      <td>You have passed the official certification onl...</td>\n",
              "    </tr>\n",
              "    <tr>\n",
              "      <th>6103</th>\n",
              "      <td>6103</td>\n",
              "      <td>1</td>\n",
              "      <td>Win The Big J@CKP0T Up To 1M PHP! 100 GET 100,...</td>\n",
              "      <td>1</td>\n",
              "      <td>¡Gana la gran j@ckp0t hasta 1 m php! 100 Get 1...</td>\n",
              "      <td>en</td>\n",
              "      <td>Win The Big J@CKP0T Up To 1M PHP! 100 GET 100,...</td>\n",
              "    </tr>\n",
              "    <tr>\n",
              "      <th>6104</th>\n",
              "      <td>6104</td>\n",
              "      <td>1</td>\n",
              "      <td>Hi, I'm a Shopee Hiring Manager and I'm curren...</td>\n",
              "      <td>1</td>\n",
              "      <td>Hola, soy un gerente de contratación de Shopee...</td>\n",
              "      <td>en</td>\n",
              "      <td>Hi, I'm a Shopee Hiring Manager and I'm curren...</td>\n",
              "    </tr>\n",
              "    <tr>\n",
              "      <th>6105</th>\n",
              "      <td>6105</td>\n",
              "      <td>1</td>\n",
              "      <td>4 PCS SOLAR LIGHTS FOR ONLY 1,499 !\\nPinaka mu...</td>\n",
              "      <td>1</td>\n",
              "      <td>¡4 PCS Luces solares por solo 1,499!\\n¡La mayo...</td>\n",
              "      <td>fil</td>\n",
              "      <td>4 pcs solar lights for only 1,499!\\nMost cheap...</td>\n",
              "    </tr>\n",
              "    <tr>\n",
              "      <th>6106</th>\n",
              "      <td>6106</td>\n",
              "      <td>1</td>\n",
              "      <td>Sissy, 1P lang per bet kay cutt.ly/BingoPlus-P...</td>\n",
              "      <td>1</td>\n",
              "      <td>Sissy, solo 1p por apuesta para Cutt.ly/BingOp...</td>\n",
              "      <td>fil</td>\n",
              "      <td>Sissy, just 1p per bet for cutt.ly/bingoplus-p...</td>\n",
              "    </tr>\n",
              "  </tbody>\n",
              "</table>\n",
              "<p>6107 rows × 7 columns</p>\n",
              "</div>\n",
              "      <button class=\"colab-df-convert\" onclick=\"convertToInteractive('df-2816b585-a507-4358-bae3-40dde4da7ec5')\"\n",
              "              title=\"Convert this dataframe to an interactive table.\"\n",
              "              style=\"display:none;\">\n",
              "        \n",
              "  <svg xmlns=\"http://www.w3.org/2000/svg\" height=\"24px\"viewBox=\"0 0 24 24\"\n",
              "       width=\"24px\">\n",
              "    <path d=\"M0 0h24v24H0V0z\" fill=\"none\"/>\n",
              "    <path d=\"M18.56 5.44l.94 2.06.94-2.06 2.06-.94-2.06-.94-.94-2.06-.94 2.06-2.06.94zm-11 1L8.5 8.5l.94-2.06 2.06-.94-2.06-.94L8.5 2.5l-.94 2.06-2.06.94zm10 10l.94 2.06.94-2.06 2.06-.94-2.06-.94-.94-2.06-.94 2.06-2.06.94z\"/><path d=\"M17.41 7.96l-1.37-1.37c-.4-.4-.92-.59-1.43-.59-.52 0-1.04.2-1.43.59L10.3 9.45l-7.72 7.72c-.78.78-.78 2.05 0 2.83L4 21.41c.39.39.9.59 1.41.59.51 0 1.02-.2 1.41-.59l7.78-7.78 2.81-2.81c.8-.78.8-2.07 0-2.86zM5.41 20L4 18.59l7.72-7.72 1.47 1.35L5.41 20z\"/>\n",
              "  </svg>\n",
              "      </button>\n",
              "      \n",
              "  <style>\n",
              "    .colab-df-container {\n",
              "      display:flex;\n",
              "      flex-wrap:wrap;\n",
              "      gap: 12px;\n",
              "    }\n",
              "\n",
              "    .colab-df-convert {\n",
              "      background-color: #E8F0FE;\n",
              "      border: none;\n",
              "      border-radius: 50%;\n",
              "      cursor: pointer;\n",
              "      display: none;\n",
              "      fill: #1967D2;\n",
              "      height: 32px;\n",
              "      padding: 0 0 0 0;\n",
              "      width: 32px;\n",
              "    }\n",
              "\n",
              "    .colab-df-convert:hover {\n",
              "      background-color: #E2EBFA;\n",
              "      box-shadow: 0px 1px 2px rgba(60, 64, 67, 0.3), 0px 1px 3px 1px rgba(60, 64, 67, 0.15);\n",
              "      fill: #174EA6;\n",
              "    }\n",
              "\n",
              "    [theme=dark] .colab-df-convert {\n",
              "      background-color: #3B4455;\n",
              "      fill: #D2E3FC;\n",
              "    }\n",
              "\n",
              "    [theme=dark] .colab-df-convert:hover {\n",
              "      background-color: #434B5C;\n",
              "      box-shadow: 0px 1px 3px 1px rgba(0, 0, 0, 0.15);\n",
              "      filter: drop-shadow(0px 1px 2px rgba(0, 0, 0, 0.3));\n",
              "      fill: #FFFFFF;\n",
              "    }\n",
              "  </style>\n",
              "\n",
              "      <script>\n",
              "        const buttonEl =\n",
              "          document.querySelector('#df-2816b585-a507-4358-bae3-40dde4da7ec5 button.colab-df-convert');\n",
              "        buttonEl.style.display =\n",
              "          google.colab.kernel.accessAllowed ? 'block' : 'none';\n",
              "\n",
              "        async function convertToInteractive(key) {\n",
              "          const element = document.querySelector('#df-2816b585-a507-4358-bae3-40dde4da7ec5');\n",
              "          const dataTable =\n",
              "            await google.colab.kernel.invokeFunction('convertToInteractive',\n",
              "                                                     [key], {});\n",
              "          if (!dataTable) return;\n",
              "\n",
              "          const docLinkHtml = 'Like what you see? Visit the ' +\n",
              "            '<a target=\"_blank\" href=https://colab.research.google.com/notebooks/data_table.ipynb>data table notebook</a>'\n",
              "            + ' to learn more about interactive tables.';\n",
              "          element.innerHTML = '';\n",
              "          dataTable['output_type'] = 'display_data';\n",
              "          await google.colab.output.renderOutput(dataTable, element);\n",
              "          const docLink = document.createElement('div');\n",
              "          docLink.innerHTML = docLinkHtml;\n",
              "          element.appendChild(docLink);\n",
              "        }\n",
              "      </script>\n",
              "    </div>\n",
              "  </div>\n",
              "  "
            ]
          },
          "metadata": {},
          "execution_count": 7
        }
      ]
    },
    {
      "cell_type": "code",
      "source": [
        "data = data.convert_dtypes()\n",
        "data.dtypes"
      ],
      "metadata": {
        "id": "47UovwLKgvce",
        "colab": {
          "base_uri": "https://localhost:8080/"
        },
        "outputId": "a8b51c60-dffb-4dc2-bdad-9a58452807e0"
      },
      "execution_count": null,
      "outputs": [
        {
          "output_type": "execute_result",
          "data": {
            "text/plain": [
              "Unnamed: 0     Int64\n",
              "spam           Int64\n",
              "text          string\n",
              "crowd          Int64\n",
              "spanish       string\n",
              "language      string\n",
              "english       string\n",
              "dtype: object"
            ]
          },
          "metadata": {},
          "execution_count": 8
        }
      ]
    },
    {
      "cell_type": "markdown",
      "source": [
        "## EDA"
      ],
      "metadata": {
        "id": "0RuqEtIVSOkg"
      }
    },
    {
      "cell_type": "code",
      "source": [
        "sum(data[\"spam\"] == 1)"
      ],
      "metadata": {
        "id": "n6pRHRdg8MoI",
        "colab": {
          "base_uri": "https://localhost:8080/"
        },
        "outputId": "31936ed0-dc71-4fb3-c796-9145b765d3dc"
      },
      "execution_count": null,
      "outputs": [
        {
          "output_type": "execute_result",
          "data": {
            "text/plain": [
              "1280"
            ]
          },
          "metadata": {},
          "execution_count": 9
        }
      ]
    },
    {
      "cell_type": "code",
      "source": [
        "sum(data[\"spam\"] == 0)"
      ],
      "metadata": {
        "id": "DKlzqlpy8u1Y",
        "colab": {
          "base_uri": "https://localhost:8080/"
        },
        "outputId": "880a25f3-732f-462b-e2a7-8f3401966f73"
      },
      "execution_count": null,
      "outputs": [
        {
          "output_type": "execute_result",
          "data": {
            "text/plain": [
              "4827"
            ]
          },
          "metadata": {},
          "execution_count": 10
        }
      ]
    },
    {
      "cell_type": "markdown",
      "source": [
        "## Split the data"
      ],
      "metadata": {
        "id": "GmTIZRghbCkw"
      }
    },
    {
      "cell_type": "code",
      "source": [
        "X, y = data['english'], data['spam']\n",
        "\n",
        "train_X, test_X, train_y, test_y = train_test_split(X, y, \n",
        "                                                    train_size=0.8,\n",
        "                                                    test_size=0.2,\n",
        "                                                    random_state=123,\n",
        "                                                    shuffle=True)\n"
      ],
      "metadata": {
        "id": "KlJMJlhpVtnu"
      },
      "execution_count": null,
      "outputs": []
    },
    {
      "cell_type": "markdown",
      "source": [
        "## Class weight"
      ],
      "metadata": {
        "id": "yf42Dg_m-0kZ"
      }
    },
    {
      "cell_type": "code",
      "source": [
        "\n",
        "class_weight = compute_class_weight(class_weight ='balanced',\n",
        "                                               classes=np.unique(train_y),\n",
        "                                               y=train_y)\n",
        "class_weight = dict(zip(np.unique(np.unique(train_y)), class_weight))\n",
        "class_weight"
      ],
      "metadata": {
        "colab": {
          "base_uri": "https://localhost:8080/"
        },
        "id": "-tXF-vc3-x2l",
        "outputId": "c862a039-c4a9-4650-e300-cd3bfefed587"
      },
      "execution_count": null,
      "outputs": [
        {
          "output_type": "execute_result",
          "data": {
            "text/plain": [
              "{0: 0.6314632885211996, 1: 2.4016715830875124}"
            ]
          },
          "metadata": {},
          "execution_count": 69
        }
      ]
    },
    {
      "cell_type": "markdown",
      "source": [
        "## Helper functions"
      ],
      "metadata": {
        "id": "VVX5ga_ODFrz"
      }
    },
    {
      "cell_type": "code",
      "source": [
        "def print_metrics(test_name, y_true, y_pred):\n",
        "    print('%s: accuracy = %.4f, precision = %.4f, recall = %.4f, f1 = %.4f'\n",
        "          % (test_name,\n",
        "             metrics.accuracy_score(y_true, y_pred),\n",
        "             metrics.precision_score(y_true, y_pred),\n",
        "             metrics.recall_score(y_true, y_pred),\n",
        "             metrics.f1_score(y_true, y_pred)))"
      ],
      "metadata": {
        "id": "rYG1iASIDEj6"
      },
      "execution_count": null,
      "outputs": []
    },
    {
      "cell_type": "markdown",
      "source": [
        "## Base models\n",
        "\n",
        "- Word2Vec embeddings\n",
        "  - CNN\n",
        "  - LSTM\n",
        "\n",
        "- BERT embeddings\n",
        "  - Fully connected network\n",
        "  - CNN\n"
      ],
      "metadata": {
        "id": "K0oBtsKoSTEU"
      }
    },
    {
      "cell_type": "markdown",
      "source": [
        "#### Word2Vec embeddings"
      ],
      "metadata": {
        "id": "MySc4TsBTRdT"
      }
    },
    {
      "cell_type": "code",
      "source": [
        "nltk.download('word2vec_sample')"
      ],
      "metadata": {
        "id": "7BFkjykfSUQy",
        "colab": {
          "base_uri": "https://localhost:8080/"
        },
        "outputId": "a5c5a21e-d44a-4797-b748-e8f011da3013"
      },
      "execution_count": null,
      "outputs": [
        {
          "output_type": "stream",
          "name": "stderr",
          "text": [
            "[nltk_data] Downloading package word2vec_sample to /root/nltk_data...\n",
            "[nltk_data]   Package word2vec_sample is already up-to-date!\n"
          ]
        },
        {
          "output_type": "execute_result",
          "data": {
            "text/plain": [
              "True"
            ]
          },
          "metadata": {},
          "execution_count": 71
        }
      ]
    },
    {
      "cell_type": "code",
      "source": [
        "word2vec_sample = str(find('models/word2vec_sample/pruned.word2vec.txt'))"
      ],
      "metadata": {
        "id": "Gz7wtvLeXJb4"
      },
      "execution_count": null,
      "outputs": []
    },
    {
      "cell_type": "code",
      "source": [
        "model = gensim.models.KeyedVectors.load_word2vec_format(word2vec_sample, binary=False)"
      ],
      "metadata": {
        "id": "uY2qQt3oTxpw"
      },
      "execution_count": null,
      "outputs": []
    },
    {
      "cell_type": "code",
      "source": [
        "# creating a Word2Vec embedding\n",
        "EMBEDDING_DIM = len(model['university'])      # we know... it's 300\n",
        "\n",
        "# initialize embedding matrix and word-to-id map:\n",
        "embedding_matrix = np.zeros((len(model.vocab.keys()) + 1, EMBEDDING_DIM))       \n",
        "vocab_dict = {}\n",
        "\n",
        "# build the embedding matrix and the word-to-id map:\n",
        "for i, word in enumerate(model.vocab.keys()):\n",
        "    embedding_vector = model[word]\n",
        "    if embedding_vector is not None:\n",
        "        # words not found in embedding index will be all-zeros.\n",
        "        embedding_matrix[i] = embedding_vector\n",
        "        vocab_dict[word] = i\n",
        "\n"
      ],
      "metadata": {
        "id": "LJwX14iJWwvp"
      },
      "execution_count": null,
      "outputs": []
    },
    {
      "cell_type": "code",
      "source": [
        "tokenizer = tf_text.WhitespaceTokenizer()\n",
        "train_tokens = tokenizer.tokenize(train_X)\n",
        "test_tokens = tokenizer.tokenize(test_X)"
      ],
      "metadata": {
        "id": "hlQF33RqYvfP"
      },
      "execution_count": null,
      "outputs": []
    },
    {
      "cell_type": "code",
      "source": [
        "train_tokens[0]"
      ],
      "metadata": {
        "id": "5SvpFHLNZVJb",
        "colab": {
          "base_uri": "https://localhost:8080/"
        },
        "outputId": "96058085-5fc9-450c-f2a9-690a17746d40"
      },
      "execution_count": null,
      "outputs": [
        {
          "output_type": "execute_result",
          "data": {
            "text/plain": [
              "<tf.Tensor: shape=(18,), dtype=string, numpy=\n",
              "array([b\"You've\", b'won', b'tkts', b'to', b'the', b'EURO2004', b'CUP',\n",
              "       b'FINAL', b'or', b'\\xc2\\xa3800', b'CASH,', b'to', b'collect',\n",
              "       b'CALL', b'09058099801', b'b4190604,', b'POBOX', b'7876150ppm'],\n",
              "      dtype=object)>"
            ]
          },
          "metadata": {},
          "execution_count": 76
        }
      ]
    },
    {
      "cell_type": "code",
      "source": [
        "# TO-DO: make sure this is tuned\n",
        "MAX_SEQUENCE_LENGTH = 5"
      ],
      "metadata": {
        "id": "FTR331lLZi8d"
      },
      "execution_count": null,
      "outputs": []
    },
    {
      "cell_type": "code",
      "source": [
        "def sents_to_ids(token_list_list, label_list, num_examples=100000000):\n",
        "    \"\"\"\n",
        "    converting a list of strings to a list of lists of word ids\n",
        "    \"\"\"\n",
        "    text_ids = []\n",
        "    text_labels = []\n",
        "    example_count = 0\n",
        "    use_token_list_list = token_list_list[:num_examples]\n",
        "    for i, token_list in enumerate(use_token_list_list):\n",
        "        if i < num_examples:\n",
        "            try:\n",
        "                example = []\n",
        "                for token in list(token_list.numpy()):\n",
        "                    decoded = token.decode('utf-8').replace('.','').replace(',','').replace('!','')\n",
        "                    try:\n",
        "                        example.append(vocab_dict[decoded])\n",
        "                        \n",
        "                    except:\n",
        "                        example.append(43981)\n",
        "                if len(example) >= MAX_SEQUENCE_LENGTH:\n",
        "                    text_ids.append(example[:MAX_SEQUENCE_LENGTH])\n",
        "                    text_labels.append(label_list[i])\n",
        "                    if example_count % 5000 == 0:\n",
        "                        print('Examples processed: ', example_count)\n",
        "                    example_count += 1\n",
        "                else:\n",
        "                    pass\n",
        "            except:\n",
        "                pass\n",
        "\n",
        "    \n",
        "    print('Number of examples retained: ', example_count) \n",
        "    return (np.array(text_ids),   np.array(text_labels)) "
      ],
      "metadata": {
        "id": "ohRUVRzOZmi7"
      },
      "execution_count": null,
      "outputs": []
    },
    {
      "cell_type": "code",
      "source": [
        "# convert to tensor\n",
        "y_train = tf.convert_to_tensor(list(train_y))\n",
        "y_test = tf.convert_to_tensor(list(test_y))"
      ],
      "metadata": {
        "id": "WsNjF9JlZzl2"
      },
      "execution_count": null,
      "outputs": []
    },
    {
      "cell_type": "code",
      "source": [
        "train_input, train_input_labels = sents_to_ids(train_tokens, y_train)\n",
        "test_input, test_input_labels = sents_to_ids(test_tokens, y_test)"
      ],
      "metadata": {
        "id": "RJrOVPu2Zniw",
        "colab": {
          "base_uri": "https://localhost:8080/"
        },
        "outputId": "c59fc492-48f8-4dbe-de85-c2530807f3f4"
      },
      "execution_count": null,
      "outputs": [
        {
          "output_type": "stream",
          "name": "stdout",
          "text": [
            "Examples processed:  0\n",
            "Number of examples retained:  4605\n",
            "Examples processed:  0\n",
            "Number of examples retained:  1147\n"
          ]
        }
      ]
    },
    {
      "cell_type": "markdown",
      "source": [
        "#### CNN"
      ],
      "metadata": {
        "id": "HCn1BoEaPA6E"
      }
    },
    {
      "cell_type": "code",
      "source": [
        "cnn_embedding_layer = Embedding(embedding_matrix.shape[0],\n",
        "                            embedding_matrix.shape[1],\n",
        "                            embeddings_initializer=tf.keras.initializers.Constant(embedding_matrix),\n",
        "                            input_length=MAX_SEQUENCE_LENGTH,\n",
        "                            trainable=False)"
      ],
      "metadata": {
        "id": "hypVVE0gVWFs"
      },
      "execution_count": null,
      "outputs": []
    },
    {
      "cell_type": "code",
      "source": [
        "# Specify model hyperparameters.\n",
        "epochs = 10\n",
        "num_filters = [3, 2, 1]\n",
        "kernel_sizes = [2, 4, 5]\n",
        "dense_layer_dims = [100, 30]\n",
        "dropout_rate = 0.5"
      ],
      "metadata": {
        "id": "eQ6kHgIYV4Z-"
      },
      "execution_count": null,
      "outputs": []
    },
    {
      "cell_type": "code",
      "source": [
        "cnn_input_layer = tf.keras.layers.Input(shape=(MAX_SEQUENCE_LENGTH,), dtype='int64')"
      ],
      "metadata": {
        "id": "g3uG2-WBV_qX"
      },
      "execution_count": null,
      "outputs": []
    },
    {
      "cell_type": "code",
      "source": [
        "cnn_embeddings = cnn_embedding_layer(cnn_input_layer)\n",
        "\n",
        "h = cnn_embeddings"
      ],
      "metadata": {
        "id": "5-JgitXCWAEs"
      },
      "execution_count": null,
      "outputs": []
    },
    {
      "cell_type": "code",
      "source": [
        "conv_layers_for_all_kernel_sizes = []\n",
        "for kernel_size, filters in zip(kernel_sizes, num_filters):\n",
        "    conv_layer = keras.layers.Conv1D(filters=filters, kernel_size=kernel_size, activation='relu')(h)\n",
        "    conv_layer = keras.layers.GlobalMaxPooling1D()(conv_layer)\n",
        "    conv_layers_for_all_kernel_sizes.append(conv_layer)"
      ],
      "metadata": {
        "id": "pIlpLN0GWCOv"
      },
      "execution_count": null,
      "outputs": []
    },
    {
      "cell_type": "code",
      "source": [
        "h = keras.layers.concatenate(conv_layers_for_all_kernel_sizes, axis=1)"
      ],
      "metadata": {
        "id": "u1Nv8GblWHoz"
      },
      "execution_count": null,
      "outputs": []
    },
    {
      "cell_type": "code",
      "source": [
        "h = keras.layers.Dropout(rate=dropout_rate)(h)"
      ],
      "metadata": {
        "id": "28nx55AtWJCJ"
      },
      "execution_count": null,
      "outputs": []
    },
    {
      "cell_type": "code",
      "source": [
        "for dense_layer_dim in dense_layer_dims:  \n",
        "    h = keras.layers.Dense(dense_layer_dim, activation='relu')(h)"
      ],
      "metadata": {
        "id": "tbUQSErWWLbj"
      },
      "execution_count": null,
      "outputs": []
    },
    {
      "cell_type": "code",
      "source": [
        "cnn_prediction = keras.layers.Dense(1, activation='sigmoid')(h)"
      ],
      "metadata": {
        "id": "D_RnD91QWMeO"
      },
      "execution_count": null,
      "outputs": []
    },
    {
      "cell_type": "code",
      "source": [
        "cnn_model = keras.Model(inputs=cnn_input_layer, outputs=cnn_prediction)\n",
        "cnn_model.compile(optimizer='adam',\n",
        "              loss='binary_crossentropy',  # From information theory notebooks.\n",
        "              metrics=['accuracy'])"
      ],
      "metadata": {
        "id": "Wnq2VzMtWRv7"
      },
      "execution_count": null,
      "outputs": []
    },
    {
      "cell_type": "code",
      "source": [
        "cnn_model.summary()"
      ],
      "metadata": {
        "id": "JOuRrsY_WUqs",
        "colab": {
          "base_uri": "https://localhost:8080/"
        },
        "outputId": "51ddf4da-745c-4b54-9405-3364e3100ab3"
      },
      "execution_count": null,
      "outputs": [
        {
          "output_type": "stream",
          "name": "stdout",
          "text": [
            "Model: \"model_28\"\n",
            "__________________________________________________________________________________________________\n",
            " Layer (type)                   Output Shape         Param #     Connected to                     \n",
            "==================================================================================================\n",
            " input_5 (InputLayer)           [(None, 5)]          0           []                               \n",
            "                                                                                                  \n",
            " embedding_4 (Embedding)        (None, 5, 300)       13194600    ['input_5[0][0]']                \n",
            "                                                                                                  \n",
            " conv1d_61 (Conv1D)             (None, 4, 3)         1803        ['embedding_4[0][0]']            \n",
            "                                                                                                  \n",
            " conv1d_62 (Conv1D)             (None, 2, 2)         2402        ['embedding_4[0][0]']            \n",
            "                                                                                                  \n",
            " conv1d_63 (Conv1D)             (None, 1, 1)         1501        ['embedding_4[0][0]']            \n",
            "                                                                                                  \n",
            " global_max_pooling1d_61 (Globa  (None, 3)           0           ['conv1d_61[0][0]']              \n",
            " lMaxPooling1D)                                                                                   \n",
            "                                                                                                  \n",
            " global_max_pooling1d_62 (Globa  (None, 2)           0           ['conv1d_62[0][0]']              \n",
            " lMaxPooling1D)                                                                                   \n",
            "                                                                                                  \n",
            " global_max_pooling1d_63 (Globa  (None, 1)           0           ['conv1d_63[0][0]']              \n",
            " lMaxPooling1D)                                                                                   \n",
            "                                                                                                  \n",
            " concatenate_16 (Concatenate)   (None, 6)            0           ['global_max_pooling1d_61[0][0]',\n",
            "                                                                  'global_max_pooling1d_62[0][0]',\n",
            "                                                                  'global_max_pooling1d_63[0][0]']\n",
            "                                                                                                  \n",
            " dropout_988 (Dropout)          (None, 6)            0           ['concatenate_16[0][0]']         \n",
            "                                                                                                  \n",
            " dense_20 (Dense)               (None, 100)          700         ['dropout_988[0][0]']            \n",
            "                                                                                                  \n",
            " dense_21 (Dense)               (None, 30)           3030        ['dense_20[0][0]']               \n",
            "                                                                                                  \n",
            " dense_22 (Dense)               (None, 1)            31          ['dense_21[0][0]']               \n",
            "                                                                                                  \n",
            "==================================================================================================\n",
            "Total params: 13,204,067\n",
            "Trainable params: 9,467\n",
            "Non-trainable params: 13,194,600\n",
            "__________________________________________________________________________________________________\n"
          ]
        }
      ]
    },
    {
      "cell_type": "code",
      "source": [
        "cnn_history = cnn_model.fit(train_input,\n",
        "             np.array(train_input_labels),\n",
        "             validation_data=(test_input, np.array(test_input_labels)),\n",
        "             class_weight = class_weight,\n",
        "             batch_size=32,\n",
        "             epochs=5\n",
        "             )"
      ],
      "metadata": {
        "id": "tpYEf_jcWX5h",
        "colab": {
          "base_uri": "https://localhost:8080/"
        },
        "outputId": "09e398b1-86a1-4309-e333-96588149672e"
      },
      "execution_count": null,
      "outputs": [
        {
          "output_type": "stream",
          "name": "stdout",
          "text": [
            "Epoch 1/5\n",
            "144/144 [==============================] - 2s 7ms/step - loss: 0.6080 - accuracy: 0.7153 - val_loss: 0.4615 - val_accuracy: 0.7742\n",
            "Epoch 2/5\n",
            "144/144 [==============================] - 1s 6ms/step - loss: 0.4519 - accuracy: 0.7685 - val_loss: 0.3811 - val_accuracy: 0.8605\n",
            "Epoch 3/5\n",
            "144/144 [==============================] - 1s 6ms/step - loss: 0.4076 - accuracy: 0.7824 - val_loss: 0.3293 - val_accuracy: 0.8814\n",
            "Epoch 4/5\n",
            "144/144 [==============================] - 1s 5ms/step - loss: 0.3705 - accuracy: 0.8115 - val_loss: 0.3065 - val_accuracy: 0.8901\n",
            "Epoch 5/5\n",
            "144/144 [==============================] - 1s 5ms/step - loss: 0.3617 - accuracy: 0.8017 - val_loss: 0.2910 - val_accuracy: 0.8989\n"
          ]
        }
      ]
    },
    {
      "cell_type": "markdown",
      "source": [
        "##### Train report"
      ],
      "metadata": {
        "id": "Ms5WvFFmxfVp"
      }
    },
    {
      "cell_type": "code",
      "source": [
        "dev_pred = cnn_model.predict(train_input)"
      ],
      "metadata": {
        "id": "7CaQHMQ0njBT"
      },
      "execution_count": null,
      "outputs": []
    },
    {
      "cell_type": "code",
      "source": [
        "test_pred = cnn_model.predict(test_input)"
      ],
      "metadata": {
        "id": "OdKTBCbhx_Zc"
      },
      "execution_count": null,
      "outputs": []
    },
    {
      "cell_type": "code",
      "source": [
        "sns.heatmap(confusion_matrix(np.array(train_input_labels), np.round(dev_pred,0)), annot=True, fmt='g');  #annot=True to annotate cells, ftm='g' to disable scientific notation"
      ],
      "metadata": {
        "id": "VaVtHFQfmEWM",
        "colab": {
          "base_uri": "https://localhost:8080/"
        },
        "outputId": "d3d1a540-2d45-48ae-b26e-49dae3e8e91c"
      },
      "execution_count": null,
      "outputs": [
        {
          "output_type": "display_data",
          "data": {
            "text/plain": [
              "<Figure size 432x288 with 2 Axes>"
            ],
            "image/png": "[encoded data removed]"
          },
          "metadata": {
            "needs_background": "light"
          }
        }
      ]
    },
    {
      "cell_type": "code",
      "source": [
        "print_metrics('W2V + CNN, train data', np.array(train_input_labels), np.round(dev_pred,0))"
      ],
      "metadata": {
        "id": "aOF95pmvmJZD",
        "colab": {
          "base_uri": "https://localhost:8080/"
        },
        "outputId": "9666575c-1f59-4cea-e1b2-1e440e057c87"
      },
      "execution_count": null,
      "outputs": [
        {
          "output_type": "stream",
          "name": "stdout",
          "text": [
            "W2V + CNN, train data: accuracy = 0.9168, precision = 0.7530, recall = 0.9260, f1 = 0.8306\n"
          ]
        }
      ]
    },
    {
      "cell_type": "code",
      "source": [
        "# TO-DO can't analyze because some texts were discarded during conversion to ids\n",
        "\n",
        "train_y = train_input_labels\n",
        "train_y_predict = np.round(dev_pred,0)"
      ],
      "metadata": {
        "id": "xt42pkNS_093"
      },
      "execution_count": null,
      "outputs": []
    },
    {
      "cell_type": "markdown",
      "source": [
        "##### Test report"
      ],
      "metadata": {
        "id": "-omYmQGZxieV"
      }
    },
    {
      "cell_type": "code",
      "source": [
        "sns.heatmap(confusion_matrix(np.array(test_input_labels), np.round(test_pred,0)), annot=True, fmt='g');  #annot=True to annotate cells, ftm='g' to disable scientific notation"
      ],
      "metadata": {
        "id": "7LD-s2MtyKjA",
        "colab": {
          "base_uri": "https://localhost:8080/"
        },
        "outputId": "b875b849-7ff9-43e7-824b-041b656f41c3"
      },
      "execution_count": null,
      "outputs": [
        {
          "output_type": "display_data",
          "data": {
            "text/plain": [
              "<Figure size 432x288 with 2 Axes>"
            ],
            "image/png": "[encoded data removed]"
          },
          "metadata": {
            "needs_background": "light"
          }
        }
      ]
    },
    {
      "cell_type": "code",
      "source": [
        "print_metrics('W2V + CNN, test data', np.array(test_input_labels), np.round(test_pred,0))"
      ],
      "metadata": {
        "id": "dGiiWFj0yRms",
        "colab": {
          "base_uri": "https://localhost:8080/"
        },
        "outputId": "e59050c2-d42c-4974-cc44-6bf4d71dd619"
      },
      "execution_count": null,
      "outputs": [
        {
          "output_type": "stream",
          "name": "stdout",
          "text": [
            "W2V + CNN, test data: accuracy = 0.8989, precision = 0.7231, recall = 0.9004, f1 = 0.8020\n"
          ]
        }
      ]
    },
    {
      "cell_type": "markdown",
      "source": [
        "#### LSTM"
      ],
      "metadata": {
        "id": "JqfIxHLRPFqv"
      }
    },
    {
      "cell_type": "code",
      "source": [
        "rnn_embedding_layer = Embedding(embedding_matrix.shape[0],\n",
        "                                embedding_matrix.shape[1],\n",
        "                                embeddings_initializer=tf.keras.initializers.Constant(embedding_matrix),\n",
        "                                input_length=MAX_SEQUENCE_LENGTH,\n",
        "                                trainable=False)"
      ],
      "metadata": {
        "id": "Cy47mRpm5SIV"
      },
      "execution_count": null,
      "outputs": []
    },
    {
      "cell_type": "code",
      "source": [
        "def build_classificaiton_rnn_model(rnn_dim):\n",
        "  \"\"\"\n",
        "  max_length:         maximum input length\n",
        "  rnn_dim:            dimension of the rnn \n",
        "  return_sequences:   should the output vectors get returned?  \n",
        "  return_state:       should the final cell states get returned?\n",
        "  \"\"\"\n",
        "  \n",
        "  rnn_input_layer = tf.keras.layers.Input(shape=(MAX_SEQUENCE_LENGTH,), dtype='int64')\n",
        "\n",
        "  rnn_embeddings = rnn_embedding_layer(rnn_input_layer)\n",
        "\n",
        "  # only return the last output from the RNN calculation \n",
        "  rnn_output = tf.keras.layers.LSTM(rnn_dim, return_sequences=False, return_state=False, name='LSTM')\\\n",
        "              (rnn_embeddings)\n",
        "\n",
        "  rnn_hidden = tf.keras.layers.Dense(100, activation='relu', name='rnn_hidden')(rnn_output)\n",
        "\n",
        "\n",
        "  rnn_classification = tf.keras.layers.Dense(1, \n",
        "                                            activation='sigmoid', \n",
        "                                            name='rnn_classification')(rnn_hidden)\n",
        "\n",
        "  # model definition\n",
        "\n",
        "  rnn_model = tf.keras.models.Model(inputs=rnn_input_layer, outputs=[rnn_classification])\n",
        "\n",
        "  rnn_model.compile(loss='binary_crossentropy',\n",
        "                    optimizer=tf.keras.optimizers.Adam(learning_rate=0.001,\n",
        "                                                  beta_1=0.9,\n",
        "                                                  beta_2=0.999,\n",
        "                                                  epsilon=1e-07,\n",
        "                                                  amsgrad=False,\n",
        "                                                  name='Adam'),\n",
        "                  metrics='accuracy')\n",
        "    \n",
        "  return rnn_model"
      ],
      "metadata": {
        "id": "hK3YxuI8eKTx"
      },
      "execution_count": null,
      "outputs": []
    },
    {
      "cell_type": "code",
      "source": [
        "rnn_model = build_classificaiton_rnn_model(rnn_dim=3)"
      ],
      "metadata": {
        "id": "OHrHxtyk4cKe"
      },
      "execution_count": null,
      "outputs": []
    },
    {
      "cell_type": "code",
      "source": [
        "rnn_history = rnn_model.fit(train_input,\n",
        "             np.array(train_input_labels),\n",
        "             validation_data=(test_input, np.array(test_input_labels)),\n",
        "             class_weight = class_weight,\n",
        "             batch_size=32,\n",
        "              epochs=5\n",
        "             )"
      ],
      "metadata": {
        "id": "-AUPvbpc6RuU",
        "colab": {
          "base_uri": "https://localhost:8080/"
        },
        "outputId": "f9a2b9c6-40e3-46c3-e08c-38ffea5b0a59"
      },
      "execution_count": null,
      "outputs": [
        {
          "output_type": "stream",
          "name": "stdout",
          "text": [
            "Epoch 1/5\n",
            "144/144 [==============================] - 3s 9ms/step - loss: 0.5952 - accuracy: 0.7731 - val_loss: 0.4048 - val_accuracy: 0.8117\n",
            "Epoch 2/5\n",
            "144/144 [==============================] - 1s 5ms/step - loss: 0.3977 - accuracy: 0.8308 - val_loss: 0.3957 - val_accuracy: 0.8317\n",
            "Epoch 3/5\n",
            "144/144 [==============================] - 1s 6ms/step - loss: 0.3532 - accuracy: 0.8593 - val_loss: 0.3252 - val_accuracy: 0.8631\n",
            "Epoch 4/5\n",
            "144/144 [==============================] - 1s 5ms/step - loss: 0.3303 - accuracy: 0.8738 - val_loss: 0.3368 - val_accuracy: 0.8710\n",
            "Epoch 5/5\n",
            "144/144 [==============================] - 1s 5ms/step - loss: 0.3127 - accuracy: 0.8808 - val_loss: 0.2977 - val_accuracy: 0.8797\n"
          ]
        }
      ]
    },
    {
      "cell_type": "code",
      "source": [
        "dev_pred = rnn_model.predict(train_input)\n",
        "test_pred = rnn_model.predict(test_input)"
      ],
      "metadata": {
        "id": "ZwSlWRFUGk0r"
      },
      "execution_count": null,
      "outputs": []
    },
    {
      "cell_type": "markdown",
      "source": [
        "##### Train report"
      ],
      "metadata": {
        "id": "2kbcOSmlzXPM"
      }
    },
    {
      "cell_type": "code",
      "source": [
        "sns.heatmap(confusion_matrix(np.array(train_input_labels), np.round(dev_pred,0)), annot=True, fmt='g');  #annot=True to annotate cells, ftm='g' to disable scientific notation"
      ],
      "metadata": {
        "id": "NGhe9NTTz56f",
        "colab": {
          "base_uri": "https://localhost:8080/"
        },
        "outputId": "34a40df0-5f0b-4435-ba6c-16af1a1cca60"
      },
      "execution_count": null,
      "outputs": [
        {
          "output_type": "display_data",
          "data": {
            "text/plain": [
              "<Figure size 432x288 with 2 Axes>"
            ],
            "image/png": "[encoded data removed]"
          },
          "metadata": {
            "needs_background": "light"
          }
        }
      ]
    },
    {
      "cell_type": "code",
      "source": [
        "print_metrics('W2V + LSTM model, train data: ', np.array(train_input_labels), np.round(dev_pred,0))"
      ],
      "metadata": {
        "id": "V86vJljoFz78",
        "colab": {
          "base_uri": "https://localhost:8080/"
        },
        "outputId": "9da60ee7-4dc9-4b19-d1f5-adf135e83b84"
      },
      "execution_count": null,
      "outputs": [
        {
          "output_type": "stream",
          "name": "stdout",
          "text": [
            "W2V + LSTM model, train data: : accuracy = 0.8988, precision = 0.7250, recall = 0.8708, f1 = 0.7912\n"
          ]
        }
      ]
    },
    {
      "cell_type": "markdown",
      "source": [
        "##### Test report"
      ],
      "metadata": {
        "id": "d9bCMLtwzbdv"
      }
    },
    {
      "cell_type": "code",
      "source": [
        "sns.heatmap(confusion_matrix(np.array(test_input_labels), np.round(test_pred,0)), annot=True, fmt='g');  #annot=True to annotate cells, ftm='g' to disable scientific notation"
      ],
      "metadata": {
        "id": "x0AkRHhiz9ac",
        "colab": {
          "base_uri": "https://localhost:8080/"
        },
        "outputId": "ff4b5151-5d36-4bc3-d568-dd60f3862e82"
      },
      "execution_count": null,
      "outputs": [
        {
          "output_type": "display_data",
          "data": {
            "text/plain": [
              "<Figure size 432x288 with 2 Axes>"
            ],
            "image/png": "[encoded data removed]"
          },
          "metadata": {
            "needs_background": "light"
          }
        }
      ]
    },
    {
      "cell_type": "code",
      "source": [
        "print_metrics('W2V + LSTM model, test data: ', np.array(test_input_labels), np.round(test_pred,0))"
      ],
      "metadata": {
        "id": "lcGDGWK3zgtL",
        "colab": {
          "base_uri": "https://localhost:8080/"
        },
        "outputId": "e4bf7043-c949-4f80-fa81-270c15640bfd"
      },
      "execution_count": null,
      "outputs": [
        {
          "output_type": "stream",
          "name": "stdout",
          "text": [
            "W2V + LSTM model, test data: : accuracy = 0.8797, precision = 0.6965, recall = 0.8352, f1 = 0.7596\n"
          ]
        }
      ]
    },
    {
      "cell_type": "markdown",
      "source": [
        "#### BERT"
      ],
      "metadata": {
        "id": "w1IBwZ6ibHQh"
      }
    },
    {
      "cell_type": "code",
      "source": [
        "# TO-DO: have to split data again after W2V?\n",
        "X, y = data['text'], data['spam']\n",
        "\n",
        "train_X, test_X, train_y, test_y = train_test_split(X, y, \n",
        "                                                    train_size=0.8,\n",
        "                                                    test_size=0.2,\n",
        "                                                    random_state=123,\n",
        "                                                    shuffle=True)"
      ],
      "metadata": {
        "id": "FbbwrxBeU4m5"
      },
      "execution_count": null,
      "outputs": []
    },
    {
      "cell_type": "code",
      "source": [
        "bert_tokenizer = BertTokenizer.from_pretrained('bert-base-cased')\n",
        "bert_model = TFBertModel.from_pretrained('bert-base-cased')"
      ],
      "metadata": {
        "id": "rXye48IxccJx",
        "colab": {
          "base_uri": "https://localhost:8080/"
        },
        "outputId": "6ab131a8-9667-4f90-c4e3-61dca1d8bc94"
      },
      "execution_count": null,
      "outputs": [
        {
          "output_type": "stream",
          "name": "stderr",
          "text": [
            "Some layers from the model checkpoint at bert-base-cased were not used when initializing TFBertModel: ['nsp___cls', 'mlm___cls']\n",
            "- This IS expected if you are initializing TFBertModel from the checkpoint of a model trained on another task or with another architecture (e.g. initializing a BertForSequenceClassification model from a BertForPreTraining model).\n",
            "- This IS NOT expected if you are initializing TFBertModel from the checkpoint of a model that you expect to be exactly identical (initializing a BertForSequenceClassification model from a BertForSequenceClassification model).\n",
            "All the layers of TFBertModel were initialized from the model checkpoint at bert-base-cased.\n",
            "If your task is similar to the task the model of the checkpoint was trained on, you can already use TFBertModel for predictions without further training.\n"
          ]
        }
      ]
    },
    {
      "cell_type": "code",
      "source": [
        "max_length = 100\n",
        "#max_length = 160                  # set max_length\n",
        "\n",
        "\n",
        "all_train_examples = list(train_X)\n",
        "all_test_examples = list(test_X)\n",
        "\n",
        "\n",
        "x_train = bert_tokenizer(all_train_examples, \n",
        "              max_length=max_length,\n",
        "              truncation=True,\n",
        "              padding='max_length', \n",
        "              return_tensors='tf')\n",
        "\n",
        "y_train = tf.convert_to_tensor(list(train_y))\n",
        "\n",
        "x_test = bert_tokenizer(all_test_examples, \n",
        "              max_length=max_length,\n",
        "              truncation=True,\n",
        "              padding='max_length', \n",
        "              return_tensors='tf')\n",
        "\n",
        "y_test = tf.convert_to_tensor(list(test_y))"
      ],
      "metadata": {
        "id": "Tz3kbAVobIh7"
      },
      "execution_count": null,
      "outputs": []
    },
    {
      "cell_type": "code",
      "source": [
        "def create_bert_pooled_model(train_layers=-1,\n",
        "                          hidden_size = 100, \n",
        "                          dropout=0.3,\n",
        "                          learning_rate=0.00005):\n",
        "    \"\"\"\n",
        "    Build a simple classification model with BERT. Use the Pooled Ouutput for classification purposes\n",
        "    \"\"\"\n",
        "\n",
        "    bert_model = TFBertModel.from_pretrained('bert-base-cased')\n",
        "\n",
        "    # TO-DO: play around with restricting and not restricting BERT layers\n",
        "    #restrict training to the train_layers outer transformer layers\n",
        "    if not train_layers == -1:\n",
        "\n",
        "            retrain_layers = []\n",
        "\n",
        "            for retrain_layer_number in range(train_layers):\n",
        "\n",
        "                layer_code = '_' + str(11 - retrain_layer_number)\n",
        "                retrain_layers.append(layer_code)\n",
        "\n",
        "            for w in bert_model.weights:\n",
        "                if not any([x in w.name for x in retrain_layers]):\n",
        "                    w._trainable = False\n",
        "\n",
        "    input_ids = tf.keras.layers.Input(shape=(max_length,), dtype=tf.int64, name='input_ids_layer') #--SOLUTION--\n",
        "    token_type_ids = tf.keras.layers.Input(shape=(max_length,), dtype=tf.int64, name='token_type_ids_layer')\n",
        "    attention_mask = tf.keras.layers.Input(shape=(max_length,), dtype=tf.int64, name='attention_mask_layer')\n",
        "\n",
        "    ##bert_inputs = {'input_ids': input_ids,\n",
        "    #              'token_type_ids': token_type_ids,\n",
        "    #              'attention_mask': attention_mask\n",
        "    #               }\n",
        "\n",
        "    #bert_out = bert_model([input_ids, token_type_ids, attention_mask])\n",
        "\n",
        "    \n",
        "\n",
        "    bert_inputs = {'input_ids': input_ids,\n",
        "                   'token_type_ids': token_type_ids,\n",
        "                   'attention_mask': attention_mask}         \n",
        "\n",
        "    bert_out = bert_model(bert_inputs) \n",
        "\n",
        "    pooled_token = bert_out[1]\n",
        "\n",
        "    hidden = tf.keras.layers.Dense(hidden_size, activation='relu', name='hidden_layer')(pooled_token)\n",
        "    hidden = tf.keras.layers.Dropout(dropout)(hidden)  \n",
        "\n",
        "    classification = tf.keras.layers.Dense(1, activation='sigmoid',name='classification_layer')(hidden)\n",
        "\n",
        "    \n",
        "    classification_model = tf.keras.Model(inputs=[input_ids, token_type_ids, attention_mask], outputs=[classification])\n",
        "    \n",
        "    classification_model.compile(optimizer=tf.keras.optimizers.Adam(learning_rate=learning_rate),\n",
        "                            loss=tf.keras.losses.BinaryCrossentropy(from_logits=False), \n",
        "                            metrics='accuracy') \n",
        "\n",
        "\n",
        "    \n",
        "    return classification_model"
      ],
      "metadata": {
        "id": "P38CSU4MdCuk"
      },
      "execution_count": null,
      "outputs": []
    },
    {
      "cell_type": "code",
      "source": [
        "pooled_bert_model = create_bert_pooled_model()"
      ],
      "metadata": {
        "id": "G-EjxbRtdbjc",
        "colab": {
          "base_uri": "https://localhost:8080/"
        },
        "outputId": "a96706db-384d-4610-e1c8-7bcdec396d48"
      },
      "execution_count": null,
      "outputs": [
        {
          "output_type": "stream",
          "name": "stderr",
          "text": [
            "Some layers from the model checkpoint at bert-base-cased were not used when initializing TFBertModel: ['nsp___cls', 'mlm___cls']\n",
            "- This IS expected if you are initializing TFBertModel from the checkpoint of a model trained on another task or with another architecture (e.g. initializing a BertForSequenceClassification model from a BertForPreTraining model).\n",
            "- This IS NOT expected if you are initializing TFBertModel from the checkpoint of a model that you expect to be exactly identical (initializing a BertForSequenceClassification model from a BertForSequenceClassification model).\n",
            "All the layers of TFBertModel were initialized from the model checkpoint at bert-base-cased.\n",
            "If your task is similar to the task the model of the checkpoint was trained on, you can already use TFBertModel for predictions without further training.\n"
          ]
        }
      ]
    },
    {
      "cell_type": "code",
      "source": [
        "pooled_bert_model_history = pooled_bert_model.fit([x_train.input_ids, x_train.token_type_ids, x_train.attention_mask], \n",
        "                                                  y_train,   \n",
        "                                                  validation_data=([x_test.input_ids, x_test.token_type_ids, x_test.attention_mask], y_test),\n",
        "                                                  class_weight = class_weight,   \n",
        "                                                  batch_size=8, \n",
        "                                                  epochs=1)  "
      ],
      "metadata": {
        "id": "Z2H4_W9TddnM",
        "colab": {
          "base_uri": "https://localhost:8080/"
        },
        "outputId": "552a9523-8e45-4145-f409-a98acc44e4d0"
      },
      "execution_count": null,
      "outputs": [
        {
          "output_type": "stream",
          "name": "stdout",
          "text": [
            "611/611 [==============================] - 92s 122ms/step - loss: 0.1333 - accuracy: 0.9642 - val_loss: 0.0722 - val_accuracy: 0.9853\n"
          ]
        }
      ]
    },
    {
      "cell_type": "code",
      "source": [
        ""
      ],
      "metadata": {
        "id": "3K2UBrszEDyP"
      },
      "execution_count": null,
      "outputs": []
    },
    {
      "cell_type": "code",
      "source": [
        "train_predict_labels = pooled_bert_model.predict([x_train.input_ids, x_train.token_type_ids, x_train.attention_mask])\n",
        "train_y_predict = train_predict_labels.round(0)"
      ],
      "metadata": {
        "id": "SQvNSj_Ihzt6"
      },
      "execution_count": null,
      "outputs": []
    },
    {
      "cell_type": "code",
      "source": [
        "test_predict_labels = pooled_bert_model.predict([x_test.input_ids, x_test.token_type_ids, x_test.attention_mask])\n",
        "test_y_predict = test_predict_labels.round(0)"
      ],
      "metadata": {
        "id": "tITeF3S-mNhh"
      },
      "execution_count": null,
      "outputs": []
    },
    {
      "cell_type": "markdown",
      "source": [
        "##### Train report"
      ],
      "metadata": {
        "id": "ZuDpR0Db0q3r"
      }
    },
    {
      "cell_type": "code",
      "source": [
        "sns.heatmap(confusion_matrix(np.array(train_y, int), np.array(train_y_predict.reshape(-1), int)), annot=True, fmt='g')  #annot=True to annotate cells, ftm='g' to disable scientific notation"
      ],
      "metadata": {
        "id": "t7sl94GmpB44",
        "colab": {
          "base_uri": "https://localhost:8080/",
          "height": 283
        },
        "outputId": "bc50a3d2-2a07-4b48-f777-304e8042f637"
      },
      "execution_count": null,
      "outputs": [
        {
          "output_type": "execute_result",
          "data": {
            "text/plain": [
              "<matplotlib.axes._subplots.AxesSubplot at 0x7f3db79d8d50>"
            ]
          },
          "metadata": {},
          "execution_count": 117
        },
        {
          "output_type": "display_data",
          "data": {
            "text/plain": [
              "<Figure size 432x288 with 2 Axes>"
            ],
            "image/png": "[encoded data removed]"
          },
          "metadata": {
            "needs_background": "light"
          }
        }
      ]
    },
    {
      "cell_type": "code",
      "source": [
        "print_metrics('BERT + FCN, train data: ', np.array(train_y, int), train_y_predict)"
      ],
      "metadata": {
        "id": "6DPLZ7TMq5Ci",
        "colab": {
          "base_uri": "https://localhost:8080/"
        },
        "outputId": "08a528b4-c55b-4a71-8bd9-10fcbe439bd8"
      },
      "execution_count": null,
      "outputs": [
        {
          "output_type": "stream",
          "name": "stdout",
          "text": [
            "BERT + FCN, train data: : accuracy = 0.9928, precision = 0.9852, recall = 0.9803, f1 = 0.9828\n"
          ]
        }
      ]
    },
    {
      "cell_type": "markdown",
      "source": [
        "##### Test report"
      ],
      "metadata": {
        "id": "GSnDZLuR0uec"
      }
    },
    {
      "cell_type": "code",
      "source": [
        "sns.heatmap(confusion_matrix(np.array(test_y, int), np.array(test_y_predict.reshape(-1), int)), annot=True, fmt='g')  #annot=True to annotate cells, ftm='g' to disable scientific notation"
      ],
      "metadata": {
        "id": "fkVzGDvO0w_X",
        "colab": {
          "base_uri": "https://localhost:8080/",
          "height": 283
        },
        "outputId": "e937817b-56ea-4237-a4d5-4acb1f61d856"
      },
      "execution_count": null,
      "outputs": [
        {
          "output_type": "execute_result",
          "data": {
            "text/plain": [
              "<matplotlib.axes._subplots.AxesSubplot at 0x7f3db796b2d0>"
            ]
          },
          "metadata": {},
          "execution_count": 119
        },
        {
          "output_type": "display_data",
          "data": {
            "text/plain": [
              "<Figure size 432x288 with 2 Axes>"
            ],
            "image/png": "[encoded data removed]"
          },
          "metadata": {
            "needs_background": "light"
          }
        }
      ]
    },
    {
      "cell_type": "code",
      "source": [
        "print_metrics('BERT + FCN, test data: ', np.array(test_y, int), test_y_predict)"
      ],
      "metadata": {
        "id": "AJTkYBdb0xZ4",
        "colab": {
          "base_uri": "https://localhost:8080/"
        },
        "outputId": "b11f0693-5010-4a5e-e108-f43ae3aa00af"
      },
      "execution_count": null,
      "outputs": [
        {
          "output_type": "stream",
          "name": "stdout",
          "text": [
            "BERT + FCN, test data: : accuracy = 0.9853, precision = 0.9730, recall = 0.9582, f1 = 0.9655\n"
          ]
        }
      ]
    },
    {
      "cell_type": "markdown",
      "source": [
        "#### BERT Analysis"
      ],
      "metadata": {
        "id": "nvR_4nFjOZ8W"
      }
    },
    {
      "cell_type": "code",
      "source": [
        "train_y_predict = train_y_predict.ravel()"
      ],
      "metadata": {
        "id": "r9GIj68vnXge"
      },
      "execution_count": null,
      "outputs": []
    },
    {
      "cell_type": "code",
      "source": [
        "# spam examples\n",
        "data['text'][data[\"spam\"] == 1]"
      ],
      "metadata": {
        "id": "jDIZfakXgsOC",
        "colab": {
          "base_uri": "https://localhost:8080/"
        },
        "outputId": "8c3a5d33-8264-47a1-b301-febcd46ec072"
      },
      "execution_count": null,
      "outputs": [
        {
          "output_type": "execute_result",
          "data": {
            "text/plain": [
              "2       Free entry in 2 a wkly comp to win FA Cup fina...\n",
              "5       FreeMsg Hey there darling it's been 3 week's n...\n",
              "8       WINNER!! As a valued network customer you have...\n",
              "9       Had your mobile 11 months or more? U R entitle...\n",
              "11      SIX chances to win CASH! From 100 to 20,000 po...\n",
              "                              ...                        \n",
              "6102    You have passed the official certification onl...\n",
              "6103    Win The Big J@CKP0T Up To 1M PHP! 100 GET 100,...\n",
              "6104    Hi, I'm a Shopee Hiring Manager and I'm curren...\n",
              "6105    4 PCS SOLAR LIGHTS FOR ONLY 1,499 !\n",
              "Pinaka mur...\n",
              "6106    Sissy, 1P lang per bet kay cutt.ly/BingoPlus-P...\n",
              "Name: text, Length: 1280, dtype: string"
            ]
          },
          "metadata": {},
          "execution_count": 122
        }
      ]
    },
    {
      "cell_type": "code",
      "source": [
        "missclassified_text = train_X[train_y != train_y_predict]\n",
        "missclassified_label = train_y[train_y != train_y_predict]\n",
        "\n",
        "df_report = pd.DataFrame({'missclassified_text': missclassified_text, 'missclassified_true_label': missclassified_label})\n",
        "\n",
        "#df_report['missclassified_true_label'].value_counts()\n",
        "df_report"
      ],
      "metadata": {
        "id": "zhz2qnZqJHdX",
        "colab": {
          "base_uri": "https://localhost:8080/",
          "height": 1000
        },
        "outputId": "98b1bba9-a93c-44f7-ab57-ceb819b14cc3"
      },
      "execution_count": null,
      "outputs": [
        {
          "output_type": "execute_result",
          "data": {
            "text/plain": [
              "                                    missclassified_text  \\\n",
              "1612                                                645   \n",
              "2247  Hi ya babe x u 4goten bout me?' scammers getti...   \n",
              "1290  Hey...Great deal...Farm tour 9am to 5pm $95/pa...   \n",
              "1729  As per your request 'Maangalyam (Alaipayuthe)'...   \n",
              "1353  Let Ur Heart Be Ur Compass Ur Mind Ur Map Ur S...   \n",
              "5767     Stay a while 'cause somethings always cooking.   \n",
              "5687  Huwag sayangin ang boto. Dito na sa sigurado. ...   \n",
              "4249  accordingly. I repeat, just text the word ok o...   \n",
              "1766  Hi this is yijue... It's regarding the 3230 te...   \n",
              "1407  URGENT, IMPORTANT INFORMATION FOR O2 USER. TOD...   \n",
              "3824  Please protect yourself from e-threats. SIB ne...   \n",
              "2823  ROMCAPspam Everyone around should be respondin...   \n",
              "384          Hey i will be late ah... Meet you at 945+\n",
              "   \n",
              "2965  Do you ever notice that when you're driving, a...   \n",
              "5768          Come on in, feel free to do some looking.   \n",
              "692   Sorry to trouble u again. Can buy 4d for my da...   \n",
              "4762  It's é only $140 ard...É rest all ard $180 at ...   \n",
              "4394  RECPT 1/3. You have ordered a Ringtone. Your o...   \n",
              "2692                       Hey tmr meet at bugis 930 ?\n",
              "   \n",
              "5771  My Grandfather smoked his whole life. I was ab...   \n",
              "68    Did you hear about the new \"Divorce Barbie\"? I...   \n",
              "5486  , ,  and  picking them up from various points ...   \n",
              "227   Will u meet ur dream partner soon? Is ur caree...   \n",
              "5791  ,,need low % for Money this time..im willing t...   \n",
              "4949  Hi this is Amy, we will be sending you a free ...   \n",
              "1724  Hi Jon, Pete here, Ive bin 2 Spain recently & ...   \n",
              "5773               Budget for all your needs, type yes    \n",
              "4650  Please protect yourself from e-threats. SIB ne...   \n",
              "1875  Would you like to see my XXX pics they are so ...   \n",
              "6015  Hey! Reply me here because it's not connecting...   \n",
              "3291  My tuition is at 330. Hm we go for the 1120 to...   \n",
              "6070            Replt to my email now; mlvbxz@gmail.com   \n",
              "869   Hello. We need some posh birds and chaps to us...   \n",
              "5451  Latest News! Police station toilet stolen, cop...   \n",
              "3539  We are pleased to inform that your application...   \n",
              "\n",
              "      missclassified_true_label  \n",
              "1612                          0  \n",
              "2247                          1  \n",
              "1290                          0  \n",
              "1729                          0  \n",
              "1353                          0  \n",
              "5767                          1  \n",
              "5687                          1  \n",
              "4249                          1  \n",
              "1766                          0  \n",
              "1407                          1  \n",
              "3824                          0  \n",
              "2823                          1  \n",
              "384                           0  \n",
              "2965                          1  \n",
              "5768                          1  \n",
              "692                           0  \n",
              "4762                          0  \n",
              "4394                          1  \n",
              "2692                          0  \n",
              "5771                          1  \n",
              "68                            1  \n",
              "5486                          0  \n",
              "227                           1  \n",
              "5791                          1  \n",
              "4949                          1  \n",
              "1724                          0  \n",
              "5773                          1  \n",
              "4650                          0  \n",
              "1875                          1  \n",
              "6015                          1  \n",
              "3291                          0  \n",
              "6070                          1  \n",
              "869                           1  \n",
              "5451                          1  \n",
              "3539                          0  "
            ],
            "text/html": [
              "\n",
              "  <div id=\"df-5f34fea9-1ec9-4510-a6c0-611931202292\">\n",
              "    <div class=\"colab-df-container\">\n",
              "      <div>\n",
              "<style scoped>\n",
              "    .dataframe tbody tr th:only-of-type {\n",
              "        vertical-align: middle;\n",
              "    }\n",
              "\n",
              "    .dataframe tbody tr th {\n",
              "        vertical-align: top;\n",
              "    }\n",
              "\n",
              "    .dataframe thead th {\n",
              "        text-align: right;\n",
              "    }\n",
              "</style>\n",
              "<table border=\"1\" class=\"dataframe\">\n",
              "  <thead>\n",
              "    <tr style=\"text-align: right;\">\n",
              "      <th></th>\n",
              "      <th>missclassified_text</th>\n",
              "      <th>missclassified_true_label</th>\n",
              "    </tr>\n",
              "  </thead>\n",
              "  <tbody>\n",
              "    <tr>\n",
              "      <th>1612</th>\n",
              "      <td>645</td>\n",
              "      <td>0</td>\n",
              "    </tr>\n",
              "    <tr>\n",
              "      <th>2247</th>\n",
              "      <td>Hi ya babe x u 4goten bout me?' scammers getti...</td>\n",
              "      <td>1</td>\n",
              "    </tr>\n",
              "    <tr>\n",
              "      <th>1290</th>\n",
              "      <td>Hey...Great deal...Farm tour 9am to 5pm $95/pa...</td>\n",
              "      <td>0</td>\n",
              "    </tr>\n",
              "    <tr>\n",
              "      <th>1729</th>\n",
              "      <td>As per your request 'Maangalyam (Alaipayuthe)'...</td>\n",
              "      <td>0</td>\n",
              "    </tr>\n",
              "    <tr>\n",
              "      <th>1353</th>\n",
              "      <td>Let Ur Heart Be Ur Compass Ur Mind Ur Map Ur S...</td>\n",
              "      <td>0</td>\n",
              "    </tr>\n",
              "    <tr>\n",
              "      <th>5767</th>\n",
              "      <td>Stay a while 'cause somethings always cooking.</td>\n",
              "      <td>1</td>\n",
              "    </tr>\n",
              "    <tr>\n",
              "      <th>5687</th>\n",
              "      <td>Huwag sayangin ang boto. Dito na sa sigurado. ...</td>\n",
              "      <td>1</td>\n",
              "    </tr>\n",
              "    <tr>\n",
              "      <th>4249</th>\n",
              "      <td>accordingly. I repeat, just text the word ok o...</td>\n",
              "      <td>1</td>\n",
              "    </tr>\n",
              "    <tr>\n",
              "      <th>1766</th>\n",
              "      <td>Hi this is yijue... It's regarding the 3230 te...</td>\n",
              "      <td>0</td>\n",
              "    </tr>\n",
              "    <tr>\n",
              "      <th>1407</th>\n",
              "      <td>URGENT, IMPORTANT INFORMATION FOR O2 USER. TOD...</td>\n",
              "      <td>1</td>\n",
              "    </tr>\n",
              "    <tr>\n",
              "      <th>3824</th>\n",
              "      <td>Please protect yourself from e-threats. SIB ne...</td>\n",
              "      <td>0</td>\n",
              "    </tr>\n",
              "    <tr>\n",
              "      <th>2823</th>\n",
              "      <td>ROMCAPspam Everyone around should be respondin...</td>\n",
              "      <td>1</td>\n",
              "    </tr>\n",
              "    <tr>\n",
              "      <th>384</th>\n",
              "      <td>Hey i will be late ah... Meet you at 945+</td>\n",
              "      <td>0</td>\n",
              "    </tr>\n",
              "    <tr>\n",
              "      <th>2965</th>\n",
              "      <td>Do you ever notice that when you're driving, a...</td>\n",
              "      <td>1</td>\n",
              "    </tr>\n",
              "    <tr>\n",
              "      <th>5768</th>\n",
              "      <td>Come on in, feel free to do some looking.</td>\n",
              "      <td>1</td>\n",
              "    </tr>\n",
              "    <tr>\n",
              "      <th>692</th>\n",
              "      <td>Sorry to trouble u again. Can buy 4d for my da...</td>\n",
              "      <td>0</td>\n",
              "    </tr>\n",
              "    <tr>\n",
              "      <th>4762</th>\n",
              "      <td>It's é only $140 ard...É rest all ard $180 at ...</td>\n",
              "      <td>0</td>\n",
              "    </tr>\n",
              "    <tr>\n",
              "      <th>4394</th>\n",
              "      <td>RECPT 1/3. You have ordered a Ringtone. Your o...</td>\n",
              "      <td>1</td>\n",
              "    </tr>\n",
              "    <tr>\n",
              "      <th>2692</th>\n",
              "      <td>Hey tmr meet at bugis 930 ?</td>\n",
              "      <td>0</td>\n",
              "    </tr>\n",
              "    <tr>\n",
              "      <th>5771</th>\n",
              "      <td>My Grandfather smoked his whole life. I was ab...</td>\n",
              "      <td>1</td>\n",
              "    </tr>\n",
              "    <tr>\n",
              "      <th>68</th>\n",
              "      <td>Did you hear about the new \"Divorce Barbie\"? I...</td>\n",
              "      <td>1</td>\n",
              "    </tr>\n",
              "    <tr>\n",
              "      <th>5486</th>\n",
              "      <td>, ,  and  picking them up from various points ...</td>\n",
              "      <td>0</td>\n",
              "    </tr>\n",
              "    <tr>\n",
              "      <th>227</th>\n",
              "      <td>Will u meet ur dream partner soon? Is ur caree...</td>\n",
              "      <td>1</td>\n",
              "    </tr>\n",
              "    <tr>\n",
              "      <th>5791</th>\n",
              "      <td>,,need low % for Money this time..im willing t...</td>\n",
              "      <td>1</td>\n",
              "    </tr>\n",
              "    <tr>\n",
              "      <th>4949</th>\n",
              "      <td>Hi this is Amy, we will be sending you a free ...</td>\n",
              "      <td>1</td>\n",
              "    </tr>\n",
              "    <tr>\n",
              "      <th>1724</th>\n",
              "      <td>Hi Jon, Pete here, Ive bin 2 Spain recently &amp; ...</td>\n",
              "      <td>0</td>\n",
              "    </tr>\n",
              "    <tr>\n",
              "      <th>5773</th>\n",
              "      <td>Budget for all your needs, type yes</td>\n",
              "      <td>1</td>\n",
              "    </tr>\n",
              "    <tr>\n",
              "      <th>4650</th>\n",
              "      <td>Please protect yourself from e-threats. SIB ne...</td>\n",
              "      <td>0</td>\n",
              "    </tr>\n",
              "    <tr>\n",
              "      <th>1875</th>\n",
              "      <td>Would you like to see my XXX pics they are so ...</td>\n",
              "      <td>1</td>\n",
              "    </tr>\n",
              "    <tr>\n",
              "      <th>6015</th>\n",
              "      <td>Hey! Reply me here because it's not connecting...</td>\n",
              "      <td>1</td>\n",
              "    </tr>\n",
              "    <tr>\n",
              "      <th>3291</th>\n",
              "      <td>My tuition is at 330. Hm we go for the 1120 to...</td>\n",
              "      <td>0</td>\n",
              "    </tr>\n",
              "    <tr>\n",
              "      <th>6070</th>\n",
              "      <td>Replt to my email now; mlvbxz@gmail.com</td>\n",
              "      <td>1</td>\n",
              "    </tr>\n",
              "    <tr>\n",
              "      <th>869</th>\n",
              "      <td>Hello. We need some posh birds and chaps to us...</td>\n",
              "      <td>1</td>\n",
              "    </tr>\n",
              "    <tr>\n",
              "      <th>5451</th>\n",
              "      <td>Latest News! Police station toilet stolen, cop...</td>\n",
              "      <td>1</td>\n",
              "    </tr>\n",
              "    <tr>\n",
              "      <th>3539</th>\n",
              "      <td>We are pleased to inform that your application...</td>\n",
              "      <td>0</td>\n",
              "    </tr>\n",
              "  </tbody>\n",
              "</table>\n",
              "</div>\n",
              "      <button class=\"colab-df-convert\" onclick=\"convertToInteractive('df-5f34fea9-1ec9-4510-a6c0-611931202292')\"\n",
              "              title=\"Convert this dataframe to an interactive table.\"\n",
              "              style=\"display:none;\">\n",
              "        \n",
              "  <svg xmlns=\"http://www.w3.org/2000/svg\" height=\"24px\"viewBox=\"0 0 24 24\"\n",
              "       width=\"24px\">\n",
              "    <path d=\"M0 0h24v24H0V0z\" fill=\"none\"/>\n",
              "    <path d=\"M18.56 5.44l.94 2.06.94-2.06 2.06-.94-2.06-.94-.94-2.06-.94 2.06-2.06.94zm-11 1L8.5 8.5l.94-2.06 2.06-.94-2.06-.94L8.5 2.5l-.94 2.06-2.06.94zm10 10l.94 2.06.94-2.06 2.06-.94-2.06-.94-.94-2.06-.94 2.06-2.06.94z\"/><path d=\"M17.41 7.96l-1.37-1.37c-.4-.4-.92-.59-1.43-.59-.52 0-1.04.2-1.43.59L10.3 9.45l-7.72 7.72c-.78.78-.78 2.05 0 2.83L4 21.41c.39.39.9.59 1.41.59.51 0 1.02-.2 1.41-.59l7.78-7.78 2.81-2.81c.8-.78.8-2.07 0-2.86zM5.41 20L4 18.59l7.72-7.72 1.47 1.35L5.41 20z\"/>\n",
              "  </svg>\n",
              "      </button>\n",
              "      \n",
              "  <style>\n",
              "    .colab-df-container {\n",
              "      display:flex;\n",
              "      flex-wrap:wrap;\n",
              "      gap: 12px;\n",
              "    }\n",
              "\n",
              "    .colab-df-convert {\n",
              "      background-color: #E8F0FE;\n",
              "      border: none;\n",
              "      border-radius: 50%;\n",
              "      cursor: pointer;\n",
              "      display: none;\n",
              "      fill: #1967D2;\n",
              "      height: 32px;\n",
              "      padding: 0 0 0 0;\n",
              "      width: 32px;\n",
              "    }\n",
              "\n",
              "    .colab-df-convert:hover {\n",
              "      background-color: #E2EBFA;\n",
              "      box-shadow: 0px 1px 2px rgba(60, 64, 67, 0.3), 0px 1px 3px 1px rgba(60, 64, 67, 0.15);\n",
              "      fill: #174EA6;\n",
              "    }\n",
              "\n",
              "    [theme=dark] .colab-df-convert {\n",
              "      background-color: #3B4455;\n",
              "      fill: #D2E3FC;\n",
              "    }\n",
              "\n",
              "    [theme=dark] .colab-df-convert:hover {\n",
              "      background-color: #434B5C;\n",
              "      box-shadow: 0px 1px 3px 1px rgba(0, 0, 0, 0.15);\n",
              "      filter: drop-shadow(0px 1px 2px rgba(0, 0, 0, 0.3));\n",
              "      fill: #FFFFFF;\n",
              "    }\n",
              "  </style>\n",
              "\n",
              "      <script>\n",
              "        const buttonEl =\n",
              "          document.querySelector('#df-5f34fea9-1ec9-4510-a6c0-611931202292 button.colab-df-convert');\n",
              "        buttonEl.style.display =\n",
              "          google.colab.kernel.accessAllowed ? 'block' : 'none';\n",
              "\n",
              "        async function convertToInteractive(key) {\n",
              "          const element = document.querySelector('#df-5f34fea9-1ec9-4510-a6c0-611931202292');\n",
              "          const dataTable =\n",
              "            await google.colab.kernel.invokeFunction('convertToInteractive',\n",
              "                                                     [key], {});\n",
              "          if (!dataTable) return;\n",
              "\n",
              "          const docLinkHtml = 'Like what you see? Visit the ' +\n",
              "            '<a target=\"_blank\" href=https://colab.research.google.com/notebooks/data_table.ipynb>data table notebook</a>'\n",
              "            + ' to learn more about interactive tables.';\n",
              "          element.innerHTML = '';\n",
              "          dataTable['output_type'] = 'display_data';\n",
              "          await google.colab.output.renderOutput(dataTable, element);\n",
              "          const docLink = document.createElement('div');\n",
              "          docLink.innerHTML = docLinkHtml;\n",
              "          element.appendChild(docLink);\n",
              "        }\n",
              "      </script>\n",
              "    </div>\n",
              "  </div>\n",
              "  "
            ]
          },
          "metadata": {},
          "execution_count": 123
        }
      ]
    },
    {
      "cell_type": "code",
      "source": [
        "#train_X[train_y != train_y_predict].loc[1460]"
      ],
      "metadata": {
        "id": "NS5sFIWen1xA"
      },
      "execution_count": null,
      "outputs": []
    },
    {
      "cell_type": "code",
      "source": [
        "df_report.loc[2965]"
      ],
      "metadata": {
        "id": "Dg1gvY-gKQXr",
        "colab": {
          "base_uri": "https://localhost:8080/"
        },
        "outputId": "a64849bf-17b7-4dec-e12a-1ee56af549b1"
      },
      "execution_count": null,
      "outputs": [
        {
          "output_type": "execute_result",
          "data": {
            "text/plain": [
              "missclassified_text          Do you ever notice that when you're driving, a...\n",
              "missclassified_true_label                                                    1\n",
              "Name: 2965, dtype: object"
            ]
          },
          "metadata": {},
          "execution_count": 125
        }
      ]
    },
    {
      "cell_type": "markdown",
      "source": [
        "##### Baseline BERT observations\n",
        "-----------------------------\n",
        "\n",
        "As expected more text messages that were SPAM got classified as HAM because HAM is the majority class in our dataset.\n",
        "\n",
        "I looked at a couple examples of texts that got misclassified as HAM and they're tricky to tell if it's a ham or spam messages. The 2 examples contained generic sayings that even a human could mistakenly classify as spam.\n",
        "\n",
        "\n",
        "*Let Ur Heart Be Ur Compass Ur Mind Ur Map Ur Soul Ur Guide And U Will Never loose in world....gnun - Sent via WAY2SMS.COM*\n",
        "\n",
        "*1Apple/Day=No Doctor. 1Tulsi Leaf/Day=No Cancer. 1Lemon/Day=No Fat. 1Cup Milk/day=No Bone Problms 3 Litres Watr/Day=No Diseases Snd ths 2 Whom U Care..:-)*\n",
        "\n",
        "\n",
        "In general the misclassified messages are hard to tell for certain that they are ham or spam.\n"
      ],
      "metadata": {
        "id": "8skK76XCHeC-"
      }
    },
    {
      "cell_type": "markdown",
      "source": [
        "#### BERT + CNN"
      ],
      "metadata": {
        "id": "wcXX9CM28l71"
      }
    },
    {
      "cell_type": "code",
      "source": [
        "def create_bert_cnn_model(train_layers=-1,\n",
        "                          hidden_size = 100, \n",
        "                          learning_rate=0.00005,\n",
        "                          num_filters = [100, 100, 50, 25],\n",
        "                          kernel_sizes = [3, 5, 10, 20],\n",
        "                          dense_layer_dims = 100,\n",
        "                          dropout = 0.3):\n",
        "    \"\"\"\n",
        "    Build a  classification model with BERT, where you apply CNN layers  to the BERT output\n",
        "    \"\"\"\n",
        "\n",
        "    ### YOUR CODE HERE\n",
        "\n",
        "    bert_model = TFBertModel.from_pretrained('bert-base-cased')\n",
        "\n",
        "    # TO-DO: play around with restricting and not restricting BERT layers\n",
        "    #restrict training to the train_layers outer transformer layers\n",
        "    if not train_layers == -1:\n",
        "\n",
        "            retrain_layers = []\n",
        "\n",
        "            for retrain_layer_number in range(train_layers):\n",
        "\n",
        "                layer_code = '_' + str(11 - retrain_layer_number)\n",
        "                retrain_layers.append(layer_code)\n",
        "\n",
        "            for w in bert_model.weights:\n",
        "                if not any([x in w.name for x in retrain_layers]):\n",
        "                    w._trainable = False\n",
        "    \n",
        "    input_ids = tf.keras.layers.Input(shape=(max_length,), dtype=tf.int64, name='input_ids_layer') \n",
        "    token_type_ids = tf.keras.layers.Input(shape=(max_length,), dtype=tf.int64, name='token_type_ids_layer')\n",
        "    attention_mask = tf.keras.layers.Input(shape=(max_length,), dtype=tf.int64, name='attention_mask_layer')\n",
        "\n",
        "    # bert_inputs = {'input_ids': input_ids} \n",
        "    bert_inputs = {'input_ids': input_ids,\n",
        "                'token_type_ids': token_type_ids,\n",
        "                'attention_mask': attention_mask}      \n",
        "\n",
        "    bert_out = bert_model(bert_inputs) \n",
        "\n",
        "    pooled_token = bert_out[0][:, 1:-1]\n",
        "\n",
        "    # CNN -----\n",
        "\n",
        "    conv_layers_for_all_kernel_sizes = []\n",
        "    for kernel_size, filters in zip(kernel_sizes, num_filters):\n",
        "        conv_layer = keras.layers.Conv1D(filters=filters, kernel_size=kernel_size, activation='relu')(pooled_token)\n",
        "        conv_layer = keras.layers.GlobalMaxPooling1D()(conv_layer)\n",
        "        conv_layers_for_all_kernel_sizes.append(conv_layer)\n",
        "\n",
        "    h = keras.layers.concatenate(conv_layers_for_all_kernel_sizes, axis=1)\n",
        "    #h = keras.layers.Dropout(rate=dropout)(h)\n",
        "\n",
        "    h = tf.keras.layers.Dense(dense_layer_dims, activation='relu')(h)\n",
        "    h = tf.keras.layers.Dropout(rate=dropout)(h) \n",
        "\n",
        "    # -----\n",
        "\n",
        "    classification = tf.keras.layers.Dense(1, activation='sigmoid',name='classification_layer')(h)\n",
        "\n",
        "    # classification_model = tf.keras.Model(inputs=[input_ids], outputs=[classification])\n",
        "    classification_model = tf.keras.Model(inputs=[input_ids, token_type_ids, attention_mask], outputs=[classification])\n",
        "    \n",
        "    classification_model.compile(optimizer=tf.keras.optimizers.Adam(learning_rate=learning_rate),\n",
        "                            loss=tf.keras.losses.BinaryCrossentropy(from_logits=False), \n",
        "                            metrics='accuracy')\n",
        "\n",
        "\n",
        "    ### END YOUR CODE\n",
        "    \n",
        "    return classification_model"
      ],
      "metadata": {
        "id": "jKXuto0I8pNY"
      },
      "execution_count": null,
      "outputs": []
    },
    {
      "cell_type": "code",
      "source": [
        "cnn_bert_model = create_bert_cnn_model()\n",
        "\n",
        "cnn_bert_model_history = cnn_bert_model.fit([x_train.input_ids, x_train.token_type_ids, x_train.attention_mask], \n",
        "                                            y_train,   \n",
        "                                            validation_data=([x_test.input_ids, x_test.token_type_ids, x_test.attention_mask], y_test),    \n",
        "                                            class_weight = class_weight, \n",
        "                                            batch_size=8, \n",
        "                                            epochs=1)  "
      ],
      "metadata": {
        "id": "fkQ5v7lI9Ppr",
        "colab": {
          "base_uri": "https://localhost:8080/"
        },
        "outputId": "0dd172cc-aa6d-4ffa-90af-d466e5672ad9"
      },
      "execution_count": null,
      "outputs": [
        {
          "output_type": "stream",
          "name": "stderr",
          "text": [
            "Some layers from the model checkpoint at bert-base-cased were not used when initializing TFBertModel: ['nsp___cls', 'mlm___cls']\n",
            "- This IS expected if you are initializing TFBertModel from the checkpoint of a model trained on another task or with another architecture (e.g. initializing a BertForSequenceClassification model from a BertForPreTraining model).\n",
            "- This IS NOT expected if you are initializing TFBertModel from the checkpoint of a model that you expect to be exactly identical (initializing a BertForSequenceClassification model from a BertForSequenceClassification model).\n",
            "All the layers of TFBertModel were initialized from the model checkpoint at bert-base-cased.\n",
            "If your task is similar to the task the model of the checkpoint was trained on, you can already use TFBertModel for predictions without further training.\n"
          ]
        },
        {
          "output_type": "stream",
          "name": "stdout",
          "text": [
            "WARNING:tensorflow:Gradients do not exist for variables ['tf_bert_model_4/bert/pooler/dense/kernel:0', 'tf_bert_model_4/bert/pooler/dense/bias:0'] when minimizing the loss. If you're using `model.compile()`, did you forget to provide a `loss`argument?\n",
            "WARNING:tensorflow:Gradients do not exist for variables ['tf_bert_model_4/bert/pooler/dense/kernel:0', 'tf_bert_model_4/bert/pooler/dense/bias:0'] when minimizing the loss. If you're using `model.compile()`, did you forget to provide a `loss`argument?\n",
            "611/611 [==============================] - 81s 106ms/step - loss: 0.1106 - accuracy: 0.9650 - val_loss: 0.0691 - val_accuracy: 0.9828\n"
          ]
        }
      ]
    },
    {
      "cell_type": "code",
      "source": [
        "predict_labels = cnn_bert_model.predict([x_train.input_ids, x_train.token_type_ids, x_train.attention_mask])\n",
        "train_y_predict = predict_labels.round(0)\n",
        "test_predict_labels = cnn_bert_model.predict([x_test.input_ids, x_test.token_type_ids, x_test.attention_mask])\n",
        "test_y_predict = test_predict_labels.round(0)"
      ],
      "metadata": {
        "id": "zw3v5VG0BAjT"
      },
      "execution_count": null,
      "outputs": []
    },
    {
      "cell_type": "code",
      "source": [
        ""
      ],
      "metadata": {
        "id": "ORW4C-bR3Z_v"
      },
      "execution_count": null,
      "outputs": []
    },
    {
      "cell_type": "markdown",
      "source": [
        "##### Train report"
      ],
      "metadata": {
        "id": "5Gp9o1HI2tC1"
      }
    },
    {
      "cell_type": "code",
      "source": [
        "sns.heatmap(confusion_matrix(np.array(train_y, int), np.array(train_y_predict.reshape(-1), int)), annot=True, fmt='g')  #annot=True to annotate cells, ftm='g' to disable scientific notation"
      ],
      "metadata": {
        "id": "IW32_54PCpg1",
        "colab": {
          "base_uri": "https://localhost:8080/",
          "height": 283
        },
        "outputId": "c193ad68-c289-43ba-bafb-210868e725d5"
      },
      "execution_count": null,
      "outputs": [
        {
          "output_type": "execute_result",
          "data": {
            "text/plain": [
              "<matplotlib.axes._subplots.AxesSubplot at 0x7f3db61d4450>"
            ]
          },
          "metadata": {},
          "execution_count": 129
        },
        {
          "output_type": "display_data",
          "data": {
            "text/plain": [
              "<Figure size 432x288 with 2 Axes>"
            ],
            "image/png": "[encoded data removed]"
          },
          "metadata": {
            "needs_background": "light"
          }
        }
      ]
    },
    {
      "cell_type": "code",
      "source": [
        "print_metrics('BERT + CNN, train data: ', np.array(train_y, int), train_y_predict)"
      ],
      "metadata": {
        "id": "msQ5VDvRCrpQ",
        "colab": {
          "base_uri": "https://localhost:8080/"
        },
        "outputId": "dff19ae9-f54c-45ba-b6dd-03c922b11070"
      },
      "execution_count": null,
      "outputs": [
        {
          "output_type": "stream",
          "name": "stdout",
          "text": [
            "BERT + CNN, train data: : accuracy = 0.9941, precision = 0.9778, recall = 0.9941, f1 = 0.9859\n"
          ]
        }
      ]
    },
    {
      "cell_type": "markdown",
      "source": [
        "##### Test report"
      ],
      "metadata": {
        "id": "4OnfDJiJ3khq"
      }
    },
    {
      "cell_type": "code",
      "source": [
        "sns.heatmap(confusion_matrix(np.array(test_y, int), np.array(test_y_predict.reshape(-1), int)), annot=True, fmt='g')  #annot=True to annotate cells, ftm='g' to disable scientific notation"
      ],
      "metadata": {
        "id": "3Yvu9Rsk4Dd-",
        "colab": {
          "base_uri": "https://localhost:8080/",
          "height": 283
        },
        "outputId": "1bee0987-4dd9-4138-d2b6-5768e0407aa8"
      },
      "execution_count": null,
      "outputs": [
        {
          "output_type": "execute_result",
          "data": {
            "text/plain": [
              "<matplotlib.axes._subplots.AxesSubplot at 0x7f3db7a3f910>"
            ]
          },
          "metadata": {},
          "execution_count": 131
        },
        {
          "output_type": "display_data",
          "data": {
            "text/plain": [
              "<Figure size 432x288 with 2 Axes>"
            ],
            "image/png": "[encoded data removed]"
          },
          "metadata": {
            "needs_background": "light"
          }
        }
      ]
    },
    {
      "cell_type": "code",
      "source": [
        "print_metrics('BERT + CNN, test data: ', np.array(test_y, int), test_y_predict)"
      ],
      "metadata": {
        "id": "2lQNG1Oz3o7M",
        "colab": {
          "base_uri": "https://localhost:8080/"
        },
        "outputId": "e4b2b7c7-b17b-4193-8753-e93dd452398d"
      },
      "execution_count": null,
      "outputs": [
        {
          "output_type": "stream",
          "name": "stdout",
          "text": [
            "BERT + CNN, test data: : accuracy = 0.9828, precision = 0.9481, recall = 0.9734, f1 = 0.9606\n"
          ]
        }
      ]
    },
    {
      "cell_type": "markdown",
      "source": [
        "- Train\n",
        "\n",
        "  - Word2Vec embeddings\n",
        "    - CNN  |  accuracy = 0.9336, precision = 0.8344, recall = 0.8700, f1 = 0.8519\n",
        "    - LSTM  |  accuracy = 0.9172, precision = 0.8217, recall = 0.7956, f1 = 0.8085\n",
        "\n",
        "  - BERT with\n",
        "    - Fully connected network  |  accuracy = 0.9873, precision = 0.9827, recall = 0.9555, f1 = 0.9689\n",
        "    - CNN  |  accuracy = 0.9865, precision = 1.0000, recall = 0.9348, f1 = 0.9663\n",
        "\n",
        "- Test\n",
        "\n",
        "  - Word2Vec embeddings\n",
        "    - W2V + CNN, test data: : accuracy = 0.8949, precision = 0.7567, recall = 0.7773, f1 = 0.7669\n",
        "    - W2V + LSTM model, test data: : accuracy = 0.8897, precision = 0.7452, recall = 0.7656, f1 = 0.7553\n",
        "\n",
        "  - BERT with\n",
        "    - BERT + FCN, test data: : accuracy = 0.9885, precision = 0.9841, recall = 0.9611, f1 = 0.9724\n",
        "    - BERT + CNN, test data: : accuracy = 0.9828, precision = 0.9958, recall = 0.9222, f1 = 0.9576\n"
      ],
      "metadata": {
        "id": "1feUh1bIDy5d"
      }
    },
    {
      "cell_type": "markdown",
      "source": [
        "## Tuned models"
      ],
      "metadata": {
        "id": "NlfXqmUi8a3I"
      }
    },
    {
      "cell_type": "markdown",
      "source": [
        "#### BERT tuning"
      ],
      "metadata": {
        "id": "scIsHg775HLa"
      }
    },
    {
      "cell_type": "markdown",
      "source": [
        "**Experiment 1:** Increase the number of epochs because the training kept on improving in the first epoch and we may want to have a couple passes through the model in order to find the most optimal weights for this classification task. Also tune if freezing or unfreezing BERT layers will improve performance. I assume that unfreezing the layers may introduce too many parameters and the model will overfit. But we're expecting the number of epochs to increase performance."
      ],
      "metadata": {
        "id": "TBGWQOpC56YA"
      }
    },
    {
      "cell_type": "code",
      "source": [
        "pooled_bert_model = create_bert_pooled_model()"
      ],
      "metadata": {
        "id": "sSut37Sb5ZXj",
        "colab": {
          "base_uri": "https://localhost:8080/"
        },
        "outputId": "4d18439f-fed1-4e06-f1b0-653b521a8bd0"
      },
      "execution_count": null,
      "outputs": [
        {
          "output_type": "stream",
          "name": "stderr",
          "text": [
            "Some layers from the model checkpoint at bert-base-cased were not used when initializing TFBertModel: ['nsp___cls', 'mlm___cls']\n",
            "- This IS expected if you are initializing TFBertModel from the checkpoint of a model trained on another task or with another architecture (e.g. initializing a BertForSequenceClassification model from a BertForPreTraining model).\n",
            "- This IS NOT expected if you are initializing TFBertModel from the checkpoint of a model that you expect to be exactly identical (initializing a BertForSequenceClassification model from a BertForSequenceClassification model).\n",
            "All the layers of TFBertModel were initialized from the model checkpoint at bert-base-cased.\n",
            "If your task is similar to the task the model of the checkpoint was trained on, you can already use TFBertModel for predictions without further training.\n"
          ]
        }
      ]
    },
    {
      "cell_type": "code",
      "source": [
        "pooled_bert_model_history = pooled_bert_model.fit([x_train.input_ids, x_train.token_type_ids, x_train.attention_mask], \n",
        "                                                  y_train,   \n",
        "                                                  validation_data=([x_test.input_ids, x_test.token_type_ids, x_test.attention_mask], y_test),    \n",
        "                                                  class_weight = class_weight, \n",
        "                                                  batch_size=8, \n",
        "                                                  epochs=3)  "
      ],
      "metadata": {
        "id": "g5xRcuyI5xJY",
        "colab": {
          "base_uri": "https://localhost:8080/"
        },
        "outputId": "acc06479-61e0-4124-c5f7-09f041a946a0"
      },
      "execution_count": null,
      "outputs": [
        {
          "output_type": "stream",
          "name": "stdout",
          "text": [
            "Epoch 1/3\n",
            "611/611 [==============================] - 78s 103ms/step - loss: 0.1728 - accuracy: 0.9515 - val_loss: 0.1405 - val_accuracy: 0.9795\n",
            "Epoch 2/3\n",
            "611/611 [==============================] - 72s 117ms/step - loss: 0.0841 - accuracy: 0.9861 - val_loss: 0.2200 - val_accuracy: 0.9607\n",
            "Epoch 3/3\n",
            "611/611 [==============================] - 59s 96ms/step - loss: 0.1609 - accuracy: 0.9519 - val_loss: 0.1109 - val_accuracy: 0.9771\n"
          ]
        }
      ]
    },
    {
      "cell_type": "code",
      "source": [
        "train_predict_labels = pooled_bert_model.predict([x_train.input_ids, x_train.token_type_ids, x_train.attention_mask])\n",
        "train_y_predict = train_predict_labels.round(0)"
      ],
      "metadata": {
        "id": "i1Zhlh2l8PWl"
      },
      "execution_count": null,
      "outputs": []
    },
    {
      "cell_type": "code",
      "source": [
        "test_predict_labels = pooled_bert_model.predict([x_test.input_ids, x_test.token_type_ids, x_test.attention_mask])\n",
        "test_y_predict = test_predict_labels.round(0)"
      ],
      "metadata": {
        "id": "SmBMa6qr8VSY"
      },
      "execution_count": null,
      "outputs": []
    },
    {
      "cell_type": "code",
      "source": [
        "# train\n",
        "sns.heatmap(confusion_matrix(np.array(train_y, int), np.array(train_y_predict.reshape(-1), int)), annot=True, fmt='g')  #annot=True to annotate cells, ftm='g' to disable scientific notation"
      ],
      "metadata": {
        "id": "_fwXVGMy8hgd",
        "colab": {
          "base_uri": "https://localhost:8080/",
          "height": 283
        },
        "outputId": "8523131b-c2ea-4382-c7f2-ab354c0b508b"
      },
      "execution_count": null,
      "outputs": [
        {
          "output_type": "execute_result",
          "data": {
            "text/plain": [
              "<matplotlib.axes._subplots.AxesSubplot at 0x7f3fc07f1390>"
            ]
          },
          "metadata": {},
          "execution_count": 137
        },
        {
          "output_type": "display_data",
          "data": {
            "text/plain": [
              "<Figure size 432x288 with 2 Axes>"
            ],
            "image/png": "[encoded data removed]"
          },
          "metadata": {
            "needs_background": "light"
          }
        }
      ]
    },
    {
      "cell_type": "code",
      "source": [
        "# test\n",
        "sns.heatmap(confusion_matrix(np.array(test_y, int), np.array(test_y_predict.reshape(-1), int)), annot=True, fmt='g')  #annot=True to annotate cells, ftm='g' to disable scientific notation"
      ],
      "metadata": {
        "id": "ujsahj568sx0",
        "colab": {
          "base_uri": "https://localhost:8080/",
          "height": 283
        },
        "outputId": "a8e2466a-be12-4ec0-bb6a-a6bd79eae118"
      },
      "execution_count": null,
      "outputs": [
        {
          "output_type": "execute_result",
          "data": {
            "text/plain": [
              "<matplotlib.axes._subplots.AxesSubplot at 0x7f3db60bfa90>"
            ]
          },
          "metadata": {},
          "execution_count": 138
        },
        {
          "output_type": "display_data",
          "data": {
            "text/plain": [
              "<Figure size 432x288 with 2 Axes>"
            ],
            "image/png": "[encoded data removed]"
          },
          "metadata": {
            "needs_background": "light"
          }
        }
      ]
    },
    {
      "cell_type": "code",
      "source": [
        "# train\n",
        "print_metrics('BERT 3e + FCN, train data: ', np.array(train_y, int), train_y_predict)"
      ],
      "metadata": {
        "id": "8MZXVo-w82-X",
        "colab": {
          "base_uri": "https://localhost:8080/"
        },
        "outputId": "399b9221-a75d-4616-8591-5f8e78e4a90b"
      },
      "execution_count": null,
      "outputs": [
        {
          "output_type": "stream",
          "name": "stdout",
          "text": [
            "BERT 3e + FCN, train data: : accuracy = 0.9855, precision = 0.9749, recall = 0.9548, f1 = 0.9647\n"
          ]
        }
      ]
    },
    {
      "cell_type": "code",
      "source": [
        "# test\n",
        "print_metrics('BERT 3e + FCN, test data: ', np.array(test_y, int), test_y_predict)"
      ],
      "metadata": {
        "id": "Qe85CHhs86_7",
        "colab": {
          "base_uri": "https://localhost:8080/"
        },
        "outputId": "d275b7a6-2d74-4df9-ab59-28605fb10325"
      },
      "execution_count": null,
      "outputs": [
        {
          "output_type": "stream",
          "name": "stdout",
          "text": [
            "BERT 3e + FCN, test data: : accuracy = 0.9771, precision = 0.9644, recall = 0.9278, f1 = 0.9457\n"
          ]
        }
      ]
    },
    {
      "cell_type": "code",
      "source": [
        "# train\n",
        "missclassified_text = train_X[train_y != train_y_predict.reshape(-1)]\n",
        "missclassified_label = train_y[train_y != train_y_predict.reshape(-1)]\n",
        "\n",
        "df_report = pd.DataFrame({'missclassified_text': missclassified_text, 'true_label': missclassified_label})\n",
        "\n",
        "df_report"
      ],
      "metadata": {
        "id": "dOsSKjxl_-Hs",
        "colab": {
          "base_uri": "https://localhost:8080/",
          "height": 424
        },
        "outputId": "a671bbdf-faeb-4baa-cbad-b2569c861fb9"
      },
      "execution_count": null,
      "outputs": [
        {
          "output_type": "execute_result",
          "data": {
            "text/plain": [
              "                                    missclassified_text  true_label\n",
              "3430  I don't know jack shit about anything or i'd s...           0\n",
              "4111  Yo, you gonna still be in stock tomorrow/today...           0\n",
              "4491  My computer just fried the only essential part...           0\n",
              "856   Talk sexy!! Make new friends or fall in love i...           1\n",
              "5431  Er yeah, i will b there at 15:26, sorry! Just ...           0\n",
              "...                                                 ...         ...\n",
              "1235  \"Hello-/@drivby-:0quit edrunk sorry iff pthis ...           0\n",
              "191   Are you unique enough? Find out from 30th Augu...           1\n",
              "5797  Globe: You’ve won the Netflix Mug in our Givea...           1\n",
              "2490  I have 2 docs appointments next week.:/ I'm ti...           0\n",
              "5088  Omg if its not one thing its another. My cat h...           0\n",
              "\n",
              "[71 rows x 2 columns]"
            ],
            "text/html": [
              "\n",
              "  <div id=\"df-c22025f9-fd89-4d73-b25d-183bd384e704\">\n",
              "    <div class=\"colab-df-container\">\n",
              "      <div>\n",
              "<style scoped>\n",
              "    .dataframe tbody tr th:only-of-type {\n",
              "        vertical-align: middle;\n",
              "    }\n",
              "\n",
              "    .dataframe tbody tr th {\n",
              "        vertical-align: top;\n",
              "    }\n",
              "\n",
              "    .dataframe thead th {\n",
              "        text-align: right;\n",
              "    }\n",
              "</style>\n",
              "<table border=\"1\" class=\"dataframe\">\n",
              "  <thead>\n",
              "    <tr style=\"text-align: right;\">\n",
              "      <th></th>\n",
              "      <th>missclassified_text</th>\n",
              "      <th>true_label</th>\n",
              "    </tr>\n",
              "  </thead>\n",
              "  <tbody>\n",
              "    <tr>\n",
              "      <th>3430</th>\n",
              "      <td>I don't know jack shit about anything or i'd s...</td>\n",
              "      <td>0</td>\n",
              "    </tr>\n",
              "    <tr>\n",
              "      <th>4111</th>\n",
              "      <td>Yo, you gonna still be in stock tomorrow/today...</td>\n",
              "      <td>0</td>\n",
              "    </tr>\n",
              "    <tr>\n",
              "      <th>4491</th>\n",
              "      <td>My computer just fried the only essential part...</td>\n",
              "      <td>0</td>\n",
              "    </tr>\n",
              "    <tr>\n",
              "      <th>856</th>\n",
              "      <td>Talk sexy!! Make new friends or fall in love i...</td>\n",
              "      <td>1</td>\n",
              "    </tr>\n",
              "    <tr>\n",
              "      <th>5431</th>\n",
              "      <td>Er yeah, i will b there at 15:26, sorry! Just ...</td>\n",
              "      <td>0</td>\n",
              "    </tr>\n",
              "    <tr>\n",
              "      <th>...</th>\n",
              "      <td>...</td>\n",
              "      <td>...</td>\n",
              "    </tr>\n",
              "    <tr>\n",
              "      <th>1235</th>\n",
              "      <td>\"Hello-/@drivby-:0quit edrunk sorry iff pthis ...</td>\n",
              "      <td>0</td>\n",
              "    </tr>\n",
              "    <tr>\n",
              "      <th>191</th>\n",
              "      <td>Are you unique enough? Find out from 30th Augu...</td>\n",
              "      <td>1</td>\n",
              "    </tr>\n",
              "    <tr>\n",
              "      <th>5797</th>\n",
              "      <td>Globe: You’ve won the Netflix Mug in our Givea...</td>\n",
              "      <td>1</td>\n",
              "    </tr>\n",
              "    <tr>\n",
              "      <th>2490</th>\n",
              "      <td>I have 2 docs appointments next week.:/ I'm ti...</td>\n",
              "      <td>0</td>\n",
              "    </tr>\n",
              "    <tr>\n",
              "      <th>5088</th>\n",
              "      <td>Omg if its not one thing its another. My cat h...</td>\n",
              "      <td>0</td>\n",
              "    </tr>\n",
              "  </tbody>\n",
              "</table>\n",
              "<p>71 rows × 2 columns</p>\n",
              "</div>\n",
              "      <button class=\"colab-df-convert\" onclick=\"convertToInteractive('df-c22025f9-fd89-4d73-b25d-183bd384e704')\"\n",
              "              title=\"Convert this dataframe to an interactive table.\"\n",
              "              style=\"display:none;\">\n",
              "        \n",
              "  <svg xmlns=\"http://www.w3.org/2000/svg\" height=\"24px\"viewBox=\"0 0 24 24\"\n",
              "       width=\"24px\">\n",
              "    <path d=\"M0 0h24v24H0V0z\" fill=\"none\"/>\n",
              "    <path d=\"M18.56 5.44l.94 2.06.94-2.06 2.06-.94-2.06-.94-.94-2.06-.94 2.06-2.06.94zm-11 1L8.5 8.5l.94-2.06 2.06-.94-2.06-.94L8.5 2.5l-.94 2.06-2.06.94zm10 10l.94 2.06.94-2.06 2.06-.94-2.06-.94-.94-2.06-.94 2.06-2.06.94z\"/><path d=\"M17.41 7.96l-1.37-1.37c-.4-.4-.92-.59-1.43-.59-.52 0-1.04.2-1.43.59L10.3 9.45l-7.72 7.72c-.78.78-.78 2.05 0 2.83L4 21.41c.39.39.9.59 1.41.59.51 0 1.02-.2 1.41-.59l7.78-7.78 2.81-2.81c.8-.78.8-2.07 0-2.86zM5.41 20L4 18.59l7.72-7.72 1.47 1.35L5.41 20z\"/>\n",
              "  </svg>\n",
              "      </button>\n",
              "      \n",
              "  <style>\n",
              "    .colab-df-container {\n",
              "      display:flex;\n",
              "      flex-wrap:wrap;\n",
              "      gap: 12px;\n",
              "    }\n",
              "\n",
              "    .colab-df-convert {\n",
              "      background-color: #E8F0FE;\n",
              "      border: none;\n",
              "      border-radius: 50%;\n",
              "      cursor: pointer;\n",
              "      display: none;\n",
              "      fill: #1967D2;\n",
              "      height: 32px;\n",
              "      padding: 0 0 0 0;\n",
              "      width: 32px;\n",
              "    }\n",
              "\n",
              "    .colab-df-convert:hover {\n",
              "      background-color: #E2EBFA;\n",
              "      box-shadow: 0px 1px 2px rgba(60, 64, 67, 0.3), 0px 1px 3px 1px rgba(60, 64, 67, 0.15);\n",
              "      fill: #174EA6;\n",
              "    }\n",
              "\n",
              "    [theme=dark] .colab-df-convert {\n",
              "      background-color: #3B4455;\n",
              "      fill: #D2E3FC;\n",
              "    }\n",
              "\n",
              "    [theme=dark] .colab-df-convert:hover {\n",
              "      background-color: #434B5C;\n",
              "      box-shadow: 0px 1px 3px 1px rgba(0, 0, 0, 0.15);\n",
              "      filter: drop-shadow(0px 1px 2px rgba(0, 0, 0, 0.3));\n",
              "      fill: #FFFFFF;\n",
              "    }\n",
              "  </style>\n",
              "\n",
              "      <script>\n",
              "        const buttonEl =\n",
              "          document.querySelector('#df-c22025f9-fd89-4d73-b25d-183bd384e704 button.colab-df-convert');\n",
              "        buttonEl.style.display =\n",
              "          google.colab.kernel.accessAllowed ? 'block' : 'none';\n",
              "\n",
              "        async function convertToInteractive(key) {\n",
              "          const element = document.querySelector('#df-c22025f9-fd89-4d73-b25d-183bd384e704');\n",
              "          const dataTable =\n",
              "            await google.colab.kernel.invokeFunction('convertToInteractive',\n",
              "                                                     [key], {});\n",
              "          if (!dataTable) return;\n",
              "\n",
              "          const docLinkHtml = 'Like what you see? Visit the ' +\n",
              "            '<a target=\"_blank\" href=https://colab.research.google.com/notebooks/data_table.ipynb>data table notebook</a>'\n",
              "            + ' to learn more about interactive tables.';\n",
              "          element.innerHTML = '';\n",
              "          dataTable['output_type'] = 'display_data';\n",
              "          await google.colab.output.renderOutput(dataTable, element);\n",
              "          const docLink = document.createElement('div');\n",
              "          docLink.innerHTML = docLinkHtml;\n",
              "          element.appendChild(docLink);\n",
              "        }\n",
              "      </script>\n",
              "    </div>\n",
              "  </div>\n",
              "  "
            ]
          },
          "metadata": {},
          "execution_count": 141
        }
      ]
    },
    {
      "cell_type": "code",
      "source": [
        "# test\n",
        "missclassified_text = test_X[np.array(test_y, int) != test_y_predict.reshape(-1)]\n",
        "missclassified_label = test_y[np.array(test_y, int) != test_y_predict.reshape(-1)]\n",
        "\n",
        "df_report = pd.DataFrame({'missclassified_text': missclassified_text, 'true_label': missclassified_label})\n",
        "\n",
        "df_report"
      ],
      "metadata": {
        "id": "Cw3hwJzD-GIl",
        "colab": {
          "base_uri": "https://localhost:8080/",
          "height": 927
        },
        "outputId": "89b6b4ed-30f6-4155-9ae8-92d16cd2eb56"
      },
      "execution_count": null,
      "outputs": [
        {
          "output_type": "execute_result",
          "data": {
            "text/plain": [
              "                                    missclassified_text  true_label\n",
              "4821  Check Out Choose Your Babe Videos @ sms.shsex....           1\n",
              "5667  Keep safe and let me assist you to have a CÀSH...           1\n",
              "5738  Hi! Wànt to àvàil Our Pèrsonàl Loàn? Fàst & eà...           1\n",
              "2663  Hello darling how are you today? I would love ...           1\n",
              "913   Can't. I feel nauseous. I'm so pissed. I didn'...           0\n",
              "1556  Ok i found dis pierre cardin one which looks n...           0\n",
              "3864  Oh my god! I've found your number again! I'm s...           1\n",
              "1073  Dear U've been invited to XCHAT. This is our f...           1\n",
              "263   MY NO. IN LUTON 0125698789 RING ME IF UR AROUN...           0\n",
              "5615  Did you know that people in cluttered homes ar...           1\n",
              "4005  Well there's a pattern emerging of my friends ...           0\n",
              "989   Yun ah.the ubi one say if ü wan call by tomorr...           0\n",
              "4931  Hi, the SEXYCHAT girls are waiting for you to ...           1\n",
              "5783  50k - 2M is the offer just inquire now get it ...           1\n",
              "2680  New Tones This week include: 1)McFly-All Ab..,...           1\n",
              "1244     No shoot me. I'm in the docs waiting room. :/\n",
              "           0\n",
              "4330  1Apple/Day=No Doctor. 1Tulsi Leaf/Day=No Cance...           0\n",
              "3422  Welcome! Please reply with your AGE and GENDER...           1\n",
              "6066  Woodsville Residences\n",
              "in Merville Paranaque\n",
              "\n",
              "T...           1\n",
              "4190  Well the general price is  &lt;#&gt; /oz, let ...           0\n",
              "2774  How come it takes so little time for a child w...           1\n",
              "5963  Download to get an exclusive bonus, the super ...           1\n",
              "4298  thesmszone.com lets you send free anonymous an...           1\n",
              "5728  50k-2M  is the offer just inquire  now get it ...           1\n",
              "5372  dating:i have had two of these. Only started a...           1\n",
              "6068  Keep safe and let me assist you to have a CÀSH...           1\n",
              "4016  You will be receiving this week's Triple Echo ...           1\n",
              "3094  staff.science.nus.edu.sg/~phyhcmk/teaching/pc1...           0"
            ],
            "text/html": [
              "\n",
              "  <div id=\"df-df366f4f-85dc-4aea-98e6-6b59984b90de\">\n",
              "    <div class=\"colab-df-container\">\n",
              "      <div>\n",
              "<style scoped>\n",
              "    .dataframe tbody tr th:only-of-type {\n",
              "        vertical-align: middle;\n",
              "    }\n",
              "\n",
              "    .dataframe tbody tr th {\n",
              "        vertical-align: top;\n",
              "    }\n",
              "\n",
              "    .dataframe thead th {\n",
              "        text-align: right;\n",
              "    }\n",
              "</style>\n",
              "<table border=\"1\" class=\"dataframe\">\n",
              "  <thead>\n",
              "    <tr style=\"text-align: right;\">\n",
              "      <th></th>\n",
              "      <th>missclassified_text</th>\n",
              "      <th>true_label</th>\n",
              "    </tr>\n",
              "  </thead>\n",
              "  <tbody>\n",
              "    <tr>\n",
              "      <th>4821</th>\n",
              "      <td>Check Out Choose Your Babe Videos @ sms.shsex....</td>\n",
              "      <td>1</td>\n",
              "    </tr>\n",
              "    <tr>\n",
              "      <th>5667</th>\n",
              "      <td>Keep safe and let me assist you to have a CÀSH...</td>\n",
              "      <td>1</td>\n",
              "    </tr>\n",
              "    <tr>\n",
              "      <th>5738</th>\n",
              "      <td>Hi! Wànt to àvàil Our Pèrsonàl Loàn? Fàst &amp; eà...</td>\n",
              "      <td>1</td>\n",
              "    </tr>\n",
              "    <tr>\n",
              "      <th>2663</th>\n",
              "      <td>Hello darling how are you today? I would love ...</td>\n",
              "      <td>1</td>\n",
              "    </tr>\n",
              "    <tr>\n",
              "      <th>913</th>\n",
              "      <td>Can't. I feel nauseous. I'm so pissed. I didn'...</td>\n",
              "      <td>0</td>\n",
              "    </tr>\n",
              "    <tr>\n",
              "      <th>1556</th>\n",
              "      <td>Ok i found dis pierre cardin one which looks n...</td>\n",
              "      <td>0</td>\n",
              "    </tr>\n",
              "    <tr>\n",
              "      <th>3864</th>\n",
              "      <td>Oh my god! I've found your number again! I'm s...</td>\n",
              "      <td>1</td>\n",
              "    </tr>\n",
              "    <tr>\n",
              "      <th>1073</th>\n",
              "      <td>Dear U've been invited to XCHAT. This is our f...</td>\n",
              "      <td>1</td>\n",
              "    </tr>\n",
              "    <tr>\n",
              "      <th>263</th>\n",
              "      <td>MY NO. IN LUTON 0125698789 RING ME IF UR AROUN...</td>\n",
              "      <td>0</td>\n",
              "    </tr>\n",
              "    <tr>\n",
              "      <th>5615</th>\n",
              "      <td>Did you know that people in cluttered homes ar...</td>\n",
              "      <td>1</td>\n",
              "    </tr>\n",
              "    <tr>\n",
              "      <th>4005</th>\n",
              "      <td>Well there's a pattern emerging of my friends ...</td>\n",
              "      <td>0</td>\n",
              "    </tr>\n",
              "    <tr>\n",
              "      <th>989</th>\n",
              "      <td>Yun ah.the ubi one say if ü wan call by tomorr...</td>\n",
              "      <td>0</td>\n",
              "    </tr>\n",
              "    <tr>\n",
              "      <th>4931</th>\n",
              "      <td>Hi, the SEXYCHAT girls are waiting for you to ...</td>\n",
              "      <td>1</td>\n",
              "    </tr>\n",
              "    <tr>\n",
              "      <th>5783</th>\n",
              "      <td>50k - 2M is the offer just inquire now get it ...</td>\n",
              "      <td>1</td>\n",
              "    </tr>\n",
              "    <tr>\n",
              "      <th>2680</th>\n",
              "      <td>New Tones This week include: 1)McFly-All Ab..,...</td>\n",
              "      <td>1</td>\n",
              "    </tr>\n",
              "    <tr>\n",
              "      <th>1244</th>\n",
              "      <td>No shoot me. I'm in the docs waiting room. :/</td>\n",
              "      <td>0</td>\n",
              "    </tr>\n",
              "    <tr>\n",
              "      <th>4330</th>\n",
              "      <td>1Apple/Day=No Doctor. 1Tulsi Leaf/Day=No Cance...</td>\n",
              "      <td>0</td>\n",
              "    </tr>\n",
              "    <tr>\n",
              "      <th>3422</th>\n",
              "      <td>Welcome! Please reply with your AGE and GENDER...</td>\n",
              "      <td>1</td>\n",
              "    </tr>\n",
              "    <tr>\n",
              "      <th>6066</th>\n",
              "      <td>Woodsville Residences\n",
              "in Merville Paranaque\n",
              "\n",
              "T...</td>\n",
              "      <td>1</td>\n",
              "    </tr>\n",
              "    <tr>\n",
              "      <th>4190</th>\n",
              "      <td>Well the general price is  &amp;lt;#&amp;gt; /oz, let ...</td>\n",
              "      <td>0</td>\n",
              "    </tr>\n",
              "    <tr>\n",
              "      <th>2774</th>\n",
              "      <td>How come it takes so little time for a child w...</td>\n",
              "      <td>1</td>\n",
              "    </tr>\n",
              "    <tr>\n",
              "      <th>5963</th>\n",
              "      <td>Download to get an exclusive bonus, the super ...</td>\n",
              "      <td>1</td>\n",
              "    </tr>\n",
              "    <tr>\n",
              "      <th>4298</th>\n",
              "      <td>thesmszone.com lets you send free anonymous an...</td>\n",
              "      <td>1</td>\n",
              "    </tr>\n",
              "    <tr>\n",
              "      <th>5728</th>\n",
              "      <td>50k-2M  is the offer just inquire  now get it ...</td>\n",
              "      <td>1</td>\n",
              "    </tr>\n",
              "    <tr>\n",
              "      <th>5372</th>\n",
              "      <td>dating:i have had two of these. Only started a...</td>\n",
              "      <td>1</td>\n",
              "    </tr>\n",
              "    <tr>\n",
              "      <th>6068</th>\n",
              "      <td>Keep safe and let me assist you to have a CÀSH...</td>\n",
              "      <td>1</td>\n",
              "    </tr>\n",
              "    <tr>\n",
              "      <th>4016</th>\n",
              "      <td>You will be receiving this week's Triple Echo ...</td>\n",
              "      <td>1</td>\n",
              "    </tr>\n",
              "    <tr>\n",
              "      <th>3094</th>\n",
              "      <td>staff.science.nus.edu.sg/~phyhcmk/teaching/pc1...</td>\n",
              "      <td>0</td>\n",
              "    </tr>\n",
              "  </tbody>\n",
              "</table>\n",
              "</div>\n",
              "      <button class=\"colab-df-convert\" onclick=\"convertToInteractive('df-df366f4f-85dc-4aea-98e6-6b59984b90de')\"\n",
              "              title=\"Convert this dataframe to an interactive table.\"\n",
              "              style=\"display:none;\">\n",
              "        \n",
              "  <svg xmlns=\"http://www.w3.org/2000/svg\" height=\"24px\"viewBox=\"0 0 24 24\"\n",
              "       width=\"24px\">\n",
              "    <path d=\"M0 0h24v24H0V0z\" fill=\"none\"/>\n",
              "    <path d=\"M18.56 5.44l.94 2.06.94-2.06 2.06-.94-2.06-.94-.94-2.06-.94 2.06-2.06.94zm-11 1L8.5 8.5l.94-2.06 2.06-.94-2.06-.94L8.5 2.5l-.94 2.06-2.06.94zm10 10l.94 2.06.94-2.06 2.06-.94-2.06-.94-.94-2.06-.94 2.06-2.06.94z\"/><path d=\"M17.41 7.96l-1.37-1.37c-.4-.4-.92-.59-1.43-.59-.52 0-1.04.2-1.43.59L10.3 9.45l-7.72 7.72c-.78.78-.78 2.05 0 2.83L4 21.41c.39.39.9.59 1.41.59.51 0 1.02-.2 1.41-.59l7.78-7.78 2.81-2.81c.8-.78.8-2.07 0-2.86zM5.41 20L4 18.59l7.72-7.72 1.47 1.35L5.41 20z\"/>\n",
              "  </svg>\n",
              "      </button>\n",
              "      \n",
              "  <style>\n",
              "    .colab-df-container {\n",
              "      display:flex;\n",
              "      flex-wrap:wrap;\n",
              "      gap: 12px;\n",
              "    }\n",
              "\n",
              "    .colab-df-convert {\n",
              "      background-color: #E8F0FE;\n",
              "      border: none;\n",
              "      border-radius: 50%;\n",
              "      cursor: pointer;\n",
              "      display: none;\n",
              "      fill: #1967D2;\n",
              "      height: 32px;\n",
              "      padding: 0 0 0 0;\n",
              "      width: 32px;\n",
              "    }\n",
              "\n",
              "    .colab-df-convert:hover {\n",
              "      background-color: #E2EBFA;\n",
              "      box-shadow: 0px 1px 2px rgba(60, 64, 67, 0.3), 0px 1px 3px 1px rgba(60, 64, 67, 0.15);\n",
              "      fill: #174EA6;\n",
              "    }\n",
              "\n",
              "    [theme=dark] .colab-df-convert {\n",
              "      background-color: #3B4455;\n",
              "      fill: #D2E3FC;\n",
              "    }\n",
              "\n",
              "    [theme=dark] .colab-df-convert:hover {\n",
              "      background-color: #434B5C;\n",
              "      box-shadow: 0px 1px 3px 1px rgba(0, 0, 0, 0.15);\n",
              "      filter: drop-shadow(0px 1px 2px rgba(0, 0, 0, 0.3));\n",
              "      fill: #FFFFFF;\n",
              "    }\n",
              "  </style>\n",
              "\n",
              "      <script>\n",
              "        const buttonEl =\n",
              "          document.querySelector('#df-df366f4f-85dc-4aea-98e6-6b59984b90de button.colab-df-convert');\n",
              "        buttonEl.style.display =\n",
              "          google.colab.kernel.accessAllowed ? 'block' : 'none';\n",
              "\n",
              "        async function convertToInteractive(key) {\n",
              "          const element = document.querySelector('#df-df366f4f-85dc-4aea-98e6-6b59984b90de');\n",
              "          const dataTable =\n",
              "            await google.colab.kernel.invokeFunction('convertToInteractive',\n",
              "                                                     [key], {});\n",
              "          if (!dataTable) return;\n",
              "\n",
              "          const docLinkHtml = 'Like what you see? Visit the ' +\n",
              "            '<a target=\"_blank\" href=https://colab.research.google.com/notebooks/data_table.ipynb>data table notebook</a>'\n",
              "            + ' to learn more about interactive tables.';\n",
              "          element.innerHTML = '';\n",
              "          dataTable['output_type'] = 'display_data';\n",
              "          await google.colab.output.renderOutput(dataTable, element);\n",
              "          const docLink = document.createElement('div');\n",
              "          docLink.innerHTML = docLinkHtml;\n",
              "          element.appendChild(docLink);\n",
              "        }\n",
              "      </script>\n",
              "    </div>\n",
              "  </div>\n",
              "  "
            ]
          },
          "metadata": {},
          "execution_count": 142
        }
      ]
    },
    {
      "cell_type": "markdown",
      "source": [
        "**Experiment 1 Results:** As expected increasing number of epochs slightly improved the f1 score and accuracy. Running it on 3 epochs seemed like a good threshold as the loss function kept decresing but the accuracy stopped improving. We're getting pretty good results with only 18 text messages that got missclassfied from the test."
      ],
      "metadata": {
        "id": "jWSfz5EA9gkW"
      }
    },
    {
      "cell_type": "code",
      "source": [
        "# unfreeze layers\n",
        "pooled_bert_model_unfreeze = create_bert_pooled_model(train_layers=1)"
      ],
      "metadata": {
        "id": "BlSsZB1z7TXY",
        "colab": {
          "base_uri": "https://localhost:8080/"
        },
        "outputId": "c0499d8c-0006-4c82-f6a8-6e9ce6690bda"
      },
      "execution_count": null,
      "outputs": [
        {
          "output_type": "stream",
          "name": "stderr",
          "text": [
            "Some layers from the model checkpoint at bert-base-cased were not used when initializing TFBertModel: ['nsp___cls', 'mlm___cls']\n",
            "- This IS expected if you are initializing TFBertModel from the checkpoint of a model trained on another task or with another architecture (e.g. initializing a BertForSequenceClassification model from a BertForPreTraining model).\n",
            "- This IS NOT expected if you are initializing TFBertModel from the checkpoint of a model that you expect to be exactly identical (initializing a BertForSequenceClassification model from a BertForSequenceClassification model).\n",
            "All the layers of TFBertModel were initialized from the model checkpoint at bert-base-cased.\n",
            "If your task is similar to the task the model of the checkpoint was trained on, you can already use TFBertModel for predictions without further training.\n"
          ]
        }
      ]
    },
    {
      "cell_type": "code",
      "source": [
        "pooled_bert_model_history = pooled_bert_model_unfreeze.fit([x_train.input_ids, x_train.token_type_ids, x_train.attention_mask], \n",
        "                                                  y_train,   \n",
        "                                                  validation_data=([x_test.input_ids, x_test.token_type_ids, x_test.attention_mask], y_test),    \n",
        "                                                  class_weight = class_weight, \n",
        "                                                  batch_size=8, \n",
        "                                                  epochs=3) "
      ],
      "metadata": {
        "id": "7E1tsBon7nDo",
        "colab": {
          "base_uri": "https://localhost:8080/"
        },
        "outputId": "e5721bce-fd03-422e-c864-d1719cca4f5a"
      },
      "execution_count": null,
      "outputs": [
        {
          "output_type": "stream",
          "name": "stdout",
          "text": [
            "Epoch 1/3\n",
            "WARNING:tensorflow:Gradients do not exist for variables ['tf_bert_model_6/bert/embeddings/word_embeddings/weight:0', 'tf_bert_model_6/bert/embeddings/token_type_embeddings/embeddings:0', 'tf_bert_model_6/bert/embeddings/position_embeddings/embeddings:0', 'tf_bert_model_6/bert/embeddings/LayerNorm/gamma:0', 'tf_bert_model_6/bert/embeddings/LayerNorm/beta:0', 'tf_bert_model_6/bert/encoder/layer_._0/attention/self/query/kernel:0', 'tf_bert_model_6/bert/encoder/layer_._0/attention/self/query/bias:0', 'tf_bert_model_6/bert/encoder/layer_._0/attention/self/key/kernel:0', 'tf_bert_model_6/bert/encoder/layer_._0/attention/self/key/bias:0', 'tf_bert_model_6/bert/encoder/layer_._0/attention/self/value/kernel:0', 'tf_bert_model_6/bert/encoder/layer_._0/attention/self/value/bias:0', 'tf_bert_model_6/bert/encoder/layer_._0/attention/output/dense/kernel:0', 'tf_bert_model_6/bert/encoder/layer_._0/attention/output/dense/bias:0', 'tf_bert_model_6/bert/encoder/layer_._0/attention/output/LayerNorm/gamma:0', 'tf_bert_model_6/bert/encoder/layer_._0/attention/output/LayerNorm/beta:0', 'tf_bert_model_6/bert/encoder/layer_._0/intermediate/dense/kernel:0', 'tf_bert_model_6/bert/encoder/layer_._0/intermediate/dense/bias:0', 'tf_bert_model_6/bert/encoder/layer_._0/output/dense/kernel:0', 'tf_bert_model_6/bert/encoder/layer_._0/output/dense/bias:0', 'tf_bert_model_6/bert/encoder/layer_._0/output/LayerNorm/gamma:0', 'tf_bert_model_6/bert/encoder/layer_._0/output/LayerNorm/beta:0', 'tf_bert_model_6/bert/encoder/layer_._1/attention/self/query/kernel:0', 'tf_bert_model_6/bert/encoder/layer_._1/attention/self/query/bias:0', 'tf_bert_model_6/bert/encoder/layer_._1/attention/self/key/kernel:0', 'tf_bert_model_6/bert/encoder/layer_._1/attention/self/key/bias:0', 'tf_bert_model_6/bert/encoder/layer_._1/attention/self/value/kernel:0', 'tf_bert_model_6/bert/encoder/layer_._1/attention/self/value/bias:0', 'tf_bert_model_6/bert/encoder/layer_._1/attention/output/dense/kernel:0', 'tf_bert_model_6/bert/encoder/layer_._1/attention/output/dense/bias:0', 'tf_bert_model_6/bert/encoder/layer_._1/attention/output/LayerNorm/gamma:0', 'tf_bert_model_6/bert/encoder/layer_._1/attention/output/LayerNorm/beta:0', 'tf_bert_model_6/bert/encoder/layer_._1/intermediate/dense/kernel:0', 'tf_bert_model_6/bert/encoder/layer_._1/intermediate/dense/bias:0', 'tf_bert_model_6/bert/encoder/layer_._1/output/dense/kernel:0', 'tf_bert_model_6/bert/encoder/layer_._1/output/dense/bias:0', 'tf_bert_model_6/bert/encoder/layer_._1/output/LayerNorm/gamma:0', 'tf_bert_model_6/bert/encoder/layer_._1/output/LayerNorm/beta:0', 'tf_bert_model_6/bert/encoder/layer_._2/attention/self/query/kernel:0', 'tf_bert_model_6/bert/encoder/layer_._2/attention/self/query/bias:0', 'tf_bert_model_6/bert/encoder/layer_._2/attention/self/key/kernel:0', 'tf_bert_model_6/bert/encoder/layer_._2/attention/self/key/bias:0', 'tf_bert_model_6/bert/encoder/layer_._2/attention/self/value/kernel:0', 'tf_bert_model_6/bert/encoder/layer_._2/attention/self/value/bias:0', 'tf_bert_model_6/bert/encoder/layer_._2/attention/output/dense/kernel:0', 'tf_bert_model_6/bert/encoder/layer_._2/attention/output/dense/bias:0', 'tf_bert_model_6/bert/encoder/layer_._2/attention/output/LayerNorm/gamma:0', 'tf_bert_model_6/bert/encoder/layer_._2/attention/output/LayerNorm/beta:0', 'tf_bert_model_6/bert/encoder/layer_._2/intermediate/dense/kernel:0', 'tf_bert_model_6/bert/encoder/layer_._2/intermediate/dense/bias:0', 'tf_bert_model_6/bert/encoder/layer_._2/output/dense/kernel:0', 'tf_bert_model_6/bert/encoder/layer_._2/output/dense/bias:0', 'tf_bert_model_6/bert/encoder/layer_._2/output/LayerNorm/gamma:0', 'tf_bert_model_6/bert/encoder/layer_._2/output/LayerNorm/beta:0', 'tf_bert_model_6/bert/encoder/layer_._3/attention/self/query/kernel:0', 'tf_bert_model_6/bert/encoder/layer_._3/attention/self/query/bias:0', 'tf_bert_model_6/bert/encoder/layer_._3/attention/self/key/kernel:0', 'tf_bert_model_6/bert/encoder/layer_._3/attention/self/key/bias:0', 'tf_bert_model_6/bert/encoder/layer_._3/attention/self/value/kernel:0', 'tf_bert_model_6/bert/encoder/layer_._3/attention/self/value/bias:0', 'tf_bert_model_6/bert/encoder/layer_._3/attention/output/dense/kernel:0', 'tf_bert_model_6/bert/encoder/layer_._3/attention/output/dense/bias:0', 'tf_bert_model_6/bert/encoder/layer_._3/attention/output/LayerNorm/gamma:0', 'tf_bert_model_6/bert/encoder/layer_._3/attention/output/LayerNorm/beta:0', 'tf_bert_model_6/bert/encoder/layer_._3/intermediate/dense/kernel:0', 'tf_bert_model_6/bert/encoder/layer_._3/intermediate/dense/bias:0', 'tf_bert_model_6/bert/encoder/layer_._3/output/dense/kernel:0', 'tf_bert_model_6/bert/encoder/layer_._3/output/dense/bias:0', 'tf_bert_model_6/bert/encoder/layer_._3/output/LayerNorm/gamma:0', 'tf_bert_model_6/bert/encoder/layer_._3/output/LayerNorm/beta:0', 'tf_bert_model_6/bert/encoder/layer_._4/attention/self/query/kernel:0', 'tf_bert_model_6/bert/encoder/layer_._4/attention/self/query/bias:0', 'tf_bert_model_6/bert/encoder/layer_._4/attention/self/key/kernel:0', 'tf_bert_model_6/bert/encoder/layer_._4/attention/self/key/bias:0', 'tf_bert_model_6/bert/encoder/layer_._4/attention/self/value/kernel:0', 'tf_bert_model_6/bert/encoder/layer_._4/attention/self/value/bias:0', 'tf_bert_model_6/bert/encoder/layer_._4/attention/output/dense/kernel:0', 'tf_bert_model_6/bert/encoder/layer_._4/attention/output/dense/bias:0', 'tf_bert_model_6/bert/encoder/layer_._4/attention/output/LayerNorm/gamma:0', 'tf_bert_model_6/bert/encoder/layer_._4/attention/output/LayerNorm/beta:0', 'tf_bert_model_6/bert/encoder/layer_._4/intermediate/dense/kernel:0', 'tf_bert_model_6/bert/encoder/layer_._4/intermediate/dense/bias:0', 'tf_bert_model_6/bert/encoder/layer_._4/output/dense/kernel:0', 'tf_bert_model_6/bert/encoder/layer_._4/output/dense/bias:0', 'tf_bert_model_6/bert/encoder/layer_._4/output/LayerNorm/gamma:0', 'tf_bert_model_6/bert/encoder/layer_._4/output/LayerNorm/beta:0', 'tf_bert_model_6/bert/encoder/layer_._5/attention/self/query/kernel:0', 'tf_bert_model_6/bert/encoder/layer_._5/attention/self/query/bias:0', 'tf_bert_model_6/bert/encoder/layer_._5/attention/self/key/kernel:0', 'tf_bert_model_6/bert/encoder/layer_._5/attention/self/key/bias:0', 'tf_bert_model_6/bert/encoder/layer_._5/attention/self/value/kernel:0', 'tf_bert_model_6/bert/encoder/layer_._5/attention/self/value/bias:0', 'tf_bert_model_6/bert/encoder/layer_._5/attention/output/dense/kernel:0', 'tf_bert_model_6/bert/encoder/layer_._5/attention/output/dense/bias:0', 'tf_bert_model_6/bert/encoder/layer_._5/attention/output/LayerNorm/gamma:0', 'tf_bert_model_6/bert/encoder/layer_._5/attention/output/LayerNorm/beta:0', 'tf_bert_model_6/bert/encoder/layer_._5/intermediate/dense/kernel:0', 'tf_bert_model_6/bert/encoder/layer_._5/intermediate/dense/bias:0', 'tf_bert_model_6/bert/encoder/layer_._5/output/dense/kernel:0', 'tf_bert_model_6/bert/encoder/layer_._5/output/dense/bias:0', 'tf_bert_model_6/bert/encoder/layer_._5/output/LayerNorm/gamma:0', 'tf_bert_model_6/bert/encoder/layer_._5/output/LayerNorm/beta:0', 'tf_bert_model_6/bert/encoder/layer_._6/attention/self/query/kernel:0', 'tf_bert_model_6/bert/encoder/layer_._6/attention/self/query/bias:0', 'tf_bert_model_6/bert/encoder/layer_._6/attention/self/key/kernel:0', 'tf_bert_model_6/bert/encoder/layer_._6/attention/self/key/bias:0', 'tf_bert_model_6/bert/encoder/layer_._6/attention/self/value/kernel:0', 'tf_bert_model_6/bert/encoder/layer_._6/attention/self/value/bias:0', 'tf_bert_model_6/bert/encoder/layer_._6/attention/output/dense/kernel:0', 'tf_bert_model_6/bert/encoder/layer_._6/attention/output/dense/bias:0', 'tf_bert_model_6/bert/encoder/layer_._6/attention/output/LayerNorm/gamma:0', 'tf_bert_model_6/bert/encoder/layer_._6/attention/output/LayerNorm/beta:0', 'tf_bert_model_6/bert/encoder/layer_._6/intermediate/dense/kernel:0', 'tf_bert_model_6/bert/encoder/layer_._6/intermediate/dense/bias:0', 'tf_bert_model_6/bert/encoder/layer_._6/output/dense/kernel:0', 'tf_bert_model_6/bert/encoder/layer_._6/output/dense/bias:0', 'tf_bert_model_6/bert/encoder/layer_._6/output/LayerNorm/gamma:0', 'tf_bert_model_6/bert/encoder/layer_._6/output/LayerNorm/beta:0', 'tf_bert_model_6/bert/encoder/layer_._7/attention/self/query/kernel:0', 'tf_bert_model_6/bert/encoder/layer_._7/attention/self/query/bias:0', 'tf_bert_model_6/bert/encoder/layer_._7/attention/self/key/kernel:0', 'tf_bert_model_6/bert/encoder/layer_._7/attention/self/key/bias:0', 'tf_bert_model_6/bert/encoder/layer_._7/attention/self/value/kernel:0', 'tf_bert_model_6/bert/encoder/layer_._7/attention/self/value/bias:0', 'tf_bert_model_6/bert/encoder/layer_._7/attention/output/dense/kernel:0', 'tf_bert_model_6/bert/encoder/layer_._7/attention/output/dense/bias:0', 'tf_bert_model_6/bert/encoder/layer_._7/attention/output/LayerNorm/gamma:0', 'tf_bert_model_6/bert/encoder/layer_._7/attention/output/LayerNorm/beta:0', 'tf_bert_model_6/bert/encoder/layer_._7/intermediate/dense/kernel:0', 'tf_bert_model_6/bert/encoder/layer_._7/intermediate/dense/bias:0', 'tf_bert_model_6/bert/encoder/layer_._7/output/dense/kernel:0', 'tf_bert_model_6/bert/encoder/layer_._7/output/dense/bias:0', 'tf_bert_model_6/bert/encoder/layer_._7/output/LayerNorm/gamma:0', 'tf_bert_model_6/bert/encoder/layer_._7/output/LayerNorm/beta:0', 'tf_bert_model_6/bert/encoder/layer_._8/attention/self/query/kernel:0', 'tf_bert_model_6/bert/encoder/layer_._8/attention/self/query/bias:0', 'tf_bert_model_6/bert/encoder/layer_._8/attention/self/key/kernel:0', 'tf_bert_model_6/bert/encoder/layer_._8/attention/self/key/bias:0', 'tf_bert_model_6/bert/encoder/layer_._8/attention/self/value/kernel:0', 'tf_bert_model_6/bert/encoder/layer_._8/attention/self/value/bias:0', 'tf_bert_model_6/bert/encoder/layer_._8/attention/output/dense/kernel:0', 'tf_bert_model_6/bert/encoder/layer_._8/attention/output/dense/bias:0', 'tf_bert_model_6/bert/encoder/layer_._8/attention/output/LayerNorm/gamma:0', 'tf_bert_model_6/bert/encoder/layer_._8/attention/output/LayerNorm/beta:0', 'tf_bert_model_6/bert/encoder/layer_._8/intermediate/dense/kernel:0', 'tf_bert_model_6/bert/encoder/layer_._8/intermediate/dense/bias:0', 'tf_bert_model_6/bert/encoder/layer_._8/output/dense/kernel:0', 'tf_bert_model_6/bert/encoder/layer_._8/output/dense/bias:0', 'tf_bert_model_6/bert/encoder/layer_._8/output/LayerNorm/gamma:0', 'tf_bert_model_6/bert/encoder/layer_._8/output/LayerNorm/beta:0', 'tf_bert_model_6/bert/encoder/layer_._9/attention/self/query/kernel:0', 'tf_bert_model_6/bert/encoder/layer_._9/attention/self/query/bias:0', 'tf_bert_model_6/bert/encoder/layer_._9/attention/self/key/kernel:0', 'tf_bert_model_6/bert/encoder/layer_._9/attention/self/key/bias:0', 'tf_bert_model_6/bert/encoder/layer_._9/attention/self/value/kernel:0', 'tf_bert_model_6/bert/encoder/layer_._9/attention/self/value/bias:0', 'tf_bert_model_6/bert/encoder/layer_._9/attention/output/dense/kernel:0', 'tf_bert_model_6/bert/encoder/layer_._9/attention/output/dense/bias:0', 'tf_bert_model_6/bert/encoder/layer_._9/attention/output/LayerNorm/gamma:0', 'tf_bert_model_6/bert/encoder/layer_._9/attention/output/LayerNorm/beta:0', 'tf_bert_model_6/bert/encoder/layer_._9/intermediate/dense/kernel:0', 'tf_bert_model_6/bert/encoder/layer_._9/intermediate/dense/bias:0', 'tf_bert_model_6/bert/encoder/layer_._9/output/dense/kernel:0', 'tf_bert_model_6/bert/encoder/layer_._9/output/dense/bias:0', 'tf_bert_model_6/bert/encoder/layer_._9/output/LayerNorm/gamma:0', 'tf_bert_model_6/bert/encoder/layer_._9/output/LayerNorm/beta:0', 'tf_bert_model_6/bert/encoder/layer_._10/attention/self/query/kernel:0', 'tf_bert_model_6/bert/encoder/layer_._10/attention/self/query/bias:0', 'tf_bert_model_6/bert/encoder/layer_._10/attention/self/key/kernel:0', 'tf_bert_model_6/bert/encoder/layer_._10/attention/self/key/bias:0', 'tf_bert_model_6/bert/encoder/layer_._10/attention/self/value/kernel:0', 'tf_bert_model_6/bert/encoder/layer_._10/attention/self/value/bias:0', 'tf_bert_model_6/bert/encoder/layer_._10/attention/output/dense/kernel:0', 'tf_bert_model_6/bert/encoder/layer_._10/attention/output/dense/bias:0', 'tf_bert_model_6/bert/encoder/layer_._10/attention/output/LayerNorm/gamma:0', 'tf_bert_model_6/bert/encoder/layer_._10/attention/output/LayerNorm/beta:0', 'tf_bert_model_6/bert/encoder/layer_._10/intermediate/dense/kernel:0', 'tf_bert_model_6/bert/encoder/layer_._10/intermediate/dense/bias:0', 'tf_bert_model_6/bert/encoder/layer_._10/output/dense/kernel:0', 'tf_bert_model_6/bert/encoder/layer_._10/output/dense/bias:0', 'tf_bert_model_6/bert/encoder/layer_._10/output/LayerNorm/gamma:0', 'tf_bert_model_6/bert/encoder/layer_._10/output/LayerNorm/beta:0', 'tf_bert_model_6/bert/pooler/dense/kernel:0', 'tf_bert_model_6/bert/pooler/dense/bias:0'] when minimizing the loss. If you're using `model.compile()`, did you forget to provide a `loss`argument?\n",
            "WARNING:tensorflow:Gradients do not exist for variables ['tf_bert_model_6/bert/embeddings/word_embeddings/weight:0', 'tf_bert_model_6/bert/embeddings/token_type_embeddings/embeddings:0', 'tf_bert_model_6/bert/embeddings/position_embeddings/embeddings:0', 'tf_bert_model_6/bert/embeddings/LayerNorm/gamma:0', 'tf_bert_model_6/bert/embeddings/LayerNorm/beta:0', 'tf_bert_model_6/bert/encoder/layer_._0/attention/self/query/kernel:0', 'tf_bert_model_6/bert/encoder/layer_._0/attention/self/query/bias:0', 'tf_bert_model_6/bert/encoder/layer_._0/attention/self/key/kernel:0', 'tf_bert_model_6/bert/encoder/layer_._0/attention/self/key/bias:0', 'tf_bert_model_6/bert/encoder/layer_._0/attention/self/value/kernel:0', 'tf_bert_model_6/bert/encoder/layer_._0/attention/self/value/bias:0', 'tf_bert_model_6/bert/encoder/layer_._0/attention/output/dense/kernel:0', 'tf_bert_model_6/bert/encoder/layer_._0/attention/output/dense/bias:0', 'tf_bert_model_6/bert/encoder/layer_._0/attention/output/LayerNorm/gamma:0', 'tf_bert_model_6/bert/encoder/layer_._0/attention/output/LayerNorm/beta:0', 'tf_bert_model_6/bert/encoder/layer_._0/intermediate/dense/kernel:0', 'tf_bert_model_6/bert/encoder/layer_._0/intermediate/dense/bias:0', 'tf_bert_model_6/bert/encoder/layer_._0/output/dense/kernel:0', 'tf_bert_model_6/bert/encoder/layer_._0/output/dense/bias:0', 'tf_bert_model_6/bert/encoder/layer_._0/output/LayerNorm/gamma:0', 'tf_bert_model_6/bert/encoder/layer_._0/output/LayerNorm/beta:0', 'tf_bert_model_6/bert/encoder/layer_._1/attention/self/query/kernel:0', 'tf_bert_model_6/bert/encoder/layer_._1/attention/self/query/bias:0', 'tf_bert_model_6/bert/encoder/layer_._1/attention/self/key/kernel:0', 'tf_bert_model_6/bert/encoder/layer_._1/attention/self/key/bias:0', 'tf_bert_model_6/bert/encoder/layer_._1/attention/self/value/kernel:0', 'tf_bert_model_6/bert/encoder/layer_._1/attention/self/value/bias:0', 'tf_bert_model_6/bert/encoder/layer_._1/attention/output/dense/kernel:0', 'tf_bert_model_6/bert/encoder/layer_._1/attention/output/dense/bias:0', 'tf_bert_model_6/bert/encoder/layer_._1/attention/output/LayerNorm/gamma:0', 'tf_bert_model_6/bert/encoder/layer_._1/attention/output/LayerNorm/beta:0', 'tf_bert_model_6/bert/encoder/layer_._1/intermediate/dense/kernel:0', 'tf_bert_model_6/bert/encoder/layer_._1/intermediate/dense/bias:0', 'tf_bert_model_6/bert/encoder/layer_._1/output/dense/kernel:0', 'tf_bert_model_6/bert/encoder/layer_._1/output/dense/bias:0', 'tf_bert_model_6/bert/encoder/layer_._1/output/LayerNorm/gamma:0', 'tf_bert_model_6/bert/encoder/layer_._1/output/LayerNorm/beta:0', 'tf_bert_model_6/bert/encoder/layer_._2/attention/self/query/kernel:0', 'tf_bert_model_6/bert/encoder/layer_._2/attention/self/query/bias:0', 'tf_bert_model_6/bert/encoder/layer_._2/attention/self/key/kernel:0', 'tf_bert_model_6/bert/encoder/layer_._2/attention/self/key/bias:0', 'tf_bert_model_6/bert/encoder/layer_._2/attention/self/value/kernel:0', 'tf_bert_model_6/bert/encoder/layer_._2/attention/self/value/bias:0', 'tf_bert_model_6/bert/encoder/layer_._2/attention/output/dense/kernel:0', 'tf_bert_model_6/bert/encoder/layer_._2/attention/output/dense/bias:0', 'tf_bert_model_6/bert/encoder/layer_._2/attention/output/LayerNorm/gamma:0', 'tf_bert_model_6/bert/encoder/layer_._2/attention/output/LayerNorm/beta:0', 'tf_bert_model_6/bert/encoder/layer_._2/intermediate/dense/kernel:0', 'tf_bert_model_6/bert/encoder/layer_._2/intermediate/dense/bias:0', 'tf_bert_model_6/bert/encoder/layer_._2/output/dense/kernel:0', 'tf_bert_model_6/bert/encoder/layer_._2/output/dense/bias:0', 'tf_bert_model_6/bert/encoder/layer_._2/output/LayerNorm/gamma:0', 'tf_bert_model_6/bert/encoder/layer_._2/output/LayerNorm/beta:0', 'tf_bert_model_6/bert/encoder/layer_._3/attention/self/query/kernel:0', 'tf_bert_model_6/bert/encoder/layer_._3/attention/self/query/bias:0', 'tf_bert_model_6/bert/encoder/layer_._3/attention/self/key/kernel:0', 'tf_bert_model_6/bert/encoder/layer_._3/attention/self/key/bias:0', 'tf_bert_model_6/bert/encoder/layer_._3/attention/self/value/kernel:0', 'tf_bert_model_6/bert/encoder/layer_._3/attention/self/value/bias:0', 'tf_bert_model_6/bert/encoder/layer_._3/attention/output/dense/kernel:0', 'tf_bert_model_6/bert/encoder/layer_._3/attention/output/dense/bias:0', 'tf_bert_model_6/bert/encoder/layer_._3/attention/output/LayerNorm/gamma:0', 'tf_bert_model_6/bert/encoder/layer_._3/attention/output/LayerNorm/beta:0', 'tf_bert_model_6/bert/encoder/layer_._3/intermediate/dense/kernel:0', 'tf_bert_model_6/bert/encoder/layer_._3/intermediate/dense/bias:0', 'tf_bert_model_6/bert/encoder/layer_._3/output/dense/kernel:0', 'tf_bert_model_6/bert/encoder/layer_._3/output/dense/bias:0', 'tf_bert_model_6/bert/encoder/layer_._3/output/LayerNorm/gamma:0', 'tf_bert_model_6/bert/encoder/layer_._3/output/LayerNorm/beta:0', 'tf_bert_model_6/bert/encoder/layer_._4/attention/self/query/kernel:0', 'tf_bert_model_6/bert/encoder/layer_._4/attention/self/query/bias:0', 'tf_bert_model_6/bert/encoder/layer_._4/attention/self/key/kernel:0', 'tf_bert_model_6/bert/encoder/layer_._4/attention/self/key/bias:0', 'tf_bert_model_6/bert/encoder/layer_._4/attention/self/value/kernel:0', 'tf_bert_model_6/bert/encoder/layer_._4/attention/self/value/bias:0', 'tf_bert_model_6/bert/encoder/layer_._4/attention/output/dense/kernel:0', 'tf_bert_model_6/bert/encoder/layer_._4/attention/output/dense/bias:0', 'tf_bert_model_6/bert/encoder/layer_._4/attention/output/LayerNorm/gamma:0', 'tf_bert_model_6/bert/encoder/layer_._4/attention/output/LayerNorm/beta:0', 'tf_bert_model_6/bert/encoder/layer_._4/intermediate/dense/kernel:0', 'tf_bert_model_6/bert/encoder/layer_._4/intermediate/dense/bias:0', 'tf_bert_model_6/bert/encoder/layer_._4/output/dense/kernel:0', 'tf_bert_model_6/bert/encoder/layer_._4/output/dense/bias:0', 'tf_bert_model_6/bert/encoder/layer_._4/output/LayerNorm/gamma:0', 'tf_bert_model_6/bert/encoder/layer_._4/output/LayerNorm/beta:0', 'tf_bert_model_6/bert/encoder/layer_._5/attention/self/query/kernel:0', 'tf_bert_model_6/bert/encoder/layer_._5/attention/self/query/bias:0', 'tf_bert_model_6/bert/encoder/layer_._5/attention/self/key/kernel:0', 'tf_bert_model_6/bert/encoder/layer_._5/attention/self/key/bias:0', 'tf_bert_model_6/bert/encoder/layer_._5/attention/self/value/kernel:0', 'tf_bert_model_6/bert/encoder/layer_._5/attention/self/value/bias:0', 'tf_bert_model_6/bert/encoder/layer_._5/attention/output/dense/kernel:0', 'tf_bert_model_6/bert/encoder/layer_._5/attention/output/dense/bias:0', 'tf_bert_model_6/bert/encoder/layer_._5/attention/output/LayerNorm/gamma:0', 'tf_bert_model_6/bert/encoder/layer_._5/attention/output/LayerNorm/beta:0', 'tf_bert_model_6/bert/encoder/layer_._5/intermediate/dense/kernel:0', 'tf_bert_model_6/bert/encoder/layer_._5/intermediate/dense/bias:0', 'tf_bert_model_6/bert/encoder/layer_._5/output/dense/kernel:0', 'tf_bert_model_6/bert/encoder/layer_._5/output/dense/bias:0', 'tf_bert_model_6/bert/encoder/layer_._5/output/LayerNorm/gamma:0', 'tf_bert_model_6/bert/encoder/layer_._5/output/LayerNorm/beta:0', 'tf_bert_model_6/bert/encoder/layer_._6/attention/self/query/kernel:0', 'tf_bert_model_6/bert/encoder/layer_._6/attention/self/query/bias:0', 'tf_bert_model_6/bert/encoder/layer_._6/attention/self/key/kernel:0', 'tf_bert_model_6/bert/encoder/layer_._6/attention/self/key/bias:0', 'tf_bert_model_6/bert/encoder/layer_._6/attention/self/value/kernel:0', 'tf_bert_model_6/bert/encoder/layer_._6/attention/self/value/bias:0', 'tf_bert_model_6/bert/encoder/layer_._6/attention/output/dense/kernel:0', 'tf_bert_model_6/bert/encoder/layer_._6/attention/output/dense/bias:0', 'tf_bert_model_6/bert/encoder/layer_._6/attention/output/LayerNorm/gamma:0', 'tf_bert_model_6/bert/encoder/layer_._6/attention/output/LayerNorm/beta:0', 'tf_bert_model_6/bert/encoder/layer_._6/intermediate/dense/kernel:0', 'tf_bert_model_6/bert/encoder/layer_._6/intermediate/dense/bias:0', 'tf_bert_model_6/bert/encoder/layer_._6/output/dense/kernel:0', 'tf_bert_model_6/bert/encoder/layer_._6/output/dense/bias:0', 'tf_bert_model_6/bert/encoder/layer_._6/output/LayerNorm/gamma:0', 'tf_bert_model_6/bert/encoder/layer_._6/output/LayerNorm/beta:0', 'tf_bert_model_6/bert/encoder/layer_._7/attention/self/query/kernel:0', 'tf_bert_model_6/bert/encoder/layer_._7/attention/self/query/bias:0', 'tf_bert_model_6/bert/encoder/layer_._7/attention/self/key/kernel:0', 'tf_bert_model_6/bert/encoder/layer_._7/attention/self/key/bias:0', 'tf_bert_model_6/bert/encoder/layer_._7/attention/self/value/kernel:0', 'tf_bert_model_6/bert/encoder/layer_._7/attention/self/value/bias:0', 'tf_bert_model_6/bert/encoder/layer_._7/attention/output/dense/kernel:0', 'tf_bert_model_6/bert/encoder/layer_._7/attention/output/dense/bias:0', 'tf_bert_model_6/bert/encoder/layer_._7/attention/output/LayerNorm/gamma:0', 'tf_bert_model_6/bert/encoder/layer_._7/attention/output/LayerNorm/beta:0', 'tf_bert_model_6/bert/encoder/layer_._7/intermediate/dense/kernel:0', 'tf_bert_model_6/bert/encoder/layer_._7/intermediate/dense/bias:0', 'tf_bert_model_6/bert/encoder/layer_._7/output/dense/kernel:0', 'tf_bert_model_6/bert/encoder/layer_._7/output/dense/bias:0', 'tf_bert_model_6/bert/encoder/layer_._7/output/LayerNorm/gamma:0', 'tf_bert_model_6/bert/encoder/layer_._7/output/LayerNorm/beta:0', 'tf_bert_model_6/bert/encoder/layer_._8/attention/self/query/kernel:0', 'tf_bert_model_6/bert/encoder/layer_._8/attention/self/query/bias:0', 'tf_bert_model_6/bert/encoder/layer_._8/attention/self/key/kernel:0', 'tf_bert_model_6/bert/encoder/layer_._8/attention/self/key/bias:0', 'tf_bert_model_6/bert/encoder/layer_._8/attention/self/value/kernel:0', 'tf_bert_model_6/bert/encoder/layer_._8/attention/self/value/bias:0', 'tf_bert_model_6/bert/encoder/layer_._8/attention/output/dense/kernel:0', 'tf_bert_model_6/bert/encoder/layer_._8/attention/output/dense/bias:0', 'tf_bert_model_6/bert/encoder/layer_._8/attention/output/LayerNorm/gamma:0', 'tf_bert_model_6/bert/encoder/layer_._8/attention/output/LayerNorm/beta:0', 'tf_bert_model_6/bert/encoder/layer_._8/intermediate/dense/kernel:0', 'tf_bert_model_6/bert/encoder/layer_._8/intermediate/dense/bias:0', 'tf_bert_model_6/bert/encoder/layer_._8/output/dense/kernel:0', 'tf_bert_model_6/bert/encoder/layer_._8/output/dense/bias:0', 'tf_bert_model_6/bert/encoder/layer_._8/output/LayerNorm/gamma:0', 'tf_bert_model_6/bert/encoder/layer_._8/output/LayerNorm/beta:0', 'tf_bert_model_6/bert/encoder/layer_._9/attention/self/query/kernel:0', 'tf_bert_model_6/bert/encoder/layer_._9/attention/self/query/bias:0', 'tf_bert_model_6/bert/encoder/layer_._9/attention/self/key/kernel:0', 'tf_bert_model_6/bert/encoder/layer_._9/attention/self/key/bias:0', 'tf_bert_model_6/bert/encoder/layer_._9/attention/self/value/kernel:0', 'tf_bert_model_6/bert/encoder/layer_._9/attention/self/value/bias:0', 'tf_bert_model_6/bert/encoder/layer_._9/attention/output/dense/kernel:0', 'tf_bert_model_6/bert/encoder/layer_._9/attention/output/dense/bias:0', 'tf_bert_model_6/bert/encoder/layer_._9/attention/output/LayerNorm/gamma:0', 'tf_bert_model_6/bert/encoder/layer_._9/attention/output/LayerNorm/beta:0', 'tf_bert_model_6/bert/encoder/layer_._9/intermediate/dense/kernel:0', 'tf_bert_model_6/bert/encoder/layer_._9/intermediate/dense/bias:0', 'tf_bert_model_6/bert/encoder/layer_._9/output/dense/kernel:0', 'tf_bert_model_6/bert/encoder/layer_._9/output/dense/bias:0', 'tf_bert_model_6/bert/encoder/layer_._9/output/LayerNorm/gamma:0', 'tf_bert_model_6/bert/encoder/layer_._9/output/LayerNorm/beta:0', 'tf_bert_model_6/bert/encoder/layer_._10/attention/self/query/kernel:0', 'tf_bert_model_6/bert/encoder/layer_._10/attention/self/query/bias:0', 'tf_bert_model_6/bert/encoder/layer_._10/attention/self/key/kernel:0', 'tf_bert_model_6/bert/encoder/layer_._10/attention/self/key/bias:0', 'tf_bert_model_6/bert/encoder/layer_._10/attention/self/value/kernel:0', 'tf_bert_model_6/bert/encoder/layer_._10/attention/self/value/bias:0', 'tf_bert_model_6/bert/encoder/layer_._10/attention/output/dense/kernel:0', 'tf_bert_model_6/bert/encoder/layer_._10/attention/output/dense/bias:0', 'tf_bert_model_6/bert/encoder/layer_._10/attention/output/LayerNorm/gamma:0', 'tf_bert_model_6/bert/encoder/layer_._10/attention/output/LayerNorm/beta:0', 'tf_bert_model_6/bert/encoder/layer_._10/intermediate/dense/kernel:0', 'tf_bert_model_6/bert/encoder/layer_._10/intermediate/dense/bias:0', 'tf_bert_model_6/bert/encoder/layer_._10/output/dense/kernel:0', 'tf_bert_model_6/bert/encoder/layer_._10/output/dense/bias:0', 'tf_bert_model_6/bert/encoder/layer_._10/output/LayerNorm/gamma:0', 'tf_bert_model_6/bert/encoder/layer_._10/output/LayerNorm/beta:0', 'tf_bert_model_6/bert/pooler/dense/kernel:0', 'tf_bert_model_6/bert/pooler/dense/bias:0'] when minimizing the loss. If you're using `model.compile()`, did you forget to provide a `loss`argument?\n",
            "611/611 [==============================] - 43s 59ms/step - loss: 0.1414 - accuracy: 0.9431 - val_loss: 0.0768 - val_accuracy: 0.9795\n",
            "Epoch 2/3\n",
            "611/611 [==============================] - 33s 54ms/step - loss: 0.0554 - accuracy: 0.9849 - val_loss: 0.0800 - val_accuracy: 0.9820\n",
            "Epoch 3/3\n",
            "611/611 [==============================] - 33s 55ms/step - loss: 0.0346 - accuracy: 0.9914 - val_loss: 0.0501 - val_accuracy: 0.9894\n"
          ]
        }
      ]
    },
    {
      "cell_type": "code",
      "source": [
        "train_predict_labels = pooled_bert_model_unfreeze.predict([x_train.input_ids, x_train.token_type_ids, x_train.attention_mask])\n",
        "train_y_predict = train_predict_labels.round(0)"
      ],
      "metadata": {
        "id": "_OpcuEbyAuIp"
      },
      "execution_count": null,
      "outputs": []
    },
    {
      "cell_type": "code",
      "source": [
        "test_predict_labels = pooled_bert_model_unfreeze.predict([x_test.input_ids, x_test.token_type_ids, x_test.attention_mask])\n",
        "test_y_predict = test_predict_labels.round(0)"
      ],
      "metadata": {
        "id": "IsfZJw01A0jH"
      },
      "execution_count": null,
      "outputs": []
    },
    {
      "cell_type": "code",
      "source": [
        "# train\n",
        "sns.heatmap(confusion_matrix(np.array(train_y, int), np.array(train_y_predict.reshape(-1), int)), annot=True, fmt='g')  #annot=True to annotate cells, ftm='g' to disable scientific notation"
      ],
      "metadata": {
        "id": "wENCXkfaBQQC",
        "colab": {
          "base_uri": "https://localhost:8080/",
          "height": 283
        },
        "outputId": "ddb86a16-5921-4a7b-dae3-4ff67a649825"
      },
      "execution_count": null,
      "outputs": [
        {
          "output_type": "execute_result",
          "data": {
            "text/plain": [
              "<matplotlib.axes._subplots.AxesSubplot at 0x7f3f42e11950>"
            ]
          },
          "metadata": {},
          "execution_count": 147
        },
        {
          "output_type": "display_data",
          "data": {
            "text/plain": [
              "<Figure size 432x288 with 2 Axes>"
            ],
            "image/png": "[encoded data removed]"
          },
          "metadata": {
            "needs_background": "light"
          }
        }
      ]
    },
    {
      "cell_type": "code",
      "source": [
        "# test\n",
        "sns.heatmap(confusion_matrix(np.array(test_y, int), np.array(test_y_predict.reshape(-1), int)), annot=True, fmt='g')  #annot=True to annotate cells, ftm='g' to disable scientific notation"
      ],
      "metadata": {
        "id": "4joh3aupBQwG",
        "colab": {
          "base_uri": "https://localhost:8080/",
          "height": 283
        },
        "outputId": "b41d9fb2-ab5f-47f4-8dff-e975d523521f"
      },
      "execution_count": null,
      "outputs": [
        {
          "output_type": "execute_result",
          "data": {
            "text/plain": [
              "<matplotlib.axes._subplots.AxesSubplot at 0x7f3e384b4c90>"
            ]
          },
          "metadata": {},
          "execution_count": 148
        },
        {
          "output_type": "display_data",
          "data": {
            "text/plain": [
              "<Figure size 432x288 with 2 Axes>"
            ],
            "image/png": "[encoded data removed]"
          },
          "metadata": {
            "needs_background": "light"
          }
        }
      ]
    },
    {
      "cell_type": "code",
      "source": [
        "# train\n",
        "print_metrics('BERT 3e + FCN, train data: ', np.array(train_y, int), train_y_predict)"
      ],
      "metadata": {
        "id": "WRs8lu0JA76b",
        "colab": {
          "base_uri": "https://localhost:8080/"
        },
        "outputId": "3dd76b2d-2bbe-49b8-cb91-8aef25698fc2"
      },
      "execution_count": null,
      "outputs": [
        {
          "output_type": "stream",
          "name": "stdout",
          "text": [
            "BERT 3e + FCN, train data: : accuracy = 0.9990, precision = 0.9971, recall = 0.9980, f1 = 0.9975\n"
          ]
        }
      ]
    },
    {
      "cell_type": "code",
      "source": [
        "# test\n",
        "print_metrics('BERT 3e + FCN, test data: ', np.array(test_y, int), test_y_predict)"
      ],
      "metadata": {
        "id": "JBB3uuD3AqUR",
        "colab": {
          "base_uri": "https://localhost:8080/"
        },
        "outputId": "e795547d-f43b-478b-e152-f92e6fed1d20"
      },
      "execution_count": null,
      "outputs": [
        {
          "output_type": "stream",
          "name": "stdout",
          "text": [
            "BERT 3e + FCN, test data: : accuracy = 0.9894, precision = 0.9699, recall = 0.9810, f1 = 0.9754\n"
          ]
        }
      ]
    },
    {
      "cell_type": "code",
      "source": [
        "# test\n",
        "missclassified_text = test_X[np.array(test_y, int) != test_y_predict.reshape(-1)]\n",
        "missclassified_label = test_y[np.array(test_y, int) != test_y_predict.reshape(-1)]\n",
        "\n",
        "df_report = pd.DataFrame({'missclassified_text': missclassified_text, 'true_label': missclassified_label})\n",
        "\n",
        "df_report"
      ],
      "metadata": {
        "id": "_F0aKI--BZ7o",
        "colab": {
          "base_uri": "https://localhost:8080/",
          "height": 457
        },
        "outputId": "94542e8a-da00-4057-dc6a-4dad2230ea72"
      },
      "execution_count": null,
      "outputs": [
        {
          "output_type": "execute_result",
          "data": {
            "text/plain": [
              "                                    missclassified_text  true_label\n",
              "3044        Your bill at 3 is £33.65 so thats not bad!\n",
              "           0\n",
              "2663  Hello darling how are you today? I would love ...           1\n",
              "1260  We have sent JD for Customer Service cum Accou...           0\n",
              "718   Book which lesson? then you msg me... I will c...           0\n",
              "263   MY NO. IN LUTON 0125698789 RING ME IF UR AROUN...           0\n",
              "989   Yun ah.the ubi one say if ü wan call by tomorr...           0\n",
              "5581                                                N/a           1\n",
              "2680  New Tones This week include: 1)McFly-All Ab..,...           1\n",
              "4330  1Apple/Day=No Doctor. 1Tulsi Leaf/Day=No Cance...           0\n",
              "925   Actually i deleted my old website..now i m blo...           0\n",
              "2774  How come it takes so little time for a child w...           1\n",
              "5372  dating:i have had two of these. Only started a...           1\n",
              "3094  staff.science.nus.edu.sg/~phyhcmk/teaching/pc1...           0"
            ],
            "text/html": [
              "\n",
              "  <div id=\"df-9c725da6-59d6-492b-a5ef-31ae3bdf65b0\">\n",
              "    <div class=\"colab-df-container\">\n",
              "      <div>\n",
              "<style scoped>\n",
              "    .dataframe tbody tr th:only-of-type {\n",
              "        vertical-align: middle;\n",
              "    }\n",
              "\n",
              "    .dataframe tbody tr th {\n",
              "        vertical-align: top;\n",
              "    }\n",
              "\n",
              "    .dataframe thead th {\n",
              "        text-align: right;\n",
              "    }\n",
              "</style>\n",
              "<table border=\"1\" class=\"dataframe\">\n",
              "  <thead>\n",
              "    <tr style=\"text-align: right;\">\n",
              "      <th></th>\n",
              "      <th>missclassified_text</th>\n",
              "      <th>true_label</th>\n",
              "    </tr>\n",
              "  </thead>\n",
              "  <tbody>\n",
              "    <tr>\n",
              "      <th>3044</th>\n",
              "      <td>Your bill at 3 is £33.65 so thats not bad!</td>\n",
              "      <td>0</td>\n",
              "    </tr>\n",
              "    <tr>\n",
              "      <th>2663</th>\n",
              "      <td>Hello darling how are you today? I would love ...</td>\n",
              "      <td>1</td>\n",
              "    </tr>\n",
              "    <tr>\n",
              "      <th>1260</th>\n",
              "      <td>We have sent JD for Customer Service cum Accou...</td>\n",
              "      <td>0</td>\n",
              "    </tr>\n",
              "    <tr>\n",
              "      <th>718</th>\n",
              "      <td>Book which lesson? then you msg me... I will c...</td>\n",
              "      <td>0</td>\n",
              "    </tr>\n",
              "    <tr>\n",
              "      <th>263</th>\n",
              "      <td>MY NO. IN LUTON 0125698789 RING ME IF UR AROUN...</td>\n",
              "      <td>0</td>\n",
              "    </tr>\n",
              "    <tr>\n",
              "      <th>989</th>\n",
              "      <td>Yun ah.the ubi one say if ü wan call by tomorr...</td>\n",
              "      <td>0</td>\n",
              "    </tr>\n",
              "    <tr>\n",
              "      <th>5581</th>\n",
              "      <td>N/a</td>\n",
              "      <td>1</td>\n",
              "    </tr>\n",
              "    <tr>\n",
              "      <th>2680</th>\n",
              "      <td>New Tones This week include: 1)McFly-All Ab..,...</td>\n",
              "      <td>1</td>\n",
              "    </tr>\n",
              "    <tr>\n",
              "      <th>4330</th>\n",
              "      <td>1Apple/Day=No Doctor. 1Tulsi Leaf/Day=No Cance...</td>\n",
              "      <td>0</td>\n",
              "    </tr>\n",
              "    <tr>\n",
              "      <th>925</th>\n",
              "      <td>Actually i deleted my old website..now i m blo...</td>\n",
              "      <td>0</td>\n",
              "    </tr>\n",
              "    <tr>\n",
              "      <th>2774</th>\n",
              "      <td>How come it takes so little time for a child w...</td>\n",
              "      <td>1</td>\n",
              "    </tr>\n",
              "    <tr>\n",
              "      <th>5372</th>\n",
              "      <td>dating:i have had two of these. Only started a...</td>\n",
              "      <td>1</td>\n",
              "    </tr>\n",
              "    <tr>\n",
              "      <th>3094</th>\n",
              "      <td>staff.science.nus.edu.sg/~phyhcmk/teaching/pc1...</td>\n",
              "      <td>0</td>\n",
              "    </tr>\n",
              "  </tbody>\n",
              "</table>\n",
              "</div>\n",
              "      <button class=\"colab-df-convert\" onclick=\"convertToInteractive('df-9c725da6-59d6-492b-a5ef-31ae3bdf65b0')\"\n",
              "              title=\"Convert this dataframe to an interactive table.\"\n",
              "              style=\"display:none;\">\n",
              "        \n",
              "  <svg xmlns=\"http://www.w3.org/2000/svg\" height=\"24px\"viewBox=\"0 0 24 24\"\n",
              "       width=\"24px\">\n",
              "    <path d=\"M0 0h24v24H0V0z\" fill=\"none\"/>\n",
              "    <path d=\"M18.56 5.44l.94 2.06.94-2.06 2.06-.94-2.06-.94-.94-2.06-.94 2.06-2.06.94zm-11 1L8.5 8.5l.94-2.06 2.06-.94-2.06-.94L8.5 2.5l-.94 2.06-2.06.94zm10 10l.94 2.06.94-2.06 2.06-.94-2.06-.94-.94-2.06-.94 2.06-2.06.94z\"/><path d=\"M17.41 7.96l-1.37-1.37c-.4-.4-.92-.59-1.43-.59-.52 0-1.04.2-1.43.59L10.3 9.45l-7.72 7.72c-.78.78-.78 2.05 0 2.83L4 21.41c.39.39.9.59 1.41.59.51 0 1.02-.2 1.41-.59l7.78-7.78 2.81-2.81c.8-.78.8-2.07 0-2.86zM5.41 20L4 18.59l7.72-7.72 1.47 1.35L5.41 20z\"/>\n",
              "  </svg>\n",
              "      </button>\n",
              "      \n",
              "  <style>\n",
              "    .colab-df-container {\n",
              "      display:flex;\n",
              "      flex-wrap:wrap;\n",
              "      gap: 12px;\n",
              "    }\n",
              "\n",
              "    .colab-df-convert {\n",
              "      background-color: #E8F0FE;\n",
              "      border: none;\n",
              "      border-radius: 50%;\n",
              "      cursor: pointer;\n",
              "      display: none;\n",
              "      fill: #1967D2;\n",
              "      height: 32px;\n",
              "      padding: 0 0 0 0;\n",
              "      width: 32px;\n",
              "    }\n",
              "\n",
              "    .colab-df-convert:hover {\n",
              "      background-color: #E2EBFA;\n",
              "      box-shadow: 0px 1px 2px rgba(60, 64, 67, 0.3), 0px 1px 3px 1px rgba(60, 64, 67, 0.15);\n",
              "      fill: #174EA6;\n",
              "    }\n",
              "\n",
              "    [theme=dark] .colab-df-convert {\n",
              "      background-color: #3B4455;\n",
              "      fill: #D2E3FC;\n",
              "    }\n",
              "\n",
              "    [theme=dark] .colab-df-convert:hover {\n",
              "      background-color: #434B5C;\n",
              "      box-shadow: 0px 1px 3px 1px rgba(0, 0, 0, 0.15);\n",
              "      filter: drop-shadow(0px 1px 2px rgba(0, 0, 0, 0.3));\n",
              "      fill: #FFFFFF;\n",
              "    }\n",
              "  </style>\n",
              "\n",
              "      <script>\n",
              "        const buttonEl =\n",
              "          document.querySelector('#df-9c725da6-59d6-492b-a5ef-31ae3bdf65b0 button.colab-df-convert');\n",
              "        buttonEl.style.display =\n",
              "          google.colab.kernel.accessAllowed ? 'block' : 'none';\n",
              "\n",
              "        async function convertToInteractive(key) {\n",
              "          const element = document.querySelector('#df-9c725da6-59d6-492b-a5ef-31ae3bdf65b0');\n",
              "          const dataTable =\n",
              "            await google.colab.kernel.invokeFunction('convertToInteractive',\n",
              "                                                     [key], {});\n",
              "          if (!dataTable) return;\n",
              "\n",
              "          const docLinkHtml = 'Like what you see? Visit the ' +\n",
              "            '<a target=\"_blank\" href=https://colab.research.google.com/notebooks/data_table.ipynb>data table notebook</a>'\n",
              "            + ' to learn more about interactive tables.';\n",
              "          element.innerHTML = '';\n",
              "          dataTable['output_type'] = 'display_data';\n",
              "          await google.colab.output.renderOutput(dataTable, element);\n",
              "          const docLink = document.createElement('div');\n",
              "          docLink.innerHTML = docLinkHtml;\n",
              "          element.appendChild(docLink);\n",
              "        }\n",
              "      </script>\n",
              "    </div>\n",
              "  </div>\n",
              "  "
            ]
          },
          "metadata": {},
          "execution_count": 151
        }
      ]
    },
    {
      "cell_type": "markdown",
      "source": [
        "**Experiment 1 Results:** Unfreezing the BERT model layers helped with increasing the F1 score to 0.9745 on running the model for 3 epochs. The performance on the training set was excellent which may mean that we're slightly overfitting. \n",
        "\n",
        "Because the performance kept improving we may try to run on a couple more epochs to see if overfitting becomes worse and see if we will hit lower performance on the validation set."
      ],
      "metadata": {
        "id": "7l9OgX4CCA8m"
      }
    },
    {
      "cell_type": "code",
      "source": [
        "# unfreeze layers\n",
        "pooled_bert_model_unfreeze = create_bert_pooled_model(train_layers=1)"
      ],
      "metadata": {
        "colab": {
          "base_uri": "https://localhost:8080/"
        },
        "id": "wOcZs6nZCwYq",
        "outputId": "a97c0a6f-c8d3-4ce6-d425-7caa53a64bcd"
      },
      "execution_count": null,
      "outputs": [
        {
          "output_type": "stream",
          "name": "stderr",
          "text": [
            "Some layers from the model checkpoint at bert-base-cased were not used when initializing TFBertModel: ['nsp___cls', 'mlm___cls']\n",
            "- This IS expected if you are initializing TFBertModel from the checkpoint of a model trained on another task or with another architecture (e.g. initializing a BertForSequenceClassification model from a BertForPreTraining model).\n",
            "- This IS NOT expected if you are initializing TFBertModel from the checkpoint of a model that you expect to be exactly identical (initializing a BertForSequenceClassification model from a BertForSequenceClassification model).\n",
            "All the layers of TFBertModel were initialized from the model checkpoint at bert-base-cased.\n",
            "If your task is similar to the task the model of the checkpoint was trained on, you can already use TFBertModel for predictions without further training.\n"
          ]
        }
      ]
    },
    {
      "cell_type": "code",
      "source": [
        "# change to 5 epochs\n",
        "pooled_bert_model_history = pooled_bert_model_unfreeze.fit([x_train.input_ids, x_train.token_type_ids, x_train.attention_mask], \n",
        "                                                  y_train,   \n",
        "                                                  validation_data=([x_test.input_ids, x_test.token_type_ids, x_test.attention_mask], y_test),    \n",
        "                                                  class_weight = class_weight, \n",
        "                                                  batch_size=8, \n",
        "                                                  epochs=5) "
      ],
      "metadata": {
        "colab": {
          "base_uri": "https://localhost:8080/"
        },
        "id": "0sSSN7ULC1es",
        "outputId": "956fdcc6-0a5b-48b1-ee12-2af12e4805f9"
      },
      "execution_count": null,
      "outputs": [
        {
          "output_type": "stream",
          "name": "stdout",
          "text": [
            "Epoch 1/5\n",
            "WARNING:tensorflow:Gradients do not exist for variables ['tf_bert_model_7/bert/embeddings/word_embeddings/weight:0', 'tf_bert_model_7/bert/embeddings/token_type_embeddings/embeddings:0', 'tf_bert_model_7/bert/embeddings/position_embeddings/embeddings:0', 'tf_bert_model_7/bert/embeddings/LayerNorm/gamma:0', 'tf_bert_model_7/bert/embeddings/LayerNorm/beta:0', 'tf_bert_model_7/bert/encoder/layer_._0/attention/self/query/kernel:0', 'tf_bert_model_7/bert/encoder/layer_._0/attention/self/query/bias:0', 'tf_bert_model_7/bert/encoder/layer_._0/attention/self/key/kernel:0', 'tf_bert_model_7/bert/encoder/layer_._0/attention/self/key/bias:0', 'tf_bert_model_7/bert/encoder/layer_._0/attention/self/value/kernel:0', 'tf_bert_model_7/bert/encoder/layer_._0/attention/self/value/bias:0', 'tf_bert_model_7/bert/encoder/layer_._0/attention/output/dense/kernel:0', 'tf_bert_model_7/bert/encoder/layer_._0/attention/output/dense/bias:0', 'tf_bert_model_7/bert/encoder/layer_._0/attention/output/LayerNorm/gamma:0', 'tf_bert_model_7/bert/encoder/layer_._0/attention/output/LayerNorm/beta:0', 'tf_bert_model_7/bert/encoder/layer_._0/intermediate/dense/kernel:0', 'tf_bert_model_7/bert/encoder/layer_._0/intermediate/dense/bias:0', 'tf_bert_model_7/bert/encoder/layer_._0/output/dense/kernel:0', 'tf_bert_model_7/bert/encoder/layer_._0/output/dense/bias:0', 'tf_bert_model_7/bert/encoder/layer_._0/output/LayerNorm/gamma:0', 'tf_bert_model_7/bert/encoder/layer_._0/output/LayerNorm/beta:0', 'tf_bert_model_7/bert/encoder/layer_._1/attention/self/query/kernel:0', 'tf_bert_model_7/bert/encoder/layer_._1/attention/self/query/bias:0', 'tf_bert_model_7/bert/encoder/layer_._1/attention/self/key/kernel:0', 'tf_bert_model_7/bert/encoder/layer_._1/attention/self/key/bias:0', 'tf_bert_model_7/bert/encoder/layer_._1/attention/self/value/kernel:0', 'tf_bert_model_7/bert/encoder/layer_._1/attention/self/value/bias:0', 'tf_bert_model_7/bert/encoder/layer_._1/attention/output/dense/kernel:0', 'tf_bert_model_7/bert/encoder/layer_._1/attention/output/dense/bias:0', 'tf_bert_model_7/bert/encoder/layer_._1/attention/output/LayerNorm/gamma:0', 'tf_bert_model_7/bert/encoder/layer_._1/attention/output/LayerNorm/beta:0', 'tf_bert_model_7/bert/encoder/layer_._1/intermediate/dense/kernel:0', 'tf_bert_model_7/bert/encoder/layer_._1/intermediate/dense/bias:0', 'tf_bert_model_7/bert/encoder/layer_._1/output/dense/kernel:0', 'tf_bert_model_7/bert/encoder/layer_._1/output/dense/bias:0', 'tf_bert_model_7/bert/encoder/layer_._1/output/LayerNorm/gamma:0', 'tf_bert_model_7/bert/encoder/layer_._1/output/LayerNorm/beta:0', 'tf_bert_model_7/bert/encoder/layer_._2/attention/self/query/kernel:0', 'tf_bert_model_7/bert/encoder/layer_._2/attention/self/query/bias:0', 'tf_bert_model_7/bert/encoder/layer_._2/attention/self/key/kernel:0', 'tf_bert_model_7/bert/encoder/layer_._2/attention/self/key/bias:0', 'tf_bert_model_7/bert/encoder/layer_._2/attention/self/value/kernel:0', 'tf_bert_model_7/bert/encoder/layer_._2/attention/self/value/bias:0', 'tf_bert_model_7/bert/encoder/layer_._2/attention/output/dense/kernel:0', 'tf_bert_model_7/bert/encoder/layer_._2/attention/output/dense/bias:0', 'tf_bert_model_7/bert/encoder/layer_._2/attention/output/LayerNorm/gamma:0', 'tf_bert_model_7/bert/encoder/layer_._2/attention/output/LayerNorm/beta:0', 'tf_bert_model_7/bert/encoder/layer_._2/intermediate/dense/kernel:0', 'tf_bert_model_7/bert/encoder/layer_._2/intermediate/dense/bias:0', 'tf_bert_model_7/bert/encoder/layer_._2/output/dense/kernel:0', 'tf_bert_model_7/bert/encoder/layer_._2/output/dense/bias:0', 'tf_bert_model_7/bert/encoder/layer_._2/output/LayerNorm/gamma:0', 'tf_bert_model_7/bert/encoder/layer_._2/output/LayerNorm/beta:0', 'tf_bert_model_7/bert/encoder/layer_._3/attention/self/query/kernel:0', 'tf_bert_model_7/bert/encoder/layer_._3/attention/self/query/bias:0', 'tf_bert_model_7/bert/encoder/layer_._3/attention/self/key/kernel:0', 'tf_bert_model_7/bert/encoder/layer_._3/attention/self/key/bias:0', 'tf_bert_model_7/bert/encoder/layer_._3/attention/self/value/kernel:0', 'tf_bert_model_7/bert/encoder/layer_._3/attention/self/value/bias:0', 'tf_bert_model_7/bert/encoder/layer_._3/attention/output/dense/kernel:0', 'tf_bert_model_7/bert/encoder/layer_._3/attention/output/dense/bias:0', 'tf_bert_model_7/bert/encoder/layer_._3/attention/output/LayerNorm/gamma:0', 'tf_bert_model_7/bert/encoder/layer_._3/attention/output/LayerNorm/beta:0', 'tf_bert_model_7/bert/encoder/layer_._3/intermediate/dense/kernel:0', 'tf_bert_model_7/bert/encoder/layer_._3/intermediate/dense/bias:0', 'tf_bert_model_7/bert/encoder/layer_._3/output/dense/kernel:0', 'tf_bert_model_7/bert/encoder/layer_._3/output/dense/bias:0', 'tf_bert_model_7/bert/encoder/layer_._3/output/LayerNorm/gamma:0', 'tf_bert_model_7/bert/encoder/layer_._3/output/LayerNorm/beta:0', 'tf_bert_model_7/bert/encoder/layer_._4/attention/self/query/kernel:0', 'tf_bert_model_7/bert/encoder/layer_._4/attention/self/query/bias:0', 'tf_bert_model_7/bert/encoder/layer_._4/attention/self/key/kernel:0', 'tf_bert_model_7/bert/encoder/layer_._4/attention/self/key/bias:0', 'tf_bert_model_7/bert/encoder/layer_._4/attention/self/value/kernel:0', 'tf_bert_model_7/bert/encoder/layer_._4/attention/self/value/bias:0', 'tf_bert_model_7/bert/encoder/layer_._4/attention/output/dense/kernel:0', 'tf_bert_model_7/bert/encoder/layer_._4/attention/output/dense/bias:0', 'tf_bert_model_7/bert/encoder/layer_._4/attention/output/LayerNorm/gamma:0', 'tf_bert_model_7/bert/encoder/layer_._4/attention/output/LayerNorm/beta:0', 'tf_bert_model_7/bert/encoder/layer_._4/intermediate/dense/kernel:0', 'tf_bert_model_7/bert/encoder/layer_._4/intermediate/dense/bias:0', 'tf_bert_model_7/bert/encoder/layer_._4/output/dense/kernel:0', 'tf_bert_model_7/bert/encoder/layer_._4/output/dense/bias:0', 'tf_bert_model_7/bert/encoder/layer_._4/output/LayerNorm/gamma:0', 'tf_bert_model_7/bert/encoder/layer_._4/output/LayerNorm/beta:0', 'tf_bert_model_7/bert/encoder/layer_._5/attention/self/query/kernel:0', 'tf_bert_model_7/bert/encoder/layer_._5/attention/self/query/bias:0', 'tf_bert_model_7/bert/encoder/layer_._5/attention/self/key/kernel:0', 'tf_bert_model_7/bert/encoder/layer_._5/attention/self/key/bias:0', 'tf_bert_model_7/bert/encoder/layer_._5/attention/self/value/kernel:0', 'tf_bert_model_7/bert/encoder/layer_._5/attention/self/value/bias:0', 'tf_bert_model_7/bert/encoder/layer_._5/attention/output/dense/kernel:0', 'tf_bert_model_7/bert/encoder/layer_._5/attention/output/dense/bias:0', 'tf_bert_model_7/bert/encoder/layer_._5/attention/output/LayerNorm/gamma:0', 'tf_bert_model_7/bert/encoder/layer_._5/attention/output/LayerNorm/beta:0', 'tf_bert_model_7/bert/encoder/layer_._5/intermediate/dense/kernel:0', 'tf_bert_model_7/bert/encoder/layer_._5/intermediate/dense/bias:0', 'tf_bert_model_7/bert/encoder/layer_._5/output/dense/kernel:0', 'tf_bert_model_7/bert/encoder/layer_._5/output/dense/bias:0', 'tf_bert_model_7/bert/encoder/layer_._5/output/LayerNorm/gamma:0', 'tf_bert_model_7/bert/encoder/layer_._5/output/LayerNorm/beta:0', 'tf_bert_model_7/bert/encoder/layer_._6/attention/self/query/kernel:0', 'tf_bert_model_7/bert/encoder/layer_._6/attention/self/query/bias:0', 'tf_bert_model_7/bert/encoder/layer_._6/attention/self/key/kernel:0', 'tf_bert_model_7/bert/encoder/layer_._6/attention/self/key/bias:0', 'tf_bert_model_7/bert/encoder/layer_._6/attention/self/value/kernel:0', 'tf_bert_model_7/bert/encoder/layer_._6/attention/self/value/bias:0', 'tf_bert_model_7/bert/encoder/layer_._6/attention/output/dense/kernel:0', 'tf_bert_model_7/bert/encoder/layer_._6/attention/output/dense/bias:0', 'tf_bert_model_7/bert/encoder/layer_._6/attention/output/LayerNorm/gamma:0', 'tf_bert_model_7/bert/encoder/layer_._6/attention/output/LayerNorm/beta:0', 'tf_bert_model_7/bert/encoder/layer_._6/intermediate/dense/kernel:0', 'tf_bert_model_7/bert/encoder/layer_._6/intermediate/dense/bias:0', 'tf_bert_model_7/bert/encoder/layer_._6/output/dense/kernel:0', 'tf_bert_model_7/bert/encoder/layer_._6/output/dense/bias:0', 'tf_bert_model_7/bert/encoder/layer_._6/output/LayerNorm/gamma:0', 'tf_bert_model_7/bert/encoder/layer_._6/output/LayerNorm/beta:0', 'tf_bert_model_7/bert/encoder/layer_._7/attention/self/query/kernel:0', 'tf_bert_model_7/bert/encoder/layer_._7/attention/self/query/bias:0', 'tf_bert_model_7/bert/encoder/layer_._7/attention/self/key/kernel:0', 'tf_bert_model_7/bert/encoder/layer_._7/attention/self/key/bias:0', 'tf_bert_model_7/bert/encoder/layer_._7/attention/self/value/kernel:0', 'tf_bert_model_7/bert/encoder/layer_._7/attention/self/value/bias:0', 'tf_bert_model_7/bert/encoder/layer_._7/attention/output/dense/kernel:0', 'tf_bert_model_7/bert/encoder/layer_._7/attention/output/dense/bias:0', 'tf_bert_model_7/bert/encoder/layer_._7/attention/output/LayerNorm/gamma:0', 'tf_bert_model_7/bert/encoder/layer_._7/attention/output/LayerNorm/beta:0', 'tf_bert_model_7/bert/encoder/layer_._7/intermediate/dense/kernel:0', 'tf_bert_model_7/bert/encoder/layer_._7/intermediate/dense/bias:0', 'tf_bert_model_7/bert/encoder/layer_._7/output/dense/kernel:0', 'tf_bert_model_7/bert/encoder/layer_._7/output/dense/bias:0', 'tf_bert_model_7/bert/encoder/layer_._7/output/LayerNorm/gamma:0', 'tf_bert_model_7/bert/encoder/layer_._7/output/LayerNorm/beta:0', 'tf_bert_model_7/bert/encoder/layer_._8/attention/self/query/kernel:0', 'tf_bert_model_7/bert/encoder/layer_._8/attention/self/query/bias:0', 'tf_bert_model_7/bert/encoder/layer_._8/attention/self/key/kernel:0', 'tf_bert_model_7/bert/encoder/layer_._8/attention/self/key/bias:0', 'tf_bert_model_7/bert/encoder/layer_._8/attention/self/value/kernel:0', 'tf_bert_model_7/bert/encoder/layer_._8/attention/self/value/bias:0', 'tf_bert_model_7/bert/encoder/layer_._8/attention/output/dense/kernel:0', 'tf_bert_model_7/bert/encoder/layer_._8/attention/output/dense/bias:0', 'tf_bert_model_7/bert/encoder/layer_._8/attention/output/LayerNorm/gamma:0', 'tf_bert_model_7/bert/encoder/layer_._8/attention/output/LayerNorm/beta:0', 'tf_bert_model_7/bert/encoder/layer_._8/intermediate/dense/kernel:0', 'tf_bert_model_7/bert/encoder/layer_._8/intermediate/dense/bias:0', 'tf_bert_model_7/bert/encoder/layer_._8/output/dense/kernel:0', 'tf_bert_model_7/bert/encoder/layer_._8/output/dense/bias:0', 'tf_bert_model_7/bert/encoder/layer_._8/output/LayerNorm/gamma:0', 'tf_bert_model_7/bert/encoder/layer_._8/output/LayerNorm/beta:0', 'tf_bert_model_7/bert/encoder/layer_._9/attention/self/query/kernel:0', 'tf_bert_model_7/bert/encoder/layer_._9/attention/self/query/bias:0', 'tf_bert_model_7/bert/encoder/layer_._9/attention/self/key/kernel:0', 'tf_bert_model_7/bert/encoder/layer_._9/attention/self/key/bias:0', 'tf_bert_model_7/bert/encoder/layer_._9/attention/self/value/kernel:0', 'tf_bert_model_7/bert/encoder/layer_._9/attention/self/value/bias:0', 'tf_bert_model_7/bert/encoder/layer_._9/attention/output/dense/kernel:0', 'tf_bert_model_7/bert/encoder/layer_._9/attention/output/dense/bias:0', 'tf_bert_model_7/bert/encoder/layer_._9/attention/output/LayerNorm/gamma:0', 'tf_bert_model_7/bert/encoder/layer_._9/attention/output/LayerNorm/beta:0', 'tf_bert_model_7/bert/encoder/layer_._9/intermediate/dense/kernel:0', 'tf_bert_model_7/bert/encoder/layer_._9/intermediate/dense/bias:0', 'tf_bert_model_7/bert/encoder/layer_._9/output/dense/kernel:0', 'tf_bert_model_7/bert/encoder/layer_._9/output/dense/bias:0', 'tf_bert_model_7/bert/encoder/layer_._9/output/LayerNorm/gamma:0', 'tf_bert_model_7/bert/encoder/layer_._9/output/LayerNorm/beta:0', 'tf_bert_model_7/bert/encoder/layer_._10/attention/self/query/kernel:0', 'tf_bert_model_7/bert/encoder/layer_._10/attention/self/query/bias:0', 'tf_bert_model_7/bert/encoder/layer_._10/attention/self/key/kernel:0', 'tf_bert_model_7/bert/encoder/layer_._10/attention/self/key/bias:0', 'tf_bert_model_7/bert/encoder/layer_._10/attention/self/value/kernel:0', 'tf_bert_model_7/bert/encoder/layer_._10/attention/self/value/bias:0', 'tf_bert_model_7/bert/encoder/layer_._10/attention/output/dense/kernel:0', 'tf_bert_model_7/bert/encoder/layer_._10/attention/output/dense/bias:0', 'tf_bert_model_7/bert/encoder/layer_._10/attention/output/LayerNorm/gamma:0', 'tf_bert_model_7/bert/encoder/layer_._10/attention/output/LayerNorm/beta:0', 'tf_bert_model_7/bert/encoder/layer_._10/intermediate/dense/kernel:0', 'tf_bert_model_7/bert/encoder/layer_._10/intermediate/dense/bias:0', 'tf_bert_model_7/bert/encoder/layer_._10/output/dense/kernel:0', 'tf_bert_model_7/bert/encoder/layer_._10/output/dense/bias:0', 'tf_bert_model_7/bert/encoder/layer_._10/output/LayerNorm/gamma:0', 'tf_bert_model_7/bert/encoder/layer_._10/output/LayerNorm/beta:0', 'tf_bert_model_7/bert/pooler/dense/kernel:0', 'tf_bert_model_7/bert/pooler/dense/bias:0'] when minimizing the loss. If you're using `model.compile()`, did you forget to provide a `loss`argument?\n",
            "WARNING:tensorflow:Gradients do not exist for variables ['tf_bert_model_7/bert/embeddings/word_embeddings/weight:0', 'tf_bert_model_7/bert/embeddings/token_type_embeddings/embeddings:0', 'tf_bert_model_7/bert/embeddings/position_embeddings/embeddings:0', 'tf_bert_model_7/bert/embeddings/LayerNorm/gamma:0', 'tf_bert_model_7/bert/embeddings/LayerNorm/beta:0', 'tf_bert_model_7/bert/encoder/layer_._0/attention/self/query/kernel:0', 'tf_bert_model_7/bert/encoder/layer_._0/attention/self/query/bias:0', 'tf_bert_model_7/bert/encoder/layer_._0/attention/self/key/kernel:0', 'tf_bert_model_7/bert/encoder/layer_._0/attention/self/key/bias:0', 'tf_bert_model_7/bert/encoder/layer_._0/attention/self/value/kernel:0', 'tf_bert_model_7/bert/encoder/layer_._0/attention/self/value/bias:0', 'tf_bert_model_7/bert/encoder/layer_._0/attention/output/dense/kernel:0', 'tf_bert_model_7/bert/encoder/layer_._0/attention/output/dense/bias:0', 'tf_bert_model_7/bert/encoder/layer_._0/attention/output/LayerNorm/gamma:0', 'tf_bert_model_7/bert/encoder/layer_._0/attention/output/LayerNorm/beta:0', 'tf_bert_model_7/bert/encoder/layer_._0/intermediate/dense/kernel:0', 'tf_bert_model_7/bert/encoder/layer_._0/intermediate/dense/bias:0', 'tf_bert_model_7/bert/encoder/layer_._0/output/dense/kernel:0', 'tf_bert_model_7/bert/encoder/layer_._0/output/dense/bias:0', 'tf_bert_model_7/bert/encoder/layer_._0/output/LayerNorm/gamma:0', 'tf_bert_model_7/bert/encoder/layer_._0/output/LayerNorm/beta:0', 'tf_bert_model_7/bert/encoder/layer_._1/attention/self/query/kernel:0', 'tf_bert_model_7/bert/encoder/layer_._1/attention/self/query/bias:0', 'tf_bert_model_7/bert/encoder/layer_._1/attention/self/key/kernel:0', 'tf_bert_model_7/bert/encoder/layer_._1/attention/self/key/bias:0', 'tf_bert_model_7/bert/encoder/layer_._1/attention/self/value/kernel:0', 'tf_bert_model_7/bert/encoder/layer_._1/attention/self/value/bias:0', 'tf_bert_model_7/bert/encoder/layer_._1/attention/output/dense/kernel:0', 'tf_bert_model_7/bert/encoder/layer_._1/attention/output/dense/bias:0', 'tf_bert_model_7/bert/encoder/layer_._1/attention/output/LayerNorm/gamma:0', 'tf_bert_model_7/bert/encoder/layer_._1/attention/output/LayerNorm/beta:0', 'tf_bert_model_7/bert/encoder/layer_._1/intermediate/dense/kernel:0', 'tf_bert_model_7/bert/encoder/layer_._1/intermediate/dense/bias:0', 'tf_bert_model_7/bert/encoder/layer_._1/output/dense/kernel:0', 'tf_bert_model_7/bert/encoder/layer_._1/output/dense/bias:0', 'tf_bert_model_7/bert/encoder/layer_._1/output/LayerNorm/gamma:0', 'tf_bert_model_7/bert/encoder/layer_._1/output/LayerNorm/beta:0', 'tf_bert_model_7/bert/encoder/layer_._2/attention/self/query/kernel:0', 'tf_bert_model_7/bert/encoder/layer_._2/attention/self/query/bias:0', 'tf_bert_model_7/bert/encoder/layer_._2/attention/self/key/kernel:0', 'tf_bert_model_7/bert/encoder/layer_._2/attention/self/key/bias:0', 'tf_bert_model_7/bert/encoder/layer_._2/attention/self/value/kernel:0', 'tf_bert_model_7/bert/encoder/layer_._2/attention/self/value/bias:0', 'tf_bert_model_7/bert/encoder/layer_._2/attention/output/dense/kernel:0', 'tf_bert_model_7/bert/encoder/layer_._2/attention/output/dense/bias:0', 'tf_bert_model_7/bert/encoder/layer_._2/attention/output/LayerNorm/gamma:0', 'tf_bert_model_7/bert/encoder/layer_._2/attention/output/LayerNorm/beta:0', 'tf_bert_model_7/bert/encoder/layer_._2/intermediate/dense/kernel:0', 'tf_bert_model_7/bert/encoder/layer_._2/intermediate/dense/bias:0', 'tf_bert_model_7/bert/encoder/layer_._2/output/dense/kernel:0', 'tf_bert_model_7/bert/encoder/layer_._2/output/dense/bias:0', 'tf_bert_model_7/bert/encoder/layer_._2/output/LayerNorm/gamma:0', 'tf_bert_model_7/bert/encoder/layer_._2/output/LayerNorm/beta:0', 'tf_bert_model_7/bert/encoder/layer_._3/attention/self/query/kernel:0', 'tf_bert_model_7/bert/encoder/layer_._3/attention/self/query/bias:0', 'tf_bert_model_7/bert/encoder/layer_._3/attention/self/key/kernel:0', 'tf_bert_model_7/bert/encoder/layer_._3/attention/self/key/bias:0', 'tf_bert_model_7/bert/encoder/layer_._3/attention/self/value/kernel:0', 'tf_bert_model_7/bert/encoder/layer_._3/attention/self/value/bias:0', 'tf_bert_model_7/bert/encoder/layer_._3/attention/output/dense/kernel:0', 'tf_bert_model_7/bert/encoder/layer_._3/attention/output/dense/bias:0', 'tf_bert_model_7/bert/encoder/layer_._3/attention/output/LayerNorm/gamma:0', 'tf_bert_model_7/bert/encoder/layer_._3/attention/output/LayerNorm/beta:0', 'tf_bert_model_7/bert/encoder/layer_._3/intermediate/dense/kernel:0', 'tf_bert_model_7/bert/encoder/layer_._3/intermediate/dense/bias:0', 'tf_bert_model_7/bert/encoder/layer_._3/output/dense/kernel:0', 'tf_bert_model_7/bert/encoder/layer_._3/output/dense/bias:0', 'tf_bert_model_7/bert/encoder/layer_._3/output/LayerNorm/gamma:0', 'tf_bert_model_7/bert/encoder/layer_._3/output/LayerNorm/beta:0', 'tf_bert_model_7/bert/encoder/layer_._4/attention/self/query/kernel:0', 'tf_bert_model_7/bert/encoder/layer_._4/attention/self/query/bias:0', 'tf_bert_model_7/bert/encoder/layer_._4/attention/self/key/kernel:0', 'tf_bert_model_7/bert/encoder/layer_._4/attention/self/key/bias:0', 'tf_bert_model_7/bert/encoder/layer_._4/attention/self/value/kernel:0', 'tf_bert_model_7/bert/encoder/layer_._4/attention/self/value/bias:0', 'tf_bert_model_7/bert/encoder/layer_._4/attention/output/dense/kernel:0', 'tf_bert_model_7/bert/encoder/layer_._4/attention/output/dense/bias:0', 'tf_bert_model_7/bert/encoder/layer_._4/attention/output/LayerNorm/gamma:0', 'tf_bert_model_7/bert/encoder/layer_._4/attention/output/LayerNorm/beta:0', 'tf_bert_model_7/bert/encoder/layer_._4/intermediate/dense/kernel:0', 'tf_bert_model_7/bert/encoder/layer_._4/intermediate/dense/bias:0', 'tf_bert_model_7/bert/encoder/layer_._4/output/dense/kernel:0', 'tf_bert_model_7/bert/encoder/layer_._4/output/dense/bias:0', 'tf_bert_model_7/bert/encoder/layer_._4/output/LayerNorm/gamma:0', 'tf_bert_model_7/bert/encoder/layer_._4/output/LayerNorm/beta:0', 'tf_bert_model_7/bert/encoder/layer_._5/attention/self/query/kernel:0', 'tf_bert_model_7/bert/encoder/layer_._5/attention/self/query/bias:0', 'tf_bert_model_7/bert/encoder/layer_._5/attention/self/key/kernel:0', 'tf_bert_model_7/bert/encoder/layer_._5/attention/self/key/bias:0', 'tf_bert_model_7/bert/encoder/layer_._5/attention/self/value/kernel:0', 'tf_bert_model_7/bert/encoder/layer_._5/attention/self/value/bias:0', 'tf_bert_model_7/bert/encoder/layer_._5/attention/output/dense/kernel:0', 'tf_bert_model_7/bert/encoder/layer_._5/attention/output/dense/bias:0', 'tf_bert_model_7/bert/encoder/layer_._5/attention/output/LayerNorm/gamma:0', 'tf_bert_model_7/bert/encoder/layer_._5/attention/output/LayerNorm/beta:0', 'tf_bert_model_7/bert/encoder/layer_._5/intermediate/dense/kernel:0', 'tf_bert_model_7/bert/encoder/layer_._5/intermediate/dense/bias:0', 'tf_bert_model_7/bert/encoder/layer_._5/output/dense/kernel:0', 'tf_bert_model_7/bert/encoder/layer_._5/output/dense/bias:0', 'tf_bert_model_7/bert/encoder/layer_._5/output/LayerNorm/gamma:0', 'tf_bert_model_7/bert/encoder/layer_._5/output/LayerNorm/beta:0', 'tf_bert_model_7/bert/encoder/layer_._6/attention/self/query/kernel:0', 'tf_bert_model_7/bert/encoder/layer_._6/attention/self/query/bias:0', 'tf_bert_model_7/bert/encoder/layer_._6/attention/self/key/kernel:0', 'tf_bert_model_7/bert/encoder/layer_._6/attention/self/key/bias:0', 'tf_bert_model_7/bert/encoder/layer_._6/attention/self/value/kernel:0', 'tf_bert_model_7/bert/encoder/layer_._6/attention/self/value/bias:0', 'tf_bert_model_7/bert/encoder/layer_._6/attention/output/dense/kernel:0', 'tf_bert_model_7/bert/encoder/layer_._6/attention/output/dense/bias:0', 'tf_bert_model_7/bert/encoder/layer_._6/attention/output/LayerNorm/gamma:0', 'tf_bert_model_7/bert/encoder/layer_._6/attention/output/LayerNorm/beta:0', 'tf_bert_model_7/bert/encoder/layer_._6/intermediate/dense/kernel:0', 'tf_bert_model_7/bert/encoder/layer_._6/intermediate/dense/bias:0', 'tf_bert_model_7/bert/encoder/layer_._6/output/dense/kernel:0', 'tf_bert_model_7/bert/encoder/layer_._6/output/dense/bias:0', 'tf_bert_model_7/bert/encoder/layer_._6/output/LayerNorm/gamma:0', 'tf_bert_model_7/bert/encoder/layer_._6/output/LayerNorm/beta:0', 'tf_bert_model_7/bert/encoder/layer_._7/attention/self/query/kernel:0', 'tf_bert_model_7/bert/encoder/layer_._7/attention/self/query/bias:0', 'tf_bert_model_7/bert/encoder/layer_._7/attention/self/key/kernel:0', 'tf_bert_model_7/bert/encoder/layer_._7/attention/self/key/bias:0', 'tf_bert_model_7/bert/encoder/layer_._7/attention/self/value/kernel:0', 'tf_bert_model_7/bert/encoder/layer_._7/attention/self/value/bias:0', 'tf_bert_model_7/bert/encoder/layer_._7/attention/output/dense/kernel:0', 'tf_bert_model_7/bert/encoder/layer_._7/attention/output/dense/bias:0', 'tf_bert_model_7/bert/encoder/layer_._7/attention/output/LayerNorm/gamma:0', 'tf_bert_model_7/bert/encoder/layer_._7/attention/output/LayerNorm/beta:0', 'tf_bert_model_7/bert/encoder/layer_._7/intermediate/dense/kernel:0', 'tf_bert_model_7/bert/encoder/layer_._7/intermediate/dense/bias:0', 'tf_bert_model_7/bert/encoder/layer_._7/output/dense/kernel:0', 'tf_bert_model_7/bert/encoder/layer_._7/output/dense/bias:0', 'tf_bert_model_7/bert/encoder/layer_._7/output/LayerNorm/gamma:0', 'tf_bert_model_7/bert/encoder/layer_._7/output/LayerNorm/beta:0', 'tf_bert_model_7/bert/encoder/layer_._8/attention/self/query/kernel:0', 'tf_bert_model_7/bert/encoder/layer_._8/attention/self/query/bias:0', 'tf_bert_model_7/bert/encoder/layer_._8/attention/self/key/kernel:0', 'tf_bert_model_7/bert/encoder/layer_._8/attention/self/key/bias:0', 'tf_bert_model_7/bert/encoder/layer_._8/attention/self/value/kernel:0', 'tf_bert_model_7/bert/encoder/layer_._8/attention/self/value/bias:0', 'tf_bert_model_7/bert/encoder/layer_._8/attention/output/dense/kernel:0', 'tf_bert_model_7/bert/encoder/layer_._8/attention/output/dense/bias:0', 'tf_bert_model_7/bert/encoder/layer_._8/attention/output/LayerNorm/gamma:0', 'tf_bert_model_7/bert/encoder/layer_._8/attention/output/LayerNorm/beta:0', 'tf_bert_model_7/bert/encoder/layer_._8/intermediate/dense/kernel:0', 'tf_bert_model_7/bert/encoder/layer_._8/intermediate/dense/bias:0', 'tf_bert_model_7/bert/encoder/layer_._8/output/dense/kernel:0', 'tf_bert_model_7/bert/encoder/layer_._8/output/dense/bias:0', 'tf_bert_model_7/bert/encoder/layer_._8/output/LayerNorm/gamma:0', 'tf_bert_model_7/bert/encoder/layer_._8/output/LayerNorm/beta:0', 'tf_bert_model_7/bert/encoder/layer_._9/attention/self/query/kernel:0', 'tf_bert_model_7/bert/encoder/layer_._9/attention/self/query/bias:0', 'tf_bert_model_7/bert/encoder/layer_._9/attention/self/key/kernel:0', 'tf_bert_model_7/bert/encoder/layer_._9/attention/self/key/bias:0', 'tf_bert_model_7/bert/encoder/layer_._9/attention/self/value/kernel:0', 'tf_bert_model_7/bert/encoder/layer_._9/attention/self/value/bias:0', 'tf_bert_model_7/bert/encoder/layer_._9/attention/output/dense/kernel:0', 'tf_bert_model_7/bert/encoder/layer_._9/attention/output/dense/bias:0', 'tf_bert_model_7/bert/encoder/layer_._9/attention/output/LayerNorm/gamma:0', 'tf_bert_model_7/bert/encoder/layer_._9/attention/output/LayerNorm/beta:0', 'tf_bert_model_7/bert/encoder/layer_._9/intermediate/dense/kernel:0', 'tf_bert_model_7/bert/encoder/layer_._9/intermediate/dense/bias:0', 'tf_bert_model_7/bert/encoder/layer_._9/output/dense/kernel:0', 'tf_bert_model_7/bert/encoder/layer_._9/output/dense/bias:0', 'tf_bert_model_7/bert/encoder/layer_._9/output/LayerNorm/gamma:0', 'tf_bert_model_7/bert/encoder/layer_._9/output/LayerNorm/beta:0', 'tf_bert_model_7/bert/encoder/layer_._10/attention/self/query/kernel:0', 'tf_bert_model_7/bert/encoder/layer_._10/attention/self/query/bias:0', 'tf_bert_model_7/bert/encoder/layer_._10/attention/self/key/kernel:0', 'tf_bert_model_7/bert/encoder/layer_._10/attention/self/key/bias:0', 'tf_bert_model_7/bert/encoder/layer_._10/attention/self/value/kernel:0', 'tf_bert_model_7/bert/encoder/layer_._10/attention/self/value/bias:0', 'tf_bert_model_7/bert/encoder/layer_._10/attention/output/dense/kernel:0', 'tf_bert_model_7/bert/encoder/layer_._10/attention/output/dense/bias:0', 'tf_bert_model_7/bert/encoder/layer_._10/attention/output/LayerNorm/gamma:0', 'tf_bert_model_7/bert/encoder/layer_._10/attention/output/LayerNorm/beta:0', 'tf_bert_model_7/bert/encoder/layer_._10/intermediate/dense/kernel:0', 'tf_bert_model_7/bert/encoder/layer_._10/intermediate/dense/bias:0', 'tf_bert_model_7/bert/encoder/layer_._10/output/dense/kernel:0', 'tf_bert_model_7/bert/encoder/layer_._10/output/dense/bias:0', 'tf_bert_model_7/bert/encoder/layer_._10/output/LayerNorm/gamma:0', 'tf_bert_model_7/bert/encoder/layer_._10/output/LayerNorm/beta:0', 'tf_bert_model_7/bert/pooler/dense/kernel:0', 'tf_bert_model_7/bert/pooler/dense/bias:0'] when minimizing the loss. If you're using `model.compile()`, did you forget to provide a `loss`argument?\n",
            "611/611 [==============================] - 43s 61ms/step - loss: 0.1227 - accuracy: 0.9560 - val_loss: 0.1033 - val_accuracy: 0.9681\n",
            "Epoch 2/5\n",
            "611/611 [==============================] - 34s 56ms/step - loss: 0.0483 - accuracy: 0.9859 - val_loss: 0.0495 - val_accuracy: 0.9869\n",
            "Epoch 3/5\n",
            "611/611 [==============================] - 34s 55ms/step - loss: 0.0254 - accuracy: 0.9939 - val_loss: 0.0736 - val_accuracy: 0.9836\n",
            "Epoch 4/5\n",
            "611/611 [==============================] - 34s 56ms/step - loss: 0.0158 - accuracy: 0.9953 - val_loss: 0.0617 - val_accuracy: 0.9861\n",
            "Epoch 5/5\n",
            "611/611 [==============================] - 34s 56ms/step - loss: 0.0103 - accuracy: 0.9971 - val_loss: 0.0668 - val_accuracy: 0.9885\n"
          ]
        }
      ]
    },
    {
      "cell_type": "code",
      "source": [
        "train_predict_labels = pooled_bert_model_unfreeze.predict([x_train.input_ids, x_train.token_type_ids, x_train.attention_mask])\n",
        "train_y_predict = train_predict_labels.round(0)"
      ],
      "metadata": {
        "id": "_EkvhANcE1R8"
      },
      "execution_count": null,
      "outputs": []
    },
    {
      "cell_type": "code",
      "source": [
        "test_predict_labels = pooled_bert_model_unfreeze.predict([x_test.input_ids, x_test.token_type_ids, x_test.attention_mask])\n",
        "test_y_predict = test_predict_labels.round(0)"
      ],
      "metadata": {
        "id": "F3HqKj74EcdL"
      },
      "execution_count": null,
      "outputs": []
    },
    {
      "cell_type": "code",
      "source": [
        "# test\n",
        "missclassified_text = test_X[np.array(test_y, int) != test_y_predict.reshape(-1)]\n",
        "missclassified_label = test_y[np.array(test_y, int) != test_y_predict.reshape(-1)]\n",
        "\n",
        "df_report = pd.DataFrame({'missclassified_text': missclassified_text, 'true_label': missclassified_label})\n",
        "\n",
        "df_report"
      ],
      "metadata": {
        "colab": {
          "base_uri": "https://localhost:8080/",
          "height": 488
        },
        "id": "5TwzjWs8EM2w",
        "outputId": "e2436d8e-cefe-4c4c-ef21-5c6964411377"
      },
      "execution_count": null,
      "outputs": [
        {
          "output_type": "execute_result",
          "data": {
            "text/plain": [
              "                                    missclassified_text  true_label\n",
              "3044        Your bill at 3 is £33.65 so thats not bad!\n",
              "           0\n",
              "5738  Hi! Wànt to àvàil Our Pèrsonàl Loàn? Fàst & eà...           1\n",
              "2663  Hello darling how are you today? I would love ...           1\n",
              "714   Save yourself the stress. If the person has a ...           0\n",
              "718   Book which lesson? then you msg me... I will c...           0\n",
              "263   MY NO. IN LUTON 0125698789 RING ME IF UR AROUN...           0\n",
              "989   Yun ah.the ubi one say if ü wan call by tomorr...           0\n",
              "5581                                                N/a           1\n",
              "2680  New Tones This week include: 1)McFly-All Ab..,...           1\n",
              "334   Any chance you might have had with me evaporat...           0\n",
              "2774  How come it takes so little time for a child w...           1\n",
              "4298  thesmszone.com lets you send free anonymous an...           1\n",
              "5372  dating:i have had two of these. Only started a...           1\n",
              "3094  staff.science.nus.edu.sg/~phyhcmk/teaching/pc1...           0"
            ],
            "text/html": [
              "\n",
              "  <div id=\"df-b08924e4-50b1-49ff-80d0-5015a682d755\">\n",
              "    <div class=\"colab-df-container\">\n",
              "      <div>\n",
              "<style scoped>\n",
              "    .dataframe tbody tr th:only-of-type {\n",
              "        vertical-align: middle;\n",
              "    }\n",
              "\n",
              "    .dataframe tbody tr th {\n",
              "        vertical-align: top;\n",
              "    }\n",
              "\n",
              "    .dataframe thead th {\n",
              "        text-align: right;\n",
              "    }\n",
              "</style>\n",
              "<table border=\"1\" class=\"dataframe\">\n",
              "  <thead>\n",
              "    <tr style=\"text-align: right;\">\n",
              "      <th></th>\n",
              "      <th>missclassified_text</th>\n",
              "      <th>true_label</th>\n",
              "    </tr>\n",
              "  </thead>\n",
              "  <tbody>\n",
              "    <tr>\n",
              "      <th>3044</th>\n",
              "      <td>Your bill at 3 is £33.65 so thats not bad!</td>\n",
              "      <td>0</td>\n",
              "    </tr>\n",
              "    <tr>\n",
              "      <th>5738</th>\n",
              "      <td>Hi! Wànt to àvàil Our Pèrsonàl Loàn? Fàst &amp; eà...</td>\n",
              "      <td>1</td>\n",
              "    </tr>\n",
              "    <tr>\n",
              "      <th>2663</th>\n",
              "      <td>Hello darling how are you today? I would love ...</td>\n",
              "      <td>1</td>\n",
              "    </tr>\n",
              "    <tr>\n",
              "      <th>714</th>\n",
              "      <td>Save yourself the stress. If the person has a ...</td>\n",
              "      <td>0</td>\n",
              "    </tr>\n",
              "    <tr>\n",
              "      <th>718</th>\n",
              "      <td>Book which lesson? then you msg me... I will c...</td>\n",
              "      <td>0</td>\n",
              "    </tr>\n",
              "    <tr>\n",
              "      <th>263</th>\n",
              "      <td>MY NO. IN LUTON 0125698789 RING ME IF UR AROUN...</td>\n",
              "      <td>0</td>\n",
              "    </tr>\n",
              "    <tr>\n",
              "      <th>989</th>\n",
              "      <td>Yun ah.the ubi one say if ü wan call by tomorr...</td>\n",
              "      <td>0</td>\n",
              "    </tr>\n",
              "    <tr>\n",
              "      <th>5581</th>\n",
              "      <td>N/a</td>\n",
              "      <td>1</td>\n",
              "    </tr>\n",
              "    <tr>\n",
              "      <th>2680</th>\n",
              "      <td>New Tones This week include: 1)McFly-All Ab..,...</td>\n",
              "      <td>1</td>\n",
              "    </tr>\n",
              "    <tr>\n",
              "      <th>334</th>\n",
              "      <td>Any chance you might have had with me evaporat...</td>\n",
              "      <td>0</td>\n",
              "    </tr>\n",
              "    <tr>\n",
              "      <th>2774</th>\n",
              "      <td>How come it takes so little time for a child w...</td>\n",
              "      <td>1</td>\n",
              "    </tr>\n",
              "    <tr>\n",
              "      <th>4298</th>\n",
              "      <td>thesmszone.com lets you send free anonymous an...</td>\n",
              "      <td>1</td>\n",
              "    </tr>\n",
              "    <tr>\n",
              "      <th>5372</th>\n",
              "      <td>dating:i have had two of these. Only started a...</td>\n",
              "      <td>1</td>\n",
              "    </tr>\n",
              "    <tr>\n",
              "      <th>3094</th>\n",
              "      <td>staff.science.nus.edu.sg/~phyhcmk/teaching/pc1...</td>\n",
              "      <td>0</td>\n",
              "    </tr>\n",
              "  </tbody>\n",
              "</table>\n",
              "</div>\n",
              "      <button class=\"colab-df-convert\" onclick=\"convertToInteractive('df-b08924e4-50b1-49ff-80d0-5015a682d755')\"\n",
              "              title=\"Convert this dataframe to an interactive table.\"\n",
              "              style=\"display:none;\">\n",
              "        \n",
              "  <svg xmlns=\"http://www.w3.org/2000/svg\" height=\"24px\"viewBox=\"0 0 24 24\"\n",
              "       width=\"24px\">\n",
              "    <path d=\"M0 0h24v24H0V0z\" fill=\"none\"/>\n",
              "    <path d=\"M18.56 5.44l.94 2.06.94-2.06 2.06-.94-2.06-.94-.94-2.06-.94 2.06-2.06.94zm-11 1L8.5 8.5l.94-2.06 2.06-.94-2.06-.94L8.5 2.5l-.94 2.06-2.06.94zm10 10l.94 2.06.94-2.06 2.06-.94-2.06-.94-.94-2.06-.94 2.06-2.06.94z\"/><path d=\"M17.41 7.96l-1.37-1.37c-.4-.4-.92-.59-1.43-.59-.52 0-1.04.2-1.43.59L10.3 9.45l-7.72 7.72c-.78.78-.78 2.05 0 2.83L4 21.41c.39.39.9.59 1.41.59.51 0 1.02-.2 1.41-.59l7.78-7.78 2.81-2.81c.8-.78.8-2.07 0-2.86zM5.41 20L4 18.59l7.72-7.72 1.47 1.35L5.41 20z\"/>\n",
              "  </svg>\n",
              "      </button>\n",
              "      \n",
              "  <style>\n",
              "    .colab-df-container {\n",
              "      display:flex;\n",
              "      flex-wrap:wrap;\n",
              "      gap: 12px;\n",
              "    }\n",
              "\n",
              "    .colab-df-convert {\n",
              "      background-color: #E8F0FE;\n",
              "      border: none;\n",
              "      border-radius: 50%;\n",
              "      cursor: pointer;\n",
              "      display: none;\n",
              "      fill: #1967D2;\n",
              "      height: 32px;\n",
              "      padding: 0 0 0 0;\n",
              "      width: 32px;\n",
              "    }\n",
              "\n",
              "    .colab-df-convert:hover {\n",
              "      background-color: #E2EBFA;\n",
              "      box-shadow: 0px 1px 2px rgba(60, 64, 67, 0.3), 0px 1px 3px 1px rgba(60, 64, 67, 0.15);\n",
              "      fill: #174EA6;\n",
              "    }\n",
              "\n",
              "    [theme=dark] .colab-df-convert {\n",
              "      background-color: #3B4455;\n",
              "      fill: #D2E3FC;\n",
              "    }\n",
              "\n",
              "    [theme=dark] .colab-df-convert:hover {\n",
              "      background-color: #434B5C;\n",
              "      box-shadow: 0px 1px 3px 1px rgba(0, 0, 0, 0.15);\n",
              "      filter: drop-shadow(0px 1px 2px rgba(0, 0, 0, 0.3));\n",
              "      fill: #FFFFFF;\n",
              "    }\n",
              "  </style>\n",
              "\n",
              "      <script>\n",
              "        const buttonEl =\n",
              "          document.querySelector('#df-b08924e4-50b1-49ff-80d0-5015a682d755 button.colab-df-convert');\n",
              "        buttonEl.style.display =\n",
              "          google.colab.kernel.accessAllowed ? 'block' : 'none';\n",
              "\n",
              "        async function convertToInteractive(key) {\n",
              "          const element = document.querySelector('#df-b08924e4-50b1-49ff-80d0-5015a682d755');\n",
              "          const dataTable =\n",
              "            await google.colab.kernel.invokeFunction('convertToInteractive',\n",
              "                                                     [key], {});\n",
              "          if (!dataTable) return;\n",
              "\n",
              "          const docLinkHtml = 'Like what you see? Visit the ' +\n",
              "            '<a target=\"_blank\" href=https://colab.research.google.com/notebooks/data_table.ipynb>data table notebook</a>'\n",
              "            + ' to learn more about interactive tables.';\n",
              "          element.innerHTML = '';\n",
              "          dataTable['output_type'] = 'display_data';\n",
              "          await google.colab.output.renderOutput(dataTable, element);\n",
              "          const docLink = document.createElement('div');\n",
              "          docLink.innerHTML = docLinkHtml;\n",
              "          element.appendChild(docLink);\n",
              "        }\n",
              "      </script>\n",
              "    </div>\n",
              "  </div>\n",
              "  "
            ]
          },
          "metadata": {},
          "execution_count": 156
        }
      ]
    },
    {
      "cell_type": "code",
      "source": [
        "# train\n",
        "print_metrics('BERT 5e + FCN, train data: ', np.array(train_y, int), train_y_predict)\n",
        "# test\n",
        "print_metrics('test data: ', np.array(test_y, int), test_y_predict)"
      ],
      "metadata": {
        "colab": {
          "base_uri": "https://localhost:8080/"
        },
        "id": "cP-dGTD6ExBx",
        "outputId": "830d0a6b-a25f-4da3-d753-7b76daca2462"
      },
      "execution_count": null,
      "outputs": [
        {
          "output_type": "stream",
          "name": "stdout",
          "text": [
            "BERT 5e + FCN, train data: : accuracy = 1.0000, precision = 1.0000, recall = 1.0000, f1 = 1.0000\n",
            "test data: : accuracy = 0.9885, precision = 0.9734, recall = 0.9734, f1 = 0.9734\n"
          ]
        }
      ]
    },
    {
      "cell_type": "markdown",
      "source": [
        "**Experiment 1 Results:** Increasing the number of epochs to 5 has resulted in some overfitting, we see a degraded performance on the test set in F1 score and increase in the number of misclassified examples. As a result of this experiment BERT model with unfrozen layers and 3 epochs proved to produce really good results. \n",
        "\n",
        "Original untuned model test performance:\n",
        "accuracy = 0.9828, precision = 0.9797, recall = 0.9377, f1 = 0.9583\n",
        "\n",
        "\n",
        "Tuned model test performance:\n",
        "accuracy = 0.9893, precision = 0.9841, recall = 0.9650, f1 = 0.9745\n"
      ],
      "metadata": {
        "id": "MLkuzmXNFO08"
      }
    },
    {
      "cell_type": "markdown",
      "source": [
        "#### BERT + CNN tuning"
      ],
      "metadata": {
        "id": "1CIcslSTOgOY"
      }
    },
    {
      "cell_type": "markdown",
      "source": [
        "**Experiment 1:** Increase number of epochs and unfreeze BERT layers, not much improvement."
      ],
      "metadata": {
        "id": "rJdcEHPfQ3nn"
      }
    },
    {
      "cell_type": "code",
      "source": [
        "cnn_bert_model = create_bert_cnn_model(train_layers=1)\n",
        "\n",
        "cnn_bert_model_history = cnn_bert_model.fit([x_train.input_ids, x_train.token_type_ids, x_train.attention_mask], \n",
        "                                            y_train,   \n",
        "                                            validation_data=([x_test.input_ids, x_test.token_type_ids, x_test.attention_mask], y_test),    \n",
        "                                            class_weight = class_weight, \n",
        "                                            batch_size=8, \n",
        "                                            epochs=3)  "
      ],
      "metadata": {
        "colab": {
          "base_uri": "https://localhost:8080/"
        },
        "id": "ZsaCz6dnPDgO",
        "outputId": "b049ee94-aa6b-423f-fb8b-feba216040f0"
      },
      "execution_count": null,
      "outputs": [
        {
          "output_type": "stream",
          "name": "stderr",
          "text": [
            "Some layers from the model checkpoint at bert-base-cased were not used when initializing TFBertModel: ['nsp___cls', 'mlm___cls']\n",
            "- This IS expected if you are initializing TFBertModel from the checkpoint of a model trained on another task or with another architecture (e.g. initializing a BertForSequenceClassification model from a BertForPreTraining model).\n",
            "- This IS NOT expected if you are initializing TFBertModel from the checkpoint of a model that you expect to be exactly identical (initializing a BertForSequenceClassification model from a BertForSequenceClassification model).\n",
            "All the layers of TFBertModel were initialized from the model checkpoint at bert-base-cased.\n",
            "If your task is similar to the task the model of the checkpoint was trained on, you can already use TFBertModel for predictions without further training.\n"
          ]
        },
        {
          "output_type": "stream",
          "name": "stdout",
          "text": [
            "Epoch 1/3\n",
            "WARNING:tensorflow:Gradients do not exist for variables ['tf_bert_model_8/bert/embeddings/word_embeddings/weight:0', 'tf_bert_model_8/bert/embeddings/token_type_embeddings/embeddings:0', 'tf_bert_model_8/bert/embeddings/position_embeddings/embeddings:0', 'tf_bert_model_8/bert/embeddings/LayerNorm/gamma:0', 'tf_bert_model_8/bert/embeddings/LayerNorm/beta:0', 'tf_bert_model_8/bert/encoder/layer_._0/attention/self/query/kernel:0', 'tf_bert_model_8/bert/encoder/layer_._0/attention/self/query/bias:0', 'tf_bert_model_8/bert/encoder/layer_._0/attention/self/key/kernel:0', 'tf_bert_model_8/bert/encoder/layer_._0/attention/self/key/bias:0', 'tf_bert_model_8/bert/encoder/layer_._0/attention/self/value/kernel:0', 'tf_bert_model_8/bert/encoder/layer_._0/attention/self/value/bias:0', 'tf_bert_model_8/bert/encoder/layer_._0/attention/output/dense/kernel:0', 'tf_bert_model_8/bert/encoder/layer_._0/attention/output/dense/bias:0', 'tf_bert_model_8/bert/encoder/layer_._0/attention/output/LayerNorm/gamma:0', 'tf_bert_model_8/bert/encoder/layer_._0/attention/output/LayerNorm/beta:0', 'tf_bert_model_8/bert/encoder/layer_._0/intermediate/dense/kernel:0', 'tf_bert_model_8/bert/encoder/layer_._0/intermediate/dense/bias:0', 'tf_bert_model_8/bert/encoder/layer_._0/output/dense/kernel:0', 'tf_bert_model_8/bert/encoder/layer_._0/output/dense/bias:0', 'tf_bert_model_8/bert/encoder/layer_._0/output/LayerNorm/gamma:0', 'tf_bert_model_8/bert/encoder/layer_._0/output/LayerNorm/beta:0', 'tf_bert_model_8/bert/encoder/layer_._1/attention/self/query/kernel:0', 'tf_bert_model_8/bert/encoder/layer_._1/attention/self/query/bias:0', 'tf_bert_model_8/bert/encoder/layer_._1/attention/self/key/kernel:0', 'tf_bert_model_8/bert/encoder/layer_._1/attention/self/key/bias:0', 'tf_bert_model_8/bert/encoder/layer_._1/attention/self/value/kernel:0', 'tf_bert_model_8/bert/encoder/layer_._1/attention/self/value/bias:0', 'tf_bert_model_8/bert/encoder/layer_._1/attention/output/dense/kernel:0', 'tf_bert_model_8/bert/encoder/layer_._1/attention/output/dense/bias:0', 'tf_bert_model_8/bert/encoder/layer_._1/attention/output/LayerNorm/gamma:0', 'tf_bert_model_8/bert/encoder/layer_._1/attention/output/LayerNorm/beta:0', 'tf_bert_model_8/bert/encoder/layer_._1/intermediate/dense/kernel:0', 'tf_bert_model_8/bert/encoder/layer_._1/intermediate/dense/bias:0', 'tf_bert_model_8/bert/encoder/layer_._1/output/dense/kernel:0', 'tf_bert_model_8/bert/encoder/layer_._1/output/dense/bias:0', 'tf_bert_model_8/bert/encoder/layer_._1/output/LayerNorm/gamma:0', 'tf_bert_model_8/bert/encoder/layer_._1/output/LayerNorm/beta:0', 'tf_bert_model_8/bert/encoder/layer_._2/attention/self/query/kernel:0', 'tf_bert_model_8/bert/encoder/layer_._2/attention/self/query/bias:0', 'tf_bert_model_8/bert/encoder/layer_._2/attention/self/key/kernel:0', 'tf_bert_model_8/bert/encoder/layer_._2/attention/self/key/bias:0', 'tf_bert_model_8/bert/encoder/layer_._2/attention/self/value/kernel:0', 'tf_bert_model_8/bert/encoder/layer_._2/attention/self/value/bias:0', 'tf_bert_model_8/bert/encoder/layer_._2/attention/output/dense/kernel:0', 'tf_bert_model_8/bert/encoder/layer_._2/attention/output/dense/bias:0', 'tf_bert_model_8/bert/encoder/layer_._2/attention/output/LayerNorm/gamma:0', 'tf_bert_model_8/bert/encoder/layer_._2/attention/output/LayerNorm/beta:0', 'tf_bert_model_8/bert/encoder/layer_._2/intermediate/dense/kernel:0', 'tf_bert_model_8/bert/encoder/layer_._2/intermediate/dense/bias:0', 'tf_bert_model_8/bert/encoder/layer_._2/output/dense/kernel:0', 'tf_bert_model_8/bert/encoder/layer_._2/output/dense/bias:0', 'tf_bert_model_8/bert/encoder/layer_._2/output/LayerNorm/gamma:0', 'tf_bert_model_8/bert/encoder/layer_._2/output/LayerNorm/beta:0', 'tf_bert_model_8/bert/encoder/layer_._3/attention/self/query/kernel:0', 'tf_bert_model_8/bert/encoder/layer_._3/attention/self/query/bias:0', 'tf_bert_model_8/bert/encoder/layer_._3/attention/self/key/kernel:0', 'tf_bert_model_8/bert/encoder/layer_._3/attention/self/key/bias:0', 'tf_bert_model_8/bert/encoder/layer_._3/attention/self/value/kernel:0', 'tf_bert_model_8/bert/encoder/layer_._3/attention/self/value/bias:0', 'tf_bert_model_8/bert/encoder/layer_._3/attention/output/dense/kernel:0', 'tf_bert_model_8/bert/encoder/layer_._3/attention/output/dense/bias:0', 'tf_bert_model_8/bert/encoder/layer_._3/attention/output/LayerNorm/gamma:0', 'tf_bert_model_8/bert/encoder/layer_._3/attention/output/LayerNorm/beta:0', 'tf_bert_model_8/bert/encoder/layer_._3/intermediate/dense/kernel:0', 'tf_bert_model_8/bert/encoder/layer_._3/intermediate/dense/bias:0', 'tf_bert_model_8/bert/encoder/layer_._3/output/dense/kernel:0', 'tf_bert_model_8/bert/encoder/layer_._3/output/dense/bias:0', 'tf_bert_model_8/bert/encoder/layer_._3/output/LayerNorm/gamma:0', 'tf_bert_model_8/bert/encoder/layer_._3/output/LayerNorm/beta:0', 'tf_bert_model_8/bert/encoder/layer_._4/attention/self/query/kernel:0', 'tf_bert_model_8/bert/encoder/layer_._4/attention/self/query/bias:0', 'tf_bert_model_8/bert/encoder/layer_._4/attention/self/key/kernel:0', 'tf_bert_model_8/bert/encoder/layer_._4/attention/self/key/bias:0', 'tf_bert_model_8/bert/encoder/layer_._4/attention/self/value/kernel:0', 'tf_bert_model_8/bert/encoder/layer_._4/attention/self/value/bias:0', 'tf_bert_model_8/bert/encoder/layer_._4/attention/output/dense/kernel:0', 'tf_bert_model_8/bert/encoder/layer_._4/attention/output/dense/bias:0', 'tf_bert_model_8/bert/encoder/layer_._4/attention/output/LayerNorm/gamma:0', 'tf_bert_model_8/bert/encoder/layer_._4/attention/output/LayerNorm/beta:0', 'tf_bert_model_8/bert/encoder/layer_._4/intermediate/dense/kernel:0', 'tf_bert_model_8/bert/encoder/layer_._4/intermediate/dense/bias:0', 'tf_bert_model_8/bert/encoder/layer_._4/output/dense/kernel:0', 'tf_bert_model_8/bert/encoder/layer_._4/output/dense/bias:0', 'tf_bert_model_8/bert/encoder/layer_._4/output/LayerNorm/gamma:0', 'tf_bert_model_8/bert/encoder/layer_._4/output/LayerNorm/beta:0', 'tf_bert_model_8/bert/encoder/layer_._5/attention/self/query/kernel:0', 'tf_bert_model_8/bert/encoder/layer_._5/attention/self/query/bias:0', 'tf_bert_model_8/bert/encoder/layer_._5/attention/self/key/kernel:0', 'tf_bert_model_8/bert/encoder/layer_._5/attention/self/key/bias:0', 'tf_bert_model_8/bert/encoder/layer_._5/attention/self/value/kernel:0', 'tf_bert_model_8/bert/encoder/layer_._5/attention/self/value/bias:0', 'tf_bert_model_8/bert/encoder/layer_._5/attention/output/dense/kernel:0', 'tf_bert_model_8/bert/encoder/layer_._5/attention/output/dense/bias:0', 'tf_bert_model_8/bert/encoder/layer_._5/attention/output/LayerNorm/gamma:0', 'tf_bert_model_8/bert/encoder/layer_._5/attention/output/LayerNorm/beta:0', 'tf_bert_model_8/bert/encoder/layer_._5/intermediate/dense/kernel:0', 'tf_bert_model_8/bert/encoder/layer_._5/intermediate/dense/bias:0', 'tf_bert_model_8/bert/encoder/layer_._5/output/dense/kernel:0', 'tf_bert_model_8/bert/encoder/layer_._5/output/dense/bias:0', 'tf_bert_model_8/bert/encoder/layer_._5/output/LayerNorm/gamma:0', 'tf_bert_model_8/bert/encoder/layer_._5/output/LayerNorm/beta:0', 'tf_bert_model_8/bert/encoder/layer_._6/attention/self/query/kernel:0', 'tf_bert_model_8/bert/encoder/layer_._6/attention/self/query/bias:0', 'tf_bert_model_8/bert/encoder/layer_._6/attention/self/key/kernel:0', 'tf_bert_model_8/bert/encoder/layer_._6/attention/self/key/bias:0', 'tf_bert_model_8/bert/encoder/layer_._6/attention/self/value/kernel:0', 'tf_bert_model_8/bert/encoder/layer_._6/attention/self/value/bias:0', 'tf_bert_model_8/bert/encoder/layer_._6/attention/output/dense/kernel:0', 'tf_bert_model_8/bert/encoder/layer_._6/attention/output/dense/bias:0', 'tf_bert_model_8/bert/encoder/layer_._6/attention/output/LayerNorm/gamma:0', 'tf_bert_model_8/bert/encoder/layer_._6/attention/output/LayerNorm/beta:0', 'tf_bert_model_8/bert/encoder/layer_._6/intermediate/dense/kernel:0', 'tf_bert_model_8/bert/encoder/layer_._6/intermediate/dense/bias:0', 'tf_bert_model_8/bert/encoder/layer_._6/output/dense/kernel:0', 'tf_bert_model_8/bert/encoder/layer_._6/output/dense/bias:0', 'tf_bert_model_8/bert/encoder/layer_._6/output/LayerNorm/gamma:0', 'tf_bert_model_8/bert/encoder/layer_._6/output/LayerNorm/beta:0', 'tf_bert_model_8/bert/encoder/layer_._7/attention/self/query/kernel:0', 'tf_bert_model_8/bert/encoder/layer_._7/attention/self/query/bias:0', 'tf_bert_model_8/bert/encoder/layer_._7/attention/self/key/kernel:0', 'tf_bert_model_8/bert/encoder/layer_._7/attention/self/key/bias:0', 'tf_bert_model_8/bert/encoder/layer_._7/attention/self/value/kernel:0', 'tf_bert_model_8/bert/encoder/layer_._7/attention/self/value/bias:0', 'tf_bert_model_8/bert/encoder/layer_._7/attention/output/dense/kernel:0', 'tf_bert_model_8/bert/encoder/layer_._7/attention/output/dense/bias:0', 'tf_bert_model_8/bert/encoder/layer_._7/attention/output/LayerNorm/gamma:0', 'tf_bert_model_8/bert/encoder/layer_._7/attention/output/LayerNorm/beta:0', 'tf_bert_model_8/bert/encoder/layer_._7/intermediate/dense/kernel:0', 'tf_bert_model_8/bert/encoder/layer_._7/intermediate/dense/bias:0', 'tf_bert_model_8/bert/encoder/layer_._7/output/dense/kernel:0', 'tf_bert_model_8/bert/encoder/layer_._7/output/dense/bias:0', 'tf_bert_model_8/bert/encoder/layer_._7/output/LayerNorm/gamma:0', 'tf_bert_model_8/bert/encoder/layer_._7/output/LayerNorm/beta:0', 'tf_bert_model_8/bert/encoder/layer_._8/attention/self/query/kernel:0', 'tf_bert_model_8/bert/encoder/layer_._8/attention/self/query/bias:0', 'tf_bert_model_8/bert/encoder/layer_._8/attention/self/key/kernel:0', 'tf_bert_model_8/bert/encoder/layer_._8/attention/self/key/bias:0', 'tf_bert_model_8/bert/encoder/layer_._8/attention/self/value/kernel:0', 'tf_bert_model_8/bert/encoder/layer_._8/attention/self/value/bias:0', 'tf_bert_model_8/bert/encoder/layer_._8/attention/output/dense/kernel:0', 'tf_bert_model_8/bert/encoder/layer_._8/attention/output/dense/bias:0', 'tf_bert_model_8/bert/encoder/layer_._8/attention/output/LayerNorm/gamma:0', 'tf_bert_model_8/bert/encoder/layer_._8/attention/output/LayerNorm/beta:0', 'tf_bert_model_8/bert/encoder/layer_._8/intermediate/dense/kernel:0', 'tf_bert_model_8/bert/encoder/layer_._8/intermediate/dense/bias:0', 'tf_bert_model_8/bert/encoder/layer_._8/output/dense/kernel:0', 'tf_bert_model_8/bert/encoder/layer_._8/output/dense/bias:0', 'tf_bert_model_8/bert/encoder/layer_._8/output/LayerNorm/gamma:0', 'tf_bert_model_8/bert/encoder/layer_._8/output/LayerNorm/beta:0', 'tf_bert_model_8/bert/encoder/layer_._9/attention/self/query/kernel:0', 'tf_bert_model_8/bert/encoder/layer_._9/attention/self/query/bias:0', 'tf_bert_model_8/bert/encoder/layer_._9/attention/self/key/kernel:0', 'tf_bert_model_8/bert/encoder/layer_._9/attention/self/key/bias:0', 'tf_bert_model_8/bert/encoder/layer_._9/attention/self/value/kernel:0', 'tf_bert_model_8/bert/encoder/layer_._9/attention/self/value/bias:0', 'tf_bert_model_8/bert/encoder/layer_._9/attention/output/dense/kernel:0', 'tf_bert_model_8/bert/encoder/layer_._9/attention/output/dense/bias:0', 'tf_bert_model_8/bert/encoder/layer_._9/attention/output/LayerNorm/gamma:0', 'tf_bert_model_8/bert/encoder/layer_._9/attention/output/LayerNorm/beta:0', 'tf_bert_model_8/bert/encoder/layer_._9/intermediate/dense/kernel:0', 'tf_bert_model_8/bert/encoder/layer_._9/intermediate/dense/bias:0', 'tf_bert_model_8/bert/encoder/layer_._9/output/dense/kernel:0', 'tf_bert_model_8/bert/encoder/layer_._9/output/dense/bias:0', 'tf_bert_model_8/bert/encoder/layer_._9/output/LayerNorm/gamma:0', 'tf_bert_model_8/bert/encoder/layer_._9/output/LayerNorm/beta:0', 'tf_bert_model_8/bert/encoder/layer_._10/attention/self/query/kernel:0', 'tf_bert_model_8/bert/encoder/layer_._10/attention/self/query/bias:0', 'tf_bert_model_8/bert/encoder/layer_._10/attention/self/key/kernel:0', 'tf_bert_model_8/bert/encoder/layer_._10/attention/self/key/bias:0', 'tf_bert_model_8/bert/encoder/layer_._10/attention/self/value/kernel:0', 'tf_bert_model_8/bert/encoder/layer_._10/attention/self/value/bias:0', 'tf_bert_model_8/bert/encoder/layer_._10/attention/output/dense/kernel:0', 'tf_bert_model_8/bert/encoder/layer_._10/attention/output/dense/bias:0', 'tf_bert_model_8/bert/encoder/layer_._10/attention/output/LayerNorm/gamma:0', 'tf_bert_model_8/bert/encoder/layer_._10/attention/output/LayerNorm/beta:0', 'tf_bert_model_8/bert/encoder/layer_._10/intermediate/dense/kernel:0', 'tf_bert_model_8/bert/encoder/layer_._10/intermediate/dense/bias:0', 'tf_bert_model_8/bert/encoder/layer_._10/output/dense/kernel:0', 'tf_bert_model_8/bert/encoder/layer_._10/output/dense/bias:0', 'tf_bert_model_8/bert/encoder/layer_._10/output/LayerNorm/gamma:0', 'tf_bert_model_8/bert/encoder/layer_._10/output/LayerNorm/beta:0', 'tf_bert_model_8/bert/pooler/dense/kernel:0', 'tf_bert_model_8/bert/pooler/dense/bias:0'] when minimizing the loss. If you're using `model.compile()`, did you forget to provide a `loss`argument?\n",
            "WARNING:tensorflow:Gradients do not exist for variables ['tf_bert_model_8/bert/embeddings/word_embeddings/weight:0', 'tf_bert_model_8/bert/embeddings/token_type_embeddings/embeddings:0', 'tf_bert_model_8/bert/embeddings/position_embeddings/embeddings:0', 'tf_bert_model_8/bert/embeddings/LayerNorm/gamma:0', 'tf_bert_model_8/bert/embeddings/LayerNorm/beta:0', 'tf_bert_model_8/bert/encoder/layer_._0/attention/self/query/kernel:0', 'tf_bert_model_8/bert/encoder/layer_._0/attention/self/query/bias:0', 'tf_bert_model_8/bert/encoder/layer_._0/attention/self/key/kernel:0', 'tf_bert_model_8/bert/encoder/layer_._0/attention/self/key/bias:0', 'tf_bert_model_8/bert/encoder/layer_._0/attention/self/value/kernel:0', 'tf_bert_model_8/bert/encoder/layer_._0/attention/self/value/bias:0', 'tf_bert_model_8/bert/encoder/layer_._0/attention/output/dense/kernel:0', 'tf_bert_model_8/bert/encoder/layer_._0/attention/output/dense/bias:0', 'tf_bert_model_8/bert/encoder/layer_._0/attention/output/LayerNorm/gamma:0', 'tf_bert_model_8/bert/encoder/layer_._0/attention/output/LayerNorm/beta:0', 'tf_bert_model_8/bert/encoder/layer_._0/intermediate/dense/kernel:0', 'tf_bert_model_8/bert/encoder/layer_._0/intermediate/dense/bias:0', 'tf_bert_model_8/bert/encoder/layer_._0/output/dense/kernel:0', 'tf_bert_model_8/bert/encoder/layer_._0/output/dense/bias:0', 'tf_bert_model_8/bert/encoder/layer_._0/output/LayerNorm/gamma:0', 'tf_bert_model_8/bert/encoder/layer_._0/output/LayerNorm/beta:0', 'tf_bert_model_8/bert/encoder/layer_._1/attention/self/query/kernel:0', 'tf_bert_model_8/bert/encoder/layer_._1/attention/self/query/bias:0', 'tf_bert_model_8/bert/encoder/layer_._1/attention/self/key/kernel:0', 'tf_bert_model_8/bert/encoder/layer_._1/attention/self/key/bias:0', 'tf_bert_model_8/bert/encoder/layer_._1/attention/self/value/kernel:0', 'tf_bert_model_8/bert/encoder/layer_._1/attention/self/value/bias:0', 'tf_bert_model_8/bert/encoder/layer_._1/attention/output/dense/kernel:0', 'tf_bert_model_8/bert/encoder/layer_._1/attention/output/dense/bias:0', 'tf_bert_model_8/bert/encoder/layer_._1/attention/output/LayerNorm/gamma:0', 'tf_bert_model_8/bert/encoder/layer_._1/attention/output/LayerNorm/beta:0', 'tf_bert_model_8/bert/encoder/layer_._1/intermediate/dense/kernel:0', 'tf_bert_model_8/bert/encoder/layer_._1/intermediate/dense/bias:0', 'tf_bert_model_8/bert/encoder/layer_._1/output/dense/kernel:0', 'tf_bert_model_8/bert/encoder/layer_._1/output/dense/bias:0', 'tf_bert_model_8/bert/encoder/layer_._1/output/LayerNorm/gamma:0', 'tf_bert_model_8/bert/encoder/layer_._1/output/LayerNorm/beta:0', 'tf_bert_model_8/bert/encoder/layer_._2/attention/self/query/kernel:0', 'tf_bert_model_8/bert/encoder/layer_._2/attention/self/query/bias:0', 'tf_bert_model_8/bert/encoder/layer_._2/attention/self/key/kernel:0', 'tf_bert_model_8/bert/encoder/layer_._2/attention/self/key/bias:0', 'tf_bert_model_8/bert/encoder/layer_._2/attention/self/value/kernel:0', 'tf_bert_model_8/bert/encoder/layer_._2/attention/self/value/bias:0', 'tf_bert_model_8/bert/encoder/layer_._2/attention/output/dense/kernel:0', 'tf_bert_model_8/bert/encoder/layer_._2/attention/output/dense/bias:0', 'tf_bert_model_8/bert/encoder/layer_._2/attention/output/LayerNorm/gamma:0', 'tf_bert_model_8/bert/encoder/layer_._2/attention/output/LayerNorm/beta:0', 'tf_bert_model_8/bert/encoder/layer_._2/intermediate/dense/kernel:0', 'tf_bert_model_8/bert/encoder/layer_._2/intermediate/dense/bias:0', 'tf_bert_model_8/bert/encoder/layer_._2/output/dense/kernel:0', 'tf_bert_model_8/bert/encoder/layer_._2/output/dense/bias:0', 'tf_bert_model_8/bert/encoder/layer_._2/output/LayerNorm/gamma:0', 'tf_bert_model_8/bert/encoder/layer_._2/output/LayerNorm/beta:0', 'tf_bert_model_8/bert/encoder/layer_._3/attention/self/query/kernel:0', 'tf_bert_model_8/bert/encoder/layer_._3/attention/self/query/bias:0', 'tf_bert_model_8/bert/encoder/layer_._3/attention/self/key/kernel:0', 'tf_bert_model_8/bert/encoder/layer_._3/attention/self/key/bias:0', 'tf_bert_model_8/bert/encoder/layer_._3/attention/self/value/kernel:0', 'tf_bert_model_8/bert/encoder/layer_._3/attention/self/value/bias:0', 'tf_bert_model_8/bert/encoder/layer_._3/attention/output/dense/kernel:0', 'tf_bert_model_8/bert/encoder/layer_._3/attention/output/dense/bias:0', 'tf_bert_model_8/bert/encoder/layer_._3/attention/output/LayerNorm/gamma:0', 'tf_bert_model_8/bert/encoder/layer_._3/attention/output/LayerNorm/beta:0', 'tf_bert_model_8/bert/encoder/layer_._3/intermediate/dense/kernel:0', 'tf_bert_model_8/bert/encoder/layer_._3/intermediate/dense/bias:0', 'tf_bert_model_8/bert/encoder/layer_._3/output/dense/kernel:0', 'tf_bert_model_8/bert/encoder/layer_._3/output/dense/bias:0', 'tf_bert_model_8/bert/encoder/layer_._3/output/LayerNorm/gamma:0', 'tf_bert_model_8/bert/encoder/layer_._3/output/LayerNorm/beta:0', 'tf_bert_model_8/bert/encoder/layer_._4/attention/self/query/kernel:0', 'tf_bert_model_8/bert/encoder/layer_._4/attention/self/query/bias:0', 'tf_bert_model_8/bert/encoder/layer_._4/attention/self/key/kernel:0', 'tf_bert_model_8/bert/encoder/layer_._4/attention/self/key/bias:0', 'tf_bert_model_8/bert/encoder/layer_._4/attention/self/value/kernel:0', 'tf_bert_model_8/bert/encoder/layer_._4/attention/self/value/bias:0', 'tf_bert_model_8/bert/encoder/layer_._4/attention/output/dense/kernel:0', 'tf_bert_model_8/bert/encoder/layer_._4/attention/output/dense/bias:0', 'tf_bert_model_8/bert/encoder/layer_._4/attention/output/LayerNorm/gamma:0', 'tf_bert_model_8/bert/encoder/layer_._4/attention/output/LayerNorm/beta:0', 'tf_bert_model_8/bert/encoder/layer_._4/intermediate/dense/kernel:0', 'tf_bert_model_8/bert/encoder/layer_._4/intermediate/dense/bias:0', 'tf_bert_model_8/bert/encoder/layer_._4/output/dense/kernel:0', 'tf_bert_model_8/bert/encoder/layer_._4/output/dense/bias:0', 'tf_bert_model_8/bert/encoder/layer_._4/output/LayerNorm/gamma:0', 'tf_bert_model_8/bert/encoder/layer_._4/output/LayerNorm/beta:0', 'tf_bert_model_8/bert/encoder/layer_._5/attention/self/query/kernel:0', 'tf_bert_model_8/bert/encoder/layer_._5/attention/self/query/bias:0', 'tf_bert_model_8/bert/encoder/layer_._5/attention/self/key/kernel:0', 'tf_bert_model_8/bert/encoder/layer_._5/attention/self/key/bias:0', 'tf_bert_model_8/bert/encoder/layer_._5/attention/self/value/kernel:0', 'tf_bert_model_8/bert/encoder/layer_._5/attention/self/value/bias:0', 'tf_bert_model_8/bert/encoder/layer_._5/attention/output/dense/kernel:0', 'tf_bert_model_8/bert/encoder/layer_._5/attention/output/dense/bias:0', 'tf_bert_model_8/bert/encoder/layer_._5/attention/output/LayerNorm/gamma:0', 'tf_bert_model_8/bert/encoder/layer_._5/attention/output/LayerNorm/beta:0', 'tf_bert_model_8/bert/encoder/layer_._5/intermediate/dense/kernel:0', 'tf_bert_model_8/bert/encoder/layer_._5/intermediate/dense/bias:0', 'tf_bert_model_8/bert/encoder/layer_._5/output/dense/kernel:0', 'tf_bert_model_8/bert/encoder/layer_._5/output/dense/bias:0', 'tf_bert_model_8/bert/encoder/layer_._5/output/LayerNorm/gamma:0', 'tf_bert_model_8/bert/encoder/layer_._5/output/LayerNorm/beta:0', 'tf_bert_model_8/bert/encoder/layer_._6/attention/self/query/kernel:0', 'tf_bert_model_8/bert/encoder/layer_._6/attention/self/query/bias:0', 'tf_bert_model_8/bert/encoder/layer_._6/attention/self/key/kernel:0', 'tf_bert_model_8/bert/encoder/layer_._6/attention/self/key/bias:0', 'tf_bert_model_8/bert/encoder/layer_._6/attention/self/value/kernel:0', 'tf_bert_model_8/bert/encoder/layer_._6/attention/self/value/bias:0', 'tf_bert_model_8/bert/encoder/layer_._6/attention/output/dense/kernel:0', 'tf_bert_model_8/bert/encoder/layer_._6/attention/output/dense/bias:0', 'tf_bert_model_8/bert/encoder/layer_._6/attention/output/LayerNorm/gamma:0', 'tf_bert_model_8/bert/encoder/layer_._6/attention/output/LayerNorm/beta:0', 'tf_bert_model_8/bert/encoder/layer_._6/intermediate/dense/kernel:0', 'tf_bert_model_8/bert/encoder/layer_._6/intermediate/dense/bias:0', 'tf_bert_model_8/bert/encoder/layer_._6/output/dense/kernel:0', 'tf_bert_model_8/bert/encoder/layer_._6/output/dense/bias:0', 'tf_bert_model_8/bert/encoder/layer_._6/output/LayerNorm/gamma:0', 'tf_bert_model_8/bert/encoder/layer_._6/output/LayerNorm/beta:0', 'tf_bert_model_8/bert/encoder/layer_._7/attention/self/query/kernel:0', 'tf_bert_model_8/bert/encoder/layer_._7/attention/self/query/bias:0', 'tf_bert_model_8/bert/encoder/layer_._7/attention/self/key/kernel:0', 'tf_bert_model_8/bert/encoder/layer_._7/attention/self/key/bias:0', 'tf_bert_model_8/bert/encoder/layer_._7/attention/self/value/kernel:0', 'tf_bert_model_8/bert/encoder/layer_._7/attention/self/value/bias:0', 'tf_bert_model_8/bert/encoder/layer_._7/attention/output/dense/kernel:0', 'tf_bert_model_8/bert/encoder/layer_._7/attention/output/dense/bias:0', 'tf_bert_model_8/bert/encoder/layer_._7/attention/output/LayerNorm/gamma:0', 'tf_bert_model_8/bert/encoder/layer_._7/attention/output/LayerNorm/beta:0', 'tf_bert_model_8/bert/encoder/layer_._7/intermediate/dense/kernel:0', 'tf_bert_model_8/bert/encoder/layer_._7/intermediate/dense/bias:0', 'tf_bert_model_8/bert/encoder/layer_._7/output/dense/kernel:0', 'tf_bert_model_8/bert/encoder/layer_._7/output/dense/bias:0', 'tf_bert_model_8/bert/encoder/layer_._7/output/LayerNorm/gamma:0', 'tf_bert_model_8/bert/encoder/layer_._7/output/LayerNorm/beta:0', 'tf_bert_model_8/bert/encoder/layer_._8/attention/self/query/kernel:0', 'tf_bert_model_8/bert/encoder/layer_._8/attention/self/query/bias:0', 'tf_bert_model_8/bert/encoder/layer_._8/attention/self/key/kernel:0', 'tf_bert_model_8/bert/encoder/layer_._8/attention/self/key/bias:0', 'tf_bert_model_8/bert/encoder/layer_._8/attention/self/value/kernel:0', 'tf_bert_model_8/bert/encoder/layer_._8/attention/self/value/bias:0', 'tf_bert_model_8/bert/encoder/layer_._8/attention/output/dense/kernel:0', 'tf_bert_model_8/bert/encoder/layer_._8/attention/output/dense/bias:0', 'tf_bert_model_8/bert/encoder/layer_._8/attention/output/LayerNorm/gamma:0', 'tf_bert_model_8/bert/encoder/layer_._8/attention/output/LayerNorm/beta:0', 'tf_bert_model_8/bert/encoder/layer_._8/intermediate/dense/kernel:0', 'tf_bert_model_8/bert/encoder/layer_._8/intermediate/dense/bias:0', 'tf_bert_model_8/bert/encoder/layer_._8/output/dense/kernel:0', 'tf_bert_model_8/bert/encoder/layer_._8/output/dense/bias:0', 'tf_bert_model_8/bert/encoder/layer_._8/output/LayerNorm/gamma:0', 'tf_bert_model_8/bert/encoder/layer_._8/output/LayerNorm/beta:0', 'tf_bert_model_8/bert/encoder/layer_._9/attention/self/query/kernel:0', 'tf_bert_model_8/bert/encoder/layer_._9/attention/self/query/bias:0', 'tf_bert_model_8/bert/encoder/layer_._9/attention/self/key/kernel:0', 'tf_bert_model_8/bert/encoder/layer_._9/attention/self/key/bias:0', 'tf_bert_model_8/bert/encoder/layer_._9/attention/self/value/kernel:0', 'tf_bert_model_8/bert/encoder/layer_._9/attention/self/value/bias:0', 'tf_bert_model_8/bert/encoder/layer_._9/attention/output/dense/kernel:0', 'tf_bert_model_8/bert/encoder/layer_._9/attention/output/dense/bias:0', 'tf_bert_model_8/bert/encoder/layer_._9/attention/output/LayerNorm/gamma:0', 'tf_bert_model_8/bert/encoder/layer_._9/attention/output/LayerNorm/beta:0', 'tf_bert_model_8/bert/encoder/layer_._9/intermediate/dense/kernel:0', 'tf_bert_model_8/bert/encoder/layer_._9/intermediate/dense/bias:0', 'tf_bert_model_8/bert/encoder/layer_._9/output/dense/kernel:0', 'tf_bert_model_8/bert/encoder/layer_._9/output/dense/bias:0', 'tf_bert_model_8/bert/encoder/layer_._9/output/LayerNorm/gamma:0', 'tf_bert_model_8/bert/encoder/layer_._9/output/LayerNorm/beta:0', 'tf_bert_model_8/bert/encoder/layer_._10/attention/self/query/kernel:0', 'tf_bert_model_8/bert/encoder/layer_._10/attention/self/query/bias:0', 'tf_bert_model_8/bert/encoder/layer_._10/attention/self/key/kernel:0', 'tf_bert_model_8/bert/encoder/layer_._10/attention/self/key/bias:0', 'tf_bert_model_8/bert/encoder/layer_._10/attention/self/value/kernel:0', 'tf_bert_model_8/bert/encoder/layer_._10/attention/self/value/bias:0', 'tf_bert_model_8/bert/encoder/layer_._10/attention/output/dense/kernel:0', 'tf_bert_model_8/bert/encoder/layer_._10/attention/output/dense/bias:0', 'tf_bert_model_8/bert/encoder/layer_._10/attention/output/LayerNorm/gamma:0', 'tf_bert_model_8/bert/encoder/layer_._10/attention/output/LayerNorm/beta:0', 'tf_bert_model_8/bert/encoder/layer_._10/intermediate/dense/kernel:0', 'tf_bert_model_8/bert/encoder/layer_._10/intermediate/dense/bias:0', 'tf_bert_model_8/bert/encoder/layer_._10/output/dense/kernel:0', 'tf_bert_model_8/bert/encoder/layer_._10/output/dense/bias:0', 'tf_bert_model_8/bert/encoder/layer_._10/output/LayerNorm/gamma:0', 'tf_bert_model_8/bert/encoder/layer_._10/output/LayerNorm/beta:0', 'tf_bert_model_8/bert/pooler/dense/kernel:0', 'tf_bert_model_8/bert/pooler/dense/bias:0'] when minimizing the loss. If you're using `model.compile()`, did you forget to provide a `loss`argument?\n",
            "611/611 [==============================] - 47s 66ms/step - loss: 0.0989 - accuracy: 0.9668 - val_loss: 0.0619 - val_accuracy: 0.9836\n",
            "Epoch 2/3\n",
            "611/611 [==============================] - 37s 61ms/step - loss: 0.0430 - accuracy: 0.9879 - val_loss: 0.0944 - val_accuracy: 0.9697\n",
            "Epoch 3/3\n",
            "611/611 [==============================] - 37s 61ms/step - loss: 0.0194 - accuracy: 0.9943 - val_loss: 0.0558 - val_accuracy: 0.9869\n"
          ]
        }
      ]
    },
    {
      "cell_type": "code",
      "source": [
        "predict_labels = cnn_bert_model.predict([x_train.input_ids, x_train.token_type_ids, x_train.attention_mask])\n",
        "train_y_predict = predict_labels.round(0)\n",
        "test_predict_labels = cnn_bert_model.predict([x_test.input_ids, x_test.token_type_ids, x_test.attention_mask])\n",
        "test_y_predict = test_predict_labels.round(0)"
      ],
      "metadata": {
        "id": "TP7lfF9UQvQZ"
      },
      "execution_count": null,
      "outputs": []
    },
    {
      "cell_type": "code",
      "source": [
        "print_metrics('BERT + CNN, train data: ', np.array(train_y, int), train_y_predict)\n",
        "print_metrics('BERT + CNN, test data: ', np.array(test_y, int), test_y_predict)"
      ],
      "metadata": {
        "colab": {
          "base_uri": "https://localhost:8080/"
        },
        "id": "YdvlFabDQcSH",
        "outputId": "926a4bb7-beff-4873-acd6-d02597abf4be"
      },
      "execution_count": null,
      "outputs": [
        {
          "output_type": "stream",
          "name": "stdout",
          "text": [
            "BERT + CNN, train data: : accuracy = 0.9977, precision = 0.9903, recall = 0.9990, f1 = 0.9946\n",
            "BERT + CNN, test data: : accuracy = 0.9869, precision = 0.9625, recall = 0.9772, f1 = 0.9698\n"
          ]
        }
      ]
    },
    {
      "cell_type": "markdown",
      "source": [
        "**Experiment 2:** Change kernel sizes, from lit review Roy et al. used the following kernel sizes. Kernel sizes improved the model. But now it overfits given that we're running it on 3 epochs."
      ],
      "metadata": {
        "id": "hPHddgjfRCcA"
      }
    },
    {
      "cell_type": "code",
      "source": [
        "cnn_bert_model = create_bert_cnn_model(train_layers=1,\n",
        "                                       kernel_sizes = [2, 3, 4, 5])\n",
        "\n",
        "cnn_bert_model_history = cnn_bert_model.fit([x_train.input_ids, x_train.token_type_ids, x_train.attention_mask], \n",
        "                                            y_train,   \n",
        "                                            validation_data=([x_test.input_ids, x_test.token_type_ids, x_test.attention_mask], y_test),    \n",
        "                                            class_weight = class_weight, \n",
        "                                            batch_size=8, \n",
        "                                            epochs=3)"
      ],
      "metadata": {
        "colab": {
          "base_uri": "https://localhost:8080/"
        },
        "id": "cVMinOwPPxU4",
        "outputId": "3a527158-4775-489a-9822-676fa8e5b064"
      },
      "execution_count": null,
      "outputs": [
        {
          "output_type": "stream",
          "name": "stderr",
          "text": [
            "Some layers from the model checkpoint at bert-base-cased were not used when initializing TFBertModel: ['nsp___cls', 'mlm___cls']\n",
            "- This IS expected if you are initializing TFBertModel from the checkpoint of a model trained on another task or with another architecture (e.g. initializing a BertForSequenceClassification model from a BertForPreTraining model).\n",
            "- This IS NOT expected if you are initializing TFBertModel from the checkpoint of a model that you expect to be exactly identical (initializing a BertForSequenceClassification model from a BertForSequenceClassification model).\n",
            "All the layers of TFBertModel were initialized from the model checkpoint at bert-base-cased.\n",
            "If your task is similar to the task the model of the checkpoint was trained on, you can already use TFBertModel for predictions without further training.\n"
          ]
        },
        {
          "output_type": "stream",
          "name": "stdout",
          "text": [
            "Epoch 1/3\n",
            "WARNING:tensorflow:Gradients do not exist for variables ['tf_bert_model_9/bert/embeddings/word_embeddings/weight:0', 'tf_bert_model_9/bert/embeddings/token_type_embeddings/embeddings:0', 'tf_bert_model_9/bert/embeddings/position_embeddings/embeddings:0', 'tf_bert_model_9/bert/embeddings/LayerNorm/gamma:0', 'tf_bert_model_9/bert/embeddings/LayerNorm/beta:0', 'tf_bert_model_9/bert/encoder/layer_._0/attention/self/query/kernel:0', 'tf_bert_model_9/bert/encoder/layer_._0/attention/self/query/bias:0', 'tf_bert_model_9/bert/encoder/layer_._0/attention/self/key/kernel:0', 'tf_bert_model_9/bert/encoder/layer_._0/attention/self/key/bias:0', 'tf_bert_model_9/bert/encoder/layer_._0/attention/self/value/kernel:0', 'tf_bert_model_9/bert/encoder/layer_._0/attention/self/value/bias:0', 'tf_bert_model_9/bert/encoder/layer_._0/attention/output/dense/kernel:0', 'tf_bert_model_9/bert/encoder/layer_._0/attention/output/dense/bias:0', 'tf_bert_model_9/bert/encoder/layer_._0/attention/output/LayerNorm/gamma:0', 'tf_bert_model_9/bert/encoder/layer_._0/attention/output/LayerNorm/beta:0', 'tf_bert_model_9/bert/encoder/layer_._0/intermediate/dense/kernel:0', 'tf_bert_model_9/bert/encoder/layer_._0/intermediate/dense/bias:0', 'tf_bert_model_9/bert/encoder/layer_._0/output/dense/kernel:0', 'tf_bert_model_9/bert/encoder/layer_._0/output/dense/bias:0', 'tf_bert_model_9/bert/encoder/layer_._0/output/LayerNorm/gamma:0', 'tf_bert_model_9/bert/encoder/layer_._0/output/LayerNorm/beta:0', 'tf_bert_model_9/bert/encoder/layer_._1/attention/self/query/kernel:0', 'tf_bert_model_9/bert/encoder/layer_._1/attention/self/query/bias:0', 'tf_bert_model_9/bert/encoder/layer_._1/attention/self/key/kernel:0', 'tf_bert_model_9/bert/encoder/layer_._1/attention/self/key/bias:0', 'tf_bert_model_9/bert/encoder/layer_._1/attention/self/value/kernel:0', 'tf_bert_model_9/bert/encoder/layer_._1/attention/self/value/bias:0', 'tf_bert_model_9/bert/encoder/layer_._1/attention/output/dense/kernel:0', 'tf_bert_model_9/bert/encoder/layer_._1/attention/output/dense/bias:0', 'tf_bert_model_9/bert/encoder/layer_._1/attention/output/LayerNorm/gamma:0', 'tf_bert_model_9/bert/encoder/layer_._1/attention/output/LayerNorm/beta:0', 'tf_bert_model_9/bert/encoder/layer_._1/intermediate/dense/kernel:0', 'tf_bert_model_9/bert/encoder/layer_._1/intermediate/dense/bias:0', 'tf_bert_model_9/bert/encoder/layer_._1/output/dense/kernel:0', 'tf_bert_model_9/bert/encoder/layer_._1/output/dense/bias:0', 'tf_bert_model_9/bert/encoder/layer_._1/output/LayerNorm/gamma:0', 'tf_bert_model_9/bert/encoder/layer_._1/output/LayerNorm/beta:0', 'tf_bert_model_9/bert/encoder/layer_._2/attention/self/query/kernel:0', 'tf_bert_model_9/bert/encoder/layer_._2/attention/self/query/bias:0', 'tf_bert_model_9/bert/encoder/layer_._2/attention/self/key/kernel:0', 'tf_bert_model_9/bert/encoder/layer_._2/attention/self/key/bias:0', 'tf_bert_model_9/bert/encoder/layer_._2/attention/self/value/kernel:0', 'tf_bert_model_9/bert/encoder/layer_._2/attention/self/value/bias:0', 'tf_bert_model_9/bert/encoder/layer_._2/attention/output/dense/kernel:0', 'tf_bert_model_9/bert/encoder/layer_._2/attention/output/dense/bias:0', 'tf_bert_model_9/bert/encoder/layer_._2/attention/output/LayerNorm/gamma:0', 'tf_bert_model_9/bert/encoder/layer_._2/attention/output/LayerNorm/beta:0', 'tf_bert_model_9/bert/encoder/layer_._2/intermediate/dense/kernel:0', 'tf_bert_model_9/bert/encoder/layer_._2/intermediate/dense/bias:0', 'tf_bert_model_9/bert/encoder/layer_._2/output/dense/kernel:0', 'tf_bert_model_9/bert/encoder/layer_._2/output/dense/bias:0', 'tf_bert_model_9/bert/encoder/layer_._2/output/LayerNorm/gamma:0', 'tf_bert_model_9/bert/encoder/layer_._2/output/LayerNorm/beta:0', 'tf_bert_model_9/bert/encoder/layer_._3/attention/self/query/kernel:0', 'tf_bert_model_9/bert/encoder/layer_._3/attention/self/query/bias:0', 'tf_bert_model_9/bert/encoder/layer_._3/attention/self/key/kernel:0', 'tf_bert_model_9/bert/encoder/layer_._3/attention/self/key/bias:0', 'tf_bert_model_9/bert/encoder/layer_._3/attention/self/value/kernel:0', 'tf_bert_model_9/bert/encoder/layer_._3/attention/self/value/bias:0', 'tf_bert_model_9/bert/encoder/layer_._3/attention/output/dense/kernel:0', 'tf_bert_model_9/bert/encoder/layer_._3/attention/output/dense/bias:0', 'tf_bert_model_9/bert/encoder/layer_._3/attention/output/LayerNorm/gamma:0', 'tf_bert_model_9/bert/encoder/layer_._3/attention/output/LayerNorm/beta:0', 'tf_bert_model_9/bert/encoder/layer_._3/intermediate/dense/kernel:0', 'tf_bert_model_9/bert/encoder/layer_._3/intermediate/dense/bias:0', 'tf_bert_model_9/bert/encoder/layer_._3/output/dense/kernel:0', 'tf_bert_model_9/bert/encoder/layer_._3/output/dense/bias:0', 'tf_bert_model_9/bert/encoder/layer_._3/output/LayerNorm/gamma:0', 'tf_bert_model_9/bert/encoder/layer_._3/output/LayerNorm/beta:0', 'tf_bert_model_9/bert/encoder/layer_._4/attention/self/query/kernel:0', 'tf_bert_model_9/bert/encoder/layer_._4/attention/self/query/bias:0', 'tf_bert_model_9/bert/encoder/layer_._4/attention/self/key/kernel:0', 'tf_bert_model_9/bert/encoder/layer_._4/attention/self/key/bias:0', 'tf_bert_model_9/bert/encoder/layer_._4/attention/self/value/kernel:0', 'tf_bert_model_9/bert/encoder/layer_._4/attention/self/value/bias:0', 'tf_bert_model_9/bert/encoder/layer_._4/attention/output/dense/kernel:0', 'tf_bert_model_9/bert/encoder/layer_._4/attention/output/dense/bias:0', 'tf_bert_model_9/bert/encoder/layer_._4/attention/output/LayerNorm/gamma:0', 'tf_bert_model_9/bert/encoder/layer_._4/attention/output/LayerNorm/beta:0', 'tf_bert_model_9/bert/encoder/layer_._4/intermediate/dense/kernel:0', 'tf_bert_model_9/bert/encoder/layer_._4/intermediate/dense/bias:0', 'tf_bert_model_9/bert/encoder/layer_._4/output/dense/kernel:0', 'tf_bert_model_9/bert/encoder/layer_._4/output/dense/bias:0', 'tf_bert_model_9/bert/encoder/layer_._4/output/LayerNorm/gamma:0', 'tf_bert_model_9/bert/encoder/layer_._4/output/LayerNorm/beta:0', 'tf_bert_model_9/bert/encoder/layer_._5/attention/self/query/kernel:0', 'tf_bert_model_9/bert/encoder/layer_._5/attention/self/query/bias:0', 'tf_bert_model_9/bert/encoder/layer_._5/attention/self/key/kernel:0', 'tf_bert_model_9/bert/encoder/layer_._5/attention/self/key/bias:0', 'tf_bert_model_9/bert/encoder/layer_._5/attention/self/value/kernel:0', 'tf_bert_model_9/bert/encoder/layer_._5/attention/self/value/bias:0', 'tf_bert_model_9/bert/encoder/layer_._5/attention/output/dense/kernel:0', 'tf_bert_model_9/bert/encoder/layer_._5/attention/output/dense/bias:0', 'tf_bert_model_9/bert/encoder/layer_._5/attention/output/LayerNorm/gamma:0', 'tf_bert_model_9/bert/encoder/layer_._5/attention/output/LayerNorm/beta:0', 'tf_bert_model_9/bert/encoder/layer_._5/intermediate/dense/kernel:0', 'tf_bert_model_9/bert/encoder/layer_._5/intermediate/dense/bias:0', 'tf_bert_model_9/bert/encoder/layer_._5/output/dense/kernel:0', 'tf_bert_model_9/bert/encoder/layer_._5/output/dense/bias:0', 'tf_bert_model_9/bert/encoder/layer_._5/output/LayerNorm/gamma:0', 'tf_bert_model_9/bert/encoder/layer_._5/output/LayerNorm/beta:0', 'tf_bert_model_9/bert/encoder/layer_._6/attention/self/query/kernel:0', 'tf_bert_model_9/bert/encoder/layer_._6/attention/self/query/bias:0', 'tf_bert_model_9/bert/encoder/layer_._6/attention/self/key/kernel:0', 'tf_bert_model_9/bert/encoder/layer_._6/attention/self/key/bias:0', 'tf_bert_model_9/bert/encoder/layer_._6/attention/self/value/kernel:0', 'tf_bert_model_9/bert/encoder/layer_._6/attention/self/value/bias:0', 'tf_bert_model_9/bert/encoder/layer_._6/attention/output/dense/kernel:0', 'tf_bert_model_9/bert/encoder/layer_._6/attention/output/dense/bias:0', 'tf_bert_model_9/bert/encoder/layer_._6/attention/output/LayerNorm/gamma:0', 'tf_bert_model_9/bert/encoder/layer_._6/attention/output/LayerNorm/beta:0', 'tf_bert_model_9/bert/encoder/layer_._6/intermediate/dense/kernel:0', 'tf_bert_model_9/bert/encoder/layer_._6/intermediate/dense/bias:0', 'tf_bert_model_9/bert/encoder/layer_._6/output/dense/kernel:0', 'tf_bert_model_9/bert/encoder/layer_._6/output/dense/bias:0', 'tf_bert_model_9/bert/encoder/layer_._6/output/LayerNorm/gamma:0', 'tf_bert_model_9/bert/encoder/layer_._6/output/LayerNorm/beta:0', 'tf_bert_model_9/bert/encoder/layer_._7/attention/self/query/kernel:0', 'tf_bert_model_9/bert/encoder/layer_._7/attention/self/query/bias:0', 'tf_bert_model_9/bert/encoder/layer_._7/attention/self/key/kernel:0', 'tf_bert_model_9/bert/encoder/layer_._7/attention/self/key/bias:0', 'tf_bert_model_9/bert/encoder/layer_._7/attention/self/value/kernel:0', 'tf_bert_model_9/bert/encoder/layer_._7/attention/self/value/bias:0', 'tf_bert_model_9/bert/encoder/layer_._7/attention/output/dense/kernel:0', 'tf_bert_model_9/bert/encoder/layer_._7/attention/output/dense/bias:0', 'tf_bert_model_9/bert/encoder/layer_._7/attention/output/LayerNorm/gamma:0', 'tf_bert_model_9/bert/encoder/layer_._7/attention/output/LayerNorm/beta:0', 'tf_bert_model_9/bert/encoder/layer_._7/intermediate/dense/kernel:0', 'tf_bert_model_9/bert/encoder/layer_._7/intermediate/dense/bias:0', 'tf_bert_model_9/bert/encoder/layer_._7/output/dense/kernel:0', 'tf_bert_model_9/bert/encoder/layer_._7/output/dense/bias:0', 'tf_bert_model_9/bert/encoder/layer_._7/output/LayerNorm/gamma:0', 'tf_bert_model_9/bert/encoder/layer_._7/output/LayerNorm/beta:0', 'tf_bert_model_9/bert/encoder/layer_._8/attention/self/query/kernel:0', 'tf_bert_model_9/bert/encoder/layer_._8/attention/self/query/bias:0', 'tf_bert_model_9/bert/encoder/layer_._8/attention/self/key/kernel:0', 'tf_bert_model_9/bert/encoder/layer_._8/attention/self/key/bias:0', 'tf_bert_model_9/bert/encoder/layer_._8/attention/self/value/kernel:0', 'tf_bert_model_9/bert/encoder/layer_._8/attention/self/value/bias:0', 'tf_bert_model_9/bert/encoder/layer_._8/attention/output/dense/kernel:0', 'tf_bert_model_9/bert/encoder/layer_._8/attention/output/dense/bias:0', 'tf_bert_model_9/bert/encoder/layer_._8/attention/output/LayerNorm/gamma:0', 'tf_bert_model_9/bert/encoder/layer_._8/attention/output/LayerNorm/beta:0', 'tf_bert_model_9/bert/encoder/layer_._8/intermediate/dense/kernel:0', 'tf_bert_model_9/bert/encoder/layer_._8/intermediate/dense/bias:0', 'tf_bert_model_9/bert/encoder/layer_._8/output/dense/kernel:0', 'tf_bert_model_9/bert/encoder/layer_._8/output/dense/bias:0', 'tf_bert_model_9/bert/encoder/layer_._8/output/LayerNorm/gamma:0', 'tf_bert_model_9/bert/encoder/layer_._8/output/LayerNorm/beta:0', 'tf_bert_model_9/bert/encoder/layer_._9/attention/self/query/kernel:0', 'tf_bert_model_9/bert/encoder/layer_._9/attention/self/query/bias:0', 'tf_bert_model_9/bert/encoder/layer_._9/attention/self/key/kernel:0', 'tf_bert_model_9/bert/encoder/layer_._9/attention/self/key/bias:0', 'tf_bert_model_9/bert/encoder/layer_._9/attention/self/value/kernel:0', 'tf_bert_model_9/bert/encoder/layer_._9/attention/self/value/bias:0', 'tf_bert_model_9/bert/encoder/layer_._9/attention/output/dense/kernel:0', 'tf_bert_model_9/bert/encoder/layer_._9/attention/output/dense/bias:0', 'tf_bert_model_9/bert/encoder/layer_._9/attention/output/LayerNorm/gamma:0', 'tf_bert_model_9/bert/encoder/layer_._9/attention/output/LayerNorm/beta:0', 'tf_bert_model_9/bert/encoder/layer_._9/intermediate/dense/kernel:0', 'tf_bert_model_9/bert/encoder/layer_._9/intermediate/dense/bias:0', 'tf_bert_model_9/bert/encoder/layer_._9/output/dense/kernel:0', 'tf_bert_model_9/bert/encoder/layer_._9/output/dense/bias:0', 'tf_bert_model_9/bert/encoder/layer_._9/output/LayerNorm/gamma:0', 'tf_bert_model_9/bert/encoder/layer_._9/output/LayerNorm/beta:0', 'tf_bert_model_9/bert/encoder/layer_._10/attention/self/query/kernel:0', 'tf_bert_model_9/bert/encoder/layer_._10/attention/self/query/bias:0', 'tf_bert_model_9/bert/encoder/layer_._10/attention/self/key/kernel:0', 'tf_bert_model_9/bert/encoder/layer_._10/attention/self/key/bias:0', 'tf_bert_model_9/bert/encoder/layer_._10/attention/self/value/kernel:0', 'tf_bert_model_9/bert/encoder/layer_._10/attention/self/value/bias:0', 'tf_bert_model_9/bert/encoder/layer_._10/attention/output/dense/kernel:0', 'tf_bert_model_9/bert/encoder/layer_._10/attention/output/dense/bias:0', 'tf_bert_model_9/bert/encoder/layer_._10/attention/output/LayerNorm/gamma:0', 'tf_bert_model_9/bert/encoder/layer_._10/attention/output/LayerNorm/beta:0', 'tf_bert_model_9/bert/encoder/layer_._10/intermediate/dense/kernel:0', 'tf_bert_model_9/bert/encoder/layer_._10/intermediate/dense/bias:0', 'tf_bert_model_9/bert/encoder/layer_._10/output/dense/kernel:0', 'tf_bert_model_9/bert/encoder/layer_._10/output/dense/bias:0', 'tf_bert_model_9/bert/encoder/layer_._10/output/LayerNorm/gamma:0', 'tf_bert_model_9/bert/encoder/layer_._10/output/LayerNorm/beta:0', 'tf_bert_model_9/bert/pooler/dense/kernel:0', 'tf_bert_model_9/bert/pooler/dense/bias:0'] when minimizing the loss. If you're using `model.compile()`, did you forget to provide a `loss`argument?\n",
            "WARNING:tensorflow:Gradients do not exist for variables ['tf_bert_model_9/bert/embeddings/word_embeddings/weight:0', 'tf_bert_model_9/bert/embeddings/token_type_embeddings/embeddings:0', 'tf_bert_model_9/bert/embeddings/position_embeddings/embeddings:0', 'tf_bert_model_9/bert/embeddings/LayerNorm/gamma:0', 'tf_bert_model_9/bert/embeddings/LayerNorm/beta:0', 'tf_bert_model_9/bert/encoder/layer_._0/attention/self/query/kernel:0', 'tf_bert_model_9/bert/encoder/layer_._0/attention/self/query/bias:0', 'tf_bert_model_9/bert/encoder/layer_._0/attention/self/key/kernel:0', 'tf_bert_model_9/bert/encoder/layer_._0/attention/self/key/bias:0', 'tf_bert_model_9/bert/encoder/layer_._0/attention/self/value/kernel:0', 'tf_bert_model_9/bert/encoder/layer_._0/attention/self/value/bias:0', 'tf_bert_model_9/bert/encoder/layer_._0/attention/output/dense/kernel:0', 'tf_bert_model_9/bert/encoder/layer_._0/attention/output/dense/bias:0', 'tf_bert_model_9/bert/encoder/layer_._0/attention/output/LayerNorm/gamma:0', 'tf_bert_model_9/bert/encoder/layer_._0/attention/output/LayerNorm/beta:0', 'tf_bert_model_9/bert/encoder/layer_._0/intermediate/dense/kernel:0', 'tf_bert_model_9/bert/encoder/layer_._0/intermediate/dense/bias:0', 'tf_bert_model_9/bert/encoder/layer_._0/output/dense/kernel:0', 'tf_bert_model_9/bert/encoder/layer_._0/output/dense/bias:0', 'tf_bert_model_9/bert/encoder/layer_._0/output/LayerNorm/gamma:0', 'tf_bert_model_9/bert/encoder/layer_._0/output/LayerNorm/beta:0', 'tf_bert_model_9/bert/encoder/layer_._1/attention/self/query/kernel:0', 'tf_bert_model_9/bert/encoder/layer_._1/attention/self/query/bias:0', 'tf_bert_model_9/bert/encoder/layer_._1/attention/self/key/kernel:0', 'tf_bert_model_9/bert/encoder/layer_._1/attention/self/key/bias:0', 'tf_bert_model_9/bert/encoder/layer_._1/attention/self/value/kernel:0', 'tf_bert_model_9/bert/encoder/layer_._1/attention/self/value/bias:0', 'tf_bert_model_9/bert/encoder/layer_._1/attention/output/dense/kernel:0', 'tf_bert_model_9/bert/encoder/layer_._1/attention/output/dense/bias:0', 'tf_bert_model_9/bert/encoder/layer_._1/attention/output/LayerNorm/gamma:0', 'tf_bert_model_9/bert/encoder/layer_._1/attention/output/LayerNorm/beta:0', 'tf_bert_model_9/bert/encoder/layer_._1/intermediate/dense/kernel:0', 'tf_bert_model_9/bert/encoder/layer_._1/intermediate/dense/bias:0', 'tf_bert_model_9/bert/encoder/layer_._1/output/dense/kernel:0', 'tf_bert_model_9/bert/encoder/layer_._1/output/dense/bias:0', 'tf_bert_model_9/bert/encoder/layer_._1/output/LayerNorm/gamma:0', 'tf_bert_model_9/bert/encoder/layer_._1/output/LayerNorm/beta:0', 'tf_bert_model_9/bert/encoder/layer_._2/attention/self/query/kernel:0', 'tf_bert_model_9/bert/encoder/layer_._2/attention/self/query/bias:0', 'tf_bert_model_9/bert/encoder/layer_._2/attention/self/key/kernel:0', 'tf_bert_model_9/bert/encoder/layer_._2/attention/self/key/bias:0', 'tf_bert_model_9/bert/encoder/layer_._2/attention/self/value/kernel:0', 'tf_bert_model_9/bert/encoder/layer_._2/attention/self/value/bias:0', 'tf_bert_model_9/bert/encoder/layer_._2/attention/output/dense/kernel:0', 'tf_bert_model_9/bert/encoder/layer_._2/attention/output/dense/bias:0', 'tf_bert_model_9/bert/encoder/layer_._2/attention/output/LayerNorm/gamma:0', 'tf_bert_model_9/bert/encoder/layer_._2/attention/output/LayerNorm/beta:0', 'tf_bert_model_9/bert/encoder/layer_._2/intermediate/dense/kernel:0', 'tf_bert_model_9/bert/encoder/layer_._2/intermediate/dense/bias:0', 'tf_bert_model_9/bert/encoder/layer_._2/output/dense/kernel:0', 'tf_bert_model_9/bert/encoder/layer_._2/output/dense/bias:0', 'tf_bert_model_9/bert/encoder/layer_._2/output/LayerNorm/gamma:0', 'tf_bert_model_9/bert/encoder/layer_._2/output/LayerNorm/beta:0', 'tf_bert_model_9/bert/encoder/layer_._3/attention/self/query/kernel:0', 'tf_bert_model_9/bert/encoder/layer_._3/attention/self/query/bias:0', 'tf_bert_model_9/bert/encoder/layer_._3/attention/self/key/kernel:0', 'tf_bert_model_9/bert/encoder/layer_._3/attention/self/key/bias:0', 'tf_bert_model_9/bert/encoder/layer_._3/attention/self/value/kernel:0', 'tf_bert_model_9/bert/encoder/layer_._3/attention/self/value/bias:0', 'tf_bert_model_9/bert/encoder/layer_._3/attention/output/dense/kernel:0', 'tf_bert_model_9/bert/encoder/layer_._3/attention/output/dense/bias:0', 'tf_bert_model_9/bert/encoder/layer_._3/attention/output/LayerNorm/gamma:0', 'tf_bert_model_9/bert/encoder/layer_._3/attention/output/LayerNorm/beta:0', 'tf_bert_model_9/bert/encoder/layer_._3/intermediate/dense/kernel:0', 'tf_bert_model_9/bert/encoder/layer_._3/intermediate/dense/bias:0', 'tf_bert_model_9/bert/encoder/layer_._3/output/dense/kernel:0', 'tf_bert_model_9/bert/encoder/layer_._3/output/dense/bias:0', 'tf_bert_model_9/bert/encoder/layer_._3/output/LayerNorm/gamma:0', 'tf_bert_model_9/bert/encoder/layer_._3/output/LayerNorm/beta:0', 'tf_bert_model_9/bert/encoder/layer_._4/attention/self/query/kernel:0', 'tf_bert_model_9/bert/encoder/layer_._4/attention/self/query/bias:0', 'tf_bert_model_9/bert/encoder/layer_._4/attention/self/key/kernel:0', 'tf_bert_model_9/bert/encoder/layer_._4/attention/self/key/bias:0', 'tf_bert_model_9/bert/encoder/layer_._4/attention/self/value/kernel:0', 'tf_bert_model_9/bert/encoder/layer_._4/attention/self/value/bias:0', 'tf_bert_model_9/bert/encoder/layer_._4/attention/output/dense/kernel:0', 'tf_bert_model_9/bert/encoder/layer_._4/attention/output/dense/bias:0', 'tf_bert_model_9/bert/encoder/layer_._4/attention/output/LayerNorm/gamma:0', 'tf_bert_model_9/bert/encoder/layer_._4/attention/output/LayerNorm/beta:0', 'tf_bert_model_9/bert/encoder/layer_._4/intermediate/dense/kernel:0', 'tf_bert_model_9/bert/encoder/layer_._4/intermediate/dense/bias:0', 'tf_bert_model_9/bert/encoder/layer_._4/output/dense/kernel:0', 'tf_bert_model_9/bert/encoder/layer_._4/output/dense/bias:0', 'tf_bert_model_9/bert/encoder/layer_._4/output/LayerNorm/gamma:0', 'tf_bert_model_9/bert/encoder/layer_._4/output/LayerNorm/beta:0', 'tf_bert_model_9/bert/encoder/layer_._5/attention/self/query/kernel:0', 'tf_bert_model_9/bert/encoder/layer_._5/attention/self/query/bias:0', 'tf_bert_model_9/bert/encoder/layer_._5/attention/self/key/kernel:0', 'tf_bert_model_9/bert/encoder/layer_._5/attention/self/key/bias:0', 'tf_bert_model_9/bert/encoder/layer_._5/attention/self/value/kernel:0', 'tf_bert_model_9/bert/encoder/layer_._5/attention/self/value/bias:0', 'tf_bert_model_9/bert/encoder/layer_._5/attention/output/dense/kernel:0', 'tf_bert_model_9/bert/encoder/layer_._5/attention/output/dense/bias:0', 'tf_bert_model_9/bert/encoder/layer_._5/attention/output/LayerNorm/gamma:0', 'tf_bert_model_9/bert/encoder/layer_._5/attention/output/LayerNorm/beta:0', 'tf_bert_model_9/bert/encoder/layer_._5/intermediate/dense/kernel:0', 'tf_bert_model_9/bert/encoder/layer_._5/intermediate/dense/bias:0', 'tf_bert_model_9/bert/encoder/layer_._5/output/dense/kernel:0', 'tf_bert_model_9/bert/encoder/layer_._5/output/dense/bias:0', 'tf_bert_model_9/bert/encoder/layer_._5/output/LayerNorm/gamma:0', 'tf_bert_model_9/bert/encoder/layer_._5/output/LayerNorm/beta:0', 'tf_bert_model_9/bert/encoder/layer_._6/attention/self/query/kernel:0', 'tf_bert_model_9/bert/encoder/layer_._6/attention/self/query/bias:0', 'tf_bert_model_9/bert/encoder/layer_._6/attention/self/key/kernel:0', 'tf_bert_model_9/bert/encoder/layer_._6/attention/self/key/bias:0', 'tf_bert_model_9/bert/encoder/layer_._6/attention/self/value/kernel:0', 'tf_bert_model_9/bert/encoder/layer_._6/attention/self/value/bias:0', 'tf_bert_model_9/bert/encoder/layer_._6/attention/output/dense/kernel:0', 'tf_bert_model_9/bert/encoder/layer_._6/attention/output/dense/bias:0', 'tf_bert_model_9/bert/encoder/layer_._6/attention/output/LayerNorm/gamma:0', 'tf_bert_model_9/bert/encoder/layer_._6/attention/output/LayerNorm/beta:0', 'tf_bert_model_9/bert/encoder/layer_._6/intermediate/dense/kernel:0', 'tf_bert_model_9/bert/encoder/layer_._6/intermediate/dense/bias:0', 'tf_bert_model_9/bert/encoder/layer_._6/output/dense/kernel:0', 'tf_bert_model_9/bert/encoder/layer_._6/output/dense/bias:0', 'tf_bert_model_9/bert/encoder/layer_._6/output/LayerNorm/gamma:0', 'tf_bert_model_9/bert/encoder/layer_._6/output/LayerNorm/beta:0', 'tf_bert_model_9/bert/encoder/layer_._7/attention/self/query/kernel:0', 'tf_bert_model_9/bert/encoder/layer_._7/attention/self/query/bias:0', 'tf_bert_model_9/bert/encoder/layer_._7/attention/self/key/kernel:0', 'tf_bert_model_9/bert/encoder/layer_._7/attention/self/key/bias:0', 'tf_bert_model_9/bert/encoder/layer_._7/attention/self/value/kernel:0', 'tf_bert_model_9/bert/encoder/layer_._7/attention/self/value/bias:0', 'tf_bert_model_9/bert/encoder/layer_._7/attention/output/dense/kernel:0', 'tf_bert_model_9/bert/encoder/layer_._7/attention/output/dense/bias:0', 'tf_bert_model_9/bert/encoder/layer_._7/attention/output/LayerNorm/gamma:0', 'tf_bert_model_9/bert/encoder/layer_._7/attention/output/LayerNorm/beta:0', 'tf_bert_model_9/bert/encoder/layer_._7/intermediate/dense/kernel:0', 'tf_bert_model_9/bert/encoder/layer_._7/intermediate/dense/bias:0', 'tf_bert_model_9/bert/encoder/layer_._7/output/dense/kernel:0', 'tf_bert_model_9/bert/encoder/layer_._7/output/dense/bias:0', 'tf_bert_model_9/bert/encoder/layer_._7/output/LayerNorm/gamma:0', 'tf_bert_model_9/bert/encoder/layer_._7/output/LayerNorm/beta:0', 'tf_bert_model_9/bert/encoder/layer_._8/attention/self/query/kernel:0', 'tf_bert_model_9/bert/encoder/layer_._8/attention/self/query/bias:0', 'tf_bert_model_9/bert/encoder/layer_._8/attention/self/key/kernel:0', 'tf_bert_model_9/bert/encoder/layer_._8/attention/self/key/bias:0', 'tf_bert_model_9/bert/encoder/layer_._8/attention/self/value/kernel:0', 'tf_bert_model_9/bert/encoder/layer_._8/attention/self/value/bias:0', 'tf_bert_model_9/bert/encoder/layer_._8/attention/output/dense/kernel:0', 'tf_bert_model_9/bert/encoder/layer_._8/attention/output/dense/bias:0', 'tf_bert_model_9/bert/encoder/layer_._8/attention/output/LayerNorm/gamma:0', 'tf_bert_model_9/bert/encoder/layer_._8/attention/output/LayerNorm/beta:0', 'tf_bert_model_9/bert/encoder/layer_._8/intermediate/dense/kernel:0', 'tf_bert_model_9/bert/encoder/layer_._8/intermediate/dense/bias:0', 'tf_bert_model_9/bert/encoder/layer_._8/output/dense/kernel:0', 'tf_bert_model_9/bert/encoder/layer_._8/output/dense/bias:0', 'tf_bert_model_9/bert/encoder/layer_._8/output/LayerNorm/gamma:0', 'tf_bert_model_9/bert/encoder/layer_._8/output/LayerNorm/beta:0', 'tf_bert_model_9/bert/encoder/layer_._9/attention/self/query/kernel:0', 'tf_bert_model_9/bert/encoder/layer_._9/attention/self/query/bias:0', 'tf_bert_model_9/bert/encoder/layer_._9/attention/self/key/kernel:0', 'tf_bert_model_9/bert/encoder/layer_._9/attention/self/key/bias:0', 'tf_bert_model_9/bert/encoder/layer_._9/attention/self/value/kernel:0', 'tf_bert_model_9/bert/encoder/layer_._9/attention/self/value/bias:0', 'tf_bert_model_9/bert/encoder/layer_._9/attention/output/dense/kernel:0', 'tf_bert_model_9/bert/encoder/layer_._9/attention/output/dense/bias:0', 'tf_bert_model_9/bert/encoder/layer_._9/attention/output/LayerNorm/gamma:0', 'tf_bert_model_9/bert/encoder/layer_._9/attention/output/LayerNorm/beta:0', 'tf_bert_model_9/bert/encoder/layer_._9/intermediate/dense/kernel:0', 'tf_bert_model_9/bert/encoder/layer_._9/intermediate/dense/bias:0', 'tf_bert_model_9/bert/encoder/layer_._9/output/dense/kernel:0', 'tf_bert_model_9/bert/encoder/layer_._9/output/dense/bias:0', 'tf_bert_model_9/bert/encoder/layer_._9/output/LayerNorm/gamma:0', 'tf_bert_model_9/bert/encoder/layer_._9/output/LayerNorm/beta:0', 'tf_bert_model_9/bert/encoder/layer_._10/attention/self/query/kernel:0', 'tf_bert_model_9/bert/encoder/layer_._10/attention/self/query/bias:0', 'tf_bert_model_9/bert/encoder/layer_._10/attention/self/key/kernel:0', 'tf_bert_model_9/bert/encoder/layer_._10/attention/self/key/bias:0', 'tf_bert_model_9/bert/encoder/layer_._10/attention/self/value/kernel:0', 'tf_bert_model_9/bert/encoder/layer_._10/attention/self/value/bias:0', 'tf_bert_model_9/bert/encoder/layer_._10/attention/output/dense/kernel:0', 'tf_bert_model_9/bert/encoder/layer_._10/attention/output/dense/bias:0', 'tf_bert_model_9/bert/encoder/layer_._10/attention/output/LayerNorm/gamma:0', 'tf_bert_model_9/bert/encoder/layer_._10/attention/output/LayerNorm/beta:0', 'tf_bert_model_9/bert/encoder/layer_._10/intermediate/dense/kernel:0', 'tf_bert_model_9/bert/encoder/layer_._10/intermediate/dense/bias:0', 'tf_bert_model_9/bert/encoder/layer_._10/output/dense/kernel:0', 'tf_bert_model_9/bert/encoder/layer_._10/output/dense/bias:0', 'tf_bert_model_9/bert/encoder/layer_._10/output/LayerNorm/gamma:0', 'tf_bert_model_9/bert/encoder/layer_._10/output/LayerNorm/beta:0', 'tf_bert_model_9/bert/pooler/dense/kernel:0', 'tf_bert_model_9/bert/pooler/dense/bias:0'] when minimizing the loss. If you're using `model.compile()`, did you forget to provide a `loss`argument?\n",
            "611/611 [==============================] - 48s 68ms/step - loss: 0.1088 - accuracy: 0.9648 - val_loss: 0.0470 - val_accuracy: 0.9853\n",
            "Epoch 2/3\n",
            "611/611 [==============================] - 37s 61ms/step - loss: 0.0514 - accuracy: 0.9859 - val_loss: 0.0606 - val_accuracy: 0.9804\n",
            "Epoch 3/3\n",
            "611/611 [==============================] - 37s 61ms/step - loss: 0.0253 - accuracy: 0.9947 - val_loss: 0.0468 - val_accuracy: 0.9902\n"
          ]
        }
      ]
    },
    {
      "cell_type": "code",
      "source": [
        "predict_labels = cnn_bert_model.predict([x_train.input_ids, x_train.token_type_ids, x_train.attention_mask])\n",
        "train_y_predict = predict_labels.round(0)\n",
        "test_predict_labels = cnn_bert_model.predict([x_test.input_ids, x_test.token_type_ids, x_test.attention_mask])\n",
        "test_y_predict = test_predict_labels.round(0)"
      ],
      "metadata": {
        "id": "JpLxOK_yRSOP"
      },
      "execution_count": null,
      "outputs": []
    },
    {
      "cell_type": "code",
      "source": [
        "print_metrics('BERT + CNN kernel, train data: ', np.array(train_y, int), train_y_predict)\n",
        "print_metrics('test data: ', np.array(test_y, int), test_y_predict)"
      ],
      "metadata": {
        "colab": {
          "base_uri": "https://localhost:8080/"
        },
        "id": "PALsjyI1RS5a",
        "outputId": "7305df56-870c-46a7-b39e-7888c97fcf86"
      },
      "execution_count": null,
      "outputs": [
        {
          "output_type": "stream",
          "name": "stdout",
          "text": [
            "BERT + CNN kernel, train data: : accuracy = 0.9996, precision = 1.0000, recall = 0.9980, f1 = 0.9990\n",
            "test data: : accuracy = 0.9902, precision = 0.9808, recall = 0.9734, f1 = 0.9771\n"
          ]
        }
      ]
    },
    {
      "cell_type": "markdown",
      "source": [
        "**Experiment 3:** Decrease the number of filters to offset overfitting and possibly increase performance"
      ],
      "metadata": {
        "id": "VnaafpFDThAp"
      }
    },
    {
      "cell_type": "code",
      "source": [
        "cnn_bert_model = create_bert_cnn_model(train_layers=1,\n",
        "                                       kernel_sizes = [2, 3, 4, 5],\n",
        "                                       num_filters = [32,64,128])\n",
        "\n",
        "cnn_bert_model_history = cnn_bert_model.fit([x_train.input_ids, x_train.token_type_ids, x_train.attention_mask], \n",
        "                                            y_train,   \n",
        "                                            validation_data=([x_test.input_ids, x_test.token_type_ids, x_test.attention_mask], y_test),    \n",
        "                                            class_weight = class_weight, \n",
        "                                            batch_size=8, \n",
        "                                            epochs=3)"
      ],
      "metadata": {
        "colab": {
          "base_uri": "https://localhost:8080/"
        },
        "id": "vy32_mv7TMm7",
        "outputId": "1afd2919-b935-453f-bae4-fc821a836c50"
      },
      "execution_count": null,
      "outputs": [
        {
          "output_type": "stream",
          "name": "stderr",
          "text": [
            "Some layers from the model checkpoint at bert-base-cased were not used when initializing TFBertModel: ['nsp___cls', 'mlm___cls']\n",
            "- This IS expected if you are initializing TFBertModel from the checkpoint of a model trained on another task or with another architecture (e.g. initializing a BertForSequenceClassification model from a BertForPreTraining model).\n",
            "- This IS NOT expected if you are initializing TFBertModel from the checkpoint of a model that you expect to be exactly identical (initializing a BertForSequenceClassification model from a BertForSequenceClassification model).\n",
            "All the layers of TFBertModel were initialized from the model checkpoint at bert-base-cased.\n",
            "If your task is similar to the task the model of the checkpoint was trained on, you can already use TFBertModel for predictions without further training.\n"
          ]
        },
        {
          "output_type": "stream",
          "name": "stdout",
          "text": [
            "Epoch 1/3\n",
            "WARNING:tensorflow:Gradients do not exist for variables ['tf_bert_model_10/bert/embeddings/word_embeddings/weight:0', 'tf_bert_model_10/bert/embeddings/token_type_embeddings/embeddings:0', 'tf_bert_model_10/bert/embeddings/position_embeddings/embeddings:0', 'tf_bert_model_10/bert/embeddings/LayerNorm/gamma:0', 'tf_bert_model_10/bert/embeddings/LayerNorm/beta:0', 'tf_bert_model_10/bert/encoder/layer_._0/attention/self/query/kernel:0', 'tf_bert_model_10/bert/encoder/layer_._0/attention/self/query/bias:0', 'tf_bert_model_10/bert/encoder/layer_._0/attention/self/key/kernel:0', 'tf_bert_model_10/bert/encoder/layer_._0/attention/self/key/bias:0', 'tf_bert_model_10/bert/encoder/layer_._0/attention/self/value/kernel:0', 'tf_bert_model_10/bert/encoder/layer_._0/attention/self/value/bias:0', 'tf_bert_model_10/bert/encoder/layer_._0/attention/output/dense/kernel:0', 'tf_bert_model_10/bert/encoder/layer_._0/attention/output/dense/bias:0', 'tf_bert_model_10/bert/encoder/layer_._0/attention/output/LayerNorm/gamma:0', 'tf_bert_model_10/bert/encoder/layer_._0/attention/output/LayerNorm/beta:0', 'tf_bert_model_10/bert/encoder/layer_._0/intermediate/dense/kernel:0', 'tf_bert_model_10/bert/encoder/layer_._0/intermediate/dense/bias:0', 'tf_bert_model_10/bert/encoder/layer_._0/output/dense/kernel:0', 'tf_bert_model_10/bert/encoder/layer_._0/output/dense/bias:0', 'tf_bert_model_10/bert/encoder/layer_._0/output/LayerNorm/gamma:0', 'tf_bert_model_10/bert/encoder/layer_._0/output/LayerNorm/beta:0', 'tf_bert_model_10/bert/encoder/layer_._1/attention/self/query/kernel:0', 'tf_bert_model_10/bert/encoder/layer_._1/attention/self/query/bias:0', 'tf_bert_model_10/bert/encoder/layer_._1/attention/self/key/kernel:0', 'tf_bert_model_10/bert/encoder/layer_._1/attention/self/key/bias:0', 'tf_bert_model_10/bert/encoder/layer_._1/attention/self/value/kernel:0', 'tf_bert_model_10/bert/encoder/layer_._1/attention/self/value/bias:0', 'tf_bert_model_10/bert/encoder/layer_._1/attention/output/dense/kernel:0', 'tf_bert_model_10/bert/encoder/layer_._1/attention/output/dense/bias:0', 'tf_bert_model_10/bert/encoder/layer_._1/attention/output/LayerNorm/gamma:0', 'tf_bert_model_10/bert/encoder/layer_._1/attention/output/LayerNorm/beta:0', 'tf_bert_model_10/bert/encoder/layer_._1/intermediate/dense/kernel:0', 'tf_bert_model_10/bert/encoder/layer_._1/intermediate/dense/bias:0', 'tf_bert_model_10/bert/encoder/layer_._1/output/dense/kernel:0', 'tf_bert_model_10/bert/encoder/layer_._1/output/dense/bias:0', 'tf_bert_model_10/bert/encoder/layer_._1/output/LayerNorm/gamma:0', 'tf_bert_model_10/bert/encoder/layer_._1/output/LayerNorm/beta:0', 'tf_bert_model_10/bert/encoder/layer_._2/attention/self/query/kernel:0', 'tf_bert_model_10/bert/encoder/layer_._2/attention/self/query/bias:0', 'tf_bert_model_10/bert/encoder/layer_._2/attention/self/key/kernel:0', 'tf_bert_model_10/bert/encoder/layer_._2/attention/self/key/bias:0', 'tf_bert_model_10/bert/encoder/layer_._2/attention/self/value/kernel:0', 'tf_bert_model_10/bert/encoder/layer_._2/attention/self/value/bias:0', 'tf_bert_model_10/bert/encoder/layer_._2/attention/output/dense/kernel:0', 'tf_bert_model_10/bert/encoder/layer_._2/attention/output/dense/bias:0', 'tf_bert_model_10/bert/encoder/layer_._2/attention/output/LayerNorm/gamma:0', 'tf_bert_model_10/bert/encoder/layer_._2/attention/output/LayerNorm/beta:0', 'tf_bert_model_10/bert/encoder/layer_._2/intermediate/dense/kernel:0', 'tf_bert_model_10/bert/encoder/layer_._2/intermediate/dense/bias:0', 'tf_bert_model_10/bert/encoder/layer_._2/output/dense/kernel:0', 'tf_bert_model_10/bert/encoder/layer_._2/output/dense/bias:0', 'tf_bert_model_10/bert/encoder/layer_._2/output/LayerNorm/gamma:0', 'tf_bert_model_10/bert/encoder/layer_._2/output/LayerNorm/beta:0', 'tf_bert_model_10/bert/encoder/layer_._3/attention/self/query/kernel:0', 'tf_bert_model_10/bert/encoder/layer_._3/attention/self/query/bias:0', 'tf_bert_model_10/bert/encoder/layer_._3/attention/self/key/kernel:0', 'tf_bert_model_10/bert/encoder/layer_._3/attention/self/key/bias:0', 'tf_bert_model_10/bert/encoder/layer_._3/attention/self/value/kernel:0', 'tf_bert_model_10/bert/encoder/layer_._3/attention/self/value/bias:0', 'tf_bert_model_10/bert/encoder/layer_._3/attention/output/dense/kernel:0', 'tf_bert_model_10/bert/encoder/layer_._3/attention/output/dense/bias:0', 'tf_bert_model_10/bert/encoder/layer_._3/attention/output/LayerNorm/gamma:0', 'tf_bert_model_10/bert/encoder/layer_._3/attention/output/LayerNorm/beta:0', 'tf_bert_model_10/bert/encoder/layer_._3/intermediate/dense/kernel:0', 'tf_bert_model_10/bert/encoder/layer_._3/intermediate/dense/bias:0', 'tf_bert_model_10/bert/encoder/layer_._3/output/dense/kernel:0', 'tf_bert_model_10/bert/encoder/layer_._3/output/dense/bias:0', 'tf_bert_model_10/bert/encoder/layer_._3/output/LayerNorm/gamma:0', 'tf_bert_model_10/bert/encoder/layer_._3/output/LayerNorm/beta:0', 'tf_bert_model_10/bert/encoder/layer_._4/attention/self/query/kernel:0', 'tf_bert_model_10/bert/encoder/layer_._4/attention/self/query/bias:0', 'tf_bert_model_10/bert/encoder/layer_._4/attention/self/key/kernel:0', 'tf_bert_model_10/bert/encoder/layer_._4/attention/self/key/bias:0', 'tf_bert_model_10/bert/encoder/layer_._4/attention/self/value/kernel:0', 'tf_bert_model_10/bert/encoder/layer_._4/attention/self/value/bias:0', 'tf_bert_model_10/bert/encoder/layer_._4/attention/output/dense/kernel:0', 'tf_bert_model_10/bert/encoder/layer_._4/attention/output/dense/bias:0', 'tf_bert_model_10/bert/encoder/layer_._4/attention/output/LayerNorm/gamma:0', 'tf_bert_model_10/bert/encoder/layer_._4/attention/output/LayerNorm/beta:0', 'tf_bert_model_10/bert/encoder/layer_._4/intermediate/dense/kernel:0', 'tf_bert_model_10/bert/encoder/layer_._4/intermediate/dense/bias:0', 'tf_bert_model_10/bert/encoder/layer_._4/output/dense/kernel:0', 'tf_bert_model_10/bert/encoder/layer_._4/output/dense/bias:0', 'tf_bert_model_10/bert/encoder/layer_._4/output/LayerNorm/gamma:0', 'tf_bert_model_10/bert/encoder/layer_._4/output/LayerNorm/beta:0', 'tf_bert_model_10/bert/encoder/layer_._5/attention/self/query/kernel:0', 'tf_bert_model_10/bert/encoder/layer_._5/attention/self/query/bias:0', 'tf_bert_model_10/bert/encoder/layer_._5/attention/self/key/kernel:0', 'tf_bert_model_10/bert/encoder/layer_._5/attention/self/key/bias:0', 'tf_bert_model_10/bert/encoder/layer_._5/attention/self/value/kernel:0', 'tf_bert_model_10/bert/encoder/layer_._5/attention/self/value/bias:0', 'tf_bert_model_10/bert/encoder/layer_._5/attention/output/dense/kernel:0', 'tf_bert_model_10/bert/encoder/layer_._5/attention/output/dense/bias:0', 'tf_bert_model_10/bert/encoder/layer_._5/attention/output/LayerNorm/gamma:0', 'tf_bert_model_10/bert/encoder/layer_._5/attention/output/LayerNorm/beta:0', 'tf_bert_model_10/bert/encoder/layer_._5/intermediate/dense/kernel:0', 'tf_bert_model_10/bert/encoder/layer_._5/intermediate/dense/bias:0', 'tf_bert_model_10/bert/encoder/layer_._5/output/dense/kernel:0', 'tf_bert_model_10/bert/encoder/layer_._5/output/dense/bias:0', 'tf_bert_model_10/bert/encoder/layer_._5/output/LayerNorm/gamma:0', 'tf_bert_model_10/bert/encoder/layer_._5/output/LayerNorm/beta:0', 'tf_bert_model_10/bert/encoder/layer_._6/attention/self/query/kernel:0', 'tf_bert_model_10/bert/encoder/layer_._6/attention/self/query/bias:0', 'tf_bert_model_10/bert/encoder/layer_._6/attention/self/key/kernel:0', 'tf_bert_model_10/bert/encoder/layer_._6/attention/self/key/bias:0', 'tf_bert_model_10/bert/encoder/layer_._6/attention/self/value/kernel:0', 'tf_bert_model_10/bert/encoder/layer_._6/attention/self/value/bias:0', 'tf_bert_model_10/bert/encoder/layer_._6/attention/output/dense/kernel:0', 'tf_bert_model_10/bert/encoder/layer_._6/attention/output/dense/bias:0', 'tf_bert_model_10/bert/encoder/layer_._6/attention/output/LayerNorm/gamma:0', 'tf_bert_model_10/bert/encoder/layer_._6/attention/output/LayerNorm/beta:0', 'tf_bert_model_10/bert/encoder/layer_._6/intermediate/dense/kernel:0', 'tf_bert_model_10/bert/encoder/layer_._6/intermediate/dense/bias:0', 'tf_bert_model_10/bert/encoder/layer_._6/output/dense/kernel:0', 'tf_bert_model_10/bert/encoder/layer_._6/output/dense/bias:0', 'tf_bert_model_10/bert/encoder/layer_._6/output/LayerNorm/gamma:0', 'tf_bert_model_10/bert/encoder/layer_._6/output/LayerNorm/beta:0', 'tf_bert_model_10/bert/encoder/layer_._7/attention/self/query/kernel:0', 'tf_bert_model_10/bert/encoder/layer_._7/attention/self/query/bias:0', 'tf_bert_model_10/bert/encoder/layer_._7/attention/self/key/kernel:0', 'tf_bert_model_10/bert/encoder/layer_._7/attention/self/key/bias:0', 'tf_bert_model_10/bert/encoder/layer_._7/attention/self/value/kernel:0', 'tf_bert_model_10/bert/encoder/layer_._7/attention/self/value/bias:0', 'tf_bert_model_10/bert/encoder/layer_._7/attention/output/dense/kernel:0', 'tf_bert_model_10/bert/encoder/layer_._7/attention/output/dense/bias:0', 'tf_bert_model_10/bert/encoder/layer_._7/attention/output/LayerNorm/gamma:0', 'tf_bert_model_10/bert/encoder/layer_._7/attention/output/LayerNorm/beta:0', 'tf_bert_model_10/bert/encoder/layer_._7/intermediate/dense/kernel:0', 'tf_bert_model_10/bert/encoder/layer_._7/intermediate/dense/bias:0', 'tf_bert_model_10/bert/encoder/layer_._7/output/dense/kernel:0', 'tf_bert_model_10/bert/encoder/layer_._7/output/dense/bias:0', 'tf_bert_model_10/bert/encoder/layer_._7/output/LayerNorm/gamma:0', 'tf_bert_model_10/bert/encoder/layer_._7/output/LayerNorm/beta:0', 'tf_bert_model_10/bert/encoder/layer_._8/attention/self/query/kernel:0', 'tf_bert_model_10/bert/encoder/layer_._8/attention/self/query/bias:0', 'tf_bert_model_10/bert/encoder/layer_._8/attention/self/key/kernel:0', 'tf_bert_model_10/bert/encoder/layer_._8/attention/self/key/bias:0', 'tf_bert_model_10/bert/encoder/layer_._8/attention/self/value/kernel:0', 'tf_bert_model_10/bert/encoder/layer_._8/attention/self/value/bias:0', 'tf_bert_model_10/bert/encoder/layer_._8/attention/output/dense/kernel:0', 'tf_bert_model_10/bert/encoder/layer_._8/attention/output/dense/bias:0', 'tf_bert_model_10/bert/encoder/layer_._8/attention/output/LayerNorm/gamma:0', 'tf_bert_model_10/bert/encoder/layer_._8/attention/output/LayerNorm/beta:0', 'tf_bert_model_10/bert/encoder/layer_._8/intermediate/dense/kernel:0', 'tf_bert_model_10/bert/encoder/layer_._8/intermediate/dense/bias:0', 'tf_bert_model_10/bert/encoder/layer_._8/output/dense/kernel:0', 'tf_bert_model_10/bert/encoder/layer_._8/output/dense/bias:0', 'tf_bert_model_10/bert/encoder/layer_._8/output/LayerNorm/gamma:0', 'tf_bert_model_10/bert/encoder/layer_._8/output/LayerNorm/beta:0', 'tf_bert_model_10/bert/encoder/layer_._9/attention/self/query/kernel:0', 'tf_bert_model_10/bert/encoder/layer_._9/attention/self/query/bias:0', 'tf_bert_model_10/bert/encoder/layer_._9/attention/self/key/kernel:0', 'tf_bert_model_10/bert/encoder/layer_._9/attention/self/key/bias:0', 'tf_bert_model_10/bert/encoder/layer_._9/attention/self/value/kernel:0', 'tf_bert_model_10/bert/encoder/layer_._9/attention/self/value/bias:0', 'tf_bert_model_10/bert/encoder/layer_._9/attention/output/dense/kernel:0', 'tf_bert_model_10/bert/encoder/layer_._9/attention/output/dense/bias:0', 'tf_bert_model_10/bert/encoder/layer_._9/attention/output/LayerNorm/gamma:0', 'tf_bert_model_10/bert/encoder/layer_._9/attention/output/LayerNorm/beta:0', 'tf_bert_model_10/bert/encoder/layer_._9/intermediate/dense/kernel:0', 'tf_bert_model_10/bert/encoder/layer_._9/intermediate/dense/bias:0', 'tf_bert_model_10/bert/encoder/layer_._9/output/dense/kernel:0', 'tf_bert_model_10/bert/encoder/layer_._9/output/dense/bias:0', 'tf_bert_model_10/bert/encoder/layer_._9/output/LayerNorm/gamma:0', 'tf_bert_model_10/bert/encoder/layer_._9/output/LayerNorm/beta:0', 'tf_bert_model_10/bert/encoder/layer_._10/attention/self/query/kernel:0', 'tf_bert_model_10/bert/encoder/layer_._10/attention/self/query/bias:0', 'tf_bert_model_10/bert/encoder/layer_._10/attention/self/key/kernel:0', 'tf_bert_model_10/bert/encoder/layer_._10/attention/self/key/bias:0', 'tf_bert_model_10/bert/encoder/layer_._10/attention/self/value/kernel:0', 'tf_bert_model_10/bert/encoder/layer_._10/attention/self/value/bias:0', 'tf_bert_model_10/bert/encoder/layer_._10/attention/output/dense/kernel:0', 'tf_bert_model_10/bert/encoder/layer_._10/attention/output/dense/bias:0', 'tf_bert_model_10/bert/encoder/layer_._10/attention/output/LayerNorm/gamma:0', 'tf_bert_model_10/bert/encoder/layer_._10/attention/output/LayerNorm/beta:0', 'tf_bert_model_10/bert/encoder/layer_._10/intermediate/dense/kernel:0', 'tf_bert_model_10/bert/encoder/layer_._10/intermediate/dense/bias:0', 'tf_bert_model_10/bert/encoder/layer_._10/output/dense/kernel:0', 'tf_bert_model_10/bert/encoder/layer_._10/output/dense/bias:0', 'tf_bert_model_10/bert/encoder/layer_._10/output/LayerNorm/gamma:0', 'tf_bert_model_10/bert/encoder/layer_._10/output/LayerNorm/beta:0', 'tf_bert_model_10/bert/pooler/dense/kernel:0', 'tf_bert_model_10/bert/pooler/dense/bias:0'] when minimizing the loss. If you're using `model.compile()`, did you forget to provide a `loss`argument?\n",
            "WARNING:tensorflow:Gradients do not exist for variables ['tf_bert_model_10/bert/embeddings/word_embeddings/weight:0', 'tf_bert_model_10/bert/embeddings/token_type_embeddings/embeddings:0', 'tf_bert_model_10/bert/embeddings/position_embeddings/embeddings:0', 'tf_bert_model_10/bert/embeddings/LayerNorm/gamma:0', 'tf_bert_model_10/bert/embeddings/LayerNorm/beta:0', 'tf_bert_model_10/bert/encoder/layer_._0/attention/self/query/kernel:0', 'tf_bert_model_10/bert/encoder/layer_._0/attention/self/query/bias:0', 'tf_bert_model_10/bert/encoder/layer_._0/attention/self/key/kernel:0', 'tf_bert_model_10/bert/encoder/layer_._0/attention/self/key/bias:0', 'tf_bert_model_10/bert/encoder/layer_._0/attention/self/value/kernel:0', 'tf_bert_model_10/bert/encoder/layer_._0/attention/self/value/bias:0', 'tf_bert_model_10/bert/encoder/layer_._0/attention/output/dense/kernel:0', 'tf_bert_model_10/bert/encoder/layer_._0/attention/output/dense/bias:0', 'tf_bert_model_10/bert/encoder/layer_._0/attention/output/LayerNorm/gamma:0', 'tf_bert_model_10/bert/encoder/layer_._0/attention/output/LayerNorm/beta:0', 'tf_bert_model_10/bert/encoder/layer_._0/intermediate/dense/kernel:0', 'tf_bert_model_10/bert/encoder/layer_._0/intermediate/dense/bias:0', 'tf_bert_model_10/bert/encoder/layer_._0/output/dense/kernel:0', 'tf_bert_model_10/bert/encoder/layer_._0/output/dense/bias:0', 'tf_bert_model_10/bert/encoder/layer_._0/output/LayerNorm/gamma:0', 'tf_bert_model_10/bert/encoder/layer_._0/output/LayerNorm/beta:0', 'tf_bert_model_10/bert/encoder/layer_._1/attention/self/query/kernel:0', 'tf_bert_model_10/bert/encoder/layer_._1/attention/self/query/bias:0', 'tf_bert_model_10/bert/encoder/layer_._1/attention/self/key/kernel:0', 'tf_bert_model_10/bert/encoder/layer_._1/attention/self/key/bias:0', 'tf_bert_model_10/bert/encoder/layer_._1/attention/self/value/kernel:0', 'tf_bert_model_10/bert/encoder/layer_._1/attention/self/value/bias:0', 'tf_bert_model_10/bert/encoder/layer_._1/attention/output/dense/kernel:0', 'tf_bert_model_10/bert/encoder/layer_._1/attention/output/dense/bias:0', 'tf_bert_model_10/bert/encoder/layer_._1/attention/output/LayerNorm/gamma:0', 'tf_bert_model_10/bert/encoder/layer_._1/attention/output/LayerNorm/beta:0', 'tf_bert_model_10/bert/encoder/layer_._1/intermediate/dense/kernel:0', 'tf_bert_model_10/bert/encoder/layer_._1/intermediate/dense/bias:0', 'tf_bert_model_10/bert/encoder/layer_._1/output/dense/kernel:0', 'tf_bert_model_10/bert/encoder/layer_._1/output/dense/bias:0', 'tf_bert_model_10/bert/encoder/layer_._1/output/LayerNorm/gamma:0', 'tf_bert_model_10/bert/encoder/layer_._1/output/LayerNorm/beta:0', 'tf_bert_model_10/bert/encoder/layer_._2/attention/self/query/kernel:0', 'tf_bert_model_10/bert/encoder/layer_._2/attention/self/query/bias:0', 'tf_bert_model_10/bert/encoder/layer_._2/attention/self/key/kernel:0', 'tf_bert_model_10/bert/encoder/layer_._2/attention/self/key/bias:0', 'tf_bert_model_10/bert/encoder/layer_._2/attention/self/value/kernel:0', 'tf_bert_model_10/bert/encoder/layer_._2/attention/self/value/bias:0', 'tf_bert_model_10/bert/encoder/layer_._2/attention/output/dense/kernel:0', 'tf_bert_model_10/bert/encoder/layer_._2/attention/output/dense/bias:0', 'tf_bert_model_10/bert/encoder/layer_._2/attention/output/LayerNorm/gamma:0', 'tf_bert_model_10/bert/encoder/layer_._2/attention/output/LayerNorm/beta:0', 'tf_bert_model_10/bert/encoder/layer_._2/intermediate/dense/kernel:0', 'tf_bert_model_10/bert/encoder/layer_._2/intermediate/dense/bias:0', 'tf_bert_model_10/bert/encoder/layer_._2/output/dense/kernel:0', 'tf_bert_model_10/bert/encoder/layer_._2/output/dense/bias:0', 'tf_bert_model_10/bert/encoder/layer_._2/output/LayerNorm/gamma:0', 'tf_bert_model_10/bert/encoder/layer_._2/output/LayerNorm/beta:0', 'tf_bert_model_10/bert/encoder/layer_._3/attention/self/query/kernel:0', 'tf_bert_model_10/bert/encoder/layer_._3/attention/self/query/bias:0', 'tf_bert_model_10/bert/encoder/layer_._3/attention/self/key/kernel:0', 'tf_bert_model_10/bert/encoder/layer_._3/attention/self/key/bias:0', 'tf_bert_model_10/bert/encoder/layer_._3/attention/self/value/kernel:0', 'tf_bert_model_10/bert/encoder/layer_._3/attention/self/value/bias:0', 'tf_bert_model_10/bert/encoder/layer_._3/attention/output/dense/kernel:0', 'tf_bert_model_10/bert/encoder/layer_._3/attention/output/dense/bias:0', 'tf_bert_model_10/bert/encoder/layer_._3/attention/output/LayerNorm/gamma:0', 'tf_bert_model_10/bert/encoder/layer_._3/attention/output/LayerNorm/beta:0', 'tf_bert_model_10/bert/encoder/layer_._3/intermediate/dense/kernel:0', 'tf_bert_model_10/bert/encoder/layer_._3/intermediate/dense/bias:0', 'tf_bert_model_10/bert/encoder/layer_._3/output/dense/kernel:0', 'tf_bert_model_10/bert/encoder/layer_._3/output/dense/bias:0', 'tf_bert_model_10/bert/encoder/layer_._3/output/LayerNorm/gamma:0', 'tf_bert_model_10/bert/encoder/layer_._3/output/LayerNorm/beta:0', 'tf_bert_model_10/bert/encoder/layer_._4/attention/self/query/kernel:0', 'tf_bert_model_10/bert/encoder/layer_._4/attention/self/query/bias:0', 'tf_bert_model_10/bert/encoder/layer_._4/attention/self/key/kernel:0', 'tf_bert_model_10/bert/encoder/layer_._4/attention/self/key/bias:0', 'tf_bert_model_10/bert/encoder/layer_._4/attention/self/value/kernel:0', 'tf_bert_model_10/bert/encoder/layer_._4/attention/self/value/bias:0', 'tf_bert_model_10/bert/encoder/layer_._4/attention/output/dense/kernel:0', 'tf_bert_model_10/bert/encoder/layer_._4/attention/output/dense/bias:0', 'tf_bert_model_10/bert/encoder/layer_._4/attention/output/LayerNorm/gamma:0', 'tf_bert_model_10/bert/encoder/layer_._4/attention/output/LayerNorm/beta:0', 'tf_bert_model_10/bert/encoder/layer_._4/intermediate/dense/kernel:0', 'tf_bert_model_10/bert/encoder/layer_._4/intermediate/dense/bias:0', 'tf_bert_model_10/bert/encoder/layer_._4/output/dense/kernel:0', 'tf_bert_model_10/bert/encoder/layer_._4/output/dense/bias:0', 'tf_bert_model_10/bert/encoder/layer_._4/output/LayerNorm/gamma:0', 'tf_bert_model_10/bert/encoder/layer_._4/output/LayerNorm/beta:0', 'tf_bert_model_10/bert/encoder/layer_._5/attention/self/query/kernel:0', 'tf_bert_model_10/bert/encoder/layer_._5/attention/self/query/bias:0', 'tf_bert_model_10/bert/encoder/layer_._5/attention/self/key/kernel:0', 'tf_bert_model_10/bert/encoder/layer_._5/attention/self/key/bias:0', 'tf_bert_model_10/bert/encoder/layer_._5/attention/self/value/kernel:0', 'tf_bert_model_10/bert/encoder/layer_._5/attention/self/value/bias:0', 'tf_bert_model_10/bert/encoder/layer_._5/attention/output/dense/kernel:0', 'tf_bert_model_10/bert/encoder/layer_._5/attention/output/dense/bias:0', 'tf_bert_model_10/bert/encoder/layer_._5/attention/output/LayerNorm/gamma:0', 'tf_bert_model_10/bert/encoder/layer_._5/attention/output/LayerNorm/beta:0', 'tf_bert_model_10/bert/encoder/layer_._5/intermediate/dense/kernel:0', 'tf_bert_model_10/bert/encoder/layer_._5/intermediate/dense/bias:0', 'tf_bert_model_10/bert/encoder/layer_._5/output/dense/kernel:0', 'tf_bert_model_10/bert/encoder/layer_._5/output/dense/bias:0', 'tf_bert_model_10/bert/encoder/layer_._5/output/LayerNorm/gamma:0', 'tf_bert_model_10/bert/encoder/layer_._5/output/LayerNorm/beta:0', 'tf_bert_model_10/bert/encoder/layer_._6/attention/self/query/kernel:0', 'tf_bert_model_10/bert/encoder/layer_._6/attention/self/query/bias:0', 'tf_bert_model_10/bert/encoder/layer_._6/attention/self/key/kernel:0', 'tf_bert_model_10/bert/encoder/layer_._6/attention/self/key/bias:0', 'tf_bert_model_10/bert/encoder/layer_._6/attention/self/value/kernel:0', 'tf_bert_model_10/bert/encoder/layer_._6/attention/self/value/bias:0', 'tf_bert_model_10/bert/encoder/layer_._6/attention/output/dense/kernel:0', 'tf_bert_model_10/bert/encoder/layer_._6/attention/output/dense/bias:0', 'tf_bert_model_10/bert/encoder/layer_._6/attention/output/LayerNorm/gamma:0', 'tf_bert_model_10/bert/encoder/layer_._6/attention/output/LayerNorm/beta:0', 'tf_bert_model_10/bert/encoder/layer_._6/intermediate/dense/kernel:0', 'tf_bert_model_10/bert/encoder/layer_._6/intermediate/dense/bias:0', 'tf_bert_model_10/bert/encoder/layer_._6/output/dense/kernel:0', 'tf_bert_model_10/bert/encoder/layer_._6/output/dense/bias:0', 'tf_bert_model_10/bert/encoder/layer_._6/output/LayerNorm/gamma:0', 'tf_bert_model_10/bert/encoder/layer_._6/output/LayerNorm/beta:0', 'tf_bert_model_10/bert/encoder/layer_._7/attention/self/query/kernel:0', 'tf_bert_model_10/bert/encoder/layer_._7/attention/self/query/bias:0', 'tf_bert_model_10/bert/encoder/layer_._7/attention/self/key/kernel:0', 'tf_bert_model_10/bert/encoder/layer_._7/attention/self/key/bias:0', 'tf_bert_model_10/bert/encoder/layer_._7/attention/self/value/kernel:0', 'tf_bert_model_10/bert/encoder/layer_._7/attention/self/value/bias:0', 'tf_bert_model_10/bert/encoder/layer_._7/attention/output/dense/kernel:0', 'tf_bert_model_10/bert/encoder/layer_._7/attention/output/dense/bias:0', 'tf_bert_model_10/bert/encoder/layer_._7/attention/output/LayerNorm/gamma:0', 'tf_bert_model_10/bert/encoder/layer_._7/attention/output/LayerNorm/beta:0', 'tf_bert_model_10/bert/encoder/layer_._7/intermediate/dense/kernel:0', 'tf_bert_model_10/bert/encoder/layer_._7/intermediate/dense/bias:0', 'tf_bert_model_10/bert/encoder/layer_._7/output/dense/kernel:0', 'tf_bert_model_10/bert/encoder/layer_._7/output/dense/bias:0', 'tf_bert_model_10/bert/encoder/layer_._7/output/LayerNorm/gamma:0', 'tf_bert_model_10/bert/encoder/layer_._7/output/LayerNorm/beta:0', 'tf_bert_model_10/bert/encoder/layer_._8/attention/self/query/kernel:0', 'tf_bert_model_10/bert/encoder/layer_._8/attention/self/query/bias:0', 'tf_bert_model_10/bert/encoder/layer_._8/attention/self/key/kernel:0', 'tf_bert_model_10/bert/encoder/layer_._8/attention/self/key/bias:0', 'tf_bert_model_10/bert/encoder/layer_._8/attention/self/value/kernel:0', 'tf_bert_model_10/bert/encoder/layer_._8/attention/self/value/bias:0', 'tf_bert_model_10/bert/encoder/layer_._8/attention/output/dense/kernel:0', 'tf_bert_model_10/bert/encoder/layer_._8/attention/output/dense/bias:0', 'tf_bert_model_10/bert/encoder/layer_._8/attention/output/LayerNorm/gamma:0', 'tf_bert_model_10/bert/encoder/layer_._8/attention/output/LayerNorm/beta:0', 'tf_bert_model_10/bert/encoder/layer_._8/intermediate/dense/kernel:0', 'tf_bert_model_10/bert/encoder/layer_._8/intermediate/dense/bias:0', 'tf_bert_model_10/bert/encoder/layer_._8/output/dense/kernel:0', 'tf_bert_model_10/bert/encoder/layer_._8/output/dense/bias:0', 'tf_bert_model_10/bert/encoder/layer_._8/output/LayerNorm/gamma:0', 'tf_bert_model_10/bert/encoder/layer_._8/output/LayerNorm/beta:0', 'tf_bert_model_10/bert/encoder/layer_._9/attention/self/query/kernel:0', 'tf_bert_model_10/bert/encoder/layer_._9/attention/self/query/bias:0', 'tf_bert_model_10/bert/encoder/layer_._9/attention/self/key/kernel:0', 'tf_bert_model_10/bert/encoder/layer_._9/attention/self/key/bias:0', 'tf_bert_model_10/bert/encoder/layer_._9/attention/self/value/kernel:0', 'tf_bert_model_10/bert/encoder/layer_._9/attention/self/value/bias:0', 'tf_bert_model_10/bert/encoder/layer_._9/attention/output/dense/kernel:0', 'tf_bert_model_10/bert/encoder/layer_._9/attention/output/dense/bias:0', 'tf_bert_model_10/bert/encoder/layer_._9/attention/output/LayerNorm/gamma:0', 'tf_bert_model_10/bert/encoder/layer_._9/attention/output/LayerNorm/beta:0', 'tf_bert_model_10/bert/encoder/layer_._9/intermediate/dense/kernel:0', 'tf_bert_model_10/bert/encoder/layer_._9/intermediate/dense/bias:0', 'tf_bert_model_10/bert/encoder/layer_._9/output/dense/kernel:0', 'tf_bert_model_10/bert/encoder/layer_._9/output/dense/bias:0', 'tf_bert_model_10/bert/encoder/layer_._9/output/LayerNorm/gamma:0', 'tf_bert_model_10/bert/encoder/layer_._9/output/LayerNorm/beta:0', 'tf_bert_model_10/bert/encoder/layer_._10/attention/self/query/kernel:0', 'tf_bert_model_10/bert/encoder/layer_._10/attention/self/query/bias:0', 'tf_bert_model_10/bert/encoder/layer_._10/attention/self/key/kernel:0', 'tf_bert_model_10/bert/encoder/layer_._10/attention/self/key/bias:0', 'tf_bert_model_10/bert/encoder/layer_._10/attention/self/value/kernel:0', 'tf_bert_model_10/bert/encoder/layer_._10/attention/self/value/bias:0', 'tf_bert_model_10/bert/encoder/layer_._10/attention/output/dense/kernel:0', 'tf_bert_model_10/bert/encoder/layer_._10/attention/output/dense/bias:0', 'tf_bert_model_10/bert/encoder/layer_._10/attention/output/LayerNorm/gamma:0', 'tf_bert_model_10/bert/encoder/layer_._10/attention/output/LayerNorm/beta:0', 'tf_bert_model_10/bert/encoder/layer_._10/intermediate/dense/kernel:0', 'tf_bert_model_10/bert/encoder/layer_._10/intermediate/dense/bias:0', 'tf_bert_model_10/bert/encoder/layer_._10/output/dense/kernel:0', 'tf_bert_model_10/bert/encoder/layer_._10/output/dense/bias:0', 'tf_bert_model_10/bert/encoder/layer_._10/output/LayerNorm/gamma:0', 'tf_bert_model_10/bert/encoder/layer_._10/output/LayerNorm/beta:0', 'tf_bert_model_10/bert/pooler/dense/kernel:0', 'tf_bert_model_10/bert/pooler/dense/bias:0'] when minimizing the loss. If you're using `model.compile()`, did you forget to provide a `loss`argument?\n",
            "611/611 [==============================] - 47s 66ms/step - loss: 0.1003 - accuracy: 0.9658 - val_loss: 0.0483 - val_accuracy: 0.9861\n",
            "Epoch 2/3\n",
            "611/611 [==============================] - 37s 60ms/step - loss: 0.0462 - accuracy: 0.9857 - val_loss: 0.0667 - val_accuracy: 0.9853\n",
            "Epoch 3/3\n",
            "611/611 [==============================] - 36s 60ms/step - loss: 0.0243 - accuracy: 0.9920 - val_loss: 0.0592 - val_accuracy: 0.9894\n"
          ]
        }
      ]
    },
    {
      "cell_type": "code",
      "source": [
        "predict_labels = cnn_bert_model.predict([x_train.input_ids, x_train.token_type_ids, x_train.attention_mask])\n",
        "train_y_predict = predict_labels.round(0)\n",
        "test_predict_labels = cnn_bert_model.predict([x_test.input_ids, x_test.token_type_ids, x_test.attention_mask])\n",
        "test_y_predict = test_predict_labels.round(0)\n",
        "\n",
        "print_metrics('BERT + CNN, train data: ', np.array(train_y, int), train_y_predict)\n",
        "print_metrics('BERT + CNN, test data: ', np.array(test_y, int), test_y_predict)"
      ],
      "metadata": {
        "id": "sVf6Q3ZBUGSJ",
        "colab": {
          "base_uri": "https://localhost:8080/"
        },
        "outputId": "dbdc5d56-3e0b-473f-fbe4-10eb3ef3659a"
      },
      "execution_count": null,
      "outputs": [
        {
          "output_type": "stream",
          "name": "stdout",
          "text": [
            "BERT + CNN, train data: : accuracy = 0.9984, precision = 0.9941, recall = 0.9980, f1 = 0.9961\n",
            "BERT + CNN, test data: : accuracy = 0.9894, precision = 0.9735, recall = 0.9772, f1 = 0.9753\n"
          ]
        }
      ]
    },
    {
      "cell_type": "code",
      "source": [
        ""
      ],
      "metadata": {
        "id": "HdBV-7BtXLbO"
      },
      "execution_count": null,
      "outputs": []
    },
    {
      "cell_type": "markdown",
      "source": [
        "#### Cross-validation"
      ],
      "metadata": {
        "id": "_suEHlIKjKat"
      }
    },
    {
      "cell_type": "code",
      "source": [
        "len(train_X)"
      ],
      "metadata": {
        "id": "R8k87gioltGR",
        "colab": {
          "base_uri": "https://localhost:8080/"
        },
        "outputId": "352aff18-c62f-4870-eb54-2a1c4e4d8fb8"
      },
      "execution_count": null,
      "outputs": [
        {
          "output_type": "execute_result",
          "data": {
            "text/plain": [
              "4885"
            ]
          },
          "metadata": {},
          "execution_count": 166
        }
      ]
    },
    {
      "cell_type": "code",
      "source": [
        "len(train_X[:977])\n",
        "len(train_X[977:1954])\n",
        "len(train_X[1954:2931])\n",
        "len(train_X[2931:3908])\n",
        "len(train_X[3908:4885])"
      ],
      "metadata": {
        "id": "ySIcuBlBk4jN",
        "colab": {
          "base_uri": "https://localhost:8080/"
        },
        "outputId": "9f9b4255-2370-4350-c5fb-d32ac66eca6c"
      },
      "execution_count": null,
      "outputs": [
        {
          "output_type": "execute_result",
          "data": {
            "text/plain": [
              "977"
            ]
          },
          "metadata": {},
          "execution_count": 167
        }
      ]
    },
    {
      "cell_type": "code",
      "source": [
        "# first fold\n",
        "len(train_X[977:4885]) + len(train_X[:977])"
      ],
      "metadata": {
        "id": "QdRE1Ot2mer5",
        "colab": {
          "base_uri": "https://localhost:8080/"
        },
        "outputId": "ff1e80d6-8436-4455-9fef-628123eaf98e"
      },
      "execution_count": null,
      "outputs": [
        {
          "output_type": "execute_result",
          "data": {
            "text/plain": [
              "4885"
            ]
          },
          "metadata": {},
          "execution_count": 168
        }
      ]
    },
    {
      "cell_type": "code",
      "source": [
        "# cross_val = 5\n",
        "# FOLD_SIZE = 977\n",
        "# for i in range(cross_val):\n",
        "#   test_1 = train_X.iloc[np.r_[0:FOLD_SIZE*i,FOLD_SIZE*(i+1):FOLD_SIZE*5]]\n",
        "#   test_2 = train_X[FOLD_SIZE*i:FOLD_SIZE*(i+1)]\n"
      ],
      "metadata": {
        "id": "0vdErCr6xAgq"
      },
      "execution_count": null,
      "outputs": []
    },
    {
      "cell_type": "code",
      "source": [
        "CROSS_VAL = 5\n",
        "FOLD_SIZE = 977\n",
        "\n",
        "for i in range(CROSS_VAL):\n",
        "  max_length = 100\n",
        "  #max_length = 160                  # set max_length\n",
        "\n",
        "  all_train_examples = list(train_X.iloc[np.r_[0:FOLD_SIZE*i,FOLD_SIZE*(i+1):FOLD_SIZE*5]])\n",
        "  all_val_examples = list(train_X[FOLD_SIZE*i:FOLD_SIZE*(i+1)])\n",
        "  all_test_examples = list(test_X)\n",
        "\n",
        "  x_train = bert_tokenizer(all_train_examples, \n",
        "                max_length=max_length,\n",
        "                truncation=True,\n",
        "                padding='max_length', \n",
        "                return_tensors='tf')\n",
        "\n",
        "  y_train = tf.convert_to_tensor(list(train_y.iloc[np.r_[0:FOLD_SIZE*i,FOLD_SIZE*(i+1):FOLD_SIZE*5]]))\n",
        "\n",
        "  x_test = bert_tokenizer(all_test_examples, \n",
        "                max_length=max_length,\n",
        "                truncation=True,\n",
        "                padding='max_length', \n",
        "                return_tensors='tf')\n",
        "\n",
        "  y_test = tf.convert_to_tensor(list(test_y))\n",
        "\n",
        "  x_val = bert_tokenizer(all_val_examples, \n",
        "                max_length=max_length,\n",
        "                truncation=True,\n",
        "                padding='max_length', \n",
        "                return_tensors='tf')\n",
        "\n",
        "  y_val = tf.convert_to_tensor(list(train_y[FOLD_SIZE*i:FOLD_SIZE*(i+1)]))\n",
        "\n",
        "  # unfreeze layers\n",
        "  pooled_bert_model_unfreeze = create_bert_pooled_model(train_layers=1)\n",
        "\n",
        "  # change to 5 epochs\n",
        "  pooled_bert_model_history = pooled_bert_model_unfreeze.fit([x_train.input_ids, x_train.token_type_ids, x_train.attention_mask], \n",
        "                                                    y_train,   \n",
        "                                                    validation_data=([x_val.input_ids, x_val.token_type_ids, x_val.attention_mask], y_val),    \n",
        "                                                    class_weight = class_weight, \n",
        "                                                    batch_size=8, \n",
        "                                                    epochs=5) \n",
        "\n",
        "  train_predict_labels = pooled_bert_model_unfreeze.predict([x_train.input_ids, x_train.token_type_ids, x_train.attention_mask])\n",
        "  train_y_predict = train_predict_labels.round(0)\n",
        "\n",
        "  val_predict_labels = pooled_bert_model_unfreeze.predict([x_val.input_ids, x_val.token_type_ids, x_val.attention_mask])\n",
        "  val_y_predict = val_predict_labels.round(0)\n",
        "\n",
        "  # train\n",
        "  print_metrics('BERT 5e + FCN, train', np.array(train_y.iloc[np.r_[0:FOLD_SIZE*i,FOLD_SIZE*(i+1):FOLD_SIZE*5]], int), train_y_predict)\n",
        "  # validation\n",
        "  print_metrics('BERT 5e + FCN, validation', np.array(train_y[FOLD_SIZE*i:FOLD_SIZE*(i+1)], int), val_y_predict)"
      ],
      "metadata": {
        "id": "gYyW1APYkiaK",
        "colab": {
          "base_uri": "https://localhost:8080/"
        },
        "outputId": "9fad35f9-d5b1-4783-efd6-048f23f6df7c"
      },
      "execution_count": null,
      "outputs": [
        {
          "output_type": "stream",
          "name": "stderr",
          "text": [
            "Some layers from the model checkpoint at bert-base-cased were not used when initializing TFBertModel: ['nsp___cls', 'mlm___cls']\n",
            "- This IS expected if you are initializing TFBertModel from the checkpoint of a model trained on another task or with another architecture (e.g. initializing a BertForSequenceClassification model from a BertForPreTraining model).\n",
            "- This IS NOT expected if you are initializing TFBertModel from the checkpoint of a model that you expect to be exactly identical (initializing a BertForSequenceClassification model from a BertForSequenceClassification model).\n",
            "All the layers of TFBertModel were initialized from the model checkpoint at bert-base-cased.\n",
            "If your task is similar to the task the model of the checkpoint was trained on, you can already use TFBertModel for predictions without further training.\n"
          ]
        },
        {
          "output_type": "stream",
          "name": "stdout",
          "text": [
            "Epoch 1/5\n",
            "489/489 [==============================] - 69s 105ms/step - loss: 0.1646 - accuracy: 0.9465 - val_loss: 0.1828 - val_accuracy: 0.9468\n",
            "Epoch 2/5\n",
            "489/489 [==============================] - 48s 98ms/step - loss: 0.0838 - accuracy: 0.9811 - val_loss: 0.0482 - val_accuracy: 0.9898\n",
            "Epoch 3/5\n",
            "489/489 [==============================] - 48s 98ms/step - loss: 0.1156 - accuracy: 0.9816 - val_loss: 0.0445 - val_accuracy: 0.9887\n",
            "Epoch 4/5\n",
            "489/489 [==============================] - 48s 98ms/step - loss: 0.1421 - accuracy: 0.9634 - val_loss: 0.1335 - val_accuracy: 0.9744\n",
            "Epoch 5/5\n",
            "489/489 [==============================] - 48s 98ms/step - loss: 0.1399 - accuracy: 0.9846 - val_loss: 0.0961 - val_accuracy: 0.9846\n",
            "BERT 5e + FCN, train: accuracy = 0.9869, precision = 0.9974, recall = 0.9399, f1 = 0.9678\n",
            "BERT 5e + FCN, validation: accuracy = 0.9846, precision = 0.9895, recall = 0.9356, f1 = 0.9618\n"
          ]
        },
        {
          "output_type": "stream",
          "name": "stderr",
          "text": [
            "Some layers from the model checkpoint at bert-base-cased were not used when initializing TFBertModel: ['nsp___cls', 'mlm___cls']\n",
            "- This IS expected if you are initializing TFBertModel from the checkpoint of a model trained on another task or with another architecture (e.g. initializing a BertForSequenceClassification model from a BertForPreTraining model).\n",
            "- This IS NOT expected if you are initializing TFBertModel from the checkpoint of a model that you expect to be exactly identical (initializing a BertForSequenceClassification model from a BertForSequenceClassification model).\n",
            "All the layers of TFBertModel were initialized from the model checkpoint at bert-base-cased.\n",
            "If your task is similar to the task the model of the checkpoint was trained on, you can already use TFBertModel for predictions without further training.\n"
          ]
        },
        {
          "output_type": "stream",
          "name": "stdout",
          "text": [
            "Epoch 1/5\n",
            "WARNING:tensorflow:Gradients do not exist for variables ['tf_bert_model_12/bert/embeddings/word_embeddings/weight:0', 'tf_bert_model_12/bert/embeddings/token_type_embeddings/embeddings:0', 'tf_bert_model_12/bert/embeddings/position_embeddings/embeddings:0', 'tf_bert_model_12/bert/embeddings/LayerNorm/gamma:0', 'tf_bert_model_12/bert/embeddings/LayerNorm/beta:0', 'tf_bert_model_12/bert/encoder/layer_._0/attention/self/query/kernel:0', 'tf_bert_model_12/bert/encoder/layer_._0/attention/self/query/bias:0', 'tf_bert_model_12/bert/encoder/layer_._0/attention/self/key/kernel:0', 'tf_bert_model_12/bert/encoder/layer_._0/attention/self/key/bias:0', 'tf_bert_model_12/bert/encoder/layer_._0/attention/self/value/kernel:0', 'tf_bert_model_12/bert/encoder/layer_._0/attention/self/value/bias:0', 'tf_bert_model_12/bert/encoder/layer_._0/attention/output/dense/kernel:0', 'tf_bert_model_12/bert/encoder/layer_._0/attention/output/dense/bias:0', 'tf_bert_model_12/bert/encoder/layer_._0/attention/output/LayerNorm/gamma:0', 'tf_bert_model_12/bert/encoder/layer_._0/attention/output/LayerNorm/beta:0', 'tf_bert_model_12/bert/encoder/layer_._0/intermediate/dense/kernel:0', 'tf_bert_model_12/bert/encoder/layer_._0/intermediate/dense/bias:0', 'tf_bert_model_12/bert/encoder/layer_._0/output/dense/kernel:0', 'tf_bert_model_12/bert/encoder/layer_._0/output/dense/bias:0', 'tf_bert_model_12/bert/encoder/layer_._0/output/LayerNorm/gamma:0', 'tf_bert_model_12/bert/encoder/layer_._0/output/LayerNorm/beta:0', 'tf_bert_model_12/bert/encoder/layer_._1/attention/self/query/kernel:0', 'tf_bert_model_12/bert/encoder/layer_._1/attention/self/query/bias:0', 'tf_bert_model_12/bert/encoder/layer_._1/attention/self/key/kernel:0', 'tf_bert_model_12/bert/encoder/layer_._1/attention/self/key/bias:0', 'tf_bert_model_12/bert/encoder/layer_._1/attention/self/value/kernel:0', 'tf_bert_model_12/bert/encoder/layer_._1/attention/self/value/bias:0', 'tf_bert_model_12/bert/encoder/layer_._1/attention/output/dense/kernel:0', 'tf_bert_model_12/bert/encoder/layer_._1/attention/output/dense/bias:0', 'tf_bert_model_12/bert/encoder/layer_._1/attention/output/LayerNorm/gamma:0', 'tf_bert_model_12/bert/encoder/layer_._1/attention/output/LayerNorm/beta:0', 'tf_bert_model_12/bert/encoder/layer_._1/intermediate/dense/kernel:0', 'tf_bert_model_12/bert/encoder/layer_._1/intermediate/dense/bias:0', 'tf_bert_model_12/bert/encoder/layer_._1/output/dense/kernel:0', 'tf_bert_model_12/bert/encoder/layer_._1/output/dense/bias:0', 'tf_bert_model_12/bert/encoder/layer_._1/output/LayerNorm/gamma:0', 'tf_bert_model_12/bert/encoder/layer_._1/output/LayerNorm/beta:0', 'tf_bert_model_12/bert/encoder/layer_._2/attention/self/query/kernel:0', 'tf_bert_model_12/bert/encoder/layer_._2/attention/self/query/bias:0', 'tf_bert_model_12/bert/encoder/layer_._2/attention/self/key/kernel:0', 'tf_bert_model_12/bert/encoder/layer_._2/attention/self/key/bias:0', 'tf_bert_model_12/bert/encoder/layer_._2/attention/self/value/kernel:0', 'tf_bert_model_12/bert/encoder/layer_._2/attention/self/value/bias:0', 'tf_bert_model_12/bert/encoder/layer_._2/attention/output/dense/kernel:0', 'tf_bert_model_12/bert/encoder/layer_._2/attention/output/dense/bias:0', 'tf_bert_model_12/bert/encoder/layer_._2/attention/output/LayerNorm/gamma:0', 'tf_bert_model_12/bert/encoder/layer_._2/attention/output/LayerNorm/beta:0', 'tf_bert_model_12/bert/encoder/layer_._2/intermediate/dense/kernel:0', 'tf_bert_model_12/bert/encoder/layer_._2/intermediate/dense/bias:0', 'tf_bert_model_12/bert/encoder/layer_._2/output/dense/kernel:0', 'tf_bert_model_12/bert/encoder/layer_._2/output/dense/bias:0', 'tf_bert_model_12/bert/encoder/layer_._2/output/LayerNorm/gamma:0', 'tf_bert_model_12/bert/encoder/layer_._2/output/LayerNorm/beta:0', 'tf_bert_model_12/bert/encoder/layer_._3/attention/self/query/kernel:0', 'tf_bert_model_12/bert/encoder/layer_._3/attention/self/query/bias:0', 'tf_bert_model_12/bert/encoder/layer_._3/attention/self/key/kernel:0', 'tf_bert_model_12/bert/encoder/layer_._3/attention/self/key/bias:0', 'tf_bert_model_12/bert/encoder/layer_._3/attention/self/value/kernel:0', 'tf_bert_model_12/bert/encoder/layer_._3/attention/self/value/bias:0', 'tf_bert_model_12/bert/encoder/layer_._3/attention/output/dense/kernel:0', 'tf_bert_model_12/bert/encoder/layer_._3/attention/output/dense/bias:0', 'tf_bert_model_12/bert/encoder/layer_._3/attention/output/LayerNorm/gamma:0', 'tf_bert_model_12/bert/encoder/layer_._3/attention/output/LayerNorm/beta:0', 'tf_bert_model_12/bert/encoder/layer_._3/intermediate/dense/kernel:0', 'tf_bert_model_12/bert/encoder/layer_._3/intermediate/dense/bias:0', 'tf_bert_model_12/bert/encoder/layer_._3/output/dense/kernel:0', 'tf_bert_model_12/bert/encoder/layer_._3/output/dense/bias:0', 'tf_bert_model_12/bert/encoder/layer_._3/output/LayerNorm/gamma:0', 'tf_bert_model_12/bert/encoder/layer_._3/output/LayerNorm/beta:0', 'tf_bert_model_12/bert/encoder/layer_._4/attention/self/query/kernel:0', 'tf_bert_model_12/bert/encoder/layer_._4/attention/self/query/bias:0', 'tf_bert_model_12/bert/encoder/layer_._4/attention/self/key/kernel:0', 'tf_bert_model_12/bert/encoder/layer_._4/attention/self/key/bias:0', 'tf_bert_model_12/bert/encoder/layer_._4/attention/self/value/kernel:0', 'tf_bert_model_12/bert/encoder/layer_._4/attention/self/value/bias:0', 'tf_bert_model_12/bert/encoder/layer_._4/attention/output/dense/kernel:0', 'tf_bert_model_12/bert/encoder/layer_._4/attention/output/dense/bias:0', 'tf_bert_model_12/bert/encoder/layer_._4/attention/output/LayerNorm/gamma:0', 'tf_bert_model_12/bert/encoder/layer_._4/attention/output/LayerNorm/beta:0', 'tf_bert_model_12/bert/encoder/layer_._4/intermediate/dense/kernel:0', 'tf_bert_model_12/bert/encoder/layer_._4/intermediate/dense/bias:0', 'tf_bert_model_12/bert/encoder/layer_._4/output/dense/kernel:0', 'tf_bert_model_12/bert/encoder/layer_._4/output/dense/bias:0', 'tf_bert_model_12/bert/encoder/layer_._4/output/LayerNorm/gamma:0', 'tf_bert_model_12/bert/encoder/layer_._4/output/LayerNorm/beta:0', 'tf_bert_model_12/bert/encoder/layer_._5/attention/self/query/kernel:0', 'tf_bert_model_12/bert/encoder/layer_._5/attention/self/query/bias:0', 'tf_bert_model_12/bert/encoder/layer_._5/attention/self/key/kernel:0', 'tf_bert_model_12/bert/encoder/layer_._5/attention/self/key/bias:0', 'tf_bert_model_12/bert/encoder/layer_._5/attention/self/value/kernel:0', 'tf_bert_model_12/bert/encoder/layer_._5/attention/self/value/bias:0', 'tf_bert_model_12/bert/encoder/layer_._5/attention/output/dense/kernel:0', 'tf_bert_model_12/bert/encoder/layer_._5/attention/output/dense/bias:0', 'tf_bert_model_12/bert/encoder/layer_._5/attention/output/LayerNorm/gamma:0', 'tf_bert_model_12/bert/encoder/layer_._5/attention/output/LayerNorm/beta:0', 'tf_bert_model_12/bert/encoder/layer_._5/intermediate/dense/kernel:0', 'tf_bert_model_12/bert/encoder/layer_._5/intermediate/dense/bias:0', 'tf_bert_model_12/bert/encoder/layer_._5/output/dense/kernel:0', 'tf_bert_model_12/bert/encoder/layer_._5/output/dense/bias:0', 'tf_bert_model_12/bert/encoder/layer_._5/output/LayerNorm/gamma:0', 'tf_bert_model_12/bert/encoder/layer_._5/output/LayerNorm/beta:0', 'tf_bert_model_12/bert/encoder/layer_._6/attention/self/query/kernel:0', 'tf_bert_model_12/bert/encoder/layer_._6/attention/self/query/bias:0', 'tf_bert_model_12/bert/encoder/layer_._6/attention/self/key/kernel:0', 'tf_bert_model_12/bert/encoder/layer_._6/attention/self/key/bias:0', 'tf_bert_model_12/bert/encoder/layer_._6/attention/self/value/kernel:0', 'tf_bert_model_12/bert/encoder/layer_._6/attention/self/value/bias:0', 'tf_bert_model_12/bert/encoder/layer_._6/attention/output/dense/kernel:0', 'tf_bert_model_12/bert/encoder/layer_._6/attention/output/dense/bias:0', 'tf_bert_model_12/bert/encoder/layer_._6/attention/output/LayerNorm/gamma:0', 'tf_bert_model_12/bert/encoder/layer_._6/attention/output/LayerNorm/beta:0', 'tf_bert_model_12/bert/encoder/layer_._6/intermediate/dense/kernel:0', 'tf_bert_model_12/bert/encoder/layer_._6/intermediate/dense/bias:0', 'tf_bert_model_12/bert/encoder/layer_._6/output/dense/kernel:0', 'tf_bert_model_12/bert/encoder/layer_._6/output/dense/bias:0', 'tf_bert_model_12/bert/encoder/layer_._6/output/LayerNorm/gamma:0', 'tf_bert_model_12/bert/encoder/layer_._6/output/LayerNorm/beta:0', 'tf_bert_model_12/bert/encoder/layer_._7/attention/self/query/kernel:0', 'tf_bert_model_12/bert/encoder/layer_._7/attention/self/query/bias:0', 'tf_bert_model_12/bert/encoder/layer_._7/attention/self/key/kernel:0', 'tf_bert_model_12/bert/encoder/layer_._7/attention/self/key/bias:0', 'tf_bert_model_12/bert/encoder/layer_._7/attention/self/value/kernel:0', 'tf_bert_model_12/bert/encoder/layer_._7/attention/self/value/bias:0', 'tf_bert_model_12/bert/encoder/layer_._7/attention/output/dense/kernel:0', 'tf_bert_model_12/bert/encoder/layer_._7/attention/output/dense/bias:0', 'tf_bert_model_12/bert/encoder/layer_._7/attention/output/LayerNorm/gamma:0', 'tf_bert_model_12/bert/encoder/layer_._7/attention/output/LayerNorm/beta:0', 'tf_bert_model_12/bert/encoder/layer_._7/intermediate/dense/kernel:0', 'tf_bert_model_12/bert/encoder/layer_._7/intermediate/dense/bias:0', 'tf_bert_model_12/bert/encoder/layer_._7/output/dense/kernel:0', 'tf_bert_model_12/bert/encoder/layer_._7/output/dense/bias:0', 'tf_bert_model_12/bert/encoder/layer_._7/output/LayerNorm/gamma:0', 'tf_bert_model_12/bert/encoder/layer_._7/output/LayerNorm/beta:0', 'tf_bert_model_12/bert/encoder/layer_._8/attention/self/query/kernel:0', 'tf_bert_model_12/bert/encoder/layer_._8/attention/self/query/bias:0', 'tf_bert_model_12/bert/encoder/layer_._8/attention/self/key/kernel:0', 'tf_bert_model_12/bert/encoder/layer_._8/attention/self/key/bias:0', 'tf_bert_model_12/bert/encoder/layer_._8/attention/self/value/kernel:0', 'tf_bert_model_12/bert/encoder/layer_._8/attention/self/value/bias:0', 'tf_bert_model_12/bert/encoder/layer_._8/attention/output/dense/kernel:0', 'tf_bert_model_12/bert/encoder/layer_._8/attention/output/dense/bias:0', 'tf_bert_model_12/bert/encoder/layer_._8/attention/output/LayerNorm/gamma:0', 'tf_bert_model_12/bert/encoder/layer_._8/attention/output/LayerNorm/beta:0', 'tf_bert_model_12/bert/encoder/layer_._8/intermediate/dense/kernel:0', 'tf_bert_model_12/bert/encoder/layer_._8/intermediate/dense/bias:0', 'tf_bert_model_12/bert/encoder/layer_._8/output/dense/kernel:0', 'tf_bert_model_12/bert/encoder/layer_._8/output/dense/bias:0', 'tf_bert_model_12/bert/encoder/layer_._8/output/LayerNorm/gamma:0', 'tf_bert_model_12/bert/encoder/layer_._8/output/LayerNorm/beta:0', 'tf_bert_model_12/bert/encoder/layer_._9/attention/self/query/kernel:0', 'tf_bert_model_12/bert/encoder/layer_._9/attention/self/query/bias:0', 'tf_bert_model_12/bert/encoder/layer_._9/attention/self/key/kernel:0', 'tf_bert_model_12/bert/encoder/layer_._9/attention/self/key/bias:0', 'tf_bert_model_12/bert/encoder/layer_._9/attention/self/value/kernel:0', 'tf_bert_model_12/bert/encoder/layer_._9/attention/self/value/bias:0', 'tf_bert_model_12/bert/encoder/layer_._9/attention/output/dense/kernel:0', 'tf_bert_model_12/bert/encoder/layer_._9/attention/output/dense/bias:0', 'tf_bert_model_12/bert/encoder/layer_._9/attention/output/LayerNorm/gamma:0', 'tf_bert_model_12/bert/encoder/layer_._9/attention/output/LayerNorm/beta:0', 'tf_bert_model_12/bert/encoder/layer_._9/intermediate/dense/kernel:0', 'tf_bert_model_12/bert/encoder/layer_._9/intermediate/dense/bias:0', 'tf_bert_model_12/bert/encoder/layer_._9/output/dense/kernel:0', 'tf_bert_model_12/bert/encoder/layer_._9/output/dense/bias:0', 'tf_bert_model_12/bert/encoder/layer_._9/output/LayerNorm/gamma:0', 'tf_bert_model_12/bert/encoder/layer_._9/output/LayerNorm/beta:0', 'tf_bert_model_12/bert/encoder/layer_._10/attention/self/query/kernel:0', 'tf_bert_model_12/bert/encoder/layer_._10/attention/self/query/bias:0', 'tf_bert_model_12/bert/encoder/layer_._10/attention/self/key/kernel:0', 'tf_bert_model_12/bert/encoder/layer_._10/attention/self/key/bias:0', 'tf_bert_model_12/bert/encoder/layer_._10/attention/self/value/kernel:0', 'tf_bert_model_12/bert/encoder/layer_._10/attention/self/value/bias:0', 'tf_bert_model_12/bert/encoder/layer_._10/attention/output/dense/kernel:0', 'tf_bert_model_12/bert/encoder/layer_._10/attention/output/dense/bias:0', 'tf_bert_model_12/bert/encoder/layer_._10/attention/output/LayerNorm/gamma:0', 'tf_bert_model_12/bert/encoder/layer_._10/attention/output/LayerNorm/beta:0', 'tf_bert_model_12/bert/encoder/layer_._10/intermediate/dense/kernel:0', 'tf_bert_model_12/bert/encoder/layer_._10/intermediate/dense/bias:0', 'tf_bert_model_12/bert/encoder/layer_._10/output/dense/kernel:0', 'tf_bert_model_12/bert/encoder/layer_._10/output/dense/bias:0', 'tf_bert_model_12/bert/encoder/layer_._10/output/LayerNorm/gamma:0', 'tf_bert_model_12/bert/encoder/layer_._10/output/LayerNorm/beta:0', 'tf_bert_model_12/bert/pooler/dense/kernel:0', 'tf_bert_model_12/bert/pooler/dense/bias:0'] when minimizing the loss. If you're using `model.compile()`, did you forget to provide a `loss`argument?\n",
            "WARNING:tensorflow:Gradients do not exist for variables ['tf_bert_model_12/bert/embeddings/word_embeddings/weight:0', 'tf_bert_model_12/bert/embeddings/token_type_embeddings/embeddings:0', 'tf_bert_model_12/bert/embeddings/position_embeddings/embeddings:0', 'tf_bert_model_12/bert/embeddings/LayerNorm/gamma:0', 'tf_bert_model_12/bert/embeddings/LayerNorm/beta:0', 'tf_bert_model_12/bert/encoder/layer_._0/attention/self/query/kernel:0', 'tf_bert_model_12/bert/encoder/layer_._0/attention/self/query/bias:0', 'tf_bert_model_12/bert/encoder/layer_._0/attention/self/key/kernel:0', 'tf_bert_model_12/bert/encoder/layer_._0/attention/self/key/bias:0', 'tf_bert_model_12/bert/encoder/layer_._0/attention/self/value/kernel:0', 'tf_bert_model_12/bert/encoder/layer_._0/attention/self/value/bias:0', 'tf_bert_model_12/bert/encoder/layer_._0/attention/output/dense/kernel:0', 'tf_bert_model_12/bert/encoder/layer_._0/attention/output/dense/bias:0', 'tf_bert_model_12/bert/encoder/layer_._0/attention/output/LayerNorm/gamma:0', 'tf_bert_model_12/bert/encoder/layer_._0/attention/output/LayerNorm/beta:0', 'tf_bert_model_12/bert/encoder/layer_._0/intermediate/dense/kernel:0', 'tf_bert_model_12/bert/encoder/layer_._0/intermediate/dense/bias:0', 'tf_bert_model_12/bert/encoder/layer_._0/output/dense/kernel:0', 'tf_bert_model_12/bert/encoder/layer_._0/output/dense/bias:0', 'tf_bert_model_12/bert/encoder/layer_._0/output/LayerNorm/gamma:0', 'tf_bert_model_12/bert/encoder/layer_._0/output/LayerNorm/beta:0', 'tf_bert_model_12/bert/encoder/layer_._1/attention/self/query/kernel:0', 'tf_bert_model_12/bert/encoder/layer_._1/attention/self/query/bias:0', 'tf_bert_model_12/bert/encoder/layer_._1/attention/self/key/kernel:0', 'tf_bert_model_12/bert/encoder/layer_._1/attention/self/key/bias:0', 'tf_bert_model_12/bert/encoder/layer_._1/attention/self/value/kernel:0', 'tf_bert_model_12/bert/encoder/layer_._1/attention/self/value/bias:0', 'tf_bert_model_12/bert/encoder/layer_._1/attention/output/dense/kernel:0', 'tf_bert_model_12/bert/encoder/layer_._1/attention/output/dense/bias:0', 'tf_bert_model_12/bert/encoder/layer_._1/attention/output/LayerNorm/gamma:0', 'tf_bert_model_12/bert/encoder/layer_._1/attention/output/LayerNorm/beta:0', 'tf_bert_model_12/bert/encoder/layer_._1/intermediate/dense/kernel:0', 'tf_bert_model_12/bert/encoder/layer_._1/intermediate/dense/bias:0', 'tf_bert_model_12/bert/encoder/layer_._1/output/dense/kernel:0', 'tf_bert_model_12/bert/encoder/layer_._1/output/dense/bias:0', 'tf_bert_model_12/bert/encoder/layer_._1/output/LayerNorm/gamma:0', 'tf_bert_model_12/bert/encoder/layer_._1/output/LayerNorm/beta:0', 'tf_bert_model_12/bert/encoder/layer_._2/attention/self/query/kernel:0', 'tf_bert_model_12/bert/encoder/layer_._2/attention/self/query/bias:0', 'tf_bert_model_12/bert/encoder/layer_._2/attention/self/key/kernel:0', 'tf_bert_model_12/bert/encoder/layer_._2/attention/self/key/bias:0', 'tf_bert_model_12/bert/encoder/layer_._2/attention/self/value/kernel:0', 'tf_bert_model_12/bert/encoder/layer_._2/attention/self/value/bias:0', 'tf_bert_model_12/bert/encoder/layer_._2/attention/output/dense/kernel:0', 'tf_bert_model_12/bert/encoder/layer_._2/attention/output/dense/bias:0', 'tf_bert_model_12/bert/encoder/layer_._2/attention/output/LayerNorm/gamma:0', 'tf_bert_model_12/bert/encoder/layer_._2/attention/output/LayerNorm/beta:0', 'tf_bert_model_12/bert/encoder/layer_._2/intermediate/dense/kernel:0', 'tf_bert_model_12/bert/encoder/layer_._2/intermediate/dense/bias:0', 'tf_bert_model_12/bert/encoder/layer_._2/output/dense/kernel:0', 'tf_bert_model_12/bert/encoder/layer_._2/output/dense/bias:0', 'tf_bert_model_12/bert/encoder/layer_._2/output/LayerNorm/gamma:0', 'tf_bert_model_12/bert/encoder/layer_._2/output/LayerNorm/beta:0', 'tf_bert_model_12/bert/encoder/layer_._3/attention/self/query/kernel:0', 'tf_bert_model_12/bert/encoder/layer_._3/attention/self/query/bias:0', 'tf_bert_model_12/bert/encoder/layer_._3/attention/self/key/kernel:0', 'tf_bert_model_12/bert/encoder/layer_._3/attention/self/key/bias:0', 'tf_bert_model_12/bert/encoder/layer_._3/attention/self/value/kernel:0', 'tf_bert_model_12/bert/encoder/layer_._3/attention/self/value/bias:0', 'tf_bert_model_12/bert/encoder/layer_._3/attention/output/dense/kernel:0', 'tf_bert_model_12/bert/encoder/layer_._3/attention/output/dense/bias:0', 'tf_bert_model_12/bert/encoder/layer_._3/attention/output/LayerNorm/gamma:0', 'tf_bert_model_12/bert/encoder/layer_._3/attention/output/LayerNorm/beta:0', 'tf_bert_model_12/bert/encoder/layer_._3/intermediate/dense/kernel:0', 'tf_bert_model_12/bert/encoder/layer_._3/intermediate/dense/bias:0', 'tf_bert_model_12/bert/encoder/layer_._3/output/dense/kernel:0', 'tf_bert_model_12/bert/encoder/layer_._3/output/dense/bias:0', 'tf_bert_model_12/bert/encoder/layer_._3/output/LayerNorm/gamma:0', 'tf_bert_model_12/bert/encoder/layer_._3/output/LayerNorm/beta:0', 'tf_bert_model_12/bert/encoder/layer_._4/attention/self/query/kernel:0', 'tf_bert_model_12/bert/encoder/layer_._4/attention/self/query/bias:0', 'tf_bert_model_12/bert/encoder/layer_._4/attention/self/key/kernel:0', 'tf_bert_model_12/bert/encoder/layer_._4/attention/self/key/bias:0', 'tf_bert_model_12/bert/encoder/layer_._4/attention/self/value/kernel:0', 'tf_bert_model_12/bert/encoder/layer_._4/attention/self/value/bias:0', 'tf_bert_model_12/bert/encoder/layer_._4/attention/output/dense/kernel:0', 'tf_bert_model_12/bert/encoder/layer_._4/attention/output/dense/bias:0', 'tf_bert_model_12/bert/encoder/layer_._4/attention/output/LayerNorm/gamma:0', 'tf_bert_model_12/bert/encoder/layer_._4/attention/output/LayerNorm/beta:0', 'tf_bert_model_12/bert/encoder/layer_._4/intermediate/dense/kernel:0', 'tf_bert_model_12/bert/encoder/layer_._4/intermediate/dense/bias:0', 'tf_bert_model_12/bert/encoder/layer_._4/output/dense/kernel:0', 'tf_bert_model_12/bert/encoder/layer_._4/output/dense/bias:0', 'tf_bert_model_12/bert/encoder/layer_._4/output/LayerNorm/gamma:0', 'tf_bert_model_12/bert/encoder/layer_._4/output/LayerNorm/beta:0', 'tf_bert_model_12/bert/encoder/layer_._5/attention/self/query/kernel:0', 'tf_bert_model_12/bert/encoder/layer_._5/attention/self/query/bias:0', 'tf_bert_model_12/bert/encoder/layer_._5/attention/self/key/kernel:0', 'tf_bert_model_12/bert/encoder/layer_._5/attention/self/key/bias:0', 'tf_bert_model_12/bert/encoder/layer_._5/attention/self/value/kernel:0', 'tf_bert_model_12/bert/encoder/layer_._5/attention/self/value/bias:0', 'tf_bert_model_12/bert/encoder/layer_._5/attention/output/dense/kernel:0', 'tf_bert_model_12/bert/encoder/layer_._5/attention/output/dense/bias:0', 'tf_bert_model_12/bert/encoder/layer_._5/attention/output/LayerNorm/gamma:0', 'tf_bert_model_12/bert/encoder/layer_._5/attention/output/LayerNorm/beta:0', 'tf_bert_model_12/bert/encoder/layer_._5/intermediate/dense/kernel:0', 'tf_bert_model_12/bert/encoder/layer_._5/intermediate/dense/bias:0', 'tf_bert_model_12/bert/encoder/layer_._5/output/dense/kernel:0', 'tf_bert_model_12/bert/encoder/layer_._5/output/dense/bias:0', 'tf_bert_model_12/bert/encoder/layer_._5/output/LayerNorm/gamma:0', 'tf_bert_model_12/bert/encoder/layer_._5/output/LayerNorm/beta:0', 'tf_bert_model_12/bert/encoder/layer_._6/attention/self/query/kernel:0', 'tf_bert_model_12/bert/encoder/layer_._6/attention/self/query/bias:0', 'tf_bert_model_12/bert/encoder/layer_._6/attention/self/key/kernel:0', 'tf_bert_model_12/bert/encoder/layer_._6/attention/self/key/bias:0', 'tf_bert_model_12/bert/encoder/layer_._6/attention/self/value/kernel:0', 'tf_bert_model_12/bert/encoder/layer_._6/attention/self/value/bias:0', 'tf_bert_model_12/bert/encoder/layer_._6/attention/output/dense/kernel:0', 'tf_bert_model_12/bert/encoder/layer_._6/attention/output/dense/bias:0', 'tf_bert_model_12/bert/encoder/layer_._6/attention/output/LayerNorm/gamma:0', 'tf_bert_model_12/bert/encoder/layer_._6/attention/output/LayerNorm/beta:0', 'tf_bert_model_12/bert/encoder/layer_._6/intermediate/dense/kernel:0', 'tf_bert_model_12/bert/encoder/layer_._6/intermediate/dense/bias:0', 'tf_bert_model_12/bert/encoder/layer_._6/output/dense/kernel:0', 'tf_bert_model_12/bert/encoder/layer_._6/output/dense/bias:0', 'tf_bert_model_12/bert/encoder/layer_._6/output/LayerNorm/gamma:0', 'tf_bert_model_12/bert/encoder/layer_._6/output/LayerNorm/beta:0', 'tf_bert_model_12/bert/encoder/layer_._7/attention/self/query/kernel:0', 'tf_bert_model_12/bert/encoder/layer_._7/attention/self/query/bias:0', 'tf_bert_model_12/bert/encoder/layer_._7/attention/self/key/kernel:0', 'tf_bert_model_12/bert/encoder/layer_._7/attention/self/key/bias:0', 'tf_bert_model_12/bert/encoder/layer_._7/attention/self/value/kernel:0', 'tf_bert_model_12/bert/encoder/layer_._7/attention/self/value/bias:0', 'tf_bert_model_12/bert/encoder/layer_._7/attention/output/dense/kernel:0', 'tf_bert_model_12/bert/encoder/layer_._7/attention/output/dense/bias:0', 'tf_bert_model_12/bert/encoder/layer_._7/attention/output/LayerNorm/gamma:0', 'tf_bert_model_12/bert/encoder/layer_._7/attention/output/LayerNorm/beta:0', 'tf_bert_model_12/bert/encoder/layer_._7/intermediate/dense/kernel:0', 'tf_bert_model_12/bert/encoder/layer_._7/intermediate/dense/bias:0', 'tf_bert_model_12/bert/encoder/layer_._7/output/dense/kernel:0', 'tf_bert_model_12/bert/encoder/layer_._7/output/dense/bias:0', 'tf_bert_model_12/bert/encoder/layer_._7/output/LayerNorm/gamma:0', 'tf_bert_model_12/bert/encoder/layer_._7/output/LayerNorm/beta:0', 'tf_bert_model_12/bert/encoder/layer_._8/attention/self/query/kernel:0', 'tf_bert_model_12/bert/encoder/layer_._8/attention/self/query/bias:0', 'tf_bert_model_12/bert/encoder/layer_._8/attention/self/key/kernel:0', 'tf_bert_model_12/bert/encoder/layer_._8/attention/self/key/bias:0', 'tf_bert_model_12/bert/encoder/layer_._8/attention/self/value/kernel:0', 'tf_bert_model_12/bert/encoder/layer_._8/attention/self/value/bias:0', 'tf_bert_model_12/bert/encoder/layer_._8/attention/output/dense/kernel:0', 'tf_bert_model_12/bert/encoder/layer_._8/attention/output/dense/bias:0', 'tf_bert_model_12/bert/encoder/layer_._8/attention/output/LayerNorm/gamma:0', 'tf_bert_model_12/bert/encoder/layer_._8/attention/output/LayerNorm/beta:0', 'tf_bert_model_12/bert/encoder/layer_._8/intermediate/dense/kernel:0', 'tf_bert_model_12/bert/encoder/layer_._8/intermediate/dense/bias:0', 'tf_bert_model_12/bert/encoder/layer_._8/output/dense/kernel:0', 'tf_bert_model_12/bert/encoder/layer_._8/output/dense/bias:0', 'tf_bert_model_12/bert/encoder/layer_._8/output/LayerNorm/gamma:0', 'tf_bert_model_12/bert/encoder/layer_._8/output/LayerNorm/beta:0', 'tf_bert_model_12/bert/encoder/layer_._9/attention/self/query/kernel:0', 'tf_bert_model_12/bert/encoder/layer_._9/attention/self/query/bias:0', 'tf_bert_model_12/bert/encoder/layer_._9/attention/self/key/kernel:0', 'tf_bert_model_12/bert/encoder/layer_._9/attention/self/key/bias:0', 'tf_bert_model_12/bert/encoder/layer_._9/attention/self/value/kernel:0', 'tf_bert_model_12/bert/encoder/layer_._9/attention/self/value/bias:0', 'tf_bert_model_12/bert/encoder/layer_._9/attention/output/dense/kernel:0', 'tf_bert_model_12/bert/encoder/layer_._9/attention/output/dense/bias:0', 'tf_bert_model_12/bert/encoder/layer_._9/attention/output/LayerNorm/gamma:0', 'tf_bert_model_12/bert/encoder/layer_._9/attention/output/LayerNorm/beta:0', 'tf_bert_model_12/bert/encoder/layer_._9/intermediate/dense/kernel:0', 'tf_bert_model_12/bert/encoder/layer_._9/intermediate/dense/bias:0', 'tf_bert_model_12/bert/encoder/layer_._9/output/dense/kernel:0', 'tf_bert_model_12/bert/encoder/layer_._9/output/dense/bias:0', 'tf_bert_model_12/bert/encoder/layer_._9/output/LayerNorm/gamma:0', 'tf_bert_model_12/bert/encoder/layer_._9/output/LayerNorm/beta:0', 'tf_bert_model_12/bert/encoder/layer_._10/attention/self/query/kernel:0', 'tf_bert_model_12/bert/encoder/layer_._10/attention/self/query/bias:0', 'tf_bert_model_12/bert/encoder/layer_._10/attention/self/key/kernel:0', 'tf_bert_model_12/bert/encoder/layer_._10/attention/self/key/bias:0', 'tf_bert_model_12/bert/encoder/layer_._10/attention/self/value/kernel:0', 'tf_bert_model_12/bert/encoder/layer_._10/attention/self/value/bias:0', 'tf_bert_model_12/bert/encoder/layer_._10/attention/output/dense/kernel:0', 'tf_bert_model_12/bert/encoder/layer_._10/attention/output/dense/bias:0', 'tf_bert_model_12/bert/encoder/layer_._10/attention/output/LayerNorm/gamma:0', 'tf_bert_model_12/bert/encoder/layer_._10/attention/output/LayerNorm/beta:0', 'tf_bert_model_12/bert/encoder/layer_._10/intermediate/dense/kernel:0', 'tf_bert_model_12/bert/encoder/layer_._10/intermediate/dense/bias:0', 'tf_bert_model_12/bert/encoder/layer_._10/output/dense/kernel:0', 'tf_bert_model_12/bert/encoder/layer_._10/output/dense/bias:0', 'tf_bert_model_12/bert/encoder/layer_._10/output/LayerNorm/gamma:0', 'tf_bert_model_12/bert/encoder/layer_._10/output/LayerNorm/beta:0', 'tf_bert_model_12/bert/pooler/dense/kernel:0', 'tf_bert_model_12/bert/pooler/dense/bias:0'] when minimizing the loss. If you're using `model.compile()`, did you forget to provide a `loss`argument?\n",
            "489/489 [==============================] - 37s 62ms/step - loss: 0.1526 - accuracy: 0.9396 - val_loss: 0.0414 - val_accuracy: 0.9877\n",
            "Epoch 2/5\n",
            "489/489 [==============================] - 28s 57ms/step - loss: 0.0591 - accuracy: 0.9834 - val_loss: 0.0383 - val_accuracy: 0.9846\n",
            "Epoch 3/5\n",
            "489/489 [==============================] - 28s 57ms/step - loss: 0.0325 - accuracy: 0.9903 - val_loss: 0.0305 - val_accuracy: 0.9908\n",
            "Epoch 4/5\n",
            "489/489 [==============================] - 28s 56ms/step - loss: 0.0186 - accuracy: 0.9944 - val_loss: 0.0254 - val_accuracy: 0.9939\n",
            "Epoch 5/5\n",
            "489/489 [==============================] - 28s 56ms/step - loss: 0.0147 - accuracy: 0.9964 - val_loss: 0.0267 - val_accuracy: 0.9949\n",
            "BERT 5e + FCN, train: accuracy = 0.9997, precision = 0.9988, recall = 1.0000, f1 = 0.9994\n",
            "BERT 5e + FCN, validation: accuracy = 0.9949, precision = 0.9901, recall = 0.9852, f1 = 0.9877\n"
          ]
        },
        {
          "output_type": "stream",
          "name": "stderr",
          "text": [
            "Some layers from the model checkpoint at bert-base-cased were not used when initializing TFBertModel: ['nsp___cls', 'mlm___cls']\n",
            "- This IS expected if you are initializing TFBertModel from the checkpoint of a model trained on another task or with another architecture (e.g. initializing a BertForSequenceClassification model from a BertForPreTraining model).\n",
            "- This IS NOT expected if you are initializing TFBertModel from the checkpoint of a model that you expect to be exactly identical (initializing a BertForSequenceClassification model from a BertForSequenceClassification model).\n",
            "All the layers of TFBertModel were initialized from the model checkpoint at bert-base-cased.\n",
            "If your task is similar to the task the model of the checkpoint was trained on, you can already use TFBertModel for predictions without further training.\n"
          ]
        },
        {
          "output_type": "stream",
          "name": "stdout",
          "text": [
            "Epoch 1/5\n",
            "WARNING:tensorflow:Gradients do not exist for variables ['tf_bert_model_13/bert/embeddings/word_embeddings/weight:0', 'tf_bert_model_13/bert/embeddings/token_type_embeddings/embeddings:0', 'tf_bert_model_13/bert/embeddings/position_embeddings/embeddings:0', 'tf_bert_model_13/bert/embeddings/LayerNorm/gamma:0', 'tf_bert_model_13/bert/embeddings/LayerNorm/beta:0', 'tf_bert_model_13/bert/encoder/layer_._0/attention/self/query/kernel:0', 'tf_bert_model_13/bert/encoder/layer_._0/attention/self/query/bias:0', 'tf_bert_model_13/bert/encoder/layer_._0/attention/self/key/kernel:0', 'tf_bert_model_13/bert/encoder/layer_._0/attention/self/key/bias:0', 'tf_bert_model_13/bert/encoder/layer_._0/attention/self/value/kernel:0', 'tf_bert_model_13/bert/encoder/layer_._0/attention/self/value/bias:0', 'tf_bert_model_13/bert/encoder/layer_._0/attention/output/dense/kernel:0', 'tf_bert_model_13/bert/encoder/layer_._0/attention/output/dense/bias:0', 'tf_bert_model_13/bert/encoder/layer_._0/attention/output/LayerNorm/gamma:0', 'tf_bert_model_13/bert/encoder/layer_._0/attention/output/LayerNorm/beta:0', 'tf_bert_model_13/bert/encoder/layer_._0/intermediate/dense/kernel:0', 'tf_bert_model_13/bert/encoder/layer_._0/intermediate/dense/bias:0', 'tf_bert_model_13/bert/encoder/layer_._0/output/dense/kernel:0', 'tf_bert_model_13/bert/encoder/layer_._0/output/dense/bias:0', 'tf_bert_model_13/bert/encoder/layer_._0/output/LayerNorm/gamma:0', 'tf_bert_model_13/bert/encoder/layer_._0/output/LayerNorm/beta:0', 'tf_bert_model_13/bert/encoder/layer_._1/attention/self/query/kernel:0', 'tf_bert_model_13/bert/encoder/layer_._1/attention/self/query/bias:0', 'tf_bert_model_13/bert/encoder/layer_._1/attention/self/key/kernel:0', 'tf_bert_model_13/bert/encoder/layer_._1/attention/self/key/bias:0', 'tf_bert_model_13/bert/encoder/layer_._1/attention/self/value/kernel:0', 'tf_bert_model_13/bert/encoder/layer_._1/attention/self/value/bias:0', 'tf_bert_model_13/bert/encoder/layer_._1/attention/output/dense/kernel:0', 'tf_bert_model_13/bert/encoder/layer_._1/attention/output/dense/bias:0', 'tf_bert_model_13/bert/encoder/layer_._1/attention/output/LayerNorm/gamma:0', 'tf_bert_model_13/bert/encoder/layer_._1/attention/output/LayerNorm/beta:0', 'tf_bert_model_13/bert/encoder/layer_._1/intermediate/dense/kernel:0', 'tf_bert_model_13/bert/encoder/layer_._1/intermediate/dense/bias:0', 'tf_bert_model_13/bert/encoder/layer_._1/output/dense/kernel:0', 'tf_bert_model_13/bert/encoder/layer_._1/output/dense/bias:0', 'tf_bert_model_13/bert/encoder/layer_._1/output/LayerNorm/gamma:0', 'tf_bert_model_13/bert/encoder/layer_._1/output/LayerNorm/beta:0', 'tf_bert_model_13/bert/encoder/layer_._2/attention/self/query/kernel:0', 'tf_bert_model_13/bert/encoder/layer_._2/attention/self/query/bias:0', 'tf_bert_model_13/bert/encoder/layer_._2/attention/self/key/kernel:0', 'tf_bert_model_13/bert/encoder/layer_._2/attention/self/key/bias:0', 'tf_bert_model_13/bert/encoder/layer_._2/attention/self/value/kernel:0', 'tf_bert_model_13/bert/encoder/layer_._2/attention/self/value/bias:0', 'tf_bert_model_13/bert/encoder/layer_._2/attention/output/dense/kernel:0', 'tf_bert_model_13/bert/encoder/layer_._2/attention/output/dense/bias:0', 'tf_bert_model_13/bert/encoder/layer_._2/attention/output/LayerNorm/gamma:0', 'tf_bert_model_13/bert/encoder/layer_._2/attention/output/LayerNorm/beta:0', 'tf_bert_model_13/bert/encoder/layer_._2/intermediate/dense/kernel:0', 'tf_bert_model_13/bert/encoder/layer_._2/intermediate/dense/bias:0', 'tf_bert_model_13/bert/encoder/layer_._2/output/dense/kernel:0', 'tf_bert_model_13/bert/encoder/layer_._2/output/dense/bias:0', 'tf_bert_model_13/bert/encoder/layer_._2/output/LayerNorm/gamma:0', 'tf_bert_model_13/bert/encoder/layer_._2/output/LayerNorm/beta:0', 'tf_bert_model_13/bert/encoder/layer_._3/attention/self/query/kernel:0', 'tf_bert_model_13/bert/encoder/layer_._3/attention/self/query/bias:0', 'tf_bert_model_13/bert/encoder/layer_._3/attention/self/key/kernel:0', 'tf_bert_model_13/bert/encoder/layer_._3/attention/self/key/bias:0', 'tf_bert_model_13/bert/encoder/layer_._3/attention/self/value/kernel:0', 'tf_bert_model_13/bert/encoder/layer_._3/attention/self/value/bias:0', 'tf_bert_model_13/bert/encoder/layer_._3/attention/output/dense/kernel:0', 'tf_bert_model_13/bert/encoder/layer_._3/attention/output/dense/bias:0', 'tf_bert_model_13/bert/encoder/layer_._3/attention/output/LayerNorm/gamma:0', 'tf_bert_model_13/bert/encoder/layer_._3/attention/output/LayerNorm/beta:0', 'tf_bert_model_13/bert/encoder/layer_._3/intermediate/dense/kernel:0', 'tf_bert_model_13/bert/encoder/layer_._3/intermediate/dense/bias:0', 'tf_bert_model_13/bert/encoder/layer_._3/output/dense/kernel:0', 'tf_bert_model_13/bert/encoder/layer_._3/output/dense/bias:0', 'tf_bert_model_13/bert/encoder/layer_._3/output/LayerNorm/gamma:0', 'tf_bert_model_13/bert/encoder/layer_._3/output/LayerNorm/beta:0', 'tf_bert_model_13/bert/encoder/layer_._4/attention/self/query/kernel:0', 'tf_bert_model_13/bert/encoder/layer_._4/attention/self/query/bias:0', 'tf_bert_model_13/bert/encoder/layer_._4/attention/self/key/kernel:0', 'tf_bert_model_13/bert/encoder/layer_._4/attention/self/key/bias:0', 'tf_bert_model_13/bert/encoder/layer_._4/attention/self/value/kernel:0', 'tf_bert_model_13/bert/encoder/layer_._4/attention/self/value/bias:0', 'tf_bert_model_13/bert/encoder/layer_._4/attention/output/dense/kernel:0', 'tf_bert_model_13/bert/encoder/layer_._4/attention/output/dense/bias:0', 'tf_bert_model_13/bert/encoder/layer_._4/attention/output/LayerNorm/gamma:0', 'tf_bert_model_13/bert/encoder/layer_._4/attention/output/LayerNorm/beta:0', 'tf_bert_model_13/bert/encoder/layer_._4/intermediate/dense/kernel:0', 'tf_bert_model_13/bert/encoder/layer_._4/intermediate/dense/bias:0', 'tf_bert_model_13/bert/encoder/layer_._4/output/dense/kernel:0', 'tf_bert_model_13/bert/encoder/layer_._4/output/dense/bias:0', 'tf_bert_model_13/bert/encoder/layer_._4/output/LayerNorm/gamma:0', 'tf_bert_model_13/bert/encoder/layer_._4/output/LayerNorm/beta:0', 'tf_bert_model_13/bert/encoder/layer_._5/attention/self/query/kernel:0', 'tf_bert_model_13/bert/encoder/layer_._5/attention/self/query/bias:0', 'tf_bert_model_13/bert/encoder/layer_._5/attention/self/key/kernel:0', 'tf_bert_model_13/bert/encoder/layer_._5/attention/self/key/bias:0', 'tf_bert_model_13/bert/encoder/layer_._5/attention/self/value/kernel:0', 'tf_bert_model_13/bert/encoder/layer_._5/attention/self/value/bias:0', 'tf_bert_model_13/bert/encoder/layer_._5/attention/output/dense/kernel:0', 'tf_bert_model_13/bert/encoder/layer_._5/attention/output/dense/bias:0', 'tf_bert_model_13/bert/encoder/layer_._5/attention/output/LayerNorm/gamma:0', 'tf_bert_model_13/bert/encoder/layer_._5/attention/output/LayerNorm/beta:0', 'tf_bert_model_13/bert/encoder/layer_._5/intermediate/dense/kernel:0', 'tf_bert_model_13/bert/encoder/layer_._5/intermediate/dense/bias:0', 'tf_bert_model_13/bert/encoder/layer_._5/output/dense/kernel:0', 'tf_bert_model_13/bert/encoder/layer_._5/output/dense/bias:0', 'tf_bert_model_13/bert/encoder/layer_._5/output/LayerNorm/gamma:0', 'tf_bert_model_13/bert/encoder/layer_._5/output/LayerNorm/beta:0', 'tf_bert_model_13/bert/encoder/layer_._6/attention/self/query/kernel:0', 'tf_bert_model_13/bert/encoder/layer_._6/attention/self/query/bias:0', 'tf_bert_model_13/bert/encoder/layer_._6/attention/self/key/kernel:0', 'tf_bert_model_13/bert/encoder/layer_._6/attention/self/key/bias:0', 'tf_bert_model_13/bert/encoder/layer_._6/attention/self/value/kernel:0', 'tf_bert_model_13/bert/encoder/layer_._6/attention/self/value/bias:0', 'tf_bert_model_13/bert/encoder/layer_._6/attention/output/dense/kernel:0', 'tf_bert_model_13/bert/encoder/layer_._6/attention/output/dense/bias:0', 'tf_bert_model_13/bert/encoder/layer_._6/attention/output/LayerNorm/gamma:0', 'tf_bert_model_13/bert/encoder/layer_._6/attention/output/LayerNorm/beta:0', 'tf_bert_model_13/bert/encoder/layer_._6/intermediate/dense/kernel:0', 'tf_bert_model_13/bert/encoder/layer_._6/intermediate/dense/bias:0', 'tf_bert_model_13/bert/encoder/layer_._6/output/dense/kernel:0', 'tf_bert_model_13/bert/encoder/layer_._6/output/dense/bias:0', 'tf_bert_model_13/bert/encoder/layer_._6/output/LayerNorm/gamma:0', 'tf_bert_model_13/bert/encoder/layer_._6/output/LayerNorm/beta:0', 'tf_bert_model_13/bert/encoder/layer_._7/attention/self/query/kernel:0', 'tf_bert_model_13/bert/encoder/layer_._7/attention/self/query/bias:0', 'tf_bert_model_13/bert/encoder/layer_._7/attention/self/key/kernel:0', 'tf_bert_model_13/bert/encoder/layer_._7/attention/self/key/bias:0', 'tf_bert_model_13/bert/encoder/layer_._7/attention/self/value/kernel:0', 'tf_bert_model_13/bert/encoder/layer_._7/attention/self/value/bias:0', 'tf_bert_model_13/bert/encoder/layer_._7/attention/output/dense/kernel:0', 'tf_bert_model_13/bert/encoder/layer_._7/attention/output/dense/bias:0', 'tf_bert_model_13/bert/encoder/layer_._7/attention/output/LayerNorm/gamma:0', 'tf_bert_model_13/bert/encoder/layer_._7/attention/output/LayerNorm/beta:0', 'tf_bert_model_13/bert/encoder/layer_._7/intermediate/dense/kernel:0', 'tf_bert_model_13/bert/encoder/layer_._7/intermediate/dense/bias:0', 'tf_bert_model_13/bert/encoder/layer_._7/output/dense/kernel:0', 'tf_bert_model_13/bert/encoder/layer_._7/output/dense/bias:0', 'tf_bert_model_13/bert/encoder/layer_._7/output/LayerNorm/gamma:0', 'tf_bert_model_13/bert/encoder/layer_._7/output/LayerNorm/beta:0', 'tf_bert_model_13/bert/encoder/layer_._8/attention/self/query/kernel:0', 'tf_bert_model_13/bert/encoder/layer_._8/attention/self/query/bias:0', 'tf_bert_model_13/bert/encoder/layer_._8/attention/self/key/kernel:0', 'tf_bert_model_13/bert/encoder/layer_._8/attention/self/key/bias:0', 'tf_bert_model_13/bert/encoder/layer_._8/attention/self/value/kernel:0', 'tf_bert_model_13/bert/encoder/layer_._8/attention/self/value/bias:0', 'tf_bert_model_13/bert/encoder/layer_._8/attention/output/dense/kernel:0', 'tf_bert_model_13/bert/encoder/layer_._8/attention/output/dense/bias:0', 'tf_bert_model_13/bert/encoder/layer_._8/attention/output/LayerNorm/gamma:0', 'tf_bert_model_13/bert/encoder/layer_._8/attention/output/LayerNorm/beta:0', 'tf_bert_model_13/bert/encoder/layer_._8/intermediate/dense/kernel:0', 'tf_bert_model_13/bert/encoder/layer_._8/intermediate/dense/bias:0', 'tf_bert_model_13/bert/encoder/layer_._8/output/dense/kernel:0', 'tf_bert_model_13/bert/encoder/layer_._8/output/dense/bias:0', 'tf_bert_model_13/bert/encoder/layer_._8/output/LayerNorm/gamma:0', 'tf_bert_model_13/bert/encoder/layer_._8/output/LayerNorm/beta:0', 'tf_bert_model_13/bert/encoder/layer_._9/attention/self/query/kernel:0', 'tf_bert_model_13/bert/encoder/layer_._9/attention/self/query/bias:0', 'tf_bert_model_13/bert/encoder/layer_._9/attention/self/key/kernel:0', 'tf_bert_model_13/bert/encoder/layer_._9/attention/self/key/bias:0', 'tf_bert_model_13/bert/encoder/layer_._9/attention/self/value/kernel:0', 'tf_bert_model_13/bert/encoder/layer_._9/attention/self/value/bias:0', 'tf_bert_model_13/bert/encoder/layer_._9/attention/output/dense/kernel:0', 'tf_bert_model_13/bert/encoder/layer_._9/attention/output/dense/bias:0', 'tf_bert_model_13/bert/encoder/layer_._9/attention/output/LayerNorm/gamma:0', 'tf_bert_model_13/bert/encoder/layer_._9/attention/output/LayerNorm/beta:0', 'tf_bert_model_13/bert/encoder/layer_._9/intermediate/dense/kernel:0', 'tf_bert_model_13/bert/encoder/layer_._9/intermediate/dense/bias:0', 'tf_bert_model_13/bert/encoder/layer_._9/output/dense/kernel:0', 'tf_bert_model_13/bert/encoder/layer_._9/output/dense/bias:0', 'tf_bert_model_13/bert/encoder/layer_._9/output/LayerNorm/gamma:0', 'tf_bert_model_13/bert/encoder/layer_._9/output/LayerNorm/beta:0', 'tf_bert_model_13/bert/encoder/layer_._10/attention/self/query/kernel:0', 'tf_bert_model_13/bert/encoder/layer_._10/attention/self/query/bias:0', 'tf_bert_model_13/bert/encoder/layer_._10/attention/self/key/kernel:0', 'tf_bert_model_13/bert/encoder/layer_._10/attention/self/key/bias:0', 'tf_bert_model_13/bert/encoder/layer_._10/attention/self/value/kernel:0', 'tf_bert_model_13/bert/encoder/layer_._10/attention/self/value/bias:0', 'tf_bert_model_13/bert/encoder/layer_._10/attention/output/dense/kernel:0', 'tf_bert_model_13/bert/encoder/layer_._10/attention/output/dense/bias:0', 'tf_bert_model_13/bert/encoder/layer_._10/attention/output/LayerNorm/gamma:0', 'tf_bert_model_13/bert/encoder/layer_._10/attention/output/LayerNorm/beta:0', 'tf_bert_model_13/bert/encoder/layer_._10/intermediate/dense/kernel:0', 'tf_bert_model_13/bert/encoder/layer_._10/intermediate/dense/bias:0', 'tf_bert_model_13/bert/encoder/layer_._10/output/dense/kernel:0', 'tf_bert_model_13/bert/encoder/layer_._10/output/dense/bias:0', 'tf_bert_model_13/bert/encoder/layer_._10/output/LayerNorm/gamma:0', 'tf_bert_model_13/bert/encoder/layer_._10/output/LayerNorm/beta:0', 'tf_bert_model_13/bert/pooler/dense/kernel:0', 'tf_bert_model_13/bert/pooler/dense/bias:0'] when minimizing the loss. If you're using `model.compile()`, did you forget to provide a `loss`argument?\n",
            "WARNING:tensorflow:Gradients do not exist for variables ['tf_bert_model_13/bert/embeddings/word_embeddings/weight:0', 'tf_bert_model_13/bert/embeddings/token_type_embeddings/embeddings:0', 'tf_bert_model_13/bert/embeddings/position_embeddings/embeddings:0', 'tf_bert_model_13/bert/embeddings/LayerNorm/gamma:0', 'tf_bert_model_13/bert/embeddings/LayerNorm/beta:0', 'tf_bert_model_13/bert/encoder/layer_._0/attention/self/query/kernel:0', 'tf_bert_model_13/bert/encoder/layer_._0/attention/self/query/bias:0', 'tf_bert_model_13/bert/encoder/layer_._0/attention/self/key/kernel:0', 'tf_bert_model_13/bert/encoder/layer_._0/attention/self/key/bias:0', 'tf_bert_model_13/bert/encoder/layer_._0/attention/self/value/kernel:0', 'tf_bert_model_13/bert/encoder/layer_._0/attention/self/value/bias:0', 'tf_bert_model_13/bert/encoder/layer_._0/attention/output/dense/kernel:0', 'tf_bert_model_13/bert/encoder/layer_._0/attention/output/dense/bias:0', 'tf_bert_model_13/bert/encoder/layer_._0/attention/output/LayerNorm/gamma:0', 'tf_bert_model_13/bert/encoder/layer_._0/attention/output/LayerNorm/beta:0', 'tf_bert_model_13/bert/encoder/layer_._0/intermediate/dense/kernel:0', 'tf_bert_model_13/bert/encoder/layer_._0/intermediate/dense/bias:0', 'tf_bert_model_13/bert/encoder/layer_._0/output/dense/kernel:0', 'tf_bert_model_13/bert/encoder/layer_._0/output/dense/bias:0', 'tf_bert_model_13/bert/encoder/layer_._0/output/LayerNorm/gamma:0', 'tf_bert_model_13/bert/encoder/layer_._0/output/LayerNorm/beta:0', 'tf_bert_model_13/bert/encoder/layer_._1/attention/self/query/kernel:0', 'tf_bert_model_13/bert/encoder/layer_._1/attention/self/query/bias:0', 'tf_bert_model_13/bert/encoder/layer_._1/attention/self/key/kernel:0', 'tf_bert_model_13/bert/encoder/layer_._1/attention/self/key/bias:0', 'tf_bert_model_13/bert/encoder/layer_._1/attention/self/value/kernel:0', 'tf_bert_model_13/bert/encoder/layer_._1/attention/self/value/bias:0', 'tf_bert_model_13/bert/encoder/layer_._1/attention/output/dense/kernel:0', 'tf_bert_model_13/bert/encoder/layer_._1/attention/output/dense/bias:0', 'tf_bert_model_13/bert/encoder/layer_._1/attention/output/LayerNorm/gamma:0', 'tf_bert_model_13/bert/encoder/layer_._1/attention/output/LayerNorm/beta:0', 'tf_bert_model_13/bert/encoder/layer_._1/intermediate/dense/kernel:0', 'tf_bert_model_13/bert/encoder/layer_._1/intermediate/dense/bias:0', 'tf_bert_model_13/bert/encoder/layer_._1/output/dense/kernel:0', 'tf_bert_model_13/bert/encoder/layer_._1/output/dense/bias:0', 'tf_bert_model_13/bert/encoder/layer_._1/output/LayerNorm/gamma:0', 'tf_bert_model_13/bert/encoder/layer_._1/output/LayerNorm/beta:0', 'tf_bert_model_13/bert/encoder/layer_._2/attention/self/query/kernel:0', 'tf_bert_model_13/bert/encoder/layer_._2/attention/self/query/bias:0', 'tf_bert_model_13/bert/encoder/layer_._2/attention/self/key/kernel:0', 'tf_bert_model_13/bert/encoder/layer_._2/attention/self/key/bias:0', 'tf_bert_model_13/bert/encoder/layer_._2/attention/self/value/kernel:0', 'tf_bert_model_13/bert/encoder/layer_._2/attention/self/value/bias:0', 'tf_bert_model_13/bert/encoder/layer_._2/attention/output/dense/kernel:0', 'tf_bert_model_13/bert/encoder/layer_._2/attention/output/dense/bias:0', 'tf_bert_model_13/bert/encoder/layer_._2/attention/output/LayerNorm/gamma:0', 'tf_bert_model_13/bert/encoder/layer_._2/attention/output/LayerNorm/beta:0', 'tf_bert_model_13/bert/encoder/layer_._2/intermediate/dense/kernel:0', 'tf_bert_model_13/bert/encoder/layer_._2/intermediate/dense/bias:0', 'tf_bert_model_13/bert/encoder/layer_._2/output/dense/kernel:0', 'tf_bert_model_13/bert/encoder/layer_._2/output/dense/bias:0', 'tf_bert_model_13/bert/encoder/layer_._2/output/LayerNorm/gamma:0', 'tf_bert_model_13/bert/encoder/layer_._2/output/LayerNorm/beta:0', 'tf_bert_model_13/bert/encoder/layer_._3/attention/self/query/kernel:0', 'tf_bert_model_13/bert/encoder/layer_._3/attention/self/query/bias:0', 'tf_bert_model_13/bert/encoder/layer_._3/attention/self/key/kernel:0', 'tf_bert_model_13/bert/encoder/layer_._3/attention/self/key/bias:0', 'tf_bert_model_13/bert/encoder/layer_._3/attention/self/value/kernel:0', 'tf_bert_model_13/bert/encoder/layer_._3/attention/self/value/bias:0', 'tf_bert_model_13/bert/encoder/layer_._3/attention/output/dense/kernel:0', 'tf_bert_model_13/bert/encoder/layer_._3/attention/output/dense/bias:0', 'tf_bert_model_13/bert/encoder/layer_._3/attention/output/LayerNorm/gamma:0', 'tf_bert_model_13/bert/encoder/layer_._3/attention/output/LayerNorm/beta:0', 'tf_bert_model_13/bert/encoder/layer_._3/intermediate/dense/kernel:0', 'tf_bert_model_13/bert/encoder/layer_._3/intermediate/dense/bias:0', 'tf_bert_model_13/bert/encoder/layer_._3/output/dense/kernel:0', 'tf_bert_model_13/bert/encoder/layer_._3/output/dense/bias:0', 'tf_bert_model_13/bert/encoder/layer_._3/output/LayerNorm/gamma:0', 'tf_bert_model_13/bert/encoder/layer_._3/output/LayerNorm/beta:0', 'tf_bert_model_13/bert/encoder/layer_._4/attention/self/query/kernel:0', 'tf_bert_model_13/bert/encoder/layer_._4/attention/self/query/bias:0', 'tf_bert_model_13/bert/encoder/layer_._4/attention/self/key/kernel:0', 'tf_bert_model_13/bert/encoder/layer_._4/attention/self/key/bias:0', 'tf_bert_model_13/bert/encoder/layer_._4/attention/self/value/kernel:0', 'tf_bert_model_13/bert/encoder/layer_._4/attention/self/value/bias:0', 'tf_bert_model_13/bert/encoder/layer_._4/attention/output/dense/kernel:0', 'tf_bert_model_13/bert/encoder/layer_._4/attention/output/dense/bias:0', 'tf_bert_model_13/bert/encoder/layer_._4/attention/output/LayerNorm/gamma:0', 'tf_bert_model_13/bert/encoder/layer_._4/attention/output/LayerNorm/beta:0', 'tf_bert_model_13/bert/encoder/layer_._4/intermediate/dense/kernel:0', 'tf_bert_model_13/bert/encoder/layer_._4/intermediate/dense/bias:0', 'tf_bert_model_13/bert/encoder/layer_._4/output/dense/kernel:0', 'tf_bert_model_13/bert/encoder/layer_._4/output/dense/bias:0', 'tf_bert_model_13/bert/encoder/layer_._4/output/LayerNorm/gamma:0', 'tf_bert_model_13/bert/encoder/layer_._4/output/LayerNorm/beta:0', 'tf_bert_model_13/bert/encoder/layer_._5/attention/self/query/kernel:0', 'tf_bert_model_13/bert/encoder/layer_._5/attention/self/query/bias:0', 'tf_bert_model_13/bert/encoder/layer_._5/attention/self/key/kernel:0', 'tf_bert_model_13/bert/encoder/layer_._5/attention/self/key/bias:0', 'tf_bert_model_13/bert/encoder/layer_._5/attention/self/value/kernel:0', 'tf_bert_model_13/bert/encoder/layer_._5/attention/self/value/bias:0', 'tf_bert_model_13/bert/encoder/layer_._5/attention/output/dense/kernel:0', 'tf_bert_model_13/bert/encoder/layer_._5/attention/output/dense/bias:0', 'tf_bert_model_13/bert/encoder/layer_._5/attention/output/LayerNorm/gamma:0', 'tf_bert_model_13/bert/encoder/layer_._5/attention/output/LayerNorm/beta:0', 'tf_bert_model_13/bert/encoder/layer_._5/intermediate/dense/kernel:0', 'tf_bert_model_13/bert/encoder/layer_._5/intermediate/dense/bias:0', 'tf_bert_model_13/bert/encoder/layer_._5/output/dense/kernel:0', 'tf_bert_model_13/bert/encoder/layer_._5/output/dense/bias:0', 'tf_bert_model_13/bert/encoder/layer_._5/output/LayerNorm/gamma:0', 'tf_bert_model_13/bert/encoder/layer_._5/output/LayerNorm/beta:0', 'tf_bert_model_13/bert/encoder/layer_._6/attention/self/query/kernel:0', 'tf_bert_model_13/bert/encoder/layer_._6/attention/self/query/bias:0', 'tf_bert_model_13/bert/encoder/layer_._6/attention/self/key/kernel:0', 'tf_bert_model_13/bert/encoder/layer_._6/attention/self/key/bias:0', 'tf_bert_model_13/bert/encoder/layer_._6/attention/self/value/kernel:0', 'tf_bert_model_13/bert/encoder/layer_._6/attention/self/value/bias:0', 'tf_bert_model_13/bert/encoder/layer_._6/attention/output/dense/kernel:0', 'tf_bert_model_13/bert/encoder/layer_._6/attention/output/dense/bias:0', 'tf_bert_model_13/bert/encoder/layer_._6/attention/output/LayerNorm/gamma:0', 'tf_bert_model_13/bert/encoder/layer_._6/attention/output/LayerNorm/beta:0', 'tf_bert_model_13/bert/encoder/layer_._6/intermediate/dense/kernel:0', 'tf_bert_model_13/bert/encoder/layer_._6/intermediate/dense/bias:0', 'tf_bert_model_13/bert/encoder/layer_._6/output/dense/kernel:0', 'tf_bert_model_13/bert/encoder/layer_._6/output/dense/bias:0', 'tf_bert_model_13/bert/encoder/layer_._6/output/LayerNorm/gamma:0', 'tf_bert_model_13/bert/encoder/layer_._6/output/LayerNorm/beta:0', 'tf_bert_model_13/bert/encoder/layer_._7/attention/self/query/kernel:0', 'tf_bert_model_13/bert/encoder/layer_._7/attention/self/query/bias:0', 'tf_bert_model_13/bert/encoder/layer_._7/attention/self/key/kernel:0', 'tf_bert_model_13/bert/encoder/layer_._7/attention/self/key/bias:0', 'tf_bert_model_13/bert/encoder/layer_._7/attention/self/value/kernel:0', 'tf_bert_model_13/bert/encoder/layer_._7/attention/self/value/bias:0', 'tf_bert_model_13/bert/encoder/layer_._7/attention/output/dense/kernel:0', 'tf_bert_model_13/bert/encoder/layer_._7/attention/output/dense/bias:0', 'tf_bert_model_13/bert/encoder/layer_._7/attention/output/LayerNorm/gamma:0', 'tf_bert_model_13/bert/encoder/layer_._7/attention/output/LayerNorm/beta:0', 'tf_bert_model_13/bert/encoder/layer_._7/intermediate/dense/kernel:0', 'tf_bert_model_13/bert/encoder/layer_._7/intermediate/dense/bias:0', 'tf_bert_model_13/bert/encoder/layer_._7/output/dense/kernel:0', 'tf_bert_model_13/bert/encoder/layer_._7/output/dense/bias:0', 'tf_bert_model_13/bert/encoder/layer_._7/output/LayerNorm/gamma:0', 'tf_bert_model_13/bert/encoder/layer_._7/output/LayerNorm/beta:0', 'tf_bert_model_13/bert/encoder/layer_._8/attention/self/query/kernel:0', 'tf_bert_model_13/bert/encoder/layer_._8/attention/self/query/bias:0', 'tf_bert_model_13/bert/encoder/layer_._8/attention/self/key/kernel:0', 'tf_bert_model_13/bert/encoder/layer_._8/attention/self/key/bias:0', 'tf_bert_model_13/bert/encoder/layer_._8/attention/self/value/kernel:0', 'tf_bert_model_13/bert/encoder/layer_._8/attention/self/value/bias:0', 'tf_bert_model_13/bert/encoder/layer_._8/attention/output/dense/kernel:0', 'tf_bert_model_13/bert/encoder/layer_._8/attention/output/dense/bias:0', 'tf_bert_model_13/bert/encoder/layer_._8/attention/output/LayerNorm/gamma:0', 'tf_bert_model_13/bert/encoder/layer_._8/attention/output/LayerNorm/beta:0', 'tf_bert_model_13/bert/encoder/layer_._8/intermediate/dense/kernel:0', 'tf_bert_model_13/bert/encoder/layer_._8/intermediate/dense/bias:0', 'tf_bert_model_13/bert/encoder/layer_._8/output/dense/kernel:0', 'tf_bert_model_13/bert/encoder/layer_._8/output/dense/bias:0', 'tf_bert_model_13/bert/encoder/layer_._8/output/LayerNorm/gamma:0', 'tf_bert_model_13/bert/encoder/layer_._8/output/LayerNorm/beta:0', 'tf_bert_model_13/bert/encoder/layer_._9/attention/self/query/kernel:0', 'tf_bert_model_13/bert/encoder/layer_._9/attention/self/query/bias:0', 'tf_bert_model_13/bert/encoder/layer_._9/attention/self/key/kernel:0', 'tf_bert_model_13/bert/encoder/layer_._9/attention/self/key/bias:0', 'tf_bert_model_13/bert/encoder/layer_._9/attention/self/value/kernel:0', 'tf_bert_model_13/bert/encoder/layer_._9/attention/self/value/bias:0', 'tf_bert_model_13/bert/encoder/layer_._9/attention/output/dense/kernel:0', 'tf_bert_model_13/bert/encoder/layer_._9/attention/output/dense/bias:0', 'tf_bert_model_13/bert/encoder/layer_._9/attention/output/LayerNorm/gamma:0', 'tf_bert_model_13/bert/encoder/layer_._9/attention/output/LayerNorm/beta:0', 'tf_bert_model_13/bert/encoder/layer_._9/intermediate/dense/kernel:0', 'tf_bert_model_13/bert/encoder/layer_._9/intermediate/dense/bias:0', 'tf_bert_model_13/bert/encoder/layer_._9/output/dense/kernel:0', 'tf_bert_model_13/bert/encoder/layer_._9/output/dense/bias:0', 'tf_bert_model_13/bert/encoder/layer_._9/output/LayerNorm/gamma:0', 'tf_bert_model_13/bert/encoder/layer_._9/output/LayerNorm/beta:0', 'tf_bert_model_13/bert/encoder/layer_._10/attention/self/query/kernel:0', 'tf_bert_model_13/bert/encoder/layer_._10/attention/self/query/bias:0', 'tf_bert_model_13/bert/encoder/layer_._10/attention/self/key/kernel:0', 'tf_bert_model_13/bert/encoder/layer_._10/attention/self/key/bias:0', 'tf_bert_model_13/bert/encoder/layer_._10/attention/self/value/kernel:0', 'tf_bert_model_13/bert/encoder/layer_._10/attention/self/value/bias:0', 'tf_bert_model_13/bert/encoder/layer_._10/attention/output/dense/kernel:0', 'tf_bert_model_13/bert/encoder/layer_._10/attention/output/dense/bias:0', 'tf_bert_model_13/bert/encoder/layer_._10/attention/output/LayerNorm/gamma:0', 'tf_bert_model_13/bert/encoder/layer_._10/attention/output/LayerNorm/beta:0', 'tf_bert_model_13/bert/encoder/layer_._10/intermediate/dense/kernel:0', 'tf_bert_model_13/bert/encoder/layer_._10/intermediate/dense/bias:0', 'tf_bert_model_13/bert/encoder/layer_._10/output/dense/kernel:0', 'tf_bert_model_13/bert/encoder/layer_._10/output/dense/bias:0', 'tf_bert_model_13/bert/encoder/layer_._10/output/LayerNorm/gamma:0', 'tf_bert_model_13/bert/encoder/layer_._10/output/LayerNorm/beta:0', 'tf_bert_model_13/bert/pooler/dense/kernel:0', 'tf_bert_model_13/bert/pooler/dense/bias:0'] when minimizing the loss. If you're using `model.compile()`, did you forget to provide a `loss`argument?\n",
            "489/489 [==============================] - 37s 63ms/step - loss: 0.1353 - accuracy: 0.9511 - val_loss: 0.0482 - val_accuracy: 0.9836\n",
            "Epoch 2/5\n",
            "489/489 [==============================] - 28s 57ms/step - loss: 0.0439 - accuracy: 0.9867 - val_loss: 0.0497 - val_accuracy: 0.9826\n",
            "Epoch 3/5\n",
            "489/489 [==============================] - 28s 57ms/step - loss: 0.0213 - accuracy: 0.9959 - val_loss: 0.0541 - val_accuracy: 0.9806\n",
            "Epoch 4/5\n",
            "489/489 [==============================] - 28s 57ms/step - loss: 0.0195 - accuracy: 0.9949 - val_loss: 0.0580 - val_accuracy: 0.9846\n",
            "Epoch 5/5\n",
            "489/489 [==============================] - 28s 57ms/step - loss: 0.0162 - accuracy: 0.9949 - val_loss: 0.0664 - val_accuracy: 0.9857\n",
            "BERT 5e + FCN, train: accuracy = 0.9992, precision = 0.9975, recall = 0.9988, f1 = 0.9982\n",
            "BERT 5e + FCN, validation: accuracy = 0.9857, precision = 0.9660, recall = 0.9660, f1 = 0.9660\n"
          ]
        },
        {
          "output_type": "stream",
          "name": "stderr",
          "text": [
            "Some layers from the model checkpoint at bert-base-cased were not used when initializing TFBertModel: ['nsp___cls', 'mlm___cls']\n",
            "- This IS expected if you are initializing TFBertModel from the checkpoint of a model trained on another task or with another architecture (e.g. initializing a BertForSequenceClassification model from a BertForPreTraining model).\n",
            "- This IS NOT expected if you are initializing TFBertModel from the checkpoint of a model that you expect to be exactly identical (initializing a BertForSequenceClassification model from a BertForSequenceClassification model).\n",
            "All the layers of TFBertModel were initialized from the model checkpoint at bert-base-cased.\n",
            "If your task is similar to the task the model of the checkpoint was trained on, you can already use TFBertModel for predictions without further training.\n"
          ]
        },
        {
          "output_type": "stream",
          "name": "stdout",
          "text": [
            "Epoch 1/5\n",
            "WARNING:tensorflow:Gradients do not exist for variables ['tf_bert_model_14/bert/embeddings/word_embeddings/weight:0', 'tf_bert_model_14/bert/embeddings/token_type_embeddings/embeddings:0', 'tf_bert_model_14/bert/embeddings/position_embeddings/embeddings:0', 'tf_bert_model_14/bert/embeddings/LayerNorm/gamma:0', 'tf_bert_model_14/bert/embeddings/LayerNorm/beta:0', 'tf_bert_model_14/bert/encoder/layer_._0/attention/self/query/kernel:0', 'tf_bert_model_14/bert/encoder/layer_._0/attention/self/query/bias:0', 'tf_bert_model_14/bert/encoder/layer_._0/attention/self/key/kernel:0', 'tf_bert_model_14/bert/encoder/layer_._0/attention/self/key/bias:0', 'tf_bert_model_14/bert/encoder/layer_._0/attention/self/value/kernel:0', 'tf_bert_model_14/bert/encoder/layer_._0/attention/self/value/bias:0', 'tf_bert_model_14/bert/encoder/layer_._0/attention/output/dense/kernel:0', 'tf_bert_model_14/bert/encoder/layer_._0/attention/output/dense/bias:0', 'tf_bert_model_14/bert/encoder/layer_._0/attention/output/LayerNorm/gamma:0', 'tf_bert_model_14/bert/encoder/layer_._0/attention/output/LayerNorm/beta:0', 'tf_bert_model_14/bert/encoder/layer_._0/intermediate/dense/kernel:0', 'tf_bert_model_14/bert/encoder/layer_._0/intermediate/dense/bias:0', 'tf_bert_model_14/bert/encoder/layer_._0/output/dense/kernel:0', 'tf_bert_model_14/bert/encoder/layer_._0/output/dense/bias:0', 'tf_bert_model_14/bert/encoder/layer_._0/output/LayerNorm/gamma:0', 'tf_bert_model_14/bert/encoder/layer_._0/output/LayerNorm/beta:0', 'tf_bert_model_14/bert/encoder/layer_._1/attention/self/query/kernel:0', 'tf_bert_model_14/bert/encoder/layer_._1/attention/self/query/bias:0', 'tf_bert_model_14/bert/encoder/layer_._1/attention/self/key/kernel:0', 'tf_bert_model_14/bert/encoder/layer_._1/attention/self/key/bias:0', 'tf_bert_model_14/bert/encoder/layer_._1/attention/self/value/kernel:0', 'tf_bert_model_14/bert/encoder/layer_._1/attention/self/value/bias:0', 'tf_bert_model_14/bert/encoder/layer_._1/attention/output/dense/kernel:0', 'tf_bert_model_14/bert/encoder/layer_._1/attention/output/dense/bias:0', 'tf_bert_model_14/bert/encoder/layer_._1/attention/output/LayerNorm/gamma:0', 'tf_bert_model_14/bert/encoder/layer_._1/attention/output/LayerNorm/beta:0', 'tf_bert_model_14/bert/encoder/layer_._1/intermediate/dense/kernel:0', 'tf_bert_model_14/bert/encoder/layer_._1/intermediate/dense/bias:0', 'tf_bert_model_14/bert/encoder/layer_._1/output/dense/kernel:0', 'tf_bert_model_14/bert/encoder/layer_._1/output/dense/bias:0', 'tf_bert_model_14/bert/encoder/layer_._1/output/LayerNorm/gamma:0', 'tf_bert_model_14/bert/encoder/layer_._1/output/LayerNorm/beta:0', 'tf_bert_model_14/bert/encoder/layer_._2/attention/self/query/kernel:0', 'tf_bert_model_14/bert/encoder/layer_._2/attention/self/query/bias:0', 'tf_bert_model_14/bert/encoder/layer_._2/attention/self/key/kernel:0', 'tf_bert_model_14/bert/encoder/layer_._2/attention/self/key/bias:0', 'tf_bert_model_14/bert/encoder/layer_._2/attention/self/value/kernel:0', 'tf_bert_model_14/bert/encoder/layer_._2/attention/self/value/bias:0', 'tf_bert_model_14/bert/encoder/layer_._2/attention/output/dense/kernel:0', 'tf_bert_model_14/bert/encoder/layer_._2/attention/output/dense/bias:0', 'tf_bert_model_14/bert/encoder/layer_._2/attention/output/LayerNorm/gamma:0', 'tf_bert_model_14/bert/encoder/layer_._2/attention/output/LayerNorm/beta:0', 'tf_bert_model_14/bert/encoder/layer_._2/intermediate/dense/kernel:0', 'tf_bert_model_14/bert/encoder/layer_._2/intermediate/dense/bias:0', 'tf_bert_model_14/bert/encoder/layer_._2/output/dense/kernel:0', 'tf_bert_model_14/bert/encoder/layer_._2/output/dense/bias:0', 'tf_bert_model_14/bert/encoder/layer_._2/output/LayerNorm/gamma:0', 'tf_bert_model_14/bert/encoder/layer_._2/output/LayerNorm/beta:0', 'tf_bert_model_14/bert/encoder/layer_._3/attention/self/query/kernel:0', 'tf_bert_model_14/bert/encoder/layer_._3/attention/self/query/bias:0', 'tf_bert_model_14/bert/encoder/layer_._3/attention/self/key/kernel:0', 'tf_bert_model_14/bert/encoder/layer_._3/attention/self/key/bias:0', 'tf_bert_model_14/bert/encoder/layer_._3/attention/self/value/kernel:0', 'tf_bert_model_14/bert/encoder/layer_._3/attention/self/value/bias:0', 'tf_bert_model_14/bert/encoder/layer_._3/attention/output/dense/kernel:0', 'tf_bert_model_14/bert/encoder/layer_._3/attention/output/dense/bias:0', 'tf_bert_model_14/bert/encoder/layer_._3/attention/output/LayerNorm/gamma:0', 'tf_bert_model_14/bert/encoder/layer_._3/attention/output/LayerNorm/beta:0', 'tf_bert_model_14/bert/encoder/layer_._3/intermediate/dense/kernel:0', 'tf_bert_model_14/bert/encoder/layer_._3/intermediate/dense/bias:0', 'tf_bert_model_14/bert/encoder/layer_._3/output/dense/kernel:0', 'tf_bert_model_14/bert/encoder/layer_._3/output/dense/bias:0', 'tf_bert_model_14/bert/encoder/layer_._3/output/LayerNorm/gamma:0', 'tf_bert_model_14/bert/encoder/layer_._3/output/LayerNorm/beta:0', 'tf_bert_model_14/bert/encoder/layer_._4/attention/self/query/kernel:0', 'tf_bert_model_14/bert/encoder/layer_._4/attention/self/query/bias:0', 'tf_bert_model_14/bert/encoder/layer_._4/attention/self/key/kernel:0', 'tf_bert_model_14/bert/encoder/layer_._4/attention/self/key/bias:0', 'tf_bert_model_14/bert/encoder/layer_._4/attention/self/value/kernel:0', 'tf_bert_model_14/bert/encoder/layer_._4/attention/self/value/bias:0', 'tf_bert_model_14/bert/encoder/layer_._4/attention/output/dense/kernel:0', 'tf_bert_model_14/bert/encoder/layer_._4/attention/output/dense/bias:0', 'tf_bert_model_14/bert/encoder/layer_._4/attention/output/LayerNorm/gamma:0', 'tf_bert_model_14/bert/encoder/layer_._4/attention/output/LayerNorm/beta:0', 'tf_bert_model_14/bert/encoder/layer_._4/intermediate/dense/kernel:0', 'tf_bert_model_14/bert/encoder/layer_._4/intermediate/dense/bias:0', 'tf_bert_model_14/bert/encoder/layer_._4/output/dense/kernel:0', 'tf_bert_model_14/bert/encoder/layer_._4/output/dense/bias:0', 'tf_bert_model_14/bert/encoder/layer_._4/output/LayerNorm/gamma:0', 'tf_bert_model_14/bert/encoder/layer_._4/output/LayerNorm/beta:0', 'tf_bert_model_14/bert/encoder/layer_._5/attention/self/query/kernel:0', 'tf_bert_model_14/bert/encoder/layer_._5/attention/self/query/bias:0', 'tf_bert_model_14/bert/encoder/layer_._5/attention/self/key/kernel:0', 'tf_bert_model_14/bert/encoder/layer_._5/attention/self/key/bias:0', 'tf_bert_model_14/bert/encoder/layer_._5/attention/self/value/kernel:0', 'tf_bert_model_14/bert/encoder/layer_._5/attention/self/value/bias:0', 'tf_bert_model_14/bert/encoder/layer_._5/attention/output/dense/kernel:0', 'tf_bert_model_14/bert/encoder/layer_._5/attention/output/dense/bias:0', 'tf_bert_model_14/bert/encoder/layer_._5/attention/output/LayerNorm/gamma:0', 'tf_bert_model_14/bert/encoder/layer_._5/attention/output/LayerNorm/beta:0', 'tf_bert_model_14/bert/encoder/layer_._5/intermediate/dense/kernel:0', 'tf_bert_model_14/bert/encoder/layer_._5/intermediate/dense/bias:0', 'tf_bert_model_14/bert/encoder/layer_._5/output/dense/kernel:0', 'tf_bert_model_14/bert/encoder/layer_._5/output/dense/bias:0', 'tf_bert_model_14/bert/encoder/layer_._5/output/LayerNorm/gamma:0', 'tf_bert_model_14/bert/encoder/layer_._5/output/LayerNorm/beta:0', 'tf_bert_model_14/bert/encoder/layer_._6/attention/self/query/kernel:0', 'tf_bert_model_14/bert/encoder/layer_._6/attention/self/query/bias:0', 'tf_bert_model_14/bert/encoder/layer_._6/attention/self/key/kernel:0', 'tf_bert_model_14/bert/encoder/layer_._6/attention/self/key/bias:0', 'tf_bert_model_14/bert/encoder/layer_._6/attention/self/value/kernel:0', 'tf_bert_model_14/bert/encoder/layer_._6/attention/self/value/bias:0', 'tf_bert_model_14/bert/encoder/layer_._6/attention/output/dense/kernel:0', 'tf_bert_model_14/bert/encoder/layer_._6/attention/output/dense/bias:0', 'tf_bert_model_14/bert/encoder/layer_._6/attention/output/LayerNorm/gamma:0', 'tf_bert_model_14/bert/encoder/layer_._6/attention/output/LayerNorm/beta:0', 'tf_bert_model_14/bert/encoder/layer_._6/intermediate/dense/kernel:0', 'tf_bert_model_14/bert/encoder/layer_._6/intermediate/dense/bias:0', 'tf_bert_model_14/bert/encoder/layer_._6/output/dense/kernel:0', 'tf_bert_model_14/bert/encoder/layer_._6/output/dense/bias:0', 'tf_bert_model_14/bert/encoder/layer_._6/output/LayerNorm/gamma:0', 'tf_bert_model_14/bert/encoder/layer_._6/output/LayerNorm/beta:0', 'tf_bert_model_14/bert/encoder/layer_._7/attention/self/query/kernel:0', 'tf_bert_model_14/bert/encoder/layer_._7/attention/self/query/bias:0', 'tf_bert_model_14/bert/encoder/layer_._7/attention/self/key/kernel:0', 'tf_bert_model_14/bert/encoder/layer_._7/attention/self/key/bias:0', 'tf_bert_model_14/bert/encoder/layer_._7/attention/self/value/kernel:0', 'tf_bert_model_14/bert/encoder/layer_._7/attention/self/value/bias:0', 'tf_bert_model_14/bert/encoder/layer_._7/attention/output/dense/kernel:0', 'tf_bert_model_14/bert/encoder/layer_._7/attention/output/dense/bias:0', 'tf_bert_model_14/bert/encoder/layer_._7/attention/output/LayerNorm/gamma:0', 'tf_bert_model_14/bert/encoder/layer_._7/attention/output/LayerNorm/beta:0', 'tf_bert_model_14/bert/encoder/layer_._7/intermediate/dense/kernel:0', 'tf_bert_model_14/bert/encoder/layer_._7/intermediate/dense/bias:0', 'tf_bert_model_14/bert/encoder/layer_._7/output/dense/kernel:0', 'tf_bert_model_14/bert/encoder/layer_._7/output/dense/bias:0', 'tf_bert_model_14/bert/encoder/layer_._7/output/LayerNorm/gamma:0', 'tf_bert_model_14/bert/encoder/layer_._7/output/LayerNorm/beta:0', 'tf_bert_model_14/bert/encoder/layer_._8/attention/self/query/kernel:0', 'tf_bert_model_14/bert/encoder/layer_._8/attention/self/query/bias:0', 'tf_bert_model_14/bert/encoder/layer_._8/attention/self/key/kernel:0', 'tf_bert_model_14/bert/encoder/layer_._8/attention/self/key/bias:0', 'tf_bert_model_14/bert/encoder/layer_._8/attention/self/value/kernel:0', 'tf_bert_model_14/bert/encoder/layer_._8/attention/self/value/bias:0', 'tf_bert_model_14/bert/encoder/layer_._8/attention/output/dense/kernel:0', 'tf_bert_model_14/bert/encoder/layer_._8/attention/output/dense/bias:0', 'tf_bert_model_14/bert/encoder/layer_._8/attention/output/LayerNorm/gamma:0', 'tf_bert_model_14/bert/encoder/layer_._8/attention/output/LayerNorm/beta:0', 'tf_bert_model_14/bert/encoder/layer_._8/intermediate/dense/kernel:0', 'tf_bert_model_14/bert/encoder/layer_._8/intermediate/dense/bias:0', 'tf_bert_model_14/bert/encoder/layer_._8/output/dense/kernel:0', 'tf_bert_model_14/bert/encoder/layer_._8/output/dense/bias:0', 'tf_bert_model_14/bert/encoder/layer_._8/output/LayerNorm/gamma:0', 'tf_bert_model_14/bert/encoder/layer_._8/output/LayerNorm/beta:0', 'tf_bert_model_14/bert/encoder/layer_._9/attention/self/query/kernel:0', 'tf_bert_model_14/bert/encoder/layer_._9/attention/self/query/bias:0', 'tf_bert_model_14/bert/encoder/layer_._9/attention/self/key/kernel:0', 'tf_bert_model_14/bert/encoder/layer_._9/attention/self/key/bias:0', 'tf_bert_model_14/bert/encoder/layer_._9/attention/self/value/kernel:0', 'tf_bert_model_14/bert/encoder/layer_._9/attention/self/value/bias:0', 'tf_bert_model_14/bert/encoder/layer_._9/attention/output/dense/kernel:0', 'tf_bert_model_14/bert/encoder/layer_._9/attention/output/dense/bias:0', 'tf_bert_model_14/bert/encoder/layer_._9/attention/output/LayerNorm/gamma:0', 'tf_bert_model_14/bert/encoder/layer_._9/attention/output/LayerNorm/beta:0', 'tf_bert_model_14/bert/encoder/layer_._9/intermediate/dense/kernel:0', 'tf_bert_model_14/bert/encoder/layer_._9/intermediate/dense/bias:0', 'tf_bert_model_14/bert/encoder/layer_._9/output/dense/kernel:0', 'tf_bert_model_14/bert/encoder/layer_._9/output/dense/bias:0', 'tf_bert_model_14/bert/encoder/layer_._9/output/LayerNorm/gamma:0', 'tf_bert_model_14/bert/encoder/layer_._9/output/LayerNorm/beta:0', 'tf_bert_model_14/bert/encoder/layer_._10/attention/self/query/kernel:0', 'tf_bert_model_14/bert/encoder/layer_._10/attention/self/query/bias:0', 'tf_bert_model_14/bert/encoder/layer_._10/attention/self/key/kernel:0', 'tf_bert_model_14/bert/encoder/layer_._10/attention/self/key/bias:0', 'tf_bert_model_14/bert/encoder/layer_._10/attention/self/value/kernel:0', 'tf_bert_model_14/bert/encoder/layer_._10/attention/self/value/bias:0', 'tf_bert_model_14/bert/encoder/layer_._10/attention/output/dense/kernel:0', 'tf_bert_model_14/bert/encoder/layer_._10/attention/output/dense/bias:0', 'tf_bert_model_14/bert/encoder/layer_._10/attention/output/LayerNorm/gamma:0', 'tf_bert_model_14/bert/encoder/layer_._10/attention/output/LayerNorm/beta:0', 'tf_bert_model_14/bert/encoder/layer_._10/intermediate/dense/kernel:0', 'tf_bert_model_14/bert/encoder/layer_._10/intermediate/dense/bias:0', 'tf_bert_model_14/bert/encoder/layer_._10/output/dense/kernel:0', 'tf_bert_model_14/bert/encoder/layer_._10/output/dense/bias:0', 'tf_bert_model_14/bert/encoder/layer_._10/output/LayerNorm/gamma:0', 'tf_bert_model_14/bert/encoder/layer_._10/output/LayerNorm/beta:0', 'tf_bert_model_14/bert/pooler/dense/kernel:0', 'tf_bert_model_14/bert/pooler/dense/bias:0'] when minimizing the loss. If you're using `model.compile()`, did you forget to provide a `loss`argument?\n",
            "WARNING:tensorflow:Gradients do not exist for variables ['tf_bert_model_14/bert/embeddings/word_embeddings/weight:0', 'tf_bert_model_14/bert/embeddings/token_type_embeddings/embeddings:0', 'tf_bert_model_14/bert/embeddings/position_embeddings/embeddings:0', 'tf_bert_model_14/bert/embeddings/LayerNorm/gamma:0', 'tf_bert_model_14/bert/embeddings/LayerNorm/beta:0', 'tf_bert_model_14/bert/encoder/layer_._0/attention/self/query/kernel:0', 'tf_bert_model_14/bert/encoder/layer_._0/attention/self/query/bias:0', 'tf_bert_model_14/bert/encoder/layer_._0/attention/self/key/kernel:0', 'tf_bert_model_14/bert/encoder/layer_._0/attention/self/key/bias:0', 'tf_bert_model_14/bert/encoder/layer_._0/attention/self/value/kernel:0', 'tf_bert_model_14/bert/encoder/layer_._0/attention/self/value/bias:0', 'tf_bert_model_14/bert/encoder/layer_._0/attention/output/dense/kernel:0', 'tf_bert_model_14/bert/encoder/layer_._0/attention/output/dense/bias:0', 'tf_bert_model_14/bert/encoder/layer_._0/attention/output/LayerNorm/gamma:0', 'tf_bert_model_14/bert/encoder/layer_._0/attention/output/LayerNorm/beta:0', 'tf_bert_model_14/bert/encoder/layer_._0/intermediate/dense/kernel:0', 'tf_bert_model_14/bert/encoder/layer_._0/intermediate/dense/bias:0', 'tf_bert_model_14/bert/encoder/layer_._0/output/dense/kernel:0', 'tf_bert_model_14/bert/encoder/layer_._0/output/dense/bias:0', 'tf_bert_model_14/bert/encoder/layer_._0/output/LayerNorm/gamma:0', 'tf_bert_model_14/bert/encoder/layer_._0/output/LayerNorm/beta:0', 'tf_bert_model_14/bert/encoder/layer_._1/attention/self/query/kernel:0', 'tf_bert_model_14/bert/encoder/layer_._1/attention/self/query/bias:0', 'tf_bert_model_14/bert/encoder/layer_._1/attention/self/key/kernel:0', 'tf_bert_model_14/bert/encoder/layer_._1/attention/self/key/bias:0', 'tf_bert_model_14/bert/encoder/layer_._1/attention/self/value/kernel:0', 'tf_bert_model_14/bert/encoder/layer_._1/attention/self/value/bias:0', 'tf_bert_model_14/bert/encoder/layer_._1/attention/output/dense/kernel:0', 'tf_bert_model_14/bert/encoder/layer_._1/attention/output/dense/bias:0', 'tf_bert_model_14/bert/encoder/layer_._1/attention/output/LayerNorm/gamma:0', 'tf_bert_model_14/bert/encoder/layer_._1/attention/output/LayerNorm/beta:0', 'tf_bert_model_14/bert/encoder/layer_._1/intermediate/dense/kernel:0', 'tf_bert_model_14/bert/encoder/layer_._1/intermediate/dense/bias:0', 'tf_bert_model_14/bert/encoder/layer_._1/output/dense/kernel:0', 'tf_bert_model_14/bert/encoder/layer_._1/output/dense/bias:0', 'tf_bert_model_14/bert/encoder/layer_._1/output/LayerNorm/gamma:0', 'tf_bert_model_14/bert/encoder/layer_._1/output/LayerNorm/beta:0', 'tf_bert_model_14/bert/encoder/layer_._2/attention/self/query/kernel:0', 'tf_bert_model_14/bert/encoder/layer_._2/attention/self/query/bias:0', 'tf_bert_model_14/bert/encoder/layer_._2/attention/self/key/kernel:0', 'tf_bert_model_14/bert/encoder/layer_._2/attention/self/key/bias:0', 'tf_bert_model_14/bert/encoder/layer_._2/attention/self/value/kernel:0', 'tf_bert_model_14/bert/encoder/layer_._2/attention/self/value/bias:0', 'tf_bert_model_14/bert/encoder/layer_._2/attention/output/dense/kernel:0', 'tf_bert_model_14/bert/encoder/layer_._2/attention/output/dense/bias:0', 'tf_bert_model_14/bert/encoder/layer_._2/attention/output/LayerNorm/gamma:0', 'tf_bert_model_14/bert/encoder/layer_._2/attention/output/LayerNorm/beta:0', 'tf_bert_model_14/bert/encoder/layer_._2/intermediate/dense/kernel:0', 'tf_bert_model_14/bert/encoder/layer_._2/intermediate/dense/bias:0', 'tf_bert_model_14/bert/encoder/layer_._2/output/dense/kernel:0', 'tf_bert_model_14/bert/encoder/layer_._2/output/dense/bias:0', 'tf_bert_model_14/bert/encoder/layer_._2/output/LayerNorm/gamma:0', 'tf_bert_model_14/bert/encoder/layer_._2/output/LayerNorm/beta:0', 'tf_bert_model_14/bert/encoder/layer_._3/attention/self/query/kernel:0', 'tf_bert_model_14/bert/encoder/layer_._3/attention/self/query/bias:0', 'tf_bert_model_14/bert/encoder/layer_._3/attention/self/key/kernel:0', 'tf_bert_model_14/bert/encoder/layer_._3/attention/self/key/bias:0', 'tf_bert_model_14/bert/encoder/layer_._3/attention/self/value/kernel:0', 'tf_bert_model_14/bert/encoder/layer_._3/attention/self/value/bias:0', 'tf_bert_model_14/bert/encoder/layer_._3/attention/output/dense/kernel:0', 'tf_bert_model_14/bert/encoder/layer_._3/attention/output/dense/bias:0', 'tf_bert_model_14/bert/encoder/layer_._3/attention/output/LayerNorm/gamma:0', 'tf_bert_model_14/bert/encoder/layer_._3/attention/output/LayerNorm/beta:0', 'tf_bert_model_14/bert/encoder/layer_._3/intermediate/dense/kernel:0', 'tf_bert_model_14/bert/encoder/layer_._3/intermediate/dense/bias:0', 'tf_bert_model_14/bert/encoder/layer_._3/output/dense/kernel:0', 'tf_bert_model_14/bert/encoder/layer_._3/output/dense/bias:0', 'tf_bert_model_14/bert/encoder/layer_._3/output/LayerNorm/gamma:0', 'tf_bert_model_14/bert/encoder/layer_._3/output/LayerNorm/beta:0', 'tf_bert_model_14/bert/encoder/layer_._4/attention/self/query/kernel:0', 'tf_bert_model_14/bert/encoder/layer_._4/attention/self/query/bias:0', 'tf_bert_model_14/bert/encoder/layer_._4/attention/self/key/kernel:0', 'tf_bert_model_14/bert/encoder/layer_._4/attention/self/key/bias:0', 'tf_bert_model_14/bert/encoder/layer_._4/attention/self/value/kernel:0', 'tf_bert_model_14/bert/encoder/layer_._4/attention/self/value/bias:0', 'tf_bert_model_14/bert/encoder/layer_._4/attention/output/dense/kernel:0', 'tf_bert_model_14/bert/encoder/layer_._4/attention/output/dense/bias:0', 'tf_bert_model_14/bert/encoder/layer_._4/attention/output/LayerNorm/gamma:0', 'tf_bert_model_14/bert/encoder/layer_._4/attention/output/LayerNorm/beta:0', 'tf_bert_model_14/bert/encoder/layer_._4/intermediate/dense/kernel:0', 'tf_bert_model_14/bert/encoder/layer_._4/intermediate/dense/bias:0', 'tf_bert_model_14/bert/encoder/layer_._4/output/dense/kernel:0', 'tf_bert_model_14/bert/encoder/layer_._4/output/dense/bias:0', 'tf_bert_model_14/bert/encoder/layer_._4/output/LayerNorm/gamma:0', 'tf_bert_model_14/bert/encoder/layer_._4/output/LayerNorm/beta:0', 'tf_bert_model_14/bert/encoder/layer_._5/attention/self/query/kernel:0', 'tf_bert_model_14/bert/encoder/layer_._5/attention/self/query/bias:0', 'tf_bert_model_14/bert/encoder/layer_._5/attention/self/key/kernel:0', 'tf_bert_model_14/bert/encoder/layer_._5/attention/self/key/bias:0', 'tf_bert_model_14/bert/encoder/layer_._5/attention/self/value/kernel:0', 'tf_bert_model_14/bert/encoder/layer_._5/attention/self/value/bias:0', 'tf_bert_model_14/bert/encoder/layer_._5/attention/output/dense/kernel:0', 'tf_bert_model_14/bert/encoder/layer_._5/attention/output/dense/bias:0', 'tf_bert_model_14/bert/encoder/layer_._5/attention/output/LayerNorm/gamma:0', 'tf_bert_model_14/bert/encoder/layer_._5/attention/output/LayerNorm/beta:0', 'tf_bert_model_14/bert/encoder/layer_._5/intermediate/dense/kernel:0', 'tf_bert_model_14/bert/encoder/layer_._5/intermediate/dense/bias:0', 'tf_bert_model_14/bert/encoder/layer_._5/output/dense/kernel:0', 'tf_bert_model_14/bert/encoder/layer_._5/output/dense/bias:0', 'tf_bert_model_14/bert/encoder/layer_._5/output/LayerNorm/gamma:0', 'tf_bert_model_14/bert/encoder/layer_._5/output/LayerNorm/beta:0', 'tf_bert_model_14/bert/encoder/layer_._6/attention/self/query/kernel:0', 'tf_bert_model_14/bert/encoder/layer_._6/attention/self/query/bias:0', 'tf_bert_model_14/bert/encoder/layer_._6/attention/self/key/kernel:0', 'tf_bert_model_14/bert/encoder/layer_._6/attention/self/key/bias:0', 'tf_bert_model_14/bert/encoder/layer_._6/attention/self/value/kernel:0', 'tf_bert_model_14/bert/encoder/layer_._6/attention/self/value/bias:0', 'tf_bert_model_14/bert/encoder/layer_._6/attention/output/dense/kernel:0', 'tf_bert_model_14/bert/encoder/layer_._6/attention/output/dense/bias:0', 'tf_bert_model_14/bert/encoder/layer_._6/attention/output/LayerNorm/gamma:0', 'tf_bert_model_14/bert/encoder/layer_._6/attention/output/LayerNorm/beta:0', 'tf_bert_model_14/bert/encoder/layer_._6/intermediate/dense/kernel:0', 'tf_bert_model_14/bert/encoder/layer_._6/intermediate/dense/bias:0', 'tf_bert_model_14/bert/encoder/layer_._6/output/dense/kernel:0', 'tf_bert_model_14/bert/encoder/layer_._6/output/dense/bias:0', 'tf_bert_model_14/bert/encoder/layer_._6/output/LayerNorm/gamma:0', 'tf_bert_model_14/bert/encoder/layer_._6/output/LayerNorm/beta:0', 'tf_bert_model_14/bert/encoder/layer_._7/attention/self/query/kernel:0', 'tf_bert_model_14/bert/encoder/layer_._7/attention/self/query/bias:0', 'tf_bert_model_14/bert/encoder/layer_._7/attention/self/key/kernel:0', 'tf_bert_model_14/bert/encoder/layer_._7/attention/self/key/bias:0', 'tf_bert_model_14/bert/encoder/layer_._7/attention/self/value/kernel:0', 'tf_bert_model_14/bert/encoder/layer_._7/attention/self/value/bias:0', 'tf_bert_model_14/bert/encoder/layer_._7/attention/output/dense/kernel:0', 'tf_bert_model_14/bert/encoder/layer_._7/attention/output/dense/bias:0', 'tf_bert_model_14/bert/encoder/layer_._7/attention/output/LayerNorm/gamma:0', 'tf_bert_model_14/bert/encoder/layer_._7/attention/output/LayerNorm/beta:0', 'tf_bert_model_14/bert/encoder/layer_._7/intermediate/dense/kernel:0', 'tf_bert_model_14/bert/encoder/layer_._7/intermediate/dense/bias:0', 'tf_bert_model_14/bert/encoder/layer_._7/output/dense/kernel:0', 'tf_bert_model_14/bert/encoder/layer_._7/output/dense/bias:0', 'tf_bert_model_14/bert/encoder/layer_._7/output/LayerNorm/gamma:0', 'tf_bert_model_14/bert/encoder/layer_._7/output/LayerNorm/beta:0', 'tf_bert_model_14/bert/encoder/layer_._8/attention/self/query/kernel:0', 'tf_bert_model_14/bert/encoder/layer_._8/attention/self/query/bias:0', 'tf_bert_model_14/bert/encoder/layer_._8/attention/self/key/kernel:0', 'tf_bert_model_14/bert/encoder/layer_._8/attention/self/key/bias:0', 'tf_bert_model_14/bert/encoder/layer_._8/attention/self/value/kernel:0', 'tf_bert_model_14/bert/encoder/layer_._8/attention/self/value/bias:0', 'tf_bert_model_14/bert/encoder/layer_._8/attention/output/dense/kernel:0', 'tf_bert_model_14/bert/encoder/layer_._8/attention/output/dense/bias:0', 'tf_bert_model_14/bert/encoder/layer_._8/attention/output/LayerNorm/gamma:0', 'tf_bert_model_14/bert/encoder/layer_._8/attention/output/LayerNorm/beta:0', 'tf_bert_model_14/bert/encoder/layer_._8/intermediate/dense/kernel:0', 'tf_bert_model_14/bert/encoder/layer_._8/intermediate/dense/bias:0', 'tf_bert_model_14/bert/encoder/layer_._8/output/dense/kernel:0', 'tf_bert_model_14/bert/encoder/layer_._8/output/dense/bias:0', 'tf_bert_model_14/bert/encoder/layer_._8/output/LayerNorm/gamma:0', 'tf_bert_model_14/bert/encoder/layer_._8/output/LayerNorm/beta:0', 'tf_bert_model_14/bert/encoder/layer_._9/attention/self/query/kernel:0', 'tf_bert_model_14/bert/encoder/layer_._9/attention/self/query/bias:0', 'tf_bert_model_14/bert/encoder/layer_._9/attention/self/key/kernel:0', 'tf_bert_model_14/bert/encoder/layer_._9/attention/self/key/bias:0', 'tf_bert_model_14/bert/encoder/layer_._9/attention/self/value/kernel:0', 'tf_bert_model_14/bert/encoder/layer_._9/attention/self/value/bias:0', 'tf_bert_model_14/bert/encoder/layer_._9/attention/output/dense/kernel:0', 'tf_bert_model_14/bert/encoder/layer_._9/attention/output/dense/bias:0', 'tf_bert_model_14/bert/encoder/layer_._9/attention/output/LayerNorm/gamma:0', 'tf_bert_model_14/bert/encoder/layer_._9/attention/output/LayerNorm/beta:0', 'tf_bert_model_14/bert/encoder/layer_._9/intermediate/dense/kernel:0', 'tf_bert_model_14/bert/encoder/layer_._9/intermediate/dense/bias:0', 'tf_bert_model_14/bert/encoder/layer_._9/output/dense/kernel:0', 'tf_bert_model_14/bert/encoder/layer_._9/output/dense/bias:0', 'tf_bert_model_14/bert/encoder/layer_._9/output/LayerNorm/gamma:0', 'tf_bert_model_14/bert/encoder/layer_._9/output/LayerNorm/beta:0', 'tf_bert_model_14/bert/encoder/layer_._10/attention/self/query/kernel:0', 'tf_bert_model_14/bert/encoder/layer_._10/attention/self/query/bias:0', 'tf_bert_model_14/bert/encoder/layer_._10/attention/self/key/kernel:0', 'tf_bert_model_14/bert/encoder/layer_._10/attention/self/key/bias:0', 'tf_bert_model_14/bert/encoder/layer_._10/attention/self/value/kernel:0', 'tf_bert_model_14/bert/encoder/layer_._10/attention/self/value/bias:0', 'tf_bert_model_14/bert/encoder/layer_._10/attention/output/dense/kernel:0', 'tf_bert_model_14/bert/encoder/layer_._10/attention/output/dense/bias:0', 'tf_bert_model_14/bert/encoder/layer_._10/attention/output/LayerNorm/gamma:0', 'tf_bert_model_14/bert/encoder/layer_._10/attention/output/LayerNorm/beta:0', 'tf_bert_model_14/bert/encoder/layer_._10/intermediate/dense/kernel:0', 'tf_bert_model_14/bert/encoder/layer_._10/intermediate/dense/bias:0', 'tf_bert_model_14/bert/encoder/layer_._10/output/dense/kernel:0', 'tf_bert_model_14/bert/encoder/layer_._10/output/dense/bias:0', 'tf_bert_model_14/bert/encoder/layer_._10/output/LayerNorm/gamma:0', 'tf_bert_model_14/bert/encoder/layer_._10/output/LayerNorm/beta:0', 'tf_bert_model_14/bert/pooler/dense/kernel:0', 'tf_bert_model_14/bert/pooler/dense/bias:0'] when minimizing the loss. If you're using `model.compile()`, did you forget to provide a `loss`argument?\n",
            "489/489 [==============================] - 39s 63ms/step - loss: 0.1506 - accuracy: 0.9460 - val_loss: 0.0792 - val_accuracy: 0.9754\n",
            "Epoch 2/5\n",
            "489/489 [==============================] - 28s 57ms/step - loss: 0.0566 - accuracy: 0.9887 - val_loss: 0.0481 - val_accuracy: 0.9867\n",
            "Epoch 3/5\n",
            "489/489 [==============================] - 28s 57ms/step - loss: 0.0475 - accuracy: 0.9867 - val_loss: 0.0312 - val_accuracy: 0.9877\n",
            "Epoch 4/5\n",
            "489/489 [==============================] - 28s 57ms/step - loss: 0.0307 - accuracy: 0.9926 - val_loss: 0.0294 - val_accuracy: 0.9877\n",
            "Epoch 5/5\n",
            "489/489 [==============================] - 28s 57ms/step - loss: 0.0198 - accuracy: 0.9954 - val_loss: 0.0800 - val_accuracy: 0.9744\n",
            "BERT 5e + FCN, train: accuracy = 0.9862, precision = 0.9390, recall = 0.9975, f1 = 0.9674\n",
            "BERT 5e + FCN, validation: accuracy = 0.9744, precision = 0.8987, recall = 0.9953, f1 = 0.9446\n"
          ]
        },
        {
          "output_type": "stream",
          "name": "stderr",
          "text": [
            "Some layers from the model checkpoint at bert-base-cased were not used when initializing TFBertModel: ['nsp___cls', 'mlm___cls']\n",
            "- This IS expected if you are initializing TFBertModel from the checkpoint of a model trained on another task or with another architecture (e.g. initializing a BertForSequenceClassification model from a BertForPreTraining model).\n",
            "- This IS NOT expected if you are initializing TFBertModel from the checkpoint of a model that you expect to be exactly identical (initializing a BertForSequenceClassification model from a BertForSequenceClassification model).\n",
            "All the layers of TFBertModel were initialized from the model checkpoint at bert-base-cased.\n",
            "If your task is similar to the task the model of the checkpoint was trained on, you can already use TFBertModel for predictions without further training.\n"
          ]
        },
        {
          "output_type": "stream",
          "name": "stdout",
          "text": [
            "Epoch 1/5\n",
            "WARNING:tensorflow:Gradients do not exist for variables ['tf_bert_model_15/bert/embeddings/word_embeddings/weight:0', 'tf_bert_model_15/bert/embeddings/token_type_embeddings/embeddings:0', 'tf_bert_model_15/bert/embeddings/position_embeddings/embeddings:0', 'tf_bert_model_15/bert/embeddings/LayerNorm/gamma:0', 'tf_bert_model_15/bert/embeddings/LayerNorm/beta:0', 'tf_bert_model_15/bert/encoder/layer_._0/attention/self/query/kernel:0', 'tf_bert_model_15/bert/encoder/layer_._0/attention/self/query/bias:0', 'tf_bert_model_15/bert/encoder/layer_._0/attention/self/key/kernel:0', 'tf_bert_model_15/bert/encoder/layer_._0/attention/self/key/bias:0', 'tf_bert_model_15/bert/encoder/layer_._0/attention/self/value/kernel:0', 'tf_bert_model_15/bert/encoder/layer_._0/attention/self/value/bias:0', 'tf_bert_model_15/bert/encoder/layer_._0/attention/output/dense/kernel:0', 'tf_bert_model_15/bert/encoder/layer_._0/attention/output/dense/bias:0', 'tf_bert_model_15/bert/encoder/layer_._0/attention/output/LayerNorm/gamma:0', 'tf_bert_model_15/bert/encoder/layer_._0/attention/output/LayerNorm/beta:0', 'tf_bert_model_15/bert/encoder/layer_._0/intermediate/dense/kernel:0', 'tf_bert_model_15/bert/encoder/layer_._0/intermediate/dense/bias:0', 'tf_bert_model_15/bert/encoder/layer_._0/output/dense/kernel:0', 'tf_bert_model_15/bert/encoder/layer_._0/output/dense/bias:0', 'tf_bert_model_15/bert/encoder/layer_._0/output/LayerNorm/gamma:0', 'tf_bert_model_15/bert/encoder/layer_._0/output/LayerNorm/beta:0', 'tf_bert_model_15/bert/encoder/layer_._1/attention/self/query/kernel:0', 'tf_bert_model_15/bert/encoder/layer_._1/attention/self/query/bias:0', 'tf_bert_model_15/bert/encoder/layer_._1/attention/self/key/kernel:0', 'tf_bert_model_15/bert/encoder/layer_._1/attention/self/key/bias:0', 'tf_bert_model_15/bert/encoder/layer_._1/attention/self/value/kernel:0', 'tf_bert_model_15/bert/encoder/layer_._1/attention/self/value/bias:0', 'tf_bert_model_15/bert/encoder/layer_._1/attention/output/dense/kernel:0', 'tf_bert_model_15/bert/encoder/layer_._1/attention/output/dense/bias:0', 'tf_bert_model_15/bert/encoder/layer_._1/attention/output/LayerNorm/gamma:0', 'tf_bert_model_15/bert/encoder/layer_._1/attention/output/LayerNorm/beta:0', 'tf_bert_model_15/bert/encoder/layer_._1/intermediate/dense/kernel:0', 'tf_bert_model_15/bert/encoder/layer_._1/intermediate/dense/bias:0', 'tf_bert_model_15/bert/encoder/layer_._1/output/dense/kernel:0', 'tf_bert_model_15/bert/encoder/layer_._1/output/dense/bias:0', 'tf_bert_model_15/bert/encoder/layer_._1/output/LayerNorm/gamma:0', 'tf_bert_model_15/bert/encoder/layer_._1/output/LayerNorm/beta:0', 'tf_bert_model_15/bert/encoder/layer_._2/attention/self/query/kernel:0', 'tf_bert_model_15/bert/encoder/layer_._2/attention/self/query/bias:0', 'tf_bert_model_15/bert/encoder/layer_._2/attention/self/key/kernel:0', 'tf_bert_model_15/bert/encoder/layer_._2/attention/self/key/bias:0', 'tf_bert_model_15/bert/encoder/layer_._2/attention/self/value/kernel:0', 'tf_bert_model_15/bert/encoder/layer_._2/attention/self/value/bias:0', 'tf_bert_model_15/bert/encoder/layer_._2/attention/output/dense/kernel:0', 'tf_bert_model_15/bert/encoder/layer_._2/attention/output/dense/bias:0', 'tf_bert_model_15/bert/encoder/layer_._2/attention/output/LayerNorm/gamma:0', 'tf_bert_model_15/bert/encoder/layer_._2/attention/output/LayerNorm/beta:0', 'tf_bert_model_15/bert/encoder/layer_._2/intermediate/dense/kernel:0', 'tf_bert_model_15/bert/encoder/layer_._2/intermediate/dense/bias:0', 'tf_bert_model_15/bert/encoder/layer_._2/output/dense/kernel:0', 'tf_bert_model_15/bert/encoder/layer_._2/output/dense/bias:0', 'tf_bert_model_15/bert/encoder/layer_._2/output/LayerNorm/gamma:0', 'tf_bert_model_15/bert/encoder/layer_._2/output/LayerNorm/beta:0', 'tf_bert_model_15/bert/encoder/layer_._3/attention/self/query/kernel:0', 'tf_bert_model_15/bert/encoder/layer_._3/attention/self/query/bias:0', 'tf_bert_model_15/bert/encoder/layer_._3/attention/self/key/kernel:0', 'tf_bert_model_15/bert/encoder/layer_._3/attention/self/key/bias:0', 'tf_bert_model_15/bert/encoder/layer_._3/attention/self/value/kernel:0', 'tf_bert_model_15/bert/encoder/layer_._3/attention/self/value/bias:0', 'tf_bert_model_15/bert/encoder/layer_._3/attention/output/dense/kernel:0', 'tf_bert_model_15/bert/encoder/layer_._3/attention/output/dense/bias:0', 'tf_bert_model_15/bert/encoder/layer_._3/attention/output/LayerNorm/gamma:0', 'tf_bert_model_15/bert/encoder/layer_._3/attention/output/LayerNorm/beta:0', 'tf_bert_model_15/bert/encoder/layer_._3/intermediate/dense/kernel:0', 'tf_bert_model_15/bert/encoder/layer_._3/intermediate/dense/bias:0', 'tf_bert_model_15/bert/encoder/layer_._3/output/dense/kernel:0', 'tf_bert_model_15/bert/encoder/layer_._3/output/dense/bias:0', 'tf_bert_model_15/bert/encoder/layer_._3/output/LayerNorm/gamma:0', 'tf_bert_model_15/bert/encoder/layer_._3/output/LayerNorm/beta:0', 'tf_bert_model_15/bert/encoder/layer_._4/attention/self/query/kernel:0', 'tf_bert_model_15/bert/encoder/layer_._4/attention/self/query/bias:0', 'tf_bert_model_15/bert/encoder/layer_._4/attention/self/key/kernel:0', 'tf_bert_model_15/bert/encoder/layer_._4/attention/self/key/bias:0', 'tf_bert_model_15/bert/encoder/layer_._4/attention/self/value/kernel:0', 'tf_bert_model_15/bert/encoder/layer_._4/attention/self/value/bias:0', 'tf_bert_model_15/bert/encoder/layer_._4/attention/output/dense/kernel:0', 'tf_bert_model_15/bert/encoder/layer_._4/attention/output/dense/bias:0', 'tf_bert_model_15/bert/encoder/layer_._4/attention/output/LayerNorm/gamma:0', 'tf_bert_model_15/bert/encoder/layer_._4/attention/output/LayerNorm/beta:0', 'tf_bert_model_15/bert/encoder/layer_._4/intermediate/dense/kernel:0', 'tf_bert_model_15/bert/encoder/layer_._4/intermediate/dense/bias:0', 'tf_bert_model_15/bert/encoder/layer_._4/output/dense/kernel:0', 'tf_bert_model_15/bert/encoder/layer_._4/output/dense/bias:0', 'tf_bert_model_15/bert/encoder/layer_._4/output/LayerNorm/gamma:0', 'tf_bert_model_15/bert/encoder/layer_._4/output/LayerNorm/beta:0', 'tf_bert_model_15/bert/encoder/layer_._5/attention/self/query/kernel:0', 'tf_bert_model_15/bert/encoder/layer_._5/attention/self/query/bias:0', 'tf_bert_model_15/bert/encoder/layer_._5/attention/self/key/kernel:0', 'tf_bert_model_15/bert/encoder/layer_._5/attention/self/key/bias:0', 'tf_bert_model_15/bert/encoder/layer_._5/attention/self/value/kernel:0', 'tf_bert_model_15/bert/encoder/layer_._5/attention/self/value/bias:0', 'tf_bert_model_15/bert/encoder/layer_._5/attention/output/dense/kernel:0', 'tf_bert_model_15/bert/encoder/layer_._5/attention/output/dense/bias:0', 'tf_bert_model_15/bert/encoder/layer_._5/attention/output/LayerNorm/gamma:0', 'tf_bert_model_15/bert/encoder/layer_._5/attention/output/LayerNorm/beta:0', 'tf_bert_model_15/bert/encoder/layer_._5/intermediate/dense/kernel:0', 'tf_bert_model_15/bert/encoder/layer_._5/intermediate/dense/bias:0', 'tf_bert_model_15/bert/encoder/layer_._5/output/dense/kernel:0', 'tf_bert_model_15/bert/encoder/layer_._5/output/dense/bias:0', 'tf_bert_model_15/bert/encoder/layer_._5/output/LayerNorm/gamma:0', 'tf_bert_model_15/bert/encoder/layer_._5/output/LayerNorm/beta:0', 'tf_bert_model_15/bert/encoder/layer_._6/attention/self/query/kernel:0', 'tf_bert_model_15/bert/encoder/layer_._6/attention/self/query/bias:0', 'tf_bert_model_15/bert/encoder/layer_._6/attention/self/key/kernel:0', 'tf_bert_model_15/bert/encoder/layer_._6/attention/self/key/bias:0', 'tf_bert_model_15/bert/encoder/layer_._6/attention/self/value/kernel:0', 'tf_bert_model_15/bert/encoder/layer_._6/attention/self/value/bias:0', 'tf_bert_model_15/bert/encoder/layer_._6/attention/output/dense/kernel:0', 'tf_bert_model_15/bert/encoder/layer_._6/attention/output/dense/bias:0', 'tf_bert_model_15/bert/encoder/layer_._6/attention/output/LayerNorm/gamma:0', 'tf_bert_model_15/bert/encoder/layer_._6/attention/output/LayerNorm/beta:0', 'tf_bert_model_15/bert/encoder/layer_._6/intermediate/dense/kernel:0', 'tf_bert_model_15/bert/encoder/layer_._6/intermediate/dense/bias:0', 'tf_bert_model_15/bert/encoder/layer_._6/output/dense/kernel:0', 'tf_bert_model_15/bert/encoder/layer_._6/output/dense/bias:0', 'tf_bert_model_15/bert/encoder/layer_._6/output/LayerNorm/gamma:0', 'tf_bert_model_15/bert/encoder/layer_._6/output/LayerNorm/beta:0', 'tf_bert_model_15/bert/encoder/layer_._7/attention/self/query/kernel:0', 'tf_bert_model_15/bert/encoder/layer_._7/attention/self/query/bias:0', 'tf_bert_model_15/bert/encoder/layer_._7/attention/self/key/kernel:0', 'tf_bert_model_15/bert/encoder/layer_._7/attention/self/key/bias:0', 'tf_bert_model_15/bert/encoder/layer_._7/attention/self/value/kernel:0', 'tf_bert_model_15/bert/encoder/layer_._7/attention/self/value/bias:0', 'tf_bert_model_15/bert/encoder/layer_._7/attention/output/dense/kernel:0', 'tf_bert_model_15/bert/encoder/layer_._7/attention/output/dense/bias:0', 'tf_bert_model_15/bert/encoder/layer_._7/attention/output/LayerNorm/gamma:0', 'tf_bert_model_15/bert/encoder/layer_._7/attention/output/LayerNorm/beta:0', 'tf_bert_model_15/bert/encoder/layer_._7/intermediate/dense/kernel:0', 'tf_bert_model_15/bert/encoder/layer_._7/intermediate/dense/bias:0', 'tf_bert_model_15/bert/encoder/layer_._7/output/dense/kernel:0', 'tf_bert_model_15/bert/encoder/layer_._7/output/dense/bias:0', 'tf_bert_model_15/bert/encoder/layer_._7/output/LayerNorm/gamma:0', 'tf_bert_model_15/bert/encoder/layer_._7/output/LayerNorm/beta:0', 'tf_bert_model_15/bert/encoder/layer_._8/attention/self/query/kernel:0', 'tf_bert_model_15/bert/encoder/layer_._8/attention/self/query/bias:0', 'tf_bert_model_15/bert/encoder/layer_._8/attention/self/key/kernel:0', 'tf_bert_model_15/bert/encoder/layer_._8/attention/self/key/bias:0', 'tf_bert_model_15/bert/encoder/layer_._8/attention/self/value/kernel:0', 'tf_bert_model_15/bert/encoder/layer_._8/attention/self/value/bias:0', 'tf_bert_model_15/bert/encoder/layer_._8/attention/output/dense/kernel:0', 'tf_bert_model_15/bert/encoder/layer_._8/attention/output/dense/bias:0', 'tf_bert_model_15/bert/encoder/layer_._8/attention/output/LayerNorm/gamma:0', 'tf_bert_model_15/bert/encoder/layer_._8/attention/output/LayerNorm/beta:0', 'tf_bert_model_15/bert/encoder/layer_._8/intermediate/dense/kernel:0', 'tf_bert_model_15/bert/encoder/layer_._8/intermediate/dense/bias:0', 'tf_bert_model_15/bert/encoder/layer_._8/output/dense/kernel:0', 'tf_bert_model_15/bert/encoder/layer_._8/output/dense/bias:0', 'tf_bert_model_15/bert/encoder/layer_._8/output/LayerNorm/gamma:0', 'tf_bert_model_15/bert/encoder/layer_._8/output/LayerNorm/beta:0', 'tf_bert_model_15/bert/encoder/layer_._9/attention/self/query/kernel:0', 'tf_bert_model_15/bert/encoder/layer_._9/attention/self/query/bias:0', 'tf_bert_model_15/bert/encoder/layer_._9/attention/self/key/kernel:0', 'tf_bert_model_15/bert/encoder/layer_._9/attention/self/key/bias:0', 'tf_bert_model_15/bert/encoder/layer_._9/attention/self/value/kernel:0', 'tf_bert_model_15/bert/encoder/layer_._9/attention/self/value/bias:0', 'tf_bert_model_15/bert/encoder/layer_._9/attention/output/dense/kernel:0', 'tf_bert_model_15/bert/encoder/layer_._9/attention/output/dense/bias:0', 'tf_bert_model_15/bert/encoder/layer_._9/attention/output/LayerNorm/gamma:0', 'tf_bert_model_15/bert/encoder/layer_._9/attention/output/LayerNorm/beta:0', 'tf_bert_model_15/bert/encoder/layer_._9/intermediate/dense/kernel:0', 'tf_bert_model_15/bert/encoder/layer_._9/intermediate/dense/bias:0', 'tf_bert_model_15/bert/encoder/layer_._9/output/dense/kernel:0', 'tf_bert_model_15/bert/encoder/layer_._9/output/dense/bias:0', 'tf_bert_model_15/bert/encoder/layer_._9/output/LayerNorm/gamma:0', 'tf_bert_model_15/bert/encoder/layer_._9/output/LayerNorm/beta:0', 'tf_bert_model_15/bert/encoder/layer_._10/attention/self/query/kernel:0', 'tf_bert_model_15/bert/encoder/layer_._10/attention/self/query/bias:0', 'tf_bert_model_15/bert/encoder/layer_._10/attention/self/key/kernel:0', 'tf_bert_model_15/bert/encoder/layer_._10/attention/self/key/bias:0', 'tf_bert_model_15/bert/encoder/layer_._10/attention/self/value/kernel:0', 'tf_bert_model_15/bert/encoder/layer_._10/attention/self/value/bias:0', 'tf_bert_model_15/bert/encoder/layer_._10/attention/output/dense/kernel:0', 'tf_bert_model_15/bert/encoder/layer_._10/attention/output/dense/bias:0', 'tf_bert_model_15/bert/encoder/layer_._10/attention/output/LayerNorm/gamma:0', 'tf_bert_model_15/bert/encoder/layer_._10/attention/output/LayerNorm/beta:0', 'tf_bert_model_15/bert/encoder/layer_._10/intermediate/dense/kernel:0', 'tf_bert_model_15/bert/encoder/layer_._10/intermediate/dense/bias:0', 'tf_bert_model_15/bert/encoder/layer_._10/output/dense/kernel:0', 'tf_bert_model_15/bert/encoder/layer_._10/output/dense/bias:0', 'tf_bert_model_15/bert/encoder/layer_._10/output/LayerNorm/gamma:0', 'tf_bert_model_15/bert/encoder/layer_._10/output/LayerNorm/beta:0', 'tf_bert_model_15/bert/pooler/dense/kernel:0', 'tf_bert_model_15/bert/pooler/dense/bias:0'] when minimizing the loss. If you're using `model.compile()`, did you forget to provide a `loss`argument?\n",
            "WARNING:tensorflow:Gradients do not exist for variables ['tf_bert_model_15/bert/embeddings/word_embeddings/weight:0', 'tf_bert_model_15/bert/embeddings/token_type_embeddings/embeddings:0', 'tf_bert_model_15/bert/embeddings/position_embeddings/embeddings:0', 'tf_bert_model_15/bert/embeddings/LayerNorm/gamma:0', 'tf_bert_model_15/bert/embeddings/LayerNorm/beta:0', 'tf_bert_model_15/bert/encoder/layer_._0/attention/self/query/kernel:0', 'tf_bert_model_15/bert/encoder/layer_._0/attention/self/query/bias:0', 'tf_bert_model_15/bert/encoder/layer_._0/attention/self/key/kernel:0', 'tf_bert_model_15/bert/encoder/layer_._0/attention/self/key/bias:0', 'tf_bert_model_15/bert/encoder/layer_._0/attention/self/value/kernel:0', 'tf_bert_model_15/bert/encoder/layer_._0/attention/self/value/bias:0', 'tf_bert_model_15/bert/encoder/layer_._0/attention/output/dense/kernel:0', 'tf_bert_model_15/bert/encoder/layer_._0/attention/output/dense/bias:0', 'tf_bert_model_15/bert/encoder/layer_._0/attention/output/LayerNorm/gamma:0', 'tf_bert_model_15/bert/encoder/layer_._0/attention/output/LayerNorm/beta:0', 'tf_bert_model_15/bert/encoder/layer_._0/intermediate/dense/kernel:0', 'tf_bert_model_15/bert/encoder/layer_._0/intermediate/dense/bias:0', 'tf_bert_model_15/bert/encoder/layer_._0/output/dense/kernel:0', 'tf_bert_model_15/bert/encoder/layer_._0/output/dense/bias:0', 'tf_bert_model_15/bert/encoder/layer_._0/output/LayerNorm/gamma:0', 'tf_bert_model_15/bert/encoder/layer_._0/output/LayerNorm/beta:0', 'tf_bert_model_15/bert/encoder/layer_._1/attention/self/query/kernel:0', 'tf_bert_model_15/bert/encoder/layer_._1/attention/self/query/bias:0', 'tf_bert_model_15/bert/encoder/layer_._1/attention/self/key/kernel:0', 'tf_bert_model_15/bert/encoder/layer_._1/attention/self/key/bias:0', 'tf_bert_model_15/bert/encoder/layer_._1/attention/self/value/kernel:0', 'tf_bert_model_15/bert/encoder/layer_._1/attention/self/value/bias:0', 'tf_bert_model_15/bert/encoder/layer_._1/attention/output/dense/kernel:0', 'tf_bert_model_15/bert/encoder/layer_._1/attention/output/dense/bias:0', 'tf_bert_model_15/bert/encoder/layer_._1/attention/output/LayerNorm/gamma:0', 'tf_bert_model_15/bert/encoder/layer_._1/attention/output/LayerNorm/beta:0', 'tf_bert_model_15/bert/encoder/layer_._1/intermediate/dense/kernel:0', 'tf_bert_model_15/bert/encoder/layer_._1/intermediate/dense/bias:0', 'tf_bert_model_15/bert/encoder/layer_._1/output/dense/kernel:0', 'tf_bert_model_15/bert/encoder/layer_._1/output/dense/bias:0', 'tf_bert_model_15/bert/encoder/layer_._1/output/LayerNorm/gamma:0', 'tf_bert_model_15/bert/encoder/layer_._1/output/LayerNorm/beta:0', 'tf_bert_model_15/bert/encoder/layer_._2/attention/self/query/kernel:0', 'tf_bert_model_15/bert/encoder/layer_._2/attention/self/query/bias:0', 'tf_bert_model_15/bert/encoder/layer_._2/attention/self/key/kernel:0', 'tf_bert_model_15/bert/encoder/layer_._2/attention/self/key/bias:0', 'tf_bert_model_15/bert/encoder/layer_._2/attention/self/value/kernel:0', 'tf_bert_model_15/bert/encoder/layer_._2/attention/self/value/bias:0', 'tf_bert_model_15/bert/encoder/layer_._2/attention/output/dense/kernel:0', 'tf_bert_model_15/bert/encoder/layer_._2/attention/output/dense/bias:0', 'tf_bert_model_15/bert/encoder/layer_._2/attention/output/LayerNorm/gamma:0', 'tf_bert_model_15/bert/encoder/layer_._2/attention/output/LayerNorm/beta:0', 'tf_bert_model_15/bert/encoder/layer_._2/intermediate/dense/kernel:0', 'tf_bert_model_15/bert/encoder/layer_._2/intermediate/dense/bias:0', 'tf_bert_model_15/bert/encoder/layer_._2/output/dense/kernel:0', 'tf_bert_model_15/bert/encoder/layer_._2/output/dense/bias:0', 'tf_bert_model_15/bert/encoder/layer_._2/output/LayerNorm/gamma:0', 'tf_bert_model_15/bert/encoder/layer_._2/output/LayerNorm/beta:0', 'tf_bert_model_15/bert/encoder/layer_._3/attention/self/query/kernel:0', 'tf_bert_model_15/bert/encoder/layer_._3/attention/self/query/bias:0', 'tf_bert_model_15/bert/encoder/layer_._3/attention/self/key/kernel:0', 'tf_bert_model_15/bert/encoder/layer_._3/attention/self/key/bias:0', 'tf_bert_model_15/bert/encoder/layer_._3/attention/self/value/kernel:0', 'tf_bert_model_15/bert/encoder/layer_._3/attention/self/value/bias:0', 'tf_bert_model_15/bert/encoder/layer_._3/attention/output/dense/kernel:0', 'tf_bert_model_15/bert/encoder/layer_._3/attention/output/dense/bias:0', 'tf_bert_model_15/bert/encoder/layer_._3/attention/output/LayerNorm/gamma:0', 'tf_bert_model_15/bert/encoder/layer_._3/attention/output/LayerNorm/beta:0', 'tf_bert_model_15/bert/encoder/layer_._3/intermediate/dense/kernel:0', 'tf_bert_model_15/bert/encoder/layer_._3/intermediate/dense/bias:0', 'tf_bert_model_15/bert/encoder/layer_._3/output/dense/kernel:0', 'tf_bert_model_15/bert/encoder/layer_._3/output/dense/bias:0', 'tf_bert_model_15/bert/encoder/layer_._3/output/LayerNorm/gamma:0', 'tf_bert_model_15/bert/encoder/layer_._3/output/LayerNorm/beta:0', 'tf_bert_model_15/bert/encoder/layer_._4/attention/self/query/kernel:0', 'tf_bert_model_15/bert/encoder/layer_._4/attention/self/query/bias:0', 'tf_bert_model_15/bert/encoder/layer_._4/attention/self/key/kernel:0', 'tf_bert_model_15/bert/encoder/layer_._4/attention/self/key/bias:0', 'tf_bert_model_15/bert/encoder/layer_._4/attention/self/value/kernel:0', 'tf_bert_model_15/bert/encoder/layer_._4/attention/self/value/bias:0', 'tf_bert_model_15/bert/encoder/layer_._4/attention/output/dense/kernel:0', 'tf_bert_model_15/bert/encoder/layer_._4/attention/output/dense/bias:0', 'tf_bert_model_15/bert/encoder/layer_._4/attention/output/LayerNorm/gamma:0', 'tf_bert_model_15/bert/encoder/layer_._4/attention/output/LayerNorm/beta:0', 'tf_bert_model_15/bert/encoder/layer_._4/intermediate/dense/kernel:0', 'tf_bert_model_15/bert/encoder/layer_._4/intermediate/dense/bias:0', 'tf_bert_model_15/bert/encoder/layer_._4/output/dense/kernel:0', 'tf_bert_model_15/bert/encoder/layer_._4/output/dense/bias:0', 'tf_bert_model_15/bert/encoder/layer_._4/output/LayerNorm/gamma:0', 'tf_bert_model_15/bert/encoder/layer_._4/output/LayerNorm/beta:0', 'tf_bert_model_15/bert/encoder/layer_._5/attention/self/query/kernel:0', 'tf_bert_model_15/bert/encoder/layer_._5/attention/self/query/bias:0', 'tf_bert_model_15/bert/encoder/layer_._5/attention/self/key/kernel:0', 'tf_bert_model_15/bert/encoder/layer_._5/attention/self/key/bias:0', 'tf_bert_model_15/bert/encoder/layer_._5/attention/self/value/kernel:0', 'tf_bert_model_15/bert/encoder/layer_._5/attention/self/value/bias:0', 'tf_bert_model_15/bert/encoder/layer_._5/attention/output/dense/kernel:0', 'tf_bert_model_15/bert/encoder/layer_._5/attention/output/dense/bias:0', 'tf_bert_model_15/bert/encoder/layer_._5/attention/output/LayerNorm/gamma:0', 'tf_bert_model_15/bert/encoder/layer_._5/attention/output/LayerNorm/beta:0', 'tf_bert_model_15/bert/encoder/layer_._5/intermediate/dense/kernel:0', 'tf_bert_model_15/bert/encoder/layer_._5/intermediate/dense/bias:0', 'tf_bert_model_15/bert/encoder/layer_._5/output/dense/kernel:0', 'tf_bert_model_15/bert/encoder/layer_._5/output/dense/bias:0', 'tf_bert_model_15/bert/encoder/layer_._5/output/LayerNorm/gamma:0', 'tf_bert_model_15/bert/encoder/layer_._5/output/LayerNorm/beta:0', 'tf_bert_model_15/bert/encoder/layer_._6/attention/self/query/kernel:0', 'tf_bert_model_15/bert/encoder/layer_._6/attention/self/query/bias:0', 'tf_bert_model_15/bert/encoder/layer_._6/attention/self/key/kernel:0', 'tf_bert_model_15/bert/encoder/layer_._6/attention/self/key/bias:0', 'tf_bert_model_15/bert/encoder/layer_._6/attention/self/value/kernel:0', 'tf_bert_model_15/bert/encoder/layer_._6/attention/self/value/bias:0', 'tf_bert_model_15/bert/encoder/layer_._6/attention/output/dense/kernel:0', 'tf_bert_model_15/bert/encoder/layer_._6/attention/output/dense/bias:0', 'tf_bert_model_15/bert/encoder/layer_._6/attention/output/LayerNorm/gamma:0', 'tf_bert_model_15/bert/encoder/layer_._6/attention/output/LayerNorm/beta:0', 'tf_bert_model_15/bert/encoder/layer_._6/intermediate/dense/kernel:0', 'tf_bert_model_15/bert/encoder/layer_._6/intermediate/dense/bias:0', 'tf_bert_model_15/bert/encoder/layer_._6/output/dense/kernel:0', 'tf_bert_model_15/bert/encoder/layer_._6/output/dense/bias:0', 'tf_bert_model_15/bert/encoder/layer_._6/output/LayerNorm/gamma:0', 'tf_bert_model_15/bert/encoder/layer_._6/output/LayerNorm/beta:0', 'tf_bert_model_15/bert/encoder/layer_._7/attention/self/query/kernel:0', 'tf_bert_model_15/bert/encoder/layer_._7/attention/self/query/bias:0', 'tf_bert_model_15/bert/encoder/layer_._7/attention/self/key/kernel:0', 'tf_bert_model_15/bert/encoder/layer_._7/attention/self/key/bias:0', 'tf_bert_model_15/bert/encoder/layer_._7/attention/self/value/kernel:0', 'tf_bert_model_15/bert/encoder/layer_._7/attention/self/value/bias:0', 'tf_bert_model_15/bert/encoder/layer_._7/attention/output/dense/kernel:0', 'tf_bert_model_15/bert/encoder/layer_._7/attention/output/dense/bias:0', 'tf_bert_model_15/bert/encoder/layer_._7/attention/output/LayerNorm/gamma:0', 'tf_bert_model_15/bert/encoder/layer_._7/attention/output/LayerNorm/beta:0', 'tf_bert_model_15/bert/encoder/layer_._7/intermediate/dense/kernel:0', 'tf_bert_model_15/bert/encoder/layer_._7/intermediate/dense/bias:0', 'tf_bert_model_15/bert/encoder/layer_._7/output/dense/kernel:0', 'tf_bert_model_15/bert/encoder/layer_._7/output/dense/bias:0', 'tf_bert_model_15/bert/encoder/layer_._7/output/LayerNorm/gamma:0', 'tf_bert_model_15/bert/encoder/layer_._7/output/LayerNorm/beta:0', 'tf_bert_model_15/bert/encoder/layer_._8/attention/self/query/kernel:0', 'tf_bert_model_15/bert/encoder/layer_._8/attention/self/query/bias:0', 'tf_bert_model_15/bert/encoder/layer_._8/attention/self/key/kernel:0', 'tf_bert_model_15/bert/encoder/layer_._8/attention/self/key/bias:0', 'tf_bert_model_15/bert/encoder/layer_._8/attention/self/value/kernel:0', 'tf_bert_model_15/bert/encoder/layer_._8/attention/self/value/bias:0', 'tf_bert_model_15/bert/encoder/layer_._8/attention/output/dense/kernel:0', 'tf_bert_model_15/bert/encoder/layer_._8/attention/output/dense/bias:0', 'tf_bert_model_15/bert/encoder/layer_._8/attention/output/LayerNorm/gamma:0', 'tf_bert_model_15/bert/encoder/layer_._8/attention/output/LayerNorm/beta:0', 'tf_bert_model_15/bert/encoder/layer_._8/intermediate/dense/kernel:0', 'tf_bert_model_15/bert/encoder/layer_._8/intermediate/dense/bias:0', 'tf_bert_model_15/bert/encoder/layer_._8/output/dense/kernel:0', 'tf_bert_model_15/bert/encoder/layer_._8/output/dense/bias:0', 'tf_bert_model_15/bert/encoder/layer_._8/output/LayerNorm/gamma:0', 'tf_bert_model_15/bert/encoder/layer_._8/output/LayerNorm/beta:0', 'tf_bert_model_15/bert/encoder/layer_._9/attention/self/query/kernel:0', 'tf_bert_model_15/bert/encoder/layer_._9/attention/self/query/bias:0', 'tf_bert_model_15/bert/encoder/layer_._9/attention/self/key/kernel:0', 'tf_bert_model_15/bert/encoder/layer_._9/attention/self/key/bias:0', 'tf_bert_model_15/bert/encoder/layer_._9/attention/self/value/kernel:0', 'tf_bert_model_15/bert/encoder/layer_._9/attention/self/value/bias:0', 'tf_bert_model_15/bert/encoder/layer_._9/attention/output/dense/kernel:0', 'tf_bert_model_15/bert/encoder/layer_._9/attention/output/dense/bias:0', 'tf_bert_model_15/bert/encoder/layer_._9/attention/output/LayerNorm/gamma:0', 'tf_bert_model_15/bert/encoder/layer_._9/attention/output/LayerNorm/beta:0', 'tf_bert_model_15/bert/encoder/layer_._9/intermediate/dense/kernel:0', 'tf_bert_model_15/bert/encoder/layer_._9/intermediate/dense/bias:0', 'tf_bert_model_15/bert/encoder/layer_._9/output/dense/kernel:0', 'tf_bert_model_15/bert/encoder/layer_._9/output/dense/bias:0', 'tf_bert_model_15/bert/encoder/layer_._9/output/LayerNorm/gamma:0', 'tf_bert_model_15/bert/encoder/layer_._9/output/LayerNorm/beta:0', 'tf_bert_model_15/bert/encoder/layer_._10/attention/self/query/kernel:0', 'tf_bert_model_15/bert/encoder/layer_._10/attention/self/query/bias:0', 'tf_bert_model_15/bert/encoder/layer_._10/attention/self/key/kernel:0', 'tf_bert_model_15/bert/encoder/layer_._10/attention/self/key/bias:0', 'tf_bert_model_15/bert/encoder/layer_._10/attention/self/value/kernel:0', 'tf_bert_model_15/bert/encoder/layer_._10/attention/self/value/bias:0', 'tf_bert_model_15/bert/encoder/layer_._10/attention/output/dense/kernel:0', 'tf_bert_model_15/bert/encoder/layer_._10/attention/output/dense/bias:0', 'tf_bert_model_15/bert/encoder/layer_._10/attention/output/LayerNorm/gamma:0', 'tf_bert_model_15/bert/encoder/layer_._10/attention/output/LayerNorm/beta:0', 'tf_bert_model_15/bert/encoder/layer_._10/intermediate/dense/kernel:0', 'tf_bert_model_15/bert/encoder/layer_._10/intermediate/dense/bias:0', 'tf_bert_model_15/bert/encoder/layer_._10/output/dense/kernel:0', 'tf_bert_model_15/bert/encoder/layer_._10/output/dense/bias:0', 'tf_bert_model_15/bert/encoder/layer_._10/output/LayerNorm/gamma:0', 'tf_bert_model_15/bert/encoder/layer_._10/output/LayerNorm/beta:0', 'tf_bert_model_15/bert/pooler/dense/kernel:0', 'tf_bert_model_15/bert/pooler/dense/bias:0'] when minimizing the loss. If you're using `model.compile()`, did you forget to provide a `loss`argument?\n",
            "489/489 [==============================] - 37s 63ms/step - loss: 0.1396 - accuracy: 0.9470 - val_loss: 0.1594 - val_accuracy: 0.9386\n",
            "Epoch 2/5\n",
            "489/489 [==============================] - 28s 57ms/step - loss: 0.0524 - accuracy: 0.9852 - val_loss: 0.0503 - val_accuracy: 0.9816\n",
            "Epoch 3/5\n",
            "489/489 [==============================] - 28s 57ms/step - loss: 0.0425 - accuracy: 0.9864 - val_loss: 0.0295 - val_accuracy: 0.9918\n",
            "Epoch 4/5\n",
            "489/489 [==============================] - 28s 58ms/step - loss: 0.0188 - accuracy: 0.9944 - val_loss: 0.0327 - val_accuracy: 0.9887\n",
            "Epoch 5/5\n",
            "489/489 [==============================] - 28s 58ms/step - loss: 0.0151 - accuracy: 0.9967 - val_loss: 0.0250 - val_accuracy: 0.9949\n",
            "BERT 5e + FCN, train: accuracy = 0.9995, precision = 1.0000, recall = 0.9976, f1 = 0.9988\n",
            "BERT 5e + FCN, validation: accuracy = 0.9949, precision = 1.0000, recall = 0.9740, f1 = 0.9868\n"
          ]
        }
      ]
    },
    {
      "cell_type": "markdown",
      "source": [
        "accuracy = 0.9846, precision = 0.9895, recall = 0.9356, f1 = 0.9618\n",
        "\n",
        "accuracy = 0.9949, precision = 0.9901, recall = 0.9852, f1 = 0.9877\n",
        "\n",
        "accuracy = 0.9857, precision = 0.9660, recall = 0.9660, f1 = 0.9660\n",
        "\n",
        "accuracy = 0.9744, precision = 0.8987, recall = 0.9953, f1 = 0.9446\n",
        "\n",
        "accuracy = 0.9949, precision = 1.0000, recall = 0.9740, f1 = 0.9868"
      ],
      "metadata": {
        "id": "t4hScVQZ4NAd"
      }
    },
    {
      "cell_type": "code",
      "source": [
        "# cross validation results\n",
        "import numpy as np\n",
        "cross_val_acc = [0.9846, 0.9949, 0.9857,0.9744,0.9949]\n",
        "cross_val_precision = [0.9895,0.9901,0.9660,0.8987,1.0000]\n",
        "cross_val_recall = []\n",
        "cross_val_f1 = [0.9618, 0.9877, 0.9660, 0.9446, 0.9868]\n",
        "\n",
        "print(\"mean accuracy\", np.mean(cross_val_acc))\n",
        "print(\"mean f1\", np.mean(cross_val_f1))\n",
        "\n",
        "print(\"st dev accuracy\", np.std(cross_val_acc))\n",
        "print(\"se dev f1\", np.std(cross_val_f1))"
      ],
      "metadata": {
        "id": "_pn9z7wQpwEa",
        "colab": {
          "base_uri": "https://localhost:8080/"
        },
        "outputId": "cd21fab2-4a07-4b7a-b959-449b218c7412"
      },
      "execution_count": null,
      "outputs": [
        {
          "output_type": "stream",
          "name": "stdout",
          "text": [
            "mean accuracy 0.9869000000000001\n",
            "mean f1 0.9693799999999999\n",
            "st dev accuracy 0.007628630283347057\n",
            "se dev f1 0.016260430498606128\n"
          ]
        }
      ]
    },
    {
      "cell_type": "code",
      "source": [
        ""
      ],
      "metadata": {
        "id": "RmExkj8Z9G03"
      },
      "execution_count": null,
      "outputs": []
    },
    {
      "cell_type": "code",
      "source": [
        "CROSS_VAL = 5\n",
        "FOLD_SIZE = 977\n",
        "\n",
        "for i in range(CROSS_VAL):\n",
        "  max_length = 100\n",
        "  #max_length = 160                  # set max_length\n",
        "\n",
        "  all_train_examples = list(train_X.iloc[np.r_[0:FOLD_SIZE*i,FOLD_SIZE*(i+1):FOLD_SIZE*5]])\n",
        "  all_val_examples = list(train_X[FOLD_SIZE*i:FOLD_SIZE*(i+1)])\n",
        "  all_test_examples = list(test_X)\n",
        "\n",
        "  x_train = bert_tokenizer(all_train_examples, \n",
        "                max_length=max_length,\n",
        "                truncation=True,\n",
        "                padding='max_length', \n",
        "                return_tensors='tf')\n",
        "\n",
        "  y_train = tf.convert_to_tensor(list(train_y.iloc[np.r_[0:FOLD_SIZE*i,FOLD_SIZE*(i+1):FOLD_SIZE*5]]))\n",
        "\n",
        "  x_test = bert_tokenizer(all_test_examples, \n",
        "                max_length=max_length,\n",
        "                truncation=True,\n",
        "                padding='max_length', \n",
        "                return_tensors='tf')\n",
        "\n",
        "  y_test = tf.convert_to_tensor(list(test_y))\n",
        "\n",
        "  x_val = bert_tokenizer(all_val_examples, \n",
        "                max_length=max_length,\n",
        "                truncation=True,\n",
        "                padding='max_length', \n",
        "                return_tensors='tf')\n",
        "\n",
        "  y_val = tf.convert_to_tensor(list(train_y[FOLD_SIZE*i:FOLD_SIZE*(i+1)]))\n",
        "\n",
        "  cnn_bert_model = create_bert_cnn_model(train_layers=1,\n",
        "                                       kernel_sizes = [2, 3, 4, 5])\n",
        "\n",
        "  cnn_bert_model_history = cnn_bert_model.fit([x_train.input_ids, x_train.token_type_ids, x_train.attention_mask], \n",
        "                                            y_train,   \n",
        "                                            validation_data=([x_test.input_ids, x_test.token_type_ids, x_test.attention_mask], y_test),    \n",
        "                                            class_weight = class_weight, \n",
        "                                            batch_size=8, \n",
        "                                            epochs=3)\n",
        "\n",
        "\n",
        "\n",
        "  train_predict_labels = cnn_bert_model.predict([x_train.input_ids, x_train.token_type_ids, x_train.attention_mask])\n",
        "  train_y_predict = train_predict_labels.round(0)\n",
        "\n",
        "  val_predict_labels = cnn_bert_model.predict([x_val.input_ids, x_val.token_type_ids, x_val.attention_mask])\n",
        "  val_y_predict = val_predict_labels.round(0)\n",
        "\n",
        "  # train\n",
        "  print_metrics('BERT 3e + CNN kernel un, train', np.array(train_y.iloc[np.r_[0:FOLD_SIZE*i,FOLD_SIZE*(i+1):FOLD_SIZE*5]], int), train_y_predict)\n",
        "  # validation\n",
        "  print_metrics('validation', np.array(train_y[FOLD_SIZE*i:FOLD_SIZE*(i+1)], int), val_y_predict)"
      ],
      "metadata": {
        "id": "cbUWBxG6hkCp",
        "colab": {
          "base_uri": "https://localhost:8080/"
        },
        "outputId": "09b9cf92-fc29-4c72-8ad4-94ee20e2d6f2"
      },
      "execution_count": null,
      "outputs": [
        {
          "output_type": "stream",
          "name": "stderr",
          "text": [
            "Some layers from the model checkpoint at bert-base-cased were not used when initializing TFBertModel: ['nsp___cls', 'mlm___cls']\n",
            "- This IS expected if you are initializing TFBertModel from the checkpoint of a model trained on another task or with another architecture (e.g. initializing a BertForSequenceClassification model from a BertForPreTraining model).\n",
            "- This IS NOT expected if you are initializing TFBertModel from the checkpoint of a model that you expect to be exactly identical (initializing a BertForSequenceClassification model from a BertForSequenceClassification model).\n",
            "All the layers of TFBertModel were initialized from the model checkpoint at bert-base-cased.\n",
            "If your task is similar to the task the model of the checkpoint was trained on, you can already use TFBertModel for predictions without further training.\n"
          ]
        },
        {
          "output_type": "stream",
          "name": "stdout",
          "text": [
            "Epoch 1/3\n",
            "WARNING:tensorflow:Gradients do not exist for variables ['tf_bert_model_16/bert/embeddings/word_embeddings/weight:0', 'tf_bert_model_16/bert/embeddings/token_type_embeddings/embeddings:0', 'tf_bert_model_16/bert/embeddings/position_embeddings/embeddings:0', 'tf_bert_model_16/bert/embeddings/LayerNorm/gamma:0', 'tf_bert_model_16/bert/embeddings/LayerNorm/beta:0', 'tf_bert_model_16/bert/encoder/layer_._0/attention/self/query/kernel:0', 'tf_bert_model_16/bert/encoder/layer_._0/attention/self/query/bias:0', 'tf_bert_model_16/bert/encoder/layer_._0/attention/self/key/kernel:0', 'tf_bert_model_16/bert/encoder/layer_._0/attention/self/key/bias:0', 'tf_bert_model_16/bert/encoder/layer_._0/attention/self/value/kernel:0', 'tf_bert_model_16/bert/encoder/layer_._0/attention/self/value/bias:0', 'tf_bert_model_16/bert/encoder/layer_._0/attention/output/dense/kernel:0', 'tf_bert_model_16/bert/encoder/layer_._0/attention/output/dense/bias:0', 'tf_bert_model_16/bert/encoder/layer_._0/attention/output/LayerNorm/gamma:0', 'tf_bert_model_16/bert/encoder/layer_._0/attention/output/LayerNorm/beta:0', 'tf_bert_model_16/bert/encoder/layer_._0/intermediate/dense/kernel:0', 'tf_bert_model_16/bert/encoder/layer_._0/intermediate/dense/bias:0', 'tf_bert_model_16/bert/encoder/layer_._0/output/dense/kernel:0', 'tf_bert_model_16/bert/encoder/layer_._0/output/dense/bias:0', 'tf_bert_model_16/bert/encoder/layer_._0/output/LayerNorm/gamma:0', 'tf_bert_model_16/bert/encoder/layer_._0/output/LayerNorm/beta:0', 'tf_bert_model_16/bert/encoder/layer_._1/attention/self/query/kernel:0', 'tf_bert_model_16/bert/encoder/layer_._1/attention/self/query/bias:0', 'tf_bert_model_16/bert/encoder/layer_._1/attention/self/key/kernel:0', 'tf_bert_model_16/bert/encoder/layer_._1/attention/self/key/bias:0', 'tf_bert_model_16/bert/encoder/layer_._1/attention/self/value/kernel:0', 'tf_bert_model_16/bert/encoder/layer_._1/attention/self/value/bias:0', 'tf_bert_model_16/bert/encoder/layer_._1/attention/output/dense/kernel:0', 'tf_bert_model_16/bert/encoder/layer_._1/attention/output/dense/bias:0', 'tf_bert_model_16/bert/encoder/layer_._1/attention/output/LayerNorm/gamma:0', 'tf_bert_model_16/bert/encoder/layer_._1/attention/output/LayerNorm/beta:0', 'tf_bert_model_16/bert/encoder/layer_._1/intermediate/dense/kernel:0', 'tf_bert_model_16/bert/encoder/layer_._1/intermediate/dense/bias:0', 'tf_bert_model_16/bert/encoder/layer_._1/output/dense/kernel:0', 'tf_bert_model_16/bert/encoder/layer_._1/output/dense/bias:0', 'tf_bert_model_16/bert/encoder/layer_._1/output/LayerNorm/gamma:0', 'tf_bert_model_16/bert/encoder/layer_._1/output/LayerNorm/beta:0', 'tf_bert_model_16/bert/encoder/layer_._2/attention/self/query/kernel:0', 'tf_bert_model_16/bert/encoder/layer_._2/attention/self/query/bias:0', 'tf_bert_model_16/bert/encoder/layer_._2/attention/self/key/kernel:0', 'tf_bert_model_16/bert/encoder/layer_._2/attention/self/key/bias:0', 'tf_bert_model_16/bert/encoder/layer_._2/attention/self/value/kernel:0', 'tf_bert_model_16/bert/encoder/layer_._2/attention/self/value/bias:0', 'tf_bert_model_16/bert/encoder/layer_._2/attention/output/dense/kernel:0', 'tf_bert_model_16/bert/encoder/layer_._2/attention/output/dense/bias:0', 'tf_bert_model_16/bert/encoder/layer_._2/attention/output/LayerNorm/gamma:0', 'tf_bert_model_16/bert/encoder/layer_._2/attention/output/LayerNorm/beta:0', 'tf_bert_model_16/bert/encoder/layer_._2/intermediate/dense/kernel:0', 'tf_bert_model_16/bert/encoder/layer_._2/intermediate/dense/bias:0', 'tf_bert_model_16/bert/encoder/layer_._2/output/dense/kernel:0', 'tf_bert_model_16/bert/encoder/layer_._2/output/dense/bias:0', 'tf_bert_model_16/bert/encoder/layer_._2/output/LayerNorm/gamma:0', 'tf_bert_model_16/bert/encoder/layer_._2/output/LayerNorm/beta:0', 'tf_bert_model_16/bert/encoder/layer_._3/attention/self/query/kernel:0', 'tf_bert_model_16/bert/encoder/layer_._3/attention/self/query/bias:0', 'tf_bert_model_16/bert/encoder/layer_._3/attention/self/key/kernel:0', 'tf_bert_model_16/bert/encoder/layer_._3/attention/self/key/bias:0', 'tf_bert_model_16/bert/encoder/layer_._3/attention/self/value/kernel:0', 'tf_bert_model_16/bert/encoder/layer_._3/attention/self/value/bias:0', 'tf_bert_model_16/bert/encoder/layer_._3/attention/output/dense/kernel:0', 'tf_bert_model_16/bert/encoder/layer_._3/attention/output/dense/bias:0', 'tf_bert_model_16/bert/encoder/layer_._3/attention/output/LayerNorm/gamma:0', 'tf_bert_model_16/bert/encoder/layer_._3/attention/output/LayerNorm/beta:0', 'tf_bert_model_16/bert/encoder/layer_._3/intermediate/dense/kernel:0', 'tf_bert_model_16/bert/encoder/layer_._3/intermediate/dense/bias:0', 'tf_bert_model_16/bert/encoder/layer_._3/output/dense/kernel:0', 'tf_bert_model_16/bert/encoder/layer_._3/output/dense/bias:0', 'tf_bert_model_16/bert/encoder/layer_._3/output/LayerNorm/gamma:0', 'tf_bert_model_16/bert/encoder/layer_._3/output/LayerNorm/beta:0', 'tf_bert_model_16/bert/encoder/layer_._4/attention/self/query/kernel:0', 'tf_bert_model_16/bert/encoder/layer_._4/attention/self/query/bias:0', 'tf_bert_model_16/bert/encoder/layer_._4/attention/self/key/kernel:0', 'tf_bert_model_16/bert/encoder/layer_._4/attention/self/key/bias:0', 'tf_bert_model_16/bert/encoder/layer_._4/attention/self/value/kernel:0', 'tf_bert_model_16/bert/encoder/layer_._4/attention/self/value/bias:0', 'tf_bert_model_16/bert/encoder/layer_._4/attention/output/dense/kernel:0', 'tf_bert_model_16/bert/encoder/layer_._4/attention/output/dense/bias:0', 'tf_bert_model_16/bert/encoder/layer_._4/attention/output/LayerNorm/gamma:0', 'tf_bert_model_16/bert/encoder/layer_._4/attention/output/LayerNorm/beta:0', 'tf_bert_model_16/bert/encoder/layer_._4/intermediate/dense/kernel:0', 'tf_bert_model_16/bert/encoder/layer_._4/intermediate/dense/bias:0', 'tf_bert_model_16/bert/encoder/layer_._4/output/dense/kernel:0', 'tf_bert_model_16/bert/encoder/layer_._4/output/dense/bias:0', 'tf_bert_model_16/bert/encoder/layer_._4/output/LayerNorm/gamma:0', 'tf_bert_model_16/bert/encoder/layer_._4/output/LayerNorm/beta:0', 'tf_bert_model_16/bert/encoder/layer_._5/attention/self/query/kernel:0', 'tf_bert_model_16/bert/encoder/layer_._5/attention/self/query/bias:0', 'tf_bert_model_16/bert/encoder/layer_._5/attention/self/key/kernel:0', 'tf_bert_model_16/bert/encoder/layer_._5/attention/self/key/bias:0', 'tf_bert_model_16/bert/encoder/layer_._5/attention/self/value/kernel:0', 'tf_bert_model_16/bert/encoder/layer_._5/attention/self/value/bias:0', 'tf_bert_model_16/bert/encoder/layer_._5/attention/output/dense/kernel:0', 'tf_bert_model_16/bert/encoder/layer_._5/attention/output/dense/bias:0', 'tf_bert_model_16/bert/encoder/layer_._5/attention/output/LayerNorm/gamma:0', 'tf_bert_model_16/bert/encoder/layer_._5/attention/output/LayerNorm/beta:0', 'tf_bert_model_16/bert/encoder/layer_._5/intermediate/dense/kernel:0', 'tf_bert_model_16/bert/encoder/layer_._5/intermediate/dense/bias:0', 'tf_bert_model_16/bert/encoder/layer_._5/output/dense/kernel:0', 'tf_bert_model_16/bert/encoder/layer_._5/output/dense/bias:0', 'tf_bert_model_16/bert/encoder/layer_._5/output/LayerNorm/gamma:0', 'tf_bert_model_16/bert/encoder/layer_._5/output/LayerNorm/beta:0', 'tf_bert_model_16/bert/encoder/layer_._6/attention/self/query/kernel:0', 'tf_bert_model_16/bert/encoder/layer_._6/attention/self/query/bias:0', 'tf_bert_model_16/bert/encoder/layer_._6/attention/self/key/kernel:0', 'tf_bert_model_16/bert/encoder/layer_._6/attention/self/key/bias:0', 'tf_bert_model_16/bert/encoder/layer_._6/attention/self/value/kernel:0', 'tf_bert_model_16/bert/encoder/layer_._6/attention/self/value/bias:0', 'tf_bert_model_16/bert/encoder/layer_._6/attention/output/dense/kernel:0', 'tf_bert_model_16/bert/encoder/layer_._6/attention/output/dense/bias:0', 'tf_bert_model_16/bert/encoder/layer_._6/attention/output/LayerNorm/gamma:0', 'tf_bert_model_16/bert/encoder/layer_._6/attention/output/LayerNorm/beta:0', 'tf_bert_model_16/bert/encoder/layer_._6/intermediate/dense/kernel:0', 'tf_bert_model_16/bert/encoder/layer_._6/intermediate/dense/bias:0', 'tf_bert_model_16/bert/encoder/layer_._6/output/dense/kernel:0', 'tf_bert_model_16/bert/encoder/layer_._6/output/dense/bias:0', 'tf_bert_model_16/bert/encoder/layer_._6/output/LayerNorm/gamma:0', 'tf_bert_model_16/bert/encoder/layer_._6/output/LayerNorm/beta:0', 'tf_bert_model_16/bert/encoder/layer_._7/attention/self/query/kernel:0', 'tf_bert_model_16/bert/encoder/layer_._7/attention/self/query/bias:0', 'tf_bert_model_16/bert/encoder/layer_._7/attention/self/key/kernel:0', 'tf_bert_model_16/bert/encoder/layer_._7/attention/self/key/bias:0', 'tf_bert_model_16/bert/encoder/layer_._7/attention/self/value/kernel:0', 'tf_bert_model_16/bert/encoder/layer_._7/attention/self/value/bias:0', 'tf_bert_model_16/bert/encoder/layer_._7/attention/output/dense/kernel:0', 'tf_bert_model_16/bert/encoder/layer_._7/attention/output/dense/bias:0', 'tf_bert_model_16/bert/encoder/layer_._7/attention/output/LayerNorm/gamma:0', 'tf_bert_model_16/bert/encoder/layer_._7/attention/output/LayerNorm/beta:0', 'tf_bert_model_16/bert/encoder/layer_._7/intermediate/dense/kernel:0', 'tf_bert_model_16/bert/encoder/layer_._7/intermediate/dense/bias:0', 'tf_bert_model_16/bert/encoder/layer_._7/output/dense/kernel:0', 'tf_bert_model_16/bert/encoder/layer_._7/output/dense/bias:0', 'tf_bert_model_16/bert/encoder/layer_._7/output/LayerNorm/gamma:0', 'tf_bert_model_16/bert/encoder/layer_._7/output/LayerNorm/beta:0', 'tf_bert_model_16/bert/encoder/layer_._8/attention/self/query/kernel:0', 'tf_bert_model_16/bert/encoder/layer_._8/attention/self/query/bias:0', 'tf_bert_model_16/bert/encoder/layer_._8/attention/self/key/kernel:0', 'tf_bert_model_16/bert/encoder/layer_._8/attention/self/key/bias:0', 'tf_bert_model_16/bert/encoder/layer_._8/attention/self/value/kernel:0', 'tf_bert_model_16/bert/encoder/layer_._8/attention/self/value/bias:0', 'tf_bert_model_16/bert/encoder/layer_._8/attention/output/dense/kernel:0', 'tf_bert_model_16/bert/encoder/layer_._8/attention/output/dense/bias:0', 'tf_bert_model_16/bert/encoder/layer_._8/attention/output/LayerNorm/gamma:0', 'tf_bert_model_16/bert/encoder/layer_._8/attention/output/LayerNorm/beta:0', 'tf_bert_model_16/bert/encoder/layer_._8/intermediate/dense/kernel:0', 'tf_bert_model_16/bert/encoder/layer_._8/intermediate/dense/bias:0', 'tf_bert_model_16/bert/encoder/layer_._8/output/dense/kernel:0', 'tf_bert_model_16/bert/encoder/layer_._8/output/dense/bias:0', 'tf_bert_model_16/bert/encoder/layer_._8/output/LayerNorm/gamma:0', 'tf_bert_model_16/bert/encoder/layer_._8/output/LayerNorm/beta:0', 'tf_bert_model_16/bert/encoder/layer_._9/attention/self/query/kernel:0', 'tf_bert_model_16/bert/encoder/layer_._9/attention/self/query/bias:0', 'tf_bert_model_16/bert/encoder/layer_._9/attention/self/key/kernel:0', 'tf_bert_model_16/bert/encoder/layer_._9/attention/self/key/bias:0', 'tf_bert_model_16/bert/encoder/layer_._9/attention/self/value/kernel:0', 'tf_bert_model_16/bert/encoder/layer_._9/attention/self/value/bias:0', 'tf_bert_model_16/bert/encoder/layer_._9/attention/output/dense/kernel:0', 'tf_bert_model_16/bert/encoder/layer_._9/attention/output/dense/bias:0', 'tf_bert_model_16/bert/encoder/layer_._9/attention/output/LayerNorm/gamma:0', 'tf_bert_model_16/bert/encoder/layer_._9/attention/output/LayerNorm/beta:0', 'tf_bert_model_16/bert/encoder/layer_._9/intermediate/dense/kernel:0', 'tf_bert_model_16/bert/encoder/layer_._9/intermediate/dense/bias:0', 'tf_bert_model_16/bert/encoder/layer_._9/output/dense/kernel:0', 'tf_bert_model_16/bert/encoder/layer_._9/output/dense/bias:0', 'tf_bert_model_16/bert/encoder/layer_._9/output/LayerNorm/gamma:0', 'tf_bert_model_16/bert/encoder/layer_._9/output/LayerNorm/beta:0', 'tf_bert_model_16/bert/encoder/layer_._10/attention/self/query/kernel:0', 'tf_bert_model_16/bert/encoder/layer_._10/attention/self/query/bias:0', 'tf_bert_model_16/bert/encoder/layer_._10/attention/self/key/kernel:0', 'tf_bert_model_16/bert/encoder/layer_._10/attention/self/key/bias:0', 'tf_bert_model_16/bert/encoder/layer_._10/attention/self/value/kernel:0', 'tf_bert_model_16/bert/encoder/layer_._10/attention/self/value/bias:0', 'tf_bert_model_16/bert/encoder/layer_._10/attention/output/dense/kernel:0', 'tf_bert_model_16/bert/encoder/layer_._10/attention/output/dense/bias:0', 'tf_bert_model_16/bert/encoder/layer_._10/attention/output/LayerNorm/gamma:0', 'tf_bert_model_16/bert/encoder/layer_._10/attention/output/LayerNorm/beta:0', 'tf_bert_model_16/bert/encoder/layer_._10/intermediate/dense/kernel:0', 'tf_bert_model_16/bert/encoder/layer_._10/intermediate/dense/bias:0', 'tf_bert_model_16/bert/encoder/layer_._10/output/dense/kernel:0', 'tf_bert_model_16/bert/encoder/layer_._10/output/dense/bias:0', 'tf_bert_model_16/bert/encoder/layer_._10/output/LayerNorm/gamma:0', 'tf_bert_model_16/bert/encoder/layer_._10/output/LayerNorm/beta:0', 'tf_bert_model_16/bert/pooler/dense/kernel:0', 'tf_bert_model_16/bert/pooler/dense/bias:0'] when minimizing the loss. If you're using `model.compile()`, did you forget to provide a `loss`argument?\n",
            "WARNING:tensorflow:Gradients do not exist for variables ['tf_bert_model_16/bert/embeddings/word_embeddings/weight:0', 'tf_bert_model_16/bert/embeddings/token_type_embeddings/embeddings:0', 'tf_bert_model_16/bert/embeddings/position_embeddings/embeddings:0', 'tf_bert_model_16/bert/embeddings/LayerNorm/gamma:0', 'tf_bert_model_16/bert/embeddings/LayerNorm/beta:0', 'tf_bert_model_16/bert/encoder/layer_._0/attention/self/query/kernel:0', 'tf_bert_model_16/bert/encoder/layer_._0/attention/self/query/bias:0', 'tf_bert_model_16/bert/encoder/layer_._0/attention/self/key/kernel:0', 'tf_bert_model_16/bert/encoder/layer_._0/attention/self/key/bias:0', 'tf_bert_model_16/bert/encoder/layer_._0/attention/self/value/kernel:0', 'tf_bert_model_16/bert/encoder/layer_._0/attention/self/value/bias:0', 'tf_bert_model_16/bert/encoder/layer_._0/attention/output/dense/kernel:0', 'tf_bert_model_16/bert/encoder/layer_._0/attention/output/dense/bias:0', 'tf_bert_model_16/bert/encoder/layer_._0/attention/output/LayerNorm/gamma:0', 'tf_bert_model_16/bert/encoder/layer_._0/attention/output/LayerNorm/beta:0', 'tf_bert_model_16/bert/encoder/layer_._0/intermediate/dense/kernel:0', 'tf_bert_model_16/bert/encoder/layer_._0/intermediate/dense/bias:0', 'tf_bert_model_16/bert/encoder/layer_._0/output/dense/kernel:0', 'tf_bert_model_16/bert/encoder/layer_._0/output/dense/bias:0', 'tf_bert_model_16/bert/encoder/layer_._0/output/LayerNorm/gamma:0', 'tf_bert_model_16/bert/encoder/layer_._0/output/LayerNorm/beta:0', 'tf_bert_model_16/bert/encoder/layer_._1/attention/self/query/kernel:0', 'tf_bert_model_16/bert/encoder/layer_._1/attention/self/query/bias:0', 'tf_bert_model_16/bert/encoder/layer_._1/attention/self/key/kernel:0', 'tf_bert_model_16/bert/encoder/layer_._1/attention/self/key/bias:0', 'tf_bert_model_16/bert/encoder/layer_._1/attention/self/value/kernel:0', 'tf_bert_model_16/bert/encoder/layer_._1/attention/self/value/bias:0', 'tf_bert_model_16/bert/encoder/layer_._1/attention/output/dense/kernel:0', 'tf_bert_model_16/bert/encoder/layer_._1/attention/output/dense/bias:0', 'tf_bert_model_16/bert/encoder/layer_._1/attention/output/LayerNorm/gamma:0', 'tf_bert_model_16/bert/encoder/layer_._1/attention/output/LayerNorm/beta:0', 'tf_bert_model_16/bert/encoder/layer_._1/intermediate/dense/kernel:0', 'tf_bert_model_16/bert/encoder/layer_._1/intermediate/dense/bias:0', 'tf_bert_model_16/bert/encoder/layer_._1/output/dense/kernel:0', 'tf_bert_model_16/bert/encoder/layer_._1/output/dense/bias:0', 'tf_bert_model_16/bert/encoder/layer_._1/output/LayerNorm/gamma:0', 'tf_bert_model_16/bert/encoder/layer_._1/output/LayerNorm/beta:0', 'tf_bert_model_16/bert/encoder/layer_._2/attention/self/query/kernel:0', 'tf_bert_model_16/bert/encoder/layer_._2/attention/self/query/bias:0', 'tf_bert_model_16/bert/encoder/layer_._2/attention/self/key/kernel:0', 'tf_bert_model_16/bert/encoder/layer_._2/attention/self/key/bias:0', 'tf_bert_model_16/bert/encoder/layer_._2/attention/self/value/kernel:0', 'tf_bert_model_16/bert/encoder/layer_._2/attention/self/value/bias:0', 'tf_bert_model_16/bert/encoder/layer_._2/attention/output/dense/kernel:0', 'tf_bert_model_16/bert/encoder/layer_._2/attention/output/dense/bias:0', 'tf_bert_model_16/bert/encoder/layer_._2/attention/output/LayerNorm/gamma:0', 'tf_bert_model_16/bert/encoder/layer_._2/attention/output/LayerNorm/beta:0', 'tf_bert_model_16/bert/encoder/layer_._2/intermediate/dense/kernel:0', 'tf_bert_model_16/bert/encoder/layer_._2/intermediate/dense/bias:0', 'tf_bert_model_16/bert/encoder/layer_._2/output/dense/kernel:0', 'tf_bert_model_16/bert/encoder/layer_._2/output/dense/bias:0', 'tf_bert_model_16/bert/encoder/layer_._2/output/LayerNorm/gamma:0', 'tf_bert_model_16/bert/encoder/layer_._2/output/LayerNorm/beta:0', 'tf_bert_model_16/bert/encoder/layer_._3/attention/self/query/kernel:0', 'tf_bert_model_16/bert/encoder/layer_._3/attention/self/query/bias:0', 'tf_bert_model_16/bert/encoder/layer_._3/attention/self/key/kernel:0', 'tf_bert_model_16/bert/encoder/layer_._3/attention/self/key/bias:0', 'tf_bert_model_16/bert/encoder/layer_._3/attention/self/value/kernel:0', 'tf_bert_model_16/bert/encoder/layer_._3/attention/self/value/bias:0', 'tf_bert_model_16/bert/encoder/layer_._3/attention/output/dense/kernel:0', 'tf_bert_model_16/bert/encoder/layer_._3/attention/output/dense/bias:0', 'tf_bert_model_16/bert/encoder/layer_._3/attention/output/LayerNorm/gamma:0', 'tf_bert_model_16/bert/encoder/layer_._3/attention/output/LayerNorm/beta:0', 'tf_bert_model_16/bert/encoder/layer_._3/intermediate/dense/kernel:0', 'tf_bert_model_16/bert/encoder/layer_._3/intermediate/dense/bias:0', 'tf_bert_model_16/bert/encoder/layer_._3/output/dense/kernel:0', 'tf_bert_model_16/bert/encoder/layer_._3/output/dense/bias:0', 'tf_bert_model_16/bert/encoder/layer_._3/output/LayerNorm/gamma:0', 'tf_bert_model_16/bert/encoder/layer_._3/output/LayerNorm/beta:0', 'tf_bert_model_16/bert/encoder/layer_._4/attention/self/query/kernel:0', 'tf_bert_model_16/bert/encoder/layer_._4/attention/self/query/bias:0', 'tf_bert_model_16/bert/encoder/layer_._4/attention/self/key/kernel:0', 'tf_bert_model_16/bert/encoder/layer_._4/attention/self/key/bias:0', 'tf_bert_model_16/bert/encoder/layer_._4/attention/self/value/kernel:0', 'tf_bert_model_16/bert/encoder/layer_._4/attention/self/value/bias:0', 'tf_bert_model_16/bert/encoder/layer_._4/attention/output/dense/kernel:0', 'tf_bert_model_16/bert/encoder/layer_._4/attention/output/dense/bias:0', 'tf_bert_model_16/bert/encoder/layer_._4/attention/output/LayerNorm/gamma:0', 'tf_bert_model_16/bert/encoder/layer_._4/attention/output/LayerNorm/beta:0', 'tf_bert_model_16/bert/encoder/layer_._4/intermediate/dense/kernel:0', 'tf_bert_model_16/bert/encoder/layer_._4/intermediate/dense/bias:0', 'tf_bert_model_16/bert/encoder/layer_._4/output/dense/kernel:0', 'tf_bert_model_16/bert/encoder/layer_._4/output/dense/bias:0', 'tf_bert_model_16/bert/encoder/layer_._4/output/LayerNorm/gamma:0', 'tf_bert_model_16/bert/encoder/layer_._4/output/LayerNorm/beta:0', 'tf_bert_model_16/bert/encoder/layer_._5/attention/self/query/kernel:0', 'tf_bert_model_16/bert/encoder/layer_._5/attention/self/query/bias:0', 'tf_bert_model_16/bert/encoder/layer_._5/attention/self/key/kernel:0', 'tf_bert_model_16/bert/encoder/layer_._5/attention/self/key/bias:0', 'tf_bert_model_16/bert/encoder/layer_._5/attention/self/value/kernel:0', 'tf_bert_model_16/bert/encoder/layer_._5/attention/self/value/bias:0', 'tf_bert_model_16/bert/encoder/layer_._5/attention/output/dense/kernel:0', 'tf_bert_model_16/bert/encoder/layer_._5/attention/output/dense/bias:0', 'tf_bert_model_16/bert/encoder/layer_._5/attention/output/LayerNorm/gamma:0', 'tf_bert_model_16/bert/encoder/layer_._5/attention/output/LayerNorm/beta:0', 'tf_bert_model_16/bert/encoder/layer_._5/intermediate/dense/kernel:0', 'tf_bert_model_16/bert/encoder/layer_._5/intermediate/dense/bias:0', 'tf_bert_model_16/bert/encoder/layer_._5/output/dense/kernel:0', 'tf_bert_model_16/bert/encoder/layer_._5/output/dense/bias:0', 'tf_bert_model_16/bert/encoder/layer_._5/output/LayerNorm/gamma:0', 'tf_bert_model_16/bert/encoder/layer_._5/output/LayerNorm/beta:0', 'tf_bert_model_16/bert/encoder/layer_._6/attention/self/query/kernel:0', 'tf_bert_model_16/bert/encoder/layer_._6/attention/self/query/bias:0', 'tf_bert_model_16/bert/encoder/layer_._6/attention/self/key/kernel:0', 'tf_bert_model_16/bert/encoder/layer_._6/attention/self/key/bias:0', 'tf_bert_model_16/bert/encoder/layer_._6/attention/self/value/kernel:0', 'tf_bert_model_16/bert/encoder/layer_._6/attention/self/value/bias:0', 'tf_bert_model_16/bert/encoder/layer_._6/attention/output/dense/kernel:0', 'tf_bert_model_16/bert/encoder/layer_._6/attention/output/dense/bias:0', 'tf_bert_model_16/bert/encoder/layer_._6/attention/output/LayerNorm/gamma:0', 'tf_bert_model_16/bert/encoder/layer_._6/attention/output/LayerNorm/beta:0', 'tf_bert_model_16/bert/encoder/layer_._6/intermediate/dense/kernel:0', 'tf_bert_model_16/bert/encoder/layer_._6/intermediate/dense/bias:0', 'tf_bert_model_16/bert/encoder/layer_._6/output/dense/kernel:0', 'tf_bert_model_16/bert/encoder/layer_._6/output/dense/bias:0', 'tf_bert_model_16/bert/encoder/layer_._6/output/LayerNorm/gamma:0', 'tf_bert_model_16/bert/encoder/layer_._6/output/LayerNorm/beta:0', 'tf_bert_model_16/bert/encoder/layer_._7/attention/self/query/kernel:0', 'tf_bert_model_16/bert/encoder/layer_._7/attention/self/query/bias:0', 'tf_bert_model_16/bert/encoder/layer_._7/attention/self/key/kernel:0', 'tf_bert_model_16/bert/encoder/layer_._7/attention/self/key/bias:0', 'tf_bert_model_16/bert/encoder/layer_._7/attention/self/value/kernel:0', 'tf_bert_model_16/bert/encoder/layer_._7/attention/self/value/bias:0', 'tf_bert_model_16/bert/encoder/layer_._7/attention/output/dense/kernel:0', 'tf_bert_model_16/bert/encoder/layer_._7/attention/output/dense/bias:0', 'tf_bert_model_16/bert/encoder/layer_._7/attention/output/LayerNorm/gamma:0', 'tf_bert_model_16/bert/encoder/layer_._7/attention/output/LayerNorm/beta:0', 'tf_bert_model_16/bert/encoder/layer_._7/intermediate/dense/kernel:0', 'tf_bert_model_16/bert/encoder/layer_._7/intermediate/dense/bias:0', 'tf_bert_model_16/bert/encoder/layer_._7/output/dense/kernel:0', 'tf_bert_model_16/bert/encoder/layer_._7/output/dense/bias:0', 'tf_bert_model_16/bert/encoder/layer_._7/output/LayerNorm/gamma:0', 'tf_bert_model_16/bert/encoder/layer_._7/output/LayerNorm/beta:0', 'tf_bert_model_16/bert/encoder/layer_._8/attention/self/query/kernel:0', 'tf_bert_model_16/bert/encoder/layer_._8/attention/self/query/bias:0', 'tf_bert_model_16/bert/encoder/layer_._8/attention/self/key/kernel:0', 'tf_bert_model_16/bert/encoder/layer_._8/attention/self/key/bias:0', 'tf_bert_model_16/bert/encoder/layer_._8/attention/self/value/kernel:0', 'tf_bert_model_16/bert/encoder/layer_._8/attention/self/value/bias:0', 'tf_bert_model_16/bert/encoder/layer_._8/attention/output/dense/kernel:0', 'tf_bert_model_16/bert/encoder/layer_._8/attention/output/dense/bias:0', 'tf_bert_model_16/bert/encoder/layer_._8/attention/output/LayerNorm/gamma:0', 'tf_bert_model_16/bert/encoder/layer_._8/attention/output/LayerNorm/beta:0', 'tf_bert_model_16/bert/encoder/layer_._8/intermediate/dense/kernel:0', 'tf_bert_model_16/bert/encoder/layer_._8/intermediate/dense/bias:0', 'tf_bert_model_16/bert/encoder/layer_._8/output/dense/kernel:0', 'tf_bert_model_16/bert/encoder/layer_._8/output/dense/bias:0', 'tf_bert_model_16/bert/encoder/layer_._8/output/LayerNorm/gamma:0', 'tf_bert_model_16/bert/encoder/layer_._8/output/LayerNorm/beta:0', 'tf_bert_model_16/bert/encoder/layer_._9/attention/self/query/kernel:0', 'tf_bert_model_16/bert/encoder/layer_._9/attention/self/query/bias:0', 'tf_bert_model_16/bert/encoder/layer_._9/attention/self/key/kernel:0', 'tf_bert_model_16/bert/encoder/layer_._9/attention/self/key/bias:0', 'tf_bert_model_16/bert/encoder/layer_._9/attention/self/value/kernel:0', 'tf_bert_model_16/bert/encoder/layer_._9/attention/self/value/bias:0', 'tf_bert_model_16/bert/encoder/layer_._9/attention/output/dense/kernel:0', 'tf_bert_model_16/bert/encoder/layer_._9/attention/output/dense/bias:0', 'tf_bert_model_16/bert/encoder/layer_._9/attention/output/LayerNorm/gamma:0', 'tf_bert_model_16/bert/encoder/layer_._9/attention/output/LayerNorm/beta:0', 'tf_bert_model_16/bert/encoder/layer_._9/intermediate/dense/kernel:0', 'tf_bert_model_16/bert/encoder/layer_._9/intermediate/dense/bias:0', 'tf_bert_model_16/bert/encoder/layer_._9/output/dense/kernel:0', 'tf_bert_model_16/bert/encoder/layer_._9/output/dense/bias:0', 'tf_bert_model_16/bert/encoder/layer_._9/output/LayerNorm/gamma:0', 'tf_bert_model_16/bert/encoder/layer_._9/output/LayerNorm/beta:0', 'tf_bert_model_16/bert/encoder/layer_._10/attention/self/query/kernel:0', 'tf_bert_model_16/bert/encoder/layer_._10/attention/self/query/bias:0', 'tf_bert_model_16/bert/encoder/layer_._10/attention/self/key/kernel:0', 'tf_bert_model_16/bert/encoder/layer_._10/attention/self/key/bias:0', 'tf_bert_model_16/bert/encoder/layer_._10/attention/self/value/kernel:0', 'tf_bert_model_16/bert/encoder/layer_._10/attention/self/value/bias:0', 'tf_bert_model_16/bert/encoder/layer_._10/attention/output/dense/kernel:0', 'tf_bert_model_16/bert/encoder/layer_._10/attention/output/dense/bias:0', 'tf_bert_model_16/bert/encoder/layer_._10/attention/output/LayerNorm/gamma:0', 'tf_bert_model_16/bert/encoder/layer_._10/attention/output/LayerNorm/beta:0', 'tf_bert_model_16/bert/encoder/layer_._10/intermediate/dense/kernel:0', 'tf_bert_model_16/bert/encoder/layer_._10/intermediate/dense/bias:0', 'tf_bert_model_16/bert/encoder/layer_._10/output/dense/kernel:0', 'tf_bert_model_16/bert/encoder/layer_._10/output/dense/bias:0', 'tf_bert_model_16/bert/encoder/layer_._10/output/LayerNorm/gamma:0', 'tf_bert_model_16/bert/encoder/layer_._10/output/LayerNorm/beta:0', 'tf_bert_model_16/bert/pooler/dense/kernel:0', 'tf_bert_model_16/bert/pooler/dense/bias:0'] when minimizing the loss. If you're using `model.compile()`, did you forget to provide a `loss`argument?\n",
            "489/489 [==============================] - 41s 69ms/step - loss: 0.1233 - accuracy: 0.9539 - val_loss: 0.0469 - val_accuracy: 0.9861\n",
            "Epoch 2/3\n",
            "489/489 [==============================] - 30s 62ms/step - loss: 0.0403 - accuracy: 0.9872 - val_loss: 0.1476 - val_accuracy: 0.9444\n",
            "Epoch 3/3\n",
            "489/489 [==============================] - 31s 63ms/step - loss: 0.0316 - accuracy: 0.9882 - val_loss: 0.0430 - val_accuracy: 0.9894\n",
            "BERT 3e + CNN kernel un, train: accuracy = 0.9995, precision = 0.9976, recall = 1.0000, f1 = 0.9988\n",
            "validation: accuracy = 0.9939, precision = 0.9900, recall = 0.9802, f1 = 0.9851\n"
          ]
        },
        {
          "output_type": "stream",
          "name": "stderr",
          "text": [
            "Some layers from the model checkpoint at bert-base-cased were not used when initializing TFBertModel: ['nsp___cls', 'mlm___cls']\n",
            "- This IS expected if you are initializing TFBertModel from the checkpoint of a model trained on another task or with another architecture (e.g. initializing a BertForSequenceClassification model from a BertForPreTraining model).\n",
            "- This IS NOT expected if you are initializing TFBertModel from the checkpoint of a model that you expect to be exactly identical (initializing a BertForSequenceClassification model from a BertForSequenceClassification model).\n",
            "All the layers of TFBertModel were initialized from the model checkpoint at bert-base-cased.\n",
            "If your task is similar to the task the model of the checkpoint was trained on, you can already use TFBertModel for predictions without further training.\n"
          ]
        },
        {
          "output_type": "stream",
          "name": "stdout",
          "text": [
            "Epoch 1/3\n",
            "WARNING:tensorflow:Gradients do not exist for variables ['tf_bert_model_17/bert/embeddings/word_embeddings/weight:0', 'tf_bert_model_17/bert/embeddings/token_type_embeddings/embeddings:0', 'tf_bert_model_17/bert/embeddings/position_embeddings/embeddings:0', 'tf_bert_model_17/bert/embeddings/LayerNorm/gamma:0', 'tf_bert_model_17/bert/embeddings/LayerNorm/beta:0', 'tf_bert_model_17/bert/encoder/layer_._0/attention/self/query/kernel:0', 'tf_bert_model_17/bert/encoder/layer_._0/attention/self/query/bias:0', 'tf_bert_model_17/bert/encoder/layer_._0/attention/self/key/kernel:0', 'tf_bert_model_17/bert/encoder/layer_._0/attention/self/key/bias:0', 'tf_bert_model_17/bert/encoder/layer_._0/attention/self/value/kernel:0', 'tf_bert_model_17/bert/encoder/layer_._0/attention/self/value/bias:0', 'tf_bert_model_17/bert/encoder/layer_._0/attention/output/dense/kernel:0', 'tf_bert_model_17/bert/encoder/layer_._0/attention/output/dense/bias:0', 'tf_bert_model_17/bert/encoder/layer_._0/attention/output/LayerNorm/gamma:0', 'tf_bert_model_17/bert/encoder/layer_._0/attention/output/LayerNorm/beta:0', 'tf_bert_model_17/bert/encoder/layer_._0/intermediate/dense/kernel:0', 'tf_bert_model_17/bert/encoder/layer_._0/intermediate/dense/bias:0', 'tf_bert_model_17/bert/encoder/layer_._0/output/dense/kernel:0', 'tf_bert_model_17/bert/encoder/layer_._0/output/dense/bias:0', 'tf_bert_model_17/bert/encoder/layer_._0/output/LayerNorm/gamma:0', 'tf_bert_model_17/bert/encoder/layer_._0/output/LayerNorm/beta:0', 'tf_bert_model_17/bert/encoder/layer_._1/attention/self/query/kernel:0', 'tf_bert_model_17/bert/encoder/layer_._1/attention/self/query/bias:0', 'tf_bert_model_17/bert/encoder/layer_._1/attention/self/key/kernel:0', 'tf_bert_model_17/bert/encoder/layer_._1/attention/self/key/bias:0', 'tf_bert_model_17/bert/encoder/layer_._1/attention/self/value/kernel:0', 'tf_bert_model_17/bert/encoder/layer_._1/attention/self/value/bias:0', 'tf_bert_model_17/bert/encoder/layer_._1/attention/output/dense/kernel:0', 'tf_bert_model_17/bert/encoder/layer_._1/attention/output/dense/bias:0', 'tf_bert_model_17/bert/encoder/layer_._1/attention/output/LayerNorm/gamma:0', 'tf_bert_model_17/bert/encoder/layer_._1/attention/output/LayerNorm/beta:0', 'tf_bert_model_17/bert/encoder/layer_._1/intermediate/dense/kernel:0', 'tf_bert_model_17/bert/encoder/layer_._1/intermediate/dense/bias:0', 'tf_bert_model_17/bert/encoder/layer_._1/output/dense/kernel:0', 'tf_bert_model_17/bert/encoder/layer_._1/output/dense/bias:0', 'tf_bert_model_17/bert/encoder/layer_._1/output/LayerNorm/gamma:0', 'tf_bert_model_17/bert/encoder/layer_._1/output/LayerNorm/beta:0', 'tf_bert_model_17/bert/encoder/layer_._2/attention/self/query/kernel:0', 'tf_bert_model_17/bert/encoder/layer_._2/attention/self/query/bias:0', 'tf_bert_model_17/bert/encoder/layer_._2/attention/self/key/kernel:0', 'tf_bert_model_17/bert/encoder/layer_._2/attention/self/key/bias:0', 'tf_bert_model_17/bert/encoder/layer_._2/attention/self/value/kernel:0', 'tf_bert_model_17/bert/encoder/layer_._2/attention/self/value/bias:0', 'tf_bert_model_17/bert/encoder/layer_._2/attention/output/dense/kernel:0', 'tf_bert_model_17/bert/encoder/layer_._2/attention/output/dense/bias:0', 'tf_bert_model_17/bert/encoder/layer_._2/attention/output/LayerNorm/gamma:0', 'tf_bert_model_17/bert/encoder/layer_._2/attention/output/LayerNorm/beta:0', 'tf_bert_model_17/bert/encoder/layer_._2/intermediate/dense/kernel:0', 'tf_bert_model_17/bert/encoder/layer_._2/intermediate/dense/bias:0', 'tf_bert_model_17/bert/encoder/layer_._2/output/dense/kernel:0', 'tf_bert_model_17/bert/encoder/layer_._2/output/dense/bias:0', 'tf_bert_model_17/bert/encoder/layer_._2/output/LayerNorm/gamma:0', 'tf_bert_model_17/bert/encoder/layer_._2/output/LayerNorm/beta:0', 'tf_bert_model_17/bert/encoder/layer_._3/attention/self/query/kernel:0', 'tf_bert_model_17/bert/encoder/layer_._3/attention/self/query/bias:0', 'tf_bert_model_17/bert/encoder/layer_._3/attention/self/key/kernel:0', 'tf_bert_model_17/bert/encoder/layer_._3/attention/self/key/bias:0', 'tf_bert_model_17/bert/encoder/layer_._3/attention/self/value/kernel:0', 'tf_bert_model_17/bert/encoder/layer_._3/attention/self/value/bias:0', 'tf_bert_model_17/bert/encoder/layer_._3/attention/output/dense/kernel:0', 'tf_bert_model_17/bert/encoder/layer_._3/attention/output/dense/bias:0', 'tf_bert_model_17/bert/encoder/layer_._3/attention/output/LayerNorm/gamma:0', 'tf_bert_model_17/bert/encoder/layer_._3/attention/output/LayerNorm/beta:0', 'tf_bert_model_17/bert/encoder/layer_._3/intermediate/dense/kernel:0', 'tf_bert_model_17/bert/encoder/layer_._3/intermediate/dense/bias:0', 'tf_bert_model_17/bert/encoder/layer_._3/output/dense/kernel:0', 'tf_bert_model_17/bert/encoder/layer_._3/output/dense/bias:0', 'tf_bert_model_17/bert/encoder/layer_._3/output/LayerNorm/gamma:0', 'tf_bert_model_17/bert/encoder/layer_._3/output/LayerNorm/beta:0', 'tf_bert_model_17/bert/encoder/layer_._4/attention/self/query/kernel:0', 'tf_bert_model_17/bert/encoder/layer_._4/attention/self/query/bias:0', 'tf_bert_model_17/bert/encoder/layer_._4/attention/self/key/kernel:0', 'tf_bert_model_17/bert/encoder/layer_._4/attention/self/key/bias:0', 'tf_bert_model_17/bert/encoder/layer_._4/attention/self/value/kernel:0', 'tf_bert_model_17/bert/encoder/layer_._4/attention/self/value/bias:0', 'tf_bert_model_17/bert/encoder/layer_._4/attention/output/dense/kernel:0', 'tf_bert_model_17/bert/encoder/layer_._4/attention/output/dense/bias:0', 'tf_bert_model_17/bert/encoder/layer_._4/attention/output/LayerNorm/gamma:0', 'tf_bert_model_17/bert/encoder/layer_._4/attention/output/LayerNorm/beta:0', 'tf_bert_model_17/bert/encoder/layer_._4/intermediate/dense/kernel:0', 'tf_bert_model_17/bert/encoder/layer_._4/intermediate/dense/bias:0', 'tf_bert_model_17/bert/encoder/layer_._4/output/dense/kernel:0', 'tf_bert_model_17/bert/encoder/layer_._4/output/dense/bias:0', 'tf_bert_model_17/bert/encoder/layer_._4/output/LayerNorm/gamma:0', 'tf_bert_model_17/bert/encoder/layer_._4/output/LayerNorm/beta:0', 'tf_bert_model_17/bert/encoder/layer_._5/attention/self/query/kernel:0', 'tf_bert_model_17/bert/encoder/layer_._5/attention/self/query/bias:0', 'tf_bert_model_17/bert/encoder/layer_._5/attention/self/key/kernel:0', 'tf_bert_model_17/bert/encoder/layer_._5/attention/self/key/bias:0', 'tf_bert_model_17/bert/encoder/layer_._5/attention/self/value/kernel:0', 'tf_bert_model_17/bert/encoder/layer_._5/attention/self/value/bias:0', 'tf_bert_model_17/bert/encoder/layer_._5/attention/output/dense/kernel:0', 'tf_bert_model_17/bert/encoder/layer_._5/attention/output/dense/bias:0', 'tf_bert_model_17/bert/encoder/layer_._5/attention/output/LayerNorm/gamma:0', 'tf_bert_model_17/bert/encoder/layer_._5/attention/output/LayerNorm/beta:0', 'tf_bert_model_17/bert/encoder/layer_._5/intermediate/dense/kernel:0', 'tf_bert_model_17/bert/encoder/layer_._5/intermediate/dense/bias:0', 'tf_bert_model_17/bert/encoder/layer_._5/output/dense/kernel:0', 'tf_bert_model_17/bert/encoder/layer_._5/output/dense/bias:0', 'tf_bert_model_17/bert/encoder/layer_._5/output/LayerNorm/gamma:0', 'tf_bert_model_17/bert/encoder/layer_._5/output/LayerNorm/beta:0', 'tf_bert_model_17/bert/encoder/layer_._6/attention/self/query/kernel:0', 'tf_bert_model_17/bert/encoder/layer_._6/attention/self/query/bias:0', 'tf_bert_model_17/bert/encoder/layer_._6/attention/self/key/kernel:0', 'tf_bert_model_17/bert/encoder/layer_._6/attention/self/key/bias:0', 'tf_bert_model_17/bert/encoder/layer_._6/attention/self/value/kernel:0', 'tf_bert_model_17/bert/encoder/layer_._6/attention/self/value/bias:0', 'tf_bert_model_17/bert/encoder/layer_._6/attention/output/dense/kernel:0', 'tf_bert_model_17/bert/encoder/layer_._6/attention/output/dense/bias:0', 'tf_bert_model_17/bert/encoder/layer_._6/attention/output/LayerNorm/gamma:0', 'tf_bert_model_17/bert/encoder/layer_._6/attention/output/LayerNorm/beta:0', 'tf_bert_model_17/bert/encoder/layer_._6/intermediate/dense/kernel:0', 'tf_bert_model_17/bert/encoder/layer_._6/intermediate/dense/bias:0', 'tf_bert_model_17/bert/encoder/layer_._6/output/dense/kernel:0', 'tf_bert_model_17/bert/encoder/layer_._6/output/dense/bias:0', 'tf_bert_model_17/bert/encoder/layer_._6/output/LayerNorm/gamma:0', 'tf_bert_model_17/bert/encoder/layer_._6/output/LayerNorm/beta:0', 'tf_bert_model_17/bert/encoder/layer_._7/attention/self/query/kernel:0', 'tf_bert_model_17/bert/encoder/layer_._7/attention/self/query/bias:0', 'tf_bert_model_17/bert/encoder/layer_._7/attention/self/key/kernel:0', 'tf_bert_model_17/bert/encoder/layer_._7/attention/self/key/bias:0', 'tf_bert_model_17/bert/encoder/layer_._7/attention/self/value/kernel:0', 'tf_bert_model_17/bert/encoder/layer_._7/attention/self/value/bias:0', 'tf_bert_model_17/bert/encoder/layer_._7/attention/output/dense/kernel:0', 'tf_bert_model_17/bert/encoder/layer_._7/attention/output/dense/bias:0', 'tf_bert_model_17/bert/encoder/layer_._7/attention/output/LayerNorm/gamma:0', 'tf_bert_model_17/bert/encoder/layer_._7/attention/output/LayerNorm/beta:0', 'tf_bert_model_17/bert/encoder/layer_._7/intermediate/dense/kernel:0', 'tf_bert_model_17/bert/encoder/layer_._7/intermediate/dense/bias:0', 'tf_bert_model_17/bert/encoder/layer_._7/output/dense/kernel:0', 'tf_bert_model_17/bert/encoder/layer_._7/output/dense/bias:0', 'tf_bert_model_17/bert/encoder/layer_._7/output/LayerNorm/gamma:0', 'tf_bert_model_17/bert/encoder/layer_._7/output/LayerNorm/beta:0', 'tf_bert_model_17/bert/encoder/layer_._8/attention/self/query/kernel:0', 'tf_bert_model_17/bert/encoder/layer_._8/attention/self/query/bias:0', 'tf_bert_model_17/bert/encoder/layer_._8/attention/self/key/kernel:0', 'tf_bert_model_17/bert/encoder/layer_._8/attention/self/key/bias:0', 'tf_bert_model_17/bert/encoder/layer_._8/attention/self/value/kernel:0', 'tf_bert_model_17/bert/encoder/layer_._8/attention/self/value/bias:0', 'tf_bert_model_17/bert/encoder/layer_._8/attention/output/dense/kernel:0', 'tf_bert_model_17/bert/encoder/layer_._8/attention/output/dense/bias:0', 'tf_bert_model_17/bert/encoder/layer_._8/attention/output/LayerNorm/gamma:0', 'tf_bert_model_17/bert/encoder/layer_._8/attention/output/LayerNorm/beta:0', 'tf_bert_model_17/bert/encoder/layer_._8/intermediate/dense/kernel:0', 'tf_bert_model_17/bert/encoder/layer_._8/intermediate/dense/bias:0', 'tf_bert_model_17/bert/encoder/layer_._8/output/dense/kernel:0', 'tf_bert_model_17/bert/encoder/layer_._8/output/dense/bias:0', 'tf_bert_model_17/bert/encoder/layer_._8/output/LayerNorm/gamma:0', 'tf_bert_model_17/bert/encoder/layer_._8/output/LayerNorm/beta:0', 'tf_bert_model_17/bert/encoder/layer_._9/attention/self/query/kernel:0', 'tf_bert_model_17/bert/encoder/layer_._9/attention/self/query/bias:0', 'tf_bert_model_17/bert/encoder/layer_._9/attention/self/key/kernel:0', 'tf_bert_model_17/bert/encoder/layer_._9/attention/self/key/bias:0', 'tf_bert_model_17/bert/encoder/layer_._9/attention/self/value/kernel:0', 'tf_bert_model_17/bert/encoder/layer_._9/attention/self/value/bias:0', 'tf_bert_model_17/bert/encoder/layer_._9/attention/output/dense/kernel:0', 'tf_bert_model_17/bert/encoder/layer_._9/attention/output/dense/bias:0', 'tf_bert_model_17/bert/encoder/layer_._9/attention/output/LayerNorm/gamma:0', 'tf_bert_model_17/bert/encoder/layer_._9/attention/output/LayerNorm/beta:0', 'tf_bert_model_17/bert/encoder/layer_._9/intermediate/dense/kernel:0', 'tf_bert_model_17/bert/encoder/layer_._9/intermediate/dense/bias:0', 'tf_bert_model_17/bert/encoder/layer_._9/output/dense/kernel:0', 'tf_bert_model_17/bert/encoder/layer_._9/output/dense/bias:0', 'tf_bert_model_17/bert/encoder/layer_._9/output/LayerNorm/gamma:0', 'tf_bert_model_17/bert/encoder/layer_._9/output/LayerNorm/beta:0', 'tf_bert_model_17/bert/encoder/layer_._10/attention/self/query/kernel:0', 'tf_bert_model_17/bert/encoder/layer_._10/attention/self/query/bias:0', 'tf_bert_model_17/bert/encoder/layer_._10/attention/self/key/kernel:0', 'tf_bert_model_17/bert/encoder/layer_._10/attention/self/key/bias:0', 'tf_bert_model_17/bert/encoder/layer_._10/attention/self/value/kernel:0', 'tf_bert_model_17/bert/encoder/layer_._10/attention/self/value/bias:0', 'tf_bert_model_17/bert/encoder/layer_._10/attention/output/dense/kernel:0', 'tf_bert_model_17/bert/encoder/layer_._10/attention/output/dense/bias:0', 'tf_bert_model_17/bert/encoder/layer_._10/attention/output/LayerNorm/gamma:0', 'tf_bert_model_17/bert/encoder/layer_._10/attention/output/LayerNorm/beta:0', 'tf_bert_model_17/bert/encoder/layer_._10/intermediate/dense/kernel:0', 'tf_bert_model_17/bert/encoder/layer_._10/intermediate/dense/bias:0', 'tf_bert_model_17/bert/encoder/layer_._10/output/dense/kernel:0', 'tf_bert_model_17/bert/encoder/layer_._10/output/dense/bias:0', 'tf_bert_model_17/bert/encoder/layer_._10/output/LayerNorm/gamma:0', 'tf_bert_model_17/bert/encoder/layer_._10/output/LayerNorm/beta:0', 'tf_bert_model_17/bert/pooler/dense/kernel:0', 'tf_bert_model_17/bert/pooler/dense/bias:0'] when minimizing the loss. If you're using `model.compile()`, did you forget to provide a `loss`argument?\n",
            "WARNING:tensorflow:Gradients do not exist for variables ['tf_bert_model_17/bert/embeddings/word_embeddings/weight:0', 'tf_bert_model_17/bert/embeddings/token_type_embeddings/embeddings:0', 'tf_bert_model_17/bert/embeddings/position_embeddings/embeddings:0', 'tf_bert_model_17/bert/embeddings/LayerNorm/gamma:0', 'tf_bert_model_17/bert/embeddings/LayerNorm/beta:0', 'tf_bert_model_17/bert/encoder/layer_._0/attention/self/query/kernel:0', 'tf_bert_model_17/bert/encoder/layer_._0/attention/self/query/bias:0', 'tf_bert_model_17/bert/encoder/layer_._0/attention/self/key/kernel:0', 'tf_bert_model_17/bert/encoder/layer_._0/attention/self/key/bias:0', 'tf_bert_model_17/bert/encoder/layer_._0/attention/self/value/kernel:0', 'tf_bert_model_17/bert/encoder/layer_._0/attention/self/value/bias:0', 'tf_bert_model_17/bert/encoder/layer_._0/attention/output/dense/kernel:0', 'tf_bert_model_17/bert/encoder/layer_._0/attention/output/dense/bias:0', 'tf_bert_model_17/bert/encoder/layer_._0/attention/output/LayerNorm/gamma:0', 'tf_bert_model_17/bert/encoder/layer_._0/attention/output/LayerNorm/beta:0', 'tf_bert_model_17/bert/encoder/layer_._0/intermediate/dense/kernel:0', 'tf_bert_model_17/bert/encoder/layer_._0/intermediate/dense/bias:0', 'tf_bert_model_17/bert/encoder/layer_._0/output/dense/kernel:0', 'tf_bert_model_17/bert/encoder/layer_._0/output/dense/bias:0', 'tf_bert_model_17/bert/encoder/layer_._0/output/LayerNorm/gamma:0', 'tf_bert_model_17/bert/encoder/layer_._0/output/LayerNorm/beta:0', 'tf_bert_model_17/bert/encoder/layer_._1/attention/self/query/kernel:0', 'tf_bert_model_17/bert/encoder/layer_._1/attention/self/query/bias:0', 'tf_bert_model_17/bert/encoder/layer_._1/attention/self/key/kernel:0', 'tf_bert_model_17/bert/encoder/layer_._1/attention/self/key/bias:0', 'tf_bert_model_17/bert/encoder/layer_._1/attention/self/value/kernel:0', 'tf_bert_model_17/bert/encoder/layer_._1/attention/self/value/bias:0', 'tf_bert_model_17/bert/encoder/layer_._1/attention/output/dense/kernel:0', 'tf_bert_model_17/bert/encoder/layer_._1/attention/output/dense/bias:0', 'tf_bert_model_17/bert/encoder/layer_._1/attention/output/LayerNorm/gamma:0', 'tf_bert_model_17/bert/encoder/layer_._1/attention/output/LayerNorm/beta:0', 'tf_bert_model_17/bert/encoder/layer_._1/intermediate/dense/kernel:0', 'tf_bert_model_17/bert/encoder/layer_._1/intermediate/dense/bias:0', 'tf_bert_model_17/bert/encoder/layer_._1/output/dense/kernel:0', 'tf_bert_model_17/bert/encoder/layer_._1/output/dense/bias:0', 'tf_bert_model_17/bert/encoder/layer_._1/output/LayerNorm/gamma:0', 'tf_bert_model_17/bert/encoder/layer_._1/output/LayerNorm/beta:0', 'tf_bert_model_17/bert/encoder/layer_._2/attention/self/query/kernel:0', 'tf_bert_model_17/bert/encoder/layer_._2/attention/self/query/bias:0', 'tf_bert_model_17/bert/encoder/layer_._2/attention/self/key/kernel:0', 'tf_bert_model_17/bert/encoder/layer_._2/attention/self/key/bias:0', 'tf_bert_model_17/bert/encoder/layer_._2/attention/self/value/kernel:0', 'tf_bert_model_17/bert/encoder/layer_._2/attention/self/value/bias:0', 'tf_bert_model_17/bert/encoder/layer_._2/attention/output/dense/kernel:0', 'tf_bert_model_17/bert/encoder/layer_._2/attention/output/dense/bias:0', 'tf_bert_model_17/bert/encoder/layer_._2/attention/output/LayerNorm/gamma:0', 'tf_bert_model_17/bert/encoder/layer_._2/attention/output/LayerNorm/beta:0', 'tf_bert_model_17/bert/encoder/layer_._2/intermediate/dense/kernel:0', 'tf_bert_model_17/bert/encoder/layer_._2/intermediate/dense/bias:0', 'tf_bert_model_17/bert/encoder/layer_._2/output/dense/kernel:0', 'tf_bert_model_17/bert/encoder/layer_._2/output/dense/bias:0', 'tf_bert_model_17/bert/encoder/layer_._2/output/LayerNorm/gamma:0', 'tf_bert_model_17/bert/encoder/layer_._2/output/LayerNorm/beta:0', 'tf_bert_model_17/bert/encoder/layer_._3/attention/self/query/kernel:0', 'tf_bert_model_17/bert/encoder/layer_._3/attention/self/query/bias:0', 'tf_bert_model_17/bert/encoder/layer_._3/attention/self/key/kernel:0', 'tf_bert_model_17/bert/encoder/layer_._3/attention/self/key/bias:0', 'tf_bert_model_17/bert/encoder/layer_._3/attention/self/value/kernel:0', 'tf_bert_model_17/bert/encoder/layer_._3/attention/self/value/bias:0', 'tf_bert_model_17/bert/encoder/layer_._3/attention/output/dense/kernel:0', 'tf_bert_model_17/bert/encoder/layer_._3/attention/output/dense/bias:0', 'tf_bert_model_17/bert/encoder/layer_._3/attention/output/LayerNorm/gamma:0', 'tf_bert_model_17/bert/encoder/layer_._3/attention/output/LayerNorm/beta:0', 'tf_bert_model_17/bert/encoder/layer_._3/intermediate/dense/kernel:0', 'tf_bert_model_17/bert/encoder/layer_._3/intermediate/dense/bias:0', 'tf_bert_model_17/bert/encoder/layer_._3/output/dense/kernel:0', 'tf_bert_model_17/bert/encoder/layer_._3/output/dense/bias:0', 'tf_bert_model_17/bert/encoder/layer_._3/output/LayerNorm/gamma:0', 'tf_bert_model_17/bert/encoder/layer_._3/output/LayerNorm/beta:0', 'tf_bert_model_17/bert/encoder/layer_._4/attention/self/query/kernel:0', 'tf_bert_model_17/bert/encoder/layer_._4/attention/self/query/bias:0', 'tf_bert_model_17/bert/encoder/layer_._4/attention/self/key/kernel:0', 'tf_bert_model_17/bert/encoder/layer_._4/attention/self/key/bias:0', 'tf_bert_model_17/bert/encoder/layer_._4/attention/self/value/kernel:0', 'tf_bert_model_17/bert/encoder/layer_._4/attention/self/value/bias:0', 'tf_bert_model_17/bert/encoder/layer_._4/attention/output/dense/kernel:0', 'tf_bert_model_17/bert/encoder/layer_._4/attention/output/dense/bias:0', 'tf_bert_model_17/bert/encoder/layer_._4/attention/output/LayerNorm/gamma:0', 'tf_bert_model_17/bert/encoder/layer_._4/attention/output/LayerNorm/beta:0', 'tf_bert_model_17/bert/encoder/layer_._4/intermediate/dense/kernel:0', 'tf_bert_model_17/bert/encoder/layer_._4/intermediate/dense/bias:0', 'tf_bert_model_17/bert/encoder/layer_._4/output/dense/kernel:0', 'tf_bert_model_17/bert/encoder/layer_._4/output/dense/bias:0', 'tf_bert_model_17/bert/encoder/layer_._4/output/LayerNorm/gamma:0', 'tf_bert_model_17/bert/encoder/layer_._4/output/LayerNorm/beta:0', 'tf_bert_model_17/bert/encoder/layer_._5/attention/self/query/kernel:0', 'tf_bert_model_17/bert/encoder/layer_._5/attention/self/query/bias:0', 'tf_bert_model_17/bert/encoder/layer_._5/attention/self/key/kernel:0', 'tf_bert_model_17/bert/encoder/layer_._5/attention/self/key/bias:0', 'tf_bert_model_17/bert/encoder/layer_._5/attention/self/value/kernel:0', 'tf_bert_model_17/bert/encoder/layer_._5/attention/self/value/bias:0', 'tf_bert_model_17/bert/encoder/layer_._5/attention/output/dense/kernel:0', 'tf_bert_model_17/bert/encoder/layer_._5/attention/output/dense/bias:0', 'tf_bert_model_17/bert/encoder/layer_._5/attention/output/LayerNorm/gamma:0', 'tf_bert_model_17/bert/encoder/layer_._5/attention/output/LayerNorm/beta:0', 'tf_bert_model_17/bert/encoder/layer_._5/intermediate/dense/kernel:0', 'tf_bert_model_17/bert/encoder/layer_._5/intermediate/dense/bias:0', 'tf_bert_model_17/bert/encoder/layer_._5/output/dense/kernel:0', 'tf_bert_model_17/bert/encoder/layer_._5/output/dense/bias:0', 'tf_bert_model_17/bert/encoder/layer_._5/output/LayerNorm/gamma:0', 'tf_bert_model_17/bert/encoder/layer_._5/output/LayerNorm/beta:0', 'tf_bert_model_17/bert/encoder/layer_._6/attention/self/query/kernel:0', 'tf_bert_model_17/bert/encoder/layer_._6/attention/self/query/bias:0', 'tf_bert_model_17/bert/encoder/layer_._6/attention/self/key/kernel:0', 'tf_bert_model_17/bert/encoder/layer_._6/attention/self/key/bias:0', 'tf_bert_model_17/bert/encoder/layer_._6/attention/self/value/kernel:0', 'tf_bert_model_17/bert/encoder/layer_._6/attention/self/value/bias:0', 'tf_bert_model_17/bert/encoder/layer_._6/attention/output/dense/kernel:0', 'tf_bert_model_17/bert/encoder/layer_._6/attention/output/dense/bias:0', 'tf_bert_model_17/bert/encoder/layer_._6/attention/output/LayerNorm/gamma:0', 'tf_bert_model_17/bert/encoder/layer_._6/attention/output/LayerNorm/beta:0', 'tf_bert_model_17/bert/encoder/layer_._6/intermediate/dense/kernel:0', 'tf_bert_model_17/bert/encoder/layer_._6/intermediate/dense/bias:0', 'tf_bert_model_17/bert/encoder/layer_._6/output/dense/kernel:0', 'tf_bert_model_17/bert/encoder/layer_._6/output/dense/bias:0', 'tf_bert_model_17/bert/encoder/layer_._6/output/LayerNorm/gamma:0', 'tf_bert_model_17/bert/encoder/layer_._6/output/LayerNorm/beta:0', 'tf_bert_model_17/bert/encoder/layer_._7/attention/self/query/kernel:0', 'tf_bert_model_17/bert/encoder/layer_._7/attention/self/query/bias:0', 'tf_bert_model_17/bert/encoder/layer_._7/attention/self/key/kernel:0', 'tf_bert_model_17/bert/encoder/layer_._7/attention/self/key/bias:0', 'tf_bert_model_17/bert/encoder/layer_._7/attention/self/value/kernel:0', 'tf_bert_model_17/bert/encoder/layer_._7/attention/self/value/bias:0', 'tf_bert_model_17/bert/encoder/layer_._7/attention/output/dense/kernel:0', 'tf_bert_model_17/bert/encoder/layer_._7/attention/output/dense/bias:0', 'tf_bert_model_17/bert/encoder/layer_._7/attention/output/LayerNorm/gamma:0', 'tf_bert_model_17/bert/encoder/layer_._7/attention/output/LayerNorm/beta:0', 'tf_bert_model_17/bert/encoder/layer_._7/intermediate/dense/kernel:0', 'tf_bert_model_17/bert/encoder/layer_._7/intermediate/dense/bias:0', 'tf_bert_model_17/bert/encoder/layer_._7/output/dense/kernel:0', 'tf_bert_model_17/bert/encoder/layer_._7/output/dense/bias:0', 'tf_bert_model_17/bert/encoder/layer_._7/output/LayerNorm/gamma:0', 'tf_bert_model_17/bert/encoder/layer_._7/output/LayerNorm/beta:0', 'tf_bert_model_17/bert/encoder/layer_._8/attention/self/query/kernel:0', 'tf_bert_model_17/bert/encoder/layer_._8/attention/self/query/bias:0', 'tf_bert_model_17/bert/encoder/layer_._8/attention/self/key/kernel:0', 'tf_bert_model_17/bert/encoder/layer_._8/attention/self/key/bias:0', 'tf_bert_model_17/bert/encoder/layer_._8/attention/self/value/kernel:0', 'tf_bert_model_17/bert/encoder/layer_._8/attention/self/value/bias:0', 'tf_bert_model_17/bert/encoder/layer_._8/attention/output/dense/kernel:0', 'tf_bert_model_17/bert/encoder/layer_._8/attention/output/dense/bias:0', 'tf_bert_model_17/bert/encoder/layer_._8/attention/output/LayerNorm/gamma:0', 'tf_bert_model_17/bert/encoder/layer_._8/attention/output/LayerNorm/beta:0', 'tf_bert_model_17/bert/encoder/layer_._8/intermediate/dense/kernel:0', 'tf_bert_model_17/bert/encoder/layer_._8/intermediate/dense/bias:0', 'tf_bert_model_17/bert/encoder/layer_._8/output/dense/kernel:0', 'tf_bert_model_17/bert/encoder/layer_._8/output/dense/bias:0', 'tf_bert_model_17/bert/encoder/layer_._8/output/LayerNorm/gamma:0', 'tf_bert_model_17/bert/encoder/layer_._8/output/LayerNorm/beta:0', 'tf_bert_model_17/bert/encoder/layer_._9/attention/self/query/kernel:0', 'tf_bert_model_17/bert/encoder/layer_._9/attention/self/query/bias:0', 'tf_bert_model_17/bert/encoder/layer_._9/attention/self/key/kernel:0', 'tf_bert_model_17/bert/encoder/layer_._9/attention/self/key/bias:0', 'tf_bert_model_17/bert/encoder/layer_._9/attention/self/value/kernel:0', 'tf_bert_model_17/bert/encoder/layer_._9/attention/self/value/bias:0', 'tf_bert_model_17/bert/encoder/layer_._9/attention/output/dense/kernel:0', 'tf_bert_model_17/bert/encoder/layer_._9/attention/output/dense/bias:0', 'tf_bert_model_17/bert/encoder/layer_._9/attention/output/LayerNorm/gamma:0', 'tf_bert_model_17/bert/encoder/layer_._9/attention/output/LayerNorm/beta:0', 'tf_bert_model_17/bert/encoder/layer_._9/intermediate/dense/kernel:0', 'tf_bert_model_17/bert/encoder/layer_._9/intermediate/dense/bias:0', 'tf_bert_model_17/bert/encoder/layer_._9/output/dense/kernel:0', 'tf_bert_model_17/bert/encoder/layer_._9/output/dense/bias:0', 'tf_bert_model_17/bert/encoder/layer_._9/output/LayerNorm/gamma:0', 'tf_bert_model_17/bert/encoder/layer_._9/output/LayerNorm/beta:0', 'tf_bert_model_17/bert/encoder/layer_._10/attention/self/query/kernel:0', 'tf_bert_model_17/bert/encoder/layer_._10/attention/self/query/bias:0', 'tf_bert_model_17/bert/encoder/layer_._10/attention/self/key/kernel:0', 'tf_bert_model_17/bert/encoder/layer_._10/attention/self/key/bias:0', 'tf_bert_model_17/bert/encoder/layer_._10/attention/self/value/kernel:0', 'tf_bert_model_17/bert/encoder/layer_._10/attention/self/value/bias:0', 'tf_bert_model_17/bert/encoder/layer_._10/attention/output/dense/kernel:0', 'tf_bert_model_17/bert/encoder/layer_._10/attention/output/dense/bias:0', 'tf_bert_model_17/bert/encoder/layer_._10/attention/output/LayerNorm/gamma:0', 'tf_bert_model_17/bert/encoder/layer_._10/attention/output/LayerNorm/beta:0', 'tf_bert_model_17/bert/encoder/layer_._10/intermediate/dense/kernel:0', 'tf_bert_model_17/bert/encoder/layer_._10/intermediate/dense/bias:0', 'tf_bert_model_17/bert/encoder/layer_._10/output/dense/kernel:0', 'tf_bert_model_17/bert/encoder/layer_._10/output/dense/bias:0', 'tf_bert_model_17/bert/encoder/layer_._10/output/LayerNorm/gamma:0', 'tf_bert_model_17/bert/encoder/layer_._10/output/LayerNorm/beta:0', 'tf_bert_model_17/bert/pooler/dense/kernel:0', 'tf_bert_model_17/bert/pooler/dense/bias:0'] when minimizing the loss. If you're using `model.compile()`, did you forget to provide a `loss`argument?\n",
            "489/489 [==============================] - 42s 69ms/step - loss: 0.1348 - accuracy: 0.9557 - val_loss: 0.1111 - val_accuracy: 0.9591\n",
            "Epoch 2/3\n",
            "489/489 [==============================] - 31s 63ms/step - loss: 0.0541 - accuracy: 0.9831 - val_loss: 0.0564 - val_accuracy: 0.9812\n",
            "Epoch 3/3\n",
            "489/489 [==============================] - 31s 63ms/step - loss: 0.0344 - accuracy: 0.9893 - val_loss: 0.0543 - val_accuracy: 0.9869\n",
            "BERT 3e + CNN kernel un, train: accuracy = 0.9980, precision = 0.9915, recall = 0.9988, f1 = 0.9951\n",
            "validation: accuracy = 0.9918, precision = 0.9899, recall = 0.9704, f1 = 0.9801\n"
          ]
        },
        {
          "output_type": "stream",
          "name": "stderr",
          "text": [
            "Some layers from the model checkpoint at bert-base-cased were not used when initializing TFBertModel: ['nsp___cls', 'mlm___cls']\n",
            "- This IS expected if you are initializing TFBertModel from the checkpoint of a model trained on another task or with another architecture (e.g. initializing a BertForSequenceClassification model from a BertForPreTraining model).\n",
            "- This IS NOT expected if you are initializing TFBertModel from the checkpoint of a model that you expect to be exactly identical (initializing a BertForSequenceClassification model from a BertForSequenceClassification model).\n",
            "All the layers of TFBertModel were initialized from the model checkpoint at bert-base-cased.\n",
            "If your task is similar to the task the model of the checkpoint was trained on, you can already use TFBertModel for predictions without further training.\n"
          ]
        },
        {
          "output_type": "stream",
          "name": "stdout",
          "text": [
            "Epoch 1/3\n",
            "WARNING:tensorflow:Gradients do not exist for variables ['tf_bert_model_18/bert/embeddings/word_embeddings/weight:0', 'tf_bert_model_18/bert/embeddings/token_type_embeddings/embeddings:0', 'tf_bert_model_18/bert/embeddings/position_embeddings/embeddings:0', 'tf_bert_model_18/bert/embeddings/LayerNorm/gamma:0', 'tf_bert_model_18/bert/embeddings/LayerNorm/beta:0', 'tf_bert_model_18/bert/encoder/layer_._0/attention/self/query/kernel:0', 'tf_bert_model_18/bert/encoder/layer_._0/attention/self/query/bias:0', 'tf_bert_model_18/bert/encoder/layer_._0/attention/self/key/kernel:0', 'tf_bert_model_18/bert/encoder/layer_._0/attention/self/key/bias:0', 'tf_bert_model_18/bert/encoder/layer_._0/attention/self/value/kernel:0', 'tf_bert_model_18/bert/encoder/layer_._0/attention/self/value/bias:0', 'tf_bert_model_18/bert/encoder/layer_._0/attention/output/dense/kernel:0', 'tf_bert_model_18/bert/encoder/layer_._0/attention/output/dense/bias:0', 'tf_bert_model_18/bert/encoder/layer_._0/attention/output/LayerNorm/gamma:0', 'tf_bert_model_18/bert/encoder/layer_._0/attention/output/LayerNorm/beta:0', 'tf_bert_model_18/bert/encoder/layer_._0/intermediate/dense/kernel:0', 'tf_bert_model_18/bert/encoder/layer_._0/intermediate/dense/bias:0', 'tf_bert_model_18/bert/encoder/layer_._0/output/dense/kernel:0', 'tf_bert_model_18/bert/encoder/layer_._0/output/dense/bias:0', 'tf_bert_model_18/bert/encoder/layer_._0/output/LayerNorm/gamma:0', 'tf_bert_model_18/bert/encoder/layer_._0/output/LayerNorm/beta:0', 'tf_bert_model_18/bert/encoder/layer_._1/attention/self/query/kernel:0', 'tf_bert_model_18/bert/encoder/layer_._1/attention/self/query/bias:0', 'tf_bert_model_18/bert/encoder/layer_._1/attention/self/key/kernel:0', 'tf_bert_model_18/bert/encoder/layer_._1/attention/self/key/bias:0', 'tf_bert_model_18/bert/encoder/layer_._1/attention/self/value/kernel:0', 'tf_bert_model_18/bert/encoder/layer_._1/attention/self/value/bias:0', 'tf_bert_model_18/bert/encoder/layer_._1/attention/output/dense/kernel:0', 'tf_bert_model_18/bert/encoder/layer_._1/attention/output/dense/bias:0', 'tf_bert_model_18/bert/encoder/layer_._1/attention/output/LayerNorm/gamma:0', 'tf_bert_model_18/bert/encoder/layer_._1/attention/output/LayerNorm/beta:0', 'tf_bert_model_18/bert/encoder/layer_._1/intermediate/dense/kernel:0', 'tf_bert_model_18/bert/encoder/layer_._1/intermediate/dense/bias:0', 'tf_bert_model_18/bert/encoder/layer_._1/output/dense/kernel:0', 'tf_bert_model_18/bert/encoder/layer_._1/output/dense/bias:0', 'tf_bert_model_18/bert/encoder/layer_._1/output/LayerNorm/gamma:0', 'tf_bert_model_18/bert/encoder/layer_._1/output/LayerNorm/beta:0', 'tf_bert_model_18/bert/encoder/layer_._2/attention/self/query/kernel:0', 'tf_bert_model_18/bert/encoder/layer_._2/attention/self/query/bias:0', 'tf_bert_model_18/bert/encoder/layer_._2/attention/self/key/kernel:0', 'tf_bert_model_18/bert/encoder/layer_._2/attention/self/key/bias:0', 'tf_bert_model_18/bert/encoder/layer_._2/attention/self/value/kernel:0', 'tf_bert_model_18/bert/encoder/layer_._2/attention/self/value/bias:0', 'tf_bert_model_18/bert/encoder/layer_._2/attention/output/dense/kernel:0', 'tf_bert_model_18/bert/encoder/layer_._2/attention/output/dense/bias:0', 'tf_bert_model_18/bert/encoder/layer_._2/attention/output/LayerNorm/gamma:0', 'tf_bert_model_18/bert/encoder/layer_._2/attention/output/LayerNorm/beta:0', 'tf_bert_model_18/bert/encoder/layer_._2/intermediate/dense/kernel:0', 'tf_bert_model_18/bert/encoder/layer_._2/intermediate/dense/bias:0', 'tf_bert_model_18/bert/encoder/layer_._2/output/dense/kernel:0', 'tf_bert_model_18/bert/encoder/layer_._2/output/dense/bias:0', 'tf_bert_model_18/bert/encoder/layer_._2/output/LayerNorm/gamma:0', 'tf_bert_model_18/bert/encoder/layer_._2/output/LayerNorm/beta:0', 'tf_bert_model_18/bert/encoder/layer_._3/attention/self/query/kernel:0', 'tf_bert_model_18/bert/encoder/layer_._3/attention/self/query/bias:0', 'tf_bert_model_18/bert/encoder/layer_._3/attention/self/key/kernel:0', 'tf_bert_model_18/bert/encoder/layer_._3/attention/self/key/bias:0', 'tf_bert_model_18/bert/encoder/layer_._3/attention/self/value/kernel:0', 'tf_bert_model_18/bert/encoder/layer_._3/attention/self/value/bias:0', 'tf_bert_model_18/bert/encoder/layer_._3/attention/output/dense/kernel:0', 'tf_bert_model_18/bert/encoder/layer_._3/attention/output/dense/bias:0', 'tf_bert_model_18/bert/encoder/layer_._3/attention/output/LayerNorm/gamma:0', 'tf_bert_model_18/bert/encoder/layer_._3/attention/output/LayerNorm/beta:0', 'tf_bert_model_18/bert/encoder/layer_._3/intermediate/dense/kernel:0', 'tf_bert_model_18/bert/encoder/layer_._3/intermediate/dense/bias:0', 'tf_bert_model_18/bert/encoder/layer_._3/output/dense/kernel:0', 'tf_bert_model_18/bert/encoder/layer_._3/output/dense/bias:0', 'tf_bert_model_18/bert/encoder/layer_._3/output/LayerNorm/gamma:0', 'tf_bert_model_18/bert/encoder/layer_._3/output/LayerNorm/beta:0', 'tf_bert_model_18/bert/encoder/layer_._4/attention/self/query/kernel:0', 'tf_bert_model_18/bert/encoder/layer_._4/attention/self/query/bias:0', 'tf_bert_model_18/bert/encoder/layer_._4/attention/self/key/kernel:0', 'tf_bert_model_18/bert/encoder/layer_._4/attention/self/key/bias:0', 'tf_bert_model_18/bert/encoder/layer_._4/attention/self/value/kernel:0', 'tf_bert_model_18/bert/encoder/layer_._4/attention/self/value/bias:0', 'tf_bert_model_18/bert/encoder/layer_._4/attention/output/dense/kernel:0', 'tf_bert_model_18/bert/encoder/layer_._4/attention/output/dense/bias:0', 'tf_bert_model_18/bert/encoder/layer_._4/attention/output/LayerNorm/gamma:0', 'tf_bert_model_18/bert/encoder/layer_._4/attention/output/LayerNorm/beta:0', 'tf_bert_model_18/bert/encoder/layer_._4/intermediate/dense/kernel:0', 'tf_bert_model_18/bert/encoder/layer_._4/intermediate/dense/bias:0', 'tf_bert_model_18/bert/encoder/layer_._4/output/dense/kernel:0', 'tf_bert_model_18/bert/encoder/layer_._4/output/dense/bias:0', 'tf_bert_model_18/bert/encoder/layer_._4/output/LayerNorm/gamma:0', 'tf_bert_model_18/bert/encoder/layer_._4/output/LayerNorm/beta:0', 'tf_bert_model_18/bert/encoder/layer_._5/attention/self/query/kernel:0', 'tf_bert_model_18/bert/encoder/layer_._5/attention/self/query/bias:0', 'tf_bert_model_18/bert/encoder/layer_._5/attention/self/key/kernel:0', 'tf_bert_model_18/bert/encoder/layer_._5/attention/self/key/bias:0', 'tf_bert_model_18/bert/encoder/layer_._5/attention/self/value/kernel:0', 'tf_bert_model_18/bert/encoder/layer_._5/attention/self/value/bias:0', 'tf_bert_model_18/bert/encoder/layer_._5/attention/output/dense/kernel:0', 'tf_bert_model_18/bert/encoder/layer_._5/attention/output/dense/bias:0', 'tf_bert_model_18/bert/encoder/layer_._5/attention/output/LayerNorm/gamma:0', 'tf_bert_model_18/bert/encoder/layer_._5/attention/output/LayerNorm/beta:0', 'tf_bert_model_18/bert/encoder/layer_._5/intermediate/dense/kernel:0', 'tf_bert_model_18/bert/encoder/layer_._5/intermediate/dense/bias:0', 'tf_bert_model_18/bert/encoder/layer_._5/output/dense/kernel:0', 'tf_bert_model_18/bert/encoder/layer_._5/output/dense/bias:0', 'tf_bert_model_18/bert/encoder/layer_._5/output/LayerNorm/gamma:0', 'tf_bert_model_18/bert/encoder/layer_._5/output/LayerNorm/beta:0', 'tf_bert_model_18/bert/encoder/layer_._6/attention/self/query/kernel:0', 'tf_bert_model_18/bert/encoder/layer_._6/attention/self/query/bias:0', 'tf_bert_model_18/bert/encoder/layer_._6/attention/self/key/kernel:0', 'tf_bert_model_18/bert/encoder/layer_._6/attention/self/key/bias:0', 'tf_bert_model_18/bert/encoder/layer_._6/attention/self/value/kernel:0', 'tf_bert_model_18/bert/encoder/layer_._6/attention/self/value/bias:0', 'tf_bert_model_18/bert/encoder/layer_._6/attention/output/dense/kernel:0', 'tf_bert_model_18/bert/encoder/layer_._6/attention/output/dense/bias:0', 'tf_bert_model_18/bert/encoder/layer_._6/attention/output/LayerNorm/gamma:0', 'tf_bert_model_18/bert/encoder/layer_._6/attention/output/LayerNorm/beta:0', 'tf_bert_model_18/bert/encoder/layer_._6/intermediate/dense/kernel:0', 'tf_bert_model_18/bert/encoder/layer_._6/intermediate/dense/bias:0', 'tf_bert_model_18/bert/encoder/layer_._6/output/dense/kernel:0', 'tf_bert_model_18/bert/encoder/layer_._6/output/dense/bias:0', 'tf_bert_model_18/bert/encoder/layer_._6/output/LayerNorm/gamma:0', 'tf_bert_model_18/bert/encoder/layer_._6/output/LayerNorm/beta:0', 'tf_bert_model_18/bert/encoder/layer_._7/attention/self/query/kernel:0', 'tf_bert_model_18/bert/encoder/layer_._7/attention/self/query/bias:0', 'tf_bert_model_18/bert/encoder/layer_._7/attention/self/key/kernel:0', 'tf_bert_model_18/bert/encoder/layer_._7/attention/self/key/bias:0', 'tf_bert_model_18/bert/encoder/layer_._7/attention/self/value/kernel:0', 'tf_bert_model_18/bert/encoder/layer_._7/attention/self/value/bias:0', 'tf_bert_model_18/bert/encoder/layer_._7/attention/output/dense/kernel:0', 'tf_bert_model_18/bert/encoder/layer_._7/attention/output/dense/bias:0', 'tf_bert_model_18/bert/encoder/layer_._7/attention/output/LayerNorm/gamma:0', 'tf_bert_model_18/bert/encoder/layer_._7/attention/output/LayerNorm/beta:0', 'tf_bert_model_18/bert/encoder/layer_._7/intermediate/dense/kernel:0', 'tf_bert_model_18/bert/encoder/layer_._7/intermediate/dense/bias:0', 'tf_bert_model_18/bert/encoder/layer_._7/output/dense/kernel:0', 'tf_bert_model_18/bert/encoder/layer_._7/output/dense/bias:0', 'tf_bert_model_18/bert/encoder/layer_._7/output/LayerNorm/gamma:0', 'tf_bert_model_18/bert/encoder/layer_._7/output/LayerNorm/beta:0', 'tf_bert_model_18/bert/encoder/layer_._8/attention/self/query/kernel:0', 'tf_bert_model_18/bert/encoder/layer_._8/attention/self/query/bias:0', 'tf_bert_model_18/bert/encoder/layer_._8/attention/self/key/kernel:0', 'tf_bert_model_18/bert/encoder/layer_._8/attention/self/key/bias:0', 'tf_bert_model_18/bert/encoder/layer_._8/attention/self/value/kernel:0', 'tf_bert_model_18/bert/encoder/layer_._8/attention/self/value/bias:0', 'tf_bert_model_18/bert/encoder/layer_._8/attention/output/dense/kernel:0', 'tf_bert_model_18/bert/encoder/layer_._8/attention/output/dense/bias:0', 'tf_bert_model_18/bert/encoder/layer_._8/attention/output/LayerNorm/gamma:0', 'tf_bert_model_18/bert/encoder/layer_._8/attention/output/LayerNorm/beta:0', 'tf_bert_model_18/bert/encoder/layer_._8/intermediate/dense/kernel:0', 'tf_bert_model_18/bert/encoder/layer_._8/intermediate/dense/bias:0', 'tf_bert_model_18/bert/encoder/layer_._8/output/dense/kernel:0', 'tf_bert_model_18/bert/encoder/layer_._8/output/dense/bias:0', 'tf_bert_model_18/bert/encoder/layer_._8/output/LayerNorm/gamma:0', 'tf_bert_model_18/bert/encoder/layer_._8/output/LayerNorm/beta:0', 'tf_bert_model_18/bert/encoder/layer_._9/attention/self/query/kernel:0', 'tf_bert_model_18/bert/encoder/layer_._9/attention/self/query/bias:0', 'tf_bert_model_18/bert/encoder/layer_._9/attention/self/key/kernel:0', 'tf_bert_model_18/bert/encoder/layer_._9/attention/self/key/bias:0', 'tf_bert_model_18/bert/encoder/layer_._9/attention/self/value/kernel:0', 'tf_bert_model_18/bert/encoder/layer_._9/attention/self/value/bias:0', 'tf_bert_model_18/bert/encoder/layer_._9/attention/output/dense/kernel:0', 'tf_bert_model_18/bert/encoder/layer_._9/attention/output/dense/bias:0', 'tf_bert_model_18/bert/encoder/layer_._9/attention/output/LayerNorm/gamma:0', 'tf_bert_model_18/bert/encoder/layer_._9/attention/output/LayerNorm/beta:0', 'tf_bert_model_18/bert/encoder/layer_._9/intermediate/dense/kernel:0', 'tf_bert_model_18/bert/encoder/layer_._9/intermediate/dense/bias:0', 'tf_bert_model_18/bert/encoder/layer_._9/output/dense/kernel:0', 'tf_bert_model_18/bert/encoder/layer_._9/output/dense/bias:0', 'tf_bert_model_18/bert/encoder/layer_._9/output/LayerNorm/gamma:0', 'tf_bert_model_18/bert/encoder/layer_._9/output/LayerNorm/beta:0', 'tf_bert_model_18/bert/encoder/layer_._10/attention/self/query/kernel:0', 'tf_bert_model_18/bert/encoder/layer_._10/attention/self/query/bias:0', 'tf_bert_model_18/bert/encoder/layer_._10/attention/self/key/kernel:0', 'tf_bert_model_18/bert/encoder/layer_._10/attention/self/key/bias:0', 'tf_bert_model_18/bert/encoder/layer_._10/attention/self/value/kernel:0', 'tf_bert_model_18/bert/encoder/layer_._10/attention/self/value/bias:0', 'tf_bert_model_18/bert/encoder/layer_._10/attention/output/dense/kernel:0', 'tf_bert_model_18/bert/encoder/layer_._10/attention/output/dense/bias:0', 'tf_bert_model_18/bert/encoder/layer_._10/attention/output/LayerNorm/gamma:0', 'tf_bert_model_18/bert/encoder/layer_._10/attention/output/LayerNorm/beta:0', 'tf_bert_model_18/bert/encoder/layer_._10/intermediate/dense/kernel:0', 'tf_bert_model_18/bert/encoder/layer_._10/intermediate/dense/bias:0', 'tf_bert_model_18/bert/encoder/layer_._10/output/dense/kernel:0', 'tf_bert_model_18/bert/encoder/layer_._10/output/dense/bias:0', 'tf_bert_model_18/bert/encoder/layer_._10/output/LayerNorm/gamma:0', 'tf_bert_model_18/bert/encoder/layer_._10/output/LayerNorm/beta:0', 'tf_bert_model_18/bert/pooler/dense/kernel:0', 'tf_bert_model_18/bert/pooler/dense/bias:0'] when minimizing the loss. If you're using `model.compile()`, did you forget to provide a `loss`argument?\n",
            "WARNING:tensorflow:Gradients do not exist for variables ['tf_bert_model_18/bert/embeddings/word_embeddings/weight:0', 'tf_bert_model_18/bert/embeddings/token_type_embeddings/embeddings:0', 'tf_bert_model_18/bert/embeddings/position_embeddings/embeddings:0', 'tf_bert_model_18/bert/embeddings/LayerNorm/gamma:0', 'tf_bert_model_18/bert/embeddings/LayerNorm/beta:0', 'tf_bert_model_18/bert/encoder/layer_._0/attention/self/query/kernel:0', 'tf_bert_model_18/bert/encoder/layer_._0/attention/self/query/bias:0', 'tf_bert_model_18/bert/encoder/layer_._0/attention/self/key/kernel:0', 'tf_bert_model_18/bert/encoder/layer_._0/attention/self/key/bias:0', 'tf_bert_model_18/bert/encoder/layer_._0/attention/self/value/kernel:0', 'tf_bert_model_18/bert/encoder/layer_._0/attention/self/value/bias:0', 'tf_bert_model_18/bert/encoder/layer_._0/attention/output/dense/kernel:0', 'tf_bert_model_18/bert/encoder/layer_._0/attention/output/dense/bias:0', 'tf_bert_model_18/bert/encoder/layer_._0/attention/output/LayerNorm/gamma:0', 'tf_bert_model_18/bert/encoder/layer_._0/attention/output/LayerNorm/beta:0', 'tf_bert_model_18/bert/encoder/layer_._0/intermediate/dense/kernel:0', 'tf_bert_model_18/bert/encoder/layer_._0/intermediate/dense/bias:0', 'tf_bert_model_18/bert/encoder/layer_._0/output/dense/kernel:0', 'tf_bert_model_18/bert/encoder/layer_._0/output/dense/bias:0', 'tf_bert_model_18/bert/encoder/layer_._0/output/LayerNorm/gamma:0', 'tf_bert_model_18/bert/encoder/layer_._0/output/LayerNorm/beta:0', 'tf_bert_model_18/bert/encoder/layer_._1/attention/self/query/kernel:0', 'tf_bert_model_18/bert/encoder/layer_._1/attention/self/query/bias:0', 'tf_bert_model_18/bert/encoder/layer_._1/attention/self/key/kernel:0', 'tf_bert_model_18/bert/encoder/layer_._1/attention/self/key/bias:0', 'tf_bert_model_18/bert/encoder/layer_._1/attention/self/value/kernel:0', 'tf_bert_model_18/bert/encoder/layer_._1/attention/self/value/bias:0', 'tf_bert_model_18/bert/encoder/layer_._1/attention/output/dense/kernel:0', 'tf_bert_model_18/bert/encoder/layer_._1/attention/output/dense/bias:0', 'tf_bert_model_18/bert/encoder/layer_._1/attention/output/LayerNorm/gamma:0', 'tf_bert_model_18/bert/encoder/layer_._1/attention/output/LayerNorm/beta:0', 'tf_bert_model_18/bert/encoder/layer_._1/intermediate/dense/kernel:0', 'tf_bert_model_18/bert/encoder/layer_._1/intermediate/dense/bias:0', 'tf_bert_model_18/bert/encoder/layer_._1/output/dense/kernel:0', 'tf_bert_model_18/bert/encoder/layer_._1/output/dense/bias:0', 'tf_bert_model_18/bert/encoder/layer_._1/output/LayerNorm/gamma:0', 'tf_bert_model_18/bert/encoder/layer_._1/output/LayerNorm/beta:0', 'tf_bert_model_18/bert/encoder/layer_._2/attention/self/query/kernel:0', 'tf_bert_model_18/bert/encoder/layer_._2/attention/self/query/bias:0', 'tf_bert_model_18/bert/encoder/layer_._2/attention/self/key/kernel:0', 'tf_bert_model_18/bert/encoder/layer_._2/attention/self/key/bias:0', 'tf_bert_model_18/bert/encoder/layer_._2/attention/self/value/kernel:0', 'tf_bert_model_18/bert/encoder/layer_._2/attention/self/value/bias:0', 'tf_bert_model_18/bert/encoder/layer_._2/attention/output/dense/kernel:0', 'tf_bert_model_18/bert/encoder/layer_._2/attention/output/dense/bias:0', 'tf_bert_model_18/bert/encoder/layer_._2/attention/output/LayerNorm/gamma:0', 'tf_bert_model_18/bert/encoder/layer_._2/attention/output/LayerNorm/beta:0', 'tf_bert_model_18/bert/encoder/layer_._2/intermediate/dense/kernel:0', 'tf_bert_model_18/bert/encoder/layer_._2/intermediate/dense/bias:0', 'tf_bert_model_18/bert/encoder/layer_._2/output/dense/kernel:0', 'tf_bert_model_18/bert/encoder/layer_._2/output/dense/bias:0', 'tf_bert_model_18/bert/encoder/layer_._2/output/LayerNorm/gamma:0', 'tf_bert_model_18/bert/encoder/layer_._2/output/LayerNorm/beta:0', 'tf_bert_model_18/bert/encoder/layer_._3/attention/self/query/kernel:0', 'tf_bert_model_18/bert/encoder/layer_._3/attention/self/query/bias:0', 'tf_bert_model_18/bert/encoder/layer_._3/attention/self/key/kernel:0', 'tf_bert_model_18/bert/encoder/layer_._3/attention/self/key/bias:0', 'tf_bert_model_18/bert/encoder/layer_._3/attention/self/value/kernel:0', 'tf_bert_model_18/bert/encoder/layer_._3/attention/self/value/bias:0', 'tf_bert_model_18/bert/encoder/layer_._3/attention/output/dense/kernel:0', 'tf_bert_model_18/bert/encoder/layer_._3/attention/output/dense/bias:0', 'tf_bert_model_18/bert/encoder/layer_._3/attention/output/LayerNorm/gamma:0', 'tf_bert_model_18/bert/encoder/layer_._3/attention/output/LayerNorm/beta:0', 'tf_bert_model_18/bert/encoder/layer_._3/intermediate/dense/kernel:0', 'tf_bert_model_18/bert/encoder/layer_._3/intermediate/dense/bias:0', 'tf_bert_model_18/bert/encoder/layer_._3/output/dense/kernel:0', 'tf_bert_model_18/bert/encoder/layer_._3/output/dense/bias:0', 'tf_bert_model_18/bert/encoder/layer_._3/output/LayerNorm/gamma:0', 'tf_bert_model_18/bert/encoder/layer_._3/output/LayerNorm/beta:0', 'tf_bert_model_18/bert/encoder/layer_._4/attention/self/query/kernel:0', 'tf_bert_model_18/bert/encoder/layer_._4/attention/self/query/bias:0', 'tf_bert_model_18/bert/encoder/layer_._4/attention/self/key/kernel:0', 'tf_bert_model_18/bert/encoder/layer_._4/attention/self/key/bias:0', 'tf_bert_model_18/bert/encoder/layer_._4/attention/self/value/kernel:0', 'tf_bert_model_18/bert/encoder/layer_._4/attention/self/value/bias:0', 'tf_bert_model_18/bert/encoder/layer_._4/attention/output/dense/kernel:0', 'tf_bert_model_18/bert/encoder/layer_._4/attention/output/dense/bias:0', 'tf_bert_model_18/bert/encoder/layer_._4/attention/output/LayerNorm/gamma:0', 'tf_bert_model_18/bert/encoder/layer_._4/attention/output/LayerNorm/beta:0', 'tf_bert_model_18/bert/encoder/layer_._4/intermediate/dense/kernel:0', 'tf_bert_model_18/bert/encoder/layer_._4/intermediate/dense/bias:0', 'tf_bert_model_18/bert/encoder/layer_._4/output/dense/kernel:0', 'tf_bert_model_18/bert/encoder/layer_._4/output/dense/bias:0', 'tf_bert_model_18/bert/encoder/layer_._4/output/LayerNorm/gamma:0', 'tf_bert_model_18/bert/encoder/layer_._4/output/LayerNorm/beta:0', 'tf_bert_model_18/bert/encoder/layer_._5/attention/self/query/kernel:0', 'tf_bert_model_18/bert/encoder/layer_._5/attention/self/query/bias:0', 'tf_bert_model_18/bert/encoder/layer_._5/attention/self/key/kernel:0', 'tf_bert_model_18/bert/encoder/layer_._5/attention/self/key/bias:0', 'tf_bert_model_18/bert/encoder/layer_._5/attention/self/value/kernel:0', 'tf_bert_model_18/bert/encoder/layer_._5/attention/self/value/bias:0', 'tf_bert_model_18/bert/encoder/layer_._5/attention/output/dense/kernel:0', 'tf_bert_model_18/bert/encoder/layer_._5/attention/output/dense/bias:0', 'tf_bert_model_18/bert/encoder/layer_._5/attention/output/LayerNorm/gamma:0', 'tf_bert_model_18/bert/encoder/layer_._5/attention/output/LayerNorm/beta:0', 'tf_bert_model_18/bert/encoder/layer_._5/intermediate/dense/kernel:0', 'tf_bert_model_18/bert/encoder/layer_._5/intermediate/dense/bias:0', 'tf_bert_model_18/bert/encoder/layer_._5/output/dense/kernel:0', 'tf_bert_model_18/bert/encoder/layer_._5/output/dense/bias:0', 'tf_bert_model_18/bert/encoder/layer_._5/output/LayerNorm/gamma:0', 'tf_bert_model_18/bert/encoder/layer_._5/output/LayerNorm/beta:0', 'tf_bert_model_18/bert/encoder/layer_._6/attention/self/query/kernel:0', 'tf_bert_model_18/bert/encoder/layer_._6/attention/self/query/bias:0', 'tf_bert_model_18/bert/encoder/layer_._6/attention/self/key/kernel:0', 'tf_bert_model_18/bert/encoder/layer_._6/attention/self/key/bias:0', 'tf_bert_model_18/bert/encoder/layer_._6/attention/self/value/kernel:0', 'tf_bert_model_18/bert/encoder/layer_._6/attention/self/value/bias:0', 'tf_bert_model_18/bert/encoder/layer_._6/attention/output/dense/kernel:0', 'tf_bert_model_18/bert/encoder/layer_._6/attention/output/dense/bias:0', 'tf_bert_model_18/bert/encoder/layer_._6/attention/output/LayerNorm/gamma:0', 'tf_bert_model_18/bert/encoder/layer_._6/attention/output/LayerNorm/beta:0', 'tf_bert_model_18/bert/encoder/layer_._6/intermediate/dense/kernel:0', 'tf_bert_model_18/bert/encoder/layer_._6/intermediate/dense/bias:0', 'tf_bert_model_18/bert/encoder/layer_._6/output/dense/kernel:0', 'tf_bert_model_18/bert/encoder/layer_._6/output/dense/bias:0', 'tf_bert_model_18/bert/encoder/layer_._6/output/LayerNorm/gamma:0', 'tf_bert_model_18/bert/encoder/layer_._6/output/LayerNorm/beta:0', 'tf_bert_model_18/bert/encoder/layer_._7/attention/self/query/kernel:0', 'tf_bert_model_18/bert/encoder/layer_._7/attention/self/query/bias:0', 'tf_bert_model_18/bert/encoder/layer_._7/attention/self/key/kernel:0', 'tf_bert_model_18/bert/encoder/layer_._7/attention/self/key/bias:0', 'tf_bert_model_18/bert/encoder/layer_._7/attention/self/value/kernel:0', 'tf_bert_model_18/bert/encoder/layer_._7/attention/self/value/bias:0', 'tf_bert_model_18/bert/encoder/layer_._7/attention/output/dense/kernel:0', 'tf_bert_model_18/bert/encoder/layer_._7/attention/output/dense/bias:0', 'tf_bert_model_18/bert/encoder/layer_._7/attention/output/LayerNorm/gamma:0', 'tf_bert_model_18/bert/encoder/layer_._7/attention/output/LayerNorm/beta:0', 'tf_bert_model_18/bert/encoder/layer_._7/intermediate/dense/kernel:0', 'tf_bert_model_18/bert/encoder/layer_._7/intermediate/dense/bias:0', 'tf_bert_model_18/bert/encoder/layer_._7/output/dense/kernel:0', 'tf_bert_model_18/bert/encoder/layer_._7/output/dense/bias:0', 'tf_bert_model_18/bert/encoder/layer_._7/output/LayerNorm/gamma:0', 'tf_bert_model_18/bert/encoder/layer_._7/output/LayerNorm/beta:0', 'tf_bert_model_18/bert/encoder/layer_._8/attention/self/query/kernel:0', 'tf_bert_model_18/bert/encoder/layer_._8/attention/self/query/bias:0', 'tf_bert_model_18/bert/encoder/layer_._8/attention/self/key/kernel:0', 'tf_bert_model_18/bert/encoder/layer_._8/attention/self/key/bias:0', 'tf_bert_model_18/bert/encoder/layer_._8/attention/self/value/kernel:0', 'tf_bert_model_18/bert/encoder/layer_._8/attention/self/value/bias:0', 'tf_bert_model_18/bert/encoder/layer_._8/attention/output/dense/kernel:0', 'tf_bert_model_18/bert/encoder/layer_._8/attention/output/dense/bias:0', 'tf_bert_model_18/bert/encoder/layer_._8/attention/output/LayerNorm/gamma:0', 'tf_bert_model_18/bert/encoder/layer_._8/attention/output/LayerNorm/beta:0', 'tf_bert_model_18/bert/encoder/layer_._8/intermediate/dense/kernel:0', 'tf_bert_model_18/bert/encoder/layer_._8/intermediate/dense/bias:0', 'tf_bert_model_18/bert/encoder/layer_._8/output/dense/kernel:0', 'tf_bert_model_18/bert/encoder/layer_._8/output/dense/bias:0', 'tf_bert_model_18/bert/encoder/layer_._8/output/LayerNorm/gamma:0', 'tf_bert_model_18/bert/encoder/layer_._8/output/LayerNorm/beta:0', 'tf_bert_model_18/bert/encoder/layer_._9/attention/self/query/kernel:0', 'tf_bert_model_18/bert/encoder/layer_._9/attention/self/query/bias:0', 'tf_bert_model_18/bert/encoder/layer_._9/attention/self/key/kernel:0', 'tf_bert_model_18/bert/encoder/layer_._9/attention/self/key/bias:0', 'tf_bert_model_18/bert/encoder/layer_._9/attention/self/value/kernel:0', 'tf_bert_model_18/bert/encoder/layer_._9/attention/self/value/bias:0', 'tf_bert_model_18/bert/encoder/layer_._9/attention/output/dense/kernel:0', 'tf_bert_model_18/bert/encoder/layer_._9/attention/output/dense/bias:0', 'tf_bert_model_18/bert/encoder/layer_._9/attention/output/LayerNorm/gamma:0', 'tf_bert_model_18/bert/encoder/layer_._9/attention/output/LayerNorm/beta:0', 'tf_bert_model_18/bert/encoder/layer_._9/intermediate/dense/kernel:0', 'tf_bert_model_18/bert/encoder/layer_._9/intermediate/dense/bias:0', 'tf_bert_model_18/bert/encoder/layer_._9/output/dense/kernel:0', 'tf_bert_model_18/bert/encoder/layer_._9/output/dense/bias:0', 'tf_bert_model_18/bert/encoder/layer_._9/output/LayerNorm/gamma:0', 'tf_bert_model_18/bert/encoder/layer_._9/output/LayerNorm/beta:0', 'tf_bert_model_18/bert/encoder/layer_._10/attention/self/query/kernel:0', 'tf_bert_model_18/bert/encoder/layer_._10/attention/self/query/bias:0', 'tf_bert_model_18/bert/encoder/layer_._10/attention/self/key/kernel:0', 'tf_bert_model_18/bert/encoder/layer_._10/attention/self/key/bias:0', 'tf_bert_model_18/bert/encoder/layer_._10/attention/self/value/kernel:0', 'tf_bert_model_18/bert/encoder/layer_._10/attention/self/value/bias:0', 'tf_bert_model_18/bert/encoder/layer_._10/attention/output/dense/kernel:0', 'tf_bert_model_18/bert/encoder/layer_._10/attention/output/dense/bias:0', 'tf_bert_model_18/bert/encoder/layer_._10/attention/output/LayerNorm/gamma:0', 'tf_bert_model_18/bert/encoder/layer_._10/attention/output/LayerNorm/beta:0', 'tf_bert_model_18/bert/encoder/layer_._10/intermediate/dense/kernel:0', 'tf_bert_model_18/bert/encoder/layer_._10/intermediate/dense/bias:0', 'tf_bert_model_18/bert/encoder/layer_._10/output/dense/kernel:0', 'tf_bert_model_18/bert/encoder/layer_._10/output/dense/bias:0', 'tf_bert_model_18/bert/encoder/layer_._10/output/LayerNorm/gamma:0', 'tf_bert_model_18/bert/encoder/layer_._10/output/LayerNorm/beta:0', 'tf_bert_model_18/bert/pooler/dense/kernel:0', 'tf_bert_model_18/bert/pooler/dense/bias:0'] when minimizing the loss. If you're using `model.compile()`, did you forget to provide a `loss`argument?\n",
            "489/489 [==============================] - 41s 69ms/step - loss: 0.1185 - accuracy: 0.9583 - val_loss: 0.1308 - val_accuracy: 0.9542\n",
            "Epoch 2/3\n",
            "489/489 [==============================] - 31s 63ms/step - loss: 0.0483 - accuracy: 0.9869 - val_loss: 0.0476 - val_accuracy: 0.9869\n",
            "Epoch 3/3\n",
            "489/489 [==============================] - 31s 64ms/step - loss: 0.0278 - accuracy: 0.9923 - val_loss: 0.0528 - val_accuracy: 0.9869\n",
            "BERT 3e + CNN kernel un, train: accuracy = 0.9990, precision = 0.9975, recall = 0.9975, f1 = 0.9975\n",
            "validation: accuracy = 0.9836, precision = 0.9567, recall = 0.9660, f1 = 0.9614\n"
          ]
        },
        {
          "output_type": "stream",
          "name": "stderr",
          "text": [
            "Some layers from the model checkpoint at bert-base-cased were not used when initializing TFBertModel: ['nsp___cls', 'mlm___cls']\n",
            "- This IS expected if you are initializing TFBertModel from the checkpoint of a model trained on another task or with another architecture (e.g. initializing a BertForSequenceClassification model from a BertForPreTraining model).\n",
            "- This IS NOT expected if you are initializing TFBertModel from the checkpoint of a model that you expect to be exactly identical (initializing a BertForSequenceClassification model from a BertForSequenceClassification model).\n",
            "All the layers of TFBertModel were initialized from the model checkpoint at bert-base-cased.\n",
            "If your task is similar to the task the model of the checkpoint was trained on, you can already use TFBertModel for predictions without further training.\n"
          ]
        },
        {
          "output_type": "stream",
          "name": "stdout",
          "text": [
            "Epoch 1/3\n",
            "WARNING:tensorflow:Gradients do not exist for variables ['tf_bert_model_19/bert/embeddings/word_embeddings/weight:0', 'tf_bert_model_19/bert/embeddings/token_type_embeddings/embeddings:0', 'tf_bert_model_19/bert/embeddings/position_embeddings/embeddings:0', 'tf_bert_model_19/bert/embeddings/LayerNorm/gamma:0', 'tf_bert_model_19/bert/embeddings/LayerNorm/beta:0', 'tf_bert_model_19/bert/encoder/layer_._0/attention/self/query/kernel:0', 'tf_bert_model_19/bert/encoder/layer_._0/attention/self/query/bias:0', 'tf_bert_model_19/bert/encoder/layer_._0/attention/self/key/kernel:0', 'tf_bert_model_19/bert/encoder/layer_._0/attention/self/key/bias:0', 'tf_bert_model_19/bert/encoder/layer_._0/attention/self/value/kernel:0', 'tf_bert_model_19/bert/encoder/layer_._0/attention/self/value/bias:0', 'tf_bert_model_19/bert/encoder/layer_._0/attention/output/dense/kernel:0', 'tf_bert_model_19/bert/encoder/layer_._0/attention/output/dense/bias:0', 'tf_bert_model_19/bert/encoder/layer_._0/attention/output/LayerNorm/gamma:0', 'tf_bert_model_19/bert/encoder/layer_._0/attention/output/LayerNorm/beta:0', 'tf_bert_model_19/bert/encoder/layer_._0/intermediate/dense/kernel:0', 'tf_bert_model_19/bert/encoder/layer_._0/intermediate/dense/bias:0', 'tf_bert_model_19/bert/encoder/layer_._0/output/dense/kernel:0', 'tf_bert_model_19/bert/encoder/layer_._0/output/dense/bias:0', 'tf_bert_model_19/bert/encoder/layer_._0/output/LayerNorm/gamma:0', 'tf_bert_model_19/bert/encoder/layer_._0/output/LayerNorm/beta:0', 'tf_bert_model_19/bert/encoder/layer_._1/attention/self/query/kernel:0', 'tf_bert_model_19/bert/encoder/layer_._1/attention/self/query/bias:0', 'tf_bert_model_19/bert/encoder/layer_._1/attention/self/key/kernel:0', 'tf_bert_model_19/bert/encoder/layer_._1/attention/self/key/bias:0', 'tf_bert_model_19/bert/encoder/layer_._1/attention/self/value/kernel:0', 'tf_bert_model_19/bert/encoder/layer_._1/attention/self/value/bias:0', 'tf_bert_model_19/bert/encoder/layer_._1/attention/output/dense/kernel:0', 'tf_bert_model_19/bert/encoder/layer_._1/attention/output/dense/bias:0', 'tf_bert_model_19/bert/encoder/layer_._1/attention/output/LayerNorm/gamma:0', 'tf_bert_model_19/bert/encoder/layer_._1/attention/output/LayerNorm/beta:0', 'tf_bert_model_19/bert/encoder/layer_._1/intermediate/dense/kernel:0', 'tf_bert_model_19/bert/encoder/layer_._1/intermediate/dense/bias:0', 'tf_bert_model_19/bert/encoder/layer_._1/output/dense/kernel:0', 'tf_bert_model_19/bert/encoder/layer_._1/output/dense/bias:0', 'tf_bert_model_19/bert/encoder/layer_._1/output/LayerNorm/gamma:0', 'tf_bert_model_19/bert/encoder/layer_._1/output/LayerNorm/beta:0', 'tf_bert_model_19/bert/encoder/layer_._2/attention/self/query/kernel:0', 'tf_bert_model_19/bert/encoder/layer_._2/attention/self/query/bias:0', 'tf_bert_model_19/bert/encoder/layer_._2/attention/self/key/kernel:0', 'tf_bert_model_19/bert/encoder/layer_._2/attention/self/key/bias:0', 'tf_bert_model_19/bert/encoder/layer_._2/attention/self/value/kernel:0', 'tf_bert_model_19/bert/encoder/layer_._2/attention/self/value/bias:0', 'tf_bert_model_19/bert/encoder/layer_._2/attention/output/dense/kernel:0', 'tf_bert_model_19/bert/encoder/layer_._2/attention/output/dense/bias:0', 'tf_bert_model_19/bert/encoder/layer_._2/attention/output/LayerNorm/gamma:0', 'tf_bert_model_19/bert/encoder/layer_._2/attention/output/LayerNorm/beta:0', 'tf_bert_model_19/bert/encoder/layer_._2/intermediate/dense/kernel:0', 'tf_bert_model_19/bert/encoder/layer_._2/intermediate/dense/bias:0', 'tf_bert_model_19/bert/encoder/layer_._2/output/dense/kernel:0', 'tf_bert_model_19/bert/encoder/layer_._2/output/dense/bias:0', 'tf_bert_model_19/bert/encoder/layer_._2/output/LayerNorm/gamma:0', 'tf_bert_model_19/bert/encoder/layer_._2/output/LayerNorm/beta:0', 'tf_bert_model_19/bert/encoder/layer_._3/attention/self/query/kernel:0', 'tf_bert_model_19/bert/encoder/layer_._3/attention/self/query/bias:0', 'tf_bert_model_19/bert/encoder/layer_._3/attention/self/key/kernel:0', 'tf_bert_model_19/bert/encoder/layer_._3/attention/self/key/bias:0', 'tf_bert_model_19/bert/encoder/layer_._3/attention/self/value/kernel:0', 'tf_bert_model_19/bert/encoder/layer_._3/attention/self/value/bias:0', 'tf_bert_model_19/bert/encoder/layer_._3/attention/output/dense/kernel:0', 'tf_bert_model_19/bert/encoder/layer_._3/attention/output/dense/bias:0', 'tf_bert_model_19/bert/encoder/layer_._3/attention/output/LayerNorm/gamma:0', 'tf_bert_model_19/bert/encoder/layer_._3/attention/output/LayerNorm/beta:0', 'tf_bert_model_19/bert/encoder/layer_._3/intermediate/dense/kernel:0', 'tf_bert_model_19/bert/encoder/layer_._3/intermediate/dense/bias:0', 'tf_bert_model_19/bert/encoder/layer_._3/output/dense/kernel:0', 'tf_bert_model_19/bert/encoder/layer_._3/output/dense/bias:0', 'tf_bert_model_19/bert/encoder/layer_._3/output/LayerNorm/gamma:0', 'tf_bert_model_19/bert/encoder/layer_._3/output/LayerNorm/beta:0', 'tf_bert_model_19/bert/encoder/layer_._4/attention/self/query/kernel:0', 'tf_bert_model_19/bert/encoder/layer_._4/attention/self/query/bias:0', 'tf_bert_model_19/bert/encoder/layer_._4/attention/self/key/kernel:0', 'tf_bert_model_19/bert/encoder/layer_._4/attention/self/key/bias:0', 'tf_bert_model_19/bert/encoder/layer_._4/attention/self/value/kernel:0', 'tf_bert_model_19/bert/encoder/layer_._4/attention/self/value/bias:0', 'tf_bert_model_19/bert/encoder/layer_._4/attention/output/dense/kernel:0', 'tf_bert_model_19/bert/encoder/layer_._4/attention/output/dense/bias:0', 'tf_bert_model_19/bert/encoder/layer_._4/attention/output/LayerNorm/gamma:0', 'tf_bert_model_19/bert/encoder/layer_._4/attention/output/LayerNorm/beta:0', 'tf_bert_model_19/bert/encoder/layer_._4/intermediate/dense/kernel:0', 'tf_bert_model_19/bert/encoder/layer_._4/intermediate/dense/bias:0', 'tf_bert_model_19/bert/encoder/layer_._4/output/dense/kernel:0', 'tf_bert_model_19/bert/encoder/layer_._4/output/dense/bias:0', 'tf_bert_model_19/bert/encoder/layer_._4/output/LayerNorm/gamma:0', 'tf_bert_model_19/bert/encoder/layer_._4/output/LayerNorm/beta:0', 'tf_bert_model_19/bert/encoder/layer_._5/attention/self/query/kernel:0', 'tf_bert_model_19/bert/encoder/layer_._5/attention/self/query/bias:0', 'tf_bert_model_19/bert/encoder/layer_._5/attention/self/key/kernel:0', 'tf_bert_model_19/bert/encoder/layer_._5/attention/self/key/bias:0', 'tf_bert_model_19/bert/encoder/layer_._5/attention/self/value/kernel:0', 'tf_bert_model_19/bert/encoder/layer_._5/attention/self/value/bias:0', 'tf_bert_model_19/bert/encoder/layer_._5/attention/output/dense/kernel:0', 'tf_bert_model_19/bert/encoder/layer_._5/attention/output/dense/bias:0', 'tf_bert_model_19/bert/encoder/layer_._5/attention/output/LayerNorm/gamma:0', 'tf_bert_model_19/bert/encoder/layer_._5/attention/output/LayerNorm/beta:0', 'tf_bert_model_19/bert/encoder/layer_._5/intermediate/dense/kernel:0', 'tf_bert_model_19/bert/encoder/layer_._5/intermediate/dense/bias:0', 'tf_bert_model_19/bert/encoder/layer_._5/output/dense/kernel:0', 'tf_bert_model_19/bert/encoder/layer_._5/output/dense/bias:0', 'tf_bert_model_19/bert/encoder/layer_._5/output/LayerNorm/gamma:0', 'tf_bert_model_19/bert/encoder/layer_._5/output/LayerNorm/beta:0', 'tf_bert_model_19/bert/encoder/layer_._6/attention/self/query/kernel:0', 'tf_bert_model_19/bert/encoder/layer_._6/attention/self/query/bias:0', 'tf_bert_model_19/bert/encoder/layer_._6/attention/self/key/kernel:0', 'tf_bert_model_19/bert/encoder/layer_._6/attention/self/key/bias:0', 'tf_bert_model_19/bert/encoder/layer_._6/attention/self/value/kernel:0', 'tf_bert_model_19/bert/encoder/layer_._6/attention/self/value/bias:0', 'tf_bert_model_19/bert/encoder/layer_._6/attention/output/dense/kernel:0', 'tf_bert_model_19/bert/encoder/layer_._6/attention/output/dense/bias:0', 'tf_bert_model_19/bert/encoder/layer_._6/attention/output/LayerNorm/gamma:0', 'tf_bert_model_19/bert/encoder/layer_._6/attention/output/LayerNorm/beta:0', 'tf_bert_model_19/bert/encoder/layer_._6/intermediate/dense/kernel:0', 'tf_bert_model_19/bert/encoder/layer_._6/intermediate/dense/bias:0', 'tf_bert_model_19/bert/encoder/layer_._6/output/dense/kernel:0', 'tf_bert_model_19/bert/encoder/layer_._6/output/dense/bias:0', 'tf_bert_model_19/bert/encoder/layer_._6/output/LayerNorm/gamma:0', 'tf_bert_model_19/bert/encoder/layer_._6/output/LayerNorm/beta:0', 'tf_bert_model_19/bert/encoder/layer_._7/attention/self/query/kernel:0', 'tf_bert_model_19/bert/encoder/layer_._7/attention/self/query/bias:0', 'tf_bert_model_19/bert/encoder/layer_._7/attention/self/key/kernel:0', 'tf_bert_model_19/bert/encoder/layer_._7/attention/self/key/bias:0', 'tf_bert_model_19/bert/encoder/layer_._7/attention/self/value/kernel:0', 'tf_bert_model_19/bert/encoder/layer_._7/attention/self/value/bias:0', 'tf_bert_model_19/bert/encoder/layer_._7/attention/output/dense/kernel:0', 'tf_bert_model_19/bert/encoder/layer_._7/attention/output/dense/bias:0', 'tf_bert_model_19/bert/encoder/layer_._7/attention/output/LayerNorm/gamma:0', 'tf_bert_model_19/bert/encoder/layer_._7/attention/output/LayerNorm/beta:0', 'tf_bert_model_19/bert/encoder/layer_._7/intermediate/dense/kernel:0', 'tf_bert_model_19/bert/encoder/layer_._7/intermediate/dense/bias:0', 'tf_bert_model_19/bert/encoder/layer_._7/output/dense/kernel:0', 'tf_bert_model_19/bert/encoder/layer_._7/output/dense/bias:0', 'tf_bert_model_19/bert/encoder/layer_._7/output/LayerNorm/gamma:0', 'tf_bert_model_19/bert/encoder/layer_._7/output/LayerNorm/beta:0', 'tf_bert_model_19/bert/encoder/layer_._8/attention/self/query/kernel:0', 'tf_bert_model_19/bert/encoder/layer_._8/attention/self/query/bias:0', 'tf_bert_model_19/bert/encoder/layer_._8/attention/self/key/kernel:0', 'tf_bert_model_19/bert/encoder/layer_._8/attention/self/key/bias:0', 'tf_bert_model_19/bert/encoder/layer_._8/attention/self/value/kernel:0', 'tf_bert_model_19/bert/encoder/layer_._8/attention/self/value/bias:0', 'tf_bert_model_19/bert/encoder/layer_._8/attention/output/dense/kernel:0', 'tf_bert_model_19/bert/encoder/layer_._8/attention/output/dense/bias:0', 'tf_bert_model_19/bert/encoder/layer_._8/attention/output/LayerNorm/gamma:0', 'tf_bert_model_19/bert/encoder/layer_._8/attention/output/LayerNorm/beta:0', 'tf_bert_model_19/bert/encoder/layer_._8/intermediate/dense/kernel:0', 'tf_bert_model_19/bert/encoder/layer_._8/intermediate/dense/bias:0', 'tf_bert_model_19/bert/encoder/layer_._8/output/dense/kernel:0', 'tf_bert_model_19/bert/encoder/layer_._8/output/dense/bias:0', 'tf_bert_model_19/bert/encoder/layer_._8/output/LayerNorm/gamma:0', 'tf_bert_model_19/bert/encoder/layer_._8/output/LayerNorm/beta:0', 'tf_bert_model_19/bert/encoder/layer_._9/attention/self/query/kernel:0', 'tf_bert_model_19/bert/encoder/layer_._9/attention/self/query/bias:0', 'tf_bert_model_19/bert/encoder/layer_._9/attention/self/key/kernel:0', 'tf_bert_model_19/bert/encoder/layer_._9/attention/self/key/bias:0', 'tf_bert_model_19/bert/encoder/layer_._9/attention/self/value/kernel:0', 'tf_bert_model_19/bert/encoder/layer_._9/attention/self/value/bias:0', 'tf_bert_model_19/bert/encoder/layer_._9/attention/output/dense/kernel:0', 'tf_bert_model_19/bert/encoder/layer_._9/attention/output/dense/bias:0', 'tf_bert_model_19/bert/encoder/layer_._9/attention/output/LayerNorm/gamma:0', 'tf_bert_model_19/bert/encoder/layer_._9/attention/output/LayerNorm/beta:0', 'tf_bert_model_19/bert/encoder/layer_._9/intermediate/dense/kernel:0', 'tf_bert_model_19/bert/encoder/layer_._9/intermediate/dense/bias:0', 'tf_bert_model_19/bert/encoder/layer_._9/output/dense/kernel:0', 'tf_bert_model_19/bert/encoder/layer_._9/output/dense/bias:0', 'tf_bert_model_19/bert/encoder/layer_._9/output/LayerNorm/gamma:0', 'tf_bert_model_19/bert/encoder/layer_._9/output/LayerNorm/beta:0', 'tf_bert_model_19/bert/encoder/layer_._10/attention/self/query/kernel:0', 'tf_bert_model_19/bert/encoder/layer_._10/attention/self/query/bias:0', 'tf_bert_model_19/bert/encoder/layer_._10/attention/self/key/kernel:0', 'tf_bert_model_19/bert/encoder/layer_._10/attention/self/key/bias:0', 'tf_bert_model_19/bert/encoder/layer_._10/attention/self/value/kernel:0', 'tf_bert_model_19/bert/encoder/layer_._10/attention/self/value/bias:0', 'tf_bert_model_19/bert/encoder/layer_._10/attention/output/dense/kernel:0', 'tf_bert_model_19/bert/encoder/layer_._10/attention/output/dense/bias:0', 'tf_bert_model_19/bert/encoder/layer_._10/attention/output/LayerNorm/gamma:0', 'tf_bert_model_19/bert/encoder/layer_._10/attention/output/LayerNorm/beta:0', 'tf_bert_model_19/bert/encoder/layer_._10/intermediate/dense/kernel:0', 'tf_bert_model_19/bert/encoder/layer_._10/intermediate/dense/bias:0', 'tf_bert_model_19/bert/encoder/layer_._10/output/dense/kernel:0', 'tf_bert_model_19/bert/encoder/layer_._10/output/dense/bias:0', 'tf_bert_model_19/bert/encoder/layer_._10/output/LayerNorm/gamma:0', 'tf_bert_model_19/bert/encoder/layer_._10/output/LayerNorm/beta:0', 'tf_bert_model_19/bert/pooler/dense/kernel:0', 'tf_bert_model_19/bert/pooler/dense/bias:0'] when minimizing the loss. If you're using `model.compile()`, did you forget to provide a `loss`argument?\n",
            "WARNING:tensorflow:Gradients do not exist for variables ['tf_bert_model_19/bert/embeddings/word_embeddings/weight:0', 'tf_bert_model_19/bert/embeddings/token_type_embeddings/embeddings:0', 'tf_bert_model_19/bert/embeddings/position_embeddings/embeddings:0', 'tf_bert_model_19/bert/embeddings/LayerNorm/gamma:0', 'tf_bert_model_19/bert/embeddings/LayerNorm/beta:0', 'tf_bert_model_19/bert/encoder/layer_._0/attention/self/query/kernel:0', 'tf_bert_model_19/bert/encoder/layer_._0/attention/self/query/bias:0', 'tf_bert_model_19/bert/encoder/layer_._0/attention/self/key/kernel:0', 'tf_bert_model_19/bert/encoder/layer_._0/attention/self/key/bias:0', 'tf_bert_model_19/bert/encoder/layer_._0/attention/self/value/kernel:0', 'tf_bert_model_19/bert/encoder/layer_._0/attention/self/value/bias:0', 'tf_bert_model_19/bert/encoder/layer_._0/attention/output/dense/kernel:0', 'tf_bert_model_19/bert/encoder/layer_._0/attention/output/dense/bias:0', 'tf_bert_model_19/bert/encoder/layer_._0/attention/output/LayerNorm/gamma:0', 'tf_bert_model_19/bert/encoder/layer_._0/attention/output/LayerNorm/beta:0', 'tf_bert_model_19/bert/encoder/layer_._0/intermediate/dense/kernel:0', 'tf_bert_model_19/bert/encoder/layer_._0/intermediate/dense/bias:0', 'tf_bert_model_19/bert/encoder/layer_._0/output/dense/kernel:0', 'tf_bert_model_19/bert/encoder/layer_._0/output/dense/bias:0', 'tf_bert_model_19/bert/encoder/layer_._0/output/LayerNorm/gamma:0', 'tf_bert_model_19/bert/encoder/layer_._0/output/LayerNorm/beta:0', 'tf_bert_model_19/bert/encoder/layer_._1/attention/self/query/kernel:0', 'tf_bert_model_19/bert/encoder/layer_._1/attention/self/query/bias:0', 'tf_bert_model_19/bert/encoder/layer_._1/attention/self/key/kernel:0', 'tf_bert_model_19/bert/encoder/layer_._1/attention/self/key/bias:0', 'tf_bert_model_19/bert/encoder/layer_._1/attention/self/value/kernel:0', 'tf_bert_model_19/bert/encoder/layer_._1/attention/self/value/bias:0', 'tf_bert_model_19/bert/encoder/layer_._1/attention/output/dense/kernel:0', 'tf_bert_model_19/bert/encoder/layer_._1/attention/output/dense/bias:0', 'tf_bert_model_19/bert/encoder/layer_._1/attention/output/LayerNorm/gamma:0', 'tf_bert_model_19/bert/encoder/layer_._1/attention/output/LayerNorm/beta:0', 'tf_bert_model_19/bert/encoder/layer_._1/intermediate/dense/kernel:0', 'tf_bert_model_19/bert/encoder/layer_._1/intermediate/dense/bias:0', 'tf_bert_model_19/bert/encoder/layer_._1/output/dense/kernel:0', 'tf_bert_model_19/bert/encoder/layer_._1/output/dense/bias:0', 'tf_bert_model_19/bert/encoder/layer_._1/output/LayerNorm/gamma:0', 'tf_bert_model_19/bert/encoder/layer_._1/output/LayerNorm/beta:0', 'tf_bert_model_19/bert/encoder/layer_._2/attention/self/query/kernel:0', 'tf_bert_model_19/bert/encoder/layer_._2/attention/self/query/bias:0', 'tf_bert_model_19/bert/encoder/layer_._2/attention/self/key/kernel:0', 'tf_bert_model_19/bert/encoder/layer_._2/attention/self/key/bias:0', 'tf_bert_model_19/bert/encoder/layer_._2/attention/self/value/kernel:0', 'tf_bert_model_19/bert/encoder/layer_._2/attention/self/value/bias:0', 'tf_bert_model_19/bert/encoder/layer_._2/attention/output/dense/kernel:0', 'tf_bert_model_19/bert/encoder/layer_._2/attention/output/dense/bias:0', 'tf_bert_model_19/bert/encoder/layer_._2/attention/output/LayerNorm/gamma:0', 'tf_bert_model_19/bert/encoder/layer_._2/attention/output/LayerNorm/beta:0', 'tf_bert_model_19/bert/encoder/layer_._2/intermediate/dense/kernel:0', 'tf_bert_model_19/bert/encoder/layer_._2/intermediate/dense/bias:0', 'tf_bert_model_19/bert/encoder/layer_._2/output/dense/kernel:0', 'tf_bert_model_19/bert/encoder/layer_._2/output/dense/bias:0', 'tf_bert_model_19/bert/encoder/layer_._2/output/LayerNorm/gamma:0', 'tf_bert_model_19/bert/encoder/layer_._2/output/LayerNorm/beta:0', 'tf_bert_model_19/bert/encoder/layer_._3/attention/self/query/kernel:0', 'tf_bert_model_19/bert/encoder/layer_._3/attention/self/query/bias:0', 'tf_bert_model_19/bert/encoder/layer_._3/attention/self/key/kernel:0', 'tf_bert_model_19/bert/encoder/layer_._3/attention/self/key/bias:0', 'tf_bert_model_19/bert/encoder/layer_._3/attention/self/value/kernel:0', 'tf_bert_model_19/bert/encoder/layer_._3/attention/self/value/bias:0', 'tf_bert_model_19/bert/encoder/layer_._3/attention/output/dense/kernel:0', 'tf_bert_model_19/bert/encoder/layer_._3/attention/output/dense/bias:0', 'tf_bert_model_19/bert/encoder/layer_._3/attention/output/LayerNorm/gamma:0', 'tf_bert_model_19/bert/encoder/layer_._3/attention/output/LayerNorm/beta:0', 'tf_bert_model_19/bert/encoder/layer_._3/intermediate/dense/kernel:0', 'tf_bert_model_19/bert/encoder/layer_._3/intermediate/dense/bias:0', 'tf_bert_model_19/bert/encoder/layer_._3/output/dense/kernel:0', 'tf_bert_model_19/bert/encoder/layer_._3/output/dense/bias:0', 'tf_bert_model_19/bert/encoder/layer_._3/output/LayerNorm/gamma:0', 'tf_bert_model_19/bert/encoder/layer_._3/output/LayerNorm/beta:0', 'tf_bert_model_19/bert/encoder/layer_._4/attention/self/query/kernel:0', 'tf_bert_model_19/bert/encoder/layer_._4/attention/self/query/bias:0', 'tf_bert_model_19/bert/encoder/layer_._4/attention/self/key/kernel:0', 'tf_bert_model_19/bert/encoder/layer_._4/attention/self/key/bias:0', 'tf_bert_model_19/bert/encoder/layer_._4/attention/self/value/kernel:0', 'tf_bert_model_19/bert/encoder/layer_._4/attention/self/value/bias:0', 'tf_bert_model_19/bert/encoder/layer_._4/attention/output/dense/kernel:0', 'tf_bert_model_19/bert/encoder/layer_._4/attention/output/dense/bias:0', 'tf_bert_model_19/bert/encoder/layer_._4/attention/output/LayerNorm/gamma:0', 'tf_bert_model_19/bert/encoder/layer_._4/attention/output/LayerNorm/beta:0', 'tf_bert_model_19/bert/encoder/layer_._4/intermediate/dense/kernel:0', 'tf_bert_model_19/bert/encoder/layer_._4/intermediate/dense/bias:0', 'tf_bert_model_19/bert/encoder/layer_._4/output/dense/kernel:0', 'tf_bert_model_19/bert/encoder/layer_._4/output/dense/bias:0', 'tf_bert_model_19/bert/encoder/layer_._4/output/LayerNorm/gamma:0', 'tf_bert_model_19/bert/encoder/layer_._4/output/LayerNorm/beta:0', 'tf_bert_model_19/bert/encoder/layer_._5/attention/self/query/kernel:0', 'tf_bert_model_19/bert/encoder/layer_._5/attention/self/query/bias:0', 'tf_bert_model_19/bert/encoder/layer_._5/attention/self/key/kernel:0', 'tf_bert_model_19/bert/encoder/layer_._5/attention/self/key/bias:0', 'tf_bert_model_19/bert/encoder/layer_._5/attention/self/value/kernel:0', 'tf_bert_model_19/bert/encoder/layer_._5/attention/self/value/bias:0', 'tf_bert_model_19/bert/encoder/layer_._5/attention/output/dense/kernel:0', 'tf_bert_model_19/bert/encoder/layer_._5/attention/output/dense/bias:0', 'tf_bert_model_19/bert/encoder/layer_._5/attention/output/LayerNorm/gamma:0', 'tf_bert_model_19/bert/encoder/layer_._5/attention/output/LayerNorm/beta:0', 'tf_bert_model_19/bert/encoder/layer_._5/intermediate/dense/kernel:0', 'tf_bert_model_19/bert/encoder/layer_._5/intermediate/dense/bias:0', 'tf_bert_model_19/bert/encoder/layer_._5/output/dense/kernel:0', 'tf_bert_model_19/bert/encoder/layer_._5/output/dense/bias:0', 'tf_bert_model_19/bert/encoder/layer_._5/output/LayerNorm/gamma:0', 'tf_bert_model_19/bert/encoder/layer_._5/output/LayerNorm/beta:0', 'tf_bert_model_19/bert/encoder/layer_._6/attention/self/query/kernel:0', 'tf_bert_model_19/bert/encoder/layer_._6/attention/self/query/bias:0', 'tf_bert_model_19/bert/encoder/layer_._6/attention/self/key/kernel:0', 'tf_bert_model_19/bert/encoder/layer_._6/attention/self/key/bias:0', 'tf_bert_model_19/bert/encoder/layer_._6/attention/self/value/kernel:0', 'tf_bert_model_19/bert/encoder/layer_._6/attention/self/value/bias:0', 'tf_bert_model_19/bert/encoder/layer_._6/attention/output/dense/kernel:0', 'tf_bert_model_19/bert/encoder/layer_._6/attention/output/dense/bias:0', 'tf_bert_model_19/bert/encoder/layer_._6/attention/output/LayerNorm/gamma:0', 'tf_bert_model_19/bert/encoder/layer_._6/attention/output/LayerNorm/beta:0', 'tf_bert_model_19/bert/encoder/layer_._6/intermediate/dense/kernel:0', 'tf_bert_model_19/bert/encoder/layer_._6/intermediate/dense/bias:0', 'tf_bert_model_19/bert/encoder/layer_._6/output/dense/kernel:0', 'tf_bert_model_19/bert/encoder/layer_._6/output/dense/bias:0', 'tf_bert_model_19/bert/encoder/layer_._6/output/LayerNorm/gamma:0', 'tf_bert_model_19/bert/encoder/layer_._6/output/LayerNorm/beta:0', 'tf_bert_model_19/bert/encoder/layer_._7/attention/self/query/kernel:0', 'tf_bert_model_19/bert/encoder/layer_._7/attention/self/query/bias:0', 'tf_bert_model_19/bert/encoder/layer_._7/attention/self/key/kernel:0', 'tf_bert_model_19/bert/encoder/layer_._7/attention/self/key/bias:0', 'tf_bert_model_19/bert/encoder/layer_._7/attention/self/value/kernel:0', 'tf_bert_model_19/bert/encoder/layer_._7/attention/self/value/bias:0', 'tf_bert_model_19/bert/encoder/layer_._7/attention/output/dense/kernel:0', 'tf_bert_model_19/bert/encoder/layer_._7/attention/output/dense/bias:0', 'tf_bert_model_19/bert/encoder/layer_._7/attention/output/LayerNorm/gamma:0', 'tf_bert_model_19/bert/encoder/layer_._7/attention/output/LayerNorm/beta:0', 'tf_bert_model_19/bert/encoder/layer_._7/intermediate/dense/kernel:0', 'tf_bert_model_19/bert/encoder/layer_._7/intermediate/dense/bias:0', 'tf_bert_model_19/bert/encoder/layer_._7/output/dense/kernel:0', 'tf_bert_model_19/bert/encoder/layer_._7/output/dense/bias:0', 'tf_bert_model_19/bert/encoder/layer_._7/output/LayerNorm/gamma:0', 'tf_bert_model_19/bert/encoder/layer_._7/output/LayerNorm/beta:0', 'tf_bert_model_19/bert/encoder/layer_._8/attention/self/query/kernel:0', 'tf_bert_model_19/bert/encoder/layer_._8/attention/self/query/bias:0', 'tf_bert_model_19/bert/encoder/layer_._8/attention/self/key/kernel:0', 'tf_bert_model_19/bert/encoder/layer_._8/attention/self/key/bias:0', 'tf_bert_model_19/bert/encoder/layer_._8/attention/self/value/kernel:0', 'tf_bert_model_19/bert/encoder/layer_._8/attention/self/value/bias:0', 'tf_bert_model_19/bert/encoder/layer_._8/attention/output/dense/kernel:0', 'tf_bert_model_19/bert/encoder/layer_._8/attention/output/dense/bias:0', 'tf_bert_model_19/bert/encoder/layer_._8/attention/output/LayerNorm/gamma:0', 'tf_bert_model_19/bert/encoder/layer_._8/attention/output/LayerNorm/beta:0', 'tf_bert_model_19/bert/encoder/layer_._8/intermediate/dense/kernel:0', 'tf_bert_model_19/bert/encoder/layer_._8/intermediate/dense/bias:0', 'tf_bert_model_19/bert/encoder/layer_._8/output/dense/kernel:0', 'tf_bert_model_19/bert/encoder/layer_._8/output/dense/bias:0', 'tf_bert_model_19/bert/encoder/layer_._8/output/LayerNorm/gamma:0', 'tf_bert_model_19/bert/encoder/layer_._8/output/LayerNorm/beta:0', 'tf_bert_model_19/bert/encoder/layer_._9/attention/self/query/kernel:0', 'tf_bert_model_19/bert/encoder/layer_._9/attention/self/query/bias:0', 'tf_bert_model_19/bert/encoder/layer_._9/attention/self/key/kernel:0', 'tf_bert_model_19/bert/encoder/layer_._9/attention/self/key/bias:0', 'tf_bert_model_19/bert/encoder/layer_._9/attention/self/value/kernel:0', 'tf_bert_model_19/bert/encoder/layer_._9/attention/self/value/bias:0', 'tf_bert_model_19/bert/encoder/layer_._9/attention/output/dense/kernel:0', 'tf_bert_model_19/bert/encoder/layer_._9/attention/output/dense/bias:0', 'tf_bert_model_19/bert/encoder/layer_._9/attention/output/LayerNorm/gamma:0', 'tf_bert_model_19/bert/encoder/layer_._9/attention/output/LayerNorm/beta:0', 'tf_bert_model_19/bert/encoder/layer_._9/intermediate/dense/kernel:0', 'tf_bert_model_19/bert/encoder/layer_._9/intermediate/dense/bias:0', 'tf_bert_model_19/bert/encoder/layer_._9/output/dense/kernel:0', 'tf_bert_model_19/bert/encoder/layer_._9/output/dense/bias:0', 'tf_bert_model_19/bert/encoder/layer_._9/output/LayerNorm/gamma:0', 'tf_bert_model_19/bert/encoder/layer_._9/output/LayerNorm/beta:0', 'tf_bert_model_19/bert/encoder/layer_._10/attention/self/query/kernel:0', 'tf_bert_model_19/bert/encoder/layer_._10/attention/self/query/bias:0', 'tf_bert_model_19/bert/encoder/layer_._10/attention/self/key/kernel:0', 'tf_bert_model_19/bert/encoder/layer_._10/attention/self/key/bias:0', 'tf_bert_model_19/bert/encoder/layer_._10/attention/self/value/kernel:0', 'tf_bert_model_19/bert/encoder/layer_._10/attention/self/value/bias:0', 'tf_bert_model_19/bert/encoder/layer_._10/attention/output/dense/kernel:0', 'tf_bert_model_19/bert/encoder/layer_._10/attention/output/dense/bias:0', 'tf_bert_model_19/bert/encoder/layer_._10/attention/output/LayerNorm/gamma:0', 'tf_bert_model_19/bert/encoder/layer_._10/attention/output/LayerNorm/beta:0', 'tf_bert_model_19/bert/encoder/layer_._10/intermediate/dense/kernel:0', 'tf_bert_model_19/bert/encoder/layer_._10/intermediate/dense/bias:0', 'tf_bert_model_19/bert/encoder/layer_._10/output/dense/kernel:0', 'tf_bert_model_19/bert/encoder/layer_._10/output/dense/bias:0', 'tf_bert_model_19/bert/encoder/layer_._10/output/LayerNorm/gamma:0', 'tf_bert_model_19/bert/encoder/layer_._10/output/LayerNorm/beta:0', 'tf_bert_model_19/bert/pooler/dense/kernel:0', 'tf_bert_model_19/bert/pooler/dense/bias:0'] when minimizing the loss. If you're using `model.compile()`, did you forget to provide a `loss`argument?\n",
            "489/489 [==============================] - 42s 71ms/step - loss: 0.1285 - accuracy: 0.9547 - val_loss: 0.0750 - val_accuracy: 0.9795\n",
            "Epoch 2/3\n",
            "489/489 [==============================] - 31s 64ms/step - loss: 0.0596 - accuracy: 0.9829 - val_loss: 0.0509 - val_accuracy: 0.9894\n",
            "Epoch 3/3\n",
            "489/489 [==============================] - 31s 64ms/step - loss: 0.0337 - accuracy: 0.9900 - val_loss: 0.0505 - val_accuracy: 0.9861\n",
            "BERT 3e + CNN kernel un, train: accuracy = 0.9987, precision = 1.0000, recall = 0.9938, f1 = 0.9969\n",
            "validation: accuracy = 0.9887, precision = 0.9951, recall = 0.9533, f1 = 0.9737\n"
          ]
        },
        {
          "output_type": "stream",
          "name": "stderr",
          "text": [
            "Some layers from the model checkpoint at bert-base-cased were not used when initializing TFBertModel: ['nsp___cls', 'mlm___cls']\n",
            "- This IS expected if you are initializing TFBertModel from the checkpoint of a model trained on another task or with another architecture (e.g. initializing a BertForSequenceClassification model from a BertForPreTraining model).\n",
            "- This IS NOT expected if you are initializing TFBertModel from the checkpoint of a model that you expect to be exactly identical (initializing a BertForSequenceClassification model from a BertForSequenceClassification model).\n",
            "All the layers of TFBertModel were initialized from the model checkpoint at bert-base-cased.\n",
            "If your task is similar to the task the model of the checkpoint was trained on, you can already use TFBertModel for predictions without further training.\n"
          ]
        },
        {
          "output_type": "stream",
          "name": "stdout",
          "text": [
            "Epoch 1/3\n",
            "WARNING:tensorflow:Gradients do not exist for variables ['tf_bert_model_20/bert/embeddings/word_embeddings/weight:0', 'tf_bert_model_20/bert/embeddings/token_type_embeddings/embeddings:0', 'tf_bert_model_20/bert/embeddings/position_embeddings/embeddings:0', 'tf_bert_model_20/bert/embeddings/LayerNorm/gamma:0', 'tf_bert_model_20/bert/embeddings/LayerNorm/beta:0', 'tf_bert_model_20/bert/encoder/layer_._0/attention/self/query/kernel:0', 'tf_bert_model_20/bert/encoder/layer_._0/attention/self/query/bias:0', 'tf_bert_model_20/bert/encoder/layer_._0/attention/self/key/kernel:0', 'tf_bert_model_20/bert/encoder/layer_._0/attention/self/key/bias:0', 'tf_bert_model_20/bert/encoder/layer_._0/attention/self/value/kernel:0', 'tf_bert_model_20/bert/encoder/layer_._0/attention/self/value/bias:0', 'tf_bert_model_20/bert/encoder/layer_._0/attention/output/dense/kernel:0', 'tf_bert_model_20/bert/encoder/layer_._0/attention/output/dense/bias:0', 'tf_bert_model_20/bert/encoder/layer_._0/attention/output/LayerNorm/gamma:0', 'tf_bert_model_20/bert/encoder/layer_._0/attention/output/LayerNorm/beta:0', 'tf_bert_model_20/bert/encoder/layer_._0/intermediate/dense/kernel:0', 'tf_bert_model_20/bert/encoder/layer_._0/intermediate/dense/bias:0', 'tf_bert_model_20/bert/encoder/layer_._0/output/dense/kernel:0', 'tf_bert_model_20/bert/encoder/layer_._0/output/dense/bias:0', 'tf_bert_model_20/bert/encoder/layer_._0/output/LayerNorm/gamma:0', 'tf_bert_model_20/bert/encoder/layer_._0/output/LayerNorm/beta:0', 'tf_bert_model_20/bert/encoder/layer_._1/attention/self/query/kernel:0', 'tf_bert_model_20/bert/encoder/layer_._1/attention/self/query/bias:0', 'tf_bert_model_20/bert/encoder/layer_._1/attention/self/key/kernel:0', 'tf_bert_model_20/bert/encoder/layer_._1/attention/self/key/bias:0', 'tf_bert_model_20/bert/encoder/layer_._1/attention/self/value/kernel:0', 'tf_bert_model_20/bert/encoder/layer_._1/attention/self/value/bias:0', 'tf_bert_model_20/bert/encoder/layer_._1/attention/output/dense/kernel:0', 'tf_bert_model_20/bert/encoder/layer_._1/attention/output/dense/bias:0', 'tf_bert_model_20/bert/encoder/layer_._1/attention/output/LayerNorm/gamma:0', 'tf_bert_model_20/bert/encoder/layer_._1/attention/output/LayerNorm/beta:0', 'tf_bert_model_20/bert/encoder/layer_._1/intermediate/dense/kernel:0', 'tf_bert_model_20/bert/encoder/layer_._1/intermediate/dense/bias:0', 'tf_bert_model_20/bert/encoder/layer_._1/output/dense/kernel:0', 'tf_bert_model_20/bert/encoder/layer_._1/output/dense/bias:0', 'tf_bert_model_20/bert/encoder/layer_._1/output/LayerNorm/gamma:0', 'tf_bert_model_20/bert/encoder/layer_._1/output/LayerNorm/beta:0', 'tf_bert_model_20/bert/encoder/layer_._2/attention/self/query/kernel:0', 'tf_bert_model_20/bert/encoder/layer_._2/attention/self/query/bias:0', 'tf_bert_model_20/bert/encoder/layer_._2/attention/self/key/kernel:0', 'tf_bert_model_20/bert/encoder/layer_._2/attention/self/key/bias:0', 'tf_bert_model_20/bert/encoder/layer_._2/attention/self/value/kernel:0', 'tf_bert_model_20/bert/encoder/layer_._2/attention/self/value/bias:0', 'tf_bert_model_20/bert/encoder/layer_._2/attention/output/dense/kernel:0', 'tf_bert_model_20/bert/encoder/layer_._2/attention/output/dense/bias:0', 'tf_bert_model_20/bert/encoder/layer_._2/attention/output/LayerNorm/gamma:0', 'tf_bert_model_20/bert/encoder/layer_._2/attention/output/LayerNorm/beta:0', 'tf_bert_model_20/bert/encoder/layer_._2/intermediate/dense/kernel:0', 'tf_bert_model_20/bert/encoder/layer_._2/intermediate/dense/bias:0', 'tf_bert_model_20/bert/encoder/layer_._2/output/dense/kernel:0', 'tf_bert_model_20/bert/encoder/layer_._2/output/dense/bias:0', 'tf_bert_model_20/bert/encoder/layer_._2/output/LayerNorm/gamma:0', 'tf_bert_model_20/bert/encoder/layer_._2/output/LayerNorm/beta:0', 'tf_bert_model_20/bert/encoder/layer_._3/attention/self/query/kernel:0', 'tf_bert_model_20/bert/encoder/layer_._3/attention/self/query/bias:0', 'tf_bert_model_20/bert/encoder/layer_._3/attention/self/key/kernel:0', 'tf_bert_model_20/bert/encoder/layer_._3/attention/self/key/bias:0', 'tf_bert_model_20/bert/encoder/layer_._3/attention/self/value/kernel:0', 'tf_bert_model_20/bert/encoder/layer_._3/attention/self/value/bias:0', 'tf_bert_model_20/bert/encoder/layer_._3/attention/output/dense/kernel:0', 'tf_bert_model_20/bert/encoder/layer_._3/attention/output/dense/bias:0', 'tf_bert_model_20/bert/encoder/layer_._3/attention/output/LayerNorm/gamma:0', 'tf_bert_model_20/bert/encoder/layer_._3/attention/output/LayerNorm/beta:0', 'tf_bert_model_20/bert/encoder/layer_._3/intermediate/dense/kernel:0', 'tf_bert_model_20/bert/encoder/layer_._3/intermediate/dense/bias:0', 'tf_bert_model_20/bert/encoder/layer_._3/output/dense/kernel:0', 'tf_bert_model_20/bert/encoder/layer_._3/output/dense/bias:0', 'tf_bert_model_20/bert/encoder/layer_._3/output/LayerNorm/gamma:0', 'tf_bert_model_20/bert/encoder/layer_._3/output/LayerNorm/beta:0', 'tf_bert_model_20/bert/encoder/layer_._4/attention/self/query/kernel:0', 'tf_bert_model_20/bert/encoder/layer_._4/attention/self/query/bias:0', 'tf_bert_model_20/bert/encoder/layer_._4/attention/self/key/kernel:0', 'tf_bert_model_20/bert/encoder/layer_._4/attention/self/key/bias:0', 'tf_bert_model_20/bert/encoder/layer_._4/attention/self/value/kernel:0', 'tf_bert_model_20/bert/encoder/layer_._4/attention/self/value/bias:0', 'tf_bert_model_20/bert/encoder/layer_._4/attention/output/dense/kernel:0', 'tf_bert_model_20/bert/encoder/layer_._4/attention/output/dense/bias:0', 'tf_bert_model_20/bert/encoder/layer_._4/attention/output/LayerNorm/gamma:0', 'tf_bert_model_20/bert/encoder/layer_._4/attention/output/LayerNorm/beta:0', 'tf_bert_model_20/bert/encoder/layer_._4/intermediate/dense/kernel:0', 'tf_bert_model_20/bert/encoder/layer_._4/intermediate/dense/bias:0', 'tf_bert_model_20/bert/encoder/layer_._4/output/dense/kernel:0', 'tf_bert_model_20/bert/encoder/layer_._4/output/dense/bias:0', 'tf_bert_model_20/bert/encoder/layer_._4/output/LayerNorm/gamma:0', 'tf_bert_model_20/bert/encoder/layer_._4/output/LayerNorm/beta:0', 'tf_bert_model_20/bert/encoder/layer_._5/attention/self/query/kernel:0', 'tf_bert_model_20/bert/encoder/layer_._5/attention/self/query/bias:0', 'tf_bert_model_20/bert/encoder/layer_._5/attention/self/key/kernel:0', 'tf_bert_model_20/bert/encoder/layer_._5/attention/self/key/bias:0', 'tf_bert_model_20/bert/encoder/layer_._5/attention/self/value/kernel:0', 'tf_bert_model_20/bert/encoder/layer_._5/attention/self/value/bias:0', 'tf_bert_model_20/bert/encoder/layer_._5/attention/output/dense/kernel:0', 'tf_bert_model_20/bert/encoder/layer_._5/attention/output/dense/bias:0', 'tf_bert_model_20/bert/encoder/layer_._5/attention/output/LayerNorm/gamma:0', 'tf_bert_model_20/bert/encoder/layer_._5/attention/output/LayerNorm/beta:0', 'tf_bert_model_20/bert/encoder/layer_._5/intermediate/dense/kernel:0', 'tf_bert_model_20/bert/encoder/layer_._5/intermediate/dense/bias:0', 'tf_bert_model_20/bert/encoder/layer_._5/output/dense/kernel:0', 'tf_bert_model_20/bert/encoder/layer_._5/output/dense/bias:0', 'tf_bert_model_20/bert/encoder/layer_._5/output/LayerNorm/gamma:0', 'tf_bert_model_20/bert/encoder/layer_._5/output/LayerNorm/beta:0', 'tf_bert_model_20/bert/encoder/layer_._6/attention/self/query/kernel:0', 'tf_bert_model_20/bert/encoder/layer_._6/attention/self/query/bias:0', 'tf_bert_model_20/bert/encoder/layer_._6/attention/self/key/kernel:0', 'tf_bert_model_20/bert/encoder/layer_._6/attention/self/key/bias:0', 'tf_bert_model_20/bert/encoder/layer_._6/attention/self/value/kernel:0', 'tf_bert_model_20/bert/encoder/layer_._6/attention/self/value/bias:0', 'tf_bert_model_20/bert/encoder/layer_._6/attention/output/dense/kernel:0', 'tf_bert_model_20/bert/encoder/layer_._6/attention/output/dense/bias:0', 'tf_bert_model_20/bert/encoder/layer_._6/attention/output/LayerNorm/gamma:0', 'tf_bert_model_20/bert/encoder/layer_._6/attention/output/LayerNorm/beta:0', 'tf_bert_model_20/bert/encoder/layer_._6/intermediate/dense/kernel:0', 'tf_bert_model_20/bert/encoder/layer_._6/intermediate/dense/bias:0', 'tf_bert_model_20/bert/encoder/layer_._6/output/dense/kernel:0', 'tf_bert_model_20/bert/encoder/layer_._6/output/dense/bias:0', 'tf_bert_model_20/bert/encoder/layer_._6/output/LayerNorm/gamma:0', 'tf_bert_model_20/bert/encoder/layer_._6/output/LayerNorm/beta:0', 'tf_bert_model_20/bert/encoder/layer_._7/attention/self/query/kernel:0', 'tf_bert_model_20/bert/encoder/layer_._7/attention/self/query/bias:0', 'tf_bert_model_20/bert/encoder/layer_._7/attention/self/key/kernel:0', 'tf_bert_model_20/bert/encoder/layer_._7/attention/self/key/bias:0', 'tf_bert_model_20/bert/encoder/layer_._7/attention/self/value/kernel:0', 'tf_bert_model_20/bert/encoder/layer_._7/attention/self/value/bias:0', 'tf_bert_model_20/bert/encoder/layer_._7/attention/output/dense/kernel:0', 'tf_bert_model_20/bert/encoder/layer_._7/attention/output/dense/bias:0', 'tf_bert_model_20/bert/encoder/layer_._7/attention/output/LayerNorm/gamma:0', 'tf_bert_model_20/bert/encoder/layer_._7/attention/output/LayerNorm/beta:0', 'tf_bert_model_20/bert/encoder/layer_._7/intermediate/dense/kernel:0', 'tf_bert_model_20/bert/encoder/layer_._7/intermediate/dense/bias:0', 'tf_bert_model_20/bert/encoder/layer_._7/output/dense/kernel:0', 'tf_bert_model_20/bert/encoder/layer_._7/output/dense/bias:0', 'tf_bert_model_20/bert/encoder/layer_._7/output/LayerNorm/gamma:0', 'tf_bert_model_20/bert/encoder/layer_._7/output/LayerNorm/beta:0', 'tf_bert_model_20/bert/encoder/layer_._8/attention/self/query/kernel:0', 'tf_bert_model_20/bert/encoder/layer_._8/attention/self/query/bias:0', 'tf_bert_model_20/bert/encoder/layer_._8/attention/self/key/kernel:0', 'tf_bert_model_20/bert/encoder/layer_._8/attention/self/key/bias:0', 'tf_bert_model_20/bert/encoder/layer_._8/attention/self/value/kernel:0', 'tf_bert_model_20/bert/encoder/layer_._8/attention/self/value/bias:0', 'tf_bert_model_20/bert/encoder/layer_._8/attention/output/dense/kernel:0', 'tf_bert_model_20/bert/encoder/layer_._8/attention/output/dense/bias:0', 'tf_bert_model_20/bert/encoder/layer_._8/attention/output/LayerNorm/gamma:0', 'tf_bert_model_20/bert/encoder/layer_._8/attention/output/LayerNorm/beta:0', 'tf_bert_model_20/bert/encoder/layer_._8/intermediate/dense/kernel:0', 'tf_bert_model_20/bert/encoder/layer_._8/intermediate/dense/bias:0', 'tf_bert_model_20/bert/encoder/layer_._8/output/dense/kernel:0', 'tf_bert_model_20/bert/encoder/layer_._8/output/dense/bias:0', 'tf_bert_model_20/bert/encoder/layer_._8/output/LayerNorm/gamma:0', 'tf_bert_model_20/bert/encoder/layer_._8/output/LayerNorm/beta:0', 'tf_bert_model_20/bert/encoder/layer_._9/attention/self/query/kernel:0', 'tf_bert_model_20/bert/encoder/layer_._9/attention/self/query/bias:0', 'tf_bert_model_20/bert/encoder/layer_._9/attention/self/key/kernel:0', 'tf_bert_model_20/bert/encoder/layer_._9/attention/self/key/bias:0', 'tf_bert_model_20/bert/encoder/layer_._9/attention/self/value/kernel:0', 'tf_bert_model_20/bert/encoder/layer_._9/attention/self/value/bias:0', 'tf_bert_model_20/bert/encoder/layer_._9/attention/output/dense/kernel:0', 'tf_bert_model_20/bert/encoder/layer_._9/attention/output/dense/bias:0', 'tf_bert_model_20/bert/encoder/layer_._9/attention/output/LayerNorm/gamma:0', 'tf_bert_model_20/bert/encoder/layer_._9/attention/output/LayerNorm/beta:0', 'tf_bert_model_20/bert/encoder/layer_._9/intermediate/dense/kernel:0', 'tf_bert_model_20/bert/encoder/layer_._9/intermediate/dense/bias:0', 'tf_bert_model_20/bert/encoder/layer_._9/output/dense/kernel:0', 'tf_bert_model_20/bert/encoder/layer_._9/output/dense/bias:0', 'tf_bert_model_20/bert/encoder/layer_._9/output/LayerNorm/gamma:0', 'tf_bert_model_20/bert/encoder/layer_._9/output/LayerNorm/beta:0', 'tf_bert_model_20/bert/encoder/layer_._10/attention/self/query/kernel:0', 'tf_bert_model_20/bert/encoder/layer_._10/attention/self/query/bias:0', 'tf_bert_model_20/bert/encoder/layer_._10/attention/self/key/kernel:0', 'tf_bert_model_20/bert/encoder/layer_._10/attention/self/key/bias:0', 'tf_bert_model_20/bert/encoder/layer_._10/attention/self/value/kernel:0', 'tf_bert_model_20/bert/encoder/layer_._10/attention/self/value/bias:0', 'tf_bert_model_20/bert/encoder/layer_._10/attention/output/dense/kernel:0', 'tf_bert_model_20/bert/encoder/layer_._10/attention/output/dense/bias:0', 'tf_bert_model_20/bert/encoder/layer_._10/attention/output/LayerNorm/gamma:0', 'tf_bert_model_20/bert/encoder/layer_._10/attention/output/LayerNorm/beta:0', 'tf_bert_model_20/bert/encoder/layer_._10/intermediate/dense/kernel:0', 'tf_bert_model_20/bert/encoder/layer_._10/intermediate/dense/bias:0', 'tf_bert_model_20/bert/encoder/layer_._10/output/dense/kernel:0', 'tf_bert_model_20/bert/encoder/layer_._10/output/dense/bias:0', 'tf_bert_model_20/bert/encoder/layer_._10/output/LayerNorm/gamma:0', 'tf_bert_model_20/bert/encoder/layer_._10/output/LayerNorm/beta:0', 'tf_bert_model_20/bert/pooler/dense/kernel:0', 'tf_bert_model_20/bert/pooler/dense/bias:0'] when minimizing the loss. If you're using `model.compile()`, did you forget to provide a `loss`argument?\n",
            "WARNING:tensorflow:Gradients do not exist for variables ['tf_bert_model_20/bert/embeddings/word_embeddings/weight:0', 'tf_bert_model_20/bert/embeddings/token_type_embeddings/embeddings:0', 'tf_bert_model_20/bert/embeddings/position_embeddings/embeddings:0', 'tf_bert_model_20/bert/embeddings/LayerNorm/gamma:0', 'tf_bert_model_20/bert/embeddings/LayerNorm/beta:0', 'tf_bert_model_20/bert/encoder/layer_._0/attention/self/query/kernel:0', 'tf_bert_model_20/bert/encoder/layer_._0/attention/self/query/bias:0', 'tf_bert_model_20/bert/encoder/layer_._0/attention/self/key/kernel:0', 'tf_bert_model_20/bert/encoder/layer_._0/attention/self/key/bias:0', 'tf_bert_model_20/bert/encoder/layer_._0/attention/self/value/kernel:0', 'tf_bert_model_20/bert/encoder/layer_._0/attention/self/value/bias:0', 'tf_bert_model_20/bert/encoder/layer_._0/attention/output/dense/kernel:0', 'tf_bert_model_20/bert/encoder/layer_._0/attention/output/dense/bias:0', 'tf_bert_model_20/bert/encoder/layer_._0/attention/output/LayerNorm/gamma:0', 'tf_bert_model_20/bert/encoder/layer_._0/attention/output/LayerNorm/beta:0', 'tf_bert_model_20/bert/encoder/layer_._0/intermediate/dense/kernel:0', 'tf_bert_model_20/bert/encoder/layer_._0/intermediate/dense/bias:0', 'tf_bert_model_20/bert/encoder/layer_._0/output/dense/kernel:0', 'tf_bert_model_20/bert/encoder/layer_._0/output/dense/bias:0', 'tf_bert_model_20/bert/encoder/layer_._0/output/LayerNorm/gamma:0', 'tf_bert_model_20/bert/encoder/layer_._0/output/LayerNorm/beta:0', 'tf_bert_model_20/bert/encoder/layer_._1/attention/self/query/kernel:0', 'tf_bert_model_20/bert/encoder/layer_._1/attention/self/query/bias:0', 'tf_bert_model_20/bert/encoder/layer_._1/attention/self/key/kernel:0', 'tf_bert_model_20/bert/encoder/layer_._1/attention/self/key/bias:0', 'tf_bert_model_20/bert/encoder/layer_._1/attention/self/value/kernel:0', 'tf_bert_model_20/bert/encoder/layer_._1/attention/self/value/bias:0', 'tf_bert_model_20/bert/encoder/layer_._1/attention/output/dense/kernel:0', 'tf_bert_model_20/bert/encoder/layer_._1/attention/output/dense/bias:0', 'tf_bert_model_20/bert/encoder/layer_._1/attention/output/LayerNorm/gamma:0', 'tf_bert_model_20/bert/encoder/layer_._1/attention/output/LayerNorm/beta:0', 'tf_bert_model_20/bert/encoder/layer_._1/intermediate/dense/kernel:0', 'tf_bert_model_20/bert/encoder/layer_._1/intermediate/dense/bias:0', 'tf_bert_model_20/bert/encoder/layer_._1/output/dense/kernel:0', 'tf_bert_model_20/bert/encoder/layer_._1/output/dense/bias:0', 'tf_bert_model_20/bert/encoder/layer_._1/output/LayerNorm/gamma:0', 'tf_bert_model_20/bert/encoder/layer_._1/output/LayerNorm/beta:0', 'tf_bert_model_20/bert/encoder/layer_._2/attention/self/query/kernel:0', 'tf_bert_model_20/bert/encoder/layer_._2/attention/self/query/bias:0', 'tf_bert_model_20/bert/encoder/layer_._2/attention/self/key/kernel:0', 'tf_bert_model_20/bert/encoder/layer_._2/attention/self/key/bias:0', 'tf_bert_model_20/bert/encoder/layer_._2/attention/self/value/kernel:0', 'tf_bert_model_20/bert/encoder/layer_._2/attention/self/value/bias:0', 'tf_bert_model_20/bert/encoder/layer_._2/attention/output/dense/kernel:0', 'tf_bert_model_20/bert/encoder/layer_._2/attention/output/dense/bias:0', 'tf_bert_model_20/bert/encoder/layer_._2/attention/output/LayerNorm/gamma:0', 'tf_bert_model_20/bert/encoder/layer_._2/attention/output/LayerNorm/beta:0', 'tf_bert_model_20/bert/encoder/layer_._2/intermediate/dense/kernel:0', 'tf_bert_model_20/bert/encoder/layer_._2/intermediate/dense/bias:0', 'tf_bert_model_20/bert/encoder/layer_._2/output/dense/kernel:0', 'tf_bert_model_20/bert/encoder/layer_._2/output/dense/bias:0', 'tf_bert_model_20/bert/encoder/layer_._2/output/LayerNorm/gamma:0', 'tf_bert_model_20/bert/encoder/layer_._2/output/LayerNorm/beta:0', 'tf_bert_model_20/bert/encoder/layer_._3/attention/self/query/kernel:0', 'tf_bert_model_20/bert/encoder/layer_._3/attention/self/query/bias:0', 'tf_bert_model_20/bert/encoder/layer_._3/attention/self/key/kernel:0', 'tf_bert_model_20/bert/encoder/layer_._3/attention/self/key/bias:0', 'tf_bert_model_20/bert/encoder/layer_._3/attention/self/value/kernel:0', 'tf_bert_model_20/bert/encoder/layer_._3/attention/self/value/bias:0', 'tf_bert_model_20/bert/encoder/layer_._3/attention/output/dense/kernel:0', 'tf_bert_model_20/bert/encoder/layer_._3/attention/output/dense/bias:0', 'tf_bert_model_20/bert/encoder/layer_._3/attention/output/LayerNorm/gamma:0', 'tf_bert_model_20/bert/encoder/layer_._3/attention/output/LayerNorm/beta:0', 'tf_bert_model_20/bert/encoder/layer_._3/intermediate/dense/kernel:0', 'tf_bert_model_20/bert/encoder/layer_._3/intermediate/dense/bias:0', 'tf_bert_model_20/bert/encoder/layer_._3/output/dense/kernel:0', 'tf_bert_model_20/bert/encoder/layer_._3/output/dense/bias:0', 'tf_bert_model_20/bert/encoder/layer_._3/output/LayerNorm/gamma:0', 'tf_bert_model_20/bert/encoder/layer_._3/output/LayerNorm/beta:0', 'tf_bert_model_20/bert/encoder/layer_._4/attention/self/query/kernel:0', 'tf_bert_model_20/bert/encoder/layer_._4/attention/self/query/bias:0', 'tf_bert_model_20/bert/encoder/layer_._4/attention/self/key/kernel:0', 'tf_bert_model_20/bert/encoder/layer_._4/attention/self/key/bias:0', 'tf_bert_model_20/bert/encoder/layer_._4/attention/self/value/kernel:0', 'tf_bert_model_20/bert/encoder/layer_._4/attention/self/value/bias:0', 'tf_bert_model_20/bert/encoder/layer_._4/attention/output/dense/kernel:0', 'tf_bert_model_20/bert/encoder/layer_._4/attention/output/dense/bias:0', 'tf_bert_model_20/bert/encoder/layer_._4/attention/output/LayerNorm/gamma:0', 'tf_bert_model_20/bert/encoder/layer_._4/attention/output/LayerNorm/beta:0', 'tf_bert_model_20/bert/encoder/layer_._4/intermediate/dense/kernel:0', 'tf_bert_model_20/bert/encoder/layer_._4/intermediate/dense/bias:0', 'tf_bert_model_20/bert/encoder/layer_._4/output/dense/kernel:0', 'tf_bert_model_20/bert/encoder/layer_._4/output/dense/bias:0', 'tf_bert_model_20/bert/encoder/layer_._4/output/LayerNorm/gamma:0', 'tf_bert_model_20/bert/encoder/layer_._4/output/LayerNorm/beta:0', 'tf_bert_model_20/bert/encoder/layer_._5/attention/self/query/kernel:0', 'tf_bert_model_20/bert/encoder/layer_._5/attention/self/query/bias:0', 'tf_bert_model_20/bert/encoder/layer_._5/attention/self/key/kernel:0', 'tf_bert_model_20/bert/encoder/layer_._5/attention/self/key/bias:0', 'tf_bert_model_20/bert/encoder/layer_._5/attention/self/value/kernel:0', 'tf_bert_model_20/bert/encoder/layer_._5/attention/self/value/bias:0', 'tf_bert_model_20/bert/encoder/layer_._5/attention/output/dense/kernel:0', 'tf_bert_model_20/bert/encoder/layer_._5/attention/output/dense/bias:0', 'tf_bert_model_20/bert/encoder/layer_._5/attention/output/LayerNorm/gamma:0', 'tf_bert_model_20/bert/encoder/layer_._5/attention/output/LayerNorm/beta:0', 'tf_bert_model_20/bert/encoder/layer_._5/intermediate/dense/kernel:0', 'tf_bert_model_20/bert/encoder/layer_._5/intermediate/dense/bias:0', 'tf_bert_model_20/bert/encoder/layer_._5/output/dense/kernel:0', 'tf_bert_model_20/bert/encoder/layer_._5/output/dense/bias:0', 'tf_bert_model_20/bert/encoder/layer_._5/output/LayerNorm/gamma:0', 'tf_bert_model_20/bert/encoder/layer_._5/output/LayerNorm/beta:0', 'tf_bert_model_20/bert/encoder/layer_._6/attention/self/query/kernel:0', 'tf_bert_model_20/bert/encoder/layer_._6/attention/self/query/bias:0', 'tf_bert_model_20/bert/encoder/layer_._6/attention/self/key/kernel:0', 'tf_bert_model_20/bert/encoder/layer_._6/attention/self/key/bias:0', 'tf_bert_model_20/bert/encoder/layer_._6/attention/self/value/kernel:0', 'tf_bert_model_20/bert/encoder/layer_._6/attention/self/value/bias:0', 'tf_bert_model_20/bert/encoder/layer_._6/attention/output/dense/kernel:0', 'tf_bert_model_20/bert/encoder/layer_._6/attention/output/dense/bias:0', 'tf_bert_model_20/bert/encoder/layer_._6/attention/output/LayerNorm/gamma:0', 'tf_bert_model_20/bert/encoder/layer_._6/attention/output/LayerNorm/beta:0', 'tf_bert_model_20/bert/encoder/layer_._6/intermediate/dense/kernel:0', 'tf_bert_model_20/bert/encoder/layer_._6/intermediate/dense/bias:0', 'tf_bert_model_20/bert/encoder/layer_._6/output/dense/kernel:0', 'tf_bert_model_20/bert/encoder/layer_._6/output/dense/bias:0', 'tf_bert_model_20/bert/encoder/layer_._6/output/LayerNorm/gamma:0', 'tf_bert_model_20/bert/encoder/layer_._6/output/LayerNorm/beta:0', 'tf_bert_model_20/bert/encoder/layer_._7/attention/self/query/kernel:0', 'tf_bert_model_20/bert/encoder/layer_._7/attention/self/query/bias:0', 'tf_bert_model_20/bert/encoder/layer_._7/attention/self/key/kernel:0', 'tf_bert_model_20/bert/encoder/layer_._7/attention/self/key/bias:0', 'tf_bert_model_20/bert/encoder/layer_._7/attention/self/value/kernel:0', 'tf_bert_model_20/bert/encoder/layer_._7/attention/self/value/bias:0', 'tf_bert_model_20/bert/encoder/layer_._7/attention/output/dense/kernel:0', 'tf_bert_model_20/bert/encoder/layer_._7/attention/output/dense/bias:0', 'tf_bert_model_20/bert/encoder/layer_._7/attention/output/LayerNorm/gamma:0', 'tf_bert_model_20/bert/encoder/layer_._7/attention/output/LayerNorm/beta:0', 'tf_bert_model_20/bert/encoder/layer_._7/intermediate/dense/kernel:0', 'tf_bert_model_20/bert/encoder/layer_._7/intermediate/dense/bias:0', 'tf_bert_model_20/bert/encoder/layer_._7/output/dense/kernel:0', 'tf_bert_model_20/bert/encoder/layer_._7/output/dense/bias:0', 'tf_bert_model_20/bert/encoder/layer_._7/output/LayerNorm/gamma:0', 'tf_bert_model_20/bert/encoder/layer_._7/output/LayerNorm/beta:0', 'tf_bert_model_20/bert/encoder/layer_._8/attention/self/query/kernel:0', 'tf_bert_model_20/bert/encoder/layer_._8/attention/self/query/bias:0', 'tf_bert_model_20/bert/encoder/layer_._8/attention/self/key/kernel:0', 'tf_bert_model_20/bert/encoder/layer_._8/attention/self/key/bias:0', 'tf_bert_model_20/bert/encoder/layer_._8/attention/self/value/kernel:0', 'tf_bert_model_20/bert/encoder/layer_._8/attention/self/value/bias:0', 'tf_bert_model_20/bert/encoder/layer_._8/attention/output/dense/kernel:0', 'tf_bert_model_20/bert/encoder/layer_._8/attention/output/dense/bias:0', 'tf_bert_model_20/bert/encoder/layer_._8/attention/output/LayerNorm/gamma:0', 'tf_bert_model_20/bert/encoder/layer_._8/attention/output/LayerNorm/beta:0', 'tf_bert_model_20/bert/encoder/layer_._8/intermediate/dense/kernel:0', 'tf_bert_model_20/bert/encoder/layer_._8/intermediate/dense/bias:0', 'tf_bert_model_20/bert/encoder/layer_._8/output/dense/kernel:0', 'tf_bert_model_20/bert/encoder/layer_._8/output/dense/bias:0', 'tf_bert_model_20/bert/encoder/layer_._8/output/LayerNorm/gamma:0', 'tf_bert_model_20/bert/encoder/layer_._8/output/LayerNorm/beta:0', 'tf_bert_model_20/bert/encoder/layer_._9/attention/self/query/kernel:0', 'tf_bert_model_20/bert/encoder/layer_._9/attention/self/query/bias:0', 'tf_bert_model_20/bert/encoder/layer_._9/attention/self/key/kernel:0', 'tf_bert_model_20/bert/encoder/layer_._9/attention/self/key/bias:0', 'tf_bert_model_20/bert/encoder/layer_._9/attention/self/value/kernel:0', 'tf_bert_model_20/bert/encoder/layer_._9/attention/self/value/bias:0', 'tf_bert_model_20/bert/encoder/layer_._9/attention/output/dense/kernel:0', 'tf_bert_model_20/bert/encoder/layer_._9/attention/output/dense/bias:0', 'tf_bert_model_20/bert/encoder/layer_._9/attention/output/LayerNorm/gamma:0', 'tf_bert_model_20/bert/encoder/layer_._9/attention/output/LayerNorm/beta:0', 'tf_bert_model_20/bert/encoder/layer_._9/intermediate/dense/kernel:0', 'tf_bert_model_20/bert/encoder/layer_._9/intermediate/dense/bias:0', 'tf_bert_model_20/bert/encoder/layer_._9/output/dense/kernel:0', 'tf_bert_model_20/bert/encoder/layer_._9/output/dense/bias:0', 'tf_bert_model_20/bert/encoder/layer_._9/output/LayerNorm/gamma:0', 'tf_bert_model_20/bert/encoder/layer_._9/output/LayerNorm/beta:0', 'tf_bert_model_20/bert/encoder/layer_._10/attention/self/query/kernel:0', 'tf_bert_model_20/bert/encoder/layer_._10/attention/self/query/bias:0', 'tf_bert_model_20/bert/encoder/layer_._10/attention/self/key/kernel:0', 'tf_bert_model_20/bert/encoder/layer_._10/attention/self/key/bias:0', 'tf_bert_model_20/bert/encoder/layer_._10/attention/self/value/kernel:0', 'tf_bert_model_20/bert/encoder/layer_._10/attention/self/value/bias:0', 'tf_bert_model_20/bert/encoder/layer_._10/attention/output/dense/kernel:0', 'tf_bert_model_20/bert/encoder/layer_._10/attention/output/dense/bias:0', 'tf_bert_model_20/bert/encoder/layer_._10/attention/output/LayerNorm/gamma:0', 'tf_bert_model_20/bert/encoder/layer_._10/attention/output/LayerNorm/beta:0', 'tf_bert_model_20/bert/encoder/layer_._10/intermediate/dense/kernel:0', 'tf_bert_model_20/bert/encoder/layer_._10/intermediate/dense/bias:0', 'tf_bert_model_20/bert/encoder/layer_._10/output/dense/kernel:0', 'tf_bert_model_20/bert/encoder/layer_._10/output/dense/bias:0', 'tf_bert_model_20/bert/encoder/layer_._10/output/LayerNorm/gamma:0', 'tf_bert_model_20/bert/encoder/layer_._10/output/LayerNorm/beta:0', 'tf_bert_model_20/bert/pooler/dense/kernel:0', 'tf_bert_model_20/bert/pooler/dense/bias:0'] when minimizing the loss. If you're using `model.compile()`, did you forget to provide a `loss`argument?\n",
            "489/489 [==============================] - 41s 70ms/step - loss: 0.1190 - accuracy: 0.9588 - val_loss: 0.0690 - val_accuracy: 0.9771\n",
            "Epoch 2/3\n",
            "489/489 [==============================] - 31s 64ms/step - loss: 0.0477 - accuracy: 0.9887 - val_loss: 0.0672 - val_accuracy: 0.9820\n",
            "Epoch 3/3\n",
            "489/489 [==============================] - 31s 64ms/step - loss: 0.0218 - accuracy: 0.9921 - val_loss: 0.0586 - val_accuracy: 0.9877\n",
            "BERT 3e + CNN kernel un, train: accuracy = 0.9987, precision = 0.9988, recall = 0.9952, f1 = 0.9970\n",
            "validation: accuracy = 0.9928, precision = 0.9843, recall = 0.9792, f1 = 0.9817\n"
          ]
        }
      ]
    },
    {
      "cell_type": "markdown",
      "source": [
        "accuracy = 0.9939, precision = 0.9900, recall = 0.9802, f1 = 0.9851\n",
        "\n",
        "accuracy = 0.9918, precision = 0.9899, recall = 0.9704, f1 = 0.9801\n",
        "\n",
        "accuracy = 0.9836, precision = 0.9567, recall = 0.9660, f1 = 0.9614\n",
        "\n",
        "accuracy = 0.9887, precision = 0.9951, recall = 0.9533, f1 = 0.9737\n",
        "\n",
        "accuracy = 0.9928, precision = 0.9843, recall = 0.9792, f1 = 0.9817\n"
      ],
      "metadata": {
        "id": "4ZPhvf8ozQTa"
      }
    },
    {
      "cell_type": "code",
      "source": [
        "# cross validation results\n",
        "cross_val_acc = [0.9939, 0.9918, 0.9836, 0.9887, 0.9928]\n",
        "cross_val_precision = []\n",
        "cross_val_recall = []\n",
        "cross_val_f1 = [0.9851, 0.9801, 0.9614, 0.9737, 0.9817]\n",
        "\n",
        "print(\"mean accuracy\", np.mean(cross_val_acc))\n",
        "print(\"mean f1\", np.mean(cross_val_f1))\n",
        "\n",
        "print(\"st dev accuracy\", np.std(cross_val_acc))\n",
        "print(\"se dev f1\", np.std(cross_val_f1))"
      ],
      "metadata": {
        "colab": {
          "base_uri": "https://localhost:8080/"
        },
        "id": "ENs2yinEzV64",
        "outputId": "3ee8b514-8bed-4d54-84b2-700b1fc16093"
      },
      "execution_count": null,
      "outputs": [
        {
          "output_type": "stream",
          "name": "stdout",
          "text": [
            "mean accuracy 0.99016\n",
            "mean f1 0.9763999999999999\n",
            "st dev accuracy 0.003709770882413083\n",
            "se dev f1 0.008363731224758463\n"
          ]
        }
      ]
    },
    {
      "cell_type": "code",
      "source": [
        "CROSS_VAL = 5\n",
        "FOLD_SIZE = 977\n",
        "\n",
        "for i in range(CROSS_VAL):\n",
        "  #max_length = 100\n",
        "  max_length = 160                  # set max_length\n",
        "\n",
        "  all_train_examples = list(train_X.iloc[np.r_[0:FOLD_SIZE*i,FOLD_SIZE*(i+1):FOLD_SIZE*5]])\n",
        "  all_val_examples = list(train_X[FOLD_SIZE*i:FOLD_SIZE*(i+1)])\n",
        "  all_test_examples = list(test_X)\n",
        "\n",
        "  x_train = bert_tokenizer(all_train_examples, \n",
        "                max_length=max_length,\n",
        "                truncation=True,\n",
        "                padding='max_length', \n",
        "                return_tensors='tf')\n",
        "\n",
        "  y_train = tf.convert_to_tensor(list(train_y.iloc[np.r_[0:FOLD_SIZE*i,FOLD_SIZE*(i+1):FOLD_SIZE*5]]))\n",
        "\n",
        "  x_test = bert_tokenizer(all_test_examples, \n",
        "                max_length=max_length,\n",
        "                truncation=True,\n",
        "                padding='max_length', \n",
        "                return_tensors='tf')\n",
        "\n",
        "  y_test = tf.convert_to_tensor(list(test_y))\n",
        "\n",
        "  x_val = bert_tokenizer(all_val_examples, \n",
        "                max_length=max_length,\n",
        "                truncation=True,\n",
        "                padding='max_length', \n",
        "                return_tensors='tf')\n",
        "\n",
        "  y_val = tf.convert_to_tensor(list(train_y[FOLD_SIZE*i:FOLD_SIZE*(i+1)]))\n",
        "\n",
        "  cnn_bert_model = create_bert_cnn_model(train_layers=1,\n",
        "                                       kernel_sizes = [2, 3, 4, 5])\n",
        "\n",
        "  cnn_bert_model_history = cnn_bert_model.fit([x_train.input_ids, x_train.token_type_ids, x_train.attention_mask], \n",
        "                                            y_train,   \n",
        "                                            validation_data=([x_test.input_ids, x_test.token_type_ids, x_test.attention_mask], y_test),    \n",
        "                                            class_weight = class_weight, \n",
        "                                            batch_size=8, \n",
        "                                            epochs=3)\n",
        "\n",
        "\n",
        "\n",
        "  train_predict_labels = cnn_bert_model.predict([x_train.input_ids, x_train.token_type_ids, x_train.attention_mask])\n",
        "  train_y_predict = train_predict_labels.round(0)\n",
        "\n",
        "  val_predict_labels = cnn_bert_model.predict([x_val.input_ids, x_val.token_type_ids, x_val.attention_mask])\n",
        "  val_y_predict = val_predict_labels.round(0)\n",
        "\n",
        "  # train\n",
        "  print_metrics('BERT 3e + CNN kernel un 160, train', np.array(train_y.iloc[np.r_[0:FOLD_SIZE*i,FOLD_SIZE*(i+1):FOLD_SIZE*5]], int), train_y_predict)\n",
        "  # validation\n",
        "  print_metrics('validation', np.array(train_y[FOLD_SIZE*i:FOLD_SIZE*(i+1)], int), val_y_predict)"
      ],
      "metadata": {
        "id": "E_niVw1piMlN",
        "colab": {
          "base_uri": "https://localhost:8080/"
        },
        "outputId": "b5e57a65-735a-4c10-f153-23a2a25236c0"
      },
      "execution_count": null,
      "outputs": [
        {
          "output_type": "stream",
          "name": "stderr",
          "text": [
            "Some layers from the model checkpoint at bert-base-cased were not used when initializing TFBertModel: ['nsp___cls', 'mlm___cls']\n",
            "- This IS expected if you are initializing TFBertModel from the checkpoint of a model trained on another task or with another architecture (e.g. initializing a BertForSequenceClassification model from a BertForPreTraining model).\n",
            "- This IS NOT expected if you are initializing TFBertModel from the checkpoint of a model that you expect to be exactly identical (initializing a BertForSequenceClassification model from a BertForSequenceClassification model).\n",
            "All the layers of TFBertModel were initialized from the model checkpoint at bert-base-cased.\n",
            "If your task is similar to the task the model of the checkpoint was trained on, you can already use TFBertModel for predictions without further training.\n"
          ]
        },
        {
          "output_type": "stream",
          "name": "stdout",
          "text": [
            "Epoch 1/3\n",
            "WARNING:tensorflow:Gradients do not exist for variables ['tf_bert_model_21/bert/embeddings/word_embeddings/weight:0', 'tf_bert_model_21/bert/embeddings/token_type_embeddings/embeddings:0', 'tf_bert_model_21/bert/embeddings/position_embeddings/embeddings:0', 'tf_bert_model_21/bert/embeddings/LayerNorm/gamma:0', 'tf_bert_model_21/bert/embeddings/LayerNorm/beta:0', 'tf_bert_model_21/bert/encoder/layer_._0/attention/self/query/kernel:0', 'tf_bert_model_21/bert/encoder/layer_._0/attention/self/query/bias:0', 'tf_bert_model_21/bert/encoder/layer_._0/attention/self/key/kernel:0', 'tf_bert_model_21/bert/encoder/layer_._0/attention/self/key/bias:0', 'tf_bert_model_21/bert/encoder/layer_._0/attention/self/value/kernel:0', 'tf_bert_model_21/bert/encoder/layer_._0/attention/self/value/bias:0', 'tf_bert_model_21/bert/encoder/layer_._0/attention/output/dense/kernel:0', 'tf_bert_model_21/bert/encoder/layer_._0/attention/output/dense/bias:0', 'tf_bert_model_21/bert/encoder/layer_._0/attention/output/LayerNorm/gamma:0', 'tf_bert_model_21/bert/encoder/layer_._0/attention/output/LayerNorm/beta:0', 'tf_bert_model_21/bert/encoder/layer_._0/intermediate/dense/kernel:0', 'tf_bert_model_21/bert/encoder/layer_._0/intermediate/dense/bias:0', 'tf_bert_model_21/bert/encoder/layer_._0/output/dense/kernel:0', 'tf_bert_model_21/bert/encoder/layer_._0/output/dense/bias:0', 'tf_bert_model_21/bert/encoder/layer_._0/output/LayerNorm/gamma:0', 'tf_bert_model_21/bert/encoder/layer_._0/output/LayerNorm/beta:0', 'tf_bert_model_21/bert/encoder/layer_._1/attention/self/query/kernel:0', 'tf_bert_model_21/bert/encoder/layer_._1/attention/self/query/bias:0', 'tf_bert_model_21/bert/encoder/layer_._1/attention/self/key/kernel:0', 'tf_bert_model_21/bert/encoder/layer_._1/attention/self/key/bias:0', 'tf_bert_model_21/bert/encoder/layer_._1/attention/self/value/kernel:0', 'tf_bert_model_21/bert/encoder/layer_._1/attention/self/value/bias:0', 'tf_bert_model_21/bert/encoder/layer_._1/attention/output/dense/kernel:0', 'tf_bert_model_21/bert/encoder/layer_._1/attention/output/dense/bias:0', 'tf_bert_model_21/bert/encoder/layer_._1/attention/output/LayerNorm/gamma:0', 'tf_bert_model_21/bert/encoder/layer_._1/attention/output/LayerNorm/beta:0', 'tf_bert_model_21/bert/encoder/layer_._1/intermediate/dense/kernel:0', 'tf_bert_model_21/bert/encoder/layer_._1/intermediate/dense/bias:0', 'tf_bert_model_21/bert/encoder/layer_._1/output/dense/kernel:0', 'tf_bert_model_21/bert/encoder/layer_._1/output/dense/bias:0', 'tf_bert_model_21/bert/encoder/layer_._1/output/LayerNorm/gamma:0', 'tf_bert_model_21/bert/encoder/layer_._1/output/LayerNorm/beta:0', 'tf_bert_model_21/bert/encoder/layer_._2/attention/self/query/kernel:0', 'tf_bert_model_21/bert/encoder/layer_._2/attention/self/query/bias:0', 'tf_bert_model_21/bert/encoder/layer_._2/attention/self/key/kernel:0', 'tf_bert_model_21/bert/encoder/layer_._2/attention/self/key/bias:0', 'tf_bert_model_21/bert/encoder/layer_._2/attention/self/value/kernel:0', 'tf_bert_model_21/bert/encoder/layer_._2/attention/self/value/bias:0', 'tf_bert_model_21/bert/encoder/layer_._2/attention/output/dense/kernel:0', 'tf_bert_model_21/bert/encoder/layer_._2/attention/output/dense/bias:0', 'tf_bert_model_21/bert/encoder/layer_._2/attention/output/LayerNorm/gamma:0', 'tf_bert_model_21/bert/encoder/layer_._2/attention/output/LayerNorm/beta:0', 'tf_bert_model_21/bert/encoder/layer_._2/intermediate/dense/kernel:0', 'tf_bert_model_21/bert/encoder/layer_._2/intermediate/dense/bias:0', 'tf_bert_model_21/bert/encoder/layer_._2/output/dense/kernel:0', 'tf_bert_model_21/bert/encoder/layer_._2/output/dense/bias:0', 'tf_bert_model_21/bert/encoder/layer_._2/output/LayerNorm/gamma:0', 'tf_bert_model_21/bert/encoder/layer_._2/output/LayerNorm/beta:0', 'tf_bert_model_21/bert/encoder/layer_._3/attention/self/query/kernel:0', 'tf_bert_model_21/bert/encoder/layer_._3/attention/self/query/bias:0', 'tf_bert_model_21/bert/encoder/layer_._3/attention/self/key/kernel:0', 'tf_bert_model_21/bert/encoder/layer_._3/attention/self/key/bias:0', 'tf_bert_model_21/bert/encoder/layer_._3/attention/self/value/kernel:0', 'tf_bert_model_21/bert/encoder/layer_._3/attention/self/value/bias:0', 'tf_bert_model_21/bert/encoder/layer_._3/attention/output/dense/kernel:0', 'tf_bert_model_21/bert/encoder/layer_._3/attention/output/dense/bias:0', 'tf_bert_model_21/bert/encoder/layer_._3/attention/output/LayerNorm/gamma:0', 'tf_bert_model_21/bert/encoder/layer_._3/attention/output/LayerNorm/beta:0', 'tf_bert_model_21/bert/encoder/layer_._3/intermediate/dense/kernel:0', 'tf_bert_model_21/bert/encoder/layer_._3/intermediate/dense/bias:0', 'tf_bert_model_21/bert/encoder/layer_._3/output/dense/kernel:0', 'tf_bert_model_21/bert/encoder/layer_._3/output/dense/bias:0', 'tf_bert_model_21/bert/encoder/layer_._3/output/LayerNorm/gamma:0', 'tf_bert_model_21/bert/encoder/layer_._3/output/LayerNorm/beta:0', 'tf_bert_model_21/bert/encoder/layer_._4/attention/self/query/kernel:0', 'tf_bert_model_21/bert/encoder/layer_._4/attention/self/query/bias:0', 'tf_bert_model_21/bert/encoder/layer_._4/attention/self/key/kernel:0', 'tf_bert_model_21/bert/encoder/layer_._4/attention/self/key/bias:0', 'tf_bert_model_21/bert/encoder/layer_._4/attention/self/value/kernel:0', 'tf_bert_model_21/bert/encoder/layer_._4/attention/self/value/bias:0', 'tf_bert_model_21/bert/encoder/layer_._4/attention/output/dense/kernel:0', 'tf_bert_model_21/bert/encoder/layer_._4/attention/output/dense/bias:0', 'tf_bert_model_21/bert/encoder/layer_._4/attention/output/LayerNorm/gamma:0', 'tf_bert_model_21/bert/encoder/layer_._4/attention/output/LayerNorm/beta:0', 'tf_bert_model_21/bert/encoder/layer_._4/intermediate/dense/kernel:0', 'tf_bert_model_21/bert/encoder/layer_._4/intermediate/dense/bias:0', 'tf_bert_model_21/bert/encoder/layer_._4/output/dense/kernel:0', 'tf_bert_model_21/bert/encoder/layer_._4/output/dense/bias:0', 'tf_bert_model_21/bert/encoder/layer_._4/output/LayerNorm/gamma:0', 'tf_bert_model_21/bert/encoder/layer_._4/output/LayerNorm/beta:0', 'tf_bert_model_21/bert/encoder/layer_._5/attention/self/query/kernel:0', 'tf_bert_model_21/bert/encoder/layer_._5/attention/self/query/bias:0', 'tf_bert_model_21/bert/encoder/layer_._5/attention/self/key/kernel:0', 'tf_bert_model_21/bert/encoder/layer_._5/attention/self/key/bias:0', 'tf_bert_model_21/bert/encoder/layer_._5/attention/self/value/kernel:0', 'tf_bert_model_21/bert/encoder/layer_._5/attention/self/value/bias:0', 'tf_bert_model_21/bert/encoder/layer_._5/attention/output/dense/kernel:0', 'tf_bert_model_21/bert/encoder/layer_._5/attention/output/dense/bias:0', 'tf_bert_model_21/bert/encoder/layer_._5/attention/output/LayerNorm/gamma:0', 'tf_bert_model_21/bert/encoder/layer_._5/attention/output/LayerNorm/beta:0', 'tf_bert_model_21/bert/encoder/layer_._5/intermediate/dense/kernel:0', 'tf_bert_model_21/bert/encoder/layer_._5/intermediate/dense/bias:0', 'tf_bert_model_21/bert/encoder/layer_._5/output/dense/kernel:0', 'tf_bert_model_21/bert/encoder/layer_._5/output/dense/bias:0', 'tf_bert_model_21/bert/encoder/layer_._5/output/LayerNorm/gamma:0', 'tf_bert_model_21/bert/encoder/layer_._5/output/LayerNorm/beta:0', 'tf_bert_model_21/bert/encoder/layer_._6/attention/self/query/kernel:0', 'tf_bert_model_21/bert/encoder/layer_._6/attention/self/query/bias:0', 'tf_bert_model_21/bert/encoder/layer_._6/attention/self/key/kernel:0', 'tf_bert_model_21/bert/encoder/layer_._6/attention/self/key/bias:0', 'tf_bert_model_21/bert/encoder/layer_._6/attention/self/value/kernel:0', 'tf_bert_model_21/bert/encoder/layer_._6/attention/self/value/bias:0', 'tf_bert_model_21/bert/encoder/layer_._6/attention/output/dense/kernel:0', 'tf_bert_model_21/bert/encoder/layer_._6/attention/output/dense/bias:0', 'tf_bert_model_21/bert/encoder/layer_._6/attention/output/LayerNorm/gamma:0', 'tf_bert_model_21/bert/encoder/layer_._6/attention/output/LayerNorm/beta:0', 'tf_bert_model_21/bert/encoder/layer_._6/intermediate/dense/kernel:0', 'tf_bert_model_21/bert/encoder/layer_._6/intermediate/dense/bias:0', 'tf_bert_model_21/bert/encoder/layer_._6/output/dense/kernel:0', 'tf_bert_model_21/bert/encoder/layer_._6/output/dense/bias:0', 'tf_bert_model_21/bert/encoder/layer_._6/output/LayerNorm/gamma:0', 'tf_bert_model_21/bert/encoder/layer_._6/output/LayerNorm/beta:0', 'tf_bert_model_21/bert/encoder/layer_._7/attention/self/query/kernel:0', 'tf_bert_model_21/bert/encoder/layer_._7/attention/self/query/bias:0', 'tf_bert_model_21/bert/encoder/layer_._7/attention/self/key/kernel:0', 'tf_bert_model_21/bert/encoder/layer_._7/attention/self/key/bias:0', 'tf_bert_model_21/bert/encoder/layer_._7/attention/self/value/kernel:0', 'tf_bert_model_21/bert/encoder/layer_._7/attention/self/value/bias:0', 'tf_bert_model_21/bert/encoder/layer_._7/attention/output/dense/kernel:0', 'tf_bert_model_21/bert/encoder/layer_._7/attention/output/dense/bias:0', 'tf_bert_model_21/bert/encoder/layer_._7/attention/output/LayerNorm/gamma:0', 'tf_bert_model_21/bert/encoder/layer_._7/attention/output/LayerNorm/beta:0', 'tf_bert_model_21/bert/encoder/layer_._7/intermediate/dense/kernel:0', 'tf_bert_model_21/bert/encoder/layer_._7/intermediate/dense/bias:0', 'tf_bert_model_21/bert/encoder/layer_._7/output/dense/kernel:0', 'tf_bert_model_21/bert/encoder/layer_._7/output/dense/bias:0', 'tf_bert_model_21/bert/encoder/layer_._7/output/LayerNorm/gamma:0', 'tf_bert_model_21/bert/encoder/layer_._7/output/LayerNorm/beta:0', 'tf_bert_model_21/bert/encoder/layer_._8/attention/self/query/kernel:0', 'tf_bert_model_21/bert/encoder/layer_._8/attention/self/query/bias:0', 'tf_bert_model_21/bert/encoder/layer_._8/attention/self/key/kernel:0', 'tf_bert_model_21/bert/encoder/layer_._8/attention/self/key/bias:0', 'tf_bert_model_21/bert/encoder/layer_._8/attention/self/value/kernel:0', 'tf_bert_model_21/bert/encoder/layer_._8/attention/self/value/bias:0', 'tf_bert_model_21/bert/encoder/layer_._8/attention/output/dense/kernel:0', 'tf_bert_model_21/bert/encoder/layer_._8/attention/output/dense/bias:0', 'tf_bert_model_21/bert/encoder/layer_._8/attention/output/LayerNorm/gamma:0', 'tf_bert_model_21/bert/encoder/layer_._8/attention/output/LayerNorm/beta:0', 'tf_bert_model_21/bert/encoder/layer_._8/intermediate/dense/kernel:0', 'tf_bert_model_21/bert/encoder/layer_._8/intermediate/dense/bias:0', 'tf_bert_model_21/bert/encoder/layer_._8/output/dense/kernel:0', 'tf_bert_model_21/bert/encoder/layer_._8/output/dense/bias:0', 'tf_bert_model_21/bert/encoder/layer_._8/output/LayerNorm/gamma:0', 'tf_bert_model_21/bert/encoder/layer_._8/output/LayerNorm/beta:0', 'tf_bert_model_21/bert/encoder/layer_._9/attention/self/query/kernel:0', 'tf_bert_model_21/bert/encoder/layer_._9/attention/self/query/bias:0', 'tf_bert_model_21/bert/encoder/layer_._9/attention/self/key/kernel:0', 'tf_bert_model_21/bert/encoder/layer_._9/attention/self/key/bias:0', 'tf_bert_model_21/bert/encoder/layer_._9/attention/self/value/kernel:0', 'tf_bert_model_21/bert/encoder/layer_._9/attention/self/value/bias:0', 'tf_bert_model_21/bert/encoder/layer_._9/attention/output/dense/kernel:0', 'tf_bert_model_21/bert/encoder/layer_._9/attention/output/dense/bias:0', 'tf_bert_model_21/bert/encoder/layer_._9/attention/output/LayerNorm/gamma:0', 'tf_bert_model_21/bert/encoder/layer_._9/attention/output/LayerNorm/beta:0', 'tf_bert_model_21/bert/encoder/layer_._9/intermediate/dense/kernel:0', 'tf_bert_model_21/bert/encoder/layer_._9/intermediate/dense/bias:0', 'tf_bert_model_21/bert/encoder/layer_._9/output/dense/kernel:0', 'tf_bert_model_21/bert/encoder/layer_._9/output/dense/bias:0', 'tf_bert_model_21/bert/encoder/layer_._9/output/LayerNorm/gamma:0', 'tf_bert_model_21/bert/encoder/layer_._9/output/LayerNorm/beta:0', 'tf_bert_model_21/bert/encoder/layer_._10/attention/self/query/kernel:0', 'tf_bert_model_21/bert/encoder/layer_._10/attention/self/query/bias:0', 'tf_bert_model_21/bert/encoder/layer_._10/attention/self/key/kernel:0', 'tf_bert_model_21/bert/encoder/layer_._10/attention/self/key/bias:0', 'tf_bert_model_21/bert/encoder/layer_._10/attention/self/value/kernel:0', 'tf_bert_model_21/bert/encoder/layer_._10/attention/self/value/bias:0', 'tf_bert_model_21/bert/encoder/layer_._10/attention/output/dense/kernel:0', 'tf_bert_model_21/bert/encoder/layer_._10/attention/output/dense/bias:0', 'tf_bert_model_21/bert/encoder/layer_._10/attention/output/LayerNorm/gamma:0', 'tf_bert_model_21/bert/encoder/layer_._10/attention/output/LayerNorm/beta:0', 'tf_bert_model_21/bert/encoder/layer_._10/intermediate/dense/kernel:0', 'tf_bert_model_21/bert/encoder/layer_._10/intermediate/dense/bias:0', 'tf_bert_model_21/bert/encoder/layer_._10/output/dense/kernel:0', 'tf_bert_model_21/bert/encoder/layer_._10/output/dense/bias:0', 'tf_bert_model_21/bert/encoder/layer_._10/output/LayerNorm/gamma:0', 'tf_bert_model_21/bert/encoder/layer_._10/output/LayerNorm/beta:0', 'tf_bert_model_21/bert/pooler/dense/kernel:0', 'tf_bert_model_21/bert/pooler/dense/bias:0'] when minimizing the loss. If you're using `model.compile()`, did you forget to provide a `loss`argument?\n",
            "WARNING:tensorflow:Gradients do not exist for variables ['tf_bert_model_21/bert/embeddings/word_embeddings/weight:0', 'tf_bert_model_21/bert/embeddings/token_type_embeddings/embeddings:0', 'tf_bert_model_21/bert/embeddings/position_embeddings/embeddings:0', 'tf_bert_model_21/bert/embeddings/LayerNorm/gamma:0', 'tf_bert_model_21/bert/embeddings/LayerNorm/beta:0', 'tf_bert_model_21/bert/encoder/layer_._0/attention/self/query/kernel:0', 'tf_bert_model_21/bert/encoder/layer_._0/attention/self/query/bias:0', 'tf_bert_model_21/bert/encoder/layer_._0/attention/self/key/kernel:0', 'tf_bert_model_21/bert/encoder/layer_._0/attention/self/key/bias:0', 'tf_bert_model_21/bert/encoder/layer_._0/attention/self/value/kernel:0', 'tf_bert_model_21/bert/encoder/layer_._0/attention/self/value/bias:0', 'tf_bert_model_21/bert/encoder/layer_._0/attention/output/dense/kernel:0', 'tf_bert_model_21/bert/encoder/layer_._0/attention/output/dense/bias:0', 'tf_bert_model_21/bert/encoder/layer_._0/attention/output/LayerNorm/gamma:0', 'tf_bert_model_21/bert/encoder/layer_._0/attention/output/LayerNorm/beta:0', 'tf_bert_model_21/bert/encoder/layer_._0/intermediate/dense/kernel:0', 'tf_bert_model_21/bert/encoder/layer_._0/intermediate/dense/bias:0', 'tf_bert_model_21/bert/encoder/layer_._0/output/dense/kernel:0', 'tf_bert_model_21/bert/encoder/layer_._0/output/dense/bias:0', 'tf_bert_model_21/bert/encoder/layer_._0/output/LayerNorm/gamma:0', 'tf_bert_model_21/bert/encoder/layer_._0/output/LayerNorm/beta:0', 'tf_bert_model_21/bert/encoder/layer_._1/attention/self/query/kernel:0', 'tf_bert_model_21/bert/encoder/layer_._1/attention/self/query/bias:0', 'tf_bert_model_21/bert/encoder/layer_._1/attention/self/key/kernel:0', 'tf_bert_model_21/bert/encoder/layer_._1/attention/self/key/bias:0', 'tf_bert_model_21/bert/encoder/layer_._1/attention/self/value/kernel:0', 'tf_bert_model_21/bert/encoder/layer_._1/attention/self/value/bias:0', 'tf_bert_model_21/bert/encoder/layer_._1/attention/output/dense/kernel:0', 'tf_bert_model_21/bert/encoder/layer_._1/attention/output/dense/bias:0', 'tf_bert_model_21/bert/encoder/layer_._1/attention/output/LayerNorm/gamma:0', 'tf_bert_model_21/bert/encoder/layer_._1/attention/output/LayerNorm/beta:0', 'tf_bert_model_21/bert/encoder/layer_._1/intermediate/dense/kernel:0', 'tf_bert_model_21/bert/encoder/layer_._1/intermediate/dense/bias:0', 'tf_bert_model_21/bert/encoder/layer_._1/output/dense/kernel:0', 'tf_bert_model_21/bert/encoder/layer_._1/output/dense/bias:0', 'tf_bert_model_21/bert/encoder/layer_._1/output/LayerNorm/gamma:0', 'tf_bert_model_21/bert/encoder/layer_._1/output/LayerNorm/beta:0', 'tf_bert_model_21/bert/encoder/layer_._2/attention/self/query/kernel:0', 'tf_bert_model_21/bert/encoder/layer_._2/attention/self/query/bias:0', 'tf_bert_model_21/bert/encoder/layer_._2/attention/self/key/kernel:0', 'tf_bert_model_21/bert/encoder/layer_._2/attention/self/key/bias:0', 'tf_bert_model_21/bert/encoder/layer_._2/attention/self/value/kernel:0', 'tf_bert_model_21/bert/encoder/layer_._2/attention/self/value/bias:0', 'tf_bert_model_21/bert/encoder/layer_._2/attention/output/dense/kernel:0', 'tf_bert_model_21/bert/encoder/layer_._2/attention/output/dense/bias:0', 'tf_bert_model_21/bert/encoder/layer_._2/attention/output/LayerNorm/gamma:0', 'tf_bert_model_21/bert/encoder/layer_._2/attention/output/LayerNorm/beta:0', 'tf_bert_model_21/bert/encoder/layer_._2/intermediate/dense/kernel:0', 'tf_bert_model_21/bert/encoder/layer_._2/intermediate/dense/bias:0', 'tf_bert_model_21/bert/encoder/layer_._2/output/dense/kernel:0', 'tf_bert_model_21/bert/encoder/layer_._2/output/dense/bias:0', 'tf_bert_model_21/bert/encoder/layer_._2/output/LayerNorm/gamma:0', 'tf_bert_model_21/bert/encoder/layer_._2/output/LayerNorm/beta:0', 'tf_bert_model_21/bert/encoder/layer_._3/attention/self/query/kernel:0', 'tf_bert_model_21/bert/encoder/layer_._3/attention/self/query/bias:0', 'tf_bert_model_21/bert/encoder/layer_._3/attention/self/key/kernel:0', 'tf_bert_model_21/bert/encoder/layer_._3/attention/self/key/bias:0', 'tf_bert_model_21/bert/encoder/layer_._3/attention/self/value/kernel:0', 'tf_bert_model_21/bert/encoder/layer_._3/attention/self/value/bias:0', 'tf_bert_model_21/bert/encoder/layer_._3/attention/output/dense/kernel:0', 'tf_bert_model_21/bert/encoder/layer_._3/attention/output/dense/bias:0', 'tf_bert_model_21/bert/encoder/layer_._3/attention/output/LayerNorm/gamma:0', 'tf_bert_model_21/bert/encoder/layer_._3/attention/output/LayerNorm/beta:0', 'tf_bert_model_21/bert/encoder/layer_._3/intermediate/dense/kernel:0', 'tf_bert_model_21/bert/encoder/layer_._3/intermediate/dense/bias:0', 'tf_bert_model_21/bert/encoder/layer_._3/output/dense/kernel:0', 'tf_bert_model_21/bert/encoder/layer_._3/output/dense/bias:0', 'tf_bert_model_21/bert/encoder/layer_._3/output/LayerNorm/gamma:0', 'tf_bert_model_21/bert/encoder/layer_._3/output/LayerNorm/beta:0', 'tf_bert_model_21/bert/encoder/layer_._4/attention/self/query/kernel:0', 'tf_bert_model_21/bert/encoder/layer_._4/attention/self/query/bias:0', 'tf_bert_model_21/bert/encoder/layer_._4/attention/self/key/kernel:0', 'tf_bert_model_21/bert/encoder/layer_._4/attention/self/key/bias:0', 'tf_bert_model_21/bert/encoder/layer_._4/attention/self/value/kernel:0', 'tf_bert_model_21/bert/encoder/layer_._4/attention/self/value/bias:0', 'tf_bert_model_21/bert/encoder/layer_._4/attention/output/dense/kernel:0', 'tf_bert_model_21/bert/encoder/layer_._4/attention/output/dense/bias:0', 'tf_bert_model_21/bert/encoder/layer_._4/attention/output/LayerNorm/gamma:0', 'tf_bert_model_21/bert/encoder/layer_._4/attention/output/LayerNorm/beta:0', 'tf_bert_model_21/bert/encoder/layer_._4/intermediate/dense/kernel:0', 'tf_bert_model_21/bert/encoder/layer_._4/intermediate/dense/bias:0', 'tf_bert_model_21/bert/encoder/layer_._4/output/dense/kernel:0', 'tf_bert_model_21/bert/encoder/layer_._4/output/dense/bias:0', 'tf_bert_model_21/bert/encoder/layer_._4/output/LayerNorm/gamma:0', 'tf_bert_model_21/bert/encoder/layer_._4/output/LayerNorm/beta:0', 'tf_bert_model_21/bert/encoder/layer_._5/attention/self/query/kernel:0', 'tf_bert_model_21/bert/encoder/layer_._5/attention/self/query/bias:0', 'tf_bert_model_21/bert/encoder/layer_._5/attention/self/key/kernel:0', 'tf_bert_model_21/bert/encoder/layer_._5/attention/self/key/bias:0', 'tf_bert_model_21/bert/encoder/layer_._5/attention/self/value/kernel:0', 'tf_bert_model_21/bert/encoder/layer_._5/attention/self/value/bias:0', 'tf_bert_model_21/bert/encoder/layer_._5/attention/output/dense/kernel:0', 'tf_bert_model_21/bert/encoder/layer_._5/attention/output/dense/bias:0', 'tf_bert_model_21/bert/encoder/layer_._5/attention/output/LayerNorm/gamma:0', 'tf_bert_model_21/bert/encoder/layer_._5/attention/output/LayerNorm/beta:0', 'tf_bert_model_21/bert/encoder/layer_._5/intermediate/dense/kernel:0', 'tf_bert_model_21/bert/encoder/layer_._5/intermediate/dense/bias:0', 'tf_bert_model_21/bert/encoder/layer_._5/output/dense/kernel:0', 'tf_bert_model_21/bert/encoder/layer_._5/output/dense/bias:0', 'tf_bert_model_21/bert/encoder/layer_._5/output/LayerNorm/gamma:0', 'tf_bert_model_21/bert/encoder/layer_._5/output/LayerNorm/beta:0', 'tf_bert_model_21/bert/encoder/layer_._6/attention/self/query/kernel:0', 'tf_bert_model_21/bert/encoder/layer_._6/attention/self/query/bias:0', 'tf_bert_model_21/bert/encoder/layer_._6/attention/self/key/kernel:0', 'tf_bert_model_21/bert/encoder/layer_._6/attention/self/key/bias:0', 'tf_bert_model_21/bert/encoder/layer_._6/attention/self/value/kernel:0', 'tf_bert_model_21/bert/encoder/layer_._6/attention/self/value/bias:0', 'tf_bert_model_21/bert/encoder/layer_._6/attention/output/dense/kernel:0', 'tf_bert_model_21/bert/encoder/layer_._6/attention/output/dense/bias:0', 'tf_bert_model_21/bert/encoder/layer_._6/attention/output/LayerNorm/gamma:0', 'tf_bert_model_21/bert/encoder/layer_._6/attention/output/LayerNorm/beta:0', 'tf_bert_model_21/bert/encoder/layer_._6/intermediate/dense/kernel:0', 'tf_bert_model_21/bert/encoder/layer_._6/intermediate/dense/bias:0', 'tf_bert_model_21/bert/encoder/layer_._6/output/dense/kernel:0', 'tf_bert_model_21/bert/encoder/layer_._6/output/dense/bias:0', 'tf_bert_model_21/bert/encoder/layer_._6/output/LayerNorm/gamma:0', 'tf_bert_model_21/bert/encoder/layer_._6/output/LayerNorm/beta:0', 'tf_bert_model_21/bert/encoder/layer_._7/attention/self/query/kernel:0', 'tf_bert_model_21/bert/encoder/layer_._7/attention/self/query/bias:0', 'tf_bert_model_21/bert/encoder/layer_._7/attention/self/key/kernel:0', 'tf_bert_model_21/bert/encoder/layer_._7/attention/self/key/bias:0', 'tf_bert_model_21/bert/encoder/layer_._7/attention/self/value/kernel:0', 'tf_bert_model_21/bert/encoder/layer_._7/attention/self/value/bias:0', 'tf_bert_model_21/bert/encoder/layer_._7/attention/output/dense/kernel:0', 'tf_bert_model_21/bert/encoder/layer_._7/attention/output/dense/bias:0', 'tf_bert_model_21/bert/encoder/layer_._7/attention/output/LayerNorm/gamma:0', 'tf_bert_model_21/bert/encoder/layer_._7/attention/output/LayerNorm/beta:0', 'tf_bert_model_21/bert/encoder/layer_._7/intermediate/dense/kernel:0', 'tf_bert_model_21/bert/encoder/layer_._7/intermediate/dense/bias:0', 'tf_bert_model_21/bert/encoder/layer_._7/output/dense/kernel:0', 'tf_bert_model_21/bert/encoder/layer_._7/output/dense/bias:0', 'tf_bert_model_21/bert/encoder/layer_._7/output/LayerNorm/gamma:0', 'tf_bert_model_21/bert/encoder/layer_._7/output/LayerNorm/beta:0', 'tf_bert_model_21/bert/encoder/layer_._8/attention/self/query/kernel:0', 'tf_bert_model_21/bert/encoder/layer_._8/attention/self/query/bias:0', 'tf_bert_model_21/bert/encoder/layer_._8/attention/self/key/kernel:0', 'tf_bert_model_21/bert/encoder/layer_._8/attention/self/key/bias:0', 'tf_bert_model_21/bert/encoder/layer_._8/attention/self/value/kernel:0', 'tf_bert_model_21/bert/encoder/layer_._8/attention/self/value/bias:0', 'tf_bert_model_21/bert/encoder/layer_._8/attention/output/dense/kernel:0', 'tf_bert_model_21/bert/encoder/layer_._8/attention/output/dense/bias:0', 'tf_bert_model_21/bert/encoder/layer_._8/attention/output/LayerNorm/gamma:0', 'tf_bert_model_21/bert/encoder/layer_._8/attention/output/LayerNorm/beta:0', 'tf_bert_model_21/bert/encoder/layer_._8/intermediate/dense/kernel:0', 'tf_bert_model_21/bert/encoder/layer_._8/intermediate/dense/bias:0', 'tf_bert_model_21/bert/encoder/layer_._8/output/dense/kernel:0', 'tf_bert_model_21/bert/encoder/layer_._8/output/dense/bias:0', 'tf_bert_model_21/bert/encoder/layer_._8/output/LayerNorm/gamma:0', 'tf_bert_model_21/bert/encoder/layer_._8/output/LayerNorm/beta:0', 'tf_bert_model_21/bert/encoder/layer_._9/attention/self/query/kernel:0', 'tf_bert_model_21/bert/encoder/layer_._9/attention/self/query/bias:0', 'tf_bert_model_21/bert/encoder/layer_._9/attention/self/key/kernel:0', 'tf_bert_model_21/bert/encoder/layer_._9/attention/self/key/bias:0', 'tf_bert_model_21/bert/encoder/layer_._9/attention/self/value/kernel:0', 'tf_bert_model_21/bert/encoder/layer_._9/attention/self/value/bias:0', 'tf_bert_model_21/bert/encoder/layer_._9/attention/output/dense/kernel:0', 'tf_bert_model_21/bert/encoder/layer_._9/attention/output/dense/bias:0', 'tf_bert_model_21/bert/encoder/layer_._9/attention/output/LayerNorm/gamma:0', 'tf_bert_model_21/bert/encoder/layer_._9/attention/output/LayerNorm/beta:0', 'tf_bert_model_21/bert/encoder/layer_._9/intermediate/dense/kernel:0', 'tf_bert_model_21/bert/encoder/layer_._9/intermediate/dense/bias:0', 'tf_bert_model_21/bert/encoder/layer_._9/output/dense/kernel:0', 'tf_bert_model_21/bert/encoder/layer_._9/output/dense/bias:0', 'tf_bert_model_21/bert/encoder/layer_._9/output/LayerNorm/gamma:0', 'tf_bert_model_21/bert/encoder/layer_._9/output/LayerNorm/beta:0', 'tf_bert_model_21/bert/encoder/layer_._10/attention/self/query/kernel:0', 'tf_bert_model_21/bert/encoder/layer_._10/attention/self/query/bias:0', 'tf_bert_model_21/bert/encoder/layer_._10/attention/self/key/kernel:0', 'tf_bert_model_21/bert/encoder/layer_._10/attention/self/key/bias:0', 'tf_bert_model_21/bert/encoder/layer_._10/attention/self/value/kernel:0', 'tf_bert_model_21/bert/encoder/layer_._10/attention/self/value/bias:0', 'tf_bert_model_21/bert/encoder/layer_._10/attention/output/dense/kernel:0', 'tf_bert_model_21/bert/encoder/layer_._10/attention/output/dense/bias:0', 'tf_bert_model_21/bert/encoder/layer_._10/attention/output/LayerNorm/gamma:0', 'tf_bert_model_21/bert/encoder/layer_._10/attention/output/LayerNorm/beta:0', 'tf_bert_model_21/bert/encoder/layer_._10/intermediate/dense/kernel:0', 'tf_bert_model_21/bert/encoder/layer_._10/intermediate/dense/bias:0', 'tf_bert_model_21/bert/encoder/layer_._10/output/dense/kernel:0', 'tf_bert_model_21/bert/encoder/layer_._10/output/dense/bias:0', 'tf_bert_model_21/bert/encoder/layer_._10/output/LayerNorm/gamma:0', 'tf_bert_model_21/bert/encoder/layer_._10/output/LayerNorm/beta:0', 'tf_bert_model_21/bert/pooler/dense/kernel:0', 'tf_bert_model_21/bert/pooler/dense/bias:0'] when minimizing the loss. If you're using `model.compile()`, did you forget to provide a `loss`argument?\n",
            "489/489 [==============================] - 49s 86ms/step - loss: 0.1207 - accuracy: 0.9550 - val_loss: 0.0540 - val_accuracy: 0.9836\n",
            "Epoch 2/3\n",
            "489/489 [==============================] - 39s 80ms/step - loss: 0.0477 - accuracy: 0.9841 - val_loss: 0.0464 - val_accuracy: 0.9861\n",
            "Epoch 3/3\n",
            "489/489 [==============================] - 39s 79ms/step - loss: 0.0247 - accuracy: 0.9921 - val_loss: 0.0610 - val_accuracy: 0.9828\n",
            "BERT 3e + CNN kernel un 160, train: accuracy = 0.9969, precision = 0.9855, recall = 1.0000, f1 = 0.9927\n",
            "validation: accuracy = 0.9846, precision = 0.9474, recall = 0.9802, f1 = 0.9635\n"
          ]
        },
        {
          "output_type": "stream",
          "name": "stderr",
          "text": [
            "Some layers from the model checkpoint at bert-base-cased were not used when initializing TFBertModel: ['nsp___cls', 'mlm___cls']\n",
            "- This IS expected if you are initializing TFBertModel from the checkpoint of a model trained on another task or with another architecture (e.g. initializing a BertForSequenceClassification model from a BertForPreTraining model).\n",
            "- This IS NOT expected if you are initializing TFBertModel from the checkpoint of a model that you expect to be exactly identical (initializing a BertForSequenceClassification model from a BertForSequenceClassification model).\n",
            "All the layers of TFBertModel were initialized from the model checkpoint at bert-base-cased.\n",
            "If your task is similar to the task the model of the checkpoint was trained on, you can already use TFBertModel for predictions without further training.\n"
          ]
        },
        {
          "output_type": "stream",
          "name": "stdout",
          "text": [
            "Epoch 1/3\n",
            "WARNING:tensorflow:Gradients do not exist for variables ['tf_bert_model_22/bert/embeddings/word_embeddings/weight:0', 'tf_bert_model_22/bert/embeddings/token_type_embeddings/embeddings:0', 'tf_bert_model_22/bert/embeddings/position_embeddings/embeddings:0', 'tf_bert_model_22/bert/embeddings/LayerNorm/gamma:0', 'tf_bert_model_22/bert/embeddings/LayerNorm/beta:0', 'tf_bert_model_22/bert/encoder/layer_._0/attention/self/query/kernel:0', 'tf_bert_model_22/bert/encoder/layer_._0/attention/self/query/bias:0', 'tf_bert_model_22/bert/encoder/layer_._0/attention/self/key/kernel:0', 'tf_bert_model_22/bert/encoder/layer_._0/attention/self/key/bias:0', 'tf_bert_model_22/bert/encoder/layer_._0/attention/self/value/kernel:0', 'tf_bert_model_22/bert/encoder/layer_._0/attention/self/value/bias:0', 'tf_bert_model_22/bert/encoder/layer_._0/attention/output/dense/kernel:0', 'tf_bert_model_22/bert/encoder/layer_._0/attention/output/dense/bias:0', 'tf_bert_model_22/bert/encoder/layer_._0/attention/output/LayerNorm/gamma:0', 'tf_bert_model_22/bert/encoder/layer_._0/attention/output/LayerNorm/beta:0', 'tf_bert_model_22/bert/encoder/layer_._0/intermediate/dense/kernel:0', 'tf_bert_model_22/bert/encoder/layer_._0/intermediate/dense/bias:0', 'tf_bert_model_22/bert/encoder/layer_._0/output/dense/kernel:0', 'tf_bert_model_22/bert/encoder/layer_._0/output/dense/bias:0', 'tf_bert_model_22/bert/encoder/layer_._0/output/LayerNorm/gamma:0', 'tf_bert_model_22/bert/encoder/layer_._0/output/LayerNorm/beta:0', 'tf_bert_model_22/bert/encoder/layer_._1/attention/self/query/kernel:0', 'tf_bert_model_22/bert/encoder/layer_._1/attention/self/query/bias:0', 'tf_bert_model_22/bert/encoder/layer_._1/attention/self/key/kernel:0', 'tf_bert_model_22/bert/encoder/layer_._1/attention/self/key/bias:0', 'tf_bert_model_22/bert/encoder/layer_._1/attention/self/value/kernel:0', 'tf_bert_model_22/bert/encoder/layer_._1/attention/self/value/bias:0', 'tf_bert_model_22/bert/encoder/layer_._1/attention/output/dense/kernel:0', 'tf_bert_model_22/bert/encoder/layer_._1/attention/output/dense/bias:0', 'tf_bert_model_22/bert/encoder/layer_._1/attention/output/LayerNorm/gamma:0', 'tf_bert_model_22/bert/encoder/layer_._1/attention/output/LayerNorm/beta:0', 'tf_bert_model_22/bert/encoder/layer_._1/intermediate/dense/kernel:0', 'tf_bert_model_22/bert/encoder/layer_._1/intermediate/dense/bias:0', 'tf_bert_model_22/bert/encoder/layer_._1/output/dense/kernel:0', 'tf_bert_model_22/bert/encoder/layer_._1/output/dense/bias:0', 'tf_bert_model_22/bert/encoder/layer_._1/output/LayerNorm/gamma:0', 'tf_bert_model_22/bert/encoder/layer_._1/output/LayerNorm/beta:0', 'tf_bert_model_22/bert/encoder/layer_._2/attention/self/query/kernel:0', 'tf_bert_model_22/bert/encoder/layer_._2/attention/self/query/bias:0', 'tf_bert_model_22/bert/encoder/layer_._2/attention/self/key/kernel:0', 'tf_bert_model_22/bert/encoder/layer_._2/attention/self/key/bias:0', 'tf_bert_model_22/bert/encoder/layer_._2/attention/self/value/kernel:0', 'tf_bert_model_22/bert/encoder/layer_._2/attention/self/value/bias:0', 'tf_bert_model_22/bert/encoder/layer_._2/attention/output/dense/kernel:0', 'tf_bert_model_22/bert/encoder/layer_._2/attention/output/dense/bias:0', 'tf_bert_model_22/bert/encoder/layer_._2/attention/output/LayerNorm/gamma:0', 'tf_bert_model_22/bert/encoder/layer_._2/attention/output/LayerNorm/beta:0', 'tf_bert_model_22/bert/encoder/layer_._2/intermediate/dense/kernel:0', 'tf_bert_model_22/bert/encoder/layer_._2/intermediate/dense/bias:0', 'tf_bert_model_22/bert/encoder/layer_._2/output/dense/kernel:0', 'tf_bert_model_22/bert/encoder/layer_._2/output/dense/bias:0', 'tf_bert_model_22/bert/encoder/layer_._2/output/LayerNorm/gamma:0', 'tf_bert_model_22/bert/encoder/layer_._2/output/LayerNorm/beta:0', 'tf_bert_model_22/bert/encoder/layer_._3/attention/self/query/kernel:0', 'tf_bert_model_22/bert/encoder/layer_._3/attention/self/query/bias:0', 'tf_bert_model_22/bert/encoder/layer_._3/attention/self/key/kernel:0', 'tf_bert_model_22/bert/encoder/layer_._3/attention/self/key/bias:0', 'tf_bert_model_22/bert/encoder/layer_._3/attention/self/value/kernel:0', 'tf_bert_model_22/bert/encoder/layer_._3/attention/self/value/bias:0', 'tf_bert_model_22/bert/encoder/layer_._3/attention/output/dense/kernel:0', 'tf_bert_model_22/bert/encoder/layer_._3/attention/output/dense/bias:0', 'tf_bert_model_22/bert/encoder/layer_._3/attention/output/LayerNorm/gamma:0', 'tf_bert_model_22/bert/encoder/layer_._3/attention/output/LayerNorm/beta:0', 'tf_bert_model_22/bert/encoder/layer_._3/intermediate/dense/kernel:0', 'tf_bert_model_22/bert/encoder/layer_._3/intermediate/dense/bias:0', 'tf_bert_model_22/bert/encoder/layer_._3/output/dense/kernel:0', 'tf_bert_model_22/bert/encoder/layer_._3/output/dense/bias:0', 'tf_bert_model_22/bert/encoder/layer_._3/output/LayerNorm/gamma:0', 'tf_bert_model_22/bert/encoder/layer_._3/output/LayerNorm/beta:0', 'tf_bert_model_22/bert/encoder/layer_._4/attention/self/query/kernel:0', 'tf_bert_model_22/bert/encoder/layer_._4/attention/self/query/bias:0', 'tf_bert_model_22/bert/encoder/layer_._4/attention/self/key/kernel:0', 'tf_bert_model_22/bert/encoder/layer_._4/attention/self/key/bias:0', 'tf_bert_model_22/bert/encoder/layer_._4/attention/self/value/kernel:0', 'tf_bert_model_22/bert/encoder/layer_._4/attention/self/value/bias:0', 'tf_bert_model_22/bert/encoder/layer_._4/attention/output/dense/kernel:0', 'tf_bert_model_22/bert/encoder/layer_._4/attention/output/dense/bias:0', 'tf_bert_model_22/bert/encoder/layer_._4/attention/output/LayerNorm/gamma:0', 'tf_bert_model_22/bert/encoder/layer_._4/attention/output/LayerNorm/beta:0', 'tf_bert_model_22/bert/encoder/layer_._4/intermediate/dense/kernel:0', 'tf_bert_model_22/bert/encoder/layer_._4/intermediate/dense/bias:0', 'tf_bert_model_22/bert/encoder/layer_._4/output/dense/kernel:0', 'tf_bert_model_22/bert/encoder/layer_._4/output/dense/bias:0', 'tf_bert_model_22/bert/encoder/layer_._4/output/LayerNorm/gamma:0', 'tf_bert_model_22/bert/encoder/layer_._4/output/LayerNorm/beta:0', 'tf_bert_model_22/bert/encoder/layer_._5/attention/self/query/kernel:0', 'tf_bert_model_22/bert/encoder/layer_._5/attention/self/query/bias:0', 'tf_bert_model_22/bert/encoder/layer_._5/attention/self/key/kernel:0', 'tf_bert_model_22/bert/encoder/layer_._5/attention/self/key/bias:0', 'tf_bert_model_22/bert/encoder/layer_._5/attention/self/value/kernel:0', 'tf_bert_model_22/bert/encoder/layer_._5/attention/self/value/bias:0', 'tf_bert_model_22/bert/encoder/layer_._5/attention/output/dense/kernel:0', 'tf_bert_model_22/bert/encoder/layer_._5/attention/output/dense/bias:0', 'tf_bert_model_22/bert/encoder/layer_._5/attention/output/LayerNorm/gamma:0', 'tf_bert_model_22/bert/encoder/layer_._5/attention/output/LayerNorm/beta:0', 'tf_bert_model_22/bert/encoder/layer_._5/intermediate/dense/kernel:0', 'tf_bert_model_22/bert/encoder/layer_._5/intermediate/dense/bias:0', 'tf_bert_model_22/bert/encoder/layer_._5/output/dense/kernel:0', 'tf_bert_model_22/bert/encoder/layer_._5/output/dense/bias:0', 'tf_bert_model_22/bert/encoder/layer_._5/output/LayerNorm/gamma:0', 'tf_bert_model_22/bert/encoder/layer_._5/output/LayerNorm/beta:0', 'tf_bert_model_22/bert/encoder/layer_._6/attention/self/query/kernel:0', 'tf_bert_model_22/bert/encoder/layer_._6/attention/self/query/bias:0', 'tf_bert_model_22/bert/encoder/layer_._6/attention/self/key/kernel:0', 'tf_bert_model_22/bert/encoder/layer_._6/attention/self/key/bias:0', 'tf_bert_model_22/bert/encoder/layer_._6/attention/self/value/kernel:0', 'tf_bert_model_22/bert/encoder/layer_._6/attention/self/value/bias:0', 'tf_bert_model_22/bert/encoder/layer_._6/attention/output/dense/kernel:0', 'tf_bert_model_22/bert/encoder/layer_._6/attention/output/dense/bias:0', 'tf_bert_model_22/bert/encoder/layer_._6/attention/output/LayerNorm/gamma:0', 'tf_bert_model_22/bert/encoder/layer_._6/attention/output/LayerNorm/beta:0', 'tf_bert_model_22/bert/encoder/layer_._6/intermediate/dense/kernel:0', 'tf_bert_model_22/bert/encoder/layer_._6/intermediate/dense/bias:0', 'tf_bert_model_22/bert/encoder/layer_._6/output/dense/kernel:0', 'tf_bert_model_22/bert/encoder/layer_._6/output/dense/bias:0', 'tf_bert_model_22/bert/encoder/layer_._6/output/LayerNorm/gamma:0', 'tf_bert_model_22/bert/encoder/layer_._6/output/LayerNorm/beta:0', 'tf_bert_model_22/bert/encoder/layer_._7/attention/self/query/kernel:0', 'tf_bert_model_22/bert/encoder/layer_._7/attention/self/query/bias:0', 'tf_bert_model_22/bert/encoder/layer_._7/attention/self/key/kernel:0', 'tf_bert_model_22/bert/encoder/layer_._7/attention/self/key/bias:0', 'tf_bert_model_22/bert/encoder/layer_._7/attention/self/value/kernel:0', 'tf_bert_model_22/bert/encoder/layer_._7/attention/self/value/bias:0', 'tf_bert_model_22/bert/encoder/layer_._7/attention/output/dense/kernel:0', 'tf_bert_model_22/bert/encoder/layer_._7/attention/output/dense/bias:0', 'tf_bert_model_22/bert/encoder/layer_._7/attention/output/LayerNorm/gamma:0', 'tf_bert_model_22/bert/encoder/layer_._7/attention/output/LayerNorm/beta:0', 'tf_bert_model_22/bert/encoder/layer_._7/intermediate/dense/kernel:0', 'tf_bert_model_22/bert/encoder/layer_._7/intermediate/dense/bias:0', 'tf_bert_model_22/bert/encoder/layer_._7/output/dense/kernel:0', 'tf_bert_model_22/bert/encoder/layer_._7/output/dense/bias:0', 'tf_bert_model_22/bert/encoder/layer_._7/output/LayerNorm/gamma:0', 'tf_bert_model_22/bert/encoder/layer_._7/output/LayerNorm/beta:0', 'tf_bert_model_22/bert/encoder/layer_._8/attention/self/query/kernel:0', 'tf_bert_model_22/bert/encoder/layer_._8/attention/self/query/bias:0', 'tf_bert_model_22/bert/encoder/layer_._8/attention/self/key/kernel:0', 'tf_bert_model_22/bert/encoder/layer_._8/attention/self/key/bias:0', 'tf_bert_model_22/bert/encoder/layer_._8/attention/self/value/kernel:0', 'tf_bert_model_22/bert/encoder/layer_._8/attention/self/value/bias:0', 'tf_bert_model_22/bert/encoder/layer_._8/attention/output/dense/kernel:0', 'tf_bert_model_22/bert/encoder/layer_._8/attention/output/dense/bias:0', 'tf_bert_model_22/bert/encoder/layer_._8/attention/output/LayerNorm/gamma:0', 'tf_bert_model_22/bert/encoder/layer_._8/attention/output/LayerNorm/beta:0', 'tf_bert_model_22/bert/encoder/layer_._8/intermediate/dense/kernel:0', 'tf_bert_model_22/bert/encoder/layer_._8/intermediate/dense/bias:0', 'tf_bert_model_22/bert/encoder/layer_._8/output/dense/kernel:0', 'tf_bert_model_22/bert/encoder/layer_._8/output/dense/bias:0', 'tf_bert_model_22/bert/encoder/layer_._8/output/LayerNorm/gamma:0', 'tf_bert_model_22/bert/encoder/layer_._8/output/LayerNorm/beta:0', 'tf_bert_model_22/bert/encoder/layer_._9/attention/self/query/kernel:0', 'tf_bert_model_22/bert/encoder/layer_._9/attention/self/query/bias:0', 'tf_bert_model_22/bert/encoder/layer_._9/attention/self/key/kernel:0', 'tf_bert_model_22/bert/encoder/layer_._9/attention/self/key/bias:0', 'tf_bert_model_22/bert/encoder/layer_._9/attention/self/value/kernel:0', 'tf_bert_model_22/bert/encoder/layer_._9/attention/self/value/bias:0', 'tf_bert_model_22/bert/encoder/layer_._9/attention/output/dense/kernel:0', 'tf_bert_model_22/bert/encoder/layer_._9/attention/output/dense/bias:0', 'tf_bert_model_22/bert/encoder/layer_._9/attention/output/LayerNorm/gamma:0', 'tf_bert_model_22/bert/encoder/layer_._9/attention/output/LayerNorm/beta:0', 'tf_bert_model_22/bert/encoder/layer_._9/intermediate/dense/kernel:0', 'tf_bert_model_22/bert/encoder/layer_._9/intermediate/dense/bias:0', 'tf_bert_model_22/bert/encoder/layer_._9/output/dense/kernel:0', 'tf_bert_model_22/bert/encoder/layer_._9/output/dense/bias:0', 'tf_bert_model_22/bert/encoder/layer_._9/output/LayerNorm/gamma:0', 'tf_bert_model_22/bert/encoder/layer_._9/output/LayerNorm/beta:0', 'tf_bert_model_22/bert/encoder/layer_._10/attention/self/query/kernel:0', 'tf_bert_model_22/bert/encoder/layer_._10/attention/self/query/bias:0', 'tf_bert_model_22/bert/encoder/layer_._10/attention/self/key/kernel:0', 'tf_bert_model_22/bert/encoder/layer_._10/attention/self/key/bias:0', 'tf_bert_model_22/bert/encoder/layer_._10/attention/self/value/kernel:0', 'tf_bert_model_22/bert/encoder/layer_._10/attention/self/value/bias:0', 'tf_bert_model_22/bert/encoder/layer_._10/attention/output/dense/kernel:0', 'tf_bert_model_22/bert/encoder/layer_._10/attention/output/dense/bias:0', 'tf_bert_model_22/bert/encoder/layer_._10/attention/output/LayerNorm/gamma:0', 'tf_bert_model_22/bert/encoder/layer_._10/attention/output/LayerNorm/beta:0', 'tf_bert_model_22/bert/encoder/layer_._10/intermediate/dense/kernel:0', 'tf_bert_model_22/bert/encoder/layer_._10/intermediate/dense/bias:0', 'tf_bert_model_22/bert/encoder/layer_._10/output/dense/kernel:0', 'tf_bert_model_22/bert/encoder/layer_._10/output/dense/bias:0', 'tf_bert_model_22/bert/encoder/layer_._10/output/LayerNorm/gamma:0', 'tf_bert_model_22/bert/encoder/layer_._10/output/LayerNorm/beta:0', 'tf_bert_model_22/bert/pooler/dense/kernel:0', 'tf_bert_model_22/bert/pooler/dense/bias:0'] when minimizing the loss. If you're using `model.compile()`, did you forget to provide a `loss`argument?\n",
            "WARNING:tensorflow:Gradients do not exist for variables ['tf_bert_model_22/bert/embeddings/word_embeddings/weight:0', 'tf_bert_model_22/bert/embeddings/token_type_embeddings/embeddings:0', 'tf_bert_model_22/bert/embeddings/position_embeddings/embeddings:0', 'tf_bert_model_22/bert/embeddings/LayerNorm/gamma:0', 'tf_bert_model_22/bert/embeddings/LayerNorm/beta:0', 'tf_bert_model_22/bert/encoder/layer_._0/attention/self/query/kernel:0', 'tf_bert_model_22/bert/encoder/layer_._0/attention/self/query/bias:0', 'tf_bert_model_22/bert/encoder/layer_._0/attention/self/key/kernel:0', 'tf_bert_model_22/bert/encoder/layer_._0/attention/self/key/bias:0', 'tf_bert_model_22/bert/encoder/layer_._0/attention/self/value/kernel:0', 'tf_bert_model_22/bert/encoder/layer_._0/attention/self/value/bias:0', 'tf_bert_model_22/bert/encoder/layer_._0/attention/output/dense/kernel:0', 'tf_bert_model_22/bert/encoder/layer_._0/attention/output/dense/bias:0', 'tf_bert_model_22/bert/encoder/layer_._0/attention/output/LayerNorm/gamma:0', 'tf_bert_model_22/bert/encoder/layer_._0/attention/output/LayerNorm/beta:0', 'tf_bert_model_22/bert/encoder/layer_._0/intermediate/dense/kernel:0', 'tf_bert_model_22/bert/encoder/layer_._0/intermediate/dense/bias:0', 'tf_bert_model_22/bert/encoder/layer_._0/output/dense/kernel:0', 'tf_bert_model_22/bert/encoder/layer_._0/output/dense/bias:0', 'tf_bert_model_22/bert/encoder/layer_._0/output/LayerNorm/gamma:0', 'tf_bert_model_22/bert/encoder/layer_._0/output/LayerNorm/beta:0', 'tf_bert_model_22/bert/encoder/layer_._1/attention/self/query/kernel:0', 'tf_bert_model_22/bert/encoder/layer_._1/attention/self/query/bias:0', 'tf_bert_model_22/bert/encoder/layer_._1/attention/self/key/kernel:0', 'tf_bert_model_22/bert/encoder/layer_._1/attention/self/key/bias:0', 'tf_bert_model_22/bert/encoder/layer_._1/attention/self/value/kernel:0', 'tf_bert_model_22/bert/encoder/layer_._1/attention/self/value/bias:0', 'tf_bert_model_22/bert/encoder/layer_._1/attention/output/dense/kernel:0', 'tf_bert_model_22/bert/encoder/layer_._1/attention/output/dense/bias:0', 'tf_bert_model_22/bert/encoder/layer_._1/attention/output/LayerNorm/gamma:0', 'tf_bert_model_22/bert/encoder/layer_._1/attention/output/LayerNorm/beta:0', 'tf_bert_model_22/bert/encoder/layer_._1/intermediate/dense/kernel:0', 'tf_bert_model_22/bert/encoder/layer_._1/intermediate/dense/bias:0', 'tf_bert_model_22/bert/encoder/layer_._1/output/dense/kernel:0', 'tf_bert_model_22/bert/encoder/layer_._1/output/dense/bias:0', 'tf_bert_model_22/bert/encoder/layer_._1/output/LayerNorm/gamma:0', 'tf_bert_model_22/bert/encoder/layer_._1/output/LayerNorm/beta:0', 'tf_bert_model_22/bert/encoder/layer_._2/attention/self/query/kernel:0', 'tf_bert_model_22/bert/encoder/layer_._2/attention/self/query/bias:0', 'tf_bert_model_22/bert/encoder/layer_._2/attention/self/key/kernel:0', 'tf_bert_model_22/bert/encoder/layer_._2/attention/self/key/bias:0', 'tf_bert_model_22/bert/encoder/layer_._2/attention/self/value/kernel:0', 'tf_bert_model_22/bert/encoder/layer_._2/attention/self/value/bias:0', 'tf_bert_model_22/bert/encoder/layer_._2/attention/output/dense/kernel:0', 'tf_bert_model_22/bert/encoder/layer_._2/attention/output/dense/bias:0', 'tf_bert_model_22/bert/encoder/layer_._2/attention/output/LayerNorm/gamma:0', 'tf_bert_model_22/bert/encoder/layer_._2/attention/output/LayerNorm/beta:0', 'tf_bert_model_22/bert/encoder/layer_._2/intermediate/dense/kernel:0', 'tf_bert_model_22/bert/encoder/layer_._2/intermediate/dense/bias:0', 'tf_bert_model_22/bert/encoder/layer_._2/output/dense/kernel:0', 'tf_bert_model_22/bert/encoder/layer_._2/output/dense/bias:0', 'tf_bert_model_22/bert/encoder/layer_._2/output/LayerNorm/gamma:0', 'tf_bert_model_22/bert/encoder/layer_._2/output/LayerNorm/beta:0', 'tf_bert_model_22/bert/encoder/layer_._3/attention/self/query/kernel:0', 'tf_bert_model_22/bert/encoder/layer_._3/attention/self/query/bias:0', 'tf_bert_model_22/bert/encoder/layer_._3/attention/self/key/kernel:0', 'tf_bert_model_22/bert/encoder/layer_._3/attention/self/key/bias:0', 'tf_bert_model_22/bert/encoder/layer_._3/attention/self/value/kernel:0', 'tf_bert_model_22/bert/encoder/layer_._3/attention/self/value/bias:0', 'tf_bert_model_22/bert/encoder/layer_._3/attention/output/dense/kernel:0', 'tf_bert_model_22/bert/encoder/layer_._3/attention/output/dense/bias:0', 'tf_bert_model_22/bert/encoder/layer_._3/attention/output/LayerNorm/gamma:0', 'tf_bert_model_22/bert/encoder/layer_._3/attention/output/LayerNorm/beta:0', 'tf_bert_model_22/bert/encoder/layer_._3/intermediate/dense/kernel:0', 'tf_bert_model_22/bert/encoder/layer_._3/intermediate/dense/bias:0', 'tf_bert_model_22/bert/encoder/layer_._3/output/dense/kernel:0', 'tf_bert_model_22/bert/encoder/layer_._3/output/dense/bias:0', 'tf_bert_model_22/bert/encoder/layer_._3/output/LayerNorm/gamma:0', 'tf_bert_model_22/bert/encoder/layer_._3/output/LayerNorm/beta:0', 'tf_bert_model_22/bert/encoder/layer_._4/attention/self/query/kernel:0', 'tf_bert_model_22/bert/encoder/layer_._4/attention/self/query/bias:0', 'tf_bert_model_22/bert/encoder/layer_._4/attention/self/key/kernel:0', 'tf_bert_model_22/bert/encoder/layer_._4/attention/self/key/bias:0', 'tf_bert_model_22/bert/encoder/layer_._4/attention/self/value/kernel:0', 'tf_bert_model_22/bert/encoder/layer_._4/attention/self/value/bias:0', 'tf_bert_model_22/bert/encoder/layer_._4/attention/output/dense/kernel:0', 'tf_bert_model_22/bert/encoder/layer_._4/attention/output/dense/bias:0', 'tf_bert_model_22/bert/encoder/layer_._4/attention/output/LayerNorm/gamma:0', 'tf_bert_model_22/bert/encoder/layer_._4/attention/output/LayerNorm/beta:0', 'tf_bert_model_22/bert/encoder/layer_._4/intermediate/dense/kernel:0', 'tf_bert_model_22/bert/encoder/layer_._4/intermediate/dense/bias:0', 'tf_bert_model_22/bert/encoder/layer_._4/output/dense/kernel:0', 'tf_bert_model_22/bert/encoder/layer_._4/output/dense/bias:0', 'tf_bert_model_22/bert/encoder/layer_._4/output/LayerNorm/gamma:0', 'tf_bert_model_22/bert/encoder/layer_._4/output/LayerNorm/beta:0', 'tf_bert_model_22/bert/encoder/layer_._5/attention/self/query/kernel:0', 'tf_bert_model_22/bert/encoder/layer_._5/attention/self/query/bias:0', 'tf_bert_model_22/bert/encoder/layer_._5/attention/self/key/kernel:0', 'tf_bert_model_22/bert/encoder/layer_._5/attention/self/key/bias:0', 'tf_bert_model_22/bert/encoder/layer_._5/attention/self/value/kernel:0', 'tf_bert_model_22/bert/encoder/layer_._5/attention/self/value/bias:0', 'tf_bert_model_22/bert/encoder/layer_._5/attention/output/dense/kernel:0', 'tf_bert_model_22/bert/encoder/layer_._5/attention/output/dense/bias:0', 'tf_bert_model_22/bert/encoder/layer_._5/attention/output/LayerNorm/gamma:0', 'tf_bert_model_22/bert/encoder/layer_._5/attention/output/LayerNorm/beta:0', 'tf_bert_model_22/bert/encoder/layer_._5/intermediate/dense/kernel:0', 'tf_bert_model_22/bert/encoder/layer_._5/intermediate/dense/bias:0', 'tf_bert_model_22/bert/encoder/layer_._5/output/dense/kernel:0', 'tf_bert_model_22/bert/encoder/layer_._5/output/dense/bias:0', 'tf_bert_model_22/bert/encoder/layer_._5/output/LayerNorm/gamma:0', 'tf_bert_model_22/bert/encoder/layer_._5/output/LayerNorm/beta:0', 'tf_bert_model_22/bert/encoder/layer_._6/attention/self/query/kernel:0', 'tf_bert_model_22/bert/encoder/layer_._6/attention/self/query/bias:0', 'tf_bert_model_22/bert/encoder/layer_._6/attention/self/key/kernel:0', 'tf_bert_model_22/bert/encoder/layer_._6/attention/self/key/bias:0', 'tf_bert_model_22/bert/encoder/layer_._6/attention/self/value/kernel:0', 'tf_bert_model_22/bert/encoder/layer_._6/attention/self/value/bias:0', 'tf_bert_model_22/bert/encoder/layer_._6/attention/output/dense/kernel:0', 'tf_bert_model_22/bert/encoder/layer_._6/attention/output/dense/bias:0', 'tf_bert_model_22/bert/encoder/layer_._6/attention/output/LayerNorm/gamma:0', 'tf_bert_model_22/bert/encoder/layer_._6/attention/output/LayerNorm/beta:0', 'tf_bert_model_22/bert/encoder/layer_._6/intermediate/dense/kernel:0', 'tf_bert_model_22/bert/encoder/layer_._6/intermediate/dense/bias:0', 'tf_bert_model_22/bert/encoder/layer_._6/output/dense/kernel:0', 'tf_bert_model_22/bert/encoder/layer_._6/output/dense/bias:0', 'tf_bert_model_22/bert/encoder/layer_._6/output/LayerNorm/gamma:0', 'tf_bert_model_22/bert/encoder/layer_._6/output/LayerNorm/beta:0', 'tf_bert_model_22/bert/encoder/layer_._7/attention/self/query/kernel:0', 'tf_bert_model_22/bert/encoder/layer_._7/attention/self/query/bias:0', 'tf_bert_model_22/bert/encoder/layer_._7/attention/self/key/kernel:0', 'tf_bert_model_22/bert/encoder/layer_._7/attention/self/key/bias:0', 'tf_bert_model_22/bert/encoder/layer_._7/attention/self/value/kernel:0', 'tf_bert_model_22/bert/encoder/layer_._7/attention/self/value/bias:0', 'tf_bert_model_22/bert/encoder/layer_._7/attention/output/dense/kernel:0', 'tf_bert_model_22/bert/encoder/layer_._7/attention/output/dense/bias:0', 'tf_bert_model_22/bert/encoder/layer_._7/attention/output/LayerNorm/gamma:0', 'tf_bert_model_22/bert/encoder/layer_._7/attention/output/LayerNorm/beta:0', 'tf_bert_model_22/bert/encoder/layer_._7/intermediate/dense/kernel:0', 'tf_bert_model_22/bert/encoder/layer_._7/intermediate/dense/bias:0', 'tf_bert_model_22/bert/encoder/layer_._7/output/dense/kernel:0', 'tf_bert_model_22/bert/encoder/layer_._7/output/dense/bias:0', 'tf_bert_model_22/bert/encoder/layer_._7/output/LayerNorm/gamma:0', 'tf_bert_model_22/bert/encoder/layer_._7/output/LayerNorm/beta:0', 'tf_bert_model_22/bert/encoder/layer_._8/attention/self/query/kernel:0', 'tf_bert_model_22/bert/encoder/layer_._8/attention/self/query/bias:0', 'tf_bert_model_22/bert/encoder/layer_._8/attention/self/key/kernel:0', 'tf_bert_model_22/bert/encoder/layer_._8/attention/self/key/bias:0', 'tf_bert_model_22/bert/encoder/layer_._8/attention/self/value/kernel:0', 'tf_bert_model_22/bert/encoder/layer_._8/attention/self/value/bias:0', 'tf_bert_model_22/bert/encoder/layer_._8/attention/output/dense/kernel:0', 'tf_bert_model_22/bert/encoder/layer_._8/attention/output/dense/bias:0', 'tf_bert_model_22/bert/encoder/layer_._8/attention/output/LayerNorm/gamma:0', 'tf_bert_model_22/bert/encoder/layer_._8/attention/output/LayerNorm/beta:0', 'tf_bert_model_22/bert/encoder/layer_._8/intermediate/dense/kernel:0', 'tf_bert_model_22/bert/encoder/layer_._8/intermediate/dense/bias:0', 'tf_bert_model_22/bert/encoder/layer_._8/output/dense/kernel:0', 'tf_bert_model_22/bert/encoder/layer_._8/output/dense/bias:0', 'tf_bert_model_22/bert/encoder/layer_._8/output/LayerNorm/gamma:0', 'tf_bert_model_22/bert/encoder/layer_._8/output/LayerNorm/beta:0', 'tf_bert_model_22/bert/encoder/layer_._9/attention/self/query/kernel:0', 'tf_bert_model_22/bert/encoder/layer_._9/attention/self/query/bias:0', 'tf_bert_model_22/bert/encoder/layer_._9/attention/self/key/kernel:0', 'tf_bert_model_22/bert/encoder/layer_._9/attention/self/key/bias:0', 'tf_bert_model_22/bert/encoder/layer_._9/attention/self/value/kernel:0', 'tf_bert_model_22/bert/encoder/layer_._9/attention/self/value/bias:0', 'tf_bert_model_22/bert/encoder/layer_._9/attention/output/dense/kernel:0', 'tf_bert_model_22/bert/encoder/layer_._9/attention/output/dense/bias:0', 'tf_bert_model_22/bert/encoder/layer_._9/attention/output/LayerNorm/gamma:0', 'tf_bert_model_22/bert/encoder/layer_._9/attention/output/LayerNorm/beta:0', 'tf_bert_model_22/bert/encoder/layer_._9/intermediate/dense/kernel:0', 'tf_bert_model_22/bert/encoder/layer_._9/intermediate/dense/bias:0', 'tf_bert_model_22/bert/encoder/layer_._9/output/dense/kernel:0', 'tf_bert_model_22/bert/encoder/layer_._9/output/dense/bias:0', 'tf_bert_model_22/bert/encoder/layer_._9/output/LayerNorm/gamma:0', 'tf_bert_model_22/bert/encoder/layer_._9/output/LayerNorm/beta:0', 'tf_bert_model_22/bert/encoder/layer_._10/attention/self/query/kernel:0', 'tf_bert_model_22/bert/encoder/layer_._10/attention/self/query/bias:0', 'tf_bert_model_22/bert/encoder/layer_._10/attention/self/key/kernel:0', 'tf_bert_model_22/bert/encoder/layer_._10/attention/self/key/bias:0', 'tf_bert_model_22/bert/encoder/layer_._10/attention/self/value/kernel:0', 'tf_bert_model_22/bert/encoder/layer_._10/attention/self/value/bias:0', 'tf_bert_model_22/bert/encoder/layer_._10/attention/output/dense/kernel:0', 'tf_bert_model_22/bert/encoder/layer_._10/attention/output/dense/bias:0', 'tf_bert_model_22/bert/encoder/layer_._10/attention/output/LayerNorm/gamma:0', 'tf_bert_model_22/bert/encoder/layer_._10/attention/output/LayerNorm/beta:0', 'tf_bert_model_22/bert/encoder/layer_._10/intermediate/dense/kernel:0', 'tf_bert_model_22/bert/encoder/layer_._10/intermediate/dense/bias:0', 'tf_bert_model_22/bert/encoder/layer_._10/output/dense/kernel:0', 'tf_bert_model_22/bert/encoder/layer_._10/output/dense/bias:0', 'tf_bert_model_22/bert/encoder/layer_._10/output/LayerNorm/gamma:0', 'tf_bert_model_22/bert/encoder/layer_._10/output/LayerNorm/beta:0', 'tf_bert_model_22/bert/pooler/dense/kernel:0', 'tf_bert_model_22/bert/pooler/dense/bias:0'] when minimizing the loss. If you're using `model.compile()`, did you forget to provide a `loss`argument?\n",
            "489/489 [==============================] - 50s 86ms/step - loss: 0.1282 - accuracy: 0.9547 - val_loss: 0.0458 - val_accuracy: 0.9869\n",
            "Epoch 2/3\n",
            "489/489 [==============================] - 39s 80ms/step - loss: 0.0474 - accuracy: 0.9844 - val_loss: 0.0683 - val_accuracy: 0.9795\n",
            "Epoch 3/3\n",
            "489/489 [==============================] - 39s 80ms/step - loss: 0.0315 - accuracy: 0.9905 - val_loss: 0.0427 - val_accuracy: 0.9861\n",
            "BERT 3e + CNN kernel un 160, train: accuracy = 0.9990, precision = 1.0000, recall = 0.9951, f1 = 0.9975\n",
            "validation: accuracy = 0.9939, precision = 1.0000, recall = 0.9704, f1 = 0.9850\n"
          ]
        },
        {
          "output_type": "stream",
          "name": "stderr",
          "text": [
            "Some layers from the model checkpoint at bert-base-cased were not used when initializing TFBertModel: ['nsp___cls', 'mlm___cls']\n",
            "- This IS expected if you are initializing TFBertModel from the checkpoint of a model trained on another task or with another architecture (e.g. initializing a BertForSequenceClassification model from a BertForPreTraining model).\n",
            "- This IS NOT expected if you are initializing TFBertModel from the checkpoint of a model that you expect to be exactly identical (initializing a BertForSequenceClassification model from a BertForSequenceClassification model).\n",
            "All the layers of TFBertModel were initialized from the model checkpoint at bert-base-cased.\n",
            "If your task is similar to the task the model of the checkpoint was trained on, you can already use TFBertModel for predictions without further training.\n"
          ]
        },
        {
          "output_type": "stream",
          "name": "stdout",
          "text": [
            "Epoch 1/3\n",
            "WARNING:tensorflow:Gradients do not exist for variables ['tf_bert_model_23/bert/embeddings/word_embeddings/weight:0', 'tf_bert_model_23/bert/embeddings/token_type_embeddings/embeddings:0', 'tf_bert_model_23/bert/embeddings/position_embeddings/embeddings:0', 'tf_bert_model_23/bert/embeddings/LayerNorm/gamma:0', 'tf_bert_model_23/bert/embeddings/LayerNorm/beta:0', 'tf_bert_model_23/bert/encoder/layer_._0/attention/self/query/kernel:0', 'tf_bert_model_23/bert/encoder/layer_._0/attention/self/query/bias:0', 'tf_bert_model_23/bert/encoder/layer_._0/attention/self/key/kernel:0', 'tf_bert_model_23/bert/encoder/layer_._0/attention/self/key/bias:0', 'tf_bert_model_23/bert/encoder/layer_._0/attention/self/value/kernel:0', 'tf_bert_model_23/bert/encoder/layer_._0/attention/self/value/bias:0', 'tf_bert_model_23/bert/encoder/layer_._0/attention/output/dense/kernel:0', 'tf_bert_model_23/bert/encoder/layer_._0/attention/output/dense/bias:0', 'tf_bert_model_23/bert/encoder/layer_._0/attention/output/LayerNorm/gamma:0', 'tf_bert_model_23/bert/encoder/layer_._0/attention/output/LayerNorm/beta:0', 'tf_bert_model_23/bert/encoder/layer_._0/intermediate/dense/kernel:0', 'tf_bert_model_23/bert/encoder/layer_._0/intermediate/dense/bias:0', 'tf_bert_model_23/bert/encoder/layer_._0/output/dense/kernel:0', 'tf_bert_model_23/bert/encoder/layer_._0/output/dense/bias:0', 'tf_bert_model_23/bert/encoder/layer_._0/output/LayerNorm/gamma:0', 'tf_bert_model_23/bert/encoder/layer_._0/output/LayerNorm/beta:0', 'tf_bert_model_23/bert/encoder/layer_._1/attention/self/query/kernel:0', 'tf_bert_model_23/bert/encoder/layer_._1/attention/self/query/bias:0', 'tf_bert_model_23/bert/encoder/layer_._1/attention/self/key/kernel:0', 'tf_bert_model_23/bert/encoder/layer_._1/attention/self/key/bias:0', 'tf_bert_model_23/bert/encoder/layer_._1/attention/self/value/kernel:0', 'tf_bert_model_23/bert/encoder/layer_._1/attention/self/value/bias:0', 'tf_bert_model_23/bert/encoder/layer_._1/attention/output/dense/kernel:0', 'tf_bert_model_23/bert/encoder/layer_._1/attention/output/dense/bias:0', 'tf_bert_model_23/bert/encoder/layer_._1/attention/output/LayerNorm/gamma:0', 'tf_bert_model_23/bert/encoder/layer_._1/attention/output/LayerNorm/beta:0', 'tf_bert_model_23/bert/encoder/layer_._1/intermediate/dense/kernel:0', 'tf_bert_model_23/bert/encoder/layer_._1/intermediate/dense/bias:0', 'tf_bert_model_23/bert/encoder/layer_._1/output/dense/kernel:0', 'tf_bert_model_23/bert/encoder/layer_._1/output/dense/bias:0', 'tf_bert_model_23/bert/encoder/layer_._1/output/LayerNorm/gamma:0', 'tf_bert_model_23/bert/encoder/layer_._1/output/LayerNorm/beta:0', 'tf_bert_model_23/bert/encoder/layer_._2/attention/self/query/kernel:0', 'tf_bert_model_23/bert/encoder/layer_._2/attention/self/query/bias:0', 'tf_bert_model_23/bert/encoder/layer_._2/attention/self/key/kernel:0', 'tf_bert_model_23/bert/encoder/layer_._2/attention/self/key/bias:0', 'tf_bert_model_23/bert/encoder/layer_._2/attention/self/value/kernel:0', 'tf_bert_model_23/bert/encoder/layer_._2/attention/self/value/bias:0', 'tf_bert_model_23/bert/encoder/layer_._2/attention/output/dense/kernel:0', 'tf_bert_model_23/bert/encoder/layer_._2/attention/output/dense/bias:0', 'tf_bert_model_23/bert/encoder/layer_._2/attention/output/LayerNorm/gamma:0', 'tf_bert_model_23/bert/encoder/layer_._2/attention/output/LayerNorm/beta:0', 'tf_bert_model_23/bert/encoder/layer_._2/intermediate/dense/kernel:0', 'tf_bert_model_23/bert/encoder/layer_._2/intermediate/dense/bias:0', 'tf_bert_model_23/bert/encoder/layer_._2/output/dense/kernel:0', 'tf_bert_model_23/bert/encoder/layer_._2/output/dense/bias:0', 'tf_bert_model_23/bert/encoder/layer_._2/output/LayerNorm/gamma:0', 'tf_bert_model_23/bert/encoder/layer_._2/output/LayerNorm/beta:0', 'tf_bert_model_23/bert/encoder/layer_._3/attention/self/query/kernel:0', 'tf_bert_model_23/bert/encoder/layer_._3/attention/self/query/bias:0', 'tf_bert_model_23/bert/encoder/layer_._3/attention/self/key/kernel:0', 'tf_bert_model_23/bert/encoder/layer_._3/attention/self/key/bias:0', 'tf_bert_model_23/bert/encoder/layer_._3/attention/self/value/kernel:0', 'tf_bert_model_23/bert/encoder/layer_._3/attention/self/value/bias:0', 'tf_bert_model_23/bert/encoder/layer_._3/attention/output/dense/kernel:0', 'tf_bert_model_23/bert/encoder/layer_._3/attention/output/dense/bias:0', 'tf_bert_model_23/bert/encoder/layer_._3/attention/output/LayerNorm/gamma:0', 'tf_bert_model_23/bert/encoder/layer_._3/attention/output/LayerNorm/beta:0', 'tf_bert_model_23/bert/encoder/layer_._3/intermediate/dense/kernel:0', 'tf_bert_model_23/bert/encoder/layer_._3/intermediate/dense/bias:0', 'tf_bert_model_23/bert/encoder/layer_._3/output/dense/kernel:0', 'tf_bert_model_23/bert/encoder/layer_._3/output/dense/bias:0', 'tf_bert_model_23/bert/encoder/layer_._3/output/LayerNorm/gamma:0', 'tf_bert_model_23/bert/encoder/layer_._3/output/LayerNorm/beta:0', 'tf_bert_model_23/bert/encoder/layer_._4/attention/self/query/kernel:0', 'tf_bert_model_23/bert/encoder/layer_._4/attention/self/query/bias:0', 'tf_bert_model_23/bert/encoder/layer_._4/attention/self/key/kernel:0', 'tf_bert_model_23/bert/encoder/layer_._4/attention/self/key/bias:0', 'tf_bert_model_23/bert/encoder/layer_._4/attention/self/value/kernel:0', 'tf_bert_model_23/bert/encoder/layer_._4/attention/self/value/bias:0', 'tf_bert_model_23/bert/encoder/layer_._4/attention/output/dense/kernel:0', 'tf_bert_model_23/bert/encoder/layer_._4/attention/output/dense/bias:0', 'tf_bert_model_23/bert/encoder/layer_._4/attention/output/LayerNorm/gamma:0', 'tf_bert_model_23/bert/encoder/layer_._4/attention/output/LayerNorm/beta:0', 'tf_bert_model_23/bert/encoder/layer_._4/intermediate/dense/kernel:0', 'tf_bert_model_23/bert/encoder/layer_._4/intermediate/dense/bias:0', 'tf_bert_model_23/bert/encoder/layer_._4/output/dense/kernel:0', 'tf_bert_model_23/bert/encoder/layer_._4/output/dense/bias:0', 'tf_bert_model_23/bert/encoder/layer_._4/output/LayerNorm/gamma:0', 'tf_bert_model_23/bert/encoder/layer_._4/output/LayerNorm/beta:0', 'tf_bert_model_23/bert/encoder/layer_._5/attention/self/query/kernel:0', 'tf_bert_model_23/bert/encoder/layer_._5/attention/self/query/bias:0', 'tf_bert_model_23/bert/encoder/layer_._5/attention/self/key/kernel:0', 'tf_bert_model_23/bert/encoder/layer_._5/attention/self/key/bias:0', 'tf_bert_model_23/bert/encoder/layer_._5/attention/self/value/kernel:0', 'tf_bert_model_23/bert/encoder/layer_._5/attention/self/value/bias:0', 'tf_bert_model_23/bert/encoder/layer_._5/attention/output/dense/kernel:0', 'tf_bert_model_23/bert/encoder/layer_._5/attention/output/dense/bias:0', 'tf_bert_model_23/bert/encoder/layer_._5/attention/output/LayerNorm/gamma:0', 'tf_bert_model_23/bert/encoder/layer_._5/attention/output/LayerNorm/beta:0', 'tf_bert_model_23/bert/encoder/layer_._5/intermediate/dense/kernel:0', 'tf_bert_model_23/bert/encoder/layer_._5/intermediate/dense/bias:0', 'tf_bert_model_23/bert/encoder/layer_._5/output/dense/kernel:0', 'tf_bert_model_23/bert/encoder/layer_._5/output/dense/bias:0', 'tf_bert_model_23/bert/encoder/layer_._5/output/LayerNorm/gamma:0', 'tf_bert_model_23/bert/encoder/layer_._5/output/LayerNorm/beta:0', 'tf_bert_model_23/bert/encoder/layer_._6/attention/self/query/kernel:0', 'tf_bert_model_23/bert/encoder/layer_._6/attention/self/query/bias:0', 'tf_bert_model_23/bert/encoder/layer_._6/attention/self/key/kernel:0', 'tf_bert_model_23/bert/encoder/layer_._6/attention/self/key/bias:0', 'tf_bert_model_23/bert/encoder/layer_._6/attention/self/value/kernel:0', 'tf_bert_model_23/bert/encoder/layer_._6/attention/self/value/bias:0', 'tf_bert_model_23/bert/encoder/layer_._6/attention/output/dense/kernel:0', 'tf_bert_model_23/bert/encoder/layer_._6/attention/output/dense/bias:0', 'tf_bert_model_23/bert/encoder/layer_._6/attention/output/LayerNorm/gamma:0', 'tf_bert_model_23/bert/encoder/layer_._6/attention/output/LayerNorm/beta:0', 'tf_bert_model_23/bert/encoder/layer_._6/intermediate/dense/kernel:0', 'tf_bert_model_23/bert/encoder/layer_._6/intermediate/dense/bias:0', 'tf_bert_model_23/bert/encoder/layer_._6/output/dense/kernel:0', 'tf_bert_model_23/bert/encoder/layer_._6/output/dense/bias:0', 'tf_bert_model_23/bert/encoder/layer_._6/output/LayerNorm/gamma:0', 'tf_bert_model_23/bert/encoder/layer_._6/output/LayerNorm/beta:0', 'tf_bert_model_23/bert/encoder/layer_._7/attention/self/query/kernel:0', 'tf_bert_model_23/bert/encoder/layer_._7/attention/self/query/bias:0', 'tf_bert_model_23/bert/encoder/layer_._7/attention/self/key/kernel:0', 'tf_bert_model_23/bert/encoder/layer_._7/attention/self/key/bias:0', 'tf_bert_model_23/bert/encoder/layer_._7/attention/self/value/kernel:0', 'tf_bert_model_23/bert/encoder/layer_._7/attention/self/value/bias:0', 'tf_bert_model_23/bert/encoder/layer_._7/attention/output/dense/kernel:0', 'tf_bert_model_23/bert/encoder/layer_._7/attention/output/dense/bias:0', 'tf_bert_model_23/bert/encoder/layer_._7/attention/output/LayerNorm/gamma:0', 'tf_bert_model_23/bert/encoder/layer_._7/attention/output/LayerNorm/beta:0', 'tf_bert_model_23/bert/encoder/layer_._7/intermediate/dense/kernel:0', 'tf_bert_model_23/bert/encoder/layer_._7/intermediate/dense/bias:0', 'tf_bert_model_23/bert/encoder/layer_._7/output/dense/kernel:0', 'tf_bert_model_23/bert/encoder/layer_._7/output/dense/bias:0', 'tf_bert_model_23/bert/encoder/layer_._7/output/LayerNorm/gamma:0', 'tf_bert_model_23/bert/encoder/layer_._7/output/LayerNorm/beta:0', 'tf_bert_model_23/bert/encoder/layer_._8/attention/self/query/kernel:0', 'tf_bert_model_23/bert/encoder/layer_._8/attention/self/query/bias:0', 'tf_bert_model_23/bert/encoder/layer_._8/attention/self/key/kernel:0', 'tf_bert_model_23/bert/encoder/layer_._8/attention/self/key/bias:0', 'tf_bert_model_23/bert/encoder/layer_._8/attention/self/value/kernel:0', 'tf_bert_model_23/bert/encoder/layer_._8/attention/self/value/bias:0', 'tf_bert_model_23/bert/encoder/layer_._8/attention/output/dense/kernel:0', 'tf_bert_model_23/bert/encoder/layer_._8/attention/output/dense/bias:0', 'tf_bert_model_23/bert/encoder/layer_._8/attention/output/LayerNorm/gamma:0', 'tf_bert_model_23/bert/encoder/layer_._8/attention/output/LayerNorm/beta:0', 'tf_bert_model_23/bert/encoder/layer_._8/intermediate/dense/kernel:0', 'tf_bert_model_23/bert/encoder/layer_._8/intermediate/dense/bias:0', 'tf_bert_model_23/bert/encoder/layer_._8/output/dense/kernel:0', 'tf_bert_model_23/bert/encoder/layer_._8/output/dense/bias:0', 'tf_bert_model_23/bert/encoder/layer_._8/output/LayerNorm/gamma:0', 'tf_bert_model_23/bert/encoder/layer_._8/output/LayerNorm/beta:0', 'tf_bert_model_23/bert/encoder/layer_._9/attention/self/query/kernel:0', 'tf_bert_model_23/bert/encoder/layer_._9/attention/self/query/bias:0', 'tf_bert_model_23/bert/encoder/layer_._9/attention/self/key/kernel:0', 'tf_bert_model_23/bert/encoder/layer_._9/attention/self/key/bias:0', 'tf_bert_model_23/bert/encoder/layer_._9/attention/self/value/kernel:0', 'tf_bert_model_23/bert/encoder/layer_._9/attention/self/value/bias:0', 'tf_bert_model_23/bert/encoder/layer_._9/attention/output/dense/kernel:0', 'tf_bert_model_23/bert/encoder/layer_._9/attention/output/dense/bias:0', 'tf_bert_model_23/bert/encoder/layer_._9/attention/output/LayerNorm/gamma:0', 'tf_bert_model_23/bert/encoder/layer_._9/attention/output/LayerNorm/beta:0', 'tf_bert_model_23/bert/encoder/layer_._9/intermediate/dense/kernel:0', 'tf_bert_model_23/bert/encoder/layer_._9/intermediate/dense/bias:0', 'tf_bert_model_23/bert/encoder/layer_._9/output/dense/kernel:0', 'tf_bert_model_23/bert/encoder/layer_._9/output/dense/bias:0', 'tf_bert_model_23/bert/encoder/layer_._9/output/LayerNorm/gamma:0', 'tf_bert_model_23/bert/encoder/layer_._9/output/LayerNorm/beta:0', 'tf_bert_model_23/bert/encoder/layer_._10/attention/self/query/kernel:0', 'tf_bert_model_23/bert/encoder/layer_._10/attention/self/query/bias:0', 'tf_bert_model_23/bert/encoder/layer_._10/attention/self/key/kernel:0', 'tf_bert_model_23/bert/encoder/layer_._10/attention/self/key/bias:0', 'tf_bert_model_23/bert/encoder/layer_._10/attention/self/value/kernel:0', 'tf_bert_model_23/bert/encoder/layer_._10/attention/self/value/bias:0', 'tf_bert_model_23/bert/encoder/layer_._10/attention/output/dense/kernel:0', 'tf_bert_model_23/bert/encoder/layer_._10/attention/output/dense/bias:0', 'tf_bert_model_23/bert/encoder/layer_._10/attention/output/LayerNorm/gamma:0', 'tf_bert_model_23/bert/encoder/layer_._10/attention/output/LayerNorm/beta:0', 'tf_bert_model_23/bert/encoder/layer_._10/intermediate/dense/kernel:0', 'tf_bert_model_23/bert/encoder/layer_._10/intermediate/dense/bias:0', 'tf_bert_model_23/bert/encoder/layer_._10/output/dense/kernel:0', 'tf_bert_model_23/bert/encoder/layer_._10/output/dense/bias:0', 'tf_bert_model_23/bert/encoder/layer_._10/output/LayerNorm/gamma:0', 'tf_bert_model_23/bert/encoder/layer_._10/output/LayerNorm/beta:0', 'tf_bert_model_23/bert/pooler/dense/kernel:0', 'tf_bert_model_23/bert/pooler/dense/bias:0'] when minimizing the loss. If you're using `model.compile()`, did you forget to provide a `loss`argument?\n",
            "WARNING:tensorflow:Gradients do not exist for variables ['tf_bert_model_23/bert/embeddings/word_embeddings/weight:0', 'tf_bert_model_23/bert/embeddings/token_type_embeddings/embeddings:0', 'tf_bert_model_23/bert/embeddings/position_embeddings/embeddings:0', 'tf_bert_model_23/bert/embeddings/LayerNorm/gamma:0', 'tf_bert_model_23/bert/embeddings/LayerNorm/beta:0', 'tf_bert_model_23/bert/encoder/layer_._0/attention/self/query/kernel:0', 'tf_bert_model_23/bert/encoder/layer_._0/attention/self/query/bias:0', 'tf_bert_model_23/bert/encoder/layer_._0/attention/self/key/kernel:0', 'tf_bert_model_23/bert/encoder/layer_._0/attention/self/key/bias:0', 'tf_bert_model_23/bert/encoder/layer_._0/attention/self/value/kernel:0', 'tf_bert_model_23/bert/encoder/layer_._0/attention/self/value/bias:0', 'tf_bert_model_23/bert/encoder/layer_._0/attention/output/dense/kernel:0', 'tf_bert_model_23/bert/encoder/layer_._0/attention/output/dense/bias:0', 'tf_bert_model_23/bert/encoder/layer_._0/attention/output/LayerNorm/gamma:0', 'tf_bert_model_23/bert/encoder/layer_._0/attention/output/LayerNorm/beta:0', 'tf_bert_model_23/bert/encoder/layer_._0/intermediate/dense/kernel:0', 'tf_bert_model_23/bert/encoder/layer_._0/intermediate/dense/bias:0', 'tf_bert_model_23/bert/encoder/layer_._0/output/dense/kernel:0', 'tf_bert_model_23/bert/encoder/layer_._0/output/dense/bias:0', 'tf_bert_model_23/bert/encoder/layer_._0/output/LayerNorm/gamma:0', 'tf_bert_model_23/bert/encoder/layer_._0/output/LayerNorm/beta:0', 'tf_bert_model_23/bert/encoder/layer_._1/attention/self/query/kernel:0', 'tf_bert_model_23/bert/encoder/layer_._1/attention/self/query/bias:0', 'tf_bert_model_23/bert/encoder/layer_._1/attention/self/key/kernel:0', 'tf_bert_model_23/bert/encoder/layer_._1/attention/self/key/bias:0', 'tf_bert_model_23/bert/encoder/layer_._1/attention/self/value/kernel:0', 'tf_bert_model_23/bert/encoder/layer_._1/attention/self/value/bias:0', 'tf_bert_model_23/bert/encoder/layer_._1/attention/output/dense/kernel:0', 'tf_bert_model_23/bert/encoder/layer_._1/attention/output/dense/bias:0', 'tf_bert_model_23/bert/encoder/layer_._1/attention/output/LayerNorm/gamma:0', 'tf_bert_model_23/bert/encoder/layer_._1/attention/output/LayerNorm/beta:0', 'tf_bert_model_23/bert/encoder/layer_._1/intermediate/dense/kernel:0', 'tf_bert_model_23/bert/encoder/layer_._1/intermediate/dense/bias:0', 'tf_bert_model_23/bert/encoder/layer_._1/output/dense/kernel:0', 'tf_bert_model_23/bert/encoder/layer_._1/output/dense/bias:0', 'tf_bert_model_23/bert/encoder/layer_._1/output/LayerNorm/gamma:0', 'tf_bert_model_23/bert/encoder/layer_._1/output/LayerNorm/beta:0', 'tf_bert_model_23/bert/encoder/layer_._2/attention/self/query/kernel:0', 'tf_bert_model_23/bert/encoder/layer_._2/attention/self/query/bias:0', 'tf_bert_model_23/bert/encoder/layer_._2/attention/self/key/kernel:0', 'tf_bert_model_23/bert/encoder/layer_._2/attention/self/key/bias:0', 'tf_bert_model_23/bert/encoder/layer_._2/attention/self/value/kernel:0', 'tf_bert_model_23/bert/encoder/layer_._2/attention/self/value/bias:0', 'tf_bert_model_23/bert/encoder/layer_._2/attention/output/dense/kernel:0', 'tf_bert_model_23/bert/encoder/layer_._2/attention/output/dense/bias:0', 'tf_bert_model_23/bert/encoder/layer_._2/attention/output/LayerNorm/gamma:0', 'tf_bert_model_23/bert/encoder/layer_._2/attention/output/LayerNorm/beta:0', 'tf_bert_model_23/bert/encoder/layer_._2/intermediate/dense/kernel:0', 'tf_bert_model_23/bert/encoder/layer_._2/intermediate/dense/bias:0', 'tf_bert_model_23/bert/encoder/layer_._2/output/dense/kernel:0', 'tf_bert_model_23/bert/encoder/layer_._2/output/dense/bias:0', 'tf_bert_model_23/bert/encoder/layer_._2/output/LayerNorm/gamma:0', 'tf_bert_model_23/bert/encoder/layer_._2/output/LayerNorm/beta:0', 'tf_bert_model_23/bert/encoder/layer_._3/attention/self/query/kernel:0', 'tf_bert_model_23/bert/encoder/layer_._3/attention/self/query/bias:0', 'tf_bert_model_23/bert/encoder/layer_._3/attention/self/key/kernel:0', 'tf_bert_model_23/bert/encoder/layer_._3/attention/self/key/bias:0', 'tf_bert_model_23/bert/encoder/layer_._3/attention/self/value/kernel:0', 'tf_bert_model_23/bert/encoder/layer_._3/attention/self/value/bias:0', 'tf_bert_model_23/bert/encoder/layer_._3/attention/output/dense/kernel:0', 'tf_bert_model_23/bert/encoder/layer_._3/attention/output/dense/bias:0', 'tf_bert_model_23/bert/encoder/layer_._3/attention/output/LayerNorm/gamma:0', 'tf_bert_model_23/bert/encoder/layer_._3/attention/output/LayerNorm/beta:0', 'tf_bert_model_23/bert/encoder/layer_._3/intermediate/dense/kernel:0', 'tf_bert_model_23/bert/encoder/layer_._3/intermediate/dense/bias:0', 'tf_bert_model_23/bert/encoder/layer_._3/output/dense/kernel:0', 'tf_bert_model_23/bert/encoder/layer_._3/output/dense/bias:0', 'tf_bert_model_23/bert/encoder/layer_._3/output/LayerNorm/gamma:0', 'tf_bert_model_23/bert/encoder/layer_._3/output/LayerNorm/beta:0', 'tf_bert_model_23/bert/encoder/layer_._4/attention/self/query/kernel:0', 'tf_bert_model_23/bert/encoder/layer_._4/attention/self/query/bias:0', 'tf_bert_model_23/bert/encoder/layer_._4/attention/self/key/kernel:0', 'tf_bert_model_23/bert/encoder/layer_._4/attention/self/key/bias:0', 'tf_bert_model_23/bert/encoder/layer_._4/attention/self/value/kernel:0', 'tf_bert_model_23/bert/encoder/layer_._4/attention/self/value/bias:0', 'tf_bert_model_23/bert/encoder/layer_._4/attention/output/dense/kernel:0', 'tf_bert_model_23/bert/encoder/layer_._4/attention/output/dense/bias:0', 'tf_bert_model_23/bert/encoder/layer_._4/attention/output/LayerNorm/gamma:0', 'tf_bert_model_23/bert/encoder/layer_._4/attention/output/LayerNorm/beta:0', 'tf_bert_model_23/bert/encoder/layer_._4/intermediate/dense/kernel:0', 'tf_bert_model_23/bert/encoder/layer_._4/intermediate/dense/bias:0', 'tf_bert_model_23/bert/encoder/layer_._4/output/dense/kernel:0', 'tf_bert_model_23/bert/encoder/layer_._4/output/dense/bias:0', 'tf_bert_model_23/bert/encoder/layer_._4/output/LayerNorm/gamma:0', 'tf_bert_model_23/bert/encoder/layer_._4/output/LayerNorm/beta:0', 'tf_bert_model_23/bert/encoder/layer_._5/attention/self/query/kernel:0', 'tf_bert_model_23/bert/encoder/layer_._5/attention/self/query/bias:0', 'tf_bert_model_23/bert/encoder/layer_._5/attention/self/key/kernel:0', 'tf_bert_model_23/bert/encoder/layer_._5/attention/self/key/bias:0', 'tf_bert_model_23/bert/encoder/layer_._5/attention/self/value/kernel:0', 'tf_bert_model_23/bert/encoder/layer_._5/attention/self/value/bias:0', 'tf_bert_model_23/bert/encoder/layer_._5/attention/output/dense/kernel:0', 'tf_bert_model_23/bert/encoder/layer_._5/attention/output/dense/bias:0', 'tf_bert_model_23/bert/encoder/layer_._5/attention/output/LayerNorm/gamma:0', 'tf_bert_model_23/bert/encoder/layer_._5/attention/output/LayerNorm/beta:0', 'tf_bert_model_23/bert/encoder/layer_._5/intermediate/dense/kernel:0', 'tf_bert_model_23/bert/encoder/layer_._5/intermediate/dense/bias:0', 'tf_bert_model_23/bert/encoder/layer_._5/output/dense/kernel:0', 'tf_bert_model_23/bert/encoder/layer_._5/output/dense/bias:0', 'tf_bert_model_23/bert/encoder/layer_._5/output/LayerNorm/gamma:0', 'tf_bert_model_23/bert/encoder/layer_._5/output/LayerNorm/beta:0', 'tf_bert_model_23/bert/encoder/layer_._6/attention/self/query/kernel:0', 'tf_bert_model_23/bert/encoder/layer_._6/attention/self/query/bias:0', 'tf_bert_model_23/bert/encoder/layer_._6/attention/self/key/kernel:0', 'tf_bert_model_23/bert/encoder/layer_._6/attention/self/key/bias:0', 'tf_bert_model_23/bert/encoder/layer_._6/attention/self/value/kernel:0', 'tf_bert_model_23/bert/encoder/layer_._6/attention/self/value/bias:0', 'tf_bert_model_23/bert/encoder/layer_._6/attention/output/dense/kernel:0', 'tf_bert_model_23/bert/encoder/layer_._6/attention/output/dense/bias:0', 'tf_bert_model_23/bert/encoder/layer_._6/attention/output/LayerNorm/gamma:0', 'tf_bert_model_23/bert/encoder/layer_._6/attention/output/LayerNorm/beta:0', 'tf_bert_model_23/bert/encoder/layer_._6/intermediate/dense/kernel:0', 'tf_bert_model_23/bert/encoder/layer_._6/intermediate/dense/bias:0', 'tf_bert_model_23/bert/encoder/layer_._6/output/dense/kernel:0', 'tf_bert_model_23/bert/encoder/layer_._6/output/dense/bias:0', 'tf_bert_model_23/bert/encoder/layer_._6/output/LayerNorm/gamma:0', 'tf_bert_model_23/bert/encoder/layer_._6/output/LayerNorm/beta:0', 'tf_bert_model_23/bert/encoder/layer_._7/attention/self/query/kernel:0', 'tf_bert_model_23/bert/encoder/layer_._7/attention/self/query/bias:0', 'tf_bert_model_23/bert/encoder/layer_._7/attention/self/key/kernel:0', 'tf_bert_model_23/bert/encoder/layer_._7/attention/self/key/bias:0', 'tf_bert_model_23/bert/encoder/layer_._7/attention/self/value/kernel:0', 'tf_bert_model_23/bert/encoder/layer_._7/attention/self/value/bias:0', 'tf_bert_model_23/bert/encoder/layer_._7/attention/output/dense/kernel:0', 'tf_bert_model_23/bert/encoder/layer_._7/attention/output/dense/bias:0', 'tf_bert_model_23/bert/encoder/layer_._7/attention/output/LayerNorm/gamma:0', 'tf_bert_model_23/bert/encoder/layer_._7/attention/output/LayerNorm/beta:0', 'tf_bert_model_23/bert/encoder/layer_._7/intermediate/dense/kernel:0', 'tf_bert_model_23/bert/encoder/layer_._7/intermediate/dense/bias:0', 'tf_bert_model_23/bert/encoder/layer_._7/output/dense/kernel:0', 'tf_bert_model_23/bert/encoder/layer_._7/output/dense/bias:0', 'tf_bert_model_23/bert/encoder/layer_._7/output/LayerNorm/gamma:0', 'tf_bert_model_23/bert/encoder/layer_._7/output/LayerNorm/beta:0', 'tf_bert_model_23/bert/encoder/layer_._8/attention/self/query/kernel:0', 'tf_bert_model_23/bert/encoder/layer_._8/attention/self/query/bias:0', 'tf_bert_model_23/bert/encoder/layer_._8/attention/self/key/kernel:0', 'tf_bert_model_23/bert/encoder/layer_._8/attention/self/key/bias:0', 'tf_bert_model_23/bert/encoder/layer_._8/attention/self/value/kernel:0', 'tf_bert_model_23/bert/encoder/layer_._8/attention/self/value/bias:0', 'tf_bert_model_23/bert/encoder/layer_._8/attention/output/dense/kernel:0', 'tf_bert_model_23/bert/encoder/layer_._8/attention/output/dense/bias:0', 'tf_bert_model_23/bert/encoder/layer_._8/attention/output/LayerNorm/gamma:0', 'tf_bert_model_23/bert/encoder/layer_._8/attention/output/LayerNorm/beta:0', 'tf_bert_model_23/bert/encoder/layer_._8/intermediate/dense/kernel:0', 'tf_bert_model_23/bert/encoder/layer_._8/intermediate/dense/bias:0', 'tf_bert_model_23/bert/encoder/layer_._8/output/dense/kernel:0', 'tf_bert_model_23/bert/encoder/layer_._8/output/dense/bias:0', 'tf_bert_model_23/bert/encoder/layer_._8/output/LayerNorm/gamma:0', 'tf_bert_model_23/bert/encoder/layer_._8/output/LayerNorm/beta:0', 'tf_bert_model_23/bert/encoder/layer_._9/attention/self/query/kernel:0', 'tf_bert_model_23/bert/encoder/layer_._9/attention/self/query/bias:0', 'tf_bert_model_23/bert/encoder/layer_._9/attention/self/key/kernel:0', 'tf_bert_model_23/bert/encoder/layer_._9/attention/self/key/bias:0', 'tf_bert_model_23/bert/encoder/layer_._9/attention/self/value/kernel:0', 'tf_bert_model_23/bert/encoder/layer_._9/attention/self/value/bias:0', 'tf_bert_model_23/bert/encoder/layer_._9/attention/output/dense/kernel:0', 'tf_bert_model_23/bert/encoder/layer_._9/attention/output/dense/bias:0', 'tf_bert_model_23/bert/encoder/layer_._9/attention/output/LayerNorm/gamma:0', 'tf_bert_model_23/bert/encoder/layer_._9/attention/output/LayerNorm/beta:0', 'tf_bert_model_23/bert/encoder/layer_._9/intermediate/dense/kernel:0', 'tf_bert_model_23/bert/encoder/layer_._9/intermediate/dense/bias:0', 'tf_bert_model_23/bert/encoder/layer_._9/output/dense/kernel:0', 'tf_bert_model_23/bert/encoder/layer_._9/output/dense/bias:0', 'tf_bert_model_23/bert/encoder/layer_._9/output/LayerNorm/gamma:0', 'tf_bert_model_23/bert/encoder/layer_._9/output/LayerNorm/beta:0', 'tf_bert_model_23/bert/encoder/layer_._10/attention/self/query/kernel:0', 'tf_bert_model_23/bert/encoder/layer_._10/attention/self/query/bias:0', 'tf_bert_model_23/bert/encoder/layer_._10/attention/self/key/kernel:0', 'tf_bert_model_23/bert/encoder/layer_._10/attention/self/key/bias:0', 'tf_bert_model_23/bert/encoder/layer_._10/attention/self/value/kernel:0', 'tf_bert_model_23/bert/encoder/layer_._10/attention/self/value/bias:0', 'tf_bert_model_23/bert/encoder/layer_._10/attention/output/dense/kernel:0', 'tf_bert_model_23/bert/encoder/layer_._10/attention/output/dense/bias:0', 'tf_bert_model_23/bert/encoder/layer_._10/attention/output/LayerNorm/gamma:0', 'tf_bert_model_23/bert/encoder/layer_._10/attention/output/LayerNorm/beta:0', 'tf_bert_model_23/bert/encoder/layer_._10/intermediate/dense/kernel:0', 'tf_bert_model_23/bert/encoder/layer_._10/intermediate/dense/bias:0', 'tf_bert_model_23/bert/encoder/layer_._10/output/dense/kernel:0', 'tf_bert_model_23/bert/encoder/layer_._10/output/dense/bias:0', 'tf_bert_model_23/bert/encoder/layer_._10/output/LayerNorm/gamma:0', 'tf_bert_model_23/bert/encoder/layer_._10/output/LayerNorm/beta:0', 'tf_bert_model_23/bert/pooler/dense/kernel:0', 'tf_bert_model_23/bert/pooler/dense/bias:0'] when minimizing the loss. If you're using `model.compile()`, did you forget to provide a `loss`argument?\n",
            "489/489 [==============================] - 49s 86ms/step - loss: 0.1387 - accuracy: 0.9575 - val_loss: 0.0515 - val_accuracy: 0.9828\n",
            "Epoch 2/3\n",
            "489/489 [==============================] - 39s 80ms/step - loss: 0.0436 - accuracy: 0.9869 - val_loss: 0.0474 - val_accuracy: 0.9869\n",
            "Epoch 3/3\n",
            "489/489 [==============================] - 39s 80ms/step - loss: 0.0319 - accuracy: 0.9926 - val_loss: 0.0528 - val_accuracy: 0.9869\n",
            "BERT 3e + CNN kernel un 160, train: accuracy = 0.9987, precision = 1.0000, recall = 0.9938, f1 = 0.9969\n",
            "validation: accuracy = 0.9898, precision = 0.9949, recall = 0.9563, f1 = 0.9752\n"
          ]
        },
        {
          "output_type": "stream",
          "name": "stderr",
          "text": [
            "Some layers from the model checkpoint at bert-base-cased were not used when initializing TFBertModel: ['nsp___cls', 'mlm___cls']\n",
            "- This IS expected if you are initializing TFBertModel from the checkpoint of a model trained on another task or with another architecture (e.g. initializing a BertForSequenceClassification model from a BertForPreTraining model).\n",
            "- This IS NOT expected if you are initializing TFBertModel from the checkpoint of a model that you expect to be exactly identical (initializing a BertForSequenceClassification model from a BertForSequenceClassification model).\n",
            "All the layers of TFBertModel were initialized from the model checkpoint at bert-base-cased.\n",
            "If your task is similar to the task the model of the checkpoint was trained on, you can already use TFBertModel for predictions without further training.\n"
          ]
        },
        {
          "output_type": "stream",
          "name": "stdout",
          "text": [
            "Epoch 1/3\n",
            "WARNING:tensorflow:Gradients do not exist for variables ['tf_bert_model_24/bert/embeddings/word_embeddings/weight:0', 'tf_bert_model_24/bert/embeddings/token_type_embeddings/embeddings:0', 'tf_bert_model_24/bert/embeddings/position_embeddings/embeddings:0', 'tf_bert_model_24/bert/embeddings/LayerNorm/gamma:0', 'tf_bert_model_24/bert/embeddings/LayerNorm/beta:0', 'tf_bert_model_24/bert/encoder/layer_._0/attention/self/query/kernel:0', 'tf_bert_model_24/bert/encoder/layer_._0/attention/self/query/bias:0', 'tf_bert_model_24/bert/encoder/layer_._0/attention/self/key/kernel:0', 'tf_bert_model_24/bert/encoder/layer_._0/attention/self/key/bias:0', 'tf_bert_model_24/bert/encoder/layer_._0/attention/self/value/kernel:0', 'tf_bert_model_24/bert/encoder/layer_._0/attention/self/value/bias:0', 'tf_bert_model_24/bert/encoder/layer_._0/attention/output/dense/kernel:0', 'tf_bert_model_24/bert/encoder/layer_._0/attention/output/dense/bias:0', 'tf_bert_model_24/bert/encoder/layer_._0/attention/output/LayerNorm/gamma:0', 'tf_bert_model_24/bert/encoder/layer_._0/attention/output/LayerNorm/beta:0', 'tf_bert_model_24/bert/encoder/layer_._0/intermediate/dense/kernel:0', 'tf_bert_model_24/bert/encoder/layer_._0/intermediate/dense/bias:0', 'tf_bert_model_24/bert/encoder/layer_._0/output/dense/kernel:0', 'tf_bert_model_24/bert/encoder/layer_._0/output/dense/bias:0', 'tf_bert_model_24/bert/encoder/layer_._0/output/LayerNorm/gamma:0', 'tf_bert_model_24/bert/encoder/layer_._0/output/LayerNorm/beta:0', 'tf_bert_model_24/bert/encoder/layer_._1/attention/self/query/kernel:0', 'tf_bert_model_24/bert/encoder/layer_._1/attention/self/query/bias:0', 'tf_bert_model_24/bert/encoder/layer_._1/attention/self/key/kernel:0', 'tf_bert_model_24/bert/encoder/layer_._1/attention/self/key/bias:0', 'tf_bert_model_24/bert/encoder/layer_._1/attention/self/value/kernel:0', 'tf_bert_model_24/bert/encoder/layer_._1/attention/self/value/bias:0', 'tf_bert_model_24/bert/encoder/layer_._1/attention/output/dense/kernel:0', 'tf_bert_model_24/bert/encoder/layer_._1/attention/output/dense/bias:0', 'tf_bert_model_24/bert/encoder/layer_._1/attention/output/LayerNorm/gamma:0', 'tf_bert_model_24/bert/encoder/layer_._1/attention/output/LayerNorm/beta:0', 'tf_bert_model_24/bert/encoder/layer_._1/intermediate/dense/kernel:0', 'tf_bert_model_24/bert/encoder/layer_._1/intermediate/dense/bias:0', 'tf_bert_model_24/bert/encoder/layer_._1/output/dense/kernel:0', 'tf_bert_model_24/bert/encoder/layer_._1/output/dense/bias:0', 'tf_bert_model_24/bert/encoder/layer_._1/output/LayerNorm/gamma:0', 'tf_bert_model_24/bert/encoder/layer_._1/output/LayerNorm/beta:0', 'tf_bert_model_24/bert/encoder/layer_._2/attention/self/query/kernel:0', 'tf_bert_model_24/bert/encoder/layer_._2/attention/self/query/bias:0', 'tf_bert_model_24/bert/encoder/layer_._2/attention/self/key/kernel:0', 'tf_bert_model_24/bert/encoder/layer_._2/attention/self/key/bias:0', 'tf_bert_model_24/bert/encoder/layer_._2/attention/self/value/kernel:0', 'tf_bert_model_24/bert/encoder/layer_._2/attention/self/value/bias:0', 'tf_bert_model_24/bert/encoder/layer_._2/attention/output/dense/kernel:0', 'tf_bert_model_24/bert/encoder/layer_._2/attention/output/dense/bias:0', 'tf_bert_model_24/bert/encoder/layer_._2/attention/output/LayerNorm/gamma:0', 'tf_bert_model_24/bert/encoder/layer_._2/attention/output/LayerNorm/beta:0', 'tf_bert_model_24/bert/encoder/layer_._2/intermediate/dense/kernel:0', 'tf_bert_model_24/bert/encoder/layer_._2/intermediate/dense/bias:0', 'tf_bert_model_24/bert/encoder/layer_._2/output/dense/kernel:0', 'tf_bert_model_24/bert/encoder/layer_._2/output/dense/bias:0', 'tf_bert_model_24/bert/encoder/layer_._2/output/LayerNorm/gamma:0', 'tf_bert_model_24/bert/encoder/layer_._2/output/LayerNorm/beta:0', 'tf_bert_model_24/bert/encoder/layer_._3/attention/self/query/kernel:0', 'tf_bert_model_24/bert/encoder/layer_._3/attention/self/query/bias:0', 'tf_bert_model_24/bert/encoder/layer_._3/attention/self/key/kernel:0', 'tf_bert_model_24/bert/encoder/layer_._3/attention/self/key/bias:0', 'tf_bert_model_24/bert/encoder/layer_._3/attention/self/value/kernel:0', 'tf_bert_model_24/bert/encoder/layer_._3/attention/self/value/bias:0', 'tf_bert_model_24/bert/encoder/layer_._3/attention/output/dense/kernel:0', 'tf_bert_model_24/bert/encoder/layer_._3/attention/output/dense/bias:0', 'tf_bert_model_24/bert/encoder/layer_._3/attention/output/LayerNorm/gamma:0', 'tf_bert_model_24/bert/encoder/layer_._3/attention/output/LayerNorm/beta:0', 'tf_bert_model_24/bert/encoder/layer_._3/intermediate/dense/kernel:0', 'tf_bert_model_24/bert/encoder/layer_._3/intermediate/dense/bias:0', 'tf_bert_model_24/bert/encoder/layer_._3/output/dense/kernel:0', 'tf_bert_model_24/bert/encoder/layer_._3/output/dense/bias:0', 'tf_bert_model_24/bert/encoder/layer_._3/output/LayerNorm/gamma:0', 'tf_bert_model_24/bert/encoder/layer_._3/output/LayerNorm/beta:0', 'tf_bert_model_24/bert/encoder/layer_._4/attention/self/query/kernel:0', 'tf_bert_model_24/bert/encoder/layer_._4/attention/self/query/bias:0', 'tf_bert_model_24/bert/encoder/layer_._4/attention/self/key/kernel:0', 'tf_bert_model_24/bert/encoder/layer_._4/attention/self/key/bias:0', 'tf_bert_model_24/bert/encoder/layer_._4/attention/self/value/kernel:0', 'tf_bert_model_24/bert/encoder/layer_._4/attention/self/value/bias:0', 'tf_bert_model_24/bert/encoder/layer_._4/attention/output/dense/kernel:0', 'tf_bert_model_24/bert/encoder/layer_._4/attention/output/dense/bias:0', 'tf_bert_model_24/bert/encoder/layer_._4/attention/output/LayerNorm/gamma:0', 'tf_bert_model_24/bert/encoder/layer_._4/attention/output/LayerNorm/beta:0', 'tf_bert_model_24/bert/encoder/layer_._4/intermediate/dense/kernel:0', 'tf_bert_model_24/bert/encoder/layer_._4/intermediate/dense/bias:0', 'tf_bert_model_24/bert/encoder/layer_._4/output/dense/kernel:0', 'tf_bert_model_24/bert/encoder/layer_._4/output/dense/bias:0', 'tf_bert_model_24/bert/encoder/layer_._4/output/LayerNorm/gamma:0', 'tf_bert_model_24/bert/encoder/layer_._4/output/LayerNorm/beta:0', 'tf_bert_model_24/bert/encoder/layer_._5/attention/self/query/kernel:0', 'tf_bert_model_24/bert/encoder/layer_._5/attention/self/query/bias:0', 'tf_bert_model_24/bert/encoder/layer_._5/attention/self/key/kernel:0', 'tf_bert_model_24/bert/encoder/layer_._5/attention/self/key/bias:0', 'tf_bert_model_24/bert/encoder/layer_._5/attention/self/value/kernel:0', 'tf_bert_model_24/bert/encoder/layer_._5/attention/self/value/bias:0', 'tf_bert_model_24/bert/encoder/layer_._5/attention/output/dense/kernel:0', 'tf_bert_model_24/bert/encoder/layer_._5/attention/output/dense/bias:0', 'tf_bert_model_24/bert/encoder/layer_._5/attention/output/LayerNorm/gamma:0', 'tf_bert_model_24/bert/encoder/layer_._5/attention/output/LayerNorm/beta:0', 'tf_bert_model_24/bert/encoder/layer_._5/intermediate/dense/kernel:0', 'tf_bert_model_24/bert/encoder/layer_._5/intermediate/dense/bias:0', 'tf_bert_model_24/bert/encoder/layer_._5/output/dense/kernel:0', 'tf_bert_model_24/bert/encoder/layer_._5/output/dense/bias:0', 'tf_bert_model_24/bert/encoder/layer_._5/output/LayerNorm/gamma:0', 'tf_bert_model_24/bert/encoder/layer_._5/output/LayerNorm/beta:0', 'tf_bert_model_24/bert/encoder/layer_._6/attention/self/query/kernel:0', 'tf_bert_model_24/bert/encoder/layer_._6/attention/self/query/bias:0', 'tf_bert_model_24/bert/encoder/layer_._6/attention/self/key/kernel:0', 'tf_bert_model_24/bert/encoder/layer_._6/attention/self/key/bias:0', 'tf_bert_model_24/bert/encoder/layer_._6/attention/self/value/kernel:0', 'tf_bert_model_24/bert/encoder/layer_._6/attention/self/value/bias:0', 'tf_bert_model_24/bert/encoder/layer_._6/attention/output/dense/kernel:0', 'tf_bert_model_24/bert/encoder/layer_._6/attention/output/dense/bias:0', 'tf_bert_model_24/bert/encoder/layer_._6/attention/output/LayerNorm/gamma:0', 'tf_bert_model_24/bert/encoder/layer_._6/attention/output/LayerNorm/beta:0', 'tf_bert_model_24/bert/encoder/layer_._6/intermediate/dense/kernel:0', 'tf_bert_model_24/bert/encoder/layer_._6/intermediate/dense/bias:0', 'tf_bert_model_24/bert/encoder/layer_._6/output/dense/kernel:0', 'tf_bert_model_24/bert/encoder/layer_._6/output/dense/bias:0', 'tf_bert_model_24/bert/encoder/layer_._6/output/LayerNorm/gamma:0', 'tf_bert_model_24/bert/encoder/layer_._6/output/LayerNorm/beta:0', 'tf_bert_model_24/bert/encoder/layer_._7/attention/self/query/kernel:0', 'tf_bert_model_24/bert/encoder/layer_._7/attention/self/query/bias:0', 'tf_bert_model_24/bert/encoder/layer_._7/attention/self/key/kernel:0', 'tf_bert_model_24/bert/encoder/layer_._7/attention/self/key/bias:0', 'tf_bert_model_24/bert/encoder/layer_._7/attention/self/value/kernel:0', 'tf_bert_model_24/bert/encoder/layer_._7/attention/self/value/bias:0', 'tf_bert_model_24/bert/encoder/layer_._7/attention/output/dense/kernel:0', 'tf_bert_model_24/bert/encoder/layer_._7/attention/output/dense/bias:0', 'tf_bert_model_24/bert/encoder/layer_._7/attention/output/LayerNorm/gamma:0', 'tf_bert_model_24/bert/encoder/layer_._7/attention/output/LayerNorm/beta:0', 'tf_bert_model_24/bert/encoder/layer_._7/intermediate/dense/kernel:0', 'tf_bert_model_24/bert/encoder/layer_._7/intermediate/dense/bias:0', 'tf_bert_model_24/bert/encoder/layer_._7/output/dense/kernel:0', 'tf_bert_model_24/bert/encoder/layer_._7/output/dense/bias:0', 'tf_bert_model_24/bert/encoder/layer_._7/output/LayerNorm/gamma:0', 'tf_bert_model_24/bert/encoder/layer_._7/output/LayerNorm/beta:0', 'tf_bert_model_24/bert/encoder/layer_._8/attention/self/query/kernel:0', 'tf_bert_model_24/bert/encoder/layer_._8/attention/self/query/bias:0', 'tf_bert_model_24/bert/encoder/layer_._8/attention/self/key/kernel:0', 'tf_bert_model_24/bert/encoder/layer_._8/attention/self/key/bias:0', 'tf_bert_model_24/bert/encoder/layer_._8/attention/self/value/kernel:0', 'tf_bert_model_24/bert/encoder/layer_._8/attention/self/value/bias:0', 'tf_bert_model_24/bert/encoder/layer_._8/attention/output/dense/kernel:0', 'tf_bert_model_24/bert/encoder/layer_._8/attention/output/dense/bias:0', 'tf_bert_model_24/bert/encoder/layer_._8/attention/output/LayerNorm/gamma:0', 'tf_bert_model_24/bert/encoder/layer_._8/attention/output/LayerNorm/beta:0', 'tf_bert_model_24/bert/encoder/layer_._8/intermediate/dense/kernel:0', 'tf_bert_model_24/bert/encoder/layer_._8/intermediate/dense/bias:0', 'tf_bert_model_24/bert/encoder/layer_._8/output/dense/kernel:0', 'tf_bert_model_24/bert/encoder/layer_._8/output/dense/bias:0', 'tf_bert_model_24/bert/encoder/layer_._8/output/LayerNorm/gamma:0', 'tf_bert_model_24/bert/encoder/layer_._8/output/LayerNorm/beta:0', 'tf_bert_model_24/bert/encoder/layer_._9/attention/self/query/kernel:0', 'tf_bert_model_24/bert/encoder/layer_._9/attention/self/query/bias:0', 'tf_bert_model_24/bert/encoder/layer_._9/attention/self/key/kernel:0', 'tf_bert_model_24/bert/encoder/layer_._9/attention/self/key/bias:0', 'tf_bert_model_24/bert/encoder/layer_._9/attention/self/value/kernel:0', 'tf_bert_model_24/bert/encoder/layer_._9/attention/self/value/bias:0', 'tf_bert_model_24/bert/encoder/layer_._9/attention/output/dense/kernel:0', 'tf_bert_model_24/bert/encoder/layer_._9/attention/output/dense/bias:0', 'tf_bert_model_24/bert/encoder/layer_._9/attention/output/LayerNorm/gamma:0', 'tf_bert_model_24/bert/encoder/layer_._9/attention/output/LayerNorm/beta:0', 'tf_bert_model_24/bert/encoder/layer_._9/intermediate/dense/kernel:0', 'tf_bert_model_24/bert/encoder/layer_._9/intermediate/dense/bias:0', 'tf_bert_model_24/bert/encoder/layer_._9/output/dense/kernel:0', 'tf_bert_model_24/bert/encoder/layer_._9/output/dense/bias:0', 'tf_bert_model_24/bert/encoder/layer_._9/output/LayerNorm/gamma:0', 'tf_bert_model_24/bert/encoder/layer_._9/output/LayerNorm/beta:0', 'tf_bert_model_24/bert/encoder/layer_._10/attention/self/query/kernel:0', 'tf_bert_model_24/bert/encoder/layer_._10/attention/self/query/bias:0', 'tf_bert_model_24/bert/encoder/layer_._10/attention/self/key/kernel:0', 'tf_bert_model_24/bert/encoder/layer_._10/attention/self/key/bias:0', 'tf_bert_model_24/bert/encoder/layer_._10/attention/self/value/kernel:0', 'tf_bert_model_24/bert/encoder/layer_._10/attention/self/value/bias:0', 'tf_bert_model_24/bert/encoder/layer_._10/attention/output/dense/kernel:0', 'tf_bert_model_24/bert/encoder/layer_._10/attention/output/dense/bias:0', 'tf_bert_model_24/bert/encoder/layer_._10/attention/output/LayerNorm/gamma:0', 'tf_bert_model_24/bert/encoder/layer_._10/attention/output/LayerNorm/beta:0', 'tf_bert_model_24/bert/encoder/layer_._10/intermediate/dense/kernel:0', 'tf_bert_model_24/bert/encoder/layer_._10/intermediate/dense/bias:0', 'tf_bert_model_24/bert/encoder/layer_._10/output/dense/kernel:0', 'tf_bert_model_24/bert/encoder/layer_._10/output/dense/bias:0', 'tf_bert_model_24/bert/encoder/layer_._10/output/LayerNorm/gamma:0', 'tf_bert_model_24/bert/encoder/layer_._10/output/LayerNorm/beta:0', 'tf_bert_model_24/bert/pooler/dense/kernel:0', 'tf_bert_model_24/bert/pooler/dense/bias:0'] when minimizing the loss. If you're using `model.compile()`, did you forget to provide a `loss`argument?\n",
            "WARNING:tensorflow:Gradients do not exist for variables ['tf_bert_model_24/bert/embeddings/word_embeddings/weight:0', 'tf_bert_model_24/bert/embeddings/token_type_embeddings/embeddings:0', 'tf_bert_model_24/bert/embeddings/position_embeddings/embeddings:0', 'tf_bert_model_24/bert/embeddings/LayerNorm/gamma:0', 'tf_bert_model_24/bert/embeddings/LayerNorm/beta:0', 'tf_bert_model_24/bert/encoder/layer_._0/attention/self/query/kernel:0', 'tf_bert_model_24/bert/encoder/layer_._0/attention/self/query/bias:0', 'tf_bert_model_24/bert/encoder/layer_._0/attention/self/key/kernel:0', 'tf_bert_model_24/bert/encoder/layer_._0/attention/self/key/bias:0', 'tf_bert_model_24/bert/encoder/layer_._0/attention/self/value/kernel:0', 'tf_bert_model_24/bert/encoder/layer_._0/attention/self/value/bias:0', 'tf_bert_model_24/bert/encoder/layer_._0/attention/output/dense/kernel:0', 'tf_bert_model_24/bert/encoder/layer_._0/attention/output/dense/bias:0', 'tf_bert_model_24/bert/encoder/layer_._0/attention/output/LayerNorm/gamma:0', 'tf_bert_model_24/bert/encoder/layer_._0/attention/output/LayerNorm/beta:0', 'tf_bert_model_24/bert/encoder/layer_._0/intermediate/dense/kernel:0', 'tf_bert_model_24/bert/encoder/layer_._0/intermediate/dense/bias:0', 'tf_bert_model_24/bert/encoder/layer_._0/output/dense/kernel:0', 'tf_bert_model_24/bert/encoder/layer_._0/output/dense/bias:0', 'tf_bert_model_24/bert/encoder/layer_._0/output/LayerNorm/gamma:0', 'tf_bert_model_24/bert/encoder/layer_._0/output/LayerNorm/beta:0', 'tf_bert_model_24/bert/encoder/layer_._1/attention/self/query/kernel:0', 'tf_bert_model_24/bert/encoder/layer_._1/attention/self/query/bias:0', 'tf_bert_model_24/bert/encoder/layer_._1/attention/self/key/kernel:0', 'tf_bert_model_24/bert/encoder/layer_._1/attention/self/key/bias:0', 'tf_bert_model_24/bert/encoder/layer_._1/attention/self/value/kernel:0', 'tf_bert_model_24/bert/encoder/layer_._1/attention/self/value/bias:0', 'tf_bert_model_24/bert/encoder/layer_._1/attention/output/dense/kernel:0', 'tf_bert_model_24/bert/encoder/layer_._1/attention/output/dense/bias:0', 'tf_bert_model_24/bert/encoder/layer_._1/attention/output/LayerNorm/gamma:0', 'tf_bert_model_24/bert/encoder/layer_._1/attention/output/LayerNorm/beta:0', 'tf_bert_model_24/bert/encoder/layer_._1/intermediate/dense/kernel:0', 'tf_bert_model_24/bert/encoder/layer_._1/intermediate/dense/bias:0', 'tf_bert_model_24/bert/encoder/layer_._1/output/dense/kernel:0', 'tf_bert_model_24/bert/encoder/layer_._1/output/dense/bias:0', 'tf_bert_model_24/bert/encoder/layer_._1/output/LayerNorm/gamma:0', 'tf_bert_model_24/bert/encoder/layer_._1/output/LayerNorm/beta:0', 'tf_bert_model_24/bert/encoder/layer_._2/attention/self/query/kernel:0', 'tf_bert_model_24/bert/encoder/layer_._2/attention/self/query/bias:0', 'tf_bert_model_24/bert/encoder/layer_._2/attention/self/key/kernel:0', 'tf_bert_model_24/bert/encoder/layer_._2/attention/self/key/bias:0', 'tf_bert_model_24/bert/encoder/layer_._2/attention/self/value/kernel:0', 'tf_bert_model_24/bert/encoder/layer_._2/attention/self/value/bias:0', 'tf_bert_model_24/bert/encoder/layer_._2/attention/output/dense/kernel:0', 'tf_bert_model_24/bert/encoder/layer_._2/attention/output/dense/bias:0', 'tf_bert_model_24/bert/encoder/layer_._2/attention/output/LayerNorm/gamma:0', 'tf_bert_model_24/bert/encoder/layer_._2/attention/output/LayerNorm/beta:0', 'tf_bert_model_24/bert/encoder/layer_._2/intermediate/dense/kernel:0', 'tf_bert_model_24/bert/encoder/layer_._2/intermediate/dense/bias:0', 'tf_bert_model_24/bert/encoder/layer_._2/output/dense/kernel:0', 'tf_bert_model_24/bert/encoder/layer_._2/output/dense/bias:0', 'tf_bert_model_24/bert/encoder/layer_._2/output/LayerNorm/gamma:0', 'tf_bert_model_24/bert/encoder/layer_._2/output/LayerNorm/beta:0', 'tf_bert_model_24/bert/encoder/layer_._3/attention/self/query/kernel:0', 'tf_bert_model_24/bert/encoder/layer_._3/attention/self/query/bias:0', 'tf_bert_model_24/bert/encoder/layer_._3/attention/self/key/kernel:0', 'tf_bert_model_24/bert/encoder/layer_._3/attention/self/key/bias:0', 'tf_bert_model_24/bert/encoder/layer_._3/attention/self/value/kernel:0', 'tf_bert_model_24/bert/encoder/layer_._3/attention/self/value/bias:0', 'tf_bert_model_24/bert/encoder/layer_._3/attention/output/dense/kernel:0', 'tf_bert_model_24/bert/encoder/layer_._3/attention/output/dense/bias:0', 'tf_bert_model_24/bert/encoder/layer_._3/attention/output/LayerNorm/gamma:0', 'tf_bert_model_24/bert/encoder/layer_._3/attention/output/LayerNorm/beta:0', 'tf_bert_model_24/bert/encoder/layer_._3/intermediate/dense/kernel:0', 'tf_bert_model_24/bert/encoder/layer_._3/intermediate/dense/bias:0', 'tf_bert_model_24/bert/encoder/layer_._3/output/dense/kernel:0', 'tf_bert_model_24/bert/encoder/layer_._3/output/dense/bias:0', 'tf_bert_model_24/bert/encoder/layer_._3/output/LayerNorm/gamma:0', 'tf_bert_model_24/bert/encoder/layer_._3/output/LayerNorm/beta:0', 'tf_bert_model_24/bert/encoder/layer_._4/attention/self/query/kernel:0', 'tf_bert_model_24/bert/encoder/layer_._4/attention/self/query/bias:0', 'tf_bert_model_24/bert/encoder/layer_._4/attention/self/key/kernel:0', 'tf_bert_model_24/bert/encoder/layer_._4/attention/self/key/bias:0', 'tf_bert_model_24/bert/encoder/layer_._4/attention/self/value/kernel:0', 'tf_bert_model_24/bert/encoder/layer_._4/attention/self/value/bias:0', 'tf_bert_model_24/bert/encoder/layer_._4/attention/output/dense/kernel:0', 'tf_bert_model_24/bert/encoder/layer_._4/attention/output/dense/bias:0', 'tf_bert_model_24/bert/encoder/layer_._4/attention/output/LayerNorm/gamma:0', 'tf_bert_model_24/bert/encoder/layer_._4/attention/output/LayerNorm/beta:0', 'tf_bert_model_24/bert/encoder/layer_._4/intermediate/dense/kernel:0', 'tf_bert_model_24/bert/encoder/layer_._4/intermediate/dense/bias:0', 'tf_bert_model_24/bert/encoder/layer_._4/output/dense/kernel:0', 'tf_bert_model_24/bert/encoder/layer_._4/output/dense/bias:0', 'tf_bert_model_24/bert/encoder/layer_._4/output/LayerNorm/gamma:0', 'tf_bert_model_24/bert/encoder/layer_._4/output/LayerNorm/beta:0', 'tf_bert_model_24/bert/encoder/layer_._5/attention/self/query/kernel:0', 'tf_bert_model_24/bert/encoder/layer_._5/attention/self/query/bias:0', 'tf_bert_model_24/bert/encoder/layer_._5/attention/self/key/kernel:0', 'tf_bert_model_24/bert/encoder/layer_._5/attention/self/key/bias:0', 'tf_bert_model_24/bert/encoder/layer_._5/attention/self/value/kernel:0', 'tf_bert_model_24/bert/encoder/layer_._5/attention/self/value/bias:0', 'tf_bert_model_24/bert/encoder/layer_._5/attention/output/dense/kernel:0', 'tf_bert_model_24/bert/encoder/layer_._5/attention/output/dense/bias:0', 'tf_bert_model_24/bert/encoder/layer_._5/attention/output/LayerNorm/gamma:0', 'tf_bert_model_24/bert/encoder/layer_._5/attention/output/LayerNorm/beta:0', 'tf_bert_model_24/bert/encoder/layer_._5/intermediate/dense/kernel:0', 'tf_bert_model_24/bert/encoder/layer_._5/intermediate/dense/bias:0', 'tf_bert_model_24/bert/encoder/layer_._5/output/dense/kernel:0', 'tf_bert_model_24/bert/encoder/layer_._5/output/dense/bias:0', 'tf_bert_model_24/bert/encoder/layer_._5/output/LayerNorm/gamma:0', 'tf_bert_model_24/bert/encoder/layer_._5/output/LayerNorm/beta:0', 'tf_bert_model_24/bert/encoder/layer_._6/attention/self/query/kernel:0', 'tf_bert_model_24/bert/encoder/layer_._6/attention/self/query/bias:0', 'tf_bert_model_24/bert/encoder/layer_._6/attention/self/key/kernel:0', 'tf_bert_model_24/bert/encoder/layer_._6/attention/self/key/bias:0', 'tf_bert_model_24/bert/encoder/layer_._6/attention/self/value/kernel:0', 'tf_bert_model_24/bert/encoder/layer_._6/attention/self/value/bias:0', 'tf_bert_model_24/bert/encoder/layer_._6/attention/output/dense/kernel:0', 'tf_bert_model_24/bert/encoder/layer_._6/attention/output/dense/bias:0', 'tf_bert_model_24/bert/encoder/layer_._6/attention/output/LayerNorm/gamma:0', 'tf_bert_model_24/bert/encoder/layer_._6/attention/output/LayerNorm/beta:0', 'tf_bert_model_24/bert/encoder/layer_._6/intermediate/dense/kernel:0', 'tf_bert_model_24/bert/encoder/layer_._6/intermediate/dense/bias:0', 'tf_bert_model_24/bert/encoder/layer_._6/output/dense/kernel:0', 'tf_bert_model_24/bert/encoder/layer_._6/output/dense/bias:0', 'tf_bert_model_24/bert/encoder/layer_._6/output/LayerNorm/gamma:0', 'tf_bert_model_24/bert/encoder/layer_._6/output/LayerNorm/beta:0', 'tf_bert_model_24/bert/encoder/layer_._7/attention/self/query/kernel:0', 'tf_bert_model_24/bert/encoder/layer_._7/attention/self/query/bias:0', 'tf_bert_model_24/bert/encoder/layer_._7/attention/self/key/kernel:0', 'tf_bert_model_24/bert/encoder/layer_._7/attention/self/key/bias:0', 'tf_bert_model_24/bert/encoder/layer_._7/attention/self/value/kernel:0', 'tf_bert_model_24/bert/encoder/layer_._7/attention/self/value/bias:0', 'tf_bert_model_24/bert/encoder/layer_._7/attention/output/dense/kernel:0', 'tf_bert_model_24/bert/encoder/layer_._7/attention/output/dense/bias:0', 'tf_bert_model_24/bert/encoder/layer_._7/attention/output/LayerNorm/gamma:0', 'tf_bert_model_24/bert/encoder/layer_._7/attention/output/LayerNorm/beta:0', 'tf_bert_model_24/bert/encoder/layer_._7/intermediate/dense/kernel:0', 'tf_bert_model_24/bert/encoder/layer_._7/intermediate/dense/bias:0', 'tf_bert_model_24/bert/encoder/layer_._7/output/dense/kernel:0', 'tf_bert_model_24/bert/encoder/layer_._7/output/dense/bias:0', 'tf_bert_model_24/bert/encoder/layer_._7/output/LayerNorm/gamma:0', 'tf_bert_model_24/bert/encoder/layer_._7/output/LayerNorm/beta:0', 'tf_bert_model_24/bert/encoder/layer_._8/attention/self/query/kernel:0', 'tf_bert_model_24/bert/encoder/layer_._8/attention/self/query/bias:0', 'tf_bert_model_24/bert/encoder/layer_._8/attention/self/key/kernel:0', 'tf_bert_model_24/bert/encoder/layer_._8/attention/self/key/bias:0', 'tf_bert_model_24/bert/encoder/layer_._8/attention/self/value/kernel:0', 'tf_bert_model_24/bert/encoder/layer_._8/attention/self/value/bias:0', 'tf_bert_model_24/bert/encoder/layer_._8/attention/output/dense/kernel:0', 'tf_bert_model_24/bert/encoder/layer_._8/attention/output/dense/bias:0', 'tf_bert_model_24/bert/encoder/layer_._8/attention/output/LayerNorm/gamma:0', 'tf_bert_model_24/bert/encoder/layer_._8/attention/output/LayerNorm/beta:0', 'tf_bert_model_24/bert/encoder/layer_._8/intermediate/dense/kernel:0', 'tf_bert_model_24/bert/encoder/layer_._8/intermediate/dense/bias:0', 'tf_bert_model_24/bert/encoder/layer_._8/output/dense/kernel:0', 'tf_bert_model_24/bert/encoder/layer_._8/output/dense/bias:0', 'tf_bert_model_24/bert/encoder/layer_._8/output/LayerNorm/gamma:0', 'tf_bert_model_24/bert/encoder/layer_._8/output/LayerNorm/beta:0', 'tf_bert_model_24/bert/encoder/layer_._9/attention/self/query/kernel:0', 'tf_bert_model_24/bert/encoder/layer_._9/attention/self/query/bias:0', 'tf_bert_model_24/bert/encoder/layer_._9/attention/self/key/kernel:0', 'tf_bert_model_24/bert/encoder/layer_._9/attention/self/key/bias:0', 'tf_bert_model_24/bert/encoder/layer_._9/attention/self/value/kernel:0', 'tf_bert_model_24/bert/encoder/layer_._9/attention/self/value/bias:0', 'tf_bert_model_24/bert/encoder/layer_._9/attention/output/dense/kernel:0', 'tf_bert_model_24/bert/encoder/layer_._9/attention/output/dense/bias:0', 'tf_bert_model_24/bert/encoder/layer_._9/attention/output/LayerNorm/gamma:0', 'tf_bert_model_24/bert/encoder/layer_._9/attention/output/LayerNorm/beta:0', 'tf_bert_model_24/bert/encoder/layer_._9/intermediate/dense/kernel:0', 'tf_bert_model_24/bert/encoder/layer_._9/intermediate/dense/bias:0', 'tf_bert_model_24/bert/encoder/layer_._9/output/dense/kernel:0', 'tf_bert_model_24/bert/encoder/layer_._9/output/dense/bias:0', 'tf_bert_model_24/bert/encoder/layer_._9/output/LayerNorm/gamma:0', 'tf_bert_model_24/bert/encoder/layer_._9/output/LayerNorm/beta:0', 'tf_bert_model_24/bert/encoder/layer_._10/attention/self/query/kernel:0', 'tf_bert_model_24/bert/encoder/layer_._10/attention/self/query/bias:0', 'tf_bert_model_24/bert/encoder/layer_._10/attention/self/key/kernel:0', 'tf_bert_model_24/bert/encoder/layer_._10/attention/self/key/bias:0', 'tf_bert_model_24/bert/encoder/layer_._10/attention/self/value/kernel:0', 'tf_bert_model_24/bert/encoder/layer_._10/attention/self/value/bias:0', 'tf_bert_model_24/bert/encoder/layer_._10/attention/output/dense/kernel:0', 'tf_bert_model_24/bert/encoder/layer_._10/attention/output/dense/bias:0', 'tf_bert_model_24/bert/encoder/layer_._10/attention/output/LayerNorm/gamma:0', 'tf_bert_model_24/bert/encoder/layer_._10/attention/output/LayerNorm/beta:0', 'tf_bert_model_24/bert/encoder/layer_._10/intermediate/dense/kernel:0', 'tf_bert_model_24/bert/encoder/layer_._10/intermediate/dense/bias:0', 'tf_bert_model_24/bert/encoder/layer_._10/output/dense/kernel:0', 'tf_bert_model_24/bert/encoder/layer_._10/output/dense/bias:0', 'tf_bert_model_24/bert/encoder/layer_._10/output/LayerNorm/gamma:0', 'tf_bert_model_24/bert/encoder/layer_._10/output/LayerNorm/beta:0', 'tf_bert_model_24/bert/pooler/dense/kernel:0', 'tf_bert_model_24/bert/pooler/dense/bias:0'] when minimizing the loss. If you're using `model.compile()`, did you forget to provide a `loss`argument?\n",
            "489/489 [==============================] - 50s 87ms/step - loss: 0.1102 - accuracy: 0.9614 - val_loss: 0.0532 - val_accuracy: 0.9836\n",
            "Epoch 2/3\n",
            "489/489 [==============================] - 39s 80ms/step - loss: 0.0513 - accuracy: 0.9875 - val_loss: 0.0518 - val_accuracy: 0.9869\n",
            "Epoch 3/3\n",
            "489/489 [==============================] - 39s 81ms/step - loss: 0.0298 - accuracy: 0.9931 - val_loss: 0.0658 - val_accuracy: 0.9845\n",
            "BERT 3e + CNN kernel un 160, train: accuracy = 0.9982, precision = 1.0000, recall = 0.9913, f1 = 0.9956\n",
            "validation: accuracy = 0.9857, precision = 0.9854, recall = 0.9486, f1 = 0.9667\n"
          ]
        },
        {
          "output_type": "stream",
          "name": "stderr",
          "text": [
            "Some layers from the model checkpoint at bert-base-cased were not used when initializing TFBertModel: ['nsp___cls', 'mlm___cls']\n",
            "- This IS expected if you are initializing TFBertModel from the checkpoint of a model trained on another task or with another architecture (e.g. initializing a BertForSequenceClassification model from a BertForPreTraining model).\n",
            "- This IS NOT expected if you are initializing TFBertModel from the checkpoint of a model that you expect to be exactly identical (initializing a BertForSequenceClassification model from a BertForSequenceClassification model).\n",
            "All the layers of TFBertModel were initialized from the model checkpoint at bert-base-cased.\n",
            "If your task is similar to the task the model of the checkpoint was trained on, you can already use TFBertModel for predictions without further training.\n"
          ]
        },
        {
          "output_type": "stream",
          "name": "stdout",
          "text": [
            "Epoch 1/3\n",
            "WARNING:tensorflow:Gradients do not exist for variables ['tf_bert_model_25/bert/embeddings/word_embeddings/weight:0', 'tf_bert_model_25/bert/embeddings/token_type_embeddings/embeddings:0', 'tf_bert_model_25/bert/embeddings/position_embeddings/embeddings:0', 'tf_bert_model_25/bert/embeddings/LayerNorm/gamma:0', 'tf_bert_model_25/bert/embeddings/LayerNorm/beta:0', 'tf_bert_model_25/bert/encoder/layer_._0/attention/self/query/kernel:0', 'tf_bert_model_25/bert/encoder/layer_._0/attention/self/query/bias:0', 'tf_bert_model_25/bert/encoder/layer_._0/attention/self/key/kernel:0', 'tf_bert_model_25/bert/encoder/layer_._0/attention/self/key/bias:0', 'tf_bert_model_25/bert/encoder/layer_._0/attention/self/value/kernel:0', 'tf_bert_model_25/bert/encoder/layer_._0/attention/self/value/bias:0', 'tf_bert_model_25/bert/encoder/layer_._0/attention/output/dense/kernel:0', 'tf_bert_model_25/bert/encoder/layer_._0/attention/output/dense/bias:0', 'tf_bert_model_25/bert/encoder/layer_._0/attention/output/LayerNorm/gamma:0', 'tf_bert_model_25/bert/encoder/layer_._0/attention/output/LayerNorm/beta:0', 'tf_bert_model_25/bert/encoder/layer_._0/intermediate/dense/kernel:0', 'tf_bert_model_25/bert/encoder/layer_._0/intermediate/dense/bias:0', 'tf_bert_model_25/bert/encoder/layer_._0/output/dense/kernel:0', 'tf_bert_model_25/bert/encoder/layer_._0/output/dense/bias:0', 'tf_bert_model_25/bert/encoder/layer_._0/output/LayerNorm/gamma:0', 'tf_bert_model_25/bert/encoder/layer_._0/output/LayerNorm/beta:0', 'tf_bert_model_25/bert/encoder/layer_._1/attention/self/query/kernel:0', 'tf_bert_model_25/bert/encoder/layer_._1/attention/self/query/bias:0', 'tf_bert_model_25/bert/encoder/layer_._1/attention/self/key/kernel:0', 'tf_bert_model_25/bert/encoder/layer_._1/attention/self/key/bias:0', 'tf_bert_model_25/bert/encoder/layer_._1/attention/self/value/kernel:0', 'tf_bert_model_25/bert/encoder/layer_._1/attention/self/value/bias:0', 'tf_bert_model_25/bert/encoder/layer_._1/attention/output/dense/kernel:0', 'tf_bert_model_25/bert/encoder/layer_._1/attention/output/dense/bias:0', 'tf_bert_model_25/bert/encoder/layer_._1/attention/output/LayerNorm/gamma:0', 'tf_bert_model_25/bert/encoder/layer_._1/attention/output/LayerNorm/beta:0', 'tf_bert_model_25/bert/encoder/layer_._1/intermediate/dense/kernel:0', 'tf_bert_model_25/bert/encoder/layer_._1/intermediate/dense/bias:0', 'tf_bert_model_25/bert/encoder/layer_._1/output/dense/kernel:0', 'tf_bert_model_25/bert/encoder/layer_._1/output/dense/bias:0', 'tf_bert_model_25/bert/encoder/layer_._1/output/LayerNorm/gamma:0', 'tf_bert_model_25/bert/encoder/layer_._1/output/LayerNorm/beta:0', 'tf_bert_model_25/bert/encoder/layer_._2/attention/self/query/kernel:0', 'tf_bert_model_25/bert/encoder/layer_._2/attention/self/query/bias:0', 'tf_bert_model_25/bert/encoder/layer_._2/attention/self/key/kernel:0', 'tf_bert_model_25/bert/encoder/layer_._2/attention/self/key/bias:0', 'tf_bert_model_25/bert/encoder/layer_._2/attention/self/value/kernel:0', 'tf_bert_model_25/bert/encoder/layer_._2/attention/self/value/bias:0', 'tf_bert_model_25/bert/encoder/layer_._2/attention/output/dense/kernel:0', 'tf_bert_model_25/bert/encoder/layer_._2/attention/output/dense/bias:0', 'tf_bert_model_25/bert/encoder/layer_._2/attention/output/LayerNorm/gamma:0', 'tf_bert_model_25/bert/encoder/layer_._2/attention/output/LayerNorm/beta:0', 'tf_bert_model_25/bert/encoder/layer_._2/intermediate/dense/kernel:0', 'tf_bert_model_25/bert/encoder/layer_._2/intermediate/dense/bias:0', 'tf_bert_model_25/bert/encoder/layer_._2/output/dense/kernel:0', 'tf_bert_model_25/bert/encoder/layer_._2/output/dense/bias:0', 'tf_bert_model_25/bert/encoder/layer_._2/output/LayerNorm/gamma:0', 'tf_bert_model_25/bert/encoder/layer_._2/output/LayerNorm/beta:0', 'tf_bert_model_25/bert/encoder/layer_._3/attention/self/query/kernel:0', 'tf_bert_model_25/bert/encoder/layer_._3/attention/self/query/bias:0', 'tf_bert_model_25/bert/encoder/layer_._3/attention/self/key/kernel:0', 'tf_bert_model_25/bert/encoder/layer_._3/attention/self/key/bias:0', 'tf_bert_model_25/bert/encoder/layer_._3/attention/self/value/kernel:0', 'tf_bert_model_25/bert/encoder/layer_._3/attention/self/value/bias:0', 'tf_bert_model_25/bert/encoder/layer_._3/attention/output/dense/kernel:0', 'tf_bert_model_25/bert/encoder/layer_._3/attention/output/dense/bias:0', 'tf_bert_model_25/bert/encoder/layer_._3/attention/output/LayerNorm/gamma:0', 'tf_bert_model_25/bert/encoder/layer_._3/attention/output/LayerNorm/beta:0', 'tf_bert_model_25/bert/encoder/layer_._3/intermediate/dense/kernel:0', 'tf_bert_model_25/bert/encoder/layer_._3/intermediate/dense/bias:0', 'tf_bert_model_25/bert/encoder/layer_._3/output/dense/kernel:0', 'tf_bert_model_25/bert/encoder/layer_._3/output/dense/bias:0', 'tf_bert_model_25/bert/encoder/layer_._3/output/LayerNorm/gamma:0', 'tf_bert_model_25/bert/encoder/layer_._3/output/LayerNorm/beta:0', 'tf_bert_model_25/bert/encoder/layer_._4/attention/self/query/kernel:0', 'tf_bert_model_25/bert/encoder/layer_._4/attention/self/query/bias:0', 'tf_bert_model_25/bert/encoder/layer_._4/attention/self/key/kernel:0', 'tf_bert_model_25/bert/encoder/layer_._4/attention/self/key/bias:0', 'tf_bert_model_25/bert/encoder/layer_._4/attention/self/value/kernel:0', 'tf_bert_model_25/bert/encoder/layer_._4/attention/self/value/bias:0', 'tf_bert_model_25/bert/encoder/layer_._4/attention/output/dense/kernel:0', 'tf_bert_model_25/bert/encoder/layer_._4/attention/output/dense/bias:0', 'tf_bert_model_25/bert/encoder/layer_._4/attention/output/LayerNorm/gamma:0', 'tf_bert_model_25/bert/encoder/layer_._4/attention/output/LayerNorm/beta:0', 'tf_bert_model_25/bert/encoder/layer_._4/intermediate/dense/kernel:0', 'tf_bert_model_25/bert/encoder/layer_._4/intermediate/dense/bias:0', 'tf_bert_model_25/bert/encoder/layer_._4/output/dense/kernel:0', 'tf_bert_model_25/bert/encoder/layer_._4/output/dense/bias:0', 'tf_bert_model_25/bert/encoder/layer_._4/output/LayerNorm/gamma:0', 'tf_bert_model_25/bert/encoder/layer_._4/output/LayerNorm/beta:0', 'tf_bert_model_25/bert/encoder/layer_._5/attention/self/query/kernel:0', 'tf_bert_model_25/bert/encoder/layer_._5/attention/self/query/bias:0', 'tf_bert_model_25/bert/encoder/layer_._5/attention/self/key/kernel:0', 'tf_bert_model_25/bert/encoder/layer_._5/attention/self/key/bias:0', 'tf_bert_model_25/bert/encoder/layer_._5/attention/self/value/kernel:0', 'tf_bert_model_25/bert/encoder/layer_._5/attention/self/value/bias:0', 'tf_bert_model_25/bert/encoder/layer_._5/attention/output/dense/kernel:0', 'tf_bert_model_25/bert/encoder/layer_._5/attention/output/dense/bias:0', 'tf_bert_model_25/bert/encoder/layer_._5/attention/output/LayerNorm/gamma:0', 'tf_bert_model_25/bert/encoder/layer_._5/attention/output/LayerNorm/beta:0', 'tf_bert_model_25/bert/encoder/layer_._5/intermediate/dense/kernel:0', 'tf_bert_model_25/bert/encoder/layer_._5/intermediate/dense/bias:0', 'tf_bert_model_25/bert/encoder/layer_._5/output/dense/kernel:0', 'tf_bert_model_25/bert/encoder/layer_._5/output/dense/bias:0', 'tf_bert_model_25/bert/encoder/layer_._5/output/LayerNorm/gamma:0', 'tf_bert_model_25/bert/encoder/layer_._5/output/LayerNorm/beta:0', 'tf_bert_model_25/bert/encoder/layer_._6/attention/self/query/kernel:0', 'tf_bert_model_25/bert/encoder/layer_._6/attention/self/query/bias:0', 'tf_bert_model_25/bert/encoder/layer_._6/attention/self/key/kernel:0', 'tf_bert_model_25/bert/encoder/layer_._6/attention/self/key/bias:0', 'tf_bert_model_25/bert/encoder/layer_._6/attention/self/value/kernel:0', 'tf_bert_model_25/bert/encoder/layer_._6/attention/self/value/bias:0', 'tf_bert_model_25/bert/encoder/layer_._6/attention/output/dense/kernel:0', 'tf_bert_model_25/bert/encoder/layer_._6/attention/output/dense/bias:0', 'tf_bert_model_25/bert/encoder/layer_._6/attention/output/LayerNorm/gamma:0', 'tf_bert_model_25/bert/encoder/layer_._6/attention/output/LayerNorm/beta:0', 'tf_bert_model_25/bert/encoder/layer_._6/intermediate/dense/kernel:0', 'tf_bert_model_25/bert/encoder/layer_._6/intermediate/dense/bias:0', 'tf_bert_model_25/bert/encoder/layer_._6/output/dense/kernel:0', 'tf_bert_model_25/bert/encoder/layer_._6/output/dense/bias:0', 'tf_bert_model_25/bert/encoder/layer_._6/output/LayerNorm/gamma:0', 'tf_bert_model_25/bert/encoder/layer_._6/output/LayerNorm/beta:0', 'tf_bert_model_25/bert/encoder/layer_._7/attention/self/query/kernel:0', 'tf_bert_model_25/bert/encoder/layer_._7/attention/self/query/bias:0', 'tf_bert_model_25/bert/encoder/layer_._7/attention/self/key/kernel:0', 'tf_bert_model_25/bert/encoder/layer_._7/attention/self/key/bias:0', 'tf_bert_model_25/bert/encoder/layer_._7/attention/self/value/kernel:0', 'tf_bert_model_25/bert/encoder/layer_._7/attention/self/value/bias:0', 'tf_bert_model_25/bert/encoder/layer_._7/attention/output/dense/kernel:0', 'tf_bert_model_25/bert/encoder/layer_._7/attention/output/dense/bias:0', 'tf_bert_model_25/bert/encoder/layer_._7/attention/output/LayerNorm/gamma:0', 'tf_bert_model_25/bert/encoder/layer_._7/attention/output/LayerNorm/beta:0', 'tf_bert_model_25/bert/encoder/layer_._7/intermediate/dense/kernel:0', 'tf_bert_model_25/bert/encoder/layer_._7/intermediate/dense/bias:0', 'tf_bert_model_25/bert/encoder/layer_._7/output/dense/kernel:0', 'tf_bert_model_25/bert/encoder/layer_._7/output/dense/bias:0', 'tf_bert_model_25/bert/encoder/layer_._7/output/LayerNorm/gamma:0', 'tf_bert_model_25/bert/encoder/layer_._7/output/LayerNorm/beta:0', 'tf_bert_model_25/bert/encoder/layer_._8/attention/self/query/kernel:0', 'tf_bert_model_25/bert/encoder/layer_._8/attention/self/query/bias:0', 'tf_bert_model_25/bert/encoder/layer_._8/attention/self/key/kernel:0', 'tf_bert_model_25/bert/encoder/layer_._8/attention/self/key/bias:0', 'tf_bert_model_25/bert/encoder/layer_._8/attention/self/value/kernel:0', 'tf_bert_model_25/bert/encoder/layer_._8/attention/self/value/bias:0', 'tf_bert_model_25/bert/encoder/layer_._8/attention/output/dense/kernel:0', 'tf_bert_model_25/bert/encoder/layer_._8/attention/output/dense/bias:0', 'tf_bert_model_25/bert/encoder/layer_._8/attention/output/LayerNorm/gamma:0', 'tf_bert_model_25/bert/encoder/layer_._8/attention/output/LayerNorm/beta:0', 'tf_bert_model_25/bert/encoder/layer_._8/intermediate/dense/kernel:0', 'tf_bert_model_25/bert/encoder/layer_._8/intermediate/dense/bias:0', 'tf_bert_model_25/bert/encoder/layer_._8/output/dense/kernel:0', 'tf_bert_model_25/bert/encoder/layer_._8/output/dense/bias:0', 'tf_bert_model_25/bert/encoder/layer_._8/output/LayerNorm/gamma:0', 'tf_bert_model_25/bert/encoder/layer_._8/output/LayerNorm/beta:0', 'tf_bert_model_25/bert/encoder/layer_._9/attention/self/query/kernel:0', 'tf_bert_model_25/bert/encoder/layer_._9/attention/self/query/bias:0', 'tf_bert_model_25/bert/encoder/layer_._9/attention/self/key/kernel:0', 'tf_bert_model_25/bert/encoder/layer_._9/attention/self/key/bias:0', 'tf_bert_model_25/bert/encoder/layer_._9/attention/self/value/kernel:0', 'tf_bert_model_25/bert/encoder/layer_._9/attention/self/value/bias:0', 'tf_bert_model_25/bert/encoder/layer_._9/attention/output/dense/kernel:0', 'tf_bert_model_25/bert/encoder/layer_._9/attention/output/dense/bias:0', 'tf_bert_model_25/bert/encoder/layer_._9/attention/output/LayerNorm/gamma:0', 'tf_bert_model_25/bert/encoder/layer_._9/attention/output/LayerNorm/beta:0', 'tf_bert_model_25/bert/encoder/layer_._9/intermediate/dense/kernel:0', 'tf_bert_model_25/bert/encoder/layer_._9/intermediate/dense/bias:0', 'tf_bert_model_25/bert/encoder/layer_._9/output/dense/kernel:0', 'tf_bert_model_25/bert/encoder/layer_._9/output/dense/bias:0', 'tf_bert_model_25/bert/encoder/layer_._9/output/LayerNorm/gamma:0', 'tf_bert_model_25/bert/encoder/layer_._9/output/LayerNorm/beta:0', 'tf_bert_model_25/bert/encoder/layer_._10/attention/self/query/kernel:0', 'tf_bert_model_25/bert/encoder/layer_._10/attention/self/query/bias:0', 'tf_bert_model_25/bert/encoder/layer_._10/attention/self/key/kernel:0', 'tf_bert_model_25/bert/encoder/layer_._10/attention/self/key/bias:0', 'tf_bert_model_25/bert/encoder/layer_._10/attention/self/value/kernel:0', 'tf_bert_model_25/bert/encoder/layer_._10/attention/self/value/bias:0', 'tf_bert_model_25/bert/encoder/layer_._10/attention/output/dense/kernel:0', 'tf_bert_model_25/bert/encoder/layer_._10/attention/output/dense/bias:0', 'tf_bert_model_25/bert/encoder/layer_._10/attention/output/LayerNorm/gamma:0', 'tf_bert_model_25/bert/encoder/layer_._10/attention/output/LayerNorm/beta:0', 'tf_bert_model_25/bert/encoder/layer_._10/intermediate/dense/kernel:0', 'tf_bert_model_25/bert/encoder/layer_._10/intermediate/dense/bias:0', 'tf_bert_model_25/bert/encoder/layer_._10/output/dense/kernel:0', 'tf_bert_model_25/bert/encoder/layer_._10/output/dense/bias:0', 'tf_bert_model_25/bert/encoder/layer_._10/output/LayerNorm/gamma:0', 'tf_bert_model_25/bert/encoder/layer_._10/output/LayerNorm/beta:0', 'tf_bert_model_25/bert/pooler/dense/kernel:0', 'tf_bert_model_25/bert/pooler/dense/bias:0'] when minimizing the loss. If you're using `model.compile()`, did you forget to provide a `loss`argument?\n",
            "WARNING:tensorflow:Gradients do not exist for variables ['tf_bert_model_25/bert/embeddings/word_embeddings/weight:0', 'tf_bert_model_25/bert/embeddings/token_type_embeddings/embeddings:0', 'tf_bert_model_25/bert/embeddings/position_embeddings/embeddings:0', 'tf_bert_model_25/bert/embeddings/LayerNorm/gamma:0', 'tf_bert_model_25/bert/embeddings/LayerNorm/beta:0', 'tf_bert_model_25/bert/encoder/layer_._0/attention/self/query/kernel:0', 'tf_bert_model_25/bert/encoder/layer_._0/attention/self/query/bias:0', 'tf_bert_model_25/bert/encoder/layer_._0/attention/self/key/kernel:0', 'tf_bert_model_25/bert/encoder/layer_._0/attention/self/key/bias:0', 'tf_bert_model_25/bert/encoder/layer_._0/attention/self/value/kernel:0', 'tf_bert_model_25/bert/encoder/layer_._0/attention/self/value/bias:0', 'tf_bert_model_25/bert/encoder/layer_._0/attention/output/dense/kernel:0', 'tf_bert_model_25/bert/encoder/layer_._0/attention/output/dense/bias:0', 'tf_bert_model_25/bert/encoder/layer_._0/attention/output/LayerNorm/gamma:0', 'tf_bert_model_25/bert/encoder/layer_._0/attention/output/LayerNorm/beta:0', 'tf_bert_model_25/bert/encoder/layer_._0/intermediate/dense/kernel:0', 'tf_bert_model_25/bert/encoder/layer_._0/intermediate/dense/bias:0', 'tf_bert_model_25/bert/encoder/layer_._0/output/dense/kernel:0', 'tf_bert_model_25/bert/encoder/layer_._0/output/dense/bias:0', 'tf_bert_model_25/bert/encoder/layer_._0/output/LayerNorm/gamma:0', 'tf_bert_model_25/bert/encoder/layer_._0/output/LayerNorm/beta:0', 'tf_bert_model_25/bert/encoder/layer_._1/attention/self/query/kernel:0', 'tf_bert_model_25/bert/encoder/layer_._1/attention/self/query/bias:0', 'tf_bert_model_25/bert/encoder/layer_._1/attention/self/key/kernel:0', 'tf_bert_model_25/bert/encoder/layer_._1/attention/self/key/bias:0', 'tf_bert_model_25/bert/encoder/layer_._1/attention/self/value/kernel:0', 'tf_bert_model_25/bert/encoder/layer_._1/attention/self/value/bias:0', 'tf_bert_model_25/bert/encoder/layer_._1/attention/output/dense/kernel:0', 'tf_bert_model_25/bert/encoder/layer_._1/attention/output/dense/bias:0', 'tf_bert_model_25/bert/encoder/layer_._1/attention/output/LayerNorm/gamma:0', 'tf_bert_model_25/bert/encoder/layer_._1/attention/output/LayerNorm/beta:0', 'tf_bert_model_25/bert/encoder/layer_._1/intermediate/dense/kernel:0', 'tf_bert_model_25/bert/encoder/layer_._1/intermediate/dense/bias:0', 'tf_bert_model_25/bert/encoder/layer_._1/output/dense/kernel:0', 'tf_bert_model_25/bert/encoder/layer_._1/output/dense/bias:0', 'tf_bert_model_25/bert/encoder/layer_._1/output/LayerNorm/gamma:0', 'tf_bert_model_25/bert/encoder/layer_._1/output/LayerNorm/beta:0', 'tf_bert_model_25/bert/encoder/layer_._2/attention/self/query/kernel:0', 'tf_bert_model_25/bert/encoder/layer_._2/attention/self/query/bias:0', 'tf_bert_model_25/bert/encoder/layer_._2/attention/self/key/kernel:0', 'tf_bert_model_25/bert/encoder/layer_._2/attention/self/key/bias:0', 'tf_bert_model_25/bert/encoder/layer_._2/attention/self/value/kernel:0', 'tf_bert_model_25/bert/encoder/layer_._2/attention/self/value/bias:0', 'tf_bert_model_25/bert/encoder/layer_._2/attention/output/dense/kernel:0', 'tf_bert_model_25/bert/encoder/layer_._2/attention/output/dense/bias:0', 'tf_bert_model_25/bert/encoder/layer_._2/attention/output/LayerNorm/gamma:0', 'tf_bert_model_25/bert/encoder/layer_._2/attention/output/LayerNorm/beta:0', 'tf_bert_model_25/bert/encoder/layer_._2/intermediate/dense/kernel:0', 'tf_bert_model_25/bert/encoder/layer_._2/intermediate/dense/bias:0', 'tf_bert_model_25/bert/encoder/layer_._2/output/dense/kernel:0', 'tf_bert_model_25/bert/encoder/layer_._2/output/dense/bias:0', 'tf_bert_model_25/bert/encoder/layer_._2/output/LayerNorm/gamma:0', 'tf_bert_model_25/bert/encoder/layer_._2/output/LayerNorm/beta:0', 'tf_bert_model_25/bert/encoder/layer_._3/attention/self/query/kernel:0', 'tf_bert_model_25/bert/encoder/layer_._3/attention/self/query/bias:0', 'tf_bert_model_25/bert/encoder/layer_._3/attention/self/key/kernel:0', 'tf_bert_model_25/bert/encoder/layer_._3/attention/self/key/bias:0', 'tf_bert_model_25/bert/encoder/layer_._3/attention/self/value/kernel:0', 'tf_bert_model_25/bert/encoder/layer_._3/attention/self/value/bias:0', 'tf_bert_model_25/bert/encoder/layer_._3/attention/output/dense/kernel:0', 'tf_bert_model_25/bert/encoder/layer_._3/attention/output/dense/bias:0', 'tf_bert_model_25/bert/encoder/layer_._3/attention/output/LayerNorm/gamma:0', 'tf_bert_model_25/bert/encoder/layer_._3/attention/output/LayerNorm/beta:0', 'tf_bert_model_25/bert/encoder/layer_._3/intermediate/dense/kernel:0', 'tf_bert_model_25/bert/encoder/layer_._3/intermediate/dense/bias:0', 'tf_bert_model_25/bert/encoder/layer_._3/output/dense/kernel:0', 'tf_bert_model_25/bert/encoder/layer_._3/output/dense/bias:0', 'tf_bert_model_25/bert/encoder/layer_._3/output/LayerNorm/gamma:0', 'tf_bert_model_25/bert/encoder/layer_._3/output/LayerNorm/beta:0', 'tf_bert_model_25/bert/encoder/layer_._4/attention/self/query/kernel:0', 'tf_bert_model_25/bert/encoder/layer_._4/attention/self/query/bias:0', 'tf_bert_model_25/bert/encoder/layer_._4/attention/self/key/kernel:0', 'tf_bert_model_25/bert/encoder/layer_._4/attention/self/key/bias:0', 'tf_bert_model_25/bert/encoder/layer_._4/attention/self/value/kernel:0', 'tf_bert_model_25/bert/encoder/layer_._4/attention/self/value/bias:0', 'tf_bert_model_25/bert/encoder/layer_._4/attention/output/dense/kernel:0', 'tf_bert_model_25/bert/encoder/layer_._4/attention/output/dense/bias:0', 'tf_bert_model_25/bert/encoder/layer_._4/attention/output/LayerNorm/gamma:0', 'tf_bert_model_25/bert/encoder/layer_._4/attention/output/LayerNorm/beta:0', 'tf_bert_model_25/bert/encoder/layer_._4/intermediate/dense/kernel:0', 'tf_bert_model_25/bert/encoder/layer_._4/intermediate/dense/bias:0', 'tf_bert_model_25/bert/encoder/layer_._4/output/dense/kernel:0', 'tf_bert_model_25/bert/encoder/layer_._4/output/dense/bias:0', 'tf_bert_model_25/bert/encoder/layer_._4/output/LayerNorm/gamma:0', 'tf_bert_model_25/bert/encoder/layer_._4/output/LayerNorm/beta:0', 'tf_bert_model_25/bert/encoder/layer_._5/attention/self/query/kernel:0', 'tf_bert_model_25/bert/encoder/layer_._5/attention/self/query/bias:0', 'tf_bert_model_25/bert/encoder/layer_._5/attention/self/key/kernel:0', 'tf_bert_model_25/bert/encoder/layer_._5/attention/self/key/bias:0', 'tf_bert_model_25/bert/encoder/layer_._5/attention/self/value/kernel:0', 'tf_bert_model_25/bert/encoder/layer_._5/attention/self/value/bias:0', 'tf_bert_model_25/bert/encoder/layer_._5/attention/output/dense/kernel:0', 'tf_bert_model_25/bert/encoder/layer_._5/attention/output/dense/bias:0', 'tf_bert_model_25/bert/encoder/layer_._5/attention/output/LayerNorm/gamma:0', 'tf_bert_model_25/bert/encoder/layer_._5/attention/output/LayerNorm/beta:0', 'tf_bert_model_25/bert/encoder/layer_._5/intermediate/dense/kernel:0', 'tf_bert_model_25/bert/encoder/layer_._5/intermediate/dense/bias:0', 'tf_bert_model_25/bert/encoder/layer_._5/output/dense/kernel:0', 'tf_bert_model_25/bert/encoder/layer_._5/output/dense/bias:0', 'tf_bert_model_25/bert/encoder/layer_._5/output/LayerNorm/gamma:0', 'tf_bert_model_25/bert/encoder/layer_._5/output/LayerNorm/beta:0', 'tf_bert_model_25/bert/encoder/layer_._6/attention/self/query/kernel:0', 'tf_bert_model_25/bert/encoder/layer_._6/attention/self/query/bias:0', 'tf_bert_model_25/bert/encoder/layer_._6/attention/self/key/kernel:0', 'tf_bert_model_25/bert/encoder/layer_._6/attention/self/key/bias:0', 'tf_bert_model_25/bert/encoder/layer_._6/attention/self/value/kernel:0', 'tf_bert_model_25/bert/encoder/layer_._6/attention/self/value/bias:0', 'tf_bert_model_25/bert/encoder/layer_._6/attention/output/dense/kernel:0', 'tf_bert_model_25/bert/encoder/layer_._6/attention/output/dense/bias:0', 'tf_bert_model_25/bert/encoder/layer_._6/attention/output/LayerNorm/gamma:0', 'tf_bert_model_25/bert/encoder/layer_._6/attention/output/LayerNorm/beta:0', 'tf_bert_model_25/bert/encoder/layer_._6/intermediate/dense/kernel:0', 'tf_bert_model_25/bert/encoder/layer_._6/intermediate/dense/bias:0', 'tf_bert_model_25/bert/encoder/layer_._6/output/dense/kernel:0', 'tf_bert_model_25/bert/encoder/layer_._6/output/dense/bias:0', 'tf_bert_model_25/bert/encoder/layer_._6/output/LayerNorm/gamma:0', 'tf_bert_model_25/bert/encoder/layer_._6/output/LayerNorm/beta:0', 'tf_bert_model_25/bert/encoder/layer_._7/attention/self/query/kernel:0', 'tf_bert_model_25/bert/encoder/layer_._7/attention/self/query/bias:0', 'tf_bert_model_25/bert/encoder/layer_._7/attention/self/key/kernel:0', 'tf_bert_model_25/bert/encoder/layer_._7/attention/self/key/bias:0', 'tf_bert_model_25/bert/encoder/layer_._7/attention/self/value/kernel:0', 'tf_bert_model_25/bert/encoder/layer_._7/attention/self/value/bias:0', 'tf_bert_model_25/bert/encoder/layer_._7/attention/output/dense/kernel:0', 'tf_bert_model_25/bert/encoder/layer_._7/attention/output/dense/bias:0', 'tf_bert_model_25/bert/encoder/layer_._7/attention/output/LayerNorm/gamma:0', 'tf_bert_model_25/bert/encoder/layer_._7/attention/output/LayerNorm/beta:0', 'tf_bert_model_25/bert/encoder/layer_._7/intermediate/dense/kernel:0', 'tf_bert_model_25/bert/encoder/layer_._7/intermediate/dense/bias:0', 'tf_bert_model_25/bert/encoder/layer_._7/output/dense/kernel:0', 'tf_bert_model_25/bert/encoder/layer_._7/output/dense/bias:0', 'tf_bert_model_25/bert/encoder/layer_._7/output/LayerNorm/gamma:0', 'tf_bert_model_25/bert/encoder/layer_._7/output/LayerNorm/beta:0', 'tf_bert_model_25/bert/encoder/layer_._8/attention/self/query/kernel:0', 'tf_bert_model_25/bert/encoder/layer_._8/attention/self/query/bias:0', 'tf_bert_model_25/bert/encoder/layer_._8/attention/self/key/kernel:0', 'tf_bert_model_25/bert/encoder/layer_._8/attention/self/key/bias:0', 'tf_bert_model_25/bert/encoder/layer_._8/attention/self/value/kernel:0', 'tf_bert_model_25/bert/encoder/layer_._8/attention/self/value/bias:0', 'tf_bert_model_25/bert/encoder/layer_._8/attention/output/dense/kernel:0', 'tf_bert_model_25/bert/encoder/layer_._8/attention/output/dense/bias:0', 'tf_bert_model_25/bert/encoder/layer_._8/attention/output/LayerNorm/gamma:0', 'tf_bert_model_25/bert/encoder/layer_._8/attention/output/LayerNorm/beta:0', 'tf_bert_model_25/bert/encoder/layer_._8/intermediate/dense/kernel:0', 'tf_bert_model_25/bert/encoder/layer_._8/intermediate/dense/bias:0', 'tf_bert_model_25/bert/encoder/layer_._8/output/dense/kernel:0', 'tf_bert_model_25/bert/encoder/layer_._8/output/dense/bias:0', 'tf_bert_model_25/bert/encoder/layer_._8/output/LayerNorm/gamma:0', 'tf_bert_model_25/bert/encoder/layer_._8/output/LayerNorm/beta:0', 'tf_bert_model_25/bert/encoder/layer_._9/attention/self/query/kernel:0', 'tf_bert_model_25/bert/encoder/layer_._9/attention/self/query/bias:0', 'tf_bert_model_25/bert/encoder/layer_._9/attention/self/key/kernel:0', 'tf_bert_model_25/bert/encoder/layer_._9/attention/self/key/bias:0', 'tf_bert_model_25/bert/encoder/layer_._9/attention/self/value/kernel:0', 'tf_bert_model_25/bert/encoder/layer_._9/attention/self/value/bias:0', 'tf_bert_model_25/bert/encoder/layer_._9/attention/output/dense/kernel:0', 'tf_bert_model_25/bert/encoder/layer_._9/attention/output/dense/bias:0', 'tf_bert_model_25/bert/encoder/layer_._9/attention/output/LayerNorm/gamma:0', 'tf_bert_model_25/bert/encoder/layer_._9/attention/output/LayerNorm/beta:0', 'tf_bert_model_25/bert/encoder/layer_._9/intermediate/dense/kernel:0', 'tf_bert_model_25/bert/encoder/layer_._9/intermediate/dense/bias:0', 'tf_bert_model_25/bert/encoder/layer_._9/output/dense/kernel:0', 'tf_bert_model_25/bert/encoder/layer_._9/output/dense/bias:0', 'tf_bert_model_25/bert/encoder/layer_._9/output/LayerNorm/gamma:0', 'tf_bert_model_25/bert/encoder/layer_._9/output/LayerNorm/beta:0', 'tf_bert_model_25/bert/encoder/layer_._10/attention/self/query/kernel:0', 'tf_bert_model_25/bert/encoder/layer_._10/attention/self/query/bias:0', 'tf_bert_model_25/bert/encoder/layer_._10/attention/self/key/kernel:0', 'tf_bert_model_25/bert/encoder/layer_._10/attention/self/key/bias:0', 'tf_bert_model_25/bert/encoder/layer_._10/attention/self/value/kernel:0', 'tf_bert_model_25/bert/encoder/layer_._10/attention/self/value/bias:0', 'tf_bert_model_25/bert/encoder/layer_._10/attention/output/dense/kernel:0', 'tf_bert_model_25/bert/encoder/layer_._10/attention/output/dense/bias:0', 'tf_bert_model_25/bert/encoder/layer_._10/attention/output/LayerNorm/gamma:0', 'tf_bert_model_25/bert/encoder/layer_._10/attention/output/LayerNorm/beta:0', 'tf_bert_model_25/bert/encoder/layer_._10/intermediate/dense/kernel:0', 'tf_bert_model_25/bert/encoder/layer_._10/intermediate/dense/bias:0', 'tf_bert_model_25/bert/encoder/layer_._10/output/dense/kernel:0', 'tf_bert_model_25/bert/encoder/layer_._10/output/dense/bias:0', 'tf_bert_model_25/bert/encoder/layer_._10/output/LayerNorm/gamma:0', 'tf_bert_model_25/bert/encoder/layer_._10/output/LayerNorm/beta:0', 'tf_bert_model_25/bert/pooler/dense/kernel:0', 'tf_bert_model_25/bert/pooler/dense/bias:0'] when minimizing the loss. If you're using `model.compile()`, did you forget to provide a `loss`argument?\n",
            "489/489 [==============================] - 50s 86ms/step - loss: 0.1200 - accuracy: 0.9601 - val_loss: 0.0689 - val_accuracy: 0.9804\n",
            "Epoch 2/3\n",
            "489/489 [==============================] - 40s 81ms/step - loss: 0.0509 - accuracy: 0.9867 - val_loss: 0.0551 - val_accuracy: 0.9869\n",
            "Epoch 3/3\n",
            "489/489 [==============================] - 40s 81ms/step - loss: 0.0269 - accuracy: 0.9918 - val_loss: 0.0629 - val_accuracy: 0.9877\n",
            "BERT 3e + CNN kernel un 160, train: accuracy = 0.9987, precision = 0.9952, recall = 0.9988, f1 = 0.9970\n",
            "validation: accuracy = 0.9918, precision = 0.9694, recall = 0.9896, f1 = 0.9794\n"
          ]
        }
      ]
    },
    {
      "cell_type": "markdown",
      "source": [
        "accuracy = 0.9898, precision = 0.9800, recall = 0.9703, f1 = 0.9751\n",
        "\n",
        "accuracy = 0.9939, precision = 0.9950, recall = 0.9754, f1 = 0.9851\n",
        "\n",
        "accuracy = 0.9877, precision = 0.9899, recall = 0.9515, f1 = 0.9703\n",
        "\n",
        "accuracy = 0.9908, precision = 0.9952, recall = 0.9626, f1 = 0.9786\n",
        "\n",
        "accuracy = 0.9928, precision = 0.9843, recall = 0.9792, f1 = 0.9817"
      ],
      "metadata": {
        "id": "RuO_LeMw0oG5"
      }
    },
    {
      "cell_type": "code",
      "source": [
        "# cross validation results\n",
        "cross_val_acc = [0.9898,0.9939,0.9877,0.9908,0.9928]\n",
        "cross_val_precision = [0.9800, 0.9950, 0.9899, 0.9952,0.9843]\n",
        "cross_val_recall = [0.9703,0.9754,0.9515,0.9626,0.9792]\n",
        "cross_val_f1 = [0.9751, 0.9851, 0.9703, 0.9786, 0.9817]\n",
        "\n",
        "print(\"mean accuracy\", np.mean(cross_val_acc))\n",
        "print(\"mean f1\", np.mean(cross_val_f1))\n",
        "\n",
        "print(\"st dev accuracy\", np.std(cross_val_acc))\n",
        "print(\"se dev f1\", np.std(cross_val_f1))"
      ],
      "metadata": {
        "colab": {
          "base_uri": "https://localhost:8080/"
        },
        "id": "2sPFw0Xv0Cwf",
        "outputId": "5a161ecc-f81b-4260-caa8-75e6509bc8a5"
      },
      "execution_count": null,
      "outputs": [
        {
          "output_type": "stream",
          "name": "stdout",
          "text": [
            "mean accuracy 0.991\n",
            "mean f1 0.9781600000000001\n",
            "st dev accuracy 0.0021918029108475927\n",
            "se dev f1 0.005138715792880537\n"
          ]
        }
      ]
    },
    {
      "cell_type": "markdown",
      "source": [
        "#### Count unknown tokens"
      ],
      "metadata": {
        "id": "gThMPxB9_HjH"
      }
    },
    {
      "cell_type": "code",
      "source": [
        "count = 0\n",
        "for sms in data['english']:\n",
        "  if ('[UNK]' in bert_tokenizer.tokenize(sms)):\n",
        "    count += 1\n",
        "\n",
        "count"
      ],
      "metadata": {
        "id": "mvnw49FrDD0-",
        "colab": {
          "base_uri": "https://localhost:8080/"
        },
        "outputId": "aaa6d188-bd65-4630-b1b5-dad0a6516ec5"
      },
      "execution_count": null,
      "outputs": [
        {
          "output_type": "execute_result",
          "data": {
            "text/plain": [
              "13"
            ]
          },
          "metadata": {},
          "execution_count": 176
        }
      ]
    },
    {
      "cell_type": "code",
      "source": [
        "count = 0\n",
        "for sms in data[data['crowd'] == 1]['english']:\n",
        "  if ('[UNK]' in bert_tokenizer.tokenize(sms)):\n",
        "    count += 1\n",
        "\n",
        "count"
      ],
      "metadata": {
        "id": "jNgvXDu7_sGW",
        "colab": {
          "base_uri": "https://localhost:8080/"
        },
        "outputId": "a1dd7d1e-9d24-44df-bb27-38efc2ab6325"
      },
      "execution_count": null,
      "outputs": [
        {
          "output_type": "execute_result",
          "data": {
            "text/plain": [
              "12"
            ]
          },
          "metadata": {},
          "execution_count": 177
        }
      ]
    },
    {
      "cell_type": "code",
      "source": [
        "count = 0\n",
        "for sms in data[data['crowd'] == 0]['english']:\n",
        "  if ('[UNK]' in bert_tokenizer.tokenize(sms)):\n",
        "    count += 1\n",
        "\n",
        "count"
      ],
      "metadata": {
        "id": "jnpYrfDEE-f_",
        "colab": {
          "base_uri": "https://localhost:8080/"
        },
        "outputId": "333aa585-9dfd-424d-f913-14d6a8feb5a7"
      },
      "execution_count": null,
      "outputs": [
        {
          "output_type": "execute_result",
          "data": {
            "text/plain": [
              "1"
            ]
          },
          "metadata": {},
          "execution_count": 178
        }
      ]
    },
    {
      "cell_type": "code",
      "source": [
        ""
      ],
      "metadata": {
        "id": "n6gNssCaEjZf"
      },
      "execution_count": null,
      "outputs": []
    }
  ]
}